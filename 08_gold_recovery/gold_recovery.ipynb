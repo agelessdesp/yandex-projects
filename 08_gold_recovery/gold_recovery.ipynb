{
  "cells": [
    {
      "cell_type": "code",
      "source": [
        "from google.colab import drive\n",
        "\n",
        "drive.mount('/content/drive')"
      ],
      "metadata": {
        "colab": {
          "base_uri": "https://localhost:8080/"
        },
        "id": "AqqjmbhyqJ3s",
        "outputId": "8c751253-8d49-45ba-b852-d754568da197"
      },
      "execution_count": 1,
      "outputs": [
        {
          "output_type": "stream",
          "name": "stdout",
          "text": [
            "Mounted at /content/drive\n"
          ]
        }
      ]
    },
    {
      "cell_type": "code",
      "execution_count": 2,
      "metadata": {
        "id": "w64WnG9fqCdx"
      },
      "outputs": [],
      "source": [
        "import pandas as pd\n",
        "import numpy as np\n",
        "import seaborn as sns\n",
        "import time\n",
        "import matplotlib.pyplot as plt\n",
        "from scipy import stats as st\n",
        "\n",
        "from sklearn.linear_model import LinearRegression\n",
        "from sklearn.ensemble import RandomForestRegressor\n",
        "from lightgbm import LGBMRegressor\n",
        "from sklearn.tree import DecisionTreeRegressor\n",
        "from sklearn.dummy import DummyRegressor\n",
        "\n",
        "from sklearn.preprocessing import StandardScaler \n",
        "from sklearn.metrics import mean_squared_error, r2_score, mean_absolute_error, make_scorer \n",
        "from sklearn.model_selection import cross_val_score, GridSearchCV\n",
        "\n",
        "import warnings\n",
        "warnings.filterwarnings('ignore')\n",
        "pd.set_option('display.max_columns', 100)"
      ]
    },
    {
      "cell_type": "code",
      "source": [
        "# напишем общую функцию для распаковки данных\n",
        "\n",
        "def open_data(data):\n",
        "  display(data.head(5))\n",
        "  print('-----------------')\n",
        "  print('Общая информация')\n",
        "  data.info()\n",
        "  print('-----------------')\n",
        "  print('Описание данных')\n",
        "  display(data.describe())\n",
        "  print('-----------------')\n",
        "  print('Количество пропусков')\n",
        "  print(data.isna().sum().sort_values(ascending=False))\n",
        "  print('-----------------')\n",
        "  print('Размер выборки')\n",
        "  print(data.shape)"
      ],
      "metadata": {
        "id": "VTRabqOvrumn"
      },
      "execution_count": 3,
      "outputs": []
    },
    {
      "cell_type": "markdown",
      "metadata": {
        "id": "qKW9tk2OqCdw"
      },
      "source": [
        "## Подготовка данных"
      ]
    },
    {
      "cell_type": "markdown",
      "metadata": {
        "id": "90GOjhyZqCdy"
      },
      "source": [
        "### Выгрузка данных"
      ]
    },
    {
      "cell_type": "code",
      "execution_count": 4,
      "metadata": {
        "id": "zKmhC_iRqCdy"
      },
      "outputs": [],
      "source": [
        "#выгрузим данные\n",
        "\n",
        "train_data = pd.read_csv('/content/drive/My Drive/Collab file/gold_recovery_train_new.csv')\n",
        "test_data = pd.read_csv('/content/drive/My Drive/Collab file/gold_recovery_test_new.csv')\n",
        "full_data = pd.read_csv('/content/drive/My Drive/Collab file/gold_recovery_full_new.csv')"
      ]
    },
    {
      "cell_type": "code",
      "source": [
        "open_data(train_data)"
      ],
      "metadata": {
        "colab": {
          "base_uri": "https://localhost:8080/",
          "height": 1000
        },
        "id": "mrcug6yhrzXu",
        "outputId": "c6322b56-b223-4646-9e18-3d15180b0b81"
      },
      "execution_count": 5,
      "outputs": [
        {
          "output_type": "display_data",
          "data": {
            "text/plain": [
              "                  date  final.output.concentrate_ag  \\\n",
              "0  2016-01-15 00:00:00                     6.055403   \n",
              "1  2016-01-15 01:00:00                     6.029369   \n",
              "2  2016-01-15 02:00:00                     6.055926   \n",
              "3  2016-01-15 03:00:00                     6.047977   \n",
              "4  2016-01-15 04:00:00                     6.148599   \n",
              "\n",
              "   final.output.concentrate_pb  final.output.concentrate_sol  \\\n",
              "0                     9.889648                      5.507324   \n",
              "1                     9.968944                      5.257781   \n",
              "2                    10.213995                      5.383759   \n",
              "3                     9.977019                      4.858634   \n",
              "4                    10.142511                      4.939416   \n",
              "\n",
              "   final.output.concentrate_au  final.output.recovery  final.output.tail_ag  \\\n",
              "0                    42.192020              70.541216             10.411962   \n",
              "1                    42.701629              69.266198             10.462676   \n",
              "2                    42.657501              68.116445             10.507046   \n",
              "3                    42.689819              68.347543             10.422762   \n",
              "4                    42.774141              66.927016             10.360302   \n",
              "\n",
              "   final.output.tail_pb  final.output.tail_sol  final.output.tail_au  \\\n",
              "0              0.895447              16.904297              2.143149   \n",
              "1              0.927452              16.634514              2.224930   \n",
              "2              0.953716              16.208849              2.257889   \n",
              "3              0.883763              16.532835              2.146849   \n",
              "4              0.792826              16.525686              2.055292   \n",
              "\n",
              "   primary_cleaner.input.sulfate  primary_cleaner.input.depressant  \\\n",
              "0                     127.092003                         10.128295   \n",
              "1                     125.629232                         10.296251   \n",
              "2                     123.819808                         11.316280   \n",
              "3                     122.270188                         11.322140   \n",
              "4                     117.988169                         11.913613   \n",
              "\n",
              "   primary_cleaner.input.feed_size  primary_cleaner.input.xanthate  \\\n",
              "0                             7.25                        0.988759   \n",
              "1                             7.25                        1.002663   \n",
              "2                             7.25                        0.991265   \n",
              "3                             7.25                        0.996739   \n",
              "4                             7.25                        1.009869   \n",
              "\n",
              "   primary_cleaner.output.concentrate_ag  \\\n",
              "0                               8.547551   \n",
              "1                               8.558743   \n",
              "2                               8.603505   \n",
              "3                               7.221879   \n",
              "4                               9.089428   \n",
              "\n",
              "   primary_cleaner.output.concentrate_pb  \\\n",
              "0                              10.389648   \n",
              "1                              10.497069   \n",
              "2                              10.354494   \n",
              "3                               8.496563   \n",
              "4                               9.986786   \n",
              "\n",
              "   primary_cleaner.output.concentrate_sol  \\\n",
              "0                               19.529297   \n",
              "1                               19.369147   \n",
              "2                               19.167579   \n",
              "3                               15.978538   \n",
              "4                               19.199864   \n",
              "\n",
              "   primary_cleaner.output.concentrate_au  primary_cleaner.output.tail_ag  \\\n",
              "0                              34.174427                       14.936526   \n",
              "1                              34.118526                       16.250511   \n",
              "2                              33.969464                       16.491823   \n",
              "3                              28.260743                       16.024359   \n",
              "4                              33.044932                       16.480185   \n",
              "\n",
              "   primary_cleaner.output.tail_pb  primary_cleaner.output.tail_sol  \\\n",
              "0                        2.534912                         7.476074   \n",
              "1                        3.049646                         6.733907   \n",
              "2                        3.124664                         6.471768   \n",
              "3                        2.960362                         6.843791   \n",
              "4                        3.112100                         6.550154   \n",
              "\n",
              "   primary_cleaner.output.tail_au  primary_cleaner.state.floatbank8_a_air  \\\n",
              "0                        2.106679                             1549.775757   \n",
              "1                        2.353017                             1576.166671   \n",
              "2                        2.416800                             1601.556163   \n",
              "3                        2.262051                             1599.968720   \n",
              "4                        2.277073                             1601.339707   \n",
              "\n",
              "   primary_cleaner.state.floatbank8_a_level  \\\n",
              "0                               -498.912140   \n",
              "1                               -500.904965   \n",
              "2                               -499.997791   \n",
              "3                               -500.951778   \n",
              "4                               -498.975456   \n",
              "\n",
              "   primary_cleaner.state.floatbank8_b_air  \\\n",
              "0                             1551.434204   \n",
              "1                             1575.950626   \n",
              "2                             1600.386685   \n",
              "3                             1600.659236   \n",
              "4                             1601.437854   \n",
              "\n",
              "   primary_cleaner.state.floatbank8_b_level  \\\n",
              "0                               -516.403442   \n",
              "1                               -499.865889   \n",
              "2                               -500.607762   \n",
              "3                               -499.677094   \n",
              "4                               -500.323246   \n",
              "\n",
              "   primary_cleaner.state.floatbank8_c_air  \\\n",
              "0                             1549.873901   \n",
              "1                             1575.994189   \n",
              "2                             1602.003542   \n",
              "3                             1600.304144   \n",
              "4                             1599.581894   \n",
              "\n",
              "   primary_cleaner.state.floatbank8_c_level  \\\n",
              "0                               -498.666595   \n",
              "1                               -499.315107   \n",
              "2                               -500.870069   \n",
              "3                               -500.727997   \n",
              "4                               -500.888152   \n",
              "\n",
              "   primary_cleaner.state.floatbank8_d_air  \\\n",
              "0                             1554.367432   \n",
              "1                             1574.479259   \n",
              "2                             1599.541515   \n",
              "3                             1600.449520   \n",
              "4                             1602.649541   \n",
              "\n",
              "   primary_cleaner.state.floatbank8_d_level  \\\n",
              "0                               -493.428131   \n",
              "1                               -498.931665   \n",
              "2                               -499.827444   \n",
              "3                               -500.052575   \n",
              "4                               -500.593010   \n",
              "\n",
              "   rougher.calculation.sulfate_to_au_concentrate  \\\n",
              "0                                   41885.707031   \n",
              "1                                   42050.861809   \n",
              "2                                   42018.101184   \n",
              "3                                   42029.447991   \n",
              "4                                   42125.354245   \n",
              "\n",
              "   rougher.calculation.floatbank10_sulfate_to_au_feed  \\\n",
              "0                                        3481.779053    \n",
              "1                                        3498.370979    \n",
              "2                                        3495.348910    \n",
              "3                                        3498.578313    \n",
              "4                                        3494.800771    \n",
              "\n",
              "   rougher.calculation.floatbank11_sulfate_to_au_feed  \\\n",
              "0                                        3520.337158    \n",
              "1                                        3489.981857    \n",
              "2                                        3502.359819    \n",
              "3                                        3499.162912    \n",
              "4                                        3506.679315    \n",
              "\n",
              "   rougher.calculation.au_pb_ratio  rougher.input.feed_ag  \\\n",
              "0                         2.838687               6.100378   \n",
              "1                         2.858998               6.161113   \n",
              "2                         2.945989               6.116455   \n",
              "3                         3.002340               6.043309   \n",
              "4                         3.169615               6.060915   \n",
              "\n",
              "   rougher.input.feed_pb  rougher.input.feed_rate  rougher.input.feed_size  \\\n",
              "0               2.284912               523.546326                55.486599   \n",
              "1               2.266033               525.290581                57.278666   \n",
              "2               2.159622               530.026610                57.510649   \n",
              "3               2.037807               542.590390                57.792734   \n",
              "4               1.786875               540.531893                56.047189   \n",
              "\n",
              "   rougher.input.feed_sol  rougher.input.feed_au  \\\n",
              "0               36.808594               6.486150   \n",
              "1               35.753385               6.478583   \n",
              "2               35.971630               6.362222   \n",
              "3               36.862241               6.118189   \n",
              "4               34.347666               5.663707   \n",
              "\n",
              "   rougher.input.floatbank10_sulfate  rougher.input.floatbank10_xanthate  \\\n",
              "0                          11.986616                            6.007990   \n",
              "1                          11.971193                            6.005766   \n",
              "2                          11.920603                            6.197377   \n",
              "3                          11.630094                            6.203177   \n",
              "4                          10.957755                            6.198826   \n",
              "\n",
              "   rougher.input.floatbank11_sulfate  rougher.input.floatbank11_xanthate  \\\n",
              "0                          11.836743                            6.005818   \n",
              "1                          11.996163                            6.012594   \n",
              "2                          11.920305                            6.204633   \n",
              "3                          11.692450                            6.196578   \n",
              "4                          10.960521                            6.194897   \n",
              "\n",
              "   rougher.output.concentrate_ag  rougher.output.concentrate_pb  \\\n",
              "0                      11.500771                       7.101074   \n",
              "1                      11.615865                       7.278807   \n",
              "2                      11.695753                       7.216833   \n",
              "3                      11.915047                       7.175616   \n",
              "4                      12.411054                       7.240205   \n",
              "\n",
              "   rougher.output.concentrate_sol  rougher.output.concentrate_au  \\\n",
              "0                       28.029297                      19.793808   \n",
              "1                       28.067063                      20.050975   \n",
              "2                       27.454037                      19.737170   \n",
              "3                       27.341277                      19.320810   \n",
              "4                       27.041023                      19.216101   \n",
              "\n",
              "   rougher.output.recovery  rougher.output.tail_ag  rougher.output.tail_pb  \\\n",
              "0                87.107763                5.008018                0.508728   \n",
              "1                86.843261                4.955378                0.536689   \n",
              "2                86.842308                4.843460                0.546416   \n",
              "3                87.226430                4.655288                0.542525   \n",
              "4                86.688794                4.552800                0.515438   \n",
              "\n",
              "   rougher.output.tail_sol  rougher.output.tail_au  \\\n",
              "0                19.154297                1.170244   \n",
              "1                18.965234                1.184827   \n",
              "2                18.808533                1.162562   \n",
              "3                19.330200                1.079755   \n",
              "4                19.267422                1.012642   \n",
              "\n",
              "   rougher.state.floatbank10_a_air  rougher.state.floatbank10_a_level  \\\n",
              "0                       999.706909                        -404.066986   \n",
              "1                      1000.286398                        -400.065196   \n",
              "2                       999.719565                        -400.074028   \n",
              "3                       999.814770                        -400.200179   \n",
              "4                       999.678690                        -399.752729   \n",
              "\n",
              "   rougher.state.floatbank10_b_air  rougher.state.floatbank10_b_level  \\\n",
              "0                      1603.011353                        -434.715027   \n",
              "1                      1600.754587                        -449.953435   \n",
              "2                      1599.337330                        -450.008530   \n",
              "3                      1600.059442                        -450.619948   \n",
              "4                      1600.208824                        -449.599614   \n",
              "\n",
              "   rougher.state.floatbank10_c_air  rougher.state.floatbank10_c_level  \\\n",
              "0                      1602.375000                        -442.204468   \n",
              "1                      1600.479580                        -449.830646   \n",
              "2                      1599.672797                        -449.954491   \n",
              "3                      1600.012842                        -449.910497   \n",
              "4                      1600.357732                        -450.034364   \n",
              "\n",
              "   rougher.state.floatbank10_d_air  rougher.state.floatbank10_d_level  \\\n",
              "0                      1598.937256                        -451.294128   \n",
              "1                      1600.527589                        -449.953649   \n",
              "2                      1599.849325                        -449.954185   \n",
              "3                      1597.725177                        -450.130127   \n",
              "4                      1599.759049                        -449.909799   \n",
              "\n",
              "   rougher.state.floatbank10_e_air  rougher.state.floatbank10_e_level  \\\n",
              "0                      1404.472046                        -455.462982   \n",
              "1                      1399.227084                        -450.869848   \n",
              "2                      1399.180945                        -449.937588   \n",
              "3                      1400.943157                        -450.030142   \n",
              "4                      1401.560902                        -448.877187   \n",
              "\n",
              "   rougher.state.floatbank10_f_air  rougher.state.floatbank10_f_level  \\\n",
              "0                      1416.354980                        -451.939636   \n",
              "1                      1399.719514                        -450.119001   \n",
              "2                      1400.316682                        -450.527147   \n",
              "3                      1400.234743                        -449.790835   \n",
              "4                      1401.160227                        -450.407128   \n",
              "\n",
              "   secondary_cleaner.output.tail_ag  secondary_cleaner.output.tail_pb  \\\n",
              "0                         14.500184                          4.694824   \n",
              "1                         14.265474                          4.592547   \n",
              "2                         14.115662                          4.624775   \n",
              "3                         13.732071                          4.482453   \n",
              "4                         14.079996                          4.470737   \n",
              "\n",
              "   secondary_cleaner.output.tail_sol  secondary_cleaner.output.tail_au  \\\n",
              "0                           8.764648                          2.606185   \n",
              "1                           9.001494                          2.488248   \n",
              "2                           8.842896                          2.458187   \n",
              "3                           9.122857                          2.322062   \n",
              "4                           8.871028                          2.330448   \n",
              "\n",
              "   secondary_cleaner.state.floatbank2_a_air  \\\n",
              "0                                 25.853109   \n",
              "1                                 25.880539   \n",
              "2                                 26.005245   \n",
              "3                                 25.942508   \n",
              "4                                 26.024787   \n",
              "\n",
              "   secondary_cleaner.state.floatbank2_a_level  \\\n",
              "0                                 -498.526489   \n",
              "1                                 -499.989656   \n",
              "2                                 -499.929616   \n",
              "3                                 -499.176749   \n",
              "4                                 -500.279091   \n",
              "\n",
              "   secondary_cleaner.state.floatbank2_b_air  \\\n",
              "0                                 23.893660   \n",
              "1                                 23.889530   \n",
              "2                                 23.886657   \n",
              "3                                 23.955516   \n",
              "4                                 23.955345   \n",
              "\n",
              "   secondary_cleaner.state.floatbank2_b_level  \\\n",
              "0                                 -501.406281   \n",
              "1                                 -500.372428   \n",
              "2                                 -499.951928   \n",
              "3                                 -499.848796   \n",
              "4                                 -500.593614   \n",
              "\n",
              "   secondary_cleaner.state.floatbank3_a_air  \\\n",
              "0                                 23.961798   \n",
              "1                                 23.970550   \n",
              "2                                 23.913535   \n",
              "3                                 23.966838   \n",
              "4                                 23.985703   \n",
              "\n",
              "   secondary_cleaner.state.floatbank3_a_level  \\\n",
              "0                                 -495.262817   \n",
              "1                                 -500.085473   \n",
              "2                                 -499.442343   \n",
              "3                                 -500.008812   \n",
              "4                                 -500.083811   \n",
              "\n",
              "   secondary_cleaner.state.floatbank3_b_air  \\\n",
              "0                                 21.940409   \n",
              "1                                 22.085714   \n",
              "2                                 23.957717   \n",
              "3                                 23.954443   \n",
              "4                                 23.958945   \n",
              "\n",
              "   secondary_cleaner.state.floatbank3_b_level  \\\n",
              "0                                 -499.340973   \n",
              "1                                 -499.446897   \n",
              "2                                 -499.901982   \n",
              "3                                 -499.944710   \n",
              "4                                 -499.990309   \n",
              "\n",
              "   secondary_cleaner.state.floatbank4_a_air  \\\n",
              "0                                 14.016835   \n",
              "1                                 13.992281   \n",
              "2                                 14.015015   \n",
              "3                                 14.036510   \n",
              "4                                 14.027298   \n",
              "\n",
              "   secondary_cleaner.state.floatbank4_a_level  \\\n",
              "0                                 -502.488007   \n",
              "1                                 -505.503262   \n",
              "2                                 -502.520901   \n",
              "3                                 -500.857308   \n",
              "4                                 -499.838632   \n",
              "\n",
              "   secondary_cleaner.state.floatbank4_b_air  \\\n",
              "0                                 12.099931   \n",
              "1                                 11.950531   \n",
              "2                                 11.912783   \n",
              "3                                 11.999550   \n",
              "4                                 11.953070   \n",
              "\n",
              "   secondary_cleaner.state.floatbank4_b_level  \\\n",
              "0                                 -504.715942   \n",
              "1                                 -501.331529   \n",
              "2                                 -501.133383   \n",
              "3                                 -501.193686   \n",
              "4                                 -501.053894   \n",
              "\n",
              "   secondary_cleaner.state.floatbank5_a_air  \\\n",
              "0                                  9.925633   \n",
              "1                                 10.039245   \n",
              "2                                 10.070913   \n",
              "3                                  9.970366   \n",
              "4                                  9.925709   \n",
              "\n",
              "   secondary_cleaner.state.floatbank5_a_level  \\\n",
              "0                                 -498.310211   \n",
              "1                                 -500.169983   \n",
              "2                                 -500.129135   \n",
              "3                                 -499.201640   \n",
              "4                                 -501.686727   \n",
              "\n",
              "   secondary_cleaner.state.floatbank5_b_air  \\\n",
              "0                                  8.079666   \n",
              "1                                  7.984757   \n",
              "2                                  8.013877   \n",
              "3                                  7.977324   \n",
              "4                                  7.894242   \n",
              "\n",
              "   secondary_cleaner.state.floatbank5_b_level  \\\n",
              "0                                 -500.470978   \n",
              "1                                 -500.582168   \n",
              "2                                 -500.517572   \n",
              "3                                 -500.255908   \n",
              "4                                 -500.356035   \n",
              "\n",
              "   secondary_cleaner.state.floatbank6_a_air  \\\n",
              "0                                 14.151341   \n",
              "1                                 13.998353   \n",
              "2                                 14.028663   \n",
              "3                                 14.005551   \n",
              "4                                 13.996647   \n",
              "\n",
              "   secondary_cleaner.state.floatbank6_a_level  \n",
              "0                                 -605.841980  \n",
              "1                                 -599.787184  \n",
              "2                                 -601.427363  \n",
              "3                                 -599.996129  \n",
              "4                                 -601.496691  "
            ],
            "text/html": [
              "\n",
              "  <div id=\"df-20485c94-3ff4-4c43-a21b-687e27e7c8f5\">\n",
              "    <div class=\"colab-df-container\">\n",
              "      <div>\n",
              "<style scoped>\n",
              "    .dataframe tbody tr th:only-of-type {\n",
              "        vertical-align: middle;\n",
              "    }\n",
              "\n",
              "    .dataframe tbody tr th {\n",
              "        vertical-align: top;\n",
              "    }\n",
              "\n",
              "    .dataframe thead th {\n",
              "        text-align: right;\n",
              "    }\n",
              "</style>\n",
              "<table border=\"1\" class=\"dataframe\">\n",
              "  <thead>\n",
              "    <tr style=\"text-align: right;\">\n",
              "      <th></th>\n",
              "      <th>date</th>\n",
              "      <th>final.output.concentrate_ag</th>\n",
              "      <th>final.output.concentrate_pb</th>\n",
              "      <th>final.output.concentrate_sol</th>\n",
              "      <th>final.output.concentrate_au</th>\n",
              "      <th>final.output.recovery</th>\n",
              "      <th>final.output.tail_ag</th>\n",
              "      <th>final.output.tail_pb</th>\n",
              "      <th>final.output.tail_sol</th>\n",
              "      <th>final.output.tail_au</th>\n",
              "      <th>primary_cleaner.input.sulfate</th>\n",
              "      <th>primary_cleaner.input.depressant</th>\n",
              "      <th>primary_cleaner.input.feed_size</th>\n",
              "      <th>primary_cleaner.input.xanthate</th>\n",
              "      <th>primary_cleaner.output.concentrate_ag</th>\n",
              "      <th>primary_cleaner.output.concentrate_pb</th>\n",
              "      <th>primary_cleaner.output.concentrate_sol</th>\n",
              "      <th>primary_cleaner.output.concentrate_au</th>\n",
              "      <th>primary_cleaner.output.tail_ag</th>\n",
              "      <th>primary_cleaner.output.tail_pb</th>\n",
              "      <th>primary_cleaner.output.tail_sol</th>\n",
              "      <th>primary_cleaner.output.tail_au</th>\n",
              "      <th>primary_cleaner.state.floatbank8_a_air</th>\n",
              "      <th>primary_cleaner.state.floatbank8_a_level</th>\n",
              "      <th>primary_cleaner.state.floatbank8_b_air</th>\n",
              "      <th>primary_cleaner.state.floatbank8_b_level</th>\n",
              "      <th>primary_cleaner.state.floatbank8_c_air</th>\n",
              "      <th>primary_cleaner.state.floatbank8_c_level</th>\n",
              "      <th>primary_cleaner.state.floatbank8_d_air</th>\n",
              "      <th>primary_cleaner.state.floatbank8_d_level</th>\n",
              "      <th>rougher.calculation.sulfate_to_au_concentrate</th>\n",
              "      <th>rougher.calculation.floatbank10_sulfate_to_au_feed</th>\n",
              "      <th>rougher.calculation.floatbank11_sulfate_to_au_feed</th>\n",
              "      <th>rougher.calculation.au_pb_ratio</th>\n",
              "      <th>rougher.input.feed_ag</th>\n",
              "      <th>rougher.input.feed_pb</th>\n",
              "      <th>rougher.input.feed_rate</th>\n",
              "      <th>rougher.input.feed_size</th>\n",
              "      <th>rougher.input.feed_sol</th>\n",
              "      <th>rougher.input.feed_au</th>\n",
              "      <th>rougher.input.floatbank10_sulfate</th>\n",
              "      <th>rougher.input.floatbank10_xanthate</th>\n",
              "      <th>rougher.input.floatbank11_sulfate</th>\n",
              "      <th>rougher.input.floatbank11_xanthate</th>\n",
              "      <th>rougher.output.concentrate_ag</th>\n",
              "      <th>rougher.output.concentrate_pb</th>\n",
              "      <th>rougher.output.concentrate_sol</th>\n",
              "      <th>rougher.output.concentrate_au</th>\n",
              "      <th>rougher.output.recovery</th>\n",
              "      <th>rougher.output.tail_ag</th>\n",
              "      <th>rougher.output.tail_pb</th>\n",
              "      <th>rougher.output.tail_sol</th>\n",
              "      <th>rougher.output.tail_au</th>\n",
              "      <th>rougher.state.floatbank10_a_air</th>\n",
              "      <th>rougher.state.floatbank10_a_level</th>\n",
              "      <th>rougher.state.floatbank10_b_air</th>\n",
              "      <th>rougher.state.floatbank10_b_level</th>\n",
              "      <th>rougher.state.floatbank10_c_air</th>\n",
              "      <th>rougher.state.floatbank10_c_level</th>\n",
              "      <th>rougher.state.floatbank10_d_air</th>\n",
              "      <th>rougher.state.floatbank10_d_level</th>\n",
              "      <th>rougher.state.floatbank10_e_air</th>\n",
              "      <th>rougher.state.floatbank10_e_level</th>\n",
              "      <th>rougher.state.floatbank10_f_air</th>\n",
              "      <th>rougher.state.floatbank10_f_level</th>\n",
              "      <th>secondary_cleaner.output.tail_ag</th>\n",
              "      <th>secondary_cleaner.output.tail_pb</th>\n",
              "      <th>secondary_cleaner.output.tail_sol</th>\n",
              "      <th>secondary_cleaner.output.tail_au</th>\n",
              "      <th>secondary_cleaner.state.floatbank2_a_air</th>\n",
              "      <th>secondary_cleaner.state.floatbank2_a_level</th>\n",
              "      <th>secondary_cleaner.state.floatbank2_b_air</th>\n",
              "      <th>secondary_cleaner.state.floatbank2_b_level</th>\n",
              "      <th>secondary_cleaner.state.floatbank3_a_air</th>\n",
              "      <th>secondary_cleaner.state.floatbank3_a_level</th>\n",
              "      <th>secondary_cleaner.state.floatbank3_b_air</th>\n",
              "      <th>secondary_cleaner.state.floatbank3_b_level</th>\n",
              "      <th>secondary_cleaner.state.floatbank4_a_air</th>\n",
              "      <th>secondary_cleaner.state.floatbank4_a_level</th>\n",
              "      <th>secondary_cleaner.state.floatbank4_b_air</th>\n",
              "      <th>secondary_cleaner.state.floatbank4_b_level</th>\n",
              "      <th>secondary_cleaner.state.floatbank5_a_air</th>\n",
              "      <th>secondary_cleaner.state.floatbank5_a_level</th>\n",
              "      <th>secondary_cleaner.state.floatbank5_b_air</th>\n",
              "      <th>secondary_cleaner.state.floatbank5_b_level</th>\n",
              "      <th>secondary_cleaner.state.floatbank6_a_air</th>\n",
              "      <th>secondary_cleaner.state.floatbank6_a_level</th>\n",
              "    </tr>\n",
              "  </thead>\n",
              "  <tbody>\n",
              "    <tr>\n",
              "      <th>0</th>\n",
              "      <td>2016-01-15 00:00:00</td>\n",
              "      <td>6.055403</td>\n",
              "      <td>9.889648</td>\n",
              "      <td>5.507324</td>\n",
              "      <td>42.192020</td>\n",
              "      <td>70.541216</td>\n",
              "      <td>10.411962</td>\n",
              "      <td>0.895447</td>\n",
              "      <td>16.904297</td>\n",
              "      <td>2.143149</td>\n",
              "      <td>127.092003</td>\n",
              "      <td>10.128295</td>\n",
              "      <td>7.25</td>\n",
              "      <td>0.988759</td>\n",
              "      <td>8.547551</td>\n",
              "      <td>10.389648</td>\n",
              "      <td>19.529297</td>\n",
              "      <td>34.174427</td>\n",
              "      <td>14.936526</td>\n",
              "      <td>2.534912</td>\n",
              "      <td>7.476074</td>\n",
              "      <td>2.106679</td>\n",
              "      <td>1549.775757</td>\n",
              "      <td>-498.912140</td>\n",
              "      <td>1551.434204</td>\n",
              "      <td>-516.403442</td>\n",
              "      <td>1549.873901</td>\n",
              "      <td>-498.666595</td>\n",
              "      <td>1554.367432</td>\n",
              "      <td>-493.428131</td>\n",
              "      <td>41885.707031</td>\n",
              "      <td>3481.779053</td>\n",
              "      <td>3520.337158</td>\n",
              "      <td>2.838687</td>\n",
              "      <td>6.100378</td>\n",
              "      <td>2.284912</td>\n",
              "      <td>523.546326</td>\n",
              "      <td>55.486599</td>\n",
              "      <td>36.808594</td>\n",
              "      <td>6.486150</td>\n",
              "      <td>11.986616</td>\n",
              "      <td>6.007990</td>\n",
              "      <td>11.836743</td>\n",
              "      <td>6.005818</td>\n",
              "      <td>11.500771</td>\n",
              "      <td>7.101074</td>\n",
              "      <td>28.029297</td>\n",
              "      <td>19.793808</td>\n",
              "      <td>87.107763</td>\n",
              "      <td>5.008018</td>\n",
              "      <td>0.508728</td>\n",
              "      <td>19.154297</td>\n",
              "      <td>1.170244</td>\n",
              "      <td>999.706909</td>\n",
              "      <td>-404.066986</td>\n",
              "      <td>1603.011353</td>\n",
              "      <td>-434.715027</td>\n",
              "      <td>1602.375000</td>\n",
              "      <td>-442.204468</td>\n",
              "      <td>1598.937256</td>\n",
              "      <td>-451.294128</td>\n",
              "      <td>1404.472046</td>\n",
              "      <td>-455.462982</td>\n",
              "      <td>1416.354980</td>\n",
              "      <td>-451.939636</td>\n",
              "      <td>14.500184</td>\n",
              "      <td>4.694824</td>\n",
              "      <td>8.764648</td>\n",
              "      <td>2.606185</td>\n",
              "      <td>25.853109</td>\n",
              "      <td>-498.526489</td>\n",
              "      <td>23.893660</td>\n",
              "      <td>-501.406281</td>\n",
              "      <td>23.961798</td>\n",
              "      <td>-495.262817</td>\n",
              "      <td>21.940409</td>\n",
              "      <td>-499.340973</td>\n",
              "      <td>14.016835</td>\n",
              "      <td>-502.488007</td>\n",
              "      <td>12.099931</td>\n",
              "      <td>-504.715942</td>\n",
              "      <td>9.925633</td>\n",
              "      <td>-498.310211</td>\n",
              "      <td>8.079666</td>\n",
              "      <td>-500.470978</td>\n",
              "      <td>14.151341</td>\n",
              "      <td>-605.841980</td>\n",
              "    </tr>\n",
              "    <tr>\n",
              "      <th>1</th>\n",
              "      <td>2016-01-15 01:00:00</td>\n",
              "      <td>6.029369</td>\n",
              "      <td>9.968944</td>\n",
              "      <td>5.257781</td>\n",
              "      <td>42.701629</td>\n",
              "      <td>69.266198</td>\n",
              "      <td>10.462676</td>\n",
              "      <td>0.927452</td>\n",
              "      <td>16.634514</td>\n",
              "      <td>2.224930</td>\n",
              "      <td>125.629232</td>\n",
              "      <td>10.296251</td>\n",
              "      <td>7.25</td>\n",
              "      <td>1.002663</td>\n",
              "      <td>8.558743</td>\n",
              "      <td>10.497069</td>\n",
              "      <td>19.369147</td>\n",
              "      <td>34.118526</td>\n",
              "      <td>16.250511</td>\n",
              "      <td>3.049646</td>\n",
              "      <td>6.733907</td>\n",
              "      <td>2.353017</td>\n",
              "      <td>1576.166671</td>\n",
              "      <td>-500.904965</td>\n",
              "      <td>1575.950626</td>\n",
              "      <td>-499.865889</td>\n",
              "      <td>1575.994189</td>\n",
              "      <td>-499.315107</td>\n",
              "      <td>1574.479259</td>\n",
              "      <td>-498.931665</td>\n",
              "      <td>42050.861809</td>\n",
              "      <td>3498.370979</td>\n",
              "      <td>3489.981857</td>\n",
              "      <td>2.858998</td>\n",
              "      <td>6.161113</td>\n",
              "      <td>2.266033</td>\n",
              "      <td>525.290581</td>\n",
              "      <td>57.278666</td>\n",
              "      <td>35.753385</td>\n",
              "      <td>6.478583</td>\n",
              "      <td>11.971193</td>\n",
              "      <td>6.005766</td>\n",
              "      <td>11.996163</td>\n",
              "      <td>6.012594</td>\n",
              "      <td>11.615865</td>\n",
              "      <td>7.278807</td>\n",
              "      <td>28.067063</td>\n",
              "      <td>20.050975</td>\n",
              "      <td>86.843261</td>\n",
              "      <td>4.955378</td>\n",
              "      <td>0.536689</td>\n",
              "      <td>18.965234</td>\n",
              "      <td>1.184827</td>\n",
              "      <td>1000.286398</td>\n",
              "      <td>-400.065196</td>\n",
              "      <td>1600.754587</td>\n",
              "      <td>-449.953435</td>\n",
              "      <td>1600.479580</td>\n",
              "      <td>-449.830646</td>\n",
              "      <td>1600.527589</td>\n",
              "      <td>-449.953649</td>\n",
              "      <td>1399.227084</td>\n",
              "      <td>-450.869848</td>\n",
              "      <td>1399.719514</td>\n",
              "      <td>-450.119001</td>\n",
              "      <td>14.265474</td>\n",
              "      <td>4.592547</td>\n",
              "      <td>9.001494</td>\n",
              "      <td>2.488248</td>\n",
              "      <td>25.880539</td>\n",
              "      <td>-499.989656</td>\n",
              "      <td>23.889530</td>\n",
              "      <td>-500.372428</td>\n",
              "      <td>23.970550</td>\n",
              "      <td>-500.085473</td>\n",
              "      <td>22.085714</td>\n",
              "      <td>-499.446897</td>\n",
              "      <td>13.992281</td>\n",
              "      <td>-505.503262</td>\n",
              "      <td>11.950531</td>\n",
              "      <td>-501.331529</td>\n",
              "      <td>10.039245</td>\n",
              "      <td>-500.169983</td>\n",
              "      <td>7.984757</td>\n",
              "      <td>-500.582168</td>\n",
              "      <td>13.998353</td>\n",
              "      <td>-599.787184</td>\n",
              "    </tr>\n",
              "    <tr>\n",
              "      <th>2</th>\n",
              "      <td>2016-01-15 02:00:00</td>\n",
              "      <td>6.055926</td>\n",
              "      <td>10.213995</td>\n",
              "      <td>5.383759</td>\n",
              "      <td>42.657501</td>\n",
              "      <td>68.116445</td>\n",
              "      <td>10.507046</td>\n",
              "      <td>0.953716</td>\n",
              "      <td>16.208849</td>\n",
              "      <td>2.257889</td>\n",
              "      <td>123.819808</td>\n",
              "      <td>11.316280</td>\n",
              "      <td>7.25</td>\n",
              "      <td>0.991265</td>\n",
              "      <td>8.603505</td>\n",
              "      <td>10.354494</td>\n",
              "      <td>19.167579</td>\n",
              "      <td>33.969464</td>\n",
              "      <td>16.491823</td>\n",
              "      <td>3.124664</td>\n",
              "      <td>6.471768</td>\n",
              "      <td>2.416800</td>\n",
              "      <td>1601.556163</td>\n",
              "      <td>-499.997791</td>\n",
              "      <td>1600.386685</td>\n",
              "      <td>-500.607762</td>\n",
              "      <td>1602.003542</td>\n",
              "      <td>-500.870069</td>\n",
              "      <td>1599.541515</td>\n",
              "      <td>-499.827444</td>\n",
              "      <td>42018.101184</td>\n",
              "      <td>3495.348910</td>\n",
              "      <td>3502.359819</td>\n",
              "      <td>2.945989</td>\n",
              "      <td>6.116455</td>\n",
              "      <td>2.159622</td>\n",
              "      <td>530.026610</td>\n",
              "      <td>57.510649</td>\n",
              "      <td>35.971630</td>\n",
              "      <td>6.362222</td>\n",
              "      <td>11.920603</td>\n",
              "      <td>6.197377</td>\n",
              "      <td>11.920305</td>\n",
              "      <td>6.204633</td>\n",
              "      <td>11.695753</td>\n",
              "      <td>7.216833</td>\n",
              "      <td>27.454037</td>\n",
              "      <td>19.737170</td>\n",
              "      <td>86.842308</td>\n",
              "      <td>4.843460</td>\n",
              "      <td>0.546416</td>\n",
              "      <td>18.808533</td>\n",
              "      <td>1.162562</td>\n",
              "      <td>999.719565</td>\n",
              "      <td>-400.074028</td>\n",
              "      <td>1599.337330</td>\n",
              "      <td>-450.008530</td>\n",
              "      <td>1599.672797</td>\n",
              "      <td>-449.954491</td>\n",
              "      <td>1599.849325</td>\n",
              "      <td>-449.954185</td>\n",
              "      <td>1399.180945</td>\n",
              "      <td>-449.937588</td>\n",
              "      <td>1400.316682</td>\n",
              "      <td>-450.527147</td>\n",
              "      <td>14.115662</td>\n",
              "      <td>4.624775</td>\n",
              "      <td>8.842896</td>\n",
              "      <td>2.458187</td>\n",
              "      <td>26.005245</td>\n",
              "      <td>-499.929616</td>\n",
              "      <td>23.886657</td>\n",
              "      <td>-499.951928</td>\n",
              "      <td>23.913535</td>\n",
              "      <td>-499.442343</td>\n",
              "      <td>23.957717</td>\n",
              "      <td>-499.901982</td>\n",
              "      <td>14.015015</td>\n",
              "      <td>-502.520901</td>\n",
              "      <td>11.912783</td>\n",
              "      <td>-501.133383</td>\n",
              "      <td>10.070913</td>\n",
              "      <td>-500.129135</td>\n",
              "      <td>8.013877</td>\n",
              "      <td>-500.517572</td>\n",
              "      <td>14.028663</td>\n",
              "      <td>-601.427363</td>\n",
              "    </tr>\n",
              "    <tr>\n",
              "      <th>3</th>\n",
              "      <td>2016-01-15 03:00:00</td>\n",
              "      <td>6.047977</td>\n",
              "      <td>9.977019</td>\n",
              "      <td>4.858634</td>\n",
              "      <td>42.689819</td>\n",
              "      <td>68.347543</td>\n",
              "      <td>10.422762</td>\n",
              "      <td>0.883763</td>\n",
              "      <td>16.532835</td>\n",
              "      <td>2.146849</td>\n",
              "      <td>122.270188</td>\n",
              "      <td>11.322140</td>\n",
              "      <td>7.25</td>\n",
              "      <td>0.996739</td>\n",
              "      <td>7.221879</td>\n",
              "      <td>8.496563</td>\n",
              "      <td>15.978538</td>\n",
              "      <td>28.260743</td>\n",
              "      <td>16.024359</td>\n",
              "      <td>2.960362</td>\n",
              "      <td>6.843791</td>\n",
              "      <td>2.262051</td>\n",
              "      <td>1599.968720</td>\n",
              "      <td>-500.951778</td>\n",
              "      <td>1600.659236</td>\n",
              "      <td>-499.677094</td>\n",
              "      <td>1600.304144</td>\n",
              "      <td>-500.727997</td>\n",
              "      <td>1600.449520</td>\n",
              "      <td>-500.052575</td>\n",
              "      <td>42029.447991</td>\n",
              "      <td>3498.578313</td>\n",
              "      <td>3499.162912</td>\n",
              "      <td>3.002340</td>\n",
              "      <td>6.043309</td>\n",
              "      <td>2.037807</td>\n",
              "      <td>542.590390</td>\n",
              "      <td>57.792734</td>\n",
              "      <td>36.862241</td>\n",
              "      <td>6.118189</td>\n",
              "      <td>11.630094</td>\n",
              "      <td>6.203177</td>\n",
              "      <td>11.692450</td>\n",
              "      <td>6.196578</td>\n",
              "      <td>11.915047</td>\n",
              "      <td>7.175616</td>\n",
              "      <td>27.341277</td>\n",
              "      <td>19.320810</td>\n",
              "      <td>87.226430</td>\n",
              "      <td>4.655288</td>\n",
              "      <td>0.542525</td>\n",
              "      <td>19.330200</td>\n",
              "      <td>1.079755</td>\n",
              "      <td>999.814770</td>\n",
              "      <td>-400.200179</td>\n",
              "      <td>1600.059442</td>\n",
              "      <td>-450.619948</td>\n",
              "      <td>1600.012842</td>\n",
              "      <td>-449.910497</td>\n",
              "      <td>1597.725177</td>\n",
              "      <td>-450.130127</td>\n",
              "      <td>1400.943157</td>\n",
              "      <td>-450.030142</td>\n",
              "      <td>1400.234743</td>\n",
              "      <td>-449.790835</td>\n",
              "      <td>13.732071</td>\n",
              "      <td>4.482453</td>\n",
              "      <td>9.122857</td>\n",
              "      <td>2.322062</td>\n",
              "      <td>25.942508</td>\n",
              "      <td>-499.176749</td>\n",
              "      <td>23.955516</td>\n",
              "      <td>-499.848796</td>\n",
              "      <td>23.966838</td>\n",
              "      <td>-500.008812</td>\n",
              "      <td>23.954443</td>\n",
              "      <td>-499.944710</td>\n",
              "      <td>14.036510</td>\n",
              "      <td>-500.857308</td>\n",
              "      <td>11.999550</td>\n",
              "      <td>-501.193686</td>\n",
              "      <td>9.970366</td>\n",
              "      <td>-499.201640</td>\n",
              "      <td>7.977324</td>\n",
              "      <td>-500.255908</td>\n",
              "      <td>14.005551</td>\n",
              "      <td>-599.996129</td>\n",
              "    </tr>\n",
              "    <tr>\n",
              "      <th>4</th>\n",
              "      <td>2016-01-15 04:00:00</td>\n",
              "      <td>6.148599</td>\n",
              "      <td>10.142511</td>\n",
              "      <td>4.939416</td>\n",
              "      <td>42.774141</td>\n",
              "      <td>66.927016</td>\n",
              "      <td>10.360302</td>\n",
              "      <td>0.792826</td>\n",
              "      <td>16.525686</td>\n",
              "      <td>2.055292</td>\n",
              "      <td>117.988169</td>\n",
              "      <td>11.913613</td>\n",
              "      <td>7.25</td>\n",
              "      <td>1.009869</td>\n",
              "      <td>9.089428</td>\n",
              "      <td>9.986786</td>\n",
              "      <td>19.199864</td>\n",
              "      <td>33.044932</td>\n",
              "      <td>16.480185</td>\n",
              "      <td>3.112100</td>\n",
              "      <td>6.550154</td>\n",
              "      <td>2.277073</td>\n",
              "      <td>1601.339707</td>\n",
              "      <td>-498.975456</td>\n",
              "      <td>1601.437854</td>\n",
              "      <td>-500.323246</td>\n",
              "      <td>1599.581894</td>\n",
              "      <td>-500.888152</td>\n",
              "      <td>1602.649541</td>\n",
              "      <td>-500.593010</td>\n",
              "      <td>42125.354245</td>\n",
              "      <td>3494.800771</td>\n",
              "      <td>3506.679315</td>\n",
              "      <td>3.169615</td>\n",
              "      <td>6.060915</td>\n",
              "      <td>1.786875</td>\n",
              "      <td>540.531893</td>\n",
              "      <td>56.047189</td>\n",
              "      <td>34.347666</td>\n",
              "      <td>5.663707</td>\n",
              "      <td>10.957755</td>\n",
              "      <td>6.198826</td>\n",
              "      <td>10.960521</td>\n",
              "      <td>6.194897</td>\n",
              "      <td>12.411054</td>\n",
              "      <td>7.240205</td>\n",
              "      <td>27.041023</td>\n",
              "      <td>19.216101</td>\n",
              "      <td>86.688794</td>\n",
              "      <td>4.552800</td>\n",
              "      <td>0.515438</td>\n",
              "      <td>19.267422</td>\n",
              "      <td>1.012642</td>\n",
              "      <td>999.678690</td>\n",
              "      <td>-399.752729</td>\n",
              "      <td>1600.208824</td>\n",
              "      <td>-449.599614</td>\n",
              "      <td>1600.357732</td>\n",
              "      <td>-450.034364</td>\n",
              "      <td>1599.759049</td>\n",
              "      <td>-449.909799</td>\n",
              "      <td>1401.560902</td>\n",
              "      <td>-448.877187</td>\n",
              "      <td>1401.160227</td>\n",
              "      <td>-450.407128</td>\n",
              "      <td>14.079996</td>\n",
              "      <td>4.470737</td>\n",
              "      <td>8.871028</td>\n",
              "      <td>2.330448</td>\n",
              "      <td>26.024787</td>\n",
              "      <td>-500.279091</td>\n",
              "      <td>23.955345</td>\n",
              "      <td>-500.593614</td>\n",
              "      <td>23.985703</td>\n",
              "      <td>-500.083811</td>\n",
              "      <td>23.958945</td>\n",
              "      <td>-499.990309</td>\n",
              "      <td>14.027298</td>\n",
              "      <td>-499.838632</td>\n",
              "      <td>11.953070</td>\n",
              "      <td>-501.053894</td>\n",
              "      <td>9.925709</td>\n",
              "      <td>-501.686727</td>\n",
              "      <td>7.894242</td>\n",
              "      <td>-500.356035</td>\n",
              "      <td>13.996647</td>\n",
              "      <td>-601.496691</td>\n",
              "    </tr>\n",
              "  </tbody>\n",
              "</table>\n",
              "</div>\n",
              "      <button class=\"colab-df-convert\" onclick=\"convertToInteractive('df-20485c94-3ff4-4c43-a21b-687e27e7c8f5')\"\n",
              "              title=\"Convert this dataframe to an interactive table.\"\n",
              "              style=\"display:none;\">\n",
              "        \n",
              "  <svg xmlns=\"http://www.w3.org/2000/svg\" height=\"24px\"viewBox=\"0 0 24 24\"\n",
              "       width=\"24px\">\n",
              "    <path d=\"M0 0h24v24H0V0z\" fill=\"none\"/>\n",
              "    <path d=\"M18.56 5.44l.94 2.06.94-2.06 2.06-.94-2.06-.94-.94-2.06-.94 2.06-2.06.94zm-11 1L8.5 8.5l.94-2.06 2.06-.94-2.06-.94L8.5 2.5l-.94 2.06-2.06.94zm10 10l.94 2.06.94-2.06 2.06-.94-2.06-.94-.94-2.06-.94 2.06-2.06.94z\"/><path d=\"M17.41 7.96l-1.37-1.37c-.4-.4-.92-.59-1.43-.59-.52 0-1.04.2-1.43.59L10.3 9.45l-7.72 7.72c-.78.78-.78 2.05 0 2.83L4 21.41c.39.39.9.59 1.41.59.51 0 1.02-.2 1.41-.59l7.78-7.78 2.81-2.81c.8-.78.8-2.07 0-2.86zM5.41 20L4 18.59l7.72-7.72 1.47 1.35L5.41 20z\"/>\n",
              "  </svg>\n",
              "      </button>\n",
              "      \n",
              "  <style>\n",
              "    .colab-df-container {\n",
              "      display:flex;\n",
              "      flex-wrap:wrap;\n",
              "      gap: 12px;\n",
              "    }\n",
              "\n",
              "    .colab-df-convert {\n",
              "      background-color: #E8F0FE;\n",
              "      border: none;\n",
              "      border-radius: 50%;\n",
              "      cursor: pointer;\n",
              "      display: none;\n",
              "      fill: #1967D2;\n",
              "      height: 32px;\n",
              "      padding: 0 0 0 0;\n",
              "      width: 32px;\n",
              "    }\n",
              "\n",
              "    .colab-df-convert:hover {\n",
              "      background-color: #E2EBFA;\n",
              "      box-shadow: 0px 1px 2px rgba(60, 64, 67, 0.3), 0px 1px 3px 1px rgba(60, 64, 67, 0.15);\n",
              "      fill: #174EA6;\n",
              "    }\n",
              "\n",
              "    [theme=dark] .colab-df-convert {\n",
              "      background-color: #3B4455;\n",
              "      fill: #D2E3FC;\n",
              "    }\n",
              "\n",
              "    [theme=dark] .colab-df-convert:hover {\n",
              "      background-color: #434B5C;\n",
              "      box-shadow: 0px 1px 3px 1px rgba(0, 0, 0, 0.15);\n",
              "      filter: drop-shadow(0px 1px 2px rgba(0, 0, 0, 0.3));\n",
              "      fill: #FFFFFF;\n",
              "    }\n",
              "  </style>\n",
              "\n",
              "      <script>\n",
              "        const buttonEl =\n",
              "          document.querySelector('#df-20485c94-3ff4-4c43-a21b-687e27e7c8f5 button.colab-df-convert');\n",
              "        buttonEl.style.display =\n",
              "          google.colab.kernel.accessAllowed ? 'block' : 'none';\n",
              "\n",
              "        async function convertToInteractive(key) {\n",
              "          const element = document.querySelector('#df-20485c94-3ff4-4c43-a21b-687e27e7c8f5');\n",
              "          const dataTable =\n",
              "            await google.colab.kernel.invokeFunction('convertToInteractive',\n",
              "                                                     [key], {});\n",
              "          if (!dataTable) return;\n",
              "\n",
              "          const docLinkHtml = 'Like what you see? Visit the ' +\n",
              "            '<a target=\"_blank\" href=https://colab.research.google.com/notebooks/data_table.ipynb>data table notebook</a>'\n",
              "            + ' to learn more about interactive tables.';\n",
              "          element.innerHTML = '';\n",
              "          dataTable['output_type'] = 'display_data';\n",
              "          await google.colab.output.renderOutput(dataTable, element);\n",
              "          const docLink = document.createElement('div');\n",
              "          docLink.innerHTML = docLinkHtml;\n",
              "          element.appendChild(docLink);\n",
              "        }\n",
              "      </script>\n",
              "    </div>\n",
              "  </div>\n",
              "  "
            ]
          },
          "metadata": {}
        },
        {
          "output_type": "stream",
          "name": "stdout",
          "text": [
            "-----------------\n",
            "Общая информация\n",
            "<class 'pandas.core.frame.DataFrame'>\n",
            "RangeIndex: 14149 entries, 0 to 14148\n",
            "Data columns (total 87 columns):\n",
            " #   Column                                              Non-Null Count  Dtype  \n",
            "---  ------                                              --------------  -----  \n",
            " 0   date                                                14149 non-null  object \n",
            " 1   final.output.concentrate_ag                         14148 non-null  float64\n",
            " 2   final.output.concentrate_pb                         14148 non-null  float64\n",
            " 3   final.output.concentrate_sol                        13938 non-null  float64\n",
            " 4   final.output.concentrate_au                         14149 non-null  float64\n",
            " 5   final.output.recovery                               14149 non-null  float64\n",
            " 6   final.output.tail_ag                                14149 non-null  float64\n",
            " 7   final.output.tail_pb                                14049 non-null  float64\n",
            " 8   final.output.tail_sol                               14144 non-null  float64\n",
            " 9   final.output.tail_au                                14149 non-null  float64\n",
            " 10  primary_cleaner.input.sulfate                       14129 non-null  float64\n",
            " 11  primary_cleaner.input.depressant                    14117 non-null  float64\n",
            " 12  primary_cleaner.input.feed_size                     14149 non-null  float64\n",
            " 13  primary_cleaner.input.xanthate                      14049 non-null  float64\n",
            " 14  primary_cleaner.output.concentrate_ag               14149 non-null  float64\n",
            " 15  primary_cleaner.output.concentrate_pb               14063 non-null  float64\n",
            " 16  primary_cleaner.output.concentrate_sol              13863 non-null  float64\n",
            " 17  primary_cleaner.output.concentrate_au               14149 non-null  float64\n",
            " 18  primary_cleaner.output.tail_ag                      14148 non-null  float64\n",
            " 19  primary_cleaner.output.tail_pb                      14134 non-null  float64\n",
            " 20  primary_cleaner.output.tail_sol                     14103 non-null  float64\n",
            " 21  primary_cleaner.output.tail_au                      14149 non-null  float64\n",
            " 22  primary_cleaner.state.floatbank8_a_air              14145 non-null  float64\n",
            " 23  primary_cleaner.state.floatbank8_a_level            14148 non-null  float64\n",
            " 24  primary_cleaner.state.floatbank8_b_air              14145 non-null  float64\n",
            " 25  primary_cleaner.state.floatbank8_b_level            14148 non-null  float64\n",
            " 26  primary_cleaner.state.floatbank8_c_air              14147 non-null  float64\n",
            " 27  primary_cleaner.state.floatbank8_c_level            14148 non-null  float64\n",
            " 28  primary_cleaner.state.floatbank8_d_air              14146 non-null  float64\n",
            " 29  primary_cleaner.state.floatbank8_d_level            14148 non-null  float64\n",
            " 30  rougher.calculation.sulfate_to_au_concentrate       14148 non-null  float64\n",
            " 31  rougher.calculation.floatbank10_sulfate_to_au_feed  14148 non-null  float64\n",
            " 32  rougher.calculation.floatbank11_sulfate_to_au_feed  14148 non-null  float64\n",
            " 33  rougher.calculation.au_pb_ratio                     14149 non-null  float64\n",
            " 34  rougher.input.feed_ag                               14149 non-null  float64\n",
            " 35  rougher.input.feed_pb                               14049 non-null  float64\n",
            " 36  rougher.input.feed_rate                             14141 non-null  float64\n",
            " 37  rougher.input.feed_size                             14005 non-null  float64\n",
            " 38  rougher.input.feed_sol                              14071 non-null  float64\n",
            " 39  rougher.input.feed_au                               14149 non-null  float64\n",
            " 40  rougher.input.floatbank10_sulfate                   14120 non-null  float64\n",
            " 41  rougher.input.floatbank10_xanthate                  14141 non-null  float64\n",
            " 42  rougher.input.floatbank11_sulfate                   14113 non-null  float64\n",
            " 43  rougher.input.floatbank11_xanthate                  13721 non-null  float64\n",
            " 44  rougher.output.concentrate_ag                       14149 non-null  float64\n",
            " 45  rougher.output.concentrate_pb                       14149 non-null  float64\n",
            " 46  rougher.output.concentrate_sol                      14127 non-null  float64\n",
            " 47  rougher.output.concentrate_au                       14149 non-null  float64\n",
            " 48  rougher.output.recovery                             14149 non-null  float64\n",
            " 49  rougher.output.tail_ag                              14148 non-null  float64\n",
            " 50  rougher.output.tail_pb                              14149 non-null  float64\n",
            " 51  rougher.output.tail_sol                             14149 non-null  float64\n",
            " 52  rougher.output.tail_au                              14149 non-null  float64\n",
            " 53  rougher.state.floatbank10_a_air                     14148 non-null  float64\n",
            " 54  rougher.state.floatbank10_a_level                   14148 non-null  float64\n",
            " 55  rougher.state.floatbank10_b_air                     14148 non-null  float64\n",
            " 56  rougher.state.floatbank10_b_level                   14148 non-null  float64\n",
            " 57  rougher.state.floatbank10_c_air                     14148 non-null  float64\n",
            " 58  rougher.state.floatbank10_c_level                   14148 non-null  float64\n",
            " 59  rougher.state.floatbank10_d_air                     14149 non-null  float64\n",
            " 60  rougher.state.floatbank10_d_level                   14149 non-null  float64\n",
            " 61  rougher.state.floatbank10_e_air                     13713 non-null  float64\n",
            " 62  rougher.state.floatbank10_e_level                   14149 non-null  float64\n",
            " 63  rougher.state.floatbank10_f_air                     14149 non-null  float64\n",
            " 64  rougher.state.floatbank10_f_level                   14149 non-null  float64\n",
            " 65  secondary_cleaner.output.tail_ag                    14147 non-null  float64\n",
            " 66  secondary_cleaner.output.tail_pb                    14139 non-null  float64\n",
            " 67  secondary_cleaner.output.tail_sol                   12544 non-null  float64\n",
            " 68  secondary_cleaner.output.tail_au                    14149 non-null  float64\n",
            " 69  secondary_cleaner.state.floatbank2_a_air            13932 non-null  float64\n",
            " 70  secondary_cleaner.state.floatbank2_a_level          14148 non-null  float64\n",
            " 71  secondary_cleaner.state.floatbank2_b_air            14128 non-null  float64\n",
            " 72  secondary_cleaner.state.floatbank2_b_level          14148 non-null  float64\n",
            " 73  secondary_cleaner.state.floatbank3_a_air            14145 non-null  float64\n",
            " 74  secondary_cleaner.state.floatbank3_a_level          14148 non-null  float64\n",
            " 75  secondary_cleaner.state.floatbank3_b_air            14148 non-null  float64\n",
            " 76  secondary_cleaner.state.floatbank3_b_level          14148 non-null  float64\n",
            " 77  secondary_cleaner.state.floatbank4_a_air            14143 non-null  float64\n",
            " 78  secondary_cleaner.state.floatbank4_a_level          14148 non-null  float64\n",
            " 79  secondary_cleaner.state.floatbank4_b_air            14148 non-null  float64\n",
            " 80  secondary_cleaner.state.floatbank4_b_level          14148 non-null  float64\n",
            " 81  secondary_cleaner.state.floatbank5_a_air            14148 non-null  float64\n",
            " 82  secondary_cleaner.state.floatbank5_a_level          14148 non-null  float64\n",
            " 83  secondary_cleaner.state.floatbank5_b_air            14148 non-null  float64\n",
            " 84  secondary_cleaner.state.floatbank5_b_level          14148 non-null  float64\n",
            " 85  secondary_cleaner.state.floatbank6_a_air            14147 non-null  float64\n",
            " 86  secondary_cleaner.state.floatbank6_a_level          14148 non-null  float64\n",
            "dtypes: float64(86), object(1)\n",
            "memory usage: 9.4+ MB\n",
            "-----------------\n",
            "Описание данных\n"
          ]
        },
        {
          "output_type": "display_data",
          "data": {
            "text/plain": [
              "       final.output.concentrate_ag  final.output.concentrate_pb  \\\n",
              "count                 14148.000000                 14148.000000   \n",
              "mean                      5.142034                    10.132960   \n",
              "std                       1.369586                     1.654930   \n",
              "min                       0.000000                     0.000000   \n",
              "25%                       4.211620                     9.297355   \n",
              "50%                       4.994652                    10.297144   \n",
              "75%                       5.859540                    11.170603   \n",
              "max                      16.001945                    17.031899   \n",
              "\n",
              "       final.output.concentrate_sol  final.output.concentrate_au  \\\n",
              "count                  13938.000000                 14149.000000   \n",
              "mean                       9.202849                    44.003792   \n",
              "std                        2.790516                     4.905261   \n",
              "min                        0.000000                     0.000000   \n",
              "25%                        7.484645                    43.276111   \n",
              "50%                        8.845462                    44.872436   \n",
              "75%                       10.487508                    46.166425   \n",
              "max                       18.124851                    52.756638   \n",
              "\n",
              "       final.output.recovery  final.output.tail_ag  final.output.tail_pb  \\\n",
              "count           14149.000000          14149.000000          14049.000000   \n",
              "mean               66.518832              9.607035              2.597298   \n",
              "std                10.295402              2.319069              0.971843   \n",
              "min                 0.000000              0.000000              0.000000   \n",
              "25%                62.545817              7.997429              1.905973   \n",
              "50%                67.432775              9.480270              2.592022   \n",
              "75%                72.346428             11.003707              3.241723   \n",
              "max               100.000000             19.552149              5.639565   \n",
              "\n",
              "       final.output.tail_sol  final.output.tail_au  \\\n",
              "count           14144.000000          14149.000000   \n",
              "mean               10.512122              2.918421   \n",
              "std                 3.003617              0.903712   \n",
              "min                 0.000000              0.000000   \n",
              "25%                 8.811324              2.368607   \n",
              "50%                10.514621              2.851025   \n",
              "75%                11.933009              3.434764   \n",
              "max                22.317730              8.197408   \n",
              "\n",
              "       primary_cleaner.input.sulfate  primary_cleaner.input.depressant  \\\n",
              "count                   14129.000000                      14117.000000   \n",
              "mean                      133.320659                          8.866996   \n",
              "std                        39.431659                          3.361589   \n",
              "min                         0.003112                          0.000000   \n",
              "25%                       107.006651                          6.040604   \n",
              "50%                       133.018328                          8.035811   \n",
              "75%                       159.825396                         11.522173   \n",
              "max                       250.127834                         20.052255   \n",
              "\n",
              "       primary_cleaner.input.feed_size  primary_cleaner.input.xanthate  \\\n",
              "count                     14149.000000                    14049.000000   \n",
              "mean                          7.322310                        0.885588   \n",
              "std                           0.614062                        0.372714   \n",
              "min                           1.080000                        0.000005   \n",
              "25%                           6.960000                        0.607021   \n",
              "50%                           7.290000                        0.888749   \n",
              "75%                           7.700000                        1.100933   \n",
              "max                          10.470000                        2.512968   \n",
              "\n",
              "       primary_cleaner.output.concentrate_ag  \\\n",
              "count                           14149.000000   \n",
              "mean                                8.200916   \n",
              "std                                 2.005185   \n",
              "min                                 0.000000   \n",
              "25%                                 7.107126   \n",
              "50%                                 8.226247   \n",
              "75%                                 9.504924   \n",
              "max                                16.081632   \n",
              "\n",
              "       primary_cleaner.output.concentrate_pb  \\\n",
              "count                           14063.000000   \n",
              "mean                                9.588862   \n",
              "std                                 2.694296   \n",
              "min                                 0.000000   \n",
              "25%                                 8.333489   \n",
              "50%                                 9.933520   \n",
              "75%                                11.310817   \n",
              "max                                17.081278   \n",
              "\n",
              "       primary_cleaner.output.concentrate_sol  \\\n",
              "count                            13863.000000   \n",
              "mean                                10.114745   \n",
              "std                                  4.064076   \n",
              "min                                  0.000000   \n",
              "25%                                  7.488139   \n",
              "50%                                  9.726566   \n",
              "75%                                 13.052807   \n",
              "max                                 22.280845   \n",
              "\n",
              "       primary_cleaner.output.concentrate_au  primary_cleaner.output.tail_ag  \\\n",
              "count                           14149.000000                    14148.000000   \n",
              "mean                               32.386836                       16.303929   \n",
              "std                                 5.798843                        3.739843   \n",
              "min                                 0.000000                        0.000000   \n",
              "25%                                30.857764                       13.873147   \n",
              "50%                                33.225835                       15.800604   \n",
              "75%                                35.330145                       18.450109   \n",
              "max                                45.933934                       29.459575   \n",
              "\n",
              "       primary_cleaner.output.tail_pb  primary_cleaner.output.tail_sol  \\\n",
              "count                    14134.000000                     14103.000000   \n",
              "mean                         3.443398                         7.533566   \n",
              "std                          1.490106                         2.133220   \n",
              "min                          0.000000                         0.000000   \n",
              "25%                          2.420259                         6.332548   \n",
              "50%                          3.218374                         7.714419   \n",
              "75%                          4.253218                         8.910664   \n",
              "max                          9.634565                        20.620833   \n",
              "\n",
              "       primary_cleaner.output.tail_au  primary_cleaner.state.floatbank8_a_air  \\\n",
              "count                    14149.000000                            14145.000000   \n",
              "mean                         3.839637                             1608.000064   \n",
              "std                          1.603544                              128.394355   \n",
              "min                          0.000000                                0.006352   \n",
              "25%                          2.867957                             1595.695815   \n",
              "50%                          3.510337                             1601.824410   \n",
              "75%                          4.492470                             1699.716408   \n",
              "max                         17.788925                             2079.531340   \n",
              "\n",
              "       primary_cleaner.state.floatbank8_a_level  \\\n",
              "count                              14148.000000   \n",
              "mean                                -488.775525   \n",
              "std                                   35.704184   \n",
              "min                                 -798.641662   \n",
              "25%                                 -500.287952   \n",
              "50%                                 -499.909375   \n",
              "75%                                 -499.378551   \n",
              "max                                 -330.134203   \n",
              "\n",
              "       primary_cleaner.state.floatbank8_b_air  \\\n",
              "count                            14145.000000   \n",
              "mean                              1608.610983   \n",
              "std                                131.112729   \n",
              "min                                  0.008700   \n",
              "25%                               1558.959943   \n",
              "50%                               1601.818514   \n",
              "75%                               1700.215351   \n",
              "max                               2114.906758   \n",
              "\n",
              "       primary_cleaner.state.floatbank8_b_level  \\\n",
              "count                              14148.000000   \n",
              "mean                                -489.171786   \n",
              "std                                   33.604449   \n",
              "min                                 -740.122129   \n",
              "25%                                 -500.375645   \n",
              "50%                                 -499.938003   \n",
              "75%                                 -499.389658   \n",
              "max                                 -347.354380   \n",
              "\n",
              "       primary_cleaner.state.floatbank8_c_air  \\\n",
              "count                            14147.000000   \n",
              "mean                              1608.879407   \n",
              "std                                134.266898   \n",
              "min                                  0.015159   \n",
              "25%                               1549.871886   \n",
              "50%                               1601.574628   \n",
              "75%                               1700.464037   \n",
              "max                               2013.156457   \n",
              "\n",
              "       primary_cleaner.state.floatbank8_c_level  \\\n",
              "count                              14148.000000   \n",
              "mean                                -489.605549   \n",
              "std                                   35.624002   \n",
              "min                                 -799.803073   \n",
              "25%                                 -500.601718   \n",
              "50%                                 -499.871346   \n",
              "75%                                 -498.801774   \n",
              "max                                 -346.653450   \n",
              "\n",
              "       primary_cleaner.state.floatbank8_d_air  \\\n",
              "count                            14146.000000   \n",
              "mean                              1542.189963   \n",
              "std                                278.316132   \n",
              "min                                  0.008655   \n",
              "25%                               1452.678767   \n",
              "50%                               1600.168346   \n",
              "75%                               1699.358771   \n",
              "max                               2398.903635   \n",
              "\n",
              "       primary_cleaner.state.floatbank8_d_level  \\\n",
              "count                              14148.000000   \n",
              "mean                                -483.462423   \n",
              "std                                   47.100934   \n",
              "min                                 -799.788598   \n",
              "25%                                 -500.459917   \n",
              "50%                                 -499.831833   \n",
              "75%                                 -498.480341   \n",
              "max                                  -30.601828   \n",
              "\n",
              "       rougher.calculation.sulfate_to_au_concentrate  \\\n",
              "count                                   1.414800e+04   \n",
              "mean                                    4.038265e+04   \n",
              "std                                     3.801436e+05   \n",
              "min                                    -4.223520e+07   \n",
              "25%                                     3.999430e+04   \n",
              "50%                                     4.368431e+04   \n",
              "75%                                     4.776041e+04   \n",
              "max                                     3.428099e+06   \n",
              "\n",
              "       rougher.calculation.floatbank10_sulfate_to_au_feed  \\\n",
              "count                                       14148.000000    \n",
              "mean                                         3456.608298    \n",
              "std                                          5772.510248    \n",
              "min                                          -486.598675    \n",
              "25%                                          2527.093354    \n",
              "50%                                          2975.892211    \n",
              "75%                                          3716.360822    \n",
              "max                                        629638.977914    \n",
              "\n",
              "       rougher.calculation.floatbank11_sulfate_to_au_feed  \\\n",
              "count                                       14148.000000    \n",
              "mean                                         3253.356387    \n",
              "std                                          6753.290662    \n",
              "min                                          -264.982785    \n",
              "25%                                          2512.200873    \n",
              "50%                                          2899.807724    \n",
              "75%                                          3596.534806    \n",
              "max                                        718684.955855    \n",
              "\n",
              "       rougher.calculation.au_pb_ratio  rougher.input.feed_ag  \\\n",
              "count                     14149.000000           14149.000000   \n",
              "mean                          2.367314               8.579195   \n",
              "std                           0.873551               1.896284   \n",
              "min                          -0.010548               0.010000   \n",
              "25%                           1.999588               7.132802   \n",
              "50%                           2.249275               8.156092   \n",
              "75%                           2.660896               9.918304   \n",
              "max                          39.379272              14.596026   \n",
              "\n",
              "       rougher.input.feed_pb  rougher.input.feed_rate  \\\n",
              "count           14049.000000             14141.000000   \n",
              "mean                3.522778               474.027714   \n",
              "std                 1.073394               104.039838   \n",
              "min                 0.010000                 0.012786   \n",
              "25%                 2.780010               420.781913   \n",
              "50%                 3.422677               499.454777   \n",
              "75%                 4.226107               547.334973   \n",
              "max                 7.142594               717.508837   \n",
              "\n",
              "       rougher.input.feed_size  rougher.input.feed_sol  rougher.input.feed_au  \\\n",
              "count             14005.000000            14071.000000           14149.000000   \n",
              "mean                 60.110518               36.312593               7.866577   \n",
              "std                  22.418485                4.956057               1.919506   \n",
              "min                   9.659576                0.010000               0.010000   \n",
              "25%                  48.973027               34.117635               6.596217   \n",
              "50%                  55.373885               37.020345               7.649138   \n",
              "75%                  66.080172               39.423265               9.066976   \n",
              "max                 484.967466               48.363177              13.126043   \n",
              "\n",
              "       rougher.input.floatbank10_sulfate  rougher.input.floatbank10_xanthate  \\\n",
              "count                       14120.000000                        14141.000000   \n",
              "mean                           11.764931                            5.854529   \n",
              "std                             3.278813                            1.104263   \n",
              "min                             0.001083                            0.001428   \n",
              "25%                             9.861100                            5.117359   \n",
              "50%                            11.688702                            5.951071   \n",
              "75%                            13.607115                            6.602533   \n",
              "max                            36.118275                            9.703448   \n",
              "\n",
              "       rougher.input.floatbank11_sulfate  rougher.input.floatbank11_xanthate  \\\n",
              "count                       14113.000000                        13721.000000   \n",
              "mean                           11.368685                            5.894176   \n",
              "std                             3.743672                            1.124233   \n",
              "min                             0.000098                            0.000290   \n",
              "25%                             9.505507                            5.199168   \n",
              "50%                            11.384283                            5.998460   \n",
              "75%                            13.497134                            6.699006   \n",
              "max                            37.980648                            9.698407   \n",
              "\n",
              "       rougher.output.concentrate_ag  rougher.output.concentrate_pb  \\\n",
              "count                   14149.000000                   14149.000000   \n",
              "mean                       11.775812                       7.664555   \n",
              "std                         2.731747                       1.856279   \n",
              "min                         0.000000                       0.000000   \n",
              "25%                        10.486871                       6.850501   \n",
              "50%                        11.747362                       7.760435   \n",
              "75%                        13.426419                       8.601927   \n",
              "max                        24.480271                      13.617072   \n",
              "\n",
              "       rougher.output.concentrate_sol  rougher.output.concentrate_au  \\\n",
              "count                    14127.000000                   14149.000000   \n",
              "mean                        28.302715                      19.439958   \n",
              "std                          6.102982                       3.765192   \n",
              "min                          0.000000                       0.000000   \n",
              "25%                         26.703554                      18.432161   \n",
              "50%                         29.257545                      19.947312   \n",
              "75%                         31.743913                      21.392714   \n",
              "max                         38.351193                      28.146838   \n",
              "\n",
              "       rougher.output.recovery  rougher.output.tail_ag  \\\n",
              "count             14149.000000            14148.000000   \n",
              "mean                 82.704502                5.567124   \n",
              "std                  14.479156                1.039136   \n",
              "min                   0.000000                0.594562   \n",
              "25%                  79.993067                4.921647   \n",
              "50%                  85.299462                5.722018   \n",
              "75%                  90.165021                6.310633   \n",
              "max                 100.000000               12.719177   \n",
              "\n",
              "       rougher.output.tail_pb  rougher.output.tail_sol  \\\n",
              "count            14149.000000             14149.000000   \n",
              "mean                 0.653277                17.882853   \n",
              "std                  0.263766                 3.432859   \n",
              "min                  0.007566                10.014648   \n",
              "25%                  0.474047                15.688727   \n",
              "50%                  0.625805                18.015894   \n",
              "75%                  0.794326                19.938672   \n",
              "max                  3.778064                66.117188   \n",
              "\n",
              "       rougher.output.tail_au  rougher.state.floatbank10_a_air  \\\n",
              "count            14149.000000                     14148.000000   \n",
              "mean                 1.757473                      1124.726280   \n",
              "std                  0.713187                       169.310825   \n",
              "min                  0.020676                        -0.041078   \n",
              "25%                  1.310800                       999.799166   \n",
              "50%                  1.745513                      1001.685708   \n",
              "75%                  2.186790                      1299.505513   \n",
              "max                  9.688980                      1521.980372   \n",
              "\n",
              "       rougher.state.floatbank10_a_level  rougher.state.floatbank10_b_air  \\\n",
              "count                       14148.000000                     14148.000000   \n",
              "mean                         -369.460950                      1320.705069   \n",
              "std                            93.952787                       183.155975   \n",
              "min                          -650.202881                        -0.653384   \n",
              "25%                          -499.787867                      1199.366448   \n",
              "50%                          -300.175125                      1301.365123   \n",
              "75%                          -299.963153                      1449.553689   \n",
              "max                          -281.039299                      1809.194008   \n",
              "\n",
              "       rougher.state.floatbank10_b_level  rougher.state.floatbank10_c_air  \\\n",
              "count                       14148.000000                     14148.000000   \n",
              "mean                         -464.258983                      1299.360578   \n",
              "std                            57.401954                       213.404094   \n",
              "min                          -650.260008                        -0.035112   \n",
              "25%                          -500.183028                      1103.095071   \n",
              "50%                          -499.764620                      1300.213385   \n",
              "75%                          -400.425493                      1450.350668   \n",
              "max                          -296.383080                      2499.129174   \n",
              "\n",
              "       rougher.state.floatbank10_c_level  rougher.state.floatbank10_d_air  \\\n",
              "count                       14148.000000                     14149.000000   \n",
              "mean                         -465.054849                      1210.335236   \n",
              "std                            55.904716                       210.431555   \n",
              "min                          -640.995627                        -0.554299   \n",
              "25%                          -500.211863                      1059.708509   \n",
              "50%                          -499.682528                      1200.744308   \n",
              "75%                          -400.664736                      1344.378462   \n",
              "max                          -292.155509                      1817.199290   \n",
              "\n",
              "       rougher.state.floatbank10_d_level  rougher.state.floatbank10_e_air  \\\n",
              "count                       14149.000000                     13713.000000   \n",
              "mean                         -465.457377                      1090.213187   \n",
              "std                            55.771393                       184.610118   \n",
              "min                          -640.519003                        -1.970275   \n",
              "25%                          -500.359197                       997.183864   \n",
              "50%                          -499.465285                      1050.496363   \n",
              "75%                          -401.052891                      1200.047746   \n",
              "max                          -208.330673                      1922.636637   \n",
              "\n",
              "       rougher.state.floatbank10_e_level  rougher.state.floatbank10_f_air  \\\n",
              "count                       14149.000000                     14149.000000   \n",
              "mean                         -464.919119                      1035.490299   \n",
              "std                            56.602962                       175.052279   \n",
              "min                          -649.443911                        -2.430587   \n",
              "25%                          -500.250033                       900.966986   \n",
              "50%                          -499.611447                      1000.053757   \n",
              "75%                          -400.596104                      1100.165435   \n",
              "max                          -272.199598                      1706.307502   \n",
              "\n",
              "       rougher.state.floatbank10_f_level  secondary_cleaner.output.tail_ag  \\\n",
              "count                       14149.000000                      14147.000000   \n",
              "mean                         -464.688631                         14.281629   \n",
              "std                            56.645965                          4.477126   \n",
              "min                          -649.880981                          0.000000   \n",
              "25%                          -500.476526                         12.177364   \n",
              "50%                          -499.364335                         15.357951   \n",
              "75%                          -401.014951                         17.230151   \n",
              "max                          -191.718480                         23.264738   \n",
              "\n",
              "       secondary_cleaner.output.tail_pb  secondary_cleaner.output.tail_sol  \\\n",
              "count                      14139.000000                       12544.000000   \n",
              "mean                           5.848863                           6.938693   \n",
              "std                            2.861799                           4.155487   \n",
              "min                            0.000000                           0.000000   \n",
              "25%                            3.982298                           3.225486   \n",
              "50%                            5.442310                           7.302639   \n",
              "75%                            7.797948                          10.547068   \n",
              "max                           17.042505                          17.976171   \n",
              "\n",
              "       secondary_cleaner.output.tail_au  \\\n",
              "count                      14149.000000   \n",
              "mean                           4.246961   \n",
              "std                            2.389060   \n",
              "min                            0.000000   \n",
              "25%                            3.153122   \n",
              "50%                            3.980210   \n",
              "75%                            4.883943   \n",
              "max                           26.811643   \n",
              "\n",
              "       secondary_cleaner.state.floatbank2_a_air  \\\n",
              "count                              13932.000000   \n",
              "mean                                  29.613649   \n",
              "std                                    5.800494   \n",
              "min                                    0.077503   \n",
              "25%                                   25.099584   \n",
              "50%                                   30.027721   \n",
              "75%                                   34.893057   \n",
              "max                                   52.651399   \n",
              "\n",
              "       secondary_cleaner.state.floatbank2_a_level  \\\n",
              "count                                14148.000000   \n",
              "mean                                  -502.223914   \n",
              "std                                     60.281705   \n",
              "min                                   -799.606441   \n",
              "25%                                   -500.248814   \n",
              "50%                                   -499.959206   \n",
              "75%                                   -499.593198   \n",
              "max                                   -127.875565   \n",
              "\n",
              "       secondary_cleaner.state.floatbank2_b_air  \\\n",
              "count                              14128.000000   \n",
              "mean                                  24.914403   \n",
              "std                                    5.994959   \n",
              "min                                    0.000000   \n",
              "25%                                   22.048294   \n",
              "50%                                   27.022783   \n",
              "75%                                   28.939454   \n",
              "max                                   35.152122   \n",
              "\n",
              "       secondary_cleaner.state.floatbank2_b_level  \\\n",
              "count                                14148.000000   \n",
              "mean                                  -503.695706   \n",
              "std                                     62.837357   \n",
              "min                                   -799.873878   \n",
              "25%                                   -500.270997   \n",
              "50%                                   -500.014092   \n",
              "75%                                   -499.764112   \n",
              "max                                   -212.064665   \n",
              "\n",
              "       secondary_cleaner.state.floatbank3_a_air  \\\n",
              "count                              14145.000000   \n",
              "mean                                  29.243372   \n",
              "std                                    5.637309   \n",
              "min                                    0.000000   \n",
              "25%                                   24.991662   \n",
              "50%                                   28.016530   \n",
              "75%                                   34.990095   \n",
              "max                                   44.260464   \n",
              "\n",
              "       secondary_cleaner.state.floatbank3_a_level  \\\n",
              "count                                14148.000000   \n",
              "mean                                  -478.244059   \n",
              "std                                     54.655143   \n",
              "min                                   -799.613013   \n",
              "25%                                   -500.175065   \n",
              "50%                                   -499.877837   \n",
              "75%                                   -436.923166   \n",
              "max                                   -191.678810   \n",
              "\n",
              "       secondary_cleaner.state.floatbank3_b_air  \\\n",
              "count                              14148.000000   \n",
              "mean                                  22.656261   \n",
              "std                                    4.996017   \n",
              "min                                    0.000000   \n",
              "25%                                   19.948436   \n",
              "50%                                   22.037270   \n",
              "75%                                   25.970365   \n",
              "max                                   35.072841   \n",
              "\n",
              "       secondary_cleaner.state.floatbank3_b_level  \\\n",
              "count                                14148.000000   \n",
              "mean                                  -488.924046   \n",
              "std                                     41.928112   \n",
              "min                                   -759.177381   \n",
              "25%                                   -500.110581   \n",
              "50%                                   -499.966809   \n",
              "75%                                   -499.757501   \n",
              "max                                   -159.742331   \n",
              "\n",
              "       secondary_cleaner.state.floatbank4_a_air  \\\n",
              "count                              14143.000000   \n",
              "mean                                  19.985454   \n",
              "std                                    5.657723   \n",
              "min                                    0.000000   \n",
              "25%                                   14.990775   \n",
              "50%                                   20.001789   \n",
              "75%                                   24.990826   \n",
              "max                                   30.115735   \n",
              "\n",
              "       secondary_cleaner.state.floatbank4_a_level  \\\n",
              "count                                14148.000000   \n",
              "mean                                  -478.696836   \n",
              "std                                     50.736021   \n",
              "min                                   -799.709069   \n",
              "25%                                   -500.628656   \n",
              "50%                                   -499.681450   \n",
              "75%                                   -477.472413   \n",
              "max                                   -245.239184   \n",
              "\n",
              "       secondary_cleaner.state.floatbank4_b_air  \\\n",
              "count                              14148.000000   \n",
              "mean                                  15.487065   \n",
              "std                                    5.255655   \n",
              "min                                    0.000000   \n",
              "25%                                   11.894558   \n",
              "50%                                   14.975536   \n",
              "75%                                   20.059375   \n",
              "max                                   24.007913   \n",
              "\n",
              "       secondary_cleaner.state.floatbank4_b_level  \\\n",
              "count                                14148.000000   \n",
              "mean                                  -460.229416   \n",
              "std                                     58.843586   \n",
              "min                                   -799.889113   \n",
              "25%                                   -500.149000   \n",
              "50%                                   -499.388738   \n",
              "75%                                   -400.039008   \n",
              "max                                   -145.071088   \n",
              "\n",
              "       secondary_cleaner.state.floatbank5_a_air  \\\n",
              "count                              14148.000000   \n",
              "mean                                  16.775136   \n",
              "std                                    5.831906   \n",
              "min                                   -0.372054   \n",
              "25%                                   11.083980   \n",
              "50%                                   17.932223   \n",
              "75%                                   21.346550   \n",
              "max                                   43.709931   \n",
              "\n",
              "       secondary_cleaner.state.floatbank5_a_level  \\\n",
              "count                                14148.000000   \n",
              "mean                                  -483.956022   \n",
              "std                                     37.892788   \n",
              "min                                   -797.142475   \n",
              "25%                                   -500.363177   \n",
              "50%                                   -499.702452   \n",
              "75%                                   -487.712108   \n",
              "max                                   -275.073125   \n",
              "\n",
              "       secondary_cleaner.state.floatbank5_b_air  \\\n",
              "count                              14148.000000   \n",
              "mean                                  13.064590   \n",
              "std                                    5.765617   \n",
              "min                                    0.646208   \n",
              "25%                                    8.994405   \n",
              "50%                                   11.997547   \n",
              "75%                                   17.982903   \n",
              "max                                   27.926001   \n",
              "\n",
              "       secondary_cleaner.state.floatbank5_b_level  \\\n",
              "count                                14148.000000   \n",
              "mean                                  -483.966564   \n",
              "std                                     39.207913   \n",
              "min                                   -800.006180   \n",
              "25%                                   -500.105994   \n",
              "50%                                   -499.914556   \n",
              "75%                                   -453.186936   \n",
              "max                                   -157.396071   \n",
              "\n",
              "       secondary_cleaner.state.floatbank6_a_air  \\\n",
              "count                              14147.000000   \n",
              "mean                                  19.577539   \n",
              "std                                    5.764417   \n",
              "min                                    0.195324   \n",
              "25%                                   14.989304   \n",
              "50%                                   19.984175   \n",
              "75%                                   24.991623   \n",
              "max                                   32.188906   \n",
              "\n",
              "       secondary_cleaner.state.floatbank6_a_level  \n",
              "count                                14148.000000  \n",
              "mean                                  -506.798480  \n",
              "std                                     37.079249  \n",
              "min                                   -809.398668  \n",
              "25%                                   -500.745104  \n",
              "50%                                   -500.061431  \n",
              "75%                                   -499.536466  \n",
              "max                                   -104.427459  "
            ],
            "text/html": [
              "\n",
              "  <div id=\"df-e8152b62-8fd9-4a15-91cf-1d179c189d7a\">\n",
              "    <div class=\"colab-df-container\">\n",
              "      <div>\n",
              "<style scoped>\n",
              "    .dataframe tbody tr th:only-of-type {\n",
              "        vertical-align: middle;\n",
              "    }\n",
              "\n",
              "    .dataframe tbody tr th {\n",
              "        vertical-align: top;\n",
              "    }\n",
              "\n",
              "    .dataframe thead th {\n",
              "        text-align: right;\n",
              "    }\n",
              "</style>\n",
              "<table border=\"1\" class=\"dataframe\">\n",
              "  <thead>\n",
              "    <tr style=\"text-align: right;\">\n",
              "      <th></th>\n",
              "      <th>final.output.concentrate_ag</th>\n",
              "      <th>final.output.concentrate_pb</th>\n",
              "      <th>final.output.concentrate_sol</th>\n",
              "      <th>final.output.concentrate_au</th>\n",
              "      <th>final.output.recovery</th>\n",
              "      <th>final.output.tail_ag</th>\n",
              "      <th>final.output.tail_pb</th>\n",
              "      <th>final.output.tail_sol</th>\n",
              "      <th>final.output.tail_au</th>\n",
              "      <th>primary_cleaner.input.sulfate</th>\n",
              "      <th>primary_cleaner.input.depressant</th>\n",
              "      <th>primary_cleaner.input.feed_size</th>\n",
              "      <th>primary_cleaner.input.xanthate</th>\n",
              "      <th>primary_cleaner.output.concentrate_ag</th>\n",
              "      <th>primary_cleaner.output.concentrate_pb</th>\n",
              "      <th>primary_cleaner.output.concentrate_sol</th>\n",
              "      <th>primary_cleaner.output.concentrate_au</th>\n",
              "      <th>primary_cleaner.output.tail_ag</th>\n",
              "      <th>primary_cleaner.output.tail_pb</th>\n",
              "      <th>primary_cleaner.output.tail_sol</th>\n",
              "      <th>primary_cleaner.output.tail_au</th>\n",
              "      <th>primary_cleaner.state.floatbank8_a_air</th>\n",
              "      <th>primary_cleaner.state.floatbank8_a_level</th>\n",
              "      <th>primary_cleaner.state.floatbank8_b_air</th>\n",
              "      <th>primary_cleaner.state.floatbank8_b_level</th>\n",
              "      <th>primary_cleaner.state.floatbank8_c_air</th>\n",
              "      <th>primary_cleaner.state.floatbank8_c_level</th>\n",
              "      <th>primary_cleaner.state.floatbank8_d_air</th>\n",
              "      <th>primary_cleaner.state.floatbank8_d_level</th>\n",
              "      <th>rougher.calculation.sulfate_to_au_concentrate</th>\n",
              "      <th>rougher.calculation.floatbank10_sulfate_to_au_feed</th>\n",
              "      <th>rougher.calculation.floatbank11_sulfate_to_au_feed</th>\n",
              "      <th>rougher.calculation.au_pb_ratio</th>\n",
              "      <th>rougher.input.feed_ag</th>\n",
              "      <th>rougher.input.feed_pb</th>\n",
              "      <th>rougher.input.feed_rate</th>\n",
              "      <th>rougher.input.feed_size</th>\n",
              "      <th>rougher.input.feed_sol</th>\n",
              "      <th>rougher.input.feed_au</th>\n",
              "      <th>rougher.input.floatbank10_sulfate</th>\n",
              "      <th>rougher.input.floatbank10_xanthate</th>\n",
              "      <th>rougher.input.floatbank11_sulfate</th>\n",
              "      <th>rougher.input.floatbank11_xanthate</th>\n",
              "      <th>rougher.output.concentrate_ag</th>\n",
              "      <th>rougher.output.concentrate_pb</th>\n",
              "      <th>rougher.output.concentrate_sol</th>\n",
              "      <th>rougher.output.concentrate_au</th>\n",
              "      <th>rougher.output.recovery</th>\n",
              "      <th>rougher.output.tail_ag</th>\n",
              "      <th>rougher.output.tail_pb</th>\n",
              "      <th>rougher.output.tail_sol</th>\n",
              "      <th>rougher.output.tail_au</th>\n",
              "      <th>rougher.state.floatbank10_a_air</th>\n",
              "      <th>rougher.state.floatbank10_a_level</th>\n",
              "      <th>rougher.state.floatbank10_b_air</th>\n",
              "      <th>rougher.state.floatbank10_b_level</th>\n",
              "      <th>rougher.state.floatbank10_c_air</th>\n",
              "      <th>rougher.state.floatbank10_c_level</th>\n",
              "      <th>rougher.state.floatbank10_d_air</th>\n",
              "      <th>rougher.state.floatbank10_d_level</th>\n",
              "      <th>rougher.state.floatbank10_e_air</th>\n",
              "      <th>rougher.state.floatbank10_e_level</th>\n",
              "      <th>rougher.state.floatbank10_f_air</th>\n",
              "      <th>rougher.state.floatbank10_f_level</th>\n",
              "      <th>secondary_cleaner.output.tail_ag</th>\n",
              "      <th>secondary_cleaner.output.tail_pb</th>\n",
              "      <th>secondary_cleaner.output.tail_sol</th>\n",
              "      <th>secondary_cleaner.output.tail_au</th>\n",
              "      <th>secondary_cleaner.state.floatbank2_a_air</th>\n",
              "      <th>secondary_cleaner.state.floatbank2_a_level</th>\n",
              "      <th>secondary_cleaner.state.floatbank2_b_air</th>\n",
              "      <th>secondary_cleaner.state.floatbank2_b_level</th>\n",
              "      <th>secondary_cleaner.state.floatbank3_a_air</th>\n",
              "      <th>secondary_cleaner.state.floatbank3_a_level</th>\n",
              "      <th>secondary_cleaner.state.floatbank3_b_air</th>\n",
              "      <th>secondary_cleaner.state.floatbank3_b_level</th>\n",
              "      <th>secondary_cleaner.state.floatbank4_a_air</th>\n",
              "      <th>secondary_cleaner.state.floatbank4_a_level</th>\n",
              "      <th>secondary_cleaner.state.floatbank4_b_air</th>\n",
              "      <th>secondary_cleaner.state.floatbank4_b_level</th>\n",
              "      <th>secondary_cleaner.state.floatbank5_a_air</th>\n",
              "      <th>secondary_cleaner.state.floatbank5_a_level</th>\n",
              "      <th>secondary_cleaner.state.floatbank5_b_air</th>\n",
              "      <th>secondary_cleaner.state.floatbank5_b_level</th>\n",
              "      <th>secondary_cleaner.state.floatbank6_a_air</th>\n",
              "      <th>secondary_cleaner.state.floatbank6_a_level</th>\n",
              "    </tr>\n",
              "  </thead>\n",
              "  <tbody>\n",
              "    <tr>\n",
              "      <th>count</th>\n",
              "      <td>14148.000000</td>\n",
              "      <td>14148.000000</td>\n",
              "      <td>13938.000000</td>\n",
              "      <td>14149.000000</td>\n",
              "      <td>14149.000000</td>\n",
              "      <td>14149.000000</td>\n",
              "      <td>14049.000000</td>\n",
              "      <td>14144.000000</td>\n",
              "      <td>14149.000000</td>\n",
              "      <td>14129.000000</td>\n",
              "      <td>14117.000000</td>\n",
              "      <td>14149.000000</td>\n",
              "      <td>14049.000000</td>\n",
              "      <td>14149.000000</td>\n",
              "      <td>14063.000000</td>\n",
              "      <td>13863.000000</td>\n",
              "      <td>14149.000000</td>\n",
              "      <td>14148.000000</td>\n",
              "      <td>14134.000000</td>\n",
              "      <td>14103.000000</td>\n",
              "      <td>14149.000000</td>\n",
              "      <td>14145.000000</td>\n",
              "      <td>14148.000000</td>\n",
              "      <td>14145.000000</td>\n",
              "      <td>14148.000000</td>\n",
              "      <td>14147.000000</td>\n",
              "      <td>14148.000000</td>\n",
              "      <td>14146.000000</td>\n",
              "      <td>14148.000000</td>\n",
              "      <td>1.414800e+04</td>\n",
              "      <td>14148.000000</td>\n",
              "      <td>14148.000000</td>\n",
              "      <td>14149.000000</td>\n",
              "      <td>14149.000000</td>\n",
              "      <td>14049.000000</td>\n",
              "      <td>14141.000000</td>\n",
              "      <td>14005.000000</td>\n",
              "      <td>14071.000000</td>\n",
              "      <td>14149.000000</td>\n",
              "      <td>14120.000000</td>\n",
              "      <td>14141.000000</td>\n",
              "      <td>14113.000000</td>\n",
              "      <td>13721.000000</td>\n",
              "      <td>14149.000000</td>\n",
              "      <td>14149.000000</td>\n",
              "      <td>14127.000000</td>\n",
              "      <td>14149.000000</td>\n",
              "      <td>14149.000000</td>\n",
              "      <td>14148.000000</td>\n",
              "      <td>14149.000000</td>\n",
              "      <td>14149.000000</td>\n",
              "      <td>14149.000000</td>\n",
              "      <td>14148.000000</td>\n",
              "      <td>14148.000000</td>\n",
              "      <td>14148.000000</td>\n",
              "      <td>14148.000000</td>\n",
              "      <td>14148.000000</td>\n",
              "      <td>14148.000000</td>\n",
              "      <td>14149.000000</td>\n",
              "      <td>14149.000000</td>\n",
              "      <td>13713.000000</td>\n",
              "      <td>14149.000000</td>\n",
              "      <td>14149.000000</td>\n",
              "      <td>14149.000000</td>\n",
              "      <td>14147.000000</td>\n",
              "      <td>14139.000000</td>\n",
              "      <td>12544.000000</td>\n",
              "      <td>14149.000000</td>\n",
              "      <td>13932.000000</td>\n",
              "      <td>14148.000000</td>\n",
              "      <td>14128.000000</td>\n",
              "      <td>14148.000000</td>\n",
              "      <td>14145.000000</td>\n",
              "      <td>14148.000000</td>\n",
              "      <td>14148.000000</td>\n",
              "      <td>14148.000000</td>\n",
              "      <td>14143.000000</td>\n",
              "      <td>14148.000000</td>\n",
              "      <td>14148.000000</td>\n",
              "      <td>14148.000000</td>\n",
              "      <td>14148.000000</td>\n",
              "      <td>14148.000000</td>\n",
              "      <td>14148.000000</td>\n",
              "      <td>14148.000000</td>\n",
              "      <td>14147.000000</td>\n",
              "      <td>14148.000000</td>\n",
              "    </tr>\n",
              "    <tr>\n",
              "      <th>mean</th>\n",
              "      <td>5.142034</td>\n",
              "      <td>10.132960</td>\n",
              "      <td>9.202849</td>\n",
              "      <td>44.003792</td>\n",
              "      <td>66.518832</td>\n",
              "      <td>9.607035</td>\n",
              "      <td>2.597298</td>\n",
              "      <td>10.512122</td>\n",
              "      <td>2.918421</td>\n",
              "      <td>133.320659</td>\n",
              "      <td>8.866996</td>\n",
              "      <td>7.322310</td>\n",
              "      <td>0.885588</td>\n",
              "      <td>8.200916</td>\n",
              "      <td>9.588862</td>\n",
              "      <td>10.114745</td>\n",
              "      <td>32.386836</td>\n",
              "      <td>16.303929</td>\n",
              "      <td>3.443398</td>\n",
              "      <td>7.533566</td>\n",
              "      <td>3.839637</td>\n",
              "      <td>1608.000064</td>\n",
              "      <td>-488.775525</td>\n",
              "      <td>1608.610983</td>\n",
              "      <td>-489.171786</td>\n",
              "      <td>1608.879407</td>\n",
              "      <td>-489.605549</td>\n",
              "      <td>1542.189963</td>\n",
              "      <td>-483.462423</td>\n",
              "      <td>4.038265e+04</td>\n",
              "      <td>3456.608298</td>\n",
              "      <td>3253.356387</td>\n",
              "      <td>2.367314</td>\n",
              "      <td>8.579195</td>\n",
              "      <td>3.522778</td>\n",
              "      <td>474.027714</td>\n",
              "      <td>60.110518</td>\n",
              "      <td>36.312593</td>\n",
              "      <td>7.866577</td>\n",
              "      <td>11.764931</td>\n",
              "      <td>5.854529</td>\n",
              "      <td>11.368685</td>\n",
              "      <td>5.894176</td>\n",
              "      <td>11.775812</td>\n",
              "      <td>7.664555</td>\n",
              "      <td>28.302715</td>\n",
              "      <td>19.439958</td>\n",
              "      <td>82.704502</td>\n",
              "      <td>5.567124</td>\n",
              "      <td>0.653277</td>\n",
              "      <td>17.882853</td>\n",
              "      <td>1.757473</td>\n",
              "      <td>1124.726280</td>\n",
              "      <td>-369.460950</td>\n",
              "      <td>1320.705069</td>\n",
              "      <td>-464.258983</td>\n",
              "      <td>1299.360578</td>\n",
              "      <td>-465.054849</td>\n",
              "      <td>1210.335236</td>\n",
              "      <td>-465.457377</td>\n",
              "      <td>1090.213187</td>\n",
              "      <td>-464.919119</td>\n",
              "      <td>1035.490299</td>\n",
              "      <td>-464.688631</td>\n",
              "      <td>14.281629</td>\n",
              "      <td>5.848863</td>\n",
              "      <td>6.938693</td>\n",
              "      <td>4.246961</td>\n",
              "      <td>29.613649</td>\n",
              "      <td>-502.223914</td>\n",
              "      <td>24.914403</td>\n",
              "      <td>-503.695706</td>\n",
              "      <td>29.243372</td>\n",
              "      <td>-478.244059</td>\n",
              "      <td>22.656261</td>\n",
              "      <td>-488.924046</td>\n",
              "      <td>19.985454</td>\n",
              "      <td>-478.696836</td>\n",
              "      <td>15.487065</td>\n",
              "      <td>-460.229416</td>\n",
              "      <td>16.775136</td>\n",
              "      <td>-483.956022</td>\n",
              "      <td>13.064590</td>\n",
              "      <td>-483.966564</td>\n",
              "      <td>19.577539</td>\n",
              "      <td>-506.798480</td>\n",
              "    </tr>\n",
              "    <tr>\n",
              "      <th>std</th>\n",
              "      <td>1.369586</td>\n",
              "      <td>1.654930</td>\n",
              "      <td>2.790516</td>\n",
              "      <td>4.905261</td>\n",
              "      <td>10.295402</td>\n",
              "      <td>2.319069</td>\n",
              "      <td>0.971843</td>\n",
              "      <td>3.003617</td>\n",
              "      <td>0.903712</td>\n",
              "      <td>39.431659</td>\n",
              "      <td>3.361589</td>\n",
              "      <td>0.614062</td>\n",
              "      <td>0.372714</td>\n",
              "      <td>2.005185</td>\n",
              "      <td>2.694296</td>\n",
              "      <td>4.064076</td>\n",
              "      <td>5.798843</td>\n",
              "      <td>3.739843</td>\n",
              "      <td>1.490106</td>\n",
              "      <td>2.133220</td>\n",
              "      <td>1.603544</td>\n",
              "      <td>128.394355</td>\n",
              "      <td>35.704184</td>\n",
              "      <td>131.112729</td>\n",
              "      <td>33.604449</td>\n",
              "      <td>134.266898</td>\n",
              "      <td>35.624002</td>\n",
              "      <td>278.316132</td>\n",
              "      <td>47.100934</td>\n",
              "      <td>3.801436e+05</td>\n",
              "      <td>5772.510248</td>\n",
              "      <td>6753.290662</td>\n",
              "      <td>0.873551</td>\n",
              "      <td>1.896284</td>\n",
              "      <td>1.073394</td>\n",
              "      <td>104.039838</td>\n",
              "      <td>22.418485</td>\n",
              "      <td>4.956057</td>\n",
              "      <td>1.919506</td>\n",
              "      <td>3.278813</td>\n",
              "      <td>1.104263</td>\n",
              "      <td>3.743672</td>\n",
              "      <td>1.124233</td>\n",
              "      <td>2.731747</td>\n",
              "      <td>1.856279</td>\n",
              "      <td>6.102982</td>\n",
              "      <td>3.765192</td>\n",
              "      <td>14.479156</td>\n",
              "      <td>1.039136</td>\n",
              "      <td>0.263766</td>\n",
              "      <td>3.432859</td>\n",
              "      <td>0.713187</td>\n",
              "      <td>169.310825</td>\n",
              "      <td>93.952787</td>\n",
              "      <td>183.155975</td>\n",
              "      <td>57.401954</td>\n",
              "      <td>213.404094</td>\n",
              "      <td>55.904716</td>\n",
              "      <td>210.431555</td>\n",
              "      <td>55.771393</td>\n",
              "      <td>184.610118</td>\n",
              "      <td>56.602962</td>\n",
              "      <td>175.052279</td>\n",
              "      <td>56.645965</td>\n",
              "      <td>4.477126</td>\n",
              "      <td>2.861799</td>\n",
              "      <td>4.155487</td>\n",
              "      <td>2.389060</td>\n",
              "      <td>5.800494</td>\n",
              "      <td>60.281705</td>\n",
              "      <td>5.994959</td>\n",
              "      <td>62.837357</td>\n",
              "      <td>5.637309</td>\n",
              "      <td>54.655143</td>\n",
              "      <td>4.996017</td>\n",
              "      <td>41.928112</td>\n",
              "      <td>5.657723</td>\n",
              "      <td>50.736021</td>\n",
              "      <td>5.255655</td>\n",
              "      <td>58.843586</td>\n",
              "      <td>5.831906</td>\n",
              "      <td>37.892788</td>\n",
              "      <td>5.765617</td>\n",
              "      <td>39.207913</td>\n",
              "      <td>5.764417</td>\n",
              "      <td>37.079249</td>\n",
              "    </tr>\n",
              "    <tr>\n",
              "      <th>min</th>\n",
              "      <td>0.000000</td>\n",
              "      <td>0.000000</td>\n",
              "      <td>0.000000</td>\n",
              "      <td>0.000000</td>\n",
              "      <td>0.000000</td>\n",
              "      <td>0.000000</td>\n",
              "      <td>0.000000</td>\n",
              "      <td>0.000000</td>\n",
              "      <td>0.000000</td>\n",
              "      <td>0.003112</td>\n",
              "      <td>0.000000</td>\n",
              "      <td>1.080000</td>\n",
              "      <td>0.000005</td>\n",
              "      <td>0.000000</td>\n",
              "      <td>0.000000</td>\n",
              "      <td>0.000000</td>\n",
              "      <td>0.000000</td>\n",
              "      <td>0.000000</td>\n",
              "      <td>0.000000</td>\n",
              "      <td>0.000000</td>\n",
              "      <td>0.000000</td>\n",
              "      <td>0.006352</td>\n",
              "      <td>-798.641662</td>\n",
              "      <td>0.008700</td>\n",
              "      <td>-740.122129</td>\n",
              "      <td>0.015159</td>\n",
              "      <td>-799.803073</td>\n",
              "      <td>0.008655</td>\n",
              "      <td>-799.788598</td>\n",
              "      <td>-4.223520e+07</td>\n",
              "      <td>-486.598675</td>\n",
              "      <td>-264.982785</td>\n",
              "      <td>-0.010548</td>\n",
              "      <td>0.010000</td>\n",
              "      <td>0.010000</td>\n",
              "      <td>0.012786</td>\n",
              "      <td>9.659576</td>\n",
              "      <td>0.010000</td>\n",
              "      <td>0.010000</td>\n",
              "      <td>0.001083</td>\n",
              "      <td>0.001428</td>\n",
              "      <td>0.000098</td>\n",
              "      <td>0.000290</td>\n",
              "      <td>0.000000</td>\n",
              "      <td>0.000000</td>\n",
              "      <td>0.000000</td>\n",
              "      <td>0.000000</td>\n",
              "      <td>0.000000</td>\n",
              "      <td>0.594562</td>\n",
              "      <td>0.007566</td>\n",
              "      <td>10.014648</td>\n",
              "      <td>0.020676</td>\n",
              "      <td>-0.041078</td>\n",
              "      <td>-650.202881</td>\n",
              "      <td>-0.653384</td>\n",
              "      <td>-650.260008</td>\n",
              "      <td>-0.035112</td>\n",
              "      <td>-640.995627</td>\n",
              "      <td>-0.554299</td>\n",
              "      <td>-640.519003</td>\n",
              "      <td>-1.970275</td>\n",
              "      <td>-649.443911</td>\n",
              "      <td>-2.430587</td>\n",
              "      <td>-649.880981</td>\n",
              "      <td>0.000000</td>\n",
              "      <td>0.000000</td>\n",
              "      <td>0.000000</td>\n",
              "      <td>0.000000</td>\n",
              "      <td>0.077503</td>\n",
              "      <td>-799.606441</td>\n",
              "      <td>0.000000</td>\n",
              "      <td>-799.873878</td>\n",
              "      <td>0.000000</td>\n",
              "      <td>-799.613013</td>\n",
              "      <td>0.000000</td>\n",
              "      <td>-759.177381</td>\n",
              "      <td>0.000000</td>\n",
              "      <td>-799.709069</td>\n",
              "      <td>0.000000</td>\n",
              "      <td>-799.889113</td>\n",
              "      <td>-0.372054</td>\n",
              "      <td>-797.142475</td>\n",
              "      <td>0.646208</td>\n",
              "      <td>-800.006180</td>\n",
              "      <td>0.195324</td>\n",
              "      <td>-809.398668</td>\n",
              "    </tr>\n",
              "    <tr>\n",
              "      <th>25%</th>\n",
              "      <td>4.211620</td>\n",
              "      <td>9.297355</td>\n",
              "      <td>7.484645</td>\n",
              "      <td>43.276111</td>\n",
              "      <td>62.545817</td>\n",
              "      <td>7.997429</td>\n",
              "      <td>1.905973</td>\n",
              "      <td>8.811324</td>\n",
              "      <td>2.368607</td>\n",
              "      <td>107.006651</td>\n",
              "      <td>6.040604</td>\n",
              "      <td>6.960000</td>\n",
              "      <td>0.607021</td>\n",
              "      <td>7.107126</td>\n",
              "      <td>8.333489</td>\n",
              "      <td>7.488139</td>\n",
              "      <td>30.857764</td>\n",
              "      <td>13.873147</td>\n",
              "      <td>2.420259</td>\n",
              "      <td>6.332548</td>\n",
              "      <td>2.867957</td>\n",
              "      <td>1595.695815</td>\n",
              "      <td>-500.287952</td>\n",
              "      <td>1558.959943</td>\n",
              "      <td>-500.375645</td>\n",
              "      <td>1549.871886</td>\n",
              "      <td>-500.601718</td>\n",
              "      <td>1452.678767</td>\n",
              "      <td>-500.459917</td>\n",
              "      <td>3.999430e+04</td>\n",
              "      <td>2527.093354</td>\n",
              "      <td>2512.200873</td>\n",
              "      <td>1.999588</td>\n",
              "      <td>7.132802</td>\n",
              "      <td>2.780010</td>\n",
              "      <td>420.781913</td>\n",
              "      <td>48.973027</td>\n",
              "      <td>34.117635</td>\n",
              "      <td>6.596217</td>\n",
              "      <td>9.861100</td>\n",
              "      <td>5.117359</td>\n",
              "      <td>9.505507</td>\n",
              "      <td>5.199168</td>\n",
              "      <td>10.486871</td>\n",
              "      <td>6.850501</td>\n",
              "      <td>26.703554</td>\n",
              "      <td>18.432161</td>\n",
              "      <td>79.993067</td>\n",
              "      <td>4.921647</td>\n",
              "      <td>0.474047</td>\n",
              "      <td>15.688727</td>\n",
              "      <td>1.310800</td>\n",
              "      <td>999.799166</td>\n",
              "      <td>-499.787867</td>\n",
              "      <td>1199.366448</td>\n",
              "      <td>-500.183028</td>\n",
              "      <td>1103.095071</td>\n",
              "      <td>-500.211863</td>\n",
              "      <td>1059.708509</td>\n",
              "      <td>-500.359197</td>\n",
              "      <td>997.183864</td>\n",
              "      <td>-500.250033</td>\n",
              "      <td>900.966986</td>\n",
              "      <td>-500.476526</td>\n",
              "      <td>12.177364</td>\n",
              "      <td>3.982298</td>\n",
              "      <td>3.225486</td>\n",
              "      <td>3.153122</td>\n",
              "      <td>25.099584</td>\n",
              "      <td>-500.248814</td>\n",
              "      <td>22.048294</td>\n",
              "      <td>-500.270997</td>\n",
              "      <td>24.991662</td>\n",
              "      <td>-500.175065</td>\n",
              "      <td>19.948436</td>\n",
              "      <td>-500.110581</td>\n",
              "      <td>14.990775</td>\n",
              "      <td>-500.628656</td>\n",
              "      <td>11.894558</td>\n",
              "      <td>-500.149000</td>\n",
              "      <td>11.083980</td>\n",
              "      <td>-500.363177</td>\n",
              "      <td>8.994405</td>\n",
              "      <td>-500.105994</td>\n",
              "      <td>14.989304</td>\n",
              "      <td>-500.745104</td>\n",
              "    </tr>\n",
              "    <tr>\n",
              "      <th>50%</th>\n",
              "      <td>4.994652</td>\n",
              "      <td>10.297144</td>\n",
              "      <td>8.845462</td>\n",
              "      <td>44.872436</td>\n",
              "      <td>67.432775</td>\n",
              "      <td>9.480270</td>\n",
              "      <td>2.592022</td>\n",
              "      <td>10.514621</td>\n",
              "      <td>2.851025</td>\n",
              "      <td>133.018328</td>\n",
              "      <td>8.035811</td>\n",
              "      <td>7.290000</td>\n",
              "      <td>0.888749</td>\n",
              "      <td>8.226247</td>\n",
              "      <td>9.933520</td>\n",
              "      <td>9.726566</td>\n",
              "      <td>33.225835</td>\n",
              "      <td>15.800604</td>\n",
              "      <td>3.218374</td>\n",
              "      <td>7.714419</td>\n",
              "      <td>3.510337</td>\n",
              "      <td>1601.824410</td>\n",
              "      <td>-499.909375</td>\n",
              "      <td>1601.818514</td>\n",
              "      <td>-499.938003</td>\n",
              "      <td>1601.574628</td>\n",
              "      <td>-499.871346</td>\n",
              "      <td>1600.168346</td>\n",
              "      <td>-499.831833</td>\n",
              "      <td>4.368431e+04</td>\n",
              "      <td>2975.892211</td>\n",
              "      <td>2899.807724</td>\n",
              "      <td>2.249275</td>\n",
              "      <td>8.156092</td>\n",
              "      <td>3.422677</td>\n",
              "      <td>499.454777</td>\n",
              "      <td>55.373885</td>\n",
              "      <td>37.020345</td>\n",
              "      <td>7.649138</td>\n",
              "      <td>11.688702</td>\n",
              "      <td>5.951071</td>\n",
              "      <td>11.384283</td>\n",
              "      <td>5.998460</td>\n",
              "      <td>11.747362</td>\n",
              "      <td>7.760435</td>\n",
              "      <td>29.257545</td>\n",
              "      <td>19.947312</td>\n",
              "      <td>85.299462</td>\n",
              "      <td>5.722018</td>\n",
              "      <td>0.625805</td>\n",
              "      <td>18.015894</td>\n",
              "      <td>1.745513</td>\n",
              "      <td>1001.685708</td>\n",
              "      <td>-300.175125</td>\n",
              "      <td>1301.365123</td>\n",
              "      <td>-499.764620</td>\n",
              "      <td>1300.213385</td>\n",
              "      <td>-499.682528</td>\n",
              "      <td>1200.744308</td>\n",
              "      <td>-499.465285</td>\n",
              "      <td>1050.496363</td>\n",
              "      <td>-499.611447</td>\n",
              "      <td>1000.053757</td>\n",
              "      <td>-499.364335</td>\n",
              "      <td>15.357951</td>\n",
              "      <td>5.442310</td>\n",
              "      <td>7.302639</td>\n",
              "      <td>3.980210</td>\n",
              "      <td>30.027721</td>\n",
              "      <td>-499.959206</td>\n",
              "      <td>27.022783</td>\n",
              "      <td>-500.014092</td>\n",
              "      <td>28.016530</td>\n",
              "      <td>-499.877837</td>\n",
              "      <td>22.037270</td>\n",
              "      <td>-499.966809</td>\n",
              "      <td>20.001789</td>\n",
              "      <td>-499.681450</td>\n",
              "      <td>14.975536</td>\n",
              "      <td>-499.388738</td>\n",
              "      <td>17.932223</td>\n",
              "      <td>-499.702452</td>\n",
              "      <td>11.997547</td>\n",
              "      <td>-499.914556</td>\n",
              "      <td>19.984175</td>\n",
              "      <td>-500.061431</td>\n",
              "    </tr>\n",
              "    <tr>\n",
              "      <th>75%</th>\n",
              "      <td>5.859540</td>\n",
              "      <td>11.170603</td>\n",
              "      <td>10.487508</td>\n",
              "      <td>46.166425</td>\n",
              "      <td>72.346428</td>\n",
              "      <td>11.003707</td>\n",
              "      <td>3.241723</td>\n",
              "      <td>11.933009</td>\n",
              "      <td>3.434764</td>\n",
              "      <td>159.825396</td>\n",
              "      <td>11.522173</td>\n",
              "      <td>7.700000</td>\n",
              "      <td>1.100933</td>\n",
              "      <td>9.504924</td>\n",
              "      <td>11.310817</td>\n",
              "      <td>13.052807</td>\n",
              "      <td>35.330145</td>\n",
              "      <td>18.450109</td>\n",
              "      <td>4.253218</td>\n",
              "      <td>8.910664</td>\n",
              "      <td>4.492470</td>\n",
              "      <td>1699.716408</td>\n",
              "      <td>-499.378551</td>\n",
              "      <td>1700.215351</td>\n",
              "      <td>-499.389658</td>\n",
              "      <td>1700.464037</td>\n",
              "      <td>-498.801774</td>\n",
              "      <td>1699.358771</td>\n",
              "      <td>-498.480341</td>\n",
              "      <td>4.776041e+04</td>\n",
              "      <td>3716.360822</td>\n",
              "      <td>3596.534806</td>\n",
              "      <td>2.660896</td>\n",
              "      <td>9.918304</td>\n",
              "      <td>4.226107</td>\n",
              "      <td>547.334973</td>\n",
              "      <td>66.080172</td>\n",
              "      <td>39.423265</td>\n",
              "      <td>9.066976</td>\n",
              "      <td>13.607115</td>\n",
              "      <td>6.602533</td>\n",
              "      <td>13.497134</td>\n",
              "      <td>6.699006</td>\n",
              "      <td>13.426419</td>\n",
              "      <td>8.601927</td>\n",
              "      <td>31.743913</td>\n",
              "      <td>21.392714</td>\n",
              "      <td>90.165021</td>\n",
              "      <td>6.310633</td>\n",
              "      <td>0.794326</td>\n",
              "      <td>19.938672</td>\n",
              "      <td>2.186790</td>\n",
              "      <td>1299.505513</td>\n",
              "      <td>-299.963153</td>\n",
              "      <td>1449.553689</td>\n",
              "      <td>-400.425493</td>\n",
              "      <td>1450.350668</td>\n",
              "      <td>-400.664736</td>\n",
              "      <td>1344.378462</td>\n",
              "      <td>-401.052891</td>\n",
              "      <td>1200.047746</td>\n",
              "      <td>-400.596104</td>\n",
              "      <td>1100.165435</td>\n",
              "      <td>-401.014951</td>\n",
              "      <td>17.230151</td>\n",
              "      <td>7.797948</td>\n",
              "      <td>10.547068</td>\n",
              "      <td>4.883943</td>\n",
              "      <td>34.893057</td>\n",
              "      <td>-499.593198</td>\n",
              "      <td>28.939454</td>\n",
              "      <td>-499.764112</td>\n",
              "      <td>34.990095</td>\n",
              "      <td>-436.923166</td>\n",
              "      <td>25.970365</td>\n",
              "      <td>-499.757501</td>\n",
              "      <td>24.990826</td>\n",
              "      <td>-477.472413</td>\n",
              "      <td>20.059375</td>\n",
              "      <td>-400.039008</td>\n",
              "      <td>21.346550</td>\n",
              "      <td>-487.712108</td>\n",
              "      <td>17.982903</td>\n",
              "      <td>-453.186936</td>\n",
              "      <td>24.991623</td>\n",
              "      <td>-499.536466</td>\n",
              "    </tr>\n",
              "    <tr>\n",
              "      <th>max</th>\n",
              "      <td>16.001945</td>\n",
              "      <td>17.031899</td>\n",
              "      <td>18.124851</td>\n",
              "      <td>52.756638</td>\n",
              "      <td>100.000000</td>\n",
              "      <td>19.552149</td>\n",
              "      <td>5.639565</td>\n",
              "      <td>22.317730</td>\n",
              "      <td>8.197408</td>\n",
              "      <td>250.127834</td>\n",
              "      <td>20.052255</td>\n",
              "      <td>10.470000</td>\n",
              "      <td>2.512968</td>\n",
              "      <td>16.081632</td>\n",
              "      <td>17.081278</td>\n",
              "      <td>22.280845</td>\n",
              "      <td>45.933934</td>\n",
              "      <td>29.459575</td>\n",
              "      <td>9.634565</td>\n",
              "      <td>20.620833</td>\n",
              "      <td>17.788925</td>\n",
              "      <td>2079.531340</td>\n",
              "      <td>-330.134203</td>\n",
              "      <td>2114.906758</td>\n",
              "      <td>-347.354380</td>\n",
              "      <td>2013.156457</td>\n",
              "      <td>-346.653450</td>\n",
              "      <td>2398.903635</td>\n",
              "      <td>-30.601828</td>\n",
              "      <td>3.428099e+06</td>\n",
              "      <td>629638.977914</td>\n",
              "      <td>718684.955855</td>\n",
              "      <td>39.379272</td>\n",
              "      <td>14.596026</td>\n",
              "      <td>7.142594</td>\n",
              "      <td>717.508837</td>\n",
              "      <td>484.967466</td>\n",
              "      <td>48.363177</td>\n",
              "      <td>13.126043</td>\n",
              "      <td>36.118275</td>\n",
              "      <td>9.703448</td>\n",
              "      <td>37.980648</td>\n",
              "      <td>9.698407</td>\n",
              "      <td>24.480271</td>\n",
              "      <td>13.617072</td>\n",
              "      <td>38.351193</td>\n",
              "      <td>28.146838</td>\n",
              "      <td>100.000000</td>\n",
              "      <td>12.719177</td>\n",
              "      <td>3.778064</td>\n",
              "      <td>66.117188</td>\n",
              "      <td>9.688980</td>\n",
              "      <td>1521.980372</td>\n",
              "      <td>-281.039299</td>\n",
              "      <td>1809.194008</td>\n",
              "      <td>-296.383080</td>\n",
              "      <td>2499.129174</td>\n",
              "      <td>-292.155509</td>\n",
              "      <td>1817.199290</td>\n",
              "      <td>-208.330673</td>\n",
              "      <td>1922.636637</td>\n",
              "      <td>-272.199598</td>\n",
              "      <td>1706.307502</td>\n",
              "      <td>-191.718480</td>\n",
              "      <td>23.264738</td>\n",
              "      <td>17.042505</td>\n",
              "      <td>17.976171</td>\n",
              "      <td>26.811643</td>\n",
              "      <td>52.651399</td>\n",
              "      <td>-127.875565</td>\n",
              "      <td>35.152122</td>\n",
              "      <td>-212.064665</td>\n",
              "      <td>44.260464</td>\n",
              "      <td>-191.678810</td>\n",
              "      <td>35.072841</td>\n",
              "      <td>-159.742331</td>\n",
              "      <td>30.115735</td>\n",
              "      <td>-245.239184</td>\n",
              "      <td>24.007913</td>\n",
              "      <td>-145.071088</td>\n",
              "      <td>43.709931</td>\n",
              "      <td>-275.073125</td>\n",
              "      <td>27.926001</td>\n",
              "      <td>-157.396071</td>\n",
              "      <td>32.188906</td>\n",
              "      <td>-104.427459</td>\n",
              "    </tr>\n",
              "  </tbody>\n",
              "</table>\n",
              "</div>\n",
              "      <button class=\"colab-df-convert\" onclick=\"convertToInteractive('df-e8152b62-8fd9-4a15-91cf-1d179c189d7a')\"\n",
              "              title=\"Convert this dataframe to an interactive table.\"\n",
              "              style=\"display:none;\">\n",
              "        \n",
              "  <svg xmlns=\"http://www.w3.org/2000/svg\" height=\"24px\"viewBox=\"0 0 24 24\"\n",
              "       width=\"24px\">\n",
              "    <path d=\"M0 0h24v24H0V0z\" fill=\"none\"/>\n",
              "    <path d=\"M18.56 5.44l.94 2.06.94-2.06 2.06-.94-2.06-.94-.94-2.06-.94 2.06-2.06.94zm-11 1L8.5 8.5l.94-2.06 2.06-.94-2.06-.94L8.5 2.5l-.94 2.06-2.06.94zm10 10l.94 2.06.94-2.06 2.06-.94-2.06-.94-.94-2.06-.94 2.06-2.06.94z\"/><path d=\"M17.41 7.96l-1.37-1.37c-.4-.4-.92-.59-1.43-.59-.52 0-1.04.2-1.43.59L10.3 9.45l-7.72 7.72c-.78.78-.78 2.05 0 2.83L4 21.41c.39.39.9.59 1.41.59.51 0 1.02-.2 1.41-.59l7.78-7.78 2.81-2.81c.8-.78.8-2.07 0-2.86zM5.41 20L4 18.59l7.72-7.72 1.47 1.35L5.41 20z\"/>\n",
              "  </svg>\n",
              "      </button>\n",
              "      \n",
              "  <style>\n",
              "    .colab-df-container {\n",
              "      display:flex;\n",
              "      flex-wrap:wrap;\n",
              "      gap: 12px;\n",
              "    }\n",
              "\n",
              "    .colab-df-convert {\n",
              "      background-color: #E8F0FE;\n",
              "      border: none;\n",
              "      border-radius: 50%;\n",
              "      cursor: pointer;\n",
              "      display: none;\n",
              "      fill: #1967D2;\n",
              "      height: 32px;\n",
              "      padding: 0 0 0 0;\n",
              "      width: 32px;\n",
              "    }\n",
              "\n",
              "    .colab-df-convert:hover {\n",
              "      background-color: #E2EBFA;\n",
              "      box-shadow: 0px 1px 2px rgba(60, 64, 67, 0.3), 0px 1px 3px 1px rgba(60, 64, 67, 0.15);\n",
              "      fill: #174EA6;\n",
              "    }\n",
              "\n",
              "    [theme=dark] .colab-df-convert {\n",
              "      background-color: #3B4455;\n",
              "      fill: #D2E3FC;\n",
              "    }\n",
              "\n",
              "    [theme=dark] .colab-df-convert:hover {\n",
              "      background-color: #434B5C;\n",
              "      box-shadow: 0px 1px 3px 1px rgba(0, 0, 0, 0.15);\n",
              "      filter: drop-shadow(0px 1px 2px rgba(0, 0, 0, 0.3));\n",
              "      fill: #FFFFFF;\n",
              "    }\n",
              "  </style>\n",
              "\n",
              "      <script>\n",
              "        const buttonEl =\n",
              "          document.querySelector('#df-e8152b62-8fd9-4a15-91cf-1d179c189d7a button.colab-df-convert');\n",
              "        buttonEl.style.display =\n",
              "          google.colab.kernel.accessAllowed ? 'block' : 'none';\n",
              "\n",
              "        async function convertToInteractive(key) {\n",
              "          const element = document.querySelector('#df-e8152b62-8fd9-4a15-91cf-1d179c189d7a');\n",
              "          const dataTable =\n",
              "            await google.colab.kernel.invokeFunction('convertToInteractive',\n",
              "                                                     [key], {});\n",
              "          if (!dataTable) return;\n",
              "\n",
              "          const docLinkHtml = 'Like what you see? Visit the ' +\n",
              "            '<a target=\"_blank\" href=https://colab.research.google.com/notebooks/data_table.ipynb>data table notebook</a>'\n",
              "            + ' to learn more about interactive tables.';\n",
              "          element.innerHTML = '';\n",
              "          dataTable['output_type'] = 'display_data';\n",
              "          await google.colab.output.renderOutput(dataTable, element);\n",
              "          const docLink = document.createElement('div');\n",
              "          docLink.innerHTML = docLinkHtml;\n",
              "          element.appendChild(docLink);\n",
              "        }\n",
              "      </script>\n",
              "    </div>\n",
              "  </div>\n",
              "  "
            ]
          },
          "metadata": {}
        },
        {
          "output_type": "stream",
          "name": "stdout",
          "text": [
            "-----------------\n",
            "Количество пропусков\n",
            "secondary_cleaner.output.tail_sol           1605\n",
            "rougher.state.floatbank10_e_air              436\n",
            "rougher.input.floatbank11_xanthate           428\n",
            "primary_cleaner.output.concentrate_sol       286\n",
            "secondary_cleaner.state.floatbank2_a_air     217\n",
            "                                            ... \n",
            "rougher.output.concentrate_pb                  0\n",
            "rougher.output.concentrate_au                  0\n",
            "rougher.output.recovery                        0\n",
            "rougher.output.tail_pb                         0\n",
            "date                                           0\n",
            "Length: 87, dtype: int64\n",
            "-----------------\n",
            "Размер выборки\n",
            "(14149, 87)\n"
          ]
        }
      ]
    },
    {
      "cell_type": "code",
      "source": [
        "open_data(test_data)"
      ],
      "metadata": {
        "colab": {
          "base_uri": "https://localhost:8080/",
          "height": 1000
        },
        "id": "uIwLNXfEv44S",
        "outputId": "7aeca068-e625-4a1f-9c84-d96ada35a63d"
      },
      "execution_count": 6,
      "outputs": [
        {
          "output_type": "display_data",
          "data": {
            "text/plain": [
              "                  date  primary_cleaner.input.sulfate  \\\n",
              "0  2016-09-01 00:59:59                     210.800909   \n",
              "1  2016-09-01 01:59:59                     215.392455   \n",
              "2  2016-09-01 02:59:59                     215.259946   \n",
              "3  2016-09-01 03:59:59                     215.336236   \n",
              "4  2016-09-01 04:59:59                     199.099327   \n",
              "\n",
              "   primary_cleaner.input.depressant  primary_cleaner.input.feed_size  \\\n",
              "0                         14.993118                         8.080000   \n",
              "1                         14.987471                         8.080000   \n",
              "2                         12.884934                         7.786667   \n",
              "3                         12.006805                         7.640000   \n",
              "4                         10.682530                         7.530000   \n",
              "\n",
              "   primary_cleaner.input.xanthate  primary_cleaner.state.floatbank8_a_air  \\\n",
              "0                        1.005021                             1398.981301   \n",
              "1                        0.990469                             1398.777912   \n",
              "2                        0.996043                             1398.493666   \n",
              "3                        0.863514                             1399.618111   \n",
              "4                        0.805575                             1401.268123   \n",
              "\n",
              "   primary_cleaner.state.floatbank8_a_level  \\\n",
              "0                               -500.225577   \n",
              "1                               -500.057435   \n",
              "2                               -500.868360   \n",
              "3                               -498.863574   \n",
              "4                               -500.808305   \n",
              "\n",
              "   primary_cleaner.state.floatbank8_b_air  \\\n",
              "0                             1399.144926   \n",
              "1                             1398.055362   \n",
              "2                             1398.860436   \n",
              "3                             1397.440120   \n",
              "4                             1398.128818   \n",
              "\n",
              "   primary_cleaner.state.floatbank8_b_level  \\\n",
              "0                               -499.919735   \n",
              "1                               -499.778182   \n",
              "2                               -499.764529   \n",
              "3                               -499.211024   \n",
              "4                               -499.504543   \n",
              "\n",
              "   primary_cleaner.state.floatbank8_c_air  \\\n",
              "0                             1400.102998   \n",
              "1                             1396.151033   \n",
              "2                             1398.075709   \n",
              "3                             1400.129303   \n",
              "4                             1402.172226   \n",
              "\n",
              "   primary_cleaner.state.floatbank8_c_level  \\\n",
              "0                               -500.704369   \n",
              "1                               -499.240168   \n",
              "2                               -502.151509   \n",
              "3                               -498.355873   \n",
              "4                               -500.810606   \n",
              "\n",
              "   primary_cleaner.state.floatbank8_d_air  \\\n",
              "0                             1399.001695   \n",
              "1                             1399.508091   \n",
              "2                             1399.497088   \n",
              "3                             1401.065165   \n",
              "4                             1399.480508   \n",
              "\n",
              "   primary_cleaner.state.floatbank8_d_level  rougher.input.feed_ag  \\\n",
              "0                               -499.485144              13.128569   \n",
              "1                               -500.416324              13.036280   \n",
              "2                               -499.715479              13.138412   \n",
              "3                               -501.038738              12.400507   \n",
              "4                               -499.374053              11.327427   \n",
              "\n",
              "   rougher.input.feed_pb  rougher.input.feed_rate  rougher.input.feed_size  \\\n",
              "0               5.636710               489.793655                62.710452   \n",
              "1               5.526065               490.104534                61.961163   \n",
              "2               5.426561               489.617969                66.903807   \n",
              "3               5.114758               476.618130                59.865919   \n",
              "4               4.767383               488.248117                63.315324   \n",
              "\n",
              "   rougher.input.feed_sol  rougher.input.feed_au  \\\n",
              "0               42.022440              12.084103   \n",
              "1               41.187903              11.918977   \n",
              "2               42.546294              12.091332   \n",
              "3               41.060195              12.181597   \n",
              "4               41.269161              11.290425   \n",
              "\n",
              "   rougher.input.floatbank10_sulfate  rougher.input.floatbank10_xanthate  \\\n",
              "0                          16.922877                            6.153479   \n",
              "1                          17.002532                            5.999043   \n",
              "2                          16.992520                            5.850632   \n",
              "3                          16.532144                            5.801935   \n",
              "4                          13.607257                            5.738081   \n",
              "\n",
              "   rougher.input.floatbank11_sulfate  rougher.input.floatbank11_xanthate  \\\n",
              "0                          16.867518                            6.150709   \n",
              "1                          16.996063                            6.002315   \n",
              "2                          16.982096                            5.853594   \n",
              "3                          16.515277                            5.803657   \n",
              "4                          13.650053                            5.739634   \n",
              "\n",
              "   rougher.state.floatbank10_a_air  rougher.state.floatbank10_a_level  \\\n",
              "0                      1001.849317                        -350.301265   \n",
              "1                       998.690785                        -350.425704   \n",
              "2                       998.516720                        -349.783538   \n",
              "3                      1000.276604                        -350.172597   \n",
              "4                       996.541302                        -350.562517   \n",
              "\n",
              "   rougher.state.floatbank10_b_air  rougher.state.floatbank10_b_level  \\\n",
              "0                      1249.738612                        -399.107531   \n",
              "1                      1248.395457                        -399.946025   \n",
              "2                      1247.440748                        -400.264330   \n",
              "3                      1251.322675                        -398.655289   \n",
              "4                      1304.658848                        -399.511519   \n",
              "\n",
              "   rougher.state.floatbank10_c_air  rougher.state.floatbank10_c_level  \\\n",
              "0                      1249.750520                        -399.396730   \n",
              "1                      1249.514451                        -399.630810   \n",
              "2                      1248.207204                        -401.074405   \n",
              "3                      1250.493702                        -399.746728   \n",
              "4                      1306.455515                        -399.050685   \n",
              "\n",
              "   rougher.state.floatbank10_d_air  rougher.state.floatbank10_d_level  \\\n",
              "0                      1198.287855                        -399.488594   \n",
              "1                      1200.506459                        -399.942434   \n",
              "2                      1199.770026                        -400.790582   \n",
              "3                      1199.398691                        -397.503052   \n",
              "4                      1248.699349                        -400.876894   \n",
              "\n",
              "   rougher.state.floatbank10_e_air  rougher.state.floatbank10_e_level  \\\n",
              "0                       999.472250                        -399.530962   \n",
              "1                      1000.002114                        -399.491528   \n",
              "2                       999.925519                        -399.236999   \n",
              "3                      1001.930679                        -400.437573   \n",
              "4                      1058.839106                        -398.988239   \n",
              "\n",
              "   rougher.state.floatbank10_f_air  rougher.state.floatbank10_f_level  \\\n",
              "0                       949.566189                        -398.180807   \n",
              "1                       950.200009                        -405.787514   \n",
              "2                       950.320481                        -400.864340   \n",
              "3                       950.735324                        -399.802986   \n",
              "4                       949.645313                        -399.277632   \n",
              "\n",
              "   secondary_cleaner.state.floatbank2_a_air  \\\n",
              "0                                 24.938200   \n",
              "1                                 24.923466   \n",
              "2                                 24.908732   \n",
              "3                                 24.893998   \n",
              "4                                 24.886905   \n",
              "\n",
              "   secondary_cleaner.state.floatbank2_a_level  \\\n",
              "0                                 -500.490963   \n",
              "1                                 -499.813963   \n",
              "2                                 -500.304035   \n",
              "3                                 -499.382374   \n",
              "4                                 -499.357375   \n",
              "\n",
              "   secondary_cleaner.state.floatbank2_b_air  \\\n",
              "0                                 14.947607   \n",
              "1                                 14.930873   \n",
              "2                                 14.996511   \n",
              "3                                 14.916674   \n",
              "4                                 14.979233   \n",
              "\n",
              "   secondary_cleaner.state.floatbank2_b_level  \\\n",
              "0                                 -500.013837   \n",
              "1                                 -500.764452   \n",
              "2                                 -500.993821   \n",
              "3                                 -499.862299   \n",
              "4                                 -500.186804   \n",
              "\n",
              "   secondary_cleaner.state.floatbank3_a_air  \\\n",
              "0                                 20.018166   \n",
              "1                                 19.988503   \n",
              "2                                 20.039689   \n",
              "3                                 20.031100   \n",
              "4                                 19.962364   \n",
              "\n",
              "   secondary_cleaner.state.floatbank3_a_level  \\\n",
              "0                                 -450.395995   \n",
              "1                                 -450.114024   \n",
              "2                                 -450.263164   \n",
              "3                                 -449.372570   \n",
              "4                                 -450.638828   \n",
              "\n",
              "   secondary_cleaner.state.floatbank3_b_air  \\\n",
              "0                                 13.987058   \n",
              "1                                 14.092981   \n",
              "2                                 14.077881   \n",
              "3                                 14.013968   \n",
              "4                                 14.009245   \n",
              "\n",
              "   secondary_cleaner.state.floatbank3_b_level  \\\n",
              "0                                 -449.831513   \n",
              "1                                 -450.059163   \n",
              "2                                 -449.660997   \n",
              "3                                 -449.526900   \n",
              "4                                 -450.022259   \n",
              "\n",
              "   secondary_cleaner.state.floatbank4_a_air  \\\n",
              "0                                 12.023554   \n",
              "1                                 12.058140   \n",
              "2                                 11.962366   \n",
              "3                                 12.033091   \n",
              "4                                 12.025367   \n",
              "\n",
              "   secondary_cleaner.state.floatbank4_a_level  \\\n",
              "0                                 -497.795834   \n",
              "1                                 -498.695773   \n",
              "2                                 -498.767484   \n",
              "3                                 -498.350935   \n",
              "4                                 -500.786497   \n",
              "\n",
              "   secondary_cleaner.state.floatbank4_b_air  \\\n",
              "0                                  8.016656   \n",
              "1                                  8.130979   \n",
              "2                                  8.096893   \n",
              "3                                  8.074946   \n",
              "4                                  8.054678   \n",
              "\n",
              "   secondary_cleaner.state.floatbank4_b_level  \\\n",
              "0                                 -501.289139   \n",
              "1                                 -499.634209   \n",
              "2                                 -500.827423   \n",
              "3                                 -499.474407   \n",
              "4                                 -500.397500   \n",
              "\n",
              "   secondary_cleaner.state.floatbank5_a_air  \\\n",
              "0                                  7.946562   \n",
              "1                                  7.958270   \n",
              "2                                  8.071056   \n",
              "3                                  7.897085   \n",
              "4                                  8.107890   \n",
              "\n",
              "   secondary_cleaner.state.floatbank5_a_level  \\\n",
              "0                                 -432.317850   \n",
              "1                                 -525.839648   \n",
              "2                                 -500.801673   \n",
              "3                                 -500.868509   \n",
              "4                                 -509.526725   \n",
              "\n",
              "   secondary_cleaner.state.floatbank5_b_air  \\\n",
              "0                                  4.872511   \n",
              "1                                  4.878850   \n",
              "2                                  4.905125   \n",
              "3                                  4.931400   \n",
              "4                                  4.957674   \n",
              "\n",
              "   secondary_cleaner.state.floatbank5_b_level  \\\n",
              "0                                 -500.037437   \n",
              "1                                 -500.162375   \n",
              "2                                 -499.828510   \n",
              "3                                 -499.963623   \n",
              "4                                 -500.360026   \n",
              "\n",
              "   secondary_cleaner.state.floatbank6_a_air  \\\n",
              "0                                 26.705889   \n",
              "1                                 25.019940   \n",
              "2                                 24.994862   \n",
              "3                                 24.948919   \n",
              "4                                 25.003331   \n",
              "\n",
              "   secondary_cleaner.state.floatbank6_a_level  \n",
              "0                                 -499.709414  \n",
              "1                                 -499.819438  \n",
              "2                                 -500.622559  \n",
              "3                                 -498.709987  \n",
              "4                                 -500.856333  "
            ],
            "text/html": [
              "\n",
              "  <div id=\"df-ac4883cc-9311-4ccc-8eee-70c8b717d532\">\n",
              "    <div class=\"colab-df-container\">\n",
              "      <div>\n",
              "<style scoped>\n",
              "    .dataframe tbody tr th:only-of-type {\n",
              "        vertical-align: middle;\n",
              "    }\n",
              "\n",
              "    .dataframe tbody tr th {\n",
              "        vertical-align: top;\n",
              "    }\n",
              "\n",
              "    .dataframe thead th {\n",
              "        text-align: right;\n",
              "    }\n",
              "</style>\n",
              "<table border=\"1\" class=\"dataframe\">\n",
              "  <thead>\n",
              "    <tr style=\"text-align: right;\">\n",
              "      <th></th>\n",
              "      <th>date</th>\n",
              "      <th>primary_cleaner.input.sulfate</th>\n",
              "      <th>primary_cleaner.input.depressant</th>\n",
              "      <th>primary_cleaner.input.feed_size</th>\n",
              "      <th>primary_cleaner.input.xanthate</th>\n",
              "      <th>primary_cleaner.state.floatbank8_a_air</th>\n",
              "      <th>primary_cleaner.state.floatbank8_a_level</th>\n",
              "      <th>primary_cleaner.state.floatbank8_b_air</th>\n",
              "      <th>primary_cleaner.state.floatbank8_b_level</th>\n",
              "      <th>primary_cleaner.state.floatbank8_c_air</th>\n",
              "      <th>primary_cleaner.state.floatbank8_c_level</th>\n",
              "      <th>primary_cleaner.state.floatbank8_d_air</th>\n",
              "      <th>primary_cleaner.state.floatbank8_d_level</th>\n",
              "      <th>rougher.input.feed_ag</th>\n",
              "      <th>rougher.input.feed_pb</th>\n",
              "      <th>rougher.input.feed_rate</th>\n",
              "      <th>rougher.input.feed_size</th>\n",
              "      <th>rougher.input.feed_sol</th>\n",
              "      <th>rougher.input.feed_au</th>\n",
              "      <th>rougher.input.floatbank10_sulfate</th>\n",
              "      <th>rougher.input.floatbank10_xanthate</th>\n",
              "      <th>rougher.input.floatbank11_sulfate</th>\n",
              "      <th>rougher.input.floatbank11_xanthate</th>\n",
              "      <th>rougher.state.floatbank10_a_air</th>\n",
              "      <th>rougher.state.floatbank10_a_level</th>\n",
              "      <th>rougher.state.floatbank10_b_air</th>\n",
              "      <th>rougher.state.floatbank10_b_level</th>\n",
              "      <th>rougher.state.floatbank10_c_air</th>\n",
              "      <th>rougher.state.floatbank10_c_level</th>\n",
              "      <th>rougher.state.floatbank10_d_air</th>\n",
              "      <th>rougher.state.floatbank10_d_level</th>\n",
              "      <th>rougher.state.floatbank10_e_air</th>\n",
              "      <th>rougher.state.floatbank10_e_level</th>\n",
              "      <th>rougher.state.floatbank10_f_air</th>\n",
              "      <th>rougher.state.floatbank10_f_level</th>\n",
              "      <th>secondary_cleaner.state.floatbank2_a_air</th>\n",
              "      <th>secondary_cleaner.state.floatbank2_a_level</th>\n",
              "      <th>secondary_cleaner.state.floatbank2_b_air</th>\n",
              "      <th>secondary_cleaner.state.floatbank2_b_level</th>\n",
              "      <th>secondary_cleaner.state.floatbank3_a_air</th>\n",
              "      <th>secondary_cleaner.state.floatbank3_a_level</th>\n",
              "      <th>secondary_cleaner.state.floatbank3_b_air</th>\n",
              "      <th>secondary_cleaner.state.floatbank3_b_level</th>\n",
              "      <th>secondary_cleaner.state.floatbank4_a_air</th>\n",
              "      <th>secondary_cleaner.state.floatbank4_a_level</th>\n",
              "      <th>secondary_cleaner.state.floatbank4_b_air</th>\n",
              "      <th>secondary_cleaner.state.floatbank4_b_level</th>\n",
              "      <th>secondary_cleaner.state.floatbank5_a_air</th>\n",
              "      <th>secondary_cleaner.state.floatbank5_a_level</th>\n",
              "      <th>secondary_cleaner.state.floatbank5_b_air</th>\n",
              "      <th>secondary_cleaner.state.floatbank5_b_level</th>\n",
              "      <th>secondary_cleaner.state.floatbank6_a_air</th>\n",
              "      <th>secondary_cleaner.state.floatbank6_a_level</th>\n",
              "    </tr>\n",
              "  </thead>\n",
              "  <tbody>\n",
              "    <tr>\n",
              "      <th>0</th>\n",
              "      <td>2016-09-01 00:59:59</td>\n",
              "      <td>210.800909</td>\n",
              "      <td>14.993118</td>\n",
              "      <td>8.080000</td>\n",
              "      <td>1.005021</td>\n",
              "      <td>1398.981301</td>\n",
              "      <td>-500.225577</td>\n",
              "      <td>1399.144926</td>\n",
              "      <td>-499.919735</td>\n",
              "      <td>1400.102998</td>\n",
              "      <td>-500.704369</td>\n",
              "      <td>1399.001695</td>\n",
              "      <td>-499.485144</td>\n",
              "      <td>13.128569</td>\n",
              "      <td>5.636710</td>\n",
              "      <td>489.793655</td>\n",
              "      <td>62.710452</td>\n",
              "      <td>42.022440</td>\n",
              "      <td>12.084103</td>\n",
              "      <td>16.922877</td>\n",
              "      <td>6.153479</td>\n",
              "      <td>16.867518</td>\n",
              "      <td>6.150709</td>\n",
              "      <td>1001.849317</td>\n",
              "      <td>-350.301265</td>\n",
              "      <td>1249.738612</td>\n",
              "      <td>-399.107531</td>\n",
              "      <td>1249.750520</td>\n",
              "      <td>-399.396730</td>\n",
              "      <td>1198.287855</td>\n",
              "      <td>-399.488594</td>\n",
              "      <td>999.472250</td>\n",
              "      <td>-399.530962</td>\n",
              "      <td>949.566189</td>\n",
              "      <td>-398.180807</td>\n",
              "      <td>24.938200</td>\n",
              "      <td>-500.490963</td>\n",
              "      <td>14.947607</td>\n",
              "      <td>-500.013837</td>\n",
              "      <td>20.018166</td>\n",
              "      <td>-450.395995</td>\n",
              "      <td>13.987058</td>\n",
              "      <td>-449.831513</td>\n",
              "      <td>12.023554</td>\n",
              "      <td>-497.795834</td>\n",
              "      <td>8.016656</td>\n",
              "      <td>-501.289139</td>\n",
              "      <td>7.946562</td>\n",
              "      <td>-432.317850</td>\n",
              "      <td>4.872511</td>\n",
              "      <td>-500.037437</td>\n",
              "      <td>26.705889</td>\n",
              "      <td>-499.709414</td>\n",
              "    </tr>\n",
              "    <tr>\n",
              "      <th>1</th>\n",
              "      <td>2016-09-01 01:59:59</td>\n",
              "      <td>215.392455</td>\n",
              "      <td>14.987471</td>\n",
              "      <td>8.080000</td>\n",
              "      <td>0.990469</td>\n",
              "      <td>1398.777912</td>\n",
              "      <td>-500.057435</td>\n",
              "      <td>1398.055362</td>\n",
              "      <td>-499.778182</td>\n",
              "      <td>1396.151033</td>\n",
              "      <td>-499.240168</td>\n",
              "      <td>1399.508091</td>\n",
              "      <td>-500.416324</td>\n",
              "      <td>13.036280</td>\n",
              "      <td>5.526065</td>\n",
              "      <td>490.104534</td>\n",
              "      <td>61.961163</td>\n",
              "      <td>41.187903</td>\n",
              "      <td>11.918977</td>\n",
              "      <td>17.002532</td>\n",
              "      <td>5.999043</td>\n",
              "      <td>16.996063</td>\n",
              "      <td>6.002315</td>\n",
              "      <td>998.690785</td>\n",
              "      <td>-350.425704</td>\n",
              "      <td>1248.395457</td>\n",
              "      <td>-399.946025</td>\n",
              "      <td>1249.514451</td>\n",
              "      <td>-399.630810</td>\n",
              "      <td>1200.506459</td>\n",
              "      <td>-399.942434</td>\n",
              "      <td>1000.002114</td>\n",
              "      <td>-399.491528</td>\n",
              "      <td>950.200009</td>\n",
              "      <td>-405.787514</td>\n",
              "      <td>24.923466</td>\n",
              "      <td>-499.813963</td>\n",
              "      <td>14.930873</td>\n",
              "      <td>-500.764452</td>\n",
              "      <td>19.988503</td>\n",
              "      <td>-450.114024</td>\n",
              "      <td>14.092981</td>\n",
              "      <td>-450.059163</td>\n",
              "      <td>12.058140</td>\n",
              "      <td>-498.695773</td>\n",
              "      <td>8.130979</td>\n",
              "      <td>-499.634209</td>\n",
              "      <td>7.958270</td>\n",
              "      <td>-525.839648</td>\n",
              "      <td>4.878850</td>\n",
              "      <td>-500.162375</td>\n",
              "      <td>25.019940</td>\n",
              "      <td>-499.819438</td>\n",
              "    </tr>\n",
              "    <tr>\n",
              "      <th>2</th>\n",
              "      <td>2016-09-01 02:59:59</td>\n",
              "      <td>215.259946</td>\n",
              "      <td>12.884934</td>\n",
              "      <td>7.786667</td>\n",
              "      <td>0.996043</td>\n",
              "      <td>1398.493666</td>\n",
              "      <td>-500.868360</td>\n",
              "      <td>1398.860436</td>\n",
              "      <td>-499.764529</td>\n",
              "      <td>1398.075709</td>\n",
              "      <td>-502.151509</td>\n",
              "      <td>1399.497088</td>\n",
              "      <td>-499.715479</td>\n",
              "      <td>13.138412</td>\n",
              "      <td>5.426561</td>\n",
              "      <td>489.617969</td>\n",
              "      <td>66.903807</td>\n",
              "      <td>42.546294</td>\n",
              "      <td>12.091332</td>\n",
              "      <td>16.992520</td>\n",
              "      <td>5.850632</td>\n",
              "      <td>16.982096</td>\n",
              "      <td>5.853594</td>\n",
              "      <td>998.516720</td>\n",
              "      <td>-349.783538</td>\n",
              "      <td>1247.440748</td>\n",
              "      <td>-400.264330</td>\n",
              "      <td>1248.207204</td>\n",
              "      <td>-401.074405</td>\n",
              "      <td>1199.770026</td>\n",
              "      <td>-400.790582</td>\n",
              "      <td>999.925519</td>\n",
              "      <td>-399.236999</td>\n",
              "      <td>950.320481</td>\n",
              "      <td>-400.864340</td>\n",
              "      <td>24.908732</td>\n",
              "      <td>-500.304035</td>\n",
              "      <td>14.996511</td>\n",
              "      <td>-500.993821</td>\n",
              "      <td>20.039689</td>\n",
              "      <td>-450.263164</td>\n",
              "      <td>14.077881</td>\n",
              "      <td>-449.660997</td>\n",
              "      <td>11.962366</td>\n",
              "      <td>-498.767484</td>\n",
              "      <td>8.096893</td>\n",
              "      <td>-500.827423</td>\n",
              "      <td>8.071056</td>\n",
              "      <td>-500.801673</td>\n",
              "      <td>4.905125</td>\n",
              "      <td>-499.828510</td>\n",
              "      <td>24.994862</td>\n",
              "      <td>-500.622559</td>\n",
              "    </tr>\n",
              "    <tr>\n",
              "      <th>3</th>\n",
              "      <td>2016-09-01 03:59:59</td>\n",
              "      <td>215.336236</td>\n",
              "      <td>12.006805</td>\n",
              "      <td>7.640000</td>\n",
              "      <td>0.863514</td>\n",
              "      <td>1399.618111</td>\n",
              "      <td>-498.863574</td>\n",
              "      <td>1397.440120</td>\n",
              "      <td>-499.211024</td>\n",
              "      <td>1400.129303</td>\n",
              "      <td>-498.355873</td>\n",
              "      <td>1401.065165</td>\n",
              "      <td>-501.038738</td>\n",
              "      <td>12.400507</td>\n",
              "      <td>5.114758</td>\n",
              "      <td>476.618130</td>\n",
              "      <td>59.865919</td>\n",
              "      <td>41.060195</td>\n",
              "      <td>12.181597</td>\n",
              "      <td>16.532144</td>\n",
              "      <td>5.801935</td>\n",
              "      <td>16.515277</td>\n",
              "      <td>5.803657</td>\n",
              "      <td>1000.276604</td>\n",
              "      <td>-350.172597</td>\n",
              "      <td>1251.322675</td>\n",
              "      <td>-398.655289</td>\n",
              "      <td>1250.493702</td>\n",
              "      <td>-399.746728</td>\n",
              "      <td>1199.398691</td>\n",
              "      <td>-397.503052</td>\n",
              "      <td>1001.930679</td>\n",
              "      <td>-400.437573</td>\n",
              "      <td>950.735324</td>\n",
              "      <td>-399.802986</td>\n",
              "      <td>24.893998</td>\n",
              "      <td>-499.382374</td>\n",
              "      <td>14.916674</td>\n",
              "      <td>-499.862299</td>\n",
              "      <td>20.031100</td>\n",
              "      <td>-449.372570</td>\n",
              "      <td>14.013968</td>\n",
              "      <td>-449.526900</td>\n",
              "      <td>12.033091</td>\n",
              "      <td>-498.350935</td>\n",
              "      <td>8.074946</td>\n",
              "      <td>-499.474407</td>\n",
              "      <td>7.897085</td>\n",
              "      <td>-500.868509</td>\n",
              "      <td>4.931400</td>\n",
              "      <td>-499.963623</td>\n",
              "      <td>24.948919</td>\n",
              "      <td>-498.709987</td>\n",
              "    </tr>\n",
              "    <tr>\n",
              "      <th>4</th>\n",
              "      <td>2016-09-01 04:59:59</td>\n",
              "      <td>199.099327</td>\n",
              "      <td>10.682530</td>\n",
              "      <td>7.530000</td>\n",
              "      <td>0.805575</td>\n",
              "      <td>1401.268123</td>\n",
              "      <td>-500.808305</td>\n",
              "      <td>1398.128818</td>\n",
              "      <td>-499.504543</td>\n",
              "      <td>1402.172226</td>\n",
              "      <td>-500.810606</td>\n",
              "      <td>1399.480508</td>\n",
              "      <td>-499.374053</td>\n",
              "      <td>11.327427</td>\n",
              "      <td>4.767383</td>\n",
              "      <td>488.248117</td>\n",
              "      <td>63.315324</td>\n",
              "      <td>41.269161</td>\n",
              "      <td>11.290425</td>\n",
              "      <td>13.607257</td>\n",
              "      <td>5.738081</td>\n",
              "      <td>13.650053</td>\n",
              "      <td>5.739634</td>\n",
              "      <td>996.541302</td>\n",
              "      <td>-350.562517</td>\n",
              "      <td>1304.658848</td>\n",
              "      <td>-399.511519</td>\n",
              "      <td>1306.455515</td>\n",
              "      <td>-399.050685</td>\n",
              "      <td>1248.699349</td>\n",
              "      <td>-400.876894</td>\n",
              "      <td>1058.839106</td>\n",
              "      <td>-398.988239</td>\n",
              "      <td>949.645313</td>\n",
              "      <td>-399.277632</td>\n",
              "      <td>24.886905</td>\n",
              "      <td>-499.357375</td>\n",
              "      <td>14.979233</td>\n",
              "      <td>-500.186804</td>\n",
              "      <td>19.962364</td>\n",
              "      <td>-450.638828</td>\n",
              "      <td>14.009245</td>\n",
              "      <td>-450.022259</td>\n",
              "      <td>12.025367</td>\n",
              "      <td>-500.786497</td>\n",
              "      <td>8.054678</td>\n",
              "      <td>-500.397500</td>\n",
              "      <td>8.107890</td>\n",
              "      <td>-509.526725</td>\n",
              "      <td>4.957674</td>\n",
              "      <td>-500.360026</td>\n",
              "      <td>25.003331</td>\n",
              "      <td>-500.856333</td>\n",
              "    </tr>\n",
              "  </tbody>\n",
              "</table>\n",
              "</div>\n",
              "      <button class=\"colab-df-convert\" onclick=\"convertToInteractive('df-ac4883cc-9311-4ccc-8eee-70c8b717d532')\"\n",
              "              title=\"Convert this dataframe to an interactive table.\"\n",
              "              style=\"display:none;\">\n",
              "        \n",
              "  <svg xmlns=\"http://www.w3.org/2000/svg\" height=\"24px\"viewBox=\"0 0 24 24\"\n",
              "       width=\"24px\">\n",
              "    <path d=\"M0 0h24v24H0V0z\" fill=\"none\"/>\n",
              "    <path d=\"M18.56 5.44l.94 2.06.94-2.06 2.06-.94-2.06-.94-.94-2.06-.94 2.06-2.06.94zm-11 1L8.5 8.5l.94-2.06 2.06-.94-2.06-.94L8.5 2.5l-.94 2.06-2.06.94zm10 10l.94 2.06.94-2.06 2.06-.94-2.06-.94-.94-2.06-.94 2.06-2.06.94z\"/><path d=\"M17.41 7.96l-1.37-1.37c-.4-.4-.92-.59-1.43-.59-.52 0-1.04.2-1.43.59L10.3 9.45l-7.72 7.72c-.78.78-.78 2.05 0 2.83L4 21.41c.39.39.9.59 1.41.59.51 0 1.02-.2 1.41-.59l7.78-7.78 2.81-2.81c.8-.78.8-2.07 0-2.86zM5.41 20L4 18.59l7.72-7.72 1.47 1.35L5.41 20z\"/>\n",
              "  </svg>\n",
              "      </button>\n",
              "      \n",
              "  <style>\n",
              "    .colab-df-container {\n",
              "      display:flex;\n",
              "      flex-wrap:wrap;\n",
              "      gap: 12px;\n",
              "    }\n",
              "\n",
              "    .colab-df-convert {\n",
              "      background-color: #E8F0FE;\n",
              "      border: none;\n",
              "      border-radius: 50%;\n",
              "      cursor: pointer;\n",
              "      display: none;\n",
              "      fill: #1967D2;\n",
              "      height: 32px;\n",
              "      padding: 0 0 0 0;\n",
              "      width: 32px;\n",
              "    }\n",
              "\n",
              "    .colab-df-convert:hover {\n",
              "      background-color: #E2EBFA;\n",
              "      box-shadow: 0px 1px 2px rgba(60, 64, 67, 0.3), 0px 1px 3px 1px rgba(60, 64, 67, 0.15);\n",
              "      fill: #174EA6;\n",
              "    }\n",
              "\n",
              "    [theme=dark] .colab-df-convert {\n",
              "      background-color: #3B4455;\n",
              "      fill: #D2E3FC;\n",
              "    }\n",
              "\n",
              "    [theme=dark] .colab-df-convert:hover {\n",
              "      background-color: #434B5C;\n",
              "      box-shadow: 0px 1px 3px 1px rgba(0, 0, 0, 0.15);\n",
              "      filter: drop-shadow(0px 1px 2px rgba(0, 0, 0, 0.3));\n",
              "      fill: #FFFFFF;\n",
              "    }\n",
              "  </style>\n",
              "\n",
              "      <script>\n",
              "        const buttonEl =\n",
              "          document.querySelector('#df-ac4883cc-9311-4ccc-8eee-70c8b717d532 button.colab-df-convert');\n",
              "        buttonEl.style.display =\n",
              "          google.colab.kernel.accessAllowed ? 'block' : 'none';\n",
              "\n",
              "        async function convertToInteractive(key) {\n",
              "          const element = document.querySelector('#df-ac4883cc-9311-4ccc-8eee-70c8b717d532');\n",
              "          const dataTable =\n",
              "            await google.colab.kernel.invokeFunction('convertToInteractive',\n",
              "                                                     [key], {});\n",
              "          if (!dataTable) return;\n",
              "\n",
              "          const docLinkHtml = 'Like what you see? Visit the ' +\n",
              "            '<a target=\"_blank\" href=https://colab.research.google.com/notebooks/data_table.ipynb>data table notebook</a>'\n",
              "            + ' to learn more about interactive tables.';\n",
              "          element.innerHTML = '';\n",
              "          dataTable['output_type'] = 'display_data';\n",
              "          await google.colab.output.renderOutput(dataTable, element);\n",
              "          const docLink = document.createElement('div');\n",
              "          docLink.innerHTML = docLinkHtml;\n",
              "          element.appendChild(docLink);\n",
              "        }\n",
              "      </script>\n",
              "    </div>\n",
              "  </div>\n",
              "  "
            ]
          },
          "metadata": {}
        },
        {
          "output_type": "stream",
          "name": "stdout",
          "text": [
            "-----------------\n",
            "Общая информация\n",
            "<class 'pandas.core.frame.DataFrame'>\n",
            "RangeIndex: 5290 entries, 0 to 5289\n",
            "Data columns (total 53 columns):\n",
            " #   Column                                      Non-Null Count  Dtype  \n",
            "---  ------                                      --------------  -----  \n",
            " 0   date                                        5290 non-null   object \n",
            " 1   primary_cleaner.input.sulfate               5286 non-null   float64\n",
            " 2   primary_cleaner.input.depressant            5285 non-null   float64\n",
            " 3   primary_cleaner.input.feed_size             5290 non-null   float64\n",
            " 4   primary_cleaner.input.xanthate              5286 non-null   float64\n",
            " 5   primary_cleaner.state.floatbank8_a_air      5290 non-null   float64\n",
            " 6   primary_cleaner.state.floatbank8_a_level    5290 non-null   float64\n",
            " 7   primary_cleaner.state.floatbank8_b_air      5290 non-null   float64\n",
            " 8   primary_cleaner.state.floatbank8_b_level    5290 non-null   float64\n",
            " 9   primary_cleaner.state.floatbank8_c_air      5290 non-null   float64\n",
            " 10  primary_cleaner.state.floatbank8_c_level    5290 non-null   float64\n",
            " 11  primary_cleaner.state.floatbank8_d_air      5290 non-null   float64\n",
            " 12  primary_cleaner.state.floatbank8_d_level    5290 non-null   float64\n",
            " 13  rougher.input.feed_ag                       5290 non-null   float64\n",
            " 14  rougher.input.feed_pb                       5290 non-null   float64\n",
            " 15  rougher.input.feed_rate                     5287 non-null   float64\n",
            " 16  rougher.input.feed_size                     5289 non-null   float64\n",
            " 17  rougher.input.feed_sol                      5269 non-null   float64\n",
            " 18  rougher.input.feed_au                       5290 non-null   float64\n",
            " 19  rougher.input.floatbank10_sulfate           5285 non-null   float64\n",
            " 20  rougher.input.floatbank10_xanthate          5290 non-null   float64\n",
            " 21  rougher.input.floatbank11_sulfate           5282 non-null   float64\n",
            " 22  rougher.input.floatbank11_xanthate          5265 non-null   float64\n",
            " 23  rougher.state.floatbank10_a_air             5290 non-null   float64\n",
            " 24  rougher.state.floatbank10_a_level           5290 non-null   float64\n",
            " 25  rougher.state.floatbank10_b_air             5290 non-null   float64\n",
            " 26  rougher.state.floatbank10_b_level           5290 non-null   float64\n",
            " 27  rougher.state.floatbank10_c_air             5290 non-null   float64\n",
            " 28  rougher.state.floatbank10_c_level           5290 non-null   float64\n",
            " 29  rougher.state.floatbank10_d_air             5290 non-null   float64\n",
            " 30  rougher.state.floatbank10_d_level           5290 non-null   float64\n",
            " 31  rougher.state.floatbank10_e_air             5290 non-null   float64\n",
            " 32  rougher.state.floatbank10_e_level           5290 non-null   float64\n",
            " 33  rougher.state.floatbank10_f_air             5290 non-null   float64\n",
            " 34  rougher.state.floatbank10_f_level           5290 non-null   float64\n",
            " 35  secondary_cleaner.state.floatbank2_a_air    5287 non-null   float64\n",
            " 36  secondary_cleaner.state.floatbank2_a_level  5290 non-null   float64\n",
            " 37  secondary_cleaner.state.floatbank2_b_air    5288 non-null   float64\n",
            " 38  secondary_cleaner.state.floatbank2_b_level  5290 non-null   float64\n",
            " 39  secondary_cleaner.state.floatbank3_a_air    5281 non-null   float64\n",
            " 40  secondary_cleaner.state.floatbank3_a_level  5290 non-null   float64\n",
            " 41  secondary_cleaner.state.floatbank3_b_air    5290 non-null   float64\n",
            " 42  secondary_cleaner.state.floatbank3_b_level  5290 non-null   float64\n",
            " 43  secondary_cleaner.state.floatbank4_a_air    5290 non-null   float64\n",
            " 44  secondary_cleaner.state.floatbank4_a_level  5290 non-null   float64\n",
            " 45  secondary_cleaner.state.floatbank4_b_air    5290 non-null   float64\n",
            " 46  secondary_cleaner.state.floatbank4_b_level  5290 non-null   float64\n",
            " 47  secondary_cleaner.state.floatbank5_a_air    5290 non-null   float64\n",
            " 48  secondary_cleaner.state.floatbank5_a_level  5290 non-null   float64\n",
            " 49  secondary_cleaner.state.floatbank5_b_air    5290 non-null   float64\n",
            " 50  secondary_cleaner.state.floatbank5_b_level  5290 non-null   float64\n",
            " 51  secondary_cleaner.state.floatbank6_a_air    5290 non-null   float64\n",
            " 52  secondary_cleaner.state.floatbank6_a_level  5290 non-null   float64\n",
            "dtypes: float64(52), object(1)\n",
            "memory usage: 2.1+ MB\n",
            "-----------------\n",
            "Описание данных\n"
          ]
        },
        {
          "output_type": "display_data",
          "data": {
            "text/plain": [
              "       primary_cleaner.input.sulfate  primary_cleaner.input.depressant  \\\n",
              "count                    5286.000000                       5285.000000   \n",
              "mean                      174.839652                          8.683596   \n",
              "std                        43.027080                          3.072050   \n",
              "min                         2.566156                          0.003839   \n",
              "25%                       147.121401                          6.489555   \n",
              "50%                       177.828489                          8.052207   \n",
              "75%                       208.125438                         10.027764   \n",
              "max                       265.983123                         40.000000   \n",
              "\n",
              "       primary_cleaner.input.feed_size  primary_cleaner.input.xanthate  \\\n",
              "count                      5290.000000                     5286.000000   \n",
              "mean                          7.266339                        1.383803   \n",
              "std                           0.610219                        0.643474   \n",
              "min                           5.650000                        0.004984   \n",
              "25%                           6.890000                        0.907623   \n",
              "50%                           7.250000                        1.197610   \n",
              "75%                           7.600000                        1.797819   \n",
              "max                          15.500000                        4.102454   \n",
              "\n",
              "       primary_cleaner.state.floatbank8_a_air  \\\n",
              "count                            5.290000e+03   \n",
              "mean                             1.539494e+03   \n",
              "std                              1.167979e+02   \n",
              "min                              5.445860e-32   \n",
              "25%                              1.498936e+03   \n",
              "50%                              1.585129e+03   \n",
              "75%                              1.602077e+03   \n",
              "max                              2.103104e+03   \n",
              "\n",
              "       primary_cleaner.state.floatbank8_a_level  \\\n",
              "count                               5290.000000   \n",
              "mean                                -497.665883   \n",
              "std                                   19.952431   \n",
              "min                                 -795.316337   \n",
              "25%                                 -500.357298   \n",
              "50%                                 -499.969164   \n",
              "75%                                 -499.568951   \n",
              "max                                  -57.195404   \n",
              "\n",
              "       primary_cleaner.state.floatbank8_b_air  \\\n",
              "count                            5.290000e+03   \n",
              "mean                             1.545174e+03   \n",
              "std                              1.222246e+02   \n",
              "min                              6.647490e-32   \n",
              "25%                              1.498971e+03   \n",
              "50%                              1.595622e+03   \n",
              "75%                              1.602324e+03   \n",
              "max                              1.813084e+03   \n",
              "\n",
              "       primary_cleaner.state.floatbank8_b_level  \\\n",
              "count                               5290.000000   \n",
              "mean                                -500.273098   \n",
              "std                                   32.968307   \n",
              "min                                 -799.997015   \n",
              "25%                                 -500.703002   \n",
              "50%                                 -500.028514   \n",
              "75%                                 -499.293257   \n",
              "max                                 -142.527229   \n",
              "\n",
              "       primary_cleaner.state.floatbank8_c_air  \\\n",
              "count                            5.290000e+03   \n",
              "mean                             1.527272e+03   \n",
              "std                              1.225380e+02   \n",
              "min                              4.033736e-32   \n",
              "25%                              1.473230e+03   \n",
              "50%                              1.549595e+03   \n",
              "75%                              1.601144e+03   \n",
              "max                              1.715054e+03   \n",
              "\n",
              "       primary_cleaner.state.floatbank8_c_level  \\\n",
              "count                               5290.000000   \n",
              "mean                                -498.330680   \n",
              "std                                   21.964876   \n",
              "min                                 -799.960571   \n",
              "25%                                 -501.018117   \n",
              "50%                                 -500.017711   \n",
              "75%                                 -498.994130   \n",
              "max                                 -150.937035   \n",
              "\n",
              "       primary_cleaner.state.floatbank8_d_air  \\\n",
              "count                            5.290000e+03   \n",
              "mean                             1.544844e+03   \n",
              "std                              1.247731e+02   \n",
              "min                              4.039220e-32   \n",
              "25%                              1.499481e+03   \n",
              "50%                              1.594579e+03   \n",
              "75%                              1.600965e+03   \n",
              "max                              1.913257e+03   \n",
              "\n",
              "       primary_cleaner.state.floatbank8_d_level  rougher.input.feed_ag  \\\n",
              "count                               5290.000000            5290.000000   \n",
              "mean                                -500.199527               9.371940   \n",
              "std                                   31.045257               1.926264   \n",
              "min                                 -799.794250               0.568441   \n",
              "25%                                 -500.452469               8.112434   \n",
              "50%                                 -500.023307               9.762654   \n",
              "75%                                 -499.607040              10.652297   \n",
              "max                                 -158.950573              14.406130   \n",
              "\n",
              "       rougher.input.feed_pb  rougher.input.feed_rate  \\\n",
              "count            5290.000000              5287.000000   \n",
              "mean                3.798082               489.800620   \n",
              "std                 0.954859               108.036326   \n",
              "min                 0.273677                 0.002986   \n",
              "25%                 3.240251               407.020883   \n",
              "50%                 3.740716               499.051440   \n",
              "75%                 4.282634               575.307213   \n",
              "max                 6.905684               707.364020   \n",
              "\n",
              "       rougher.input.feed_size  rougher.input.feed_sol  rougher.input.feed_au  \\\n",
              "count              5289.000000             5269.000000            5290.000000   \n",
              "mean                 55.951097               37.716648               9.334682   \n",
              "std                  19.081758                5.491415               1.619521   \n",
              "min                   0.046369                1.393488               0.568632   \n",
              "25%                  43.906347               34.505576               8.207814   \n",
              "50%                  50.841029               37.980276               9.593766   \n",
              "75%                  62.431047               41.635385              10.463538   \n",
              "max                 392.494040               53.477742              13.731330   \n",
              "\n",
              "       rougher.input.floatbank10_sulfate  rougher.input.floatbank10_xanthate  \\\n",
              "count                        5285.000000                         5290.000000   \n",
              "mean                           13.855759                            6.467745   \n",
              "std                             3.350852                            1.065114   \n",
              "min                             0.001147                            0.000568   \n",
              "25%                            11.995006                            5.998779   \n",
              "50%                            14.003126                            6.498181   \n",
              "75%                            16.974284                            7.085457   \n",
              "max                            24.280636                            8.910468   \n",
              "\n",
              "       rougher.input.floatbank11_sulfate  rougher.input.floatbank11_xanthate  \\\n",
              "count                        5282.000000                         5265.000000   \n",
              "mean                           13.922328                            6.512103   \n",
              "std                             3.223769                            0.886989   \n",
              "min                             0.000077                            0.006985   \n",
              "25%                            11.997200                            5.999157   \n",
              "50%                            14.004371                            6.498744   \n",
              "75%                            16.959671                            7.091808   \n",
              "max                            24.280966                            8.621338   \n",
              "\n",
              "       rougher.state.floatbank10_a_air  rougher.state.floatbank10_a_level  \\\n",
              "count                      5290.000000                        5290.000000   \n",
              "mean                       1053.400166                        -395.732530   \n",
              "std                         121.139309                          91.085505   \n",
              "min                          -0.042069                        -657.949759   \n",
              "25%                         999.205344                        -499.920565   \n",
              "50%                        1000.472055                        -399.693363   \n",
              "75%                        1006.254299                        -300.060056   \n",
              "max                        1423.274687                        -273.776101   \n",
              "\n",
              "       rougher.state.floatbank10_b_air  rougher.state.floatbank10_b_level  \\\n",
              "count                      5290.000000                        5290.000000   \n",
              "mean                       1318.926879                        -475.241428   \n",
              "std                         156.450366                          45.649466   \n",
              "min                          -0.721806                        -650.245277   \n",
              "25%                        1200.871883                        -500.256114   \n",
              "50%                        1302.254995                        -499.837803   \n",
              "75%                        1433.955649                        -450.749619   \n",
              "max                        1706.640419                        -298.200051   \n",
              "\n",
              "       rougher.state.floatbank10_c_air  rougher.state.floatbank10_c_level  \\\n",
              "count                      5290.000000                        5290.000000   \n",
              "mean                       1301.595477                        -474.836671   \n",
              "std                         171.269667                          45.859866   \n",
              "min                          -0.056636                        -647.544439   \n",
              "25%                        1199.651371                        -500.233831   \n",
              "50%                        1300.202274                        -499.777222   \n",
              "75%                        1406.594956                        -451.153188   \n",
              "max                        1731.017788                        -298.036852   \n",
              "\n",
              "       rougher.state.floatbank10_d_air  rougher.state.floatbank10_d_level  \\\n",
              "count                      5290.000000                        5290.000000   \n",
              "mean                       1214.847960                        -475.682272   \n",
              "std                         185.763319                          47.844967   \n",
              "min                          -0.992219                        -648.390665   \n",
              "25%                        1093.368068                        -500.440610   \n",
              "50%                        1207.014092                        -499.691917   \n",
              "75%                        1391.497269                        -452.483463   \n",
              "max                        1775.218584                         -76.397327   \n",
              "\n",
              "       rougher.state.floatbank10_e_air  rougher.state.floatbank10_e_level  \\\n",
              "count                      5290.000000                        5290.000000   \n",
              "mean                       1056.648995                        -469.029688   \n",
              "std                         131.542839                          59.325990   \n",
              "min                          -1.982295                        -649.267537   \n",
              "25%                         999.361403                        -500.190639   \n",
              "50%                        1047.495449                        -499.765796   \n",
              "75%                        1101.365315                        -450.957513   \n",
              "max                        1467.184843                        -139.753025   \n",
              "\n",
              "       rougher.state.floatbank10_f_air  rougher.state.floatbank10_f_level  \\\n",
              "count                      5290.000000                        5290.000000   \n",
              "mean                        997.949719                        -470.482465   \n",
              "std                         128.218869                          60.759318   \n",
              "min                          -2.593390                        -649.949283   \n",
              "25%                         901.024994                        -500.624783   \n",
              "50%                         999.441879                        -499.680986   \n",
              "75%                        1050.433005                        -451.986460   \n",
              "max                        1476.588107                        -249.801043   \n",
              "\n",
              "       secondary_cleaner.state.floatbank2_a_air  \\\n",
              "count                               5287.000000   \n",
              "mean                                  26.312630   \n",
              "std                                    3.429852   \n",
              "min                                    0.205329   \n",
              "25%                                   24.942328   \n",
              "50%                                   26.910569   \n",
              "75%                                   28.091885   \n",
              "max                                   32.138727   \n",
              "\n",
              "       secondary_cleaner.state.floatbank2_a_level  \\\n",
              "count                                 5290.000000   \n",
              "mean                                  -502.750897   \n",
              "std                                     28.756505   \n",
              "min                                   -784.091091   \n",
              "25%                                   -500.206517   \n",
              "50%                                   -500.003902   \n",
              "75%                                   -499.791639   \n",
              "max                                   -300.343670   \n",
              "\n",
              "       secondary_cleaner.state.floatbank2_b_air  \\\n",
              "count                               5288.000000   \n",
              "mean                                  21.949119   \n",
              "std                                    4.354961   \n",
              "min                                    0.006064   \n",
              "25%                                   20.002315   \n",
              "50%                                   22.942603   \n",
              "75%                                   24.985013   \n",
              "max                                   28.165864   \n",
              "\n",
              "       secondary_cleaner.state.floatbank2_b_level  \\\n",
              "count                                 5290.000000   \n",
              "mean                                  -501.987097   \n",
              "std                                     34.582722   \n",
              "min                                   -797.783989   \n",
              "25%                                   -500.218030   \n",
              "50%                                   -500.019058   \n",
              "75%                                   -499.831532   \n",
              "max                                   -211.999273   \n",
              "\n",
              "       secondary_cleaner.state.floatbank3_a_air  \\\n",
              "count                               5281.000000   \n",
              "mean                                  25.402926   \n",
              "std                                    6.526457   \n",
              "min                                    0.000000   \n",
              "25%                                   22.982288   \n",
              "50%                                   25.010105   \n",
              "75%                                   30.002063   \n",
              "max                                   40.041997   \n",
              "\n",
              "       secondary_cleaner.state.floatbank3_a_level  \\\n",
              "count                                 5290.000000   \n",
              "mean                                  -507.490314   \n",
              "std                                     47.620908   \n",
              "min                                   -799.755798   \n",
              "25%                                   -500.297951   \n",
              "50%                                   -500.034578   \n",
              "75%                                   -499.780163   \n",
              "max                                   -313.866425   \n",
              "\n",
              "       secondary_cleaner.state.floatbank3_b_air  \\\n",
              "count                              5.290000e+03   \n",
              "mean                               2.098211e+01   \n",
              "std                                6.736179e+00   \n",
              "min                                1.521587e-17   \n",
              "25%                                1.796786e+01   \n",
              "50%                                2.100316e+01   \n",
              "75%                                2.697698e+01   \n",
              "max                                3.203936e+01   \n",
              "\n",
              "       secondary_cleaner.state.floatbank3_b_level  \\\n",
              "count                                 5290.000000   \n",
              "mean                                  -506.627916   \n",
              "std                                     44.528673   \n",
              "min                                   -809.333008   \n",
              "25%                                   -500.145128   \n",
              "50%                                   -500.013819   \n",
              "75%                                   -499.890608   \n",
              "max                                   -202.277366   \n",
              "\n",
              "       secondary_cleaner.state.floatbank4_a_air  \\\n",
              "count                              5.290000e+03   \n",
              "mean                               1.632007e+01   \n",
              "std                                3.493583e+00   \n",
              "min                                1.079872e-16   \n",
              "25%                                1.403618e+01   \n",
              "50%                                1.700847e+01   \n",
              "75%                                1.803862e+01   \n",
              "max                                3.005180e+01   \n",
              "\n",
              "       secondary_cleaner.state.floatbank4_a_level  \\\n",
              "count                                 5290.000000   \n",
              "mean                                  -505.144570   \n",
              "std                                     31.427337   \n",
              "min                                   -799.798523   \n",
              "25%                                   -500.868258   \n",
              "50%                                   -500.115727   \n",
              "75%                                   -499.404224   \n",
              "max                                   -401.565212   \n",
              "\n",
              "       secondary_cleaner.state.floatbank4_b_air  \\\n",
              "count                              5.290000e+03   \n",
              "mean                               1.373544e+01   \n",
              "std                                3.430484e+00   \n",
              "min                                2.489718e-17   \n",
              "25%                                1.202862e+01   \n",
              "50%                                1.496486e+01   \n",
              "75%                                1.596213e+01   \n",
              "max                                3.126971e+01   \n",
              "\n",
              "       secondary_cleaner.state.floatbank4_b_level  \\\n",
              "count                                 5290.000000   \n",
              "mean                                  -463.349858   \n",
              "std                                     86.189107   \n",
              "min                                   -800.836914   \n",
              "25%                                   -500.323028   \n",
              "50%                                   -499.576513   \n",
              "75%                                   -400.933805   \n",
              "max                                     -6.506986   \n",
              "\n",
              "       secondary_cleaner.state.floatbank5_a_air  \\\n",
              "count                               5290.000000   \n",
              "mean                                  12.804186   \n",
              "std                                    3.026591   \n",
              "min                                    0.069227   \n",
              "25%                                   10.914838   \n",
              "50%                                   12.954182   \n",
              "75%                                   15.097528   \n",
              "max                                   25.258848   \n",
              "\n",
              "       secondary_cleaner.state.floatbank5_a_level  \\\n",
              "count                                 5290.000000   \n",
              "mean                                  -501.329122   \n",
              "std                                     17.951495   \n",
              "min                                   -797.323986   \n",
              "25%                                   -500.726841   \n",
              "50%                                   -499.990332   \n",
              "75%                                   -499.283191   \n",
              "max                                   -244.483566   \n",
              "\n",
              "       secondary_cleaner.state.floatbank5_b_air  \\\n",
              "count                               5290.000000   \n",
              "mean                                   9.881145   \n",
              "std                                    2.868205   \n",
              "min                                    0.528083   \n",
              "25%                                    8.036719   \n",
              "50%                                   10.004301   \n",
              "75%                                   11.997467   \n",
              "max                                   14.086866   \n",
              "\n",
              "       secondary_cleaner.state.floatbank5_b_level  \\\n",
              "count                                 5290.000000   \n",
              "mean                                  -495.663398   \n",
              "std                                     34.535007   \n",
              "min                                   -800.220337   \n",
              "25%                                   -500.194668   \n",
              "50%                                   -499.990535   \n",
              "75%                                   -499.719913   \n",
              "max                                   -137.740004   \n",
              "\n",
              "       secondary_cleaner.state.floatbank6_a_air  \\\n",
              "count                               5290.000000   \n",
              "mean                                  17.304935   \n",
              "std                                    4.536544   \n",
              "min                                   -0.079426   \n",
              "25%                                   13.997317   \n",
              "50%                                   16.014935   \n",
              "75%                                   21.020013   \n",
              "max                                   26.705889   \n",
              "\n",
              "       secondary_cleaner.state.floatbank6_a_level  \n",
              "count                                 5290.000000  \n",
              "mean                                  -501.793193  \n",
              "std                                     39.044215  \n",
              "min                                   -809.741464  \n",
              "25%                                   -500.690984  \n",
              "50%                                   -500.007126  \n",
              "75%                                   -499.373018  \n",
              "max                                   -123.307487  "
            ],
            "text/html": [
              "\n",
              "  <div id=\"df-28b20954-eb7e-4c26-87a4-527171c9116d\">\n",
              "    <div class=\"colab-df-container\">\n",
              "      <div>\n",
              "<style scoped>\n",
              "    .dataframe tbody tr th:only-of-type {\n",
              "        vertical-align: middle;\n",
              "    }\n",
              "\n",
              "    .dataframe tbody tr th {\n",
              "        vertical-align: top;\n",
              "    }\n",
              "\n",
              "    .dataframe thead th {\n",
              "        text-align: right;\n",
              "    }\n",
              "</style>\n",
              "<table border=\"1\" class=\"dataframe\">\n",
              "  <thead>\n",
              "    <tr style=\"text-align: right;\">\n",
              "      <th></th>\n",
              "      <th>primary_cleaner.input.sulfate</th>\n",
              "      <th>primary_cleaner.input.depressant</th>\n",
              "      <th>primary_cleaner.input.feed_size</th>\n",
              "      <th>primary_cleaner.input.xanthate</th>\n",
              "      <th>primary_cleaner.state.floatbank8_a_air</th>\n",
              "      <th>primary_cleaner.state.floatbank8_a_level</th>\n",
              "      <th>primary_cleaner.state.floatbank8_b_air</th>\n",
              "      <th>primary_cleaner.state.floatbank8_b_level</th>\n",
              "      <th>primary_cleaner.state.floatbank8_c_air</th>\n",
              "      <th>primary_cleaner.state.floatbank8_c_level</th>\n",
              "      <th>primary_cleaner.state.floatbank8_d_air</th>\n",
              "      <th>primary_cleaner.state.floatbank8_d_level</th>\n",
              "      <th>rougher.input.feed_ag</th>\n",
              "      <th>rougher.input.feed_pb</th>\n",
              "      <th>rougher.input.feed_rate</th>\n",
              "      <th>rougher.input.feed_size</th>\n",
              "      <th>rougher.input.feed_sol</th>\n",
              "      <th>rougher.input.feed_au</th>\n",
              "      <th>rougher.input.floatbank10_sulfate</th>\n",
              "      <th>rougher.input.floatbank10_xanthate</th>\n",
              "      <th>rougher.input.floatbank11_sulfate</th>\n",
              "      <th>rougher.input.floatbank11_xanthate</th>\n",
              "      <th>rougher.state.floatbank10_a_air</th>\n",
              "      <th>rougher.state.floatbank10_a_level</th>\n",
              "      <th>rougher.state.floatbank10_b_air</th>\n",
              "      <th>rougher.state.floatbank10_b_level</th>\n",
              "      <th>rougher.state.floatbank10_c_air</th>\n",
              "      <th>rougher.state.floatbank10_c_level</th>\n",
              "      <th>rougher.state.floatbank10_d_air</th>\n",
              "      <th>rougher.state.floatbank10_d_level</th>\n",
              "      <th>rougher.state.floatbank10_e_air</th>\n",
              "      <th>rougher.state.floatbank10_e_level</th>\n",
              "      <th>rougher.state.floatbank10_f_air</th>\n",
              "      <th>rougher.state.floatbank10_f_level</th>\n",
              "      <th>secondary_cleaner.state.floatbank2_a_air</th>\n",
              "      <th>secondary_cleaner.state.floatbank2_a_level</th>\n",
              "      <th>secondary_cleaner.state.floatbank2_b_air</th>\n",
              "      <th>secondary_cleaner.state.floatbank2_b_level</th>\n",
              "      <th>secondary_cleaner.state.floatbank3_a_air</th>\n",
              "      <th>secondary_cleaner.state.floatbank3_a_level</th>\n",
              "      <th>secondary_cleaner.state.floatbank3_b_air</th>\n",
              "      <th>secondary_cleaner.state.floatbank3_b_level</th>\n",
              "      <th>secondary_cleaner.state.floatbank4_a_air</th>\n",
              "      <th>secondary_cleaner.state.floatbank4_a_level</th>\n",
              "      <th>secondary_cleaner.state.floatbank4_b_air</th>\n",
              "      <th>secondary_cleaner.state.floatbank4_b_level</th>\n",
              "      <th>secondary_cleaner.state.floatbank5_a_air</th>\n",
              "      <th>secondary_cleaner.state.floatbank5_a_level</th>\n",
              "      <th>secondary_cleaner.state.floatbank5_b_air</th>\n",
              "      <th>secondary_cleaner.state.floatbank5_b_level</th>\n",
              "      <th>secondary_cleaner.state.floatbank6_a_air</th>\n",
              "      <th>secondary_cleaner.state.floatbank6_a_level</th>\n",
              "    </tr>\n",
              "  </thead>\n",
              "  <tbody>\n",
              "    <tr>\n",
              "      <th>count</th>\n",
              "      <td>5286.000000</td>\n",
              "      <td>5285.000000</td>\n",
              "      <td>5290.000000</td>\n",
              "      <td>5286.000000</td>\n",
              "      <td>5.290000e+03</td>\n",
              "      <td>5290.000000</td>\n",
              "      <td>5.290000e+03</td>\n",
              "      <td>5290.000000</td>\n",
              "      <td>5.290000e+03</td>\n",
              "      <td>5290.000000</td>\n",
              "      <td>5.290000e+03</td>\n",
              "      <td>5290.000000</td>\n",
              "      <td>5290.000000</td>\n",
              "      <td>5290.000000</td>\n",
              "      <td>5287.000000</td>\n",
              "      <td>5289.000000</td>\n",
              "      <td>5269.000000</td>\n",
              "      <td>5290.000000</td>\n",
              "      <td>5285.000000</td>\n",
              "      <td>5290.000000</td>\n",
              "      <td>5282.000000</td>\n",
              "      <td>5265.000000</td>\n",
              "      <td>5290.000000</td>\n",
              "      <td>5290.000000</td>\n",
              "      <td>5290.000000</td>\n",
              "      <td>5290.000000</td>\n",
              "      <td>5290.000000</td>\n",
              "      <td>5290.000000</td>\n",
              "      <td>5290.000000</td>\n",
              "      <td>5290.000000</td>\n",
              "      <td>5290.000000</td>\n",
              "      <td>5290.000000</td>\n",
              "      <td>5290.000000</td>\n",
              "      <td>5290.000000</td>\n",
              "      <td>5287.000000</td>\n",
              "      <td>5290.000000</td>\n",
              "      <td>5288.000000</td>\n",
              "      <td>5290.000000</td>\n",
              "      <td>5281.000000</td>\n",
              "      <td>5290.000000</td>\n",
              "      <td>5.290000e+03</td>\n",
              "      <td>5290.000000</td>\n",
              "      <td>5.290000e+03</td>\n",
              "      <td>5290.000000</td>\n",
              "      <td>5.290000e+03</td>\n",
              "      <td>5290.000000</td>\n",
              "      <td>5290.000000</td>\n",
              "      <td>5290.000000</td>\n",
              "      <td>5290.000000</td>\n",
              "      <td>5290.000000</td>\n",
              "      <td>5290.000000</td>\n",
              "      <td>5290.000000</td>\n",
              "    </tr>\n",
              "    <tr>\n",
              "      <th>mean</th>\n",
              "      <td>174.839652</td>\n",
              "      <td>8.683596</td>\n",
              "      <td>7.266339</td>\n",
              "      <td>1.383803</td>\n",
              "      <td>1.539494e+03</td>\n",
              "      <td>-497.665883</td>\n",
              "      <td>1.545174e+03</td>\n",
              "      <td>-500.273098</td>\n",
              "      <td>1.527272e+03</td>\n",
              "      <td>-498.330680</td>\n",
              "      <td>1.544844e+03</td>\n",
              "      <td>-500.199527</td>\n",
              "      <td>9.371940</td>\n",
              "      <td>3.798082</td>\n",
              "      <td>489.800620</td>\n",
              "      <td>55.951097</td>\n",
              "      <td>37.716648</td>\n",
              "      <td>9.334682</td>\n",
              "      <td>13.855759</td>\n",
              "      <td>6.467745</td>\n",
              "      <td>13.922328</td>\n",
              "      <td>6.512103</td>\n",
              "      <td>1053.400166</td>\n",
              "      <td>-395.732530</td>\n",
              "      <td>1318.926879</td>\n",
              "      <td>-475.241428</td>\n",
              "      <td>1301.595477</td>\n",
              "      <td>-474.836671</td>\n",
              "      <td>1214.847960</td>\n",
              "      <td>-475.682272</td>\n",
              "      <td>1056.648995</td>\n",
              "      <td>-469.029688</td>\n",
              "      <td>997.949719</td>\n",
              "      <td>-470.482465</td>\n",
              "      <td>26.312630</td>\n",
              "      <td>-502.750897</td>\n",
              "      <td>21.949119</td>\n",
              "      <td>-501.987097</td>\n",
              "      <td>25.402926</td>\n",
              "      <td>-507.490314</td>\n",
              "      <td>2.098211e+01</td>\n",
              "      <td>-506.627916</td>\n",
              "      <td>1.632007e+01</td>\n",
              "      <td>-505.144570</td>\n",
              "      <td>1.373544e+01</td>\n",
              "      <td>-463.349858</td>\n",
              "      <td>12.804186</td>\n",
              "      <td>-501.329122</td>\n",
              "      <td>9.881145</td>\n",
              "      <td>-495.663398</td>\n",
              "      <td>17.304935</td>\n",
              "      <td>-501.793193</td>\n",
              "    </tr>\n",
              "    <tr>\n",
              "      <th>std</th>\n",
              "      <td>43.027080</td>\n",
              "      <td>3.072050</td>\n",
              "      <td>0.610219</td>\n",
              "      <td>0.643474</td>\n",
              "      <td>1.167979e+02</td>\n",
              "      <td>19.952431</td>\n",
              "      <td>1.222246e+02</td>\n",
              "      <td>32.968307</td>\n",
              "      <td>1.225380e+02</td>\n",
              "      <td>21.964876</td>\n",
              "      <td>1.247731e+02</td>\n",
              "      <td>31.045257</td>\n",
              "      <td>1.926264</td>\n",
              "      <td>0.954859</td>\n",
              "      <td>108.036326</td>\n",
              "      <td>19.081758</td>\n",
              "      <td>5.491415</td>\n",
              "      <td>1.619521</td>\n",
              "      <td>3.350852</td>\n",
              "      <td>1.065114</td>\n",
              "      <td>3.223769</td>\n",
              "      <td>0.886989</td>\n",
              "      <td>121.139309</td>\n",
              "      <td>91.085505</td>\n",
              "      <td>156.450366</td>\n",
              "      <td>45.649466</td>\n",
              "      <td>171.269667</td>\n",
              "      <td>45.859866</td>\n",
              "      <td>185.763319</td>\n",
              "      <td>47.844967</td>\n",
              "      <td>131.542839</td>\n",
              "      <td>59.325990</td>\n",
              "      <td>128.218869</td>\n",
              "      <td>60.759318</td>\n",
              "      <td>3.429852</td>\n",
              "      <td>28.756505</td>\n",
              "      <td>4.354961</td>\n",
              "      <td>34.582722</td>\n",
              "      <td>6.526457</td>\n",
              "      <td>47.620908</td>\n",
              "      <td>6.736179e+00</td>\n",
              "      <td>44.528673</td>\n",
              "      <td>3.493583e+00</td>\n",
              "      <td>31.427337</td>\n",
              "      <td>3.430484e+00</td>\n",
              "      <td>86.189107</td>\n",
              "      <td>3.026591</td>\n",
              "      <td>17.951495</td>\n",
              "      <td>2.868205</td>\n",
              "      <td>34.535007</td>\n",
              "      <td>4.536544</td>\n",
              "      <td>39.044215</td>\n",
              "    </tr>\n",
              "    <tr>\n",
              "      <th>min</th>\n",
              "      <td>2.566156</td>\n",
              "      <td>0.003839</td>\n",
              "      <td>5.650000</td>\n",
              "      <td>0.004984</td>\n",
              "      <td>5.445860e-32</td>\n",
              "      <td>-795.316337</td>\n",
              "      <td>6.647490e-32</td>\n",
              "      <td>-799.997015</td>\n",
              "      <td>4.033736e-32</td>\n",
              "      <td>-799.960571</td>\n",
              "      <td>4.039220e-32</td>\n",
              "      <td>-799.794250</td>\n",
              "      <td>0.568441</td>\n",
              "      <td>0.273677</td>\n",
              "      <td>0.002986</td>\n",
              "      <td>0.046369</td>\n",
              "      <td>1.393488</td>\n",
              "      <td>0.568632</td>\n",
              "      <td>0.001147</td>\n",
              "      <td>0.000568</td>\n",
              "      <td>0.000077</td>\n",
              "      <td>0.006985</td>\n",
              "      <td>-0.042069</td>\n",
              "      <td>-657.949759</td>\n",
              "      <td>-0.721806</td>\n",
              "      <td>-650.245277</td>\n",
              "      <td>-0.056636</td>\n",
              "      <td>-647.544439</td>\n",
              "      <td>-0.992219</td>\n",
              "      <td>-648.390665</td>\n",
              "      <td>-1.982295</td>\n",
              "      <td>-649.267537</td>\n",
              "      <td>-2.593390</td>\n",
              "      <td>-649.949283</td>\n",
              "      <td>0.205329</td>\n",
              "      <td>-784.091091</td>\n",
              "      <td>0.006064</td>\n",
              "      <td>-797.783989</td>\n",
              "      <td>0.000000</td>\n",
              "      <td>-799.755798</td>\n",
              "      <td>1.521587e-17</td>\n",
              "      <td>-809.333008</td>\n",
              "      <td>1.079872e-16</td>\n",
              "      <td>-799.798523</td>\n",
              "      <td>2.489718e-17</td>\n",
              "      <td>-800.836914</td>\n",
              "      <td>0.069227</td>\n",
              "      <td>-797.323986</td>\n",
              "      <td>0.528083</td>\n",
              "      <td>-800.220337</td>\n",
              "      <td>-0.079426</td>\n",
              "      <td>-809.741464</td>\n",
              "    </tr>\n",
              "    <tr>\n",
              "      <th>25%</th>\n",
              "      <td>147.121401</td>\n",
              "      <td>6.489555</td>\n",
              "      <td>6.890000</td>\n",
              "      <td>0.907623</td>\n",
              "      <td>1.498936e+03</td>\n",
              "      <td>-500.357298</td>\n",
              "      <td>1.498971e+03</td>\n",
              "      <td>-500.703002</td>\n",
              "      <td>1.473230e+03</td>\n",
              "      <td>-501.018117</td>\n",
              "      <td>1.499481e+03</td>\n",
              "      <td>-500.452469</td>\n",
              "      <td>8.112434</td>\n",
              "      <td>3.240251</td>\n",
              "      <td>407.020883</td>\n",
              "      <td>43.906347</td>\n",
              "      <td>34.505576</td>\n",
              "      <td>8.207814</td>\n",
              "      <td>11.995006</td>\n",
              "      <td>5.998779</td>\n",
              "      <td>11.997200</td>\n",
              "      <td>5.999157</td>\n",
              "      <td>999.205344</td>\n",
              "      <td>-499.920565</td>\n",
              "      <td>1200.871883</td>\n",
              "      <td>-500.256114</td>\n",
              "      <td>1199.651371</td>\n",
              "      <td>-500.233831</td>\n",
              "      <td>1093.368068</td>\n",
              "      <td>-500.440610</td>\n",
              "      <td>999.361403</td>\n",
              "      <td>-500.190639</td>\n",
              "      <td>901.024994</td>\n",
              "      <td>-500.624783</td>\n",
              "      <td>24.942328</td>\n",
              "      <td>-500.206517</td>\n",
              "      <td>20.002315</td>\n",
              "      <td>-500.218030</td>\n",
              "      <td>22.982288</td>\n",
              "      <td>-500.297951</td>\n",
              "      <td>1.796786e+01</td>\n",
              "      <td>-500.145128</td>\n",
              "      <td>1.403618e+01</td>\n",
              "      <td>-500.868258</td>\n",
              "      <td>1.202862e+01</td>\n",
              "      <td>-500.323028</td>\n",
              "      <td>10.914838</td>\n",
              "      <td>-500.726841</td>\n",
              "      <td>8.036719</td>\n",
              "      <td>-500.194668</td>\n",
              "      <td>13.997317</td>\n",
              "      <td>-500.690984</td>\n",
              "    </tr>\n",
              "    <tr>\n",
              "      <th>50%</th>\n",
              "      <td>177.828489</td>\n",
              "      <td>8.052207</td>\n",
              "      <td>7.250000</td>\n",
              "      <td>1.197610</td>\n",
              "      <td>1.585129e+03</td>\n",
              "      <td>-499.969164</td>\n",
              "      <td>1.595622e+03</td>\n",
              "      <td>-500.028514</td>\n",
              "      <td>1.549595e+03</td>\n",
              "      <td>-500.017711</td>\n",
              "      <td>1.594579e+03</td>\n",
              "      <td>-500.023307</td>\n",
              "      <td>9.762654</td>\n",
              "      <td>3.740716</td>\n",
              "      <td>499.051440</td>\n",
              "      <td>50.841029</td>\n",
              "      <td>37.980276</td>\n",
              "      <td>9.593766</td>\n",
              "      <td>14.003126</td>\n",
              "      <td>6.498181</td>\n",
              "      <td>14.004371</td>\n",
              "      <td>6.498744</td>\n",
              "      <td>1000.472055</td>\n",
              "      <td>-399.693363</td>\n",
              "      <td>1302.254995</td>\n",
              "      <td>-499.837803</td>\n",
              "      <td>1300.202274</td>\n",
              "      <td>-499.777222</td>\n",
              "      <td>1207.014092</td>\n",
              "      <td>-499.691917</td>\n",
              "      <td>1047.495449</td>\n",
              "      <td>-499.765796</td>\n",
              "      <td>999.441879</td>\n",
              "      <td>-499.680986</td>\n",
              "      <td>26.910569</td>\n",
              "      <td>-500.003902</td>\n",
              "      <td>22.942603</td>\n",
              "      <td>-500.019058</td>\n",
              "      <td>25.010105</td>\n",
              "      <td>-500.034578</td>\n",
              "      <td>2.100316e+01</td>\n",
              "      <td>-500.013819</td>\n",
              "      <td>1.700847e+01</td>\n",
              "      <td>-500.115727</td>\n",
              "      <td>1.496486e+01</td>\n",
              "      <td>-499.576513</td>\n",
              "      <td>12.954182</td>\n",
              "      <td>-499.990332</td>\n",
              "      <td>10.004301</td>\n",
              "      <td>-499.990535</td>\n",
              "      <td>16.014935</td>\n",
              "      <td>-500.007126</td>\n",
              "    </tr>\n",
              "    <tr>\n",
              "      <th>75%</th>\n",
              "      <td>208.125438</td>\n",
              "      <td>10.027764</td>\n",
              "      <td>7.600000</td>\n",
              "      <td>1.797819</td>\n",
              "      <td>1.602077e+03</td>\n",
              "      <td>-499.568951</td>\n",
              "      <td>1.602324e+03</td>\n",
              "      <td>-499.293257</td>\n",
              "      <td>1.601144e+03</td>\n",
              "      <td>-498.994130</td>\n",
              "      <td>1.600965e+03</td>\n",
              "      <td>-499.607040</td>\n",
              "      <td>10.652297</td>\n",
              "      <td>4.282634</td>\n",
              "      <td>575.307213</td>\n",
              "      <td>62.431047</td>\n",
              "      <td>41.635385</td>\n",
              "      <td>10.463538</td>\n",
              "      <td>16.974284</td>\n",
              "      <td>7.085457</td>\n",
              "      <td>16.959671</td>\n",
              "      <td>7.091808</td>\n",
              "      <td>1006.254299</td>\n",
              "      <td>-300.060056</td>\n",
              "      <td>1433.955649</td>\n",
              "      <td>-450.749619</td>\n",
              "      <td>1406.594956</td>\n",
              "      <td>-451.153188</td>\n",
              "      <td>1391.497269</td>\n",
              "      <td>-452.483463</td>\n",
              "      <td>1101.365315</td>\n",
              "      <td>-450.957513</td>\n",
              "      <td>1050.433005</td>\n",
              "      <td>-451.986460</td>\n",
              "      <td>28.091885</td>\n",
              "      <td>-499.791639</td>\n",
              "      <td>24.985013</td>\n",
              "      <td>-499.831532</td>\n",
              "      <td>30.002063</td>\n",
              "      <td>-499.780163</td>\n",
              "      <td>2.697698e+01</td>\n",
              "      <td>-499.890608</td>\n",
              "      <td>1.803862e+01</td>\n",
              "      <td>-499.404224</td>\n",
              "      <td>1.596213e+01</td>\n",
              "      <td>-400.933805</td>\n",
              "      <td>15.097528</td>\n",
              "      <td>-499.283191</td>\n",
              "      <td>11.997467</td>\n",
              "      <td>-499.719913</td>\n",
              "      <td>21.020013</td>\n",
              "      <td>-499.373018</td>\n",
              "    </tr>\n",
              "    <tr>\n",
              "      <th>max</th>\n",
              "      <td>265.983123</td>\n",
              "      <td>40.000000</td>\n",
              "      <td>15.500000</td>\n",
              "      <td>4.102454</td>\n",
              "      <td>2.103104e+03</td>\n",
              "      <td>-57.195404</td>\n",
              "      <td>1.813084e+03</td>\n",
              "      <td>-142.527229</td>\n",
              "      <td>1.715054e+03</td>\n",
              "      <td>-150.937035</td>\n",
              "      <td>1.913257e+03</td>\n",
              "      <td>-158.950573</td>\n",
              "      <td>14.406130</td>\n",
              "      <td>6.905684</td>\n",
              "      <td>707.364020</td>\n",
              "      <td>392.494040</td>\n",
              "      <td>53.477742</td>\n",
              "      <td>13.731330</td>\n",
              "      <td>24.280636</td>\n",
              "      <td>8.910468</td>\n",
              "      <td>24.280966</td>\n",
              "      <td>8.621338</td>\n",
              "      <td>1423.274687</td>\n",
              "      <td>-273.776101</td>\n",
              "      <td>1706.640419</td>\n",
              "      <td>-298.200051</td>\n",
              "      <td>1731.017788</td>\n",
              "      <td>-298.036852</td>\n",
              "      <td>1775.218584</td>\n",
              "      <td>-76.397327</td>\n",
              "      <td>1467.184843</td>\n",
              "      <td>-139.753025</td>\n",
              "      <td>1476.588107</td>\n",
              "      <td>-249.801043</td>\n",
              "      <td>32.138727</td>\n",
              "      <td>-300.343670</td>\n",
              "      <td>28.165864</td>\n",
              "      <td>-211.999273</td>\n",
              "      <td>40.041997</td>\n",
              "      <td>-313.866425</td>\n",
              "      <td>3.203936e+01</td>\n",
              "      <td>-202.277366</td>\n",
              "      <td>3.005180e+01</td>\n",
              "      <td>-401.565212</td>\n",
              "      <td>3.126971e+01</td>\n",
              "      <td>-6.506986</td>\n",
              "      <td>25.258848</td>\n",
              "      <td>-244.483566</td>\n",
              "      <td>14.086866</td>\n",
              "      <td>-137.740004</td>\n",
              "      <td>26.705889</td>\n",
              "      <td>-123.307487</td>\n",
              "    </tr>\n",
              "  </tbody>\n",
              "</table>\n",
              "</div>\n",
              "      <button class=\"colab-df-convert\" onclick=\"convertToInteractive('df-28b20954-eb7e-4c26-87a4-527171c9116d')\"\n",
              "              title=\"Convert this dataframe to an interactive table.\"\n",
              "              style=\"display:none;\">\n",
              "        \n",
              "  <svg xmlns=\"http://www.w3.org/2000/svg\" height=\"24px\"viewBox=\"0 0 24 24\"\n",
              "       width=\"24px\">\n",
              "    <path d=\"M0 0h24v24H0V0z\" fill=\"none\"/>\n",
              "    <path d=\"M18.56 5.44l.94 2.06.94-2.06 2.06-.94-2.06-.94-.94-2.06-.94 2.06-2.06.94zm-11 1L8.5 8.5l.94-2.06 2.06-.94-2.06-.94L8.5 2.5l-.94 2.06-2.06.94zm10 10l.94 2.06.94-2.06 2.06-.94-2.06-.94-.94-2.06-.94 2.06-2.06.94z\"/><path d=\"M17.41 7.96l-1.37-1.37c-.4-.4-.92-.59-1.43-.59-.52 0-1.04.2-1.43.59L10.3 9.45l-7.72 7.72c-.78.78-.78 2.05 0 2.83L4 21.41c.39.39.9.59 1.41.59.51 0 1.02-.2 1.41-.59l7.78-7.78 2.81-2.81c.8-.78.8-2.07 0-2.86zM5.41 20L4 18.59l7.72-7.72 1.47 1.35L5.41 20z\"/>\n",
              "  </svg>\n",
              "      </button>\n",
              "      \n",
              "  <style>\n",
              "    .colab-df-container {\n",
              "      display:flex;\n",
              "      flex-wrap:wrap;\n",
              "      gap: 12px;\n",
              "    }\n",
              "\n",
              "    .colab-df-convert {\n",
              "      background-color: #E8F0FE;\n",
              "      border: none;\n",
              "      border-radius: 50%;\n",
              "      cursor: pointer;\n",
              "      display: none;\n",
              "      fill: #1967D2;\n",
              "      height: 32px;\n",
              "      padding: 0 0 0 0;\n",
              "      width: 32px;\n",
              "    }\n",
              "\n",
              "    .colab-df-convert:hover {\n",
              "      background-color: #E2EBFA;\n",
              "      box-shadow: 0px 1px 2px rgba(60, 64, 67, 0.3), 0px 1px 3px 1px rgba(60, 64, 67, 0.15);\n",
              "      fill: #174EA6;\n",
              "    }\n",
              "\n",
              "    [theme=dark] .colab-df-convert {\n",
              "      background-color: #3B4455;\n",
              "      fill: #D2E3FC;\n",
              "    }\n",
              "\n",
              "    [theme=dark] .colab-df-convert:hover {\n",
              "      background-color: #434B5C;\n",
              "      box-shadow: 0px 1px 3px 1px rgba(0, 0, 0, 0.15);\n",
              "      filter: drop-shadow(0px 1px 2px rgba(0, 0, 0, 0.3));\n",
              "      fill: #FFFFFF;\n",
              "    }\n",
              "  </style>\n",
              "\n",
              "      <script>\n",
              "        const buttonEl =\n",
              "          document.querySelector('#df-28b20954-eb7e-4c26-87a4-527171c9116d button.colab-df-convert');\n",
              "        buttonEl.style.display =\n",
              "          google.colab.kernel.accessAllowed ? 'block' : 'none';\n",
              "\n",
              "        async function convertToInteractive(key) {\n",
              "          const element = document.querySelector('#df-28b20954-eb7e-4c26-87a4-527171c9116d');\n",
              "          const dataTable =\n",
              "            await google.colab.kernel.invokeFunction('convertToInteractive',\n",
              "                                                     [key], {});\n",
              "          if (!dataTable) return;\n",
              "\n",
              "          const docLinkHtml = 'Like what you see? Visit the ' +\n",
              "            '<a target=\"_blank\" href=https://colab.research.google.com/notebooks/data_table.ipynb>data table notebook</a>'\n",
              "            + ' to learn more about interactive tables.';\n",
              "          element.innerHTML = '';\n",
              "          dataTable['output_type'] = 'display_data';\n",
              "          await google.colab.output.renderOutput(dataTable, element);\n",
              "          const docLink = document.createElement('div');\n",
              "          docLink.innerHTML = docLinkHtml;\n",
              "          element.appendChild(docLink);\n",
              "        }\n",
              "      </script>\n",
              "    </div>\n",
              "  </div>\n",
              "  "
            ]
          },
          "metadata": {}
        },
        {
          "output_type": "stream",
          "name": "stdout",
          "text": [
            "-----------------\n",
            "Количество пропусков\n",
            "rougher.input.floatbank11_xanthate            25\n",
            "rougher.input.feed_sol                        21\n",
            "secondary_cleaner.state.floatbank3_a_air       9\n",
            "rougher.input.floatbank11_sulfate              8\n",
            "primary_cleaner.input.depressant               5\n",
            "rougher.input.floatbank10_sulfate              5\n",
            "primary_cleaner.input.xanthate                 4\n",
            "primary_cleaner.input.sulfate                  4\n",
            "rougher.input.feed_rate                        3\n",
            "secondary_cleaner.state.floatbank2_a_air       3\n",
            "secondary_cleaner.state.floatbank2_b_air       2\n",
            "rougher.input.feed_size                        1\n",
            "secondary_cleaner.state.floatbank2_b_level     0\n",
            "rougher.state.floatbank10_f_level              0\n",
            "rougher.state.floatbank10_f_air                0\n",
            "secondary_cleaner.state.floatbank3_a_level     0\n",
            "secondary_cleaner.state.floatbank2_a_level     0\n",
            "date                                           0\n",
            "rougher.state.floatbank10_e_air                0\n",
            "secondary_cleaner.state.floatbank3_b_air       0\n",
            "secondary_cleaner.state.floatbank3_b_level     0\n",
            "secondary_cleaner.state.floatbank4_a_air       0\n",
            "secondary_cleaner.state.floatbank4_a_level     0\n",
            "secondary_cleaner.state.floatbank4_b_air       0\n",
            "secondary_cleaner.state.floatbank4_b_level     0\n",
            "secondary_cleaner.state.floatbank5_a_air       0\n",
            "secondary_cleaner.state.floatbank5_a_level     0\n",
            "secondary_cleaner.state.floatbank5_b_air       0\n",
            "secondary_cleaner.state.floatbank5_b_level     0\n",
            "secondary_cleaner.state.floatbank6_a_air       0\n",
            "rougher.state.floatbank10_e_level              0\n",
            "rougher.state.floatbank10_b_level              0\n",
            "rougher.state.floatbank10_d_level              0\n",
            "primary_cleaner.state.floatbank8_d_level       0\n",
            "primary_cleaner.input.feed_size                0\n",
            "primary_cleaner.state.floatbank8_a_air         0\n",
            "primary_cleaner.state.floatbank8_a_level       0\n",
            "primary_cleaner.state.floatbank8_b_air         0\n",
            "primary_cleaner.state.floatbank8_b_level       0\n",
            "primary_cleaner.state.floatbank8_c_air         0\n",
            "primary_cleaner.state.floatbank8_c_level       0\n",
            "primary_cleaner.state.floatbank8_d_air         0\n",
            "rougher.input.feed_ag                          0\n",
            "rougher.state.floatbank10_d_air                0\n",
            "rougher.input.feed_pb                          0\n",
            "rougher.input.feed_au                          0\n",
            "rougher.input.floatbank10_xanthate             0\n",
            "rougher.state.floatbank10_a_air                0\n",
            "rougher.state.floatbank10_a_level              0\n",
            "rougher.state.floatbank10_b_air                0\n",
            "rougher.state.floatbank10_c_air                0\n",
            "rougher.state.floatbank10_c_level              0\n",
            "secondary_cleaner.state.floatbank6_a_level     0\n",
            "dtype: int64\n",
            "-----------------\n",
            "Размер выборки\n",
            "(5290, 53)\n"
          ]
        }
      ]
    },
    {
      "cell_type": "code",
      "source": [
        "open_data(full_data)"
      ],
      "metadata": {
        "colab": {
          "base_uri": "https://localhost:8080/",
          "height": 1000
        },
        "id": "fVMAzTCbwERC",
        "outputId": "2b5aaffe-04f7-440b-ccc1-7abaccdeeaca"
      },
      "execution_count": 7,
      "outputs": [
        {
          "output_type": "display_data",
          "data": {
            "text/plain": [
              "                  date  final.output.concentrate_ag  \\\n",
              "0  2016-01-15 00:00:00                     6.055403   \n",
              "1  2016-01-15 01:00:00                     6.029369   \n",
              "2  2016-01-15 02:00:00                     6.055926   \n",
              "3  2016-01-15 03:00:00                     6.047977   \n",
              "4  2016-01-15 04:00:00                     6.148599   \n",
              "\n",
              "   final.output.concentrate_pb  final.output.concentrate_sol  \\\n",
              "0                     9.889648                      5.507324   \n",
              "1                     9.968944                      5.257781   \n",
              "2                    10.213995                      5.383759   \n",
              "3                     9.977019                      4.858634   \n",
              "4                    10.142511                      4.939416   \n",
              "\n",
              "   final.output.concentrate_au  final.output.recovery  final.output.tail_ag  \\\n",
              "0                    42.192020              70.541216             10.411962   \n",
              "1                    42.701629              69.266198             10.462676   \n",
              "2                    42.657501              68.116445             10.507046   \n",
              "3                    42.689819              68.347543             10.422762   \n",
              "4                    42.774141              66.927016             10.360302   \n",
              "\n",
              "   final.output.tail_pb  final.output.tail_sol  final.output.tail_au  \\\n",
              "0              0.895447              16.904297              2.143149   \n",
              "1              0.927452              16.634514              2.224930   \n",
              "2              0.953716              16.208849              2.257889   \n",
              "3              0.883763              16.532835              2.146849   \n",
              "4              0.792826              16.525686              2.055292   \n",
              "\n",
              "   primary_cleaner.input.sulfate  primary_cleaner.input.depressant  \\\n",
              "0                     127.092003                         10.128295   \n",
              "1                     125.629232                         10.296251   \n",
              "2                     123.819808                         11.316280   \n",
              "3                     122.270188                         11.322140   \n",
              "4                     117.988169                         11.913613   \n",
              "\n",
              "   primary_cleaner.input.feed_size  primary_cleaner.input.xanthate  \\\n",
              "0                             7.25                        0.988759   \n",
              "1                             7.25                        1.002663   \n",
              "2                             7.25                        0.991265   \n",
              "3                             7.25                        0.996739   \n",
              "4                             7.25                        1.009869   \n",
              "\n",
              "   primary_cleaner.output.concentrate_ag  \\\n",
              "0                               8.547551   \n",
              "1                               8.558743   \n",
              "2                               8.603505   \n",
              "3                               7.221879   \n",
              "4                               9.089428   \n",
              "\n",
              "   primary_cleaner.output.concentrate_pb  \\\n",
              "0                              10.389648   \n",
              "1                              10.497069   \n",
              "2                              10.354494   \n",
              "3                               8.496563   \n",
              "4                               9.986786   \n",
              "\n",
              "   primary_cleaner.output.concentrate_sol  \\\n",
              "0                               19.529297   \n",
              "1                               19.369147   \n",
              "2                               19.167579   \n",
              "3                               15.978538   \n",
              "4                               19.199864   \n",
              "\n",
              "   primary_cleaner.output.concentrate_au  primary_cleaner.output.tail_ag  \\\n",
              "0                              34.174427                       14.936526   \n",
              "1                              34.118526                       16.250511   \n",
              "2                              33.969464                       16.491823   \n",
              "3                              28.260743                       16.024359   \n",
              "4                              33.044932                       16.480185   \n",
              "\n",
              "   primary_cleaner.output.tail_pb  primary_cleaner.output.tail_sol  \\\n",
              "0                        2.534912                         7.476074   \n",
              "1                        3.049646                         6.733907   \n",
              "2                        3.124664                         6.471768   \n",
              "3                        2.960362                         6.843791   \n",
              "4                        3.112100                         6.550154   \n",
              "\n",
              "   primary_cleaner.output.tail_au  primary_cleaner.state.floatbank8_a_air  \\\n",
              "0                        2.106679                             1549.775757   \n",
              "1                        2.353017                             1576.166671   \n",
              "2                        2.416800                             1601.556163   \n",
              "3                        2.262051                             1599.968720   \n",
              "4                        2.277073                             1601.339707   \n",
              "\n",
              "   primary_cleaner.state.floatbank8_a_level  \\\n",
              "0                               -498.912140   \n",
              "1                               -500.904965   \n",
              "2                               -499.997791   \n",
              "3                               -500.951778   \n",
              "4                               -498.975456   \n",
              "\n",
              "   primary_cleaner.state.floatbank8_b_air  \\\n",
              "0                             1551.434204   \n",
              "1                             1575.950626   \n",
              "2                             1600.386685   \n",
              "3                             1600.659236   \n",
              "4                             1601.437854   \n",
              "\n",
              "   primary_cleaner.state.floatbank8_b_level  \\\n",
              "0                               -516.403442   \n",
              "1                               -499.865889   \n",
              "2                               -500.607762   \n",
              "3                               -499.677094   \n",
              "4                               -500.323246   \n",
              "\n",
              "   primary_cleaner.state.floatbank8_c_air  \\\n",
              "0                             1549.873901   \n",
              "1                             1575.994189   \n",
              "2                             1602.003542   \n",
              "3                             1600.304144   \n",
              "4                             1599.581894   \n",
              "\n",
              "   primary_cleaner.state.floatbank8_c_level  \\\n",
              "0                               -498.666595   \n",
              "1                               -499.315107   \n",
              "2                               -500.870069   \n",
              "3                               -500.727997   \n",
              "4                               -500.888152   \n",
              "\n",
              "   primary_cleaner.state.floatbank8_d_air  \\\n",
              "0                             1554.367432   \n",
              "1                             1574.479259   \n",
              "2                             1599.541515   \n",
              "3                             1600.449520   \n",
              "4                             1602.649541   \n",
              "\n",
              "   primary_cleaner.state.floatbank8_d_level  \\\n",
              "0                               -493.428131   \n",
              "1                               -498.931665   \n",
              "2                               -499.827444   \n",
              "3                               -500.052575   \n",
              "4                               -500.593010   \n",
              "\n",
              "   rougher.calculation.sulfate_to_au_concentrate  \\\n",
              "0                                   41885.707031   \n",
              "1                                   42050.861809   \n",
              "2                                   42018.101184   \n",
              "3                                   42029.447991   \n",
              "4                                   42125.354245   \n",
              "\n",
              "   rougher.calculation.floatbank10_sulfate_to_au_feed  \\\n",
              "0                                        3481.779053    \n",
              "1                                        3498.370979    \n",
              "2                                        3495.348910    \n",
              "3                                        3498.578313    \n",
              "4                                        3494.800771    \n",
              "\n",
              "   rougher.calculation.floatbank11_sulfate_to_au_feed  \\\n",
              "0                                        3520.337158    \n",
              "1                                        3489.981857    \n",
              "2                                        3502.359819    \n",
              "3                                        3499.162912    \n",
              "4                                        3506.679315    \n",
              "\n",
              "   rougher.calculation.au_pb_ratio  rougher.input.feed_ag  \\\n",
              "0                         2.838687               6.100378   \n",
              "1                         2.858998               6.161113   \n",
              "2                         2.945989               6.116455   \n",
              "3                         3.002340               6.043309   \n",
              "4                         3.169615               6.060915   \n",
              "\n",
              "   rougher.input.feed_pb  rougher.input.feed_rate  rougher.input.feed_size  \\\n",
              "0               2.284912               523.546326                55.486599   \n",
              "1               2.266033               525.290581                57.278666   \n",
              "2               2.159622               530.026610                57.510649   \n",
              "3               2.037807               542.590390                57.792734   \n",
              "4               1.786875               540.531893                56.047189   \n",
              "\n",
              "   rougher.input.feed_sol  rougher.input.feed_au  \\\n",
              "0               36.808594               6.486150   \n",
              "1               35.753385               6.478583   \n",
              "2               35.971630               6.362222   \n",
              "3               36.862241               6.118189   \n",
              "4               34.347666               5.663707   \n",
              "\n",
              "   rougher.input.floatbank10_sulfate  rougher.input.floatbank10_xanthate  \\\n",
              "0                          11.986616                            6.007990   \n",
              "1                          11.971193                            6.005766   \n",
              "2                          11.920603                            6.197377   \n",
              "3                          11.630094                            6.203177   \n",
              "4                          10.957755                            6.198826   \n",
              "\n",
              "   rougher.input.floatbank11_sulfate  rougher.input.floatbank11_xanthate  \\\n",
              "0                          11.836743                            6.005818   \n",
              "1                          11.996163                            6.012594   \n",
              "2                          11.920305                            6.204633   \n",
              "3                          11.692450                            6.196578   \n",
              "4                          10.960521                            6.194897   \n",
              "\n",
              "   rougher.output.concentrate_ag  rougher.output.concentrate_pb  \\\n",
              "0                      11.500771                       7.101074   \n",
              "1                      11.615865                       7.278807   \n",
              "2                      11.695753                       7.216833   \n",
              "3                      11.915047                       7.175616   \n",
              "4                      12.411054                       7.240205   \n",
              "\n",
              "   rougher.output.concentrate_sol  rougher.output.concentrate_au  \\\n",
              "0                       28.029297                      19.793808   \n",
              "1                       28.067063                      20.050975   \n",
              "2                       27.454037                      19.737170   \n",
              "3                       27.341277                      19.320810   \n",
              "4                       27.041023                      19.216101   \n",
              "\n",
              "   rougher.output.recovery  rougher.output.tail_ag  rougher.output.tail_pb  \\\n",
              "0                87.107763                5.008018                0.508728   \n",
              "1                86.843261                4.955378                0.536689   \n",
              "2                86.842308                4.843460                0.546416   \n",
              "3                87.226430                4.655288                0.542525   \n",
              "4                86.688794                4.552800                0.515438   \n",
              "\n",
              "   rougher.output.tail_sol  rougher.output.tail_au  \\\n",
              "0                19.154297                1.170244   \n",
              "1                18.965234                1.184827   \n",
              "2                18.808533                1.162562   \n",
              "3                19.330200                1.079755   \n",
              "4                19.267422                1.012642   \n",
              "\n",
              "   rougher.state.floatbank10_a_air  rougher.state.floatbank10_a_level  \\\n",
              "0                       999.706909                        -404.066986   \n",
              "1                      1000.286398                        -400.065196   \n",
              "2                       999.719565                        -400.074028   \n",
              "3                       999.814770                        -400.200179   \n",
              "4                       999.678690                        -399.752729   \n",
              "\n",
              "   rougher.state.floatbank10_b_air  rougher.state.floatbank10_b_level  \\\n",
              "0                      1603.011353                        -434.715027   \n",
              "1                      1600.754587                        -449.953435   \n",
              "2                      1599.337330                        -450.008530   \n",
              "3                      1600.059442                        -450.619948   \n",
              "4                      1600.208824                        -449.599614   \n",
              "\n",
              "   rougher.state.floatbank10_c_air  rougher.state.floatbank10_c_level  \\\n",
              "0                      1602.375000                        -442.204468   \n",
              "1                      1600.479580                        -449.830646   \n",
              "2                      1599.672797                        -449.954491   \n",
              "3                      1600.012842                        -449.910497   \n",
              "4                      1600.357732                        -450.034364   \n",
              "\n",
              "   rougher.state.floatbank10_d_air  rougher.state.floatbank10_d_level  \\\n",
              "0                      1598.937256                        -451.294128   \n",
              "1                      1600.527589                        -449.953649   \n",
              "2                      1599.849325                        -449.954185   \n",
              "3                      1597.725177                        -450.130127   \n",
              "4                      1599.759049                        -449.909799   \n",
              "\n",
              "   rougher.state.floatbank10_e_air  rougher.state.floatbank10_e_level  \\\n",
              "0                      1404.472046                        -455.462982   \n",
              "1                      1399.227084                        -450.869848   \n",
              "2                      1399.180945                        -449.937588   \n",
              "3                      1400.943157                        -450.030142   \n",
              "4                      1401.560902                        -448.877187   \n",
              "\n",
              "   rougher.state.floatbank10_f_air  rougher.state.floatbank10_f_level  \\\n",
              "0                      1416.354980                        -451.939636   \n",
              "1                      1399.719514                        -450.119001   \n",
              "2                      1400.316682                        -450.527147   \n",
              "3                      1400.234743                        -449.790835   \n",
              "4                      1401.160227                        -450.407128   \n",
              "\n",
              "   secondary_cleaner.output.tail_ag  secondary_cleaner.output.tail_pb  \\\n",
              "0                         14.500184                          4.694824   \n",
              "1                         14.265474                          4.592547   \n",
              "2                         14.115662                          4.624775   \n",
              "3                         13.732071                          4.482453   \n",
              "4                         14.079996                          4.470737   \n",
              "\n",
              "   secondary_cleaner.output.tail_sol  secondary_cleaner.output.tail_au  \\\n",
              "0                           8.764648                          2.606185   \n",
              "1                           9.001494                          2.488248   \n",
              "2                           8.842896                          2.458187   \n",
              "3                           9.122857                          2.322062   \n",
              "4                           8.871028                          2.330448   \n",
              "\n",
              "   secondary_cleaner.state.floatbank2_a_air  \\\n",
              "0                                 25.853109   \n",
              "1                                 25.880539   \n",
              "2                                 26.005245   \n",
              "3                                 25.942508   \n",
              "4                                 26.024787   \n",
              "\n",
              "   secondary_cleaner.state.floatbank2_a_level  \\\n",
              "0                                 -498.526489   \n",
              "1                                 -499.989656   \n",
              "2                                 -499.929616   \n",
              "3                                 -499.176749   \n",
              "4                                 -500.279091   \n",
              "\n",
              "   secondary_cleaner.state.floatbank2_b_air  \\\n",
              "0                                 23.893660   \n",
              "1                                 23.889530   \n",
              "2                                 23.886657   \n",
              "3                                 23.955516   \n",
              "4                                 23.955345   \n",
              "\n",
              "   secondary_cleaner.state.floatbank2_b_level  \\\n",
              "0                                 -501.406281   \n",
              "1                                 -500.372428   \n",
              "2                                 -499.951928   \n",
              "3                                 -499.848796   \n",
              "4                                 -500.593614   \n",
              "\n",
              "   secondary_cleaner.state.floatbank3_a_air  \\\n",
              "0                                 23.961798   \n",
              "1                                 23.970550   \n",
              "2                                 23.913535   \n",
              "3                                 23.966838   \n",
              "4                                 23.985703   \n",
              "\n",
              "   secondary_cleaner.state.floatbank3_a_level  \\\n",
              "0                                 -495.262817   \n",
              "1                                 -500.085473   \n",
              "2                                 -499.442343   \n",
              "3                                 -500.008812   \n",
              "4                                 -500.083811   \n",
              "\n",
              "   secondary_cleaner.state.floatbank3_b_air  \\\n",
              "0                                 21.940409   \n",
              "1                                 22.085714   \n",
              "2                                 23.957717   \n",
              "3                                 23.954443   \n",
              "4                                 23.958945   \n",
              "\n",
              "   secondary_cleaner.state.floatbank3_b_level  \\\n",
              "0                                 -499.340973   \n",
              "1                                 -499.446897   \n",
              "2                                 -499.901982   \n",
              "3                                 -499.944710   \n",
              "4                                 -499.990309   \n",
              "\n",
              "   secondary_cleaner.state.floatbank4_a_air  \\\n",
              "0                                 14.016835   \n",
              "1                                 13.992281   \n",
              "2                                 14.015015   \n",
              "3                                 14.036510   \n",
              "4                                 14.027298   \n",
              "\n",
              "   secondary_cleaner.state.floatbank4_a_level  \\\n",
              "0                                 -502.488007   \n",
              "1                                 -505.503262   \n",
              "2                                 -502.520901   \n",
              "3                                 -500.857308   \n",
              "4                                 -499.838632   \n",
              "\n",
              "   secondary_cleaner.state.floatbank4_b_air  \\\n",
              "0                                 12.099931   \n",
              "1                                 11.950531   \n",
              "2                                 11.912783   \n",
              "3                                 11.999550   \n",
              "4                                 11.953070   \n",
              "\n",
              "   secondary_cleaner.state.floatbank4_b_level  \\\n",
              "0                                 -504.715942   \n",
              "1                                 -501.331529   \n",
              "2                                 -501.133383   \n",
              "3                                 -501.193686   \n",
              "4                                 -501.053894   \n",
              "\n",
              "   secondary_cleaner.state.floatbank5_a_air  \\\n",
              "0                                  9.925633   \n",
              "1                                 10.039245   \n",
              "2                                 10.070913   \n",
              "3                                  9.970366   \n",
              "4                                  9.925709   \n",
              "\n",
              "   secondary_cleaner.state.floatbank5_a_level  \\\n",
              "0                                 -498.310211   \n",
              "1                                 -500.169983   \n",
              "2                                 -500.129135   \n",
              "3                                 -499.201640   \n",
              "4                                 -501.686727   \n",
              "\n",
              "   secondary_cleaner.state.floatbank5_b_air  \\\n",
              "0                                  8.079666   \n",
              "1                                  7.984757   \n",
              "2                                  8.013877   \n",
              "3                                  7.977324   \n",
              "4                                  7.894242   \n",
              "\n",
              "   secondary_cleaner.state.floatbank5_b_level  \\\n",
              "0                                 -500.470978   \n",
              "1                                 -500.582168   \n",
              "2                                 -500.517572   \n",
              "3                                 -500.255908   \n",
              "4                                 -500.356035   \n",
              "\n",
              "   secondary_cleaner.state.floatbank6_a_air  \\\n",
              "0                                 14.151341   \n",
              "1                                 13.998353   \n",
              "2                                 14.028663   \n",
              "3                                 14.005551   \n",
              "4                                 13.996647   \n",
              "\n",
              "   secondary_cleaner.state.floatbank6_a_level  \n",
              "0                                 -605.841980  \n",
              "1                                 -599.787184  \n",
              "2                                 -601.427363  \n",
              "3                                 -599.996129  \n",
              "4                                 -601.496691  "
            ],
            "text/html": [
              "\n",
              "  <div id=\"df-97b31df6-c1ab-48e2-b526-4b6f8f77a890\">\n",
              "    <div class=\"colab-df-container\">\n",
              "      <div>\n",
              "<style scoped>\n",
              "    .dataframe tbody tr th:only-of-type {\n",
              "        vertical-align: middle;\n",
              "    }\n",
              "\n",
              "    .dataframe tbody tr th {\n",
              "        vertical-align: top;\n",
              "    }\n",
              "\n",
              "    .dataframe thead th {\n",
              "        text-align: right;\n",
              "    }\n",
              "</style>\n",
              "<table border=\"1\" class=\"dataframe\">\n",
              "  <thead>\n",
              "    <tr style=\"text-align: right;\">\n",
              "      <th></th>\n",
              "      <th>date</th>\n",
              "      <th>final.output.concentrate_ag</th>\n",
              "      <th>final.output.concentrate_pb</th>\n",
              "      <th>final.output.concentrate_sol</th>\n",
              "      <th>final.output.concentrate_au</th>\n",
              "      <th>final.output.recovery</th>\n",
              "      <th>final.output.tail_ag</th>\n",
              "      <th>final.output.tail_pb</th>\n",
              "      <th>final.output.tail_sol</th>\n",
              "      <th>final.output.tail_au</th>\n",
              "      <th>primary_cleaner.input.sulfate</th>\n",
              "      <th>primary_cleaner.input.depressant</th>\n",
              "      <th>primary_cleaner.input.feed_size</th>\n",
              "      <th>primary_cleaner.input.xanthate</th>\n",
              "      <th>primary_cleaner.output.concentrate_ag</th>\n",
              "      <th>primary_cleaner.output.concentrate_pb</th>\n",
              "      <th>primary_cleaner.output.concentrate_sol</th>\n",
              "      <th>primary_cleaner.output.concentrate_au</th>\n",
              "      <th>primary_cleaner.output.tail_ag</th>\n",
              "      <th>primary_cleaner.output.tail_pb</th>\n",
              "      <th>primary_cleaner.output.tail_sol</th>\n",
              "      <th>primary_cleaner.output.tail_au</th>\n",
              "      <th>primary_cleaner.state.floatbank8_a_air</th>\n",
              "      <th>primary_cleaner.state.floatbank8_a_level</th>\n",
              "      <th>primary_cleaner.state.floatbank8_b_air</th>\n",
              "      <th>primary_cleaner.state.floatbank8_b_level</th>\n",
              "      <th>primary_cleaner.state.floatbank8_c_air</th>\n",
              "      <th>primary_cleaner.state.floatbank8_c_level</th>\n",
              "      <th>primary_cleaner.state.floatbank8_d_air</th>\n",
              "      <th>primary_cleaner.state.floatbank8_d_level</th>\n",
              "      <th>rougher.calculation.sulfate_to_au_concentrate</th>\n",
              "      <th>rougher.calculation.floatbank10_sulfate_to_au_feed</th>\n",
              "      <th>rougher.calculation.floatbank11_sulfate_to_au_feed</th>\n",
              "      <th>rougher.calculation.au_pb_ratio</th>\n",
              "      <th>rougher.input.feed_ag</th>\n",
              "      <th>rougher.input.feed_pb</th>\n",
              "      <th>rougher.input.feed_rate</th>\n",
              "      <th>rougher.input.feed_size</th>\n",
              "      <th>rougher.input.feed_sol</th>\n",
              "      <th>rougher.input.feed_au</th>\n",
              "      <th>rougher.input.floatbank10_sulfate</th>\n",
              "      <th>rougher.input.floatbank10_xanthate</th>\n",
              "      <th>rougher.input.floatbank11_sulfate</th>\n",
              "      <th>rougher.input.floatbank11_xanthate</th>\n",
              "      <th>rougher.output.concentrate_ag</th>\n",
              "      <th>rougher.output.concentrate_pb</th>\n",
              "      <th>rougher.output.concentrate_sol</th>\n",
              "      <th>rougher.output.concentrate_au</th>\n",
              "      <th>rougher.output.recovery</th>\n",
              "      <th>rougher.output.tail_ag</th>\n",
              "      <th>rougher.output.tail_pb</th>\n",
              "      <th>rougher.output.tail_sol</th>\n",
              "      <th>rougher.output.tail_au</th>\n",
              "      <th>rougher.state.floatbank10_a_air</th>\n",
              "      <th>rougher.state.floatbank10_a_level</th>\n",
              "      <th>rougher.state.floatbank10_b_air</th>\n",
              "      <th>rougher.state.floatbank10_b_level</th>\n",
              "      <th>rougher.state.floatbank10_c_air</th>\n",
              "      <th>rougher.state.floatbank10_c_level</th>\n",
              "      <th>rougher.state.floatbank10_d_air</th>\n",
              "      <th>rougher.state.floatbank10_d_level</th>\n",
              "      <th>rougher.state.floatbank10_e_air</th>\n",
              "      <th>rougher.state.floatbank10_e_level</th>\n",
              "      <th>rougher.state.floatbank10_f_air</th>\n",
              "      <th>rougher.state.floatbank10_f_level</th>\n",
              "      <th>secondary_cleaner.output.tail_ag</th>\n",
              "      <th>secondary_cleaner.output.tail_pb</th>\n",
              "      <th>secondary_cleaner.output.tail_sol</th>\n",
              "      <th>secondary_cleaner.output.tail_au</th>\n",
              "      <th>secondary_cleaner.state.floatbank2_a_air</th>\n",
              "      <th>secondary_cleaner.state.floatbank2_a_level</th>\n",
              "      <th>secondary_cleaner.state.floatbank2_b_air</th>\n",
              "      <th>secondary_cleaner.state.floatbank2_b_level</th>\n",
              "      <th>secondary_cleaner.state.floatbank3_a_air</th>\n",
              "      <th>secondary_cleaner.state.floatbank3_a_level</th>\n",
              "      <th>secondary_cleaner.state.floatbank3_b_air</th>\n",
              "      <th>secondary_cleaner.state.floatbank3_b_level</th>\n",
              "      <th>secondary_cleaner.state.floatbank4_a_air</th>\n",
              "      <th>secondary_cleaner.state.floatbank4_a_level</th>\n",
              "      <th>secondary_cleaner.state.floatbank4_b_air</th>\n",
              "      <th>secondary_cleaner.state.floatbank4_b_level</th>\n",
              "      <th>secondary_cleaner.state.floatbank5_a_air</th>\n",
              "      <th>secondary_cleaner.state.floatbank5_a_level</th>\n",
              "      <th>secondary_cleaner.state.floatbank5_b_air</th>\n",
              "      <th>secondary_cleaner.state.floatbank5_b_level</th>\n",
              "      <th>secondary_cleaner.state.floatbank6_a_air</th>\n",
              "      <th>secondary_cleaner.state.floatbank6_a_level</th>\n",
              "    </tr>\n",
              "  </thead>\n",
              "  <tbody>\n",
              "    <tr>\n",
              "      <th>0</th>\n",
              "      <td>2016-01-15 00:00:00</td>\n",
              "      <td>6.055403</td>\n",
              "      <td>9.889648</td>\n",
              "      <td>5.507324</td>\n",
              "      <td>42.192020</td>\n",
              "      <td>70.541216</td>\n",
              "      <td>10.411962</td>\n",
              "      <td>0.895447</td>\n",
              "      <td>16.904297</td>\n",
              "      <td>2.143149</td>\n",
              "      <td>127.092003</td>\n",
              "      <td>10.128295</td>\n",
              "      <td>7.25</td>\n",
              "      <td>0.988759</td>\n",
              "      <td>8.547551</td>\n",
              "      <td>10.389648</td>\n",
              "      <td>19.529297</td>\n",
              "      <td>34.174427</td>\n",
              "      <td>14.936526</td>\n",
              "      <td>2.534912</td>\n",
              "      <td>7.476074</td>\n",
              "      <td>2.106679</td>\n",
              "      <td>1549.775757</td>\n",
              "      <td>-498.912140</td>\n",
              "      <td>1551.434204</td>\n",
              "      <td>-516.403442</td>\n",
              "      <td>1549.873901</td>\n",
              "      <td>-498.666595</td>\n",
              "      <td>1554.367432</td>\n",
              "      <td>-493.428131</td>\n",
              "      <td>41885.707031</td>\n",
              "      <td>3481.779053</td>\n",
              "      <td>3520.337158</td>\n",
              "      <td>2.838687</td>\n",
              "      <td>6.100378</td>\n",
              "      <td>2.284912</td>\n",
              "      <td>523.546326</td>\n",
              "      <td>55.486599</td>\n",
              "      <td>36.808594</td>\n",
              "      <td>6.486150</td>\n",
              "      <td>11.986616</td>\n",
              "      <td>6.007990</td>\n",
              "      <td>11.836743</td>\n",
              "      <td>6.005818</td>\n",
              "      <td>11.500771</td>\n",
              "      <td>7.101074</td>\n",
              "      <td>28.029297</td>\n",
              "      <td>19.793808</td>\n",
              "      <td>87.107763</td>\n",
              "      <td>5.008018</td>\n",
              "      <td>0.508728</td>\n",
              "      <td>19.154297</td>\n",
              "      <td>1.170244</td>\n",
              "      <td>999.706909</td>\n",
              "      <td>-404.066986</td>\n",
              "      <td>1603.011353</td>\n",
              "      <td>-434.715027</td>\n",
              "      <td>1602.375000</td>\n",
              "      <td>-442.204468</td>\n",
              "      <td>1598.937256</td>\n",
              "      <td>-451.294128</td>\n",
              "      <td>1404.472046</td>\n",
              "      <td>-455.462982</td>\n",
              "      <td>1416.354980</td>\n",
              "      <td>-451.939636</td>\n",
              "      <td>14.500184</td>\n",
              "      <td>4.694824</td>\n",
              "      <td>8.764648</td>\n",
              "      <td>2.606185</td>\n",
              "      <td>25.853109</td>\n",
              "      <td>-498.526489</td>\n",
              "      <td>23.893660</td>\n",
              "      <td>-501.406281</td>\n",
              "      <td>23.961798</td>\n",
              "      <td>-495.262817</td>\n",
              "      <td>21.940409</td>\n",
              "      <td>-499.340973</td>\n",
              "      <td>14.016835</td>\n",
              "      <td>-502.488007</td>\n",
              "      <td>12.099931</td>\n",
              "      <td>-504.715942</td>\n",
              "      <td>9.925633</td>\n",
              "      <td>-498.310211</td>\n",
              "      <td>8.079666</td>\n",
              "      <td>-500.470978</td>\n",
              "      <td>14.151341</td>\n",
              "      <td>-605.841980</td>\n",
              "    </tr>\n",
              "    <tr>\n",
              "      <th>1</th>\n",
              "      <td>2016-01-15 01:00:00</td>\n",
              "      <td>6.029369</td>\n",
              "      <td>9.968944</td>\n",
              "      <td>5.257781</td>\n",
              "      <td>42.701629</td>\n",
              "      <td>69.266198</td>\n",
              "      <td>10.462676</td>\n",
              "      <td>0.927452</td>\n",
              "      <td>16.634514</td>\n",
              "      <td>2.224930</td>\n",
              "      <td>125.629232</td>\n",
              "      <td>10.296251</td>\n",
              "      <td>7.25</td>\n",
              "      <td>1.002663</td>\n",
              "      <td>8.558743</td>\n",
              "      <td>10.497069</td>\n",
              "      <td>19.369147</td>\n",
              "      <td>34.118526</td>\n",
              "      <td>16.250511</td>\n",
              "      <td>3.049646</td>\n",
              "      <td>6.733907</td>\n",
              "      <td>2.353017</td>\n",
              "      <td>1576.166671</td>\n",
              "      <td>-500.904965</td>\n",
              "      <td>1575.950626</td>\n",
              "      <td>-499.865889</td>\n",
              "      <td>1575.994189</td>\n",
              "      <td>-499.315107</td>\n",
              "      <td>1574.479259</td>\n",
              "      <td>-498.931665</td>\n",
              "      <td>42050.861809</td>\n",
              "      <td>3498.370979</td>\n",
              "      <td>3489.981857</td>\n",
              "      <td>2.858998</td>\n",
              "      <td>6.161113</td>\n",
              "      <td>2.266033</td>\n",
              "      <td>525.290581</td>\n",
              "      <td>57.278666</td>\n",
              "      <td>35.753385</td>\n",
              "      <td>6.478583</td>\n",
              "      <td>11.971193</td>\n",
              "      <td>6.005766</td>\n",
              "      <td>11.996163</td>\n",
              "      <td>6.012594</td>\n",
              "      <td>11.615865</td>\n",
              "      <td>7.278807</td>\n",
              "      <td>28.067063</td>\n",
              "      <td>20.050975</td>\n",
              "      <td>86.843261</td>\n",
              "      <td>4.955378</td>\n",
              "      <td>0.536689</td>\n",
              "      <td>18.965234</td>\n",
              "      <td>1.184827</td>\n",
              "      <td>1000.286398</td>\n",
              "      <td>-400.065196</td>\n",
              "      <td>1600.754587</td>\n",
              "      <td>-449.953435</td>\n",
              "      <td>1600.479580</td>\n",
              "      <td>-449.830646</td>\n",
              "      <td>1600.527589</td>\n",
              "      <td>-449.953649</td>\n",
              "      <td>1399.227084</td>\n",
              "      <td>-450.869848</td>\n",
              "      <td>1399.719514</td>\n",
              "      <td>-450.119001</td>\n",
              "      <td>14.265474</td>\n",
              "      <td>4.592547</td>\n",
              "      <td>9.001494</td>\n",
              "      <td>2.488248</td>\n",
              "      <td>25.880539</td>\n",
              "      <td>-499.989656</td>\n",
              "      <td>23.889530</td>\n",
              "      <td>-500.372428</td>\n",
              "      <td>23.970550</td>\n",
              "      <td>-500.085473</td>\n",
              "      <td>22.085714</td>\n",
              "      <td>-499.446897</td>\n",
              "      <td>13.992281</td>\n",
              "      <td>-505.503262</td>\n",
              "      <td>11.950531</td>\n",
              "      <td>-501.331529</td>\n",
              "      <td>10.039245</td>\n",
              "      <td>-500.169983</td>\n",
              "      <td>7.984757</td>\n",
              "      <td>-500.582168</td>\n",
              "      <td>13.998353</td>\n",
              "      <td>-599.787184</td>\n",
              "    </tr>\n",
              "    <tr>\n",
              "      <th>2</th>\n",
              "      <td>2016-01-15 02:00:00</td>\n",
              "      <td>6.055926</td>\n",
              "      <td>10.213995</td>\n",
              "      <td>5.383759</td>\n",
              "      <td>42.657501</td>\n",
              "      <td>68.116445</td>\n",
              "      <td>10.507046</td>\n",
              "      <td>0.953716</td>\n",
              "      <td>16.208849</td>\n",
              "      <td>2.257889</td>\n",
              "      <td>123.819808</td>\n",
              "      <td>11.316280</td>\n",
              "      <td>7.25</td>\n",
              "      <td>0.991265</td>\n",
              "      <td>8.603505</td>\n",
              "      <td>10.354494</td>\n",
              "      <td>19.167579</td>\n",
              "      <td>33.969464</td>\n",
              "      <td>16.491823</td>\n",
              "      <td>3.124664</td>\n",
              "      <td>6.471768</td>\n",
              "      <td>2.416800</td>\n",
              "      <td>1601.556163</td>\n",
              "      <td>-499.997791</td>\n",
              "      <td>1600.386685</td>\n",
              "      <td>-500.607762</td>\n",
              "      <td>1602.003542</td>\n",
              "      <td>-500.870069</td>\n",
              "      <td>1599.541515</td>\n",
              "      <td>-499.827444</td>\n",
              "      <td>42018.101184</td>\n",
              "      <td>3495.348910</td>\n",
              "      <td>3502.359819</td>\n",
              "      <td>2.945989</td>\n",
              "      <td>6.116455</td>\n",
              "      <td>2.159622</td>\n",
              "      <td>530.026610</td>\n",
              "      <td>57.510649</td>\n",
              "      <td>35.971630</td>\n",
              "      <td>6.362222</td>\n",
              "      <td>11.920603</td>\n",
              "      <td>6.197377</td>\n",
              "      <td>11.920305</td>\n",
              "      <td>6.204633</td>\n",
              "      <td>11.695753</td>\n",
              "      <td>7.216833</td>\n",
              "      <td>27.454037</td>\n",
              "      <td>19.737170</td>\n",
              "      <td>86.842308</td>\n",
              "      <td>4.843460</td>\n",
              "      <td>0.546416</td>\n",
              "      <td>18.808533</td>\n",
              "      <td>1.162562</td>\n",
              "      <td>999.719565</td>\n",
              "      <td>-400.074028</td>\n",
              "      <td>1599.337330</td>\n",
              "      <td>-450.008530</td>\n",
              "      <td>1599.672797</td>\n",
              "      <td>-449.954491</td>\n",
              "      <td>1599.849325</td>\n",
              "      <td>-449.954185</td>\n",
              "      <td>1399.180945</td>\n",
              "      <td>-449.937588</td>\n",
              "      <td>1400.316682</td>\n",
              "      <td>-450.527147</td>\n",
              "      <td>14.115662</td>\n",
              "      <td>4.624775</td>\n",
              "      <td>8.842896</td>\n",
              "      <td>2.458187</td>\n",
              "      <td>26.005245</td>\n",
              "      <td>-499.929616</td>\n",
              "      <td>23.886657</td>\n",
              "      <td>-499.951928</td>\n",
              "      <td>23.913535</td>\n",
              "      <td>-499.442343</td>\n",
              "      <td>23.957717</td>\n",
              "      <td>-499.901982</td>\n",
              "      <td>14.015015</td>\n",
              "      <td>-502.520901</td>\n",
              "      <td>11.912783</td>\n",
              "      <td>-501.133383</td>\n",
              "      <td>10.070913</td>\n",
              "      <td>-500.129135</td>\n",
              "      <td>8.013877</td>\n",
              "      <td>-500.517572</td>\n",
              "      <td>14.028663</td>\n",
              "      <td>-601.427363</td>\n",
              "    </tr>\n",
              "    <tr>\n",
              "      <th>3</th>\n",
              "      <td>2016-01-15 03:00:00</td>\n",
              "      <td>6.047977</td>\n",
              "      <td>9.977019</td>\n",
              "      <td>4.858634</td>\n",
              "      <td>42.689819</td>\n",
              "      <td>68.347543</td>\n",
              "      <td>10.422762</td>\n",
              "      <td>0.883763</td>\n",
              "      <td>16.532835</td>\n",
              "      <td>2.146849</td>\n",
              "      <td>122.270188</td>\n",
              "      <td>11.322140</td>\n",
              "      <td>7.25</td>\n",
              "      <td>0.996739</td>\n",
              "      <td>7.221879</td>\n",
              "      <td>8.496563</td>\n",
              "      <td>15.978538</td>\n",
              "      <td>28.260743</td>\n",
              "      <td>16.024359</td>\n",
              "      <td>2.960362</td>\n",
              "      <td>6.843791</td>\n",
              "      <td>2.262051</td>\n",
              "      <td>1599.968720</td>\n",
              "      <td>-500.951778</td>\n",
              "      <td>1600.659236</td>\n",
              "      <td>-499.677094</td>\n",
              "      <td>1600.304144</td>\n",
              "      <td>-500.727997</td>\n",
              "      <td>1600.449520</td>\n",
              "      <td>-500.052575</td>\n",
              "      <td>42029.447991</td>\n",
              "      <td>3498.578313</td>\n",
              "      <td>3499.162912</td>\n",
              "      <td>3.002340</td>\n",
              "      <td>6.043309</td>\n",
              "      <td>2.037807</td>\n",
              "      <td>542.590390</td>\n",
              "      <td>57.792734</td>\n",
              "      <td>36.862241</td>\n",
              "      <td>6.118189</td>\n",
              "      <td>11.630094</td>\n",
              "      <td>6.203177</td>\n",
              "      <td>11.692450</td>\n",
              "      <td>6.196578</td>\n",
              "      <td>11.915047</td>\n",
              "      <td>7.175616</td>\n",
              "      <td>27.341277</td>\n",
              "      <td>19.320810</td>\n",
              "      <td>87.226430</td>\n",
              "      <td>4.655288</td>\n",
              "      <td>0.542525</td>\n",
              "      <td>19.330200</td>\n",
              "      <td>1.079755</td>\n",
              "      <td>999.814770</td>\n",
              "      <td>-400.200179</td>\n",
              "      <td>1600.059442</td>\n",
              "      <td>-450.619948</td>\n",
              "      <td>1600.012842</td>\n",
              "      <td>-449.910497</td>\n",
              "      <td>1597.725177</td>\n",
              "      <td>-450.130127</td>\n",
              "      <td>1400.943157</td>\n",
              "      <td>-450.030142</td>\n",
              "      <td>1400.234743</td>\n",
              "      <td>-449.790835</td>\n",
              "      <td>13.732071</td>\n",
              "      <td>4.482453</td>\n",
              "      <td>9.122857</td>\n",
              "      <td>2.322062</td>\n",
              "      <td>25.942508</td>\n",
              "      <td>-499.176749</td>\n",
              "      <td>23.955516</td>\n",
              "      <td>-499.848796</td>\n",
              "      <td>23.966838</td>\n",
              "      <td>-500.008812</td>\n",
              "      <td>23.954443</td>\n",
              "      <td>-499.944710</td>\n",
              "      <td>14.036510</td>\n",
              "      <td>-500.857308</td>\n",
              "      <td>11.999550</td>\n",
              "      <td>-501.193686</td>\n",
              "      <td>9.970366</td>\n",
              "      <td>-499.201640</td>\n",
              "      <td>7.977324</td>\n",
              "      <td>-500.255908</td>\n",
              "      <td>14.005551</td>\n",
              "      <td>-599.996129</td>\n",
              "    </tr>\n",
              "    <tr>\n",
              "      <th>4</th>\n",
              "      <td>2016-01-15 04:00:00</td>\n",
              "      <td>6.148599</td>\n",
              "      <td>10.142511</td>\n",
              "      <td>4.939416</td>\n",
              "      <td>42.774141</td>\n",
              "      <td>66.927016</td>\n",
              "      <td>10.360302</td>\n",
              "      <td>0.792826</td>\n",
              "      <td>16.525686</td>\n",
              "      <td>2.055292</td>\n",
              "      <td>117.988169</td>\n",
              "      <td>11.913613</td>\n",
              "      <td>7.25</td>\n",
              "      <td>1.009869</td>\n",
              "      <td>9.089428</td>\n",
              "      <td>9.986786</td>\n",
              "      <td>19.199864</td>\n",
              "      <td>33.044932</td>\n",
              "      <td>16.480185</td>\n",
              "      <td>3.112100</td>\n",
              "      <td>6.550154</td>\n",
              "      <td>2.277073</td>\n",
              "      <td>1601.339707</td>\n",
              "      <td>-498.975456</td>\n",
              "      <td>1601.437854</td>\n",
              "      <td>-500.323246</td>\n",
              "      <td>1599.581894</td>\n",
              "      <td>-500.888152</td>\n",
              "      <td>1602.649541</td>\n",
              "      <td>-500.593010</td>\n",
              "      <td>42125.354245</td>\n",
              "      <td>3494.800771</td>\n",
              "      <td>3506.679315</td>\n",
              "      <td>3.169615</td>\n",
              "      <td>6.060915</td>\n",
              "      <td>1.786875</td>\n",
              "      <td>540.531893</td>\n",
              "      <td>56.047189</td>\n",
              "      <td>34.347666</td>\n",
              "      <td>5.663707</td>\n",
              "      <td>10.957755</td>\n",
              "      <td>6.198826</td>\n",
              "      <td>10.960521</td>\n",
              "      <td>6.194897</td>\n",
              "      <td>12.411054</td>\n",
              "      <td>7.240205</td>\n",
              "      <td>27.041023</td>\n",
              "      <td>19.216101</td>\n",
              "      <td>86.688794</td>\n",
              "      <td>4.552800</td>\n",
              "      <td>0.515438</td>\n",
              "      <td>19.267422</td>\n",
              "      <td>1.012642</td>\n",
              "      <td>999.678690</td>\n",
              "      <td>-399.752729</td>\n",
              "      <td>1600.208824</td>\n",
              "      <td>-449.599614</td>\n",
              "      <td>1600.357732</td>\n",
              "      <td>-450.034364</td>\n",
              "      <td>1599.759049</td>\n",
              "      <td>-449.909799</td>\n",
              "      <td>1401.560902</td>\n",
              "      <td>-448.877187</td>\n",
              "      <td>1401.160227</td>\n",
              "      <td>-450.407128</td>\n",
              "      <td>14.079996</td>\n",
              "      <td>4.470737</td>\n",
              "      <td>8.871028</td>\n",
              "      <td>2.330448</td>\n",
              "      <td>26.024787</td>\n",
              "      <td>-500.279091</td>\n",
              "      <td>23.955345</td>\n",
              "      <td>-500.593614</td>\n",
              "      <td>23.985703</td>\n",
              "      <td>-500.083811</td>\n",
              "      <td>23.958945</td>\n",
              "      <td>-499.990309</td>\n",
              "      <td>14.027298</td>\n",
              "      <td>-499.838632</td>\n",
              "      <td>11.953070</td>\n",
              "      <td>-501.053894</td>\n",
              "      <td>9.925709</td>\n",
              "      <td>-501.686727</td>\n",
              "      <td>7.894242</td>\n",
              "      <td>-500.356035</td>\n",
              "      <td>13.996647</td>\n",
              "      <td>-601.496691</td>\n",
              "    </tr>\n",
              "  </tbody>\n",
              "</table>\n",
              "</div>\n",
              "      <button class=\"colab-df-convert\" onclick=\"convertToInteractive('df-97b31df6-c1ab-48e2-b526-4b6f8f77a890')\"\n",
              "              title=\"Convert this dataframe to an interactive table.\"\n",
              "              style=\"display:none;\">\n",
              "        \n",
              "  <svg xmlns=\"http://www.w3.org/2000/svg\" height=\"24px\"viewBox=\"0 0 24 24\"\n",
              "       width=\"24px\">\n",
              "    <path d=\"M0 0h24v24H0V0z\" fill=\"none\"/>\n",
              "    <path d=\"M18.56 5.44l.94 2.06.94-2.06 2.06-.94-2.06-.94-.94-2.06-.94 2.06-2.06.94zm-11 1L8.5 8.5l.94-2.06 2.06-.94-2.06-.94L8.5 2.5l-.94 2.06-2.06.94zm10 10l.94 2.06.94-2.06 2.06-.94-2.06-.94-.94-2.06-.94 2.06-2.06.94z\"/><path d=\"M17.41 7.96l-1.37-1.37c-.4-.4-.92-.59-1.43-.59-.52 0-1.04.2-1.43.59L10.3 9.45l-7.72 7.72c-.78.78-.78 2.05 0 2.83L4 21.41c.39.39.9.59 1.41.59.51 0 1.02-.2 1.41-.59l7.78-7.78 2.81-2.81c.8-.78.8-2.07 0-2.86zM5.41 20L4 18.59l7.72-7.72 1.47 1.35L5.41 20z\"/>\n",
              "  </svg>\n",
              "      </button>\n",
              "      \n",
              "  <style>\n",
              "    .colab-df-container {\n",
              "      display:flex;\n",
              "      flex-wrap:wrap;\n",
              "      gap: 12px;\n",
              "    }\n",
              "\n",
              "    .colab-df-convert {\n",
              "      background-color: #E8F0FE;\n",
              "      border: none;\n",
              "      border-radius: 50%;\n",
              "      cursor: pointer;\n",
              "      display: none;\n",
              "      fill: #1967D2;\n",
              "      height: 32px;\n",
              "      padding: 0 0 0 0;\n",
              "      width: 32px;\n",
              "    }\n",
              "\n",
              "    .colab-df-convert:hover {\n",
              "      background-color: #E2EBFA;\n",
              "      box-shadow: 0px 1px 2px rgba(60, 64, 67, 0.3), 0px 1px 3px 1px rgba(60, 64, 67, 0.15);\n",
              "      fill: #174EA6;\n",
              "    }\n",
              "\n",
              "    [theme=dark] .colab-df-convert {\n",
              "      background-color: #3B4455;\n",
              "      fill: #D2E3FC;\n",
              "    }\n",
              "\n",
              "    [theme=dark] .colab-df-convert:hover {\n",
              "      background-color: #434B5C;\n",
              "      box-shadow: 0px 1px 3px 1px rgba(0, 0, 0, 0.15);\n",
              "      filter: drop-shadow(0px 1px 2px rgba(0, 0, 0, 0.3));\n",
              "      fill: #FFFFFF;\n",
              "    }\n",
              "  </style>\n",
              "\n",
              "      <script>\n",
              "        const buttonEl =\n",
              "          document.querySelector('#df-97b31df6-c1ab-48e2-b526-4b6f8f77a890 button.colab-df-convert');\n",
              "        buttonEl.style.display =\n",
              "          google.colab.kernel.accessAllowed ? 'block' : 'none';\n",
              "\n",
              "        async function convertToInteractive(key) {\n",
              "          const element = document.querySelector('#df-97b31df6-c1ab-48e2-b526-4b6f8f77a890');\n",
              "          const dataTable =\n",
              "            await google.colab.kernel.invokeFunction('convertToInteractive',\n",
              "                                                     [key], {});\n",
              "          if (!dataTable) return;\n",
              "\n",
              "          const docLinkHtml = 'Like what you see? Visit the ' +\n",
              "            '<a target=\"_blank\" href=https://colab.research.google.com/notebooks/data_table.ipynb>data table notebook</a>'\n",
              "            + ' to learn more about interactive tables.';\n",
              "          element.innerHTML = '';\n",
              "          dataTable['output_type'] = 'display_data';\n",
              "          await google.colab.output.renderOutput(dataTable, element);\n",
              "          const docLink = document.createElement('div');\n",
              "          docLink.innerHTML = docLinkHtml;\n",
              "          element.appendChild(docLink);\n",
              "        }\n",
              "      </script>\n",
              "    </div>\n",
              "  </div>\n",
              "  "
            ]
          },
          "metadata": {}
        },
        {
          "output_type": "stream",
          "name": "stdout",
          "text": [
            "-----------------\n",
            "Общая информация\n",
            "<class 'pandas.core.frame.DataFrame'>\n",
            "RangeIndex: 19439 entries, 0 to 19438\n",
            "Data columns (total 87 columns):\n",
            " #   Column                                              Non-Null Count  Dtype  \n",
            "---  ------                                              --------------  -----  \n",
            " 0   date                                                19439 non-null  object \n",
            " 1   final.output.concentrate_ag                         19438 non-null  float64\n",
            " 2   final.output.concentrate_pb                         19438 non-null  float64\n",
            " 3   final.output.concentrate_sol                        19228 non-null  float64\n",
            " 4   final.output.concentrate_au                         19439 non-null  float64\n",
            " 5   final.output.recovery                               19439 non-null  float64\n",
            " 6   final.output.tail_ag                                19438 non-null  float64\n",
            " 7   final.output.tail_pb                                19338 non-null  float64\n",
            " 8   final.output.tail_sol                               19433 non-null  float64\n",
            " 9   final.output.tail_au                                19439 non-null  float64\n",
            " 10  primary_cleaner.input.sulfate                       19415 non-null  float64\n",
            " 11  primary_cleaner.input.depressant                    19402 non-null  float64\n",
            " 12  primary_cleaner.input.feed_size                     19439 non-null  float64\n",
            " 13  primary_cleaner.input.xanthate                      19335 non-null  float64\n",
            " 14  primary_cleaner.output.concentrate_ag               19439 non-null  float64\n",
            " 15  primary_cleaner.output.concentrate_pb               19323 non-null  float64\n",
            " 16  primary_cleaner.output.concentrate_sol              19069 non-null  float64\n",
            " 17  primary_cleaner.output.concentrate_au               19439 non-null  float64\n",
            " 18  primary_cleaner.output.tail_ag                      19435 non-null  float64\n",
            " 19  primary_cleaner.output.tail_pb                      19418 non-null  float64\n",
            " 20  primary_cleaner.output.tail_sol                     19377 non-null  float64\n",
            " 21  primary_cleaner.output.tail_au                      19439 non-null  float64\n",
            " 22  primary_cleaner.state.floatbank8_a_air              19435 non-null  float64\n",
            " 23  primary_cleaner.state.floatbank8_a_level            19438 non-null  float64\n",
            " 24  primary_cleaner.state.floatbank8_b_air              19435 non-null  float64\n",
            " 25  primary_cleaner.state.floatbank8_b_level            19438 non-null  float64\n",
            " 26  primary_cleaner.state.floatbank8_c_air              19437 non-null  float64\n",
            " 27  primary_cleaner.state.floatbank8_c_level            19438 non-null  float64\n",
            " 28  primary_cleaner.state.floatbank8_d_air              19436 non-null  float64\n",
            " 29  primary_cleaner.state.floatbank8_d_level            19438 non-null  float64\n",
            " 30  rougher.calculation.sulfate_to_au_concentrate       19437 non-null  float64\n",
            " 31  rougher.calculation.floatbank10_sulfate_to_au_feed  19437 non-null  float64\n",
            " 32  rougher.calculation.floatbank11_sulfate_to_au_feed  19437 non-null  float64\n",
            " 33  rougher.calculation.au_pb_ratio                     19439 non-null  float64\n",
            " 34  rougher.input.feed_ag                               19439 non-null  float64\n",
            " 35  rougher.input.feed_pb                               19339 non-null  float64\n",
            " 36  rougher.input.feed_rate                             19428 non-null  float64\n",
            " 37  rougher.input.feed_size                             19294 non-null  float64\n",
            " 38  rougher.input.feed_sol                              19340 non-null  float64\n",
            " 39  rougher.input.feed_au                               19439 non-null  float64\n",
            " 40  rougher.input.floatbank10_sulfate                   19405 non-null  float64\n",
            " 41  rougher.input.floatbank10_xanthate                  19431 non-null  float64\n",
            " 42  rougher.input.floatbank11_sulfate                   19395 non-null  float64\n",
            " 43  rougher.input.floatbank11_xanthate                  18986 non-null  float64\n",
            " 44  rougher.output.concentrate_ag                       19439 non-null  float64\n",
            " 45  rougher.output.concentrate_pb                       19439 non-null  float64\n",
            " 46  rougher.output.concentrate_sol                      19416 non-null  float64\n",
            " 47  rougher.output.concentrate_au                       19439 non-null  float64\n",
            " 48  rougher.output.recovery                             19439 non-null  float64\n",
            " 49  rougher.output.tail_ag                              19438 non-null  float64\n",
            " 50  rougher.output.tail_pb                              19439 non-null  float64\n",
            " 51  rougher.output.tail_sol                             19439 non-null  float64\n",
            " 52  rougher.output.tail_au                              19439 non-null  float64\n",
            " 53  rougher.state.floatbank10_a_air                     19438 non-null  float64\n",
            " 54  rougher.state.floatbank10_a_level                   19438 non-null  float64\n",
            " 55  rougher.state.floatbank10_b_air                     19438 non-null  float64\n",
            " 56  rougher.state.floatbank10_b_level                   19438 non-null  float64\n",
            " 57  rougher.state.floatbank10_c_air                     19438 non-null  float64\n",
            " 58  rougher.state.floatbank10_c_level                   19438 non-null  float64\n",
            " 59  rougher.state.floatbank10_d_air                     19439 non-null  float64\n",
            " 60  rougher.state.floatbank10_d_level                   19439 non-null  float64\n",
            " 61  rougher.state.floatbank10_e_air                     19003 non-null  float64\n",
            " 62  rougher.state.floatbank10_e_level                   19439 non-null  float64\n",
            " 63  rougher.state.floatbank10_f_air                     19439 non-null  float64\n",
            " 64  rougher.state.floatbank10_f_level                   19439 non-null  float64\n",
            " 65  secondary_cleaner.output.tail_ag                    19437 non-null  float64\n",
            " 66  secondary_cleaner.output.tail_pb                    19427 non-null  float64\n",
            " 67  secondary_cleaner.output.tail_sol                   17691 non-null  float64\n",
            " 68  secondary_cleaner.output.tail_au                    19439 non-null  float64\n",
            " 69  secondary_cleaner.state.floatbank2_a_air            19219 non-null  float64\n",
            " 70  secondary_cleaner.state.floatbank2_a_level          19438 non-null  float64\n",
            " 71  secondary_cleaner.state.floatbank2_b_air            19416 non-null  float64\n",
            " 72  secondary_cleaner.state.floatbank2_b_level          19438 non-null  float64\n",
            " 73  secondary_cleaner.state.floatbank3_a_air            19426 non-null  float64\n",
            " 74  secondary_cleaner.state.floatbank3_a_level          19438 non-null  float64\n",
            " 75  secondary_cleaner.state.floatbank3_b_air            19438 non-null  float64\n",
            " 76  secondary_cleaner.state.floatbank3_b_level          19438 non-null  float64\n",
            " 77  secondary_cleaner.state.floatbank4_a_air            19433 non-null  float64\n",
            " 78  secondary_cleaner.state.floatbank4_a_level          19438 non-null  float64\n",
            " 79  secondary_cleaner.state.floatbank4_b_air            19438 non-null  float64\n",
            " 80  secondary_cleaner.state.floatbank4_b_level          19438 non-null  float64\n",
            " 81  secondary_cleaner.state.floatbank5_a_air            19438 non-null  float64\n",
            " 82  secondary_cleaner.state.floatbank5_a_level          19438 non-null  float64\n",
            " 83  secondary_cleaner.state.floatbank5_b_air            19438 non-null  float64\n",
            " 84  secondary_cleaner.state.floatbank5_b_level          19438 non-null  float64\n",
            " 85  secondary_cleaner.state.floatbank6_a_air            19437 non-null  float64\n",
            " 86  secondary_cleaner.state.floatbank6_a_level          19438 non-null  float64\n",
            "dtypes: float64(86), object(1)\n",
            "memory usage: 12.9+ MB\n",
            "-----------------\n",
            "Описание данных\n"
          ]
        },
        {
          "output_type": "display_data",
          "data": {
            "text/plain": [
              "       final.output.concentrate_ag  final.output.concentrate_pb  \\\n",
              "count                 19438.000000                 19438.000000   \n",
              "mean                      5.168470                     9.978895   \n",
              "std                       1.372348                     1.669240   \n",
              "min                       0.000000                     0.000000   \n",
              "25%                       4.251240                     9.137262   \n",
              "50%                       5.066094                    10.102433   \n",
              "75%                       5.895527                    11.035769   \n",
              "max                      16.001945                    17.031899   \n",
              "\n",
              "       final.output.concentrate_sol  final.output.concentrate_au  \\\n",
              "count                  19228.000000                 19439.000000   \n",
              "mean                       9.501224                    44.076513   \n",
              "std                        2.787537                     5.129784   \n",
              "min                        0.000000                     0.000000   \n",
              "25%                        7.722820                    43.402215   \n",
              "50%                        9.218961                    45.011244   \n",
              "75%                       10.947813                    46.275313   \n",
              "max                       19.615720                    52.756638   \n",
              "\n",
              "       final.output.recovery  final.output.tail_ag  final.output.tail_pb  \\\n",
              "count           19439.000000          19438.000000          19338.000000   \n",
              "mean               67.050208              9.688589              2.705795   \n",
              "std                10.125840              2.328642              0.949077   \n",
              "min                 0.000000              0.000000              0.000000   \n",
              "25%                63.299712              8.062878              2.040119   \n",
              "50%                68.172738              9.743623              2.748730   \n",
              "75%                72.686642             11.134294              3.333216   \n",
              "max               100.000000             19.552149              5.804178   \n",
              "\n",
              "       final.output.tail_sol  final.output.tail_au  \\\n",
              "count           19433.000000          19439.000000   \n",
              "mean               10.583728              3.042467   \n",
              "std                 2.868782              0.922808   \n",
              "min                 0.000000              0.000000   \n",
              "25%                 8.938947              2.461138   \n",
              "50%                10.622456              2.984909   \n",
              "75%                12.104271              3.571351   \n",
              "max                22.317730              8.245022   \n",
              "\n",
              "       primary_cleaner.input.sulfate  primary_cleaner.input.depressant  \\\n",
              "count                   19415.000000                      19402.000000   \n",
              "mean                      144.624774                          8.817039   \n",
              "std                        44.464071                          3.286186   \n",
              "min                         0.003112                          0.000000   \n",
              "25%                       114.107029                          6.076909   \n",
              "50%                       143.232103                          8.038311   \n",
              "75%                       175.075656                         11.013521   \n",
              "max                       265.983123                         40.000000   \n",
              "\n",
              "       primary_cleaner.input.feed_size  primary_cleaner.input.xanthate  \\\n",
              "count                     19439.000000                    19335.000000   \n",
              "mean                          7.307078                        1.021795   \n",
              "std                           0.613509                        0.513254   \n",
              "min                           1.080000                        0.000005   \n",
              "25%                           6.940000                        0.697224   \n",
              "50%                           7.280000                        0.940863   \n",
              "75%                           7.670000                        1.210990   \n",
              "max                          15.500000                        4.102454   \n",
              "\n",
              "       primary_cleaner.output.concentrate_ag  \\\n",
              "count                           19439.000000   \n",
              "mean                                8.442408   \n",
              "std                                 2.054465   \n",
              "min                                 0.000000   \n",
              "25%                                 7.263288   \n",
              "50%                                 8.507298   \n",
              "75%                                 9.809001   \n",
              "max                                16.081632   \n",
              "\n",
              "       primary_cleaner.output.concentrate_pb  \\\n",
              "count                           19323.000000   \n",
              "mean                                9.829530   \n",
              "std                                 2.556843   \n",
              "min                                 0.000000   \n",
              "25%                                 8.702328   \n",
              "50%                                10.152433   \n",
              "75%                                11.424971   \n",
              "max                                17.081278   \n",
              "\n",
              "       primary_cleaner.output.concentrate_sol  \\\n",
              "count                            19069.000000   \n",
              "mean                                10.489499   \n",
              "std                                  3.909639   \n",
              "min                                  0.000000   \n",
              "25%                                  7.893893   \n",
              "50%                                 10.314632   \n",
              "75%                                 13.446702   \n",
              "max                                 22.458114   \n",
              "\n",
              "       primary_cleaner.output.concentrate_au  primary_cleaner.output.tail_ag  \\\n",
              "count                           19439.000000                    19435.000000   \n",
              "mean                               32.119400                       16.145826   \n",
              "std                                 5.627611                        3.548598   \n",
              "min                                 0.000000                        0.000000   \n",
              "25%                                30.463140                       14.017742   \n",
              "50%                                32.841295                       15.842836   \n",
              "75%                                35.048006                       18.013975   \n",
              "max                                45.933934                       29.459575   \n",
              "\n",
              "       primary_cleaner.output.tail_pb  primary_cleaner.output.tail_sol  \\\n",
              "count                    19418.000000                     19377.000000   \n",
              "mean                         3.435656                         7.973209   \n",
              "std                          1.392536                         2.212677   \n",
              "min                          0.000000                         0.000000   \n",
              "25%                          2.504365                         6.747483   \n",
              "50%                          3.271153                         8.183673   \n",
              "75%                          4.181748                         9.548586   \n",
              "max                          9.634565                        22.276364   \n",
              "\n",
              "       primary_cleaner.output.tail_au  primary_cleaner.state.floatbank8_a_air  \\\n",
              "count                    19439.000000                            1.943500e+04   \n",
              "mean                         3.914179                            1.589354e+03   \n",
              "std                          1.593034                            1.289968e+02   \n",
              "min                          0.000000                            5.445860e-32   \n",
              "25%                          2.924844                            1.505063e+03   \n",
              "50%                          3.623234                            1.600597e+03   \n",
              "75%                          4.585705                            1.697658e+03   \n",
              "max                         17.788925                            2.103104e+03   \n",
              "\n",
              "       primary_cleaner.state.floatbank8_a_level  \\\n",
              "count                              19438.000000   \n",
              "mean                                -491.195012   \n",
              "std                                   32.431842   \n",
              "min                                 -798.641662   \n",
              "25%                                 -500.308544   \n",
              "50%                                 -499.926134   \n",
              "75%                                 -499.433950   \n",
              "max                                  -57.195404   \n",
              "\n",
              "       primary_cleaner.state.floatbank8_b_air  \\\n",
              "count                            1.943500e+04   \n",
              "mean                             1.591344e+03   \n",
              "std                              1.318109e+02   \n",
              "min                              6.647490e-32   \n",
              "25%                              1.503630e+03   \n",
              "50%                              1.600521e+03   \n",
              "75%                              1.699218e+03   \n",
              "max                              2.114907e+03   \n",
              "\n",
              "       primary_cleaner.state.floatbank8_b_level  \\\n",
              "count                              19438.000000   \n",
              "mean                                -492.192978   \n",
              "std                                   33.794822   \n",
              "min                                 -799.997015   \n",
              "25%                                 -500.437171   \n",
              "50%                                 -499.956767   \n",
              "75%                                 -499.373336   \n",
              "max                                 -142.527229   \n",
              "\n",
              "       primary_cleaner.state.floatbank8_c_air  \\\n",
              "count                            1.943700e+04   \n",
              "mean                             1.586669e+03   \n",
              "std                              1.361114e+02   \n",
              "min                              4.033736e-32   \n",
              "25%                              1.500927e+03   \n",
              "50%                              1.600254e+03   \n",
              "75%                              1.699483e+03   \n",
              "max                              2.013156e+03   \n",
              "\n",
              "       primary_cleaner.state.floatbank8_c_level  \\\n",
              "count                              19438.000000   \n",
              "mean                                -491.980070   \n",
              "std                                   32.711455   \n",
              "min                                 -799.960571   \n",
              "25%                                 -500.703932   \n",
              "50%                                 -499.909524   \n",
              "75%                                 -498.857643   \n",
              "max                                 -150.937035   \n",
              "\n",
              "       primary_cleaner.state.floatbank8_d_air  \\\n",
              "count                            1.943600e+04   \n",
              "mean                             1.542912e+03   \n",
              "std                              2.461996e+02   \n",
              "min                              4.039220e-32   \n",
              "25%                              1.494219e+03   \n",
              "50%                              1.599447e+03   \n",
              "75%                              1.698525e+03   \n",
              "max                              2.398904e+03   \n",
              "\n",
              "       primary_cleaner.state.floatbank8_d_level  \\\n",
              "count                              19438.000000   \n",
              "mean                                -488.017382   \n",
              "std                                   43.959780   \n",
              "min                                 -799.794250   \n",
              "25%                                 -500.458365   \n",
              "50%                                 -499.905974   \n",
              "75%                                 -499.064695   \n",
              "max                                  -30.601828   \n",
              "\n",
              "       rougher.calculation.sulfate_to_au_concentrate  \\\n",
              "count                                   1.943700e+04   \n",
              "mean                                    4.217119e+04   \n",
              "std                                     3.243621e+05   \n",
              "min                                    -4.223520e+07   \n",
              "25%                                     4.070095e+04   \n",
              "50%                                     4.469648e+04   \n",
              "75%                                     4.816821e+04   \n",
              "max                                     3.428099e+06   \n",
              "\n",
              "       rougher.calculation.floatbank10_sulfate_to_au_feed  \\\n",
              "count                                       19437.000000    \n",
              "mean                                         3393.052498    \n",
              "std                                          4943.845943    \n",
              "min                                          -486.598675    \n",
              "25%                                          2611.425833    \n",
              "50%                                          3018.353876    \n",
              "75%                                          3676.769750    \n",
              "max                                        629638.977914    \n",
              "\n",
              "       rougher.calculation.floatbank11_sulfate_to_au_feed  \\\n",
              "count                                       19437.000000    \n",
              "mean                                         3256.854171    \n",
              "std                                          5781.423659    \n",
              "min                                          -264.982785    \n",
              "25%                                          2551.437587    \n",
              "50%                                          2997.218088    \n",
              "75%                                          3601.998911    \n",
              "max                                        718684.955855    \n",
              "\n",
              "       rougher.calculation.au_pb_ratio  rougher.input.feed_ag  \\\n",
              "count                     19439.000000           19439.000000   \n",
              "mean                          2.420119               8.794927   \n",
              "std                           0.814935               1.936847   \n",
              "min                          -0.010548               0.010000   \n",
              "25%                           2.035434               7.237967   \n",
              "50%                           2.309665               8.593574   \n",
              "75%                           2.731794              10.213771   \n",
              "max                          39.379272              14.596026   \n",
              "\n",
              "       rougher.input.feed_pb  rougher.input.feed_rate  \\\n",
              "count           19339.000000             19428.000000   \n",
              "mean                3.598085               478.320042   \n",
              "std                 1.049486               105.373758   \n",
              "min                 0.010000                 0.002986   \n",
              "25%                 2.887280               416.525453   \n",
              "50%                 3.534895               499.416120   \n",
              "75%                 4.244161               550.172183   \n",
              "max                 7.142594               717.508837   \n",
              "\n",
              "       rougher.input.feed_size  rougher.input.feed_sol  rougher.input.feed_au  \\\n",
              "count             19294.000000            19340.000000           19439.000000   \n",
              "mean                 58.970310               36.695114               8.266097   \n",
              "std                  21.634478                5.145445               1.955092   \n",
              "min                   0.046369                0.010000               0.010000   \n",
              "25%                  47.435103               34.207799               6.854384   \n",
              "50%                  54.610197               37.202650               8.125839   \n",
              "75%                  65.023044               40.039133               9.769917   \n",
              "max                 484.967466               53.477742              13.731330   \n",
              "\n",
              "       rougher.input.floatbank10_sulfate  rougher.input.floatbank10_xanthate  \\\n",
              "count                       19405.000000                        19431.000000   \n",
              "mean                           12.334373                            6.021474   \n",
              "std                             3.427317                            1.127263   \n",
              "min                             0.001083                            0.000568   \n",
              "25%                            10.000362                            5.398678   \n",
              "50%                            12.001174                            6.008273   \n",
              "75%                            14.716595                            6.798051   \n",
              "max                            36.118275                            9.703448   \n",
              "\n",
              "       rougher.input.floatbank11_sulfate  rougher.input.floatbank11_xanthate  \\\n",
              "count                       19395.000000                        18986.000000   \n",
              "mean                           12.064140                            6.065533   \n",
              "std                             3.784221                            1.099118   \n",
              "min                             0.000077                            0.000290   \n",
              "25%                             9.998460                            5.402368   \n",
              "50%                            12.000204                            6.098580   \n",
              "75%                            14.636766                            6.801233   \n",
              "max                            37.980648                            9.698407   \n",
              "\n",
              "       rougher.output.concentrate_ag  rougher.output.concentrate_pb  \\\n",
              "count                   19439.000000                   19439.000000   \n",
              "mean                       11.994759                       7.606272   \n",
              "std                         2.733862                       1.796757   \n",
              "min                         0.000000                       0.000000   \n",
              "25%                        10.628337                       6.725987   \n",
              "50%                        12.098115                       7.742580   \n",
              "75%                        13.736996                       8.565199   \n",
              "max                        24.480271                      13.617072   \n",
              "\n",
              "       rougher.output.concentrate_sol  rougher.output.concentrate_au  \\\n",
              "count                    19416.000000                   19439.000000   \n",
              "mean                        28.805571                      19.772000   \n",
              "std                          5.944207                       3.753600   \n",
              "min                          0.000000                       0.000000   \n",
              "25%                         27.224120                      18.802523   \n",
              "50%                         29.835345                      20.280214   \n",
              "75%                         32.189933                      21.717843   \n",
              "max                         38.351193                      28.824507   \n",
              "\n",
              "       rougher.output.recovery  rougher.output.tail_ag  \\\n",
              "count             19439.000000            19438.000000   \n",
              "mean                 83.328587                5.588982   \n",
              "std                  14.148086                1.111288   \n",
              "min                   0.000000                0.594562   \n",
              "25%                  81.037957                4.889892   \n",
              "50%                  86.188892                5.765802   \n",
              "75%                  90.010670                6.389234   \n",
              "max                 100.000000               12.719177   \n",
              "\n",
              "       rougher.output.tail_pb  rougher.output.tail_sol  \\\n",
              "count            19439.000000             19439.000000   \n",
              "mean                 0.645782                18.057106   \n",
              "std                  0.251526                 3.449218   \n",
              "min                  0.007566                10.014648   \n",
              "25%                  0.477728                15.822525   \n",
              "50%                  0.617465                18.106867   \n",
              "75%                  0.778271                20.088151   \n",
              "max                  3.778064                66.117188   \n",
              "\n",
              "       rougher.output.tail_au  rougher.state.floatbank10_a_air  \\\n",
              "count            19439.000000                     19438.000000   \n",
              "mean                 1.816391                      1105.315068   \n",
              "std                  0.680046                       160.826798   \n",
              "min                  0.020676                        -0.042069   \n",
              "25%                  1.404207                       999.661867   \n",
              "50%                  1.808170                      1001.072890   \n",
              "75%                  2.211861                      1205.620588   \n",
              "max                  9.688980                      1521.980372   \n",
              "\n",
              "       rougher.state.floatbank10_a_level  rougher.state.floatbank10_b_air  \\\n",
              "count                       19438.000000                     19438.000000   \n",
              "mean                         -376.610690                      1320.221139   \n",
              "std                            93.909667                       176.287095   \n",
              "min                          -657.949759                        -0.721806   \n",
              "25%                          -499.835165                      1199.626115   \n",
              "50%                          -300.263994                      1301.579988   \n",
              "75%                          -299.981998                      1448.630789   \n",
              "max                          -273.776101                      1809.194008   \n",
              "\n",
              "       rougher.state.floatbank10_b_level  rougher.state.floatbank10_c_air  \\\n",
              "count                       19438.000000                     19438.000000   \n",
              "mean                         -467.247826                      1299.968799   \n",
              "std                            54.673142                       202.804325   \n",
              "min                          -650.260008                        -0.056636   \n",
              "25%                          -500.201130                      1151.076301   \n",
              "50%                          -499.784045                      1300.211537   \n",
              "75%                          -400.615589                      1449.464001   \n",
              "max                          -296.383080                      2499.129174   \n",
              "\n",
              "       rougher.state.floatbank10_c_level  rougher.state.floatbank10_d_air  \\\n",
              "count                       19438.000000                     19439.000000   \n",
              "mean                         -467.716946                      1211.563299   \n",
              "std                            53.534825                       204.019326   \n",
              "min                          -647.544439                        -0.992219   \n",
              "25%                          -500.217218                      1061.051788   \n",
              "50%                          -499.713364                      1201.569141   \n",
              "75%                          -400.985743                      1352.880320   \n",
              "max                          -292.155509                      1817.199290   \n",
              "\n",
              "       rougher.state.floatbank10_d_level  rougher.state.floatbank10_e_air  \\\n",
              "count                       19439.000000                     19003.000000   \n",
              "mean                         -468.239912                      1080.869685   \n",
              "std                            53.921458                       172.149992   \n",
              "min                          -648.390665                        -1.982295   \n",
              "25%                          -500.386386                       998.675263   \n",
              "50%                          -499.532412                      1050.029461   \n",
              "75%                          -401.638550                      1199.425140   \n",
              "max                           -76.397327                      1922.636637   \n",
              "\n",
              "       rougher.state.floatbank10_e_level  rougher.state.floatbank10_f_air  \\\n",
              "count                       19439.000000                     19439.000000   \n",
              "mean                         -466.037742                      1025.274256   \n",
              "std                            57.384424                       164.487837   \n",
              "min                          -649.443911                        -2.593390   \n",
              "25%                          -500.232191                       900.995511   \n",
              "50%                          -499.663089                       999.924821   \n",
              "75%                          -401.161191                      1099.719692   \n",
              "max                          -139.753025                      1706.307502   \n",
              "\n",
              "       rougher.state.floatbank10_f_level  secondary_cleaner.output.tail_ag  \\\n",
              "count                       19439.000000                      19437.000000   \n",
              "mean                         -466.265327                         14.586833   \n",
              "std                            57.850263                          4.265202   \n",
              "min                          -649.949283                          0.000000   \n",
              "25%                          -500.522553                         12.640239   \n",
              "50%                          -499.471777                         15.641902   \n",
              "75%                          -401.511042                         17.358217   \n",
              "max                          -191.718480                         23.264738   \n",
              "\n",
              "       secondary_cleaner.output.tail_pb  secondary_cleaner.output.tail_sol  \\\n",
              "count                      19427.000000                       17691.000000   \n",
              "mean                           5.777703                           7.167247   \n",
              "std                            2.774598                           3.916079   \n",
              "min                            0.000000                           0.000000   \n",
              "25%                            3.864733                           3.845475   \n",
              "50%                            5.344073                           7.685827   \n",
              "75%                            7.788467                          10.411296   \n",
              "max                           17.042505                          26.000772   \n",
              "\n",
              "       secondary_cleaner.output.tail_au  \\\n",
              "count                      19439.000000   \n",
              "mean                           4.339625   \n",
              "std                            2.326751   \n",
              "min                            0.000000   \n",
              "25%                            3.182770   \n",
              "50%                            4.072412   \n",
              "75%                            5.063081   \n",
              "max                           26.811643   \n",
              "\n",
              "       secondary_cleaner.state.floatbank2_a_air  \\\n",
              "count                              19219.000000   \n",
              "mean                                  28.705564   \n",
              "std                                    5.458789   \n",
              "min                                    0.077503   \n",
              "25%                                   25.048462   \n",
              "50%                                   29.099943   \n",
              "75%                                   33.012536   \n",
              "max                                   52.651399   \n",
              "\n",
              "       secondary_cleaner.state.floatbank2_a_level  \\\n",
              "count                                19438.000000   \n",
              "mean                                  -502.367331   \n",
              "std                                     53.571950   \n",
              "min                                   -799.606441   \n",
              "25%                                   -500.233700   \n",
              "50%                                   -499.973250   \n",
              "75%                                   -499.671261   \n",
              "max                                   -127.875565   \n",
              "\n",
              "       secondary_cleaner.state.floatbank2_b_air  \\\n",
              "count                              19416.000000   \n",
              "mean                                  24.106800   \n",
              "std                                    5.749616   \n",
              "min                                    0.000000   \n",
              "25%                                   20.919853   \n",
              "50%                                   25.043289   \n",
              "75%                                   28.008197   \n",
              "max                                   35.152122   \n",
              "\n",
              "       secondary_cleaner.state.floatbank2_b_level  \\\n",
              "count                                19438.000000   \n",
              "mean                                  -503.230712   \n",
              "std                                     56.567724   \n",
              "min                                   -799.873878   \n",
              "25%                                   -500.253794   \n",
              "50%                                   -500.015439   \n",
              "75%                                   -499.785698   \n",
              "max                                   -211.999273   \n",
              "\n",
              "       secondary_cleaner.state.floatbank3_a_air  \\\n",
              "count                              19426.000000   \n",
              "mean                                  28.199338   \n",
              "std                                    6.134908   \n",
              "min                                    0.000000   \n",
              "25%                                   24.949227   \n",
              "50%                                   27.982129   \n",
              "75%                                   33.002798   \n",
              "max                                   44.260464   \n",
              "\n",
              "       secondary_cleaner.state.floatbank3_a_level  \\\n",
              "count                                19438.000000   \n",
              "mean                                  -486.203350   \n",
              "std                                     54.412349   \n",
              "min                                   -799.755798   \n",
              "25%                                   -500.213546   \n",
              "50%                                   -499.930680   \n",
              "75%                                   -499.325739   \n",
              "max                                   -191.678810   \n",
              "\n",
              "       secondary_cleaner.state.floatbank3_b_air  \\\n",
              "count                              19438.000000   \n",
              "mean                                  22.200645   \n",
              "std                                    5.574001   \n",
              "min                                    0.000000   \n",
              "25%                                   18.995924   \n",
              "50%                                   22.011231   \n",
              "75%                                   25.998206   \n",
              "max                                   35.072841   \n",
              "\n",
              "       secondary_cleaner.state.floatbank3_b_level  \\\n",
              "count                                19438.000000   \n",
              "mean                                  -493.742107   \n",
              "std                                     43.372158   \n",
              "min                                   -809.333008   \n",
              "25%                                   -500.123034   \n",
              "50%                                   -499.981902   \n",
              "75%                                   -499.812834   \n",
              "max                                   -159.742331   \n",
              "\n",
              "       secondary_cleaner.state.floatbank4_a_air  \\\n",
              "count                              19433.000000   \n",
              "mean                                  18.987674   \n",
              "std                                    5.411058   \n",
              "min                                    0.000000   \n",
              "25%                                   14.975734   \n",
              "50%                                   18.017481   \n",
              "75%                                   23.012470   \n",
              "max                                   30.115735   \n",
              "\n",
              "       secondary_cleaner.state.floatbank4_a_level  \\\n",
              "count                                19438.000000   \n",
              "mean                                  -485.894516   \n",
              "std                                     47.758570   \n",
              "min                                   -799.798523   \n",
              "25%                                   -500.704892   \n",
              "50%                                   -499.837793   \n",
              "75%                                   -498.249730   \n",
              "max                                   -245.239184   \n",
              "\n",
              "       secondary_cleaner.state.floatbank4_b_air  \\\n",
              "count                              19438.000000   \n",
              "mean                                  15.010366   \n",
              "std                                    4.890228   \n",
              "min                                    0.000000   \n",
              "25%                                   11.940294   \n",
              "50%                                   14.971014   \n",
              "75%                                   19.034162   \n",
              "max                                   31.269706   \n",
              "\n",
              "       secondary_cleaner.state.floatbank4_b_level  \\\n",
              "count                                19438.000000   \n",
              "mean                                  -461.078636   \n",
              "std                                     67.405524   \n",
              "min                                   -800.836914   \n",
              "25%                                   -500.187742   \n",
              "50%                                   -499.459786   \n",
              "75%                                   -400.118106   \n",
              "max                                     -6.506986   \n",
              "\n",
              "       secondary_cleaner.state.floatbank5_a_air  \\\n",
              "count                              19438.000000   \n",
              "mean                                  15.694452   \n",
              "std                                    5.510974   \n",
              "min                                   -0.372054   \n",
              "25%                                   10.988606   \n",
              "50%                                   15.000036   \n",
              "75%                                   18.026190   \n",
              "max                                   43.709931   \n",
              "\n",
              "       secondary_cleaner.state.floatbank5_a_level  \\\n",
              "count                                19438.000000   \n",
              "mean                                  -488.684065   \n",
              "std                                     34.533396   \n",
              "min                                   -797.323986   \n",
              "25%                                   -500.458467   \n",
              "50%                                   -499.802605   \n",
              "75%                                   -498.384187   \n",
              "max                                   -244.483566   \n",
              "\n",
              "       secondary_cleaner.state.floatbank5_b_air  \\\n",
              "count                              19438.000000   \n",
              "mean                                  12.198224   \n",
              "std                                    5.333024   \n",
              "min                                    0.528083   \n",
              "25%                                    8.971105   \n",
              "50%                                   11.019433   \n",
              "75%                                   14.019088   \n",
              "max                                   27.926001   \n",
              "\n",
              "       secondary_cleaner.state.floatbank5_b_level  \\\n",
              "count                                19438.000000   \n",
              "mean                                  -487.149827   \n",
              "std                                     38.347312   \n",
              "min                                   -800.220337   \n",
              "25%                                   -500.129462   \n",
              "50%                                   -499.935317   \n",
              "75%                                   -499.436708   \n",
              "max                                   -137.740004   \n",
              "\n",
              "       secondary_cleaner.state.floatbank6_a_air  \\\n",
              "count                              19437.000000   \n",
              "mean                                  18.959024   \n",
              "std                                    5.550498   \n",
              "min                                   -0.079426   \n",
              "25%                                   14.983037   \n",
              "50%                                   19.960541   \n",
              "75%                                   24.003170   \n",
              "max                                   32.188906   \n",
              "\n",
              "       secondary_cleaner.state.floatbank6_a_level  \n",
              "count                                19438.000000  \n",
              "mean                                  -505.436305  \n",
              "std                                     37.689057  \n",
              "min                                   -809.741464  \n",
              "25%                                   -500.728067  \n",
              "50%                                   -500.048400  \n",
              "75%                                   -499.495378  \n",
              "max                                   -104.427459  "
            ],
            "text/html": [
              "\n",
              "  <div id=\"df-17687985-5981-49a7-b8a6-59d9784b8598\">\n",
              "    <div class=\"colab-df-container\">\n",
              "      <div>\n",
              "<style scoped>\n",
              "    .dataframe tbody tr th:only-of-type {\n",
              "        vertical-align: middle;\n",
              "    }\n",
              "\n",
              "    .dataframe tbody tr th {\n",
              "        vertical-align: top;\n",
              "    }\n",
              "\n",
              "    .dataframe thead th {\n",
              "        text-align: right;\n",
              "    }\n",
              "</style>\n",
              "<table border=\"1\" class=\"dataframe\">\n",
              "  <thead>\n",
              "    <tr style=\"text-align: right;\">\n",
              "      <th></th>\n",
              "      <th>final.output.concentrate_ag</th>\n",
              "      <th>final.output.concentrate_pb</th>\n",
              "      <th>final.output.concentrate_sol</th>\n",
              "      <th>final.output.concentrate_au</th>\n",
              "      <th>final.output.recovery</th>\n",
              "      <th>final.output.tail_ag</th>\n",
              "      <th>final.output.tail_pb</th>\n",
              "      <th>final.output.tail_sol</th>\n",
              "      <th>final.output.tail_au</th>\n",
              "      <th>primary_cleaner.input.sulfate</th>\n",
              "      <th>primary_cleaner.input.depressant</th>\n",
              "      <th>primary_cleaner.input.feed_size</th>\n",
              "      <th>primary_cleaner.input.xanthate</th>\n",
              "      <th>primary_cleaner.output.concentrate_ag</th>\n",
              "      <th>primary_cleaner.output.concentrate_pb</th>\n",
              "      <th>primary_cleaner.output.concentrate_sol</th>\n",
              "      <th>primary_cleaner.output.concentrate_au</th>\n",
              "      <th>primary_cleaner.output.tail_ag</th>\n",
              "      <th>primary_cleaner.output.tail_pb</th>\n",
              "      <th>primary_cleaner.output.tail_sol</th>\n",
              "      <th>primary_cleaner.output.tail_au</th>\n",
              "      <th>primary_cleaner.state.floatbank8_a_air</th>\n",
              "      <th>primary_cleaner.state.floatbank8_a_level</th>\n",
              "      <th>primary_cleaner.state.floatbank8_b_air</th>\n",
              "      <th>primary_cleaner.state.floatbank8_b_level</th>\n",
              "      <th>primary_cleaner.state.floatbank8_c_air</th>\n",
              "      <th>primary_cleaner.state.floatbank8_c_level</th>\n",
              "      <th>primary_cleaner.state.floatbank8_d_air</th>\n",
              "      <th>primary_cleaner.state.floatbank8_d_level</th>\n",
              "      <th>rougher.calculation.sulfate_to_au_concentrate</th>\n",
              "      <th>rougher.calculation.floatbank10_sulfate_to_au_feed</th>\n",
              "      <th>rougher.calculation.floatbank11_sulfate_to_au_feed</th>\n",
              "      <th>rougher.calculation.au_pb_ratio</th>\n",
              "      <th>rougher.input.feed_ag</th>\n",
              "      <th>rougher.input.feed_pb</th>\n",
              "      <th>rougher.input.feed_rate</th>\n",
              "      <th>rougher.input.feed_size</th>\n",
              "      <th>rougher.input.feed_sol</th>\n",
              "      <th>rougher.input.feed_au</th>\n",
              "      <th>rougher.input.floatbank10_sulfate</th>\n",
              "      <th>rougher.input.floatbank10_xanthate</th>\n",
              "      <th>rougher.input.floatbank11_sulfate</th>\n",
              "      <th>rougher.input.floatbank11_xanthate</th>\n",
              "      <th>rougher.output.concentrate_ag</th>\n",
              "      <th>rougher.output.concentrate_pb</th>\n",
              "      <th>rougher.output.concentrate_sol</th>\n",
              "      <th>rougher.output.concentrate_au</th>\n",
              "      <th>rougher.output.recovery</th>\n",
              "      <th>rougher.output.tail_ag</th>\n",
              "      <th>rougher.output.tail_pb</th>\n",
              "      <th>rougher.output.tail_sol</th>\n",
              "      <th>rougher.output.tail_au</th>\n",
              "      <th>rougher.state.floatbank10_a_air</th>\n",
              "      <th>rougher.state.floatbank10_a_level</th>\n",
              "      <th>rougher.state.floatbank10_b_air</th>\n",
              "      <th>rougher.state.floatbank10_b_level</th>\n",
              "      <th>rougher.state.floatbank10_c_air</th>\n",
              "      <th>rougher.state.floatbank10_c_level</th>\n",
              "      <th>rougher.state.floatbank10_d_air</th>\n",
              "      <th>rougher.state.floatbank10_d_level</th>\n",
              "      <th>rougher.state.floatbank10_e_air</th>\n",
              "      <th>rougher.state.floatbank10_e_level</th>\n",
              "      <th>rougher.state.floatbank10_f_air</th>\n",
              "      <th>rougher.state.floatbank10_f_level</th>\n",
              "      <th>secondary_cleaner.output.tail_ag</th>\n",
              "      <th>secondary_cleaner.output.tail_pb</th>\n",
              "      <th>secondary_cleaner.output.tail_sol</th>\n",
              "      <th>secondary_cleaner.output.tail_au</th>\n",
              "      <th>secondary_cleaner.state.floatbank2_a_air</th>\n",
              "      <th>secondary_cleaner.state.floatbank2_a_level</th>\n",
              "      <th>secondary_cleaner.state.floatbank2_b_air</th>\n",
              "      <th>secondary_cleaner.state.floatbank2_b_level</th>\n",
              "      <th>secondary_cleaner.state.floatbank3_a_air</th>\n",
              "      <th>secondary_cleaner.state.floatbank3_a_level</th>\n",
              "      <th>secondary_cleaner.state.floatbank3_b_air</th>\n",
              "      <th>secondary_cleaner.state.floatbank3_b_level</th>\n",
              "      <th>secondary_cleaner.state.floatbank4_a_air</th>\n",
              "      <th>secondary_cleaner.state.floatbank4_a_level</th>\n",
              "      <th>secondary_cleaner.state.floatbank4_b_air</th>\n",
              "      <th>secondary_cleaner.state.floatbank4_b_level</th>\n",
              "      <th>secondary_cleaner.state.floatbank5_a_air</th>\n",
              "      <th>secondary_cleaner.state.floatbank5_a_level</th>\n",
              "      <th>secondary_cleaner.state.floatbank5_b_air</th>\n",
              "      <th>secondary_cleaner.state.floatbank5_b_level</th>\n",
              "      <th>secondary_cleaner.state.floatbank6_a_air</th>\n",
              "      <th>secondary_cleaner.state.floatbank6_a_level</th>\n",
              "    </tr>\n",
              "  </thead>\n",
              "  <tbody>\n",
              "    <tr>\n",
              "      <th>count</th>\n",
              "      <td>19438.000000</td>\n",
              "      <td>19438.000000</td>\n",
              "      <td>19228.000000</td>\n",
              "      <td>19439.000000</td>\n",
              "      <td>19439.000000</td>\n",
              "      <td>19438.000000</td>\n",
              "      <td>19338.000000</td>\n",
              "      <td>19433.000000</td>\n",
              "      <td>19439.000000</td>\n",
              "      <td>19415.000000</td>\n",
              "      <td>19402.000000</td>\n",
              "      <td>19439.000000</td>\n",
              "      <td>19335.000000</td>\n",
              "      <td>19439.000000</td>\n",
              "      <td>19323.000000</td>\n",
              "      <td>19069.000000</td>\n",
              "      <td>19439.000000</td>\n",
              "      <td>19435.000000</td>\n",
              "      <td>19418.000000</td>\n",
              "      <td>19377.000000</td>\n",
              "      <td>19439.000000</td>\n",
              "      <td>1.943500e+04</td>\n",
              "      <td>19438.000000</td>\n",
              "      <td>1.943500e+04</td>\n",
              "      <td>19438.000000</td>\n",
              "      <td>1.943700e+04</td>\n",
              "      <td>19438.000000</td>\n",
              "      <td>1.943600e+04</td>\n",
              "      <td>19438.000000</td>\n",
              "      <td>1.943700e+04</td>\n",
              "      <td>19437.000000</td>\n",
              "      <td>19437.000000</td>\n",
              "      <td>19439.000000</td>\n",
              "      <td>19439.000000</td>\n",
              "      <td>19339.000000</td>\n",
              "      <td>19428.000000</td>\n",
              "      <td>19294.000000</td>\n",
              "      <td>19340.000000</td>\n",
              "      <td>19439.000000</td>\n",
              "      <td>19405.000000</td>\n",
              "      <td>19431.000000</td>\n",
              "      <td>19395.000000</td>\n",
              "      <td>18986.000000</td>\n",
              "      <td>19439.000000</td>\n",
              "      <td>19439.000000</td>\n",
              "      <td>19416.000000</td>\n",
              "      <td>19439.000000</td>\n",
              "      <td>19439.000000</td>\n",
              "      <td>19438.000000</td>\n",
              "      <td>19439.000000</td>\n",
              "      <td>19439.000000</td>\n",
              "      <td>19439.000000</td>\n",
              "      <td>19438.000000</td>\n",
              "      <td>19438.000000</td>\n",
              "      <td>19438.000000</td>\n",
              "      <td>19438.000000</td>\n",
              "      <td>19438.000000</td>\n",
              "      <td>19438.000000</td>\n",
              "      <td>19439.000000</td>\n",
              "      <td>19439.000000</td>\n",
              "      <td>19003.000000</td>\n",
              "      <td>19439.000000</td>\n",
              "      <td>19439.000000</td>\n",
              "      <td>19439.000000</td>\n",
              "      <td>19437.000000</td>\n",
              "      <td>19427.000000</td>\n",
              "      <td>17691.000000</td>\n",
              "      <td>19439.000000</td>\n",
              "      <td>19219.000000</td>\n",
              "      <td>19438.000000</td>\n",
              "      <td>19416.000000</td>\n",
              "      <td>19438.000000</td>\n",
              "      <td>19426.000000</td>\n",
              "      <td>19438.000000</td>\n",
              "      <td>19438.000000</td>\n",
              "      <td>19438.000000</td>\n",
              "      <td>19433.000000</td>\n",
              "      <td>19438.000000</td>\n",
              "      <td>19438.000000</td>\n",
              "      <td>19438.000000</td>\n",
              "      <td>19438.000000</td>\n",
              "      <td>19438.000000</td>\n",
              "      <td>19438.000000</td>\n",
              "      <td>19438.000000</td>\n",
              "      <td>19437.000000</td>\n",
              "      <td>19438.000000</td>\n",
              "    </tr>\n",
              "    <tr>\n",
              "      <th>mean</th>\n",
              "      <td>5.168470</td>\n",
              "      <td>9.978895</td>\n",
              "      <td>9.501224</td>\n",
              "      <td>44.076513</td>\n",
              "      <td>67.050208</td>\n",
              "      <td>9.688589</td>\n",
              "      <td>2.705795</td>\n",
              "      <td>10.583728</td>\n",
              "      <td>3.042467</td>\n",
              "      <td>144.624774</td>\n",
              "      <td>8.817039</td>\n",
              "      <td>7.307078</td>\n",
              "      <td>1.021795</td>\n",
              "      <td>8.442408</td>\n",
              "      <td>9.829530</td>\n",
              "      <td>10.489499</td>\n",
              "      <td>32.119400</td>\n",
              "      <td>16.145826</td>\n",
              "      <td>3.435656</td>\n",
              "      <td>7.973209</td>\n",
              "      <td>3.914179</td>\n",
              "      <td>1.589354e+03</td>\n",
              "      <td>-491.195012</td>\n",
              "      <td>1.591344e+03</td>\n",
              "      <td>-492.192978</td>\n",
              "      <td>1.586669e+03</td>\n",
              "      <td>-491.980070</td>\n",
              "      <td>1.542912e+03</td>\n",
              "      <td>-488.017382</td>\n",
              "      <td>4.217119e+04</td>\n",
              "      <td>3393.052498</td>\n",
              "      <td>3256.854171</td>\n",
              "      <td>2.420119</td>\n",
              "      <td>8.794927</td>\n",
              "      <td>3.598085</td>\n",
              "      <td>478.320042</td>\n",
              "      <td>58.970310</td>\n",
              "      <td>36.695114</td>\n",
              "      <td>8.266097</td>\n",
              "      <td>12.334373</td>\n",
              "      <td>6.021474</td>\n",
              "      <td>12.064140</td>\n",
              "      <td>6.065533</td>\n",
              "      <td>11.994759</td>\n",
              "      <td>7.606272</td>\n",
              "      <td>28.805571</td>\n",
              "      <td>19.772000</td>\n",
              "      <td>83.328587</td>\n",
              "      <td>5.588982</td>\n",
              "      <td>0.645782</td>\n",
              "      <td>18.057106</td>\n",
              "      <td>1.816391</td>\n",
              "      <td>1105.315068</td>\n",
              "      <td>-376.610690</td>\n",
              "      <td>1320.221139</td>\n",
              "      <td>-467.247826</td>\n",
              "      <td>1299.968799</td>\n",
              "      <td>-467.716946</td>\n",
              "      <td>1211.563299</td>\n",
              "      <td>-468.239912</td>\n",
              "      <td>1080.869685</td>\n",
              "      <td>-466.037742</td>\n",
              "      <td>1025.274256</td>\n",
              "      <td>-466.265327</td>\n",
              "      <td>14.586833</td>\n",
              "      <td>5.777703</td>\n",
              "      <td>7.167247</td>\n",
              "      <td>4.339625</td>\n",
              "      <td>28.705564</td>\n",
              "      <td>-502.367331</td>\n",
              "      <td>24.106800</td>\n",
              "      <td>-503.230712</td>\n",
              "      <td>28.199338</td>\n",
              "      <td>-486.203350</td>\n",
              "      <td>22.200645</td>\n",
              "      <td>-493.742107</td>\n",
              "      <td>18.987674</td>\n",
              "      <td>-485.894516</td>\n",
              "      <td>15.010366</td>\n",
              "      <td>-461.078636</td>\n",
              "      <td>15.694452</td>\n",
              "      <td>-488.684065</td>\n",
              "      <td>12.198224</td>\n",
              "      <td>-487.149827</td>\n",
              "      <td>18.959024</td>\n",
              "      <td>-505.436305</td>\n",
              "    </tr>\n",
              "    <tr>\n",
              "      <th>std</th>\n",
              "      <td>1.372348</td>\n",
              "      <td>1.669240</td>\n",
              "      <td>2.787537</td>\n",
              "      <td>5.129784</td>\n",
              "      <td>10.125840</td>\n",
              "      <td>2.328642</td>\n",
              "      <td>0.949077</td>\n",
              "      <td>2.868782</td>\n",
              "      <td>0.922808</td>\n",
              "      <td>44.464071</td>\n",
              "      <td>3.286186</td>\n",
              "      <td>0.613509</td>\n",
              "      <td>0.513254</td>\n",
              "      <td>2.054465</td>\n",
              "      <td>2.556843</td>\n",
              "      <td>3.909639</td>\n",
              "      <td>5.627611</td>\n",
              "      <td>3.548598</td>\n",
              "      <td>1.392536</td>\n",
              "      <td>2.212677</td>\n",
              "      <td>1.593034</td>\n",
              "      <td>1.289968e+02</td>\n",
              "      <td>32.431842</td>\n",
              "      <td>1.318109e+02</td>\n",
              "      <td>33.794822</td>\n",
              "      <td>1.361114e+02</td>\n",
              "      <td>32.711455</td>\n",
              "      <td>2.461996e+02</td>\n",
              "      <td>43.959780</td>\n",
              "      <td>3.243621e+05</td>\n",
              "      <td>4943.845943</td>\n",
              "      <td>5781.423659</td>\n",
              "      <td>0.814935</td>\n",
              "      <td>1.936847</td>\n",
              "      <td>1.049486</td>\n",
              "      <td>105.373758</td>\n",
              "      <td>21.634478</td>\n",
              "      <td>5.145445</td>\n",
              "      <td>1.955092</td>\n",
              "      <td>3.427317</td>\n",
              "      <td>1.127263</td>\n",
              "      <td>3.784221</td>\n",
              "      <td>1.099118</td>\n",
              "      <td>2.733862</td>\n",
              "      <td>1.796757</td>\n",
              "      <td>5.944207</td>\n",
              "      <td>3.753600</td>\n",
              "      <td>14.148086</td>\n",
              "      <td>1.111288</td>\n",
              "      <td>0.251526</td>\n",
              "      <td>3.449218</td>\n",
              "      <td>0.680046</td>\n",
              "      <td>160.826798</td>\n",
              "      <td>93.909667</td>\n",
              "      <td>176.287095</td>\n",
              "      <td>54.673142</td>\n",
              "      <td>202.804325</td>\n",
              "      <td>53.534825</td>\n",
              "      <td>204.019326</td>\n",
              "      <td>53.921458</td>\n",
              "      <td>172.149992</td>\n",
              "      <td>57.384424</td>\n",
              "      <td>164.487837</td>\n",
              "      <td>57.850263</td>\n",
              "      <td>4.265202</td>\n",
              "      <td>2.774598</td>\n",
              "      <td>3.916079</td>\n",
              "      <td>2.326751</td>\n",
              "      <td>5.458789</td>\n",
              "      <td>53.571950</td>\n",
              "      <td>5.749616</td>\n",
              "      <td>56.567724</td>\n",
              "      <td>6.134908</td>\n",
              "      <td>54.412349</td>\n",
              "      <td>5.574001</td>\n",
              "      <td>43.372158</td>\n",
              "      <td>5.411058</td>\n",
              "      <td>47.758570</td>\n",
              "      <td>4.890228</td>\n",
              "      <td>67.405524</td>\n",
              "      <td>5.510974</td>\n",
              "      <td>34.533396</td>\n",
              "      <td>5.333024</td>\n",
              "      <td>38.347312</td>\n",
              "      <td>5.550498</td>\n",
              "      <td>37.689057</td>\n",
              "    </tr>\n",
              "    <tr>\n",
              "      <th>min</th>\n",
              "      <td>0.000000</td>\n",
              "      <td>0.000000</td>\n",
              "      <td>0.000000</td>\n",
              "      <td>0.000000</td>\n",
              "      <td>0.000000</td>\n",
              "      <td>0.000000</td>\n",
              "      <td>0.000000</td>\n",
              "      <td>0.000000</td>\n",
              "      <td>0.000000</td>\n",
              "      <td>0.003112</td>\n",
              "      <td>0.000000</td>\n",
              "      <td>1.080000</td>\n",
              "      <td>0.000005</td>\n",
              "      <td>0.000000</td>\n",
              "      <td>0.000000</td>\n",
              "      <td>0.000000</td>\n",
              "      <td>0.000000</td>\n",
              "      <td>0.000000</td>\n",
              "      <td>0.000000</td>\n",
              "      <td>0.000000</td>\n",
              "      <td>0.000000</td>\n",
              "      <td>5.445860e-32</td>\n",
              "      <td>-798.641662</td>\n",
              "      <td>6.647490e-32</td>\n",
              "      <td>-799.997015</td>\n",
              "      <td>4.033736e-32</td>\n",
              "      <td>-799.960571</td>\n",
              "      <td>4.039220e-32</td>\n",
              "      <td>-799.794250</td>\n",
              "      <td>-4.223520e+07</td>\n",
              "      <td>-486.598675</td>\n",
              "      <td>-264.982785</td>\n",
              "      <td>-0.010548</td>\n",
              "      <td>0.010000</td>\n",
              "      <td>0.010000</td>\n",
              "      <td>0.002986</td>\n",
              "      <td>0.046369</td>\n",
              "      <td>0.010000</td>\n",
              "      <td>0.010000</td>\n",
              "      <td>0.001083</td>\n",
              "      <td>0.000568</td>\n",
              "      <td>0.000077</td>\n",
              "      <td>0.000290</td>\n",
              "      <td>0.000000</td>\n",
              "      <td>0.000000</td>\n",
              "      <td>0.000000</td>\n",
              "      <td>0.000000</td>\n",
              "      <td>0.000000</td>\n",
              "      <td>0.594562</td>\n",
              "      <td>0.007566</td>\n",
              "      <td>10.014648</td>\n",
              "      <td>0.020676</td>\n",
              "      <td>-0.042069</td>\n",
              "      <td>-657.949759</td>\n",
              "      <td>-0.721806</td>\n",
              "      <td>-650.260008</td>\n",
              "      <td>-0.056636</td>\n",
              "      <td>-647.544439</td>\n",
              "      <td>-0.992219</td>\n",
              "      <td>-648.390665</td>\n",
              "      <td>-1.982295</td>\n",
              "      <td>-649.443911</td>\n",
              "      <td>-2.593390</td>\n",
              "      <td>-649.949283</td>\n",
              "      <td>0.000000</td>\n",
              "      <td>0.000000</td>\n",
              "      <td>0.000000</td>\n",
              "      <td>0.000000</td>\n",
              "      <td>0.077503</td>\n",
              "      <td>-799.606441</td>\n",
              "      <td>0.000000</td>\n",
              "      <td>-799.873878</td>\n",
              "      <td>0.000000</td>\n",
              "      <td>-799.755798</td>\n",
              "      <td>0.000000</td>\n",
              "      <td>-809.333008</td>\n",
              "      <td>0.000000</td>\n",
              "      <td>-799.798523</td>\n",
              "      <td>0.000000</td>\n",
              "      <td>-800.836914</td>\n",
              "      <td>-0.372054</td>\n",
              "      <td>-797.323986</td>\n",
              "      <td>0.528083</td>\n",
              "      <td>-800.220337</td>\n",
              "      <td>-0.079426</td>\n",
              "      <td>-809.741464</td>\n",
              "    </tr>\n",
              "    <tr>\n",
              "      <th>25%</th>\n",
              "      <td>4.251240</td>\n",
              "      <td>9.137262</td>\n",
              "      <td>7.722820</td>\n",
              "      <td>43.402215</td>\n",
              "      <td>63.299712</td>\n",
              "      <td>8.062878</td>\n",
              "      <td>2.040119</td>\n",
              "      <td>8.938947</td>\n",
              "      <td>2.461138</td>\n",
              "      <td>114.107029</td>\n",
              "      <td>6.076909</td>\n",
              "      <td>6.940000</td>\n",
              "      <td>0.697224</td>\n",
              "      <td>7.263288</td>\n",
              "      <td>8.702328</td>\n",
              "      <td>7.893893</td>\n",
              "      <td>30.463140</td>\n",
              "      <td>14.017742</td>\n",
              "      <td>2.504365</td>\n",
              "      <td>6.747483</td>\n",
              "      <td>2.924844</td>\n",
              "      <td>1.505063e+03</td>\n",
              "      <td>-500.308544</td>\n",
              "      <td>1.503630e+03</td>\n",
              "      <td>-500.437171</td>\n",
              "      <td>1.500927e+03</td>\n",
              "      <td>-500.703932</td>\n",
              "      <td>1.494219e+03</td>\n",
              "      <td>-500.458365</td>\n",
              "      <td>4.070095e+04</td>\n",
              "      <td>2611.425833</td>\n",
              "      <td>2551.437587</td>\n",
              "      <td>2.035434</td>\n",
              "      <td>7.237967</td>\n",
              "      <td>2.887280</td>\n",
              "      <td>416.525453</td>\n",
              "      <td>47.435103</td>\n",
              "      <td>34.207799</td>\n",
              "      <td>6.854384</td>\n",
              "      <td>10.000362</td>\n",
              "      <td>5.398678</td>\n",
              "      <td>9.998460</td>\n",
              "      <td>5.402368</td>\n",
              "      <td>10.628337</td>\n",
              "      <td>6.725987</td>\n",
              "      <td>27.224120</td>\n",
              "      <td>18.802523</td>\n",
              "      <td>81.037957</td>\n",
              "      <td>4.889892</td>\n",
              "      <td>0.477728</td>\n",
              "      <td>15.822525</td>\n",
              "      <td>1.404207</td>\n",
              "      <td>999.661867</td>\n",
              "      <td>-499.835165</td>\n",
              "      <td>1199.626115</td>\n",
              "      <td>-500.201130</td>\n",
              "      <td>1151.076301</td>\n",
              "      <td>-500.217218</td>\n",
              "      <td>1061.051788</td>\n",
              "      <td>-500.386386</td>\n",
              "      <td>998.675263</td>\n",
              "      <td>-500.232191</td>\n",
              "      <td>900.995511</td>\n",
              "      <td>-500.522553</td>\n",
              "      <td>12.640239</td>\n",
              "      <td>3.864733</td>\n",
              "      <td>3.845475</td>\n",
              "      <td>3.182770</td>\n",
              "      <td>25.048462</td>\n",
              "      <td>-500.233700</td>\n",
              "      <td>20.919853</td>\n",
              "      <td>-500.253794</td>\n",
              "      <td>24.949227</td>\n",
              "      <td>-500.213546</td>\n",
              "      <td>18.995924</td>\n",
              "      <td>-500.123034</td>\n",
              "      <td>14.975734</td>\n",
              "      <td>-500.704892</td>\n",
              "      <td>11.940294</td>\n",
              "      <td>-500.187742</td>\n",
              "      <td>10.988606</td>\n",
              "      <td>-500.458467</td>\n",
              "      <td>8.971105</td>\n",
              "      <td>-500.129462</td>\n",
              "      <td>14.983037</td>\n",
              "      <td>-500.728067</td>\n",
              "    </tr>\n",
              "    <tr>\n",
              "      <th>50%</th>\n",
              "      <td>5.066094</td>\n",
              "      <td>10.102433</td>\n",
              "      <td>9.218961</td>\n",
              "      <td>45.011244</td>\n",
              "      <td>68.172738</td>\n",
              "      <td>9.743623</td>\n",
              "      <td>2.748730</td>\n",
              "      <td>10.622456</td>\n",
              "      <td>2.984909</td>\n",
              "      <td>143.232103</td>\n",
              "      <td>8.038311</td>\n",
              "      <td>7.280000</td>\n",
              "      <td>0.940863</td>\n",
              "      <td>8.507298</td>\n",
              "      <td>10.152433</td>\n",
              "      <td>10.314632</td>\n",
              "      <td>32.841295</td>\n",
              "      <td>15.842836</td>\n",
              "      <td>3.271153</td>\n",
              "      <td>8.183673</td>\n",
              "      <td>3.623234</td>\n",
              "      <td>1.600597e+03</td>\n",
              "      <td>-499.926134</td>\n",
              "      <td>1.600521e+03</td>\n",
              "      <td>-499.956767</td>\n",
              "      <td>1.600254e+03</td>\n",
              "      <td>-499.909524</td>\n",
              "      <td>1.599447e+03</td>\n",
              "      <td>-499.905974</td>\n",
              "      <td>4.469648e+04</td>\n",
              "      <td>3018.353876</td>\n",
              "      <td>2997.218088</td>\n",
              "      <td>2.309665</td>\n",
              "      <td>8.593574</td>\n",
              "      <td>3.534895</td>\n",
              "      <td>499.416120</td>\n",
              "      <td>54.610197</td>\n",
              "      <td>37.202650</td>\n",
              "      <td>8.125839</td>\n",
              "      <td>12.001174</td>\n",
              "      <td>6.008273</td>\n",
              "      <td>12.000204</td>\n",
              "      <td>6.098580</td>\n",
              "      <td>12.098115</td>\n",
              "      <td>7.742580</td>\n",
              "      <td>29.835345</td>\n",
              "      <td>20.280214</td>\n",
              "      <td>86.188892</td>\n",
              "      <td>5.765802</td>\n",
              "      <td>0.617465</td>\n",
              "      <td>18.106867</td>\n",
              "      <td>1.808170</td>\n",
              "      <td>1001.072890</td>\n",
              "      <td>-300.263994</td>\n",
              "      <td>1301.579988</td>\n",
              "      <td>-499.784045</td>\n",
              "      <td>1300.211537</td>\n",
              "      <td>-499.713364</td>\n",
              "      <td>1201.569141</td>\n",
              "      <td>-499.532412</td>\n",
              "      <td>1050.029461</td>\n",
              "      <td>-499.663089</td>\n",
              "      <td>999.924821</td>\n",
              "      <td>-499.471777</td>\n",
              "      <td>15.641902</td>\n",
              "      <td>5.344073</td>\n",
              "      <td>7.685827</td>\n",
              "      <td>4.072412</td>\n",
              "      <td>29.099943</td>\n",
              "      <td>-499.973250</td>\n",
              "      <td>25.043289</td>\n",
              "      <td>-500.015439</td>\n",
              "      <td>27.982129</td>\n",
              "      <td>-499.930680</td>\n",
              "      <td>22.011231</td>\n",
              "      <td>-499.981902</td>\n",
              "      <td>18.017481</td>\n",
              "      <td>-499.837793</td>\n",
              "      <td>14.971014</td>\n",
              "      <td>-499.459786</td>\n",
              "      <td>15.000036</td>\n",
              "      <td>-499.802605</td>\n",
              "      <td>11.019433</td>\n",
              "      <td>-499.935317</td>\n",
              "      <td>19.960541</td>\n",
              "      <td>-500.048400</td>\n",
              "    </tr>\n",
              "    <tr>\n",
              "      <th>75%</th>\n",
              "      <td>5.895527</td>\n",
              "      <td>11.035769</td>\n",
              "      <td>10.947813</td>\n",
              "      <td>46.275313</td>\n",
              "      <td>72.686642</td>\n",
              "      <td>11.134294</td>\n",
              "      <td>3.333216</td>\n",
              "      <td>12.104271</td>\n",
              "      <td>3.571351</td>\n",
              "      <td>175.075656</td>\n",
              "      <td>11.013521</td>\n",
              "      <td>7.670000</td>\n",
              "      <td>1.210990</td>\n",
              "      <td>9.809001</td>\n",
              "      <td>11.424971</td>\n",
              "      <td>13.446702</td>\n",
              "      <td>35.048006</td>\n",
              "      <td>18.013975</td>\n",
              "      <td>4.181748</td>\n",
              "      <td>9.548586</td>\n",
              "      <td>4.585705</td>\n",
              "      <td>1.697658e+03</td>\n",
              "      <td>-499.433950</td>\n",
              "      <td>1.699218e+03</td>\n",
              "      <td>-499.373336</td>\n",
              "      <td>1.699483e+03</td>\n",
              "      <td>-498.857643</td>\n",
              "      <td>1.698525e+03</td>\n",
              "      <td>-499.064695</td>\n",
              "      <td>4.816821e+04</td>\n",
              "      <td>3676.769750</td>\n",
              "      <td>3601.998911</td>\n",
              "      <td>2.731794</td>\n",
              "      <td>10.213771</td>\n",
              "      <td>4.244161</td>\n",
              "      <td>550.172183</td>\n",
              "      <td>65.023044</td>\n",
              "      <td>40.039133</td>\n",
              "      <td>9.769917</td>\n",
              "      <td>14.716595</td>\n",
              "      <td>6.798051</td>\n",
              "      <td>14.636766</td>\n",
              "      <td>6.801233</td>\n",
              "      <td>13.736996</td>\n",
              "      <td>8.565199</td>\n",
              "      <td>32.189933</td>\n",
              "      <td>21.717843</td>\n",
              "      <td>90.010670</td>\n",
              "      <td>6.389234</td>\n",
              "      <td>0.778271</td>\n",
              "      <td>20.088151</td>\n",
              "      <td>2.211861</td>\n",
              "      <td>1205.620588</td>\n",
              "      <td>-299.981998</td>\n",
              "      <td>1448.630789</td>\n",
              "      <td>-400.615589</td>\n",
              "      <td>1449.464001</td>\n",
              "      <td>-400.985743</td>\n",
              "      <td>1352.880320</td>\n",
              "      <td>-401.638550</td>\n",
              "      <td>1199.425140</td>\n",
              "      <td>-401.161191</td>\n",
              "      <td>1099.719692</td>\n",
              "      <td>-401.511042</td>\n",
              "      <td>17.358217</td>\n",
              "      <td>7.788467</td>\n",
              "      <td>10.411296</td>\n",
              "      <td>5.063081</td>\n",
              "      <td>33.012536</td>\n",
              "      <td>-499.671261</td>\n",
              "      <td>28.008197</td>\n",
              "      <td>-499.785698</td>\n",
              "      <td>33.002798</td>\n",
              "      <td>-499.325739</td>\n",
              "      <td>25.998206</td>\n",
              "      <td>-499.812834</td>\n",
              "      <td>23.012470</td>\n",
              "      <td>-498.249730</td>\n",
              "      <td>19.034162</td>\n",
              "      <td>-400.118106</td>\n",
              "      <td>18.026190</td>\n",
              "      <td>-498.384187</td>\n",
              "      <td>14.019088</td>\n",
              "      <td>-499.436708</td>\n",
              "      <td>24.003170</td>\n",
              "      <td>-499.495378</td>\n",
              "    </tr>\n",
              "    <tr>\n",
              "      <th>max</th>\n",
              "      <td>16.001945</td>\n",
              "      <td>17.031899</td>\n",
              "      <td>19.615720</td>\n",
              "      <td>52.756638</td>\n",
              "      <td>100.000000</td>\n",
              "      <td>19.552149</td>\n",
              "      <td>5.804178</td>\n",
              "      <td>22.317730</td>\n",
              "      <td>8.245022</td>\n",
              "      <td>265.983123</td>\n",
              "      <td>40.000000</td>\n",
              "      <td>15.500000</td>\n",
              "      <td>4.102454</td>\n",
              "      <td>16.081632</td>\n",
              "      <td>17.081278</td>\n",
              "      <td>22.458114</td>\n",
              "      <td>45.933934</td>\n",
              "      <td>29.459575</td>\n",
              "      <td>9.634565</td>\n",
              "      <td>22.276364</td>\n",
              "      <td>17.788925</td>\n",
              "      <td>2.103104e+03</td>\n",
              "      <td>-57.195404</td>\n",
              "      <td>2.114907e+03</td>\n",
              "      <td>-142.527229</td>\n",
              "      <td>2.013156e+03</td>\n",
              "      <td>-150.937035</td>\n",
              "      <td>2.398904e+03</td>\n",
              "      <td>-30.601828</td>\n",
              "      <td>3.428099e+06</td>\n",
              "      <td>629638.977914</td>\n",
              "      <td>718684.955855</td>\n",
              "      <td>39.379272</td>\n",
              "      <td>14.596026</td>\n",
              "      <td>7.142594</td>\n",
              "      <td>717.508837</td>\n",
              "      <td>484.967466</td>\n",
              "      <td>53.477742</td>\n",
              "      <td>13.731330</td>\n",
              "      <td>36.118275</td>\n",
              "      <td>9.703448</td>\n",
              "      <td>37.980648</td>\n",
              "      <td>9.698407</td>\n",
              "      <td>24.480271</td>\n",
              "      <td>13.617072</td>\n",
              "      <td>38.351193</td>\n",
              "      <td>28.824507</td>\n",
              "      <td>100.000000</td>\n",
              "      <td>12.719177</td>\n",
              "      <td>3.778064</td>\n",
              "      <td>66.117188</td>\n",
              "      <td>9.688980</td>\n",
              "      <td>1521.980372</td>\n",
              "      <td>-273.776101</td>\n",
              "      <td>1809.194008</td>\n",
              "      <td>-296.383080</td>\n",
              "      <td>2499.129174</td>\n",
              "      <td>-292.155509</td>\n",
              "      <td>1817.199290</td>\n",
              "      <td>-76.397327</td>\n",
              "      <td>1922.636637</td>\n",
              "      <td>-139.753025</td>\n",
              "      <td>1706.307502</td>\n",
              "      <td>-191.718480</td>\n",
              "      <td>23.264738</td>\n",
              "      <td>17.042505</td>\n",
              "      <td>26.000772</td>\n",
              "      <td>26.811643</td>\n",
              "      <td>52.651399</td>\n",
              "      <td>-127.875565</td>\n",
              "      <td>35.152122</td>\n",
              "      <td>-211.999273</td>\n",
              "      <td>44.260464</td>\n",
              "      <td>-191.678810</td>\n",
              "      <td>35.072841</td>\n",
              "      <td>-159.742331</td>\n",
              "      <td>30.115735</td>\n",
              "      <td>-245.239184</td>\n",
              "      <td>31.269706</td>\n",
              "      <td>-6.506986</td>\n",
              "      <td>43.709931</td>\n",
              "      <td>-244.483566</td>\n",
              "      <td>27.926001</td>\n",
              "      <td>-137.740004</td>\n",
              "      <td>32.188906</td>\n",
              "      <td>-104.427459</td>\n",
              "    </tr>\n",
              "  </tbody>\n",
              "</table>\n",
              "</div>\n",
              "      <button class=\"colab-df-convert\" onclick=\"convertToInteractive('df-17687985-5981-49a7-b8a6-59d9784b8598')\"\n",
              "              title=\"Convert this dataframe to an interactive table.\"\n",
              "              style=\"display:none;\">\n",
              "        \n",
              "  <svg xmlns=\"http://www.w3.org/2000/svg\" height=\"24px\"viewBox=\"0 0 24 24\"\n",
              "       width=\"24px\">\n",
              "    <path d=\"M0 0h24v24H0V0z\" fill=\"none\"/>\n",
              "    <path d=\"M18.56 5.44l.94 2.06.94-2.06 2.06-.94-2.06-.94-.94-2.06-.94 2.06-2.06.94zm-11 1L8.5 8.5l.94-2.06 2.06-.94-2.06-.94L8.5 2.5l-.94 2.06-2.06.94zm10 10l.94 2.06.94-2.06 2.06-.94-2.06-.94-.94-2.06-.94 2.06-2.06.94z\"/><path d=\"M17.41 7.96l-1.37-1.37c-.4-.4-.92-.59-1.43-.59-.52 0-1.04.2-1.43.59L10.3 9.45l-7.72 7.72c-.78.78-.78 2.05 0 2.83L4 21.41c.39.39.9.59 1.41.59.51 0 1.02-.2 1.41-.59l7.78-7.78 2.81-2.81c.8-.78.8-2.07 0-2.86zM5.41 20L4 18.59l7.72-7.72 1.47 1.35L5.41 20z\"/>\n",
              "  </svg>\n",
              "      </button>\n",
              "      \n",
              "  <style>\n",
              "    .colab-df-container {\n",
              "      display:flex;\n",
              "      flex-wrap:wrap;\n",
              "      gap: 12px;\n",
              "    }\n",
              "\n",
              "    .colab-df-convert {\n",
              "      background-color: #E8F0FE;\n",
              "      border: none;\n",
              "      border-radius: 50%;\n",
              "      cursor: pointer;\n",
              "      display: none;\n",
              "      fill: #1967D2;\n",
              "      height: 32px;\n",
              "      padding: 0 0 0 0;\n",
              "      width: 32px;\n",
              "    }\n",
              "\n",
              "    .colab-df-convert:hover {\n",
              "      background-color: #E2EBFA;\n",
              "      box-shadow: 0px 1px 2px rgba(60, 64, 67, 0.3), 0px 1px 3px 1px rgba(60, 64, 67, 0.15);\n",
              "      fill: #174EA6;\n",
              "    }\n",
              "\n",
              "    [theme=dark] .colab-df-convert {\n",
              "      background-color: #3B4455;\n",
              "      fill: #D2E3FC;\n",
              "    }\n",
              "\n",
              "    [theme=dark] .colab-df-convert:hover {\n",
              "      background-color: #434B5C;\n",
              "      box-shadow: 0px 1px 3px 1px rgba(0, 0, 0, 0.15);\n",
              "      filter: drop-shadow(0px 1px 2px rgba(0, 0, 0, 0.3));\n",
              "      fill: #FFFFFF;\n",
              "    }\n",
              "  </style>\n",
              "\n",
              "      <script>\n",
              "        const buttonEl =\n",
              "          document.querySelector('#df-17687985-5981-49a7-b8a6-59d9784b8598 button.colab-df-convert');\n",
              "        buttonEl.style.display =\n",
              "          google.colab.kernel.accessAllowed ? 'block' : 'none';\n",
              "\n",
              "        async function convertToInteractive(key) {\n",
              "          const element = document.querySelector('#df-17687985-5981-49a7-b8a6-59d9784b8598');\n",
              "          const dataTable =\n",
              "            await google.colab.kernel.invokeFunction('convertToInteractive',\n",
              "                                                     [key], {});\n",
              "          if (!dataTable) return;\n",
              "\n",
              "          const docLinkHtml = 'Like what you see? Visit the ' +\n",
              "            '<a target=\"_blank\" href=https://colab.research.google.com/notebooks/data_table.ipynb>data table notebook</a>'\n",
              "            + ' to learn more about interactive tables.';\n",
              "          element.innerHTML = '';\n",
              "          dataTable['output_type'] = 'display_data';\n",
              "          await google.colab.output.renderOutput(dataTable, element);\n",
              "          const docLink = document.createElement('div');\n",
              "          docLink.innerHTML = docLinkHtml;\n",
              "          element.appendChild(docLink);\n",
              "        }\n",
              "      </script>\n",
              "    </div>\n",
              "  </div>\n",
              "  "
            ]
          },
          "metadata": {}
        },
        {
          "output_type": "stream",
          "name": "stdout",
          "text": [
            "-----------------\n",
            "Количество пропусков\n",
            "secondary_cleaner.output.tail_sol           1748\n",
            "rougher.input.floatbank11_xanthate           453\n",
            "rougher.state.floatbank10_e_air              436\n",
            "primary_cleaner.output.concentrate_sol       370\n",
            "secondary_cleaner.state.floatbank2_a_air     220\n",
            "                                            ... \n",
            "rougher.state.floatbank10_d_level              0\n",
            "rougher.state.floatbank10_d_air                0\n",
            "rougher.output.tail_pb                         0\n",
            "rougher.output.tail_sol                        0\n",
            "date                                           0\n",
            "Length: 87, dtype: int64\n",
            "-----------------\n",
            "Размер выборки\n",
            "(19439, 87)\n"
          ]
        }
      ]
    },
    {
      "cell_type": "markdown",
      "metadata": {
        "id": "-ZLKn6sMqCdz"
      },
      "source": [
        "Комментарий:\n",
        "- В обучающей выборке на 34 признака больше, чем в тестовой.\n",
        "- Присутствует достаточное количество пропусков во всех таблицах, необходимо будет их изучить.\n",
        "- Тип данных в столбце date нужно привести к datetime."
      ]
    },
    {
      "cell_type": "markdown",
      "metadata": {
        "id": "jsCjvLiXqCd0"
      },
      "source": [
        "### Рассчет эффективности обогощения"
      ]
    },
    {
      "cell_type": "markdown",
      "metadata": {
        "id": "09XSknr4qCd0"
      },
      "source": [
        "На этапе подготовки данных необходимо провести проверку правильности рассчета эффективности обогощения. Для этого нам поможет формула:\n",
        "\n",
        "**recovery = ((C * (F - T)) / (F * (C - T))) * 100%**\n",
        "\n",
        "где:\n",
        "\n",
        "C — доля золота в концентрате после флотации/очистки;\n",
        "\n",
        "F — доля золота в сырье/концентрате до флотации/очистки;\n",
        "\n",
        "T — доля золота в отвальных хвостах после флотации/очистки.\n",
        "\n",
        "**Признаки для проверки формулы это:**\n",
        "\n",
        "С - rougher.output.concentrate_au\n",
        "\n",
        "F - rougher.input.feed_au\n",
        "\n",
        "T - rougher.output.tail_au\n",
        "\n",
        "Результат формулы - rougher.output.recovery"
      ]
    },
    {
      "cell_type": "code",
      "execution_count": 8,
      "metadata": {
        "id": "CUl3RkBMqCd0"
      },
      "outputs": [],
      "source": [
        "#рассчет проводим на обучающей выборке, подготовим переменные\n",
        "\n",
        "C = train_data['rougher.output.concentrate_au']\n",
        "F = train_data['rougher.input.feed_au']\n",
        "T = train_data['rougher.output.tail_au']"
      ]
    },
    {
      "cell_type": "code",
      "execution_count": 9,
      "metadata": {
        "colab": {
          "base_uri": "https://localhost:8080/"
        },
        "id": "X8rSgYXAqCd0",
        "outputId": "06bfca6d-c788-494d-f86f-f13f9962ceaa"
      },
      "outputs": [
        {
          "output_type": "execute_result",
          "data": {
            "text/plain": [
              "0"
            ]
          },
          "metadata": {},
          "execution_count": 9
        }
      ],
      "source": [
        "#проверим, есть ли пропуски в столбце rougher.output.recovery\n",
        "\n",
        "train_data['rougher.output.recovery'].isna().sum()"
      ]
    },
    {
      "cell_type": "code",
      "execution_count": 10,
      "metadata": {
        "colab": {
          "base_uri": "https://localhost:8080/"
        },
        "id": "-0N1EJ8KqCd0",
        "outputId": "8d75e9a6-2666-492a-969c-02c56eabf16c"
      },
      "outputs": [
        {
          "output_type": "stream",
          "name": "stdout",
          "text": [
            "0        87.107763\n",
            "1        86.843261\n",
            "2        86.842308\n",
            "3        87.226430\n",
            "4        86.688794\n",
            "           ...    \n",
            "14144    89.574376\n",
            "14145    87.724007\n",
            "14146    88.890579\n",
            "14147    89.858126\n",
            "14148    89.514960\n",
            "Length: 14149, dtype: float64\n"
          ]
        }
      ],
      "source": [
        "recovery = ((C * (F - T)) / (F * (C - T))) * 100\n",
        "print(recovery)"
      ]
    },
    {
      "cell_type": "code",
      "execution_count": 11,
      "metadata": {
        "colab": {
          "base_uri": "https://localhost:8080/"
        },
        "id": "chWl9exzqCd1",
        "outputId": "64472e6d-c01f-40e3-b3ba-ced40a839263"
      },
      "outputs": [
        {
          "output_type": "stream",
          "name": "stdout",
          "text": [
            "MAE: 9.73512347450521e-15\n"
          ]
        }
      ],
      "source": [
        "#рассчитаем показатель MAE\n",
        "\n",
        "print('MAE:', mean_absolute_error(train_data['rougher.output.recovery'], recovery))"
      ]
    },
    {
      "cell_type": "markdown",
      "metadata": {
        "id": "LLENVuJqqCd1"
      },
      "source": [
        "**Краткий вывод**\n",
        "<br>Отклонение достаточно маленькое, поэтому мы можем считать, что эффективность обогощения была посчитана верно."
      ]
    },
    {
      "cell_type": "markdown",
      "metadata": {
        "id": "-_V3rGZfqCd1"
      },
      "source": [
        "### Анализ недоступных признаков"
      ]
    },
    {
      "cell_type": "code",
      "execution_count": 12,
      "metadata": {
        "colab": {
          "base_uri": "https://localhost:8080/"
        },
        "id": "T7Vc2FF5qCd1",
        "outputId": "554b0683-3ecd-48eb-85bf-7d97a8c9708e"
      },
      "outputs": [
        {
          "output_type": "stream",
          "name": "stdout",
          "text": [
            "final.output.concentrate_ag\n",
            "final.output.concentrate_pb\n",
            "final.output.concentrate_sol\n",
            "final.output.concentrate_au\n",
            "final.output.recovery\n",
            "final.output.tail_ag\n",
            "final.output.tail_pb\n",
            "final.output.tail_sol\n",
            "final.output.tail_au\n",
            "primary_cleaner.output.concentrate_ag\n",
            "primary_cleaner.output.concentrate_pb\n",
            "primary_cleaner.output.concentrate_sol\n",
            "primary_cleaner.output.concentrate_au\n",
            "primary_cleaner.output.tail_ag\n",
            "primary_cleaner.output.tail_pb\n",
            "primary_cleaner.output.tail_sol\n",
            "primary_cleaner.output.tail_au\n",
            "rougher.calculation.sulfate_to_au_concentrate\n",
            "rougher.calculation.floatbank10_sulfate_to_au_feed\n",
            "rougher.calculation.floatbank11_sulfate_to_au_feed\n",
            "rougher.calculation.au_pb_ratio\n",
            "rougher.output.concentrate_ag\n",
            "rougher.output.concentrate_pb\n",
            "rougher.output.concentrate_sol\n",
            "rougher.output.concentrate_au\n",
            "rougher.output.recovery\n",
            "rougher.output.tail_ag\n",
            "rougher.output.tail_pb\n",
            "rougher.output.tail_sol\n",
            "rougher.output.tail_au\n",
            "secondary_cleaner.output.tail_ag\n",
            "secondary_cleaner.output.tail_pb\n",
            "secondary_cleaner.output.tail_sol\n",
            "secondary_cleaner.output.tail_au\n"
          ]
        }
      ],
      "source": [
        "#посмотрим какие признаки не попали в тестовый набор\n",
        "\n",
        "for column in train_data.columns:\n",
        "    if column not in test_data.columns:\n",
        "        print(column)"
      ]
    },
    {
      "cell_type": "markdown",
      "metadata": {
        "id": "qQFwurEZqCd1"
      },
      "source": [
        "**Краткий вывод**\n",
        "\n",
        "Не попали следующие признаки:\n",
        "- признаки финальной характеристики: концентрация продуктов\n",
        "- признаки первичной очистки: концентрация продуктов и \"хвосты\"\n",
        "- признаки флотации: расчетные характеристики, концентрация продуктов, эффективность обогощения и \"хвосты\"\n",
        "- признаки вторичной очистки: \"хвосты\"\n",
        "\n",
        "Все эти признаки не попали в тестовую выборку, так как эти показатели невозможно рассчитать до начала обработки."
      ]
    },
    {
      "cell_type": "markdown",
      "metadata": {
        "id": "Buuf68opqCd1"
      },
      "source": [
        "### Предобработка данных"
      ]
    },
    {
      "cell_type": "markdown",
      "metadata": {
        "id": "9j7nq5cDqCd2"
      },
      "source": [
        "В данном пункте нам необходимо привести в порядок обучающую и тестовую выборки, чтобы в дальнейшем мы могли правильно обучить модели. Также нам нужно добавить целевые признаки - rougher.output.recovery и final.output.recovery."
      ]
    },
    {
      "cell_type": "code",
      "execution_count": 13,
      "metadata": {
        "id": "vWWcH-vPqCd2"
      },
      "outputs": [],
      "source": [
        "#удалим из обучающей выборки те колонки, которых нет в тестовой\n",
        "\n",
        "for column in train_data.columns:\n",
        "    if column not in test_data.columns:\n",
        "        train_data = train_data.drop(column, 1)"
      ]
    },
    {
      "cell_type": "code",
      "execution_count": 14,
      "metadata": {
        "scrolled": true,
        "colab": {
          "base_uri": "https://localhost:8080/"
        },
        "id": "1Co7O61XqCd2",
        "outputId": "1a1edc6e-6d75-4834-fc64-8a5312119852"
      },
      "outputs": [
        {
          "output_type": "stream",
          "name": "stdout",
          "text": [
            "<class 'pandas.core.frame.DataFrame'>\n",
            "RangeIndex: 14149 entries, 0 to 14148\n",
            "Data columns (total 53 columns):\n",
            " #   Column                                      Non-Null Count  Dtype  \n",
            "---  ------                                      --------------  -----  \n",
            " 0   date                                        14149 non-null  object \n",
            " 1   primary_cleaner.input.sulfate               14129 non-null  float64\n",
            " 2   primary_cleaner.input.depressant            14117 non-null  float64\n",
            " 3   primary_cleaner.input.feed_size             14149 non-null  float64\n",
            " 4   primary_cleaner.input.xanthate              14049 non-null  float64\n",
            " 5   primary_cleaner.state.floatbank8_a_air      14145 non-null  float64\n",
            " 6   primary_cleaner.state.floatbank8_a_level    14148 non-null  float64\n",
            " 7   primary_cleaner.state.floatbank8_b_air      14145 non-null  float64\n",
            " 8   primary_cleaner.state.floatbank8_b_level    14148 non-null  float64\n",
            " 9   primary_cleaner.state.floatbank8_c_air      14147 non-null  float64\n",
            " 10  primary_cleaner.state.floatbank8_c_level    14148 non-null  float64\n",
            " 11  primary_cleaner.state.floatbank8_d_air      14146 non-null  float64\n",
            " 12  primary_cleaner.state.floatbank8_d_level    14148 non-null  float64\n",
            " 13  rougher.input.feed_ag                       14149 non-null  float64\n",
            " 14  rougher.input.feed_pb                       14049 non-null  float64\n",
            " 15  rougher.input.feed_rate                     14141 non-null  float64\n",
            " 16  rougher.input.feed_size                     14005 non-null  float64\n",
            " 17  rougher.input.feed_sol                      14071 non-null  float64\n",
            " 18  rougher.input.feed_au                       14149 non-null  float64\n",
            " 19  rougher.input.floatbank10_sulfate           14120 non-null  float64\n",
            " 20  rougher.input.floatbank10_xanthate          14141 non-null  float64\n",
            " 21  rougher.input.floatbank11_sulfate           14113 non-null  float64\n",
            " 22  rougher.input.floatbank11_xanthate          13721 non-null  float64\n",
            " 23  rougher.state.floatbank10_a_air             14148 non-null  float64\n",
            " 24  rougher.state.floatbank10_a_level           14148 non-null  float64\n",
            " 25  rougher.state.floatbank10_b_air             14148 non-null  float64\n",
            " 26  rougher.state.floatbank10_b_level           14148 non-null  float64\n",
            " 27  rougher.state.floatbank10_c_air             14148 non-null  float64\n",
            " 28  rougher.state.floatbank10_c_level           14148 non-null  float64\n",
            " 29  rougher.state.floatbank10_d_air             14149 non-null  float64\n",
            " 30  rougher.state.floatbank10_d_level           14149 non-null  float64\n",
            " 31  rougher.state.floatbank10_e_air             13713 non-null  float64\n",
            " 32  rougher.state.floatbank10_e_level           14149 non-null  float64\n",
            " 33  rougher.state.floatbank10_f_air             14149 non-null  float64\n",
            " 34  rougher.state.floatbank10_f_level           14149 non-null  float64\n",
            " 35  secondary_cleaner.state.floatbank2_a_air    13932 non-null  float64\n",
            " 36  secondary_cleaner.state.floatbank2_a_level  14148 non-null  float64\n",
            " 37  secondary_cleaner.state.floatbank2_b_air    14128 non-null  float64\n",
            " 38  secondary_cleaner.state.floatbank2_b_level  14148 non-null  float64\n",
            " 39  secondary_cleaner.state.floatbank3_a_air    14145 non-null  float64\n",
            " 40  secondary_cleaner.state.floatbank3_a_level  14148 non-null  float64\n",
            " 41  secondary_cleaner.state.floatbank3_b_air    14148 non-null  float64\n",
            " 42  secondary_cleaner.state.floatbank3_b_level  14148 non-null  float64\n",
            " 43  secondary_cleaner.state.floatbank4_a_air    14143 non-null  float64\n",
            " 44  secondary_cleaner.state.floatbank4_a_level  14148 non-null  float64\n",
            " 45  secondary_cleaner.state.floatbank4_b_air    14148 non-null  float64\n",
            " 46  secondary_cleaner.state.floatbank4_b_level  14148 non-null  float64\n",
            " 47  secondary_cleaner.state.floatbank5_a_air    14148 non-null  float64\n",
            " 48  secondary_cleaner.state.floatbank5_a_level  14148 non-null  float64\n",
            " 49  secondary_cleaner.state.floatbank5_b_air    14148 non-null  float64\n",
            " 50  secondary_cleaner.state.floatbank5_b_level  14148 non-null  float64\n",
            " 51  secondary_cleaner.state.floatbank6_a_air    14147 non-null  float64\n",
            " 52  secondary_cleaner.state.floatbank6_a_level  14148 non-null  float64\n",
            "dtypes: float64(52), object(1)\n",
            "memory usage: 5.7+ MB\n"
          ]
        }
      ],
      "source": [
        "train_data.info()"
      ]
    },
    {
      "cell_type": "code",
      "execution_count": 15,
      "metadata": {
        "id": "5O6bXTGCqCd2"
      },
      "outputs": [],
      "source": [
        "#теперь добавим целевые признаки в обучающий и тестовый датасеты\n",
        "\n",
        "target_colls = full_data[['date', 'final.output.recovery', 'rougher.output.recovery']].copy()"
      ]
    },
    {
      "cell_type": "code",
      "execution_count": 16,
      "metadata": {
        "id": "jyT0r3MzqCd2"
      },
      "outputs": [],
      "source": [
        "train_data = train_data.join(target_colls.set_index('date'), on='date')"
      ]
    },
    {
      "cell_type": "code",
      "execution_count": 17,
      "metadata": {
        "id": "CS6Ol7ydqCd2"
      },
      "outputs": [],
      "source": [
        "test_data = test_data.join(target_colls.set_index('date'), on='date')"
      ]
    },
    {
      "cell_type": "code",
      "execution_count": 18,
      "metadata": {
        "id": "lX5W6ztIqCd3"
      },
      "outputs": [],
      "source": [
        "#заполним пропуски, так как значения, которые находятся рядом, имеют примерно одинаковые показатели, \n",
        "#то воспользуемся методом ffill\n",
        "\n",
        "train_data = train_data.ffill(axis=0)\n",
        "test_data = test_data.ffill(axis=0)\n",
        "full_data = full_data.ffill(axis=0)"
      ]
    },
    {
      "cell_type": "code",
      "source": [
        "# приведем тип столбца date к datetime\n",
        "\n",
        "test_data['date'] = pd.to_datetime(test_data['date'], format = '%Y-%m-%d %H:%M:%S')\n",
        "train_data['date'] = pd.to_datetime(train_data['date'], format = '%Y-%m-%d %H:%M:%S')\n",
        "full_data['date'] = pd.to_datetime(full_data['date'], format = '%Y-%m-%d %H:%M:%S')"
      ],
      "metadata": {
        "id": "MqK_1T_15Hvs"
      },
      "execution_count": 19,
      "outputs": []
    },
    {
      "cell_type": "code",
      "source": [
        "test_data.info()"
      ],
      "metadata": {
        "colab": {
          "base_uri": "https://localhost:8080/"
        },
        "id": "J-lJxF_y5MRg",
        "outputId": "b066331f-38b4-4517-f9ac-360fd64129ea"
      },
      "execution_count": 20,
      "outputs": [
        {
          "output_type": "stream",
          "name": "stdout",
          "text": [
            "<class 'pandas.core.frame.DataFrame'>\n",
            "RangeIndex: 5290 entries, 0 to 5289\n",
            "Data columns (total 55 columns):\n",
            " #   Column                                      Non-Null Count  Dtype         \n",
            "---  ------                                      --------------  -----         \n",
            " 0   date                                        5290 non-null   datetime64[ns]\n",
            " 1   primary_cleaner.input.sulfate               5290 non-null   float64       \n",
            " 2   primary_cleaner.input.depressant            5290 non-null   float64       \n",
            " 3   primary_cleaner.input.feed_size             5290 non-null   float64       \n",
            " 4   primary_cleaner.input.xanthate              5290 non-null   float64       \n",
            " 5   primary_cleaner.state.floatbank8_a_air      5290 non-null   float64       \n",
            " 6   primary_cleaner.state.floatbank8_a_level    5290 non-null   float64       \n",
            " 7   primary_cleaner.state.floatbank8_b_air      5290 non-null   float64       \n",
            " 8   primary_cleaner.state.floatbank8_b_level    5290 non-null   float64       \n",
            " 9   primary_cleaner.state.floatbank8_c_air      5290 non-null   float64       \n",
            " 10  primary_cleaner.state.floatbank8_c_level    5290 non-null   float64       \n",
            " 11  primary_cleaner.state.floatbank8_d_air      5290 non-null   float64       \n",
            " 12  primary_cleaner.state.floatbank8_d_level    5290 non-null   float64       \n",
            " 13  rougher.input.feed_ag                       5290 non-null   float64       \n",
            " 14  rougher.input.feed_pb                       5290 non-null   float64       \n",
            " 15  rougher.input.feed_rate                     5290 non-null   float64       \n",
            " 16  rougher.input.feed_size                     5290 non-null   float64       \n",
            " 17  rougher.input.feed_sol                      5290 non-null   float64       \n",
            " 18  rougher.input.feed_au                       5290 non-null   float64       \n",
            " 19  rougher.input.floatbank10_sulfate           5290 non-null   float64       \n",
            " 20  rougher.input.floatbank10_xanthate          5290 non-null   float64       \n",
            " 21  rougher.input.floatbank11_sulfate           5290 non-null   float64       \n",
            " 22  rougher.input.floatbank11_xanthate          5290 non-null   float64       \n",
            " 23  rougher.state.floatbank10_a_air             5290 non-null   float64       \n",
            " 24  rougher.state.floatbank10_a_level           5290 non-null   float64       \n",
            " 25  rougher.state.floatbank10_b_air             5290 non-null   float64       \n",
            " 26  rougher.state.floatbank10_b_level           5290 non-null   float64       \n",
            " 27  rougher.state.floatbank10_c_air             5290 non-null   float64       \n",
            " 28  rougher.state.floatbank10_c_level           5290 non-null   float64       \n",
            " 29  rougher.state.floatbank10_d_air             5290 non-null   float64       \n",
            " 30  rougher.state.floatbank10_d_level           5290 non-null   float64       \n",
            " 31  rougher.state.floatbank10_e_air             5290 non-null   float64       \n",
            " 32  rougher.state.floatbank10_e_level           5290 non-null   float64       \n",
            " 33  rougher.state.floatbank10_f_air             5290 non-null   float64       \n",
            " 34  rougher.state.floatbank10_f_level           5290 non-null   float64       \n",
            " 35  secondary_cleaner.state.floatbank2_a_air    5290 non-null   float64       \n",
            " 36  secondary_cleaner.state.floatbank2_a_level  5290 non-null   float64       \n",
            " 37  secondary_cleaner.state.floatbank2_b_air    5290 non-null   float64       \n",
            " 38  secondary_cleaner.state.floatbank2_b_level  5290 non-null   float64       \n",
            " 39  secondary_cleaner.state.floatbank3_a_air    5290 non-null   float64       \n",
            " 40  secondary_cleaner.state.floatbank3_a_level  5290 non-null   float64       \n",
            " 41  secondary_cleaner.state.floatbank3_b_air    5290 non-null   float64       \n",
            " 42  secondary_cleaner.state.floatbank3_b_level  5290 non-null   float64       \n",
            " 43  secondary_cleaner.state.floatbank4_a_air    5290 non-null   float64       \n",
            " 44  secondary_cleaner.state.floatbank4_a_level  5290 non-null   float64       \n",
            " 45  secondary_cleaner.state.floatbank4_b_air    5290 non-null   float64       \n",
            " 46  secondary_cleaner.state.floatbank4_b_level  5290 non-null   float64       \n",
            " 47  secondary_cleaner.state.floatbank5_a_air    5290 non-null   float64       \n",
            " 48  secondary_cleaner.state.floatbank5_a_level  5290 non-null   float64       \n",
            " 49  secondary_cleaner.state.floatbank5_b_air    5290 non-null   float64       \n",
            " 50  secondary_cleaner.state.floatbank5_b_level  5290 non-null   float64       \n",
            " 51  secondary_cleaner.state.floatbank6_a_air    5290 non-null   float64       \n",
            " 52  secondary_cleaner.state.floatbank6_a_level  5290 non-null   float64       \n",
            " 53  final.output.recovery                       5290 non-null   float64       \n",
            " 54  rougher.output.recovery                     5290 non-null   float64       \n",
            "dtypes: datetime64[ns](1), float64(54)\n",
            "memory usage: 2.2 MB\n"
          ]
        }
      ]
    },
    {
      "cell_type": "code",
      "source": [
        "train_data.info()"
      ],
      "metadata": {
        "colab": {
          "base_uri": "https://localhost:8080/"
        },
        "id": "nM4UZnOx6k5Q",
        "outputId": "d9a5d9ae-183c-44f7-e126-40e27ac70d2c"
      },
      "execution_count": 21,
      "outputs": [
        {
          "output_type": "stream",
          "name": "stdout",
          "text": [
            "<class 'pandas.core.frame.DataFrame'>\n",
            "RangeIndex: 14149 entries, 0 to 14148\n",
            "Data columns (total 55 columns):\n",
            " #   Column                                      Non-Null Count  Dtype         \n",
            "---  ------                                      --------------  -----         \n",
            " 0   date                                        14149 non-null  datetime64[ns]\n",
            " 1   primary_cleaner.input.sulfate               14149 non-null  float64       \n",
            " 2   primary_cleaner.input.depressant            14149 non-null  float64       \n",
            " 3   primary_cleaner.input.feed_size             14149 non-null  float64       \n",
            " 4   primary_cleaner.input.xanthate              14149 non-null  float64       \n",
            " 5   primary_cleaner.state.floatbank8_a_air      14149 non-null  float64       \n",
            " 6   primary_cleaner.state.floatbank8_a_level    14149 non-null  float64       \n",
            " 7   primary_cleaner.state.floatbank8_b_air      14149 non-null  float64       \n",
            " 8   primary_cleaner.state.floatbank8_b_level    14149 non-null  float64       \n",
            " 9   primary_cleaner.state.floatbank8_c_air      14149 non-null  float64       \n",
            " 10  primary_cleaner.state.floatbank8_c_level    14149 non-null  float64       \n",
            " 11  primary_cleaner.state.floatbank8_d_air      14149 non-null  float64       \n",
            " 12  primary_cleaner.state.floatbank8_d_level    14149 non-null  float64       \n",
            " 13  rougher.input.feed_ag                       14149 non-null  float64       \n",
            " 14  rougher.input.feed_pb                       14149 non-null  float64       \n",
            " 15  rougher.input.feed_rate                     14149 non-null  float64       \n",
            " 16  rougher.input.feed_size                     14149 non-null  float64       \n",
            " 17  rougher.input.feed_sol                      14149 non-null  float64       \n",
            " 18  rougher.input.feed_au                       14149 non-null  float64       \n",
            " 19  rougher.input.floatbank10_sulfate           14149 non-null  float64       \n",
            " 20  rougher.input.floatbank10_xanthate          14149 non-null  float64       \n",
            " 21  rougher.input.floatbank11_sulfate           14149 non-null  float64       \n",
            " 22  rougher.input.floatbank11_xanthate          14149 non-null  float64       \n",
            " 23  rougher.state.floatbank10_a_air             14149 non-null  float64       \n",
            " 24  rougher.state.floatbank10_a_level           14149 non-null  float64       \n",
            " 25  rougher.state.floatbank10_b_air             14149 non-null  float64       \n",
            " 26  rougher.state.floatbank10_b_level           14149 non-null  float64       \n",
            " 27  rougher.state.floatbank10_c_air             14149 non-null  float64       \n",
            " 28  rougher.state.floatbank10_c_level           14149 non-null  float64       \n",
            " 29  rougher.state.floatbank10_d_air             14149 non-null  float64       \n",
            " 30  rougher.state.floatbank10_d_level           14149 non-null  float64       \n",
            " 31  rougher.state.floatbank10_e_air             14149 non-null  float64       \n",
            " 32  rougher.state.floatbank10_e_level           14149 non-null  float64       \n",
            " 33  rougher.state.floatbank10_f_air             14149 non-null  float64       \n",
            " 34  rougher.state.floatbank10_f_level           14149 non-null  float64       \n",
            " 35  secondary_cleaner.state.floatbank2_a_air    14149 non-null  float64       \n",
            " 36  secondary_cleaner.state.floatbank2_a_level  14149 non-null  float64       \n",
            " 37  secondary_cleaner.state.floatbank2_b_air    14149 non-null  float64       \n",
            " 38  secondary_cleaner.state.floatbank2_b_level  14149 non-null  float64       \n",
            " 39  secondary_cleaner.state.floatbank3_a_air    14149 non-null  float64       \n",
            " 40  secondary_cleaner.state.floatbank3_a_level  14149 non-null  float64       \n",
            " 41  secondary_cleaner.state.floatbank3_b_air    14149 non-null  float64       \n",
            " 42  secondary_cleaner.state.floatbank3_b_level  14149 non-null  float64       \n",
            " 43  secondary_cleaner.state.floatbank4_a_air    14149 non-null  float64       \n",
            " 44  secondary_cleaner.state.floatbank4_a_level  14149 non-null  float64       \n",
            " 45  secondary_cleaner.state.floatbank4_b_air    14149 non-null  float64       \n",
            " 46  secondary_cleaner.state.floatbank4_b_level  14149 non-null  float64       \n",
            " 47  secondary_cleaner.state.floatbank5_a_air    14149 non-null  float64       \n",
            " 48  secondary_cleaner.state.floatbank5_a_level  14149 non-null  float64       \n",
            " 49  secondary_cleaner.state.floatbank5_b_air    14149 non-null  float64       \n",
            " 50  secondary_cleaner.state.floatbank5_b_level  14149 non-null  float64       \n",
            " 51  secondary_cleaner.state.floatbank6_a_air    14149 non-null  float64       \n",
            " 52  secondary_cleaner.state.floatbank6_a_level  14149 non-null  float64       \n",
            " 53  final.output.recovery                       14149 non-null  float64       \n",
            " 54  rougher.output.recovery                     14149 non-null  float64       \n",
            "dtypes: datetime64[ns](1), float64(54)\n",
            "memory usage: 5.9 MB\n"
          ]
        }
      ]
    },
    {
      "cell_type": "code",
      "source": [
        "full_data.info()"
      ],
      "metadata": {
        "colab": {
          "base_uri": "https://localhost:8080/"
        },
        "id": "3UIEbxxo6kuz",
        "outputId": "322a2b3e-2976-44ec-eaf4-98eb91abe01d"
      },
      "execution_count": 22,
      "outputs": [
        {
          "output_type": "stream",
          "name": "stdout",
          "text": [
            "<class 'pandas.core.frame.DataFrame'>\n",
            "RangeIndex: 19439 entries, 0 to 19438\n",
            "Data columns (total 87 columns):\n",
            " #   Column                                              Non-Null Count  Dtype         \n",
            "---  ------                                              --------------  -----         \n",
            " 0   date                                                19439 non-null  datetime64[ns]\n",
            " 1   final.output.concentrate_ag                         19439 non-null  float64       \n",
            " 2   final.output.concentrate_pb                         19439 non-null  float64       \n",
            " 3   final.output.concentrate_sol                        19439 non-null  float64       \n",
            " 4   final.output.concentrate_au                         19439 non-null  float64       \n",
            " 5   final.output.recovery                               19439 non-null  float64       \n",
            " 6   final.output.tail_ag                                19439 non-null  float64       \n",
            " 7   final.output.tail_pb                                19439 non-null  float64       \n",
            " 8   final.output.tail_sol                               19439 non-null  float64       \n",
            " 9   final.output.tail_au                                19439 non-null  float64       \n",
            " 10  primary_cleaner.input.sulfate                       19439 non-null  float64       \n",
            " 11  primary_cleaner.input.depressant                    19439 non-null  float64       \n",
            " 12  primary_cleaner.input.feed_size                     19439 non-null  float64       \n",
            " 13  primary_cleaner.input.xanthate                      19439 non-null  float64       \n",
            " 14  primary_cleaner.output.concentrate_ag               19439 non-null  float64       \n",
            " 15  primary_cleaner.output.concentrate_pb               19439 non-null  float64       \n",
            " 16  primary_cleaner.output.concentrate_sol              19439 non-null  float64       \n",
            " 17  primary_cleaner.output.concentrate_au               19439 non-null  float64       \n",
            " 18  primary_cleaner.output.tail_ag                      19439 non-null  float64       \n",
            " 19  primary_cleaner.output.tail_pb                      19439 non-null  float64       \n",
            " 20  primary_cleaner.output.tail_sol                     19439 non-null  float64       \n",
            " 21  primary_cleaner.output.tail_au                      19439 non-null  float64       \n",
            " 22  primary_cleaner.state.floatbank8_a_air              19439 non-null  float64       \n",
            " 23  primary_cleaner.state.floatbank8_a_level            19439 non-null  float64       \n",
            " 24  primary_cleaner.state.floatbank8_b_air              19439 non-null  float64       \n",
            " 25  primary_cleaner.state.floatbank8_b_level            19439 non-null  float64       \n",
            " 26  primary_cleaner.state.floatbank8_c_air              19439 non-null  float64       \n",
            " 27  primary_cleaner.state.floatbank8_c_level            19439 non-null  float64       \n",
            " 28  primary_cleaner.state.floatbank8_d_air              19439 non-null  float64       \n",
            " 29  primary_cleaner.state.floatbank8_d_level            19439 non-null  float64       \n",
            " 30  rougher.calculation.sulfate_to_au_concentrate       19439 non-null  float64       \n",
            " 31  rougher.calculation.floatbank10_sulfate_to_au_feed  19439 non-null  float64       \n",
            " 32  rougher.calculation.floatbank11_sulfate_to_au_feed  19439 non-null  float64       \n",
            " 33  rougher.calculation.au_pb_ratio                     19439 non-null  float64       \n",
            " 34  rougher.input.feed_ag                               19439 non-null  float64       \n",
            " 35  rougher.input.feed_pb                               19439 non-null  float64       \n",
            " 36  rougher.input.feed_rate                             19439 non-null  float64       \n",
            " 37  rougher.input.feed_size                             19439 non-null  float64       \n",
            " 38  rougher.input.feed_sol                              19439 non-null  float64       \n",
            " 39  rougher.input.feed_au                               19439 non-null  float64       \n",
            " 40  rougher.input.floatbank10_sulfate                   19439 non-null  float64       \n",
            " 41  rougher.input.floatbank10_xanthate                  19439 non-null  float64       \n",
            " 42  rougher.input.floatbank11_sulfate                   19439 non-null  float64       \n",
            " 43  rougher.input.floatbank11_xanthate                  19439 non-null  float64       \n",
            " 44  rougher.output.concentrate_ag                       19439 non-null  float64       \n",
            " 45  rougher.output.concentrate_pb                       19439 non-null  float64       \n",
            " 46  rougher.output.concentrate_sol                      19439 non-null  float64       \n",
            " 47  rougher.output.concentrate_au                       19439 non-null  float64       \n",
            " 48  rougher.output.recovery                             19439 non-null  float64       \n",
            " 49  rougher.output.tail_ag                              19439 non-null  float64       \n",
            " 50  rougher.output.tail_pb                              19439 non-null  float64       \n",
            " 51  rougher.output.tail_sol                             19439 non-null  float64       \n",
            " 52  rougher.output.tail_au                              19439 non-null  float64       \n",
            " 53  rougher.state.floatbank10_a_air                     19439 non-null  float64       \n",
            " 54  rougher.state.floatbank10_a_level                   19439 non-null  float64       \n",
            " 55  rougher.state.floatbank10_b_air                     19439 non-null  float64       \n",
            " 56  rougher.state.floatbank10_b_level                   19439 non-null  float64       \n",
            " 57  rougher.state.floatbank10_c_air                     19439 non-null  float64       \n",
            " 58  rougher.state.floatbank10_c_level                   19439 non-null  float64       \n",
            " 59  rougher.state.floatbank10_d_air                     19439 non-null  float64       \n",
            " 60  rougher.state.floatbank10_d_level                   19439 non-null  float64       \n",
            " 61  rougher.state.floatbank10_e_air                     19439 non-null  float64       \n",
            " 62  rougher.state.floatbank10_e_level                   19439 non-null  float64       \n",
            " 63  rougher.state.floatbank10_f_air                     19439 non-null  float64       \n",
            " 64  rougher.state.floatbank10_f_level                   19439 non-null  float64       \n",
            " 65  secondary_cleaner.output.tail_ag                    19439 non-null  float64       \n",
            " 66  secondary_cleaner.output.tail_pb                    19439 non-null  float64       \n",
            " 67  secondary_cleaner.output.tail_sol                   19439 non-null  float64       \n",
            " 68  secondary_cleaner.output.tail_au                    19439 non-null  float64       \n",
            " 69  secondary_cleaner.state.floatbank2_a_air            19439 non-null  float64       \n",
            " 70  secondary_cleaner.state.floatbank2_a_level          19439 non-null  float64       \n",
            " 71  secondary_cleaner.state.floatbank2_b_air            19439 non-null  float64       \n",
            " 72  secondary_cleaner.state.floatbank2_b_level          19439 non-null  float64       \n",
            " 73  secondary_cleaner.state.floatbank3_a_air            19439 non-null  float64       \n",
            " 74  secondary_cleaner.state.floatbank3_a_level          19439 non-null  float64       \n",
            " 75  secondary_cleaner.state.floatbank3_b_air            19439 non-null  float64       \n",
            " 76  secondary_cleaner.state.floatbank3_b_level          19439 non-null  float64       \n",
            " 77  secondary_cleaner.state.floatbank4_a_air            19439 non-null  float64       \n",
            " 78  secondary_cleaner.state.floatbank4_a_level          19439 non-null  float64       \n",
            " 79  secondary_cleaner.state.floatbank4_b_air            19439 non-null  float64       \n",
            " 80  secondary_cleaner.state.floatbank4_b_level          19439 non-null  float64       \n",
            " 81  secondary_cleaner.state.floatbank5_a_air            19439 non-null  float64       \n",
            " 82  secondary_cleaner.state.floatbank5_a_level          19439 non-null  float64       \n",
            " 83  secondary_cleaner.state.floatbank5_b_air            19439 non-null  float64       \n",
            " 84  secondary_cleaner.state.floatbank5_b_level          19439 non-null  float64       \n",
            " 85  secondary_cleaner.state.floatbank6_a_air            19439 non-null  float64       \n",
            " 86  secondary_cleaner.state.floatbank6_a_level          19439 non-null  float64       \n",
            "dtypes: datetime64[ns](1), float64(86)\n",
            "memory usage: 12.9 MB\n"
          ]
        }
      ]
    },
    {
      "cell_type": "markdown",
      "metadata": {
        "id": "XiBNmx6rqCd3"
      },
      "source": [
        "### Вывод по разделу"
      ]
    },
    {
      "cell_type": "markdown",
      "metadata": {
        "id": "EDEBdZ9UqCd3"
      },
      "source": [
        "- Данные выгружены и проанализированы\n",
        "- Пропуски заполнены методом ffill\n",
        "- Столбец date приведен к соответствующему типу данных.\n",
        "- Проверена точность расчета эффективности обогощения - с данными все в порядке.\n",
        "- В обучающую выборку были добавлены целевые признаки и были удалены колонки, которых нет в тестовой выборке\n",
        "- В тестовую выборку были добавлены целевые признаки\n",
        "- Данные готовы для дальнейшей работы"
      ]
    },
    {
      "cell_type": "markdown",
      "metadata": {
        "id": "mCS_ekpTqCd3"
      },
      "source": [
        "## Анализ данных"
      ]
    },
    {
      "cell_type": "markdown",
      "metadata": {
        "id": "dBqK828NqCd4"
      },
      "source": [
        "### Анализ изменения концентрации металлов (Au, Ag, Pb) на различных этапах очистки"
      ]
    },
    {
      "cell_type": "markdown",
      "metadata": {
        "id": "s40ML71aqCd4"
      },
      "source": [
        "#### Золото"
      ]
    },
    {
      "cell_type": "code",
      "execution_count": 23,
      "metadata": {
        "colab": {
          "base_uri": "https://localhost:8080/"
        },
        "id": "JlkXVdi3qCd4",
        "outputId": "57fc5c18-548c-4a47-cd68-3be8eeca6332"
      },
      "outputs": [
        {
          "output_type": "stream",
          "name": "stdout",
          "text": [
            "Средняя концентрация золота в исходном сырье: 8.27\n",
            "Средняя концентрация золота после флотации: 19.77\n",
            "Средняя концентрация золота после первичной очистки: 32.12\n",
            "Средняя концентрация золота после вторичной очистки: 44.08\n"
          ]
        }
      ],
      "source": [
        "mean_au_rougher = full_data['rougher.input.feed_au'].mean() #исходное сырье\n",
        "mean_au_float = full_data['rougher.output.concentrate_au'].mean() #флотация\n",
        "mean_au_1_clean = full_data['primary_cleaner.output.concentrate_au'].mean() #первичная очистка\n",
        "mean_au_final = full_data['final.output.concentrate_au'].mean() #финал\n",
        "\n",
        "\n",
        "print('Средняя концентрация золота в исходном сырье: {:.2f}'.format(mean_au_rougher))\n",
        "print('Средняя концентрация золота после флотации: {:.2f}'.format(mean_au_float))\n",
        "print('Средняя концентрация золота после первичной очистки: {:.2f}'.format(mean_au_1_clean))\n",
        "print('Средняя концентрация золота после вторичной очистки: {:.2f}'.format(mean_au_final))"
      ]
    },
    {
      "cell_type": "code",
      "execution_count": 24,
      "metadata": {
        "colab": {
          "base_uri": "https://localhost:8080/",
          "height": 0
        },
        "id": "hvJUKaDzqCd4",
        "outputId": "60f767e4-a4b5-4529-84e5-81eeb967af9a"
      },
      "outputs": [
        {
          "output_type": "execute_result",
          "data": {
            "text/plain": [
              "Text(0.5, 0, 'Концентрация')"
            ]
          },
          "metadata": {},
          "execution_count": 24
        },
        {
          "output_type": "display_data",
          "data": {
            "text/plain": [
              "<Figure size 1080x432 with 1 Axes>"
            ],
            "image/png": "[encoded data removed]"
          },
          "metadata": {
            "needs_background": "light"
          }
        }
      ],
      "source": [
        "plt.figure(figsize=(15, 6))\n",
        "\n",
        "sns.distplot(full_data['rougher.input.feed_au'], kde_kws= {\"label\": \"Исходное сырье\"})\n",
        "sns.distplot(full_data['rougher.output.concentrate_au'], kde_kws= {\"label\": \"После флотации\"})\n",
        "sns.distplot(full_data['primary_cleaner.output.concentrate_au'], kde_kws= {\"label\": \"Первичная очистка\"})\n",
        "sns.distplot(full_data['final.output.concentrate_au'], kde_kws= {\"label\": \"Вторичная обработка\"})\n",
        "\n",
        "plt.title(label='Концентрация золота на различных этапах очистки', fontsize=20)\n",
        "plt.legend(loc='upper right')\n",
        "plt.ylabel('Количество наблюдений')\n",
        "plt.xlabel('Концентрация')"
      ]
    },
    {
      "cell_type": "markdown",
      "metadata": {
        "id": "_kpJkZ_4qCd4"
      },
      "source": [
        "**Краткий вывод** \n",
        "<br>С каждым этапом обработки концентрация золота увеличивается. Особенно заметен переход от исходного сырья к флотации - показатель сильно вырос.\n",
        "\n"
      ]
    },
    {
      "cell_type": "markdown",
      "metadata": {
        "id": "eZ_cfDNXqCd4"
      },
      "source": [
        "#### Серебро"
      ]
    },
    {
      "cell_type": "code",
      "execution_count": 25,
      "metadata": {
        "colab": {
          "base_uri": "https://localhost:8080/"
        },
        "id": "2lVqFyM6qCd4",
        "outputId": "50748628-65fb-4c94-b35a-c0e574bdefce"
      },
      "outputs": [
        {
          "output_type": "stream",
          "name": "stdout",
          "text": [
            "Средняя концентрация серебра в исходном сырье: 8.79\n",
            "Средняя концентрация серебра после флотации: 11.99\n",
            "Средняя концентрация серебра после первичной очистки: 8.44\n",
            "Средняя концентрация серебра после вторичной очистки: 5.17\n"
          ]
        }
      ],
      "source": [
        "mean_ag_rougher = full_data['rougher.input.feed_ag'].mean() #исходное сырье\n",
        "mean_ag_float = full_data['rougher.output.concentrate_ag'].mean() #флотация\n",
        "mean_ag_1_clean = full_data['primary_cleaner.output.concentrate_ag'].mean() #первичная очистка\n",
        "mean_ag_final = full_data['final.output.concentrate_ag'].mean() #финал\n",
        "\n",
        "\n",
        "print('Средняя концентрация серебра в исходном сырье: {:.2f}'.format(mean_ag_rougher))\n",
        "print('Средняя концентрация серебра после флотации: {:.2f}'.format(mean_ag_float))\n",
        "print('Средняя концентрация серебра после первичной очистки: {:.2f}'.format(mean_ag_1_clean))\n",
        "print('Средняя концентрация серебра после вторичной очистки: {:.2f}'.format(mean_ag_final))"
      ]
    },
    {
      "cell_type": "code",
      "execution_count": 26,
      "metadata": {
        "colab": {
          "base_uri": "https://localhost:8080/",
          "height": 0
        },
        "id": "qPWOQ8-1qCd4",
        "outputId": "a006b84e-4c66-4831-8ebb-1dab07679913"
      },
      "outputs": [
        {
          "output_type": "execute_result",
          "data": {
            "text/plain": [
              "Text(0.5, 0, 'Концентрация')"
            ]
          },
          "metadata": {},
          "execution_count": 26
        },
        {
          "output_type": "display_data",
          "data": {
            "text/plain": [
              "<Figure size 1080x432 with 1 Axes>"
            ],
            "image/png": "[encoded data removed]"
          },
          "metadata": {
            "needs_background": "light"
          }
        }
      ],
      "source": [
        "plt.figure(figsize=(15, 6))\n",
        "\n",
        "sns.distplot(full_data['rougher.input.feed_ag'], kde_kws= {\"label\": \"Исходное сырье\"})\n",
        "sns.distplot(full_data['rougher.output.concentrate_ag'], kde_kws= {\"label\": \"После флотации\"})\n",
        "sns.distplot(full_data['primary_cleaner.output.concentrate_ag'], kde_kws= {\"label\": \"Первичная очистка\"})\n",
        "sns.distplot(full_data['final.output.concentrate_ag'], kde_kws= {\"label\": \"Вторичная обработка\"})\n",
        "\n",
        "plt.title(label='Концентрация серебра на различных этапах очистки', fontsize=20)\n",
        "plt.legend(loc='upper right')\n",
        "plt.ylabel('Количество наблюдений')\n",
        "plt.xlabel('Концентрация')"
      ]
    },
    {
      "cell_type": "markdown",
      "metadata": {
        "id": "tcxBOuvRqCd4"
      },
      "source": [
        "**Краткий вывод** \n",
        "<br>Результаты с серебром сильно отличаются от результатов по золоту. Интересно, что наибольшая концентрация достигается на этапе флотации, а после она снова падает, и становится даже меньше, чем в исходном сырье."
      ]
    },
    {
      "cell_type": "markdown",
      "metadata": {
        "id": "0_DlYdx0qCd4"
      },
      "source": [
        "#### Свинец"
      ]
    },
    {
      "cell_type": "code",
      "execution_count": 27,
      "metadata": {
        "colab": {
          "base_uri": "https://localhost:8080/"
        },
        "id": "GYAIK0qpqCd5",
        "outputId": "0c8370d9-3272-415f-8076-0b2f6ef83b10"
      },
      "outputs": [
        {
          "output_type": "stream",
          "name": "stdout",
          "text": [
            "Средняя концентрация свинца в исходном сырье: 3.59\n",
            "Средняя концентрация свинца после флотации: 7.61\n",
            "Средняя концентрация свинца после первичной очистки: 9.81\n",
            "Средняя концентрация свинца после вторичной очистки: 9.98\n"
          ]
        }
      ],
      "source": [
        "mean_pb_rougher = full_data['rougher.input.feed_pb'].mean() #исходное сырье\n",
        "mean_pb_float = full_data['rougher.output.concentrate_pb'].mean() #флотация\n",
        "mean_pb_1_clean = full_data['primary_cleaner.output.concentrate_pb'].mean() #первичная очистка\n",
        "mean_pb_final = full_data['final.output.concentrate_pb'].mean() #финал\n",
        "\n",
        "\n",
        "print('Средняя концентрация свинца в исходном сырье: {:.2f}'.format(mean_pb_rougher))\n",
        "print('Средняя концентрация свинца после флотации: {:.2f}'.format(mean_pb_float))\n",
        "print('Средняя концентрация свинца после первичной очистки: {:.2f}'.format(mean_pb_1_clean))\n",
        "print('Средняя концентрация свинца после вторичной очистки: {:.2f}'.format(mean_pb_final))"
      ]
    },
    {
      "cell_type": "code",
      "execution_count": 28,
      "metadata": {
        "colab": {
          "base_uri": "https://localhost:8080/",
          "height": 0
        },
        "id": "8dYQvxzWqCd5",
        "outputId": "bf7e2450-3539-4096-85d9-ceb410766a30"
      },
      "outputs": [
        {
          "output_type": "execute_result",
          "data": {
            "text/plain": [
              "Text(0.5, 0, 'Концентрация')"
            ]
          },
          "metadata": {},
          "execution_count": 28
        },
        {
          "output_type": "display_data",
          "data": {
            "text/plain": [
              "<Figure size 1080x432 with 1 Axes>"
            ],
            "image/png": "[encoded data removed]"
          },
          "metadata": {
            "needs_background": "light"
          }
        }
      ],
      "source": [
        "plt.figure(figsize=(15, 6))\n",
        "\n",
        "sns.distplot(full_data['rougher.input.feed_pb'], kde_kws= {\"label\": \"Исходное сырье\"})\n",
        "sns.distplot(full_data['rougher.output.concentrate_pb'], kde_kws= {\"label\": \"После флотации\"})\n",
        "sns.distplot(full_data['primary_cleaner.output.concentrate_pb'], kde_kws= {\"label\": \"Первичная очистка\"})\n",
        "sns.distplot(full_data['final.output.concentrate_pb'], kde_kws= {\"label\": \"Вторичная обработка\"})\n",
        "\n",
        "plt.title(label='Концентрация свинца на различных этапах очистки', fontsize=20)\n",
        "plt.legend(loc='upper right')\n",
        "plt.ylabel('Количество наблюдений')\n",
        "plt.xlabel('Концентрация')"
      ]
    },
    {
      "cell_type": "markdown",
      "metadata": {
        "id": "2qCZ0ax5qCd5"
      },
      "source": [
        "**Краткий вывод** \n",
        "<br>Концентрация свинца от этапа к этапу растет, однако несильно. На этапах очистки показатели практически равны."
      ]
    },
    {
      "cell_type": "markdown",
      "metadata": {
        "id": "xafpuZL0qCd5"
      },
      "source": [
        "### Распределение размеров гранул сырья на обучающей и тестовой выборках"
      ]
    },
    {
      "cell_type": "code",
      "execution_count": 29,
      "metadata": {
        "colab": {
          "base_uri": "https://localhost:8080/"
        },
        "id": "wX9EduqjqCd5",
        "outputId": "f208c7a5-1efa-4d05-c419-86d3e3b5e465"
      },
      "outputs": [
        {
          "output_type": "execute_result",
          "data": {
            "text/plain": [
              "count    14149.000000\n",
              "mean        60.239856\n",
              "std         23.005310\n",
              "min          9.659576\n",
              "25%         48.966751\n",
              "50%         55.269784\n",
              "75%         66.007526\n",
              "max        484.967466\n",
              "Name: rougher.input.feed_size, dtype: float64"
            ]
          },
          "metadata": {},
          "execution_count": 29
        }
      ],
      "source": [
        "#сравним распределения на этапе флотации - rougher.input.feed_size\n",
        "\n",
        "train_data['rougher.input.feed_size'].describe()"
      ]
    },
    {
      "cell_type": "code",
      "execution_count": 30,
      "metadata": {
        "colab": {
          "base_uri": "https://localhost:8080/"
        },
        "id": "OQOvFR7_qCd5",
        "outputId": "f36d13d9-8aee-4249-e299-e2d31044d557"
      },
      "outputs": [
        {
          "output_type": "execute_result",
          "data": {
            "text/plain": [
              "count    5290.000000\n",
              "mean       55.952754\n",
              "std        19.080334\n",
              "min         0.046369\n",
              "25%        43.906504\n",
              "50%        50.846843\n",
              "75%        62.451165\n",
              "max       392.494040\n",
              "Name: rougher.input.feed_size, dtype: float64"
            ]
          },
          "metadata": {},
          "execution_count": 30
        }
      ],
      "source": [
        "test_data['rougher.input.feed_size'].describe()"
      ]
    },
    {
      "cell_type": "code",
      "execution_count": 31,
      "metadata": {
        "colab": {
          "base_uri": "https://localhost:8080/",
          "height": 0
        },
        "id": "1SdaVS8JqCd5",
        "outputId": "3f3f76a3-0403-4871-a8a4-285d85b60aec"
      },
      "outputs": [
        {
          "output_type": "execute_result",
          "data": {
            "text/plain": [
              "Text(0.5, 0, 'Размер гранул')"
            ]
          },
          "metadata": {},
          "execution_count": 31
        },
        {
          "output_type": "display_data",
          "data": {
            "text/plain": [
              "<Figure size 720x432 with 1 Axes>"
            ],
            "image/png": "[encoded data removed]"
          },
          "metadata": {
            "needs_background": "light"
          }
        }
      ],
      "source": [
        "plt.figure(figsize=(10, 6))\n",
        "\n",
        "sns.distplot(train_data['rougher.input.feed_size'], kde_kws= {\"label\": \"Обучающая выборка\"})\n",
        "sns.distplot(test_data['rougher.input.feed_size'], kde_kws= {\"label\": \"Тестовая выборка\"})\n",
        "\n",
        "plt.title(label='Распределение размеров гранул сырья на этапе флотации', fontsize=20)\n",
        "plt.legend(loc='upper right')\n",
        "plt.ylabel('Количество наблюдений')\n",
        "plt.xlabel('Размер гранул')"
      ]
    },
    {
      "cell_type": "markdown",
      "metadata": {
        "id": "1lYYVg_WqCd5"
      },
      "source": [
        "**Краткий вывод** \n",
        "<br>На двух выборках распределение примерно одинаковое, средние значения несильно отличаются друг от друга."
      ]
    },
    {
      "cell_type": "code",
      "execution_count": 32,
      "metadata": {
        "colab": {
          "base_uri": "https://localhost:8080/"
        },
        "id": "kXVnwsQ2qCd5",
        "outputId": "1ab3ca58-b946-455e-8d10-6fd02c0e2c43"
      },
      "outputs": [
        {
          "output_type": "execute_result",
          "data": {
            "text/plain": [
              "count    14149.000000\n",
              "mean         7.322310\n",
              "std          0.614062\n",
              "min          1.080000\n",
              "25%          6.960000\n",
              "50%          7.290000\n",
              "75%          7.700000\n",
              "max         10.470000\n",
              "Name: primary_cleaner.input.feed_size, dtype: float64"
            ]
          },
          "metadata": {},
          "execution_count": 32
        }
      ],
      "source": [
        "#сравним распределения на этапе первой очистки - primary_cleaner.input.feed_size\n",
        "\n",
        "train_data['primary_cleaner.input.feed_size'].describe()"
      ]
    },
    {
      "cell_type": "code",
      "execution_count": 33,
      "metadata": {
        "colab": {
          "base_uri": "https://localhost:8080/"
        },
        "id": "fEtdeJkOqCd6",
        "outputId": "7eac90eb-5eb5-49ed-9da9-13c15098c4ef"
      },
      "outputs": [
        {
          "output_type": "execute_result",
          "data": {
            "text/plain": [
              "count    5290.000000\n",
              "mean        7.266339\n",
              "std         0.610219\n",
              "min         5.650000\n",
              "25%         6.890000\n",
              "50%         7.250000\n",
              "75%         7.600000\n",
              "max        15.500000\n",
              "Name: primary_cleaner.input.feed_size, dtype: float64"
            ]
          },
          "metadata": {},
          "execution_count": 33
        }
      ],
      "source": [
        "test_data['primary_cleaner.input.feed_size'].describe()"
      ]
    },
    {
      "cell_type": "code",
      "execution_count": 34,
      "metadata": {
        "colab": {
          "base_uri": "https://localhost:8080/",
          "height": 0
        },
        "id": "BqhbXwi2qCd6",
        "outputId": "d88bd386-1246-491a-a2b8-001eab7211d1"
      },
      "outputs": [
        {
          "output_type": "execute_result",
          "data": {
            "text/plain": [
              "Text(0.5, 0, 'Размер гранул')"
            ]
          },
          "metadata": {},
          "execution_count": 34
        },
        {
          "output_type": "display_data",
          "data": {
            "text/plain": [
              "<Figure size 720x432 with 1 Axes>"
            ],
            "image/png": "[encoded data removed]"
          },
          "metadata": {
            "needs_background": "light"
          }
        }
      ],
      "source": [
        "plt.figure(figsize=(10, 6))\n",
        "\n",
        "sns.distplot(train_data['primary_cleaner.input.feed_size'], kde_kws= {\"label\": \"Обучающая выборка\"})\n",
        "sns.distplot(test_data['primary_cleaner.input.feed_size'], kde_kws= {\"label\": \"Тестовая выборка\"})\n",
        "\n",
        "plt.title(label='Распределение размеров гранул сырья на этапе первой очистки', fontsize=20)\n",
        "plt.legend(loc='upper right')\n",
        "plt.ylabel('Количество наблюдений')\n",
        "plt.xlabel('Размер гранул')"
      ]
    },
    {
      "cell_type": "markdown",
      "metadata": {
        "id": "-BpfMFIhqCd6"
      },
      "source": [
        "**Краткий вывод** \n",
        "<br>Размеры гранул сырья сильно уменьшились по сравнению с этапом флотации. Распределение практически одинаковое на обеих выборках."
      ]
    },
    {
      "cell_type": "markdown",
      "metadata": {
        "id": "hK7a5erBqCd6"
      },
      "source": [
        "### Суммарная концентрация всех веществ на разных стадиях: в сырье, в черновом и финальном концентратах"
      ]
    },
    {
      "cell_type": "markdown",
      "metadata": {
        "id": "mvLO5pVpqCd6"
      },
      "source": [
        "#### Исходное сырье"
      ]
    },
    {
      "cell_type": "code",
      "execution_count": 35,
      "metadata": {
        "id": "l7bnU8k2qCd6"
      },
      "outputs": [],
      "source": [
        "sum_concentrate = full_data['rougher.input.feed_ag'] + full_data['rougher.input.feed_au'] + full_data['rougher.input.feed_pb'] "
      ]
    },
    {
      "cell_type": "code",
      "execution_count": 36,
      "metadata": {
        "colab": {
          "base_uri": "https://localhost:8080/"
        },
        "id": "mb_6ZI12qCd6",
        "outputId": "05a8b06a-3278-48d6-af53-5d2221817a8e"
      },
      "outputs": [
        {
          "output_type": "execute_result",
          "data": {
            "text/plain": [
              "count    19439.000000\n",
              "mean        20.646120\n",
              "std          4.480027\n",
              "min          0.030000\n",
              "25%         17.252879\n",
              "50%         20.141216\n",
              "75%         23.797381\n",
              "max         33.498784\n",
              "dtype: float64"
            ]
          },
          "metadata": {},
          "execution_count": 36
        }
      ],
      "source": [
        "sum_concentrate.describe()"
      ]
    },
    {
      "cell_type": "code",
      "execution_count": 37,
      "metadata": {
        "colab": {
          "base_uri": "https://localhost:8080/",
          "height": 0
        },
        "id": "T9pyitGEqCd6",
        "outputId": "08d5c3c6-066b-4361-fe58-818371c9caf1"
      },
      "outputs": [
        {
          "output_type": "execute_result",
          "data": {
            "text/plain": [
              "Text(0.5, 0, 'Концентрация')"
            ]
          },
          "metadata": {},
          "execution_count": 37
        },
        {
          "output_type": "display_data",
          "data": {
            "text/plain": [
              "<Figure size 720x432 with 1 Axes>"
            ],
            "image/png": "[encoded data removed]"
          },
          "metadata": {
            "needs_background": "light"
          }
        }
      ],
      "source": [
        "plt.figure(figsize=(10, 6))\n",
        "\n",
        "sns.distplot(sum_concentrate, kde_kws= {\"label\": \"Исходное сырье\"})\n",
        "\n",
        "plt.title(label='Концентрация всех веществ в исходном сырье', fontsize=20)\n",
        "plt.legend(loc='upper right')\n",
        "plt.ylabel('Количество наблюдений')\n",
        "plt.xlabel('Концентрация')"
      ]
    },
    {
      "cell_type": "markdown",
      "metadata": {
        "id": "4gJo2VphqCd6"
      },
      "source": [
        "**Краткий вывод** \n",
        "<br>Распределение похоже на нормальное, среднее значение - 20. Доля веществ в исходном сырье не такая уж и большая. То есть большая часть приходится на отходы."
      ]
    },
    {
      "cell_type": "markdown",
      "metadata": {
        "id": "Jo1b1E_3qCd6"
      },
      "source": [
        "#### После флотации"
      ]
    },
    {
      "cell_type": "code",
      "execution_count": 38,
      "metadata": {
        "id": "j5GHh5-5qCd6"
      },
      "outputs": [],
      "source": [
        "sum_concentrate_f = full_data['rougher.output.concentrate_au'] + full_data['rougher.output.concentrate_ag'] + full_data['rougher.output.concentrate_pb']"
      ]
    },
    {
      "cell_type": "code",
      "execution_count": 39,
      "metadata": {
        "scrolled": true,
        "colab": {
          "base_uri": "https://localhost:8080/"
        },
        "id": "vfq3W3Q8qCd7",
        "outputId": "a2691cfa-7280-49b8-ff87-2aded6e350c9"
      },
      "outputs": [
        {
          "output_type": "execute_result",
          "data": {
            "text/plain": [
              "count    19439.000000\n",
              "mean        39.373032\n",
              "std          6.863389\n",
              "min          0.000000\n",
              "25%         38.394639\n",
              "50%         40.312648\n",
              "75%         42.365102\n",
              "max         55.568687\n",
              "dtype: float64"
            ]
          },
          "metadata": {},
          "execution_count": 39
        }
      ],
      "source": [
        "sum_concentrate_f.describe()"
      ]
    },
    {
      "cell_type": "code",
      "execution_count": 40,
      "metadata": {
        "colab": {
          "base_uri": "https://localhost:8080/",
          "height": 0
        },
        "id": "moDe55ApqCd7",
        "outputId": "e8de7cbb-19bd-4e78-f3db-467bccce8449"
      },
      "outputs": [
        {
          "output_type": "execute_result",
          "data": {
            "text/plain": [
              "Text(0.5, 0, 'Концентрация')"
            ]
          },
          "metadata": {},
          "execution_count": 40
        },
        {
          "output_type": "display_data",
          "data": {
            "text/plain": [
              "<Figure size 720x432 with 1 Axes>"
            ],
            "image/png": "[encoded data removed]"
          },
          "metadata": {
            "needs_background": "light"
          }
        }
      ],
      "source": [
        "plt.figure(figsize=(10, 6))\n",
        "\n",
        "sns.distplot(sum_concentrate_f, kde_kws= {\"label\": \"После флотации\"})\n",
        "\n",
        "plt.title(label='Концентрация всех веществ после флотации', fontsize=20)\n",
        "plt.legend(loc='upper right')\n",
        "plt.ylabel('Количество наблюдений')\n",
        "plt.xlabel('Концентрация')"
      ]
    },
    {
      "cell_type": "markdown",
      "metadata": {
        "id": "hl57WSHwqCd7"
      },
      "source": [
        "**Краткий вывод** \n",
        "<br>После данного этапа концентрация увеличилась. Наблюдаются выбросы в районе нулевых значений."
      ]
    },
    {
      "cell_type": "markdown",
      "metadata": {
        "id": "JLVMyzGmqCd7"
      },
      "source": [
        "#### Финальный этап"
      ]
    },
    {
      "cell_type": "code",
      "execution_count": 41,
      "metadata": {
        "id": "Bzgtx3I3qCd7"
      },
      "outputs": [],
      "source": [
        "sum_concentrate_end = full_data['final.output.concentrate_au'] + full_data['final.output.concentrate_ag'] + full_data['final.output.concentrate_pb']"
      ]
    },
    {
      "cell_type": "code",
      "execution_count": 42,
      "metadata": {
        "colab": {
          "base_uri": "https://localhost:8080/"
        },
        "id": "YQWTXAX0qCd7",
        "outputId": "f4465f42-ece2-4426-e58c-5689aba4dec8"
      },
      "outputs": [
        {
          "output_type": "execute_result",
          "data": {
            "text/plain": [
              "count    19439.000000\n",
              "mean        59.223721\n",
              "std          6.095138\n",
              "min          0.000000\n",
              "25%         59.298323\n",
              "50%         60.306921\n",
              "75%         61.096667\n",
              "max         64.968881\n",
              "dtype: float64"
            ]
          },
          "metadata": {},
          "execution_count": 42
        }
      ],
      "source": [
        "sum_concentrate_end.describe()"
      ]
    },
    {
      "cell_type": "code",
      "execution_count": 43,
      "metadata": {
        "colab": {
          "base_uri": "https://localhost:8080/",
          "height": 0
        },
        "id": "_VUFvKwwqCd7",
        "outputId": "00d32594-57ac-491d-9ec1-479d60e403aa"
      },
      "outputs": [
        {
          "output_type": "execute_result",
          "data": {
            "text/plain": [
              "Text(0.5, 0, 'Концентрация')"
            ]
          },
          "metadata": {},
          "execution_count": 43
        },
        {
          "output_type": "display_data",
          "data": {
            "text/plain": [
              "<Figure size 720x432 with 1 Axes>"
            ],
            "image/png": "[encoded data removed]"
          },
          "metadata": {
            "needs_background": "light"
          }
        }
      ],
      "source": [
        "plt.figure(figsize=(10, 6))\n",
        "\n",
        "sns.distplot(sum_concentrate_end, kde_kws= {\"label\": \"Финальный этап\"})\n",
        "\n",
        "plt.title(label='Концентрация всех веществ на финальном этапе', fontsize=20)\n",
        "plt.legend(loc='upper right')\n",
        "plt.ylabel('Количество наблюдений')\n",
        "plt.xlabel('Концентрация')"
      ]
    },
    {
      "cell_type": "markdown",
      "metadata": {
        "id": "6JLjKeUEqCd7"
      },
      "source": [
        "**Краткий вывод** \n",
        "<br>Концентрация всех веществ сильно увеличилась, большинство значений сосредоточено вокруг среднего значения - 59. В финальном продукте концентрация полезных веществ больше, чем остальных."
      ]
    },
    {
      "cell_type": "markdown",
      "metadata": {
        "id": "6-QFCTdTqCd7"
      },
      "source": [
        "### Коррекция выборки"
      ]
    },
    {
      "cell_type": "markdown",
      "metadata": {
        "id": "ZcfInQGkqCd7"
      },
      "source": [
        "Так как в суммарных концентрациях присутствуют нулевые значения, то избавимся от них в обучающей и тестовой выборках."
      ]
    },
    {
      "cell_type": "code",
      "execution_count": 44,
      "metadata": {
        "id": "Le3bClulqCd8"
      },
      "outputs": [],
      "source": [
        "for df in [train_data, test_data]:\n",
        "    df.drop(df[((\n",
        "        df['rougher.input.feed_ag'] == 0) | (df['rougher.input.feed_au'] == 0) |\n",
        "    (df['rougher.input.feed_pb'] == 0) |  (df['rougher.input.feed_ag'] == 0) | (df['rougher.input.feed_au'] == 0) |  (df['rougher.input.feed_pb'] == 0))].index, inplace=True)"
      ]
    },
    {
      "cell_type": "markdown",
      "metadata": {
        "id": "Lho0bpx6qCd8"
      },
      "source": [
        "### Вывод по разделу"
      ]
    },
    {
      "cell_type": "markdown",
      "metadata": {
        "id": "Wq5zwFRZqCd8"
      },
      "source": [
        "- Данные по веществам проанализированы\n",
        "- Концентрация золота и свинца с каждым этапом обработки увеличивается, в то время, как концентрация серебра наоборот снижается\n",
        "- Размеры гранул сырья с каждым этапом уменьшаются\n",
        "- Доля веществ в итоговом продукте получается в среднем 59, что больше половины, следовательно полезные вещества в конечном продукте преобладают"
      ]
    },
    {
      "cell_type": "markdown",
      "metadata": {
        "id": "Coer8UVaqCd8"
      },
      "source": [
        "## Модель"
      ]
    },
    {
      "cell_type": "markdown",
      "metadata": {
        "id": "M7xuvdJYqCd8"
      },
      "source": [
        "### sMAPE"
      ]
    },
    {
      "cell_type": "code",
      "execution_count": 45,
      "metadata": {
        "id": "eDE-2sXyqCd8"
      },
      "outputs": [],
      "source": [
        "#напишем функцию для вычисления этой метрики\n",
        "\n",
        "def smape(target, predictions):\n",
        "    return 100/len(target) * np.sum(2 * np.abs(predictions - target) / (np.abs(target) + np.abs(predictions)))"
      ]
    },
    {
      "cell_type": "code",
      "execution_count": 46,
      "metadata": {
        "id": "3N6_MtYYqCd8"
      },
      "outputs": [],
      "source": [
        "#а также функцию для вычисления итогового sMAPE\n",
        "\n",
        "def final_smape(rougher, final):\n",
        "    return 0.25 * rougher + 0.75 * final"
      ]
    },
    {
      "cell_type": "markdown",
      "metadata": {
        "id": "-u-xxF4cqCd8"
      },
      "source": [
        "### Подготовка данных"
      ]
    },
    {
      "cell_type": "code",
      "execution_count": 47,
      "metadata": {
        "id": "sELKBtr2qCd9"
      },
      "outputs": [],
      "source": [
        "#обучающая выборка\n",
        "\n",
        "features_train = train_data.drop(['date', 'final.output.recovery', 'rougher.output.recovery'], axis=1)\n",
        "target_train_final = train_data['final.output.recovery']\n",
        "target_train_rougher = train_data['rougher.output.recovery']"
      ]
    },
    {
      "cell_type": "code",
      "execution_count": 48,
      "metadata": {
        "colab": {
          "base_uri": "https://localhost:8080/"
        },
        "id": "ZLXKro1GqCd9",
        "outputId": "d6a79d61-4983-4fa7-d22d-d56011de35db"
      },
      "outputs": [
        {
          "output_type": "stream",
          "name": "stdout",
          "text": [
            "(14149, 52)\n",
            "(14149,)\n",
            "(14149,)\n"
          ]
        }
      ],
      "source": [
        "print(features_train.shape)\n",
        "print(target_train_final.shape)\n",
        "print(target_train_rougher.shape)"
      ]
    },
    {
      "cell_type": "code",
      "execution_count": 49,
      "metadata": {
        "id": "D8WJCjAcqCd9"
      },
      "outputs": [],
      "source": [
        "#масштабируем признаки\n",
        "\n",
        "scaler = StandardScaler()\n",
        "scaler.fit(features_train) \n",
        "features_train_s = scaler.transform(features_train)"
      ]
    },
    {
      "cell_type": "code",
      "execution_count": 50,
      "metadata": {
        "id": "t1oJnPlcqCd_"
      },
      "outputs": [],
      "source": [
        "#тестовая выборка\n",
        "\n",
        "features_test = test_data.drop(['date', 'final.output.recovery', 'rougher.output.recovery'], axis=1)\n",
        "target_test_final = test_data['final.output.recovery']\n",
        "target_test_rougher = test_data['rougher.output.recovery']"
      ]
    },
    {
      "cell_type": "code",
      "execution_count": 51,
      "metadata": {
        "colab": {
          "base_uri": "https://localhost:8080/"
        },
        "id": "L7LWSznoqCd_",
        "outputId": "f5b55bef-52a0-4d4d-ffe9-6c95ac41d0a0"
      },
      "outputs": [
        {
          "output_type": "stream",
          "name": "stdout",
          "text": [
            "(5290, 52)\n",
            "(5290,)\n",
            "(5290,)\n"
          ]
        }
      ],
      "source": [
        "print(features_test.shape)\n",
        "print(target_test_final.shape)\n",
        "print(target_test_rougher.shape)"
      ]
    },
    {
      "cell_type": "code",
      "execution_count": 52,
      "metadata": {
        "id": "ZFtjuP00qCd_"
      },
      "outputs": [],
      "source": [
        "#масштабируем признаки\n",
        "\n",
        "scaler.fit(features_test) \n",
        "features_test_s = scaler.transform(features_test)"
      ]
    },
    {
      "cell_type": "markdown",
      "metadata": {
        "id": "mK1Nq4SiqCeA"
      },
      "source": [
        "### Проверка моделей кросс-валидацией"
      ]
    },
    {
      "cell_type": "markdown",
      "source": [
        "Оценим следующие модели:\n",
        "\n",
        "- LinearRegression\n",
        "- LGBMRegressor\n",
        "- RandomForestRegressor\n",
        "\n",
        "По итогам оценки качества выберем наилучшую модель и посчитаем целевую метрику. Для большинства моделей заранее подберем гипперпараметры с помощью GridSearch, чтобы оценка была точнее."
      ],
      "metadata": {
        "id": "EV_I9BOw0fIx"
      }
    },
    {
      "cell_type": "code",
      "execution_count": 53,
      "metadata": {
        "id": "-mNsSRPIqCeA"
      },
      "outputs": [],
      "source": [
        "my_scorer = make_scorer(smape, greater_is_better=False)"
      ]
    },
    {
      "cell_type": "code",
      "execution_count": 54,
      "metadata": {
        "colab": {
          "base_uri": "https://localhost:8080/"
        },
        "id": "xJ82kJWcqCeA",
        "outputId": "e774e48c-6313-452a-9aa9-a295a990c577"
      },
      "outputs": [
        {
          "output_type": "stream",
          "name": "stdout",
          "text": [
            "Средняя оценка качества модели: 12.80\n",
            "CPU times: user 184 ms, sys: 74.6 ms, total: 258 ms\n",
            "Wall time: 149 ms\n"
          ]
        }
      ],
      "source": [
        "%%time\n",
        "\n",
        "# проверим модель линейной регрессии для чернового концентрата\n",
        "\n",
        "model_lin_1 = LinearRegression()\n",
        "scores_lin_1 = cross_val_score(model_lin_1, features_train, target_train_rougher, cv=5, scoring=my_scorer)\n",
        "final_score_lin_1 = abs(scores_lin_1.mean())\n",
        "print('Средняя оценка качества модели: {:.2f}'.format(final_score_lin_1))"
      ]
    },
    {
      "cell_type": "code",
      "execution_count": 55,
      "metadata": {
        "colab": {
          "base_uri": "https://localhost:8080/"
        },
        "id": "repPrTWWqCeA",
        "outputId": "c70afcaf-ddb9-4811-938d-e6a755557349"
      },
      "outputs": [
        {
          "output_type": "stream",
          "name": "stdout",
          "text": [
            "Средняя оценка качества модели: 12.25\n",
            "CPU times: user 167 ms, sys: 91.7 ms, total: 259 ms\n",
            "Wall time: 138 ms\n"
          ]
        }
      ],
      "source": [
        "%%time\n",
        "\n",
        "# проверим модель линейной регрессии для финального концентрата\n",
        "\n",
        "model_lin_2 = LinearRegression()\n",
        "scores_lin_2 = cross_val_score(model_lin_2, features_train, target_train_final, cv=5, scoring=my_scorer)\n",
        "final_score_lin_2 = abs(scores_lin_2.mean())\n",
        "print('Средняя оценка качества модели: {:.2f}'.format(final_score_lin_2))"
      ]
    },
    {
      "cell_type": "code",
      "source": [
        "%%time\n",
        "\n",
        "# проверим модель LGBMRegressor для чернового концентрата\n",
        "\n",
        "model_lgbm_1 = LGBMRegressor(random_state=45, learning_rate=0.1, max_depth=2, n_estimators=50)\n",
        "scores_lgbm_1 = cross_val_score(model_lgbm_1, features_train, target_train_rougher, cv=5, scoring=my_scorer)\n",
        "final_score_lgbm_1 = abs(scores_lgbm_1.mean())\n",
        "print('Средняя оценка качества модели: {:.2f}'.format(final_score_lgbm_1))"
      ],
      "metadata": {
        "colab": {
          "base_uri": "https://localhost:8080/"
        },
        "id": "EUN9Rt2BAx-E",
        "outputId": "9afbc27a-dc3d-48b4-f081-df28c2cbbdbe"
      },
      "execution_count": 56,
      "outputs": [
        {
          "output_type": "stream",
          "name": "stdout",
          "text": [
            "Средняя оценка качества модели: 10.78\n",
            "CPU times: user 1.31 s, sys: 66.8 ms, total: 1.37 s\n",
            "Wall time: 751 ms\n"
          ]
        }
      ]
    },
    {
      "cell_type": "code",
      "source": [
        "%%time\n",
        "\n",
        "# проверим модель LGBMRegressor для финального концентрата\n",
        "\n",
        "model_lgbm_2 = LGBMRegressor(random_state=45, learning_rate=0.1, max_depth=2, n_estimators=50)\n",
        "scores_lgbm_2 = cross_val_score(model_lgbm_2, features_train, target_train_final, cv=5, scoring=my_scorer)\n",
        "final_score_lgbm_2 = abs(scores_lgbm_2.mean())\n",
        "print('Средняя оценка качества модели: {:.2f}'.format(final_score_lgbm_2))"
      ],
      "metadata": {
        "colab": {
          "base_uri": "https://localhost:8080/"
        },
        "id": "eo1DksLPB1Ye",
        "outputId": "1a24c75b-e9e8-4478-aebb-cc49476e4a5c"
      },
      "execution_count": 57,
      "outputs": [
        {
          "output_type": "stream",
          "name": "stdout",
          "text": [
            "Средняя оценка качества модели: 10.04\n",
            "CPU times: user 1.28 s, sys: 8.02 ms, total: 1.29 s\n",
            "Wall time: 694 ms\n"
          ]
        }
      ]
    },
    {
      "cell_type": "code",
      "execution_count": 58,
      "metadata": {
        "colab": {
          "base_uri": "https://localhost:8080/"
        },
        "id": "M5wc_CC4qCeA",
        "outputId": "b7f490cd-5e17-4b26-e064-aa9115a3de42"
      },
      "outputs": [
        {
          "output_type": "stream",
          "name": "stdout",
          "text": [
            "Средняя оценка качества модели: 10.96\n",
            "CPU times: user 1min 29s, sys: 87.2 ms, total: 1min 29s\n",
            "Wall time: 1min 31s\n"
          ]
        }
      ],
      "source": [
        "%%time\n",
        "\n",
        "# проверим модель случайного леса для чернового концентрата\n",
        "\n",
        "model_forest_1 = RandomForestRegressor(random_state=45, n_estimators=100, max_depth=5)\n",
        "scores_forest_1 = cross_val_score(model_forest_1, features_train, target_train_rougher, cv=5, scoring=my_scorer)\n",
        "final_score_forest_1 = abs(scores_forest_1.mean())\n",
        "print('Средняя оценка качества модели: {:.2f}'.format(final_score_forest_1))"
      ]
    },
    {
      "cell_type": "code",
      "execution_count": 59,
      "metadata": {
        "colab": {
          "base_uri": "https://localhost:8080/"
        },
        "id": "seuFeeTBqCeA",
        "outputId": "2cd45f5c-52f1-4430-db48-af3007bfa1f7"
      },
      "outputs": [
        {
          "output_type": "stream",
          "name": "stdout",
          "text": [
            "Средняя оценка качества модели: 10.29\n",
            "CPU times: user 1min 27s, sys: 78.6 ms, total: 1min 27s\n",
            "Wall time: 1min 28s\n"
          ]
        }
      ],
      "source": [
        "%%time\n",
        "\n",
        "# проверим модель случайного леса для финального концентрата\n",
        "\n",
        "model_forest_2 = RandomForestRegressor(random_state=45, n_estimators=100, max_depth=5)\n",
        "scores_forest_2 = cross_val_score(model_forest_2, features_train, target_train_final, cv=5, scoring=my_scorer)\n",
        "final_score_forest_2 = abs(scores_forest_2.mean())\n",
        "print('Средняя оценка качества модели: {:.2f}'.format(final_score_forest_2))"
      ]
    },
    {
      "cell_type": "markdown",
      "metadata": {
        "id": "0Tfs_NQxqCeB"
      },
      "source": [
        "**Краткий вывод** \n",
        "- Наилучшие показатели для данных по черновому концентрату показала модель LGBMRegressor с результатом: 10.78\n",
        "- Наилучшие показатели для данных по финальному концентрату показала модель LGBMRegressor с результатом: 10.04\n",
        "\n",
        "Модель случайного леса тоже дала хорошие результаты, очень близкие к LGBM.\n"
      ]
    },
    {
      "cell_type": "markdown",
      "metadata": {
        "id": "Kf0Ywjg2qCeB"
      },
      "source": [
        "### Модель для эффективности обогащения чернового концентрата "
      ]
    },
    {
      "cell_type": "code",
      "execution_count": 60,
      "metadata": {
        "id": "WSn0xl0oqCeB",
        "colab": {
          "base_uri": "https://localhost:8080/"
        },
        "outputId": "b82260a7-06fd-4df9-b4eb-69e6674ab291"
      },
      "outputs": [
        {
          "output_type": "stream",
          "name": "stdout",
          "text": [
            "CPU times: user 289 ms, sys: 4.01 ms, total: 293 ms\n",
            "Wall time: 155 ms\n"
          ]
        }
      ],
      "source": [
        "%%time \n",
        "\n",
        "# обучение\n",
        "\n",
        "model_lgbm_1 = LGBMRegressor(random_state=45, learning_rate=0.1, max_depth=2, n_estimators=50)\n",
        "model_lgbm_1.fit(features_train, target_train_rougher)\n",
        "predicted_valid_lgbm_1 = model_lgbm_1.predict(features_test)"
      ]
    },
    {
      "cell_type": "code",
      "execution_count": 61,
      "metadata": {
        "id": "zZMVFHzNqCeB",
        "outputId": "3b1d1f6b-a8e8-477f-cf49-9b75f50f0aad",
        "colab": {
          "base_uri": "https://localhost:8080/"
        }
      },
      "outputs": [
        {
          "output_type": "stream",
          "name": "stdout",
          "text": [
            "MSE = 158.67\n",
            "RMSE = 12.60\n",
            "R2 = 0.07\n",
            "MAE = 5.79\n",
            "sMAPE = 8.88\n",
            "CPU times: user 6.18 ms, sys: 0 ns, total: 6.18 ms\n",
            "Wall time: 6.6 ms\n"
          ]
        }
      ],
      "source": [
        "%%time \n",
        "\n",
        "# посчитаем метрики \n",
        "\n",
        "mse_lgbm_1 = mean_squared_error(target_test_rougher, predicted_valid_lgbm_1)\n",
        "print('MSE = {:.2f}'.format(mse_lgbm_1))\n",
        "print('RMSE = {:.2f}'.format(mse_lgbm_1 ** 0.5))\n",
        "print('R2 = {:.2f}'.format(r2_score(target_test_rougher, predicted_valid_lgbm_1)))\n",
        "print('MAE = {:.2f}'.format(mean_absolute_error(target_test_rougher, predicted_valid_lgbm_1)))\n",
        "print('sMAPE = {:.2f}'.format(smape(target_test_rougher, predicted_valid_lgbm_1)))"
      ]
    },
    {
      "cell_type": "markdown",
      "metadata": {
        "id": "q2hF3J7PqCeC"
      },
      "source": [
        "### Модель для эффективности обогащения финального концентрата"
      ]
    },
    {
      "cell_type": "code",
      "execution_count": 62,
      "metadata": {
        "id": "EcUXQjDbqCeD",
        "colab": {
          "base_uri": "https://localhost:8080/"
        },
        "outputId": "d471774d-6fc8-435c-e606-cf660323bb5f"
      },
      "outputs": [
        {
          "output_type": "stream",
          "name": "stdout",
          "text": [
            "CPU times: user 289 ms, sys: 1.02 ms, total: 290 ms\n",
            "Wall time: 155 ms\n"
          ]
        }
      ],
      "source": [
        "%%time \n",
        "\n",
        "# обучение\n",
        "\n",
        "model_lgbm_2 = LGBMRegressor(random_state=45, learning_rate=0.1, max_depth=2, n_estimators=50)\n",
        "model_lgbm_2.fit(features_train, target_train_final)\n",
        "predicted_valid_lgbm_2 = model_lgbm_2.predict(features_test)"
      ]
    },
    {
      "cell_type": "code",
      "execution_count": 63,
      "metadata": {
        "id": "MXwd_PjeqCeD",
        "outputId": "e54e783e-2203-4f1c-a5f3-d29d25aae2cb",
        "colab": {
          "base_uri": "https://localhost:8080/"
        }
      },
      "outputs": [
        {
          "output_type": "stream",
          "name": "stdout",
          "text": [
            "MSE = 78.48\n",
            "RMSE = 8.86\n",
            "R2 = 0.13\n",
            "MAE = 5.42\n",
            "sMAPE = 8.96\n",
            "CPU times: user 8.08 ms, sys: 2 ms, total: 10.1 ms\n",
            "Wall time: 7.24 ms\n"
          ]
        }
      ],
      "source": [
        "%%time\n",
        "\n",
        "# посчитаем метрики \n",
        "\n",
        "mse_lgbm_2 = mean_squared_error(target_test_final, predicted_valid_lgbm_2)\n",
        "print('MSE = {:.2f}'.format(mse_lgbm_2))\n",
        "print('RMSE = {:.2f}'.format(mse_lgbm_2 ** 0.5))\n",
        "print('R2 = {:.2f}'.format(r2_score(target_test_final, predicted_valid_lgbm_2)))\n",
        "print('MAE = {:.2f}'.format(mean_absolute_error(target_test_final, predicted_valid_lgbm_2)))\n",
        "print('sMAPE = {:.2f}'.format(smape(target_test_final, predicted_valid_lgbm_2)))"
      ]
    },
    {
      "cell_type": "markdown",
      "source": [
        "**Комментарий:**\n",
        "<br> Дополнительно был произведен рассчет других метрик для моделей, так как интересно было посмотреть на результаты в целом. Можно сказать, что несмотря на то, что целевые метрики у моделей получились практически равными, RMSE и R2 довольно сильно отличаются. У модели 1 (черновой концентрат) метрика RMSE получилась гораздо выше, чем у модели 2 (финальный концентрат), но при этом показатель R2 у модели 1 гораздо лучше - он намного ближе к нулю, что говорит нам о более высокой точности предсказаний."
      ],
      "metadata": {
        "id": "va9estKOELaj"
      }
    },
    {
      "cell_type": "markdown",
      "metadata": {
        "id": "ZoJLy-KEqCeD"
      },
      "source": [
        "### Метрики sMAPE и итоговый sMAPE"
      ]
    },
    {
      "cell_type": "code",
      "execution_count": 64,
      "metadata": {
        "id": "CLHPXgojqCeD",
        "outputId": "197dcc8c-7387-4276-83f9-af2d0f050973",
        "colab": {
          "base_uri": "https://localhost:8080/"
        }
      },
      "outputs": [
        {
          "output_type": "stream",
          "name": "stdout",
          "text": [
            "Итоговый sMAPE = 8.94\n"
          ]
        }
      ],
      "source": [
        "smape_rougher = smape(target_test_rougher, predicted_valid_lgbm_1)\n",
        "smape_final = smape(target_test_final, predicted_valid_lgbm_2)\n",
        "total_smape = final_smape(smape_rougher, smape_final)\n",
        "print('Итоговый sMAPE = {:.2f}'.format(total_smape))"
      ]
    },
    {
      "cell_type": "markdown",
      "metadata": {
        "id": "Rcuhu6YQqCeD"
      },
      "source": [
        "### Тестирование модели - сравнение с константной моделью"
      ]
    },
    {
      "cell_type": "code",
      "execution_count": 65,
      "metadata": {
        "id": "vdassm-HqCeD"
      },
      "outputs": [],
      "source": [
        "dummy = DummyRegressor(strategy = 'mean')\n",
        "dummy_1 = DummyRegressor(strategy = 'mean')\n",
        "\n",
        "dummy_rougher = dummy.fit(features_train, target_train_rougher)\n",
        "dummy_predictions_rougher = dummy_rougher.predict(features_test)\n",
        "\n",
        "dummy_final = dummy_1.fit(features_train, target_train_final)\n",
        "dummy_predictions_final = dummy_final.predict(features_test)"
      ]
    },
    {
      "cell_type": "code",
      "execution_count": 66,
      "metadata": {
        "id": "vDO8iGlTqCeE"
      },
      "outputs": [],
      "source": [
        "smape_rougher_dummy = smape(target_test_rougher, dummy_predictions_rougher)\n",
        "smape_final_dummy = smape(target_test_final, dummy_predictions_final)"
      ]
    },
    {
      "cell_type": "code",
      "execution_count": 67,
      "metadata": {
        "id": "hA_OrdC6qCeE",
        "outputId": "d4e64ab0-db85-4c01-bf2f-9abf9bbfba25",
        "colab": {
          "base_uri": "https://localhost:8080/"
        }
      },
      "outputs": [
        {
          "output_type": "execute_result",
          "data": {
            "text/plain": [
              "10.289630376021035"
            ]
          },
          "metadata": {},
          "execution_count": 67
        }
      ],
      "source": [
        "final_smape(smape_rougher_dummy, smape_final_dummy)"
      ]
    },
    {
      "cell_type": "markdown",
      "metadata": {
        "id": "dFxYf148qCeE"
      },
      "source": [
        "Наш результат получился лучше, чем у константной модели. Это говорит о том, что наши модели прошли проверку."
      ]
    },
    {
      "cell_type": "markdown",
      "metadata": {
        "id": "C7RiFjg1qCeE"
      },
      "source": [
        "### Вывод по разделу"
      ]
    },
    {
      "cell_type": "markdown",
      "metadata": {
        "id": "LsbG4KG2qCeE"
      },
      "source": [
        "- Были подобраны наиболее подходящие модели с помощью кросс-валидации - LGBMRegressor.\n",
        "- Итоговые метрики для предсказания эффективности обогощения чернового концентрата получились следующие:\n",
        "  - MSE = 78.48\n",
        "  - RMSE = 8.86\n",
        "  - R2 = 0.13\n",
        "  - MAE = 5.42\n",
        "  - sMAPE = 8.96\n",
        "- Итоговые метрики для предсказания эффективности обогощения финального концентрата получились следующие:\n",
        "  - MSE = 158.67\n",
        "  - RMSE = 12.60\n",
        "  - R2 = 0.07\n",
        "  - MAE = 5.79\n",
        "  - sMAPE = 8.88\n",
        "\n",
        "***- Итоговый sMAPE = 8.94***"
      ]
    },
    {
      "cell_type": "markdown",
      "metadata": {
        "id": "BP2RxOYfqCeF"
      },
      "source": [
        "## Итоговый вывод"
      ]
    },
    {
      "cell_type": "markdown",
      "metadata": {
        "id": "wlwsUIRvqCeF"
      },
      "source": [
        "- В ходе исследования была выбрана модель LGBMRegressor (параметры для нее подбирались отдельно с помощью GridSearch) для предсказания целевых признаков для чернового и для финального концентратов.\n",
        "- Обе модели прошли проверку сравнением с константной моделью.\n",
        "- На этапе анализа данных было выявлено:\n",
        "    - Концентрация золота и свинца с каждым этапом обработки увеличивается, в то время, как концентрация серебра наоборот снижается\n",
        "    - Размеры гранул сырья с каждым этапом уменьшаются\n",
        "    - Доля веществ в итоговом продукте получается в среднем 59, что больше половины, следовательно полезные вещества в конечном продукте преобладают\n",
        "- ***Финальная метрика sMAPE: 8.94*** - что кажется, вполне допустимым результатом.\n",
        "- Результат в дальнейшем можно улучшить, если бы была возможность с точки зрения физики и технологического процесса проверить достоверность данных, но без глубинного знания самих этапов, это невозможно."
      ]
    }
  ],
  "metadata": {
    "ExecuteTimeLog": [
      {
        "duration": 1206,
        "start_time": "2022-01-28T10:19:09.997Z"
      },
      {
        "duration": 636,
        "start_time": "2022-01-28T10:25:51.306Z"
      },
      {
        "duration": 790,
        "start_time": "2022-01-28T10:26:23.147Z"
      },
      {
        "duration": 16,
        "start_time": "2022-01-28T11:58:20.625Z"
      },
      {
        "duration": 215,
        "start_time": "2022-01-28T12:09:45.153Z"
      },
      {
        "duration": 220,
        "start_time": "2022-01-28T12:10:05.841Z"
      },
      {
        "duration": 228,
        "start_time": "2022-01-28T12:10:11.054Z"
      },
      {
        "duration": 4,
        "start_time": "2022-01-28T12:10:16.190Z"
      },
      {
        "duration": 36,
        "start_time": "2022-01-28T12:14:13.628Z"
      },
      {
        "duration": 14,
        "start_time": "2022-01-28T12:19:05.238Z"
      },
      {
        "duration": 18,
        "start_time": "2022-01-28T12:32:27.655Z"
      },
      {
        "duration": 3,
        "start_time": "2022-01-28T12:58:23.891Z"
      },
      {
        "duration": 6,
        "start_time": "2022-01-28T13:01:16.478Z"
      },
      {
        "duration": 5,
        "start_time": "2022-01-28T13:01:30.709Z"
      },
      {
        "duration": 4,
        "start_time": "2022-01-28T13:01:35.951Z"
      },
      {
        "duration": 5,
        "start_time": "2022-01-28T13:01:56.365Z"
      },
      {
        "duration": 6,
        "start_time": "2022-01-28T13:02:06.514Z"
      },
      {
        "duration": 5,
        "start_time": "2022-01-28T13:04:54.722Z"
      },
      {
        "duration": 7,
        "start_time": "2022-01-28T13:26:47.037Z"
      },
      {
        "duration": 232,
        "start_time": "2022-01-28T14:00:06.110Z"
      },
      {
        "duration": 238,
        "start_time": "2022-01-28T14:01:23.095Z"
      },
      {
        "duration": 1285,
        "start_time": "2022-01-28T14:05:01.134Z"
      },
      {
        "duration": 741,
        "start_time": "2022-01-28T14:05:02.421Z"
      },
      {
        "duration": 4,
        "start_time": "2022-01-28T14:05:03.164Z"
      },
      {
        "duration": 32,
        "start_time": "2022-01-28T14:05:03.170Z"
      },
      {
        "duration": 3,
        "start_time": "2022-01-28T14:05:03.204Z"
      },
      {
        "duration": 12,
        "start_time": "2022-01-28T14:05:03.209Z"
      },
      {
        "duration": 12,
        "start_time": "2022-01-28T14:05:03.222Z"
      },
      {
        "duration": 8,
        "start_time": "2022-01-28T14:05:03.236Z"
      },
      {
        "duration": 14,
        "start_time": "2022-01-28T14:05:03.246Z"
      },
      {
        "duration": 334,
        "start_time": "2022-01-28T14:05:03.262Z"
      },
      {
        "duration": 229,
        "start_time": "2022-01-28T14:05:13.874Z"
      },
      {
        "duration": 226,
        "start_time": "2022-01-28T14:05:55.457Z"
      },
      {
        "duration": 224,
        "start_time": "2022-01-28T14:06:16.080Z"
      },
      {
        "duration": 218,
        "start_time": "2022-01-28T14:06:38.670Z"
      },
      {
        "duration": 227,
        "start_time": "2022-01-28T14:08:13.220Z"
      },
      {
        "duration": 231,
        "start_time": "2022-01-28T14:08:29.831Z"
      },
      {
        "duration": 227,
        "start_time": "2022-01-28T14:10:48.384Z"
      },
      {
        "duration": 406,
        "start_time": "2022-01-28T14:11:06.418Z"
      },
      {
        "duration": 3,
        "start_time": "2022-01-28T14:11:14.662Z"
      },
      {
        "duration": 685,
        "start_time": "2022-01-28T14:11:14.667Z"
      },
      {
        "duration": 5,
        "start_time": "2022-01-28T14:11:15.354Z"
      },
      {
        "duration": 20,
        "start_time": "2022-01-28T14:11:15.361Z"
      },
      {
        "duration": 16,
        "start_time": "2022-01-28T14:11:15.383Z"
      },
      {
        "duration": 4,
        "start_time": "2022-01-28T14:11:15.401Z"
      },
      {
        "duration": 8,
        "start_time": "2022-01-28T14:11:15.407Z"
      },
      {
        "duration": 4,
        "start_time": "2022-01-28T14:11:15.418Z"
      },
      {
        "duration": 9,
        "start_time": "2022-01-28T14:11:15.424Z"
      },
      {
        "duration": 5,
        "start_time": "2022-01-28T14:11:15.435Z"
      },
      {
        "duration": 224,
        "start_time": "2022-01-28T14:11:15.442Z"
      },
      {
        "duration": 3,
        "start_time": "2022-01-28T14:11:41.971Z"
      },
      {
        "duration": 242,
        "start_time": "2022-01-28T14:11:53.980Z"
      },
      {
        "duration": 213,
        "start_time": "2022-01-28T14:11:57.175Z"
      },
      {
        "duration": 226,
        "start_time": "2022-01-28T14:12:27.473Z"
      },
      {
        "duration": 216,
        "start_time": "2022-01-28T14:12:42.828Z"
      },
      {
        "duration": 230,
        "start_time": "2022-01-28T14:12:59.689Z"
      },
      {
        "duration": 3,
        "start_time": "2022-01-28T14:13:02.399Z"
      },
      {
        "duration": 713,
        "start_time": "2022-01-28T14:13:02.410Z"
      },
      {
        "duration": 5,
        "start_time": "2022-01-28T14:13:03.125Z"
      },
      {
        "duration": 23,
        "start_time": "2022-01-28T14:13:03.132Z"
      },
      {
        "duration": 3,
        "start_time": "2022-01-28T14:13:03.158Z"
      },
      {
        "duration": 12,
        "start_time": "2022-01-28T14:13:03.162Z"
      },
      {
        "duration": 25,
        "start_time": "2022-01-28T14:13:03.176Z"
      },
      {
        "duration": 4,
        "start_time": "2022-01-28T14:13:03.203Z"
      },
      {
        "duration": 11,
        "start_time": "2022-01-28T14:13:03.208Z"
      },
      {
        "duration": 6,
        "start_time": "2022-01-28T14:13:03.221Z"
      },
      {
        "duration": 218,
        "start_time": "2022-01-28T14:13:17.216Z"
      },
      {
        "duration": 224,
        "start_time": "2022-01-28T14:15:57.914Z"
      },
      {
        "duration": 208,
        "start_time": "2022-01-28T14:17:16.851Z"
      },
      {
        "duration": 4,
        "start_time": "2022-01-28T14:17:20.632Z"
      },
      {
        "duration": 721,
        "start_time": "2022-01-28T14:17:20.638Z"
      },
      {
        "duration": 4,
        "start_time": "2022-01-28T14:17:21.361Z"
      },
      {
        "duration": 32,
        "start_time": "2022-01-28T14:17:21.367Z"
      },
      {
        "duration": 3,
        "start_time": "2022-01-28T14:17:21.401Z"
      },
      {
        "duration": 10,
        "start_time": "2022-01-28T14:17:21.406Z"
      },
      {
        "duration": 8,
        "start_time": "2022-01-28T14:17:21.418Z"
      },
      {
        "duration": 8,
        "start_time": "2022-01-28T14:17:21.428Z"
      },
      {
        "duration": 10,
        "start_time": "2022-01-28T14:17:21.439Z"
      },
      {
        "duration": 259,
        "start_time": "2022-01-28T14:17:21.451Z"
      },
      {
        "duration": -1199,
        "start_time": "2022-01-28T14:17:22.911Z"
      },
      {
        "duration": -1200,
        "start_time": "2022-01-28T14:17:22.913Z"
      },
      {
        "duration": 92,
        "start_time": "2022-01-28T14:18:55.448Z"
      },
      {
        "duration": 23,
        "start_time": "2022-01-28T14:19:04.423Z"
      },
      {
        "duration": 101,
        "start_time": "2022-01-28T14:19:20.332Z"
      },
      {
        "duration": 70,
        "start_time": "2022-01-28T14:19:45.299Z"
      },
      {
        "duration": 21,
        "start_time": "2022-01-28T14:19:47.103Z"
      },
      {
        "duration": 3,
        "start_time": "2022-01-28T14:19:58.693Z"
      },
      {
        "duration": 23,
        "start_time": "2022-01-28T14:20:01.268Z"
      },
      {
        "duration": 18,
        "start_time": "2022-01-28T14:20:51.688Z"
      },
      {
        "duration": 12,
        "start_time": "2022-01-28T14:20:58.265Z"
      },
      {
        "duration": 5750,
        "start_time": "2022-01-28T14:27:26.905Z"
      },
      {
        "duration": 1329,
        "start_time": "2022-01-28T14:46:20.285Z"
      },
      {
        "duration": 717,
        "start_time": "2022-01-28T14:46:21.616Z"
      },
      {
        "duration": 4,
        "start_time": "2022-01-28T14:46:22.335Z"
      },
      {
        "duration": 21,
        "start_time": "2022-01-28T14:46:22.341Z"
      },
      {
        "duration": 3,
        "start_time": "2022-01-28T14:46:22.363Z"
      },
      {
        "duration": 9,
        "start_time": "2022-01-28T14:46:22.368Z"
      },
      {
        "duration": 25,
        "start_time": "2022-01-28T14:46:22.379Z"
      },
      {
        "duration": 5,
        "start_time": "2022-01-28T14:46:22.406Z"
      },
      {
        "duration": 8,
        "start_time": "2022-01-28T14:46:22.413Z"
      },
      {
        "duration": 348,
        "start_time": "2022-01-28T14:46:22.422Z"
      },
      {
        "duration": -5476,
        "start_time": "2022-01-28T14:46:28.248Z"
      },
      {
        "duration": -5477,
        "start_time": "2022-01-28T14:46:28.250Z"
      },
      {
        "duration": 238,
        "start_time": "2022-01-28T14:46:41.185Z"
      },
      {
        "duration": 91,
        "start_time": "2022-01-28T14:46:46.241Z"
      },
      {
        "duration": 14,
        "start_time": "2022-01-28T14:46:49.554Z"
      },
      {
        "duration": 3,
        "start_time": "2022-01-28T14:46:52.377Z"
      },
      {
        "duration": 1303,
        "start_time": "2022-01-28T14:47:09.043Z"
      },
      {
        "duration": 749,
        "start_time": "2022-01-28T14:47:10.348Z"
      },
      {
        "duration": 4,
        "start_time": "2022-01-28T14:47:11.100Z"
      },
      {
        "duration": 24,
        "start_time": "2022-01-28T14:47:11.106Z"
      },
      {
        "duration": 4,
        "start_time": "2022-01-28T14:47:11.132Z"
      },
      {
        "duration": 12,
        "start_time": "2022-01-28T14:47:11.138Z"
      },
      {
        "duration": 9,
        "start_time": "2022-01-28T14:47:11.152Z"
      },
      {
        "duration": 35,
        "start_time": "2022-01-28T14:47:11.163Z"
      },
      {
        "duration": 9,
        "start_time": "2022-01-28T14:47:11.202Z"
      },
      {
        "duration": 104,
        "start_time": "2022-01-28T14:47:11.213Z"
      },
      {
        "duration": 13,
        "start_time": "2022-01-28T14:47:11.318Z"
      },
      {
        "duration": 1246,
        "start_time": "2022-01-28T14:47:35.088Z"
      },
      {
        "duration": 730,
        "start_time": "2022-01-28T14:47:36.336Z"
      },
      {
        "duration": 4,
        "start_time": "2022-01-28T14:47:37.069Z"
      },
      {
        "duration": 31,
        "start_time": "2022-01-28T14:47:37.075Z"
      },
      {
        "duration": 4,
        "start_time": "2022-01-28T14:47:37.107Z"
      },
      {
        "duration": 15,
        "start_time": "2022-01-28T14:47:37.112Z"
      },
      {
        "duration": 15,
        "start_time": "2022-01-28T14:47:37.129Z"
      },
      {
        "duration": 11,
        "start_time": "2022-01-28T14:47:37.147Z"
      },
      {
        "duration": 12,
        "start_time": "2022-01-28T14:47:37.160Z"
      },
      {
        "duration": 118,
        "start_time": "2022-01-28T14:47:37.174Z"
      },
      {
        "duration": 13,
        "start_time": "2022-01-28T14:47:37.294Z"
      },
      {
        "duration": 1230,
        "start_time": "2022-01-28T14:48:02.869Z"
      },
      {
        "duration": 707,
        "start_time": "2022-01-28T14:48:04.101Z"
      },
      {
        "duration": 5,
        "start_time": "2022-01-28T14:48:04.810Z"
      },
      {
        "duration": 21,
        "start_time": "2022-01-28T14:48:04.817Z"
      },
      {
        "duration": 3,
        "start_time": "2022-01-28T14:48:04.840Z"
      },
      {
        "duration": 16,
        "start_time": "2022-01-28T14:48:04.845Z"
      },
      {
        "duration": 8,
        "start_time": "2022-01-28T14:48:04.863Z"
      },
      {
        "duration": 27,
        "start_time": "2022-01-28T14:48:04.873Z"
      },
      {
        "duration": 8,
        "start_time": "2022-01-28T14:48:04.902Z"
      },
      {
        "duration": 108,
        "start_time": "2022-01-28T14:48:04.912Z"
      },
      {
        "duration": 14,
        "start_time": "2022-01-28T14:48:05.021Z"
      },
      {
        "duration": 3,
        "start_time": "2022-01-28T14:48:05.036Z"
      },
      {
        "duration": 342,
        "start_time": "2022-01-28T14:51:12.636Z"
      },
      {
        "duration": 526,
        "start_time": "2022-01-28T14:51:29.875Z"
      },
      {
        "duration": 2,
        "start_time": "2022-01-28T14:51:57.344Z"
      },
      {
        "duration": 9,
        "start_time": "2022-01-28T14:52:06.943Z"
      },
      {
        "duration": 1336,
        "start_time": "2022-01-28T14:54:22.092Z"
      },
      {
        "duration": 790,
        "start_time": "2022-01-28T14:54:23.430Z"
      },
      {
        "duration": 4,
        "start_time": "2022-01-28T14:54:24.222Z"
      },
      {
        "duration": 22,
        "start_time": "2022-01-28T14:54:24.228Z"
      },
      {
        "duration": 3,
        "start_time": "2022-01-28T14:54:24.252Z"
      },
      {
        "duration": 10,
        "start_time": "2022-01-28T14:54:24.257Z"
      },
      {
        "duration": 30,
        "start_time": "2022-01-28T14:54:24.269Z"
      },
      {
        "duration": 4,
        "start_time": "2022-01-28T14:54:24.301Z"
      },
      {
        "duration": 9,
        "start_time": "2022-01-28T14:54:24.308Z"
      },
      {
        "duration": 113,
        "start_time": "2022-01-28T14:54:24.319Z"
      },
      {
        "duration": 16,
        "start_time": "2022-01-28T14:54:24.434Z"
      },
      {
        "duration": 273,
        "start_time": "2022-01-28T14:54:38.727Z"
      },
      {
        "duration": 1256,
        "start_time": "2022-01-28T14:54:48.683Z"
      },
      {
        "duration": 793,
        "start_time": "2022-01-28T14:54:49.941Z"
      },
      {
        "duration": 5,
        "start_time": "2022-01-28T14:54:50.736Z"
      },
      {
        "duration": 24,
        "start_time": "2022-01-28T14:54:50.743Z"
      },
      {
        "duration": 3,
        "start_time": "2022-01-28T14:54:50.769Z"
      },
      {
        "duration": 26,
        "start_time": "2022-01-28T14:54:50.774Z"
      },
      {
        "duration": 6,
        "start_time": "2022-01-28T14:54:50.802Z"
      },
      {
        "duration": 8,
        "start_time": "2022-01-28T14:54:50.810Z"
      },
      {
        "duration": 7,
        "start_time": "2022-01-28T14:54:50.820Z"
      },
      {
        "duration": 114,
        "start_time": "2022-01-28T14:54:50.829Z"
      },
      {
        "duration": 11,
        "start_time": "2022-01-28T14:54:50.945Z"
      },
      {
        "duration": 3,
        "start_time": "2022-01-28T14:55:01.415Z"
      },
      {
        "duration": 1221,
        "start_time": "2022-01-28T14:55:03.916Z"
      },
      {
        "duration": 799,
        "start_time": "2022-01-28T14:55:05.139Z"
      },
      {
        "duration": 4,
        "start_time": "2022-01-28T14:55:05.940Z"
      },
      {
        "duration": 25,
        "start_time": "2022-01-28T14:55:05.946Z"
      },
      {
        "duration": 3,
        "start_time": "2022-01-28T14:55:05.973Z"
      },
      {
        "duration": 21,
        "start_time": "2022-01-28T14:55:05.978Z"
      },
      {
        "duration": 12,
        "start_time": "2022-01-28T14:55:06.001Z"
      },
      {
        "duration": 5,
        "start_time": "2022-01-28T14:55:06.015Z"
      },
      {
        "duration": 15,
        "start_time": "2022-01-28T14:55:06.022Z"
      },
      {
        "duration": 119,
        "start_time": "2022-01-28T14:55:06.038Z"
      },
      {
        "duration": 12,
        "start_time": "2022-01-28T14:55:06.158Z"
      },
      {
        "duration": 2,
        "start_time": "2022-01-28T14:55:06.172Z"
      },
      {
        "duration": 1204,
        "start_time": "2022-01-28T14:55:13.625Z"
      },
      {
        "duration": 793,
        "start_time": "2022-01-28T14:55:14.830Z"
      },
      {
        "duration": 3,
        "start_time": "2022-01-28T14:55:15.626Z"
      },
      {
        "duration": 33,
        "start_time": "2022-01-28T14:55:15.631Z"
      },
      {
        "duration": 3,
        "start_time": "2022-01-28T14:55:15.666Z"
      },
      {
        "duration": 13,
        "start_time": "2022-01-28T14:55:15.670Z"
      },
      {
        "duration": 19,
        "start_time": "2022-01-28T14:55:15.685Z"
      },
      {
        "duration": 24,
        "start_time": "2022-01-28T14:55:15.706Z"
      },
      {
        "duration": 20,
        "start_time": "2022-01-28T14:55:15.732Z"
      },
      {
        "duration": 104,
        "start_time": "2022-01-28T14:55:15.754Z"
      },
      {
        "duration": 13,
        "start_time": "2022-01-28T14:55:15.859Z"
      },
      {
        "duration": 2,
        "start_time": "2022-01-28T14:55:15.874Z"
      },
      {
        "duration": 367,
        "start_time": "2022-01-28T14:55:50.855Z"
      },
      {
        "duration": 7,
        "start_time": "2022-01-28T14:56:47.106Z"
      },
      {
        "duration": 6,
        "start_time": "2022-01-28T14:56:50.343Z"
      },
      {
        "duration": 15,
        "start_time": "2022-01-28T14:57:52.461Z"
      },
      {
        "duration": 314,
        "start_time": "2022-01-28T14:58:07.630Z"
      },
      {
        "duration": 247,
        "start_time": "2022-01-28T14:58:23.529Z"
      },
      {
        "duration": 1209,
        "start_time": "2022-01-28T14:58:39.109Z"
      },
      {
        "duration": 765,
        "start_time": "2022-01-28T14:58:40.320Z"
      },
      {
        "duration": 4,
        "start_time": "2022-01-28T14:58:41.087Z"
      },
      {
        "duration": 51,
        "start_time": "2022-01-28T14:58:41.092Z"
      },
      {
        "duration": 16,
        "start_time": "2022-01-28T14:58:41.144Z"
      },
      {
        "duration": 39,
        "start_time": "2022-01-28T14:58:41.162Z"
      },
      {
        "duration": 26,
        "start_time": "2022-01-28T14:58:41.203Z"
      },
      {
        "duration": 30,
        "start_time": "2022-01-28T14:58:41.231Z"
      },
      {
        "duration": 23,
        "start_time": "2022-01-28T14:58:41.263Z"
      },
      {
        "duration": 123,
        "start_time": "2022-01-28T14:58:41.288Z"
      },
      {
        "duration": 12,
        "start_time": "2022-01-28T14:58:41.413Z"
      },
      {
        "duration": 25,
        "start_time": "2022-01-28T14:58:41.427Z"
      },
      {
        "duration": 33,
        "start_time": "2022-01-28T14:58:41.454Z"
      },
      {
        "duration": 12,
        "start_time": "2022-01-28T14:58:45.093Z"
      },
      {
        "duration": 24,
        "start_time": "2022-01-28T14:58:59.015Z"
      },
      {
        "duration": 22,
        "start_time": "2022-01-28T14:59:13.786Z"
      },
      {
        "duration": 336,
        "start_time": "2022-01-28T15:05:03.011Z"
      },
      {
        "duration": 227,
        "start_time": "2022-01-28T15:08:12.281Z"
      },
      {
        "duration": 217,
        "start_time": "2022-01-28T15:09:36.266Z"
      },
      {
        "duration": 2,
        "start_time": "2022-01-28T15:11:46.425Z"
      },
      {
        "duration": 223,
        "start_time": "2022-01-28T15:12:45.792Z"
      },
      {
        "duration": 220,
        "start_time": "2022-01-28T15:12:49.276Z"
      },
      {
        "duration": 1244,
        "start_time": "2022-01-28T15:13:07.251Z"
      },
      {
        "duration": 752,
        "start_time": "2022-01-28T15:13:08.497Z"
      },
      {
        "duration": 4,
        "start_time": "2022-01-28T15:13:09.251Z"
      },
      {
        "duration": 31,
        "start_time": "2022-01-28T15:13:09.257Z"
      },
      {
        "duration": 3,
        "start_time": "2022-01-28T15:13:09.290Z"
      },
      {
        "duration": 16,
        "start_time": "2022-01-28T15:13:09.295Z"
      },
      {
        "duration": 23,
        "start_time": "2022-01-28T15:13:09.313Z"
      },
      {
        "duration": 13,
        "start_time": "2022-01-28T15:13:09.338Z"
      },
      {
        "duration": 24,
        "start_time": "2022-01-28T15:13:09.353Z"
      },
      {
        "duration": 143,
        "start_time": "2022-01-28T15:13:09.379Z"
      },
      {
        "duration": 13,
        "start_time": "2022-01-28T15:13:09.524Z"
      },
      {
        "duration": 28,
        "start_time": "2022-01-28T15:13:09.538Z"
      },
      {
        "duration": 34,
        "start_time": "2022-01-28T15:13:09.567Z"
      },
      {
        "duration": 16,
        "start_time": "2022-01-28T15:13:09.603Z"
      },
      {
        "duration": 16,
        "start_time": "2022-01-28T15:13:09.621Z"
      },
      {
        "duration": 24,
        "start_time": "2022-01-28T15:13:09.638Z"
      },
      {
        "duration": 5853,
        "start_time": "2022-01-28T15:13:09.664Z"
      },
      {
        "duration": -726,
        "start_time": "2022-01-28T15:13:16.244Z"
      },
      {
        "duration": 12,
        "start_time": "2022-01-28T15:13:41.839Z"
      },
      {
        "duration": 4,
        "start_time": "2022-01-28T15:14:54.802Z"
      },
      {
        "duration": 26,
        "start_time": "2022-01-28T15:15:01.532Z"
      },
      {
        "duration": 13,
        "start_time": "2022-01-28T15:28:51.873Z"
      },
      {
        "duration": 12,
        "start_time": "2022-01-28T15:29:08.758Z"
      },
      {
        "duration": 11,
        "start_time": "2022-01-28T15:29:26.626Z"
      },
      {
        "duration": 23,
        "start_time": "2022-01-28T15:29:35.947Z"
      },
      {
        "duration": 12,
        "start_time": "2022-01-28T15:29:37.895Z"
      },
      {
        "duration": 1155,
        "start_time": "2022-01-28T15:29:51.547Z"
      },
      {
        "duration": 719,
        "start_time": "2022-01-28T15:29:52.704Z"
      },
      {
        "duration": 4,
        "start_time": "2022-01-28T15:29:53.427Z"
      },
      {
        "duration": 24,
        "start_time": "2022-01-28T15:29:53.433Z"
      },
      {
        "duration": 3,
        "start_time": "2022-01-28T15:29:53.458Z"
      },
      {
        "duration": 10,
        "start_time": "2022-01-28T15:29:53.463Z"
      },
      {
        "duration": 29,
        "start_time": "2022-01-28T15:29:53.476Z"
      },
      {
        "duration": 4,
        "start_time": "2022-01-28T15:29:53.507Z"
      },
      {
        "duration": 10,
        "start_time": "2022-01-28T15:29:53.513Z"
      },
      {
        "duration": 103,
        "start_time": "2022-01-28T15:29:53.524Z"
      },
      {
        "duration": 12,
        "start_time": "2022-01-28T15:29:53.629Z"
      },
      {
        "duration": 5,
        "start_time": "2022-01-28T15:29:53.642Z"
      },
      {
        "duration": 22,
        "start_time": "2022-01-28T15:29:53.648Z"
      },
      {
        "duration": 29,
        "start_time": "2022-01-28T15:29:53.671Z"
      },
      {
        "duration": 15,
        "start_time": "2022-01-28T15:29:53.701Z"
      },
      {
        "duration": 12,
        "start_time": "2022-01-28T15:29:53.718Z"
      },
      {
        "duration": 4,
        "start_time": "2022-01-28T15:29:53.731Z"
      },
      {
        "duration": 20,
        "start_time": "2022-01-28T15:29:53.736Z"
      },
      {
        "duration": 41,
        "start_time": "2022-01-28T15:29:53.758Z"
      },
      {
        "duration": 12,
        "start_time": "2022-01-28T15:29:53.801Z"
      },
      {
        "duration": 330,
        "start_time": "2022-01-28T15:51:03.434Z"
      },
      {
        "duration": 3,
        "start_time": "2022-01-28T15:51:10.932Z"
      },
      {
        "duration": 717,
        "start_time": "2022-01-28T15:51:10.940Z"
      },
      {
        "duration": 4,
        "start_time": "2022-01-28T15:51:11.659Z"
      },
      {
        "duration": 33,
        "start_time": "2022-01-28T15:51:11.666Z"
      },
      {
        "duration": 3,
        "start_time": "2022-01-28T15:51:11.702Z"
      },
      {
        "duration": 7,
        "start_time": "2022-01-28T15:51:11.707Z"
      },
      {
        "duration": 7,
        "start_time": "2022-01-28T15:51:11.716Z"
      },
      {
        "duration": 5,
        "start_time": "2022-01-28T15:51:11.725Z"
      },
      {
        "duration": 8,
        "start_time": "2022-01-28T15:51:11.732Z"
      },
      {
        "duration": 122,
        "start_time": "2022-01-28T15:51:11.742Z"
      },
      {
        "duration": 12,
        "start_time": "2022-01-28T15:51:11.866Z"
      },
      {
        "duration": 5,
        "start_time": "2022-01-28T15:51:11.880Z"
      },
      {
        "duration": 14,
        "start_time": "2022-01-28T15:51:11.899Z"
      },
      {
        "duration": 12,
        "start_time": "2022-01-28T15:51:11.915Z"
      },
      {
        "duration": 16,
        "start_time": "2022-01-28T15:51:11.929Z"
      },
      {
        "duration": 13,
        "start_time": "2022-01-28T15:51:11.947Z"
      },
      {
        "duration": 19,
        "start_time": "2022-01-28T15:51:11.999Z"
      },
      {
        "duration": 12,
        "start_time": "2022-01-28T15:51:12.020Z"
      },
      {
        "duration": 13,
        "start_time": "2022-01-28T15:51:12.034Z"
      },
      {
        "duration": 260,
        "start_time": "2022-01-28T15:51:12.049Z"
      },
      {
        "duration": 8,
        "start_time": "2022-01-28T15:52:05.353Z"
      },
      {
        "duration": 7,
        "start_time": "2022-01-28T15:54:42.772Z"
      },
      {
        "duration": 565,
        "start_time": "2022-01-28T15:55:04.462Z"
      },
      {
        "duration": 4,
        "start_time": "2022-01-28T15:55:43.497Z"
      },
      {
        "duration": 434,
        "start_time": "2022-01-28T15:55:47.611Z"
      },
      {
        "duration": 681,
        "start_time": "2022-01-28T16:00:58.663Z"
      },
      {
        "duration": 376,
        "start_time": "2022-01-28T16:01:17.837Z"
      },
      {
        "duration": 756,
        "start_time": "2022-01-28T16:02:48.743Z"
      },
      {
        "duration": 745,
        "start_time": "2022-01-28T16:03:00.619Z"
      },
      {
        "duration": 862,
        "start_time": "2022-01-28T16:04:29.663Z"
      },
      {
        "duration": 857,
        "start_time": "2022-01-28T16:05:48.770Z"
      },
      {
        "duration": 991,
        "start_time": "2022-01-28T16:06:12.028Z"
      },
      {
        "duration": 7,
        "start_time": "2022-01-28T16:08:44.184Z"
      },
      {
        "duration": 854,
        "start_time": "2022-01-28T16:09:07.671Z"
      },
      {
        "duration": 880,
        "start_time": "2022-01-28T16:09:22.589Z"
      },
      {
        "duration": 1010,
        "start_time": "2022-01-28T16:09:31.892Z"
      },
      {
        "duration": 801,
        "start_time": "2022-01-28T16:09:59.356Z"
      },
      {
        "duration": 800,
        "start_time": "2022-01-28T16:10:52.731Z"
      },
      {
        "duration": 9,
        "start_time": "2022-01-28T16:11:12.530Z"
      },
      {
        "duration": 7,
        "start_time": "2022-01-28T16:14:20.502Z"
      },
      {
        "duration": 866,
        "start_time": "2022-01-28T16:14:59.394Z"
      },
      {
        "duration": 10,
        "start_time": "2022-01-28T16:30:41.705Z"
      },
      {
        "duration": 10,
        "start_time": "2022-01-28T16:31:27.260Z"
      },
      {
        "duration": 695,
        "start_time": "2022-01-28T16:33:27.970Z"
      },
      {
        "duration": 8,
        "start_time": "2022-01-28T16:37:39.187Z"
      },
      {
        "duration": 10,
        "start_time": "2022-01-28T16:37:51.249Z"
      },
      {
        "duration": 531,
        "start_time": "2022-01-28T16:38:29.627Z"
      },
      {
        "duration": 4,
        "start_time": "2022-01-28T16:54:36.654Z"
      },
      {
        "duration": 389,
        "start_time": "2022-01-28T16:55:54.201Z"
      },
      {
        "duration": 4,
        "start_time": "2022-01-28T16:56:27.304Z"
      },
      {
        "duration": 9,
        "start_time": "2022-01-28T16:56:46.942Z"
      },
      {
        "duration": 4,
        "start_time": "2022-01-28T17:06:00.448Z"
      },
      {
        "duration": 9,
        "start_time": "2022-01-28T17:06:14.043Z"
      },
      {
        "duration": 407,
        "start_time": "2022-01-28T17:06:45.429Z"
      },
      {
        "duration": 3,
        "start_time": "2022-01-28T17:09:15.651Z"
      },
      {
        "duration": 9,
        "start_time": "2022-01-28T17:09:25.624Z"
      },
      {
        "duration": 386,
        "start_time": "2022-01-28T17:09:59.034Z"
      },
      {
        "duration": 4,
        "start_time": "2022-01-28T17:25:06.710Z"
      },
      {
        "duration": 3,
        "start_time": "2022-01-28T17:25:42.802Z"
      },
      {
        "duration": 6,
        "start_time": "2022-01-28T17:29:49.505Z"
      },
      {
        "duration": 6,
        "start_time": "2022-01-28T17:31:02.942Z"
      },
      {
        "duration": 4,
        "start_time": "2022-01-28T17:31:45.555Z"
      },
      {
        "duration": 5,
        "start_time": "2022-01-28T17:31:50.319Z"
      },
      {
        "duration": 5,
        "start_time": "2022-01-28T17:33:07.239Z"
      },
      {
        "duration": 4,
        "start_time": "2022-01-28T17:33:27.226Z"
      },
      {
        "duration": 4,
        "start_time": "2022-01-28T17:41:16.922Z"
      },
      {
        "duration": 4,
        "start_time": "2022-01-28T17:42:23.614Z"
      },
      {
        "duration": 257,
        "start_time": "2022-01-28T17:44:03.971Z"
      },
      {
        "duration": 8,
        "start_time": "2022-01-28T17:44:27.637Z"
      },
      {
        "duration": 17,
        "start_time": "2022-01-28T17:44:29.564Z"
      },
      {
        "duration": 5,
        "start_time": "2022-01-28T17:44:50.737Z"
      },
      {
        "duration": 4,
        "start_time": "2022-01-28T17:44:52.931Z"
      },
      {
        "duration": 4,
        "start_time": "2022-01-28T17:44:54.832Z"
      },
      {
        "duration": 9,
        "start_time": "2022-01-28T17:45:25.523Z"
      },
      {
        "duration": 1539,
        "start_time": "2022-01-30T11:09:01.376Z"
      },
      {
        "duration": 853,
        "start_time": "2022-01-30T11:09:02.918Z"
      },
      {
        "duration": 6,
        "start_time": "2022-01-30T11:09:03.775Z"
      },
      {
        "duration": 32,
        "start_time": "2022-01-30T11:09:03.784Z"
      },
      {
        "duration": 4,
        "start_time": "2022-01-30T11:09:03.819Z"
      },
      {
        "duration": 9,
        "start_time": "2022-01-30T11:09:03.849Z"
      },
      {
        "duration": 26,
        "start_time": "2022-01-30T11:09:03.861Z"
      },
      {
        "duration": 8,
        "start_time": "2022-01-30T11:09:03.893Z"
      },
      {
        "duration": 43,
        "start_time": "2022-01-30T11:09:03.905Z"
      },
      {
        "duration": 109,
        "start_time": "2022-01-30T11:09:03.951Z"
      },
      {
        "duration": 18,
        "start_time": "2022-01-30T11:09:04.062Z"
      },
      {
        "duration": 7,
        "start_time": "2022-01-30T11:09:04.082Z"
      },
      {
        "duration": 24,
        "start_time": "2022-01-30T11:09:04.091Z"
      },
      {
        "duration": 43,
        "start_time": "2022-01-30T11:09:04.118Z"
      },
      {
        "duration": 21,
        "start_time": "2022-01-30T11:09:04.164Z"
      },
      {
        "duration": 17,
        "start_time": "2022-01-30T11:09:04.188Z"
      },
      {
        "duration": 55,
        "start_time": "2022-01-30T11:09:04.207Z"
      },
      {
        "duration": 16,
        "start_time": "2022-01-30T11:09:04.265Z"
      },
      {
        "duration": 21,
        "start_time": "2022-01-30T11:09:04.283Z"
      },
      {
        "duration": 43,
        "start_time": "2022-01-30T11:09:04.307Z"
      },
      {
        "duration": 1220,
        "start_time": "2022-01-30T11:09:04.353Z"
      },
      {
        "duration": 11,
        "start_time": "2022-01-30T11:09:05.576Z"
      },
      {
        "duration": 1336,
        "start_time": "2022-01-30T11:09:05.593Z"
      },
      {
        "duration": 22,
        "start_time": "2022-01-30T11:09:06.932Z"
      },
      {
        "duration": 1636,
        "start_time": "2022-01-30T11:09:06.957Z"
      },
      {
        "duration": 16,
        "start_time": "2022-01-30T11:09:08.596Z"
      },
      {
        "duration": 39,
        "start_time": "2022-01-30T11:09:08.615Z"
      },
      {
        "duration": 886,
        "start_time": "2022-01-30T11:09:08.657Z"
      },
      {
        "duration": 11,
        "start_time": "2022-01-30T11:09:09.549Z"
      },
      {
        "duration": 9,
        "start_time": "2022-01-30T11:09:09.562Z"
      },
      {
        "duration": 778,
        "start_time": "2022-01-30T11:09:09.574Z"
      },
      {
        "duration": 5,
        "start_time": "2022-01-30T11:09:10.354Z"
      },
      {
        "duration": 14,
        "start_time": "2022-01-30T11:09:10.362Z"
      },
      {
        "duration": 574,
        "start_time": "2022-01-30T11:09:10.379Z"
      },
      {
        "duration": 5,
        "start_time": "2022-01-30T11:09:10.955Z"
      },
      {
        "duration": 19,
        "start_time": "2022-01-30T11:09:10.962Z"
      },
      {
        "duration": 653,
        "start_time": "2022-01-30T11:09:10.983Z"
      },
      {
        "duration": 11,
        "start_time": "2022-01-30T11:09:11.639Z"
      },
      {
        "duration": 17,
        "start_time": "2022-01-30T11:09:11.652Z"
      },
      {
        "duration": 599,
        "start_time": "2022-01-30T11:09:11.672Z"
      },
      {
        "duration": 5,
        "start_time": "2022-01-30T11:09:12.274Z"
      },
      {
        "duration": 9,
        "start_time": "2022-01-30T11:09:12.281Z"
      },
      {
        "duration": 10,
        "start_time": "2022-01-30T11:09:12.293Z"
      },
      {
        "duration": 9,
        "start_time": "2022-01-30T11:09:12.305Z"
      },
      {
        "duration": 56,
        "start_time": "2022-01-30T11:09:12.316Z"
      },
      {
        "duration": 6,
        "start_time": "2022-01-30T11:09:12.375Z"
      },
      {
        "duration": 13,
        "start_time": "2022-01-30T11:09:12.383Z"
      },
      {
        "duration": 15,
        "start_time": "2022-01-30T11:09:12.398Z"
      },
      {
        "duration": 654,
        "start_time": "2022-01-30T11:29:52.042Z"
      },
      {
        "duration": 30907,
        "start_time": "2022-01-30T11:32:19.690Z"
      },
      {
        "duration": 5,
        "start_time": "2022-01-30T11:35:59.378Z"
      },
      {
        "duration": 4,
        "start_time": "2022-01-30T11:36:03.979Z"
      },
      {
        "duration": 1342,
        "start_time": "2022-01-30T11:37:04.390Z"
      },
      {
        "duration": 502,
        "start_time": "2022-01-30T11:39:03.648Z"
      },
      {
        "duration": 28996,
        "start_time": "2022-01-30T11:39:36.256Z"
      },
      {
        "duration": 29199,
        "start_time": "2022-01-30T12:15:17.785Z"
      },
      {
        "duration": 5,
        "start_time": "2022-01-30T12:27:59.179Z"
      },
      {
        "duration": 3,
        "start_time": "2022-01-30T12:28:31.808Z"
      },
      {
        "duration": 4,
        "start_time": "2022-01-30T12:31:08.205Z"
      },
      {
        "duration": 5897,
        "start_time": "2022-01-30T12:33:41.492Z"
      },
      {
        "duration": 6024,
        "start_time": "2022-01-30T12:39:43.672Z"
      },
      {
        "duration": 6130,
        "start_time": "2022-01-30T12:44:37.039Z"
      },
      {
        "duration": 35915,
        "start_time": "2022-01-30T12:46:34.655Z"
      },
      {
        "duration": 34960,
        "start_time": "2022-01-30T12:48:05.191Z"
      },
      {
        "duration": 1649,
        "start_time": "2022-01-30T12:50:29.401Z"
      },
      {
        "duration": 1699,
        "start_time": "2022-01-30T12:51:11.254Z"
      },
      {
        "duration": 389,
        "start_time": "2022-01-30T13:00:16.961Z"
      },
      {
        "duration": 236,
        "start_time": "2022-01-30T13:01:04.781Z"
      },
      {
        "duration": 7,
        "start_time": "2022-01-30T13:01:18.562Z"
      },
      {
        "duration": 7,
        "start_time": "2022-01-30T13:01:50.658Z"
      },
      {
        "duration": 11,
        "start_time": "2022-01-30T13:02:19.373Z"
      },
      {
        "duration": 58547,
        "start_time": "2022-01-30T13:08:29.763Z"
      },
      {
        "duration": 94394,
        "start_time": "2022-01-30T13:09:39.231Z"
      },
      {
        "duration": 91647,
        "start_time": "2022-01-30T13:11:27.838Z"
      },
      {
        "duration": 92391,
        "start_time": "2022-01-30T13:14:06.403Z"
      },
      {
        "duration": 179886,
        "start_time": "2022-01-30T13:15:44.018Z"
      },
      {
        "duration": 397170,
        "start_time": "2022-01-30T13:19:48.319Z"
      },
      {
        "duration": 39864,
        "start_time": "2022-01-30T13:29:01.866Z"
      },
      {
        "duration": 10,
        "start_time": "2022-01-30T13:30:05.015Z"
      },
      {
        "duration": 179152,
        "start_time": "2022-01-30T13:37:06.261Z"
      },
      {
        "duration": 41818,
        "start_time": "2022-01-30T13:40:05.416Z"
      },
      {
        "duration": 89416,
        "start_time": "2022-01-30T13:40:58.508Z"
      },
      {
        "duration": 188539,
        "start_time": "2022-01-30T13:42:34.949Z"
      },
      {
        "duration": 26216,
        "start_time": "2022-01-30T13:46:49.111Z"
      },
      {
        "duration": 9,
        "start_time": "2022-01-30T13:48:12.886Z"
      },
      {
        "duration": 14,
        "start_time": "2022-01-30T13:51:20.114Z"
      },
      {
        "duration": 12,
        "start_time": "2022-01-30T13:51:40.890Z"
      },
      {
        "duration": 13,
        "start_time": "2022-01-30T13:51:59.691Z"
      },
      {
        "duration": 7,
        "start_time": "2022-01-30T13:52:44.772Z"
      },
      {
        "duration": 9,
        "start_time": "2022-01-30T13:53:17.595Z"
      },
      {
        "duration": 4,
        "start_time": "2022-01-30T13:54:08.526Z"
      },
      {
        "duration": 5,
        "start_time": "2022-01-30T13:54:29.692Z"
      },
      {
        "duration": 1730,
        "start_time": "2022-01-30T14:00:32.731Z"
      },
      {
        "duration": 922,
        "start_time": "2022-01-30T14:00:34.470Z"
      },
      {
        "duration": 8,
        "start_time": "2022-01-30T14:00:35.396Z"
      },
      {
        "duration": 55,
        "start_time": "2022-01-30T14:00:35.407Z"
      },
      {
        "duration": 4,
        "start_time": "2022-01-30T14:00:35.465Z"
      },
      {
        "duration": 15,
        "start_time": "2022-01-30T14:00:35.472Z"
      },
      {
        "duration": 16,
        "start_time": "2022-01-30T14:00:35.490Z"
      },
      {
        "duration": 37,
        "start_time": "2022-01-30T14:00:35.512Z"
      },
      {
        "duration": 12,
        "start_time": "2022-01-30T14:00:35.553Z"
      },
      {
        "duration": 142,
        "start_time": "2022-01-30T14:00:35.567Z"
      },
      {
        "duration": 21,
        "start_time": "2022-01-30T14:00:35.712Z"
      },
      {
        "duration": 16,
        "start_time": "2022-01-30T14:00:35.736Z"
      },
      {
        "duration": 30,
        "start_time": "2022-01-30T14:00:35.755Z"
      },
      {
        "duration": 19,
        "start_time": "2022-01-30T14:00:35.788Z"
      },
      {
        "duration": 54,
        "start_time": "2022-01-30T14:00:35.811Z"
      },
      {
        "duration": 18,
        "start_time": "2022-01-30T14:00:35.868Z"
      },
      {
        "duration": 24,
        "start_time": "2022-01-30T14:00:35.888Z"
      },
      {
        "duration": 45,
        "start_time": "2022-01-30T14:00:35.915Z"
      },
      {
        "duration": 19,
        "start_time": "2022-01-30T14:00:35.963Z"
      },
      {
        "duration": 9,
        "start_time": "2022-01-30T14:00:35.985Z"
      },
      {
        "duration": 1360,
        "start_time": "2022-01-30T14:00:35.997Z"
      },
      {
        "duration": 11,
        "start_time": "2022-01-30T14:00:37.359Z"
      },
      {
        "duration": 1295,
        "start_time": "2022-01-30T14:00:37.372Z"
      },
      {
        "duration": 11,
        "start_time": "2022-01-30T14:00:38.670Z"
      },
      {
        "duration": 1674,
        "start_time": "2022-01-30T14:00:38.684Z"
      },
      {
        "duration": 15,
        "start_time": "2022-01-30T14:00:40.369Z"
      },
      {
        "duration": 16,
        "start_time": "2022-01-30T14:00:40.389Z"
      },
      {
        "duration": 772,
        "start_time": "2022-01-30T14:00:40.409Z"
      },
      {
        "duration": 12,
        "start_time": "2022-01-30T14:00:41.184Z"
      },
      {
        "duration": 11,
        "start_time": "2022-01-30T14:00:41.198Z"
      },
      {
        "duration": 793,
        "start_time": "2022-01-30T14:00:41.211Z"
      },
      {
        "duration": 5,
        "start_time": "2022-01-30T14:00:42.007Z"
      },
      {
        "duration": 18,
        "start_time": "2022-01-30T14:00:42.014Z"
      },
      {
        "duration": 766,
        "start_time": "2022-01-30T14:00:42.054Z"
      },
      {
        "duration": 6,
        "start_time": "2022-01-30T14:00:42.823Z"
      },
      {
        "duration": 27,
        "start_time": "2022-01-30T14:00:42.832Z"
      },
      {
        "duration": 695,
        "start_time": "2022-01-30T14:00:42.862Z"
      },
      {
        "duration": 5,
        "start_time": "2022-01-30T14:00:43.559Z"
      },
      {
        "duration": 21,
        "start_time": "2022-01-30T14:00:43.567Z"
      },
      {
        "duration": 820,
        "start_time": "2022-01-30T14:00:43.591Z"
      },
      {
        "duration": 6,
        "start_time": "2022-01-30T14:00:44.414Z"
      },
      {
        "duration": 4,
        "start_time": "2022-01-30T14:00:44.423Z"
      },
      {
        "duration": 12,
        "start_time": "2022-01-30T14:00:44.450Z"
      },
      {
        "duration": 8,
        "start_time": "2022-01-30T14:00:44.466Z"
      },
      {
        "duration": 29,
        "start_time": "2022-01-30T14:00:44.476Z"
      },
      {
        "duration": 42,
        "start_time": "2022-01-30T14:00:44.508Z"
      },
      {
        "duration": 10,
        "start_time": "2022-01-30T14:00:44.553Z"
      },
      {
        "duration": 15,
        "start_time": "2022-01-30T14:00:44.566Z"
      },
      {
        "duration": 6464,
        "start_time": "2022-01-30T14:00:44.584Z"
      },
      {
        "duration": 7457,
        "start_time": "2022-01-30T14:00:51.051Z"
      },
      {
        "duration": 36075,
        "start_time": "2022-01-30T14:00:58.511Z"
      },
      {
        "duration": 36388,
        "start_time": "2022-01-30T14:01:34.589Z"
      },
      {
        "duration": 1873,
        "start_time": "2022-01-30T14:02:10.980Z"
      },
      {
        "duration": 1796,
        "start_time": "2022-01-30T14:02:12.857Z"
      },
      {
        "duration": 492,
        "start_time": "2022-01-30T14:02:14.658Z"
      },
      {
        "duration": 97,
        "start_time": "2022-01-30T14:02:15.153Z"
      },
      {
        "duration": 94527,
        "start_time": "2022-01-30T14:02:15.254Z"
      },
      {
        "duration": 202260,
        "start_time": "2022-01-30T14:03:49.783Z"
      },
      {
        "duration": 371445,
        "start_time": "2022-01-30T14:07:12.049Z"
      },
      {
        "duration": 39108,
        "start_time": "2022-01-30T14:13:23.497Z"
      },
      {
        "duration": 12,
        "start_time": "2022-01-30T14:14:02.607Z"
      },
      {
        "duration": 120588,
        "start_time": "2022-01-30T14:14:02.622Z"
      },
      {
        "duration": -81,
        "start_time": "2022-01-30T14:16:03.294Z"
      },
      {
        "duration": -85,
        "start_time": "2022-01-30T14:16:03.299Z"
      },
      {
        "duration": -89,
        "start_time": "2022-01-30T14:16:03.305Z"
      },
      {
        "duration": -91,
        "start_time": "2022-01-30T14:16:03.309Z"
      },
      {
        "duration": -95,
        "start_time": "2022-01-30T14:16:03.314Z"
      },
      {
        "duration": -97,
        "start_time": "2022-01-30T14:16:03.318Z"
      },
      {
        "duration": 102615,
        "start_time": "2022-01-30T14:16:24.621Z"
      },
      {
        "duration": 185312,
        "start_time": "2022-01-30T14:18:16.564Z"
      },
      {
        "duration": 25429,
        "start_time": "2022-01-30T14:21:21.880Z"
      },
      {
        "duration": 12,
        "start_time": "2022-01-30T14:21:47.312Z"
      },
      {
        "duration": 26,
        "start_time": "2022-01-30T14:21:47.327Z"
      },
      {
        "duration": 8,
        "start_time": "2022-01-30T14:21:47.355Z"
      },
      {
        "duration": 8,
        "start_time": "2022-01-30T14:21:47.366Z"
      },
      {
        "duration": 1625,
        "start_time": "2022-01-30T14:38:25.689Z"
      },
      {
        "duration": 893,
        "start_time": "2022-01-30T14:38:27.317Z"
      },
      {
        "duration": 7,
        "start_time": "2022-01-30T14:38:28.213Z"
      },
      {
        "duration": 25,
        "start_time": "2022-01-30T14:38:55.256Z"
      },
      {
        "duration": 5,
        "start_time": "2022-01-30T14:39:08.481Z"
      },
      {
        "duration": 10,
        "start_time": "2022-01-30T14:39:08.947Z"
      },
      {
        "duration": 13,
        "start_time": "2022-01-30T14:39:09.137Z"
      },
      {
        "duration": 7,
        "start_time": "2022-01-30T14:39:09.516Z"
      },
      {
        "duration": 10,
        "start_time": "2022-01-30T14:39:22.192Z"
      },
      {
        "duration": 81,
        "start_time": "2022-01-30T14:39:48.695Z"
      },
      {
        "duration": 16,
        "start_time": "2022-01-30T14:39:48.778Z"
      },
      {
        "duration": 6,
        "start_time": "2022-01-30T14:40:28.836Z"
      },
      {
        "duration": 21,
        "start_time": "2022-01-30T14:40:29.981Z"
      },
      {
        "duration": 15,
        "start_time": "2022-01-30T14:40:30.500Z"
      },
      {
        "duration": 21,
        "start_time": "2022-01-30T14:40:31.467Z"
      },
      {
        "duration": 18,
        "start_time": "2022-01-30T14:40:35.066Z"
      },
      {
        "duration": 25,
        "start_time": "2022-01-30T14:40:36.126Z"
      },
      {
        "duration": 18,
        "start_time": "2022-01-30T14:40:36.884Z"
      },
      {
        "duration": 17,
        "start_time": "2022-01-30T14:40:37.532Z"
      },
      {
        "duration": 45,
        "start_time": "2022-01-30T14:41:23.908Z"
      },
      {
        "duration": 10,
        "start_time": "2022-01-30T14:42:28.285Z"
      },
      {
        "duration": 1266,
        "start_time": "2022-01-30T14:42:29.015Z"
      },
      {
        "duration": 11,
        "start_time": "2022-01-30T14:42:30.995Z"
      },
      {
        "duration": 1226,
        "start_time": "2022-01-30T14:42:31.532Z"
      },
      {
        "duration": 10,
        "start_time": "2022-01-30T14:42:32.760Z"
      },
      {
        "duration": 1167,
        "start_time": "2022-01-30T14:42:33.072Z"
      },
      {
        "duration": 11,
        "start_time": "2022-01-30T14:43:19.784Z"
      },
      {
        "duration": 13,
        "start_time": "2022-01-30T14:43:20.342Z"
      },
      {
        "duration": 715,
        "start_time": "2022-01-30T14:43:20.884Z"
      },
      {
        "duration": 10,
        "start_time": "2022-01-30T14:43:22.834Z"
      },
      {
        "duration": 11,
        "start_time": "2022-01-30T14:43:23.590Z"
      },
      {
        "duration": 748,
        "start_time": "2022-01-30T14:43:24.189Z"
      },
      {
        "duration": 6,
        "start_time": "2022-01-30T14:43:52.202Z"
      },
      {
        "duration": 12,
        "start_time": "2022-01-30T14:43:52.820Z"
      },
      {
        "duration": 547,
        "start_time": "2022-01-30T14:43:53.529Z"
      },
      {
        "duration": 5,
        "start_time": "2022-01-30T14:43:58.689Z"
      },
      {
        "duration": 12,
        "start_time": "2022-01-30T14:43:59.081Z"
      },
      {
        "duration": 653,
        "start_time": "2022-01-30T14:43:59.286Z"
      },
      {
        "duration": 5,
        "start_time": "2022-01-30T14:44:03.180Z"
      },
      {
        "duration": 12,
        "start_time": "2022-01-30T14:44:03.696Z"
      },
      {
        "duration": 551,
        "start_time": "2022-01-30T14:44:04.383Z"
      },
      {
        "duration": 4,
        "start_time": "2022-01-30T14:44:50.752Z"
      },
      {
        "duration": 5,
        "start_time": "2022-01-30T14:44:51.415Z"
      },
      {
        "duration": 8,
        "start_time": "2022-01-30T14:45:13.765Z"
      },
      {
        "duration": 4,
        "start_time": "2022-01-30T14:45:15.586Z"
      },
      {
        "duration": 23,
        "start_time": "2022-01-30T14:45:33.690Z"
      },
      {
        "duration": 6,
        "start_time": "2022-01-30T14:45:34.297Z"
      },
      {
        "duration": 5,
        "start_time": "2022-01-30T14:45:34.795Z"
      },
      {
        "duration": 11,
        "start_time": "2022-01-30T14:45:35.802Z"
      },
      {
        "duration": 6580,
        "start_time": "2022-01-30T14:45:45.612Z"
      },
      {
        "duration": 6343,
        "start_time": "2022-01-30T14:45:52.194Z"
      },
      {
        "duration": 39900,
        "start_time": "2022-01-30T14:45:58.540Z"
      },
      {
        "duration": 37083,
        "start_time": "2022-01-30T14:46:38.443Z"
      },
      {
        "duration": 1500,
        "start_time": "2022-01-30T14:47:15.532Z"
      },
      {
        "duration": 1697,
        "start_time": "2022-01-30T14:47:17.035Z"
      },
      {
        "duration": 210,
        "start_time": "2022-01-30T14:49:21.828Z"
      },
      {
        "duration": 13,
        "start_time": "2022-01-30T14:49:22.133Z"
      },
      {
        "duration": 94213,
        "start_time": "2022-01-30T14:49:22.340Z"
      },
      {
        "duration": 185852,
        "start_time": "2022-01-30T14:50:56.555Z"
      },
      {
        "duration": 391076,
        "start_time": "2022-01-30T14:54:02.410Z"
      },
      {
        "duration": 42399,
        "start_time": "2022-01-30T15:00:33.489Z"
      },
      {
        "duration": 13,
        "start_time": "2022-01-30T15:01:15.891Z"
      },
      {
        "duration": 116519,
        "start_time": "2022-01-30T15:01:15.906Z"
      },
      {
        "duration": 194563,
        "start_time": "2022-01-30T15:03:12.432Z"
      },
      {
        "duration": 26088,
        "start_time": "2022-01-30T15:06:26.998Z"
      },
      {
        "duration": 12,
        "start_time": "2022-01-30T15:06:53.089Z"
      },
      {
        "duration": 34,
        "start_time": "2022-01-30T15:06:53.103Z"
      },
      {
        "duration": 14,
        "start_time": "2022-01-30T15:06:53.140Z"
      },
      {
        "duration": 9,
        "start_time": "2022-01-30T15:06:53.157Z"
      },
      {
        "duration": 226,
        "start_time": "2022-01-31T08:20:36.238Z"
      },
      {
        "duration": 224,
        "start_time": "2022-01-31T08:20:40.649Z"
      },
      {
        "duration": 196,
        "start_time": "2022-01-31T08:20:45.901Z"
      },
      {
        "duration": 1304,
        "start_time": "2022-01-31T08:20:52.076Z"
      },
      {
        "duration": 695,
        "start_time": "2022-01-31T08:20:53.382Z"
      },
      {
        "duration": 4,
        "start_time": "2022-01-31T08:20:54.080Z"
      },
      {
        "duration": 20,
        "start_time": "2022-01-31T08:20:54.086Z"
      },
      {
        "duration": 4,
        "start_time": "2022-01-31T08:20:54.108Z"
      },
      {
        "duration": 10,
        "start_time": "2022-01-31T08:20:54.114Z"
      },
      {
        "duration": 35,
        "start_time": "2022-01-31T08:20:54.126Z"
      },
      {
        "duration": 4,
        "start_time": "2022-01-31T08:20:54.164Z"
      },
      {
        "duration": 11,
        "start_time": "2022-01-31T08:20:54.170Z"
      },
      {
        "duration": 101,
        "start_time": "2022-01-31T08:20:54.183Z"
      },
      {
        "duration": 12,
        "start_time": "2022-01-31T08:20:54.286Z"
      },
      {
        "duration": 5,
        "start_time": "2022-01-31T08:20:54.300Z"
      },
      {
        "duration": 17,
        "start_time": "2022-01-31T08:20:54.307Z"
      },
      {
        "duration": 36,
        "start_time": "2022-01-31T08:20:54.326Z"
      },
      {
        "duration": 15,
        "start_time": "2022-01-31T08:20:54.364Z"
      },
      {
        "duration": 12,
        "start_time": "2022-01-31T08:20:54.380Z"
      },
      {
        "duration": 21,
        "start_time": "2022-01-31T08:20:54.393Z"
      },
      {
        "duration": 9,
        "start_time": "2022-01-31T08:20:54.416Z"
      },
      {
        "duration": 41,
        "start_time": "2022-01-31T08:20:54.426Z"
      },
      {
        "duration": 7,
        "start_time": "2022-01-31T08:20:54.468Z"
      },
      {
        "duration": 794,
        "start_time": "2022-01-31T08:20:54.477Z"
      },
      {
        "duration": 7,
        "start_time": "2022-01-31T08:20:55.273Z"
      },
      {
        "duration": 819,
        "start_time": "2022-01-31T08:20:55.284Z"
      },
      {
        "duration": 7,
        "start_time": "2022-01-31T08:20:56.107Z"
      },
      {
        "duration": 718,
        "start_time": "2022-01-31T08:20:56.116Z"
      },
      {
        "duration": 10,
        "start_time": "2022-01-31T08:20:56.837Z"
      },
      {
        "duration": 9,
        "start_time": "2022-01-31T08:20:56.860Z"
      },
      {
        "duration": 454,
        "start_time": "2022-01-31T08:20:56.872Z"
      },
      {
        "duration": 9,
        "start_time": "2022-01-31T08:20:57.328Z"
      },
      {
        "duration": 25,
        "start_time": "2022-01-31T08:20:57.339Z"
      },
      {
        "duration": 451,
        "start_time": "2022-01-31T08:20:57.366Z"
      },
      {
        "duration": 4,
        "start_time": "2022-01-31T08:20:57.819Z"
      },
      {
        "duration": 10,
        "start_time": "2022-01-31T08:20:57.825Z"
      },
      {
        "duration": 349,
        "start_time": "2022-01-31T08:20:57.837Z"
      },
      {
        "duration": 4,
        "start_time": "2022-01-31T08:20:58.188Z"
      },
      {
        "duration": 12,
        "start_time": "2022-01-31T08:20:58.193Z"
      },
      {
        "duration": 424,
        "start_time": "2022-01-31T08:20:58.207Z"
      },
      {
        "duration": 4,
        "start_time": "2022-01-31T08:20:58.634Z"
      },
      {
        "duration": 23,
        "start_time": "2022-01-31T08:20:58.640Z"
      },
      {
        "duration": 342,
        "start_time": "2022-01-31T08:20:58.665Z"
      },
      {
        "duration": 12,
        "start_time": "2022-01-31T08:20:59.009Z"
      },
      {
        "duration": 252,
        "start_time": "2022-01-31T08:20:59.023Z"
      },
      {
        "duration": -58,
        "start_time": "2022-01-31T08:20:59.335Z"
      },
      {
        "duration": -61,
        "start_time": "2022-01-31T08:20:59.340Z"
      },
      {
        "duration": -65,
        "start_time": "2022-01-31T08:20:59.345Z"
      },
      {
        "duration": -71,
        "start_time": "2022-01-31T08:20:59.351Z"
      },
      {
        "duration": -77,
        "start_time": "2022-01-31T08:20:59.358Z"
      },
      {
        "duration": -81,
        "start_time": "2022-01-31T08:20:59.363Z"
      },
      {
        "duration": -86,
        "start_time": "2022-01-31T08:20:59.369Z"
      },
      {
        "duration": -89,
        "start_time": "2022-01-31T08:20:59.374Z"
      },
      {
        "duration": -93,
        "start_time": "2022-01-31T08:20:59.379Z"
      },
      {
        "duration": -97,
        "start_time": "2022-01-31T08:20:59.384Z"
      },
      {
        "duration": -102,
        "start_time": "2022-01-31T08:20:59.390Z"
      },
      {
        "duration": -106,
        "start_time": "2022-01-31T08:20:59.395Z"
      },
      {
        "duration": -111,
        "start_time": "2022-01-31T08:20:59.401Z"
      },
      {
        "duration": -116,
        "start_time": "2022-01-31T08:20:59.407Z"
      },
      {
        "duration": -123,
        "start_time": "2022-01-31T08:20:59.415Z"
      },
      {
        "duration": -129,
        "start_time": "2022-01-31T08:20:59.422Z"
      },
      {
        "duration": -133,
        "start_time": "2022-01-31T08:20:59.427Z"
      },
      {
        "duration": -146,
        "start_time": "2022-01-31T08:20:59.440Z"
      },
      {
        "duration": -151,
        "start_time": "2022-01-31T08:20:59.446Z"
      },
      {
        "duration": -155,
        "start_time": "2022-01-31T08:20:59.451Z"
      },
      {
        "duration": -159,
        "start_time": "2022-01-31T08:20:59.456Z"
      },
      {
        "duration": -163,
        "start_time": "2022-01-31T08:20:59.461Z"
      },
      {
        "duration": -170,
        "start_time": "2022-01-31T08:20:59.469Z"
      },
      {
        "duration": -175,
        "start_time": "2022-01-31T08:20:59.475Z"
      },
      {
        "duration": -181,
        "start_time": "2022-01-31T08:20:59.482Z"
      },
      {
        "duration": -186,
        "start_time": "2022-01-31T08:20:59.488Z"
      },
      {
        "duration": -193,
        "start_time": "2022-01-31T08:20:59.495Z"
      },
      {
        "duration": -199,
        "start_time": "2022-01-31T08:20:59.502Z"
      },
      {
        "duration": 4,
        "start_time": "2022-01-31T08:27:27.575Z"
      },
      {
        "duration": 763,
        "start_time": "2022-01-31T08:27:27.590Z"
      },
      {
        "duration": 4,
        "start_time": "2022-01-31T08:27:28.355Z"
      },
      {
        "duration": 18,
        "start_time": "2022-01-31T08:27:28.361Z"
      },
      {
        "duration": 3,
        "start_time": "2022-01-31T08:27:28.382Z"
      },
      {
        "duration": 9,
        "start_time": "2022-01-31T08:27:28.386Z"
      },
      {
        "duration": 7,
        "start_time": "2022-01-31T08:27:28.396Z"
      },
      {
        "duration": 5,
        "start_time": "2022-01-31T08:27:28.404Z"
      },
      {
        "duration": 10,
        "start_time": "2022-01-31T08:27:28.410Z"
      },
      {
        "duration": 106,
        "start_time": "2022-01-31T08:27:28.422Z"
      },
      {
        "duration": 12,
        "start_time": "2022-01-31T08:27:28.530Z"
      },
      {
        "duration": 20,
        "start_time": "2022-01-31T08:27:28.544Z"
      },
      {
        "duration": 17,
        "start_time": "2022-01-31T08:27:28.566Z"
      },
      {
        "duration": 10,
        "start_time": "2022-01-31T08:27:28.585Z"
      },
      {
        "duration": 15,
        "start_time": "2022-01-31T08:27:28.597Z"
      },
      {
        "duration": 11,
        "start_time": "2022-01-31T08:27:28.614Z"
      },
      {
        "duration": 44,
        "start_time": "2022-01-31T08:27:28.627Z"
      },
      {
        "duration": 10,
        "start_time": "2022-01-31T08:27:28.673Z"
      },
      {
        "duration": 12,
        "start_time": "2022-01-31T08:27:28.685Z"
      },
      {
        "duration": 7,
        "start_time": "2022-01-31T08:27:28.698Z"
      },
      {
        "duration": 843,
        "start_time": "2022-01-31T08:27:28.707Z"
      },
      {
        "duration": 12,
        "start_time": "2022-01-31T08:27:29.552Z"
      },
      {
        "duration": 678,
        "start_time": "2022-01-31T08:27:29.566Z"
      },
      {
        "duration": 16,
        "start_time": "2022-01-31T08:27:30.245Z"
      },
      {
        "duration": 826,
        "start_time": "2022-01-31T08:27:30.263Z"
      },
      {
        "duration": 8,
        "start_time": "2022-01-31T08:27:31.091Z"
      },
      {
        "duration": 8,
        "start_time": "2022-01-31T08:27:31.100Z"
      },
      {
        "duration": 436,
        "start_time": "2022-01-31T08:27:31.111Z"
      },
      {
        "duration": 18,
        "start_time": "2022-01-31T08:27:31.548Z"
      },
      {
        "duration": 11,
        "start_time": "2022-01-31T08:27:31.568Z"
      },
      {
        "duration": 461,
        "start_time": "2022-01-31T08:27:31.581Z"
      },
      {
        "duration": 4,
        "start_time": "2022-01-31T08:27:32.044Z"
      },
      {
        "duration": 25,
        "start_time": "2022-01-31T08:27:32.050Z"
      },
      {
        "duration": 317,
        "start_time": "2022-01-31T08:27:32.077Z"
      },
      {
        "duration": 3,
        "start_time": "2022-01-31T08:27:32.396Z"
      },
      {
        "duration": 13,
        "start_time": "2022-01-31T08:27:32.400Z"
      },
      {
        "duration": 329,
        "start_time": "2022-01-31T08:27:32.415Z"
      },
      {
        "duration": 4,
        "start_time": "2022-01-31T08:27:32.746Z"
      },
      {
        "duration": 16,
        "start_time": "2022-01-31T08:27:32.751Z"
      },
      {
        "duration": 340,
        "start_time": "2022-01-31T08:27:32.768Z"
      },
      {
        "duration": 224,
        "start_time": "2022-01-31T08:32:33.139Z"
      },
      {
        "duration": 214,
        "start_time": "2022-01-31T08:46:41.485Z"
      },
      {
        "duration": 8,
        "start_time": "2022-01-31T09:03:59.092Z"
      },
      {
        "duration": 22,
        "start_time": "2022-01-31T09:06:20.500Z"
      },
      {
        "duration": 7566,
        "start_time": "2022-01-31T09:07:28.909Z"
      },
      {
        "duration": 21,
        "start_time": "2022-01-31T10:04:02.048Z"
      },
      {
        "duration": 18,
        "start_time": "2022-01-31T10:04:06.359Z"
      },
      {
        "duration": 21,
        "start_time": "2022-01-31T10:04:45.941Z"
      },
      {
        "duration": 27,
        "start_time": "2022-01-31T10:05:53.669Z"
      },
      {
        "duration": 25,
        "start_time": "2022-01-31T10:06:50.314Z"
      },
      {
        "duration": 4,
        "start_time": "2022-01-31T10:06:50.341Z"
      },
      {
        "duration": 8,
        "start_time": "2022-01-31T10:06:50.347Z"
      },
      {
        "duration": 22,
        "start_time": "2022-01-31T10:06:50.356Z"
      },
      {
        "duration": 6,
        "start_time": "2022-01-31T10:06:50.380Z"
      },
      {
        "duration": 19,
        "start_time": "2022-01-31T10:06:50.388Z"
      },
      {
        "duration": 5,
        "start_time": "2022-01-31T10:06:50.410Z"
      },
      {
        "duration": 6,
        "start_time": "2022-01-31T10:06:50.418Z"
      },
      {
        "duration": 11,
        "start_time": "2022-01-31T10:06:50.426Z"
      },
      {
        "duration": 5274,
        "start_time": "2022-01-31T10:06:50.439Z"
      },
      {
        "duration": 5400,
        "start_time": "2022-01-31T10:06:55.715Z"
      },
      {
        "duration": 31528,
        "start_time": "2022-01-31T10:07:01.117Z"
      },
      {
        "duration": 30132,
        "start_time": "2022-01-31T10:07:32.648Z"
      },
      {
        "duration": 1583,
        "start_time": "2022-01-31T10:08:02.782Z"
      },
      {
        "duration": 1897,
        "start_time": "2022-01-31T10:08:04.367Z"
      },
      {
        "duration": 210,
        "start_time": "2022-01-31T10:08:06.269Z"
      },
      {
        "duration": 86,
        "start_time": "2022-01-31T10:08:06.482Z"
      },
      {
        "duration": 78365,
        "start_time": "2022-01-31T10:08:06.572Z"
      },
      {
        "duration": 154388,
        "start_time": "2022-01-31T10:09:24.939Z"
      },
      {
        "duration": 313593,
        "start_time": "2022-01-31T10:11:59.329Z"
      },
      {
        "duration": 34827,
        "start_time": "2022-01-31T10:17:12.924Z"
      },
      {
        "duration": 15,
        "start_time": "2022-01-31T10:17:47.755Z"
      },
      {
        "duration": 91618,
        "start_time": "2022-01-31T10:17:47.772Z"
      },
      {
        "duration": 167314,
        "start_time": "2022-01-31T10:19:19.392Z"
      },
      {
        "duration": 22375,
        "start_time": "2022-01-31T10:22:06.707Z"
      },
      {
        "duration": 8,
        "start_time": "2022-01-31T10:22:29.084Z"
      },
      {
        "duration": 7,
        "start_time": "2022-01-31T10:22:29.094Z"
      },
      {
        "duration": 6,
        "start_time": "2022-01-31T10:22:29.102Z"
      },
      {
        "duration": 6,
        "start_time": "2022-01-31T10:22:29.109Z"
      },
      {
        "duration": 16,
        "start_time": "2022-01-31T10:22:29.116Z"
      },
      {
        "duration": 27,
        "start_time": "2022-01-31T10:31:23.319Z"
      },
      {
        "duration": 12,
        "start_time": "2022-01-31T10:31:25.108Z"
      },
      {
        "duration": 362,
        "start_time": "2022-01-31T10:31:57.688Z"
      },
      {
        "duration": 220,
        "start_time": "2022-01-31T10:33:41.526Z"
      },
      {
        "duration": 5,
        "start_time": "2022-01-31T10:33:51.321Z"
      },
      {
        "duration": 5054,
        "start_time": "2022-01-31T10:33:51.335Z"
      },
      {
        "duration": 4,
        "start_time": "2022-01-31T10:33:56.391Z"
      },
      {
        "duration": 19,
        "start_time": "2022-01-31T10:33:56.397Z"
      },
      {
        "duration": 3,
        "start_time": "2022-01-31T10:33:56.418Z"
      },
      {
        "duration": 7,
        "start_time": "2022-01-31T10:33:56.423Z"
      },
      {
        "duration": 10,
        "start_time": "2022-01-31T10:33:56.432Z"
      },
      {
        "duration": 15,
        "start_time": "2022-01-31T10:33:56.461Z"
      },
      {
        "duration": 14,
        "start_time": "2022-01-31T10:33:56.478Z"
      },
      {
        "duration": 84,
        "start_time": "2022-01-31T10:33:56.496Z"
      },
      {
        "duration": 12,
        "start_time": "2022-01-31T10:33:56.583Z"
      },
      {
        "duration": 5,
        "start_time": "2022-01-31T10:33:56.598Z"
      },
      {
        "duration": 19,
        "start_time": "2022-01-31T10:33:56.605Z"
      },
      {
        "duration": 12,
        "start_time": "2022-01-31T10:33:56.626Z"
      },
      {
        "duration": 20,
        "start_time": "2022-01-31T10:33:56.664Z"
      },
      {
        "duration": 12,
        "start_time": "2022-01-31T10:33:56.686Z"
      },
      {
        "duration": 19,
        "start_time": "2022-01-31T10:33:56.700Z"
      },
      {
        "duration": 11,
        "start_time": "2022-01-31T10:33:56.721Z"
      },
      {
        "duration": 20,
        "start_time": "2022-01-31T10:33:56.761Z"
      },
      {
        "duration": 8,
        "start_time": "2022-01-31T10:33:56.783Z"
      },
      {
        "duration": 1009,
        "start_time": "2022-01-31T10:33:56.793Z"
      },
      {
        "duration": 7,
        "start_time": "2022-01-31T10:33:57.804Z"
      },
      {
        "duration": 751,
        "start_time": "2022-01-31T10:33:57.812Z"
      },
      {
        "duration": 13,
        "start_time": "2022-01-31T10:33:58.565Z"
      },
      {
        "duration": 742,
        "start_time": "2022-01-31T10:33:58.580Z"
      },
      {
        "duration": 10,
        "start_time": "2022-01-31T10:33:59.324Z"
      },
      {
        "duration": 27,
        "start_time": "2022-01-31T10:33:59.335Z"
      },
      {
        "duration": 455,
        "start_time": "2022-01-31T10:33:59.366Z"
      },
      {
        "duration": 8,
        "start_time": "2022-01-31T10:33:59.823Z"
      },
      {
        "duration": 32,
        "start_time": "2022-01-31T10:33:59.833Z"
      },
      {
        "duration": 485,
        "start_time": "2022-01-31T10:33:59.868Z"
      },
      {
        "duration": 8,
        "start_time": "2022-01-31T10:34:00.355Z"
      },
      {
        "duration": 34,
        "start_time": "2022-01-31T10:34:00.365Z"
      },
      {
        "duration": 684,
        "start_time": "2022-01-31T10:34:00.400Z"
      },
      {
        "duration": 3,
        "start_time": "2022-01-31T10:34:01.086Z"
      },
      {
        "duration": 14,
        "start_time": "2022-01-31T10:34:01.091Z"
      },
      {
        "duration": 455,
        "start_time": "2022-01-31T10:34:01.107Z"
      },
      {
        "duration": 6,
        "start_time": "2022-01-31T10:34:01.565Z"
      },
      {
        "duration": 25,
        "start_time": "2022-01-31T10:34:01.573Z"
      },
      {
        "duration": 375,
        "start_time": "2022-01-31T10:34:01.599Z"
      },
      {
        "duration": 28,
        "start_time": "2022-01-31T10:34:05.951Z"
      },
      {
        "duration": 397,
        "start_time": "2022-01-31T10:34:52.804Z"
      },
      {
        "duration": 4,
        "start_time": "2022-01-31T10:35:06.349Z"
      },
      {
        "duration": 714,
        "start_time": "2022-01-31T10:35:06.374Z"
      },
      {
        "duration": 4,
        "start_time": "2022-01-31T10:35:07.090Z"
      },
      {
        "duration": 26,
        "start_time": "2022-01-31T10:35:07.097Z"
      },
      {
        "duration": 3,
        "start_time": "2022-01-31T10:35:07.125Z"
      },
      {
        "duration": 9,
        "start_time": "2022-01-31T10:35:07.129Z"
      },
      {
        "duration": 32,
        "start_time": "2022-01-31T10:35:07.140Z"
      },
      {
        "duration": 5,
        "start_time": "2022-01-31T10:35:07.175Z"
      },
      {
        "duration": 12,
        "start_time": "2022-01-31T10:35:07.182Z"
      },
      {
        "duration": 86,
        "start_time": "2022-01-31T10:35:07.197Z"
      },
      {
        "duration": 12,
        "start_time": "2022-01-31T10:35:07.286Z"
      },
      {
        "duration": 7,
        "start_time": "2022-01-31T10:35:07.300Z"
      },
      {
        "duration": 15,
        "start_time": "2022-01-31T10:35:07.308Z"
      },
      {
        "duration": 9,
        "start_time": "2022-01-31T10:35:07.325Z"
      },
      {
        "duration": 45,
        "start_time": "2022-01-31T10:35:07.336Z"
      },
      {
        "duration": 14,
        "start_time": "2022-01-31T10:35:07.383Z"
      },
      {
        "duration": 19,
        "start_time": "2022-01-31T10:35:07.399Z"
      },
      {
        "duration": 11,
        "start_time": "2022-01-31T10:35:07.420Z"
      },
      {
        "duration": 42,
        "start_time": "2022-01-31T10:35:07.433Z"
      },
      {
        "duration": 24,
        "start_time": "2022-01-31T10:35:07.477Z"
      },
      {
        "duration": 743,
        "start_time": "2022-01-31T10:35:07.504Z"
      },
      {
        "duration": 8,
        "start_time": "2022-01-31T10:35:08.260Z"
      },
      {
        "duration": 727,
        "start_time": "2022-01-31T10:35:08.270Z"
      },
      {
        "duration": 7,
        "start_time": "2022-01-31T10:35:08.999Z"
      },
      {
        "duration": 723,
        "start_time": "2022-01-31T10:35:09.008Z"
      },
      {
        "duration": 8,
        "start_time": "2022-01-31T10:35:09.732Z"
      },
      {
        "duration": 26,
        "start_time": "2022-01-31T10:35:09.742Z"
      },
      {
        "duration": 706,
        "start_time": "2022-01-31T10:35:09.774Z"
      },
      {
        "duration": 8,
        "start_time": "2022-01-31T10:35:10.482Z"
      },
      {
        "duration": 10,
        "start_time": "2022-01-31T10:35:10.491Z"
      },
      {
        "duration": 480,
        "start_time": "2022-01-31T10:35:10.502Z"
      },
      {
        "duration": 3,
        "start_time": "2022-01-31T10:35:10.983Z"
      },
      {
        "duration": 14,
        "start_time": "2022-01-31T10:35:10.988Z"
      },
      {
        "duration": 353,
        "start_time": "2022-01-31T10:35:11.003Z"
      },
      {
        "duration": 4,
        "start_time": "2022-01-31T10:35:11.358Z"
      },
      {
        "duration": 19,
        "start_time": "2022-01-31T10:35:11.364Z"
      },
      {
        "duration": 337,
        "start_time": "2022-01-31T10:35:11.385Z"
      },
      {
        "duration": 5,
        "start_time": "2022-01-31T10:35:11.724Z"
      },
      {
        "duration": 11,
        "start_time": "2022-01-31T10:35:11.731Z"
      },
      {
        "duration": 366,
        "start_time": "2022-01-31T10:35:11.743Z"
      },
      {
        "duration": 297,
        "start_time": "2022-01-31T10:35:13.832Z"
      },
      {
        "duration": 246,
        "start_time": "2022-01-31T10:35:24.652Z"
      },
      {
        "duration": 3,
        "start_time": "2022-01-31T10:35:38.655Z"
      },
      {
        "duration": 727,
        "start_time": "2022-01-31T10:35:38.674Z"
      },
      {
        "duration": 4,
        "start_time": "2022-01-31T10:35:39.403Z"
      },
      {
        "duration": 21,
        "start_time": "2022-01-31T10:35:39.409Z"
      },
      {
        "duration": 3,
        "start_time": "2022-01-31T10:35:39.431Z"
      },
      {
        "duration": 8,
        "start_time": "2022-01-31T10:35:39.435Z"
      },
      {
        "duration": 7,
        "start_time": "2022-01-31T10:35:39.461Z"
      },
      {
        "duration": 14,
        "start_time": "2022-01-31T10:35:39.470Z"
      },
      {
        "duration": 7,
        "start_time": "2022-01-31T10:35:39.486Z"
      },
      {
        "duration": 78,
        "start_time": "2022-01-31T10:35:39.496Z"
      },
      {
        "duration": 11,
        "start_time": "2022-01-31T10:35:39.576Z"
      },
      {
        "duration": 5,
        "start_time": "2022-01-31T10:35:39.589Z"
      },
      {
        "duration": 15,
        "start_time": "2022-01-31T10:35:39.596Z"
      },
      {
        "duration": 10,
        "start_time": "2022-01-31T10:35:39.613Z"
      },
      {
        "duration": 48,
        "start_time": "2022-01-31T10:35:39.625Z"
      },
      {
        "duration": 12,
        "start_time": "2022-01-31T10:35:39.675Z"
      },
      {
        "duration": 18,
        "start_time": "2022-01-31T10:35:39.689Z"
      },
      {
        "duration": 10,
        "start_time": "2022-01-31T10:35:39.709Z"
      },
      {
        "duration": 12,
        "start_time": "2022-01-31T10:35:39.721Z"
      },
      {
        "duration": 8,
        "start_time": "2022-01-31T10:35:39.763Z"
      },
      {
        "duration": 771,
        "start_time": "2022-01-31T10:35:39.773Z"
      },
      {
        "duration": 16,
        "start_time": "2022-01-31T10:35:40.546Z"
      },
      {
        "duration": 712,
        "start_time": "2022-01-31T10:35:40.564Z"
      },
      {
        "duration": 8,
        "start_time": "2022-01-31T10:35:41.278Z"
      },
      {
        "duration": 746,
        "start_time": "2022-01-31T10:35:41.287Z"
      },
      {
        "duration": 9,
        "start_time": "2022-01-31T10:35:42.034Z"
      },
      {
        "duration": 38,
        "start_time": "2022-01-31T10:35:42.045Z"
      },
      {
        "duration": 761,
        "start_time": "2022-01-31T10:35:42.087Z"
      },
      {
        "duration": 16,
        "start_time": "2022-01-31T10:35:42.850Z"
      },
      {
        "duration": 14,
        "start_time": "2022-01-31T10:35:42.870Z"
      },
      {
        "duration": 517,
        "start_time": "2022-01-31T10:35:42.886Z"
      },
      {
        "duration": 4,
        "start_time": "2022-01-31T10:35:43.405Z"
      },
      {
        "duration": 15,
        "start_time": "2022-01-31T10:35:43.410Z"
      },
      {
        "duration": 373,
        "start_time": "2022-01-31T10:35:43.426Z"
      },
      {
        "duration": 4,
        "start_time": "2022-01-31T10:35:43.800Z"
      },
      {
        "duration": 13,
        "start_time": "2022-01-31T10:35:43.805Z"
      },
      {
        "duration": 369,
        "start_time": "2022-01-31T10:35:43.820Z"
      },
      {
        "duration": 4,
        "start_time": "2022-01-31T10:35:44.191Z"
      },
      {
        "duration": 12,
        "start_time": "2022-01-31T10:35:44.196Z"
      },
      {
        "duration": 352,
        "start_time": "2022-01-31T10:35:44.210Z"
      },
      {
        "duration": 221,
        "start_time": "2022-01-31T10:35:46.702Z"
      },
      {
        "duration": 209,
        "start_time": "2022-01-31T10:36:01.040Z"
      },
      {
        "duration": 626,
        "start_time": "2022-01-31T10:39:46.791Z"
      },
      {
        "duration": 2,
        "start_time": "2022-01-31T10:40:40.781Z"
      },
      {
        "duration": 211,
        "start_time": "2022-01-31T10:40:42.837Z"
      },
      {
        "duration": 4,
        "start_time": "2022-01-31T10:40:47.476Z"
      },
      {
        "duration": 715,
        "start_time": "2022-01-31T10:40:47.489Z"
      },
      {
        "duration": 5,
        "start_time": "2022-01-31T10:40:48.206Z"
      },
      {
        "duration": 22,
        "start_time": "2022-01-31T10:40:48.213Z"
      },
      {
        "duration": 3,
        "start_time": "2022-01-31T10:40:48.238Z"
      },
      {
        "duration": 29,
        "start_time": "2022-01-31T10:40:48.243Z"
      },
      {
        "duration": 8,
        "start_time": "2022-01-31T10:40:48.274Z"
      },
      {
        "duration": 5,
        "start_time": "2022-01-31T10:40:48.285Z"
      },
      {
        "duration": 8,
        "start_time": "2022-01-31T10:40:48.292Z"
      },
      {
        "duration": 105,
        "start_time": "2022-01-31T10:40:48.304Z"
      },
      {
        "duration": 13,
        "start_time": "2022-01-31T10:40:48.411Z"
      },
      {
        "duration": 6,
        "start_time": "2022-01-31T10:40:48.426Z"
      },
      {
        "duration": 46,
        "start_time": "2022-01-31T10:40:48.433Z"
      },
      {
        "duration": 12,
        "start_time": "2022-01-31T10:40:48.481Z"
      },
      {
        "duration": 16,
        "start_time": "2022-01-31T10:40:48.495Z"
      },
      {
        "duration": 13,
        "start_time": "2022-01-31T10:40:48.513Z"
      },
      {
        "duration": 48,
        "start_time": "2022-01-31T10:40:48.528Z"
      },
      {
        "duration": 13,
        "start_time": "2022-01-31T10:40:48.578Z"
      },
      {
        "duration": 14,
        "start_time": "2022-01-31T10:40:48.593Z"
      },
      {
        "duration": 9,
        "start_time": "2022-01-31T10:40:48.609Z"
      },
      {
        "duration": 822,
        "start_time": "2022-01-31T10:40:48.620Z"
      },
      {
        "duration": 19,
        "start_time": "2022-01-31T10:40:49.444Z"
      },
      {
        "duration": 725,
        "start_time": "2022-01-31T10:40:49.469Z"
      },
      {
        "duration": 7,
        "start_time": "2022-01-31T10:40:50.196Z"
      },
      {
        "duration": 755,
        "start_time": "2022-01-31T10:40:50.205Z"
      },
      {
        "duration": 9,
        "start_time": "2022-01-31T10:40:50.965Z"
      },
      {
        "duration": 21,
        "start_time": "2022-01-31T10:40:50.976Z"
      },
      {
        "duration": 475,
        "start_time": "2022-01-31T10:40:51.001Z"
      },
      {
        "duration": 8,
        "start_time": "2022-01-31T10:40:51.478Z"
      },
      {
        "duration": 7,
        "start_time": "2022-01-31T10:40:51.487Z"
      },
      {
        "duration": 502,
        "start_time": "2022-01-31T10:40:51.495Z"
      },
      {
        "duration": 4,
        "start_time": "2022-01-31T10:40:51.998Z"
      },
      {
        "duration": 14,
        "start_time": "2022-01-31T10:40:52.004Z"
      },
      {
        "duration": 841,
        "start_time": "2022-01-31T10:40:52.019Z"
      },
      {
        "duration": 4,
        "start_time": "2022-01-31T10:40:52.863Z"
      },
      {
        "duration": 17,
        "start_time": "2022-01-31T10:40:52.869Z"
      },
      {
        "duration": 354,
        "start_time": "2022-01-31T10:40:52.888Z"
      },
      {
        "duration": 4,
        "start_time": "2022-01-31T10:40:53.243Z"
      },
      {
        "duration": 31,
        "start_time": "2022-01-31T10:40:53.248Z"
      },
      {
        "duration": 348,
        "start_time": "2022-01-31T10:40:53.281Z"
      },
      {
        "duration": 2,
        "start_time": "2022-01-31T10:40:53.631Z"
      },
      {
        "duration": 20,
        "start_time": "2022-01-31T10:40:57.101Z"
      },
      {
        "duration": 12,
        "start_time": "2022-01-31T10:40:59.848Z"
      },
      {
        "duration": 11,
        "start_time": "2022-01-31T10:44:56.610Z"
      },
      {
        "duration": 5,
        "start_time": "2022-01-31T10:45:35.405Z"
      },
      {
        "duration": 32240,
        "start_time": "2022-01-31T10:49:40.216Z"
      },
      {
        "duration": 33140,
        "start_time": "2022-01-31T10:50:21.174Z"
      },
      {
        "duration": 276,
        "start_time": "2022-01-31T10:51:22.554Z"
      },
      {
        "duration": 4,
        "start_time": "2022-01-31T10:52:29.208Z"
      },
      {
        "duration": 3,
        "start_time": "2022-01-31T10:52:50.256Z"
      },
      {
        "duration": 5152,
        "start_time": "2022-01-31T10:59:06.576Z"
      },
      {
        "duration": 6255,
        "start_time": "2022-01-31T10:59:23.173Z"
      },
      {
        "duration": 32910,
        "start_time": "2022-01-31T10:59:37.398Z"
      },
      {
        "duration": 32038,
        "start_time": "2022-01-31T11:00:20.500Z"
      },
      {
        "duration": 2079,
        "start_time": "2022-01-31T11:00:56.692Z"
      },
      {
        "duration": 1669,
        "start_time": "2022-01-31T11:01:12.898Z"
      },
      {
        "duration": 2,
        "start_time": "2022-01-31T12:50:23.216Z"
      },
      {
        "duration": 3,
        "start_time": "2022-01-31T12:50:32.916Z"
      },
      {
        "duration": 2,
        "start_time": "2022-01-31T12:50:39.619Z"
      },
      {
        "duration": 3,
        "start_time": "2022-01-31T12:51:35.630Z"
      },
      {
        "duration": 3,
        "start_time": "2022-01-31T12:51:48.105Z"
      },
      {
        "duration": 3,
        "start_time": "2022-01-31T12:51:56.989Z"
      },
      {
        "duration": 2,
        "start_time": "2022-01-31T12:52:08.463Z"
      },
      {
        "duration": 176,
        "start_time": "2022-01-31T12:53:21.486Z"
      },
      {
        "duration": 9,
        "start_time": "2022-01-31T12:54:11.418Z"
      },
      {
        "duration": 6,
        "start_time": "2022-01-31T12:54:25.692Z"
      },
      {
        "duration": 6,
        "start_time": "2022-01-31T12:54:27.517Z"
      },
      {
        "duration": 6,
        "start_time": "2022-01-31T12:54:39.529Z"
      },
      {
        "duration": 4,
        "start_time": "2022-01-31T12:54:42.572Z"
      },
      {
        "duration": 10,
        "start_time": "2022-01-31T13:19:06.988Z"
      },
      {
        "duration": 9,
        "start_time": "2022-01-31T13:20:31.570Z"
      },
      {
        "duration": 8,
        "start_time": "2022-01-31T13:21:03.031Z"
      },
      {
        "duration": 5,
        "start_time": "2022-01-31T13:21:29.368Z"
      },
      {
        "duration": 5,
        "start_time": "2022-01-31T13:21:38.501Z"
      },
      {
        "duration": 1375,
        "start_time": "2022-01-31T13:23:04.468Z"
      },
      {
        "duration": 785,
        "start_time": "2022-01-31T13:23:05.846Z"
      },
      {
        "duration": 3,
        "start_time": "2022-01-31T13:23:06.635Z"
      },
      {
        "duration": 19,
        "start_time": "2022-01-31T13:23:06.640Z"
      },
      {
        "duration": 3,
        "start_time": "2022-01-31T13:23:06.661Z"
      },
      {
        "duration": 13,
        "start_time": "2022-01-31T13:23:06.665Z"
      },
      {
        "duration": 8,
        "start_time": "2022-01-31T13:23:06.680Z"
      },
      {
        "duration": 28,
        "start_time": "2022-01-31T13:23:06.690Z"
      },
      {
        "duration": 6,
        "start_time": "2022-01-31T13:23:06.720Z"
      },
      {
        "duration": 101,
        "start_time": "2022-01-31T13:23:06.728Z"
      },
      {
        "duration": 12,
        "start_time": "2022-01-31T13:23:06.831Z"
      },
      {
        "duration": 5,
        "start_time": "2022-01-31T13:23:06.844Z"
      },
      {
        "duration": 16,
        "start_time": "2022-01-31T13:23:06.850Z"
      },
      {
        "duration": 9,
        "start_time": "2022-01-31T13:23:06.867Z"
      },
      {
        "duration": 40,
        "start_time": "2022-01-31T13:23:06.878Z"
      },
      {
        "duration": 12,
        "start_time": "2022-01-31T13:23:06.920Z"
      },
      {
        "duration": 17,
        "start_time": "2022-01-31T13:23:06.934Z"
      },
      {
        "duration": 10,
        "start_time": "2022-01-31T13:23:06.953Z"
      },
      {
        "duration": 11,
        "start_time": "2022-01-31T13:23:06.965Z"
      },
      {
        "duration": 41,
        "start_time": "2022-01-31T13:23:06.978Z"
      },
      {
        "duration": 753,
        "start_time": "2022-01-31T13:23:07.020Z"
      },
      {
        "duration": 6,
        "start_time": "2022-01-31T13:23:07.777Z"
      },
      {
        "duration": 760,
        "start_time": "2022-01-31T13:23:07.786Z"
      },
      {
        "duration": 6,
        "start_time": "2022-01-31T13:23:08.548Z"
      },
      {
        "duration": 722,
        "start_time": "2022-01-31T13:23:08.556Z"
      },
      {
        "duration": 9,
        "start_time": "2022-01-31T13:23:09.279Z"
      },
      {
        "duration": 28,
        "start_time": "2022-01-31T13:23:09.289Z"
      },
      {
        "duration": 442,
        "start_time": "2022-01-31T13:23:09.319Z"
      },
      {
        "duration": 11,
        "start_time": "2022-01-31T13:23:09.764Z"
      },
      {
        "duration": 10,
        "start_time": "2022-01-31T13:23:09.777Z"
      },
      {
        "duration": 494,
        "start_time": "2022-01-31T13:23:09.789Z"
      },
      {
        "duration": 4,
        "start_time": "2022-01-31T13:23:10.284Z"
      },
      {
        "duration": 13,
        "start_time": "2022-01-31T13:23:10.289Z"
      },
      {
        "duration": 365,
        "start_time": "2022-01-31T13:23:10.303Z"
      },
      {
        "duration": 5,
        "start_time": "2022-01-31T13:23:10.670Z"
      },
      {
        "duration": 10,
        "start_time": "2022-01-31T13:23:10.677Z"
      },
      {
        "duration": 457,
        "start_time": "2022-01-31T13:23:10.689Z"
      },
      {
        "duration": 5,
        "start_time": "2022-01-31T13:23:11.148Z"
      },
      {
        "duration": 21,
        "start_time": "2022-01-31T13:23:11.154Z"
      },
      {
        "duration": 326,
        "start_time": "2022-01-31T13:23:11.176Z"
      },
      {
        "duration": 3,
        "start_time": "2022-01-31T13:23:11.504Z"
      },
      {
        "duration": 27,
        "start_time": "2022-01-31T13:23:11.508Z"
      },
      {
        "duration": 3,
        "start_time": "2022-01-31T13:23:11.537Z"
      },
      {
        "duration": 5,
        "start_time": "2022-01-31T13:23:11.542Z"
      },
      {
        "duration": 14,
        "start_time": "2022-01-31T13:23:11.548Z"
      },
      {
        "duration": 7,
        "start_time": "2022-01-31T13:23:11.563Z"
      },
      {
        "duration": 23,
        "start_time": "2022-01-31T13:23:11.571Z"
      },
      {
        "duration": 26,
        "start_time": "2022-01-31T13:23:11.596Z"
      },
      {
        "duration": 6,
        "start_time": "2022-01-31T13:23:11.624Z"
      },
      {
        "duration": 14,
        "start_time": "2022-01-31T13:23:11.632Z"
      },
      {
        "duration": 3,
        "start_time": "2022-01-31T13:23:11.648Z"
      },
      {
        "duration": 4968,
        "start_time": "2022-01-31T13:23:11.653Z"
      },
      {
        "duration": 5216,
        "start_time": "2022-01-31T13:23:16.623Z"
      },
      {
        "duration": 29778,
        "start_time": "2022-01-31T13:23:21.841Z"
      },
      {
        "duration": 31337,
        "start_time": "2022-01-31T13:23:51.621Z"
      },
      {
        "duration": 1262,
        "start_time": "2022-01-31T13:24:22.959Z"
      },
      {
        "duration": 1303,
        "start_time": "2022-01-31T13:24:24.224Z"
      },
      {
        "duration": 290,
        "start_time": "2022-01-31T13:24:25.529Z"
      },
      {
        "duration": 106,
        "start_time": "2022-01-31T13:24:25.822Z"
      },
      {
        "duration": 89,
        "start_time": "2022-01-31T13:24:25.929Z"
      },
      {
        "duration": 3,
        "start_time": "2022-01-31T13:24:26.020Z"
      },
      {
        "duration": 9,
        "start_time": "2022-01-31T13:24:26.024Z"
      },
      {
        "duration": 7,
        "start_time": "2022-01-31T13:24:26.035Z"
      },
      {
        "duration": 7,
        "start_time": "2022-01-31T13:24:26.044Z"
      },
      {
        "duration": 9,
        "start_time": "2022-01-31T13:24:26.052Z"
      },
      {
        "duration": 9,
        "start_time": "2022-01-31T13:24:26.062Z"
      },
      {
        "duration": 3,
        "start_time": "2022-01-31T13:24:26.076Z"
      },
      {
        "duration": 5,
        "start_time": "2022-01-31T13:24:26.080Z"
      },
      {
        "duration": 243,
        "start_time": "2022-01-31T13:24:26.087Z"
      },
      {
        "duration": 9,
        "start_time": "2022-01-31T13:24:26.332Z"
      },
      {
        "duration": 79,
        "start_time": "2022-01-31T13:24:26.343Z"
      },
      {
        "duration": 9,
        "start_time": "2022-01-31T13:24:26.424Z"
      },
      {
        "duration": 7,
        "start_time": "2022-01-31T13:24:26.434Z"
      },
      {
        "duration": 7,
        "start_time": "2022-01-31T13:24:26.443Z"
      },
      {
        "duration": 66,
        "start_time": "2022-01-31T13:24:26.452Z"
      },
      {
        "duration": 4,
        "start_time": "2022-01-31T13:24:26.520Z"
      }
    ],
    "kernelspec": {
      "display_name": "Python 3 (ipykernel)",
      "language": "python",
      "name": "python3"
    },
    "language_info": {
      "codemirror_mode": {
        "name": "ipython",
        "version": 3
      },
      "file_extension": ".py",
      "mimetype": "text/x-python",
      "name": "python",
      "nbconvert_exporter": "python",
      "pygments_lexer": "ipython3",
      "version": "3.9.5"
    },
    "toc": {
      "base_numbering": 1,
      "nav_menu": {},
      "number_sections": true,
      "sideBar": true,
      "skip_h1_title": true,
      "title_cell": "Содержание",
      "title_sidebar": "Contents",
      "toc_cell": true,
      "toc_position": {},
      "toc_section_display": true,
      "toc_window_display": true
    },
    "colab": {
      "provenance": [],
      "toc_visible": true,
      "collapsed_sections": [
        "-_V3rGZfqCd1",
        "Buuf68opqCd1",
        "XiBNmx6rqCd3",
        "dBqK828NqCd4",
        "s40ML71aqCd4",
        "eZ_cfDNXqCd4",
        "0_DlYdx0qCd4",
        "xafpuZL0qCd5",
        "hK7a5erBqCd6",
        "mvLO5pVpqCd6",
        "Jo1b1E_3qCd6",
        "JLVMyzGmqCd7",
        "6-QFCTdTqCd7",
        "Lho0bpx6qCd8",
        "-u-xxF4cqCd8"
      ]
    }
  },
  "nbformat": 4,
  "nbformat_minor": 0
}