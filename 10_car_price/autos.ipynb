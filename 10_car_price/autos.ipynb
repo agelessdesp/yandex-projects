{
  "cells": [
    {
      "cell_type": "code",
      "source": [
        "from google.colab import drive\n",
        "\n",
        "drive.mount('/content/drive')"
      ],
      "metadata": {
        "colab": {
          "base_uri": "https://localhost:8080/"
        },
        "id": "i0ZQIdhuUHbT",
        "outputId": "4170344d-0902-4087-a907-bf4c6d8ea4b7"
      },
      "execution_count": 1,
      "outputs": [
        {
          "output_type": "stream",
          "name": "stdout",
          "text": [
            "Mounted at /content/drive\n"
          ]
        }
      ]
    },
    {
      "cell_type": "code",
      "source": [
        "!pip install catboost"
      ],
      "metadata": {
        "colab": {
          "base_uri": "https://localhost:8080/"
        },
        "id": "G6UU-XrwlNUQ",
        "outputId": "f416c15b-4d3a-428d-eb50-12a36605d5df"
      },
      "execution_count": 2,
      "outputs": [
        {
          "output_type": "stream",
          "name": "stdout",
          "text": [
            "Looking in indexes: https://pypi.org/simple, https://us-python.pkg.dev/colab-wheels/public/simple/\n",
            "Collecting catboost\n",
            "  Downloading catboost-1.0.6-cp37-none-manylinux1_x86_64.whl (76.6 MB)\n",
            "\u001b[K     |████████████████████████████████| 76.6 MB 1.2 MB/s \n",
            "\u001b[?25hRequirement already satisfied: numpy>=1.16.0 in /usr/local/lib/python3.7/dist-packages (from catboost) (1.21.6)\n",
            "Requirement already satisfied: scipy in /usr/local/lib/python3.7/dist-packages (from catboost) (1.7.3)\n",
            "Requirement already satisfied: matplotlib in /usr/local/lib/python3.7/dist-packages (from catboost) (3.2.2)\n",
            "Requirement already satisfied: pandas>=0.24.0 in /usr/local/lib/python3.7/dist-packages (from catboost) (1.3.5)\n",
            "Requirement already satisfied: plotly in /usr/local/lib/python3.7/dist-packages (from catboost) (5.5.0)\n",
            "Requirement already satisfied: six in /usr/local/lib/python3.7/dist-packages (from catboost) (1.15.0)\n",
            "Requirement already satisfied: graphviz in /usr/local/lib/python3.7/dist-packages (from catboost) (0.10.1)\n",
            "Requirement already satisfied: pytz>=2017.3 in /usr/local/lib/python3.7/dist-packages (from pandas>=0.24.0->catboost) (2022.2.1)\n",
            "Requirement already satisfied: python-dateutil>=2.7.3 in /usr/local/lib/python3.7/dist-packages (from pandas>=0.24.0->catboost) (2.8.2)\n",
            "Requirement already satisfied: cycler>=0.10 in /usr/local/lib/python3.7/dist-packages (from matplotlib->catboost) (0.11.0)\n",
            "Requirement already satisfied: pyparsing!=2.0.4,!=2.1.2,!=2.1.6,>=2.0.1 in /usr/local/lib/python3.7/dist-packages (from matplotlib->catboost) (3.0.9)\n",
            "Requirement already satisfied: kiwisolver>=1.0.1 in /usr/local/lib/python3.7/dist-packages (from matplotlib->catboost) (1.4.4)\n",
            "Requirement already satisfied: typing-extensions in /usr/local/lib/python3.7/dist-packages (from kiwisolver>=1.0.1->matplotlib->catboost) (4.1.1)\n",
            "Requirement already satisfied: tenacity>=6.2.0 in /usr/local/lib/python3.7/dist-packages (from plotly->catboost) (8.0.1)\n",
            "Installing collected packages: catboost\n",
            "Successfully installed catboost-1.0.6\n"
          ]
        }
      ]
    },
    {
      "cell_type": "code",
      "execution_count": 3,
      "metadata": {
        "id": "y4hbY1eiT-Tq"
      },
      "outputs": [],
      "source": [
        "import numpy as np\n",
        "import pandas as pd\n",
        "import matplotlib.pyplot as plt\n",
        "import seaborn as sns\n",
        "import time\n",
        "\n",
        "from catboost import CatBoostRegressor \n",
        "from lightgbm import LGBMRegressor\n",
        "from sklearn.linear_model import LinearRegression\n",
        "from sklearn.dummy import DummyRegressor\n",
        "\n",
        "from sklearn.model_selection import GridSearchCV, RandomizedSearchCV \n",
        "\n",
        "from sklearn.model_selection import train_test_split\n",
        "from sklearn.preprocessing import OrdinalEncoder\n",
        "from sklearn.metrics import mean_squared_error, make_scorer\n",
        "\n",
        "import warnings\n",
        "warnings.filterwarnings(\"ignore\")"
      ]
    },
    {
      "cell_type": "code",
      "source": [
        "# напишем общую функцию для распаковки данных\n",
        "\n",
        "def open_data(data):\n",
        "  display(data.head(5))\n",
        "  print('-------------------------------')\n",
        "  print('Общая информация')\n",
        "  data.info()\n",
        "  print('-------------------------------')\n",
        "  print('Описание данных')\n",
        "  display(data.describe())\n",
        "  print('-------------------------------')\n",
        "  print('Количество дубликатов')\n",
        "  print(data.duplicated().sum())\n",
        "  print('-------------------------------')\n",
        "  print('Количество пропусков')\n",
        "  print(data.isna().sum())"
      ],
      "metadata": {
        "id": "-0LOvOMMmjCj"
      },
      "execution_count": 4,
      "outputs": []
    },
    {
      "cell_type": "markdown",
      "metadata": {
        "id": "MikVAcxhT-Tp"
      },
      "source": [
        "## Знакомство с данными"
      ]
    },
    {
      "cell_type": "code",
      "execution_count": 5,
      "metadata": {
        "id": "PRtHWq58T-Tr"
      },
      "outputs": [],
      "source": [
        "data = pd.read_csv('/content/drive/My Drive/Collab file/autos.csv')"
      ]
    },
    {
      "cell_type": "code",
      "execution_count": 6,
      "metadata": {
        "colab": {
          "base_uri": "https://localhost:8080/",
          "height": 1000
        },
        "id": "lNsOuPYnT-Ts",
        "outputId": "4e297011-58be-4e5d-ef42-e42134c1e407"
      },
      "outputs": [
        {
          "output_type": "display_data",
          "data": {
            "text/plain": [
              "           DateCrawled  Price VehicleType  RegistrationYear Gearbox  Power  \\\n",
              "0  2016-03-24 11:52:17    480         NaN              1993  manual      0   \n",
              "1  2016-03-24 10:58:45  18300       coupe              2011  manual    190   \n",
              "2  2016-03-14 12:52:21   9800         suv              2004    auto    163   \n",
              "3  2016-03-17 16:54:04   1500       small              2001  manual     75   \n",
              "4  2016-03-31 17:25:20   3600       small              2008  manual     69   \n",
              "\n",
              "   Model  Kilometer  RegistrationMonth  FuelType       Brand NotRepaired  \\\n",
              "0   golf     150000                  0    petrol  volkswagen         NaN   \n",
              "1    NaN     125000                  5  gasoline        audi         yes   \n",
              "2  grand     125000                  8  gasoline        jeep         NaN   \n",
              "3   golf     150000                  6    petrol  volkswagen          no   \n",
              "4  fabia      90000                  7  gasoline       skoda          no   \n",
              "\n",
              "           DateCreated  NumberOfPictures  PostalCode             LastSeen  \n",
              "0  2016-03-24 00:00:00                 0       70435  2016-04-07 03:16:57  \n",
              "1  2016-03-24 00:00:00                 0       66954  2016-04-07 01:46:50  \n",
              "2  2016-03-14 00:00:00                 0       90480  2016-04-05 12:47:46  \n",
              "3  2016-03-17 00:00:00                 0       91074  2016-03-17 17:40:17  \n",
              "4  2016-03-31 00:00:00                 0       60437  2016-04-06 10:17:21  "
            ],
            "text/html": [
              "\n",
              "  <div id=\"df-cb721a7e-d9a8-45bc-8971-bc45c032d710\">\n",
              "    <div class=\"colab-df-container\">\n",
              "      <div>\n",
              "<style scoped>\n",
              "    .dataframe tbody tr th:only-of-type {\n",
              "        vertical-align: middle;\n",
              "    }\n",
              "\n",
              "    .dataframe tbody tr th {\n",
              "        vertical-align: top;\n",
              "    }\n",
              "\n",
              "    .dataframe thead th {\n",
              "        text-align: right;\n",
              "    }\n",
              "</style>\n",
              "<table border=\"1\" class=\"dataframe\">\n",
              "  <thead>\n",
              "    <tr style=\"text-align: right;\">\n",
              "      <th></th>\n",
              "      <th>DateCrawled</th>\n",
              "      <th>Price</th>\n",
              "      <th>VehicleType</th>\n",
              "      <th>RegistrationYear</th>\n",
              "      <th>Gearbox</th>\n",
              "      <th>Power</th>\n",
              "      <th>Model</th>\n",
              "      <th>Kilometer</th>\n",
              "      <th>RegistrationMonth</th>\n",
              "      <th>FuelType</th>\n",
              "      <th>Brand</th>\n",
              "      <th>NotRepaired</th>\n",
              "      <th>DateCreated</th>\n",
              "      <th>NumberOfPictures</th>\n",
              "      <th>PostalCode</th>\n",
              "      <th>LastSeen</th>\n",
              "    </tr>\n",
              "  </thead>\n",
              "  <tbody>\n",
              "    <tr>\n",
              "      <th>0</th>\n",
              "      <td>2016-03-24 11:52:17</td>\n",
              "      <td>480</td>\n",
              "      <td>NaN</td>\n",
              "      <td>1993</td>\n",
              "      <td>manual</td>\n",
              "      <td>0</td>\n",
              "      <td>golf</td>\n",
              "      <td>150000</td>\n",
              "      <td>0</td>\n",
              "      <td>petrol</td>\n",
              "      <td>volkswagen</td>\n",
              "      <td>NaN</td>\n",
              "      <td>2016-03-24 00:00:00</td>\n",
              "      <td>0</td>\n",
              "      <td>70435</td>\n",
              "      <td>2016-04-07 03:16:57</td>\n",
              "    </tr>\n",
              "    <tr>\n",
              "      <th>1</th>\n",
              "      <td>2016-03-24 10:58:45</td>\n",
              "      <td>18300</td>\n",
              "      <td>coupe</td>\n",
              "      <td>2011</td>\n",
              "      <td>manual</td>\n",
              "      <td>190</td>\n",
              "      <td>NaN</td>\n",
              "      <td>125000</td>\n",
              "      <td>5</td>\n",
              "      <td>gasoline</td>\n",
              "      <td>audi</td>\n",
              "      <td>yes</td>\n",
              "      <td>2016-03-24 00:00:00</td>\n",
              "      <td>0</td>\n",
              "      <td>66954</td>\n",
              "      <td>2016-04-07 01:46:50</td>\n",
              "    </tr>\n",
              "    <tr>\n",
              "      <th>2</th>\n",
              "      <td>2016-03-14 12:52:21</td>\n",
              "      <td>9800</td>\n",
              "      <td>suv</td>\n",
              "      <td>2004</td>\n",
              "      <td>auto</td>\n",
              "      <td>163</td>\n",
              "      <td>grand</td>\n",
              "      <td>125000</td>\n",
              "      <td>8</td>\n",
              "      <td>gasoline</td>\n",
              "      <td>jeep</td>\n",
              "      <td>NaN</td>\n",
              "      <td>2016-03-14 00:00:00</td>\n",
              "      <td>0</td>\n",
              "      <td>90480</td>\n",
              "      <td>2016-04-05 12:47:46</td>\n",
              "    </tr>\n",
              "    <tr>\n",
              "      <th>3</th>\n",
              "      <td>2016-03-17 16:54:04</td>\n",
              "      <td>1500</td>\n",
              "      <td>small</td>\n",
              "      <td>2001</td>\n",
              "      <td>manual</td>\n",
              "      <td>75</td>\n",
              "      <td>golf</td>\n",
              "      <td>150000</td>\n",
              "      <td>6</td>\n",
              "      <td>petrol</td>\n",
              "      <td>volkswagen</td>\n",
              "      <td>no</td>\n",
              "      <td>2016-03-17 00:00:00</td>\n",
              "      <td>0</td>\n",
              "      <td>91074</td>\n",
              "      <td>2016-03-17 17:40:17</td>\n",
              "    </tr>\n",
              "    <tr>\n",
              "      <th>4</th>\n",
              "      <td>2016-03-31 17:25:20</td>\n",
              "      <td>3600</td>\n",
              "      <td>small</td>\n",
              "      <td>2008</td>\n",
              "      <td>manual</td>\n",
              "      <td>69</td>\n",
              "      <td>fabia</td>\n",
              "      <td>90000</td>\n",
              "      <td>7</td>\n",
              "      <td>gasoline</td>\n",
              "      <td>skoda</td>\n",
              "      <td>no</td>\n",
              "      <td>2016-03-31 00:00:00</td>\n",
              "      <td>0</td>\n",
              "      <td>60437</td>\n",
              "      <td>2016-04-06 10:17:21</td>\n",
              "    </tr>\n",
              "  </tbody>\n",
              "</table>\n",
              "</div>\n",
              "      <button class=\"colab-df-convert\" onclick=\"convertToInteractive('df-cb721a7e-d9a8-45bc-8971-bc45c032d710')\"\n",
              "              title=\"Convert this dataframe to an interactive table.\"\n",
              "              style=\"display:none;\">\n",
              "        \n",
              "  <svg xmlns=\"http://www.w3.org/2000/svg\" height=\"24px\"viewBox=\"0 0 24 24\"\n",
              "       width=\"24px\">\n",
              "    <path d=\"M0 0h24v24H0V0z\" fill=\"none\"/>\n",
              "    <path d=\"M18.56 5.44l.94 2.06.94-2.06 2.06-.94-2.06-.94-.94-2.06-.94 2.06-2.06.94zm-11 1L8.5 8.5l.94-2.06 2.06-.94-2.06-.94L8.5 2.5l-.94 2.06-2.06.94zm10 10l.94 2.06.94-2.06 2.06-.94-2.06-.94-.94-2.06-.94 2.06-2.06.94z\"/><path d=\"M17.41 7.96l-1.37-1.37c-.4-.4-.92-.59-1.43-.59-.52 0-1.04.2-1.43.59L10.3 9.45l-7.72 7.72c-.78.78-.78 2.05 0 2.83L4 21.41c.39.39.9.59 1.41.59.51 0 1.02-.2 1.41-.59l7.78-7.78 2.81-2.81c.8-.78.8-2.07 0-2.86zM5.41 20L4 18.59l7.72-7.72 1.47 1.35L5.41 20z\"/>\n",
              "  </svg>\n",
              "      </button>\n",
              "      \n",
              "  <style>\n",
              "    .colab-df-container {\n",
              "      display:flex;\n",
              "      flex-wrap:wrap;\n",
              "      gap: 12px;\n",
              "    }\n",
              "\n",
              "    .colab-df-convert {\n",
              "      background-color: #E8F0FE;\n",
              "      border: none;\n",
              "      border-radius: 50%;\n",
              "      cursor: pointer;\n",
              "      display: none;\n",
              "      fill: #1967D2;\n",
              "      height: 32px;\n",
              "      padding: 0 0 0 0;\n",
              "      width: 32px;\n",
              "    }\n",
              "\n",
              "    .colab-df-convert:hover {\n",
              "      background-color: #E2EBFA;\n",
              "      box-shadow: 0px 1px 2px rgba(60, 64, 67, 0.3), 0px 1px 3px 1px rgba(60, 64, 67, 0.15);\n",
              "      fill: #174EA6;\n",
              "    }\n",
              "\n",
              "    [theme=dark] .colab-df-convert {\n",
              "      background-color: #3B4455;\n",
              "      fill: #D2E3FC;\n",
              "    }\n",
              "\n",
              "    [theme=dark] .colab-df-convert:hover {\n",
              "      background-color: #434B5C;\n",
              "      box-shadow: 0px 1px 3px 1px rgba(0, 0, 0, 0.15);\n",
              "      filter: drop-shadow(0px 1px 2px rgba(0, 0, 0, 0.3));\n",
              "      fill: #FFFFFF;\n",
              "    }\n",
              "  </style>\n",
              "\n",
              "      <script>\n",
              "        const buttonEl =\n",
              "          document.querySelector('#df-cb721a7e-d9a8-45bc-8971-bc45c032d710 button.colab-df-convert');\n",
              "        buttonEl.style.display =\n",
              "          google.colab.kernel.accessAllowed ? 'block' : 'none';\n",
              "\n",
              "        async function convertToInteractive(key) {\n",
              "          const element = document.querySelector('#df-cb721a7e-d9a8-45bc-8971-bc45c032d710');\n",
              "          const dataTable =\n",
              "            await google.colab.kernel.invokeFunction('convertToInteractive',\n",
              "                                                     [key], {});\n",
              "          if (!dataTable) return;\n",
              "\n",
              "          const docLinkHtml = 'Like what you see? Visit the ' +\n",
              "            '<a target=\"_blank\" href=https://colab.research.google.com/notebooks/data_table.ipynb>data table notebook</a>'\n",
              "            + ' to learn more about interactive tables.';\n",
              "          element.innerHTML = '';\n",
              "          dataTable['output_type'] = 'display_data';\n",
              "          await google.colab.output.renderOutput(dataTable, element);\n",
              "          const docLink = document.createElement('div');\n",
              "          docLink.innerHTML = docLinkHtml;\n",
              "          element.appendChild(docLink);\n",
              "        }\n",
              "      </script>\n",
              "    </div>\n",
              "  </div>\n",
              "  "
            ]
          },
          "metadata": {}
        },
        {
          "output_type": "stream",
          "name": "stdout",
          "text": [
            "-------------------------------\n",
            "Общая информация\n",
            "<class 'pandas.core.frame.DataFrame'>\n",
            "RangeIndex: 354369 entries, 0 to 354368\n",
            "Data columns (total 16 columns):\n",
            " #   Column             Non-Null Count   Dtype \n",
            "---  ------             --------------   ----- \n",
            " 0   DateCrawled        354369 non-null  object\n",
            " 1   Price              354369 non-null  int64 \n",
            " 2   VehicleType        316879 non-null  object\n",
            " 3   RegistrationYear   354369 non-null  int64 \n",
            " 4   Gearbox            334536 non-null  object\n",
            " 5   Power              354369 non-null  int64 \n",
            " 6   Model              334664 non-null  object\n",
            " 7   Kilometer          354369 non-null  int64 \n",
            " 8   RegistrationMonth  354369 non-null  int64 \n",
            " 9   FuelType           321474 non-null  object\n",
            " 10  Brand              354369 non-null  object\n",
            " 11  NotRepaired        283215 non-null  object\n",
            " 12  DateCreated        354369 non-null  object\n",
            " 13  NumberOfPictures   354369 non-null  int64 \n",
            " 14  PostalCode         354369 non-null  int64 \n",
            " 15  LastSeen           354369 non-null  object\n",
            "dtypes: int64(7), object(9)\n",
            "memory usage: 43.3+ MB\n",
            "-------------------------------\n",
            "Описание данных\n"
          ]
        },
        {
          "output_type": "display_data",
          "data": {
            "text/plain": [
              "               Price  RegistrationYear          Power      Kilometer  \\\n",
              "count  354369.000000     354369.000000  354369.000000  354369.000000   \n",
              "mean     4416.656776       2004.234448     110.094337  128211.172535   \n",
              "std      4514.158514         90.227958     189.850405   37905.341530   \n",
              "min         0.000000       1000.000000       0.000000    5000.000000   \n",
              "25%      1050.000000       1999.000000      69.000000  125000.000000   \n",
              "50%      2700.000000       2003.000000     105.000000  150000.000000   \n",
              "75%      6400.000000       2008.000000     143.000000  150000.000000   \n",
              "max     20000.000000       9999.000000   20000.000000  150000.000000   \n",
              "\n",
              "       RegistrationMonth  NumberOfPictures     PostalCode  \n",
              "count      354369.000000          354369.0  354369.000000  \n",
              "mean            5.714645               0.0   50508.689087  \n",
              "std             3.726421               0.0   25783.096248  \n",
              "min             0.000000               0.0    1067.000000  \n",
              "25%             3.000000               0.0   30165.000000  \n",
              "50%             6.000000               0.0   49413.000000  \n",
              "75%             9.000000               0.0   71083.000000  \n",
              "max            12.000000               0.0   99998.000000  "
            ],
            "text/html": [
              "\n",
              "  <div id=\"df-1174a18d-3217-4f3c-82cc-2b16f1b7b7f7\">\n",
              "    <div class=\"colab-df-container\">\n",
              "      <div>\n",
              "<style scoped>\n",
              "    .dataframe tbody tr th:only-of-type {\n",
              "        vertical-align: middle;\n",
              "    }\n",
              "\n",
              "    .dataframe tbody tr th {\n",
              "        vertical-align: top;\n",
              "    }\n",
              "\n",
              "    .dataframe thead th {\n",
              "        text-align: right;\n",
              "    }\n",
              "</style>\n",
              "<table border=\"1\" class=\"dataframe\">\n",
              "  <thead>\n",
              "    <tr style=\"text-align: right;\">\n",
              "      <th></th>\n",
              "      <th>Price</th>\n",
              "      <th>RegistrationYear</th>\n",
              "      <th>Power</th>\n",
              "      <th>Kilometer</th>\n",
              "      <th>RegistrationMonth</th>\n",
              "      <th>NumberOfPictures</th>\n",
              "      <th>PostalCode</th>\n",
              "    </tr>\n",
              "  </thead>\n",
              "  <tbody>\n",
              "    <tr>\n",
              "      <th>count</th>\n",
              "      <td>354369.000000</td>\n",
              "      <td>354369.000000</td>\n",
              "      <td>354369.000000</td>\n",
              "      <td>354369.000000</td>\n",
              "      <td>354369.000000</td>\n",
              "      <td>354369.0</td>\n",
              "      <td>354369.000000</td>\n",
              "    </tr>\n",
              "    <tr>\n",
              "      <th>mean</th>\n",
              "      <td>4416.656776</td>\n",
              "      <td>2004.234448</td>\n",
              "      <td>110.094337</td>\n",
              "      <td>128211.172535</td>\n",
              "      <td>5.714645</td>\n",
              "      <td>0.0</td>\n",
              "      <td>50508.689087</td>\n",
              "    </tr>\n",
              "    <tr>\n",
              "      <th>std</th>\n",
              "      <td>4514.158514</td>\n",
              "      <td>90.227958</td>\n",
              "      <td>189.850405</td>\n",
              "      <td>37905.341530</td>\n",
              "      <td>3.726421</td>\n",
              "      <td>0.0</td>\n",
              "      <td>25783.096248</td>\n",
              "    </tr>\n",
              "    <tr>\n",
              "      <th>min</th>\n",
              "      <td>0.000000</td>\n",
              "      <td>1000.000000</td>\n",
              "      <td>0.000000</td>\n",
              "      <td>5000.000000</td>\n",
              "      <td>0.000000</td>\n",
              "      <td>0.0</td>\n",
              "      <td>1067.000000</td>\n",
              "    </tr>\n",
              "    <tr>\n",
              "      <th>25%</th>\n",
              "      <td>1050.000000</td>\n",
              "      <td>1999.000000</td>\n",
              "      <td>69.000000</td>\n",
              "      <td>125000.000000</td>\n",
              "      <td>3.000000</td>\n",
              "      <td>0.0</td>\n",
              "      <td>30165.000000</td>\n",
              "    </tr>\n",
              "    <tr>\n",
              "      <th>50%</th>\n",
              "      <td>2700.000000</td>\n",
              "      <td>2003.000000</td>\n",
              "      <td>105.000000</td>\n",
              "      <td>150000.000000</td>\n",
              "      <td>6.000000</td>\n",
              "      <td>0.0</td>\n",
              "      <td>49413.000000</td>\n",
              "    </tr>\n",
              "    <tr>\n",
              "      <th>75%</th>\n",
              "      <td>6400.000000</td>\n",
              "      <td>2008.000000</td>\n",
              "      <td>143.000000</td>\n",
              "      <td>150000.000000</td>\n",
              "      <td>9.000000</td>\n",
              "      <td>0.0</td>\n",
              "      <td>71083.000000</td>\n",
              "    </tr>\n",
              "    <tr>\n",
              "      <th>max</th>\n",
              "      <td>20000.000000</td>\n",
              "      <td>9999.000000</td>\n",
              "      <td>20000.000000</td>\n",
              "      <td>150000.000000</td>\n",
              "      <td>12.000000</td>\n",
              "      <td>0.0</td>\n",
              "      <td>99998.000000</td>\n",
              "    </tr>\n",
              "  </tbody>\n",
              "</table>\n",
              "</div>\n",
              "      <button class=\"colab-df-convert\" onclick=\"convertToInteractive('df-1174a18d-3217-4f3c-82cc-2b16f1b7b7f7')\"\n",
              "              title=\"Convert this dataframe to an interactive table.\"\n",
              "              style=\"display:none;\">\n",
              "        \n",
              "  <svg xmlns=\"http://www.w3.org/2000/svg\" height=\"24px\"viewBox=\"0 0 24 24\"\n",
              "       width=\"24px\">\n",
              "    <path d=\"M0 0h24v24H0V0z\" fill=\"none\"/>\n",
              "    <path d=\"M18.56 5.44l.94 2.06.94-2.06 2.06-.94-2.06-.94-.94-2.06-.94 2.06-2.06.94zm-11 1L8.5 8.5l.94-2.06 2.06-.94-2.06-.94L8.5 2.5l-.94 2.06-2.06.94zm10 10l.94 2.06.94-2.06 2.06-.94-2.06-.94-.94-2.06-.94 2.06-2.06.94z\"/><path d=\"M17.41 7.96l-1.37-1.37c-.4-.4-.92-.59-1.43-.59-.52 0-1.04.2-1.43.59L10.3 9.45l-7.72 7.72c-.78.78-.78 2.05 0 2.83L4 21.41c.39.39.9.59 1.41.59.51 0 1.02-.2 1.41-.59l7.78-7.78 2.81-2.81c.8-.78.8-2.07 0-2.86zM5.41 20L4 18.59l7.72-7.72 1.47 1.35L5.41 20z\"/>\n",
              "  </svg>\n",
              "      </button>\n",
              "      \n",
              "  <style>\n",
              "    .colab-df-container {\n",
              "      display:flex;\n",
              "      flex-wrap:wrap;\n",
              "      gap: 12px;\n",
              "    }\n",
              "\n",
              "    .colab-df-convert {\n",
              "      background-color: #E8F0FE;\n",
              "      border: none;\n",
              "      border-radius: 50%;\n",
              "      cursor: pointer;\n",
              "      display: none;\n",
              "      fill: #1967D2;\n",
              "      height: 32px;\n",
              "      padding: 0 0 0 0;\n",
              "      width: 32px;\n",
              "    }\n",
              "\n",
              "    .colab-df-convert:hover {\n",
              "      background-color: #E2EBFA;\n",
              "      box-shadow: 0px 1px 2px rgba(60, 64, 67, 0.3), 0px 1px 3px 1px rgba(60, 64, 67, 0.15);\n",
              "      fill: #174EA6;\n",
              "    }\n",
              "\n",
              "    [theme=dark] .colab-df-convert {\n",
              "      background-color: #3B4455;\n",
              "      fill: #D2E3FC;\n",
              "    }\n",
              "\n",
              "    [theme=dark] .colab-df-convert:hover {\n",
              "      background-color: #434B5C;\n",
              "      box-shadow: 0px 1px 3px 1px rgba(0, 0, 0, 0.15);\n",
              "      filter: drop-shadow(0px 1px 2px rgba(0, 0, 0, 0.3));\n",
              "      fill: #FFFFFF;\n",
              "    }\n",
              "  </style>\n",
              "\n",
              "      <script>\n",
              "        const buttonEl =\n",
              "          document.querySelector('#df-1174a18d-3217-4f3c-82cc-2b16f1b7b7f7 button.colab-df-convert');\n",
              "        buttonEl.style.display =\n",
              "          google.colab.kernel.accessAllowed ? 'block' : 'none';\n",
              "\n",
              "        async function convertToInteractive(key) {\n",
              "          const element = document.querySelector('#df-1174a18d-3217-4f3c-82cc-2b16f1b7b7f7');\n",
              "          const dataTable =\n",
              "            await google.colab.kernel.invokeFunction('convertToInteractive',\n",
              "                                                     [key], {});\n",
              "          if (!dataTable) return;\n",
              "\n",
              "          const docLinkHtml = 'Like what you see? Visit the ' +\n",
              "            '<a target=\"_blank\" href=https://colab.research.google.com/notebooks/data_table.ipynb>data table notebook</a>'\n",
              "            + ' to learn more about interactive tables.';\n",
              "          element.innerHTML = '';\n",
              "          dataTable['output_type'] = 'display_data';\n",
              "          await google.colab.output.renderOutput(dataTable, element);\n",
              "          const docLink = document.createElement('div');\n",
              "          docLink.innerHTML = docLinkHtml;\n",
              "          element.appendChild(docLink);\n",
              "        }\n",
              "      </script>\n",
              "    </div>\n",
              "  </div>\n",
              "  "
            ]
          },
          "metadata": {}
        },
        {
          "output_type": "stream",
          "name": "stdout",
          "text": [
            "-------------------------------\n",
            "Количество дубликатов\n",
            "4\n",
            "-------------------------------\n",
            "Количество пропусков\n",
            "DateCrawled              0\n",
            "Price                    0\n",
            "VehicleType          37490\n",
            "RegistrationYear         0\n",
            "Gearbox              19833\n",
            "Power                    0\n",
            "Model                19705\n",
            "Kilometer                0\n",
            "RegistrationMonth        0\n",
            "FuelType             32895\n",
            "Brand                    0\n",
            "NotRepaired          71154\n",
            "DateCreated              0\n",
            "NumberOfPictures         0\n",
            "PostalCode               0\n",
            "LastSeen                 0\n",
            "dtype: int64\n"
          ]
        }
      ],
      "source": [
        "open_data(data)"
      ]
    },
    {
      "cell_type": "markdown",
      "metadata": {
        "id": "yBf5l1rBT-Tt"
      },
      "source": [
        "### Предобработка данных"
      ]
    },
    {
      "cell_type": "code",
      "execution_count": 7,
      "metadata": {
        "id": "tFs8P1FxT-Tu"
      },
      "outputs": [],
      "source": [
        "# приведем названия столбцов в порядок, для начала уберем заглавные буквы\n",
        "\n",
        "data.columns = data.columns.str.lower()"
      ]
    },
    {
      "cell_type": "markdown",
      "metadata": {
        "id": "SaSjVegzT-Tu"
      },
      "source": [
        "На мой взгляд в данных присутствуют лишние признаки, которые не повлияют на конечный результат, чтобы облегчить работу алгоритма, удалим их. Данные признаки не несут существенной информации, которая могла бы помочь в определении цены. \n",
        "\n",
        "- ***datecrawled*** - на мой взгляд, на стоимость это никак не влияет, так как это просто цифра, которая показывает, когда анкету закачали в базу.\n",
        "- **registrationmonth** - у нас есть в данных год регистрации автомобиля, не думаю, что есть сильная зависимость между стоимостью и месяцем регистрации.\n",
        "- **datecreated** - не имеет значения, когда анкета была создана, ведь важно ее наполнение.\n",
        "- **numberofpictures** - все значения в этом столбце нулевые (предварительно проверено).\n",
        "- **postalcode** - нам не важно, какой почтовый индекс имеет владелец авто, так как важны параметры самого автомобиля.\n",
        "- **lastseen** - точно так же, как и с почтовым индексом."
      ]
    },
    {
      "cell_type": "code",
      "execution_count": 8,
      "metadata": {
        "id": "pkmLPNmfT-Tu"
      },
      "outputs": [],
      "source": [
        "data = data.drop(['datecrawled', 'registrationmonth', 'datecreated', 'numberofpictures', 'postalcode', 'lastseen'], axis=1)"
      ]
    },
    {
      "cell_type": "code",
      "execution_count": 9,
      "metadata": {
        "id": "7XJAnmb2T-Tv"
      },
      "outputs": [],
      "source": [
        "#теперь преобразуем ряд названий в соответствии с правилами змеиного регистра\n",
        "\n",
        "data.rename(columns={'vehicletype': 'vehicle_type', 'registrationyear': 'registration_year', 'fueltype': 'fuel_type', 'notrepaired': 'not_repaired'}, inplace=True)"
      ]
    },
    {
      "cell_type": "code",
      "execution_count": 10,
      "metadata": {
        "colab": {
          "base_uri": "https://localhost:8080/"
        },
        "id": "7xDm6XqFT-Tv",
        "outputId": "7cbed452-8c59-4f65-cbb2-9329a455ce1d"
      },
      "outputs": [
        {
          "output_type": "stream",
          "name": "stdout",
          "text": [
            "<class 'pandas.core.frame.DataFrame'>\n",
            "RangeIndex: 354369 entries, 0 to 354368\n",
            "Data columns (total 10 columns):\n",
            " #   Column             Non-Null Count   Dtype \n",
            "---  ------             --------------   ----- \n",
            " 0   price              354369 non-null  int64 \n",
            " 1   vehicle_type       316879 non-null  object\n",
            " 2   registration_year  354369 non-null  int64 \n",
            " 3   gearbox            334536 non-null  object\n",
            " 4   power              354369 non-null  int64 \n",
            " 5   model              334664 non-null  object\n",
            " 6   kilometer          354369 non-null  int64 \n",
            " 7   fuel_type          321474 non-null  object\n",
            " 8   brand              354369 non-null  object\n",
            " 9   not_repaired       283215 non-null  object\n",
            "dtypes: int64(4), object(6)\n",
            "memory usage: 27.0+ MB\n"
          ]
        }
      ],
      "source": [
        "data.info()"
      ]
    },
    {
      "cell_type": "markdown",
      "metadata": {
        "id": "WdXxpajxT-Tw"
      },
      "source": [
        "План по предобработке:\n",
        "\n",
        "- **price** проверим данные в столбце.\n",
        "- **vehicle_type** можно заменить пропуски на наиболее частые значения по моделям.\n",
        "- **registration_year** оставим реальные значения, хоть тут и нет пропусков. Проанализируем данные.\n",
        "- **gearbox** вместо пропусков укажем **manual**, наверняка это значение воспринимается по умолчанию. Также по данным в интернете удалось узнать, что в России преобладают машины с МКПП.\n",
        "- **power** рассмотрим какие значения есть и оставим только приблеженные к реальности.\n",
        "- **model** скорее всего придется удалить пропуски.\n",
        "- **kilometer** рассмотрим какие значения есть и оставим только приблеженные к реальности, пропусков в данном столбце нет.\n",
        "- **fuel_type** заменим пропуски на **petrol** - самое частое значение.\n",
        "- **not_repaired** пропущенные значения поменяем на yes, так как скорее всего данное поле не заполнялось по причине того, что машина не чинилась.\n",
        "- удалить дубликаты."
      ]
    },
    {
      "cell_type": "code",
      "execution_count": 11,
      "metadata": {
        "scrolled": false,
        "colab": {
          "base_uri": "https://localhost:8080/",
          "height": 423
        },
        "id": "cl79iUssT-Tx",
        "outputId": "519f9a78-a665-4248-832d-5ea6b460b694"
      },
      "outputs": [
        {
          "output_type": "execute_result",
          "data": {
            "text/plain": [
              "Text(0, 0.5, 'Количество объявлений')"
            ]
          },
          "metadata": {},
          "execution_count": 11
        },
        {
          "output_type": "display_data",
          "data": {
            "text/plain": [
              "<Figure size 720x432 with 1 Axes>"
            ],
            "image/png": "[encoded data removed]"
          },
          "metadata": {
            "needs_background": "light"
          }
        }
      ],
      "source": [
        "# посмотрим на распределение данных по ценам, в предварительном анализе мы увидели,\n",
        "# что столбец содержит нулевые значения\n",
        "\n",
        "data_new = data.query('price > 1')\n",
        "\n",
        "data_new['price'].plot(kind='hist', bins=150, x='price', grid=True, figsize=(10, 6))\n",
        "plt.title('Распределение данных по стоимости авто')\n",
        "plt.xlabel('Цена')\n",
        "plt.ylabel('Количество объявлений')"
      ]
    },
    {
      "cell_type": "code",
      "execution_count": 12,
      "metadata": {
        "colab": {
          "base_uri": "https://localhost:8080/"
        },
        "id": "KvFAAtNLT-Tx",
        "outputId": "6290ede9-ee25-48ba-8d6c-9ebcb0c8d687"
      },
      "outputs": [
        {
          "output_type": "execute_result",
          "data": {
            "text/plain": [
              "count    342408.000000\n",
              "mean       4570.936006\n",
              "std        4514.894622\n",
              "min           2.000000\n",
              "25%        1200.000000\n",
              "50%        2900.000000\n",
              "75%        6500.000000\n",
              "max       20000.000000\n",
              "Name: price, dtype: float64"
            ]
          },
          "metadata": {},
          "execution_count": 12
        }
      ],
      "source": [
        "data_new['price'].describe()"
      ]
    },
    {
      "cell_type": "markdown",
      "source": [
        "**Комментарий:**\n",
        "<br>После того, как мы избавились от нулевых значений, мы получили данные на 12 тыс. меньше. Также все еще остаются аномально низкие значения, например - 2. В целом мы наблюдаем достаточно большой пик в районе до 2 тыс. На мой взгляд, стоимость поддержанного автомобиля в текущих реалиях как минимум должна начинаться от 700 евро (это примерно 55 тыс.руб.). Поэтому я бы отсекла все, что ниже этой стоимости, так как здесь явно присутствуют ошибки/опечатки."
      ],
      "metadata": {
        "id": "sw5dJNOapaxW"
      }
    },
    {
      "cell_type": "code",
      "execution_count": 13,
      "metadata": {
        "id": "79Sm9UHvT-Tx"
      },
      "outputs": [],
      "source": [
        "data_new = data_new.query('price >= 700')"
      ]
    },
    {
      "cell_type": "code",
      "source": [
        "data_new['price'].plot(kind='hist', bins=150, x='price', grid=True, figsize=(10, 6))\n",
        "plt.title('Распределение данных по стоимости авто')\n",
        "plt.xlabel('Цена')\n",
        "plt.ylabel('Количество объявлений')"
      ],
      "metadata": {
        "colab": {
          "base_uri": "https://localhost:8080/",
          "height": 423
        },
        "id": "Y0r-GWcZr05_",
        "outputId": "a1f8e70e-6e47-4f3e-a4af-449a08ca961b"
      },
      "execution_count": 14,
      "outputs": [
        {
          "output_type": "execute_result",
          "data": {
            "text/plain": [
              "Text(0, 0.5, 'Количество объявлений')"
            ]
          },
          "metadata": {},
          "execution_count": 14
        },
        {
          "output_type": "display_data",
          "data": {
            "text/plain": [
              "<Figure size 720x432 with 1 Axes>"
            ],
            "image/png": "[encoded data removed]"
          },
          "metadata": {
            "needs_background": "light"
          }
        }
      ]
    },
    {
      "cell_type": "markdown",
      "source": [
        "**Комментарий:**\n",
        "<br>По-прежнему наблюдается большое количество дешевых объявлений."
      ],
      "metadata": {
        "id": "tTAjrjc3r7M9"
      }
    },
    {
      "cell_type": "code",
      "execution_count": 15,
      "metadata": {
        "id": "lnzZ5_TqT-Tx"
      },
      "outputs": [],
      "source": [
        "data_new = data_new.loc[~data_new['model'].isna()]"
      ]
    },
    {
      "cell_type": "code",
      "execution_count": 16,
      "metadata": {
        "colab": {
          "base_uri": "https://localhost:8080/"
        },
        "id": "6aJjsME8T-Tx",
        "outputId": "8f18c2dc-1ef0-48bd-e672-e796d37a7b98"
      },
      "outputs": [
        {
          "output_type": "execute_result",
          "data": {
            "text/plain": [
              "0"
            ]
          },
          "metadata": {},
          "execution_count": 16
        }
      ],
      "source": [
        "data_new['model'].isna().sum()"
      ]
    },
    {
      "cell_type": "code",
      "execution_count": 17,
      "metadata": {
        "colab": {
          "base_uri": "https://localhost:8080/"
        },
        "id": "QK1HaGALT-Ty",
        "outputId": "5d70187c-37c1-46a9-a019-118570af265b"
      },
      "outputs": [
        {
          "output_type": "execute_result",
          "data": {
            "text/plain": [
              "sedan          78456\n",
              "small          59209\n",
              "wagon          56171\n",
              "bus            26370\n",
              "convertible    18470\n",
              "coupe          13479\n",
              "suv            10929\n",
              "other           2252\n",
              "Name: vehicle_type, dtype: int64"
            ]
          },
          "metadata": {},
          "execution_count": 17
        }
      ],
      "source": [
        "data_new['vehicle_type'].value_counts()"
      ]
    },
    {
      "cell_type": "markdown",
      "metadata": {
        "id": "vOrBaEFET-Ty"
      },
      "source": [
        "Заменим пропуски на на наиболее частое значение, используя данные по моделям."
      ]
    },
    {
      "cell_type": "code",
      "execution_count": 18,
      "metadata": {
        "id": "MtlCdFjET-Ty"
      },
      "outputs": [],
      "source": [
        "data_new['vehicle_type'] = data_new['vehicle_type'].fillna(data_new.groupby('model')['vehicle_type'].transform(lambda x: x.value_counts().idxmax()))"
      ]
    },
    {
      "cell_type": "code",
      "execution_count": 19,
      "metadata": {
        "colab": {
          "base_uri": "https://localhost:8080/"
        },
        "id": "ArUiIjk1T-Ty",
        "outputId": "e58aeed8-6b6d-4e9a-8fec-ddb125ca9117"
      },
      "outputs": [
        {
          "output_type": "execute_result",
          "data": {
            "text/plain": [
              "0"
            ]
          },
          "metadata": {},
          "execution_count": 19
        }
      ],
      "source": [
        "data_new['vehicle_type'].isna().sum()"
      ]
    },
    {
      "cell_type": "code",
      "execution_count": 20,
      "metadata": {
        "scrolled": true,
        "colab": {
          "base_uri": "https://localhost:8080/"
        },
        "id": "o6FnKlwXT-Tz",
        "outputId": "149c87f6-765c-4fc4-f674-e899ca3742be"
      },
      "outputs": [
        {
          "output_type": "execute_result",
          "data": {
            "text/plain": [
              "array([2004, 2001, 2008, 2014, 1998, 2005, 1995, 2011, 2007, 2009, 2002,\n",
              "       2018, 2017, 1981, 2016, 1991, 1984, 2006, 2012, 2010, 2000, 1992,\n",
              "       1993, 1997, 2013, 2003, 1999, 1996, 1990, 1989, 2015, 1985, 1982,\n",
              "       1994, 1976, 1983, 1973, 1969, 1971, 1987, 1988, 1980, 1986, 1965,\n",
              "       1970, 1945, 1974, 1955, 1978, 1979, 1972, 1968, 1977, 1966, 1975,\n",
              "       1910, 1963, 1967, 9999, 1960, 1500, 1964, 2066, 1949, 2019, 1937,\n",
              "       1951, 1959, 1953, 1954, 1958, 1956, 1962, 9000, 2900, 5911, 1400,\n",
              "       5000, 1961, 4000, 1952, 8500, 1932, 1950, 1000, 3700, 1942, 1933,\n",
              "       1936, 1957, 1923, 2290, 1930, 1001, 7000, 1929, 1943, 1938, 1934,\n",
              "       1935, 1928, 1941, 5555, 1800, 6000, 1931, 4500, 7800, 1947, 1927,\n",
              "       7100, 1600])"
            ]
          },
          "metadata": {},
          "execution_count": 20
        }
      ],
      "source": [
        "data_new['registration_year'].unique()"
      ]
    },
    {
      "cell_type": "code",
      "execution_count": 21,
      "metadata": {
        "colab": {
          "base_uri": "https://localhost:8080/",
          "height": 668
        },
        "id": "-QU31m4GT-Tz",
        "outputId": "b76e9c15-0255-4c08-85a1-b913cf733d80"
      },
      "outputs": [
        {
          "output_type": "display_data",
          "data": {
            "text/plain": [
              "<Figure size 640x800 with 1 Axes>"
            ],
            "image/png": "[encoded data removed]"
          },
          "metadata": {
            "needs_background": "light"
          }
        }
      ],
      "source": [
        "# посмотрим на распределение данных\n",
        "\n",
        "name = 'Распределение по годам'\n",
        "\n",
        "plt.figure(figsize=(8,10), dpi= 80)\n",
        "sns.set_style('whitegrid')\n",
        "sns.boxplot(y='registration_year', data=data_new, orient='h', linewidth=2.5)\n",
        "plt.title(name, fontsize=22)\n",
        "plt.ylim(1970, 2020)\n",
        "   \n",
        "plt.show()"
      ]
    },
    {
      "cell_type": "markdown",
      "source": [
        "**Комментарий:**\n",
        "<br>Отсекли часть данных для того, чтобы график получился более читаемым. Достаточно большое количество объявлений - с 2000 года по 2008-2009."
      ],
      "metadata": {
        "id": "RHEmmvGTuyXC"
      }
    },
    {
      "cell_type": "code",
      "execution_count": 22,
      "metadata": {
        "id": "RjEcXOckT-T0"
      },
      "outputs": [],
      "source": [
        "data_new = data_new.query('1970 <= registration_year <= 2020')"
      ]
    },
    {
      "cell_type": "code",
      "execution_count": 23,
      "metadata": {
        "colab": {
          "base_uri": "https://localhost:8080/"
        },
        "id": "D6VgevHHT-T1",
        "outputId": "be2dba0d-d83c-421c-abe0-e020ee3cc20e"
      },
      "outputs": [
        {
          "output_type": "execute_result",
          "data": {
            "text/plain": [
              "0"
            ]
          },
          "metadata": {},
          "execution_count": 23
        }
      ],
      "source": [
        "data_new['registration_year'].isna().sum()"
      ]
    },
    {
      "cell_type": "code",
      "execution_count": 24,
      "metadata": {
        "colab": {
          "base_uri": "https://localhost:8080/"
        },
        "id": "JsZqU3c1T-T1",
        "outputId": "89a6536c-3e67-4914-c3c5-fe62516adedb"
      },
      "outputs": [
        {
          "output_type": "execute_result",
          "data": {
            "text/plain": [
              "manual    216137\n",
              "auto       58864\n",
              "Name: gearbox, dtype: int64"
            ]
          },
          "metadata": {},
          "execution_count": 24
        }
      ],
      "source": [
        "data_new['gearbox'].value_counts()"
      ]
    },
    {
      "cell_type": "markdown",
      "metadata": {
        "id": "hoWzmpG1T-T1"
      },
      "source": [
        "Данные выглядят нормально."
      ]
    },
    {
      "cell_type": "markdown",
      "metadata": {
        "id": "Oz7fqLUfT-T1"
      },
      "source": [
        "Заменим пропуски на manual, как и собирались."
      ]
    },
    {
      "cell_type": "code",
      "execution_count": 25,
      "metadata": {
        "id": "g85MpiLjT-T1"
      },
      "outputs": [],
      "source": [
        "data_new['gearbox'] = data_new['gearbox'].fillna(value='manual')"
      ]
    },
    {
      "cell_type": "code",
      "execution_count": 26,
      "metadata": {
        "colab": {
          "base_uri": "https://localhost:8080/"
        },
        "id": "uihwXq_dT-T1",
        "outputId": "6836c34b-8551-49b6-c056-acb7f723c842"
      },
      "outputs": [
        {
          "output_type": "execute_result",
          "data": {
            "text/plain": [
              "0"
            ]
          },
          "metadata": {},
          "execution_count": 26
        }
      ],
      "source": [
        "data_new['gearbox'].isna().sum()"
      ]
    },
    {
      "cell_type": "code",
      "execution_count": 27,
      "metadata": {
        "scrolled": true,
        "colab": {
          "base_uri": "https://localhost:8080/"
        },
        "id": "KCmlf0MjT-T2",
        "outputId": "b7a375ae-0896-4edd-f313-d4cbe2dbfe2f"
      },
      "outputs": [
        {
          "output_type": "execute_result",
          "data": {
            "text/plain": [
              "count    285000.000000\n",
              "mean        118.208691\n",
              "std         185.120098\n",
              "min           0.000000\n",
              "25%          75.000000\n",
              "50%         110.000000\n",
              "75%         150.000000\n",
              "max       20000.000000\n",
              "Name: power, dtype: float64"
            ]
          },
          "metadata": {},
          "execution_count": 27
        }
      ],
      "source": [
        "data_new['power'].describe()"
      ]
    },
    {
      "cell_type": "code",
      "execution_count": 28,
      "metadata": {
        "colab": {
          "base_uri": "https://localhost:8080/",
          "height": 662
        },
        "id": "Pv7FFhc4T-T2",
        "outputId": "934e9b9e-ffad-4622-f0ff-e368501b5d32"
      },
      "outputs": [
        {
          "output_type": "display_data",
          "data": {
            "text/plain": [
              "<Figure size 640x800 with 1 Axes>"
            ],
            "image/png": "[encoded data removed]"
          },
          "metadata": {}
        }
      ],
      "source": [
        "name = 'Распределение по мощности'\n",
        "\n",
        "plt.figure(figsize=(8,10), dpi= 80)\n",
        "sns.set_style('whitegrid')\n",
        "sns.boxplot(y='power', data=data_new, orient='h', linewidth=2.5)\n",
        "plt.title(name, fontsize=22)\n",
        "   \n",
        "plt.show()"
      ]
    },
    {
      "cell_type": "markdown",
      "metadata": {
        "id": "6TqrIXyjT-T2"
      },
      "source": [
        "Мы наблюдаем основную часть данных от 0 до примерно 1500. (хотя это довольно мощные машины, конкретно я не уверена, что тут такие данные)"
      ]
    },
    {
      "cell_type": "code",
      "execution_count": 29,
      "metadata": {
        "id": "JGX1wbocT-T2"
      },
      "outputs": [],
      "source": [
        "# В списке брендов автомобилей, предложенных нам, нет автомобилей выше 700 л.с. и меньше 70 л.с., \n",
        "# поэтому мы возьмем значения в этом диапозоне. \n",
        "\n",
        "data_new = data_new.query('70 <= power <= 700')"
      ]
    },
    {
      "cell_type": "code",
      "execution_count": 30,
      "metadata": {
        "colab": {
          "base_uri": "https://localhost:8080/",
          "height": 640
        },
        "id": "Zm8zthxNT-T2",
        "outputId": "a5c185f1-5e97-4848-8cec-f548366ecf0d"
      },
      "outputs": [
        {
          "output_type": "execute_result",
          "data": {
            "text/plain": [
              "Text(0.5, 1.0, 'Распределенние данных по мощности')"
            ]
          },
          "metadata": {},
          "execution_count": 30
        },
        {
          "output_type": "display_data",
          "data": {
            "text/plain": [
              "<Figure size 1080x720 with 1 Axes>"
            ],
            "image/png": "[encoded data removed]"
          },
          "metadata": {}
        }
      ],
      "source": [
        "data_new['power'].plot(kind='hist', bins=100, x='power', grid=True, figsize=(15, 10))\n",
        "plt.xlabel('Мощность')\n",
        "plt.title('Распределенние данных по мощности')"
      ]
    },
    {
      "cell_type": "code",
      "execution_count": 31,
      "metadata": {
        "colab": {
          "base_uri": "https://localhost:8080/"
        },
        "id": "RwgH7QtGT-T3",
        "outputId": "4f07b19a-282e-439f-cef2-d824080eea4c"
      },
      "outputs": [
        {
          "output_type": "execute_result",
          "data": {
            "text/plain": [
              "0"
            ]
          },
          "metadata": {},
          "execution_count": 31
        }
      ],
      "source": [
        "data_new['power'].isna().sum()"
      ]
    },
    {
      "cell_type": "code",
      "execution_count": 32,
      "metadata": {
        "colab": {
          "base_uri": "https://localhost:8080/"
        },
        "id": "qT8g5NEwT-T3",
        "outputId": "2dba517a-bb1a-4fb3-f64a-2671a91d561a"
      },
      "outputs": [
        {
          "output_type": "execute_result",
          "data": {
            "text/plain": [
              "0"
            ]
          },
          "metadata": {},
          "execution_count": 32
        }
      ],
      "source": [
        "data_new['model'].isna().sum()"
      ]
    },
    {
      "cell_type": "code",
      "execution_count": 33,
      "metadata": {
        "colab": {
          "base_uri": "https://localhost:8080/"
        },
        "id": "5qp2eOYHT-T3",
        "outputId": "7ebe1841-fd80-497e-8682-bbbc0bdb85f7"
      },
      "outputs": [
        {
          "output_type": "execute_result",
          "data": {
            "text/plain": [
              "petrol      130592\n",
              "gasoline     82039\n",
              "lpg           4078\n",
              "cng            405\n",
              "hybrid         175\n",
              "other           39\n",
              "electric        19\n",
              "Name: fuel_type, dtype: int64"
            ]
          },
          "metadata": {},
          "execution_count": 33
        }
      ],
      "source": [
        "data_new['fuel_type'].value_counts()"
      ]
    },
    {
      "cell_type": "markdown",
      "metadata": {
        "id": "9DJom87WT-T3"
      },
      "source": [
        "Предполагаю, что пропуски образовались из-за того, что по умолчанию большинство автомобилей используют бензин, поэтому это не сочли нужным указать. Заменим пропуски на petrol."
      ]
    },
    {
      "cell_type": "code",
      "execution_count": 34,
      "metadata": {
        "id": "Hz8adgefT-T4"
      },
      "outputs": [],
      "source": [
        "data_new['fuel_type'] = data_new['fuel_type'].fillna(value='petrol')"
      ]
    },
    {
      "cell_type": "code",
      "execution_count": 35,
      "metadata": {
        "colab": {
          "base_uri": "https://localhost:8080/"
        },
        "id": "MT_aY8MtT-T4",
        "outputId": "8c08d400-09ea-49c9-d645-ac08ca1f3e0b"
      },
      "outputs": [
        {
          "output_type": "execute_result",
          "data": {
            "text/plain": [
              "0"
            ]
          },
          "metadata": {},
          "execution_count": 35
        }
      ],
      "source": [
        "data_new['fuel_type'].isna().sum()"
      ]
    },
    {
      "cell_type": "code",
      "execution_count": 36,
      "metadata": {
        "colab": {
          "base_uri": "https://localhost:8080/"
        },
        "id": "CGOdG-EZT-T4",
        "outputId": "159455c3-30e9-46cd-f23f-9adc251945f1"
      },
      "outputs": [
        {
          "output_type": "execute_result",
          "data": {
            "text/plain": [
              "no     182891\n",
              "yes     16489\n",
              "Name: not_repaired, dtype: int64"
            ]
          },
          "metadata": {},
          "execution_count": 36
        }
      ],
      "source": [
        "data_new['not_repaired'].value_counts()"
      ]
    },
    {
      "cell_type": "markdown",
      "metadata": {
        "id": "ioQMkg31T-T4"
      },
      "source": [
        "Данные пропуски заменим на yes, так как, если эта информация не была указана, то машина не чинилась."
      ]
    },
    {
      "cell_type": "code",
      "execution_count": 37,
      "metadata": {
        "id": "KT95YlGET-T4"
      },
      "outputs": [],
      "source": [
        "data_new['not_repaired'] = data_new['not_repaired'].fillna(value='yes')"
      ]
    },
    {
      "cell_type": "code",
      "execution_count": 38,
      "metadata": {
        "scrolled": true,
        "colab": {
          "base_uri": "https://localhost:8080/"
        },
        "id": "ALFiphPsT-T4",
        "outputId": "9ed37257-07ef-4aae-d522-acdb9ffe43aa"
      },
      "outputs": [
        {
          "output_type": "execute_result",
          "data": {
            "text/plain": [
              "0"
            ]
          },
          "metadata": {},
          "execution_count": 38
        }
      ],
      "source": [
        "data_new['not_repaired'].isna().sum()"
      ]
    },
    {
      "cell_type": "code",
      "execution_count": 39,
      "metadata": {
        "id": "MGj3oBzhT-T4"
      },
      "outputs": [],
      "source": [
        "def change_type(data_new, categorial_columns):\n",
        "    data_new[categorial_columns] = data_new[categorial_columns].astype('category')\n",
        "    return data_new\n",
        "\n",
        "categorial_columns = ['vehicle_type', 'gearbox', 'model', 'fuel_type', 'brand', 'not_repaired']\n",
        "numeric_columns = ['registration_year' 'power', 'kilometer']"
      ]
    },
    {
      "cell_type": "code",
      "execution_count": 40,
      "metadata": {
        "scrolled": true,
        "colab": {
          "base_uri": "https://localhost:8080/"
        },
        "id": "UNckTBF3T-T4",
        "outputId": "95f084c4-80a4-4120-c25b-6e095e4b2505"
      },
      "outputs": [
        {
          "output_type": "stream",
          "name": "stdout",
          "text": [
            "<class 'pandas.core.frame.DataFrame'>\n",
            "Int64Index: 227824 entries, 2 to 354368\n",
            "Data columns (total 10 columns):\n",
            " #   Column             Non-Null Count   Dtype \n",
            "---  ------             --------------   ----- \n",
            " 0   price              227824 non-null  int64 \n",
            " 1   vehicle_type       227824 non-null  object\n",
            " 2   registration_year  227824 non-null  int64 \n",
            " 3   gearbox            227824 non-null  object\n",
            " 4   power              227824 non-null  int64 \n",
            " 5   model              227824 non-null  object\n",
            " 6   kilometer          227824 non-null  int64 \n",
            " 7   fuel_type          227824 non-null  object\n",
            " 8   brand              227824 non-null  object\n",
            " 9   not_repaired       227824 non-null  object\n",
            "dtypes: int64(4), object(6)\n",
            "memory usage: 19.1+ MB\n"
          ]
        }
      ],
      "source": [
        "data_new.info()"
      ]
    },
    {
      "cell_type": "code",
      "execution_count": 41,
      "metadata": {
        "colab": {
          "base_uri": "https://localhost:8080/"
        },
        "id": "vvjpv2JhT-T5",
        "outputId": "d9b97aa4-6f8f-4d7f-b45c-ae9e6fff32b0"
      },
      "outputs": [
        {
          "output_type": "execute_result",
          "data": {
            "text/plain": [
              "price                0\n",
              "vehicle_type         0\n",
              "registration_year    0\n",
              "gearbox              0\n",
              "power                0\n",
              "model                0\n",
              "kilometer            0\n",
              "fuel_type            0\n",
              "brand                0\n",
              "not_repaired         0\n",
              "dtype: int64"
            ]
          },
          "metadata": {},
          "execution_count": 41
        }
      ],
      "source": [
        "data_new.isna().sum()"
      ]
    },
    {
      "cell_type": "markdown",
      "metadata": {
        "id": "V4Zw6yWeT-T5"
      },
      "source": [
        "#### Краткий итог"
      ]
    },
    {
      "cell_type": "markdown",
      "metadata": {
        "id": "IPIh6rxtT-T5"
      },
      "source": [
        "- В исходных данных было 354.369 значений, в ходе удаления/заполнения пропусков мы получили 227.824 данных. Процент потерь составляет 35%\n",
        "- Были удалены следующие признаки: '***datecrawled***', '***registrationmonth***', '***datecreated***', '***numberofpictures***', '***postalcode***', '***lastseen***', так как они не несли важной информации для дальнейшого обучения моделей.\n",
        "- Названия колонок было отредактировано и приведено в правильный вид.\n",
        "- Большинство пропусков было заполнено по тем значениям, которые были доступны."
      ]
    },
    {
      "cell_type": "markdown",
      "metadata": {
        "id": "tpUOIwKMT-T5"
      },
      "source": [
        "### Подготовка данных для обучения моделей"
      ]
    },
    {
      "cell_type": "markdown",
      "metadata": {
        "id": "gmTqQFPLT-T5"
      },
      "source": [
        "#### Кодирование признаков"
      ]
    },
    {
      "cell_type": "markdown",
      "metadata": {
        "id": "rleqRDMTT-T5"
      },
      "source": [
        "Скопируем наши данные для Линейной регресси, так как модели CatBoost и LightGBM могут работать с категоральными признаками"
      ]
    },
    {
      "cell_type": "code",
      "execution_count": 42,
      "metadata": {
        "scrolled": true,
        "colab": {
          "base_uri": "https://localhost:8080/",
          "height": 206
        },
        "id": "Awi7ZJsiT-T5",
        "outputId": "6adb1455-0cfb-4a87-da64-5e88ceea70ae"
      },
      "outputs": [
        {
          "output_type": "execute_result",
          "data": {
            "text/plain": [
              "   price vehicle_type  registration_year gearbox  power    model  kilometer  \\\n",
              "2   9800          suv               2004    auto    163    grand     125000   \n",
              "3   1500        small               2001  manual     75     golf     150000   \n",
              "6   2200  convertible               2004  manual    109  2_reihe     150000   \n",
              "8  14500          bus               2014  manual    125    c_max      30000   \n",
              "9    999        small               1998  manual    101     golf     150000   \n",
              "\n",
              "  fuel_type       brand not_repaired  \n",
              "2  gasoline        jeep          yes  \n",
              "3    petrol  volkswagen           no  \n",
              "6    petrol     peugeot           no  \n",
              "8    petrol        ford          yes  \n",
              "9    petrol  volkswagen          yes  "
            ],
            "text/html": [
              "\n",
              "  <div id=\"df-743d52d8-1bc4-4e61-9283-26eaab06bdf9\">\n",
              "    <div class=\"colab-df-container\">\n",
              "      <div>\n",
              "<style scoped>\n",
              "    .dataframe tbody tr th:only-of-type {\n",
              "        vertical-align: middle;\n",
              "    }\n",
              "\n",
              "    .dataframe tbody tr th {\n",
              "        vertical-align: top;\n",
              "    }\n",
              "\n",
              "    .dataframe thead th {\n",
              "        text-align: right;\n",
              "    }\n",
              "</style>\n",
              "<table border=\"1\" class=\"dataframe\">\n",
              "  <thead>\n",
              "    <tr style=\"text-align: right;\">\n",
              "      <th></th>\n",
              "      <th>price</th>\n",
              "      <th>vehicle_type</th>\n",
              "      <th>registration_year</th>\n",
              "      <th>gearbox</th>\n",
              "      <th>power</th>\n",
              "      <th>model</th>\n",
              "      <th>kilometer</th>\n",
              "      <th>fuel_type</th>\n",
              "      <th>brand</th>\n",
              "      <th>not_repaired</th>\n",
              "    </tr>\n",
              "  </thead>\n",
              "  <tbody>\n",
              "    <tr>\n",
              "      <th>2</th>\n",
              "      <td>9800</td>\n",
              "      <td>suv</td>\n",
              "      <td>2004</td>\n",
              "      <td>auto</td>\n",
              "      <td>163</td>\n",
              "      <td>grand</td>\n",
              "      <td>125000</td>\n",
              "      <td>gasoline</td>\n",
              "      <td>jeep</td>\n",
              "      <td>yes</td>\n",
              "    </tr>\n",
              "    <tr>\n",
              "      <th>3</th>\n",
              "      <td>1500</td>\n",
              "      <td>small</td>\n",
              "      <td>2001</td>\n",
              "      <td>manual</td>\n",
              "      <td>75</td>\n",
              "      <td>golf</td>\n",
              "      <td>150000</td>\n",
              "      <td>petrol</td>\n",
              "      <td>volkswagen</td>\n",
              "      <td>no</td>\n",
              "    </tr>\n",
              "    <tr>\n",
              "      <th>6</th>\n",
              "      <td>2200</td>\n",
              "      <td>convertible</td>\n",
              "      <td>2004</td>\n",
              "      <td>manual</td>\n",
              "      <td>109</td>\n",
              "      <td>2_reihe</td>\n",
              "      <td>150000</td>\n",
              "      <td>petrol</td>\n",
              "      <td>peugeot</td>\n",
              "      <td>no</td>\n",
              "    </tr>\n",
              "    <tr>\n",
              "      <th>8</th>\n",
              "      <td>14500</td>\n",
              "      <td>bus</td>\n",
              "      <td>2014</td>\n",
              "      <td>manual</td>\n",
              "      <td>125</td>\n",
              "      <td>c_max</td>\n",
              "      <td>30000</td>\n",
              "      <td>petrol</td>\n",
              "      <td>ford</td>\n",
              "      <td>yes</td>\n",
              "    </tr>\n",
              "    <tr>\n",
              "      <th>9</th>\n",
              "      <td>999</td>\n",
              "      <td>small</td>\n",
              "      <td>1998</td>\n",
              "      <td>manual</td>\n",
              "      <td>101</td>\n",
              "      <td>golf</td>\n",
              "      <td>150000</td>\n",
              "      <td>petrol</td>\n",
              "      <td>volkswagen</td>\n",
              "      <td>yes</td>\n",
              "    </tr>\n",
              "  </tbody>\n",
              "</table>\n",
              "</div>\n",
              "      <button class=\"colab-df-convert\" onclick=\"convertToInteractive('df-743d52d8-1bc4-4e61-9283-26eaab06bdf9')\"\n",
              "              title=\"Convert this dataframe to an interactive table.\"\n",
              "              style=\"display:none;\">\n",
              "        \n",
              "  <svg xmlns=\"http://www.w3.org/2000/svg\" height=\"24px\"viewBox=\"0 0 24 24\"\n",
              "       width=\"24px\">\n",
              "    <path d=\"M0 0h24v24H0V0z\" fill=\"none\"/>\n",
              "    <path d=\"M18.56 5.44l.94 2.06.94-2.06 2.06-.94-2.06-.94-.94-2.06-.94 2.06-2.06.94zm-11 1L8.5 8.5l.94-2.06 2.06-.94-2.06-.94L8.5 2.5l-.94 2.06-2.06.94zm10 10l.94 2.06.94-2.06 2.06-.94-2.06-.94-.94-2.06-.94 2.06-2.06.94z\"/><path d=\"M17.41 7.96l-1.37-1.37c-.4-.4-.92-.59-1.43-.59-.52 0-1.04.2-1.43.59L10.3 9.45l-7.72 7.72c-.78.78-.78 2.05 0 2.83L4 21.41c.39.39.9.59 1.41.59.51 0 1.02-.2 1.41-.59l7.78-7.78 2.81-2.81c.8-.78.8-2.07 0-2.86zM5.41 20L4 18.59l7.72-7.72 1.47 1.35L5.41 20z\"/>\n",
              "  </svg>\n",
              "      </button>\n",
              "      \n",
              "  <style>\n",
              "    .colab-df-container {\n",
              "      display:flex;\n",
              "      flex-wrap:wrap;\n",
              "      gap: 12px;\n",
              "    }\n",
              "\n",
              "    .colab-df-convert {\n",
              "      background-color: #E8F0FE;\n",
              "      border: none;\n",
              "      border-radius: 50%;\n",
              "      cursor: pointer;\n",
              "      display: none;\n",
              "      fill: #1967D2;\n",
              "      height: 32px;\n",
              "      padding: 0 0 0 0;\n",
              "      width: 32px;\n",
              "    }\n",
              "\n",
              "    .colab-df-convert:hover {\n",
              "      background-color: #E2EBFA;\n",
              "      box-shadow: 0px 1px 2px rgba(60, 64, 67, 0.3), 0px 1px 3px 1px rgba(60, 64, 67, 0.15);\n",
              "      fill: #174EA6;\n",
              "    }\n",
              "\n",
              "    [theme=dark] .colab-df-convert {\n",
              "      background-color: #3B4455;\n",
              "      fill: #D2E3FC;\n",
              "    }\n",
              "\n",
              "    [theme=dark] .colab-df-convert:hover {\n",
              "      background-color: #434B5C;\n",
              "      box-shadow: 0px 1px 3px 1px rgba(0, 0, 0, 0.15);\n",
              "      filter: drop-shadow(0px 1px 2px rgba(0, 0, 0, 0.3));\n",
              "      fill: #FFFFFF;\n",
              "    }\n",
              "  </style>\n",
              "\n",
              "      <script>\n",
              "        const buttonEl =\n",
              "          document.querySelector('#df-743d52d8-1bc4-4e61-9283-26eaab06bdf9 button.colab-df-convert');\n",
              "        buttonEl.style.display =\n",
              "          google.colab.kernel.accessAllowed ? 'block' : 'none';\n",
              "\n",
              "        async function convertToInteractive(key) {\n",
              "          const element = document.querySelector('#df-743d52d8-1bc4-4e61-9283-26eaab06bdf9');\n",
              "          const dataTable =\n",
              "            await google.colab.kernel.invokeFunction('convertToInteractive',\n",
              "                                                     [key], {});\n",
              "          if (!dataTable) return;\n",
              "\n",
              "          const docLinkHtml = 'Like what you see? Visit the ' +\n",
              "            '<a target=\"_blank\" href=https://colab.research.google.com/notebooks/data_table.ipynb>data table notebook</a>'\n",
              "            + ' to learn more about interactive tables.';\n",
              "          element.innerHTML = '';\n",
              "          dataTable['output_type'] = 'display_data';\n",
              "          await google.colab.output.renderOutput(dataTable, element);\n",
              "          const docLink = document.createElement('div');\n",
              "          docLink.innerHTML = docLinkHtml;\n",
              "          element.appendChild(docLink);\n",
              "        }\n",
              "      </script>\n",
              "    </div>\n",
              "  </div>\n",
              "  "
            ]
          },
          "metadata": {},
          "execution_count": 42
        }
      ],
      "source": [
        "data_for_lr = data_new.copy()\n",
        "data_for_lr.head(5)"
      ]
    },
    {
      "cell_type": "markdown",
      "metadata": {
        "id": "xoBYIjNaT-T5"
      },
      "source": [
        "Произведем прямое кодирование признаков для модели Линейной регресии."
      ]
    },
    {
      "cell_type": "code",
      "execution_count": 43,
      "metadata": {
        "colab": {
          "base_uri": "https://localhost:8080/",
          "height": 299
        },
        "id": "1ilQKmeVT-T5",
        "outputId": "3883e745-28fc-4f4f-f5ff-baf7f522e424"
      },
      "outputs": [
        {
          "output_type": "execute_result",
          "data": {
            "text/plain": [
              "   price  registration_year  power  kilometer  vehicle_type_convertible  \\\n",
              "2   9800               2004    163     125000                         0   \n",
              "3   1500               2001     75     150000                         0   \n",
              "6   2200               2004    109     150000                         1   \n",
              "8  14500               2014    125      30000                         0   \n",
              "9    999               1998    101     150000                         0   \n",
              "\n",
              "   vehicle_type_coupe  vehicle_type_other  vehicle_type_sedan  \\\n",
              "2                   0                   0                   0   \n",
              "3                   0                   0                   0   \n",
              "6                   0                   0                   0   \n",
              "8                   0                   0                   0   \n",
              "9                   0                   0                   0   \n",
              "\n",
              "   vehicle_type_small  vehicle_type_suv  ...  brand_seat  brand_skoda  \\\n",
              "2                   0                 1  ...           0            0   \n",
              "3                   1                 0  ...           0            0   \n",
              "6                   0                 0  ...           0            0   \n",
              "8                   0                 0  ...           0            0   \n",
              "9                   1                 0  ...           0            0   \n",
              "\n",
              "   brand_smart  brand_subaru  brand_suzuki  brand_toyota  brand_trabant  \\\n",
              "2            0             0             0             0              0   \n",
              "3            0             0             0             0              0   \n",
              "6            0             0             0             0              0   \n",
              "8            0             0             0             0              0   \n",
              "9            0             0             0             0              0   \n",
              "\n",
              "   brand_volkswagen  brand_volvo  not_repaired_yes  \n",
              "2                 0            0                 1  \n",
              "3                 1            0                 0  \n",
              "6                 0            0                 0  \n",
              "8                 0            0                 1  \n",
              "9                 1            0                 1  \n",
              "\n",
              "[5 rows x 301 columns]"
            ],
            "text/html": [
              "\n",
              "  <div id=\"df-5e432bf7-97ed-48ac-b5e7-94b9cb4664d4\">\n",
              "    <div class=\"colab-df-container\">\n",
              "      <div>\n",
              "<style scoped>\n",
              "    .dataframe tbody tr th:only-of-type {\n",
              "        vertical-align: middle;\n",
              "    }\n",
              "\n",
              "    .dataframe tbody tr th {\n",
              "        vertical-align: top;\n",
              "    }\n",
              "\n",
              "    .dataframe thead th {\n",
              "        text-align: right;\n",
              "    }\n",
              "</style>\n",
              "<table border=\"1\" class=\"dataframe\">\n",
              "  <thead>\n",
              "    <tr style=\"text-align: right;\">\n",
              "      <th></th>\n",
              "      <th>price</th>\n",
              "      <th>registration_year</th>\n",
              "      <th>power</th>\n",
              "      <th>kilometer</th>\n",
              "      <th>vehicle_type_convertible</th>\n",
              "      <th>vehicle_type_coupe</th>\n",
              "      <th>vehicle_type_other</th>\n",
              "      <th>vehicle_type_sedan</th>\n",
              "      <th>vehicle_type_small</th>\n",
              "      <th>vehicle_type_suv</th>\n",
              "      <th>...</th>\n",
              "      <th>brand_seat</th>\n",
              "      <th>brand_skoda</th>\n",
              "      <th>brand_smart</th>\n",
              "      <th>brand_subaru</th>\n",
              "      <th>brand_suzuki</th>\n",
              "      <th>brand_toyota</th>\n",
              "      <th>brand_trabant</th>\n",
              "      <th>brand_volkswagen</th>\n",
              "      <th>brand_volvo</th>\n",
              "      <th>not_repaired_yes</th>\n",
              "    </tr>\n",
              "  </thead>\n",
              "  <tbody>\n",
              "    <tr>\n",
              "      <th>2</th>\n",
              "      <td>9800</td>\n",
              "      <td>2004</td>\n",
              "      <td>163</td>\n",
              "      <td>125000</td>\n",
              "      <td>0</td>\n",
              "      <td>0</td>\n",
              "      <td>0</td>\n",
              "      <td>0</td>\n",
              "      <td>0</td>\n",
              "      <td>1</td>\n",
              "      <td>...</td>\n",
              "      <td>0</td>\n",
              "      <td>0</td>\n",
              "      <td>0</td>\n",
              "      <td>0</td>\n",
              "      <td>0</td>\n",
              "      <td>0</td>\n",
              "      <td>0</td>\n",
              "      <td>0</td>\n",
              "      <td>0</td>\n",
              "      <td>1</td>\n",
              "    </tr>\n",
              "    <tr>\n",
              "      <th>3</th>\n",
              "      <td>1500</td>\n",
              "      <td>2001</td>\n",
              "      <td>75</td>\n",
              "      <td>150000</td>\n",
              "      <td>0</td>\n",
              "      <td>0</td>\n",
              "      <td>0</td>\n",
              "      <td>0</td>\n",
              "      <td>1</td>\n",
              "      <td>0</td>\n",
              "      <td>...</td>\n",
              "      <td>0</td>\n",
              "      <td>0</td>\n",
              "      <td>0</td>\n",
              "      <td>0</td>\n",
              "      <td>0</td>\n",
              "      <td>0</td>\n",
              "      <td>0</td>\n",
              "      <td>1</td>\n",
              "      <td>0</td>\n",
              "      <td>0</td>\n",
              "    </tr>\n",
              "    <tr>\n",
              "      <th>6</th>\n",
              "      <td>2200</td>\n",
              "      <td>2004</td>\n",
              "      <td>109</td>\n",
              "      <td>150000</td>\n",
              "      <td>1</td>\n",
              "      <td>0</td>\n",
              "      <td>0</td>\n",
              "      <td>0</td>\n",
              "      <td>0</td>\n",
              "      <td>0</td>\n",
              "      <td>...</td>\n",
              "      <td>0</td>\n",
              "      <td>0</td>\n",
              "      <td>0</td>\n",
              "      <td>0</td>\n",
              "      <td>0</td>\n",
              "      <td>0</td>\n",
              "      <td>0</td>\n",
              "      <td>0</td>\n",
              "      <td>0</td>\n",
              "      <td>0</td>\n",
              "    </tr>\n",
              "    <tr>\n",
              "      <th>8</th>\n",
              "      <td>14500</td>\n",
              "      <td>2014</td>\n",
              "      <td>125</td>\n",
              "      <td>30000</td>\n",
              "      <td>0</td>\n",
              "      <td>0</td>\n",
              "      <td>0</td>\n",
              "      <td>0</td>\n",
              "      <td>0</td>\n",
              "      <td>0</td>\n",
              "      <td>...</td>\n",
              "      <td>0</td>\n",
              "      <td>0</td>\n",
              "      <td>0</td>\n",
              "      <td>0</td>\n",
              "      <td>0</td>\n",
              "      <td>0</td>\n",
              "      <td>0</td>\n",
              "      <td>0</td>\n",
              "      <td>0</td>\n",
              "      <td>1</td>\n",
              "    </tr>\n",
              "    <tr>\n",
              "      <th>9</th>\n",
              "      <td>999</td>\n",
              "      <td>1998</td>\n",
              "      <td>101</td>\n",
              "      <td>150000</td>\n",
              "      <td>0</td>\n",
              "      <td>0</td>\n",
              "      <td>0</td>\n",
              "      <td>0</td>\n",
              "      <td>1</td>\n",
              "      <td>0</td>\n",
              "      <td>...</td>\n",
              "      <td>0</td>\n",
              "      <td>0</td>\n",
              "      <td>0</td>\n",
              "      <td>0</td>\n",
              "      <td>0</td>\n",
              "      <td>0</td>\n",
              "      <td>0</td>\n",
              "      <td>1</td>\n",
              "      <td>0</td>\n",
              "      <td>1</td>\n",
              "    </tr>\n",
              "  </tbody>\n",
              "</table>\n",
              "<p>5 rows × 301 columns</p>\n",
              "</div>\n",
              "      <button class=\"colab-df-convert\" onclick=\"convertToInteractive('df-5e432bf7-97ed-48ac-b5e7-94b9cb4664d4')\"\n",
              "              title=\"Convert this dataframe to an interactive table.\"\n",
              "              style=\"display:none;\">\n",
              "        \n",
              "  <svg xmlns=\"http://www.w3.org/2000/svg\" height=\"24px\"viewBox=\"0 0 24 24\"\n",
              "       width=\"24px\">\n",
              "    <path d=\"M0 0h24v24H0V0z\" fill=\"none\"/>\n",
              "    <path d=\"M18.56 5.44l.94 2.06.94-2.06 2.06-.94-2.06-.94-.94-2.06-.94 2.06-2.06.94zm-11 1L8.5 8.5l.94-2.06 2.06-.94-2.06-.94L8.5 2.5l-.94 2.06-2.06.94zm10 10l.94 2.06.94-2.06 2.06-.94-2.06-.94-.94-2.06-.94 2.06-2.06.94z\"/><path d=\"M17.41 7.96l-1.37-1.37c-.4-.4-.92-.59-1.43-.59-.52 0-1.04.2-1.43.59L10.3 9.45l-7.72 7.72c-.78.78-.78 2.05 0 2.83L4 21.41c.39.39.9.59 1.41.59.51 0 1.02-.2 1.41-.59l7.78-7.78 2.81-2.81c.8-.78.8-2.07 0-2.86zM5.41 20L4 18.59l7.72-7.72 1.47 1.35L5.41 20z\"/>\n",
              "  </svg>\n",
              "      </button>\n",
              "      \n",
              "  <style>\n",
              "    .colab-df-container {\n",
              "      display:flex;\n",
              "      flex-wrap:wrap;\n",
              "      gap: 12px;\n",
              "    }\n",
              "\n",
              "    .colab-df-convert {\n",
              "      background-color: #E8F0FE;\n",
              "      border: none;\n",
              "      border-radius: 50%;\n",
              "      cursor: pointer;\n",
              "      display: none;\n",
              "      fill: #1967D2;\n",
              "      height: 32px;\n",
              "      padding: 0 0 0 0;\n",
              "      width: 32px;\n",
              "    }\n",
              "\n",
              "    .colab-df-convert:hover {\n",
              "      background-color: #E2EBFA;\n",
              "      box-shadow: 0px 1px 2px rgba(60, 64, 67, 0.3), 0px 1px 3px 1px rgba(60, 64, 67, 0.15);\n",
              "      fill: #174EA6;\n",
              "    }\n",
              "\n",
              "    [theme=dark] .colab-df-convert {\n",
              "      background-color: #3B4455;\n",
              "      fill: #D2E3FC;\n",
              "    }\n",
              "\n",
              "    [theme=dark] .colab-df-convert:hover {\n",
              "      background-color: #434B5C;\n",
              "      box-shadow: 0px 1px 3px 1px rgba(0, 0, 0, 0.15);\n",
              "      filter: drop-shadow(0px 1px 2px rgba(0, 0, 0, 0.3));\n",
              "      fill: #FFFFFF;\n",
              "    }\n",
              "  </style>\n",
              "\n",
              "      <script>\n",
              "        const buttonEl =\n",
              "          document.querySelector('#df-5e432bf7-97ed-48ac-b5e7-94b9cb4664d4 button.colab-df-convert');\n",
              "        buttonEl.style.display =\n",
              "          google.colab.kernel.accessAllowed ? 'block' : 'none';\n",
              "\n",
              "        async function convertToInteractive(key) {\n",
              "          const element = document.querySelector('#df-5e432bf7-97ed-48ac-b5e7-94b9cb4664d4');\n",
              "          const dataTable =\n",
              "            await google.colab.kernel.invokeFunction('convertToInteractive',\n",
              "                                                     [key], {});\n",
              "          if (!dataTable) return;\n",
              "\n",
              "          const docLinkHtml = 'Like what you see? Visit the ' +\n",
              "            '<a target=\"_blank\" href=https://colab.research.google.com/notebooks/data_table.ipynb>data table notebook</a>'\n",
              "            + ' to learn more about interactive tables.';\n",
              "          element.innerHTML = '';\n",
              "          dataTable['output_type'] = 'display_data';\n",
              "          await google.colab.output.renderOutput(dataTable, element);\n",
              "          const docLink = document.createElement('div');\n",
              "          docLink.innerHTML = docLinkHtml;\n",
              "          element.appendChild(docLink);\n",
              "        }\n",
              "      </script>\n",
              "    </div>\n",
              "  </div>\n",
              "  "
            ]
          },
          "metadata": {},
          "execution_count": 43
        }
      ],
      "source": [
        "data_ohe_lr = pd.get_dummies(data_for_lr, drop_first=True)\n",
        "data_ohe_lr.head(5)"
      ]
    },
    {
      "cell_type": "code",
      "execution_count": 44,
      "metadata": {
        "colab": {
          "base_uri": "https://localhost:8080/"
        },
        "id": "CQSRH0ybT-T5",
        "outputId": "bf477d26-5d58-457c-dc6f-22d4b8731df8"
      },
      "outputs": [
        {
          "output_type": "stream",
          "name": "stdout",
          "text": [
            "Обучающая выборка:  (170868, 300) (170868,)\n",
            "Тестовая выборка:  (56956, 300) (56956,)\n"
          ]
        }
      ],
      "source": [
        "# разделим данные на обучающую и тестовую выборки\n",
        "\n",
        "target_ohe_lr = data_ohe_lr['price']\n",
        "features_ohe_lr = data_ohe_lr.drop('price', axis=1)\n",
        "\n",
        "features_train_ohe, features_test_ohe, target_train_ohe, target_test_ohe = train_test_split(\n",
        "        features_ohe_lr, target_ohe_lr, test_size=0.25, random_state=12345)\n",
        "\n",
        "print('Обучающая выборка: ', features_train_ohe.shape,  target_train_ohe.shape)\n",
        "print('Тестовая выборка: ', features_test_ohe.shape,  target_test_ohe.shape)"
      ]
    },
    {
      "cell_type": "markdown",
      "metadata": {
        "id": "PtKNKlr5T-T6"
      },
      "source": [
        "#### Разделение признаков на выборки"
      ]
    },
    {
      "cell_type": "code",
      "execution_count": 45,
      "metadata": {
        "id": "ffWDKAl4T-T6"
      },
      "outputs": [],
      "source": [
        "# переведем признаки в категоральные\n",
        "\n",
        "data_new[['vehicle_type','gearbox', 'model', 'fuel_type','brand', 'not_repaired']] = data_new[['vehicle_type','gearbox', 'model', 'fuel_type','brand', 'not_repaired']].astype('category')\n",
        "# data_new['not_repaired'] = data_new['not_repaired'].astype('int64')"
      ]
    },
    {
      "cell_type": "code",
      "execution_count": 46,
      "metadata": {
        "colab": {
          "base_uri": "https://localhost:8080/"
        },
        "id": "xGAyxab-T-T6",
        "outputId": "f22ffd26-37bd-460c-df91-9041d337ec81"
      },
      "outputs": [
        {
          "output_type": "stream",
          "name": "stdout",
          "text": [
            "Обучающая выборка:  (170868, 9) (170868,)\n",
            "Тестовая выборка:  (56956, 9) (56956,)\n"
          ]
        }
      ],
      "source": [
        "#подготовим признаки для моделей CatBoost и LightGBM\n",
        "\n",
        "target = data_new['price']\n",
        "features = data_new.drop('price', axis=1)\n",
        "\n",
        "features_train, features_test, target_train, target_test = train_test_split(\n",
        "        features, target, test_size=0.25, random_state=12345)\n",
        "\n",
        "print('Обучающая выборка: ', features_train.shape,  target_train.shape)\n",
        "print('Тестовая выборка: ', features_test.shape,  target_test.shape)"
      ]
    },
    {
      "cell_type": "markdown",
      "metadata": {
        "id": "5lnCnncBT-T6"
      },
      "source": [
        "#### Краткий итог"
      ]
    },
    {
      "cell_type": "markdown",
      "metadata": {
        "id": "3wg9sQEXT-T6"
      },
      "source": [
        "- Было произведено прямое кодирование признаков для обучения модели линейной регресси.\n",
        "- Категоральные признаки были разделены на обучающую и тестовую выборки в соотношении 75:25.\n",
        "- Признаки для CatBoost и LightGBM были разделены на выборки в соотношении 75:25, использовалась изначальная база данных."
      ]
    },
    {
      "cell_type": "markdown",
      "metadata": {
        "id": "AEoBiBPuT-T6"
      },
      "source": [
        "## Обучение моделей"
      ]
    },
    {
      "cell_type": "markdown",
      "metadata": {
        "id": "0RUzvHQOT-T6"
      },
      "source": [
        "Мы рассмотрим три модели - Линейная регрессия, CatBoost и LightGBM."
      ]
    },
    {
      "cell_type": "code",
      "source": [
        "# для наглядности результатов сведем после обучения полученные метрики в таблицу\n",
        "\n",
        "def metrics(rmse, fit_time, pred_time, model, data):\n",
        "    data.loc[model, 'RMSE'] = rmse\n",
        "    data.loc[model, 'time_fit'] = fit_time\n",
        "    data.loc[model, 'time_pred'] = pred_time\n",
        "    return data"
      ],
      "metadata": {
        "id": "raICVWQtxziH"
      },
      "execution_count": 47,
      "outputs": []
    },
    {
      "cell_type": "code",
      "source": [
        "# таблица для сравнения результатов обучения моделей\n",
        "\n",
        "compare_models = pd.DataFrame(columns=['RMSE', 'time_fit', 'time_pred'])"
      ],
      "metadata": {
        "id": "mIH9P84oyTxm"
      },
      "execution_count": 48,
      "outputs": []
    },
    {
      "cell_type": "markdown",
      "metadata": {
        "id": "SAn17XD6T-T6"
      },
      "source": [
        "#### Создание константной модели"
      ]
    },
    {
      "cell_type": "markdown",
      "metadata": {
        "id": "GpEwO5WBT-T7"
      },
      "source": [
        "Константная модель нам необходима для предсказания среднего значения целевого признака. Далее будем сравнивать наши модели с константной."
      ]
    },
    {
      "cell_type": "code",
      "source": [
        "%%time\n",
        "\n",
        "dummy = DummyRegressor()\n",
        "dummy_model = dummy.fit(features_train, target_train)\n",
        "\n",
        "dummy_pred_test = dummy_model.predict(features_test)\n",
        "\n",
        "rmse_dummy = mean_squared_error(target_test, dummy_pred_test)**0.5\n",
        "\n",
        "print('RMSE для константной модели на тестовой выборке: {:.2f}'.format(rmse_dummy))"
      ],
      "metadata": {
        "colab": {
          "base_uri": "https://localhost:8080/"
        },
        "id": "zXa4vavWyanZ",
        "outputId": "40c42205-7afd-4b84-b811-bd2d4a4faf29"
      },
      "execution_count": 49,
      "outputs": [
        {
          "output_type": "stream",
          "name": "stdout",
          "text": [
            "RMSE для константной модели на тестовой выборке: 4689.09\n",
            "CPU times: user 5.15 ms, sys: 0 ns, total: 5.15 ms\n",
            "Wall time: 9.3 ms\n"
          ]
        }
      ]
    },
    {
      "cell_type": "markdown",
      "metadata": {
        "id": "WR5NRBx7T-T7"
      },
      "source": [
        "Результат константной модели показывает, что она в среднем ошибается на 4,7 тыс.евро. "
      ]
    },
    {
      "cell_type": "markdown",
      "metadata": {
        "id": "Jj5Dsg3PT-T7"
      },
      "source": [
        "#### Линейная регрессия"
      ]
    },
    {
      "cell_type": "code",
      "execution_count": 50,
      "metadata": {
        "colab": {
          "base_uri": "https://localhost:8080/"
        },
        "id": "aECZ1DyYT-T7",
        "outputId": "cf6f7bd6-46d1-4810-c273-e06e3c326b85"
      },
      "outputs": [
        {
          "output_type": "stream",
          "name": "stdout",
          "text": [
            "Лучшие гиперпараметры для модели: {'normalize': False, 'copy_X': True}\n",
            "CPU times: user 2min 39s, sys: 12.8 s, total: 2min 52s\n",
            "Wall time: 1min 46s\n"
          ]
        }
      ],
      "source": [
        "%%time\n",
        "\n",
        "# подберем наилучшие параметры с помощью кросс-валидации\n",
        "\n",
        "model_lr = LinearRegression()\n",
        "params_lr = {'normalize':[True,False], 'copy_X':[True, False]}\n",
        "\n",
        "random_cv = RandomizedSearchCV(model_lr, params_lr, cv=5)\n",
        "random_cv.fit(features_train_ohe, target_train_ohe)\n",
        "\n",
        "print('Лучшие гиперпараметры для модели:', random_cv.best_params_) "
      ]
    },
    {
      "cell_type": "code",
      "execution_count": 51,
      "metadata": {
        "id": "XL8jRVwwT-T8"
      },
      "outputs": [],
      "source": [
        "# обучим модель с подобранными параметрами\n",
        "\n",
        "start = time.time()\n",
        "model_lr_best = LinearRegression(normalize=False, copy_X=True)\n",
        "model_lr_best.fit(features_train_ohe, target_train_ohe)\n",
        "end = time.time()\n",
        "fit_time_lr = end - start"
      ]
    },
    {
      "cell_type": "code",
      "source": [
        "start = time.time()\n",
        "model_lr_best_pred = model_lr_best.predict(features_test_ohe)\n",
        "end = time.time()\n",
        "pred_time_lr = end - start\n",
        "rmse_lr = mean_squared_error(target_test_ohe, model_lr_best_pred)**0.5\n",
        "\n",
        "print('RMSE для Линейной регресии на тестовой выборке: {:.2f}'.format(rmse_lr))"
      ],
      "metadata": {
        "colab": {
          "base_uri": "https://localhost:8080/"
        },
        "id": "TBeVvPkciBNR",
        "outputId": "53b04a65-a70b-4584-f18d-6bc7c686104f"
      },
      "execution_count": 52,
      "outputs": [
        {
          "output_type": "stream",
          "name": "stdout",
          "text": [
            "RMSE для Линейной регресии на тестовой выборке: 2678.97\n"
          ]
        }
      ]
    },
    {
      "cell_type": "code",
      "source": [
        "metrics('{:.2f}'.format(rmse_lr), '{:.2f}'.format(fit_time_lr), '{:.2f}'.format(pred_time_lr), 'LinearRegression', compare_models)"
      ],
      "metadata": {
        "colab": {
          "base_uri": "https://localhost:8080/",
          "height": 81
        },
        "id": "EynOERPq6wKV",
        "outputId": "2a7e78e2-97e1-4c25-9c25-264410d98d93"
      },
      "execution_count": 53,
      "outputs": [
        {
          "output_type": "execute_result",
          "data": {
            "text/plain": [
              "                     RMSE time_fit time_pred\n",
              "LinearRegression  2678.97     5.18      0.11"
            ],
            "text/html": [
              "\n",
              "  <div id=\"df-e5bfe783-d851-4ccc-9fdb-ceabedfeeea9\">\n",
              "    <div class=\"colab-df-container\">\n",
              "      <div>\n",
              "<style scoped>\n",
              "    .dataframe tbody tr th:only-of-type {\n",
              "        vertical-align: middle;\n",
              "    }\n",
              "\n",
              "    .dataframe tbody tr th {\n",
              "        vertical-align: top;\n",
              "    }\n",
              "\n",
              "    .dataframe thead th {\n",
              "        text-align: right;\n",
              "    }\n",
              "</style>\n",
              "<table border=\"1\" class=\"dataframe\">\n",
              "  <thead>\n",
              "    <tr style=\"text-align: right;\">\n",
              "      <th></th>\n",
              "      <th>RMSE</th>\n",
              "      <th>time_fit</th>\n",
              "      <th>time_pred</th>\n",
              "    </tr>\n",
              "  </thead>\n",
              "  <tbody>\n",
              "    <tr>\n",
              "      <th>LinearRegression</th>\n",
              "      <td>2678.97</td>\n",
              "      <td>5.18</td>\n",
              "      <td>0.11</td>\n",
              "    </tr>\n",
              "  </tbody>\n",
              "</table>\n",
              "</div>\n",
              "      <button class=\"colab-df-convert\" onclick=\"convertToInteractive('df-e5bfe783-d851-4ccc-9fdb-ceabedfeeea9')\"\n",
              "              title=\"Convert this dataframe to an interactive table.\"\n",
              "              style=\"display:none;\">\n",
              "        \n",
              "  <svg xmlns=\"http://www.w3.org/2000/svg\" height=\"24px\"viewBox=\"0 0 24 24\"\n",
              "       width=\"24px\">\n",
              "    <path d=\"M0 0h24v24H0V0z\" fill=\"none\"/>\n",
              "    <path d=\"M18.56 5.44l.94 2.06.94-2.06 2.06-.94-2.06-.94-.94-2.06-.94 2.06-2.06.94zm-11 1L8.5 8.5l.94-2.06 2.06-.94-2.06-.94L8.5 2.5l-.94 2.06-2.06.94zm10 10l.94 2.06.94-2.06 2.06-.94-2.06-.94-.94-2.06-.94 2.06-2.06.94z\"/><path d=\"M17.41 7.96l-1.37-1.37c-.4-.4-.92-.59-1.43-.59-.52 0-1.04.2-1.43.59L10.3 9.45l-7.72 7.72c-.78.78-.78 2.05 0 2.83L4 21.41c.39.39.9.59 1.41.59.51 0 1.02-.2 1.41-.59l7.78-7.78 2.81-2.81c.8-.78.8-2.07 0-2.86zM5.41 20L4 18.59l7.72-7.72 1.47 1.35L5.41 20z\"/>\n",
              "  </svg>\n",
              "      </button>\n",
              "      \n",
              "  <style>\n",
              "    .colab-df-container {\n",
              "      display:flex;\n",
              "      flex-wrap:wrap;\n",
              "      gap: 12px;\n",
              "    }\n",
              "\n",
              "    .colab-df-convert {\n",
              "      background-color: #E8F0FE;\n",
              "      border: none;\n",
              "      border-radius: 50%;\n",
              "      cursor: pointer;\n",
              "      display: none;\n",
              "      fill: #1967D2;\n",
              "      height: 32px;\n",
              "      padding: 0 0 0 0;\n",
              "      width: 32px;\n",
              "    }\n",
              "\n",
              "    .colab-df-convert:hover {\n",
              "      background-color: #E2EBFA;\n",
              "      box-shadow: 0px 1px 2px rgba(60, 64, 67, 0.3), 0px 1px 3px 1px rgba(60, 64, 67, 0.15);\n",
              "      fill: #174EA6;\n",
              "    }\n",
              "\n",
              "    [theme=dark] .colab-df-convert {\n",
              "      background-color: #3B4455;\n",
              "      fill: #D2E3FC;\n",
              "    }\n",
              "\n",
              "    [theme=dark] .colab-df-convert:hover {\n",
              "      background-color: #434B5C;\n",
              "      box-shadow: 0px 1px 3px 1px rgba(0, 0, 0, 0.15);\n",
              "      filter: drop-shadow(0px 1px 2px rgba(0, 0, 0, 0.3));\n",
              "      fill: #FFFFFF;\n",
              "    }\n",
              "  </style>\n",
              "\n",
              "      <script>\n",
              "        const buttonEl =\n",
              "          document.querySelector('#df-e5bfe783-d851-4ccc-9fdb-ceabedfeeea9 button.colab-df-convert');\n",
              "        buttonEl.style.display =\n",
              "          google.colab.kernel.accessAllowed ? 'block' : 'none';\n",
              "\n",
              "        async function convertToInteractive(key) {\n",
              "          const element = document.querySelector('#df-e5bfe783-d851-4ccc-9fdb-ceabedfeeea9');\n",
              "          const dataTable =\n",
              "            await google.colab.kernel.invokeFunction('convertToInteractive',\n",
              "                                                     [key], {});\n",
              "          if (!dataTable) return;\n",
              "\n",
              "          const docLinkHtml = 'Like what you see? Visit the ' +\n",
              "            '<a target=\"_blank\" href=https://colab.research.google.com/notebooks/data_table.ipynb>data table notebook</a>'\n",
              "            + ' to learn more about interactive tables.';\n",
              "          element.innerHTML = '';\n",
              "          dataTable['output_type'] = 'display_data';\n",
              "          await google.colab.output.renderOutput(dataTable, element);\n",
              "          const docLink = document.createElement('div');\n",
              "          docLink.innerHTML = docLinkHtml;\n",
              "          element.appendChild(docLink);\n",
              "        }\n",
              "      </script>\n",
              "    </div>\n",
              "  </div>\n",
              "  "
            ]
          },
          "metadata": {},
          "execution_count": 53
        }
      ]
    },
    {
      "cell_type": "markdown",
      "metadata": {
        "id": "pZZg0LnxT-T8"
      },
      "source": [
        "#### CatBoost"
      ]
    },
    {
      "cell_type": "code",
      "execution_count": 54,
      "metadata": {
        "id": "uEVISoAgT-T8"
      },
      "outputs": [],
      "source": [
        "cb_features = ['vehicle_type','gearbox', 'model', 'fuel_type','brand','not_repaired']"
      ]
    },
    {
      "cell_type": "code",
      "execution_count": 55,
      "metadata": {
        "colab": {
          "base_uri": "https://localhost:8080/"
        },
        "id": "N8Dvd6f6T-T8",
        "outputId": "1aff58d1-903f-415f-a568-f389846b242d"
      },
      "outputs": [
        {
          "output_type": "stream",
          "name": "stdout",
          "text": [
            "RMSE модели CatBoost на обучающей выборке: 1689.83\n",
            "Лучшие гиперпараметры для модели:  {'depth': 15, 'learning_rate': 0.3}\n",
            "CPU times: user 1min 24s, sys: 14.2 s, total: 1min 38s\n",
            "Wall time: 10min 5s\n"
          ]
        }
      ],
      "source": [
        "%%time\n",
        "\n",
        "#подберем наилучшие параметры с помощью кросс-валидации\n",
        "\n",
        "model_cb = CatBoostRegressor(iterations=100, verbose=False, cat_features = cb_features)\n",
        "params_cb = {'learning_rate':[0.1, 0.3, 0.5], 'depth':[5,10, 15]}\n",
        "\n",
        "grid_cb = GridSearchCV(model_cb, params_cb, scoring='neg_mean_squared_error',  cv=3, n_jobs = -1)\n",
        "grid_cb.fit(features_train, target_train)\n",
        "\n",
        "rmse=(-grid_cb.best_score_)**0.5\n",
        "\n",
        "print('RMSE модели CatBoost на обучающей выборке: {:.2f}'.format(rmse))\n",
        "print('Лучшие гиперпараметры для модели: ', grid_cb.best_params_)"
      ]
    },
    {
      "cell_type": "code",
      "execution_count": 56,
      "metadata": {
        "id": "XtquxUrwT-T8"
      },
      "outputs": [],
      "source": [
        "#обучим модель с подобранными параметрами\n",
        "\n",
        "start = time.time()\n",
        "model_cb_best = CatBoostRegressor(iterations=100, verbose=False, cat_features = cb_features, \n",
        "                        learning_rate=0.3, depth=15, random_state=45)\n",
        "model_cb_best.fit(features_train, target_train)\n",
        "end = time.time()\n",
        "fit_time_cb = end - start"
      ]
    },
    {
      "cell_type": "code",
      "execution_count": 57,
      "metadata": {
        "colab": {
          "base_uri": "https://localhost:8080/"
        },
        "id": "cGG3mXrNT-T9",
        "outputId": "b994bf85-6131-452c-874d-a865d47570db"
      },
      "outputs": [
        {
          "output_type": "stream",
          "name": "stdout",
          "text": [
            "RMSE для CatBoost на тестовой выборке: 1649.35\n"
          ]
        }
      ],
      "source": [
        "start = time.time()\n",
        "model_cb_best_pred = model_cb_best.predict(features_test)\n",
        "end = time.time()\n",
        "pred_time_cb = end - start\n",
        "rmse_cb = mean_squared_error(target_test, model_cb_best_pred)**0.5\n",
        "print('RMSE для CatBoost на тестовой выборке: {:.2f}'.format(rmse_cb))"
      ]
    },
    {
      "cell_type": "code",
      "source": [
        "metrics('{:.2f}'.format(rmse_cb), '{:.2f}'.format(fit_time_cb), '{:.2f}'.format(pred_time_cb), 'CatBoostRegressor', compare_models)"
      ],
      "metadata": {
        "colab": {
          "base_uri": "https://localhost:8080/",
          "height": 112
        },
        "id": "VdKfGPyMcEZO",
        "outputId": "ffd6a6dd-b8d0-4a04-c9c3-e2dff33350b8"
      },
      "execution_count": 58,
      "outputs": [
        {
          "output_type": "execute_result",
          "data": {
            "text/plain": [
              "                      RMSE time_fit time_pred\n",
              "LinearRegression   2678.97     5.18      0.11\n",
              "CatBoostRegressor  1649.35    53.99      0.09"
            ],
            "text/html": [
              "\n",
              "  <div id=\"df-52739395-b417-45b8-af03-ad7729344460\">\n",
              "    <div class=\"colab-df-container\">\n",
              "      <div>\n",
              "<style scoped>\n",
              "    .dataframe tbody tr th:only-of-type {\n",
              "        vertical-align: middle;\n",
              "    }\n",
              "\n",
              "    .dataframe tbody tr th {\n",
              "        vertical-align: top;\n",
              "    }\n",
              "\n",
              "    .dataframe thead th {\n",
              "        text-align: right;\n",
              "    }\n",
              "</style>\n",
              "<table border=\"1\" class=\"dataframe\">\n",
              "  <thead>\n",
              "    <tr style=\"text-align: right;\">\n",
              "      <th></th>\n",
              "      <th>RMSE</th>\n",
              "      <th>time_fit</th>\n",
              "      <th>time_pred</th>\n",
              "    </tr>\n",
              "  </thead>\n",
              "  <tbody>\n",
              "    <tr>\n",
              "      <th>LinearRegression</th>\n",
              "      <td>2678.97</td>\n",
              "      <td>5.18</td>\n",
              "      <td>0.11</td>\n",
              "    </tr>\n",
              "    <tr>\n",
              "      <th>CatBoostRegressor</th>\n",
              "      <td>1649.35</td>\n",
              "      <td>53.99</td>\n",
              "      <td>0.09</td>\n",
              "    </tr>\n",
              "  </tbody>\n",
              "</table>\n",
              "</div>\n",
              "      <button class=\"colab-df-convert\" onclick=\"convertToInteractive('df-52739395-b417-45b8-af03-ad7729344460')\"\n",
              "              title=\"Convert this dataframe to an interactive table.\"\n",
              "              style=\"display:none;\">\n",
              "        \n",
              "  <svg xmlns=\"http://www.w3.org/2000/svg\" height=\"24px\"viewBox=\"0 0 24 24\"\n",
              "       width=\"24px\">\n",
              "    <path d=\"M0 0h24v24H0V0z\" fill=\"none\"/>\n",
              "    <path d=\"M18.56 5.44l.94 2.06.94-2.06 2.06-.94-2.06-.94-.94-2.06-.94 2.06-2.06.94zm-11 1L8.5 8.5l.94-2.06 2.06-.94-2.06-.94L8.5 2.5l-.94 2.06-2.06.94zm10 10l.94 2.06.94-2.06 2.06-.94-2.06-.94-.94-2.06-.94 2.06-2.06.94z\"/><path d=\"M17.41 7.96l-1.37-1.37c-.4-.4-.92-.59-1.43-.59-.52 0-1.04.2-1.43.59L10.3 9.45l-7.72 7.72c-.78.78-.78 2.05 0 2.83L4 21.41c.39.39.9.59 1.41.59.51 0 1.02-.2 1.41-.59l7.78-7.78 2.81-2.81c.8-.78.8-2.07 0-2.86zM5.41 20L4 18.59l7.72-7.72 1.47 1.35L5.41 20z\"/>\n",
              "  </svg>\n",
              "      </button>\n",
              "      \n",
              "  <style>\n",
              "    .colab-df-container {\n",
              "      display:flex;\n",
              "      flex-wrap:wrap;\n",
              "      gap: 12px;\n",
              "    }\n",
              "\n",
              "    .colab-df-convert {\n",
              "      background-color: #E8F0FE;\n",
              "      border: none;\n",
              "      border-radius: 50%;\n",
              "      cursor: pointer;\n",
              "      display: none;\n",
              "      fill: #1967D2;\n",
              "      height: 32px;\n",
              "      padding: 0 0 0 0;\n",
              "      width: 32px;\n",
              "    }\n",
              "\n",
              "    .colab-df-convert:hover {\n",
              "      background-color: #E2EBFA;\n",
              "      box-shadow: 0px 1px 2px rgba(60, 64, 67, 0.3), 0px 1px 3px 1px rgba(60, 64, 67, 0.15);\n",
              "      fill: #174EA6;\n",
              "    }\n",
              "\n",
              "    [theme=dark] .colab-df-convert {\n",
              "      background-color: #3B4455;\n",
              "      fill: #D2E3FC;\n",
              "    }\n",
              "\n",
              "    [theme=dark] .colab-df-convert:hover {\n",
              "      background-color: #434B5C;\n",
              "      box-shadow: 0px 1px 3px 1px rgba(0, 0, 0, 0.15);\n",
              "      filter: drop-shadow(0px 1px 2px rgba(0, 0, 0, 0.3));\n",
              "      fill: #FFFFFF;\n",
              "    }\n",
              "  </style>\n",
              "\n",
              "      <script>\n",
              "        const buttonEl =\n",
              "          document.querySelector('#df-52739395-b417-45b8-af03-ad7729344460 button.colab-df-convert');\n",
              "        buttonEl.style.display =\n",
              "          google.colab.kernel.accessAllowed ? 'block' : 'none';\n",
              "\n",
              "        async function convertToInteractive(key) {\n",
              "          const element = document.querySelector('#df-52739395-b417-45b8-af03-ad7729344460');\n",
              "          const dataTable =\n",
              "            await google.colab.kernel.invokeFunction('convertToInteractive',\n",
              "                                                     [key], {});\n",
              "          if (!dataTable) return;\n",
              "\n",
              "          const docLinkHtml = 'Like what you see? Visit the ' +\n",
              "            '<a target=\"_blank\" href=https://colab.research.google.com/notebooks/data_table.ipynb>data table notebook</a>'\n",
              "            + ' to learn more about interactive tables.';\n",
              "          element.innerHTML = '';\n",
              "          dataTable['output_type'] = 'display_data';\n",
              "          await google.colab.output.renderOutput(dataTable, element);\n",
              "          const docLink = document.createElement('div');\n",
              "          docLink.innerHTML = docLinkHtml;\n",
              "          element.appendChild(docLink);\n",
              "        }\n",
              "      </script>\n",
              "    </div>\n",
              "  </div>\n",
              "  "
            ]
          },
          "metadata": {},
          "execution_count": 58
        }
      ]
    },
    {
      "cell_type": "markdown",
      "metadata": {
        "id": "MSjxGnCBT-T9"
      },
      "source": [
        "####  LightGBM"
      ]
    },
    {
      "cell_type": "code",
      "execution_count": 59,
      "metadata": {
        "colab": {
          "base_uri": "https://localhost:8080/"
        },
        "id": "e07yEK9QT-T9",
        "outputId": "7647569f-d938-4f16-d21e-67ae73efdba5"
      },
      "outputs": [
        {
          "output_type": "stream",
          "name": "stdout",
          "text": [
            "RMSE модели LightGBM на обучающей выборке: 1662.67\n",
            "Лучшие гиперпараметры для модели:  {'learning_rate': 0.1, 'max_depth': 6, 'n_estimators': 1000}\n",
            "CPU times: user 9min 33s, sys: 4.81 s, total: 9min 38s\n",
            "Wall time: 4min 59s\n"
          ]
        }
      ],
      "source": [
        "%%time\n",
        "\n",
        "#подберем наилучшие параметры с помощью кросс-валидации\n",
        "\n",
        "model_lgmr = LGBMRegressor(random_state=45)\n",
        "params_lgmr = {'max_depth': [2, 4, 6], 'learning_rate': [0.03, 0.1], 'n_estimators': [50, 100, 200, 500, 1000]}\n",
        "\n",
        "grid_lgmr = GridSearchCV(model_lgmr, params_lgmr, scoring='neg_mean_squared_error', cv=3)\n",
        "grid_lgmr.fit(features_train, target_train, verbose=True)\n",
        "\n",
        "rmse=(-grid_lgmr.best_score_)**0.5\n",
        "\n",
        "print('RMSE модели LightGBM на обучающей выборке: {:.2f}'.format(rmse))\n",
        "print('Лучшие гиперпараметры для модели: ', grid_lgmr.best_params_)"
      ]
    },
    {
      "cell_type": "code",
      "execution_count": 60,
      "metadata": {
        "id": "3RUlXHbgT-T9"
      },
      "outputs": [],
      "source": [
        "#обучим модель с подобранными параметрами\n",
        "\n",
        "start = time.time()\n",
        "model_lgmr_best = LGBMRegressor(max_depth = 6, learning_rate = 0.1, n_estimators = 1000, random_state=45)\n",
        "model_lgmr_best.fit(features_train, target_train, verbose = True)\n",
        "end = time.time()\n",
        "fit_time_lgmr = end - start"
      ]
    },
    {
      "cell_type": "code",
      "source": [
        "start = time.time()\n",
        "model_lgmr_best_pred = model_lgmr_best.predict(features_test)\n",
        "end = time.time()\n",
        "pred_time_lgmr = end - start\n",
        "rmse_lgmr = mean_squared_error(target_test, model_lgmr_best_pred)**0.5\n",
        "print('RMSE для LightGBM на тестовой выборке: {:.2f}'.format(rmse_lgmr))"
      ],
      "metadata": {
        "colab": {
          "base_uri": "https://localhost:8080/"
        },
        "id": "gObrbcHD1Hy9",
        "outputId": "d72b3aa0-fa8f-4e7f-f2bf-789d20e036a8"
      },
      "execution_count": 61,
      "outputs": [
        {
          "output_type": "stream",
          "name": "stdout",
          "text": [
            "RMSE для LightGBM на тестовой выборке: 1627.58\n"
          ]
        }
      ]
    },
    {
      "cell_type": "code",
      "source": [
        "final_analytic = metrics('{:.2f}'.format(rmse_lgmr), '{:.2f}'.format(fit_time_lgmr), '{:.2f}'.format(pred_time_lgmr), 'LGBMRegressor', compare_models).sort_values(by='RMSE', ascending=True)"
      ],
      "metadata": {
        "id": "4wQQcF2jepES"
      },
      "execution_count": 62,
      "outputs": []
    },
    {
      "cell_type": "markdown",
      "metadata": {
        "id": "GdXeHE6bT-T-"
      },
      "source": [
        "#### Краткий итог"
      ]
    },
    {
      "cell_type": "markdown",
      "metadata": {
        "id": "evX5eOSjT-T-"
      },
      "source": [
        "- Была создана константная модель, с которой в последствии можно сравнить наши основные модели.\n",
        "- Для каждой модели был подобран свой тип признаков. \n",
        "- Были обучены 3 модели - Линейная реграссия, CatBoost, LightGBM."
      ]
    },
    {
      "cell_type": "markdown",
      "metadata": {
        "id": "Ipc70KGCT-T_"
      },
      "source": [
        "## Анализ моделей"
      ]
    },
    {
      "cell_type": "code",
      "source": [
        "display(final_analytic)"
      ],
      "metadata": {
        "colab": {
          "base_uri": "https://localhost:8080/",
          "height": 143
        },
        "id": "Z5EtkuIx2CY9",
        "outputId": "103407da-dc51-4263-c01c-7b2502f9016a"
      },
      "execution_count": 63,
      "outputs": [
        {
          "output_type": "display_data",
          "data": {
            "text/plain": [
              "                      RMSE time_fit time_pred\n",
              "LGBMRegressor      1627.58     9.07      4.74\n",
              "CatBoostRegressor  1649.35    53.99      0.09\n",
              "LinearRegression   2678.97     5.18      0.11"
            ],
            "text/html": [
              "\n",
              "  <div id=\"df-6c7e417a-5a3f-4c83-9dcb-17b09e7ba755\">\n",
              "    <div class=\"colab-df-container\">\n",
              "      <div>\n",
              "<style scoped>\n",
              "    .dataframe tbody tr th:only-of-type {\n",
              "        vertical-align: middle;\n",
              "    }\n",
              "\n",
              "    .dataframe tbody tr th {\n",
              "        vertical-align: top;\n",
              "    }\n",
              "\n",
              "    .dataframe thead th {\n",
              "        text-align: right;\n",
              "    }\n",
              "</style>\n",
              "<table border=\"1\" class=\"dataframe\">\n",
              "  <thead>\n",
              "    <tr style=\"text-align: right;\">\n",
              "      <th></th>\n",
              "      <th>RMSE</th>\n",
              "      <th>time_fit</th>\n",
              "      <th>time_pred</th>\n",
              "    </tr>\n",
              "  </thead>\n",
              "  <tbody>\n",
              "    <tr>\n",
              "      <th>LGBMRegressor</th>\n",
              "      <td>1627.58</td>\n",
              "      <td>9.07</td>\n",
              "      <td>4.74</td>\n",
              "    </tr>\n",
              "    <tr>\n",
              "      <th>CatBoostRegressor</th>\n",
              "      <td>1649.35</td>\n",
              "      <td>53.99</td>\n",
              "      <td>0.09</td>\n",
              "    </tr>\n",
              "    <tr>\n",
              "      <th>LinearRegression</th>\n",
              "      <td>2678.97</td>\n",
              "      <td>5.18</td>\n",
              "      <td>0.11</td>\n",
              "    </tr>\n",
              "  </tbody>\n",
              "</table>\n",
              "</div>\n",
              "      <button class=\"colab-df-convert\" onclick=\"convertToInteractive('df-6c7e417a-5a3f-4c83-9dcb-17b09e7ba755')\"\n",
              "              title=\"Convert this dataframe to an interactive table.\"\n",
              "              style=\"display:none;\">\n",
              "        \n",
              "  <svg xmlns=\"http://www.w3.org/2000/svg\" height=\"24px\"viewBox=\"0 0 24 24\"\n",
              "       width=\"24px\">\n",
              "    <path d=\"M0 0h24v24H0V0z\" fill=\"none\"/>\n",
              "    <path d=\"M18.56 5.44l.94 2.06.94-2.06 2.06-.94-2.06-.94-.94-2.06-.94 2.06-2.06.94zm-11 1L8.5 8.5l.94-2.06 2.06-.94-2.06-.94L8.5 2.5l-.94 2.06-2.06.94zm10 10l.94 2.06.94-2.06 2.06-.94-2.06-.94-.94-2.06-.94 2.06-2.06.94z\"/><path d=\"M17.41 7.96l-1.37-1.37c-.4-.4-.92-.59-1.43-.59-.52 0-1.04.2-1.43.59L10.3 9.45l-7.72 7.72c-.78.78-.78 2.05 0 2.83L4 21.41c.39.39.9.59 1.41.59.51 0 1.02-.2 1.41-.59l7.78-7.78 2.81-2.81c.8-.78.8-2.07 0-2.86zM5.41 20L4 18.59l7.72-7.72 1.47 1.35L5.41 20z\"/>\n",
              "  </svg>\n",
              "      </button>\n",
              "      \n",
              "  <style>\n",
              "    .colab-df-container {\n",
              "      display:flex;\n",
              "      flex-wrap:wrap;\n",
              "      gap: 12px;\n",
              "    }\n",
              "\n",
              "    .colab-df-convert {\n",
              "      background-color: #E8F0FE;\n",
              "      border: none;\n",
              "      border-radius: 50%;\n",
              "      cursor: pointer;\n",
              "      display: none;\n",
              "      fill: #1967D2;\n",
              "      height: 32px;\n",
              "      padding: 0 0 0 0;\n",
              "      width: 32px;\n",
              "    }\n",
              "\n",
              "    .colab-df-convert:hover {\n",
              "      background-color: #E2EBFA;\n",
              "      box-shadow: 0px 1px 2px rgba(60, 64, 67, 0.3), 0px 1px 3px 1px rgba(60, 64, 67, 0.15);\n",
              "      fill: #174EA6;\n",
              "    }\n",
              "\n",
              "    [theme=dark] .colab-df-convert {\n",
              "      background-color: #3B4455;\n",
              "      fill: #D2E3FC;\n",
              "    }\n",
              "\n",
              "    [theme=dark] .colab-df-convert:hover {\n",
              "      background-color: #434B5C;\n",
              "      box-shadow: 0px 1px 3px 1px rgba(0, 0, 0, 0.15);\n",
              "      filter: drop-shadow(0px 1px 2px rgba(0, 0, 0, 0.3));\n",
              "      fill: #FFFFFF;\n",
              "    }\n",
              "  </style>\n",
              "\n",
              "      <script>\n",
              "        const buttonEl =\n",
              "          document.querySelector('#df-6c7e417a-5a3f-4c83-9dcb-17b09e7ba755 button.colab-df-convert');\n",
              "        buttonEl.style.display =\n",
              "          google.colab.kernel.accessAllowed ? 'block' : 'none';\n",
              "\n",
              "        async function convertToInteractive(key) {\n",
              "          const element = document.querySelector('#df-6c7e417a-5a3f-4c83-9dcb-17b09e7ba755');\n",
              "          const dataTable =\n",
              "            await google.colab.kernel.invokeFunction('convertToInteractive',\n",
              "                                                     [key], {});\n",
              "          if (!dataTable) return;\n",
              "\n",
              "          const docLinkHtml = 'Like what you see? Visit the ' +\n",
              "            '<a target=\"_blank\" href=https://colab.research.google.com/notebooks/data_table.ipynb>data table notebook</a>'\n",
              "            + ' to learn more about interactive tables.';\n",
              "          element.innerHTML = '';\n",
              "          dataTable['output_type'] = 'display_data';\n",
              "          await google.colab.output.renderOutput(dataTable, element);\n",
              "          const docLink = document.createElement('div');\n",
              "          docLink.innerHTML = docLinkHtml;\n",
              "          element.appendChild(docLink);\n",
              "        }\n",
              "      </script>\n",
              "    </div>\n",
              "  </div>\n",
              "  "
            ]
          },
          "metadata": {}
        }
      ]
    },
    {
      "cell_type": "markdown",
      "metadata": {
        "id": "NKDuut4kT-T_"
      },
      "source": [
        "#### Краткий итог"
      ]
    },
    {
      "cell_type": "markdown",
      "metadata": {
        "id": "Zre5rGBfT-T_"
      },
      "source": [
        "- Самая быстрообучаемая модель - это Линейная регрессия.\n",
        "- Наилучший показатель RMSE показала LGBMRegressor модель.\n",
        "- Наилучшее время предсказаний показала модель CatBoostRegressor.\n",
        "- Не смотря на то, что Линейная регрессия показала хорошие результаты при обучении и предсказании, метрика RMSE у нее значительно хуже, чем у остальных.\n",
        "- Самое долгое время обучения получилось у CatBoost.\n",
        "\n",
        "Не смотря на то, что время предсказания у LGBM самое высокое, я все равно посоветовала бы именно эту модель заказчику. К сожалению, ни одна модель не превосходит остальные по всем параметрам, у отдельной модели отдельные параметры лучше остальных."
      ]
    }
  ],
  "metadata": {
    "ExecuteTimeLog": [
      {
        "duration": 2698,
        "start_time": "2022-03-22T08:42:40.791Z"
      },
      {
        "duration": 1400,
        "start_time": "2022-03-22T09:01:59.223Z"
      },
      {
        "duration": 28,
        "start_time": "2022-03-22T09:02:08.511Z"
      },
      {
        "duration": 178,
        "start_time": "2022-03-22T09:02:21.614Z"
      },
      {
        "duration": 4,
        "start_time": "2022-03-22T09:17:44.170Z"
      },
      {
        "duration": 172,
        "start_time": "2022-03-22T09:17:49.607Z"
      },
      {
        "duration": 185,
        "start_time": "2022-03-22T09:19:38.094Z"
      },
      {
        "duration": 169,
        "start_time": "2022-03-22T10:11:49.893Z"
      },
      {
        "duration": 31,
        "start_time": "2022-03-22T10:15:07.330Z"
      },
      {
        "duration": 120,
        "start_time": "2022-03-22T10:15:13.614Z"
      },
      {
        "duration": 12,
        "start_time": "2022-03-22T10:17:23.598Z"
      },
      {
        "duration": 170,
        "start_time": "2022-03-22T10:17:30.257Z"
      },
      {
        "duration": 16,
        "start_time": "2022-03-22T10:17:41.377Z"
      },
      {
        "duration": 8,
        "start_time": "2022-03-22T10:17:47.545Z"
      },
      {
        "duration": 1244,
        "start_time": "2022-03-22T10:17:47.563Z"
      },
      {
        "duration": 33,
        "start_time": "2022-03-22T10:17:48.811Z"
      },
      {
        "duration": 323,
        "start_time": "2022-03-22T10:17:48.847Z"
      },
      {
        "duration": 5,
        "start_time": "2022-03-22T10:17:49.177Z"
      },
      {
        "duration": 71,
        "start_time": "2022-03-22T10:17:49.186Z"
      },
      {
        "duration": 122,
        "start_time": "2022-03-22T10:17:49.260Z"
      },
      {
        "duration": 5,
        "start_time": "2022-03-22T10:17:49.385Z"
      },
      {
        "duration": 75,
        "start_time": "2022-03-22T10:17:49.393Z"
      },
      {
        "duration": 2694,
        "start_time": "2022-03-28T07:52:09.157Z"
      },
      {
        "duration": 1037,
        "start_time": "2022-03-28T07:52:11.854Z"
      },
      {
        "duration": 26,
        "start_time": "2022-03-28T07:52:12.893Z"
      },
      {
        "duration": 208,
        "start_time": "2022-03-28T07:52:12.922Z"
      },
      {
        "duration": 4,
        "start_time": "2022-03-28T07:52:13.132Z"
      },
      {
        "duration": 54,
        "start_time": "2022-03-28T07:52:13.138Z"
      },
      {
        "duration": 7,
        "start_time": "2022-03-28T07:52:13.195Z"
      },
      {
        "duration": 18,
        "start_time": "2022-03-28T07:52:13.204Z"
      },
      {
        "duration": 1921,
        "start_time": "2022-04-25T09:16:25.362Z"
      },
      {
        "duration": 723,
        "start_time": "2022-04-25T09:16:27.286Z"
      },
      {
        "duration": 20,
        "start_time": "2022-04-25T09:16:28.011Z"
      },
      {
        "duration": 122,
        "start_time": "2022-04-25T09:16:28.033Z"
      },
      {
        "duration": 3,
        "start_time": "2022-04-25T09:16:28.157Z"
      },
      {
        "duration": 26,
        "start_time": "2022-04-25T09:16:28.162Z"
      },
      {
        "duration": 8,
        "start_time": "2022-04-25T09:16:28.190Z"
      },
      {
        "duration": 25,
        "start_time": "2022-04-25T09:16:28.200Z"
      },
      {
        "duration": 2085,
        "start_time": "2022-04-25T09:58:43.898Z"
      },
      {
        "duration": 4,
        "start_time": "2022-04-25T09:58:49.362Z"
      },
      {
        "duration": 763,
        "start_time": "2022-04-25T09:58:49.368Z"
      },
      {
        "duration": 23,
        "start_time": "2022-04-25T09:58:50.134Z"
      },
      {
        "duration": 206,
        "start_time": "2022-04-25T09:58:50.160Z"
      },
      {
        "duration": 3,
        "start_time": "2022-04-25T09:58:50.367Z"
      },
      {
        "duration": 26,
        "start_time": "2022-04-25T09:58:50.372Z"
      },
      {
        "duration": 8,
        "start_time": "2022-04-25T09:58:50.399Z"
      },
      {
        "duration": 21,
        "start_time": "2022-04-25T09:58:50.423Z"
      },
      {
        "duration": 1772,
        "start_time": "2022-04-25T09:58:50.446Z"
      },
      {
        "duration": 4,
        "start_time": "2022-04-25T09:58:59.756Z"
      },
      {
        "duration": 765,
        "start_time": "2022-04-25T09:58:59.762Z"
      },
      {
        "duration": 23,
        "start_time": "2022-04-25T09:59:00.530Z"
      },
      {
        "duration": 137,
        "start_time": "2022-04-25T09:59:00.556Z"
      },
      {
        "duration": 3,
        "start_time": "2022-04-25T09:59:00.695Z"
      },
      {
        "duration": 41,
        "start_time": "2022-04-25T09:59:00.700Z"
      },
      {
        "duration": 13,
        "start_time": "2022-04-25T09:59:00.743Z"
      },
      {
        "duration": 21,
        "start_time": "2022-04-25T09:59:00.758Z"
      },
      {
        "duration": 1962,
        "start_time": "2022-04-25T09:59:00.782Z"
      },
      {
        "duration": 39,
        "start_time": "2022-04-25T09:59:23.919Z"
      },
      {
        "duration": 9,
        "start_time": "2022-04-25T10:00:18.679Z"
      },
      {
        "duration": 14,
        "start_time": "2022-04-25T10:01:05.245Z"
      },
      {
        "duration": 13,
        "start_time": "2022-04-25T10:01:25.683Z"
      },
      {
        "duration": 13,
        "start_time": "2022-04-25T10:01:45.060Z"
      },
      {
        "duration": 9,
        "start_time": "2022-04-25T10:14:52.407Z"
      },
      {
        "duration": 16,
        "start_time": "2022-04-25T10:15:34.634Z"
      },
      {
        "duration": 13,
        "start_time": "2022-04-25T10:15:43.525Z"
      },
      {
        "duration": 48,
        "start_time": "2022-04-25T10:16:32.195Z"
      },
      {
        "duration": 8,
        "start_time": "2022-04-25T10:16:43.060Z"
      },
      {
        "duration": 7,
        "start_time": "2022-04-25T10:17:06.691Z"
      },
      {
        "duration": 6,
        "start_time": "2022-04-25T10:17:29.162Z"
      },
      {
        "duration": 513,
        "start_time": "2022-04-25T10:25:29.060Z"
      },
      {
        "duration": 167,
        "start_time": "2022-04-25T10:28:30.777Z"
      },
      {
        "duration": 549,
        "start_time": "2022-04-25T10:28:35.027Z"
      },
      {
        "duration": 206,
        "start_time": "2022-04-25T10:29:30.929Z"
      },
      {
        "duration": 182,
        "start_time": "2022-04-25T10:29:47.630Z"
      },
      {
        "duration": 203,
        "start_time": "2022-04-25T10:31:06.080Z"
      },
      {
        "duration": 37,
        "start_time": "2022-04-25T10:33:03.018Z"
      },
      {
        "duration": 12,
        "start_time": "2022-04-25T10:41:11.300Z"
      },
      {
        "duration": 14,
        "start_time": "2022-04-25T10:41:13.883Z"
      },
      {
        "duration": 12,
        "start_time": "2022-04-25T10:41:31.006Z"
      },
      {
        "duration": 137,
        "start_time": "2022-04-25T10:41:34.791Z"
      },
      {
        "duration": 78,
        "start_time": "2022-04-25T10:45:32.568Z"
      },
      {
        "duration": 36,
        "start_time": "2022-04-25T10:58:17.696Z"
      },
      {
        "duration": 11,
        "start_time": "2022-04-25T11:04:18.776Z"
      },
      {
        "duration": 12,
        "start_time": "2022-04-25T11:04:28.332Z"
      },
      {
        "duration": 11,
        "start_time": "2022-04-25T11:04:46.894Z"
      },
      {
        "duration": 10,
        "start_time": "2022-04-25T11:04:59.837Z"
      },
      {
        "duration": 13,
        "start_time": "2022-04-25T11:05:29.346Z"
      },
      {
        "duration": 16,
        "start_time": "2022-04-25T11:05:54.246Z"
      },
      {
        "duration": 13,
        "start_time": "2022-04-25T11:06:02.287Z"
      },
      {
        "duration": 14,
        "start_time": "2022-04-25T11:12:22.884Z"
      },
      {
        "duration": 26,
        "start_time": "2022-04-25T11:16:10.841Z"
      },
      {
        "duration": 75,
        "start_time": "2022-04-25T11:16:26.463Z"
      },
      {
        "duration": 16,
        "start_time": "2022-04-25T11:16:36.373Z"
      },
      {
        "duration": 16,
        "start_time": "2022-04-25T11:16:56.761Z"
      },
      {
        "duration": 15,
        "start_time": "2022-04-25T11:17:14.684Z"
      },
      {
        "duration": 38,
        "start_time": "2022-04-25T11:17:36.357Z"
      },
      {
        "duration": 39,
        "start_time": "2022-04-25T11:17:48.545Z"
      },
      {
        "duration": 40,
        "start_time": "2022-04-25T11:18:03.752Z"
      },
      {
        "duration": 50,
        "start_time": "2022-04-25T11:18:11.406Z"
      },
      {
        "duration": 342,
        "start_time": "2022-04-25T11:22:34.323Z"
      },
      {
        "duration": 5,
        "start_time": "2022-04-25T11:23:03.513Z"
      },
      {
        "duration": 11,
        "start_time": "2022-04-25T11:23:16.769Z"
      },
      {
        "duration": 5,
        "start_time": "2022-04-25T11:23:20.601Z"
      },
      {
        "duration": 252,
        "start_time": "2022-04-25T11:24:16.030Z"
      },
      {
        "duration": 281,
        "start_time": "2022-04-25T11:24:21.610Z"
      },
      {
        "duration": 384,
        "start_time": "2022-04-25T11:24:28.148Z"
      },
      {
        "duration": 347,
        "start_time": "2022-04-25T11:24:43.492Z"
      },
      {
        "duration": 48,
        "start_time": "2022-04-25T11:25:52.887Z"
      },
      {
        "duration": 331,
        "start_time": "2022-04-25T11:25:54.851Z"
      },
      {
        "duration": 32,
        "start_time": "2022-04-25T11:26:00.989Z"
      },
      {
        "duration": 354,
        "start_time": "2022-04-25T11:26:02.697Z"
      },
      {
        "duration": 5,
        "start_time": "2022-04-25T11:26:10.148Z"
      },
      {
        "duration": 17,
        "start_time": "2022-04-25T11:26:45.446Z"
      },
      {
        "duration": 32,
        "start_time": "2022-04-25T11:27:22.057Z"
      },
      {
        "duration": 339,
        "start_time": "2022-04-25T11:27:23.647Z"
      },
      {
        "duration": 18,
        "start_time": "2022-04-25T11:27:26.183Z"
      },
      {
        "duration": 12,
        "start_time": "2022-04-25T11:31:39.273Z"
      },
      {
        "duration": 14,
        "start_time": "2022-04-25T11:31:48.122Z"
      },
      {
        "duration": 13,
        "start_time": "2022-04-25T11:31:59.339Z"
      },
      {
        "duration": 29,
        "start_time": "2022-04-25T11:32:36.437Z"
      },
      {
        "duration": 67,
        "start_time": "2022-04-25T11:32:46.639Z"
      },
      {
        "duration": 13,
        "start_time": "2022-04-25T11:39:08.385Z"
      },
      {
        "duration": 3,
        "start_time": "2022-04-25T11:56:42.543Z"
      },
      {
        "duration": 783,
        "start_time": "2022-04-25T11:56:42.550Z"
      },
      {
        "duration": 21,
        "start_time": "2022-04-25T11:56:43.336Z"
      },
      {
        "duration": 127,
        "start_time": "2022-04-25T11:56:43.359Z"
      },
      {
        "duration": 3,
        "start_time": "2022-04-25T11:56:43.488Z"
      },
      {
        "duration": 42,
        "start_time": "2022-04-25T11:56:43.493Z"
      },
      {
        "duration": 11,
        "start_time": "2022-04-25T11:56:43.537Z"
      },
      {
        "duration": 15,
        "start_time": "2022-04-25T11:56:43.549Z"
      },
      {
        "duration": 86,
        "start_time": "2022-04-25T11:56:43.566Z"
      },
      {
        "duration": 14,
        "start_time": "2022-04-25T11:56:43.654Z"
      },
      {
        "duration": 31,
        "start_time": "2022-04-25T11:56:43.671Z"
      },
      {
        "duration": 358,
        "start_time": "2022-04-25T11:56:43.704Z"
      },
      {
        "duration": 17,
        "start_time": "2022-04-25T11:56:44.064Z"
      },
      {
        "duration": 12,
        "start_time": "2022-04-25T11:56:44.082Z"
      },
      {
        "duration": 55,
        "start_time": "2022-04-25T11:56:44.095Z"
      },
      {
        "duration": 61,
        "start_time": "2022-04-25T11:56:44.152Z"
      },
      {
        "duration": 41,
        "start_time": "2022-04-25T11:56:44.214Z"
      },
      {
        "duration": 14,
        "start_time": "2022-04-25T11:56:44.257Z"
      },
      {
        "duration": 9,
        "start_time": "2022-04-25T11:56:44.273Z"
      },
      {
        "duration": 9,
        "start_time": "2022-04-25T11:56:44.284Z"
      },
      {
        "duration": 39,
        "start_time": "2022-04-25T11:56:44.328Z"
      },
      {
        "duration": 8,
        "start_time": "2022-04-25T11:56:44.369Z"
      },
      {
        "duration": 529,
        "start_time": "2022-04-25T11:56:44.379Z"
      },
      {
        "duration": 117,
        "start_time": "2022-04-25T11:56:44.911Z"
      },
      {
        "duration": 31,
        "start_time": "2022-04-25T11:56:45.030Z"
      },
      {
        "duration": 11,
        "start_time": "2022-04-25T12:02:30.432Z"
      },
      {
        "duration": 772,
        "start_time": "2022-04-25T12:02:30.446Z"
      },
      {
        "duration": 18,
        "start_time": "2022-04-25T12:02:31.220Z"
      },
      {
        "duration": 135,
        "start_time": "2022-04-25T12:02:31.240Z"
      },
      {
        "duration": 3,
        "start_time": "2022-04-25T12:02:31.377Z"
      },
      {
        "duration": 22,
        "start_time": "2022-04-25T12:02:31.382Z"
      },
      {
        "duration": 6,
        "start_time": "2022-04-25T12:02:31.424Z"
      },
      {
        "duration": 40,
        "start_time": "2022-04-25T12:02:31.432Z"
      },
      {
        "duration": 88,
        "start_time": "2022-04-25T12:02:31.473Z"
      },
      {
        "duration": 25,
        "start_time": "2022-04-25T12:02:31.562Z"
      },
      {
        "duration": 43,
        "start_time": "2022-04-25T12:02:31.590Z"
      },
      {
        "duration": 559,
        "start_time": "2022-04-25T12:02:31.635Z"
      },
      {
        "duration": 32,
        "start_time": "2022-04-25T12:02:32.196Z"
      },
      {
        "duration": 26,
        "start_time": "2022-04-25T12:02:32.230Z"
      },
      {
        "duration": 26,
        "start_time": "2022-04-25T12:02:32.259Z"
      },
      {
        "duration": 77,
        "start_time": "2022-04-25T12:02:32.287Z"
      },
      {
        "duration": 25,
        "start_time": "2022-04-25T12:02:32.366Z"
      },
      {
        "duration": 45,
        "start_time": "2022-04-25T12:02:32.392Z"
      },
      {
        "duration": 10,
        "start_time": "2022-04-25T12:02:32.440Z"
      },
      {
        "duration": 7,
        "start_time": "2022-04-25T12:02:32.452Z"
      },
      {
        "duration": 28,
        "start_time": "2022-04-25T12:02:32.461Z"
      },
      {
        "duration": 38,
        "start_time": "2022-04-25T12:02:32.490Z"
      },
      {
        "duration": 231,
        "start_time": "2022-04-25T12:02:32.531Z"
      },
      {
        "duration": 111,
        "start_time": "2022-04-25T12:02:32.764Z"
      },
      {
        "duration": 26,
        "start_time": "2022-04-25T12:02:32.877Z"
      },
      {
        "duration": 14,
        "start_time": "2022-04-25T12:08:59.485Z"
      },
      {
        "duration": 12,
        "start_time": "2022-04-25T12:09:05.594Z"
      },
      {
        "duration": 15,
        "start_time": "2022-04-25T12:10:29.251Z"
      },
      {
        "duration": 17,
        "start_time": "2022-04-25T12:10:29.268Z"
      },
      {
        "duration": 15,
        "start_time": "2022-04-25T12:10:29.287Z"
      },
      {
        "duration": 9,
        "start_time": "2022-04-25T12:10:29.305Z"
      },
      {
        "duration": 8,
        "start_time": "2022-04-25T12:10:29.316Z"
      },
      {
        "duration": 34,
        "start_time": "2022-04-25T12:10:29.326Z"
      },
      {
        "duration": 9,
        "start_time": "2022-04-25T12:10:29.362Z"
      },
      {
        "duration": 385,
        "start_time": "2022-04-25T12:10:29.373Z"
      },
      {
        "duration": 76,
        "start_time": "2022-04-25T12:10:29.760Z"
      },
      {
        "duration": 27,
        "start_time": "2022-04-25T12:10:29.839Z"
      },
      {
        "duration": 5,
        "start_time": "2022-04-25T12:12:14.480Z"
      },
      {
        "duration": 72,
        "start_time": "2022-04-25T12:12:19.389Z"
      },
      {
        "duration": 14,
        "start_time": "2022-04-25T12:12:46.809Z"
      },
      {
        "duration": 20,
        "start_time": "2022-04-25T12:13:25.718Z"
      },
      {
        "duration": 13,
        "start_time": "2022-04-25T12:14:05.398Z"
      },
      {
        "duration": 70,
        "start_time": "2022-04-25T12:14:21.786Z"
      },
      {
        "duration": 8,
        "start_time": "2022-04-25T12:14:46.845Z"
      },
      {
        "duration": 16,
        "start_time": "2022-04-25T12:18:20.243Z"
      },
      {
        "duration": 11,
        "start_time": "2022-04-25T12:18:54.556Z"
      },
      {
        "duration": 18,
        "start_time": "2022-04-25T12:19:01.999Z"
      },
      {
        "duration": 4,
        "start_time": "2022-04-25T12:44:24.566Z"
      },
      {
        "duration": 756,
        "start_time": "2022-04-25T12:44:24.572Z"
      },
      {
        "duration": 20,
        "start_time": "2022-04-25T12:44:25.331Z"
      },
      {
        "duration": 214,
        "start_time": "2022-04-25T12:44:25.354Z"
      },
      {
        "duration": 3,
        "start_time": "2022-04-25T12:44:25.571Z"
      },
      {
        "duration": 35,
        "start_time": "2022-04-25T12:44:25.576Z"
      },
      {
        "duration": 28,
        "start_time": "2022-04-25T12:44:25.612Z"
      },
      {
        "duration": 19,
        "start_time": "2022-04-25T12:44:25.641Z"
      },
      {
        "duration": 84,
        "start_time": "2022-04-25T12:44:25.662Z"
      },
      {
        "duration": 26,
        "start_time": "2022-04-25T12:44:25.748Z"
      },
      {
        "duration": 27,
        "start_time": "2022-04-25T12:44:25.776Z"
      },
      {
        "duration": 356,
        "start_time": "2022-04-25T12:44:25.805Z"
      },
      {
        "duration": 18,
        "start_time": "2022-04-25T12:44:26.163Z"
      },
      {
        "duration": 12,
        "start_time": "2022-04-25T12:44:26.183Z"
      },
      {
        "duration": 71,
        "start_time": "2022-04-25T12:44:26.197Z"
      },
      {
        "duration": 110,
        "start_time": "2022-04-25T12:44:26.270Z"
      },
      {
        "duration": 53,
        "start_time": "2022-04-25T12:44:26.382Z"
      },
      {
        "duration": 41,
        "start_time": "2022-04-25T12:44:26.437Z"
      },
      {
        "duration": 25,
        "start_time": "2022-04-25T12:44:26.480Z"
      },
      {
        "duration": 26,
        "start_time": "2022-04-25T12:44:26.507Z"
      },
      {
        "duration": 32,
        "start_time": "2022-04-25T12:44:26.535Z"
      },
      {
        "duration": 11,
        "start_time": "2022-04-25T12:44:26.569Z"
      },
      {
        "duration": 47,
        "start_time": "2022-04-25T12:44:26.581Z"
      },
      {
        "duration": 9,
        "start_time": "2022-04-25T12:44:26.631Z"
      },
      {
        "duration": 327,
        "start_time": "2022-04-25T12:44:26.642Z"
      },
      {
        "duration": 6,
        "start_time": "2022-04-25T12:44:26.972Z"
      },
      {
        "duration": 115,
        "start_time": "2022-04-25T12:44:26.980Z"
      },
      {
        "duration": 47,
        "start_time": "2022-04-25T12:44:27.100Z"
      },
      {
        "duration": 25,
        "start_time": "2022-04-25T12:44:27.149Z"
      },
      {
        "duration": 25,
        "start_time": "2022-04-25T12:44:27.176Z"
      },
      {
        "duration": 30,
        "start_time": "2022-04-25T12:44:27.203Z"
      },
      {
        "duration": 65,
        "start_time": "2022-04-25T12:44:27.235Z"
      },
      {
        "duration": 28,
        "start_time": "2022-04-25T12:44:27.301Z"
      },
      {
        "duration": 20,
        "start_time": "2022-04-25T12:46:00.468Z"
      },
      {
        "duration": 193,
        "start_time": "2022-04-25T12:46:48.991Z"
      },
      {
        "duration": 411,
        "start_time": "2022-04-25T12:47:10.181Z"
      },
      {
        "duration": 308,
        "start_time": "2022-04-25T12:47:37.637Z"
      },
      {
        "duration": 7,
        "start_time": "2022-04-25T12:48:12.786Z"
      },
      {
        "duration": 12,
        "start_time": "2022-04-25T12:48:21.639Z"
      },
      {
        "duration": 49,
        "start_time": "2022-04-25T12:59:33.568Z"
      },
      {
        "duration": 17,
        "start_time": "2022-04-25T13:04:52.319Z"
      },
      {
        "duration": 6,
        "start_time": "2022-04-25T13:05:12.553Z"
      },
      {
        "duration": 766,
        "start_time": "2022-04-25T13:05:12.561Z"
      },
      {
        "duration": 16,
        "start_time": "2022-04-25T13:05:13.329Z"
      },
      {
        "duration": 125,
        "start_time": "2022-04-25T13:05:13.349Z"
      },
      {
        "duration": 3,
        "start_time": "2022-04-25T13:05:13.475Z"
      },
      {
        "duration": 18,
        "start_time": "2022-04-25T13:05:13.480Z"
      },
      {
        "duration": 4,
        "start_time": "2022-04-25T13:05:13.500Z"
      },
      {
        "duration": 33,
        "start_time": "2022-04-25T13:05:13.506Z"
      },
      {
        "duration": 85,
        "start_time": "2022-04-25T13:05:13.540Z"
      },
      {
        "duration": 17,
        "start_time": "2022-04-25T13:05:13.630Z"
      },
      {
        "duration": 26,
        "start_time": "2022-04-25T13:05:13.648Z"
      },
      {
        "duration": 572,
        "start_time": "2022-04-25T13:05:13.676Z"
      },
      {
        "duration": 17,
        "start_time": "2022-04-25T13:05:14.250Z"
      },
      {
        "duration": 13,
        "start_time": "2022-04-25T13:05:14.269Z"
      },
      {
        "duration": 51,
        "start_time": "2022-04-25T13:05:14.284Z"
      },
      {
        "duration": 61,
        "start_time": "2022-04-25T13:05:14.337Z"
      },
      {
        "duration": 43,
        "start_time": "2022-04-25T13:05:14.400Z"
      },
      {
        "duration": 14,
        "start_time": "2022-04-25T13:05:14.445Z"
      },
      {
        "duration": 21,
        "start_time": "2022-04-25T13:05:15.317Z"
      },
      {
        "duration": 16,
        "start_time": "2022-04-25T13:05:15.340Z"
      },
      {
        "duration": 8,
        "start_time": "2022-04-25T13:05:15.358Z"
      },
      {
        "duration": 7,
        "start_time": "2022-04-25T13:05:15.368Z"
      },
      {
        "duration": 56,
        "start_time": "2022-04-25T13:05:15.377Z"
      },
      {
        "duration": 6,
        "start_time": "2022-04-25T13:05:15.435Z"
      },
      {
        "duration": 218,
        "start_time": "2022-04-25T13:05:15.443Z"
      },
      {
        "duration": 5,
        "start_time": "2022-04-25T13:05:15.663Z"
      },
      {
        "duration": 78,
        "start_time": "2022-04-25T13:05:15.670Z"
      },
      {
        "duration": 24,
        "start_time": "2022-04-25T13:05:15.750Z"
      },
      {
        "duration": 13,
        "start_time": "2022-04-25T13:05:15.776Z"
      },
      {
        "duration": 39,
        "start_time": "2022-04-25T13:05:15.791Z"
      },
      {
        "duration": 20,
        "start_time": "2022-04-25T13:05:15.833Z"
      },
      {
        "duration": 75,
        "start_time": "2022-04-25T13:05:15.856Z"
      },
      {
        "duration": 22,
        "start_time": "2022-04-25T13:05:15.933Z"
      },
      {
        "duration": 35,
        "start_time": "2022-04-25T13:05:15.958Z"
      },
      {
        "duration": 486,
        "start_time": "2022-04-25T13:05:15.995Z"
      },
      {
        "duration": 18,
        "start_time": "2022-04-25T13:05:16.484Z"
      },
      {
        "duration": 95,
        "start_time": "2022-04-25T13:05:16.504Z"
      },
      {
        "duration": 23,
        "start_time": "2022-04-25T13:05:41.824Z"
      },
      {
        "duration": 20,
        "start_time": "2022-04-25T13:05:45.657Z"
      },
      {
        "duration": 6,
        "start_time": "2022-04-25T13:05:45.678Z"
      },
      {
        "duration": 208,
        "start_time": "2022-04-25T13:05:45.685Z"
      },
      {
        "duration": 5,
        "start_time": "2022-04-25T13:05:45.895Z"
      },
      {
        "duration": 63,
        "start_time": "2022-04-25T13:05:45.902Z"
      },
      {
        "duration": 20,
        "start_time": "2022-04-25T13:05:45.967Z"
      },
      {
        "duration": 15,
        "start_time": "2022-04-25T13:05:45.989Z"
      },
      {
        "duration": 28,
        "start_time": "2022-04-25T13:05:46.006Z"
      },
      {
        "duration": 23,
        "start_time": "2022-04-25T13:05:46.037Z"
      },
      {
        "duration": 48,
        "start_time": "2022-04-25T13:05:46.062Z"
      },
      {
        "duration": 14,
        "start_time": "2022-04-25T13:05:46.124Z"
      },
      {
        "duration": 20,
        "start_time": "2022-04-25T13:05:46.140Z"
      },
      {
        "duration": 301,
        "start_time": "2022-04-25T13:05:46.162Z"
      },
      {
        "duration": 12,
        "start_time": "2022-04-25T13:05:46.466Z"
      },
      {
        "duration": 70,
        "start_time": "2022-04-25T13:05:46.479Z"
      },
      {
        "duration": 5,
        "start_time": "2022-04-25T13:08:00.683Z"
      },
      {
        "duration": 221,
        "start_time": "2022-04-25T13:08:02.706Z"
      },
      {
        "duration": 5,
        "start_time": "2022-04-25T13:08:06.670Z"
      },
      {
        "duration": 53,
        "start_time": "2022-04-25T13:08:08.594Z"
      },
      {
        "duration": 20,
        "start_time": "2022-04-25T13:08:13.272Z"
      },
      {
        "duration": 4,
        "start_time": "2022-04-25T13:08:24.978Z"
      },
      {
        "duration": 783,
        "start_time": "2022-04-25T13:08:24.984Z"
      },
      {
        "duration": 14,
        "start_time": "2022-04-25T13:08:25.769Z"
      },
      {
        "duration": 137,
        "start_time": "2022-04-25T13:08:25.785Z"
      },
      {
        "duration": 13,
        "start_time": "2022-04-25T13:08:25.924Z"
      },
      {
        "duration": 34,
        "start_time": "2022-04-25T13:08:25.939Z"
      },
      {
        "duration": 25,
        "start_time": "2022-04-25T13:08:25.975Z"
      },
      {
        "duration": 42,
        "start_time": "2022-04-25T13:08:26.001Z"
      },
      {
        "duration": 86,
        "start_time": "2022-04-25T13:08:26.045Z"
      },
      {
        "duration": 18,
        "start_time": "2022-04-25T13:08:26.133Z"
      },
      {
        "duration": 42,
        "start_time": "2022-04-25T13:08:26.153Z"
      },
      {
        "duration": 506,
        "start_time": "2022-04-25T13:08:26.196Z"
      },
      {
        "duration": 26,
        "start_time": "2022-04-25T13:08:26.705Z"
      },
      {
        "duration": 15,
        "start_time": "2022-04-25T13:08:26.733Z"
      },
      {
        "duration": 52,
        "start_time": "2022-04-25T13:08:26.749Z"
      },
      {
        "duration": 64,
        "start_time": "2022-04-25T13:08:26.803Z"
      },
      {
        "duration": 25,
        "start_time": "2022-04-25T13:08:26.868Z"
      },
      {
        "duration": 40,
        "start_time": "2022-04-25T13:08:26.895Z"
      },
      {
        "duration": 28,
        "start_time": "2022-04-25T13:08:26.937Z"
      },
      {
        "duration": 20,
        "start_time": "2022-04-25T13:08:26.967Z"
      },
      {
        "duration": 8,
        "start_time": "2022-04-25T13:08:26.989Z"
      },
      {
        "duration": 13,
        "start_time": "2022-04-25T13:08:26.998Z"
      },
      {
        "duration": 40,
        "start_time": "2022-04-25T13:08:27.012Z"
      },
      {
        "duration": 6,
        "start_time": "2022-04-25T13:08:27.054Z"
      },
      {
        "duration": 212,
        "start_time": "2022-04-25T13:08:27.062Z"
      },
      {
        "duration": 5,
        "start_time": "2022-04-25T13:08:27.276Z"
      },
      {
        "duration": 85,
        "start_time": "2022-04-25T13:08:27.283Z"
      },
      {
        "duration": 25,
        "start_time": "2022-04-25T13:08:27.372Z"
      },
      {
        "duration": 30,
        "start_time": "2022-04-25T13:08:27.399Z"
      },
      {
        "duration": 18,
        "start_time": "2022-04-25T13:08:27.433Z"
      },
      {
        "duration": 31,
        "start_time": "2022-04-25T13:08:27.453Z"
      },
      {
        "duration": 82,
        "start_time": "2022-04-25T13:08:27.485Z"
      },
      {
        "duration": 21,
        "start_time": "2022-04-25T13:08:27.568Z"
      },
      {
        "duration": 19,
        "start_time": "2022-04-25T13:08:27.591Z"
      },
      {
        "duration": 295,
        "start_time": "2022-04-25T13:08:27.611Z"
      },
      {
        "duration": 21,
        "start_time": "2022-04-25T13:08:27.908Z"
      },
      {
        "duration": 57,
        "start_time": "2022-04-25T13:08:27.931Z"
      },
      {
        "duration": 27,
        "start_time": "2022-04-25T13:10:52.828Z"
      },
      {
        "duration": 20,
        "start_time": "2022-04-25T13:13:24.200Z"
      },
      {
        "duration": 11,
        "start_time": "2022-04-25T13:54:58.115Z"
      },
      {
        "duration": 137,
        "start_time": "2022-04-25T13:55:34.983Z"
      },
      {
        "duration": 29,
        "start_time": "2022-04-25T13:57:21.101Z"
      },
      {
        "duration": 34,
        "start_time": "2022-04-25T13:57:30.659Z"
      },
      {
        "duration": 234,
        "start_time": "2022-04-25T13:58:10.855Z"
      },
      {
        "duration": 10,
        "start_time": "2022-04-25T14:02:00.124Z"
      },
      {
        "duration": 35,
        "start_time": "2022-04-25T14:02:14.575Z"
      },
      {
        "duration": 36,
        "start_time": "2022-04-25T14:04:51.790Z"
      },
      {
        "duration": 35,
        "start_time": "2022-04-25T14:05:19.053Z"
      },
      {
        "duration": 36,
        "start_time": "2022-04-25T14:05:24.956Z"
      },
      {
        "duration": 38,
        "start_time": "2022-04-25T14:05:50.336Z"
      },
      {
        "duration": 174,
        "start_time": "2022-04-25T14:06:17.147Z"
      },
      {
        "duration": 34,
        "start_time": "2022-04-25T14:06:38.136Z"
      },
      {
        "duration": 10,
        "start_time": "2022-04-25T14:11:54.090Z"
      },
      {
        "duration": 9,
        "start_time": "2022-04-25T14:12:02.350Z"
      },
      {
        "duration": 210,
        "start_time": "2022-04-25T14:16:06.119Z"
      },
      {
        "duration": 27,
        "start_time": "2022-04-25T14:16:17.678Z"
      },
      {
        "duration": 29,
        "start_time": "2022-04-25T14:16:20.772Z"
      },
      {
        "duration": 34,
        "start_time": "2022-04-25T14:16:34.950Z"
      },
      {
        "duration": 25,
        "start_time": "2022-04-25T14:19:10.274Z"
      },
      {
        "duration": 127,
        "start_time": "2022-04-25T14:19:17.387Z"
      },
      {
        "duration": 2042,
        "start_time": "2022-04-25T14:23:46.948Z"
      },
      {
        "duration": 79,
        "start_time": "2022-04-25T14:24:55.064Z"
      },
      {
        "duration": 1964,
        "start_time": "2022-04-25T14:25:07.127Z"
      },
      {
        "duration": 37,
        "start_time": "2022-04-25T14:25:29.722Z"
      },
      {
        "duration": 1813,
        "start_time": "2022-04-25T14:25:37.975Z"
      },
      {
        "duration": 33,
        "start_time": "2022-04-25T14:28:29.171Z"
      },
      {
        "duration": 10,
        "start_time": "2022-04-25T14:28:34.373Z"
      },
      {
        "duration": 10,
        "start_time": "2022-04-25T14:29:50.980Z"
      },
      {
        "duration": 4,
        "start_time": "2022-04-25T14:30:01.539Z"
      },
      {
        "duration": 8,
        "start_time": "2022-04-25T14:30:12.369Z"
      },
      {
        "duration": 2399,
        "start_time": "2022-04-26T09:14:01.421Z"
      },
      {
        "duration": 936,
        "start_time": "2022-04-26T09:14:03.822Z"
      },
      {
        "duration": 23,
        "start_time": "2022-04-26T09:14:04.761Z"
      },
      {
        "duration": 199,
        "start_time": "2022-04-26T09:14:04.786Z"
      },
      {
        "duration": 4,
        "start_time": "2022-04-26T09:14:04.987Z"
      },
      {
        "duration": 44,
        "start_time": "2022-04-26T09:14:04.993Z"
      },
      {
        "duration": 18,
        "start_time": "2022-04-26T09:14:05.039Z"
      },
      {
        "duration": 16,
        "start_time": "2022-04-26T09:14:05.059Z"
      },
      {
        "duration": 97,
        "start_time": "2022-04-26T09:14:05.077Z"
      },
      {
        "duration": 13,
        "start_time": "2022-04-26T09:14:05.177Z"
      },
      {
        "duration": 34,
        "start_time": "2022-04-26T09:14:05.192Z"
      },
      {
        "duration": 538,
        "start_time": "2022-04-26T09:14:05.228Z"
      },
      {
        "duration": 21,
        "start_time": "2022-04-26T09:14:05.768Z"
      },
      {
        "duration": 14,
        "start_time": "2022-04-26T09:14:05.791Z"
      },
      {
        "duration": 62,
        "start_time": "2022-04-26T09:14:05.807Z"
      },
      {
        "duration": 117,
        "start_time": "2022-04-26T09:14:05.871Z"
      },
      {
        "duration": 42,
        "start_time": "2022-04-26T09:14:05.991Z"
      },
      {
        "duration": 39,
        "start_time": "2022-04-26T09:14:06.035Z"
      },
      {
        "duration": 33,
        "start_time": "2022-04-26T09:14:06.076Z"
      },
      {
        "duration": 23,
        "start_time": "2022-04-26T09:14:06.111Z"
      },
      {
        "duration": 27,
        "start_time": "2022-04-26T09:14:06.136Z"
      },
      {
        "duration": 10,
        "start_time": "2022-04-26T09:14:06.165Z"
      },
      {
        "duration": 160,
        "start_time": "2022-04-26T09:14:06.177Z"
      },
      {
        "duration": 7,
        "start_time": "2022-04-26T09:14:06.339Z"
      },
      {
        "duration": 320,
        "start_time": "2022-04-26T09:14:06.355Z"
      },
      {
        "duration": 6,
        "start_time": "2022-04-26T09:14:06.677Z"
      },
      {
        "duration": 122,
        "start_time": "2022-04-26T09:14:06.685Z"
      },
      {
        "duration": 48,
        "start_time": "2022-04-26T09:14:06.811Z"
      },
      {
        "duration": 26,
        "start_time": "2022-04-26T09:14:06.862Z"
      },
      {
        "duration": 24,
        "start_time": "2022-04-26T09:14:06.891Z"
      },
      {
        "duration": 40,
        "start_time": "2022-04-26T09:14:06.917Z"
      },
      {
        "duration": 121,
        "start_time": "2022-04-26T09:14:06.959Z"
      },
      {
        "duration": 17,
        "start_time": "2022-04-26T09:14:07.082Z"
      },
      {
        "duration": 30,
        "start_time": "2022-04-26T09:14:07.102Z"
      },
      {
        "duration": 441,
        "start_time": "2022-04-26T09:14:07.134Z"
      },
      {
        "duration": 18,
        "start_time": "2022-04-26T09:14:07.577Z"
      },
      {
        "duration": 105,
        "start_time": "2022-04-26T09:14:07.597Z"
      },
      {
        "duration": 12,
        "start_time": "2022-04-26T09:14:07.704Z"
      },
      {
        "duration": 56,
        "start_time": "2022-04-26T09:14:07.718Z"
      },
      {
        "duration": 8,
        "start_time": "2022-04-26T09:14:07.775Z"
      },
      {
        "duration": 36,
        "start_time": "2022-04-26T09:23:16.667Z"
      },
      {
        "duration": 307,
        "start_time": "2022-04-26T09:24:19.338Z"
      },
      {
        "duration": 44,
        "start_time": "2022-04-26T09:24:28.243Z"
      },
      {
        "duration": 21,
        "start_time": "2022-04-26T09:27:22.825Z"
      },
      {
        "duration": 13,
        "start_time": "2022-04-26T09:27:39.169Z"
      },
      {
        "duration": 98,
        "start_time": "2022-04-26T09:28:51.883Z"
      },
      {
        "duration": 23,
        "start_time": "2022-04-26T09:29:31.826Z"
      },
      {
        "duration": 12,
        "start_time": "2022-04-26T09:29:56.943Z"
      },
      {
        "duration": 14,
        "start_time": "2022-04-26T09:31:46.598Z"
      },
      {
        "duration": 12,
        "start_time": "2022-04-26T09:31:59.176Z"
      },
      {
        "duration": 12,
        "start_time": "2022-04-26T09:32:21.196Z"
      },
      {
        "duration": 55,
        "start_time": "2022-04-26T09:32:31.775Z"
      },
      {
        "duration": 21,
        "start_time": "2022-04-26T09:33:07.330Z"
      },
      {
        "duration": 12,
        "start_time": "2022-04-26T09:33:38.161Z"
      },
      {
        "duration": 23,
        "start_time": "2022-04-26T09:34:32.374Z"
      },
      {
        "duration": 13,
        "start_time": "2022-04-26T09:34:44.911Z"
      },
      {
        "duration": 24,
        "start_time": "2022-04-26T09:42:27.787Z"
      },
      {
        "duration": 418,
        "start_time": "2022-04-26T09:42:29.552Z"
      },
      {
        "duration": 14,
        "start_time": "2022-04-26T09:42:32.771Z"
      },
      {
        "duration": 16,
        "start_time": "2022-04-26T09:43:42.324Z"
      },
      {
        "duration": 418,
        "start_time": "2022-04-26T09:43:48.771Z"
      },
      {
        "duration": 16,
        "start_time": "2022-04-26T09:44:07.457Z"
      },
      {
        "duration": 4,
        "start_time": "2022-04-26T09:44:11.854Z"
      },
      {
        "duration": 1085,
        "start_time": "2022-04-26T09:44:11.860Z"
      },
      {
        "duration": 21,
        "start_time": "2022-04-26T09:44:12.947Z"
      },
      {
        "duration": 241,
        "start_time": "2022-04-26T09:44:12.971Z"
      },
      {
        "duration": 4,
        "start_time": "2022-04-26T09:44:13.214Z"
      },
      {
        "duration": 44,
        "start_time": "2022-04-26T09:44:13.220Z"
      },
      {
        "duration": 12,
        "start_time": "2022-04-26T09:44:13.265Z"
      },
      {
        "duration": 19,
        "start_time": "2022-04-26T09:44:13.279Z"
      },
      {
        "duration": 93,
        "start_time": "2022-04-26T09:44:13.300Z"
      },
      {
        "duration": 15,
        "start_time": "2022-04-26T09:44:13.396Z"
      },
      {
        "duration": 44,
        "start_time": "2022-04-26T09:44:13.413Z"
      },
      {
        "duration": 319,
        "start_time": "2022-04-26T09:44:13.458Z"
      },
      {
        "duration": 16,
        "start_time": "2022-04-26T09:44:13.779Z"
      },
      {
        "duration": 94,
        "start_time": "2022-04-26T09:44:13.797Z"
      },
      {
        "duration": 31,
        "start_time": "2022-04-26T09:44:13.893Z"
      },
      {
        "duration": 37,
        "start_time": "2022-04-26T09:44:13.926Z"
      },
      {
        "duration": 21,
        "start_time": "2022-04-26T09:44:13.965Z"
      },
      {
        "duration": 16,
        "start_time": "2022-04-26T09:44:13.988Z"
      },
      {
        "duration": 9,
        "start_time": "2022-04-26T09:44:14.005Z"
      },
      {
        "duration": 12,
        "start_time": "2022-04-26T09:44:14.015Z"
      },
      {
        "duration": 48,
        "start_time": "2022-04-26T09:44:14.029Z"
      },
      {
        "duration": 6,
        "start_time": "2022-04-26T09:44:14.079Z"
      },
      {
        "duration": 199,
        "start_time": "2022-04-26T09:44:14.087Z"
      },
      {
        "duration": 5,
        "start_time": "2022-04-26T09:44:14.288Z"
      },
      {
        "duration": 102,
        "start_time": "2022-04-26T09:44:14.294Z"
      },
      {
        "duration": 31,
        "start_time": "2022-04-26T09:44:14.398Z"
      },
      {
        "duration": 32,
        "start_time": "2022-04-26T09:44:14.431Z"
      },
      {
        "duration": 20,
        "start_time": "2022-04-26T09:44:14.467Z"
      },
      {
        "duration": 17,
        "start_time": "2022-04-26T09:44:14.489Z"
      },
      {
        "duration": 101,
        "start_time": "2022-04-26T09:44:14.508Z"
      },
      {
        "duration": 16,
        "start_time": "2022-04-26T09:44:14.611Z"
      },
      {
        "duration": 43,
        "start_time": "2022-04-26T09:44:14.629Z"
      },
      {
        "duration": 399,
        "start_time": "2022-04-26T09:44:14.674Z"
      },
      {
        "duration": 15,
        "start_time": "2022-04-26T09:44:15.076Z"
      },
      {
        "duration": 79,
        "start_time": "2022-04-26T09:44:15.093Z"
      },
      {
        "duration": 15,
        "start_time": "2022-04-26T09:44:15.174Z"
      },
      {
        "duration": 41,
        "start_time": "2022-04-26T09:44:15.191Z"
      },
      {
        "duration": 16,
        "start_time": "2022-04-26T09:44:15.254Z"
      },
      {
        "duration": 26,
        "start_time": "2022-04-26T09:44:15.271Z"
      },
      {
        "duration": 31,
        "start_time": "2022-04-26T09:44:15.299Z"
      },
      {
        "duration": 15,
        "start_time": "2022-04-26T09:44:15.332Z"
      },
      {
        "duration": 16,
        "start_time": "2022-04-26T09:44:15.355Z"
      },
      {
        "duration": 17,
        "start_time": "2022-04-26T09:44:15.373Z"
      },
      {
        "duration": 31,
        "start_time": "2022-04-26T09:44:15.391Z"
      },
      {
        "duration": 34,
        "start_time": "2022-04-26T09:44:15.424Z"
      },
      {
        "duration": 21,
        "start_time": "2022-04-26T09:44:15.460Z"
      },
      {
        "duration": 15,
        "start_time": "2022-04-26T09:44:15.483Z"
      },
      {
        "duration": 21,
        "start_time": "2022-04-26T09:47:42.418Z"
      },
      {
        "duration": 5,
        "start_time": "2022-04-26T09:47:46.811Z"
      },
      {
        "duration": 729,
        "start_time": "2022-04-26T09:47:46.818Z"
      },
      {
        "duration": 15,
        "start_time": "2022-04-26T09:47:47.549Z"
      },
      {
        "duration": 133,
        "start_time": "2022-04-26T09:47:47.566Z"
      },
      {
        "duration": 3,
        "start_time": "2022-04-26T09:47:47.701Z"
      },
      {
        "duration": 29,
        "start_time": "2022-04-26T09:47:47.705Z"
      },
      {
        "duration": 4,
        "start_time": "2022-04-26T09:47:47.736Z"
      },
      {
        "duration": 12,
        "start_time": "2022-04-26T09:47:47.754Z"
      },
      {
        "duration": 98,
        "start_time": "2022-04-26T09:47:47.768Z"
      },
      {
        "duration": 13,
        "start_time": "2022-04-26T09:47:47.868Z"
      },
      {
        "duration": 29,
        "start_time": "2022-04-26T09:47:47.883Z"
      },
      {
        "duration": 325,
        "start_time": "2022-04-26T09:47:47.914Z"
      },
      {
        "duration": 26,
        "start_time": "2022-04-26T09:47:48.241Z"
      },
      {
        "duration": 84,
        "start_time": "2022-04-26T09:49:56.808Z"
      },
      {
        "duration": 22,
        "start_time": "2022-04-26T09:50:07.048Z"
      },
      {
        "duration": 17,
        "start_time": "2022-04-26T09:50:08.723Z"
      },
      {
        "duration": 82,
        "start_time": "2022-04-26T09:50:10.289Z"
      },
      {
        "duration": 4,
        "start_time": "2022-04-26T09:50:14.939Z"
      },
      {
        "duration": 801,
        "start_time": "2022-04-26T09:50:14.945Z"
      },
      {
        "duration": 14,
        "start_time": "2022-04-26T09:50:15.748Z"
      },
      {
        "duration": 138,
        "start_time": "2022-04-26T09:50:15.765Z"
      },
      {
        "duration": 4,
        "start_time": "2022-04-26T09:50:15.905Z"
      },
      {
        "duration": 31,
        "start_time": "2022-04-26T09:50:15.910Z"
      },
      {
        "duration": 3,
        "start_time": "2022-04-26T09:50:15.955Z"
      },
      {
        "duration": 15,
        "start_time": "2022-04-26T09:50:15.960Z"
      },
      {
        "duration": 95,
        "start_time": "2022-04-26T09:50:15.977Z"
      },
      {
        "duration": 13,
        "start_time": "2022-04-26T09:50:16.075Z"
      },
      {
        "duration": 31,
        "start_time": "2022-04-26T09:50:16.089Z"
      },
      {
        "duration": 334,
        "start_time": "2022-04-26T09:50:16.122Z"
      },
      {
        "duration": 17,
        "start_time": "2022-04-26T09:50:16.458Z"
      },
      {
        "duration": 30,
        "start_time": "2022-04-26T09:50:16.477Z"
      },
      {
        "duration": 93,
        "start_time": "2022-04-26T09:50:16.509Z"
      },
      {
        "duration": 31,
        "start_time": "2022-04-26T09:50:16.604Z"
      },
      {
        "duration": 29,
        "start_time": "2022-04-26T09:50:16.637Z"
      },
      {
        "duration": 20,
        "start_time": "2022-04-26T09:50:16.668Z"
      },
      {
        "duration": 15,
        "start_time": "2022-04-26T09:50:16.690Z"
      },
      {
        "duration": 15,
        "start_time": "2022-04-26T09:50:16.707Z"
      },
      {
        "duration": 11,
        "start_time": "2022-04-26T09:50:16.723Z"
      },
      {
        "duration": 29,
        "start_time": "2022-04-26T09:50:16.755Z"
      },
      {
        "duration": 6,
        "start_time": "2022-04-26T09:50:16.785Z"
      },
      {
        "duration": 221,
        "start_time": "2022-04-26T09:50:16.793Z"
      },
      {
        "duration": 5,
        "start_time": "2022-04-26T09:50:17.015Z"
      },
      {
        "duration": 86,
        "start_time": "2022-04-26T09:50:17.022Z"
      },
      {
        "duration": 30,
        "start_time": "2022-04-26T09:50:17.110Z"
      },
      {
        "duration": 15,
        "start_time": "2022-04-26T09:50:17.154Z"
      },
      {
        "duration": 20,
        "start_time": "2022-04-26T09:50:17.171Z"
      },
      {
        "duration": 15,
        "start_time": "2022-04-26T09:50:17.193Z"
      },
      {
        "duration": 97,
        "start_time": "2022-04-26T09:50:17.210Z"
      },
      {
        "duration": 14,
        "start_time": "2022-04-26T09:50:17.309Z"
      },
      {
        "duration": 38,
        "start_time": "2022-04-26T09:50:17.325Z"
      },
      {
        "duration": 271,
        "start_time": "2022-04-26T09:50:17.365Z"
      },
      {
        "duration": 27,
        "start_time": "2022-04-26T09:50:17.637Z"
      },
      {
        "duration": 60,
        "start_time": "2022-04-26T09:50:17.665Z"
      },
      {
        "duration": 29,
        "start_time": "2022-04-26T09:50:17.727Z"
      },
      {
        "duration": 46,
        "start_time": "2022-04-26T09:50:17.757Z"
      },
      {
        "duration": 13,
        "start_time": "2022-04-26T09:50:17.805Z"
      },
      {
        "duration": 33,
        "start_time": "2022-04-26T09:50:17.820Z"
      },
      {
        "duration": 48,
        "start_time": "2022-04-26T09:50:17.855Z"
      },
      {
        "duration": 28,
        "start_time": "2022-04-26T09:50:17.904Z"
      },
      {
        "duration": 24,
        "start_time": "2022-04-26T09:50:17.933Z"
      },
      {
        "duration": 27,
        "start_time": "2022-04-26T09:50:17.959Z"
      },
      {
        "duration": 32,
        "start_time": "2022-04-26T09:50:17.987Z"
      },
      {
        "duration": 25,
        "start_time": "2022-04-26T09:50:18.021Z"
      },
      {
        "duration": 30,
        "start_time": "2022-04-26T09:50:18.048Z"
      },
      {
        "duration": 13,
        "start_time": "2022-04-26T09:50:18.080Z"
      },
      {
        "duration": 91,
        "start_time": "2022-04-26T09:50:18.094Z"
      },
      {
        "duration": 4,
        "start_time": "2022-04-26T10:42:26.165Z"
      },
      {
        "duration": 854,
        "start_time": "2022-04-26T10:42:26.170Z"
      },
      {
        "duration": 14,
        "start_time": "2022-04-26T10:42:27.025Z"
      },
      {
        "duration": 264,
        "start_time": "2022-04-26T10:42:27.042Z"
      },
      {
        "duration": 10,
        "start_time": "2022-04-26T10:42:27.308Z"
      },
      {
        "duration": 39,
        "start_time": "2022-04-26T10:42:27.319Z"
      },
      {
        "duration": 7,
        "start_time": "2022-04-26T10:42:27.361Z"
      },
      {
        "duration": 41,
        "start_time": "2022-04-26T10:42:27.369Z"
      },
      {
        "duration": 139,
        "start_time": "2022-04-26T10:42:27.412Z"
      },
      {
        "duration": 22,
        "start_time": "2022-04-26T10:42:27.554Z"
      },
      {
        "duration": 33,
        "start_time": "2022-04-26T10:42:27.577Z"
      },
      {
        "duration": 471,
        "start_time": "2022-04-26T10:42:27.612Z"
      },
      {
        "duration": 20,
        "start_time": "2022-04-26T10:42:28.085Z"
      },
      {
        "duration": 37,
        "start_time": "2022-04-26T10:42:28.107Z"
      },
      {
        "duration": 76,
        "start_time": "2022-04-26T10:42:28.154Z"
      },
      {
        "duration": 51,
        "start_time": "2022-04-26T10:42:28.232Z"
      },
      {
        "duration": 30,
        "start_time": "2022-04-26T10:42:28.285Z"
      },
      {
        "duration": 38,
        "start_time": "2022-04-26T10:42:28.317Z"
      },
      {
        "duration": 30,
        "start_time": "2022-04-26T10:42:28.357Z"
      },
      {
        "duration": 34,
        "start_time": "2022-04-26T10:42:28.388Z"
      },
      {
        "duration": 18,
        "start_time": "2022-04-26T10:42:28.423Z"
      },
      {
        "duration": 42,
        "start_time": "2022-04-26T10:42:28.443Z"
      },
      {
        "duration": 7,
        "start_time": "2022-04-26T10:42:28.487Z"
      },
      {
        "duration": 225,
        "start_time": "2022-04-26T10:42:28.496Z"
      },
      {
        "duration": 5,
        "start_time": "2022-04-26T10:42:28.723Z"
      },
      {
        "duration": 156,
        "start_time": "2022-04-26T10:42:28.730Z"
      },
      {
        "duration": 33,
        "start_time": "2022-04-26T10:42:28.887Z"
      },
      {
        "duration": 39,
        "start_time": "2022-04-26T10:42:28.925Z"
      },
      {
        "duration": 47,
        "start_time": "2022-04-26T10:42:28.966Z"
      },
      {
        "duration": 33,
        "start_time": "2022-04-26T10:42:29.015Z"
      },
      {
        "duration": 78,
        "start_time": "2022-04-26T10:42:29.050Z"
      },
      {
        "duration": 26,
        "start_time": "2022-04-26T10:42:29.130Z"
      },
      {
        "duration": 40,
        "start_time": "2022-04-26T10:42:29.159Z"
      },
      {
        "duration": 285,
        "start_time": "2022-04-26T10:42:29.201Z"
      },
      {
        "duration": 14,
        "start_time": "2022-04-26T10:42:29.488Z"
      },
      {
        "duration": 129,
        "start_time": "2022-04-26T10:42:29.504Z"
      },
      {
        "duration": 33,
        "start_time": "2022-04-26T10:42:29.636Z"
      },
      {
        "duration": 75,
        "start_time": "2022-04-26T10:42:29.671Z"
      },
      {
        "duration": 140,
        "start_time": "2022-04-26T10:42:29.748Z"
      },
      {
        "duration": 0,
        "start_time": "2022-04-26T10:42:29.891Z"
      },
      {
        "duration": 0,
        "start_time": "2022-04-26T10:42:29.892Z"
      },
      {
        "duration": 0,
        "start_time": "2022-04-26T10:42:29.893Z"
      },
      {
        "duration": 0,
        "start_time": "2022-04-26T10:42:29.894Z"
      },
      {
        "duration": 0,
        "start_time": "2022-04-26T10:42:29.895Z"
      },
      {
        "duration": 0,
        "start_time": "2022-04-26T10:42:29.896Z"
      },
      {
        "duration": 0,
        "start_time": "2022-04-26T10:42:29.898Z"
      },
      {
        "duration": 0,
        "start_time": "2022-04-26T10:42:29.900Z"
      },
      {
        "duration": 0,
        "start_time": "2022-04-26T10:42:29.901Z"
      },
      {
        "duration": 0,
        "start_time": "2022-04-26T10:42:29.901Z"
      },
      {
        "duration": 0,
        "start_time": "2022-04-26T10:42:29.903Z"
      },
      {
        "duration": 121,
        "start_time": "2022-04-26T10:42:39.348Z"
      },
      {
        "duration": 0,
        "start_time": "2022-04-26T10:42:39.471Z"
      },
      {
        "duration": 0,
        "start_time": "2022-04-26T10:42:39.472Z"
      },
      {
        "duration": 0,
        "start_time": "2022-04-26T10:42:39.473Z"
      },
      {
        "duration": 0,
        "start_time": "2022-04-26T10:42:39.474Z"
      },
      {
        "duration": 0,
        "start_time": "2022-04-26T10:42:39.474Z"
      },
      {
        "duration": 0,
        "start_time": "2022-04-26T10:42:39.475Z"
      },
      {
        "duration": 0,
        "start_time": "2022-04-26T10:42:39.476Z"
      },
      {
        "duration": 0,
        "start_time": "2022-04-26T10:42:39.477Z"
      },
      {
        "duration": 0,
        "start_time": "2022-04-26T10:42:39.478Z"
      },
      {
        "duration": 1,
        "start_time": "2022-04-26T10:42:39.479Z"
      },
      {
        "duration": 0,
        "start_time": "2022-04-26T10:42:39.480Z"
      },
      {
        "duration": 3,
        "start_time": "2022-04-26T10:42:55.347Z"
      },
      {
        "duration": 28,
        "start_time": "2022-04-26T10:42:55.352Z"
      },
      {
        "duration": 20,
        "start_time": "2022-04-26T10:42:55.382Z"
      },
      {
        "duration": 41,
        "start_time": "2022-04-26T10:42:55.404Z"
      },
      {
        "duration": 25,
        "start_time": "2022-04-26T10:42:55.447Z"
      },
      {
        "duration": 80,
        "start_time": "2022-04-26T10:42:55.474Z"
      },
      {
        "duration": 14,
        "start_time": "2022-04-26T10:42:55.556Z"
      },
      {
        "duration": 43,
        "start_time": "2022-04-26T10:42:55.572Z"
      },
      {
        "duration": 42,
        "start_time": "2022-04-26T10:42:55.617Z"
      },
      {
        "duration": 34,
        "start_time": "2022-04-26T10:42:55.661Z"
      },
      {
        "duration": 13,
        "start_time": "2022-04-26T10:42:55.697Z"
      },
      {
        "duration": 73,
        "start_time": "2022-04-26T10:42:55.711Z"
      },
      {
        "duration": 54,
        "start_time": "2022-04-26T11:09:19.472Z"
      },
      {
        "duration": 66,
        "start_time": "2022-04-26T11:09:45.171Z"
      },
      {
        "duration": 37,
        "start_time": "2022-04-26T11:09:52.962Z"
      },
      {
        "duration": 11,
        "start_time": "2022-04-26T11:10:33.134Z"
      },
      {
        "duration": 814,
        "start_time": "2022-04-26T11:10:33.147Z"
      },
      {
        "duration": 21,
        "start_time": "2022-04-26T11:10:33.963Z"
      },
      {
        "duration": 231,
        "start_time": "2022-04-26T11:10:33.986Z"
      },
      {
        "duration": 4,
        "start_time": "2022-04-26T11:10:34.219Z"
      },
      {
        "duration": 49,
        "start_time": "2022-04-26T11:10:34.224Z"
      },
      {
        "duration": 8,
        "start_time": "2022-04-26T11:10:34.275Z"
      },
      {
        "duration": 18,
        "start_time": "2022-04-26T11:10:34.285Z"
      },
      {
        "duration": 97,
        "start_time": "2022-04-26T11:10:34.305Z"
      },
      {
        "duration": 22,
        "start_time": "2022-04-26T11:10:34.406Z"
      },
      {
        "duration": 43,
        "start_time": "2022-04-26T11:10:34.430Z"
      },
      {
        "duration": 372,
        "start_time": "2022-04-26T11:10:34.474Z"
      },
      {
        "duration": 26,
        "start_time": "2022-04-26T11:10:34.848Z"
      },
      {
        "duration": 29,
        "start_time": "2022-04-26T11:10:34.876Z"
      },
      {
        "duration": 86,
        "start_time": "2022-04-26T11:10:34.907Z"
      },
      {
        "duration": 37,
        "start_time": "2022-04-26T11:10:34.995Z"
      },
      {
        "duration": 38,
        "start_time": "2022-04-26T11:10:35.035Z"
      },
      {
        "duration": 31,
        "start_time": "2022-04-26T11:10:35.075Z"
      },
      {
        "duration": 27,
        "start_time": "2022-04-26T11:10:35.109Z"
      },
      {
        "duration": 19,
        "start_time": "2022-04-26T11:10:35.138Z"
      },
      {
        "duration": 11,
        "start_time": "2022-04-26T11:10:35.160Z"
      },
      {
        "duration": 32,
        "start_time": "2022-04-26T11:10:35.173Z"
      },
      {
        "duration": 8,
        "start_time": "2022-04-26T11:10:35.208Z"
      },
      {
        "duration": 436,
        "start_time": "2022-04-26T11:10:35.218Z"
      },
      {
        "duration": 7,
        "start_time": "2022-04-26T11:10:35.656Z"
      },
      {
        "duration": 142,
        "start_time": "2022-04-26T11:10:35.665Z"
      },
      {
        "duration": 61,
        "start_time": "2022-04-26T11:10:35.809Z"
      },
      {
        "duration": 21,
        "start_time": "2022-04-26T11:10:35.875Z"
      },
      {
        "duration": 23,
        "start_time": "2022-04-26T11:10:35.897Z"
      },
      {
        "duration": 33,
        "start_time": "2022-04-26T11:10:35.922Z"
      },
      {
        "duration": 77,
        "start_time": "2022-04-26T11:10:35.957Z"
      },
      {
        "duration": 34,
        "start_time": "2022-04-26T11:10:36.035Z"
      },
      {
        "duration": 22,
        "start_time": "2022-04-26T11:10:36.070Z"
      },
      {
        "duration": 295,
        "start_time": "2022-04-26T11:10:36.094Z"
      },
      {
        "duration": 14,
        "start_time": "2022-04-26T11:10:36.391Z"
      },
      {
        "duration": 78,
        "start_time": "2022-04-26T11:10:36.407Z"
      },
      {
        "duration": 14,
        "start_time": "2022-04-26T11:10:36.487Z"
      },
      {
        "duration": 63,
        "start_time": "2022-04-26T11:10:36.502Z"
      },
      {
        "duration": 16,
        "start_time": "2022-04-26T11:10:36.567Z"
      },
      {
        "duration": 18,
        "start_time": "2022-04-26T11:10:36.585Z"
      },
      {
        "duration": 27,
        "start_time": "2022-04-26T11:10:36.604Z"
      },
      {
        "duration": 31,
        "start_time": "2022-04-26T11:10:36.633Z"
      },
      {
        "duration": 17,
        "start_time": "2022-04-26T11:10:36.666Z"
      },
      {
        "duration": 15,
        "start_time": "2022-04-26T11:10:36.685Z"
      },
      {
        "duration": 29,
        "start_time": "2022-04-26T11:10:36.702Z"
      },
      {
        "duration": 32,
        "start_time": "2022-04-26T11:10:36.733Z"
      },
      {
        "duration": 16,
        "start_time": "2022-04-26T11:10:36.767Z"
      },
      {
        "duration": 14,
        "start_time": "2022-04-26T11:10:36.785Z"
      },
      {
        "duration": 85,
        "start_time": "2022-04-26T11:10:36.800Z"
      },
      {
        "duration": 5,
        "start_time": "2022-04-26T12:12:25.040Z"
      },
      {
        "duration": 845,
        "start_time": "2022-04-26T12:12:25.047Z"
      },
      {
        "duration": 19,
        "start_time": "2022-04-26T12:12:25.894Z"
      },
      {
        "duration": 146,
        "start_time": "2022-04-26T12:12:25.915Z"
      },
      {
        "duration": 15,
        "start_time": "2022-04-26T12:12:26.063Z"
      },
      {
        "duration": 55,
        "start_time": "2022-04-26T12:12:26.080Z"
      },
      {
        "duration": 4,
        "start_time": "2022-04-26T12:12:26.137Z"
      },
      {
        "duration": 33,
        "start_time": "2022-04-26T12:12:26.143Z"
      },
      {
        "duration": 163,
        "start_time": "2022-04-26T12:12:26.179Z"
      },
      {
        "duration": 25,
        "start_time": "2022-04-26T12:12:26.346Z"
      },
      {
        "duration": 39,
        "start_time": "2022-04-26T12:12:26.373Z"
      },
      {
        "duration": 740,
        "start_time": "2022-04-26T12:12:26.414Z"
      },
      {
        "duration": 22,
        "start_time": "2022-04-26T12:12:27.156Z"
      },
      {
        "duration": 31,
        "start_time": "2022-04-26T12:12:27.180Z"
      },
      {
        "duration": 156,
        "start_time": "2022-04-26T12:12:27.213Z"
      },
      {
        "duration": 72,
        "start_time": "2022-04-26T12:12:27.371Z"
      },
      {
        "duration": 27,
        "start_time": "2022-04-26T12:12:27.445Z"
      },
      {
        "duration": 34,
        "start_time": "2022-04-26T12:12:27.473Z"
      },
      {
        "duration": 43,
        "start_time": "2022-04-26T12:12:27.509Z"
      },
      {
        "duration": 39,
        "start_time": "2022-04-26T12:12:27.553Z"
      },
      {
        "duration": 27,
        "start_time": "2022-04-26T12:12:27.593Z"
      },
      {
        "duration": 26,
        "start_time": "2022-04-26T12:12:27.622Z"
      },
      {
        "duration": 25,
        "start_time": "2022-04-26T12:12:27.650Z"
      },
      {
        "duration": 231,
        "start_time": "2022-04-26T12:12:27.677Z"
      },
      {
        "duration": 5,
        "start_time": "2022-04-26T12:12:27.910Z"
      },
      {
        "duration": 85,
        "start_time": "2022-04-26T12:12:27.916Z"
      },
      {
        "duration": 31,
        "start_time": "2022-04-26T12:12:28.003Z"
      },
      {
        "duration": 30,
        "start_time": "2022-04-26T12:12:28.038Z"
      },
      {
        "duration": 23,
        "start_time": "2022-04-26T12:12:28.070Z"
      },
      {
        "duration": 16,
        "start_time": "2022-04-26T12:12:28.095Z"
      },
      {
        "duration": 89,
        "start_time": "2022-04-26T12:12:28.113Z"
      },
      {
        "duration": 15,
        "start_time": "2022-04-26T12:12:28.203Z"
      },
      {
        "duration": 42,
        "start_time": "2022-04-26T12:12:28.219Z"
      },
      {
        "duration": 285,
        "start_time": "2022-04-26T12:12:28.263Z"
      },
      {
        "duration": 17,
        "start_time": "2022-04-26T12:12:28.550Z"
      },
      {
        "duration": 62,
        "start_time": "2022-04-26T12:12:28.569Z"
      },
      {
        "duration": 34,
        "start_time": "2022-04-26T12:12:28.632Z"
      },
      {
        "duration": 66,
        "start_time": "2022-04-26T12:12:28.668Z"
      },
      {
        "duration": 41,
        "start_time": "2022-04-26T12:12:28.736Z"
      },
      {
        "duration": 21,
        "start_time": "2022-04-26T12:12:28.780Z"
      },
      {
        "duration": 58,
        "start_time": "2022-04-26T12:12:28.803Z"
      },
      {
        "duration": 23,
        "start_time": "2022-04-26T12:12:28.864Z"
      },
      {
        "duration": 24,
        "start_time": "2022-04-26T12:12:28.889Z"
      },
      {
        "duration": 41,
        "start_time": "2022-04-26T12:12:28.915Z"
      },
      {
        "duration": 26,
        "start_time": "2022-04-26T12:12:28.958Z"
      },
      {
        "duration": 15,
        "start_time": "2022-04-26T12:12:28.986Z"
      },
      {
        "duration": 18,
        "start_time": "2022-04-26T12:12:29.003Z"
      },
      {
        "duration": 42,
        "start_time": "2022-04-26T12:12:29.022Z"
      },
      {
        "duration": 67,
        "start_time": "2022-04-26T12:12:29.066Z"
      },
      {
        "duration": 2385,
        "start_time": "2022-04-27T12:59:39.888Z"
      },
      {
        "duration": 1038,
        "start_time": "2022-04-27T12:59:42.276Z"
      },
      {
        "duration": 27,
        "start_time": "2022-04-27T12:59:43.317Z"
      },
      {
        "duration": 202,
        "start_time": "2022-04-27T12:59:43.348Z"
      },
      {
        "duration": 4,
        "start_time": "2022-04-27T12:59:43.553Z"
      },
      {
        "duration": 54,
        "start_time": "2022-04-27T12:59:43.560Z"
      },
      {
        "duration": 11,
        "start_time": "2022-04-27T12:59:43.617Z"
      },
      {
        "duration": 19,
        "start_time": "2022-04-27T12:59:43.630Z"
      },
      {
        "duration": 134,
        "start_time": "2022-04-27T12:59:43.652Z"
      },
      {
        "duration": 26,
        "start_time": "2022-04-27T12:59:43.796Z"
      },
      {
        "duration": 79,
        "start_time": "2022-04-27T12:59:43.824Z"
      },
      {
        "duration": 583,
        "start_time": "2022-04-27T12:59:43.905Z"
      },
      {
        "duration": 22,
        "start_time": "2022-04-27T12:59:44.493Z"
      },
      {
        "duration": 77,
        "start_time": "2022-04-27T12:59:44.517Z"
      },
      {
        "duration": 102,
        "start_time": "2022-04-27T12:59:44.597Z"
      },
      {
        "duration": 39,
        "start_time": "2022-04-27T12:59:44.701Z"
      },
      {
        "duration": 25,
        "start_time": "2022-04-27T12:59:44.743Z"
      },
      {
        "duration": 47,
        "start_time": "2022-04-27T12:59:44.770Z"
      },
      {
        "duration": 20,
        "start_time": "2022-04-27T12:59:44.820Z"
      },
      {
        "duration": 13,
        "start_time": "2022-04-27T12:59:44.842Z"
      },
      {
        "duration": 44,
        "start_time": "2022-04-27T12:59:44.857Z"
      },
      {
        "duration": 134,
        "start_time": "2022-04-27T12:59:44.903Z"
      },
      {
        "duration": 9,
        "start_time": "2022-04-27T12:59:45.039Z"
      },
      {
        "duration": 350,
        "start_time": "2022-04-27T12:59:45.051Z"
      },
      {
        "duration": 7,
        "start_time": "2022-04-27T12:59:45.404Z"
      },
      {
        "duration": 121,
        "start_time": "2022-04-27T12:59:45.414Z"
      },
      {
        "duration": 56,
        "start_time": "2022-04-27T12:59:45.538Z"
      },
      {
        "duration": 20,
        "start_time": "2022-04-27T12:59:45.602Z"
      },
      {
        "duration": 26,
        "start_time": "2022-04-27T12:59:45.624Z"
      },
      {
        "duration": 56,
        "start_time": "2022-04-27T12:59:45.652Z"
      },
      {
        "duration": 112,
        "start_time": "2022-04-27T12:59:45.710Z"
      },
      {
        "duration": 18,
        "start_time": "2022-04-27T12:59:45.824Z"
      },
      {
        "duration": 57,
        "start_time": "2022-04-27T12:59:45.844Z"
      },
      {
        "duration": 506,
        "start_time": "2022-04-27T12:59:45.904Z"
      },
      {
        "duration": 19,
        "start_time": "2022-04-27T12:59:46.413Z"
      },
      {
        "duration": 101,
        "start_time": "2022-04-27T12:59:46.435Z"
      },
      {
        "duration": 18,
        "start_time": "2022-04-27T12:59:46.538Z"
      },
      {
        "duration": 89,
        "start_time": "2022-04-27T12:59:46.559Z"
      },
      {
        "duration": 45,
        "start_time": "2022-04-27T12:59:46.651Z"
      },
      {
        "duration": 18,
        "start_time": "2022-04-27T12:59:46.698Z"
      },
      {
        "duration": 34,
        "start_time": "2022-04-27T12:59:46.718Z"
      },
      {
        "duration": 42,
        "start_time": "2022-04-27T12:59:46.754Z"
      },
      {
        "duration": 21,
        "start_time": "2022-04-27T12:59:46.798Z"
      },
      {
        "duration": 34,
        "start_time": "2022-04-27T12:59:46.821Z"
      },
      {
        "duration": 77,
        "start_time": "2022-04-27T12:59:46.858Z"
      },
      {
        "duration": 25,
        "start_time": "2022-04-27T12:59:46.939Z"
      },
      {
        "duration": 45,
        "start_time": "2022-04-27T12:59:46.967Z"
      },
      {
        "duration": 17,
        "start_time": "2022-04-27T12:59:47.015Z"
      },
      {
        "duration": 100,
        "start_time": "2022-04-27T12:59:47.035Z"
      },
      {
        "duration": 34,
        "start_time": "2022-04-27T13:35:44.708Z"
      },
      {
        "duration": 2362,
        "start_time": "2022-04-28T10:32:46.404Z"
      },
      {
        "duration": 1105,
        "start_time": "2022-04-28T10:32:48.769Z"
      },
      {
        "duration": 26,
        "start_time": "2022-04-28T10:32:49.876Z"
      },
      {
        "duration": 191,
        "start_time": "2022-04-28T10:32:49.905Z"
      },
      {
        "duration": 4,
        "start_time": "2022-04-28T10:32:50.098Z"
      },
      {
        "duration": 57,
        "start_time": "2022-04-28T10:32:50.104Z"
      },
      {
        "duration": 11,
        "start_time": "2022-04-28T10:32:50.164Z"
      },
      {
        "duration": 19,
        "start_time": "2022-04-28T10:32:50.177Z"
      },
      {
        "duration": 137,
        "start_time": "2022-04-28T10:32:50.198Z"
      },
      {
        "duration": 30,
        "start_time": "2022-04-28T10:32:50.339Z"
      },
      {
        "duration": 79,
        "start_time": "2022-04-28T10:32:50.372Z"
      },
      {
        "duration": 886,
        "start_time": "2022-04-28T10:32:50.454Z"
      },
      {
        "duration": 31,
        "start_time": "2022-04-28T10:32:51.343Z"
      },
      {
        "duration": 52,
        "start_time": "2022-04-28T10:32:51.377Z"
      },
      {
        "duration": 140,
        "start_time": "2022-04-28T10:32:51.432Z"
      },
      {
        "duration": 40,
        "start_time": "2022-04-28T10:32:51.574Z"
      },
      {
        "duration": 56,
        "start_time": "2022-04-28T10:32:51.617Z"
      },
      {
        "duration": 26,
        "start_time": "2022-04-28T10:32:51.675Z"
      },
      {
        "duration": 19,
        "start_time": "2022-04-28T10:32:51.704Z"
      },
      {
        "duration": 17,
        "start_time": "2022-04-28T10:32:51.754Z"
      },
      {
        "duration": 12,
        "start_time": "2022-04-28T10:32:51.773Z"
      },
      {
        "duration": 81,
        "start_time": "2022-04-28T10:32:51.787Z"
      },
      {
        "duration": 8,
        "start_time": "2022-04-28T10:32:51.871Z"
      },
      {
        "duration": 451,
        "start_time": "2022-04-28T10:32:51.881Z"
      },
      {
        "duration": 18,
        "start_time": "2022-04-28T10:32:52.335Z"
      },
      {
        "duration": 117,
        "start_time": "2022-04-28T10:32:52.357Z"
      },
      {
        "duration": 37,
        "start_time": "2022-04-28T10:32:52.476Z"
      },
      {
        "duration": 55,
        "start_time": "2022-04-28T10:32:52.520Z"
      },
      {
        "duration": 25,
        "start_time": "2022-04-28T10:32:52.577Z"
      },
      {
        "duration": 23,
        "start_time": "2022-04-28T10:32:52.604Z"
      },
      {
        "duration": 129,
        "start_time": "2022-04-28T10:32:52.630Z"
      },
      {
        "duration": 20,
        "start_time": "2022-04-28T10:32:52.762Z"
      },
      {
        "duration": 41,
        "start_time": "2022-04-28T10:32:52.783Z"
      },
      {
        "duration": 537,
        "start_time": "2022-04-28T10:32:52.852Z"
      },
      {
        "duration": 17,
        "start_time": "2022-04-28T10:32:53.391Z"
      },
      {
        "duration": 99,
        "start_time": "2022-04-28T10:32:53.410Z"
      },
      {
        "duration": 36,
        "start_time": "2022-04-28T10:32:53.512Z"
      },
      {
        "duration": 96,
        "start_time": "2022-04-28T10:32:53.550Z"
      },
      {
        "duration": 29,
        "start_time": "2022-04-28T10:32:53.648Z"
      },
      {
        "duration": 32,
        "start_time": "2022-04-28T10:32:53.680Z"
      },
      {
        "duration": 69,
        "start_time": "2022-04-28T10:32:53.715Z"
      },
      {
        "duration": 60,
        "start_time": "2022-04-28T10:32:53.787Z"
      },
      {
        "duration": 29,
        "start_time": "2022-04-28T10:32:53.850Z"
      },
      {
        "duration": 26,
        "start_time": "2022-04-28T10:32:53.882Z"
      },
      {
        "duration": 75,
        "start_time": "2022-04-28T10:32:53.910Z"
      },
      {
        "duration": 25,
        "start_time": "2022-04-28T10:32:53.988Z"
      },
      {
        "duration": 45,
        "start_time": "2022-04-28T10:32:54.015Z"
      },
      {
        "duration": 25,
        "start_time": "2022-04-28T10:32:54.063Z"
      },
      {
        "duration": 114,
        "start_time": "2022-04-28T10:32:54.091Z"
      },
      {
        "duration": 2249,
        "start_time": "2022-04-29T08:18:23.815Z"
      },
      {
        "duration": 1075,
        "start_time": "2022-04-29T08:18:26.067Z"
      },
      {
        "duration": 25,
        "start_time": "2022-04-29T08:18:27.144Z"
      },
      {
        "duration": 177,
        "start_time": "2022-04-29T08:18:27.183Z"
      },
      {
        "duration": 5,
        "start_time": "2022-04-29T08:18:27.361Z"
      },
      {
        "duration": 48,
        "start_time": "2022-04-29T08:18:27.368Z"
      },
      {
        "duration": 5,
        "start_time": "2022-04-29T08:18:27.418Z"
      },
      {
        "duration": 26,
        "start_time": "2022-04-29T08:18:27.425Z"
      },
      {
        "duration": 138,
        "start_time": "2022-04-29T08:18:27.453Z"
      },
      {
        "duration": 20,
        "start_time": "2022-04-29T08:18:27.595Z"
      },
      {
        "duration": 77,
        "start_time": "2022-04-29T08:18:27.617Z"
      },
      {
        "duration": 593,
        "start_time": "2022-04-29T08:18:27.697Z"
      },
      {
        "duration": 23,
        "start_time": "2022-04-29T08:18:28.292Z"
      },
      {
        "duration": 81,
        "start_time": "2022-04-29T08:18:28.318Z"
      },
      {
        "duration": 108,
        "start_time": "2022-04-29T08:18:28.401Z"
      },
      {
        "duration": 40,
        "start_time": "2022-04-29T08:18:28.511Z"
      },
      {
        "duration": 36,
        "start_time": "2022-04-29T08:18:28.554Z"
      },
      {
        "duration": 24,
        "start_time": "2022-04-29T08:18:28.592Z"
      },
      {
        "duration": 20,
        "start_time": "2022-04-29T08:18:28.618Z"
      },
      {
        "duration": 43,
        "start_time": "2022-04-29T08:18:28.640Z"
      },
      {
        "duration": 11,
        "start_time": "2022-04-29T08:18:28.685Z"
      },
      {
        "duration": 53,
        "start_time": "2022-04-29T08:18:28.698Z"
      },
      {
        "duration": 31,
        "start_time": "2022-04-29T08:18:28.753Z"
      },
      {
        "duration": 432,
        "start_time": "2022-04-29T08:18:28.786Z"
      },
      {
        "duration": 6,
        "start_time": "2022-04-29T08:18:29.220Z"
      },
      {
        "duration": 120,
        "start_time": "2022-04-29T08:18:29.228Z"
      },
      {
        "duration": 45,
        "start_time": "2022-04-29T08:18:29.350Z"
      },
      {
        "duration": 19,
        "start_time": "2022-04-29T08:18:29.400Z"
      },
      {
        "duration": 25,
        "start_time": "2022-04-29T08:18:29.421Z"
      },
      {
        "duration": 43,
        "start_time": "2022-04-29T08:18:29.448Z"
      },
      {
        "duration": 117,
        "start_time": "2022-04-29T08:18:29.493Z"
      },
      {
        "duration": 17,
        "start_time": "2022-04-29T08:18:29.613Z"
      },
      {
        "duration": 64,
        "start_time": "2022-04-29T08:18:29.632Z"
      },
      {
        "duration": 492,
        "start_time": "2022-04-29T08:18:29.698Z"
      },
      {
        "duration": 18,
        "start_time": "2022-04-29T08:18:30.192Z"
      },
      {
        "duration": 94,
        "start_time": "2022-04-29T08:18:30.211Z"
      },
      {
        "duration": 23,
        "start_time": "2022-04-29T08:18:30.307Z"
      },
      {
        "duration": 77,
        "start_time": "2022-04-29T08:18:30.332Z"
      },
      {
        "duration": 20,
        "start_time": "2022-04-29T08:18:30.411Z"
      },
      {
        "duration": 28,
        "start_time": "2022-04-29T08:18:30.433Z"
      },
      {
        "duration": 50,
        "start_time": "2022-04-29T08:18:30.463Z"
      },
      {
        "duration": 37,
        "start_time": "2022-04-29T08:18:30.515Z"
      },
      {
        "duration": 37,
        "start_time": "2022-04-29T08:18:30.554Z"
      },
      {
        "duration": 26,
        "start_time": "2022-04-29T08:18:30.593Z"
      },
      {
        "duration": 43,
        "start_time": "2022-04-29T08:18:30.621Z"
      },
      {
        "duration": 35,
        "start_time": "2022-04-29T08:18:30.666Z"
      },
      {
        "duration": 30,
        "start_time": "2022-04-29T08:18:30.703Z"
      },
      {
        "duration": 25,
        "start_time": "2022-04-29T08:18:30.735Z"
      },
      {
        "duration": 89,
        "start_time": "2022-04-29T08:18:30.762Z"
      },
      {
        "duration": 5,
        "start_time": "2022-04-29T09:46:09.464Z"
      },
      {
        "duration": 1114,
        "start_time": "2022-04-29T09:46:09.472Z"
      },
      {
        "duration": 20,
        "start_time": "2022-04-29T09:46:10.588Z"
      },
      {
        "duration": 193,
        "start_time": "2022-04-29T09:46:10.610Z"
      },
      {
        "duration": 4,
        "start_time": "2022-04-29T09:46:10.805Z"
      },
      {
        "duration": 34,
        "start_time": "2022-04-29T09:46:10.810Z"
      },
      {
        "duration": 36,
        "start_time": "2022-04-29T09:46:10.846Z"
      },
      {
        "duration": 20,
        "start_time": "2022-04-29T09:46:10.884Z"
      },
      {
        "duration": 136,
        "start_time": "2022-04-29T09:46:10.906Z"
      },
      {
        "duration": 39,
        "start_time": "2022-04-29T09:46:11.046Z"
      },
      {
        "duration": 52,
        "start_time": "2022-04-29T09:46:11.088Z"
      },
      {
        "duration": 604,
        "start_time": "2022-04-29T09:46:11.143Z"
      },
      {
        "duration": 40,
        "start_time": "2022-04-29T09:46:11.750Z"
      },
      {
        "duration": 60,
        "start_time": "2022-04-29T09:46:11.793Z"
      },
      {
        "duration": 127,
        "start_time": "2022-04-29T09:46:11.855Z"
      },
      {
        "duration": 40,
        "start_time": "2022-04-29T09:46:11.984Z"
      },
      {
        "duration": 21,
        "start_time": "2022-04-29T09:46:12.026Z"
      },
      {
        "duration": 49,
        "start_time": "2022-04-29T09:46:12.049Z"
      },
      {
        "duration": 19,
        "start_time": "2022-04-29T09:46:12.101Z"
      },
      {
        "duration": 20,
        "start_time": "2022-04-29T09:46:12.122Z"
      },
      {
        "duration": 44,
        "start_time": "2022-04-29T09:46:12.145Z"
      },
      {
        "duration": 49,
        "start_time": "2022-04-29T09:46:12.191Z"
      },
      {
        "duration": 8,
        "start_time": "2022-04-29T09:46:12.243Z"
      },
      {
        "duration": 378,
        "start_time": "2022-04-29T09:46:12.253Z"
      },
      {
        "duration": 7,
        "start_time": "2022-04-29T09:46:12.633Z"
      },
      {
        "duration": 123,
        "start_time": "2022-04-29T09:46:12.641Z"
      },
      {
        "duration": 49,
        "start_time": "2022-04-29T09:46:12.766Z"
      },
      {
        "duration": 23,
        "start_time": "2022-04-29T09:46:12.820Z"
      },
      {
        "duration": 48,
        "start_time": "2022-04-29T09:46:12.845Z"
      },
      {
        "duration": 19,
        "start_time": "2022-04-29T09:46:12.895Z"
      },
      {
        "duration": 124,
        "start_time": "2022-04-29T09:46:12.917Z"
      },
      {
        "duration": 39,
        "start_time": "2022-04-29T09:46:13.044Z"
      },
      {
        "duration": 40,
        "start_time": "2022-04-29T09:46:13.086Z"
      },
      {
        "duration": 542,
        "start_time": "2022-04-29T09:46:13.129Z"
      },
      {
        "duration": 24,
        "start_time": "2022-04-29T09:46:13.674Z"
      },
      {
        "duration": 103,
        "start_time": "2022-04-29T09:46:13.701Z"
      },
      {
        "duration": 17,
        "start_time": "2022-04-29T09:46:13.806Z"
      },
      {
        "duration": 96,
        "start_time": "2022-04-29T09:46:13.825Z"
      },
      {
        "duration": 20,
        "start_time": "2022-04-29T09:46:13.923Z"
      },
      {
        "duration": 39,
        "start_time": "2022-04-29T09:46:13.945Z"
      },
      {
        "duration": 34,
        "start_time": "2022-04-29T09:46:13.986Z"
      },
      {
        "duration": 32,
        "start_time": "2022-04-29T09:46:14.022Z"
      },
      {
        "duration": 38,
        "start_time": "2022-04-29T09:46:14.057Z"
      },
      {
        "duration": 17,
        "start_time": "2022-04-29T09:46:14.097Z"
      },
      {
        "duration": 87,
        "start_time": "2022-04-29T09:46:14.116Z"
      },
      {
        "duration": 28,
        "start_time": "2022-04-29T09:46:14.205Z"
      },
      {
        "duration": 24,
        "start_time": "2022-04-29T09:46:14.235Z"
      },
      {
        "duration": 30,
        "start_time": "2022-04-29T09:46:14.262Z"
      },
      {
        "duration": 96,
        "start_time": "2022-04-29T09:46:14.294Z"
      },
      {
        "duration": 539,
        "start_time": "2022-04-29T10:02:16.785Z"
      },
      {
        "duration": 116,
        "start_time": "2022-04-29T10:12:26.510Z"
      },
      {
        "duration": 131,
        "start_time": "2022-04-29T10:12:47.470Z"
      },
      {
        "duration": 12,
        "start_time": "2022-04-29T10:33:22.732Z"
      },
      {
        "duration": 45,
        "start_time": "2022-04-29T10:34:14.841Z"
      },
      {
        "duration": 765,
        "start_time": "2022-04-29T10:34:38.049Z"
      },
      {
        "duration": 437,
        "start_time": "2022-04-29T10:36:10.101Z"
      },
      {
        "duration": 114,
        "start_time": "2022-04-29T10:56:27.180Z"
      },
      {
        "duration": 5,
        "start_time": "2022-04-29T10:59:57.098Z"
      },
      {
        "duration": 1552,
        "start_time": "2022-04-29T13:53:48.463Z"
      },
      {
        "duration": 760,
        "start_time": "2022-04-29T13:53:50.017Z"
      },
      {
        "duration": 17,
        "start_time": "2022-04-29T13:53:50.779Z"
      },
      {
        "duration": 143,
        "start_time": "2022-04-29T13:53:50.799Z"
      },
      {
        "duration": 3,
        "start_time": "2022-04-29T13:53:50.948Z"
      },
      {
        "duration": 28,
        "start_time": "2022-04-29T13:53:50.952Z"
      },
      {
        "duration": 6,
        "start_time": "2022-04-29T13:53:50.982Z"
      },
      {
        "duration": 12,
        "start_time": "2022-04-29T13:53:50.990Z"
      },
      {
        "duration": 108,
        "start_time": "2022-04-29T13:53:51.004Z"
      },
      {
        "duration": 19,
        "start_time": "2022-04-29T13:53:51.115Z"
      },
      {
        "duration": 45,
        "start_time": "2022-04-29T13:53:51.135Z"
      },
      {
        "duration": 330,
        "start_time": "2022-04-29T13:53:51.181Z"
      },
      {
        "duration": 15,
        "start_time": "2022-04-29T13:53:51.513Z"
      },
      {
        "duration": 42,
        "start_time": "2022-04-29T13:53:51.530Z"
      },
      {
        "duration": 81,
        "start_time": "2022-04-29T13:53:51.573Z"
      },
      {
        "duration": 26,
        "start_time": "2022-04-29T13:53:51.656Z"
      },
      {
        "duration": 16,
        "start_time": "2022-04-29T13:53:51.684Z"
      },
      {
        "duration": 17,
        "start_time": "2022-04-29T13:53:51.701Z"
      },
      {
        "duration": 35,
        "start_time": "2022-04-29T13:53:51.720Z"
      },
      {
        "duration": 8,
        "start_time": "2022-04-29T13:53:51.756Z"
      },
      {
        "duration": 7,
        "start_time": "2022-04-29T13:53:51.765Z"
      },
      {
        "duration": 32,
        "start_time": "2022-04-29T13:53:51.773Z"
      },
      {
        "duration": 5,
        "start_time": "2022-04-29T13:53:51.807Z"
      },
      {
        "duration": 294,
        "start_time": "2022-04-29T13:53:51.814Z"
      },
      {
        "duration": 5,
        "start_time": "2022-04-29T13:53:52.110Z"
      },
      {
        "duration": 84,
        "start_time": "2022-04-29T13:53:52.116Z"
      },
      {
        "duration": 28,
        "start_time": "2022-04-29T13:53:52.201Z"
      },
      {
        "duration": 14,
        "start_time": "2022-04-29T13:53:52.247Z"
      },
      {
        "duration": 29,
        "start_time": "2022-04-29T13:53:52.263Z"
      },
      {
        "duration": 24,
        "start_time": "2022-04-29T13:53:52.294Z"
      },
      {
        "duration": 89,
        "start_time": "2022-04-29T13:53:52.320Z"
      },
      {
        "duration": 15,
        "start_time": "2022-04-29T13:53:52.410Z"
      },
      {
        "duration": 44,
        "start_time": "2022-04-29T13:53:52.426Z"
      },
      {
        "duration": 265,
        "start_time": "2022-04-29T13:53:52.472Z"
      },
      {
        "duration": 21,
        "start_time": "2022-04-29T13:53:52.739Z"
      },
      {
        "duration": 58,
        "start_time": "2022-04-29T13:53:52.761Z"
      },
      {
        "duration": 34,
        "start_time": "2022-04-29T13:53:52.821Z"
      },
      {
        "duration": 39,
        "start_time": "2022-04-29T13:53:52.857Z"
      },
      {
        "duration": 14,
        "start_time": "2022-04-29T13:53:52.898Z"
      },
      {
        "duration": 37,
        "start_time": "2022-04-29T13:53:52.914Z"
      },
      {
        "duration": 24,
        "start_time": "2022-04-29T13:53:52.953Z"
      },
      {
        "duration": 14,
        "start_time": "2022-04-29T13:53:52.978Z"
      },
      {
        "duration": 14,
        "start_time": "2022-04-29T13:53:52.994Z"
      },
      {
        "duration": 42,
        "start_time": "2022-04-29T13:53:53.010Z"
      },
      {
        "duration": 23,
        "start_time": "2022-04-29T13:53:53.054Z"
      },
      {
        "duration": 14,
        "start_time": "2022-04-29T13:53:53.078Z"
      },
      {
        "duration": 14,
        "start_time": "2022-04-29T13:53:53.094Z"
      },
      {
        "duration": 39,
        "start_time": "2022-04-29T13:53:53.109Z"
      },
      {
        "duration": 57,
        "start_time": "2022-04-29T13:53:53.150Z"
      },
      {
        "duration": 46,
        "start_time": "2022-04-29T13:53:53.209Z"
      },
      {
        "duration": 561,
        "start_time": "2022-04-29T13:53:53.257Z"
      },
      {
        "duration": 351,
        "start_time": "2022-04-29T13:53:53.820Z"
      },
      {
        "duration": 77,
        "start_time": "2022-04-29T13:53:54.173Z"
      },
      {
        "duration": 110,
        "start_time": "2022-04-29T13:59:39.002Z"
      },
      {
        "duration": 7,
        "start_time": "2022-04-29T13:59:46.784Z"
      },
      {
        "duration": 8,
        "start_time": "2022-04-29T14:01:44.566Z"
      },
      {
        "duration": 7,
        "start_time": "2022-04-29T14:03:16.097Z"
      },
      {
        "duration": 4,
        "start_time": "2022-04-29T14:38:55.021Z"
      },
      {
        "duration": 4,
        "start_time": "2022-04-29T14:39:24.590Z"
      },
      {
        "duration": 80050,
        "start_time": "2022-04-29T14:47:03.467Z"
      },
      {
        "duration": 4,
        "start_time": "2022-04-29T14:48:44.349Z"
      },
      {
        "duration": 5,
        "start_time": "2022-04-29T14:49:18.417Z"
      },
      {
        "duration": 354919,
        "start_time": "2022-04-29T14:50:09.635Z"
      },
      {
        "duration": 868,
        "start_time": "2022-04-29T14:58:51.519Z"
      },
      {
        "duration": 2,
        "start_time": "2022-04-29T15:01:44.728Z"
      },
      {
        "duration": 96,
        "start_time": "2022-04-29T15:01:46.681Z"
      },
      {
        "duration": 2,
        "start_time": "2022-04-29T15:02:02.847Z"
      },
      {
        "duration": 1188,
        "start_time": "2022-04-29T15:02:09.405Z"
      },
      {
        "duration": 22,
        "start_time": "2022-04-29T15:02:53.084Z"
      },
      {
        "duration": 12,
        "start_time": "2022-04-29T15:02:55.540Z"
      },
      {
        "duration": 860,
        "start_time": "2022-04-29T15:03:12.015Z"
      },
      {
        "duration": 4,
        "start_time": "2022-04-29T15:03:24.549Z"
      },
      {
        "duration": 744,
        "start_time": "2022-04-29T15:03:24.565Z"
      },
      {
        "duration": 12,
        "start_time": "2022-04-29T15:03:25.311Z"
      },
      {
        "duration": 134,
        "start_time": "2022-04-29T15:03:25.325Z"
      },
      {
        "duration": 3,
        "start_time": "2022-04-29T15:03:25.461Z"
      },
      {
        "duration": 17,
        "start_time": "2022-04-29T15:03:25.467Z"
      },
      {
        "duration": 3,
        "start_time": "2022-04-29T15:03:25.486Z"
      },
      {
        "duration": 12,
        "start_time": "2022-04-29T15:03:25.491Z"
      },
      {
        "duration": 98,
        "start_time": "2022-04-29T15:03:25.505Z"
      },
      {
        "duration": 14,
        "start_time": "2022-04-29T15:03:25.605Z"
      },
      {
        "duration": 53,
        "start_time": "2022-04-29T15:03:25.620Z"
      },
      {
        "duration": 308,
        "start_time": "2022-04-29T15:03:25.674Z"
      },
      {
        "duration": 17,
        "start_time": "2022-04-29T15:03:25.985Z"
      },
      {
        "duration": 45,
        "start_time": "2022-04-29T15:03:26.004Z"
      },
      {
        "duration": 69,
        "start_time": "2022-04-29T15:03:26.053Z"
      },
      {
        "duration": 40,
        "start_time": "2022-04-29T15:03:26.124Z"
      },
      {
        "duration": 21,
        "start_time": "2022-04-29T15:03:26.165Z"
      },
      {
        "duration": 18,
        "start_time": "2022-04-29T15:03:26.188Z"
      },
      {
        "duration": 15,
        "start_time": "2022-04-29T15:03:26.207Z"
      },
      {
        "duration": 29,
        "start_time": "2022-04-29T15:03:26.223Z"
      },
      {
        "duration": 7,
        "start_time": "2022-04-29T15:03:26.254Z"
      },
      {
        "duration": 22,
        "start_time": "2022-04-29T15:03:26.263Z"
      },
      {
        "duration": 5,
        "start_time": "2022-04-29T15:03:26.287Z"
      },
      {
        "duration": 222,
        "start_time": "2022-04-29T15:03:26.294Z"
      },
      {
        "duration": 6,
        "start_time": "2022-04-29T15:03:26.518Z"
      },
      {
        "duration": 90,
        "start_time": "2022-04-29T15:03:26.526Z"
      },
      {
        "duration": 34,
        "start_time": "2022-04-29T15:03:26.618Z"
      },
      {
        "duration": 16,
        "start_time": "2022-04-29T15:03:26.654Z"
      },
      {
        "duration": 20,
        "start_time": "2022-04-29T15:03:26.672Z"
      },
      {
        "duration": 14,
        "start_time": "2022-04-29T15:03:26.693Z"
      },
      {
        "duration": 93,
        "start_time": "2022-04-29T15:03:26.708Z"
      },
      {
        "duration": 13,
        "start_time": "2022-04-29T15:03:26.803Z"
      },
      {
        "duration": 39,
        "start_time": "2022-04-29T15:03:26.817Z"
      },
      {
        "duration": 264,
        "start_time": "2022-04-29T15:03:26.858Z"
      },
      {
        "duration": 26,
        "start_time": "2022-04-29T15:03:27.124Z"
      },
      {
        "duration": 56,
        "start_time": "2022-04-29T15:03:27.152Z"
      },
      {
        "duration": 12,
        "start_time": "2022-04-29T15:03:27.209Z"
      },
      {
        "duration": 54,
        "start_time": "2022-04-29T15:03:27.223Z"
      },
      {
        "duration": 13,
        "start_time": "2022-04-29T15:03:27.279Z"
      },
      {
        "duration": 12,
        "start_time": "2022-04-29T15:03:27.294Z"
      },
      {
        "duration": 44,
        "start_time": "2022-04-29T15:03:27.307Z"
      },
      {
        "duration": 14,
        "start_time": "2022-04-29T15:03:27.355Z"
      },
      {
        "duration": 16,
        "start_time": "2022-04-29T15:03:27.371Z"
      },
      {
        "duration": 17,
        "start_time": "2022-04-29T15:03:27.388Z"
      },
      {
        "duration": 22,
        "start_time": "2022-04-29T15:03:27.407Z"
      },
      {
        "duration": 32,
        "start_time": "2022-04-29T15:03:27.431Z"
      },
      {
        "duration": 17,
        "start_time": "2022-04-29T15:03:27.464Z"
      },
      {
        "duration": 12,
        "start_time": "2022-04-29T15:03:27.483Z"
      },
      {
        "duration": 71,
        "start_time": "2022-04-29T15:03:27.496Z"
      },
      {
        "duration": 27,
        "start_time": "2022-04-29T15:03:27.569Z"
      },
      {
        "duration": 468,
        "start_time": "2022-04-29T15:03:27.598Z"
      },
      {
        "duration": 344,
        "start_time": "2022-04-29T15:03:28.068Z"
      },
      {
        "duration": 69,
        "start_time": "2022-04-29T15:03:28.414Z"
      },
      {
        "duration": 6,
        "start_time": "2022-04-29T15:03:28.485Z"
      },
      {
        "duration": 425061,
        "start_time": "2022-04-29T15:03:28.493Z"
      },
      {
        "duration": 2,
        "start_time": "2022-04-29T15:10:33.556Z"
      },
      {
        "duration": 889,
        "start_time": "2022-04-29T15:10:33.648Z"
      },
      {
        "duration": 15,
        "start_time": "2022-04-29T15:15:31.213Z"
      },
      {
        "duration": 13,
        "start_time": "2022-04-29T15:15:33.715Z"
      },
      {
        "duration": 58,
        "start_time": "2022-04-29T15:15:49.619Z"
      },
      {
        "duration": 57,
        "start_time": "2022-04-29T15:16:02.715Z"
      },
      {
        "duration": 2,
        "start_time": "2022-04-29T15:16:54.598Z"
      },
      {
        "duration": 24,
        "start_time": "2022-04-29T15:19:08.079Z"
      },
      {
        "duration": 21,
        "start_time": "2022-04-29T15:19:10.242Z"
      },
      {
        "duration": 55,
        "start_time": "2022-04-29T15:19:28.520Z"
      },
      {
        "duration": 15,
        "start_time": "2022-04-29T15:20:53.089Z"
      },
      {
        "duration": 458,
        "start_time": "2022-04-29T15:20:55.811Z"
      },
      {
        "duration": 331,
        "start_time": "2022-04-29T15:20:58.807Z"
      },
      {
        "duration": 56,
        "start_time": "2022-04-29T15:21:01.921Z"
      },
      {
        "duration": 5,
        "start_time": "2022-04-29T15:21:09.905Z"
      },
      {
        "duration": 258204,
        "start_time": "2022-04-29T15:21:15.346Z"
      },
      {
        "duration": 826,
        "start_time": "2022-04-29T15:25:45.552Z"
      },
      {
        "duration": 802,
        "start_time": "2022-04-29T15:42:53.719Z"
      },
      {
        "duration": 3,
        "start_time": "2022-04-29T15:43:02.633Z"
      },
      {
        "duration": 806,
        "start_time": "2022-04-29T15:43:04.325Z"
      },
      {
        "duration": 119,
        "start_time": "2022-04-29T15:47:33.704Z"
      },
      {
        "duration": 3,
        "start_time": "2022-04-29T15:54:47.165Z"
      },
      {
        "duration": 57,
        "start_time": "2022-04-29T15:54:49.776Z"
      },
      {
        "duration": 16,
        "start_time": "2022-04-29T15:56:02.933Z"
      },
      {
        "duration": 415,
        "start_time": "2022-04-29T15:56:06.953Z"
      },
      {
        "duration": 335,
        "start_time": "2022-04-29T15:56:10.243Z"
      },
      {
        "duration": 55,
        "start_time": "2022-04-29T15:56:15.299Z"
      },
      {
        "duration": 236584,
        "start_time": "2022-04-29T15:56:22.367Z"
      },
      {
        "duration": 871,
        "start_time": "2022-04-29T16:00:27.088Z"
      },
      {
        "duration": 50,
        "start_time": "2022-04-29T16:02:47.292Z"
      },
      {
        "duration": 80,
        "start_time": "2022-04-29T16:13:28.333Z"
      },
      {
        "duration": 9,
        "start_time": "2022-04-29T16:13:38.147Z"
      },
      {
        "duration": 55,
        "start_time": "2022-04-29T16:14:20.338Z"
      },
      {
        "duration": 798,
        "start_time": "2022-04-29T16:14:32.697Z"
      },
      {
        "duration": 14,
        "start_time": "2022-04-29T16:16:35.916Z"
      },
      {
        "duration": 45,
        "start_time": "2022-04-29T16:16:51.246Z"
      },
      {
        "duration": 24,
        "start_time": "2022-04-29T16:17:16.703Z"
      },
      {
        "duration": 12,
        "start_time": "2022-04-29T16:17:44.911Z"
      },
      {
        "duration": 13,
        "start_time": "2022-04-29T16:18:00.857Z"
      },
      {
        "duration": 23,
        "start_time": "2022-04-29T16:18:03.347Z"
      },
      {
        "duration": 4,
        "start_time": "2022-04-29T16:18:19.732Z"
      },
      {
        "duration": 666,
        "start_time": "2022-04-29T16:18:19.754Z"
      },
      {
        "duration": 11,
        "start_time": "2022-04-29T16:18:20.422Z"
      },
      {
        "duration": 129,
        "start_time": "2022-04-29T16:18:20.435Z"
      },
      {
        "duration": 3,
        "start_time": "2022-04-29T16:18:20.565Z"
      },
      {
        "duration": 23,
        "start_time": "2022-04-29T16:18:20.571Z"
      },
      {
        "duration": 4,
        "start_time": "2022-04-29T16:18:20.596Z"
      },
      {
        "duration": 17,
        "start_time": "2022-04-29T16:18:20.602Z"
      },
      {
        "duration": 167,
        "start_time": "2022-04-29T16:18:20.621Z"
      },
      {
        "duration": 22,
        "start_time": "2022-04-29T16:18:20.790Z"
      },
      {
        "duration": 46,
        "start_time": "2022-04-29T16:18:20.814Z"
      },
      {
        "duration": 503,
        "start_time": "2022-04-29T16:18:20.862Z"
      },
      {
        "duration": 19,
        "start_time": "2022-04-29T16:18:21.367Z"
      },
      {
        "duration": 34,
        "start_time": "2022-04-29T16:18:21.388Z"
      },
      {
        "duration": 147,
        "start_time": "2022-04-29T16:18:21.426Z"
      },
      {
        "duration": 38,
        "start_time": "2022-04-29T16:18:21.575Z"
      },
      {
        "duration": 33,
        "start_time": "2022-04-29T16:18:21.614Z"
      },
      {
        "duration": 17,
        "start_time": "2022-04-29T16:18:21.649Z"
      },
      {
        "duration": 28,
        "start_time": "2022-04-29T16:18:21.668Z"
      },
      {
        "duration": 4,
        "start_time": "2022-04-29T16:19:01.377Z"
      },
      {
        "duration": 724,
        "start_time": "2022-04-29T16:19:01.384Z"
      },
      {
        "duration": 13,
        "start_time": "2022-04-29T16:19:02.109Z"
      },
      {
        "duration": 134,
        "start_time": "2022-04-29T16:19:02.124Z"
      },
      {
        "duration": 3,
        "start_time": "2022-04-29T16:19:02.260Z"
      },
      {
        "duration": 24,
        "start_time": "2022-04-29T16:19:02.265Z"
      },
      {
        "duration": 7,
        "start_time": "2022-04-29T16:19:02.291Z"
      },
      {
        "duration": 12,
        "start_time": "2022-04-29T16:19:02.299Z"
      },
      {
        "duration": 100,
        "start_time": "2022-04-29T16:19:02.313Z"
      },
      {
        "duration": 126,
        "start_time": "2022-04-29T16:19:02.416Z"
      },
      {
        "duration": 24,
        "start_time": "2022-04-29T16:19:02.548Z"
      },
      {
        "duration": 313,
        "start_time": "2022-04-29T16:19:02.574Z"
      },
      {
        "duration": 16,
        "start_time": "2022-04-29T16:19:02.890Z"
      },
      {
        "duration": 42,
        "start_time": "2022-04-29T16:19:02.908Z"
      },
      {
        "duration": 68,
        "start_time": "2022-04-29T16:19:02.952Z"
      },
      {
        "duration": 39,
        "start_time": "2022-04-29T16:19:03.022Z"
      },
      {
        "duration": 15,
        "start_time": "2022-04-29T16:19:03.063Z"
      },
      {
        "duration": 17,
        "start_time": "2022-04-29T16:19:03.080Z"
      },
      {
        "duration": 27,
        "start_time": "2022-04-29T16:19:03.099Z"
      },
      {
        "duration": 15,
        "start_time": "2022-04-29T16:19:03.148Z"
      },
      {
        "duration": 10,
        "start_time": "2022-04-29T16:19:03.164Z"
      },
      {
        "duration": 7,
        "start_time": "2022-04-29T16:19:03.175Z"
      },
      {
        "duration": 22,
        "start_time": "2022-04-29T16:19:03.184Z"
      },
      {
        "duration": 5,
        "start_time": "2022-04-29T16:19:03.208Z"
      },
      {
        "duration": 229,
        "start_time": "2022-04-29T16:19:03.214Z"
      },
      {
        "duration": 5,
        "start_time": "2022-04-29T16:19:03.448Z"
      },
      {
        "duration": 30,
        "start_time": "2022-04-29T16:19:03.455Z"
      },
      {
        "duration": 19,
        "start_time": "2022-04-29T16:19:03.487Z"
      },
      {
        "duration": 40,
        "start_time": "2022-04-29T16:19:03.508Z"
      },
      {
        "duration": 15,
        "start_time": "2022-04-29T16:19:03.550Z"
      },
      {
        "duration": 16,
        "start_time": "2022-04-29T16:19:03.567Z"
      },
      {
        "duration": 20,
        "start_time": "2022-04-29T16:19:03.585Z"
      },
      {
        "duration": 287,
        "start_time": "2022-04-29T16:19:03.606Z"
      },
      {
        "duration": 14,
        "start_time": "2022-04-29T16:19:03.895Z"
      },
      {
        "duration": 14,
        "start_time": "2022-04-29T16:19:03.911Z"
      },
      {
        "duration": 3,
        "start_time": "2022-04-29T16:19:03.947Z"
      },
      {
        "duration": 24,
        "start_time": "2022-04-29T16:19:03.952Z"
      },
      {
        "duration": 14,
        "start_time": "2022-04-29T16:19:03.978Z"
      },
      {
        "duration": 26,
        "start_time": "2022-04-29T16:19:03.994Z"
      },
      {
        "duration": 15,
        "start_time": "2022-04-29T16:19:04.047Z"
      },
      {
        "duration": 15,
        "start_time": "2022-04-29T16:19:04.067Z"
      },
      {
        "duration": 15,
        "start_time": "2022-04-29T16:19:04.084Z"
      },
      {
        "duration": 50,
        "start_time": "2022-04-29T16:19:04.101Z"
      },
      {
        "duration": 13,
        "start_time": "2022-04-29T16:19:04.153Z"
      },
      {
        "duration": 15,
        "start_time": "2022-04-29T16:19:04.168Z"
      },
      {
        "duration": 13,
        "start_time": "2022-04-29T16:19:04.185Z"
      },
      {
        "duration": 6,
        "start_time": "2022-04-29T16:19:04.200Z"
      },
      {
        "duration": 83,
        "start_time": "2022-04-29T16:19:04.208Z"
      },
      {
        "duration": 60,
        "start_time": "2022-04-29T16:19:04.293Z"
      },
      {
        "duration": 17,
        "start_time": "2022-04-29T16:19:04.354Z"
      },
      {
        "duration": 437,
        "start_time": "2022-04-29T16:19:04.372Z"
      },
      {
        "duration": 353,
        "start_time": "2022-04-29T16:19:04.811Z"
      },
      {
        "duration": 54,
        "start_time": "2022-04-29T16:19:05.166Z"
      },
      {
        "duration": 5,
        "start_time": "2022-04-29T16:19:05.222Z"
      },
      {
        "duration": 3,
        "start_time": "2022-04-29T16:19:05.248Z"
      },
      {
        "duration": 10,
        "start_time": "2022-04-29T16:19:05.254Z"
      },
      {
        "duration": 898,
        "start_time": "2022-04-29T16:19:05.265Z"
      },
      {
        "duration": 11,
        "start_time": "2022-04-29T16:20:56.794Z"
      },
      {
        "duration": 10,
        "start_time": "2022-04-29T16:21:04.290Z"
      },
      {
        "duration": 227,
        "start_time": "2022-04-29T16:21:13.343Z"
      },
      {
        "duration": 2,
        "start_time": "2022-04-29T16:21:27.287Z"
      },
      {
        "duration": 221,
        "start_time": "2022-04-29T16:21:27.303Z"
      },
      {
        "duration": 32,
        "start_time": "2022-04-29T16:21:27.526Z"
      },
      {
        "duration": 13,
        "start_time": "2022-04-29T16:21:27.560Z"
      },
      {
        "duration": 7,
        "start_time": "2022-04-29T16:21:27.575Z"
      },
      {
        "duration": 7,
        "start_time": "2022-04-29T16:21:27.584Z"
      },
      {
        "duration": 18,
        "start_time": "2022-04-29T16:21:27.592Z"
      },
      {
        "duration": 38,
        "start_time": "2022-04-29T16:21:27.612Z"
      },
      {
        "duration": 199,
        "start_time": "2022-04-29T16:21:27.652Z"
      },
      {
        "duration": 4,
        "start_time": "2022-04-29T16:21:27.853Z"
      },
      {
        "duration": 24,
        "start_time": "2022-04-29T16:21:27.859Z"
      },
      {
        "duration": 13,
        "start_time": "2022-04-29T16:21:27.885Z"
      },
      {
        "duration": 14,
        "start_time": "2022-04-29T16:21:27.900Z"
      },
      {
        "duration": 37,
        "start_time": "2022-04-29T16:21:27.916Z"
      },
      {
        "duration": 13,
        "start_time": "2022-04-29T16:21:27.957Z"
      },
      {
        "duration": 17,
        "start_time": "2022-04-29T16:21:27.972Z"
      },
      {
        "duration": 296,
        "start_time": "2022-04-29T16:21:27.991Z"
      },
      {
        "duration": 12,
        "start_time": "2022-04-29T16:21:28.288Z"
      },
      {
        "duration": 12,
        "start_time": "2022-04-29T16:21:28.302Z"
      },
      {
        "duration": 4,
        "start_time": "2022-04-29T16:21:28.315Z"
      },
      {
        "duration": 44,
        "start_time": "2022-04-29T16:21:28.320Z"
      },
      {
        "duration": 12,
        "start_time": "2022-04-29T16:21:28.366Z"
      },
      {
        "duration": 23,
        "start_time": "2022-04-29T16:21:28.380Z"
      },
      {
        "duration": 15,
        "start_time": "2022-04-29T16:21:28.405Z"
      },
      {
        "duration": 33,
        "start_time": "2022-04-29T16:21:28.422Z"
      },
      {
        "duration": 12,
        "start_time": "2022-04-29T16:21:28.457Z"
      },
      {
        "duration": 22,
        "start_time": "2022-04-29T16:21:28.471Z"
      },
      {
        "duration": 17,
        "start_time": "2022-04-29T16:21:28.495Z"
      },
      {
        "duration": 34,
        "start_time": "2022-04-29T16:21:28.513Z"
      },
      {
        "duration": 13,
        "start_time": "2022-04-29T16:21:28.549Z"
      },
      {
        "duration": 8,
        "start_time": "2022-04-29T16:21:28.563Z"
      },
      {
        "duration": 77,
        "start_time": "2022-04-29T16:21:28.572Z"
      },
      {
        "duration": 56,
        "start_time": "2022-04-29T16:21:28.651Z"
      },
      {
        "duration": 16,
        "start_time": "2022-04-29T16:21:28.708Z"
      },
      {
        "duration": 431,
        "start_time": "2022-04-29T16:21:28.725Z"
      },
      {
        "duration": 324,
        "start_time": "2022-04-29T16:21:29.158Z"
      },
      {
        "duration": 65,
        "start_time": "2022-04-29T16:21:29.483Z"
      },
      {
        "duration": 5,
        "start_time": "2022-04-29T16:21:29.550Z"
      },
      {
        "duration": 5,
        "start_time": "2022-04-29T16:21:29.557Z"
      },
      {
        "duration": 4,
        "start_time": "2022-04-29T16:21:29.564Z"
      },
      {
        "duration": 831,
        "start_time": "2022-04-29T16:21:29.570Z"
      },
      {
        "duration": 13,
        "start_time": "2022-04-29T16:22:23.840Z"
      },
      {
        "duration": 22,
        "start_time": "2022-04-29T16:22:26.609Z"
      },
      {
        "duration": 13,
        "start_time": "2022-04-29T16:22:35.596Z"
      },
      {
        "duration": 23,
        "start_time": "2022-04-29T16:22:38.189Z"
      },
      {
        "duration": 4,
        "start_time": "2022-04-29T16:22:46.200Z"
      },
      {
        "duration": 1027,
        "start_time": "2022-04-29T16:22:46.210Z"
      },
      {
        "duration": 21,
        "start_time": "2022-04-29T16:22:47.239Z"
      },
      {
        "duration": 201,
        "start_time": "2022-04-29T16:22:47.262Z"
      },
      {
        "duration": 3,
        "start_time": "2022-04-29T16:22:47.465Z"
      },
      {
        "duration": 16,
        "start_time": "2022-04-29T16:22:47.470Z"
      },
      {
        "duration": 4,
        "start_time": "2022-04-29T16:22:47.488Z"
      },
      {
        "duration": 14,
        "start_time": "2022-04-29T16:22:47.493Z"
      },
      {
        "duration": 105,
        "start_time": "2022-04-29T16:22:47.508Z"
      },
      {
        "duration": 13,
        "start_time": "2022-04-29T16:22:47.615Z"
      },
      {
        "duration": 39,
        "start_time": "2022-04-29T16:22:47.630Z"
      },
      {
        "duration": 428,
        "start_time": "2022-04-29T16:22:47.671Z"
      },
      {
        "duration": 16,
        "start_time": "2022-04-29T16:22:48.100Z"
      },
      {
        "duration": 38,
        "start_time": "2022-04-29T16:22:48.117Z"
      },
      {
        "duration": 70,
        "start_time": "2022-04-29T16:22:48.157Z"
      },
      {
        "duration": 39,
        "start_time": "2022-04-29T16:22:48.229Z"
      },
      {
        "duration": 16,
        "start_time": "2022-04-29T16:22:48.269Z"
      },
      {
        "duration": 17,
        "start_time": "2022-04-29T16:22:48.286Z"
      },
      {
        "duration": 46,
        "start_time": "2022-04-29T16:22:48.305Z"
      },
      {
        "duration": 47,
        "start_time": "2022-04-29T16:26:14.513Z"
      },
      {
        "duration": 27,
        "start_time": "2022-04-29T16:26:22.912Z"
      },
      {
        "duration": 26,
        "start_time": "2022-04-29T16:26:44.420Z"
      },
      {
        "duration": 27,
        "start_time": "2022-04-29T16:26:53.845Z"
      },
      {
        "duration": 26,
        "start_time": "2022-04-29T16:26:56.973Z"
      },
      {
        "duration": 4,
        "start_time": "2022-04-29T16:27:04.846Z"
      },
      {
        "duration": 685,
        "start_time": "2022-04-29T16:27:04.854Z"
      },
      {
        "duration": 17,
        "start_time": "2022-04-29T16:27:05.541Z"
      },
      {
        "duration": 131,
        "start_time": "2022-04-29T16:27:05.560Z"
      },
      {
        "duration": 3,
        "start_time": "2022-04-29T16:27:05.693Z"
      },
      {
        "duration": 18,
        "start_time": "2022-04-29T16:27:05.698Z"
      },
      {
        "duration": 4,
        "start_time": "2022-04-29T16:27:05.718Z"
      },
      {
        "duration": 29,
        "start_time": "2022-04-29T16:27:05.724Z"
      },
      {
        "duration": 89,
        "start_time": "2022-04-29T16:27:05.755Z"
      },
      {
        "duration": 12,
        "start_time": "2022-04-29T16:27:05.845Z"
      },
      {
        "duration": 25,
        "start_time": "2022-04-29T16:27:05.859Z"
      },
      {
        "duration": 316,
        "start_time": "2022-04-29T16:27:05.886Z"
      },
      {
        "duration": 16,
        "start_time": "2022-04-29T16:27:06.203Z"
      },
      {
        "duration": 45,
        "start_time": "2022-04-29T16:27:06.220Z"
      },
      {
        "duration": 81,
        "start_time": "2022-04-29T16:27:06.268Z"
      },
      {
        "duration": 28,
        "start_time": "2022-04-29T16:27:06.351Z"
      },
      {
        "duration": 17,
        "start_time": "2022-04-29T16:27:06.381Z"
      },
      {
        "duration": 17,
        "start_time": "2022-04-29T16:27:06.400Z"
      },
      {
        "duration": 49,
        "start_time": "2022-04-29T16:27:06.419Z"
      },
      {
        "duration": 19,
        "start_time": "2022-04-29T16:27:06.470Z"
      },
      {
        "duration": 29,
        "start_time": "2022-04-29T16:27:06.490Z"
      },
      {
        "duration": 9,
        "start_time": "2022-04-29T16:28:11.835Z"
      },
      {
        "duration": 9,
        "start_time": "2022-04-29T16:28:22.601Z"
      },
      {
        "duration": 1700,
        "start_time": "2022-05-03T11:21:19.047Z"
      },
      {
        "duration": 833,
        "start_time": "2022-05-03T11:21:20.749Z"
      },
      {
        "duration": 18,
        "start_time": "2022-05-03T11:21:21.583Z"
      },
      {
        "duration": 144,
        "start_time": "2022-05-03T11:21:21.603Z"
      },
      {
        "duration": 3,
        "start_time": "2022-05-03T11:21:21.748Z"
      },
      {
        "duration": 25,
        "start_time": "2022-05-03T11:21:21.753Z"
      },
      {
        "duration": 7,
        "start_time": "2022-05-03T11:21:21.779Z"
      },
      {
        "duration": 14,
        "start_time": "2022-05-03T11:21:21.787Z"
      },
      {
        "duration": 113,
        "start_time": "2022-05-03T11:21:21.803Z"
      },
      {
        "duration": 19,
        "start_time": "2022-05-03T11:21:21.919Z"
      },
      {
        "duration": 31,
        "start_time": "2022-05-03T11:21:21.940Z"
      },
      {
        "duration": 399,
        "start_time": "2022-05-03T11:21:21.973Z"
      },
      {
        "duration": 17,
        "start_time": "2022-05-03T11:21:22.374Z"
      },
      {
        "duration": 48,
        "start_time": "2022-05-03T11:21:22.393Z"
      },
      {
        "duration": 79,
        "start_time": "2022-05-03T11:21:22.443Z"
      },
      {
        "duration": 31,
        "start_time": "2022-05-03T11:21:22.533Z"
      },
      {
        "duration": 19,
        "start_time": "2022-05-03T11:21:22.565Z"
      },
      {
        "duration": 28,
        "start_time": "2022-05-03T11:21:22.586Z"
      },
      {
        "duration": 42,
        "start_time": "2022-05-03T11:21:22.616Z"
      },
      {
        "duration": 18,
        "start_time": "2022-05-03T11:21:22.660Z"
      },
      {
        "duration": 141,
        "start_time": "2022-05-03T11:21:22.680Z"
      },
      {
        "duration": 0,
        "start_time": "2022-05-03T11:21:22.897Z"
      },
      {
        "duration": 0,
        "start_time": "2022-05-03T11:21:22.899Z"
      },
      {
        "duration": 0,
        "start_time": "2022-05-03T11:21:22.900Z"
      },
      {
        "duration": 0,
        "start_time": "2022-05-03T11:21:22.901Z"
      },
      {
        "duration": 0,
        "start_time": "2022-05-03T11:21:22.902Z"
      },
      {
        "duration": 0,
        "start_time": "2022-05-03T11:21:22.903Z"
      },
      {
        "duration": 1,
        "start_time": "2022-05-03T11:21:22.904Z"
      },
      {
        "duration": 0,
        "start_time": "2022-05-03T11:21:22.906Z"
      },
      {
        "duration": 0,
        "start_time": "2022-05-03T11:21:22.907Z"
      },
      {
        "duration": 0,
        "start_time": "2022-05-03T11:21:22.907Z"
      },
      {
        "duration": 0,
        "start_time": "2022-05-03T11:21:22.908Z"
      },
      {
        "duration": 0,
        "start_time": "2022-05-03T11:21:22.910Z"
      },
      {
        "duration": 1,
        "start_time": "2022-05-03T11:21:22.910Z"
      },
      {
        "duration": 0,
        "start_time": "2022-05-03T11:21:22.934Z"
      },
      {
        "duration": 0,
        "start_time": "2022-05-03T11:21:22.935Z"
      },
      {
        "duration": 0,
        "start_time": "2022-05-03T11:21:22.936Z"
      },
      {
        "duration": 0,
        "start_time": "2022-05-03T11:21:22.937Z"
      },
      {
        "duration": 0,
        "start_time": "2022-05-03T11:21:22.938Z"
      },
      {
        "duration": 0,
        "start_time": "2022-05-03T11:21:22.940Z"
      },
      {
        "duration": 0,
        "start_time": "2022-05-03T11:21:22.941Z"
      },
      {
        "duration": 0,
        "start_time": "2022-05-03T11:21:22.942Z"
      },
      {
        "duration": 0,
        "start_time": "2022-05-03T11:21:22.943Z"
      },
      {
        "duration": 0,
        "start_time": "2022-05-03T11:21:22.944Z"
      },
      {
        "duration": 0,
        "start_time": "2022-05-03T11:21:22.945Z"
      },
      {
        "duration": 0,
        "start_time": "2022-05-03T11:21:22.946Z"
      },
      {
        "duration": 0,
        "start_time": "2022-05-03T11:21:22.947Z"
      },
      {
        "duration": 0,
        "start_time": "2022-05-03T11:21:22.948Z"
      },
      {
        "duration": 0,
        "start_time": "2022-05-03T11:21:22.949Z"
      },
      {
        "duration": 0,
        "start_time": "2022-05-03T11:21:22.950Z"
      },
      {
        "duration": 0,
        "start_time": "2022-05-03T11:21:22.951Z"
      },
      {
        "duration": 0,
        "start_time": "2022-05-03T11:21:22.953Z"
      },
      {
        "duration": 0,
        "start_time": "2022-05-03T11:21:22.953Z"
      },
      {
        "duration": 0,
        "start_time": "2022-05-03T11:21:22.954Z"
      },
      {
        "duration": 0,
        "start_time": "2022-05-03T11:21:22.955Z"
      },
      {
        "duration": 0,
        "start_time": "2022-05-03T11:21:22.956Z"
      },
      {
        "duration": 0,
        "start_time": "2022-05-03T11:21:22.957Z"
      },
      {
        "duration": 0,
        "start_time": "2022-05-03T11:21:22.958Z"
      },
      {
        "duration": 40,
        "start_time": "2022-05-03T11:21:40.178Z"
      },
      {
        "duration": 16,
        "start_time": "2022-05-03T11:21:50.874Z"
      },
      {
        "duration": 55,
        "start_time": "2022-05-03T11:21:50.892Z"
      },
      {
        "duration": 8,
        "start_time": "2022-05-03T11:21:50.949Z"
      },
      {
        "duration": 8,
        "start_time": "2022-05-03T11:21:50.959Z"
      },
      {
        "duration": 29,
        "start_time": "2022-05-03T11:21:50.968Z"
      },
      {
        "duration": 6,
        "start_time": "2022-05-03T11:21:50.999Z"
      },
      {
        "duration": 263,
        "start_time": "2022-05-03T11:21:51.006Z"
      },
      {
        "duration": 4,
        "start_time": "2022-05-03T11:21:51.271Z"
      },
      {
        "duration": 31,
        "start_time": "2022-05-03T11:21:51.277Z"
      },
      {
        "duration": 34,
        "start_time": "2022-05-03T11:21:51.311Z"
      },
      {
        "duration": 18,
        "start_time": "2022-05-03T11:21:51.347Z"
      },
      {
        "duration": 16,
        "start_time": "2022-05-03T11:21:51.367Z"
      },
      {
        "duration": 21,
        "start_time": "2022-05-03T11:21:51.384Z"
      },
      {
        "duration": 46,
        "start_time": "2022-05-03T11:21:51.406Z"
      },
      {
        "duration": 314,
        "start_time": "2022-05-03T11:21:51.454Z"
      },
      {
        "duration": 13,
        "start_time": "2022-05-03T11:21:51.770Z"
      },
      {
        "duration": 13,
        "start_time": "2022-05-03T11:21:51.784Z"
      },
      {
        "duration": 4,
        "start_time": "2022-05-03T11:21:51.799Z"
      },
      {
        "duration": 48,
        "start_time": "2022-05-03T11:21:51.804Z"
      },
      {
        "duration": 13,
        "start_time": "2022-05-03T11:21:51.854Z"
      },
      {
        "duration": 27,
        "start_time": "2022-05-03T11:21:51.868Z"
      },
      {
        "duration": 39,
        "start_time": "2022-05-03T11:21:51.897Z"
      },
      {
        "duration": 15,
        "start_time": "2022-05-03T11:21:51.937Z"
      },
      {
        "duration": 12,
        "start_time": "2022-05-03T11:21:51.954Z"
      },
      {
        "duration": 24,
        "start_time": "2022-05-03T11:21:51.968Z"
      },
      {
        "duration": 42,
        "start_time": "2022-05-03T11:21:51.994Z"
      },
      {
        "duration": 15,
        "start_time": "2022-05-03T11:21:52.038Z"
      },
      {
        "duration": 13,
        "start_time": "2022-05-03T11:21:52.056Z"
      },
      {
        "duration": 4,
        "start_time": "2022-05-03T11:21:52.071Z"
      },
      {
        "duration": 88,
        "start_time": "2022-05-03T11:21:52.077Z"
      },
      {
        "duration": 55,
        "start_time": "2022-05-03T11:21:52.166Z"
      },
      {
        "duration": 19,
        "start_time": "2022-05-03T11:21:52.234Z"
      },
      {
        "duration": 464,
        "start_time": "2022-05-03T11:21:52.255Z"
      },
      {
        "duration": 334,
        "start_time": "2022-05-03T11:21:52.721Z"
      },
      {
        "duration": 80,
        "start_time": "2022-05-03T11:21:53.057Z"
      },
      {
        "duration": 7,
        "start_time": "2022-05-03T11:21:53.139Z"
      },
      {
        "duration": 4,
        "start_time": "2022-05-03T11:21:53.148Z"
      },
      {
        "duration": 5,
        "start_time": "2022-05-03T11:21:53.153Z"
      },
      {
        "duration": 183,
        "start_time": "2022-05-03T11:21:53.159Z"
      },
      {
        "duration": 34526,
        "start_time": "2022-05-03T11:23:00.263Z"
      },
      {
        "duration": 3,
        "start_time": "2022-05-03T11:30:21.965Z"
      },
      {
        "duration": 227,
        "start_time": "2022-05-03T11:32:45.329Z"
      },
      {
        "duration": 663737,
        "start_time": "2022-05-03T11:32:54.491Z"
      },
      {
        "duration": 78,
        "start_time": "2022-05-03T11:44:22.082Z"
      },
      {
        "duration": 424164,
        "start_time": "2022-05-03T11:44:29.974Z"
      },
      {
        "duration": 365456,
        "start_time": "2022-05-03T11:54:12.490Z"
      },
      {
        "duration": 407255,
        "start_time": "2022-05-03T12:23:37.880Z"
      },
      {
        "duration": 37065,
        "start_time": "2022-05-03T12:31:11.979Z"
      },
      {
        "duration": 14,
        "start_time": "2022-05-03T12:32:30.353Z"
      },
      {
        "duration": 43933,
        "start_time": "2022-05-03T12:34:57.019Z"
      },
      {
        "duration": 12,
        "start_time": "2022-05-03T12:35:51.124Z"
      },
      {
        "duration": 267,
        "start_time": "2022-05-03T12:36:39.398Z"
      },
      {
        "duration": 139,
        "start_time": "2022-05-03T12:40:00.303Z"
      },
      {
        "duration": 58556,
        "start_time": "2022-05-03T12:40:35.695Z"
      },
      {
        "duration": 135,
        "start_time": "2022-05-03T12:52:21.011Z"
      },
      {
        "duration": 153,
        "start_time": "2022-05-03T12:52:48.833Z"
      },
      {
        "duration": 161,
        "start_time": "2022-05-03T12:52:55.878Z"
      },
      {
        "duration": 129,
        "start_time": "2022-05-03T12:53:30.193Z"
      },
      {
        "duration": 1455,
        "start_time": "2022-05-03T12:59:17.761Z"
      },
      {
        "duration": 1389,
        "start_time": "2022-05-03T12:59:52.871Z"
      },
      {
        "duration": 3,
        "start_time": "2022-05-03T13:01:54.758Z"
      },
      {
        "duration": 2477,
        "start_time": "2022-05-03T13:02:22.000Z"
      },
      {
        "duration": 2784,
        "start_time": "2022-05-03T13:02:47.945Z"
      },
      {
        "duration": 3,
        "start_time": "2022-05-03T13:02:51.193Z"
      },
      {
        "duration": 8,
        "start_time": "2022-05-03T13:09:25.457Z"
      },
      {
        "duration": 2386,
        "start_time": "2022-05-03T13:09:44.073Z"
      },
      {
        "duration": 21,
        "start_time": "2022-05-03T13:10:07.910Z"
      },
      {
        "duration": 2262,
        "start_time": "2022-05-03T13:11:31.571Z"
      },
      {
        "duration": 8,
        "start_time": "2022-05-03T13:11:38.002Z"
      },
      {
        "duration": 22,
        "start_time": "2022-05-03T13:11:42.829Z"
      },
      {
        "duration": 1699,
        "start_time": "2022-05-03T13:12:04.493Z"
      },
      {
        "duration": 2,
        "start_time": "2022-05-03T13:12:35.106Z"
      },
      {
        "duration": 22,
        "start_time": "2022-05-03T13:12:36.768Z"
      },
      {
        "duration": 3,
        "start_time": "2022-05-03T13:12:44.319Z"
      },
      {
        "duration": 26,
        "start_time": "2022-05-03T13:12:44.325Z"
      },
      {
        "duration": 1557,
        "start_time": "2022-05-03T13:12:44.353Z"
      },
      {
        "duration": 28,
        "start_time": "2022-05-03T13:13:07.534Z"
      },
      {
        "duration": 8,
        "start_time": "2022-05-03T13:13:24.802Z"
      },
      {
        "duration": 23,
        "start_time": "2022-05-03T13:15:11.461Z"
      },
      {
        "duration": 3,
        "start_time": "2022-05-03T13:15:30.892Z"
      },
      {
        "duration": 23,
        "start_time": "2022-05-03T13:15:34.550Z"
      },
      {
        "duration": 1568,
        "start_time": "2022-05-03T13:16:16.537Z"
      },
      {
        "duration": 1448,
        "start_time": "2022-05-03T13:20:42.133Z"
      },
      {
        "duration": 1407,
        "start_time": "2022-05-03T13:29:55.535Z"
      },
      {
        "duration": 14,
        "start_time": "2022-05-03T13:32:31.406Z"
      },
      {
        "duration": 13,
        "start_time": "2022-05-03T13:32:40.553Z"
      },
      {
        "duration": 14,
        "start_time": "2022-05-03T13:35:30.181Z"
      },
      {
        "duration": 43,
        "start_time": "2022-05-03T13:35:53.716Z"
      },
      {
        "duration": 11,
        "start_time": "2022-05-03T13:37:56.744Z"
      },
      {
        "duration": 12,
        "start_time": "2022-05-03T13:38:31.816Z"
      },
      {
        "duration": 25,
        "start_time": "2022-05-03T13:38:58.854Z"
      },
      {
        "duration": 1644,
        "start_time": "2022-05-03T13:39:29.246Z"
      },
      {
        "duration": 2491,
        "start_time": "2022-05-03T15:20:16.089Z"
      },
      {
        "duration": 1064,
        "start_time": "2022-05-03T15:20:18.582Z"
      },
      {
        "duration": 26,
        "start_time": "2022-05-03T15:20:19.649Z"
      },
      {
        "duration": 175,
        "start_time": "2022-05-03T15:20:19.677Z"
      },
      {
        "duration": 5,
        "start_time": "2022-05-03T15:20:19.856Z"
      },
      {
        "duration": 21,
        "start_time": "2022-05-03T15:20:19.865Z"
      },
      {
        "duration": 4,
        "start_time": "2022-05-03T15:20:19.888Z"
      },
      {
        "duration": 15,
        "start_time": "2022-05-03T15:20:19.894Z"
      },
      {
        "duration": 158,
        "start_time": "2022-05-03T15:20:19.911Z"
      },
      {
        "duration": 17,
        "start_time": "2022-05-03T15:20:20.070Z"
      },
      {
        "duration": 50,
        "start_time": "2022-05-03T15:20:20.089Z"
      },
      {
        "duration": 443,
        "start_time": "2022-05-03T15:20:20.141Z"
      },
      {
        "duration": 17,
        "start_time": "2022-05-03T15:20:20.586Z"
      },
      {
        "duration": 59,
        "start_time": "2022-05-03T15:20:20.607Z"
      },
      {
        "duration": 98,
        "start_time": "2022-05-03T15:20:20.668Z"
      },
      {
        "duration": 32,
        "start_time": "2022-05-03T15:20:20.768Z"
      },
      {
        "duration": 42,
        "start_time": "2022-05-03T15:20:20.802Z"
      },
      {
        "duration": 40,
        "start_time": "2022-05-03T15:20:20.845Z"
      },
      {
        "duration": 30,
        "start_time": "2022-05-03T15:20:20.887Z"
      },
      {
        "duration": 20,
        "start_time": "2022-05-03T15:20:20.918Z"
      },
      {
        "duration": 71,
        "start_time": "2022-05-03T15:20:20.942Z"
      },
      {
        "duration": 9,
        "start_time": "2022-05-03T15:20:21.014Z"
      },
      {
        "duration": 14,
        "start_time": "2022-05-03T15:20:21.025Z"
      },
      {
        "duration": 47,
        "start_time": "2022-05-03T15:20:21.044Z"
      },
      {
        "duration": 7,
        "start_time": "2022-05-03T15:20:21.093Z"
      },
      {
        "duration": 368,
        "start_time": "2022-05-03T15:20:21.102Z"
      },
      {
        "duration": 7,
        "start_time": "2022-05-03T15:20:21.473Z"
      },
      {
        "duration": 38,
        "start_time": "2022-05-03T15:20:21.481Z"
      },
      {
        "duration": 44,
        "start_time": "2022-05-03T15:20:21.520Z"
      },
      {
        "duration": 28,
        "start_time": "2022-05-03T15:20:21.566Z"
      },
      {
        "duration": 18,
        "start_time": "2022-05-03T15:20:21.596Z"
      },
      {
        "duration": 40,
        "start_time": "2022-05-03T15:20:21.617Z"
      },
      {
        "duration": 36,
        "start_time": "2022-05-03T15:20:21.659Z"
      },
      {
        "duration": 383,
        "start_time": "2022-05-03T15:20:21.697Z"
      },
      {
        "duration": 15,
        "start_time": "2022-05-03T15:20:22.081Z"
      },
      {
        "duration": 21,
        "start_time": "2022-05-03T15:20:22.098Z"
      },
      {
        "duration": 38,
        "start_time": "2022-05-03T15:20:22.120Z"
      },
      {
        "duration": 36,
        "start_time": "2022-05-03T15:20:22.162Z"
      },
      {
        "duration": 13,
        "start_time": "2022-05-03T15:20:22.200Z"
      },
      {
        "duration": 48,
        "start_time": "2022-05-03T15:20:22.215Z"
      },
      {
        "duration": 23,
        "start_time": "2022-05-03T15:20:22.269Z"
      },
      {
        "duration": 44,
        "start_time": "2022-05-03T15:20:22.294Z"
      },
      {
        "duration": 40,
        "start_time": "2022-05-03T15:20:22.340Z"
      },
      {
        "duration": 26,
        "start_time": "2022-05-03T15:20:22.382Z"
      },
      {
        "duration": 17,
        "start_time": "2022-05-03T15:20:22.410Z"
      },
      {
        "duration": 33,
        "start_time": "2022-05-03T15:20:22.428Z"
      },
      {
        "duration": 22,
        "start_time": "2022-05-03T15:20:22.464Z"
      },
      {
        "duration": 6,
        "start_time": "2022-05-03T15:20:22.488Z"
      },
      {
        "duration": 82,
        "start_time": "2022-05-03T15:20:22.496Z"
      },
      {
        "duration": 61,
        "start_time": "2022-05-03T15:20:22.580Z"
      },
      {
        "duration": 54,
        "start_time": "2022-05-03T15:20:22.642Z"
      },
      {
        "duration": 29,
        "start_time": "2022-05-03T15:20:22.698Z"
      },
      {
        "duration": 540,
        "start_time": "2022-05-03T15:20:22.728Z"
      },
      {
        "duration": 356,
        "start_time": "2022-05-03T15:20:23.270Z"
      },
      {
        "duration": 85,
        "start_time": "2022-05-03T15:20:23.628Z"
      },
      {
        "duration": 98,
        "start_time": "2022-05-03T15:20:23.715Z"
      },
      {
        "duration": 163,
        "start_time": "2022-05-03T15:20:23.815Z"
      },
      {
        "duration": 81,
        "start_time": "2022-05-03T15:20:23.979Z"
      },
      {
        "duration": 11,
        "start_time": "2022-05-03T15:20:24.062Z"
      },
      {
        "duration": 1189478,
        "start_time": "2022-05-03T15:20:24.075Z"
      },
      {
        "duration": 52794,
        "start_time": "2022-05-03T15:40:13.556Z"
      },
      {
        "duration": 204,
        "start_time": "2022-05-03T15:41:06.357Z"
      },
      {
        "duration": 7,
        "start_time": "2022-05-03T15:41:06.641Z"
      },
      {
        "duration": 759559,
        "start_time": "2022-05-03T15:41:06.650Z"
      },
      {
        "duration": 67590,
        "start_time": "2022-05-03T15:53:46.212Z"
      },
      {
        "duration": 165,
        "start_time": "2022-05-03T15:54:53.804Z"
      },
      {
        "duration": 3,
        "start_time": "2022-05-03T15:54:53.971Z"
      },
      {
        "duration": 104,
        "start_time": "2022-05-03T15:54:53.976Z"
      },
      {
        "duration": 383535,
        "start_time": "2022-05-03T15:54:54.083Z"
      },
      {
        "duration": 131,
        "start_time": "2022-05-03T16:01:17.620Z"
      },
      {
        "duration": 150,
        "start_time": "2022-05-03T16:12:21.049Z"
      },
      {
        "duration": 142,
        "start_time": "2022-05-03T16:12:39.726Z"
      },
      {
        "duration": 1789929,
        "start_time": "2022-05-03T16:13:01.524Z"
      },
      {
        "duration": 4,
        "start_time": "2022-05-03T16:44:04.405Z"
      },
      {
        "duration": 32490,
        "start_time": "2022-05-03T17:16:15.158Z"
      },
      {
        "duration": 10332,
        "start_time": "2022-05-03T17:18:54.509Z"
      },
      {
        "duration": 10253,
        "start_time": "2022-05-03T17:19:25.185Z"
      },
      {
        "duration": 11,
        "start_time": "2022-05-03T17:37:07.764Z"
      },
      {
        "duration": 59,
        "start_time": "2022-05-03T17:37:09.850Z"
      },
      {
        "duration": 55,
        "start_time": "2022-05-03T17:37:14.337Z"
      },
      {
        "duration": 116,
        "start_time": "2022-05-03T17:37:16.228Z"
      },
      {
        "duration": 60,
        "start_time": "2022-05-03T17:37:18.282Z"
      },
      {
        "duration": 64,
        "start_time": "2022-05-03T17:39:18.893Z"
      },
      {
        "duration": 140,
        "start_time": "2022-05-03T17:49:25.060Z"
      },
      {
        "duration": 13,
        "start_time": "2022-05-03T17:49:33.299Z"
      },
      {
        "duration": 10,
        "start_time": "2022-05-03T17:50:28.464Z"
      },
      {
        "duration": 1530,
        "start_time": "2022-05-03T18:03:10.431Z"
      },
      {
        "duration": 833,
        "start_time": "2022-05-03T18:03:11.962Z"
      },
      {
        "duration": 17,
        "start_time": "2022-05-03T18:03:12.797Z"
      },
      {
        "duration": 153,
        "start_time": "2022-05-03T18:03:12.816Z"
      },
      {
        "duration": 4,
        "start_time": "2022-05-03T18:03:12.970Z"
      },
      {
        "duration": 34,
        "start_time": "2022-05-03T18:03:12.975Z"
      },
      {
        "duration": 6,
        "start_time": "2022-05-03T18:03:13.011Z"
      },
      {
        "duration": 23,
        "start_time": "2022-05-03T18:03:13.018Z"
      },
      {
        "duration": 104,
        "start_time": "2022-05-03T18:03:13.043Z"
      },
      {
        "duration": 21,
        "start_time": "2022-05-03T18:03:13.151Z"
      },
      {
        "duration": 60,
        "start_time": "2022-05-03T18:03:13.174Z"
      },
      {
        "duration": 386,
        "start_time": "2022-05-03T18:03:13.235Z"
      },
      {
        "duration": 23,
        "start_time": "2022-05-03T18:03:13.623Z"
      },
      {
        "duration": 34,
        "start_time": "2022-05-03T18:03:13.648Z"
      },
      {
        "duration": 97,
        "start_time": "2022-05-03T18:03:13.684Z"
      },
      {
        "duration": 30,
        "start_time": "2022-05-03T18:03:13.783Z"
      },
      {
        "duration": 33,
        "start_time": "2022-05-03T18:03:13.815Z"
      },
      {
        "duration": 18,
        "start_time": "2022-05-03T18:03:13.850Z"
      },
      {
        "duration": 30,
        "start_time": "2022-05-03T18:03:13.870Z"
      },
      {
        "duration": 37,
        "start_time": "2022-05-03T18:03:13.902Z"
      },
      {
        "duration": 53,
        "start_time": "2022-05-03T18:03:13.942Z"
      },
      {
        "duration": 10,
        "start_time": "2022-05-03T18:03:13.996Z"
      },
      {
        "duration": 30,
        "start_time": "2022-05-03T18:03:14.007Z"
      },
      {
        "duration": 35,
        "start_time": "2022-05-03T18:03:14.038Z"
      },
      {
        "duration": 6,
        "start_time": "2022-05-03T18:03:14.075Z"
      },
      {
        "duration": 328,
        "start_time": "2022-05-03T18:03:14.082Z"
      },
      {
        "duration": 4,
        "start_time": "2022-05-03T18:03:14.412Z"
      },
      {
        "duration": 39,
        "start_time": "2022-05-03T18:03:14.420Z"
      },
      {
        "duration": 22,
        "start_time": "2022-05-03T18:03:14.461Z"
      },
      {
        "duration": 19,
        "start_time": "2022-05-03T18:03:14.485Z"
      },
      {
        "duration": 31,
        "start_time": "2022-05-03T18:03:14.506Z"
      },
      {
        "duration": 18,
        "start_time": "2022-05-03T18:03:14.539Z"
      },
      {
        "duration": 21,
        "start_time": "2022-05-03T18:03:14.559Z"
      },
      {
        "duration": 316,
        "start_time": "2022-05-03T18:03:14.582Z"
      },
      {
        "duration": 14,
        "start_time": "2022-05-03T18:03:14.900Z"
      },
      {
        "duration": 22,
        "start_time": "2022-05-03T18:03:14.916Z"
      },
      {
        "duration": 7,
        "start_time": "2022-05-03T18:03:14.939Z"
      },
      {
        "duration": 34,
        "start_time": "2022-05-03T18:03:14.948Z"
      },
      {
        "duration": 14,
        "start_time": "2022-05-03T18:03:14.983Z"
      },
      {
        "duration": 44,
        "start_time": "2022-05-03T18:03:14.999Z"
      },
      {
        "duration": 21,
        "start_time": "2022-05-03T18:03:15.045Z"
      },
      {
        "duration": 21,
        "start_time": "2022-05-03T18:03:15.068Z"
      },
      {
        "duration": 14,
        "start_time": "2022-05-03T18:03:15.090Z"
      },
      {
        "duration": 33,
        "start_time": "2022-05-03T18:03:15.106Z"
      },
      {
        "duration": 15,
        "start_time": "2022-05-03T18:03:15.141Z"
      },
      {
        "duration": 18,
        "start_time": "2022-05-03T18:03:15.157Z"
      },
      {
        "duration": 16,
        "start_time": "2022-05-03T18:03:15.177Z"
      },
      {
        "duration": 4,
        "start_time": "2022-05-03T18:03:15.195Z"
      },
      {
        "duration": 78,
        "start_time": "2022-05-03T18:03:15.201Z"
      },
      {
        "duration": 63,
        "start_time": "2022-05-03T18:03:15.281Z"
      },
      {
        "duration": 29,
        "start_time": "2022-05-03T18:03:15.345Z"
      },
      {
        "duration": 30,
        "start_time": "2022-05-03T18:03:15.375Z"
      },
      {
        "duration": 463,
        "start_time": "2022-05-03T18:03:15.407Z"
      },
      {
        "duration": 339,
        "start_time": "2022-05-03T18:03:15.871Z"
      },
      {
        "duration": 67,
        "start_time": "2022-05-03T18:03:16.211Z"
      },
      {
        "duration": 79,
        "start_time": "2022-05-03T18:03:16.279Z"
      },
      {
        "duration": 135,
        "start_time": "2022-05-03T18:03:16.360Z"
      },
      {
        "duration": 7,
        "start_time": "2022-05-03T18:03:16.497Z"
      },
      {
        "duration": 300930,
        "start_time": "2022-05-03T18:03:16.505Z"
      },
      {
        "duration": 20499,
        "start_time": "2022-05-03T18:08:17.436Z"
      },
      {
        "duration": 306,
        "start_time": "2022-05-03T18:08:37.936Z"
      },
      {
        "duration": 4,
        "start_time": "2022-05-03T18:08:38.244Z"
      },
      {
        "duration": 645569,
        "start_time": "2022-05-03T18:08:38.334Z"
      },
      {
        "duration": 54805,
        "start_time": "2022-05-03T18:19:23.905Z"
      },
      {
        "duration": 131,
        "start_time": "2022-05-03T18:20:18.712Z"
      },
      {
        "duration": 1154405,
        "start_time": "2022-05-03T18:20:18.845Z"
      },
      {
        "duration": 5,
        "start_time": "2022-05-03T18:39:33.252Z"
      },
      {
        "duration": 280889,
        "start_time": "2022-05-03T18:39:33.259Z"
      },
      {
        "duration": 9892,
        "start_time": "2022-05-03T18:44:14.150Z"
      },
      {
        "duration": 15,
        "start_time": "2022-05-03T18:44:24.046Z"
      },
      {
        "duration": 11,
        "start_time": "2022-05-03T18:45:06.707Z"
      },
      {
        "duration": 56,
        "start_time": "2022-05-05T08:48:03.361Z"
      },
      {
        "duration": 1989,
        "start_time": "2022-05-05T08:48:10.502Z"
      },
      {
        "duration": 1184,
        "start_time": "2022-05-05T08:48:12.493Z"
      },
      {
        "duration": 17,
        "start_time": "2022-05-05T08:48:13.679Z"
      },
      {
        "duration": 130,
        "start_time": "2022-05-05T08:48:13.699Z"
      },
      {
        "duration": 3,
        "start_time": "2022-05-05T08:48:13.831Z"
      },
      {
        "duration": 8,
        "start_time": "2022-05-05T08:48:16.391Z"
      },
      {
        "duration": 73,
        "start_time": "2022-05-05T09:01:44.798Z"
      },
      {
        "duration": 4,
        "start_time": "2022-05-05T09:01:58.757Z"
      },
      {
        "duration": 737,
        "start_time": "2022-05-05T09:01:58.763Z"
      },
      {
        "duration": 14,
        "start_time": "2022-05-05T09:01:59.501Z"
      },
      {
        "duration": 124,
        "start_time": "2022-05-05T09:01:59.517Z"
      },
      {
        "duration": 2,
        "start_time": "2022-05-05T09:01:59.643Z"
      },
      {
        "duration": 26,
        "start_time": "2022-05-05T09:01:59.647Z"
      },
      {
        "duration": 6,
        "start_time": "2022-05-05T09:01:59.675Z"
      },
      {
        "duration": 15,
        "start_time": "2022-05-05T09:01:59.682Z"
      },
      {
        "duration": 94,
        "start_time": "2022-05-05T09:01:59.698Z"
      },
      {
        "duration": 12,
        "start_time": "2022-05-05T09:01:59.794Z"
      },
      {
        "duration": 44,
        "start_time": "2022-05-05T09:01:59.808Z"
      },
      {
        "duration": 340,
        "start_time": "2022-05-05T09:01:59.853Z"
      },
      {
        "duration": 30,
        "start_time": "2022-05-05T09:02:00.194Z"
      },
      {
        "duration": 28,
        "start_time": "2022-05-05T09:02:00.226Z"
      },
      {
        "duration": 75,
        "start_time": "2022-05-05T09:02:00.256Z"
      },
      {
        "duration": 26,
        "start_time": "2022-05-05T09:02:00.333Z"
      },
      {
        "duration": 44,
        "start_time": "2022-05-05T09:02:00.360Z"
      },
      {
        "duration": 22,
        "start_time": "2022-05-05T09:02:00.406Z"
      },
      {
        "duration": 29,
        "start_time": "2022-05-05T09:02:00.429Z"
      },
      {
        "duration": 27,
        "start_time": "2022-05-05T09:02:00.460Z"
      },
      {
        "duration": 71,
        "start_time": "2022-05-05T09:02:00.489Z"
      },
      {
        "duration": 11,
        "start_time": "2022-05-05T09:02:00.562Z"
      },
      {
        "duration": 10,
        "start_time": "2022-05-05T09:02:00.575Z"
      },
      {
        "duration": 54,
        "start_time": "2022-05-05T09:02:00.586Z"
      },
      {
        "duration": 7,
        "start_time": "2022-05-05T09:02:00.642Z"
      },
      {
        "duration": 376,
        "start_time": "2022-05-05T09:02:00.651Z"
      },
      {
        "duration": 4,
        "start_time": "2022-05-05T09:02:01.030Z"
      },
      {
        "duration": 34,
        "start_time": "2022-05-05T09:02:01.038Z"
      },
      {
        "duration": 19,
        "start_time": "2022-05-05T09:02:01.074Z"
      },
      {
        "duration": 28,
        "start_time": "2022-05-05T09:02:01.095Z"
      },
      {
        "duration": 13,
        "start_time": "2022-05-05T09:02:01.125Z"
      },
      {
        "duration": 42,
        "start_time": "2022-05-05T09:02:01.140Z"
      },
      {
        "duration": 20,
        "start_time": "2022-05-05T09:02:01.183Z"
      },
      {
        "duration": 284,
        "start_time": "2022-05-05T09:02:01.204Z"
      },
      {
        "duration": 12,
        "start_time": "2022-05-05T09:02:01.490Z"
      },
      {
        "duration": 35,
        "start_time": "2022-05-05T09:02:01.504Z"
      },
      {
        "duration": 12,
        "start_time": "2022-05-05T09:02:01.541Z"
      },
      {
        "duration": 31,
        "start_time": "2022-05-05T09:02:01.555Z"
      },
      {
        "duration": 20,
        "start_time": "2022-05-05T09:02:01.588Z"
      },
      {
        "duration": 24,
        "start_time": "2022-05-05T09:02:01.610Z"
      },
      {
        "duration": 13,
        "start_time": "2022-05-05T09:02:01.636Z"
      },
      {
        "duration": 29,
        "start_time": "2022-05-05T09:02:01.650Z"
      },
      {
        "duration": 42,
        "start_time": "2022-05-05T09:02:01.680Z"
      },
      {
        "duration": 46,
        "start_time": "2022-05-05T09:02:01.723Z"
      },
      {
        "duration": 37,
        "start_time": "2022-05-05T09:02:01.770Z"
      },
      {
        "duration": 34,
        "start_time": "2022-05-05T09:02:01.809Z"
      },
      {
        "duration": 18,
        "start_time": "2022-05-05T09:02:01.844Z"
      },
      {
        "duration": 27,
        "start_time": "2022-05-05T09:02:01.864Z"
      },
      {
        "duration": 65,
        "start_time": "2022-05-05T09:02:01.893Z"
      },
      {
        "duration": 47,
        "start_time": "2022-05-05T09:02:01.960Z"
      },
      {
        "duration": 25,
        "start_time": "2022-05-05T09:02:02.023Z"
      },
      {
        "duration": 27,
        "start_time": "2022-05-05T09:02:02.049Z"
      },
      {
        "duration": 436,
        "start_time": "2022-05-05T09:02:02.078Z"
      },
      {
        "duration": 320,
        "start_time": "2022-05-05T09:02:02.523Z"
      },
      {
        "duration": 2,
        "start_time": "2022-05-05T09:02:02.845Z"
      },
      {
        "duration": 108,
        "start_time": "2022-05-05T09:02:05.880Z"
      },
      {
        "duration": 12,
        "start_time": "2022-05-05T09:04:50.956Z"
      },
      {
        "duration": 28,
        "start_time": "2022-05-05T09:05:56.331Z"
      },
      {
        "duration": 4,
        "start_time": "2022-05-05T09:26:06.009Z"
      },
      {
        "duration": 226,
        "start_time": "2022-05-05T09:33:14.244Z"
      },
      {
        "duration": 295284,
        "start_time": "2022-05-05T09:33:31.544Z"
      },
      {
        "duration": 18033,
        "start_time": "2022-05-05T09:41:42.393Z"
      },
      {
        "duration": 147,
        "start_time": "2022-05-05T09:42:17.789Z"
      },
      {
        "duration": 188,
        "start_time": "2022-05-05T09:44:49.620Z"
      },
      {
        "duration": 3,
        "start_time": "2022-05-05T09:44:55.621Z"
      },
      {
        "duration": 636393,
        "start_time": "2022-05-05T09:44:58.336Z"
      },
      {
        "duration": 234,
        "start_time": "2022-05-05T09:57:01.728Z"
      },
      {
        "duration": 5,
        "start_time": "2022-05-05T09:57:20.239Z"
      },
      {
        "duration": 98,
        "start_time": "2022-05-05T10:09:56.674Z"
      },
      {
        "duration": 177,
        "start_time": "2022-05-05T10:10:07.207Z"
      },
      {
        "duration": 113,
        "start_time": "2022-05-05T10:15:27.410Z"
      },
      {
        "duration": 13,
        "start_time": "2022-05-05T10:16:53.949Z"
      },
      {
        "duration": 5,
        "start_time": "2022-05-05T10:17:16.925Z"
      },
      {
        "duration": 1086,
        "start_time": "2022-05-05T10:21:43.907Z"
      },
      {
        "duration": 1112,
        "start_time": "2022-05-05T10:21:54.152Z"
      },
      {
        "duration": 7,
        "start_time": "2022-05-05T10:22:19.634Z"
      },
      {
        "duration": 7,
        "start_time": "2022-05-05T10:22:29.911Z"
      },
      {
        "duration": 6,
        "start_time": "2022-05-05T10:22:59.094Z"
      },
      {
        "duration": 4,
        "start_time": "2022-05-05T10:23:15.254Z"
      },
      {
        "duration": 726,
        "start_time": "2022-05-05T10:23:15.262Z"
      },
      {
        "duration": 14,
        "start_time": "2022-05-05T10:23:15.990Z"
      },
      {
        "duration": 116,
        "start_time": "2022-05-05T10:23:16.005Z"
      },
      {
        "duration": 3,
        "start_time": "2022-05-05T10:23:16.123Z"
      },
      {
        "duration": 25,
        "start_time": "2022-05-05T10:23:16.128Z"
      },
      {
        "duration": 20,
        "start_time": "2022-05-05T10:23:16.155Z"
      },
      {
        "duration": 18,
        "start_time": "2022-05-05T10:23:16.177Z"
      },
      {
        "duration": 84,
        "start_time": "2022-05-05T10:23:16.197Z"
      },
      {
        "duration": 13,
        "start_time": "2022-05-05T10:23:16.283Z"
      },
      {
        "duration": 41,
        "start_time": "2022-05-05T10:23:16.297Z"
      },
      {
        "duration": 416,
        "start_time": "2022-05-05T10:23:16.340Z"
      },
      {
        "duration": 16,
        "start_time": "2022-05-05T10:23:16.757Z"
      },
      {
        "duration": 27,
        "start_time": "2022-05-05T10:23:16.775Z"
      },
      {
        "duration": 79,
        "start_time": "2022-05-05T10:23:16.805Z"
      },
      {
        "duration": 25,
        "start_time": "2022-05-05T10:23:16.886Z"
      },
      {
        "duration": 13,
        "start_time": "2022-05-05T10:23:16.924Z"
      },
      {
        "duration": 749,
        "start_time": "2022-05-05T10:23:16.938Z"
      },
      {
        "duration": 0,
        "start_time": "2022-05-05T10:23:17.689Z"
      },
      {
        "duration": 0,
        "start_time": "2022-05-05T10:23:17.690Z"
      },
      {
        "duration": 0,
        "start_time": "2022-05-05T10:23:17.691Z"
      },
      {
        "duration": 0,
        "start_time": "2022-05-05T10:23:17.692Z"
      },
      {
        "duration": 0,
        "start_time": "2022-05-05T10:23:17.693Z"
      },
      {
        "duration": 0,
        "start_time": "2022-05-05T10:23:17.694Z"
      },
      {
        "duration": 0,
        "start_time": "2022-05-05T10:23:17.695Z"
      },
      {
        "duration": 0,
        "start_time": "2022-05-05T10:23:17.696Z"
      },
      {
        "duration": 696,
        "start_time": "2022-05-05T10:23:51.279Z"
      },
      {
        "duration": 67,
        "start_time": "2022-05-05T10:24:02.664Z"
      },
      {
        "duration": 25,
        "start_time": "2022-05-05T10:24:05.073Z"
      },
      {
        "duration": 12,
        "start_time": "2022-05-05T10:24:09.133Z"
      },
      {
        "duration": 94,
        "start_time": "2022-05-05T10:24:38.175Z"
      },
      {
        "duration": 586,
        "start_time": "2022-05-05T10:24:58.521Z"
      },
      {
        "duration": 2,
        "start_time": "2022-05-05T10:25:53.790Z"
      },
      {
        "duration": 3,
        "start_time": "2022-05-05T10:26:04.337Z"
      },
      {
        "duration": 64,
        "start_time": "2022-05-05T10:26:14.755Z"
      },
      {
        "duration": 626,
        "start_time": "2022-05-05T10:26:23.063Z"
      },
      {
        "duration": 4,
        "start_time": "2022-05-05T10:26:53.598Z"
      },
      {
        "duration": 733,
        "start_time": "2022-05-05T10:26:53.605Z"
      },
      {
        "duration": 13,
        "start_time": "2022-05-05T10:26:54.340Z"
      },
      {
        "duration": 124,
        "start_time": "2022-05-05T10:26:54.356Z"
      },
      {
        "duration": 4,
        "start_time": "2022-05-05T10:26:54.482Z"
      },
      {
        "duration": 36,
        "start_time": "2022-05-05T10:26:54.488Z"
      },
      {
        "duration": 7,
        "start_time": "2022-05-05T10:26:54.526Z"
      },
      {
        "duration": 17,
        "start_time": "2022-05-05T10:26:54.535Z"
      },
      {
        "duration": 82,
        "start_time": "2022-05-05T10:26:54.553Z"
      },
      {
        "duration": 13,
        "start_time": "2022-05-05T10:26:54.637Z"
      },
      {
        "duration": 28,
        "start_time": "2022-05-05T10:26:54.652Z"
      },
      {
        "duration": 342,
        "start_time": "2022-05-05T10:26:54.681Z"
      },
      {
        "duration": 17,
        "start_time": "2022-05-05T10:26:55.025Z"
      },
      {
        "duration": 26,
        "start_time": "2022-05-05T10:26:55.044Z"
      },
      {
        "duration": 81,
        "start_time": "2022-05-05T10:26:55.072Z"
      },
      {
        "duration": 26,
        "start_time": "2022-05-05T10:26:55.155Z"
      },
      {
        "duration": 31,
        "start_time": "2022-05-05T10:28:13.140Z"
      },
      {
        "duration": 12,
        "start_time": "2022-05-05T10:28:31.553Z"
      },
      {
        "duration": 61,
        "start_time": "2022-05-05T10:28:38.407Z"
      },
      {
        "duration": 221,
        "start_time": "2022-05-05T10:28:46.089Z"
      },
      {
        "duration": 13,
        "start_time": "2022-05-05T10:28:50.220Z"
      },
      {
        "duration": 8,
        "start_time": "2022-05-05T10:30:38.393Z"
      },
      {
        "duration": 8,
        "start_time": "2022-05-05T10:30:42.099Z"
      },
      {
        "duration": 11,
        "start_time": "2022-05-05T10:30:49.318Z"
      },
      {
        "duration": 8,
        "start_time": "2022-05-05T10:30:58.164Z"
      },
      {
        "duration": 8,
        "start_time": "2022-05-05T10:31:03.493Z"
      },
      {
        "duration": 7,
        "start_time": "2022-05-05T10:31:06.988Z"
      },
      {
        "duration": 127,
        "start_time": "2022-05-05T10:31:10.258Z"
      },
      {
        "duration": 1366,
        "start_time": "2022-05-05T10:31:21.516Z"
      },
      {
        "duration": 149,
        "start_time": "2022-05-05T10:31:35.960Z"
      },
      {
        "duration": 172,
        "start_time": "2022-05-05T10:31:49.946Z"
      },
      {
        "duration": 148,
        "start_time": "2022-05-05T10:32:02.815Z"
      },
      {
        "duration": 161,
        "start_time": "2022-05-05T10:32:07.297Z"
      },
      {
        "duration": 122,
        "start_time": "2022-05-05T10:32:23.628Z"
      },
      {
        "duration": 122,
        "start_time": "2022-05-05T10:32:55.561Z"
      },
      {
        "duration": 241,
        "start_time": "2022-05-05T10:33:21.331Z"
      },
      {
        "duration": 131,
        "start_time": "2022-05-05T10:33:31.716Z"
      },
      {
        "duration": 144,
        "start_time": "2022-05-05T10:34:36.243Z"
      },
      {
        "duration": 170,
        "start_time": "2022-05-05T10:36:35.395Z"
      },
      {
        "duration": 160,
        "start_time": "2022-05-05T10:36:46.993Z"
      },
      {
        "duration": 1120,
        "start_time": "2022-05-05T11:53:12.967Z"
      },
      {
        "duration": 95,
        "start_time": "2022-05-05T11:56:02.595Z"
      },
      {
        "duration": 13,
        "start_time": "2022-05-05T11:56:20.989Z"
      },
      {
        "duration": 123,
        "start_time": "2022-05-05T11:57:29.014Z"
      },
      {
        "duration": 123,
        "start_time": "2022-05-05T11:58:19.462Z"
      },
      {
        "duration": 127,
        "start_time": "2022-05-05T11:59:01.340Z"
      },
      {
        "duration": 125,
        "start_time": "2022-05-05T11:59:13.498Z"
      },
      {
        "duration": 127,
        "start_time": "2022-05-05T11:59:21.659Z"
      },
      {
        "duration": 131,
        "start_time": "2022-05-05T11:59:34.267Z"
      },
      {
        "duration": 155,
        "start_time": "2022-05-05T12:02:50.536Z"
      },
      {
        "duration": 158,
        "start_time": "2022-05-05T12:03:07.016Z"
      },
      {
        "duration": 1736,
        "start_time": "2022-05-05T21:37:07.503Z"
      },
      {
        "duration": 842,
        "start_time": "2022-05-05T21:37:09.241Z"
      },
      {
        "duration": 17,
        "start_time": "2022-05-05T21:37:10.084Z"
      },
      {
        "duration": 145,
        "start_time": "2022-05-05T21:37:10.104Z"
      },
      {
        "duration": 3,
        "start_time": "2022-05-05T21:37:10.251Z"
      },
      {
        "duration": 19,
        "start_time": "2022-05-05T21:37:10.256Z"
      },
      {
        "duration": 4,
        "start_time": "2022-05-05T21:37:10.277Z"
      },
      {
        "duration": 14,
        "start_time": "2022-05-05T21:37:10.282Z"
      },
      {
        "duration": 117,
        "start_time": "2022-05-05T21:37:10.298Z"
      },
      {
        "duration": 24,
        "start_time": "2022-05-05T21:37:10.417Z"
      },
      {
        "duration": 39,
        "start_time": "2022-05-05T21:37:10.443Z"
      },
      {
        "duration": 394,
        "start_time": "2022-05-05T21:37:10.483Z"
      },
      {
        "duration": 19,
        "start_time": "2022-05-05T21:37:10.879Z"
      },
      {
        "duration": 50,
        "start_time": "2022-05-05T21:37:10.900Z"
      },
      {
        "duration": 83,
        "start_time": "2022-05-05T21:37:10.952Z"
      },
      {
        "duration": 41,
        "start_time": "2022-05-05T21:37:11.037Z"
      },
      {
        "duration": 16,
        "start_time": "2022-05-05T21:37:11.081Z"
      },
      {
        "duration": 59,
        "start_time": "2022-05-05T21:37:11.098Z"
      },
      {
        "duration": 17,
        "start_time": "2022-05-05T21:37:11.159Z"
      },
      {
        "duration": 281,
        "start_time": "2022-05-05T21:37:11.178Z"
      },
      {
        "duration": 15,
        "start_time": "2022-05-05T21:37:11.461Z"
      },
      {
        "duration": 5,
        "start_time": "2022-05-05T21:37:11.478Z"
      },
      {
        "duration": 7,
        "start_time": "2022-05-05T21:37:11.484Z"
      },
      {
        "duration": 5,
        "start_time": "2022-05-05T21:37:11.493Z"
      },
      {
        "duration": 6,
        "start_time": "2022-05-05T21:37:11.500Z"
      },
      {
        "duration": 5,
        "start_time": "2022-05-05T21:37:11.508Z"
      },
      {
        "duration": 7,
        "start_time": "2022-05-05T21:37:11.534Z"
      },
      {
        "duration": 5,
        "start_time": "2022-05-05T21:37:11.544Z"
      },
      {
        "duration": 13,
        "start_time": "2022-05-05T21:37:11.550Z"
      },
      {
        "duration": 318,
        "start_time": "2022-05-05T21:37:11.565Z"
      },
      {
        "duration": 265,
        "start_time": "2022-05-05T21:37:20.632Z"
      },
      {
        "duration": 138,
        "start_time": "2022-05-05T21:37:32.962Z"
      },
      {
        "duration": 149,
        "start_time": "2022-05-05T21:38:19.604Z"
      },
      {
        "duration": 285,
        "start_time": "2022-05-05T21:38:30.597Z"
      },
      {
        "duration": 321,
        "start_time": "2022-05-05T21:38:45.206Z"
      },
      {
        "duration": 168,
        "start_time": "2022-05-05T21:38:52.210Z"
      },
      {
        "duration": 19,
        "start_time": "2022-05-05T21:38:59.867Z"
      },
      {
        "duration": 1636,
        "start_time": "2022-05-05T21:39:16.159Z"
      },
      {
        "duration": 24,
        "start_time": "2022-05-05T21:40:36.204Z"
      },
      {
        "duration": 7,
        "start_time": "2022-05-05T21:40:40.211Z"
      },
      {
        "duration": 289,
        "start_time": "2022-05-05T21:40:59.950Z"
      },
      {
        "duration": 39,
        "start_time": "2022-05-05T21:41:23.254Z"
      },
      {
        "duration": 9,
        "start_time": "2022-05-05T21:41:25.386Z"
      },
      {
        "duration": 287,
        "start_time": "2022-05-05T21:41:28.181Z"
      },
      {
        "duration": 6,
        "start_time": "2022-05-05T21:41:36.984Z"
      },
      {
        "duration": 1577,
        "start_time": "2022-05-05T21:43:09.806Z"
      },
      {
        "duration": 265,
        "start_time": "2022-05-05T21:44:03.338Z"
      },
      {
        "duration": 260,
        "start_time": "2022-05-05T21:44:44.416Z"
      },
      {
        "duration": 331,
        "start_time": "2022-05-05T21:45:02.809Z"
      },
      {
        "duration": 209,
        "start_time": "2022-05-05T21:45:07.243Z"
      },
      {
        "duration": 212,
        "start_time": "2022-05-05T21:45:19.031Z"
      },
      {
        "duration": 2,
        "start_time": "2022-05-05T21:47:22.537Z"
      },
      {
        "duration": 22,
        "start_time": "2022-05-05T21:47:40.620Z"
      },
      {
        "duration": 368,
        "start_time": "2022-05-05T21:47:45.317Z"
      },
      {
        "duration": 23,
        "start_time": "2022-05-05T21:49:00.069Z"
      },
      {
        "duration": 16,
        "start_time": "2022-05-05T21:49:08.458Z"
      },
      {
        "duration": 362,
        "start_time": "2022-05-05T21:49:33.306Z"
      },
      {
        "duration": 5,
        "start_time": "2022-05-05T21:50:00.776Z"
      },
      {
        "duration": 29,
        "start_time": "2022-05-05T21:50:33.079Z"
      },
      {
        "duration": 16,
        "start_time": "2022-05-05T21:50:36.532Z"
      },
      {
        "duration": 15,
        "start_time": "2022-05-05T21:51:09.167Z"
      },
      {
        "duration": 18,
        "start_time": "2022-05-05T21:51:11.549Z"
      },
      {
        "duration": 15,
        "start_time": "2022-05-05T21:51:13.512Z"
      },
      {
        "duration": 27,
        "start_time": "2022-05-05T21:51:16.770Z"
      },
      {
        "duration": 16,
        "start_time": "2022-05-05T21:51:23.841Z"
      },
      {
        "duration": 15,
        "start_time": "2022-05-05T21:51:26.159Z"
      },
      {
        "duration": 5,
        "start_time": "2022-05-05T21:51:33.618Z"
      },
      {
        "duration": 803,
        "start_time": "2022-05-05T21:51:33.627Z"
      },
      {
        "duration": 13,
        "start_time": "2022-05-05T21:51:34.432Z"
      },
      {
        "duration": 139,
        "start_time": "2022-05-05T21:51:34.446Z"
      },
      {
        "duration": 2,
        "start_time": "2022-05-05T21:51:34.587Z"
      },
      {
        "duration": 20,
        "start_time": "2022-05-05T21:51:34.591Z"
      },
      {
        "duration": 3,
        "start_time": "2022-05-05T21:51:34.613Z"
      },
      {
        "duration": 24,
        "start_time": "2022-05-05T21:51:34.618Z"
      },
      {
        "duration": 97,
        "start_time": "2022-05-05T21:51:34.644Z"
      },
      {
        "duration": 14,
        "start_time": "2022-05-05T21:51:34.742Z"
      },
      {
        "duration": 24,
        "start_time": "2022-05-05T21:51:34.758Z"
      },
      {
        "duration": 517,
        "start_time": "2022-05-05T21:51:34.784Z"
      },
      {
        "duration": 18,
        "start_time": "2022-05-05T21:51:35.302Z"
      },
      {
        "duration": 35,
        "start_time": "2022-05-05T21:51:35.322Z"
      },
      {
        "duration": 118,
        "start_time": "2022-05-05T21:51:35.361Z"
      },
      {
        "duration": 54,
        "start_time": "2022-05-05T21:51:35.480Z"
      },
      {
        "duration": 17,
        "start_time": "2022-05-05T21:51:35.536Z"
      },
      {
        "duration": 37,
        "start_time": "2022-05-05T21:51:35.554Z"
      },
      {
        "duration": 22,
        "start_time": "2022-05-05T21:51:35.593Z"
      },
      {
        "duration": 262,
        "start_time": "2022-05-05T21:51:35.616Z"
      },
      {
        "duration": 15,
        "start_time": "2022-05-05T21:51:35.880Z"
      },
      {
        "duration": 6,
        "start_time": "2022-05-05T21:51:35.897Z"
      },
      {
        "duration": 8,
        "start_time": "2022-05-05T21:51:35.904Z"
      },
      {
        "duration": 5,
        "start_time": "2022-05-05T21:51:35.913Z"
      },
      {
        "duration": 17,
        "start_time": "2022-05-05T21:51:35.920Z"
      },
      {
        "duration": 9,
        "start_time": "2022-05-05T21:51:35.938Z"
      },
      {
        "duration": 22,
        "start_time": "2022-05-05T21:51:35.949Z"
      },
      {
        "duration": 6,
        "start_time": "2022-05-05T21:51:35.972Z"
      },
      {
        "duration": 9,
        "start_time": "2022-05-05T21:51:35.980Z"
      },
      {
        "duration": 140,
        "start_time": "2022-05-05T21:51:35.991Z"
      },
      {
        "duration": 1361,
        "start_time": "2022-05-05T21:51:36.133Z"
      },
      {
        "duration": 26,
        "start_time": "2022-05-05T21:51:37.495Z"
      },
      {
        "duration": 15,
        "start_time": "2022-05-05T21:51:37.523Z"
      },
      {
        "duration": 257,
        "start_time": "2022-05-05T21:51:37.540Z"
      },
      {
        "duration": 5,
        "start_time": "2022-05-05T21:51:37.798Z"
      },
      {
        "duration": 40,
        "start_time": "2022-05-05T21:51:37.804Z"
      },
      {
        "duration": 17,
        "start_time": "2022-05-05T21:51:37.846Z"
      },
      {
        "duration": 20,
        "start_time": "2022-05-05T21:51:37.865Z"
      },
      {
        "duration": 16,
        "start_time": "2022-05-05T21:51:37.886Z"
      },
      {
        "duration": 35,
        "start_time": "2022-05-05T21:51:37.904Z"
      },
      {
        "duration": 161,
        "start_time": "2022-05-05T21:51:37.941Z"
      },
      {
        "duration": 2,
        "start_time": "2022-05-05T21:51:38.107Z"
      },
      {
        "duration": 42,
        "start_time": "2022-05-05T21:51:38.111Z"
      },
      {
        "duration": 356,
        "start_time": "2022-05-05T21:51:38.155Z"
      },
      {
        "duration": 34,
        "start_time": "2022-05-05T21:51:38.512Z"
      },
      {
        "duration": 362,
        "start_time": "2022-05-05T21:51:38.548Z"
      },
      {
        "duration": 5,
        "start_time": "2022-05-05T21:51:38.912Z"
      },
      {
        "duration": 21,
        "start_time": "2022-05-05T21:51:38.919Z"
      },
      {
        "duration": 4,
        "start_time": "2022-05-05T21:51:38.941Z"
      },
      {
        "duration": 37,
        "start_time": "2022-05-05T21:51:38.946Z"
      },
      {
        "duration": 15,
        "start_time": "2022-05-05T21:51:38.985Z"
      },
      {
        "duration": 51,
        "start_time": "2022-05-05T21:51:39.001Z"
      },
      {
        "duration": 19,
        "start_time": "2022-05-05T21:51:39.054Z"
      },
      {
        "duration": 20,
        "start_time": "2022-05-05T21:51:39.074Z"
      },
      {
        "duration": 13,
        "start_time": "2022-05-05T21:51:39.096Z"
      },
      {
        "duration": 45,
        "start_time": "2022-05-05T21:51:39.111Z"
      },
      {
        "duration": 16,
        "start_time": "2022-05-05T21:51:39.158Z"
      },
      {
        "duration": 19,
        "start_time": "2022-05-05T21:51:39.175Z"
      },
      {
        "duration": 15,
        "start_time": "2022-05-05T21:51:39.196Z"
      },
      {
        "duration": 5,
        "start_time": "2022-05-05T21:51:49.431Z"
      },
      {
        "duration": 70,
        "start_time": "2022-05-05T21:51:51.449Z"
      },
      {
        "duration": 68,
        "start_time": "2022-05-05T21:51:56.189Z"
      },
      {
        "duration": 4,
        "start_time": "2022-05-05T21:59:48.687Z"
      },
      {
        "duration": 909,
        "start_time": "2022-05-05T21:59:48.696Z"
      },
      {
        "duration": 14,
        "start_time": "2022-05-05T21:59:49.607Z"
      },
      {
        "duration": 155,
        "start_time": "2022-05-05T21:59:49.622Z"
      },
      {
        "duration": 4,
        "start_time": "2022-05-05T21:59:49.779Z"
      },
      {
        "duration": 29,
        "start_time": "2022-05-05T21:59:49.784Z"
      },
      {
        "duration": 20,
        "start_time": "2022-05-05T21:59:49.814Z"
      },
      {
        "duration": 17,
        "start_time": "2022-05-05T21:59:49.836Z"
      },
      {
        "duration": 99,
        "start_time": "2022-05-05T21:59:49.855Z"
      },
      {
        "duration": 19,
        "start_time": "2022-05-05T21:59:49.956Z"
      },
      {
        "duration": 32,
        "start_time": "2022-05-05T21:59:49.977Z"
      },
      {
        "duration": 440,
        "start_time": "2022-05-05T21:59:50.011Z"
      },
      {
        "duration": 19,
        "start_time": "2022-05-05T21:59:50.453Z"
      },
      {
        "duration": 32,
        "start_time": "2022-05-05T21:59:50.474Z"
      },
      {
        "duration": 103,
        "start_time": "2022-05-05T21:59:50.510Z"
      },
      {
        "duration": 51,
        "start_time": "2022-05-05T21:59:50.616Z"
      },
      {
        "duration": 18,
        "start_time": "2022-05-05T21:59:50.669Z"
      },
      {
        "duration": 50,
        "start_time": "2022-05-05T21:59:50.688Z"
      },
      {
        "duration": 18,
        "start_time": "2022-05-05T21:59:50.740Z"
      },
      {
        "duration": 406,
        "start_time": "2022-05-05T21:59:50.760Z"
      },
      {
        "duration": 16,
        "start_time": "2022-05-05T21:59:51.168Z"
      },
      {
        "duration": 13,
        "start_time": "2022-05-05T21:59:51.186Z"
      },
      {
        "duration": 8,
        "start_time": "2022-05-05T21:59:51.200Z"
      },
      {
        "duration": 9,
        "start_time": "2022-05-05T21:59:51.210Z"
      },
      {
        "duration": 12,
        "start_time": "2022-05-05T21:59:51.221Z"
      },
      {
        "duration": 5,
        "start_time": "2022-05-05T21:59:51.235Z"
      },
      {
        "duration": 8,
        "start_time": "2022-05-05T21:59:51.242Z"
      },
      {
        "duration": 7,
        "start_time": "2022-05-05T21:59:51.252Z"
      },
      {
        "duration": 9,
        "start_time": "2022-05-05T21:59:51.261Z"
      },
      {
        "duration": 149,
        "start_time": "2022-05-05T21:59:51.272Z"
      },
      {
        "duration": 1387,
        "start_time": "2022-05-05T21:59:51.423Z"
      },
      {
        "duration": 30,
        "start_time": "2022-05-05T21:59:52.812Z"
      },
      {
        "duration": 6,
        "start_time": "2022-05-05T21:59:52.844Z"
      },
      {
        "duration": 288,
        "start_time": "2022-05-05T21:59:52.851Z"
      },
      {
        "duration": 5,
        "start_time": "2022-05-05T21:59:53.141Z"
      },
      {
        "duration": 40,
        "start_time": "2022-05-05T21:59:53.148Z"
      },
      {
        "duration": 27,
        "start_time": "2022-05-05T21:59:53.190Z"
      },
      {
        "duration": 26,
        "start_time": "2022-05-05T21:59:53.219Z"
      },
      {
        "duration": 18,
        "start_time": "2022-05-05T21:59:53.247Z"
      },
      {
        "duration": 22,
        "start_time": "2022-05-05T21:59:53.267Z"
      },
      {
        "duration": 178,
        "start_time": "2022-05-05T21:59:53.290Z"
      },
      {
        "duration": 2,
        "start_time": "2022-05-05T21:59:53.473Z"
      },
      {
        "duration": 40,
        "start_time": "2022-05-05T21:59:53.476Z"
      },
      {
        "duration": 373,
        "start_time": "2022-05-05T21:59:53.518Z"
      },
      {
        "duration": 24,
        "start_time": "2022-05-05T21:59:53.893Z"
      },
      {
        "duration": 391,
        "start_time": "2022-05-05T21:59:53.919Z"
      },
      {
        "duration": 5,
        "start_time": "2022-05-05T21:59:54.312Z"
      },
      {
        "duration": 27,
        "start_time": "2022-05-05T21:59:54.319Z"
      },
      {
        "duration": 5,
        "start_time": "2022-05-05T21:59:54.347Z"
      },
      {
        "duration": 36,
        "start_time": "2022-05-05T21:59:54.354Z"
      },
      {
        "duration": 15,
        "start_time": "2022-05-05T21:59:54.391Z"
      },
      {
        "duration": 47,
        "start_time": "2022-05-05T21:59:54.407Z"
      },
      {
        "duration": 17,
        "start_time": "2022-05-05T21:59:54.456Z"
      },
      {
        "duration": 18,
        "start_time": "2022-05-05T21:59:54.475Z"
      },
      {
        "duration": 15,
        "start_time": "2022-05-05T21:59:54.495Z"
      },
      {
        "duration": 47,
        "start_time": "2022-05-05T21:59:54.512Z"
      },
      {
        "duration": 22,
        "start_time": "2022-05-05T21:59:54.560Z"
      },
      {
        "duration": 20,
        "start_time": "2022-05-05T21:59:54.583Z"
      },
      {
        "duration": 30,
        "start_time": "2022-05-05T21:59:54.604Z"
      },
      {
        "duration": 3,
        "start_time": "2022-05-05T21:59:54.636Z"
      },
      {
        "duration": 74,
        "start_time": "2022-05-05T21:59:54.641Z"
      },
      {
        "duration": 77,
        "start_time": "2022-05-05T21:59:54.717Z"
      },
      {
        "duration": 17,
        "start_time": "2022-05-05T21:59:54.795Z"
      },
      {
        "duration": 3,
        "start_time": "2022-05-05T21:59:54.813Z"
      },
      {
        "duration": 584,
        "start_time": "2022-05-05T21:59:54.834Z"
      },
      {
        "duration": 401,
        "start_time": "2022-05-05T21:59:55.420Z"
      },
      {
        "duration": 3,
        "start_time": "2022-05-05T21:59:55.823Z"
      },
      {
        "duration": 149,
        "start_time": "2022-05-05T21:59:55.834Z"
      },
      {
        "duration": 36,
        "start_time": "2022-05-05T21:59:55.985Z"
      },
      {
        "duration": 5,
        "start_time": "2022-05-05T22:04:52.493Z"
      },
      {
        "duration": 901,
        "start_time": "2022-05-05T22:04:52.503Z"
      },
      {
        "duration": 15,
        "start_time": "2022-05-05T22:04:53.406Z"
      },
      {
        "duration": 157,
        "start_time": "2022-05-05T22:04:53.434Z"
      },
      {
        "duration": 3,
        "start_time": "2022-05-05T22:04:53.593Z"
      },
      {
        "duration": 43,
        "start_time": "2022-05-05T22:04:53.599Z"
      },
      {
        "duration": 4,
        "start_time": "2022-05-05T22:04:53.644Z"
      },
      {
        "duration": 17,
        "start_time": "2022-05-05T22:04:53.650Z"
      },
      {
        "duration": 112,
        "start_time": "2022-05-05T22:04:53.669Z"
      },
      {
        "duration": 17,
        "start_time": "2022-05-05T22:04:53.783Z"
      },
      {
        "duration": 56,
        "start_time": "2022-05-05T22:04:53.801Z"
      },
      {
        "duration": 432,
        "start_time": "2022-05-05T22:04:53.859Z"
      },
      {
        "duration": 19,
        "start_time": "2022-05-05T22:04:54.293Z"
      },
      {
        "duration": 44,
        "start_time": "2022-05-05T22:04:54.314Z"
      },
      {
        "duration": 97,
        "start_time": "2022-05-05T22:04:54.361Z"
      },
      {
        "duration": 38,
        "start_time": "2022-05-05T22:04:54.460Z"
      },
      {
        "duration": 43,
        "start_time": "2022-05-05T22:04:54.500Z"
      },
      {
        "duration": 35,
        "start_time": "2022-05-05T22:04:54.545Z"
      },
      {
        "duration": 21,
        "start_time": "2022-05-05T22:04:54.582Z"
      },
      {
        "duration": 287,
        "start_time": "2022-05-05T22:04:54.605Z"
      },
      {
        "duration": 18,
        "start_time": "2022-05-05T22:04:54.894Z"
      },
      {
        "duration": 15,
        "start_time": "2022-05-05T22:04:54.913Z"
      },
      {
        "duration": 5,
        "start_time": "2022-05-05T22:04:54.933Z"
      },
      {
        "duration": 7,
        "start_time": "2022-05-05T22:04:54.939Z"
      },
      {
        "duration": 7,
        "start_time": "2022-05-05T22:04:54.947Z"
      },
      {
        "duration": 7,
        "start_time": "2022-05-05T22:04:54.956Z"
      },
      {
        "duration": 5,
        "start_time": "2022-05-05T22:04:54.965Z"
      },
      {
        "duration": 8,
        "start_time": "2022-05-05T22:04:54.971Z"
      },
      {
        "duration": 12,
        "start_time": "2022-05-05T22:04:54.981Z"
      },
      {
        "duration": 167,
        "start_time": "2022-05-05T22:04:54.994Z"
      },
      {
        "duration": 1369,
        "start_time": "2022-05-05T22:04:55.162Z"
      },
      {
        "duration": 29,
        "start_time": "2022-05-05T22:04:56.534Z"
      },
      {
        "duration": 6,
        "start_time": "2022-05-05T22:04:56.565Z"
      },
      {
        "duration": 457,
        "start_time": "2022-05-05T22:04:56.573Z"
      },
      {
        "duration": 6,
        "start_time": "2022-05-05T22:04:57.033Z"
      },
      {
        "duration": 33,
        "start_time": "2022-05-05T22:04:57.040Z"
      },
      {
        "duration": 19,
        "start_time": "2022-05-05T22:04:57.075Z"
      },
      {
        "duration": 44,
        "start_time": "2022-05-05T22:04:57.095Z"
      },
      {
        "duration": 17,
        "start_time": "2022-05-05T22:04:57.140Z"
      },
      {
        "duration": 18,
        "start_time": "2022-05-05T22:04:57.159Z"
      },
      {
        "duration": 184,
        "start_time": "2022-05-05T22:04:57.179Z"
      },
      {
        "duration": 3,
        "start_time": "2022-05-05T22:04:57.368Z"
      },
      {
        "duration": 33,
        "start_time": "2022-05-05T22:04:57.373Z"
      },
      {
        "duration": 397,
        "start_time": "2022-05-05T22:04:57.408Z"
      },
      {
        "duration": 36,
        "start_time": "2022-05-05T22:04:57.807Z"
      },
      {
        "duration": 416,
        "start_time": "2022-05-05T22:04:57.845Z"
      },
      {
        "duration": 6,
        "start_time": "2022-05-05T22:04:58.263Z"
      },
      {
        "duration": 20,
        "start_time": "2022-05-05T22:04:58.270Z"
      },
      {
        "duration": 11,
        "start_time": "2022-05-05T22:04:58.292Z"
      },
      {
        "duration": 46,
        "start_time": "2022-05-05T22:04:58.305Z"
      },
      {
        "duration": 15,
        "start_time": "2022-05-05T22:04:58.353Z"
      },
      {
        "duration": 34,
        "start_time": "2022-05-05T22:04:58.370Z"
      },
      {
        "duration": 36,
        "start_time": "2022-05-05T22:04:58.406Z"
      },
      {
        "duration": 19,
        "start_time": "2022-05-05T22:04:58.443Z"
      },
      {
        "duration": 16,
        "start_time": "2022-05-05T22:04:58.464Z"
      },
      {
        "duration": 53,
        "start_time": "2022-05-05T22:04:58.481Z"
      },
      {
        "duration": 16,
        "start_time": "2022-05-05T22:04:58.536Z"
      },
      {
        "duration": 21,
        "start_time": "2022-05-05T22:04:58.553Z"
      },
      {
        "duration": 16,
        "start_time": "2022-05-05T22:04:58.576Z"
      },
      {
        "duration": 8,
        "start_time": "2022-05-05T22:04:58.594Z"
      },
      {
        "duration": 95,
        "start_time": "2022-05-05T22:04:58.604Z"
      },
      {
        "duration": 78,
        "start_time": "2022-05-05T22:04:58.701Z"
      },
      {
        "duration": 28,
        "start_time": "2022-05-05T22:04:58.781Z"
      },
      {
        "duration": 23,
        "start_time": "2022-05-05T22:04:58.811Z"
      },
      {
        "duration": 666,
        "start_time": "2022-05-05T22:04:58.836Z"
      },
      {
        "duration": 393,
        "start_time": "2022-05-05T22:04:59.504Z"
      },
      {
        "duration": 2,
        "start_time": "2022-05-05T22:04:59.899Z"
      },
      {
        "duration": 143,
        "start_time": "2022-05-05T22:04:59.903Z"
      },
      {
        "duration": 35,
        "start_time": "2022-05-05T22:05:00.048Z"
      },
      {
        "duration": 6,
        "start_time": "2022-05-05T22:05:00.086Z"
      },
      {
        "duration": 6,
        "start_time": "2022-05-05T22:05:00.094Z"
      },
      {
        "duration": 437337,
        "start_time": "2022-05-05T22:05:00.101Z"
      },
      {
        "duration": 24500,
        "start_time": "2022-05-05T22:12:17.440Z"
      },
      {
        "duration": 292,
        "start_time": "2022-05-05T22:12:41.942Z"
      },
      {
        "duration": 4,
        "start_time": "2022-05-05T22:12:42.236Z"
      },
      {
        "duration": 97,
        "start_time": "2022-05-05T22:12:42.243Z"
      },
      {
        "duration": 714162,
        "start_time": "2022-05-05T22:12:42.342Z"
      },
      {
        "duration": 64387,
        "start_time": "2022-05-05T22:24:36.506Z"
      },
      {
        "duration": 121,
        "start_time": "2022-05-05T22:25:40.894Z"
      },
      {
        "duration": 2,
        "start_time": "2022-05-05T22:25:41.017Z"
      },
      {
        "duration": 427307,
        "start_time": "2022-05-05T22:25:41.039Z"
      },
      {
        "duration": 137,
        "start_time": "2022-05-05T22:32:48.347Z"
      },
      {
        "duration": 31255,
        "start_time": "2022-05-05T22:32:48.486Z"
      },
      {
        "duration": 11198,
        "start_time": "2022-05-05T22:33:19.742Z"
      },
      {
        "duration": 11,
        "start_time": "2022-05-05T22:33:30.942Z"
      },
      {
        "duration": 10,
        "start_time": "2022-05-05T22:33:30.958Z"
      },
      {
        "duration": 13603,
        "start_time": "2022-05-05T22:34:12.845Z"
      },
      {
        "duration": 3290,
        "start_time": "2022-05-05T22:34:40.154Z"
      },
      {
        "duration": 17153,
        "start_time": "2022-05-05T22:41:59.887Z"
      },
      {
        "duration": 201,
        "start_time": "2022-05-05T22:43:58.239Z"
      },
      {
        "duration": 16443,
        "start_time": "2022-05-05T22:44:00.996Z"
      },
      {
        "duration": 215,
        "start_time": "2022-05-05T22:44:23.119Z"
      },
      {
        "duration": 11,
        "start_time": "2022-05-05T22:46:22.761Z"
      },
      {
        "duration": 5,
        "start_time": "2022-05-05T22:52:34.224Z"
      },
      {
        "duration": 897,
        "start_time": "2022-05-05T22:52:34.231Z"
      },
      {
        "duration": 14,
        "start_time": "2022-05-05T22:52:35.130Z"
      },
      {
        "duration": 136,
        "start_time": "2022-05-05T22:52:35.146Z"
      },
      {
        "duration": 3,
        "start_time": "2022-05-05T22:52:35.283Z"
      },
      {
        "duration": 20,
        "start_time": "2022-05-05T22:52:35.288Z"
      },
      {
        "duration": 3,
        "start_time": "2022-05-05T22:52:35.310Z"
      },
      {
        "duration": 26,
        "start_time": "2022-05-05T22:52:35.315Z"
      },
      {
        "duration": 102,
        "start_time": "2022-05-05T22:52:35.343Z"
      },
      {
        "duration": 13,
        "start_time": "2022-05-05T22:52:35.448Z"
      },
      {
        "duration": 37,
        "start_time": "2022-05-05T22:52:35.463Z"
      },
      {
        "duration": 393,
        "start_time": "2022-05-05T22:52:35.502Z"
      },
      {
        "duration": 20,
        "start_time": "2022-05-05T22:52:35.897Z"
      },
      {
        "duration": 43,
        "start_time": "2022-05-05T22:52:35.919Z"
      },
      {
        "duration": 88,
        "start_time": "2022-05-05T22:52:35.964Z"
      },
      {
        "duration": 40,
        "start_time": "2022-05-05T22:52:36.054Z"
      },
      {
        "duration": 40,
        "start_time": "2022-05-05T22:52:36.096Z"
      },
      {
        "duration": 31,
        "start_time": "2022-05-05T22:52:36.139Z"
      },
      {
        "duration": 19,
        "start_time": "2022-05-05T22:52:36.172Z"
      },
      {
        "duration": 273,
        "start_time": "2022-05-05T22:52:36.193Z"
      },
      {
        "duration": 16,
        "start_time": "2022-05-05T22:52:36.468Z"
      },
      {
        "duration": 7,
        "start_time": "2022-05-05T22:52:36.486Z"
      },
      {
        "duration": 11,
        "start_time": "2022-05-05T22:52:36.495Z"
      },
      {
        "duration": 12,
        "start_time": "2022-05-05T22:52:36.508Z"
      },
      {
        "duration": 7,
        "start_time": "2022-05-05T22:52:36.522Z"
      },
      {
        "duration": 4,
        "start_time": "2022-05-05T22:52:36.533Z"
      },
      {
        "duration": 5,
        "start_time": "2022-05-05T22:52:36.539Z"
      },
      {
        "duration": 6,
        "start_time": "2022-05-05T22:52:36.548Z"
      },
      {
        "duration": 12,
        "start_time": "2022-05-05T22:52:36.555Z"
      },
      {
        "duration": 155,
        "start_time": "2022-05-05T22:52:36.568Z"
      },
      {
        "duration": 1332,
        "start_time": "2022-05-05T22:52:36.733Z"
      },
      {
        "duration": 23,
        "start_time": "2022-05-05T22:52:38.067Z"
      },
      {
        "duration": 6,
        "start_time": "2022-05-05T22:52:38.092Z"
      },
      {
        "duration": 264,
        "start_time": "2022-05-05T22:52:38.099Z"
      },
      {
        "duration": 4,
        "start_time": "2022-05-05T22:52:38.365Z"
      },
      {
        "duration": 31,
        "start_time": "2022-05-05T22:52:38.370Z"
      },
      {
        "duration": 35,
        "start_time": "2022-05-05T22:52:38.402Z"
      },
      {
        "duration": 20,
        "start_time": "2022-05-05T22:52:38.438Z"
      },
      {
        "duration": 21,
        "start_time": "2022-05-05T22:52:38.459Z"
      },
      {
        "duration": 16,
        "start_time": "2022-05-05T22:52:38.482Z"
      },
      {
        "duration": 163,
        "start_time": "2022-05-05T22:52:38.499Z"
      },
      {
        "duration": 2,
        "start_time": "2022-05-05T22:52:38.664Z"
      },
      {
        "duration": 26,
        "start_time": "2022-05-05T22:52:38.668Z"
      },
      {
        "duration": 572,
        "start_time": "2022-05-05T22:52:38.696Z"
      },
      {
        "duration": 23,
        "start_time": "2022-05-05T22:52:39.270Z"
      },
      {
        "duration": 392,
        "start_time": "2022-05-05T22:52:39.295Z"
      },
      {
        "duration": 6,
        "start_time": "2022-05-05T22:52:39.689Z"
      },
      {
        "duration": 20,
        "start_time": "2022-05-05T22:52:39.696Z"
      },
      {
        "duration": 18,
        "start_time": "2022-05-05T22:52:39.718Z"
      },
      {
        "duration": 49,
        "start_time": "2022-05-05T22:52:39.738Z"
      },
      {
        "duration": 15,
        "start_time": "2022-05-05T22:52:39.789Z"
      },
      {
        "duration": 28,
        "start_time": "2022-05-05T22:52:39.805Z"
      },
      {
        "duration": 16,
        "start_time": "2022-05-05T22:52:39.835Z"
      },
      {
        "duration": 17,
        "start_time": "2022-05-05T22:52:39.853Z"
      },
      {
        "duration": 16,
        "start_time": "2022-05-05T22:52:39.871Z"
      },
      {
        "duration": 51,
        "start_time": "2022-05-05T22:52:39.888Z"
      },
      {
        "duration": 22,
        "start_time": "2022-05-05T22:52:39.941Z"
      },
      {
        "duration": 21,
        "start_time": "2022-05-05T22:52:39.965Z"
      },
      {
        "duration": 15,
        "start_time": "2022-05-05T22:52:39.988Z"
      },
      {
        "duration": 4,
        "start_time": "2022-05-05T22:52:40.005Z"
      },
      {
        "duration": 90,
        "start_time": "2022-05-05T22:52:40.011Z"
      },
      {
        "duration": 72,
        "start_time": "2022-05-05T22:52:40.102Z"
      },
      {
        "duration": 18,
        "start_time": "2022-05-05T22:52:40.175Z"
      },
      {
        "duration": 2,
        "start_time": "2022-05-05T22:52:40.194Z"
      },
      {
        "duration": 602,
        "start_time": "2022-05-05T22:52:40.198Z"
      },
      {
        "duration": 387,
        "start_time": "2022-05-05T22:52:40.802Z"
      },
      {
        "duration": 2,
        "start_time": "2022-05-05T22:52:41.191Z"
      },
      {
        "duration": 138,
        "start_time": "2022-05-05T22:52:41.195Z"
      },
      {
        "duration": 35,
        "start_time": "2022-05-05T22:52:41.335Z"
      },
      {
        "duration": 6,
        "start_time": "2022-05-05T22:52:41.372Z"
      },
      {
        "duration": 5,
        "start_time": "2022-05-05T22:52:41.380Z"
      }
    ],
    "kernelspec": {
      "display_name": "Python 3 (ipykernel)",
      "language": "python",
      "name": "python3"
    },
    "language_info": {
      "codemirror_mode": {
        "name": "ipython",
        "version": 3
      },
      "file_extension": ".py",
      "mimetype": "text/x-python",
      "name": "python",
      "nbconvert_exporter": "python",
      "pygments_lexer": "ipython3",
      "version": "3.9.5"
    },
    "toc": {
      "base_numbering": 1,
      "nav_menu": {},
      "number_sections": true,
      "sideBar": true,
      "skip_h1_title": true,
      "title_cell": "Table of Contents",
      "title_sidebar": "Contents",
      "toc_cell": false,
      "toc_position": {},
      "toc_section_display": true,
      "toc_window_display": true
    },
    "colab": {
      "provenance": [],
      "collapsed_sections": [],
      "toc_visible": true
    }
  },
  "nbformat": 4,
  "nbformat_minor": 0
}