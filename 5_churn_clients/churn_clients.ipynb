{
  "cells": [
    {
      "cell_type": "code",
      "source": [
        "from google.colab import drive\n",
        "\n",
        "drive.mount('/content/drive')"
      ],
      "metadata": {
        "colab": {
          "base_uri": "https://localhost:8080/"
        },
        "id": "5aNSAJONUusH",
        "outputId": "ade9a686-d15b-4bcf-a9ac-39569f621b18"
      },
      "execution_count": 1,
      "outputs": [
        {
          "output_type": "stream",
          "name": "stdout",
          "text": [
            "Mounted at /content/drive\n"
          ]
        }
      ]
    },
    {
      "cell_type": "code",
      "execution_count": 2,
      "metadata": {
        "id": "NyOs5S9TTpKa"
      },
      "outputs": [],
      "source": [
        "import pandas as pd\n",
        "import numpy as np\n",
        "import matplotlib.pyplot as plt\n",
        "import seaborn as sns \n",
        "import time \n",
        "from tqdm import tqdm\n",
        "\n",
        "\n",
        "from sklearn.tree import DecisionTreeClassifier\n",
        "from sklearn.ensemble import RandomForestClassifier\n",
        "from sklearn.linear_model import LogisticRegression\n",
        "from sklearn.dummy import DummyClassifier\n",
        "\n",
        "from sklearn.model_selection import train_test_split\n",
        "from sklearn.utils import shuffle\n",
        "\n",
        "from sklearn.preprocessing import StandardScaler\n",
        "from sklearn.metrics import confusion_matrix, recall_score, precision_score, f1_score, accuracy_score, roc_auc_score, roc_curve, make_scorer\n",
        "\n",
        "import warnings\n",
        "warnings.filterwarnings('ignore')"
      ]
    },
    {
      "cell_type": "markdown",
      "metadata": {
        "id": "wIHrvf1lTpKZ"
      },
      "source": [
        "## Подготовка данных"
      ]
    },
    {
      "cell_type": "code",
      "execution_count": 3,
      "metadata": {
        "scrolled": true,
        "id": "k8T7q-l1TpKd"
      },
      "outputs": [],
      "source": [
        "churn = pd.read_csv('/content/drive/My Drive/Collab file/Churn.csv')"
      ]
    },
    {
      "cell_type": "code",
      "source": [
        "# функция для распаковки данных\n",
        "\n",
        "def open_data(data):\n",
        "  display(data.head())\n",
        "  print('------------------------')\n",
        "  print('Общая информация')\n",
        "  data.info()\n",
        "  print('------------------------')\n",
        "  print('Описание данных')\n",
        "  display(data.describe())\n",
        "  print('------------------------')\n",
        "  print('Количество дубликатов')\n",
        "  print(data.duplicated().sum())\n",
        "  print('------------------------')\n",
        "  print('Количество пропусков')\n",
        "  display(data.isna().sum())"
      ],
      "metadata": {
        "id": "rmlL5nNuXRuf"
      },
      "execution_count": 4,
      "outputs": []
    },
    {
      "cell_type": "code",
      "source": [
        "open_data(churn)"
      ],
      "metadata": {
        "colab": {
          "base_uri": "https://localhost:8080/",
          "height": 1000
        },
        "id": "1yYqdr55XRrm",
        "outputId": "897c1dda-ff75-4dc6-f0ae-4adf80dd8b40"
      },
      "execution_count": 5,
      "outputs": [
        {
          "output_type": "display_data",
          "data": {
            "text/plain": [
              "   RowNumber  CustomerId   Surname  CreditScore Geography  Gender  Age  \\\n",
              "0          1    15634602  Hargrave          619    France  Female   42   \n",
              "1          2    15647311      Hill          608     Spain  Female   41   \n",
              "2          3    15619304      Onio          502    France  Female   42   \n",
              "3          4    15701354      Boni          699    France  Female   39   \n",
              "4          5    15737888  Mitchell          850     Spain  Female   43   \n",
              "\n",
              "   Tenure    Balance  NumOfProducts  HasCrCard  IsActiveMember  \\\n",
              "0     2.0       0.00              1          1               1   \n",
              "1     1.0   83807.86              1          0               1   \n",
              "2     8.0  159660.80              3          1               0   \n",
              "3     1.0       0.00              2          0               0   \n",
              "4     2.0  125510.82              1          1               1   \n",
              "\n",
              "   EstimatedSalary  Exited  \n",
              "0        101348.88       1  \n",
              "1        112542.58       0  \n",
              "2        113931.57       1  \n",
              "3         93826.63       0  \n",
              "4         79084.10       0  "
            ],
            "text/html": [
              "\n",
              "  <div id=\"df-c6c66cbb-6f7c-49b5-a9f8-7a43afc9bc9a\">\n",
              "    <div class=\"colab-df-container\">\n",
              "      <div>\n",
              "<style scoped>\n",
              "    .dataframe tbody tr th:only-of-type {\n",
              "        vertical-align: middle;\n",
              "    }\n",
              "\n",
              "    .dataframe tbody tr th {\n",
              "        vertical-align: top;\n",
              "    }\n",
              "\n",
              "    .dataframe thead th {\n",
              "        text-align: right;\n",
              "    }\n",
              "</style>\n",
              "<table border=\"1\" class=\"dataframe\">\n",
              "  <thead>\n",
              "    <tr style=\"text-align: right;\">\n",
              "      <th></th>\n",
              "      <th>RowNumber</th>\n",
              "      <th>CustomerId</th>\n",
              "      <th>Surname</th>\n",
              "      <th>CreditScore</th>\n",
              "      <th>Geography</th>\n",
              "      <th>Gender</th>\n",
              "      <th>Age</th>\n",
              "      <th>Tenure</th>\n",
              "      <th>Balance</th>\n",
              "      <th>NumOfProducts</th>\n",
              "      <th>HasCrCard</th>\n",
              "      <th>IsActiveMember</th>\n",
              "      <th>EstimatedSalary</th>\n",
              "      <th>Exited</th>\n",
              "    </tr>\n",
              "  </thead>\n",
              "  <tbody>\n",
              "    <tr>\n",
              "      <th>0</th>\n",
              "      <td>1</td>\n",
              "      <td>15634602</td>\n",
              "      <td>Hargrave</td>\n",
              "      <td>619</td>\n",
              "      <td>France</td>\n",
              "      <td>Female</td>\n",
              "      <td>42</td>\n",
              "      <td>2.0</td>\n",
              "      <td>0.00</td>\n",
              "      <td>1</td>\n",
              "      <td>1</td>\n",
              "      <td>1</td>\n",
              "      <td>101348.88</td>\n",
              "      <td>1</td>\n",
              "    </tr>\n",
              "    <tr>\n",
              "      <th>1</th>\n",
              "      <td>2</td>\n",
              "      <td>15647311</td>\n",
              "      <td>Hill</td>\n",
              "      <td>608</td>\n",
              "      <td>Spain</td>\n",
              "      <td>Female</td>\n",
              "      <td>41</td>\n",
              "      <td>1.0</td>\n",
              "      <td>83807.86</td>\n",
              "      <td>1</td>\n",
              "      <td>0</td>\n",
              "      <td>1</td>\n",
              "      <td>112542.58</td>\n",
              "      <td>0</td>\n",
              "    </tr>\n",
              "    <tr>\n",
              "      <th>2</th>\n",
              "      <td>3</td>\n",
              "      <td>15619304</td>\n",
              "      <td>Onio</td>\n",
              "      <td>502</td>\n",
              "      <td>France</td>\n",
              "      <td>Female</td>\n",
              "      <td>42</td>\n",
              "      <td>8.0</td>\n",
              "      <td>159660.80</td>\n",
              "      <td>3</td>\n",
              "      <td>1</td>\n",
              "      <td>0</td>\n",
              "      <td>113931.57</td>\n",
              "      <td>1</td>\n",
              "    </tr>\n",
              "    <tr>\n",
              "      <th>3</th>\n",
              "      <td>4</td>\n",
              "      <td>15701354</td>\n",
              "      <td>Boni</td>\n",
              "      <td>699</td>\n",
              "      <td>France</td>\n",
              "      <td>Female</td>\n",
              "      <td>39</td>\n",
              "      <td>1.0</td>\n",
              "      <td>0.00</td>\n",
              "      <td>2</td>\n",
              "      <td>0</td>\n",
              "      <td>0</td>\n",
              "      <td>93826.63</td>\n",
              "      <td>0</td>\n",
              "    </tr>\n",
              "    <tr>\n",
              "      <th>4</th>\n",
              "      <td>5</td>\n",
              "      <td>15737888</td>\n",
              "      <td>Mitchell</td>\n",
              "      <td>850</td>\n",
              "      <td>Spain</td>\n",
              "      <td>Female</td>\n",
              "      <td>43</td>\n",
              "      <td>2.0</td>\n",
              "      <td>125510.82</td>\n",
              "      <td>1</td>\n",
              "      <td>1</td>\n",
              "      <td>1</td>\n",
              "      <td>79084.10</td>\n",
              "      <td>0</td>\n",
              "    </tr>\n",
              "  </tbody>\n",
              "</table>\n",
              "</div>\n",
              "      <button class=\"colab-df-convert\" onclick=\"convertToInteractive('df-c6c66cbb-6f7c-49b5-a9f8-7a43afc9bc9a')\"\n",
              "              title=\"Convert this dataframe to an interactive table.\"\n",
              "              style=\"display:none;\">\n",
              "        \n",
              "  <svg xmlns=\"http://www.w3.org/2000/svg\" height=\"24px\"viewBox=\"0 0 24 24\"\n",
              "       width=\"24px\">\n",
              "    <path d=\"M0 0h24v24H0V0z\" fill=\"none\"/>\n",
              "    <path d=\"M18.56 5.44l.94 2.06.94-2.06 2.06-.94-2.06-.94-.94-2.06-.94 2.06-2.06.94zm-11 1L8.5 8.5l.94-2.06 2.06-.94-2.06-.94L8.5 2.5l-.94 2.06-2.06.94zm10 10l.94 2.06.94-2.06 2.06-.94-2.06-.94-.94-2.06-.94 2.06-2.06.94z\"/><path d=\"M17.41 7.96l-1.37-1.37c-.4-.4-.92-.59-1.43-.59-.52 0-1.04.2-1.43.59L10.3 9.45l-7.72 7.72c-.78.78-.78 2.05 0 2.83L4 21.41c.39.39.9.59 1.41.59.51 0 1.02-.2 1.41-.59l7.78-7.78 2.81-2.81c.8-.78.8-2.07 0-2.86zM5.41 20L4 18.59l7.72-7.72 1.47 1.35L5.41 20z\"/>\n",
              "  </svg>\n",
              "      </button>\n",
              "      \n",
              "  <style>\n",
              "    .colab-df-container {\n",
              "      display:flex;\n",
              "      flex-wrap:wrap;\n",
              "      gap: 12px;\n",
              "    }\n",
              "\n",
              "    .colab-df-convert {\n",
              "      background-color: #E8F0FE;\n",
              "      border: none;\n",
              "      border-radius: 50%;\n",
              "      cursor: pointer;\n",
              "      display: none;\n",
              "      fill: #1967D2;\n",
              "      height: 32px;\n",
              "      padding: 0 0 0 0;\n",
              "      width: 32px;\n",
              "    }\n",
              "\n",
              "    .colab-df-convert:hover {\n",
              "      background-color: #E2EBFA;\n",
              "      box-shadow: 0px 1px 2px rgba(60, 64, 67, 0.3), 0px 1px 3px 1px rgba(60, 64, 67, 0.15);\n",
              "      fill: #174EA6;\n",
              "    }\n",
              "\n",
              "    [theme=dark] .colab-df-convert {\n",
              "      background-color: #3B4455;\n",
              "      fill: #D2E3FC;\n",
              "    }\n",
              "\n",
              "    [theme=dark] .colab-df-convert:hover {\n",
              "      background-color: #434B5C;\n",
              "      box-shadow: 0px 1px 3px 1px rgba(0, 0, 0, 0.15);\n",
              "      filter: drop-shadow(0px 1px 2px rgba(0, 0, 0, 0.3));\n",
              "      fill: #FFFFFF;\n",
              "    }\n",
              "  </style>\n",
              "\n",
              "      <script>\n",
              "        const buttonEl =\n",
              "          document.querySelector('#df-c6c66cbb-6f7c-49b5-a9f8-7a43afc9bc9a button.colab-df-convert');\n",
              "        buttonEl.style.display =\n",
              "          google.colab.kernel.accessAllowed ? 'block' : 'none';\n",
              "\n",
              "        async function convertToInteractive(key) {\n",
              "          const element = document.querySelector('#df-c6c66cbb-6f7c-49b5-a9f8-7a43afc9bc9a');\n",
              "          const dataTable =\n",
              "            await google.colab.kernel.invokeFunction('convertToInteractive',\n",
              "                                                     [key], {});\n",
              "          if (!dataTable) return;\n",
              "\n",
              "          const docLinkHtml = 'Like what you see? Visit the ' +\n",
              "            '<a target=\"_blank\" href=https://colab.research.google.com/notebooks/data_table.ipynb>data table notebook</a>'\n",
              "            + ' to learn more about interactive tables.';\n",
              "          element.innerHTML = '';\n",
              "          dataTable['output_type'] = 'display_data';\n",
              "          await google.colab.output.renderOutput(dataTable, element);\n",
              "          const docLink = document.createElement('div');\n",
              "          docLink.innerHTML = docLinkHtml;\n",
              "          element.appendChild(docLink);\n",
              "        }\n",
              "      </script>\n",
              "    </div>\n",
              "  </div>\n",
              "  "
            ]
          },
          "metadata": {}
        },
        {
          "output_type": "stream",
          "name": "stdout",
          "text": [
            "------------------------\n",
            "Общая информация\n",
            "<class 'pandas.core.frame.DataFrame'>\n",
            "RangeIndex: 10000 entries, 0 to 9999\n",
            "Data columns (total 14 columns):\n",
            " #   Column           Non-Null Count  Dtype  \n",
            "---  ------           --------------  -----  \n",
            " 0   RowNumber        10000 non-null  int64  \n",
            " 1   CustomerId       10000 non-null  int64  \n",
            " 2   Surname          10000 non-null  object \n",
            " 3   CreditScore      10000 non-null  int64  \n",
            " 4   Geography        10000 non-null  object \n",
            " 5   Gender           10000 non-null  object \n",
            " 6   Age              10000 non-null  int64  \n",
            " 7   Tenure           9091 non-null   float64\n",
            " 8   Balance          10000 non-null  float64\n",
            " 9   NumOfProducts    10000 non-null  int64  \n",
            " 10  HasCrCard        10000 non-null  int64  \n",
            " 11  IsActiveMember   10000 non-null  int64  \n",
            " 12  EstimatedSalary  10000 non-null  float64\n",
            " 13  Exited           10000 non-null  int64  \n",
            "dtypes: float64(3), int64(8), object(3)\n",
            "memory usage: 1.1+ MB\n",
            "------------------------\n",
            "Описание данных\n"
          ]
        },
        {
          "output_type": "display_data",
          "data": {
            "text/plain": [
              "         RowNumber    CustomerId   CreditScore           Age       Tenure  \\\n",
              "count  10000.00000  1.000000e+04  10000.000000  10000.000000  9091.000000   \n",
              "mean    5000.50000  1.569094e+07    650.528800     38.921800     4.997690   \n",
              "std     2886.89568  7.193619e+04     96.653299     10.487806     2.894723   \n",
              "min        1.00000  1.556570e+07    350.000000     18.000000     0.000000   \n",
              "25%     2500.75000  1.562853e+07    584.000000     32.000000     2.000000   \n",
              "50%     5000.50000  1.569074e+07    652.000000     37.000000     5.000000   \n",
              "75%     7500.25000  1.575323e+07    718.000000     44.000000     7.000000   \n",
              "max    10000.00000  1.581569e+07    850.000000     92.000000    10.000000   \n",
              "\n",
              "             Balance  NumOfProducts    HasCrCard  IsActiveMember  \\\n",
              "count   10000.000000   10000.000000  10000.00000    10000.000000   \n",
              "mean    76485.889288       1.530200      0.70550        0.515100   \n",
              "std     62397.405202       0.581654      0.45584        0.499797   \n",
              "min         0.000000       1.000000      0.00000        0.000000   \n",
              "25%         0.000000       1.000000      0.00000        0.000000   \n",
              "50%     97198.540000       1.000000      1.00000        1.000000   \n",
              "75%    127644.240000       2.000000      1.00000        1.000000   \n",
              "max    250898.090000       4.000000      1.00000        1.000000   \n",
              "\n",
              "       EstimatedSalary        Exited  \n",
              "count     10000.000000  10000.000000  \n",
              "mean     100090.239881      0.203700  \n",
              "std       57510.492818      0.402769  \n",
              "min          11.580000      0.000000  \n",
              "25%       51002.110000      0.000000  \n",
              "50%      100193.915000      0.000000  \n",
              "75%      149388.247500      0.000000  \n",
              "max      199992.480000      1.000000  "
            ],
            "text/html": [
              "\n",
              "  <div id=\"df-a697e3fd-d633-49e5-8297-2915cd012eb9\">\n",
              "    <div class=\"colab-df-container\">\n",
              "      <div>\n",
              "<style scoped>\n",
              "    .dataframe tbody tr th:only-of-type {\n",
              "        vertical-align: middle;\n",
              "    }\n",
              "\n",
              "    .dataframe tbody tr th {\n",
              "        vertical-align: top;\n",
              "    }\n",
              "\n",
              "    .dataframe thead th {\n",
              "        text-align: right;\n",
              "    }\n",
              "</style>\n",
              "<table border=\"1\" class=\"dataframe\">\n",
              "  <thead>\n",
              "    <tr style=\"text-align: right;\">\n",
              "      <th></th>\n",
              "      <th>RowNumber</th>\n",
              "      <th>CustomerId</th>\n",
              "      <th>CreditScore</th>\n",
              "      <th>Age</th>\n",
              "      <th>Tenure</th>\n",
              "      <th>Balance</th>\n",
              "      <th>NumOfProducts</th>\n",
              "      <th>HasCrCard</th>\n",
              "      <th>IsActiveMember</th>\n",
              "      <th>EstimatedSalary</th>\n",
              "      <th>Exited</th>\n",
              "    </tr>\n",
              "  </thead>\n",
              "  <tbody>\n",
              "    <tr>\n",
              "      <th>count</th>\n",
              "      <td>10000.00000</td>\n",
              "      <td>1.000000e+04</td>\n",
              "      <td>10000.000000</td>\n",
              "      <td>10000.000000</td>\n",
              "      <td>9091.000000</td>\n",
              "      <td>10000.000000</td>\n",
              "      <td>10000.000000</td>\n",
              "      <td>10000.00000</td>\n",
              "      <td>10000.000000</td>\n",
              "      <td>10000.000000</td>\n",
              "      <td>10000.000000</td>\n",
              "    </tr>\n",
              "    <tr>\n",
              "      <th>mean</th>\n",
              "      <td>5000.50000</td>\n",
              "      <td>1.569094e+07</td>\n",
              "      <td>650.528800</td>\n",
              "      <td>38.921800</td>\n",
              "      <td>4.997690</td>\n",
              "      <td>76485.889288</td>\n",
              "      <td>1.530200</td>\n",
              "      <td>0.70550</td>\n",
              "      <td>0.515100</td>\n",
              "      <td>100090.239881</td>\n",
              "      <td>0.203700</td>\n",
              "    </tr>\n",
              "    <tr>\n",
              "      <th>std</th>\n",
              "      <td>2886.89568</td>\n",
              "      <td>7.193619e+04</td>\n",
              "      <td>96.653299</td>\n",
              "      <td>10.487806</td>\n",
              "      <td>2.894723</td>\n",
              "      <td>62397.405202</td>\n",
              "      <td>0.581654</td>\n",
              "      <td>0.45584</td>\n",
              "      <td>0.499797</td>\n",
              "      <td>57510.492818</td>\n",
              "      <td>0.402769</td>\n",
              "    </tr>\n",
              "    <tr>\n",
              "      <th>min</th>\n",
              "      <td>1.00000</td>\n",
              "      <td>1.556570e+07</td>\n",
              "      <td>350.000000</td>\n",
              "      <td>18.000000</td>\n",
              "      <td>0.000000</td>\n",
              "      <td>0.000000</td>\n",
              "      <td>1.000000</td>\n",
              "      <td>0.00000</td>\n",
              "      <td>0.000000</td>\n",
              "      <td>11.580000</td>\n",
              "      <td>0.000000</td>\n",
              "    </tr>\n",
              "    <tr>\n",
              "      <th>25%</th>\n",
              "      <td>2500.75000</td>\n",
              "      <td>1.562853e+07</td>\n",
              "      <td>584.000000</td>\n",
              "      <td>32.000000</td>\n",
              "      <td>2.000000</td>\n",
              "      <td>0.000000</td>\n",
              "      <td>1.000000</td>\n",
              "      <td>0.00000</td>\n",
              "      <td>0.000000</td>\n",
              "      <td>51002.110000</td>\n",
              "      <td>0.000000</td>\n",
              "    </tr>\n",
              "    <tr>\n",
              "      <th>50%</th>\n",
              "      <td>5000.50000</td>\n",
              "      <td>1.569074e+07</td>\n",
              "      <td>652.000000</td>\n",
              "      <td>37.000000</td>\n",
              "      <td>5.000000</td>\n",
              "      <td>97198.540000</td>\n",
              "      <td>1.000000</td>\n",
              "      <td>1.00000</td>\n",
              "      <td>1.000000</td>\n",
              "      <td>100193.915000</td>\n",
              "      <td>0.000000</td>\n",
              "    </tr>\n",
              "    <tr>\n",
              "      <th>75%</th>\n",
              "      <td>7500.25000</td>\n",
              "      <td>1.575323e+07</td>\n",
              "      <td>718.000000</td>\n",
              "      <td>44.000000</td>\n",
              "      <td>7.000000</td>\n",
              "      <td>127644.240000</td>\n",
              "      <td>2.000000</td>\n",
              "      <td>1.00000</td>\n",
              "      <td>1.000000</td>\n",
              "      <td>149388.247500</td>\n",
              "      <td>0.000000</td>\n",
              "    </tr>\n",
              "    <tr>\n",
              "      <th>max</th>\n",
              "      <td>10000.00000</td>\n",
              "      <td>1.581569e+07</td>\n",
              "      <td>850.000000</td>\n",
              "      <td>92.000000</td>\n",
              "      <td>10.000000</td>\n",
              "      <td>250898.090000</td>\n",
              "      <td>4.000000</td>\n",
              "      <td>1.00000</td>\n",
              "      <td>1.000000</td>\n",
              "      <td>199992.480000</td>\n",
              "      <td>1.000000</td>\n",
              "    </tr>\n",
              "  </tbody>\n",
              "</table>\n",
              "</div>\n",
              "      <button class=\"colab-df-convert\" onclick=\"convertToInteractive('df-a697e3fd-d633-49e5-8297-2915cd012eb9')\"\n",
              "              title=\"Convert this dataframe to an interactive table.\"\n",
              "              style=\"display:none;\">\n",
              "        \n",
              "  <svg xmlns=\"http://www.w3.org/2000/svg\" height=\"24px\"viewBox=\"0 0 24 24\"\n",
              "       width=\"24px\">\n",
              "    <path d=\"M0 0h24v24H0V0z\" fill=\"none\"/>\n",
              "    <path d=\"M18.56 5.44l.94 2.06.94-2.06 2.06-.94-2.06-.94-.94-2.06-.94 2.06-2.06.94zm-11 1L8.5 8.5l.94-2.06 2.06-.94-2.06-.94L8.5 2.5l-.94 2.06-2.06.94zm10 10l.94 2.06.94-2.06 2.06-.94-2.06-.94-.94-2.06-.94 2.06-2.06.94z\"/><path d=\"M17.41 7.96l-1.37-1.37c-.4-.4-.92-.59-1.43-.59-.52 0-1.04.2-1.43.59L10.3 9.45l-7.72 7.72c-.78.78-.78 2.05 0 2.83L4 21.41c.39.39.9.59 1.41.59.51 0 1.02-.2 1.41-.59l7.78-7.78 2.81-2.81c.8-.78.8-2.07 0-2.86zM5.41 20L4 18.59l7.72-7.72 1.47 1.35L5.41 20z\"/>\n",
              "  </svg>\n",
              "      </button>\n",
              "      \n",
              "  <style>\n",
              "    .colab-df-container {\n",
              "      display:flex;\n",
              "      flex-wrap:wrap;\n",
              "      gap: 12px;\n",
              "    }\n",
              "\n",
              "    .colab-df-convert {\n",
              "      background-color: #E8F0FE;\n",
              "      border: none;\n",
              "      border-radius: 50%;\n",
              "      cursor: pointer;\n",
              "      display: none;\n",
              "      fill: #1967D2;\n",
              "      height: 32px;\n",
              "      padding: 0 0 0 0;\n",
              "      width: 32px;\n",
              "    }\n",
              "\n",
              "    .colab-df-convert:hover {\n",
              "      background-color: #E2EBFA;\n",
              "      box-shadow: 0px 1px 2px rgba(60, 64, 67, 0.3), 0px 1px 3px 1px rgba(60, 64, 67, 0.15);\n",
              "      fill: #174EA6;\n",
              "    }\n",
              "\n",
              "    [theme=dark] .colab-df-convert {\n",
              "      background-color: #3B4455;\n",
              "      fill: #D2E3FC;\n",
              "    }\n",
              "\n",
              "    [theme=dark] .colab-df-convert:hover {\n",
              "      background-color: #434B5C;\n",
              "      box-shadow: 0px 1px 3px 1px rgba(0, 0, 0, 0.15);\n",
              "      filter: drop-shadow(0px 1px 2px rgba(0, 0, 0, 0.3));\n",
              "      fill: #FFFFFF;\n",
              "    }\n",
              "  </style>\n",
              "\n",
              "      <script>\n",
              "        const buttonEl =\n",
              "          document.querySelector('#df-a697e3fd-d633-49e5-8297-2915cd012eb9 button.colab-df-convert');\n",
              "        buttonEl.style.display =\n",
              "          google.colab.kernel.accessAllowed ? 'block' : 'none';\n",
              "\n",
              "        async function convertToInteractive(key) {\n",
              "          const element = document.querySelector('#df-a697e3fd-d633-49e5-8297-2915cd012eb9');\n",
              "          const dataTable =\n",
              "            await google.colab.kernel.invokeFunction('convertToInteractive',\n",
              "                                                     [key], {});\n",
              "          if (!dataTable) return;\n",
              "\n",
              "          const docLinkHtml = 'Like what you see? Visit the ' +\n",
              "            '<a target=\"_blank\" href=https://colab.research.google.com/notebooks/data_table.ipynb>data table notebook</a>'\n",
              "            + ' to learn more about interactive tables.';\n",
              "          element.innerHTML = '';\n",
              "          dataTable['output_type'] = 'display_data';\n",
              "          await google.colab.output.renderOutput(dataTable, element);\n",
              "          const docLink = document.createElement('div');\n",
              "          docLink.innerHTML = docLinkHtml;\n",
              "          element.appendChild(docLink);\n",
              "        }\n",
              "      </script>\n",
              "    </div>\n",
              "  </div>\n",
              "  "
            ]
          },
          "metadata": {}
        },
        {
          "output_type": "stream",
          "name": "stdout",
          "text": [
            "------------------------\n",
            "Количество дубликатов\n",
            "0\n",
            "------------------------\n",
            "Количество пропусков\n"
          ]
        },
        {
          "output_type": "display_data",
          "data": {
            "text/plain": [
              "RowNumber            0\n",
              "CustomerId           0\n",
              "Surname              0\n",
              "CreditScore          0\n",
              "Geography            0\n",
              "Gender               0\n",
              "Age                  0\n",
              "Tenure             909\n",
              "Balance              0\n",
              "NumOfProducts        0\n",
              "HasCrCard            0\n",
              "IsActiveMember       0\n",
              "EstimatedSalary      0\n",
              "Exited               0\n",
              "dtype: int64"
            ]
          },
          "metadata": {}
        }
      ]
    },
    {
      "cell_type": "markdown",
      "metadata": {
        "id": "EdqnFQS1TpKh"
      },
      "source": [
        "**Комметарий:** \n",
        "<br>Данные выглядят нормально, типы данных также в порядке, есть пропуски в столбце ***Tenure***, возможно, это связано с тем, что клиент новый и данных по нему нет. Количество пропусков не существенное, поэтому можем их просто удалить. Также я бы удалила столбцы ***RowNumber***, ***CustomerId*** и ***Surname*** - думаю, что они не показательны. Также я бы привела названия колонок к нижнему регистру для удобства."
      ]
    },
    {
      "cell_type": "code",
      "execution_count": 6,
      "metadata": {
        "id": "lbl2a0fUTpKi"
      },
      "outputs": [],
      "source": [
        "#избавимся от пропусков\n",
        "\n",
        "churn = churn.dropna()"
      ]
    },
    {
      "cell_type": "code",
      "execution_count": 7,
      "metadata": {
        "id": "Q4FEyVWnTpKj"
      },
      "outputs": [],
      "source": [
        "#избавимся от лишних признаков\n",
        "\n",
        "churn = churn.drop(['RowNumber','CustomerId','Surname'], axis=1)"
      ]
    },
    {
      "cell_type": "code",
      "source": [
        "# приведем название столбцов к нижнему регистру\n",
        "\n",
        "churn.columns = map(str.lower, churn.columns)"
      ],
      "metadata": {
        "id": "tr0DyRWmY1ye"
      },
      "execution_count": 8,
      "outputs": []
    },
    {
      "cell_type": "code",
      "source": [
        "# приведем названия столбцом к змеиному регистру\n",
        "\n",
        "churn = churn.rename({'creditscore': 'credit_score', 'numofproducts': 'num_of_products', 'hascrcard': 'has_cr_card', 'isactivemember': 'is_active_member', 'estimatedsalary': 'estimated_salary'}, axis=1)"
      ],
      "metadata": {
        "id": "5sIpnUg7Zx7P"
      },
      "execution_count": 9,
      "outputs": []
    },
    {
      "cell_type": "code",
      "execution_count": 10,
      "metadata": {
        "id": "6sfSwfh0TpKk"
      },
      "outputs": [],
      "source": [
        "#сделаем новый датафрейм с защитой от дамми-ловушки\n",
        "\n",
        "churn_ohe = pd.get_dummies(churn, drop_first=True)"
      ]
    },
    {
      "cell_type": "code",
      "execution_count": 11,
      "metadata": {
        "id": "5dcLWBNXTpKl"
      },
      "outputs": [],
      "source": [
        "#разобьем данные на выборки, сначала на обучающую и валидационную\n",
        "\n",
        "target = churn_ohe['exited']\n",
        "features = churn_ohe.drop('exited', axis=1)\n",
        "\n",
        "features_train, features_valid, target_train, target_valid = train_test_split(\n",
        "    features, target, test_size=0.4, random_state=12345)"
      ]
    },
    {
      "cell_type": "code",
      "execution_count": 12,
      "metadata": {
        "id": "_39U2gp3TpKm"
      },
      "outputs": [],
      "source": [
        "#теперь из валидационной выборки отделим данные для тестовой, итоговая разбивка будет 3:1:1\n",
        "\n",
        "features_valid, features_test, target_valid, target_test = train_test_split(\n",
        "    features_valid, target_valid, test_size=0.5, random_state=12345)"
      ]
    },
    {
      "cell_type": "code",
      "execution_count": 13,
      "metadata": {
        "colab": {
          "base_uri": "https://localhost:8080/"
        },
        "id": "H6e6J_vMTpKm",
        "outputId": "666e1e9f-c594-4514-8751-81497121aaa3"
      },
      "outputs": [
        {
          "output_type": "stream",
          "name": "stdout",
          "text": [
            "(5454, 11) (1818, 11) (1819, 11)\n",
            "(5454,) (1818,) (1819,)\n"
          ]
        }
      ],
      "source": [
        "print(features_train.shape, features_valid.shape, features_test.shape)\n",
        "print(target_train.shape, target_valid.shape, target_test.shape)"
      ]
    },
    {
      "cell_type": "markdown",
      "metadata": {
        "id": "fJd4UvPtTpKo"
      },
      "source": [
        "## Исследование задачи"
      ]
    },
    {
      "cell_type": "code",
      "execution_count": 14,
      "metadata": {
        "colab": {
          "base_uri": "https://localhost:8080/",
          "height": 516
        },
        "id": "LbZAQ4UjTpKo",
        "outputId": "90b9e58f-e2b5-427d-f248-3b2b6ab3bf21"
      },
      "outputs": [
        {
          "output_type": "stream",
          "name": "stdout",
          "text": [
            "0    7237\n",
            "1    1854\n",
            "Name: exited, dtype: int64\n"
          ]
        },
        {
          "output_type": "execute_result",
          "data": {
            "text/plain": [
              "<matplotlib.axes._subplots.AxesSubplot at 0x7f6ef8bc22d0>"
            ]
          },
          "metadata": {},
          "execution_count": 14
        },
        {
          "output_type": "display_data",
          "data": {
            "text/plain": [
              "<Figure size 504x504 with 1 Axes>"
            ],
            "image/png": "[encoded data removed]"
          },
          "metadata": {
            "needs_background": "light"
          }
        }
      ],
      "source": [
        "#сначала проверим, как часто в целевом признаке встречается класс «1» или «0»\n",
        "\n",
        "class_frequency = churn_ohe['exited'].value_counts()\n",
        "print(class_frequency)\n",
        "\n",
        "plt.figure(figsize=(7, 7))\n",
        "plt.title('Распределение целевого признака')\n",
        "class_frequency.plot(kind='bar')"
      ]
    },
    {
      "cell_type": "markdown",
      "metadata": {
        "id": "vKwyPEl8TpKp"
      },
      "source": [
        "**Комментарий:**\n",
        "<br>Существует серьезный дисбаланс, конечно, это связано с тем, что не так много клиентов ушло. Но думаю, что это сильно повлияет на результаты модели."
      ]
    },
    {
      "cell_type": "code",
      "source": [
        "# добавим таблицу для сведения результатов\n",
        "\n",
        "def metrics(result_valid, f1, auc_roc, model, data):\n",
        "    data.loc[model, 'Accuracy_valid'] = result_valid\n",
        "    data.loc[model, 'F1 score'] = f1\n",
        "    data.loc[model, 'AUC ROC'] = auc_roc\n",
        "    \n",
        "    return data"
      ],
      "metadata": {
        "id": "DVb32dVg1XBe"
      },
      "execution_count": 15,
      "outputs": []
    },
    {
      "cell_type": "code",
      "source": [
        "# таблица для сравнения результатов работы моделей\n",
        "\n",
        "compare_models = pd.DataFrame(columns=['Accuracy_valid', 'F1 score', 'AUC ROC'])"
      ],
      "metadata": {
        "id": "Iwrz1xaP2Ws0"
      },
      "execution_count": 16,
      "outputs": []
    },
    {
      "cell_type": "markdown",
      "metadata": {
        "id": "N92hB2byTpKp"
      },
      "source": [
        "### Дерево решений"
      ]
    },
    {
      "cell_type": "code",
      "execution_count": 17,
      "metadata": {
        "colab": {
          "base_uri": "https://localhost:8080/"
        },
        "id": "yaKTH3lnTpKp",
        "outputId": "1621f010-964a-4f83-bea8-135b79672e33"
      },
      "outputs": [
        {
          "output_type": "stream",
          "name": "stderr",
          "text": [
            "100%|██████████| 2/2 [00:01<00:00,  1.12it/s]"
          ]
        },
        {
          "output_type": "stream",
          "name": "stdout",
          "text": [
            "Accuracy наилучшей модели на валидационной выборке: 0.8619361936193619\n",
            "Глубина: 6\n",
            "Критерий расщепления: entropy\n",
            "CPU times: user 1.78 s, sys: 0 ns, total: 1.78 s\n",
            "Wall time: 1.79 s\n"
          ]
        },
        {
          "output_type": "stream",
          "name": "stderr",
          "text": [
            "\n"
          ]
        }
      ],
      "source": [
        "%%time \n",
        "\n",
        "# подберем наилучшие параметры для модели дерева решений\n",
        "\n",
        "best_criterion = None\n",
        "best_depth = 0\n",
        "best_model_d = None\n",
        "best_result_d = 0\n",
        "\n",
        "for crit in tqdm(['gini', 'entropy']):\n",
        "    for depth in range(4,30): \n",
        "        model_d = DecisionTreeClassifier(random_state=4545, criterion=crit,\n",
        "                                     max_depth=depth)\n",
        "        model_d.fit(features_train, target_train)\n",
        "        predictions = model_d.predict(features_valid)\n",
        "        result = model_d.score(features_valid, target_valid)\n",
        "        if result > best_result_d:\n",
        "           best_criterion = crit\n",
        "           best_depth = depth\n",
        "           best_model_d = model_d\n",
        "           best_result_d = result\n",
        "                    \n",
        "\n",
        "print('Accuracy наилучшей модели на валидационной выборке:', best_result_d)\n",
        "print('Глубина:', best_depth)\n",
        "print('Критерий расщепления:', best_criterion)"
      ]
    },
    {
      "cell_type": "code",
      "source": [
        "%%time\n",
        "\n",
        "model_dt = DecisionTreeClassifier(random_state=4545, max_depth=6, criterion='entropy')\n",
        "model_dt.fit(features_train, target_train)\n",
        "predicted_valid = model_dt.predict(features_valid)\n",
        "f1_d = f1_score(target_valid, predicted_valid)\n",
        "\n",
        "print('Качество модели', accuracy_score(target_valid, predicted_valid))\n",
        "print('Precision', precision_score(target_valid, predicted_valid))\n",
        "print('Recall', recall_score(target_valid, predicted_valid))\n",
        "print('F1', f1_d)"
      ],
      "metadata": {
        "colab": {
          "base_uri": "https://localhost:8080/"
        },
        "id": "kxI9IOXQy7-K",
        "outputId": "452f4ba4-2d3c-4a73-fc01-093a98efa5a9"
      },
      "execution_count": 18,
      "outputs": [
        {
          "output_type": "stream",
          "name": "stdout",
          "text": [
            "Качество модели 0.8619361936193619\n",
            "Precision 0.7837837837837838\n",
            "Recall 0.46153846153846156\n",
            "F1 0.5809682804674458\n",
            "CPU times: user 40.7 ms, sys: 0 ns, total: 40.7 ms\n",
            "Wall time: 40.4 ms\n"
          ]
        }
      ]
    },
    {
      "cell_type": "code",
      "execution_count": 19,
      "metadata": {
        "colab": {
          "base_uri": "https://localhost:8080/",
          "height": 460
        },
        "id": "PlaGRKBsTpKs",
        "outputId": "aef083d8-8b49-4df6-e3cb-323ae93a9af5"
      },
      "outputs": [
        {
          "output_type": "stream",
          "name": "stdout",
          "text": [
            "AUC-ROC DecisionTreeClassifier 0.8450079796486747\n"
          ]
        },
        {
          "output_type": "display_data",
          "data": {
            "text/plain": [
              "<Figure size 720x432 with 1 Axes>"
            ],
            "image/png": "[encoded data removed]"
          },
          "metadata": {
            "needs_background": "light"
          }
        },
        {
          "output_type": "stream",
          "name": "stdout",
          "text": [
            "CPU times: user 133 ms, sys: 0 ns, total: 133 ms\n",
            "Wall time: 137 ms\n"
          ]
        }
      ],
      "source": [
        "%%time\n",
        "\n",
        "probabilities_valid = model_dt.predict_proba(features_valid)\n",
        "probabilities_one_valid = probabilities_valid[:, 1]\n",
        "fpr_dt, tpr_dt, thresholds = roc_curve(target_valid, probabilities_one_valid)\n",
        "auc_roc = roc_auc_score(target_valid, probabilities_one_valid)\n",
        "print('AUC-ROC DecisionTreeClassifier',auc_roc)\n",
        "\n",
        "plt.figure(figsize=(10,6))\n",
        "plt.plot(fpr_dt, tpr_dt)\n",
        "\n",
        "plt.plot([0, 1], [0, 1], linestyle='--')\n",
        "\n",
        "plt.xlim([0,1])\n",
        "plt.ylim([0,1])\n",
        "\n",
        "plt.xlabel(\"False Positive Rate\")\n",
        "plt.ylabel(\"True Positive Rate\")\n",
        "\n",
        "plt.title(\"ROC-кривая\")\n",
        "plt.show()"
      ]
    },
    {
      "cell_type": "code",
      "source": [
        "# посмотрим на важность признаков для модели\n",
        "\n",
        "fi = pd.DataFrame({'feature': list(features_train.columns),\n",
        "                   'importance': model_dt.feature_importances_}).\\\n",
        "                    sort_values('importance', ascending = False)\n",
        "\n",
        "display(fi)"
      ],
      "metadata": {
        "colab": {
          "base_uri": "https://localhost:8080/",
          "height": 394
        },
        "id": "RayTvkxx3knd",
        "outputId": "32695d4e-87e0-4e78-f0e1-e8b2967c0c83"
      },
      "execution_count": 20,
      "outputs": [
        {
          "output_type": "display_data",
          "data": {
            "text/plain": [
              "              feature  importance\n",
              "1                 age    0.434166\n",
              "4     num_of_products    0.308021\n",
              "6    is_active_member    0.085029\n",
              "3             balance    0.083171\n",
              "8   geography_Germany    0.040383\n",
              "7    estimated_salary    0.029059\n",
              "0        credit_score    0.010257\n",
              "10        gender_Male    0.005120\n",
              "2              tenure    0.004794\n",
              "5         has_cr_card    0.000000\n",
              "9     geography_Spain    0.000000"
            ],
            "text/html": [
              "\n",
              "  <div id=\"df-2da28c50-637f-4bef-a68b-3bdd2d0759de\">\n",
              "    <div class=\"colab-df-container\">\n",
              "      <div>\n",
              "<style scoped>\n",
              "    .dataframe tbody tr th:only-of-type {\n",
              "        vertical-align: middle;\n",
              "    }\n",
              "\n",
              "    .dataframe tbody tr th {\n",
              "        vertical-align: top;\n",
              "    }\n",
              "\n",
              "    .dataframe thead th {\n",
              "        text-align: right;\n",
              "    }\n",
              "</style>\n",
              "<table border=\"1\" class=\"dataframe\">\n",
              "  <thead>\n",
              "    <tr style=\"text-align: right;\">\n",
              "      <th></th>\n",
              "      <th>feature</th>\n",
              "      <th>importance</th>\n",
              "    </tr>\n",
              "  </thead>\n",
              "  <tbody>\n",
              "    <tr>\n",
              "      <th>1</th>\n",
              "      <td>age</td>\n",
              "      <td>0.434166</td>\n",
              "    </tr>\n",
              "    <tr>\n",
              "      <th>4</th>\n",
              "      <td>num_of_products</td>\n",
              "      <td>0.308021</td>\n",
              "    </tr>\n",
              "    <tr>\n",
              "      <th>6</th>\n",
              "      <td>is_active_member</td>\n",
              "      <td>0.085029</td>\n",
              "    </tr>\n",
              "    <tr>\n",
              "      <th>3</th>\n",
              "      <td>balance</td>\n",
              "      <td>0.083171</td>\n",
              "    </tr>\n",
              "    <tr>\n",
              "      <th>8</th>\n",
              "      <td>geography_Germany</td>\n",
              "      <td>0.040383</td>\n",
              "    </tr>\n",
              "    <tr>\n",
              "      <th>7</th>\n",
              "      <td>estimated_salary</td>\n",
              "      <td>0.029059</td>\n",
              "    </tr>\n",
              "    <tr>\n",
              "      <th>0</th>\n",
              "      <td>credit_score</td>\n",
              "      <td>0.010257</td>\n",
              "    </tr>\n",
              "    <tr>\n",
              "      <th>10</th>\n",
              "      <td>gender_Male</td>\n",
              "      <td>0.005120</td>\n",
              "    </tr>\n",
              "    <tr>\n",
              "      <th>2</th>\n",
              "      <td>tenure</td>\n",
              "      <td>0.004794</td>\n",
              "    </tr>\n",
              "    <tr>\n",
              "      <th>5</th>\n",
              "      <td>has_cr_card</td>\n",
              "      <td>0.000000</td>\n",
              "    </tr>\n",
              "    <tr>\n",
              "      <th>9</th>\n",
              "      <td>geography_Spain</td>\n",
              "      <td>0.000000</td>\n",
              "    </tr>\n",
              "  </tbody>\n",
              "</table>\n",
              "</div>\n",
              "      <button class=\"colab-df-convert\" onclick=\"convertToInteractive('df-2da28c50-637f-4bef-a68b-3bdd2d0759de')\"\n",
              "              title=\"Convert this dataframe to an interactive table.\"\n",
              "              style=\"display:none;\">\n",
              "        \n",
              "  <svg xmlns=\"http://www.w3.org/2000/svg\" height=\"24px\"viewBox=\"0 0 24 24\"\n",
              "       width=\"24px\">\n",
              "    <path d=\"M0 0h24v24H0V0z\" fill=\"none\"/>\n",
              "    <path d=\"M18.56 5.44l.94 2.06.94-2.06 2.06-.94-2.06-.94-.94-2.06-.94 2.06-2.06.94zm-11 1L8.5 8.5l.94-2.06 2.06-.94-2.06-.94L8.5 2.5l-.94 2.06-2.06.94zm10 10l.94 2.06.94-2.06 2.06-.94-2.06-.94-.94-2.06-.94 2.06-2.06.94z\"/><path d=\"M17.41 7.96l-1.37-1.37c-.4-.4-.92-.59-1.43-.59-.52 0-1.04.2-1.43.59L10.3 9.45l-7.72 7.72c-.78.78-.78 2.05 0 2.83L4 21.41c.39.39.9.59 1.41.59.51 0 1.02-.2 1.41-.59l7.78-7.78 2.81-2.81c.8-.78.8-2.07 0-2.86zM5.41 20L4 18.59l7.72-7.72 1.47 1.35L5.41 20z\"/>\n",
              "  </svg>\n",
              "      </button>\n",
              "      \n",
              "  <style>\n",
              "    .colab-df-container {\n",
              "      display:flex;\n",
              "      flex-wrap:wrap;\n",
              "      gap: 12px;\n",
              "    }\n",
              "\n",
              "    .colab-df-convert {\n",
              "      background-color: #E8F0FE;\n",
              "      border: none;\n",
              "      border-radius: 50%;\n",
              "      cursor: pointer;\n",
              "      display: none;\n",
              "      fill: #1967D2;\n",
              "      height: 32px;\n",
              "      padding: 0 0 0 0;\n",
              "      width: 32px;\n",
              "    }\n",
              "\n",
              "    .colab-df-convert:hover {\n",
              "      background-color: #E2EBFA;\n",
              "      box-shadow: 0px 1px 2px rgba(60, 64, 67, 0.3), 0px 1px 3px 1px rgba(60, 64, 67, 0.15);\n",
              "      fill: #174EA6;\n",
              "    }\n",
              "\n",
              "    [theme=dark] .colab-df-convert {\n",
              "      background-color: #3B4455;\n",
              "      fill: #D2E3FC;\n",
              "    }\n",
              "\n",
              "    [theme=dark] .colab-df-convert:hover {\n",
              "      background-color: #434B5C;\n",
              "      box-shadow: 0px 1px 3px 1px rgba(0, 0, 0, 0.15);\n",
              "      filter: drop-shadow(0px 1px 2px rgba(0, 0, 0, 0.3));\n",
              "      fill: #FFFFFF;\n",
              "    }\n",
              "  </style>\n",
              "\n",
              "      <script>\n",
              "        const buttonEl =\n",
              "          document.querySelector('#df-2da28c50-637f-4bef-a68b-3bdd2d0759de button.colab-df-convert');\n",
              "        buttonEl.style.display =\n",
              "          google.colab.kernel.accessAllowed ? 'block' : 'none';\n",
              "\n",
              "        async function convertToInteractive(key) {\n",
              "          const element = document.querySelector('#df-2da28c50-637f-4bef-a68b-3bdd2d0759de');\n",
              "          const dataTable =\n",
              "            await google.colab.kernel.invokeFunction('convertToInteractive',\n",
              "                                                     [key], {});\n",
              "          if (!dataTable) return;\n",
              "\n",
              "          const docLinkHtml = 'Like what you see? Visit the ' +\n",
              "            '<a target=\"_blank\" href=https://colab.research.google.com/notebooks/data_table.ipynb>data table notebook</a>'\n",
              "            + ' to learn more about interactive tables.';\n",
              "          element.innerHTML = '';\n",
              "          dataTable['output_type'] = 'display_data';\n",
              "          await google.colab.output.renderOutput(dataTable, element);\n",
              "          const docLink = document.createElement('div');\n",
              "          docLink.innerHTML = docLinkHtml;\n",
              "          element.appendChild(docLink);\n",
              "        }\n",
              "      </script>\n",
              "    </div>\n",
              "  </div>\n",
              "  "
            ]
          },
          "metadata": {}
        }
      ]
    },
    {
      "cell_type": "code",
      "source": [
        "plt.figure(figsize=(10,6))\n",
        "\n",
        "sns.barplot(x=fi['importance'], y=fi['feature'])\n",
        "\n",
        "plt.xlabel('Важность признаков')\n",
        "plt.ylabel('Признаки')\n",
        "plt.title('Визуализация важных признаков')\n",
        "plt.show()"
      ],
      "metadata": {
        "colab": {
          "base_uri": "https://localhost:8080/",
          "height": 404
        },
        "id": "ISmvfRQz3kkk",
        "outputId": "f12b7336-81fe-44d7-c273-7d39ee45d36a"
      },
      "execution_count": 21,
      "outputs": [
        {
          "output_type": "display_data",
          "data": {
            "text/plain": [
              "<Figure size 720x432 with 1 Axes>"
            ],
            "image/png": "[encoded data removed]"
          },
          "metadata": {
            "needs_background": "light"
          }
        }
      ]
    },
    {
      "cell_type": "code",
      "source": [
        "metrics(best_result_d, f1_d, auc_roc, 'DecisionTreeClassifier', compare_models)"
      ],
      "metadata": {
        "colab": {
          "base_uri": "https://localhost:8080/",
          "height": 81
        },
        "id": "CCM5GX6920pI",
        "outputId": "abb0d2ed-d1f9-4742-8d28-d7116d8222ea"
      },
      "execution_count": 22,
      "outputs": [
        {
          "output_type": "execute_result",
          "data": {
            "text/plain": [
              "                       Accuracy_valid  F1 score   AUC ROC\n",
              "DecisionTreeClassifier       0.861936  0.580968  0.845008"
            ],
            "text/html": [
              "\n",
              "  <div id=\"df-3221fba7-c2b0-45fe-a051-4b80f998d964\">\n",
              "    <div class=\"colab-df-container\">\n",
              "      <div>\n",
              "<style scoped>\n",
              "    .dataframe tbody tr th:only-of-type {\n",
              "        vertical-align: middle;\n",
              "    }\n",
              "\n",
              "    .dataframe tbody tr th {\n",
              "        vertical-align: top;\n",
              "    }\n",
              "\n",
              "    .dataframe thead th {\n",
              "        text-align: right;\n",
              "    }\n",
              "</style>\n",
              "<table border=\"1\" class=\"dataframe\">\n",
              "  <thead>\n",
              "    <tr style=\"text-align: right;\">\n",
              "      <th></th>\n",
              "      <th>Accuracy_valid</th>\n",
              "      <th>F1 score</th>\n",
              "      <th>AUC ROC</th>\n",
              "    </tr>\n",
              "  </thead>\n",
              "  <tbody>\n",
              "    <tr>\n",
              "      <th>DecisionTreeClassifier</th>\n",
              "      <td>0.861936</td>\n",
              "      <td>0.580968</td>\n",
              "      <td>0.845008</td>\n",
              "    </tr>\n",
              "  </tbody>\n",
              "</table>\n",
              "</div>\n",
              "      <button class=\"colab-df-convert\" onclick=\"convertToInteractive('df-3221fba7-c2b0-45fe-a051-4b80f998d964')\"\n",
              "              title=\"Convert this dataframe to an interactive table.\"\n",
              "              style=\"display:none;\">\n",
              "        \n",
              "  <svg xmlns=\"http://www.w3.org/2000/svg\" height=\"24px\"viewBox=\"0 0 24 24\"\n",
              "       width=\"24px\">\n",
              "    <path d=\"M0 0h24v24H0V0z\" fill=\"none\"/>\n",
              "    <path d=\"M18.56 5.44l.94 2.06.94-2.06 2.06-.94-2.06-.94-.94-2.06-.94 2.06-2.06.94zm-11 1L8.5 8.5l.94-2.06 2.06-.94-2.06-.94L8.5 2.5l-.94 2.06-2.06.94zm10 10l.94 2.06.94-2.06 2.06-.94-2.06-.94-.94-2.06-.94 2.06-2.06.94z\"/><path d=\"M17.41 7.96l-1.37-1.37c-.4-.4-.92-.59-1.43-.59-.52 0-1.04.2-1.43.59L10.3 9.45l-7.72 7.72c-.78.78-.78 2.05 0 2.83L4 21.41c.39.39.9.59 1.41.59.51 0 1.02-.2 1.41-.59l7.78-7.78 2.81-2.81c.8-.78.8-2.07 0-2.86zM5.41 20L4 18.59l7.72-7.72 1.47 1.35L5.41 20z\"/>\n",
              "  </svg>\n",
              "      </button>\n",
              "      \n",
              "  <style>\n",
              "    .colab-df-container {\n",
              "      display:flex;\n",
              "      flex-wrap:wrap;\n",
              "      gap: 12px;\n",
              "    }\n",
              "\n",
              "    .colab-df-convert {\n",
              "      background-color: #E8F0FE;\n",
              "      border: none;\n",
              "      border-radius: 50%;\n",
              "      cursor: pointer;\n",
              "      display: none;\n",
              "      fill: #1967D2;\n",
              "      height: 32px;\n",
              "      padding: 0 0 0 0;\n",
              "      width: 32px;\n",
              "    }\n",
              "\n",
              "    .colab-df-convert:hover {\n",
              "      background-color: #E2EBFA;\n",
              "      box-shadow: 0px 1px 2px rgba(60, 64, 67, 0.3), 0px 1px 3px 1px rgba(60, 64, 67, 0.15);\n",
              "      fill: #174EA6;\n",
              "    }\n",
              "\n",
              "    [theme=dark] .colab-df-convert {\n",
              "      background-color: #3B4455;\n",
              "      fill: #D2E3FC;\n",
              "    }\n",
              "\n",
              "    [theme=dark] .colab-df-convert:hover {\n",
              "      background-color: #434B5C;\n",
              "      box-shadow: 0px 1px 3px 1px rgba(0, 0, 0, 0.15);\n",
              "      filter: drop-shadow(0px 1px 2px rgba(0, 0, 0, 0.3));\n",
              "      fill: #FFFFFF;\n",
              "    }\n",
              "  </style>\n",
              "\n",
              "      <script>\n",
              "        const buttonEl =\n",
              "          document.querySelector('#df-3221fba7-c2b0-45fe-a051-4b80f998d964 button.colab-df-convert');\n",
              "        buttonEl.style.display =\n",
              "          google.colab.kernel.accessAllowed ? 'block' : 'none';\n",
              "\n",
              "        async function convertToInteractive(key) {\n",
              "          const element = document.querySelector('#df-3221fba7-c2b0-45fe-a051-4b80f998d964');\n",
              "          const dataTable =\n",
              "            await google.colab.kernel.invokeFunction('convertToInteractive',\n",
              "                                                     [key], {});\n",
              "          if (!dataTable) return;\n",
              "\n",
              "          const docLinkHtml = 'Like what you see? Visit the ' +\n",
              "            '<a target=\"_blank\" href=https://colab.research.google.com/notebooks/data_table.ipynb>data table notebook</a>'\n",
              "            + ' to learn more about interactive tables.';\n",
              "          element.innerHTML = '';\n",
              "          dataTable['output_type'] = 'display_data';\n",
              "          await google.colab.output.renderOutput(dataTable, element);\n",
              "          const docLink = document.createElement('div');\n",
              "          docLink.innerHTML = docLinkHtml;\n",
              "          element.appendChild(docLink);\n",
              "        }\n",
              "      </script>\n",
              "    </div>\n",
              "  </div>\n",
              "  "
            ]
          },
          "metadata": {},
          "execution_count": 22
        }
      ]
    },
    {
      "cell_type": "markdown",
      "metadata": {
        "id": "WUKxSf5YTpKs"
      },
      "source": [
        "**Краткий вывод:** \n",
        "<br>Результат обучения модели Дерева решений на данный момент не очень высокий, он немного не дотягивает до поставленного порога. Анализ важности признаков показал, что такие признаки как - ***has_cr_card*** и ***geography_Spain***, не имеют вообще никакого влияния на обучение модели. Думаю, далее их можно будет отбросить. Сделаем это во время балансировки классов."
      ]
    },
    {
      "cell_type": "markdown",
      "metadata": {
        "id": "CoTTHbDiTpKt"
      },
      "source": [
        "### Случайный лес"
      ]
    },
    {
      "cell_type": "code",
      "source": [
        "%%time \n",
        "\n",
        "# подберем наилучшие параметры для модели случайного леса\n",
        "\n",
        "best_features = 0\n",
        "best_criterion = None\n",
        "best_depth = 0\n",
        "best_model_r = None\n",
        "best_result_r = 0\n",
        "best_est = 0\n",
        "\n",
        "for crit in tqdm(['gini', 'entropy']):\n",
        "    for max_features in ['sqrt', 'log2']:\n",
        "        for est in range(100,150,10):\n",
        "            for depth in range(5,30):\n",
        "                model_r = RandomForestClassifier(random_state=45, criterion=crit,\n",
        "                                    max_features=max_features, max_depth=depth, n_estimators=est, n_jobs=-1)\n",
        "                model_r.fit(features_train, target_train)\n",
        "                predictions = model_r.predict(features_valid)\n",
        "                result = model_r.score(features_valid, target_valid)\n",
        "                if result > best_result_r:\n",
        "                    best_criterion = crit\n",
        "                    best_features = max_features\n",
        "                    best_depth = depth\n",
        "                    best_model_r = model_r\n",
        "                    best_result_r = result\n",
        "                    best_est = est\n",
        "\n",
        "print('Accuracy наилучшей модели на валидационной выборке:', best_result_r)\n",
        "print('Количество деревьев:', best_est)\n",
        "print('Глубина:', best_depth)\n",
        "print('Число признаков:', best_features)\n",
        "print('Критерий расщепления:', best_criterion)"
      ],
      "metadata": {
        "colab": {
          "base_uri": "https://localhost:8080/"
        },
        "id": "q6IV2ZzV5ag2",
        "outputId": "dcc1c9c1-940e-45c0-fd54-852a6e045899"
      },
      "execution_count": 23,
      "outputs": [
        {
          "output_type": "stream",
          "name": "stderr",
          "text": [
            "100%|██████████| 2/2 [07:24<00:00, 222.50s/it]"
          ]
        },
        {
          "output_type": "stream",
          "name": "stdout",
          "text": [
            "Accuracy наилучшей модели на валидационной выборке: 0.8668866886688669\n",
            "Количество деревьев: 100\n",
            "Глубина: 10\n",
            "Число признаков: sqrt\n",
            "Критерий расщепления: gini\n",
            "CPU times: user 10min, sys: 23.1 s, total: 10min 23s\n",
            "Wall time: 7min 25s\n"
          ]
        },
        {
          "output_type": "stream",
          "name": "stderr",
          "text": [
            "\n"
          ]
        }
      ]
    },
    {
      "cell_type": "code",
      "source": [
        "%%time\n",
        "\n",
        "model_rf = RandomForestClassifier(random_state=45, max_depth=10, criterion='gini', n_estimators=100, max_features='sqrt')\n",
        "model_rf.fit(features_train, target_train)\n",
        "predicted_valid = model_rf.predict(features_valid)\n",
        "f1_rf = f1_score(target_valid, predicted_valid)\n",
        "\n",
        "print('Качество модели', accuracy_score(target_valid, predicted_valid))\n",
        "print('Precision', precision_score(target_valid, predicted_valid))\n",
        "print('Recall', recall_score(target_valid, predicted_valid))\n",
        "print('F1', f1_rf)"
      ],
      "metadata": {
        "id": "Z-n4BM0T5aee",
        "colab": {
          "base_uri": "https://localhost:8080/"
        },
        "outputId": "7fc4f0c5-f5bb-4e73-8bd5-06a515eeba04"
      },
      "execution_count": 24,
      "outputs": [
        {
          "output_type": "stream",
          "name": "stdout",
          "text": [
            "Качество модели 0.8668866886688669\n",
            "Precision 0.835820895522388\n",
            "Recall 0.44562334217506633\n",
            "F1 0.5813148788927336\n",
            "CPU times: user 594 ms, sys: 9.44 ms, total: 603 ms\n",
            "Wall time: 601 ms\n"
          ]
        }
      ]
    },
    {
      "cell_type": "code",
      "execution_count": 25,
      "metadata": {
        "id": "j-dzmfEATpKw",
        "colab": {
          "base_uri": "https://localhost:8080/",
          "height": 423
        },
        "outputId": "00f38212-af8f-46f0-a94d-993f8a9c2827"
      },
      "outputs": [
        {
          "output_type": "stream",
          "name": "stdout",
          "text": [
            "AUC-ROC RandomForestClassifier 0.8707609842118924\n"
          ]
        },
        {
          "output_type": "display_data",
          "data": {
            "text/plain": [
              "<Figure size 720x432 with 1 Axes>"
            ],
            "image/png": "[encoded data removed]"
          },
          "metadata": {
            "needs_background": "light"
          }
        }
      ],
      "source": [
        "probabilities_valid = model_rf.predict_proba(features_valid)\n",
        "probabilities_one_valid = probabilities_valid[:, 1]\n",
        "fpr_rf, tpr_rf, thresholds = roc_curve(target_valid, probabilities_one_valid)\n",
        "auc_roc_rf = roc_auc_score(target_valid, probabilities_one_valid)\n",
        "print('AUC-ROC RandomForestClassifier',auc_roc_rf)\n",
        "\n",
        "plt.figure(figsize=(10,6))\n",
        "plt.plot(fpr_rf, tpr_rf)\n",
        "\n",
        "plt.plot([0, 1], [0, 1], linestyle='--')\n",
        "\n",
        "plt.xlim([0,1])\n",
        "plt.ylim([0,1])\n",
        "\n",
        "plt.xlabel(\"False Positive Rate\")\n",
        "plt.ylabel(\"True Positive Rate\")\n",
        "\n",
        "plt.title(\"ROC-кривая\")\n",
        "plt.show()"
      ]
    },
    {
      "cell_type": "code",
      "source": [
        "# посмотрим на важность признаков для модели\n",
        "\n",
        "fi = pd.DataFrame({'feature': list(features_train.columns),\n",
        "                   'importance': model_rf.feature_importances_}).\\\n",
        "                    sort_values('importance', ascending = False)\n",
        "\n",
        "display(fi)"
      ],
      "metadata": {
        "colab": {
          "base_uri": "https://localhost:8080/",
          "height": 394
        },
        "id": "JYkM4Qyc4ZcA",
        "outputId": "0049a508-4f42-4de7-8a3a-ce9bb351c1a0"
      },
      "execution_count": 26,
      "outputs": [
        {
          "output_type": "display_data",
          "data": {
            "text/plain": [
              "              feature  importance\n",
              "1                 age    0.308467\n",
              "4     num_of_products    0.197663\n",
              "3             balance    0.114820\n",
              "7    estimated_salary    0.095943\n",
              "0        credit_score    0.094038\n",
              "6    is_active_member    0.056755\n",
              "2              tenure    0.051507\n",
              "8   geography_Germany    0.039197\n",
              "10        gender_Male    0.019296\n",
              "5         has_cr_card    0.012425\n",
              "9     geography_Spain    0.009889"
            ],
            "text/html": [
              "\n",
              "  <div id=\"df-e83b2795-4615-4d20-bce1-0a71b7aafee4\">\n",
              "    <div class=\"colab-df-container\">\n",
              "      <div>\n",
              "<style scoped>\n",
              "    .dataframe tbody tr th:only-of-type {\n",
              "        vertical-align: middle;\n",
              "    }\n",
              "\n",
              "    .dataframe tbody tr th {\n",
              "        vertical-align: top;\n",
              "    }\n",
              "\n",
              "    .dataframe thead th {\n",
              "        text-align: right;\n",
              "    }\n",
              "</style>\n",
              "<table border=\"1\" class=\"dataframe\">\n",
              "  <thead>\n",
              "    <tr style=\"text-align: right;\">\n",
              "      <th></th>\n",
              "      <th>feature</th>\n",
              "      <th>importance</th>\n",
              "    </tr>\n",
              "  </thead>\n",
              "  <tbody>\n",
              "    <tr>\n",
              "      <th>1</th>\n",
              "      <td>age</td>\n",
              "      <td>0.308467</td>\n",
              "    </tr>\n",
              "    <tr>\n",
              "      <th>4</th>\n",
              "      <td>num_of_products</td>\n",
              "      <td>0.197663</td>\n",
              "    </tr>\n",
              "    <tr>\n",
              "      <th>3</th>\n",
              "      <td>balance</td>\n",
              "      <td>0.114820</td>\n",
              "    </tr>\n",
              "    <tr>\n",
              "      <th>7</th>\n",
              "      <td>estimated_salary</td>\n",
              "      <td>0.095943</td>\n",
              "    </tr>\n",
              "    <tr>\n",
              "      <th>0</th>\n",
              "      <td>credit_score</td>\n",
              "      <td>0.094038</td>\n",
              "    </tr>\n",
              "    <tr>\n",
              "      <th>6</th>\n",
              "      <td>is_active_member</td>\n",
              "      <td>0.056755</td>\n",
              "    </tr>\n",
              "    <tr>\n",
              "      <th>2</th>\n",
              "      <td>tenure</td>\n",
              "      <td>0.051507</td>\n",
              "    </tr>\n",
              "    <tr>\n",
              "      <th>8</th>\n",
              "      <td>geography_Germany</td>\n",
              "      <td>0.039197</td>\n",
              "    </tr>\n",
              "    <tr>\n",
              "      <th>10</th>\n",
              "      <td>gender_Male</td>\n",
              "      <td>0.019296</td>\n",
              "    </tr>\n",
              "    <tr>\n",
              "      <th>5</th>\n",
              "      <td>has_cr_card</td>\n",
              "      <td>0.012425</td>\n",
              "    </tr>\n",
              "    <tr>\n",
              "      <th>9</th>\n",
              "      <td>geography_Spain</td>\n",
              "      <td>0.009889</td>\n",
              "    </tr>\n",
              "  </tbody>\n",
              "</table>\n",
              "</div>\n",
              "      <button class=\"colab-df-convert\" onclick=\"convertToInteractive('df-e83b2795-4615-4d20-bce1-0a71b7aafee4')\"\n",
              "              title=\"Convert this dataframe to an interactive table.\"\n",
              "              style=\"display:none;\">\n",
              "        \n",
              "  <svg xmlns=\"http://www.w3.org/2000/svg\" height=\"24px\"viewBox=\"0 0 24 24\"\n",
              "       width=\"24px\">\n",
              "    <path d=\"M0 0h24v24H0V0z\" fill=\"none\"/>\n",
              "    <path d=\"M18.56 5.44l.94 2.06.94-2.06 2.06-.94-2.06-.94-.94-2.06-.94 2.06-2.06.94zm-11 1L8.5 8.5l.94-2.06 2.06-.94-2.06-.94L8.5 2.5l-.94 2.06-2.06.94zm10 10l.94 2.06.94-2.06 2.06-.94-2.06-.94-.94-2.06-.94 2.06-2.06.94z\"/><path d=\"M17.41 7.96l-1.37-1.37c-.4-.4-.92-.59-1.43-.59-.52 0-1.04.2-1.43.59L10.3 9.45l-7.72 7.72c-.78.78-.78 2.05 0 2.83L4 21.41c.39.39.9.59 1.41.59.51 0 1.02-.2 1.41-.59l7.78-7.78 2.81-2.81c.8-.78.8-2.07 0-2.86zM5.41 20L4 18.59l7.72-7.72 1.47 1.35L5.41 20z\"/>\n",
              "  </svg>\n",
              "      </button>\n",
              "      \n",
              "  <style>\n",
              "    .colab-df-container {\n",
              "      display:flex;\n",
              "      flex-wrap:wrap;\n",
              "      gap: 12px;\n",
              "    }\n",
              "\n",
              "    .colab-df-convert {\n",
              "      background-color: #E8F0FE;\n",
              "      border: none;\n",
              "      border-radius: 50%;\n",
              "      cursor: pointer;\n",
              "      display: none;\n",
              "      fill: #1967D2;\n",
              "      height: 32px;\n",
              "      padding: 0 0 0 0;\n",
              "      width: 32px;\n",
              "    }\n",
              "\n",
              "    .colab-df-convert:hover {\n",
              "      background-color: #E2EBFA;\n",
              "      box-shadow: 0px 1px 2px rgba(60, 64, 67, 0.3), 0px 1px 3px 1px rgba(60, 64, 67, 0.15);\n",
              "      fill: #174EA6;\n",
              "    }\n",
              "\n",
              "    [theme=dark] .colab-df-convert {\n",
              "      background-color: #3B4455;\n",
              "      fill: #D2E3FC;\n",
              "    }\n",
              "\n",
              "    [theme=dark] .colab-df-convert:hover {\n",
              "      background-color: #434B5C;\n",
              "      box-shadow: 0px 1px 3px 1px rgba(0, 0, 0, 0.15);\n",
              "      filter: drop-shadow(0px 1px 2px rgba(0, 0, 0, 0.3));\n",
              "      fill: #FFFFFF;\n",
              "    }\n",
              "  </style>\n",
              "\n",
              "      <script>\n",
              "        const buttonEl =\n",
              "          document.querySelector('#df-e83b2795-4615-4d20-bce1-0a71b7aafee4 button.colab-df-convert');\n",
              "        buttonEl.style.display =\n",
              "          google.colab.kernel.accessAllowed ? 'block' : 'none';\n",
              "\n",
              "        async function convertToInteractive(key) {\n",
              "          const element = document.querySelector('#df-e83b2795-4615-4d20-bce1-0a71b7aafee4');\n",
              "          const dataTable =\n",
              "            await google.colab.kernel.invokeFunction('convertToInteractive',\n",
              "                                                     [key], {});\n",
              "          if (!dataTable) return;\n",
              "\n",
              "          const docLinkHtml = 'Like what you see? Visit the ' +\n",
              "            '<a target=\"_blank\" href=https://colab.research.google.com/notebooks/data_table.ipynb>data table notebook</a>'\n",
              "            + ' to learn more about interactive tables.';\n",
              "          element.innerHTML = '';\n",
              "          dataTable['output_type'] = 'display_data';\n",
              "          await google.colab.output.renderOutput(dataTable, element);\n",
              "          const docLink = document.createElement('div');\n",
              "          docLink.innerHTML = docLinkHtml;\n",
              "          element.appendChild(docLink);\n",
              "        }\n",
              "      </script>\n",
              "    </div>\n",
              "  </div>\n",
              "  "
            ]
          },
          "metadata": {}
        }
      ]
    },
    {
      "cell_type": "code",
      "source": [
        "plt.figure(figsize=(10,6))\n",
        "\n",
        "sns.barplot(x=fi['importance'], y=fi['feature'])\n",
        "\n",
        "plt.xlabel('Важность признаков')\n",
        "plt.ylabel('Признаки')\n",
        "plt.title('Визуализация важных признаков')\n",
        "plt.show()"
      ],
      "metadata": {
        "colab": {
          "base_uri": "https://localhost:8080/",
          "height": 404
        },
        "id": "WRWtsY1b4ZYn",
        "outputId": "f71ce69c-a7e1-4420-b5fd-714b9f2fbfdd"
      },
      "execution_count": 27,
      "outputs": [
        {
          "output_type": "display_data",
          "data": {
            "text/plain": [
              "<Figure size 720x432 with 1 Axes>"
            ],
            "image/png": "[encoded data removed]"
          },
          "metadata": {
            "needs_background": "light"
          }
        }
      ]
    },
    {
      "cell_type": "code",
      "source": [
        "metrics(best_result_r, f1_rf, auc_roc_rf, 'RandomForestClassifier', compare_models)"
      ],
      "metadata": {
        "colab": {
          "base_uri": "https://localhost:8080/",
          "height": 112
        },
        "id": "cjjYn4-H4yMx",
        "outputId": "4663fd39-494b-4cf1-c639-fbcecfea062f"
      },
      "execution_count": 28,
      "outputs": [
        {
          "output_type": "execute_result",
          "data": {
            "text/plain": [
              "                       Accuracy_valid  F1 score   AUC ROC\n",
              "DecisionTreeClassifier       0.861936  0.580968  0.845008\n",
              "RandomForestClassifier       0.866887  0.581315  0.870761"
            ],
            "text/html": [
              "\n",
              "  <div id=\"df-9a83ab4e-7689-4eda-a036-acc9ad22da0e\">\n",
              "    <div class=\"colab-df-container\">\n",
              "      <div>\n",
              "<style scoped>\n",
              "    .dataframe tbody tr th:only-of-type {\n",
              "        vertical-align: middle;\n",
              "    }\n",
              "\n",
              "    .dataframe tbody tr th {\n",
              "        vertical-align: top;\n",
              "    }\n",
              "\n",
              "    .dataframe thead th {\n",
              "        text-align: right;\n",
              "    }\n",
              "</style>\n",
              "<table border=\"1\" class=\"dataframe\">\n",
              "  <thead>\n",
              "    <tr style=\"text-align: right;\">\n",
              "      <th></th>\n",
              "      <th>Accuracy_valid</th>\n",
              "      <th>F1 score</th>\n",
              "      <th>AUC ROC</th>\n",
              "    </tr>\n",
              "  </thead>\n",
              "  <tbody>\n",
              "    <tr>\n",
              "      <th>DecisionTreeClassifier</th>\n",
              "      <td>0.861936</td>\n",
              "      <td>0.580968</td>\n",
              "      <td>0.845008</td>\n",
              "    </tr>\n",
              "    <tr>\n",
              "      <th>RandomForestClassifier</th>\n",
              "      <td>0.866887</td>\n",
              "      <td>0.581315</td>\n",
              "      <td>0.870761</td>\n",
              "    </tr>\n",
              "  </tbody>\n",
              "</table>\n",
              "</div>\n",
              "      <button class=\"colab-df-convert\" onclick=\"convertToInteractive('df-9a83ab4e-7689-4eda-a036-acc9ad22da0e')\"\n",
              "              title=\"Convert this dataframe to an interactive table.\"\n",
              "              style=\"display:none;\">\n",
              "        \n",
              "  <svg xmlns=\"http://www.w3.org/2000/svg\" height=\"24px\"viewBox=\"0 0 24 24\"\n",
              "       width=\"24px\">\n",
              "    <path d=\"M0 0h24v24H0V0z\" fill=\"none\"/>\n",
              "    <path d=\"M18.56 5.44l.94 2.06.94-2.06 2.06-.94-2.06-.94-.94-2.06-.94 2.06-2.06.94zm-11 1L8.5 8.5l.94-2.06 2.06-.94-2.06-.94L8.5 2.5l-.94 2.06-2.06.94zm10 10l.94 2.06.94-2.06 2.06-.94-2.06-.94-.94-2.06-.94 2.06-2.06.94z\"/><path d=\"M17.41 7.96l-1.37-1.37c-.4-.4-.92-.59-1.43-.59-.52 0-1.04.2-1.43.59L10.3 9.45l-7.72 7.72c-.78.78-.78 2.05 0 2.83L4 21.41c.39.39.9.59 1.41.59.51 0 1.02-.2 1.41-.59l7.78-7.78 2.81-2.81c.8-.78.8-2.07 0-2.86zM5.41 20L4 18.59l7.72-7.72 1.47 1.35L5.41 20z\"/>\n",
              "  </svg>\n",
              "      </button>\n",
              "      \n",
              "  <style>\n",
              "    .colab-df-container {\n",
              "      display:flex;\n",
              "      flex-wrap:wrap;\n",
              "      gap: 12px;\n",
              "    }\n",
              "\n",
              "    .colab-df-convert {\n",
              "      background-color: #E8F0FE;\n",
              "      border: none;\n",
              "      border-radius: 50%;\n",
              "      cursor: pointer;\n",
              "      display: none;\n",
              "      fill: #1967D2;\n",
              "      height: 32px;\n",
              "      padding: 0 0 0 0;\n",
              "      width: 32px;\n",
              "    }\n",
              "\n",
              "    .colab-df-convert:hover {\n",
              "      background-color: #E2EBFA;\n",
              "      box-shadow: 0px 1px 2px rgba(60, 64, 67, 0.3), 0px 1px 3px 1px rgba(60, 64, 67, 0.15);\n",
              "      fill: #174EA6;\n",
              "    }\n",
              "\n",
              "    [theme=dark] .colab-df-convert {\n",
              "      background-color: #3B4455;\n",
              "      fill: #D2E3FC;\n",
              "    }\n",
              "\n",
              "    [theme=dark] .colab-df-convert:hover {\n",
              "      background-color: #434B5C;\n",
              "      box-shadow: 0px 1px 3px 1px rgba(0, 0, 0, 0.15);\n",
              "      filter: drop-shadow(0px 1px 2px rgba(0, 0, 0, 0.3));\n",
              "      fill: #FFFFFF;\n",
              "    }\n",
              "  </style>\n",
              "\n",
              "      <script>\n",
              "        const buttonEl =\n",
              "          document.querySelector('#df-9a83ab4e-7689-4eda-a036-acc9ad22da0e button.colab-df-convert');\n",
              "        buttonEl.style.display =\n",
              "          google.colab.kernel.accessAllowed ? 'block' : 'none';\n",
              "\n",
              "        async function convertToInteractive(key) {\n",
              "          const element = document.querySelector('#df-9a83ab4e-7689-4eda-a036-acc9ad22da0e');\n",
              "          const dataTable =\n",
              "            await google.colab.kernel.invokeFunction('convertToInteractive',\n",
              "                                                     [key], {});\n",
              "          if (!dataTable) return;\n",
              "\n",
              "          const docLinkHtml = 'Like what you see? Visit the ' +\n",
              "            '<a target=\"_blank\" href=https://colab.research.google.com/notebooks/data_table.ipynb>data table notebook</a>'\n",
              "            + ' to learn more about interactive tables.';\n",
              "          element.innerHTML = '';\n",
              "          dataTable['output_type'] = 'display_data';\n",
              "          await google.colab.output.renderOutput(dataTable, element);\n",
              "          const docLink = document.createElement('div');\n",
              "          docLink.innerHTML = docLinkHtml;\n",
              "          element.appendChild(docLink);\n",
              "        }\n",
              "      </script>\n",
              "    </div>\n",
              "  </div>\n",
              "  "
            ]
          },
          "metadata": {},
          "execution_count": 28
        }
      ]
    },
    {
      "cell_type": "markdown",
      "source": [
        "**Комментарий:**\n",
        "<br> Результат обучения модели Случайного леса немного лучше, чем у Дерева решений. Показатель AUC-ROC также выше, чем у Дерева решений. Анализ важности признаков показал, что в целом каждый признак вносит свое влияние, однако признак ***geography_Spain*** имеет наименьшее значение, как и у модели Дерева решений. Думаю, что можно будет тоже без него посмотреть на показатели при балансировке."
      ],
      "metadata": {
        "id": "GHfL2JTD4tEy"
      }
    },
    {
      "cell_type": "markdown",
      "metadata": {
        "id": "pdRElJxGTpKw"
      },
      "source": [
        "### Логистическая регрессия"
      ]
    },
    {
      "cell_type": "code",
      "execution_count": 29,
      "metadata": {
        "id": "grw-7dV5TpKx",
        "outputId": "2a89d364-84e0-4c49-999f-7d4cae6d3d27",
        "colab": {
          "base_uri": "https://localhost:8080/"
        }
      },
      "outputs": [
        {
          "output_type": "stream",
          "name": "stdout",
          "text": [
            "Качество модели 0.7887788778877888\n",
            "Precision 0.40540540540540543\n",
            "Recall 0.03978779840848806\n",
            "F1 0.07246376811594203\n"
          ]
        }
      ],
      "source": [
        "model_lr =  LogisticRegression(random_state=45, solver='liblinear')\n",
        "model_lr.fit(features_train, target_train)\n",
        "predicted_valid = model_lr.predict(features_valid)\n",
        "f1_lr = f1_score(target_valid, predicted_valid)\n",
        "result_lr = accuracy_score(target_valid, predicted_valid)\n",
        "print('Качество модели', result_lr)\n",
        "print('Precision', precision_score(target_valid, predicted_valid))\n",
        "print('Recall', recall_score(target_valid, predicted_valid))\n",
        "print('F1', f1_lr)"
      ]
    },
    {
      "cell_type": "code",
      "execution_count": 30,
      "metadata": {
        "id": "wTP2pmWiTpKx",
        "outputId": "cf036a51-65d4-4ccf-8a06-ebbe50097884",
        "colab": {
          "base_uri": "https://localhost:8080/",
          "height": 423
        }
      },
      "outputs": [
        {
          "output_type": "stream",
          "name": "stdout",
          "text": [
            "AUC-ROC LogisticRegression 0.693795017827658\n"
          ]
        },
        {
          "output_type": "display_data",
          "data": {
            "text/plain": [
              "<Figure size 720x432 with 1 Axes>"
            ],
            "image/png": "[encoded data removed]"
          },
          "metadata": {
            "needs_background": "light"
          }
        }
      ],
      "source": [
        "probabilities_valid = model_lr.predict_proba(features_valid)\n",
        "probabilities_one_valid = probabilities_valid[:, 1]\n",
        "fpr_lr, tpr_lr, thresholds = roc_curve(target_valid, probabilities_one_valid)\n",
        "auc_roc_lr = roc_auc_score(target_valid, probabilities_one_valid)\n",
        "print('AUC-ROC LogisticRegression', auc_roc_lr)\n",
        "\n",
        "plt.figure(figsize=(10,6))\n",
        "plt.plot(fpr_lr, tpr_lr)\n",
        "\n",
        "plt.plot([0, 1], [0, 1], linestyle='--')\n",
        "\n",
        "plt.xlim([0,1])\n",
        "plt.ylim([0,1])\n",
        "\n",
        "plt.xlabel(\"False Positive Rate\")\n",
        "plt.ylabel(\"True Positive Rate\")\n",
        "\n",
        "plt.title(\"ROC-кривая\")\n",
        "plt.show()"
      ]
    },
    {
      "cell_type": "code",
      "source": [
        "metrics(result_lr, f1_lr, auc_roc_lr, 'LogisticRegression', compare_models)"
      ],
      "metadata": {
        "colab": {
          "base_uri": "https://localhost:8080/",
          "height": 143
        },
        "id": "LFOCkEb7Axc3",
        "outputId": "7685694f-1634-4166-e969-e232be523420"
      },
      "execution_count": 31,
      "outputs": [
        {
          "output_type": "execute_result",
          "data": {
            "text/plain": [
              "                       Accuracy_valid  F1 score   AUC ROC\n",
              "DecisionTreeClassifier       0.861936  0.580968  0.845008\n",
              "RandomForestClassifier       0.866887  0.581315  0.870761\n",
              "LogisticRegression           0.788779  0.072464  0.693795"
            ],
            "text/html": [
              "\n",
              "  <div id=\"df-bec565f5-689a-4487-8b3f-c696cfdb2165\">\n",
              "    <div class=\"colab-df-container\">\n",
              "      <div>\n",
              "<style scoped>\n",
              "    .dataframe tbody tr th:only-of-type {\n",
              "        vertical-align: middle;\n",
              "    }\n",
              "\n",
              "    .dataframe tbody tr th {\n",
              "        vertical-align: top;\n",
              "    }\n",
              "\n",
              "    .dataframe thead th {\n",
              "        text-align: right;\n",
              "    }\n",
              "</style>\n",
              "<table border=\"1\" class=\"dataframe\">\n",
              "  <thead>\n",
              "    <tr style=\"text-align: right;\">\n",
              "      <th></th>\n",
              "      <th>Accuracy_valid</th>\n",
              "      <th>F1 score</th>\n",
              "      <th>AUC ROC</th>\n",
              "    </tr>\n",
              "  </thead>\n",
              "  <tbody>\n",
              "    <tr>\n",
              "      <th>DecisionTreeClassifier</th>\n",
              "      <td>0.861936</td>\n",
              "      <td>0.580968</td>\n",
              "      <td>0.845008</td>\n",
              "    </tr>\n",
              "    <tr>\n",
              "      <th>RandomForestClassifier</th>\n",
              "      <td>0.866887</td>\n",
              "      <td>0.581315</td>\n",
              "      <td>0.870761</td>\n",
              "    </tr>\n",
              "    <tr>\n",
              "      <th>LogisticRegression</th>\n",
              "      <td>0.788779</td>\n",
              "      <td>0.072464</td>\n",
              "      <td>0.693795</td>\n",
              "    </tr>\n",
              "  </tbody>\n",
              "</table>\n",
              "</div>\n",
              "      <button class=\"colab-df-convert\" onclick=\"convertToInteractive('df-bec565f5-689a-4487-8b3f-c696cfdb2165')\"\n",
              "              title=\"Convert this dataframe to an interactive table.\"\n",
              "              style=\"display:none;\">\n",
              "        \n",
              "  <svg xmlns=\"http://www.w3.org/2000/svg\" height=\"24px\"viewBox=\"0 0 24 24\"\n",
              "       width=\"24px\">\n",
              "    <path d=\"M0 0h24v24H0V0z\" fill=\"none\"/>\n",
              "    <path d=\"M18.56 5.44l.94 2.06.94-2.06 2.06-.94-2.06-.94-.94-2.06-.94 2.06-2.06.94zm-11 1L8.5 8.5l.94-2.06 2.06-.94-2.06-.94L8.5 2.5l-.94 2.06-2.06.94zm10 10l.94 2.06.94-2.06 2.06-.94-2.06-.94-.94-2.06-.94 2.06-2.06.94z\"/><path d=\"M17.41 7.96l-1.37-1.37c-.4-.4-.92-.59-1.43-.59-.52 0-1.04.2-1.43.59L10.3 9.45l-7.72 7.72c-.78.78-.78 2.05 0 2.83L4 21.41c.39.39.9.59 1.41.59.51 0 1.02-.2 1.41-.59l7.78-7.78 2.81-2.81c.8-.78.8-2.07 0-2.86zM5.41 20L4 18.59l7.72-7.72 1.47 1.35L5.41 20z\"/>\n",
              "  </svg>\n",
              "      </button>\n",
              "      \n",
              "  <style>\n",
              "    .colab-df-container {\n",
              "      display:flex;\n",
              "      flex-wrap:wrap;\n",
              "      gap: 12px;\n",
              "    }\n",
              "\n",
              "    .colab-df-convert {\n",
              "      background-color: #E8F0FE;\n",
              "      border: none;\n",
              "      border-radius: 50%;\n",
              "      cursor: pointer;\n",
              "      display: none;\n",
              "      fill: #1967D2;\n",
              "      height: 32px;\n",
              "      padding: 0 0 0 0;\n",
              "      width: 32px;\n",
              "    }\n",
              "\n",
              "    .colab-df-convert:hover {\n",
              "      background-color: #E2EBFA;\n",
              "      box-shadow: 0px 1px 2px rgba(60, 64, 67, 0.3), 0px 1px 3px 1px rgba(60, 64, 67, 0.15);\n",
              "      fill: #174EA6;\n",
              "    }\n",
              "\n",
              "    [theme=dark] .colab-df-convert {\n",
              "      background-color: #3B4455;\n",
              "      fill: #D2E3FC;\n",
              "    }\n",
              "\n",
              "    [theme=dark] .colab-df-convert:hover {\n",
              "      background-color: #434B5C;\n",
              "      box-shadow: 0px 1px 3px 1px rgba(0, 0, 0, 0.15);\n",
              "      filter: drop-shadow(0px 1px 2px rgba(0, 0, 0, 0.3));\n",
              "      fill: #FFFFFF;\n",
              "    }\n",
              "  </style>\n",
              "\n",
              "      <script>\n",
              "        const buttonEl =\n",
              "          document.querySelector('#df-bec565f5-689a-4487-8b3f-c696cfdb2165 button.colab-df-convert');\n",
              "        buttonEl.style.display =\n",
              "          google.colab.kernel.accessAllowed ? 'block' : 'none';\n",
              "\n",
              "        async function convertToInteractive(key) {\n",
              "          const element = document.querySelector('#df-bec565f5-689a-4487-8b3f-c696cfdb2165');\n",
              "          const dataTable =\n",
              "            await google.colab.kernel.invokeFunction('convertToInteractive',\n",
              "                                                     [key], {});\n",
              "          if (!dataTable) return;\n",
              "\n",
              "          const docLinkHtml = 'Like what you see? Visit the ' +\n",
              "            '<a target=\"_blank\" href=https://colab.research.google.com/notebooks/data_table.ipynb>data table notebook</a>'\n",
              "            + ' to learn more about interactive tables.';\n",
              "          element.innerHTML = '';\n",
              "          dataTable['output_type'] = 'display_data';\n",
              "          await google.colab.output.renderOutput(dataTable, element);\n",
              "          const docLink = document.createElement('div');\n",
              "          docLink.innerHTML = docLinkHtml;\n",
              "          element.appendChild(docLink);\n",
              "        }\n",
              "      </script>\n",
              "    </div>\n",
              "  </div>\n",
              "  "
            ]
          },
          "metadata": {},
          "execution_count": 31
        }
      ]
    },
    {
      "cell_type": "markdown",
      "source": [
        "**Комментарий:**\n",
        "<br>Логистическая регрессия показала хороший результат метрики F1, гораздо более высокий, чем у предыдущих моделей. Однако показатель AUC ROC получился слишком низким. Посмотрим на результаты модели после балансировки."
      ],
      "metadata": {
        "id": "FcYTwm7TAWQO"
      }
    },
    {
      "cell_type": "code",
      "execution_count": 32,
      "metadata": {
        "id": "XFmRC-vqTpKy",
        "outputId": "2cf24ea9-dc9c-4ea4-df19-471dc9c2a27b",
        "colab": {
          "base_uri": "https://localhost:8080/",
          "height": 623
        }
      },
      "outputs": [
        {
          "output_type": "stream",
          "name": "stdout",
          "text": [
            "AUC-ROC DecisionTreeClassifier 0.8450079796486747\n",
            "AUC-ROC RandomForestClassifier 0.8707609842118924\n",
            "AUC-ROC LogisticRegression 0.693795017827658\n"
          ]
        },
        {
          "output_type": "display_data",
          "data": {
            "text/plain": [
              "<Figure size 864x648 with 1 Axes>"
            ],
            "image/png": "[encoded data removed]"
          },
          "metadata": {
            "needs_background": "light"
          }
        }
      ],
      "source": [
        "# для наглядности выведем все графики в один\n",
        "\n",
        "plt.figure(figsize=[12,9])\n",
        "\n",
        "plt.plot([0, 1], [0, 1], linestyle='--', label='RandomModel')\n",
        "\n",
        "print('AUC-ROC DecisionTreeClassifier',auc_roc)\n",
        "plt.plot(fpr_dt, tpr_dt, label='DecisionTreeClassifier')\n",
        "\n",
        "print('AUC-ROC RandomForestClassifier',auc_roc_rf)\n",
        "plt.plot(fpr_rf, tpr_rf, label='RandomForestClassifier')\n",
        "\n",
        "print('AUC-ROC LogisticRegression',auc_roc_lr)\n",
        "plt.plot(fpr_lr, tpr_lr, label='LogisticRegression')\n",
        "\n",
        "plt.xlim([0,1])\n",
        "plt.ylim([0,1])\n",
        "\n",
        "plt.xlabel(\"False Positive Rate\")\n",
        "plt.ylabel(\"True Positive Rate\")\n",
        "\n",
        "plt.legend(loc='lower right', fontsize='x-large')\n",
        "\n",
        "plt.title(\"ROC-кривая\")\n",
        "plt.show()"
      ]
    },
    {
      "cell_type": "markdown",
      "metadata": {
        "id": "3XfaYIvXTpKz"
      },
      "source": [
        "**Комментарий:**\n",
        "<br>Модель Cлучайного леса показала себя лучше других, хотя ее показатели близки к модели дерева решений. Теперь попробуем наладить баланс и посмотреть, как модели себя поведут."
      ]
    },
    {
      "cell_type": "markdown",
      "metadata": {
        "id": "OlvNUdf6TpK0"
      },
      "source": [
        "## Борьба с дисбалансом"
      ]
    },
    {
      "cell_type": "markdown",
      "metadata": {
        "id": "W-95azz4TpK0"
      },
      "source": [
        "### Дерево решений"
      ]
    },
    {
      "cell_type": "markdown",
      "metadata": {
        "id": "rfh-tuuUTpK0"
      },
      "source": [
        "#### Взвешивание классов"
      ]
    },
    {
      "cell_type": "code",
      "source": [
        "%%time\n",
        "\n",
        "# подберем параметры для Дерева решения с взвешенными классами\n",
        "\n",
        "best_criterion = None\n",
        "best_depth = 0\n",
        "best_model_d = None\n",
        "best_result_d = 0\n",
        "\n",
        "for crit in tqdm(['gini', 'entropy']):\n",
        "    for depth in range(4,30): \n",
        "        model_d = DecisionTreeClassifier(random_state=4545, criterion=crit,\n",
        "                                     max_depth=depth, class_weight='balanced')\n",
        "        model_d.fit(features_train, target_train)\n",
        "        predictions = model_d.predict(features_valid)\n",
        "        result = model_d.score(features_valid, target_valid)\n",
        "        if result > best_result_d:\n",
        "           best_criterion = crit\n",
        "           best_depth = depth\n",
        "           best_model_d = model_d\n",
        "           best_result_d = result\n",
        "                    \n",
        "\n",
        "print('Accuracy наилучшей модели на валидационной выборке:', best_result_d)\n",
        "print('Глубина:', best_depth)\n",
        "print('Критерий расщепления:', best_criterion)"
      ],
      "metadata": {
        "colab": {
          "base_uri": "https://localhost:8080/"
        },
        "id": "LydLII4vgxt5",
        "outputId": "59ebfac6-4b19-4423-ff33-85e6162bb563"
      },
      "execution_count": 33,
      "outputs": [
        {
          "output_type": "stream",
          "name": "stderr",
          "text": [
            "100%|██████████| 2/2 [00:01<00:00,  1.07it/s]"
          ]
        },
        {
          "output_type": "stream",
          "name": "stdout",
          "text": [
            "Accuracy наилучшей модели на валидационной выборке: 0.8036303630363036\n",
            "Глубина: 26\n",
            "Критерий расщепления: entropy\n",
            "CPU times: user 1.87 s, sys: 7.26 ms, total: 1.88 s\n",
            "Wall time: 1.89 s\n"
          ]
        },
        {
          "output_type": "stream",
          "name": "stderr",
          "text": [
            "\n"
          ]
        }
      ]
    },
    {
      "cell_type": "code",
      "execution_count": 34,
      "metadata": {
        "id": "46wFnRn0TpK1",
        "outputId": "bd5f9dbe-4088-4c43-9823-f0fadbc202f8",
        "colab": {
          "base_uri": "https://localhost:8080/"
        }
      },
      "outputs": [
        {
          "output_type": "stream",
          "name": "stdout",
          "text": [
            "Качество модели 0.8036303630363036\n",
            "Precision 0.5259067357512953\n",
            "Recall 0.5384615384615384\n",
            "F1 0.5321100917431193\n"
          ]
        }
      ],
      "source": [
        "model_d = DecisionTreeClassifier(random_state=4545, max_depth=26, class_weight='balanced', criterion='entropy')\n",
        "model_d.fit(features_train, target_train)\n",
        "predicted_valid = model_d.predict(features_valid)\n",
        "f1_d = f1_score(target_valid, predicted_valid)\n",
        "result_d = accuracy_score(target_valid, predicted_valid)\n",
        "print('Качество модели', result_d)\n",
        "print('Precision', precision_score(target_valid, predicted_valid))\n",
        "print('Recall', recall_score(target_valid, predicted_valid))\n",
        "print('F1', f1_d)"
      ]
    },
    {
      "cell_type": "markdown",
      "source": [
        "**Комментарий:**\n",
        "<br>Показатели по модели без балансировки:\n",
        "\n",
        "- Precision 0.7837837837837838\n",
        "- Recall 0.46153846153846156\n",
        "\n",
        "Интересно, что показатель полноты сильно увеличился, а точность намного упала."
      ],
      "metadata": {
        "id": "jJIm6R3cnITg"
      }
    },
    {
      "cell_type": "code",
      "source": [
        "probabilities_valid = model_d.predict_proba(features_valid)\n",
        "probabilities_one_valid = probabilities_valid[:, 1]\n",
        "fpr_dt, tpr_dt, thresholds = roc_curve(target_valid, probabilities_one_valid)\n",
        "auc_roc_d = roc_auc_score(target_valid, probabilities_one_valid)\n",
        "print('AUC-ROC DecisionTreeClassifier', auc_roc_d)\n",
        "\n",
        "plt.figure(figsize=(10,6))\n",
        "plt.plot(fpr_dt, tpr_dt)\n",
        "\n",
        "plt.plot([0, 1], [0, 1], linestyle='--')\n",
        "\n",
        "plt.xlim([0,1])\n",
        "plt.ylim([0,1])\n",
        "\n",
        "plt.xlabel(\"False Positive Rate\")\n",
        "plt.ylabel(\"True Positive Rate\")\n",
        "\n",
        "plt.title(\"ROC-кривая\")\n",
        "plt.show()"
      ],
      "metadata": {
        "colab": {
          "base_uri": "https://localhost:8080/",
          "height": 423
        },
        "id": "Ecz5imfRiJ1e",
        "outputId": "462d9b6d-7ce2-4994-ee2e-7ca12732c054"
      },
      "execution_count": 35,
      "outputs": [
        {
          "output_type": "stream",
          "name": "stdout",
          "text": [
            "AUC-ROC DecisionTreeClassifier 0.7057331980996102\n"
          ]
        },
        {
          "output_type": "display_data",
          "data": {
            "text/plain": [
              "<Figure size 720x432 with 1 Axes>"
            ],
            "image/png": "[encoded data removed]"
          },
          "metadata": {
            "needs_background": "light"
          }
        }
      ]
    },
    {
      "cell_type": "code",
      "source": [
        "metrics(result_d, f1_d, auc_roc_d, 'DecisionTreeClassifier_balanced', compare_models)"
      ],
      "metadata": {
        "colab": {
          "base_uri": "https://localhost:8080/",
          "height": 175
        },
        "id": "NnULoqhFh_km",
        "outputId": "fed5de76-48a4-4cc3-d280-3ef32e3e861d"
      },
      "execution_count": 36,
      "outputs": [
        {
          "output_type": "execute_result",
          "data": {
            "text/plain": [
              "                                Accuracy_valid  F1 score   AUC ROC\n",
              "DecisionTreeClassifier                0.861936  0.580968  0.845008\n",
              "RandomForestClassifier                0.866887  0.581315  0.870761\n",
              "LogisticRegression                    0.788779  0.072464  0.693795\n",
              "DecisionTreeClassifier_balanced        0.80363   0.53211  0.705733"
            ],
            "text/html": [
              "\n",
              "  <div id=\"df-649a0778-6fb3-48ba-a94f-3dddd12c5191\">\n",
              "    <div class=\"colab-df-container\">\n",
              "      <div>\n",
              "<style scoped>\n",
              "    .dataframe tbody tr th:only-of-type {\n",
              "        vertical-align: middle;\n",
              "    }\n",
              "\n",
              "    .dataframe tbody tr th {\n",
              "        vertical-align: top;\n",
              "    }\n",
              "\n",
              "    .dataframe thead th {\n",
              "        text-align: right;\n",
              "    }\n",
              "</style>\n",
              "<table border=\"1\" class=\"dataframe\">\n",
              "  <thead>\n",
              "    <tr style=\"text-align: right;\">\n",
              "      <th></th>\n",
              "      <th>Accuracy_valid</th>\n",
              "      <th>F1 score</th>\n",
              "      <th>AUC ROC</th>\n",
              "    </tr>\n",
              "  </thead>\n",
              "  <tbody>\n",
              "    <tr>\n",
              "      <th>DecisionTreeClassifier</th>\n",
              "      <td>0.861936</td>\n",
              "      <td>0.580968</td>\n",
              "      <td>0.845008</td>\n",
              "    </tr>\n",
              "    <tr>\n",
              "      <th>RandomForestClassifier</th>\n",
              "      <td>0.866887</td>\n",
              "      <td>0.581315</td>\n",
              "      <td>0.870761</td>\n",
              "    </tr>\n",
              "    <tr>\n",
              "      <th>LogisticRegression</th>\n",
              "      <td>0.788779</td>\n",
              "      <td>0.072464</td>\n",
              "      <td>0.693795</td>\n",
              "    </tr>\n",
              "    <tr>\n",
              "      <th>DecisionTreeClassifier_balanced</th>\n",
              "      <td>0.80363</td>\n",
              "      <td>0.53211</td>\n",
              "      <td>0.705733</td>\n",
              "    </tr>\n",
              "  </tbody>\n",
              "</table>\n",
              "</div>\n",
              "      <button class=\"colab-df-convert\" onclick=\"convertToInteractive('df-649a0778-6fb3-48ba-a94f-3dddd12c5191')\"\n",
              "              title=\"Convert this dataframe to an interactive table.\"\n",
              "              style=\"display:none;\">\n",
              "        \n",
              "  <svg xmlns=\"http://www.w3.org/2000/svg\" height=\"24px\"viewBox=\"0 0 24 24\"\n",
              "       width=\"24px\">\n",
              "    <path d=\"M0 0h24v24H0V0z\" fill=\"none\"/>\n",
              "    <path d=\"M18.56 5.44l.94 2.06.94-2.06 2.06-.94-2.06-.94-.94-2.06-.94 2.06-2.06.94zm-11 1L8.5 8.5l.94-2.06 2.06-.94-2.06-.94L8.5 2.5l-.94 2.06-2.06.94zm10 10l.94 2.06.94-2.06 2.06-.94-2.06-.94-.94-2.06-.94 2.06-2.06.94z\"/><path d=\"M17.41 7.96l-1.37-1.37c-.4-.4-.92-.59-1.43-.59-.52 0-1.04.2-1.43.59L10.3 9.45l-7.72 7.72c-.78.78-.78 2.05 0 2.83L4 21.41c.39.39.9.59 1.41.59.51 0 1.02-.2 1.41-.59l7.78-7.78 2.81-2.81c.8-.78.8-2.07 0-2.86zM5.41 20L4 18.59l7.72-7.72 1.47 1.35L5.41 20z\"/>\n",
              "  </svg>\n",
              "      </button>\n",
              "      \n",
              "  <style>\n",
              "    .colab-df-container {\n",
              "      display:flex;\n",
              "      flex-wrap:wrap;\n",
              "      gap: 12px;\n",
              "    }\n",
              "\n",
              "    .colab-df-convert {\n",
              "      background-color: #E8F0FE;\n",
              "      border: none;\n",
              "      border-radius: 50%;\n",
              "      cursor: pointer;\n",
              "      display: none;\n",
              "      fill: #1967D2;\n",
              "      height: 32px;\n",
              "      padding: 0 0 0 0;\n",
              "      width: 32px;\n",
              "    }\n",
              "\n",
              "    .colab-df-convert:hover {\n",
              "      background-color: #E2EBFA;\n",
              "      box-shadow: 0px 1px 2px rgba(60, 64, 67, 0.3), 0px 1px 3px 1px rgba(60, 64, 67, 0.15);\n",
              "      fill: #174EA6;\n",
              "    }\n",
              "\n",
              "    [theme=dark] .colab-df-convert {\n",
              "      background-color: #3B4455;\n",
              "      fill: #D2E3FC;\n",
              "    }\n",
              "\n",
              "    [theme=dark] .colab-df-convert:hover {\n",
              "      background-color: #434B5C;\n",
              "      box-shadow: 0px 1px 3px 1px rgba(0, 0, 0, 0.15);\n",
              "      filter: drop-shadow(0px 1px 2px rgba(0, 0, 0, 0.3));\n",
              "      fill: #FFFFFF;\n",
              "    }\n",
              "  </style>\n",
              "\n",
              "      <script>\n",
              "        const buttonEl =\n",
              "          document.querySelector('#df-649a0778-6fb3-48ba-a94f-3dddd12c5191 button.colab-df-convert');\n",
              "        buttonEl.style.display =\n",
              "          google.colab.kernel.accessAllowed ? 'block' : 'none';\n",
              "\n",
              "        async function convertToInteractive(key) {\n",
              "          const element = document.querySelector('#df-649a0778-6fb3-48ba-a94f-3dddd12c5191');\n",
              "          const dataTable =\n",
              "            await google.colab.kernel.invokeFunction('convertToInteractive',\n",
              "                                                     [key], {});\n",
              "          if (!dataTable) return;\n",
              "\n",
              "          const docLinkHtml = 'Like what you see? Visit the ' +\n",
              "            '<a target=\"_blank\" href=https://colab.research.google.com/notebooks/data_table.ipynb>data table notebook</a>'\n",
              "            + ' to learn more about interactive tables.';\n",
              "          element.innerHTML = '';\n",
              "          dataTable['output_type'] = 'display_data';\n",
              "          await google.colab.output.renderOutput(dataTable, element);\n",
              "          const docLink = document.createElement('div');\n",
              "          docLink.innerHTML = docLinkHtml;\n",
              "          element.appendChild(docLink);\n",
              "        }\n",
              "      </script>\n",
              "    </div>\n",
              "  </div>\n",
              "  "
            ]
          },
          "metadata": {},
          "execution_count": 36
        }
      ]
    },
    {
      "cell_type": "markdown",
      "source": [
        "**Комментарий:**\n",
        "<br>Взвешивание классов не дало ожидаемых результатов. Все метрики сильно уменьшились."
      ],
      "metadata": {
        "id": "QYsRiKD_jB-F"
      }
    },
    {
      "cell_type": "markdown",
      "metadata": {
        "id": "KLEUIstpTpLH"
      },
      "source": [
        "#### Увеличение выборки"
      ]
    },
    {
      "cell_type": "code",
      "source": [
        "# посмотрим на соотношение количества строк\n",
        "\n",
        "rat = len(churn_ohe.loc[churn_ohe['exited']==0])//len(churn_ohe.loc[churn_ohe['exited']==1])\n",
        "rat"
      ],
      "metadata": {
        "colab": {
          "base_uri": "https://localhost:8080/"
        },
        "id": "t73M9bzyczIo",
        "outputId": "a605e33b-f4e2-435a-da52-ac3e3cce02fd"
      },
      "execution_count": 37,
      "outputs": [
        {
          "output_type": "execute_result",
          "data": {
            "text/plain": [
              "3"
            ]
          },
          "metadata": {},
          "execution_count": 37
        }
      ]
    },
    {
      "cell_type": "code",
      "execution_count": 38,
      "metadata": {
        "id": "pZ0t-pRtTpLH"
      },
      "outputs": [],
      "source": [
        "def upsample(features, target, repeat):\n",
        "    features_zeros = features[target == 0]\n",
        "    features_ones = features[target == 1]\n",
        "    target_zeros = target[target == 0]\n",
        "    target_ones = target[target == 1]\n",
        "\n",
        "    features_upsampled = pd.concat([features_zeros] + [features_ones] * repeat)\n",
        "    target_upsampled = pd.concat([target_zeros] + [target_ones] * repeat)\n",
        "    \n",
        "    features_upsampled, target_upsampled = shuffle(\n",
        "        features_upsampled, target_upsampled, random_state=45)\n",
        "    \n",
        "    return features_upsampled, target_upsampled\n",
        "\n",
        "features_upsampled, target_upsampled = upsample(features_train, target_train, 3)"
      ]
    },
    {
      "cell_type": "code",
      "source": [
        "print(target_upsampled.value_counts())"
      ],
      "metadata": {
        "colab": {
          "base_uri": "https://localhost:8080/"
        },
        "id": "8gzkWu87ex3P",
        "outputId": "99edfde0-034e-4d0a-c20f-e4bf0b29c27d"
      },
      "execution_count": 39,
      "outputs": [
        {
          "output_type": "stream",
          "name": "stdout",
          "text": [
            "0    4328\n",
            "1    3378\n",
            "Name: exited, dtype: int64\n"
          ]
        }
      ]
    },
    {
      "cell_type": "code",
      "source": [
        "%%time\n",
        "\n",
        "# подберем параметры после увеличения выборки\n",
        "\n",
        "best_criterion = None\n",
        "best_depth = 0\n",
        "best_model_d = None\n",
        "best_result_d = 0\n",
        "\n",
        "for crit in tqdm(['gini', 'entropy']):\n",
        "    for depth in range(4,30): \n",
        "        model_d = DecisionTreeClassifier(random_state=4545, criterion=crit,\n",
        "                                     max_depth=depth)\n",
        "        model_d.fit(features_upsampled, target_upsampled)\n",
        "        predictions = model_d.predict(features_valid)\n",
        "        result = model_d.score(features_valid, target_valid)\n",
        "        if result > best_result_d:\n",
        "           best_criterion = crit\n",
        "           best_depth = depth\n",
        "           best_model_d = model_d\n",
        "           best_result_d = result\n",
        "                    \n",
        "\n",
        "print('Accuracy наилучшей модели на валидационной выборке:', best_result_d)\n",
        "print('Глубина:', best_depth)\n",
        "print('Критерий расщепления:', best_criterion)"
      ],
      "metadata": {
        "colab": {
          "base_uri": "https://localhost:8080/"
        },
        "id": "A0lbN21DkCGx",
        "outputId": "846f91b4-24c4-4637-d28b-37af3288ca47"
      },
      "execution_count": 40,
      "outputs": [
        {
          "output_type": "stream",
          "name": "stderr",
          "text": [
            "100%|██████████| 2/2 [00:02<00:00,  1.03s/it]"
          ]
        },
        {
          "output_type": "stream",
          "name": "stdout",
          "text": [
            "Accuracy наилучшей модели на валидационной выборке: 0.8173817381738174\n",
            "Глубина: 5\n",
            "Критерий расщепления: entropy\n",
            "CPU times: user 2.07 s, sys: 3.32 ms, total: 2.07 s\n",
            "Wall time: 2.08 s\n"
          ]
        },
        {
          "output_type": "stream",
          "name": "stderr",
          "text": [
            "\n"
          ]
        }
      ]
    },
    {
      "cell_type": "code",
      "execution_count": 41,
      "metadata": {
        "id": "VH27QyiHTpLJ",
        "outputId": "0168ee49-c7f5-42ae-8aee-1f7644b885be",
        "colab": {
          "base_uri": "https://localhost:8080/"
        }
      },
      "outputs": [
        {
          "output_type": "stream",
          "name": "stdout",
          "text": [
            "Качество модели 0.8173817381738174\n",
            "Precision 0.5503355704697986\n",
            "Recall 0.6525198938992043\n",
            "F1 0.5970873786407768\n"
          ]
        }
      ],
      "source": [
        "model_d = DecisionTreeClassifier(random_state=4545, max_depth=5, criterion='entropy')\n",
        "model_d.fit(features_upsampled, target_upsampled)\n",
        "predicted_valid = model_d.predict(features_valid)\n",
        "result_d = accuracy_score(target_valid, predicted_valid)\n",
        "f1_d = f1_score(target_valid, predicted_valid)\n",
        "print('Качество модели', result_d)\n",
        "print('Precision', precision_score(target_valid, predicted_valid))\n",
        "print('Recall', recall_score(target_valid, predicted_valid))\n",
        "print('F1', f1_d)"
      ]
    },
    {
      "cell_type": "markdown",
      "source": [
        "**Комментарий:**\n",
        "<br>Показатели по модели без увеличения выборки:\n",
        "\n",
        "- Precision 0.7837837837837838\n",
        "- Recall 0.46153846153846156\n",
        "\n",
        "Интересно, что показатель полноты сильно увеличился, а точность намного упала. Такая же картина наблюдалась при взвешивании классов."
      ],
      "metadata": {
        "id": "vvscC3p9oH18"
      }
    },
    {
      "cell_type": "code",
      "source": [
        "probabilities_valid = model_d.predict_proba(features_valid)\n",
        "probabilities_one_valid = probabilities_valid[:, 1]\n",
        "fpr_dt, tpr_dt, thresholds = roc_curve(target_valid, probabilities_one_valid)\n",
        "auc_roc_d = roc_auc_score(target_valid, probabilities_one_valid)\n",
        "print('AUC-ROC DecisionTreeClassifier', auc_roc_d)\n",
        "\n",
        "plt.figure(figsize=(10,6))\n",
        "plt.plot(fpr_dt, tpr_dt)\n",
        "\n",
        "plt.plot([0, 1], [0, 1], linestyle='--')\n",
        "\n",
        "plt.xlim([0,1])\n",
        "plt.ylim([0,1])\n",
        "\n",
        "plt.xlabel(\"False Positive Rate\")\n",
        "plt.ylabel(\"True Positive Rate\")\n",
        "\n",
        "plt.title(\"ROC-кривая\")\n",
        "plt.show()"
      ],
      "metadata": {
        "colab": {
          "base_uri": "https://localhost:8080/",
          "height": 423
        },
        "id": "8omk6CiBk4mY",
        "outputId": "7b47ffd2-9988-4571-a424-afee1ec85ef0"
      },
      "execution_count": 42,
      "outputs": [
        {
          "output_type": "stream",
          "name": "stdout",
          "text": [
            "AUC-ROC DecisionTreeClassifier 0.8504225440261239\n"
          ]
        },
        {
          "output_type": "display_data",
          "data": {
            "text/plain": [
              "<Figure size 720x432 with 1 Axes>"
            ],
            "image/png": "[encoded data removed]"
          },
          "metadata": {
            "needs_background": "light"
          }
        }
      ]
    },
    {
      "cell_type": "code",
      "source": [
        "metrics(result_d, f1_d, auc_roc_d, 'DecisionTreeClassifier_upsampled', compare_models)"
      ],
      "metadata": {
        "colab": {
          "base_uri": "https://localhost:8080/",
          "height": 206
        },
        "id": "4eE19QDak4Tv",
        "outputId": "ebdc18a5-b98e-49ca-a57d-76208ab0b49a"
      },
      "execution_count": 43,
      "outputs": [
        {
          "output_type": "execute_result",
          "data": {
            "text/plain": [
              "                                 Accuracy_valid  F1 score   AUC ROC\n",
              "DecisionTreeClassifier                 0.861936  0.580968  0.845008\n",
              "RandomForestClassifier                 0.866887  0.581315  0.870761\n",
              "LogisticRegression                     0.788779  0.072464  0.693795\n",
              "DecisionTreeClassifier_balanced         0.80363   0.53211  0.705733\n",
              "DecisionTreeClassifier_upsampled       0.817382  0.597087  0.850423"
            ],
            "text/html": [
              "\n",
              "  <div id=\"df-4df98cbd-b3cb-4917-8cd5-e15460d2318e\">\n",
              "    <div class=\"colab-df-container\">\n",
              "      <div>\n",
              "<style scoped>\n",
              "    .dataframe tbody tr th:only-of-type {\n",
              "        vertical-align: middle;\n",
              "    }\n",
              "\n",
              "    .dataframe tbody tr th {\n",
              "        vertical-align: top;\n",
              "    }\n",
              "\n",
              "    .dataframe thead th {\n",
              "        text-align: right;\n",
              "    }\n",
              "</style>\n",
              "<table border=\"1\" class=\"dataframe\">\n",
              "  <thead>\n",
              "    <tr style=\"text-align: right;\">\n",
              "      <th></th>\n",
              "      <th>Accuracy_valid</th>\n",
              "      <th>F1 score</th>\n",
              "      <th>AUC ROC</th>\n",
              "    </tr>\n",
              "  </thead>\n",
              "  <tbody>\n",
              "    <tr>\n",
              "      <th>DecisionTreeClassifier</th>\n",
              "      <td>0.861936</td>\n",
              "      <td>0.580968</td>\n",
              "      <td>0.845008</td>\n",
              "    </tr>\n",
              "    <tr>\n",
              "      <th>RandomForestClassifier</th>\n",
              "      <td>0.866887</td>\n",
              "      <td>0.581315</td>\n",
              "      <td>0.870761</td>\n",
              "    </tr>\n",
              "    <tr>\n",
              "      <th>LogisticRegression</th>\n",
              "      <td>0.788779</td>\n",
              "      <td>0.072464</td>\n",
              "      <td>0.693795</td>\n",
              "    </tr>\n",
              "    <tr>\n",
              "      <th>DecisionTreeClassifier_balanced</th>\n",
              "      <td>0.80363</td>\n",
              "      <td>0.53211</td>\n",
              "      <td>0.705733</td>\n",
              "    </tr>\n",
              "    <tr>\n",
              "      <th>DecisionTreeClassifier_upsampled</th>\n",
              "      <td>0.817382</td>\n",
              "      <td>0.597087</td>\n",
              "      <td>0.850423</td>\n",
              "    </tr>\n",
              "  </tbody>\n",
              "</table>\n",
              "</div>\n",
              "      <button class=\"colab-df-convert\" onclick=\"convertToInteractive('df-4df98cbd-b3cb-4917-8cd5-e15460d2318e')\"\n",
              "              title=\"Convert this dataframe to an interactive table.\"\n",
              "              style=\"display:none;\">\n",
              "        \n",
              "  <svg xmlns=\"http://www.w3.org/2000/svg\" height=\"24px\"viewBox=\"0 0 24 24\"\n",
              "       width=\"24px\">\n",
              "    <path d=\"M0 0h24v24H0V0z\" fill=\"none\"/>\n",
              "    <path d=\"M18.56 5.44l.94 2.06.94-2.06 2.06-.94-2.06-.94-.94-2.06-.94 2.06-2.06.94zm-11 1L8.5 8.5l.94-2.06 2.06-.94-2.06-.94L8.5 2.5l-.94 2.06-2.06.94zm10 10l.94 2.06.94-2.06 2.06-.94-2.06-.94-.94-2.06-.94 2.06-2.06.94z\"/><path d=\"M17.41 7.96l-1.37-1.37c-.4-.4-.92-.59-1.43-.59-.52 0-1.04.2-1.43.59L10.3 9.45l-7.72 7.72c-.78.78-.78 2.05 0 2.83L4 21.41c.39.39.9.59 1.41.59.51 0 1.02-.2 1.41-.59l7.78-7.78 2.81-2.81c.8-.78.8-2.07 0-2.86zM5.41 20L4 18.59l7.72-7.72 1.47 1.35L5.41 20z\"/>\n",
              "  </svg>\n",
              "      </button>\n",
              "      \n",
              "  <style>\n",
              "    .colab-df-container {\n",
              "      display:flex;\n",
              "      flex-wrap:wrap;\n",
              "      gap: 12px;\n",
              "    }\n",
              "\n",
              "    .colab-df-convert {\n",
              "      background-color: #E8F0FE;\n",
              "      border: none;\n",
              "      border-radius: 50%;\n",
              "      cursor: pointer;\n",
              "      display: none;\n",
              "      fill: #1967D2;\n",
              "      height: 32px;\n",
              "      padding: 0 0 0 0;\n",
              "      width: 32px;\n",
              "    }\n",
              "\n",
              "    .colab-df-convert:hover {\n",
              "      background-color: #E2EBFA;\n",
              "      box-shadow: 0px 1px 2px rgba(60, 64, 67, 0.3), 0px 1px 3px 1px rgba(60, 64, 67, 0.15);\n",
              "      fill: #174EA6;\n",
              "    }\n",
              "\n",
              "    [theme=dark] .colab-df-convert {\n",
              "      background-color: #3B4455;\n",
              "      fill: #D2E3FC;\n",
              "    }\n",
              "\n",
              "    [theme=dark] .colab-df-convert:hover {\n",
              "      background-color: #434B5C;\n",
              "      box-shadow: 0px 1px 3px 1px rgba(0, 0, 0, 0.15);\n",
              "      filter: drop-shadow(0px 1px 2px rgba(0, 0, 0, 0.3));\n",
              "      fill: #FFFFFF;\n",
              "    }\n",
              "  </style>\n",
              "\n",
              "      <script>\n",
              "        const buttonEl =\n",
              "          document.querySelector('#df-4df98cbd-b3cb-4917-8cd5-e15460d2318e button.colab-df-convert');\n",
              "        buttonEl.style.display =\n",
              "          google.colab.kernel.accessAllowed ? 'block' : 'none';\n",
              "\n",
              "        async function convertToInteractive(key) {\n",
              "          const element = document.querySelector('#df-4df98cbd-b3cb-4917-8cd5-e15460d2318e');\n",
              "          const dataTable =\n",
              "            await google.colab.kernel.invokeFunction('convertToInteractive',\n",
              "                                                     [key], {});\n",
              "          if (!dataTable) return;\n",
              "\n",
              "          const docLinkHtml = 'Like what you see? Visit the ' +\n",
              "            '<a target=\"_blank\" href=https://colab.research.google.com/notebooks/data_table.ipynb>data table notebook</a>'\n",
              "            + ' to learn more about interactive tables.';\n",
              "          element.innerHTML = '';\n",
              "          dataTable['output_type'] = 'display_data';\n",
              "          await google.colab.output.renderOutput(dataTable, element);\n",
              "          const docLink = document.createElement('div');\n",
              "          docLink.innerHTML = docLinkHtml;\n",
              "          element.appendChild(docLink);\n",
              "        }\n",
              "      </script>\n",
              "    </div>\n",
              "  </div>\n",
              "  "
            ]
          },
          "metadata": {},
          "execution_count": 43
        }
      ]
    },
    {
      "cell_type": "markdown",
      "metadata": {
        "id": "1EBHF5jETpLJ"
      },
      "source": [
        "**Комментарий:**\n",
        "<br>Метрики F1 и AUC ROC выросли по сравнению с обычной моделью. Однако, показатель качества модели сильно упал."
      ]
    },
    {
      "cell_type": "markdown",
      "metadata": {
        "id": "eNFcjt9aTpLK"
      },
      "source": [
        "#### Уменьшение выборки"
      ]
    },
    {
      "cell_type": "code",
      "execution_count": 44,
      "metadata": {
        "id": "afhuc1FFTpLK"
      },
      "outputs": [],
      "source": [
        "def downsample(features, target, fraction):\n",
        "    features_zeros = features[target == 0]\n",
        "    features_ones = features[target == 1]\n",
        "    target_zeros = target[target == 0]\n",
        "    target_ones = target[target == 1]\n",
        "\n",
        "    features_downsampled = pd.concat(\n",
        "        [features_zeros.sample(frac=fraction, random_state=45)] + [features_ones])\n",
        "    target_downsampled = pd.concat(\n",
        "        [target_zeros.sample(frac=fraction, random_state=45)] + [target_ones])\n",
        "    \n",
        "    features_downsampled, target_downsampled = shuffle(\n",
        "        features_downsampled, target_downsampled, random_state=45)\n",
        "    \n",
        "    return features_downsampled, target_downsampled\n",
        "\n",
        "features_downsampled, target_downsampled = downsample(features_train, target_train, 0.3)"
      ]
    },
    {
      "cell_type": "code",
      "source": [
        "print(target_downsampled.value_counts())"
      ],
      "metadata": {
        "colab": {
          "base_uri": "https://localhost:8080/"
        },
        "id": "9ZeYo9TNqL-N",
        "outputId": "fee71277-951a-48a0-d913-963ae7015f8c"
      },
      "execution_count": 45,
      "outputs": [
        {
          "output_type": "stream",
          "name": "stdout",
          "text": [
            "0    1298\n",
            "1    1126\n",
            "Name: exited, dtype: int64\n"
          ]
        }
      ]
    },
    {
      "cell_type": "code",
      "source": [
        "%%time\n",
        "\n",
        "# подберем параметры после уменьшения выборки\n",
        "\n",
        "best_criterion = None\n",
        "best_depth = 0\n",
        "best_model_d = None\n",
        "best_result_d = 0\n",
        "\n",
        "for crit in tqdm(['gini', 'entropy']):\n",
        "    for depth in range(4,30): \n",
        "        model_d = DecisionTreeClassifier(random_state=4545, criterion=crit,\n",
        "                                     max_depth=depth)\n",
        "        model_d.fit(features_downsampled, target_downsampled)\n",
        "        predictions = model_d.predict(features_valid)\n",
        "        result = model_d.score(features_valid, target_valid)\n",
        "        if result > best_result_d:\n",
        "           best_criterion = crit\n",
        "           best_depth = depth\n",
        "           best_model_d = model_d\n",
        "           best_result_d = result\n",
        "                    \n",
        "\n",
        "print('Accuracy наилучшей модели на валидационной выборке:', best_result_d)\n",
        "print('Глубина:', best_depth)\n",
        "print('Критерий расщепления:', best_criterion)"
      ],
      "metadata": {
        "colab": {
          "base_uri": "https://localhost:8080/"
        },
        "id": "Hcr0l3AvqLuj",
        "outputId": "32743d1f-38f0-4637-8a73-16ee2c2ad9a7"
      },
      "execution_count": 46,
      "outputs": [
        {
          "output_type": "stream",
          "name": "stderr",
          "text": [
            "100%|██████████| 2/2 [00:00<00:00,  2.27it/s]"
          ]
        },
        {
          "output_type": "stream",
          "name": "stdout",
          "text": [
            "Accuracy наилучшей модели на валидационной выборке: 0.7827282728272827\n",
            "Глубина: 7\n",
            "Критерий расщепления: entropy\n",
            "CPU times: user 885 ms, sys: 1.27 ms, total: 886 ms\n",
            "Wall time: 887 ms\n"
          ]
        },
        {
          "output_type": "stream",
          "name": "stderr",
          "text": [
            "\n"
          ]
        }
      ]
    },
    {
      "cell_type": "code",
      "execution_count": 47,
      "metadata": {
        "id": "6xphIXqnTpLK",
        "outputId": "3765ea20-92b3-4a04-f8f6-7ded4492b096",
        "colab": {
          "base_uri": "https://localhost:8080/"
        }
      },
      "outputs": [
        {
          "output_type": "stream",
          "name": "stdout",
          "text": [
            "Качество модели 0.7827282728272827\n",
            "Precision 0.4835766423357664\n",
            "Recall 0.7029177718832891\n",
            "F1 0.572972972972973\n"
          ]
        }
      ],
      "source": [
        "model_d = DecisionTreeClassifier(random_state=4545, max_depth=7, criterion='entropy')\n",
        "model_d.fit(features_downsampled, target_downsampled)\n",
        "predicted_valid = model_d.predict(features_valid)\n",
        "f1_d = f1_score(target_valid, predicted_valid)\n",
        "result_d = accuracy_score(target_valid, predicted_valid)\n",
        "print('Качество модели', result_d)\n",
        "print('Precision', precision_score(target_valid, predicted_valid))\n",
        "print('Recall', recall_score(target_valid, predicted_valid))\n",
        "print('F1', f1_d)"
      ]
    },
    {
      "cell_type": "markdown",
      "source": [
        "**Комментарий:**\n",
        "<br>Показатели по модели без увеличения выборки:\n",
        "\n",
        "- Precision 0.7837837837837838\n",
        "- Recall 0.46153846153846156\n",
        "\n",
        "Здесь также показатель точности сильно упал, а показатель полноты практически не изменился."
      ],
      "metadata": {
        "id": "eElUJM5UlZuu"
      }
    },
    {
      "cell_type": "code",
      "source": [
        "probabilities_valid = model_d.predict_proba(features_valid)\n",
        "probabilities_one_valid = probabilities_valid[:, 1]\n",
        "fpr_dt, tpr_dt, thresholds = roc_curve(target_valid, probabilities_one_valid)\n",
        "auc_roc_d = roc_auc_score(target_valid, probabilities_one_valid)\n",
        "print('AUC-ROC DecisionTreeClassifier', auc_roc_d)\n",
        "\n",
        "plt.figure(figsize=(10,6))\n",
        "plt.plot(fpr_dt, tpr_dt)\n",
        "\n",
        "plt.plot([0, 1], [0, 1], linestyle='--')\n",
        "\n",
        "plt.xlim([0,1])\n",
        "plt.ylim([0,1])\n",
        "\n",
        "plt.xlabel(\"False Positive Rate\")\n",
        "plt.ylabel(\"True Positive Rate\")\n",
        "\n",
        "plt.title(\"ROC-кривая\")\n",
        "plt.show()"
      ],
      "metadata": {
        "colab": {
          "base_uri": "https://localhost:8080/",
          "height": 423
        },
        "id": "wO071bFolRET",
        "outputId": "5e6bbb66-1361-4080-efa5-fc9758d5bdb4"
      },
      "execution_count": 48,
      "outputs": [
        {
          "output_type": "stream",
          "name": "stdout",
          "text": [
            "AUC-ROC DecisionTreeClassifier 0.8271600734090863\n"
          ]
        },
        {
          "output_type": "display_data",
          "data": {
            "text/plain": [
              "<Figure size 720x432 with 1 Axes>"
            ],
            "image/png": "[encoded data removed]"
          },
          "metadata": {
            "needs_background": "light"
          }
        }
      ]
    },
    {
      "cell_type": "code",
      "source": [
        "metrics(result_d, f1_d, auc_roc_d, 'DecisionTreeClassifier_downsampled', compare_models)"
      ],
      "metadata": {
        "colab": {
          "base_uri": "https://localhost:8080/",
          "height": 237
        },
        "id": "MdzeyBzPlRA0",
        "outputId": "61f47bfb-6211-44b0-c5a9-4b90a563d9cc"
      },
      "execution_count": 49,
      "outputs": [
        {
          "output_type": "execute_result",
          "data": {
            "text/plain": [
              "                                   Accuracy_valid  F1 score   AUC ROC\n",
              "DecisionTreeClassifier                   0.861936  0.580968  0.845008\n",
              "RandomForestClassifier                   0.866887  0.581315  0.870761\n",
              "LogisticRegression                       0.788779  0.072464  0.693795\n",
              "DecisionTreeClassifier_balanced           0.80363   0.53211  0.705733\n",
              "DecisionTreeClassifier_upsampled         0.817382  0.597087  0.850423\n",
              "DecisionTreeClassifier_downsampled       0.782728  0.572973   0.82716"
            ],
            "text/html": [
              "\n",
              "  <div id=\"df-d99de138-1498-4cc1-acf2-d6caf68318a7\">\n",
              "    <div class=\"colab-df-container\">\n",
              "      <div>\n",
              "<style scoped>\n",
              "    .dataframe tbody tr th:only-of-type {\n",
              "        vertical-align: middle;\n",
              "    }\n",
              "\n",
              "    .dataframe tbody tr th {\n",
              "        vertical-align: top;\n",
              "    }\n",
              "\n",
              "    .dataframe thead th {\n",
              "        text-align: right;\n",
              "    }\n",
              "</style>\n",
              "<table border=\"1\" class=\"dataframe\">\n",
              "  <thead>\n",
              "    <tr style=\"text-align: right;\">\n",
              "      <th></th>\n",
              "      <th>Accuracy_valid</th>\n",
              "      <th>F1 score</th>\n",
              "      <th>AUC ROC</th>\n",
              "    </tr>\n",
              "  </thead>\n",
              "  <tbody>\n",
              "    <tr>\n",
              "      <th>DecisionTreeClassifier</th>\n",
              "      <td>0.861936</td>\n",
              "      <td>0.580968</td>\n",
              "      <td>0.845008</td>\n",
              "    </tr>\n",
              "    <tr>\n",
              "      <th>RandomForestClassifier</th>\n",
              "      <td>0.866887</td>\n",
              "      <td>0.581315</td>\n",
              "      <td>0.870761</td>\n",
              "    </tr>\n",
              "    <tr>\n",
              "      <th>LogisticRegression</th>\n",
              "      <td>0.788779</td>\n",
              "      <td>0.072464</td>\n",
              "      <td>0.693795</td>\n",
              "    </tr>\n",
              "    <tr>\n",
              "      <th>DecisionTreeClassifier_balanced</th>\n",
              "      <td>0.80363</td>\n",
              "      <td>0.53211</td>\n",
              "      <td>0.705733</td>\n",
              "    </tr>\n",
              "    <tr>\n",
              "      <th>DecisionTreeClassifier_upsampled</th>\n",
              "      <td>0.817382</td>\n",
              "      <td>0.597087</td>\n",
              "      <td>0.850423</td>\n",
              "    </tr>\n",
              "    <tr>\n",
              "      <th>DecisionTreeClassifier_downsampled</th>\n",
              "      <td>0.782728</td>\n",
              "      <td>0.572973</td>\n",
              "      <td>0.82716</td>\n",
              "    </tr>\n",
              "  </tbody>\n",
              "</table>\n",
              "</div>\n",
              "      <button class=\"colab-df-convert\" onclick=\"convertToInteractive('df-d99de138-1498-4cc1-acf2-d6caf68318a7')\"\n",
              "              title=\"Convert this dataframe to an interactive table.\"\n",
              "              style=\"display:none;\">\n",
              "        \n",
              "  <svg xmlns=\"http://www.w3.org/2000/svg\" height=\"24px\"viewBox=\"0 0 24 24\"\n",
              "       width=\"24px\">\n",
              "    <path d=\"M0 0h24v24H0V0z\" fill=\"none\"/>\n",
              "    <path d=\"M18.56 5.44l.94 2.06.94-2.06 2.06-.94-2.06-.94-.94-2.06-.94 2.06-2.06.94zm-11 1L8.5 8.5l.94-2.06 2.06-.94-2.06-.94L8.5 2.5l-.94 2.06-2.06.94zm10 10l.94 2.06.94-2.06 2.06-.94-2.06-.94-.94-2.06-.94 2.06-2.06.94z\"/><path d=\"M17.41 7.96l-1.37-1.37c-.4-.4-.92-.59-1.43-.59-.52 0-1.04.2-1.43.59L10.3 9.45l-7.72 7.72c-.78.78-.78 2.05 0 2.83L4 21.41c.39.39.9.59 1.41.59.51 0 1.02-.2 1.41-.59l7.78-7.78 2.81-2.81c.8-.78.8-2.07 0-2.86zM5.41 20L4 18.59l7.72-7.72 1.47 1.35L5.41 20z\"/>\n",
              "  </svg>\n",
              "      </button>\n",
              "      \n",
              "  <style>\n",
              "    .colab-df-container {\n",
              "      display:flex;\n",
              "      flex-wrap:wrap;\n",
              "      gap: 12px;\n",
              "    }\n",
              "\n",
              "    .colab-df-convert {\n",
              "      background-color: #E8F0FE;\n",
              "      border: none;\n",
              "      border-radius: 50%;\n",
              "      cursor: pointer;\n",
              "      display: none;\n",
              "      fill: #1967D2;\n",
              "      height: 32px;\n",
              "      padding: 0 0 0 0;\n",
              "      width: 32px;\n",
              "    }\n",
              "\n",
              "    .colab-df-convert:hover {\n",
              "      background-color: #E2EBFA;\n",
              "      box-shadow: 0px 1px 2px rgba(60, 64, 67, 0.3), 0px 1px 3px 1px rgba(60, 64, 67, 0.15);\n",
              "      fill: #174EA6;\n",
              "    }\n",
              "\n",
              "    [theme=dark] .colab-df-convert {\n",
              "      background-color: #3B4455;\n",
              "      fill: #D2E3FC;\n",
              "    }\n",
              "\n",
              "    [theme=dark] .colab-df-convert:hover {\n",
              "      background-color: #434B5C;\n",
              "      box-shadow: 0px 1px 3px 1px rgba(0, 0, 0, 0.15);\n",
              "      filter: drop-shadow(0px 1px 2px rgba(0, 0, 0, 0.3));\n",
              "      fill: #FFFFFF;\n",
              "    }\n",
              "  </style>\n",
              "\n",
              "      <script>\n",
              "        const buttonEl =\n",
              "          document.querySelector('#df-d99de138-1498-4cc1-acf2-d6caf68318a7 button.colab-df-convert');\n",
              "        buttonEl.style.display =\n",
              "          google.colab.kernel.accessAllowed ? 'block' : 'none';\n",
              "\n",
              "        async function convertToInteractive(key) {\n",
              "          const element = document.querySelector('#df-d99de138-1498-4cc1-acf2-d6caf68318a7');\n",
              "          const dataTable =\n",
              "            await google.colab.kernel.invokeFunction('convertToInteractive',\n",
              "                                                     [key], {});\n",
              "          if (!dataTable) return;\n",
              "\n",
              "          const docLinkHtml = 'Like what you see? Visit the ' +\n",
              "            '<a target=\"_blank\" href=https://colab.research.google.com/notebooks/data_table.ipynb>data table notebook</a>'\n",
              "            + ' to learn more about interactive tables.';\n",
              "          element.innerHTML = '';\n",
              "          dataTable['output_type'] = 'display_data';\n",
              "          await google.colab.output.renderOutput(dataTable, element);\n",
              "          const docLink = document.createElement('div');\n",
              "          docLink.innerHTML = docLinkHtml;\n",
              "          element.appendChild(docLink);\n",
              "        }\n",
              "      </script>\n",
              "    </div>\n",
              "  </div>\n",
              "  "
            ]
          },
          "metadata": {},
          "execution_count": 49
        }
      ]
    },
    {
      "cell_type": "markdown",
      "metadata": {
        "id": "88_CPR4FTpLL"
      },
      "source": [
        "**Комментарий:**\n",
        "<br>Уменьшение выборки дало самые низкие результаты по модели Дерево решений."
      ]
    },
    {
      "cell_type": "markdown",
      "metadata": {
        "id": "uOkARYryTpLL"
      },
      "source": [
        "### Случайный лес"
      ]
    },
    {
      "cell_type": "markdown",
      "metadata": {
        "id": "awvku7KXTpLL"
      },
      "source": [
        "#### Взвешивание классов"
      ]
    },
    {
      "cell_type": "code",
      "source": [
        "%%time \n",
        "\n",
        "# подберем наилучшие параметры для модели случайного леса с балансировкой\n",
        "\n",
        "best_features = 0\n",
        "best_criterion = None\n",
        "best_depth = 0\n",
        "best_model_r = None\n",
        "best_result_r = 0\n",
        "best_est = 0\n",
        "\n",
        "for crit in tqdm(['gini', 'entropy']):\n",
        "    for max_features in ['sqrt', 'log2']:\n",
        "        for est in range(100,150,10):\n",
        "            for depth in range(5,30):\n",
        "                model_r = RandomForestClassifier(random_state=45, criterion=crit,\n",
        "                                    max_features=max_features, max_depth=depth, n_estimators=est, n_jobs=-1, class_weight='balanced')\n",
        "                model_r.fit(features_train, target_train)\n",
        "                predictions = model_r.predict(features_valid)\n",
        "                result = model_r.score(features_valid, target_valid)\n",
        "                if result > best_result_r:\n",
        "                    best_criterion = crit\n",
        "                    best_features = max_features\n",
        "                    best_depth = depth\n",
        "                    best_model_r = model_r\n",
        "                    best_result_r = result\n",
        "                    best_est = est\n",
        "\n",
        "print('Accuracy наилучшей модели на валидационной выборке:', best_result_r)\n",
        "print('Количество деревьев:', best_est)\n",
        "print('Глубина:', best_depth)\n",
        "print('Число признаков:', best_features)\n",
        "print('Критерий расщепления:', best_criterion)"
      ],
      "metadata": {
        "colab": {
          "base_uri": "https://localhost:8080/"
        },
        "id": "L8qeFMtmn7g2",
        "outputId": "bb98140e-04ad-4021-d453-cf2661802722"
      },
      "execution_count": 50,
      "outputs": [
        {
          "output_type": "stream",
          "name": "stderr",
          "text": [
            "100%|██████████| 2/2 [07:40<00:00, 230.47s/it]"
          ]
        },
        {
          "output_type": "stream",
          "name": "stdout",
          "text": [
            "Accuracy наилучшей модели на валидационной выборке: 0.8657865786578658\n",
            "Количество деревьев: 130\n",
            "Глубина: 18\n",
            "Число признаков: sqrt\n",
            "Критерий расщепления: entropy\n",
            "CPU times: user 10min 35s, sys: 22.5 s, total: 10min 57s\n",
            "Wall time: 7min 40s\n"
          ]
        },
        {
          "output_type": "stream",
          "name": "stderr",
          "text": [
            "\n"
          ]
        }
      ]
    },
    {
      "cell_type": "code",
      "execution_count": 51,
      "metadata": {
        "id": "bJOWD6scTpLM",
        "outputId": "f28c468e-1434-4594-89aa-b233fa9ad76d",
        "colab": {
          "base_uri": "https://localhost:8080/"
        }
      },
      "outputs": [
        {
          "output_type": "stream",
          "name": "stdout",
          "text": [
            "Качество модели 0.8657865786578658\n",
            "Precision 0.7982062780269058\n",
            "Recall 0.47214854111405835\n",
            "F1 0.5933333333333334\n"
          ]
        }
      ],
      "source": [
        "model_rf = RandomForestClassifier(random_state=45, n_estimators=130, class_weight='balanced', max_depth=18, max_features='sqrt', criterion='entropy')\n",
        "model_rf.fit(features_train, target_train)\n",
        "predicted_valid = model_rf.predict(features_valid)\n",
        "f1_r = f1_score(target_valid, predicted_valid)\n",
        "result_r = accuracy_score(target_valid, predicted_valid)\n",
        "\n",
        "print('Качество модели', result_r)\n",
        "print('Precision', precision_score(target_valid, predicted_valid))\n",
        "print('Recall', recall_score(target_valid, predicted_valid))\n",
        "print('F1', f1_r)"
      ]
    },
    {
      "cell_type": "markdown",
      "metadata": {
        "id": "x5AG2-eETpLN"
      },
      "source": [
        "**Модель без баланса давала следующие показатели:**\n",
        "\n",
        "- Качество модели 0.8668866886688669\n",
        "- Precision 0.835820895522388\n",
        "- Recall 0.44562334217506633\n",
        "- F1 0.5813148788927336\n",
        "\n",
        "Взвешивание классов несильно отразилось на метриках."
      ]
    },
    {
      "cell_type": "code",
      "source": [
        "probabilities_valid = model_rf.predict_proba(features_valid)\n",
        "probabilities_one_valid = probabilities_valid[:, 1]\n",
        "fpr_rf, tpr_rf, thresholds = roc_curve(target_valid, probabilities_one_valid)\n",
        "auc_roc_rf = roc_auc_score(target_valid, probabilities_one_valid)\n",
        "print('AUC-ROC DecisionTreeClassifier', auc_roc_rf)\n",
        "\n",
        "plt.figure(figsize=(10,6))\n",
        "plt.plot(fpr_rf, tpr_rf)\n",
        "\n",
        "plt.plot([0, 1], [0, 1], linestyle='--')\n",
        "\n",
        "plt.xlim([0,1])\n",
        "plt.ylim([0,1])\n",
        "\n",
        "plt.xlabel(\"False Positive Rate\")\n",
        "plt.ylabel(\"True Positive Rate\")\n",
        "\n",
        "plt.title(\"ROC-кривая\")\n",
        "plt.show()"
      ],
      "metadata": {
        "colab": {
          "base_uri": "https://localhost:8080/",
          "height": 423
        },
        "id": "hYTInd61ulKj",
        "outputId": "8ea04656-1061-43ac-fde5-0e4911b32538"
      },
      "execution_count": 52,
      "outputs": [
        {
          "output_type": "stream",
          "name": "stdout",
          "text": [
            "AUC-ROC DecisionTreeClassifier 0.8685530052995175\n"
          ]
        },
        {
          "output_type": "display_data",
          "data": {
            "text/plain": [
              "<Figure size 720x432 with 1 Axes>"
            ],
            "image/png": "[encoded data removed]"
          },
          "metadata": {
            "needs_background": "light"
          }
        }
      ]
    },
    {
      "cell_type": "code",
      "source": [
        "metrics(result_r, f1_r, auc_roc_rf, 'RandomForestClassifier_balanced', compare_models)"
      ],
      "metadata": {
        "colab": {
          "base_uri": "https://localhost:8080/",
          "height": 269
        },
        "id": "H5zV2azqulHA",
        "outputId": "dec15169-5cea-417a-98cd-138f0cf8a962"
      },
      "execution_count": 53,
      "outputs": [
        {
          "output_type": "execute_result",
          "data": {
            "text/plain": [
              "                                   Accuracy_valid  F1 score   AUC ROC\n",
              "DecisionTreeClassifier                   0.861936  0.580968  0.845008\n",
              "RandomForestClassifier                   0.866887  0.581315  0.870761\n",
              "LogisticRegression                       0.788779  0.072464  0.693795\n",
              "DecisionTreeClassifier_balanced           0.80363   0.53211  0.705733\n",
              "DecisionTreeClassifier_upsampled         0.817382  0.597087  0.850423\n",
              "DecisionTreeClassifier_downsampled       0.782728  0.572973   0.82716\n",
              "RandomForestClassifier_balanced          0.865787  0.593333  0.868553"
            ],
            "text/html": [
              "\n",
              "  <div id=\"df-d2c7a025-8c51-48e3-8d02-b30ac37b2edf\">\n",
              "    <div class=\"colab-df-container\">\n",
              "      <div>\n",
              "<style scoped>\n",
              "    .dataframe tbody tr th:only-of-type {\n",
              "        vertical-align: middle;\n",
              "    }\n",
              "\n",
              "    .dataframe tbody tr th {\n",
              "        vertical-align: top;\n",
              "    }\n",
              "\n",
              "    .dataframe thead th {\n",
              "        text-align: right;\n",
              "    }\n",
              "</style>\n",
              "<table border=\"1\" class=\"dataframe\">\n",
              "  <thead>\n",
              "    <tr style=\"text-align: right;\">\n",
              "      <th></th>\n",
              "      <th>Accuracy_valid</th>\n",
              "      <th>F1 score</th>\n",
              "      <th>AUC ROC</th>\n",
              "    </tr>\n",
              "  </thead>\n",
              "  <tbody>\n",
              "    <tr>\n",
              "      <th>DecisionTreeClassifier</th>\n",
              "      <td>0.861936</td>\n",
              "      <td>0.580968</td>\n",
              "      <td>0.845008</td>\n",
              "    </tr>\n",
              "    <tr>\n",
              "      <th>RandomForestClassifier</th>\n",
              "      <td>0.866887</td>\n",
              "      <td>0.581315</td>\n",
              "      <td>0.870761</td>\n",
              "    </tr>\n",
              "    <tr>\n",
              "      <th>LogisticRegression</th>\n",
              "      <td>0.788779</td>\n",
              "      <td>0.072464</td>\n",
              "      <td>0.693795</td>\n",
              "    </tr>\n",
              "    <tr>\n",
              "      <th>DecisionTreeClassifier_balanced</th>\n",
              "      <td>0.80363</td>\n",
              "      <td>0.53211</td>\n",
              "      <td>0.705733</td>\n",
              "    </tr>\n",
              "    <tr>\n",
              "      <th>DecisionTreeClassifier_upsampled</th>\n",
              "      <td>0.817382</td>\n",
              "      <td>0.597087</td>\n",
              "      <td>0.850423</td>\n",
              "    </tr>\n",
              "    <tr>\n",
              "      <th>DecisionTreeClassifier_downsampled</th>\n",
              "      <td>0.782728</td>\n",
              "      <td>0.572973</td>\n",
              "      <td>0.82716</td>\n",
              "    </tr>\n",
              "    <tr>\n",
              "      <th>RandomForestClassifier_balanced</th>\n",
              "      <td>0.865787</td>\n",
              "      <td>0.593333</td>\n",
              "      <td>0.868553</td>\n",
              "    </tr>\n",
              "  </tbody>\n",
              "</table>\n",
              "</div>\n",
              "      <button class=\"colab-df-convert\" onclick=\"convertToInteractive('df-d2c7a025-8c51-48e3-8d02-b30ac37b2edf')\"\n",
              "              title=\"Convert this dataframe to an interactive table.\"\n",
              "              style=\"display:none;\">\n",
              "        \n",
              "  <svg xmlns=\"http://www.w3.org/2000/svg\" height=\"24px\"viewBox=\"0 0 24 24\"\n",
              "       width=\"24px\">\n",
              "    <path d=\"M0 0h24v24H0V0z\" fill=\"none\"/>\n",
              "    <path d=\"M18.56 5.44l.94 2.06.94-2.06 2.06-.94-2.06-.94-.94-2.06-.94 2.06-2.06.94zm-11 1L8.5 8.5l.94-2.06 2.06-.94-2.06-.94L8.5 2.5l-.94 2.06-2.06.94zm10 10l.94 2.06.94-2.06 2.06-.94-2.06-.94-.94-2.06-.94 2.06-2.06.94z\"/><path d=\"M17.41 7.96l-1.37-1.37c-.4-.4-.92-.59-1.43-.59-.52 0-1.04.2-1.43.59L10.3 9.45l-7.72 7.72c-.78.78-.78 2.05 0 2.83L4 21.41c.39.39.9.59 1.41.59.51 0 1.02-.2 1.41-.59l7.78-7.78 2.81-2.81c.8-.78.8-2.07 0-2.86zM5.41 20L4 18.59l7.72-7.72 1.47 1.35L5.41 20z\"/>\n",
              "  </svg>\n",
              "      </button>\n",
              "      \n",
              "  <style>\n",
              "    .colab-df-container {\n",
              "      display:flex;\n",
              "      flex-wrap:wrap;\n",
              "      gap: 12px;\n",
              "    }\n",
              "\n",
              "    .colab-df-convert {\n",
              "      background-color: #E8F0FE;\n",
              "      border: none;\n",
              "      border-radius: 50%;\n",
              "      cursor: pointer;\n",
              "      display: none;\n",
              "      fill: #1967D2;\n",
              "      height: 32px;\n",
              "      padding: 0 0 0 0;\n",
              "      width: 32px;\n",
              "    }\n",
              "\n",
              "    .colab-df-convert:hover {\n",
              "      background-color: #E2EBFA;\n",
              "      box-shadow: 0px 1px 2px rgba(60, 64, 67, 0.3), 0px 1px 3px 1px rgba(60, 64, 67, 0.15);\n",
              "      fill: #174EA6;\n",
              "    }\n",
              "\n",
              "    [theme=dark] .colab-df-convert {\n",
              "      background-color: #3B4455;\n",
              "      fill: #D2E3FC;\n",
              "    }\n",
              "\n",
              "    [theme=dark] .colab-df-convert:hover {\n",
              "      background-color: #434B5C;\n",
              "      box-shadow: 0px 1px 3px 1px rgba(0, 0, 0, 0.15);\n",
              "      filter: drop-shadow(0px 1px 2px rgba(0, 0, 0, 0.3));\n",
              "      fill: #FFFFFF;\n",
              "    }\n",
              "  </style>\n",
              "\n",
              "      <script>\n",
              "        const buttonEl =\n",
              "          document.querySelector('#df-d2c7a025-8c51-48e3-8d02-b30ac37b2edf button.colab-df-convert');\n",
              "        buttonEl.style.display =\n",
              "          google.colab.kernel.accessAllowed ? 'block' : 'none';\n",
              "\n",
              "        async function convertToInteractive(key) {\n",
              "          const element = document.querySelector('#df-d2c7a025-8c51-48e3-8d02-b30ac37b2edf');\n",
              "          const dataTable =\n",
              "            await google.colab.kernel.invokeFunction('convertToInteractive',\n",
              "                                                     [key], {});\n",
              "          if (!dataTable) return;\n",
              "\n",
              "          const docLinkHtml = 'Like what you see? Visit the ' +\n",
              "            '<a target=\"_blank\" href=https://colab.research.google.com/notebooks/data_table.ipynb>data table notebook</a>'\n",
              "            + ' to learn more about interactive tables.';\n",
              "          element.innerHTML = '';\n",
              "          dataTable['output_type'] = 'display_data';\n",
              "          await google.colab.output.renderOutput(dataTable, element);\n",
              "          const docLink = document.createElement('div');\n",
              "          docLink.innerHTML = docLinkHtml;\n",
              "          element.appendChild(docLink);\n",
              "        }\n",
              "      </script>\n",
              "    </div>\n",
              "  </div>\n",
              "  "
            ]
          },
          "metadata": {},
          "execution_count": 53
        }
      ]
    },
    {
      "cell_type": "markdown",
      "metadata": {
        "id": "r6SuKT77TpLN"
      },
      "source": [
        "#### Увеличение выборки"
      ]
    },
    {
      "cell_type": "code",
      "source": [
        "%%time \n",
        "\n",
        "# подберем наилучшие параметры для модели случайного леса\n",
        "\n",
        "best_features = 0\n",
        "best_criterion = None\n",
        "best_depth = 0\n",
        "best_model_r = None\n",
        "best_result_r = 0\n",
        "best_est = 0\n",
        "\n",
        "for crit in tqdm(['gini', 'entropy']):\n",
        "    for max_features in ['sqrt', 'log2']:\n",
        "        for est in range(100,150,10):\n",
        "            for depth in range(5,30):\n",
        "                model_r = RandomForestClassifier(random_state=45, criterion=crit,\n",
        "                                    max_features=max_features, max_depth=depth, n_estimators=est, n_jobs=-1)\n",
        "                model_r.fit(features_upsampled, target_upsampled)\n",
        "                predictions = model_r.predict(features_valid)\n",
        "                result = model_r.score(features_valid, target_valid)\n",
        "                if result > best_result_r:\n",
        "                    best_criterion = crit\n",
        "                    best_features = max_features\n",
        "                    best_depth = depth\n",
        "                    best_model_r = model_r\n",
        "                    best_result_r = result\n",
        "                    best_est = est\n",
        "\n",
        "print('Accuracy наилучшей модели на валидационной выборке:', best_result_r)\n",
        "print('Количество деревьев:', best_est)\n",
        "print('Глубина:', best_depth)\n",
        "print('Число признаков:', best_features)\n",
        "print('Критерий расщепления:', best_criterion)"
      ],
      "metadata": {
        "colab": {
          "base_uri": "https://localhost:8080/"
        },
        "id": "zphrJZ18-TK9",
        "outputId": "3146d600-057b-4c2c-e376-6d0e1e15a674"
      },
      "execution_count": 54,
      "outputs": [
        {
          "output_type": "stream",
          "name": "stderr",
          "text": [
            "100%|██████████| 2/2 [08:40<00:00, 260.40s/it]"
          ]
        },
        {
          "output_type": "stream",
          "name": "stdout",
          "text": [
            "Accuracy наилучшей модели на валидационной выборке: 0.8613861386138614\n",
            "Количество деревьев: 110\n",
            "Глубина: 23\n",
            "Число признаков: sqrt\n",
            "Критерий расщепления: gini\n",
            "CPU times: user 12min 26s, sys: 22.1 s, total: 12min 48s\n",
            "Wall time: 8min 40s\n"
          ]
        },
        {
          "output_type": "stream",
          "name": "stderr",
          "text": [
            "\n"
          ]
        }
      ]
    },
    {
      "cell_type": "code",
      "execution_count": 55,
      "metadata": {
        "id": "772V7G1ETpLN",
        "outputId": "0efc709b-640e-4c0b-bc6e-71618f590557",
        "colab": {
          "base_uri": "https://localhost:8080/"
        }
      },
      "outputs": [
        {
          "output_type": "stream",
          "name": "stdout",
          "text": [
            "Качество модели 0.8613861386138614\n",
            "Precision 0.711864406779661\n",
            "Recall 0.5570291777188329\n",
            "F1 0.625\n"
          ]
        }
      ],
      "source": [
        "# т.к. увеличение выборки уже производилось, сразу приступим к обучению\n",
        "\n",
        "model_rf = RandomForestClassifier(random_state=45, n_estimators=110, max_depth=23, max_features='sqrt', criterion='gini')\n",
        "model_rf.fit(features_upsampled, target_upsampled)\n",
        "predicted_valid = model_rf.predict(features_valid)\n",
        "f1_r = f1_score(target_valid, predicted_valid)\n",
        "result_r = accuracy_score(target_valid, predicted_valid)\n",
        "\n",
        "print('Качество модели', result_r)\n",
        "print('Precision', precision_score(target_valid, predicted_valid))\n",
        "print('Recall', recall_score(target_valid, predicted_valid))\n",
        "print('F1', f1_r)"
      ]
    },
    {
      "cell_type": "markdown",
      "metadata": {
        "id": "Dh-xQ23zTpLO"
      },
      "source": [
        "**Модель без увеличения выборки давала следующие показатели:**\n",
        "\n",
        "- Качество модели 0.8668866886688669\n",
        "- Precision 0.835820895522388\n",
        "- Recall 0.44562334217506633\n",
        "- F1 0.5813148788927336\n",
        "\n",
        "<br>По сравнению с изначальными результатами эта модель показала более высокие результаты."
      ]
    },
    {
      "cell_type": "code",
      "source": [
        "probabilities_valid = model_rf.predict_proba(features_valid)\n",
        "probabilities_one_valid = probabilities_valid[:, 1]\n",
        "fpr_rf, tpr_rf, thresholds = roc_curve(target_valid, probabilities_one_valid)\n",
        "auc_roc_rf = roc_auc_score(target_valid, probabilities_one_valid)\n",
        "print('AUC-ROC DecisionTreeClassifier', auc_roc_rf)\n",
        "\n",
        "plt.figure(figsize=(10,6))\n",
        "plt.plot(fpr_rf, tpr_rf)\n",
        "\n",
        "plt.plot([0, 1], [0, 1], linestyle='--')\n",
        "\n",
        "plt.xlim([0,1])\n",
        "plt.ylim([0,1])\n",
        "\n",
        "plt.xlabel(\"False Positive Rate\")\n",
        "plt.ylabel(\"True Positive Rate\")\n",
        "\n",
        "plt.title(\"ROC-кривая\")\n",
        "plt.show()"
      ],
      "metadata": {
        "colab": {
          "base_uri": "https://localhost:8080/",
          "height": 423
        },
        "id": "eDMoXkaQxIWJ",
        "outputId": "4f7d9608-0197-43e5-ceab-55c7526e2ce5"
      },
      "execution_count": 56,
      "outputs": [
        {
          "output_type": "stream",
          "name": "stdout",
          "text": [
            "AUC-ROC DecisionTreeClassifier 0.8584334854405925\n"
          ]
        },
        {
          "output_type": "display_data",
          "data": {
            "text/plain": [
              "<Figure size 720x432 with 1 Axes>"
            ],
            "image/png": "[encoded data removed]"
          },
          "metadata": {
            "needs_background": "light"
          }
        }
      ]
    },
    {
      "cell_type": "code",
      "source": [
        "metrics(result_r, f1_r, auc_roc_rf, 'RandomForestClassifier_upsampled', compare_models)"
      ],
      "metadata": {
        "colab": {
          "base_uri": "https://localhost:8080/",
          "height": 300
        },
        "id": "VRqdiPtdxNyf",
        "outputId": "0e883272-2121-4a34-9ab8-81af386e09b3"
      },
      "execution_count": 57,
      "outputs": [
        {
          "output_type": "execute_result",
          "data": {
            "text/plain": [
              "                                   Accuracy_valid  F1 score   AUC ROC\n",
              "DecisionTreeClassifier                   0.861936  0.580968  0.845008\n",
              "RandomForestClassifier                   0.866887  0.581315  0.870761\n",
              "LogisticRegression                       0.788779  0.072464  0.693795\n",
              "DecisionTreeClassifier_balanced           0.80363   0.53211  0.705733\n",
              "DecisionTreeClassifier_upsampled         0.817382  0.597087  0.850423\n",
              "DecisionTreeClassifier_downsampled       0.782728  0.572973   0.82716\n",
              "RandomForestClassifier_balanced          0.865787  0.593333  0.868553\n",
              "RandomForestClassifier_upsampled         0.861386     0.625  0.858433"
            ],
            "text/html": [
              "\n",
              "  <div id=\"df-51b407e9-9c55-4121-bb70-c90fc3e71db7\">\n",
              "    <div class=\"colab-df-container\">\n",
              "      <div>\n",
              "<style scoped>\n",
              "    .dataframe tbody tr th:only-of-type {\n",
              "        vertical-align: middle;\n",
              "    }\n",
              "\n",
              "    .dataframe tbody tr th {\n",
              "        vertical-align: top;\n",
              "    }\n",
              "\n",
              "    .dataframe thead th {\n",
              "        text-align: right;\n",
              "    }\n",
              "</style>\n",
              "<table border=\"1\" class=\"dataframe\">\n",
              "  <thead>\n",
              "    <tr style=\"text-align: right;\">\n",
              "      <th></th>\n",
              "      <th>Accuracy_valid</th>\n",
              "      <th>F1 score</th>\n",
              "      <th>AUC ROC</th>\n",
              "    </tr>\n",
              "  </thead>\n",
              "  <tbody>\n",
              "    <tr>\n",
              "      <th>DecisionTreeClassifier</th>\n",
              "      <td>0.861936</td>\n",
              "      <td>0.580968</td>\n",
              "      <td>0.845008</td>\n",
              "    </tr>\n",
              "    <tr>\n",
              "      <th>RandomForestClassifier</th>\n",
              "      <td>0.866887</td>\n",
              "      <td>0.581315</td>\n",
              "      <td>0.870761</td>\n",
              "    </tr>\n",
              "    <tr>\n",
              "      <th>LogisticRegression</th>\n",
              "      <td>0.788779</td>\n",
              "      <td>0.072464</td>\n",
              "      <td>0.693795</td>\n",
              "    </tr>\n",
              "    <tr>\n",
              "      <th>DecisionTreeClassifier_balanced</th>\n",
              "      <td>0.80363</td>\n",
              "      <td>0.53211</td>\n",
              "      <td>0.705733</td>\n",
              "    </tr>\n",
              "    <tr>\n",
              "      <th>DecisionTreeClassifier_upsampled</th>\n",
              "      <td>0.817382</td>\n",
              "      <td>0.597087</td>\n",
              "      <td>0.850423</td>\n",
              "    </tr>\n",
              "    <tr>\n",
              "      <th>DecisionTreeClassifier_downsampled</th>\n",
              "      <td>0.782728</td>\n",
              "      <td>0.572973</td>\n",
              "      <td>0.82716</td>\n",
              "    </tr>\n",
              "    <tr>\n",
              "      <th>RandomForestClassifier_balanced</th>\n",
              "      <td>0.865787</td>\n",
              "      <td>0.593333</td>\n",
              "      <td>0.868553</td>\n",
              "    </tr>\n",
              "    <tr>\n",
              "      <th>RandomForestClassifier_upsampled</th>\n",
              "      <td>0.861386</td>\n",
              "      <td>0.625</td>\n",
              "      <td>0.858433</td>\n",
              "    </tr>\n",
              "  </tbody>\n",
              "</table>\n",
              "</div>\n",
              "      <button class=\"colab-df-convert\" onclick=\"convertToInteractive('df-51b407e9-9c55-4121-bb70-c90fc3e71db7')\"\n",
              "              title=\"Convert this dataframe to an interactive table.\"\n",
              "              style=\"display:none;\">\n",
              "        \n",
              "  <svg xmlns=\"http://www.w3.org/2000/svg\" height=\"24px\"viewBox=\"0 0 24 24\"\n",
              "       width=\"24px\">\n",
              "    <path d=\"M0 0h24v24H0V0z\" fill=\"none\"/>\n",
              "    <path d=\"M18.56 5.44l.94 2.06.94-2.06 2.06-.94-2.06-.94-.94-2.06-.94 2.06-2.06.94zm-11 1L8.5 8.5l.94-2.06 2.06-.94-2.06-.94L8.5 2.5l-.94 2.06-2.06.94zm10 10l.94 2.06.94-2.06 2.06-.94-2.06-.94-.94-2.06-.94 2.06-2.06.94z\"/><path d=\"M17.41 7.96l-1.37-1.37c-.4-.4-.92-.59-1.43-.59-.52 0-1.04.2-1.43.59L10.3 9.45l-7.72 7.72c-.78.78-.78 2.05 0 2.83L4 21.41c.39.39.9.59 1.41.59.51 0 1.02-.2 1.41-.59l7.78-7.78 2.81-2.81c.8-.78.8-2.07 0-2.86zM5.41 20L4 18.59l7.72-7.72 1.47 1.35L5.41 20z\"/>\n",
              "  </svg>\n",
              "      </button>\n",
              "      \n",
              "  <style>\n",
              "    .colab-df-container {\n",
              "      display:flex;\n",
              "      flex-wrap:wrap;\n",
              "      gap: 12px;\n",
              "    }\n",
              "\n",
              "    .colab-df-convert {\n",
              "      background-color: #E8F0FE;\n",
              "      border: none;\n",
              "      border-radius: 50%;\n",
              "      cursor: pointer;\n",
              "      display: none;\n",
              "      fill: #1967D2;\n",
              "      height: 32px;\n",
              "      padding: 0 0 0 0;\n",
              "      width: 32px;\n",
              "    }\n",
              "\n",
              "    .colab-df-convert:hover {\n",
              "      background-color: #E2EBFA;\n",
              "      box-shadow: 0px 1px 2px rgba(60, 64, 67, 0.3), 0px 1px 3px 1px rgba(60, 64, 67, 0.15);\n",
              "      fill: #174EA6;\n",
              "    }\n",
              "\n",
              "    [theme=dark] .colab-df-convert {\n",
              "      background-color: #3B4455;\n",
              "      fill: #D2E3FC;\n",
              "    }\n",
              "\n",
              "    [theme=dark] .colab-df-convert:hover {\n",
              "      background-color: #434B5C;\n",
              "      box-shadow: 0px 1px 3px 1px rgba(0, 0, 0, 0.15);\n",
              "      filter: drop-shadow(0px 1px 2px rgba(0, 0, 0, 0.3));\n",
              "      fill: #FFFFFF;\n",
              "    }\n",
              "  </style>\n",
              "\n",
              "      <script>\n",
              "        const buttonEl =\n",
              "          document.querySelector('#df-51b407e9-9c55-4121-bb70-c90fc3e71db7 button.colab-df-convert');\n",
              "        buttonEl.style.display =\n",
              "          google.colab.kernel.accessAllowed ? 'block' : 'none';\n",
              "\n",
              "        async function convertToInteractive(key) {\n",
              "          const element = document.querySelector('#df-51b407e9-9c55-4121-bb70-c90fc3e71db7');\n",
              "          const dataTable =\n",
              "            await google.colab.kernel.invokeFunction('convertToInteractive',\n",
              "                                                     [key], {});\n",
              "          if (!dataTable) return;\n",
              "\n",
              "          const docLinkHtml = 'Like what you see? Visit the ' +\n",
              "            '<a target=\"_blank\" href=https://colab.research.google.com/notebooks/data_table.ipynb>data table notebook</a>'\n",
              "            + ' to learn more about interactive tables.';\n",
              "          element.innerHTML = '';\n",
              "          dataTable['output_type'] = 'display_data';\n",
              "          await google.colab.output.renderOutput(dataTable, element);\n",
              "          const docLink = document.createElement('div');\n",
              "          docLink.innerHTML = docLinkHtml;\n",
              "          element.appendChild(docLink);\n",
              "        }\n",
              "      </script>\n",
              "    </div>\n",
              "  </div>\n",
              "  "
            ]
          },
          "metadata": {},
          "execution_count": 57
        }
      ]
    },
    {
      "cell_type": "markdown",
      "metadata": {
        "id": "-2_SqEXJTpLO"
      },
      "source": [
        "#### Уменьшение выборки"
      ]
    },
    {
      "cell_type": "code",
      "source": [
        "%%time \n",
        "\n",
        "# подберем наилучшие параметры для модели случайного леса\n",
        "\n",
        "best_features = 0\n",
        "best_criterion = None\n",
        "best_depth = 0\n",
        "best_model_r = None\n",
        "best_result_r = 0\n",
        "best_est = 0\n",
        "\n",
        "for crit in tqdm(['gini', 'entropy']):\n",
        "    for max_features in ['sqrt', 'log2']:\n",
        "        for est in range(100,150,10):\n",
        "            for depth in range(5,30):\n",
        "                model_r = RandomForestClassifier(random_state=45, criterion=crit,\n",
        "                                    max_features=max_features, max_depth=depth, n_estimators=est, n_jobs=-1)\n",
        "                model_r.fit(features_downsampled, target_downsampled)\n",
        "                predictions = model_r.predict(features_valid)\n",
        "                result = model_r.score(features_valid, target_valid)\n",
        "                if result > best_result_r:\n",
        "                    best_criterion = crit\n",
        "                    best_features = max_features\n",
        "                    best_depth = depth\n",
        "                    best_model_r = model_r\n",
        "                    best_result_r = result\n",
        "                    best_est = est\n",
        "\n",
        "print('Accuracy наилучшей модели на валидационной выборке:', best_result_r)\n",
        "print('Количество деревьев:', best_est)\n",
        "print('Глубина:', best_depth)\n",
        "print('Число признаков:', best_features)\n",
        "print('Критерий расщепления:', best_criterion)"
      ],
      "metadata": {
        "colab": {
          "base_uri": "https://localhost:8080/"
        },
        "id": "P6p6TK7YAxyo",
        "outputId": "156d30cf-7cbf-4410-8131-789d8ca72cec"
      },
      "execution_count": 58,
      "outputs": [
        {
          "output_type": "stream",
          "name": "stderr",
          "text": [
            "100%|██████████| 2/2 [05:25<00:00, 162.74s/it]"
          ]
        },
        {
          "output_type": "stream",
          "name": "stdout",
          "text": [
            "Accuracy наилучшей модели на валидационной выборке: 0.8217821782178217\n",
            "Количество деревьев: 100\n",
            "Глубина: 8\n",
            "Число признаков: sqrt\n",
            "Критерий расщепления: gini\n",
            "CPU times: user 5min 56s, sys: 25.3 s, total: 6min 22s\n",
            "Wall time: 5min 25s\n"
          ]
        },
        {
          "output_type": "stream",
          "name": "stderr",
          "text": [
            "\n"
          ]
        }
      ]
    },
    {
      "cell_type": "code",
      "execution_count": 59,
      "metadata": {
        "id": "a8uLc3LvTpLO",
        "outputId": "b98860c7-b7e0-4cf6-b2a1-302f3f6b1f05",
        "colab": {
          "base_uri": "https://localhost:8080/"
        }
      },
      "outputs": [
        {
          "output_type": "stream",
          "name": "stdout",
          "text": [
            "Качество модели 0.8217821782178217\n",
            "Precision 0.5522682445759369\n",
            "Recall 0.7427055702917772\n",
            "F1 0.6334841628959276\n"
          ]
        }
      ],
      "source": [
        "# т.к. уменьшение выборки уже производилось, сразу приступим к обучению\n",
        "\n",
        "model_rf = RandomForestClassifier(random_state=45, n_estimators=100, max_depth=8, max_features='sqrt', criterion='gini')\n",
        "model_rf.fit(features_downsampled, target_downsampled)\n",
        "predicted_valid = model_rf.predict(features_valid)\n",
        "f1_r = f1_score(target_valid, predicted_valid)\n",
        "result_r = accuracy_score(target_valid, predicted_valid)\n",
        "\n",
        "print('Качество модели', result_r)\n",
        "print('Precision', precision_score(target_valid, predicted_valid))\n",
        "print('Recall', recall_score(target_valid, predicted_valid))\n",
        "print('F1', f1_r)"
      ]
    },
    {
      "cell_type": "markdown",
      "source": [
        "**Модель без уменьшения выборки давала следующие показатели:**\n",
        "\n",
        "- Качество модели 0.8668866886688669\n",
        "- Precision 0.835820895522388\n",
        "- Recall 0.44562334217506633\n",
        "- F1 0.5813148788927336\n",
        "\n",
        "<br>Уменьшение выборки показало хорошие результаты."
      ],
      "metadata": {
        "id": "QDIsRG28yx3h"
      }
    },
    {
      "cell_type": "code",
      "source": [
        "probabilities_valid = model_rf.predict_proba(features_valid)\n",
        "probabilities_one_valid = probabilities_valid[:, 1]\n",
        "fpr_rf, tpr_rf, thresholds = roc_curve(target_valid, probabilities_one_valid)\n",
        "auc_roc_rf = roc_auc_score(target_valid, probabilities_one_valid)\n",
        "print('AUC-ROC DecisionTreeClassifier', auc_roc_rf)\n",
        "\n",
        "plt.figure(figsize=(10,6))\n",
        "plt.plot(fpr_rf, tpr_rf)\n",
        "\n",
        "plt.plot([0, 1], [0, 1], linestyle='--')\n",
        "\n",
        "plt.xlim([0,1])\n",
        "plt.ylim([0,1])\n",
        "\n",
        "plt.xlabel(\"False Positive Rate\")\n",
        "plt.ylabel(\"True Positive Rate\")\n",
        "\n",
        "plt.title(\"ROC-кривая\")\n",
        "plt.show()"
      ],
      "metadata": {
        "colab": {
          "base_uri": "https://localhost:8080/",
          "height": 423
        },
        "id": "rtmGHZFbzOH6",
        "outputId": "e2c42d6c-fc1f-4375-a0c4-979416e14abb"
      },
      "execution_count": 60,
      "outputs": [
        {
          "output_type": "stream",
          "name": "stdout",
          "text": [
            "AUC-ROC DecisionTreeClassifier 0.8717733963851363\n"
          ]
        },
        {
          "output_type": "display_data",
          "data": {
            "text/plain": [
              "<Figure size 720x432 with 1 Axes>"
            ],
            "image/png": "[encoded data removed]"
          },
          "metadata": {
            "needs_background": "light"
          }
        }
      ]
    },
    {
      "cell_type": "code",
      "source": [
        "metrics(result_r, f1_r, auc_roc_rf, 'RandomForestClassifier_downsampled', compare_models)"
      ],
      "metadata": {
        "colab": {
          "base_uri": "https://localhost:8080/",
          "height": 332
        },
        "id": "nYtfFQjtzN8i",
        "outputId": "3ad8f63c-e1ef-427a-c0fc-471c9fac57bb"
      },
      "execution_count": 61,
      "outputs": [
        {
          "output_type": "execute_result",
          "data": {
            "text/plain": [
              "                                   Accuracy_valid  F1 score   AUC ROC\n",
              "DecisionTreeClassifier                   0.861936  0.580968  0.845008\n",
              "RandomForestClassifier                   0.866887  0.581315  0.870761\n",
              "LogisticRegression                       0.788779  0.072464  0.693795\n",
              "DecisionTreeClassifier_balanced           0.80363   0.53211  0.705733\n",
              "DecisionTreeClassifier_upsampled         0.817382  0.597087  0.850423\n",
              "DecisionTreeClassifier_downsampled       0.782728  0.572973   0.82716\n",
              "RandomForestClassifier_balanced          0.865787  0.593333  0.868553\n",
              "RandomForestClassifier_upsampled         0.861386     0.625  0.858433\n",
              "RandomForestClassifier_downsampled       0.821782  0.633484  0.871773"
            ],
            "text/html": [
              "\n",
              "  <div id=\"df-1a00f68b-6250-44ca-bbca-89723cd14f87\">\n",
              "    <div class=\"colab-df-container\">\n",
              "      <div>\n",
              "<style scoped>\n",
              "    .dataframe tbody tr th:only-of-type {\n",
              "        vertical-align: middle;\n",
              "    }\n",
              "\n",
              "    .dataframe tbody tr th {\n",
              "        vertical-align: top;\n",
              "    }\n",
              "\n",
              "    .dataframe thead th {\n",
              "        text-align: right;\n",
              "    }\n",
              "</style>\n",
              "<table border=\"1\" class=\"dataframe\">\n",
              "  <thead>\n",
              "    <tr style=\"text-align: right;\">\n",
              "      <th></th>\n",
              "      <th>Accuracy_valid</th>\n",
              "      <th>F1 score</th>\n",
              "      <th>AUC ROC</th>\n",
              "    </tr>\n",
              "  </thead>\n",
              "  <tbody>\n",
              "    <tr>\n",
              "      <th>DecisionTreeClassifier</th>\n",
              "      <td>0.861936</td>\n",
              "      <td>0.580968</td>\n",
              "      <td>0.845008</td>\n",
              "    </tr>\n",
              "    <tr>\n",
              "      <th>RandomForestClassifier</th>\n",
              "      <td>0.866887</td>\n",
              "      <td>0.581315</td>\n",
              "      <td>0.870761</td>\n",
              "    </tr>\n",
              "    <tr>\n",
              "      <th>LogisticRegression</th>\n",
              "      <td>0.788779</td>\n",
              "      <td>0.072464</td>\n",
              "      <td>0.693795</td>\n",
              "    </tr>\n",
              "    <tr>\n",
              "      <th>DecisionTreeClassifier_balanced</th>\n",
              "      <td>0.80363</td>\n",
              "      <td>0.53211</td>\n",
              "      <td>0.705733</td>\n",
              "    </tr>\n",
              "    <tr>\n",
              "      <th>DecisionTreeClassifier_upsampled</th>\n",
              "      <td>0.817382</td>\n",
              "      <td>0.597087</td>\n",
              "      <td>0.850423</td>\n",
              "    </tr>\n",
              "    <tr>\n",
              "      <th>DecisionTreeClassifier_downsampled</th>\n",
              "      <td>0.782728</td>\n",
              "      <td>0.572973</td>\n",
              "      <td>0.82716</td>\n",
              "    </tr>\n",
              "    <tr>\n",
              "      <th>RandomForestClassifier_balanced</th>\n",
              "      <td>0.865787</td>\n",
              "      <td>0.593333</td>\n",
              "      <td>0.868553</td>\n",
              "    </tr>\n",
              "    <tr>\n",
              "      <th>RandomForestClassifier_upsampled</th>\n",
              "      <td>0.861386</td>\n",
              "      <td>0.625</td>\n",
              "      <td>0.858433</td>\n",
              "    </tr>\n",
              "    <tr>\n",
              "      <th>RandomForestClassifier_downsampled</th>\n",
              "      <td>0.821782</td>\n",
              "      <td>0.633484</td>\n",
              "      <td>0.871773</td>\n",
              "    </tr>\n",
              "  </tbody>\n",
              "</table>\n",
              "</div>\n",
              "      <button class=\"colab-df-convert\" onclick=\"convertToInteractive('df-1a00f68b-6250-44ca-bbca-89723cd14f87')\"\n",
              "              title=\"Convert this dataframe to an interactive table.\"\n",
              "              style=\"display:none;\">\n",
              "        \n",
              "  <svg xmlns=\"http://www.w3.org/2000/svg\" height=\"24px\"viewBox=\"0 0 24 24\"\n",
              "       width=\"24px\">\n",
              "    <path d=\"M0 0h24v24H0V0z\" fill=\"none\"/>\n",
              "    <path d=\"M18.56 5.44l.94 2.06.94-2.06 2.06-.94-2.06-.94-.94-2.06-.94 2.06-2.06.94zm-11 1L8.5 8.5l.94-2.06 2.06-.94-2.06-.94L8.5 2.5l-.94 2.06-2.06.94zm10 10l.94 2.06.94-2.06 2.06-.94-2.06-.94-.94-2.06-.94 2.06-2.06.94z\"/><path d=\"M17.41 7.96l-1.37-1.37c-.4-.4-.92-.59-1.43-.59-.52 0-1.04.2-1.43.59L10.3 9.45l-7.72 7.72c-.78.78-.78 2.05 0 2.83L4 21.41c.39.39.9.59 1.41.59.51 0 1.02-.2 1.41-.59l7.78-7.78 2.81-2.81c.8-.78.8-2.07 0-2.86zM5.41 20L4 18.59l7.72-7.72 1.47 1.35L5.41 20z\"/>\n",
              "  </svg>\n",
              "      </button>\n",
              "      \n",
              "  <style>\n",
              "    .colab-df-container {\n",
              "      display:flex;\n",
              "      flex-wrap:wrap;\n",
              "      gap: 12px;\n",
              "    }\n",
              "\n",
              "    .colab-df-convert {\n",
              "      background-color: #E8F0FE;\n",
              "      border: none;\n",
              "      border-radius: 50%;\n",
              "      cursor: pointer;\n",
              "      display: none;\n",
              "      fill: #1967D2;\n",
              "      height: 32px;\n",
              "      padding: 0 0 0 0;\n",
              "      width: 32px;\n",
              "    }\n",
              "\n",
              "    .colab-df-convert:hover {\n",
              "      background-color: #E2EBFA;\n",
              "      box-shadow: 0px 1px 2px rgba(60, 64, 67, 0.3), 0px 1px 3px 1px rgba(60, 64, 67, 0.15);\n",
              "      fill: #174EA6;\n",
              "    }\n",
              "\n",
              "    [theme=dark] .colab-df-convert {\n",
              "      background-color: #3B4455;\n",
              "      fill: #D2E3FC;\n",
              "    }\n",
              "\n",
              "    [theme=dark] .colab-df-convert:hover {\n",
              "      background-color: #434B5C;\n",
              "      box-shadow: 0px 1px 3px 1px rgba(0, 0, 0, 0.15);\n",
              "      filter: drop-shadow(0px 1px 2px rgba(0, 0, 0, 0.3));\n",
              "      fill: #FFFFFF;\n",
              "    }\n",
              "  </style>\n",
              "\n",
              "      <script>\n",
              "        const buttonEl =\n",
              "          document.querySelector('#df-1a00f68b-6250-44ca-bbca-89723cd14f87 button.colab-df-convert');\n",
              "        buttonEl.style.display =\n",
              "          google.colab.kernel.accessAllowed ? 'block' : 'none';\n",
              "\n",
              "        async function convertToInteractive(key) {\n",
              "          const element = document.querySelector('#df-1a00f68b-6250-44ca-bbca-89723cd14f87');\n",
              "          const dataTable =\n",
              "            await google.colab.kernel.invokeFunction('convertToInteractive',\n",
              "                                                     [key], {});\n",
              "          if (!dataTable) return;\n",
              "\n",
              "          const docLinkHtml = 'Like what you see? Visit the ' +\n",
              "            '<a target=\"_blank\" href=https://colab.research.google.com/notebooks/data_table.ipynb>data table notebook</a>'\n",
              "            + ' to learn more about interactive tables.';\n",
              "          element.innerHTML = '';\n",
              "          dataTable['output_type'] = 'display_data';\n",
              "          await google.colab.output.renderOutput(dataTable, element);\n",
              "          const docLink = document.createElement('div');\n",
              "          docLink.innerHTML = docLinkHtml;\n",
              "          element.appendChild(docLink);\n",
              "        }\n",
              "      </script>\n",
              "    </div>\n",
              "  </div>\n",
              "  "
            ]
          },
          "metadata": {},
          "execution_count": 61
        }
      ]
    },
    {
      "cell_type": "markdown",
      "metadata": {
        "id": "oKUOIjIyTpLa"
      },
      "source": [
        "### Логистическая регрессия"
      ]
    },
    {
      "cell_type": "markdown",
      "metadata": {
        "id": "56SOPA-JTpLa"
      },
      "source": [
        "#### Взвешивание классов"
      ]
    },
    {
      "cell_type": "code",
      "execution_count": 62,
      "metadata": {
        "id": "zbEMMgJLTpLa",
        "outputId": "cd805f30-3479-4225-eccd-8980aabd2c4a",
        "colab": {
          "base_uri": "https://localhost:8080/"
        }
      },
      "outputs": [
        {
          "output_type": "stream",
          "name": "stdout",
          "text": [
            "Качество модели 0.7046204620462047\n",
            "Precision 0.3853868194842407\n",
            "Recall 0.713527851458886\n",
            "F1 0.5004651162790699\n"
          ]
        }
      ],
      "source": [
        "model_lr = LogisticRegression(random_state=45, solver='liblinear', class_weight='balanced')\n",
        "model_lr.fit(features_train, target_train)\n",
        "predicted_valid = model_lr.predict(features_valid)\n",
        "result_lr = accuracy_score(target_valid, predicted_valid)\n",
        "f1_lr = f1_score(target_valid, predicted_valid)\n",
        "\n",
        "print('Качество модели', result_lr)\n",
        "print('Precision', precision_score(target_valid, predicted_valid))\n",
        "print('Recall', recall_score(target_valid, predicted_valid))\n",
        "print('F1', f1_lr)"
      ]
    },
    {
      "cell_type": "markdown",
      "metadata": {
        "id": "9CP0gbsjTpLa"
      },
      "source": [
        "**Модель без баланса давала следующие показатели:**\n",
        "\n",
        "- Качество модели 0.7887788778877888\n",
        "- Precision 0.40540540540540543\n",
        "- Recall 0.03978779840848806\n",
        "- F1 0.07246376811594203\n",
        "\n",
        "<br>Метрика F1 очень сильно выросла, как и метрика точности. "
      ]
    },
    {
      "cell_type": "code",
      "source": [
        "probabilities_valid = model_lr.predict_proba(features_valid)\n",
        "probabilities_one_valid = probabilities_valid[:, 1]\n",
        "fpr_lr, tpr_lr, thresholds = roc_curve(target_valid, probabilities_one_valid)\n",
        "auc_roc_lr = roc_auc_score(target_valid, probabilities_one_valid)\n",
        "print('AUC-ROC LogisticRegression', auc_roc_lr)\n",
        "\n",
        "plt.figure(figsize=(10,6))\n",
        "plt.plot(fpr_lr, tpr_lr)\n",
        "\n",
        "plt.plot([0, 1], [0, 1], linestyle='--')\n",
        "\n",
        "plt.xlim([0,1])\n",
        "plt.ylim([0,1])\n",
        "\n",
        "plt.xlabel(\"False Positive Rate\")\n",
        "plt.ylabel(\"True Positive Rate\")\n",
        "\n",
        "plt.title(\"ROC-кривая\")\n",
        "plt.show()"
      ],
      "metadata": {
        "colab": {
          "base_uri": "https://localhost:8080/",
          "height": 423
        },
        "id": "-4IX2KfA03VY",
        "outputId": "f93b72e3-e9f7-4a49-c567-be503df17af6"
      },
      "execution_count": 63,
      "outputs": [
        {
          "output_type": "stream",
          "name": "stdout",
          "text": [
            "AUC-ROC LogisticRegression 0.7694442961618535\n"
          ]
        },
        {
          "output_type": "display_data",
          "data": {
            "text/plain": [
              "<Figure size 720x432 with 1 Axes>"
            ],
            "image/png": "[encoded data removed]"
          },
          "metadata": {
            "needs_background": "light"
          }
        }
      ]
    },
    {
      "cell_type": "code",
      "source": [
        "metrics(result_lr, f1_lr, auc_roc_lr, 'LogisticRegression_balanced', compare_models)"
      ],
      "metadata": {
        "colab": {
          "base_uri": "https://localhost:8080/",
          "height": 363
        },
        "id": "DWAUZZF203Kv",
        "outputId": "90dfdfe1-ac74-44c2-fa34-ef412b4680f0"
      },
      "execution_count": 64,
      "outputs": [
        {
          "output_type": "execute_result",
          "data": {
            "text/plain": [
              "                                   Accuracy_valid  F1 score   AUC ROC\n",
              "DecisionTreeClassifier                   0.861936  0.580968  0.845008\n",
              "RandomForestClassifier                   0.866887  0.581315  0.870761\n",
              "LogisticRegression                       0.788779  0.072464  0.693795\n",
              "DecisionTreeClassifier_balanced           0.80363   0.53211  0.705733\n",
              "DecisionTreeClassifier_upsampled         0.817382  0.597087  0.850423\n",
              "DecisionTreeClassifier_downsampled       0.782728  0.572973   0.82716\n",
              "RandomForestClassifier_balanced          0.865787  0.593333  0.868553\n",
              "RandomForestClassifier_upsampled         0.861386     0.625  0.858433\n",
              "RandomForestClassifier_downsampled       0.821782  0.633484  0.871773\n",
              "LogisticRegression_balanced               0.70462  0.500465  0.769444"
            ],
            "text/html": [
              "\n",
              "  <div id=\"df-d786adc8-729f-4da7-a444-cfdb617de3fd\">\n",
              "    <div class=\"colab-df-container\">\n",
              "      <div>\n",
              "<style scoped>\n",
              "    .dataframe tbody tr th:only-of-type {\n",
              "        vertical-align: middle;\n",
              "    }\n",
              "\n",
              "    .dataframe tbody tr th {\n",
              "        vertical-align: top;\n",
              "    }\n",
              "\n",
              "    .dataframe thead th {\n",
              "        text-align: right;\n",
              "    }\n",
              "</style>\n",
              "<table border=\"1\" class=\"dataframe\">\n",
              "  <thead>\n",
              "    <tr style=\"text-align: right;\">\n",
              "      <th></th>\n",
              "      <th>Accuracy_valid</th>\n",
              "      <th>F1 score</th>\n",
              "      <th>AUC ROC</th>\n",
              "    </tr>\n",
              "  </thead>\n",
              "  <tbody>\n",
              "    <tr>\n",
              "      <th>DecisionTreeClassifier</th>\n",
              "      <td>0.861936</td>\n",
              "      <td>0.580968</td>\n",
              "      <td>0.845008</td>\n",
              "    </tr>\n",
              "    <tr>\n",
              "      <th>RandomForestClassifier</th>\n",
              "      <td>0.866887</td>\n",
              "      <td>0.581315</td>\n",
              "      <td>0.870761</td>\n",
              "    </tr>\n",
              "    <tr>\n",
              "      <th>LogisticRegression</th>\n",
              "      <td>0.788779</td>\n",
              "      <td>0.072464</td>\n",
              "      <td>0.693795</td>\n",
              "    </tr>\n",
              "    <tr>\n",
              "      <th>DecisionTreeClassifier_balanced</th>\n",
              "      <td>0.80363</td>\n",
              "      <td>0.53211</td>\n",
              "      <td>0.705733</td>\n",
              "    </tr>\n",
              "    <tr>\n",
              "      <th>DecisionTreeClassifier_upsampled</th>\n",
              "      <td>0.817382</td>\n",
              "      <td>0.597087</td>\n",
              "      <td>0.850423</td>\n",
              "    </tr>\n",
              "    <tr>\n",
              "      <th>DecisionTreeClassifier_downsampled</th>\n",
              "      <td>0.782728</td>\n",
              "      <td>0.572973</td>\n",
              "      <td>0.82716</td>\n",
              "    </tr>\n",
              "    <tr>\n",
              "      <th>RandomForestClassifier_balanced</th>\n",
              "      <td>0.865787</td>\n",
              "      <td>0.593333</td>\n",
              "      <td>0.868553</td>\n",
              "    </tr>\n",
              "    <tr>\n",
              "      <th>RandomForestClassifier_upsampled</th>\n",
              "      <td>0.861386</td>\n",
              "      <td>0.625</td>\n",
              "      <td>0.858433</td>\n",
              "    </tr>\n",
              "    <tr>\n",
              "      <th>RandomForestClassifier_downsampled</th>\n",
              "      <td>0.821782</td>\n",
              "      <td>0.633484</td>\n",
              "      <td>0.871773</td>\n",
              "    </tr>\n",
              "    <tr>\n",
              "      <th>LogisticRegression_balanced</th>\n",
              "      <td>0.70462</td>\n",
              "      <td>0.500465</td>\n",
              "      <td>0.769444</td>\n",
              "    </tr>\n",
              "  </tbody>\n",
              "</table>\n",
              "</div>\n",
              "      <button class=\"colab-df-convert\" onclick=\"convertToInteractive('df-d786adc8-729f-4da7-a444-cfdb617de3fd')\"\n",
              "              title=\"Convert this dataframe to an interactive table.\"\n",
              "              style=\"display:none;\">\n",
              "        \n",
              "  <svg xmlns=\"http://www.w3.org/2000/svg\" height=\"24px\"viewBox=\"0 0 24 24\"\n",
              "       width=\"24px\">\n",
              "    <path d=\"M0 0h24v24H0V0z\" fill=\"none\"/>\n",
              "    <path d=\"M18.56 5.44l.94 2.06.94-2.06 2.06-.94-2.06-.94-.94-2.06-.94 2.06-2.06.94zm-11 1L8.5 8.5l.94-2.06 2.06-.94-2.06-.94L8.5 2.5l-.94 2.06-2.06.94zm10 10l.94 2.06.94-2.06 2.06-.94-2.06-.94-.94-2.06-.94 2.06-2.06.94z\"/><path d=\"M17.41 7.96l-1.37-1.37c-.4-.4-.92-.59-1.43-.59-.52 0-1.04.2-1.43.59L10.3 9.45l-7.72 7.72c-.78.78-.78 2.05 0 2.83L4 21.41c.39.39.9.59 1.41.59.51 0 1.02-.2 1.41-.59l7.78-7.78 2.81-2.81c.8-.78.8-2.07 0-2.86zM5.41 20L4 18.59l7.72-7.72 1.47 1.35L5.41 20z\"/>\n",
              "  </svg>\n",
              "      </button>\n",
              "      \n",
              "  <style>\n",
              "    .colab-df-container {\n",
              "      display:flex;\n",
              "      flex-wrap:wrap;\n",
              "      gap: 12px;\n",
              "    }\n",
              "\n",
              "    .colab-df-convert {\n",
              "      background-color: #E8F0FE;\n",
              "      border: none;\n",
              "      border-radius: 50%;\n",
              "      cursor: pointer;\n",
              "      display: none;\n",
              "      fill: #1967D2;\n",
              "      height: 32px;\n",
              "      padding: 0 0 0 0;\n",
              "      width: 32px;\n",
              "    }\n",
              "\n",
              "    .colab-df-convert:hover {\n",
              "      background-color: #E2EBFA;\n",
              "      box-shadow: 0px 1px 2px rgba(60, 64, 67, 0.3), 0px 1px 3px 1px rgba(60, 64, 67, 0.15);\n",
              "      fill: #174EA6;\n",
              "    }\n",
              "\n",
              "    [theme=dark] .colab-df-convert {\n",
              "      background-color: #3B4455;\n",
              "      fill: #D2E3FC;\n",
              "    }\n",
              "\n",
              "    [theme=dark] .colab-df-convert:hover {\n",
              "      background-color: #434B5C;\n",
              "      box-shadow: 0px 1px 3px 1px rgba(0, 0, 0, 0.15);\n",
              "      filter: drop-shadow(0px 1px 2px rgba(0, 0, 0, 0.3));\n",
              "      fill: #FFFFFF;\n",
              "    }\n",
              "  </style>\n",
              "\n",
              "      <script>\n",
              "        const buttonEl =\n",
              "          document.querySelector('#df-d786adc8-729f-4da7-a444-cfdb617de3fd button.colab-df-convert');\n",
              "        buttonEl.style.display =\n",
              "          google.colab.kernel.accessAllowed ? 'block' : 'none';\n",
              "\n",
              "        async function convertToInteractive(key) {\n",
              "          const element = document.querySelector('#df-d786adc8-729f-4da7-a444-cfdb617de3fd');\n",
              "          const dataTable =\n",
              "            await google.colab.kernel.invokeFunction('convertToInteractive',\n",
              "                                                     [key], {});\n",
              "          if (!dataTable) return;\n",
              "\n",
              "          const docLinkHtml = 'Like what you see? Visit the ' +\n",
              "            '<a target=\"_blank\" href=https://colab.research.google.com/notebooks/data_table.ipynb>data table notebook</a>'\n",
              "            + ' to learn more about interactive tables.';\n",
              "          element.innerHTML = '';\n",
              "          dataTable['output_type'] = 'display_data';\n",
              "          await google.colab.output.renderOutput(dataTable, element);\n",
              "          const docLink = document.createElement('div');\n",
              "          docLink.innerHTML = docLinkHtml;\n",
              "          element.appendChild(docLink);\n",
              "        }\n",
              "      </script>\n",
              "    </div>\n",
              "  </div>\n",
              "  "
            ]
          },
          "metadata": {},
          "execution_count": 64
        }
      ]
    },
    {
      "cell_type": "markdown",
      "metadata": {
        "id": "o2iViNSbTpLb"
      },
      "source": [
        "#### Увеличение выборки"
      ]
    },
    {
      "cell_type": "code",
      "execution_count": 65,
      "metadata": {
        "id": "oZnKVZhITpLb",
        "outputId": "c34af92c-fdbd-45d4-ce8e-c5d01377b1fc",
        "colab": {
          "base_uri": "https://localhost:8080/"
        }
      },
      "outputs": [
        {
          "output_type": "stream",
          "name": "stdout",
          "text": [
            "Качество модели 0.7326732673267327\n",
            "Precision 0.3977485928705441\n",
            "Recall 0.5623342175066313\n",
            "F1 0.4659340659340659\n"
          ]
        }
      ],
      "source": [
        "model_lr = LogisticRegression(random_state=45, solver='liblinear')\n",
        "model_lr.fit(features_upsampled, target_upsampled)\n",
        "predicted_valid = model_lr.predict(features_valid)\n",
        "result_lr = accuracy_score(target_valid, predicted_valid)\n",
        "f1_lr = f1_score(target_valid, predicted_valid)\n",
        "\n",
        "\n",
        "print('Качество модели', result_lr)\n",
        "print('Precision', precision_score(target_valid, predicted_valid))\n",
        "print('Recall', recall_score(target_valid, predicted_valid))\n",
        "print('F1', f1_lr)"
      ]
    },
    {
      "cell_type": "markdown",
      "metadata": {
        "id": "pi1pmV6KTpLb"
      },
      "source": [
        "**Модель без увеличения выборки давала следующие показатели:**\n",
        "\n",
        "- Качество модели 0.7887788778877888\n",
        "- Precision 0.40540540540540543\n",
        "- Recall 0.03978779840848806\n",
        "- F1 0.07246376811594203\n",
        "\n",
        "<br>Результаты похожи на результаты выборки с балансировкой, но показатель F1 получился меньше. "
      ]
    },
    {
      "cell_type": "code",
      "source": [
        "probabilities_valid = model_lr.predict_proba(features_valid)\n",
        "probabilities_one_valid = probabilities_valid[:, 1]\n",
        "fpr_lr, tpr_lr, thresholds = roc_curve(target_valid, probabilities_one_valid)\n",
        "auc_roc_lr = roc_auc_score(target_valid, probabilities_one_valid)\n",
        "print('AUC-ROC LogisticRegression', auc_roc_lr)\n",
        "\n",
        "plt.figure(figsize=(10,6))\n",
        "plt.plot(fpr_lr, tpr_lr)\n",
        "\n",
        "plt.plot([0, 1], [0, 1], linestyle='--')\n",
        "\n",
        "plt.xlim([0,1])\n",
        "plt.ylim([0,1])\n",
        "\n",
        "plt.xlabel(\"False Positive Rate\")\n",
        "plt.ylabel(\"True Positive Rate\")\n",
        "\n",
        "plt.title(\"ROC-кривая\")\n",
        "plt.show()"
      ],
      "metadata": {
        "colab": {
          "base_uri": "https://localhost:8080/",
          "height": 423
        },
        "id": "CJ_3eQDr9rk1",
        "outputId": "1ffadab4-05f4-4afb-bc7a-a9b4f69073f2"
      },
      "execution_count": 66,
      "outputs": [
        {
          "output_type": "stream",
          "name": "stdout",
          "text": [
            "AUC-ROC LogisticRegression 0.7293141183638683\n"
          ]
        },
        {
          "output_type": "display_data",
          "data": {
            "text/plain": [
              "<Figure size 720x432 with 1 Axes>"
            ],
            "image/png": "[encoded data removed]"
          },
          "metadata": {
            "needs_background": "light"
          }
        }
      ]
    },
    {
      "cell_type": "code",
      "source": [
        "metrics(result_lr, f1_lr, auc_roc_lr, 'LogisticRegression_upsampled', compare_models)"
      ],
      "metadata": {
        "colab": {
          "base_uri": "https://localhost:8080/",
          "height": 394
        },
        "id": "4IecC-Um9rZ3",
        "outputId": "afc92549-8989-4360-ce52-b2ce8fae8e73"
      },
      "execution_count": 67,
      "outputs": [
        {
          "output_type": "execute_result",
          "data": {
            "text/plain": [
              "                                   Accuracy_valid  F1 score   AUC ROC\n",
              "DecisionTreeClassifier                   0.861936  0.580968  0.845008\n",
              "RandomForestClassifier                   0.866887  0.581315  0.870761\n",
              "LogisticRegression                       0.788779  0.072464  0.693795\n",
              "DecisionTreeClassifier_balanced           0.80363   0.53211  0.705733\n",
              "DecisionTreeClassifier_upsampled         0.817382  0.597087  0.850423\n",
              "DecisionTreeClassifier_downsampled       0.782728  0.572973   0.82716\n",
              "RandomForestClassifier_balanced          0.865787  0.593333  0.868553\n",
              "RandomForestClassifier_upsampled         0.861386     0.625  0.858433\n",
              "RandomForestClassifier_downsampled       0.821782  0.633484  0.871773\n",
              "LogisticRegression_balanced               0.70462  0.500465  0.769444\n",
              "LogisticRegression_upsampled             0.732673  0.465934  0.729314"
            ],
            "text/html": [
              "\n",
              "  <div id=\"df-b71c30a2-6329-4e01-9081-368f0ebd6e37\">\n",
              "    <div class=\"colab-df-container\">\n",
              "      <div>\n",
              "<style scoped>\n",
              "    .dataframe tbody tr th:only-of-type {\n",
              "        vertical-align: middle;\n",
              "    }\n",
              "\n",
              "    .dataframe tbody tr th {\n",
              "        vertical-align: top;\n",
              "    }\n",
              "\n",
              "    .dataframe thead th {\n",
              "        text-align: right;\n",
              "    }\n",
              "</style>\n",
              "<table border=\"1\" class=\"dataframe\">\n",
              "  <thead>\n",
              "    <tr style=\"text-align: right;\">\n",
              "      <th></th>\n",
              "      <th>Accuracy_valid</th>\n",
              "      <th>F1 score</th>\n",
              "      <th>AUC ROC</th>\n",
              "    </tr>\n",
              "  </thead>\n",
              "  <tbody>\n",
              "    <tr>\n",
              "      <th>DecisionTreeClassifier</th>\n",
              "      <td>0.861936</td>\n",
              "      <td>0.580968</td>\n",
              "      <td>0.845008</td>\n",
              "    </tr>\n",
              "    <tr>\n",
              "      <th>RandomForestClassifier</th>\n",
              "      <td>0.866887</td>\n",
              "      <td>0.581315</td>\n",
              "      <td>0.870761</td>\n",
              "    </tr>\n",
              "    <tr>\n",
              "      <th>LogisticRegression</th>\n",
              "      <td>0.788779</td>\n",
              "      <td>0.072464</td>\n",
              "      <td>0.693795</td>\n",
              "    </tr>\n",
              "    <tr>\n",
              "      <th>DecisionTreeClassifier_balanced</th>\n",
              "      <td>0.80363</td>\n",
              "      <td>0.53211</td>\n",
              "      <td>0.705733</td>\n",
              "    </tr>\n",
              "    <tr>\n",
              "      <th>DecisionTreeClassifier_upsampled</th>\n",
              "      <td>0.817382</td>\n",
              "      <td>0.597087</td>\n",
              "      <td>0.850423</td>\n",
              "    </tr>\n",
              "    <tr>\n",
              "      <th>DecisionTreeClassifier_downsampled</th>\n",
              "      <td>0.782728</td>\n",
              "      <td>0.572973</td>\n",
              "      <td>0.82716</td>\n",
              "    </tr>\n",
              "    <tr>\n",
              "      <th>RandomForestClassifier_balanced</th>\n",
              "      <td>0.865787</td>\n",
              "      <td>0.593333</td>\n",
              "      <td>0.868553</td>\n",
              "    </tr>\n",
              "    <tr>\n",
              "      <th>RandomForestClassifier_upsampled</th>\n",
              "      <td>0.861386</td>\n",
              "      <td>0.625</td>\n",
              "      <td>0.858433</td>\n",
              "    </tr>\n",
              "    <tr>\n",
              "      <th>RandomForestClassifier_downsampled</th>\n",
              "      <td>0.821782</td>\n",
              "      <td>0.633484</td>\n",
              "      <td>0.871773</td>\n",
              "    </tr>\n",
              "    <tr>\n",
              "      <th>LogisticRegression_balanced</th>\n",
              "      <td>0.70462</td>\n",
              "      <td>0.500465</td>\n",
              "      <td>0.769444</td>\n",
              "    </tr>\n",
              "    <tr>\n",
              "      <th>LogisticRegression_upsampled</th>\n",
              "      <td>0.732673</td>\n",
              "      <td>0.465934</td>\n",
              "      <td>0.729314</td>\n",
              "    </tr>\n",
              "  </tbody>\n",
              "</table>\n",
              "</div>\n",
              "      <button class=\"colab-df-convert\" onclick=\"convertToInteractive('df-b71c30a2-6329-4e01-9081-368f0ebd6e37')\"\n",
              "              title=\"Convert this dataframe to an interactive table.\"\n",
              "              style=\"display:none;\">\n",
              "        \n",
              "  <svg xmlns=\"http://www.w3.org/2000/svg\" height=\"24px\"viewBox=\"0 0 24 24\"\n",
              "       width=\"24px\">\n",
              "    <path d=\"M0 0h24v24H0V0z\" fill=\"none\"/>\n",
              "    <path d=\"M18.56 5.44l.94 2.06.94-2.06 2.06-.94-2.06-.94-.94-2.06-.94 2.06-2.06.94zm-11 1L8.5 8.5l.94-2.06 2.06-.94-2.06-.94L8.5 2.5l-.94 2.06-2.06.94zm10 10l.94 2.06.94-2.06 2.06-.94-2.06-.94-.94-2.06-.94 2.06-2.06.94z\"/><path d=\"M17.41 7.96l-1.37-1.37c-.4-.4-.92-.59-1.43-.59-.52 0-1.04.2-1.43.59L10.3 9.45l-7.72 7.72c-.78.78-.78 2.05 0 2.83L4 21.41c.39.39.9.59 1.41.59.51 0 1.02-.2 1.41-.59l7.78-7.78 2.81-2.81c.8-.78.8-2.07 0-2.86zM5.41 20L4 18.59l7.72-7.72 1.47 1.35L5.41 20z\"/>\n",
              "  </svg>\n",
              "      </button>\n",
              "      \n",
              "  <style>\n",
              "    .colab-df-container {\n",
              "      display:flex;\n",
              "      flex-wrap:wrap;\n",
              "      gap: 12px;\n",
              "    }\n",
              "\n",
              "    .colab-df-convert {\n",
              "      background-color: #E8F0FE;\n",
              "      border: none;\n",
              "      border-radius: 50%;\n",
              "      cursor: pointer;\n",
              "      display: none;\n",
              "      fill: #1967D2;\n",
              "      height: 32px;\n",
              "      padding: 0 0 0 0;\n",
              "      width: 32px;\n",
              "    }\n",
              "\n",
              "    .colab-df-convert:hover {\n",
              "      background-color: #E2EBFA;\n",
              "      box-shadow: 0px 1px 2px rgba(60, 64, 67, 0.3), 0px 1px 3px 1px rgba(60, 64, 67, 0.15);\n",
              "      fill: #174EA6;\n",
              "    }\n",
              "\n",
              "    [theme=dark] .colab-df-convert {\n",
              "      background-color: #3B4455;\n",
              "      fill: #D2E3FC;\n",
              "    }\n",
              "\n",
              "    [theme=dark] .colab-df-convert:hover {\n",
              "      background-color: #434B5C;\n",
              "      box-shadow: 0px 1px 3px 1px rgba(0, 0, 0, 0.15);\n",
              "      filter: drop-shadow(0px 1px 2px rgba(0, 0, 0, 0.3));\n",
              "      fill: #FFFFFF;\n",
              "    }\n",
              "  </style>\n",
              "\n",
              "      <script>\n",
              "        const buttonEl =\n",
              "          document.querySelector('#df-b71c30a2-6329-4e01-9081-368f0ebd6e37 button.colab-df-convert');\n",
              "        buttonEl.style.display =\n",
              "          google.colab.kernel.accessAllowed ? 'block' : 'none';\n",
              "\n",
              "        async function convertToInteractive(key) {\n",
              "          const element = document.querySelector('#df-b71c30a2-6329-4e01-9081-368f0ebd6e37');\n",
              "          const dataTable =\n",
              "            await google.colab.kernel.invokeFunction('convertToInteractive',\n",
              "                                                     [key], {});\n",
              "          if (!dataTable) return;\n",
              "\n",
              "          const docLinkHtml = 'Like what you see? Visit the ' +\n",
              "            '<a target=\"_blank\" href=https://colab.research.google.com/notebooks/data_table.ipynb>data table notebook</a>'\n",
              "            + ' to learn more about interactive tables.';\n",
              "          element.innerHTML = '';\n",
              "          dataTable['output_type'] = 'display_data';\n",
              "          await google.colab.output.renderOutput(dataTable, element);\n",
              "          const docLink = document.createElement('div');\n",
              "          docLink.innerHTML = docLinkHtml;\n",
              "          element.appendChild(docLink);\n",
              "        }\n",
              "      </script>\n",
              "    </div>\n",
              "  </div>\n",
              "  "
            ]
          },
          "metadata": {},
          "execution_count": 67
        }
      ]
    },
    {
      "cell_type": "markdown",
      "metadata": {
        "id": "EWA5FaxnTpLb"
      },
      "source": [
        "#### Уменьшение выборки"
      ]
    },
    {
      "cell_type": "code",
      "execution_count": 68,
      "metadata": {
        "id": "ZCeqUHFCTpLc",
        "outputId": "9a221e50-92bd-4350-e8b1-276149f04210",
        "colab": {
          "base_uri": "https://localhost:8080/"
        }
      },
      "outputs": [
        {
          "output_type": "stream",
          "name": "stdout",
          "text": [
            "Качество модели 0.7073707370737073\n",
            "Precision 0.376\n",
            "Recall 0.623342175066313\n",
            "F1 0.46906187624750495\n"
          ]
        }
      ],
      "source": [
        "model_lr = LogisticRegression(random_state=45, solver='liblinear')\n",
        "model_lr.fit(features_downsampled, target_downsampled)\n",
        "predicted_valid = model_lr.predict(features_valid)\n",
        "result_lr = accuracy_score(target_valid, predicted_valid)\n",
        "f1_lr = f1_score(target_valid, predicted_valid)\n",
        "\n",
        "\n",
        "print('Качество модели', result_lr)\n",
        "print('Precision', precision_score(target_valid, predicted_valid))\n",
        "print('Recall', recall_score(target_valid, predicted_valid))\n",
        "print('F1', f1_lr)"
      ]
    },
    {
      "cell_type": "markdown",
      "metadata": {
        "id": "fJRpf9QuTpLc"
      },
      "source": [
        "**Модель без уменьшения выборки давала следующие показатели:**\n",
        "\n",
        "- Качество модели 0.7887788778877888\n",
        "- Precision 0.40540540540540543\n",
        "- Recall 0.03978779840848806\n",
        "- F1 0.07246376811594203\n",
        "\n",
        "При уменьшении выборки показатели логистической регрессии проявили себя хуже всего."
      ]
    },
    {
      "cell_type": "code",
      "source": [
        "metrics(result_lr, f1_lr, auc_roc_lr, 'LogisticRegression_downsampled', compare_models).sort_values('F1 score', ascending=False)"
      ],
      "metadata": {
        "colab": {
          "base_uri": "https://localhost:8080/",
          "height": 426
        },
        "id": "J-XXLMM3OTrn",
        "outputId": "f0dc0137-9df4-416c-d31b-138881f05ed1"
      },
      "execution_count": 69,
      "outputs": [
        {
          "output_type": "execute_result",
          "data": {
            "text/plain": [
              "                                   Accuracy_valid  F1 score   AUC ROC\n",
              "RandomForestClassifier_downsampled       0.821782  0.633484  0.871773\n",
              "RandomForestClassifier_upsampled         0.861386     0.625  0.858433\n",
              "DecisionTreeClassifier_upsampled         0.817382  0.597087  0.850423\n",
              "RandomForestClassifier_balanced          0.865787  0.593333  0.868553\n",
              "RandomForestClassifier                   0.866887  0.581315  0.870761\n",
              "DecisionTreeClassifier                   0.861936  0.580968  0.845008\n",
              "DecisionTreeClassifier_downsampled       0.782728  0.572973   0.82716\n",
              "DecisionTreeClassifier_balanced           0.80363   0.53211  0.705733\n",
              "LogisticRegression_balanced               0.70462  0.500465  0.769444\n",
              "LogisticRegression_downsampled           0.707371  0.469062  0.729314\n",
              "LogisticRegression_upsampled             0.732673  0.465934  0.729314\n",
              "LogisticRegression                       0.788779  0.072464  0.693795"
            ],
            "text/html": [
              "\n",
              "  <div id=\"df-5fb73076-10ff-482d-bf98-dd1041bdb23b\">\n",
              "    <div class=\"colab-df-container\">\n",
              "      <div>\n",
              "<style scoped>\n",
              "    .dataframe tbody tr th:only-of-type {\n",
              "        vertical-align: middle;\n",
              "    }\n",
              "\n",
              "    .dataframe tbody tr th {\n",
              "        vertical-align: top;\n",
              "    }\n",
              "\n",
              "    .dataframe thead th {\n",
              "        text-align: right;\n",
              "    }\n",
              "</style>\n",
              "<table border=\"1\" class=\"dataframe\">\n",
              "  <thead>\n",
              "    <tr style=\"text-align: right;\">\n",
              "      <th></th>\n",
              "      <th>Accuracy_valid</th>\n",
              "      <th>F1 score</th>\n",
              "      <th>AUC ROC</th>\n",
              "    </tr>\n",
              "  </thead>\n",
              "  <tbody>\n",
              "    <tr>\n",
              "      <th>RandomForestClassifier_downsampled</th>\n",
              "      <td>0.821782</td>\n",
              "      <td>0.633484</td>\n",
              "      <td>0.871773</td>\n",
              "    </tr>\n",
              "    <tr>\n",
              "      <th>RandomForestClassifier_upsampled</th>\n",
              "      <td>0.861386</td>\n",
              "      <td>0.625</td>\n",
              "      <td>0.858433</td>\n",
              "    </tr>\n",
              "    <tr>\n",
              "      <th>DecisionTreeClassifier_upsampled</th>\n",
              "      <td>0.817382</td>\n",
              "      <td>0.597087</td>\n",
              "      <td>0.850423</td>\n",
              "    </tr>\n",
              "    <tr>\n",
              "      <th>RandomForestClassifier_balanced</th>\n",
              "      <td>0.865787</td>\n",
              "      <td>0.593333</td>\n",
              "      <td>0.868553</td>\n",
              "    </tr>\n",
              "    <tr>\n",
              "      <th>RandomForestClassifier</th>\n",
              "      <td>0.866887</td>\n",
              "      <td>0.581315</td>\n",
              "      <td>0.870761</td>\n",
              "    </tr>\n",
              "    <tr>\n",
              "      <th>DecisionTreeClassifier</th>\n",
              "      <td>0.861936</td>\n",
              "      <td>0.580968</td>\n",
              "      <td>0.845008</td>\n",
              "    </tr>\n",
              "    <tr>\n",
              "      <th>DecisionTreeClassifier_downsampled</th>\n",
              "      <td>0.782728</td>\n",
              "      <td>0.572973</td>\n",
              "      <td>0.82716</td>\n",
              "    </tr>\n",
              "    <tr>\n",
              "      <th>DecisionTreeClassifier_balanced</th>\n",
              "      <td>0.80363</td>\n",
              "      <td>0.53211</td>\n",
              "      <td>0.705733</td>\n",
              "    </tr>\n",
              "    <tr>\n",
              "      <th>LogisticRegression_balanced</th>\n",
              "      <td>0.70462</td>\n",
              "      <td>0.500465</td>\n",
              "      <td>0.769444</td>\n",
              "    </tr>\n",
              "    <tr>\n",
              "      <th>LogisticRegression_downsampled</th>\n",
              "      <td>0.707371</td>\n",
              "      <td>0.469062</td>\n",
              "      <td>0.729314</td>\n",
              "    </tr>\n",
              "    <tr>\n",
              "      <th>LogisticRegression_upsampled</th>\n",
              "      <td>0.732673</td>\n",
              "      <td>0.465934</td>\n",
              "      <td>0.729314</td>\n",
              "    </tr>\n",
              "    <tr>\n",
              "      <th>LogisticRegression</th>\n",
              "      <td>0.788779</td>\n",
              "      <td>0.072464</td>\n",
              "      <td>0.693795</td>\n",
              "    </tr>\n",
              "  </tbody>\n",
              "</table>\n",
              "</div>\n",
              "      <button class=\"colab-df-convert\" onclick=\"convertToInteractive('df-5fb73076-10ff-482d-bf98-dd1041bdb23b')\"\n",
              "              title=\"Convert this dataframe to an interactive table.\"\n",
              "              style=\"display:none;\">\n",
              "        \n",
              "  <svg xmlns=\"http://www.w3.org/2000/svg\" height=\"24px\"viewBox=\"0 0 24 24\"\n",
              "       width=\"24px\">\n",
              "    <path d=\"M0 0h24v24H0V0z\" fill=\"none\"/>\n",
              "    <path d=\"M18.56 5.44l.94 2.06.94-2.06 2.06-.94-2.06-.94-.94-2.06-.94 2.06-2.06.94zm-11 1L8.5 8.5l.94-2.06 2.06-.94-2.06-.94L8.5 2.5l-.94 2.06-2.06.94zm10 10l.94 2.06.94-2.06 2.06-.94-2.06-.94-.94-2.06-.94 2.06-2.06.94z\"/><path d=\"M17.41 7.96l-1.37-1.37c-.4-.4-.92-.59-1.43-.59-.52 0-1.04.2-1.43.59L10.3 9.45l-7.72 7.72c-.78.78-.78 2.05 0 2.83L4 21.41c.39.39.9.59 1.41.59.51 0 1.02-.2 1.41-.59l7.78-7.78 2.81-2.81c.8-.78.8-2.07 0-2.86zM5.41 20L4 18.59l7.72-7.72 1.47 1.35L5.41 20z\"/>\n",
              "  </svg>\n",
              "      </button>\n",
              "      \n",
              "  <style>\n",
              "    .colab-df-container {\n",
              "      display:flex;\n",
              "      flex-wrap:wrap;\n",
              "      gap: 12px;\n",
              "    }\n",
              "\n",
              "    .colab-df-convert {\n",
              "      background-color: #E8F0FE;\n",
              "      border: none;\n",
              "      border-radius: 50%;\n",
              "      cursor: pointer;\n",
              "      display: none;\n",
              "      fill: #1967D2;\n",
              "      height: 32px;\n",
              "      padding: 0 0 0 0;\n",
              "      width: 32px;\n",
              "    }\n",
              "\n",
              "    .colab-df-convert:hover {\n",
              "      background-color: #E2EBFA;\n",
              "      box-shadow: 0px 1px 2px rgba(60, 64, 67, 0.3), 0px 1px 3px 1px rgba(60, 64, 67, 0.15);\n",
              "      fill: #174EA6;\n",
              "    }\n",
              "\n",
              "    [theme=dark] .colab-df-convert {\n",
              "      background-color: #3B4455;\n",
              "      fill: #D2E3FC;\n",
              "    }\n",
              "\n",
              "    [theme=dark] .colab-df-convert:hover {\n",
              "      background-color: #434B5C;\n",
              "      box-shadow: 0px 1px 3px 1px rgba(0, 0, 0, 0.15);\n",
              "      filter: drop-shadow(0px 1px 2px rgba(0, 0, 0, 0.3));\n",
              "      fill: #FFFFFF;\n",
              "    }\n",
              "  </style>\n",
              "\n",
              "      <script>\n",
              "        const buttonEl =\n",
              "          document.querySelector('#df-5fb73076-10ff-482d-bf98-dd1041bdb23b button.colab-df-convert');\n",
              "        buttonEl.style.display =\n",
              "          google.colab.kernel.accessAllowed ? 'block' : 'none';\n",
              "\n",
              "        async function convertToInteractive(key) {\n",
              "          const element = document.querySelector('#df-5fb73076-10ff-482d-bf98-dd1041bdb23b');\n",
              "          const dataTable =\n",
              "            await google.colab.kernel.invokeFunction('convertToInteractive',\n",
              "                                                     [key], {});\n",
              "          if (!dataTable) return;\n",
              "\n",
              "          const docLinkHtml = 'Like what you see? Visit the ' +\n",
              "            '<a target=\"_blank\" href=https://colab.research.google.com/notebooks/data_table.ipynb>data table notebook</a>'\n",
              "            + ' to learn more about interactive tables.';\n",
              "          element.innerHTML = '';\n",
              "          dataTable['output_type'] = 'display_data';\n",
              "          await google.colab.output.renderOutput(dataTable, element);\n",
              "          const docLink = document.createElement('div');\n",
              "          docLink.innerHTML = docLinkHtml;\n",
              "          element.appendChild(docLink);\n",
              "        }\n",
              "      </script>\n",
              "    </div>\n",
              "  </div>\n",
              "  "
            ]
          },
          "metadata": {},
          "execution_count": 69
        }
      ]
    },
    {
      "cell_type": "markdown",
      "source": [
        "**Комментарий:**\n",
        "\n",
        "<br>Модель Случайного леса с уменьшением выборки показала наиболее высокий результат как по метрике F1, так и по AUC ROC. Самый низкий результат получился у Логистической регрессии, причем все ее модели оказались с низкими результатами. По качеству модели показатель самый высокий также у Случайного леса (без манипуляций с выборками). На втором месте модель Случайного леса с увеличенной выборкой. Интересно, что показатель качества у модели с увеличенной выборкой гораздо лучше, показатель F1 фактически равен показателю у модели с уменьшенной выборкой. \n",
        "<br>Для дальнейшей работы я бы взяла модель Случайного леса с уменьшенной выборкой, так как показатели у нее наиболее высокие."
      ],
      "metadata": {
        "id": "SsWPytRhO1nW"
      }
    },
    {
      "cell_type": "markdown",
      "metadata": {
        "id": "uvw49APXTpLe"
      },
      "source": [
        "## Тестирование модели"
      ]
    },
    {
      "cell_type": "code",
      "execution_count": 70,
      "metadata": {
        "id": "XkU3o4VGTpLh",
        "outputId": "744128d2-e8c2-4d6f-f7d5-8fa1fa8cc04e",
        "colab": {
          "base_uri": "https://localhost:8080/"
        }
      },
      "outputs": [
        {
          "output_type": "stream",
          "name": "stdout",
          "text": [
            "Качество модели 0.8119846069268829\n",
            "Precision 0.5087719298245614\n",
            "Recall 0.7435897435897436\n",
            "F1 0.6041666666666666\n",
            "CPU times: user 335 ms, sys: 47.8 ms, total: 383 ms\n",
            "Wall time: 336 ms\n"
          ]
        }
      ],
      "source": [
        "%%time\n",
        "\n",
        "#сделаем финальный тест\n",
        "\n",
        "model_rf_d = RandomForestClassifier(random_state=254, n_estimators=100, max_depth=8, max_features='sqrt', criterion='gini')\n",
        "model_rf_d.fit(features_downsampled, target_downsampled)\n",
        "predicted_test = model_rf_d.predict(features_test)\n",
        "result_rf_d = accuracy_score(target_test, predicted_test)\n",
        "f1_rf_d = f1_score(target_test, predicted_test)\n",
        "\n",
        "\n",
        "print('Качество модели', result_rf_d)\n",
        "print('Precision', precision_score(target_test, predicted_test))\n",
        "print('Recall', recall_score(target_test, predicted_test))\n",
        "print('F1', f1_rf_d)"
      ]
    },
    {
      "cell_type": "markdown",
      "metadata": {
        "id": "KJH3T_tqTpLi"
      },
      "source": [
        "Пороговый показатель достигнут, хоть он и ниже, чем на валидационной выборке. Были внесены изменения в показатель random_state. Без изменений метрика F1 также проходит пороговое значение - 0.59."
      ]
    },
    {
      "cell_type": "code",
      "execution_count": 71,
      "metadata": {
        "id": "0NvBgyvcTpLi",
        "outputId": "a57044cf-8104-4de7-c8f2-64703af0c252",
        "colab": {
          "base_uri": "https://localhost:8080/",
          "height": 423
        }
      },
      "outputs": [
        {
          "output_type": "stream",
          "name": "stdout",
          "text": [
            "AUC-ROC RandomForestClassifier 0.8609636150508085\n"
          ]
        },
        {
          "output_type": "display_data",
          "data": {
            "text/plain": [
              "<Figure size 720x432 with 1 Axes>"
            ],
            "image/png": "[encoded data removed]"
          },
          "metadata": {
            "needs_background": "light"
          }
        }
      ],
      "source": [
        "probabilities_test = model_rf_d.predict_proba(features_test)\n",
        "probabilities_one_test = probabilities_test[:, 1]\n",
        "fpr, tpr, thresholds = roc_curve(target_test, probabilities_one_test)\n",
        "auc_roc = roc_auc_score(target_test, probabilities_one_test)\n",
        "print('AUC-ROC RandomForestClassifier',auc_roc)\n",
        "\n",
        "plt.figure(figsize=(10,6))\n",
        "plt.plot(fpr, tpr)\n",
        "\n",
        "plt.plot([0, 1], [0, 1], linestyle='--')\n",
        "\n",
        "plt.xlim([0,1])\n",
        "plt.ylim([0,1])\n",
        "\n",
        "plt.xlabel(\"False Positive Rate\")\n",
        "plt.ylabel(\"True Positive Rate\")\n",
        "\n",
        "plt.title(\"ROC-кривая\")\n",
        "plt.show()\n"
      ]
    },
    {
      "cell_type": "code",
      "source": [
        "# сравним ROC кривые модели на обучении и тесте\n",
        "\n",
        "plt.figure(figsize=[12,9])\n",
        "\n",
        "plt.plot([0, 1], [0, 1], linestyle='--', label='RandomModel')\n",
        "\n",
        "print('AUC-ROC RandomForestClassifier_train',auc_roc_rf)\n",
        "plt.plot(fpr_rf, tpr_rf, label='RandomForestClassifier_train')\n",
        "\n",
        "print('AUC-ROC RandomForestClassifier_test',auc_roc)\n",
        "plt.plot(fpr, tpr, label='RandomForestClassifier_test')\n",
        "\n",
        "plt.xlim([0,1])\n",
        "plt.ylim([0,1])\n",
        "\n",
        "plt.xlabel(\"False Positive Rate\")\n",
        "plt.ylabel(\"True Positive Rate\")\n",
        "\n",
        "plt.legend(loc='lower right', fontsize='x-large')\n",
        "\n",
        "plt.title(\"ROC-кривая\")\n",
        "plt.show()"
      ],
      "metadata": {
        "colab": {
          "base_uri": "https://localhost:8080/",
          "height": 604
        },
        "id": "EO3CkruOXt62",
        "outputId": "75a780db-acdd-45d8-ac04-813031ceeb4e"
      },
      "execution_count": 72,
      "outputs": [
        {
          "output_type": "stream",
          "name": "stdout",
          "text": [
            "AUC-ROC RandomForestClassifier_train 0.8717733963851363\n",
            "AUC-ROC RandomForestClassifier_test 0.8609636150508085\n"
          ]
        },
        {
          "output_type": "display_data",
          "data": {
            "text/plain": [
              "<Figure size 864x648 with 1 Axes>"
            ],
            "image/png": "[encoded data removed]"
          },
          "metadata": {
            "needs_background": "light"
          }
        }
      ]
    },
    {
      "cell_type": "markdown",
      "metadata": {
        "id": "A1olxNd7TpLi"
      },
      "source": [
        "## Общий вывод"
      ]
    },
    {
      "cell_type": "markdown",
      "metadata": {
        "id": "6vFlGfsJTpLj"
      },
      "source": [
        "- Модель Случайного леса показала себя лучше остальных и при дисбалансе, и при увеличении, и при уменьшении выборки.\n",
        "- Сравнение ROC кривых Случайного леса с уменьшением выборки на обучении и тесте показало нам, что на обучении модель давала лучшие результаты, однако разница не такая уж и большая.\n",
        "- В данном случае уменьшение выборки сыграло основную роль.\n",
        "- Модель логистической регрессии дала самые худшие показатели во всех вариантах.\n",
        "\n",
        "<br>Модель случайного леса с уменьшенной выборкой рекомендуется к работе заказчику."
      ]
    }
  ],
  "metadata": {
    "ExecuteTimeLog": [
      {
        "duration": 1513,
        "start_time": "2022-01-11T20:03:29.903Z"
      },
      {
        "duration": 67,
        "start_time": "2022-01-11T20:04:25.589Z"
      },
      {
        "duration": 20,
        "start_time": "2022-01-11T20:04:45.389Z"
      },
      {
        "duration": 15,
        "start_time": "2022-01-11T20:04:50.937Z"
      },
      {
        "duration": 1484,
        "start_time": "2022-01-12T17:46:11.115Z"
      },
      {
        "duration": 53,
        "start_time": "2022-01-12T17:46:12.602Z"
      },
      {
        "duration": 16,
        "start_time": "2022-01-12T17:46:12.657Z"
      },
      {
        "duration": 10,
        "start_time": "2022-01-12T17:49:47.463Z"
      },
      {
        "duration": 432,
        "start_time": "2022-01-12T17:50:11.485Z"
      },
      {
        "duration": 10,
        "start_time": "2022-01-12T17:50:59.009Z"
      },
      {
        "duration": 12,
        "start_time": "2022-01-12T17:51:11.205Z"
      },
      {
        "duration": 6,
        "start_time": "2022-01-12T17:51:34.710Z"
      },
      {
        "duration": 8,
        "start_time": "2022-01-12T17:54:52.865Z"
      },
      {
        "duration": 9,
        "start_time": "2022-01-12T18:01:53.924Z"
      },
      {
        "duration": 8,
        "start_time": "2022-01-12T18:02:30.664Z"
      },
      {
        "duration": 11,
        "start_time": "2022-01-12T18:05:04.110Z"
      },
      {
        "duration": 5,
        "start_time": "2022-01-12T18:05:26.288Z"
      },
      {
        "duration": 36,
        "start_time": "2022-01-12T18:17:22.048Z"
      },
      {
        "duration": 6,
        "start_time": "2022-01-12T18:34:40.763Z"
      },
      {
        "duration": 396,
        "start_time": "2022-01-12T18:40:29.913Z"
      },
      {
        "duration": 329,
        "start_time": "2022-01-12T18:41:15.102Z"
      },
      {
        "duration": 6,
        "start_time": "2022-01-12T18:41:19.772Z"
      },
      {
        "duration": 50,
        "start_time": "2022-01-12T18:41:19.782Z"
      },
      {
        "duration": 38,
        "start_time": "2022-01-12T18:41:19.836Z"
      },
      {
        "duration": 8,
        "start_time": "2022-01-12T18:41:19.877Z"
      },
      {
        "duration": 11,
        "start_time": "2022-01-12T18:41:19.889Z"
      },
      {
        "duration": 10,
        "start_time": "2022-01-12T18:41:19.903Z"
      },
      {
        "duration": 52,
        "start_time": "2022-01-12T18:41:19.916Z"
      },
      {
        "duration": 10,
        "start_time": "2022-01-12T18:41:19.972Z"
      },
      {
        "duration": 41,
        "start_time": "2022-01-12T18:41:19.986Z"
      },
      {
        "duration": 382,
        "start_time": "2022-01-12T18:41:20.030Z"
      },
      {
        "duration": 382,
        "start_time": "2022-01-12T18:43:19.063Z"
      },
      {
        "duration": 387,
        "start_time": "2022-01-12T18:44:00.547Z"
      },
      {
        "duration": 352,
        "start_time": "2022-01-12T18:45:11.893Z"
      },
      {
        "duration": 324,
        "start_time": "2022-01-12T18:45:15.936Z"
      },
      {
        "duration": 317,
        "start_time": "2022-01-12T18:46:50.950Z"
      },
      {
        "duration": 328,
        "start_time": "2022-01-12T18:47:19.948Z"
      },
      {
        "duration": 323,
        "start_time": "2022-01-12T18:47:47.869Z"
      },
      {
        "duration": 312,
        "start_time": "2022-01-12T18:48:35.598Z"
      },
      {
        "duration": 343,
        "start_time": "2022-01-12T18:48:39.732Z"
      },
      {
        "duration": 293,
        "start_time": "2022-01-12T18:48:43.563Z"
      },
      {
        "duration": 334,
        "start_time": "2022-01-12T18:48:51.939Z"
      },
      {
        "duration": 99,
        "start_time": "2022-01-12T18:50:18.433Z"
      },
      {
        "duration": 108,
        "start_time": "2022-01-12T18:50:35.684Z"
      },
      {
        "duration": 337,
        "start_time": "2022-01-12T18:50:43.196Z"
      },
      {
        "duration": 15,
        "start_time": "2022-01-12T18:53:06.294Z"
      },
      {
        "duration": 31,
        "start_time": "2022-01-12T18:53:10.876Z"
      },
      {
        "duration": 341,
        "start_time": "2022-01-12T18:53:15.264Z"
      },
      {
        "duration": 296,
        "start_time": "2022-01-12T18:54:06.709Z"
      },
      {
        "duration": 280,
        "start_time": "2022-01-12T18:54:16.202Z"
      },
      {
        "duration": 134,
        "start_time": "2022-01-12T18:54:18.286Z"
      },
      {
        "duration": 39,
        "start_time": "2022-01-12T18:54:21.769Z"
      },
      {
        "duration": 6,
        "start_time": "2022-01-12T18:54:23.260Z"
      },
      {
        "duration": 45,
        "start_time": "2022-01-12T18:54:30.214Z"
      },
      {
        "duration": 451,
        "start_time": "2022-01-12T18:54:34.128Z"
      },
      {
        "duration": 40,
        "start_time": "2022-01-12T18:59:40.081Z"
      },
      {
        "duration": 16,
        "start_time": "2022-01-12T19:00:05.317Z"
      },
      {
        "duration": 37,
        "start_time": "2022-01-12T19:00:11.961Z"
      },
      {
        "duration": 12,
        "start_time": "2022-01-12T19:00:20.023Z"
      },
      {
        "duration": 11,
        "start_time": "2022-01-12T19:00:31.210Z"
      },
      {
        "duration": 15,
        "start_time": "2022-01-12T19:00:37.270Z"
      },
      {
        "duration": 17,
        "start_time": "2022-01-12T19:00:42.045Z"
      },
      {
        "duration": 259,
        "start_time": "2022-01-12T19:00:42.064Z"
      },
      {
        "duration": 229,
        "start_time": "2022-01-12T19:00:42.326Z"
      },
      {
        "duration": 89,
        "start_time": "2022-01-12T19:00:42.558Z"
      },
      {
        "duration": 37,
        "start_time": "2022-01-12T19:00:42.649Z"
      },
      {
        "duration": 5,
        "start_time": "2022-01-12T19:00:42.689Z"
      },
      {
        "duration": 35,
        "start_time": "2022-01-12T19:00:42.696Z"
      },
      {
        "duration": 3501,
        "start_time": "2022-01-12T19:00:42.734Z"
      },
      {
        "duration": 1266,
        "start_time": "2022-01-12T19:01:32.077Z"
      },
      {
        "duration": 17,
        "start_time": "2022-01-12T19:02:13.600Z"
      },
      {
        "duration": 50004,
        "start_time": "2022-01-12T19:05:46.295Z"
      },
      {
        "duration": 139716,
        "start_time": "2022-01-12T19:07:22.369Z"
      },
      {
        "duration": 7,
        "start_time": "2022-01-12T19:11:17.272Z"
      },
      {
        "duration": 253171,
        "start_time": "2022-01-12T19:12:50.465Z"
      },
      {
        "duration": 158770,
        "start_time": "2022-01-12T19:17:17.592Z"
      },
      {
        "duration": 9,
        "start_time": "2022-01-12T19:23:05.922Z"
      },
      {
        "duration": 108,
        "start_time": "2022-01-12T19:24:46.480Z"
      },
      {
        "duration": 10,
        "start_time": "2022-01-12T19:24:57.261Z"
      },
      {
        "duration": 3068,
        "start_time": "2022-01-12T19:27:32.720Z"
      },
      {
        "duration": 10,
        "start_time": "2022-01-12T19:27:44.485Z"
      },
      {
        "duration": 2075,
        "start_time": "2022-01-12T19:28:52.875Z"
      },
      {
        "duration": 114510,
        "start_time": "2022-01-12T19:29:25.561Z"
      },
      {
        "duration": 10,
        "start_time": "2022-01-12T19:31:36.592Z"
      },
      {
        "duration": 12,
        "start_time": "2022-01-12T19:33:58.504Z"
      },
      {
        "duration": 6,
        "start_time": "2022-01-12T19:39:02.836Z"
      },
      {
        "duration": 47,
        "start_time": "2022-01-12T19:39:05.349Z"
      },
      {
        "duration": 6,
        "start_time": "2022-01-12T19:40:14.842Z"
      },
      {
        "duration": 50,
        "start_time": "2022-01-12T19:40:14.850Z"
      },
      {
        "duration": 11,
        "start_time": "2022-01-12T19:40:14.903Z"
      },
      {
        "duration": 6,
        "start_time": "2022-01-12T19:40:14.917Z"
      },
      {
        "duration": 43,
        "start_time": "2022-01-12T19:40:14.925Z"
      },
      {
        "duration": 241,
        "start_time": "2022-01-12T19:40:14.971Z"
      },
      {
        "duration": 213,
        "start_time": "2022-01-12T19:40:15.214Z"
      },
      {
        "duration": 86,
        "start_time": "2022-01-12T19:40:15.430Z"
      },
      {
        "duration": 24,
        "start_time": "2022-01-12T19:40:15.518Z"
      },
      {
        "duration": 5,
        "start_time": "2022-01-12T19:40:15.544Z"
      },
      {
        "duration": 33,
        "start_time": "2022-01-12T19:40:15.567Z"
      },
      {
        "duration": 5,
        "start_time": "2022-01-12T19:49:15.562Z"
      },
      {
        "duration": 561,
        "start_time": "2022-01-12T19:53:46.065Z"
      },
      {
        "duration": 9,
        "start_time": "2022-01-12T20:04:25.783Z"
      },
      {
        "duration": 580,
        "start_time": "2022-01-12T20:06:17.506Z"
      },
      {
        "duration": 3,
        "start_time": "2022-01-12T20:07:45.832Z"
      },
      {
        "duration": 381,
        "start_time": "2022-01-12T20:07:48.187Z"
      },
      {
        "duration": 375,
        "start_time": "2022-01-12T20:08:10.402Z"
      },
      {
        "duration": 31,
        "start_time": "2022-01-12T20:08:39.132Z"
      },
      {
        "duration": 371,
        "start_time": "2022-01-12T20:08:41.402Z"
      },
      {
        "duration": 25,
        "start_time": "2022-01-12T20:08:46.792Z"
      },
      {
        "duration": 8,
        "start_time": "2022-01-12T20:08:50.262Z"
      },
      {
        "duration": 56,
        "start_time": "2022-01-12T20:08:50.273Z"
      },
      {
        "duration": 34,
        "start_time": "2022-01-12T20:08:50.333Z"
      },
      {
        "duration": 9,
        "start_time": "2022-01-12T20:08:50.371Z"
      },
      {
        "duration": 24,
        "start_time": "2022-01-12T20:08:50.383Z"
      },
      {
        "duration": 269,
        "start_time": "2022-01-12T20:08:50.410Z"
      },
      {
        "duration": 212,
        "start_time": "2022-01-12T20:08:50.681Z"
      },
      {
        "duration": 95,
        "start_time": "2022-01-12T20:08:50.897Z"
      },
      {
        "duration": 29,
        "start_time": "2022-01-12T20:08:50.995Z"
      },
      {
        "duration": 5,
        "start_time": "2022-01-12T20:08:51.026Z"
      },
      {
        "duration": 62,
        "start_time": "2022-01-12T20:08:51.034Z"
      },
      {
        "duration": 378,
        "start_time": "2022-01-12T20:08:51.099Z"
      },
      {
        "duration": 7,
        "start_time": "2022-01-12T20:08:51.569Z"
      },
      {
        "duration": 102,
        "start_time": "2022-01-12T20:08:51.579Z"
      },
      {
        "duration": 578,
        "start_time": "2022-01-12T20:11:00.797Z"
      },
      {
        "duration": 387,
        "start_time": "2022-01-12T20:13:57.799Z"
      },
      {
        "duration": 1508,
        "start_time": "2022-01-12T20:15:44.601Z"
      },
      {
        "duration": 57,
        "start_time": "2022-01-12T20:15:46.112Z"
      },
      {
        "duration": 17,
        "start_time": "2022-01-12T20:15:46.173Z"
      },
      {
        "duration": 6,
        "start_time": "2022-01-12T20:15:46.193Z"
      },
      {
        "duration": 22,
        "start_time": "2022-01-12T20:15:46.201Z"
      },
      {
        "duration": 317,
        "start_time": "2022-01-12T20:15:46.225Z"
      },
      {
        "duration": 263,
        "start_time": "2022-01-12T20:15:46.544Z"
      },
      {
        "duration": 102,
        "start_time": "2022-01-12T20:15:46.810Z"
      },
      {
        "duration": 37,
        "start_time": "2022-01-12T20:15:46.916Z"
      },
      {
        "duration": 14,
        "start_time": "2022-01-12T20:15:46.956Z"
      },
      {
        "duration": 42,
        "start_time": "2022-01-12T20:15:46.973Z"
      },
      {
        "duration": 552,
        "start_time": "2022-01-12T20:15:47.017Z"
      },
      {
        "duration": 5,
        "start_time": "2022-01-12T20:15:47.572Z"
      },
      {
        "duration": 12,
        "start_time": "2022-01-12T20:15:47.580Z"
      },
      {
        "duration": 25,
        "start_time": "2022-01-12T20:17:45.882Z"
      },
      {
        "duration": 733,
        "start_time": "2022-01-12T20:17:52.019Z"
      },
      {
        "duration": 821,
        "start_time": "2022-01-12T20:19:55.050Z"
      },
      {
        "duration": 123,
        "start_time": "2022-01-12T20:20:59.681Z"
      },
      {
        "duration": 3,
        "start_time": "2022-01-12T20:23:02.234Z"
      },
      {
        "duration": 1478,
        "start_time": "2022-01-12T20:23:33.545Z"
      },
      {
        "duration": 10,
        "start_time": "2022-01-12T20:24:57.801Z"
      },
      {
        "duration": 374,
        "start_time": "2022-01-12T20:26:03.815Z"
      },
      {
        "duration": 11,
        "start_time": "2022-01-12T20:26:05.966Z"
      },
      {
        "duration": 15,
        "start_time": "2022-01-12T20:27:11.742Z"
      },
      {
        "duration": 225,
        "start_time": "2022-01-12T20:34:12.897Z"
      },
      {
        "duration": 255,
        "start_time": "2022-01-12T20:37:02.071Z"
      },
      {
        "duration": 237,
        "start_time": "2022-01-12T20:38:17.213Z"
      },
      {
        "duration": 267,
        "start_time": "2022-01-12T20:38:29.104Z"
      },
      {
        "duration": 8,
        "start_time": "2022-01-12T20:42:47.803Z"
      },
      {
        "duration": 440,
        "start_time": "2022-01-12T20:49:58.684Z"
      },
      {
        "duration": 292,
        "start_time": "2022-01-12T21:31:44.136Z"
      },
      {
        "duration": 16,
        "start_time": "2022-01-12T21:32:10.712Z"
      },
      {
        "duration": 5845,
        "start_time": "2022-01-12T21:32:15.315Z"
      },
      {
        "duration": 837,
        "start_time": "2022-01-12T21:33:20.715Z"
      },
      {
        "duration": 17,
        "start_time": "2022-01-12T21:33:59.904Z"
      },
      {
        "duration": 834,
        "start_time": "2022-01-12T21:34:21.101Z"
      },
      {
        "duration": 15,
        "start_time": "2022-01-12T21:34:24.063Z"
      },
      {
        "duration": 257,
        "start_time": "2022-01-12T21:35:50.798Z"
      },
      {
        "duration": 1509,
        "start_time": "2022-01-12T21:36:02.512Z"
      },
      {
        "duration": 53,
        "start_time": "2022-01-12T21:36:04.024Z"
      },
      {
        "duration": 11,
        "start_time": "2022-01-12T21:36:04.080Z"
      },
      {
        "duration": 8,
        "start_time": "2022-01-12T21:36:04.094Z"
      },
      {
        "duration": 21,
        "start_time": "2022-01-12T21:36:04.104Z"
      },
      {
        "duration": 309,
        "start_time": "2022-01-12T21:36:04.127Z"
      },
      {
        "duration": 239,
        "start_time": "2022-01-12T21:36:04.439Z"
      },
      {
        "duration": 89,
        "start_time": "2022-01-12T21:36:04.682Z"
      },
      {
        "duration": 36,
        "start_time": "2022-01-12T21:36:04.773Z"
      },
      {
        "duration": 13,
        "start_time": "2022-01-12T21:36:04.811Z"
      },
      {
        "duration": 64,
        "start_time": "2022-01-12T21:36:04.827Z"
      },
      {
        "duration": 1443,
        "start_time": "2022-01-12T21:36:04.893Z"
      },
      {
        "duration": 360,
        "start_time": "2022-01-12T21:36:06.338Z"
      },
      {
        "duration": 16,
        "start_time": "2022-01-12T21:36:06.700Z"
      },
      {
        "duration": 261,
        "start_time": "2022-01-12T21:36:06.718Z"
      },
      {
        "duration": 275,
        "start_time": "2022-01-12T21:36:06.981Z"
      },
      {
        "duration": 13,
        "start_time": "2022-01-12T21:36:07.260Z"
      },
      {
        "duration": 5922,
        "start_time": "2022-01-12T21:36:07.276Z"
      },
      {
        "duration": 855,
        "start_time": "2022-01-12T21:36:13.200Z"
      },
      {
        "duration": 22,
        "start_time": "2022-01-12T21:36:14.057Z"
      },
      {
        "duration": 268,
        "start_time": "2022-01-12T21:36:14.081Z"
      },
      {
        "duration": 860,
        "start_time": "2022-01-12T21:37:20.838Z"
      },
      {
        "duration": 15,
        "start_time": "2022-01-12T21:37:22.620Z"
      },
      {
        "duration": 251,
        "start_time": "2022-01-12T21:37:25.901Z"
      },
      {
        "duration": 276,
        "start_time": "2022-01-12T21:37:32.744Z"
      },
      {
        "duration": 377,
        "start_time": "2022-01-13T14:04:30.120Z"
      },
      {
        "duration": 1443,
        "start_time": "2022-01-13T14:04:39.482Z"
      },
      {
        "duration": 50,
        "start_time": "2022-01-13T14:04:40.927Z"
      },
      {
        "duration": 11,
        "start_time": "2022-01-13T14:04:40.980Z"
      },
      {
        "duration": 6,
        "start_time": "2022-01-13T14:04:40.994Z"
      },
      {
        "duration": 18,
        "start_time": "2022-01-13T14:04:41.024Z"
      },
      {
        "duration": 261,
        "start_time": "2022-01-13T14:04:41.045Z"
      },
      {
        "duration": 225,
        "start_time": "2022-01-13T14:04:41.308Z"
      },
      {
        "duration": 73,
        "start_time": "2022-01-13T14:04:41.537Z"
      },
      {
        "duration": 33,
        "start_time": "2022-01-13T14:04:41.623Z"
      },
      {
        "duration": 5,
        "start_time": "2022-01-13T14:04:41.658Z"
      },
      {
        "duration": 34,
        "start_time": "2022-01-13T14:04:41.665Z"
      },
      {
        "duration": 1351,
        "start_time": "2022-01-13T14:04:41.724Z"
      },
      {
        "duration": 354,
        "start_time": "2022-01-13T14:04:43.077Z"
      },
      {
        "duration": 13,
        "start_time": "2022-01-13T14:04:43.434Z"
      },
      {
        "duration": 229,
        "start_time": "2022-01-13T14:04:43.449Z"
      },
      {
        "duration": 246,
        "start_time": "2022-01-13T14:04:43.681Z"
      },
      {
        "duration": 8,
        "start_time": "2022-01-13T14:04:43.929Z"
      },
      {
        "duration": 5611,
        "start_time": "2022-01-13T14:04:43.939Z"
      },
      {
        "duration": 805,
        "start_time": "2022-01-13T14:04:49.552Z"
      },
      {
        "duration": 14,
        "start_time": "2022-01-13T14:04:50.359Z"
      },
      {
        "duration": 268,
        "start_time": "2022-01-13T14:04:50.376Z"
      },
      {
        "duration": 328,
        "start_time": "2022-01-13T14:04:50.646Z"
      },
      {
        "duration": 37,
        "start_time": "2022-01-13T14:06:22.991Z"
      },
      {
        "duration": 16,
        "start_time": "2022-01-13T14:06:35.987Z"
      },
      {
        "duration": 336,
        "start_time": "2022-01-13T14:07:44.489Z"
      },
      {
        "duration": 35,
        "start_time": "2022-01-13T14:07:47.560Z"
      },
      {
        "duration": 19,
        "start_time": "2022-01-13T14:07:49.168Z"
      },
      {
        "duration": 382,
        "start_time": "2022-01-13T14:08:40.883Z"
      },
      {
        "duration": 8,
        "start_time": "2022-01-13T14:08:50.532Z"
      },
      {
        "duration": 384,
        "start_time": "2022-01-13T14:09:41.944Z"
      },
      {
        "duration": 38,
        "start_time": "2022-01-13T14:09:44.991Z"
      },
      {
        "duration": 8,
        "start_time": "2022-01-13T14:09:46.495Z"
      },
      {
        "duration": 365,
        "start_time": "2022-01-13T14:09:53.558Z"
      },
      {
        "duration": 37,
        "start_time": "2022-01-13T14:09:55.742Z"
      },
      {
        "duration": 7,
        "start_time": "2022-01-13T14:09:57.544Z"
      },
      {
        "duration": 398,
        "start_time": "2022-01-13T14:12:14.127Z"
      },
      {
        "duration": 11,
        "start_time": "2022-01-13T14:12:39.737Z"
      },
      {
        "duration": 6,
        "start_time": "2022-01-13T14:13:40.950Z"
      },
      {
        "duration": 444,
        "start_time": "2022-01-13T14:16:37.871Z"
      },
      {
        "duration": 1247,
        "start_time": "2022-01-13T14:18:34.140Z"
      },
      {
        "duration": 1013,
        "start_time": "2022-01-13T14:18:51.418Z"
      },
      {
        "duration": 151,
        "start_time": "2022-01-13T14:20:44.775Z"
      },
      {
        "duration": 133,
        "start_time": "2022-01-13T14:21:17.398Z"
      },
      {
        "duration": 163,
        "start_time": "2022-01-13T14:21:25.845Z"
      },
      {
        "duration": 141,
        "start_time": "2022-01-13T14:21:28.886Z"
      },
      {
        "duration": 305,
        "start_time": "2022-01-13T14:29:48.063Z"
      },
      {
        "duration": 347,
        "start_time": "2022-01-13T14:30:04.776Z"
      },
      {
        "duration": 327,
        "start_time": "2022-01-13T14:30:13.941Z"
      },
      {
        "duration": 109,
        "start_time": "2022-01-13T14:31:57.049Z"
      },
      {
        "duration": 105,
        "start_time": "2022-01-13T14:32:08.444Z"
      },
      {
        "duration": 9783,
        "start_time": "2022-01-13T14:33:35.693Z"
      },
      {
        "duration": 6723,
        "start_time": "2022-01-13T14:33:59.859Z"
      },
      {
        "duration": 1509,
        "start_time": "2022-01-16T19:45:54.379Z"
      },
      {
        "duration": 53,
        "start_time": "2022-01-16T19:45:55.891Z"
      },
      {
        "duration": 16,
        "start_time": "2022-01-16T19:45:55.947Z"
      },
      {
        "duration": 6,
        "start_time": "2022-01-16T19:45:55.966Z"
      },
      {
        "duration": 18,
        "start_time": "2022-01-16T19:45:55.975Z"
      },
      {
        "duration": 380,
        "start_time": "2022-01-16T19:45:55.995Z"
      },
      {
        "duration": 235,
        "start_time": "2022-01-16T19:45:56.377Z"
      },
      {
        "duration": 83,
        "start_time": "2022-01-16T19:45:56.614Z"
      },
      {
        "duration": 35,
        "start_time": "2022-01-16T19:45:56.701Z"
      },
      {
        "duration": 5,
        "start_time": "2022-01-16T19:45:56.739Z"
      },
      {
        "duration": 35,
        "start_time": "2022-01-16T19:45:56.760Z"
      },
      {
        "duration": 1751,
        "start_time": "2022-01-16T19:45:56.798Z"
      },
      {
        "duration": 353,
        "start_time": "2022-01-16T19:45:58.551Z"
      },
      {
        "duration": 16,
        "start_time": "2022-01-16T19:45:58.906Z"
      },
      {
        "duration": 239,
        "start_time": "2022-01-16T19:45:58.924Z"
      },
      {
        "duration": 253,
        "start_time": "2022-01-16T19:45:59.166Z"
      },
      {
        "duration": 9,
        "start_time": "2022-01-16T19:45:59.422Z"
      },
      {
        "duration": 6637,
        "start_time": "2022-01-16T19:45:59.434Z"
      },
      {
        "duration": 1010,
        "start_time": "2022-01-16T19:46:06.074Z"
      },
      {
        "duration": 13,
        "start_time": "2022-01-16T19:46:07.087Z"
      },
      {
        "duration": 282,
        "start_time": "2022-01-16T19:46:07.102Z"
      },
      {
        "duration": 379,
        "start_time": "2022-01-16T19:46:07.386Z"
      },
      {
        "duration": 192,
        "start_time": "2022-01-16T19:46:07.768Z"
      },
      {
        "duration": 101,
        "start_time": "2022-01-16T19:46:07.963Z"
      },
      {
        "duration": 400,
        "start_time": "2022-01-16T19:46:08.067Z"
      },
      {
        "duration": 102,
        "start_time": "2022-01-16T19:46:08.561Z"
      },
      {
        "duration": 183,
        "start_time": "2022-01-16T19:46:08.668Z"
      },
      {
        "duration": 123,
        "start_time": "2022-01-16T19:46:08.854Z"
      },
      {
        "duration": 214,
        "start_time": "2022-01-16T19:46:09.062Z"
      },
      {
        "duration": 333,
        "start_time": "2022-01-16T19:46:09.278Z"
      },
      {
        "duration": 733,
        "start_time": "2022-01-16T19:47:26.129Z"
      },
      {
        "duration": 211,
        "start_time": "2022-01-16T19:48:00.210Z"
      },
      {
        "duration": 84,
        "start_time": "2022-01-16T19:48:41.130Z"
      },
      {
        "duration": 6,
        "start_time": "2022-01-16T19:49:24.596Z"
      },
      {
        "duration": 41,
        "start_time": "2022-01-16T19:51:46.041Z"
      },
      {
        "duration": 4,
        "start_time": "2022-01-16T19:56:05.905Z"
      },
      {
        "duration": 6,
        "start_time": "2022-01-16T20:06:48.950Z"
      },
      {
        "duration": 20,
        "start_time": "2022-01-16T20:06:52.763Z"
      },
      {
        "duration": 12,
        "start_time": "2022-01-16T20:06:54.881Z"
      },
      {
        "duration": 9,
        "start_time": "2022-01-16T20:06:56.961Z"
      },
      {
        "duration": 6,
        "start_time": "2022-01-16T20:06:58.508Z"
      },
      {
        "duration": 11,
        "start_time": "2022-01-16T20:11:33.680Z"
      },
      {
        "duration": 11,
        "start_time": "2022-01-16T20:11:45.519Z"
      },
      {
        "duration": 924,
        "start_time": "2022-01-16T20:19:29.474Z"
      },
      {
        "duration": 38,
        "start_time": "2022-01-16T20:22:17.622Z"
      },
      {
        "duration": 39,
        "start_time": "2022-01-16T20:22:24.616Z"
      },
      {
        "duration": 318,
        "start_time": "2022-01-16T20:27:09.848Z"
      },
      {
        "duration": 315,
        "start_time": "2022-01-16T20:27:46.258Z"
      },
      {
        "duration": 7,
        "start_time": "2022-01-16T20:28:22.795Z"
      },
      {
        "duration": 280,
        "start_time": "2022-01-16T20:28:29.586Z"
      },
      {
        "duration": 281,
        "start_time": "2022-01-16T20:31:46.659Z"
      },
      {
        "duration": 269,
        "start_time": "2022-01-16T20:32:20.126Z"
      },
      {
        "duration": 16022,
        "start_time": "2022-01-16T20:34:35.482Z"
      },
      {
        "duration": 38463,
        "start_time": "2022-01-16T20:34:58.346Z"
      },
      {
        "duration": 8625,
        "start_time": "2022-01-16T20:43:26.251Z"
      },
      {
        "duration": 6116,
        "start_time": "2022-01-16T20:44:19.607Z"
      },
      {
        "duration": 51,
        "start_time": "2022-01-16T21:16:03.663Z"
      },
      {
        "duration": 257,
        "start_time": "2022-01-16T21:16:07.843Z"
      },
      {
        "duration": 1171,
        "start_time": "2022-01-16T21:17:40.068Z"
      },
      {
        "duration": 340,
        "start_time": "2022-01-16T21:18:36.223Z"
      },
      {
        "duration": 55,
        "start_time": "2022-01-16T21:19:35.223Z"
      },
      {
        "duration": 16,
        "start_time": "2022-01-16T21:20:11.187Z"
      },
      {
        "duration": 430,
        "start_time": "2022-01-16T21:20:48.513Z"
      },
      {
        "duration": 1120,
        "start_time": "2022-01-17T18:14:02.051Z"
      },
      {
        "duration": 38,
        "start_time": "2022-01-17T18:14:03.173Z"
      },
      {
        "duration": 7,
        "start_time": "2022-01-17T18:14:03.213Z"
      },
      {
        "duration": 4,
        "start_time": "2022-01-17T18:14:03.222Z"
      },
      {
        "duration": 7,
        "start_time": "2022-01-17T18:14:03.227Z"
      },
      {
        "duration": 4,
        "start_time": "2022-01-17T18:14:03.235Z"
      },
      {
        "duration": 7,
        "start_time": "2022-01-17T18:14:03.241Z"
      },
      {
        "duration": 26,
        "start_time": "2022-01-17T18:14:03.249Z"
      },
      {
        "duration": 6,
        "start_time": "2022-01-17T18:14:03.278Z"
      },
      {
        "duration": 4,
        "start_time": "2022-01-17T18:14:03.286Z"
      },
      {
        "duration": 12,
        "start_time": "2022-01-17T18:14:03.292Z"
      },
      {
        "duration": 16,
        "start_time": "2022-01-17T18:14:03.306Z"
      },
      {
        "duration": 130,
        "start_time": "2022-01-17T18:14:03.323Z"
      },
      {
        "duration": 608,
        "start_time": "2022-01-17T18:14:03.455Z"
      },
      {
        "duration": 28,
        "start_time": "2022-01-17T18:14:04.064Z"
      },
      {
        "duration": 159,
        "start_time": "2022-01-17T18:14:04.093Z"
      },
      {
        "duration": 24774,
        "start_time": "2022-01-17T18:14:04.253Z"
      },
      {
        "duration": 5773,
        "start_time": "2022-01-17T18:14:29.028Z"
      },
      {
        "duration": 3788,
        "start_time": "2022-01-17T18:14:34.803Z"
      },
      {
        "duration": 758,
        "start_time": "2022-01-17T18:14:38.592Z"
      },
      {
        "duration": 209,
        "start_time": "2022-01-17T18:14:39.351Z"
      },
      {
        "duration": 38,
        "start_time": "2022-01-17T18:14:39.561Z"
      },
      {
        "duration": 101,
        "start_time": "2022-01-17T18:14:39.673Z"
      },
      {
        "duration": 323,
        "start_time": "2022-01-17T18:14:39.776Z"
      },
      {
        "duration": 939,
        "start_time": "2022-01-17T18:17:20.174Z"
      },
      {
        "duration": 1259,
        "start_time": "2022-01-17T18:18:00.753Z"
      },
      {
        "duration": 26,
        "start_time": "2022-01-17T18:24:20.685Z"
      },
      {
        "duration": 28,
        "start_time": "2022-01-17T18:24:26.533Z"
      },
      {
        "duration": 16,
        "start_time": "2022-01-17T18:30:02.800Z"
      },
      {
        "duration": 38,
        "start_time": "2022-01-17T18:30:33.750Z"
      },
      {
        "duration": 40,
        "start_time": "2022-01-17T18:30:42.191Z"
      },
      {
        "duration": 13,
        "start_time": "2022-01-17T18:31:58.533Z"
      },
      {
        "duration": 16,
        "start_time": "2022-01-17T18:33:21.664Z"
      },
      {
        "duration": 743,
        "start_time": "2022-01-17T18:35:28.672Z"
      },
      {
        "duration": 599,
        "start_time": "2022-01-17T18:47:46.223Z"
      },
      {
        "duration": 1518,
        "start_time": "2022-01-17T18:47:54.500Z"
      },
      {
        "duration": 418,
        "start_time": "2022-01-17T18:49:25.260Z"
      },
      {
        "duration": 46,
        "start_time": "2022-01-17T18:52:14.540Z"
      },
      {
        "duration": 24,
        "start_time": "2022-01-17T18:52:49.775Z"
      },
      {
        "duration": 57,
        "start_time": "2022-01-17T18:52:58.220Z"
      },
      {
        "duration": 145,
        "start_time": "2022-01-17T18:55:34.436Z"
      },
      {
        "duration": 107,
        "start_time": "2022-01-17T18:55:45.565Z"
      },
      {
        "duration": 90,
        "start_time": "2022-01-17T19:02:44.089Z"
      },
      {
        "duration": 42,
        "start_time": "2022-01-17T19:04:13.233Z"
      },
      {
        "duration": 1990,
        "start_time": "2022-01-17T19:07:36.625Z"
      },
      {
        "duration": 10475,
        "start_time": "2022-01-17T19:16:42.049Z"
      },
      {
        "duration": 4,
        "start_time": "2022-01-17T19:22:42.623Z"
      },
      {
        "duration": 35,
        "start_time": "2022-01-17T19:22:42.633Z"
      },
      {
        "duration": 7,
        "start_time": "2022-01-17T19:22:42.669Z"
      },
      {
        "duration": 4,
        "start_time": "2022-01-17T19:22:42.678Z"
      },
      {
        "duration": 6,
        "start_time": "2022-01-17T19:22:42.684Z"
      },
      {
        "duration": 3,
        "start_time": "2022-01-17T19:22:42.692Z"
      },
      {
        "duration": 9,
        "start_time": "2022-01-17T19:22:42.697Z"
      },
      {
        "duration": 10,
        "start_time": "2022-01-17T19:22:42.708Z"
      },
      {
        "duration": 9,
        "start_time": "2022-01-17T19:22:42.719Z"
      },
      {
        "duration": 6,
        "start_time": "2022-01-17T19:22:42.730Z"
      },
      {
        "duration": 35,
        "start_time": "2022-01-17T19:22:42.738Z"
      },
      {
        "duration": 5,
        "start_time": "2022-01-17T19:22:42.774Z"
      },
      {
        "duration": 135,
        "start_time": "2022-01-17T19:22:42.781Z"
      },
      {
        "duration": 626,
        "start_time": "2022-01-17T19:22:42.918Z"
      },
      {
        "duration": 33,
        "start_time": "2022-01-17T19:22:43.546Z"
      },
      {
        "duration": 166,
        "start_time": "2022-01-17T19:22:43.581Z"
      },
      {
        "duration": 25404,
        "start_time": "2022-01-17T19:22:43.749Z"
      },
      {
        "duration": 5695,
        "start_time": "2022-01-17T19:23:09.155Z"
      },
      {
        "duration": 3932,
        "start_time": "2022-01-17T19:23:14.852Z"
      },
      {
        "duration": 760,
        "start_time": "2022-01-17T19:23:18.786Z"
      },
      {
        "duration": 205,
        "start_time": "2022-01-17T19:23:19.548Z"
      },
      {
        "duration": 132,
        "start_time": "2022-01-17T19:23:19.755Z"
      },
      {
        "duration": 395,
        "start_time": "2022-01-17T19:23:19.973Z"
      },
      {
        "duration": 1753,
        "start_time": "2022-01-17T19:23:20.374Z"
      },
      {
        "duration": 30,
        "start_time": "2022-01-17T19:23:22.130Z"
      },
      {
        "duration": 76,
        "start_time": "2022-01-17T19:23:22.172Z"
      },
      {
        "duration": 52,
        "start_time": "2022-01-17T19:23:22.249Z"
      },
      {
        "duration": 11,
        "start_time": "2022-01-17T19:23:22.303Z"
      },
      {
        "duration": 31,
        "start_time": "2022-01-17T19:23:22.316Z"
      },
      {
        "duration": 845,
        "start_time": "2022-01-17T19:23:22.348Z"
      },
      {
        "duration": 1449,
        "start_time": "2022-01-17T19:23:23.195Z"
      },
      {
        "duration": 332,
        "start_time": "2022-01-17T19:23:24.645Z"
      },
      {
        "duration": 103,
        "start_time": "2022-01-17T19:23:24.979Z"
      },
      {
        "duration": 200,
        "start_time": "2022-01-17T19:23:25.172Z"
      },
      {
        "duration": 98,
        "start_time": "2022-01-17T19:23:25.374Z"
      },
      {
        "duration": 2063,
        "start_time": "2022-01-17T19:23:25.475Z"
      },
      {
        "duration": 48678,
        "start_time": "2022-01-17T19:23:27.539Z"
      },
      {
        "duration": 4552,
        "start_time": "2022-01-17T19:25:34.757Z"
      },
      {
        "duration": 3536,
        "start_time": "2022-01-17T19:26:32.075Z"
      },
      {
        "duration": 4722,
        "start_time": "2022-01-17T19:26:49.970Z"
      },
      {
        "duration": 2900,
        "start_time": "2022-01-17T19:27:18.171Z"
      },
      {
        "duration": 4942,
        "start_time": "2022-01-17T19:27:36.237Z"
      },
      {
        "duration": 593,
        "start_time": "2022-01-17T19:32:52.462Z"
      },
      {
        "duration": 690,
        "start_time": "2022-01-17T19:36:54.152Z"
      },
      {
        "duration": 1057,
        "start_time": "2022-01-17T19:41:04.708Z"
      },
      {
        "duration": 40,
        "start_time": "2022-01-17T19:41:05.766Z"
      },
      {
        "duration": 7,
        "start_time": "2022-01-17T19:41:05.808Z"
      },
      {
        "duration": 3,
        "start_time": "2022-01-17T19:41:05.817Z"
      },
      {
        "duration": 7,
        "start_time": "2022-01-17T19:41:05.822Z"
      },
      {
        "duration": 4,
        "start_time": "2022-01-17T19:41:05.830Z"
      },
      {
        "duration": 8,
        "start_time": "2022-01-17T19:41:05.836Z"
      },
      {
        "duration": 33,
        "start_time": "2022-01-17T19:41:05.846Z"
      },
      {
        "duration": 7,
        "start_time": "2022-01-17T19:41:05.881Z"
      },
      {
        "duration": 7,
        "start_time": "2022-01-17T19:41:05.889Z"
      },
      {
        "duration": 7,
        "start_time": "2022-01-17T19:41:05.898Z"
      },
      {
        "duration": 134,
        "start_time": "2022-01-17T19:41:05.907Z"
      },
      {
        "duration": 606,
        "start_time": "2022-01-17T19:41:06.043Z"
      },
      {
        "duration": 28,
        "start_time": "2022-01-17T19:41:06.651Z"
      },
      {
        "duration": 156,
        "start_time": "2022-01-17T19:41:06.681Z"
      },
      {
        "duration": 25017,
        "start_time": "2022-01-17T19:41:06.839Z"
      },
      {
        "duration": 5379,
        "start_time": "2022-01-17T19:41:31.858Z"
      },
      {
        "duration": 3771,
        "start_time": "2022-01-17T19:41:37.238Z"
      },
      {
        "duration": 760,
        "start_time": "2022-01-17T19:41:41.011Z"
      },
      {
        "duration": 201,
        "start_time": "2022-01-17T19:41:41.773Z"
      },
      {
        "duration": 100,
        "start_time": "2022-01-17T19:41:41.976Z"
      },
      {
        "duration": 418,
        "start_time": "2022-01-17T19:41:42.078Z"
      },
      {
        "duration": 1311,
        "start_time": "2022-01-17T19:41:42.499Z"
      },
      {
        "duration": 29,
        "start_time": "2022-01-17T19:41:43.812Z"
      },
      {
        "duration": 33,
        "start_time": "2022-01-17T19:41:43.843Z"
      },
      {
        "duration": 41,
        "start_time": "2022-01-17T19:41:43.878Z"
      },
      {
        "duration": 12,
        "start_time": "2022-01-17T19:41:43.921Z"
      },
      {
        "duration": 15,
        "start_time": "2022-01-17T19:41:43.934Z"
      },
      {
        "duration": 730,
        "start_time": "2022-01-17T19:41:43.971Z"
      },
      {
        "duration": 1474,
        "start_time": "2022-01-17T19:41:44.702Z"
      },
      {
        "duration": 329,
        "start_time": "2022-01-17T19:41:46.178Z"
      },
      {
        "duration": 72,
        "start_time": "2022-01-17T19:41:46.508Z"
      },
      {
        "duration": 207,
        "start_time": "2022-01-17T19:41:46.672Z"
      },
      {
        "duration": 198,
        "start_time": "2022-01-17T19:41:46.881Z"
      },
      {
        "duration": 2361,
        "start_time": "2022-01-17T19:41:47.082Z"
      },
      {
        "duration": 1469,
        "start_time": "2022-01-18T20:49:27.667Z"
      },
      {
        "duration": 52,
        "start_time": "2022-01-18T20:49:29.139Z"
      },
      {
        "duration": 11,
        "start_time": "2022-01-18T20:49:29.193Z"
      },
      {
        "duration": 26,
        "start_time": "2022-01-18T20:49:29.207Z"
      },
      {
        "duration": 10,
        "start_time": "2022-01-18T20:49:29.235Z"
      },
      {
        "duration": 5,
        "start_time": "2022-01-18T20:49:29.247Z"
      },
      {
        "duration": 13,
        "start_time": "2022-01-18T20:49:29.255Z"
      },
      {
        "duration": 19,
        "start_time": "2022-01-18T20:49:29.272Z"
      },
      {
        "duration": 44,
        "start_time": "2022-01-18T20:49:29.295Z"
      },
      {
        "duration": 7,
        "start_time": "2022-01-18T20:49:29.342Z"
      },
      {
        "duration": 7,
        "start_time": "2022-01-18T20:49:29.351Z"
      },
      {
        "duration": 263,
        "start_time": "2022-01-18T20:49:29.360Z"
      },
      {
        "duration": 894,
        "start_time": "2022-01-18T20:49:29.626Z"
      },
      {
        "duration": 45,
        "start_time": "2022-01-18T20:49:30.523Z"
      },
      {
        "duration": 400,
        "start_time": "2022-01-18T20:49:30.570Z"
      },
      {
        "duration": 40101,
        "start_time": "2022-01-18T20:49:30.972Z"
      },
      {
        "duration": 8542,
        "start_time": "2022-01-18T20:50:11.075Z"
      },
      {
        "duration": 6052,
        "start_time": "2022-01-18T20:50:19.619Z"
      },
      {
        "duration": 1204,
        "start_time": "2022-01-18T20:50:25.674Z"
      },
      {
        "duration": 369,
        "start_time": "2022-01-18T20:50:26.881Z"
      },
      {
        "duration": 86,
        "start_time": "2022-01-18T20:50:27.253Z"
      },
      {
        "duration": 528,
        "start_time": "2022-01-18T20:50:27.343Z"
      },
      {
        "duration": 1993,
        "start_time": "2022-01-18T20:50:27.876Z"
      },
      {
        "duration": 39,
        "start_time": "2022-01-18T20:50:29.872Z"
      },
      {
        "duration": 45,
        "start_time": "2022-01-18T20:50:29.913Z"
      },
      {
        "duration": 78,
        "start_time": "2022-01-18T20:50:29.961Z"
      },
      {
        "duration": 19,
        "start_time": "2022-01-18T20:50:30.042Z"
      },
      {
        "duration": 26,
        "start_time": "2022-01-18T20:50:30.063Z"
      },
      {
        "duration": 1187,
        "start_time": "2022-01-18T20:50:30.091Z"
      },
      {
        "duration": 2494,
        "start_time": "2022-01-18T20:50:31.281Z"
      },
      {
        "duration": 510,
        "start_time": "2022-01-18T20:50:33.777Z"
      },
      {
        "duration": 248,
        "start_time": "2022-01-18T20:50:34.289Z"
      },
      {
        "duration": 195,
        "start_time": "2022-01-18T20:50:34.540Z"
      },
      {
        "duration": 294,
        "start_time": "2022-01-18T20:50:34.739Z"
      },
      {
        "duration": 3335,
        "start_time": "2022-01-18T20:50:35.035Z"
      },
      {
        "duration": 84273,
        "start_time": "2022-01-18T20:50:38.372Z"
      },
      {
        "duration": 5595,
        "start_time": "2022-01-18T20:52:02.648Z"
      },
      {
        "duration": 7480,
        "start_time": "2022-01-18T20:52:08.246Z"
      },
      {
        "duration": 8761,
        "start_time": "2022-01-18T20:52:15.729Z"
      },
      {
        "duration": 961,
        "start_time": "2022-01-18T20:52:24.492Z"
      },
      {
        "duration": 1191,
        "start_time": "2022-01-18T20:52:25.455Z"
      },
      {
        "duration": 8,
        "start_time": "2022-01-18T20:52:26.649Z"
      },
      {
        "duration": 5,
        "start_time": "2022-01-18T20:52:59.472Z"
      },
      {
        "duration": 1462,
        "start_time": "2022-01-18T20:55:38.006Z"
      },
      {
        "duration": 53,
        "start_time": "2022-01-18T20:55:39.470Z"
      },
      {
        "duration": 16,
        "start_time": "2022-01-18T20:55:39.526Z"
      },
      {
        "duration": 7,
        "start_time": "2022-01-18T20:55:39.545Z"
      },
      {
        "duration": 11,
        "start_time": "2022-01-18T20:55:39.554Z"
      },
      {
        "duration": 6,
        "start_time": "2022-01-18T20:55:39.567Z"
      },
      {
        "duration": 13,
        "start_time": "2022-01-18T20:55:39.576Z"
      },
      {
        "duration": 56,
        "start_time": "2022-01-18T20:55:39.593Z"
      },
      {
        "duration": 11,
        "start_time": "2022-01-18T20:55:39.652Z"
      },
      {
        "duration": 8,
        "start_time": "2022-01-18T20:55:39.665Z"
      },
      {
        "duration": 13,
        "start_time": "2022-01-18T20:55:39.675Z"
      },
      {
        "duration": 270,
        "start_time": "2022-01-18T20:55:39.691Z"
      },
      {
        "duration": 883,
        "start_time": "2022-01-18T20:55:39.963Z"
      },
      {
        "duration": 37,
        "start_time": "2022-01-18T20:55:40.849Z"
      },
      {
        "duration": 308,
        "start_time": "2022-01-18T20:55:40.888Z"
      },
      {
        "duration": 40035,
        "start_time": "2022-01-18T20:55:41.198Z"
      },
      {
        "duration": 10243,
        "start_time": "2022-01-18T20:56:21.237Z"
      },
      {
        "duration": 5979,
        "start_time": "2022-01-18T20:56:31.483Z"
      },
      {
        "duration": 1218,
        "start_time": "2022-01-18T20:56:37.464Z"
      },
      {
        "duration": 350,
        "start_time": "2022-01-18T20:56:38.689Z"
      },
      {
        "duration": 98,
        "start_time": "2022-01-18T20:56:39.043Z"
      },
      {
        "duration": 512,
        "start_time": "2022-01-18T20:56:39.233Z"
      },
      {
        "duration": 1907,
        "start_time": "2022-01-18T20:56:39.750Z"
      },
      {
        "duration": 41,
        "start_time": "2022-01-18T20:56:41.660Z"
      },
      {
        "duration": 44,
        "start_time": "2022-01-18T20:56:41.703Z"
      },
      {
        "duration": 60,
        "start_time": "2022-01-18T20:56:41.750Z"
      },
      {
        "duration": 36,
        "start_time": "2022-01-18T20:56:41.813Z"
      },
      {
        "duration": 25,
        "start_time": "2022-01-18T20:56:41.851Z"
      },
      {
        "duration": 1181,
        "start_time": "2022-01-18T20:56:41.879Z"
      },
      {
        "duration": 2553,
        "start_time": "2022-01-18T20:56:43.063Z"
      },
      {
        "duration": 516,
        "start_time": "2022-01-18T20:56:45.618Z"
      },
      {
        "duration": 198,
        "start_time": "2022-01-18T20:56:46.136Z"
      },
      {
        "duration": 295,
        "start_time": "2022-01-18T20:56:46.338Z"
      },
      {
        "duration": 197,
        "start_time": "2022-01-18T20:56:46.636Z"
      },
      {
        "duration": 3316,
        "start_time": "2022-01-18T20:56:46.836Z"
      },
      {
        "duration": 85695,
        "start_time": "2022-01-18T20:56:50.155Z"
      },
      {
        "duration": 5540,
        "start_time": "2022-01-18T20:58:15.853Z"
      },
      {
        "duration": 7378,
        "start_time": "2022-01-18T20:58:21.395Z"
      },
      {
        "duration": 8601,
        "start_time": "2022-01-18T20:58:28.776Z"
      },
      {
        "duration": 976,
        "start_time": "2022-01-18T20:58:37.379Z"
      },
      {
        "duration": 1199,
        "start_time": "2022-01-18T20:58:38.358Z"
      },
      {
        "duration": 15901,
        "start_time": "2022-01-18T21:01:33.371Z"
      },
      {
        "duration": 3971,
        "start_time": "2022-01-18T21:02:40.952Z"
      },
      {
        "duration": 4986,
        "start_time": "2022-01-18T21:03:20.585Z"
      },
      {
        "duration": 467,
        "start_time": "2022-01-18T21:03:53.829Z"
      },
      {
        "duration": 1000,
        "start_time": "2022-01-18T21:05:30.119Z"
      },
      {
        "duration": 211,
        "start_time": "2022-01-18T21:05:53.527Z"
      },
      {
        "duration": 1013,
        "start_time": "2022-01-18T21:06:20.893Z"
      },
      {
        "duration": 203,
        "start_time": "2022-01-18T21:06:35.796Z"
      },
      {
        "duration": 109,
        "start_time": "2022-01-18T21:07:26.927Z"
      },
      {
        "duration": 117,
        "start_time": "2022-01-18T21:07:39.018Z"
      },
      {
        "duration": 944,
        "start_time": "2022-01-18T21:09:53.018Z"
      },
      {
        "duration": 36,
        "start_time": "2022-01-18T21:10:56.525Z"
      },
      {
        "duration": 54,
        "start_time": "2022-01-18T21:11:36.334Z"
      },
      {
        "duration": 62,
        "start_time": "2022-01-18T21:11:46.538Z"
      },
      {
        "duration": 52,
        "start_time": "2022-01-18T21:12:20.284Z"
      },
      {
        "duration": 24,
        "start_time": "2022-01-18T21:12:34.153Z"
      },
      {
        "duration": 18,
        "start_time": "2022-01-18T21:13:10.661Z"
      },
      {
        "duration": 25,
        "start_time": "2022-01-18T21:13:13.215Z"
      },
      {
        "duration": 55,
        "start_time": "2022-01-18T21:13:19.078Z"
      },
      {
        "duration": 25,
        "start_time": "2022-01-18T21:13:25.015Z"
      },
      {
        "duration": 78,
        "start_time": "2022-01-18T21:13:26.800Z"
      },
      {
        "duration": 35,
        "start_time": "2022-01-18T21:13:31.722Z"
      },
      {
        "duration": 58,
        "start_time": "2022-01-18T21:13:39.665Z"
      },
      {
        "duration": 25,
        "start_time": "2022-01-18T21:13:50.327Z"
      },
      {
        "duration": 1772,
        "start_time": "2022-01-18T21:15:59.603Z"
      },
      {
        "duration": 16658,
        "start_time": "2022-01-18T21:17:06.719Z"
      },
      {
        "duration": 82269,
        "start_time": "2022-01-18T21:17:36.060Z"
      },
      {
        "duration": 1007,
        "start_time": "2022-01-18T21:18:58.333Z"
      },
      {
        "duration": 55308,
        "start_time": "2022-01-18T21:21:43.311Z"
      },
      {
        "duration": 5394,
        "start_time": "2022-01-18T21:24:11.355Z"
      },
      {
        "duration": 5796,
        "start_time": "2022-01-18T21:24:28.136Z"
      }
    ],
    "kernelspec": {
      "display_name": "Python 3 (ipykernel)",
      "language": "python",
      "name": "python3"
    },
    "language_info": {
      "codemirror_mode": {
        "name": "ipython",
        "version": 3
      },
      "file_extension": ".py",
      "mimetype": "text/x-python",
      "name": "python",
      "nbconvert_exporter": "python",
      "pygments_lexer": "ipython3",
      "version": "3.9.5"
    },
    "toc": {
      "base_numbering": 1,
      "nav_menu": {},
      "number_sections": true,
      "sideBar": true,
      "skip_h1_title": true,
      "title_cell": "Содержание",
      "title_sidebar": "Contents",
      "toc_cell": true,
      "toc_position": {
        "height": "calc(100% - 180px)",
        "left": "10px",
        "top": "150px",
        "width": "323.729px"
      },
      "toc_section_display": true,
      "toc_window_display": true
    },
    "colab": {
      "provenance": [],
      "collapsed_sections": [],
      "toc_visible": true
    }
  },
  "nbformat": 4,
  "nbformat_minor": 0
}