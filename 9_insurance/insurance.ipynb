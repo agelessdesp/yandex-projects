{
  "cells": [
    {
      "cell_type": "code",
      "source": [
        "from google.colab import drive\n",
        "\n",
        "drive.mount('/content/drive')"
      ],
      "metadata": {
        "colab": {
          "base_uri": "https://localhost:8080/"
        },
        "id": "bE3Vl94rLyNn",
        "outputId": "24fb4cad-b886-4ad0-f516-f5fdca400f95"
      },
      "execution_count": 1,
      "outputs": [
        {
          "output_type": "stream",
          "name": "stdout",
          "text": [
            "Mounted at /content/drive\n"
          ]
        }
      ]
    },
    {
      "cell_type": "code",
      "execution_count": 2,
      "metadata": {
        "id": "LODenV7YLrrD"
      },
      "outputs": [],
      "source": [
        "import numpy as np\n",
        "import pandas as pd\n",
        "import seaborn as sns\n",
        "import matplotlib.pyplot as plt\n",
        "\n",
        "from sklearn.model_selection import train_test_split\n",
        "from sklearn.linear_model import LinearRegression\n",
        "from sklearn.metrics import r2_score\n",
        "\n",
        "import warnings\n",
        "warnings.filterwarnings('ignore')"
      ]
    },
    {
      "cell_type": "markdown",
      "metadata": {
        "id": "6ZaAX61bLrrC"
      },
      "source": [
        "## Загрузка данных"
      ]
    },
    {
      "cell_type": "code",
      "execution_count": 3,
      "metadata": {
        "id": "h2Ndpc3sLrrE"
      },
      "outputs": [],
      "source": [
        "data = pd.read_csv('/content/drive/My Drive/Collab file/insurance.csv')"
      ]
    },
    {
      "cell_type": "code",
      "source": [
        "# напишем общую функцию для распаковки данных\n",
        "\n",
        "def open_data(data):\n",
        "  display(data.head(5))\n",
        "  print('-------------------------------')\n",
        "  print('Общая информация')\n",
        "  data.info()\n",
        "  print('-------------------------------')\n",
        "  print('Описание данных')\n",
        "  display(data.describe())\n",
        "  print('-------------------------------')\n",
        "  print('Количество дубликатов')\n",
        "  print(data.duplicated().sum())"
      ],
      "metadata": {
        "id": "UpvCK2as_Rqr"
      },
      "execution_count": 4,
      "outputs": []
    },
    {
      "cell_type": "code",
      "source": [
        "open_data(data)"
      ],
      "metadata": {
        "colab": {
          "base_uri": "https://localhost:8080/",
          "height": 844
        },
        "id": "Ko7eMlFS_bzh",
        "outputId": "2819562d-d7b2-46c7-9d41-2703b7a6be66"
      },
      "execution_count": 5,
      "outputs": [
        {
          "output_type": "display_data",
          "data": {
            "text/plain": [
              "   Пол  Возраст  Зарплата  Члены семьи  Страховые выплаты\n",
              "0    1     41.0   49600.0            1                  0\n",
              "1    0     46.0   38000.0            1                  1\n",
              "2    0     29.0   21000.0            0                  0\n",
              "3    0     21.0   41700.0            2                  0\n",
              "4    1     28.0   26100.0            0                  0"
            ],
            "text/html": [
              "\n",
              "  <div id=\"df-79b4e0c3-1214-45d0-b6da-e7f0a3949a27\">\n",
              "    <div class=\"colab-df-container\">\n",
              "      <div>\n",
              "<style scoped>\n",
              "    .dataframe tbody tr th:only-of-type {\n",
              "        vertical-align: middle;\n",
              "    }\n",
              "\n",
              "    .dataframe tbody tr th {\n",
              "        vertical-align: top;\n",
              "    }\n",
              "\n",
              "    .dataframe thead th {\n",
              "        text-align: right;\n",
              "    }\n",
              "</style>\n",
              "<table border=\"1\" class=\"dataframe\">\n",
              "  <thead>\n",
              "    <tr style=\"text-align: right;\">\n",
              "      <th></th>\n",
              "      <th>Пол</th>\n",
              "      <th>Возраст</th>\n",
              "      <th>Зарплата</th>\n",
              "      <th>Члены семьи</th>\n",
              "      <th>Страховые выплаты</th>\n",
              "    </tr>\n",
              "  </thead>\n",
              "  <tbody>\n",
              "    <tr>\n",
              "      <th>0</th>\n",
              "      <td>1</td>\n",
              "      <td>41.0</td>\n",
              "      <td>49600.0</td>\n",
              "      <td>1</td>\n",
              "      <td>0</td>\n",
              "    </tr>\n",
              "    <tr>\n",
              "      <th>1</th>\n",
              "      <td>0</td>\n",
              "      <td>46.0</td>\n",
              "      <td>38000.0</td>\n",
              "      <td>1</td>\n",
              "      <td>1</td>\n",
              "    </tr>\n",
              "    <tr>\n",
              "      <th>2</th>\n",
              "      <td>0</td>\n",
              "      <td>29.0</td>\n",
              "      <td>21000.0</td>\n",
              "      <td>0</td>\n",
              "      <td>0</td>\n",
              "    </tr>\n",
              "    <tr>\n",
              "      <th>3</th>\n",
              "      <td>0</td>\n",
              "      <td>21.0</td>\n",
              "      <td>41700.0</td>\n",
              "      <td>2</td>\n",
              "      <td>0</td>\n",
              "    </tr>\n",
              "    <tr>\n",
              "      <th>4</th>\n",
              "      <td>1</td>\n",
              "      <td>28.0</td>\n",
              "      <td>26100.0</td>\n",
              "      <td>0</td>\n",
              "      <td>0</td>\n",
              "    </tr>\n",
              "  </tbody>\n",
              "</table>\n",
              "</div>\n",
              "      <button class=\"colab-df-convert\" onclick=\"convertToInteractive('df-79b4e0c3-1214-45d0-b6da-e7f0a3949a27')\"\n",
              "              title=\"Convert this dataframe to an interactive table.\"\n",
              "              style=\"display:none;\">\n",
              "        \n",
              "  <svg xmlns=\"http://www.w3.org/2000/svg\" height=\"24px\"viewBox=\"0 0 24 24\"\n",
              "       width=\"24px\">\n",
              "    <path d=\"M0 0h24v24H0V0z\" fill=\"none\"/>\n",
              "    <path d=\"M18.56 5.44l.94 2.06.94-2.06 2.06-.94-2.06-.94-.94-2.06-.94 2.06-2.06.94zm-11 1L8.5 8.5l.94-2.06 2.06-.94-2.06-.94L8.5 2.5l-.94 2.06-2.06.94zm10 10l.94 2.06.94-2.06 2.06-.94-2.06-.94-.94-2.06-.94 2.06-2.06.94z\"/><path d=\"M17.41 7.96l-1.37-1.37c-.4-.4-.92-.59-1.43-.59-.52 0-1.04.2-1.43.59L10.3 9.45l-7.72 7.72c-.78.78-.78 2.05 0 2.83L4 21.41c.39.39.9.59 1.41.59.51 0 1.02-.2 1.41-.59l7.78-7.78 2.81-2.81c.8-.78.8-2.07 0-2.86zM5.41 20L4 18.59l7.72-7.72 1.47 1.35L5.41 20z\"/>\n",
              "  </svg>\n",
              "      </button>\n",
              "      \n",
              "  <style>\n",
              "    .colab-df-container {\n",
              "      display:flex;\n",
              "      flex-wrap:wrap;\n",
              "      gap: 12px;\n",
              "    }\n",
              "\n",
              "    .colab-df-convert {\n",
              "      background-color: #E8F0FE;\n",
              "      border: none;\n",
              "      border-radius: 50%;\n",
              "      cursor: pointer;\n",
              "      display: none;\n",
              "      fill: #1967D2;\n",
              "      height: 32px;\n",
              "      padding: 0 0 0 0;\n",
              "      width: 32px;\n",
              "    }\n",
              "\n",
              "    .colab-df-convert:hover {\n",
              "      background-color: #E2EBFA;\n",
              "      box-shadow: 0px 1px 2px rgba(60, 64, 67, 0.3), 0px 1px 3px 1px rgba(60, 64, 67, 0.15);\n",
              "      fill: #174EA6;\n",
              "    }\n",
              "\n",
              "    [theme=dark] .colab-df-convert {\n",
              "      background-color: #3B4455;\n",
              "      fill: #D2E3FC;\n",
              "    }\n",
              "\n",
              "    [theme=dark] .colab-df-convert:hover {\n",
              "      background-color: #434B5C;\n",
              "      box-shadow: 0px 1px 3px 1px rgba(0, 0, 0, 0.15);\n",
              "      filter: drop-shadow(0px 1px 2px rgba(0, 0, 0, 0.3));\n",
              "      fill: #FFFFFF;\n",
              "    }\n",
              "  </style>\n",
              "\n",
              "      <script>\n",
              "        const buttonEl =\n",
              "          document.querySelector('#df-79b4e0c3-1214-45d0-b6da-e7f0a3949a27 button.colab-df-convert');\n",
              "        buttonEl.style.display =\n",
              "          google.colab.kernel.accessAllowed ? 'block' : 'none';\n",
              "\n",
              "        async function convertToInteractive(key) {\n",
              "          const element = document.querySelector('#df-79b4e0c3-1214-45d0-b6da-e7f0a3949a27');\n",
              "          const dataTable =\n",
              "            await google.colab.kernel.invokeFunction('convertToInteractive',\n",
              "                                                     [key], {});\n",
              "          if (!dataTable) return;\n",
              "\n",
              "          const docLinkHtml = 'Like what you see? Visit the ' +\n",
              "            '<a target=\"_blank\" href=https://colab.research.google.com/notebooks/data_table.ipynb>data table notebook</a>'\n",
              "            + ' to learn more about interactive tables.';\n",
              "          element.innerHTML = '';\n",
              "          dataTable['output_type'] = 'display_data';\n",
              "          await google.colab.output.renderOutput(dataTable, element);\n",
              "          const docLink = document.createElement('div');\n",
              "          docLink.innerHTML = docLinkHtml;\n",
              "          element.appendChild(docLink);\n",
              "        }\n",
              "      </script>\n",
              "    </div>\n",
              "  </div>\n",
              "  "
            ]
          },
          "metadata": {}
        },
        {
          "output_type": "stream",
          "name": "stdout",
          "text": [
            "-------------------------------\n",
            "Общая информация\n",
            "<class 'pandas.core.frame.DataFrame'>\n",
            "RangeIndex: 5000 entries, 0 to 4999\n",
            "Data columns (total 5 columns):\n",
            " #   Column             Non-Null Count  Dtype  \n",
            "---  ------             --------------  -----  \n",
            " 0   Пол                5000 non-null   int64  \n",
            " 1   Возраст            5000 non-null   float64\n",
            " 2   Зарплата           5000 non-null   float64\n",
            " 3   Члены семьи        5000 non-null   int64  \n",
            " 4   Страховые выплаты  5000 non-null   int64  \n",
            "dtypes: float64(2), int64(3)\n",
            "memory usage: 195.4 KB\n",
            "-------------------------------\n",
            "Описание данных\n"
          ]
        },
        {
          "output_type": "display_data",
          "data": {
            "text/plain": [
              "               Пол      Возраст      Зарплата  Члены семьи  Страховые выплаты\n",
              "count  5000.000000  5000.000000   5000.000000  5000.000000        5000.000000\n",
              "mean      0.499000    30.952800  39916.360000     1.194200           0.148000\n",
              "std       0.500049     8.440807   9900.083569     1.091387           0.463183\n",
              "min       0.000000    18.000000   5300.000000     0.000000           0.000000\n",
              "25%       0.000000    24.000000  33300.000000     0.000000           0.000000\n",
              "50%       0.000000    30.000000  40200.000000     1.000000           0.000000\n",
              "75%       1.000000    37.000000  46600.000000     2.000000           0.000000\n",
              "max       1.000000    65.000000  79000.000000     6.000000           5.000000"
            ],
            "text/html": [
              "\n",
              "  <div id=\"df-c22e838d-5ef6-409b-a75a-74c9f970df03\">\n",
              "    <div class=\"colab-df-container\">\n",
              "      <div>\n",
              "<style scoped>\n",
              "    .dataframe tbody tr th:only-of-type {\n",
              "        vertical-align: middle;\n",
              "    }\n",
              "\n",
              "    .dataframe tbody tr th {\n",
              "        vertical-align: top;\n",
              "    }\n",
              "\n",
              "    .dataframe thead th {\n",
              "        text-align: right;\n",
              "    }\n",
              "</style>\n",
              "<table border=\"1\" class=\"dataframe\">\n",
              "  <thead>\n",
              "    <tr style=\"text-align: right;\">\n",
              "      <th></th>\n",
              "      <th>Пол</th>\n",
              "      <th>Возраст</th>\n",
              "      <th>Зарплата</th>\n",
              "      <th>Члены семьи</th>\n",
              "      <th>Страховые выплаты</th>\n",
              "    </tr>\n",
              "  </thead>\n",
              "  <tbody>\n",
              "    <tr>\n",
              "      <th>count</th>\n",
              "      <td>5000.000000</td>\n",
              "      <td>5000.000000</td>\n",
              "      <td>5000.000000</td>\n",
              "      <td>5000.000000</td>\n",
              "      <td>5000.000000</td>\n",
              "    </tr>\n",
              "    <tr>\n",
              "      <th>mean</th>\n",
              "      <td>0.499000</td>\n",
              "      <td>30.952800</td>\n",
              "      <td>39916.360000</td>\n",
              "      <td>1.194200</td>\n",
              "      <td>0.148000</td>\n",
              "    </tr>\n",
              "    <tr>\n",
              "      <th>std</th>\n",
              "      <td>0.500049</td>\n",
              "      <td>8.440807</td>\n",
              "      <td>9900.083569</td>\n",
              "      <td>1.091387</td>\n",
              "      <td>0.463183</td>\n",
              "    </tr>\n",
              "    <tr>\n",
              "      <th>min</th>\n",
              "      <td>0.000000</td>\n",
              "      <td>18.000000</td>\n",
              "      <td>5300.000000</td>\n",
              "      <td>0.000000</td>\n",
              "      <td>0.000000</td>\n",
              "    </tr>\n",
              "    <tr>\n",
              "      <th>25%</th>\n",
              "      <td>0.000000</td>\n",
              "      <td>24.000000</td>\n",
              "      <td>33300.000000</td>\n",
              "      <td>0.000000</td>\n",
              "      <td>0.000000</td>\n",
              "    </tr>\n",
              "    <tr>\n",
              "      <th>50%</th>\n",
              "      <td>0.000000</td>\n",
              "      <td>30.000000</td>\n",
              "      <td>40200.000000</td>\n",
              "      <td>1.000000</td>\n",
              "      <td>0.000000</td>\n",
              "    </tr>\n",
              "    <tr>\n",
              "      <th>75%</th>\n",
              "      <td>1.000000</td>\n",
              "      <td>37.000000</td>\n",
              "      <td>46600.000000</td>\n",
              "      <td>2.000000</td>\n",
              "      <td>0.000000</td>\n",
              "    </tr>\n",
              "    <tr>\n",
              "      <th>max</th>\n",
              "      <td>1.000000</td>\n",
              "      <td>65.000000</td>\n",
              "      <td>79000.000000</td>\n",
              "      <td>6.000000</td>\n",
              "      <td>5.000000</td>\n",
              "    </tr>\n",
              "  </tbody>\n",
              "</table>\n",
              "</div>\n",
              "      <button class=\"colab-df-convert\" onclick=\"convertToInteractive('df-c22e838d-5ef6-409b-a75a-74c9f970df03')\"\n",
              "              title=\"Convert this dataframe to an interactive table.\"\n",
              "              style=\"display:none;\">\n",
              "        \n",
              "  <svg xmlns=\"http://www.w3.org/2000/svg\" height=\"24px\"viewBox=\"0 0 24 24\"\n",
              "       width=\"24px\">\n",
              "    <path d=\"M0 0h24v24H0V0z\" fill=\"none\"/>\n",
              "    <path d=\"M18.56 5.44l.94 2.06.94-2.06 2.06-.94-2.06-.94-.94-2.06-.94 2.06-2.06.94zm-11 1L8.5 8.5l.94-2.06 2.06-.94-2.06-.94L8.5 2.5l-.94 2.06-2.06.94zm10 10l.94 2.06.94-2.06 2.06-.94-2.06-.94-.94-2.06-.94 2.06-2.06.94z\"/><path d=\"M17.41 7.96l-1.37-1.37c-.4-.4-.92-.59-1.43-.59-.52 0-1.04.2-1.43.59L10.3 9.45l-7.72 7.72c-.78.78-.78 2.05 0 2.83L4 21.41c.39.39.9.59 1.41.59.51 0 1.02-.2 1.41-.59l7.78-7.78 2.81-2.81c.8-.78.8-2.07 0-2.86zM5.41 20L4 18.59l7.72-7.72 1.47 1.35L5.41 20z\"/>\n",
              "  </svg>\n",
              "      </button>\n",
              "      \n",
              "  <style>\n",
              "    .colab-df-container {\n",
              "      display:flex;\n",
              "      flex-wrap:wrap;\n",
              "      gap: 12px;\n",
              "    }\n",
              "\n",
              "    .colab-df-convert {\n",
              "      background-color: #E8F0FE;\n",
              "      border: none;\n",
              "      border-radius: 50%;\n",
              "      cursor: pointer;\n",
              "      display: none;\n",
              "      fill: #1967D2;\n",
              "      height: 32px;\n",
              "      padding: 0 0 0 0;\n",
              "      width: 32px;\n",
              "    }\n",
              "\n",
              "    .colab-df-convert:hover {\n",
              "      background-color: #E2EBFA;\n",
              "      box-shadow: 0px 1px 2px rgba(60, 64, 67, 0.3), 0px 1px 3px 1px rgba(60, 64, 67, 0.15);\n",
              "      fill: #174EA6;\n",
              "    }\n",
              "\n",
              "    [theme=dark] .colab-df-convert {\n",
              "      background-color: #3B4455;\n",
              "      fill: #D2E3FC;\n",
              "    }\n",
              "\n",
              "    [theme=dark] .colab-df-convert:hover {\n",
              "      background-color: #434B5C;\n",
              "      box-shadow: 0px 1px 3px 1px rgba(0, 0, 0, 0.15);\n",
              "      filter: drop-shadow(0px 1px 2px rgba(0, 0, 0, 0.3));\n",
              "      fill: #FFFFFF;\n",
              "    }\n",
              "  </style>\n",
              "\n",
              "      <script>\n",
              "        const buttonEl =\n",
              "          document.querySelector('#df-c22e838d-5ef6-409b-a75a-74c9f970df03 button.colab-df-convert');\n",
              "        buttonEl.style.display =\n",
              "          google.colab.kernel.accessAllowed ? 'block' : 'none';\n",
              "\n",
              "        async function convertToInteractive(key) {\n",
              "          const element = document.querySelector('#df-c22e838d-5ef6-409b-a75a-74c9f970df03');\n",
              "          const dataTable =\n",
              "            await google.colab.kernel.invokeFunction('convertToInteractive',\n",
              "                                                     [key], {});\n",
              "          if (!dataTable) return;\n",
              "\n",
              "          const docLinkHtml = 'Like what you see? Visit the ' +\n",
              "            '<a target=\"_blank\" href=https://colab.research.google.com/notebooks/data_table.ipynb>data table notebook</a>'\n",
              "            + ' to learn more about interactive tables.';\n",
              "          element.innerHTML = '';\n",
              "          dataTable['output_type'] = 'display_data';\n",
              "          await google.colab.output.renderOutput(dataTable, element);\n",
              "          const docLink = document.createElement('div');\n",
              "          docLink.innerHTML = docLinkHtml;\n",
              "          element.appendChild(docLink);\n",
              "        }\n",
              "      </script>\n",
              "    </div>\n",
              "  </div>\n",
              "  "
            ]
          },
          "metadata": {}
        },
        {
          "output_type": "stream",
          "name": "stdout",
          "text": [
            "-------------------------------\n",
            "Количество дубликатов\n",
            "153\n"
          ]
        }
      ]
    },
    {
      "cell_type": "code",
      "execution_count": 6,
      "metadata": {
        "id": "y0UXfd8xLrrG"
      },
      "outputs": [],
      "source": [
        "# так как названия колонок на русском, \n",
        "# я бы заменила их на английский для удобства\n",
        "\n",
        "data.rename(columns={'Пол': 'gender', 'Возраст': 'age', 'Зарплата': 'income', 'Члены семьи': 'family_members', 'Страховые выплаты': 'payment'}, inplace=True)"
      ]
    },
    {
      "cell_type": "code",
      "execution_count": 7,
      "metadata": {
        "id": "C-L-Ms0FLrrG"
      },
      "outputs": [],
      "source": [
        "# также я хочу поменять тип колонки с возрастом на целочисленный\n",
        "\n",
        "data['age'] = data['age'].astype('int64')"
      ]
    },
    {
      "cell_type": "code",
      "source": [
        "# в таблице есть 153 дубликата, посмотрим на них\n",
        "\n",
        "data.loc[data.duplicated(), :]"
      ],
      "metadata": {
        "colab": {
          "base_uri": "https://localhost:8080/",
          "height": 424
        },
        "id": "OxjPCsaQN04D",
        "outputId": "7773f2e8-2d00-4683-cd45-ea780cd5ff52"
      },
      "execution_count": 8,
      "outputs": [
        {
          "output_type": "execute_result",
          "data": {
            "text/plain": [
              "      gender  age   income  family_members  payment\n",
              "281        1   39  48100.0               1        0\n",
              "488        1   24  32900.0               1        0\n",
              "513        0   31  37400.0               2        0\n",
              "718        1   22  32600.0               1        0\n",
              "785        0   20  35800.0               0        0\n",
              "...      ...  ...      ...             ...      ...\n",
              "4793       1   24  37800.0               0        0\n",
              "4902       1   35  38700.0               1        0\n",
              "4935       1   19  32700.0               0        0\n",
              "4945       1   21  45800.0               0        0\n",
              "4965       0   22  40100.0               1        0\n",
              "\n",
              "[153 rows x 5 columns]"
            ],
            "text/html": [
              "\n",
              "  <div id=\"df-43435aeb-47ed-4461-be66-46c40ca71cda\">\n",
              "    <div class=\"colab-df-container\">\n",
              "      <div>\n",
              "<style scoped>\n",
              "    .dataframe tbody tr th:only-of-type {\n",
              "        vertical-align: middle;\n",
              "    }\n",
              "\n",
              "    .dataframe tbody tr th {\n",
              "        vertical-align: top;\n",
              "    }\n",
              "\n",
              "    .dataframe thead th {\n",
              "        text-align: right;\n",
              "    }\n",
              "</style>\n",
              "<table border=\"1\" class=\"dataframe\">\n",
              "  <thead>\n",
              "    <tr style=\"text-align: right;\">\n",
              "      <th></th>\n",
              "      <th>gender</th>\n",
              "      <th>age</th>\n",
              "      <th>income</th>\n",
              "      <th>family_members</th>\n",
              "      <th>payment</th>\n",
              "    </tr>\n",
              "  </thead>\n",
              "  <tbody>\n",
              "    <tr>\n",
              "      <th>281</th>\n",
              "      <td>1</td>\n",
              "      <td>39</td>\n",
              "      <td>48100.0</td>\n",
              "      <td>1</td>\n",
              "      <td>0</td>\n",
              "    </tr>\n",
              "    <tr>\n",
              "      <th>488</th>\n",
              "      <td>1</td>\n",
              "      <td>24</td>\n",
              "      <td>32900.0</td>\n",
              "      <td>1</td>\n",
              "      <td>0</td>\n",
              "    </tr>\n",
              "    <tr>\n",
              "      <th>513</th>\n",
              "      <td>0</td>\n",
              "      <td>31</td>\n",
              "      <td>37400.0</td>\n",
              "      <td>2</td>\n",
              "      <td>0</td>\n",
              "    </tr>\n",
              "    <tr>\n",
              "      <th>718</th>\n",
              "      <td>1</td>\n",
              "      <td>22</td>\n",
              "      <td>32600.0</td>\n",
              "      <td>1</td>\n",
              "      <td>0</td>\n",
              "    </tr>\n",
              "    <tr>\n",
              "      <th>785</th>\n",
              "      <td>0</td>\n",
              "      <td>20</td>\n",
              "      <td>35800.0</td>\n",
              "      <td>0</td>\n",
              "      <td>0</td>\n",
              "    </tr>\n",
              "    <tr>\n",
              "      <th>...</th>\n",
              "      <td>...</td>\n",
              "      <td>...</td>\n",
              "      <td>...</td>\n",
              "      <td>...</td>\n",
              "      <td>...</td>\n",
              "    </tr>\n",
              "    <tr>\n",
              "      <th>4793</th>\n",
              "      <td>1</td>\n",
              "      <td>24</td>\n",
              "      <td>37800.0</td>\n",
              "      <td>0</td>\n",
              "      <td>0</td>\n",
              "    </tr>\n",
              "    <tr>\n",
              "      <th>4902</th>\n",
              "      <td>1</td>\n",
              "      <td>35</td>\n",
              "      <td>38700.0</td>\n",
              "      <td>1</td>\n",
              "      <td>0</td>\n",
              "    </tr>\n",
              "    <tr>\n",
              "      <th>4935</th>\n",
              "      <td>1</td>\n",
              "      <td>19</td>\n",
              "      <td>32700.0</td>\n",
              "      <td>0</td>\n",
              "      <td>0</td>\n",
              "    </tr>\n",
              "    <tr>\n",
              "      <th>4945</th>\n",
              "      <td>1</td>\n",
              "      <td>21</td>\n",
              "      <td>45800.0</td>\n",
              "      <td>0</td>\n",
              "      <td>0</td>\n",
              "    </tr>\n",
              "    <tr>\n",
              "      <th>4965</th>\n",
              "      <td>0</td>\n",
              "      <td>22</td>\n",
              "      <td>40100.0</td>\n",
              "      <td>1</td>\n",
              "      <td>0</td>\n",
              "    </tr>\n",
              "  </tbody>\n",
              "</table>\n",
              "<p>153 rows × 5 columns</p>\n",
              "</div>\n",
              "      <button class=\"colab-df-convert\" onclick=\"convertToInteractive('df-43435aeb-47ed-4461-be66-46c40ca71cda')\"\n",
              "              title=\"Convert this dataframe to an interactive table.\"\n",
              "              style=\"display:none;\">\n",
              "        \n",
              "  <svg xmlns=\"http://www.w3.org/2000/svg\" height=\"24px\"viewBox=\"0 0 24 24\"\n",
              "       width=\"24px\">\n",
              "    <path d=\"M0 0h24v24H0V0z\" fill=\"none\"/>\n",
              "    <path d=\"M18.56 5.44l.94 2.06.94-2.06 2.06-.94-2.06-.94-.94-2.06-.94 2.06-2.06.94zm-11 1L8.5 8.5l.94-2.06 2.06-.94-2.06-.94L8.5 2.5l-.94 2.06-2.06.94zm10 10l.94 2.06.94-2.06 2.06-.94-2.06-.94-.94-2.06-.94 2.06-2.06.94z\"/><path d=\"M17.41 7.96l-1.37-1.37c-.4-.4-.92-.59-1.43-.59-.52 0-1.04.2-1.43.59L10.3 9.45l-7.72 7.72c-.78.78-.78 2.05 0 2.83L4 21.41c.39.39.9.59 1.41.59.51 0 1.02-.2 1.41-.59l7.78-7.78 2.81-2.81c.8-.78.8-2.07 0-2.86zM5.41 20L4 18.59l7.72-7.72 1.47 1.35L5.41 20z\"/>\n",
              "  </svg>\n",
              "      </button>\n",
              "      \n",
              "  <style>\n",
              "    .colab-df-container {\n",
              "      display:flex;\n",
              "      flex-wrap:wrap;\n",
              "      gap: 12px;\n",
              "    }\n",
              "\n",
              "    .colab-df-convert {\n",
              "      background-color: #E8F0FE;\n",
              "      border: none;\n",
              "      border-radius: 50%;\n",
              "      cursor: pointer;\n",
              "      display: none;\n",
              "      fill: #1967D2;\n",
              "      height: 32px;\n",
              "      padding: 0 0 0 0;\n",
              "      width: 32px;\n",
              "    }\n",
              "\n",
              "    .colab-df-convert:hover {\n",
              "      background-color: #E2EBFA;\n",
              "      box-shadow: 0px 1px 2px rgba(60, 64, 67, 0.3), 0px 1px 3px 1px rgba(60, 64, 67, 0.15);\n",
              "      fill: #174EA6;\n",
              "    }\n",
              "\n",
              "    [theme=dark] .colab-df-convert {\n",
              "      background-color: #3B4455;\n",
              "      fill: #D2E3FC;\n",
              "    }\n",
              "\n",
              "    [theme=dark] .colab-df-convert:hover {\n",
              "      background-color: #434B5C;\n",
              "      box-shadow: 0px 1px 3px 1px rgba(0, 0, 0, 0.15);\n",
              "      filter: drop-shadow(0px 1px 2px rgba(0, 0, 0, 0.3));\n",
              "      fill: #FFFFFF;\n",
              "    }\n",
              "  </style>\n",
              "\n",
              "      <script>\n",
              "        const buttonEl =\n",
              "          document.querySelector('#df-43435aeb-47ed-4461-be66-46c40ca71cda button.colab-df-convert');\n",
              "        buttonEl.style.display =\n",
              "          google.colab.kernel.accessAllowed ? 'block' : 'none';\n",
              "\n",
              "        async function convertToInteractive(key) {\n",
              "          const element = document.querySelector('#df-43435aeb-47ed-4461-be66-46c40ca71cda');\n",
              "          const dataTable =\n",
              "            await google.colab.kernel.invokeFunction('convertToInteractive',\n",
              "                                                     [key], {});\n",
              "          if (!dataTable) return;\n",
              "\n",
              "          const docLinkHtml = 'Like what you see? Visit the ' +\n",
              "            '<a target=\"_blank\" href=https://colab.research.google.com/notebooks/data_table.ipynb>data table notebook</a>'\n",
              "            + ' to learn more about interactive tables.';\n",
              "          element.innerHTML = '';\n",
              "          dataTable['output_type'] = 'display_data';\n",
              "          await google.colab.output.renderOutput(dataTable, element);\n",
              "          const docLink = document.createElement('div');\n",
              "          docLink.innerHTML = docLinkHtml;\n",
              "          element.appendChild(docLink);\n",
              "        }\n",
              "      </script>\n",
              "    </div>\n",
              "  </div>\n",
              "  "
            ]
          },
          "metadata": {},
          "execution_count": 8
        }
      ]
    },
    {
      "cell_type": "code",
      "source": [
        "# удалим дубликаты\n",
        "\n",
        "data.drop_duplicates(keep='last', inplace=True)"
      ],
      "metadata": {
        "id": "DFa1H7JINGhH"
      },
      "execution_count": 9,
      "outputs": []
    },
    {
      "cell_type": "code",
      "source": [
        "# посмотрим на распределение значений в столбцах\n",
        "# проверим столбец с полом\n",
        "\n",
        "data['gender'].value_counts()"
      ],
      "metadata": {
        "colab": {
          "base_uri": "https://localhost:8080/"
        },
        "id": "M-5ldl0ZOod4",
        "outputId": "0844086f-ff34-4e9c-ea3f-28d44d9a9ba4"
      },
      "execution_count": 10,
      "outputs": [
        {
          "output_type": "execute_result",
          "data": {
            "text/plain": [
              "0    2431\n",
              "1    2416\n",
              "Name: gender, dtype: int64"
            ]
          },
          "metadata": {},
          "execution_count": 10
        }
      ]
    },
    {
      "cell_type": "markdown",
      "source": [
        "**Комментарий:**\n",
        "<br>Никаких ошибок нет, распределение практически равное."
      ],
      "metadata": {
        "id": "sqeCKiIcO9JL"
      }
    },
    {
      "cell_type": "code",
      "source": [
        "# посмтроим график распределения возраста\n",
        "\n",
        "plt.figure(figsize=(10, 6))\n",
        "sns.set()\n",
        "plt.hist(data['age'], bins=50, facecolor='g')\n",
        "\n",
        "plt.title(label='Распределение возраста клиентов', fontsize=20)\n",
        "plt.ylabel('Количество клиентов')\n",
        "plt.xlabel('Возраст')\n",
        "plt.xlim(15,70)"
      ],
      "metadata": {
        "colab": {
          "base_uri": "https://localhost:8080/",
          "height": 434
        },
        "id": "E2EQ4Gi1POtB",
        "outputId": "8929cadf-6d49-4106-8fab-10883087e5a0"
      },
      "execution_count": 11,
      "outputs": [
        {
          "output_type": "execute_result",
          "data": {
            "text/plain": [
              "(15.0, 70.0)"
            ]
          },
          "metadata": {},
          "execution_count": 11
        },
        {
          "output_type": "display_data",
          "data": {
            "text/plain": [
              "<Figure size 720x432 with 1 Axes>"
            ],
            "image/png": "[encoded data removed]"
          },
          "metadata": {
            "needs_background": "light"
          }
        }
      ]
    },
    {
      "cell_type": "markdown",
      "source": [
        "**Комментарий:**\n",
        "<br>Основная масса клиентов - примерно 30 лет. Минимальный возраст - 18 лет. Есть некоторые клиенты 55+. Это не считается выбросами, никаких аномальных значений нет."
      ],
      "metadata": {
        "id": "xTTbo_DaWhU9"
      }
    },
    {
      "cell_type": "code",
      "source": [
        "# посмтроим график распределения количества членов семьи\n",
        "\n",
        "plt.figure(figsize=(10, 6))\n",
        "\n",
        "sns.countplot(data['family_members']).set_xlabel('Количество членов семьи')\n",
        "\n",
        "plt.title(label='Распределение количества членов семьи', fontsize=20)\n",
        "plt.ylabel('Количество клиентов')"
      ],
      "metadata": {
        "colab": {
          "base_uri": "https://localhost:8080/",
          "height": 434
        },
        "id": "gHM_3gzGT2_n",
        "outputId": "d7c1a5a6-dd63-4077-bd6d-838195e1c3cb"
      },
      "execution_count": 12,
      "outputs": [
        {
          "output_type": "execute_result",
          "data": {
            "text/plain": [
              "Text(0, 0.5, 'Количество клиентов')"
            ]
          },
          "metadata": {},
          "execution_count": 12
        },
        {
          "output_type": "display_data",
          "data": {
            "text/plain": [
              "<Figure size 720x432 with 1 Axes>"
            ],
            "image/png": "[encoded data removed]"
          },
          "metadata": {}
        }
      ]
    },
    {
      "cell_type": "markdown",
      "source": [
        "**Комментарий:**\n",
        "<br>Большинство клиентов имеют 1 члена семьи (муж или жена, очевидно), также многие и не имеют семью вовсе."
      ],
      "metadata": {
        "id": "7BdpEGYlaMZG"
      }
    },
    {
      "cell_type": "code",
      "source": [
        "# посмотрим на распределение зарплат\n",
        "\n",
        "plt.figure(figsize=(10, 6))\n",
        "sns.set()\n",
        "plt.hist(data['income'], bins=50, facecolor='g')\n",
        "\n",
        "plt.title(label='Распределение зарплат', fontsize=20)\n",
        "plt.ylabel('Количество клиентов')\n",
        "plt.xlabel('Размер зарплаты')"
      ],
      "metadata": {
        "colab": {
          "base_uri": "https://localhost:8080/",
          "height": 434
        },
        "id": "5gILTFNGanpN",
        "outputId": "bf09b46d-d756-4592-99e1-8b4335d7d191"
      },
      "execution_count": 13,
      "outputs": [
        {
          "output_type": "execute_result",
          "data": {
            "text/plain": [
              "Text(0.5, 0, 'Размер зарплаты')"
            ]
          },
          "metadata": {},
          "execution_count": 13
        },
        {
          "output_type": "display_data",
          "data": {
            "text/plain": [
              "<Figure size 720x432 with 1 Axes>"
            ],
            "image/png": "[encoded data removed]"
          },
          "metadata": {}
        }
      ]
    },
    {
      "cell_type": "markdown",
      "source": [
        "**Комментарий:**\n",
        "<br>Интересно, что зарплаты достаточно низкие для клиентов страховой организации. Средняя зарплата - 40 тыс.руб. Минимальная - 5300 (даже ниже МРОТ, потому что по России самая низкая ставка - 15 тыс.руб.). Распределение нормальное, аномальных значений нет."
      ],
      "metadata": {
        "id": "FiD9XiFOa-wT"
      }
    },
    {
      "cell_type": "code",
      "source": [
        "# посмотрим на количество страховых выплат \n",
        "\n",
        "plt.figure(figsize=(10, 6))\n",
        "\n",
        "sns.countplot(data['payment']).set_xlabel('Количество выплат')\n",
        "\n",
        "plt.title(label='Распределение количества страховых выплат', fontsize=20)\n",
        "plt.ylabel('Количество клиентов')"
      ],
      "metadata": {
        "colab": {
          "base_uri": "https://localhost:8080/",
          "height": 434
        },
        "id": "icXj5JEcb_AL",
        "outputId": "c5caf1ae-5833-4641-f6b4-777fc06db777"
      },
      "execution_count": 14,
      "outputs": [
        {
          "output_type": "execute_result",
          "data": {
            "text/plain": [
              "Text(0, 0.5, 'Количество клиентов')"
            ]
          },
          "metadata": {},
          "execution_count": 14
        },
        {
          "output_type": "display_data",
          "data": {
            "text/plain": [
              "<Figure size 720x432 with 1 Axes>"
            ],
            "image/png": "[encoded data removed]"
          },
          "metadata": {}
        }
      ]
    },
    {
      "cell_type": "code",
      "source": [
        "data['payment'].value_counts()"
      ],
      "metadata": {
        "colab": {
          "base_uri": "https://localhost:8080/"
        },
        "id": "hD9OPKypcT78",
        "outputId": "254e3e40-91d3-4951-c9bd-06e1ee45e4a7"
      },
      "execution_count": 15,
      "outputs": [
        {
          "output_type": "execute_result",
          "data": {
            "text/plain": [
              "0    4284\n",
              "1     423\n",
              "2     114\n",
              "3      18\n",
              "4       7\n",
              "5       1\n",
              "Name: payment, dtype: int64"
            ]
          },
          "metadata": {},
          "execution_count": 15
        }
      ]
    },
    {
      "cell_type": "markdown",
      "source": [
        "**Комментарий:**\n",
        "<br>Большинство клиентов не сталкивалось со страховыми случаями. Есть аномальные, на мой взгляд, значения - 4 и 5 выплат. Однако, я бы не стала эти значения удалять."
      ],
      "metadata": {
        "id": "fPmCxf4ecZE5"
      }
    },
    {
      "cell_type": "code",
      "execution_count": 16,
      "metadata": {
        "colab": {
          "base_uri": "https://localhost:8080/",
          "height": 635
        },
        "id": "zaahcEl5LrrH",
        "outputId": "ed95ca52-98df-4284-b67b-a978087f1c94"
      },
      "outputs": [
        {
          "output_type": "execute_result",
          "data": {
            "text/plain": [
              "Text(0.5, 1.0, 'Тепловая карта корреляции')"
            ]
          },
          "metadata": {},
          "execution_count": 16
        },
        {
          "output_type": "display_data",
          "data": {
            "text/plain": [
              "<Figure size 1080x720 with 2 Axes>"
            ],
            "image/png": "[encoded data removed]"
          },
          "metadata": {}
        }
      ],
      "source": [
        "# посмотрим на взаимосвязь данных\n",
        "\n",
        "plt.figure(figsize=(15,10))\n",
        "\n",
        "sns.heatmap(data.corr(), annot=True, square=True, center=0, fmt='.1g', cmap='PRGn', linewidths=3, linecolor='black')\n",
        "plt.title(label='Тепловая карта корреляции', fontsize=20)"
      ]
    },
    {
      "cell_type": "markdown",
      "source": [
        "**Комментарий:**\n",
        "<br>Наблюдаем сильную корреляцию между возрастом и страховыми выплатами. В целом выглядит это достаточно логично, так как, вероятнее всего, чем старше человек, тем более расширенный пакет страховки он может себе позволить. Хотя корреляции между возрастом и зарплатой мы не наблюдаем."
      ],
      "metadata": {
        "id": "oTOGHWRdDkZT"
      }
    },
    {
      "cell_type": "code",
      "execution_count": 17,
      "metadata": {
        "id": "gudS7q9DLrrH"
      },
      "outputs": [],
      "source": [
        "#разделим данные на признаки и целевой признак\n",
        "\n",
        "target = data['payment']\n",
        "features = data.drop(['payment'], axis=1)"
      ]
    },
    {
      "cell_type": "code",
      "execution_count": 18,
      "metadata": {
        "id": "5QD2Gw9dLrrH"
      },
      "outputs": [],
      "source": [
        "#поделим признаки и целевой признак на обучающую и тренеровочную выборки\n",
        "\n",
        "features_train, features_test, target_train, target_test = train_test_split(features, target, test_size=0.25, random_state=12345)"
      ]
    },
    {
      "cell_type": "code",
      "execution_count": 19,
      "metadata": {
        "colab": {
          "base_uri": "https://localhost:8080/"
        },
        "id": "8PJTrbigLrrH",
        "outputId": "765154c8-d6d3-48b5-a7b8-6806f7185000"
      },
      "outputs": [
        {
          "output_type": "stream",
          "name": "stdout",
          "text": [
            "(3635, 4)\n",
            "(1212, 4)\n",
            "(3635,)\n",
            "(1212,)\n"
          ]
        }
      ],
      "source": [
        "print(features_train.shape)\n",
        "print(features_test.shape)\n",
        "print(target_train.shape)\n",
        "print(target_test.shape)"
      ]
    },
    {
      "cell_type": "markdown",
      "metadata": {
        "id": "HbkRXlTjLrrH"
      },
      "source": [
        "**Краткий вывод**\n",
        "\n",
        "- Пропуски в данных отсутствуют.\n",
        "- Названия колонок были переведены на английский для удобства.\n",
        "- Колонка с возрастом была приведена к целочисленному типу.\n",
        "- Были удалены дубликаты в количестве 153 шт.\n",
        "- Были проанализированы все столбцы, аномальные значения выявлены не были.\n",
        "- Был проведен краткий анализ взаимосвязи данных. Корреляция наблюдается между возрастом и страховыми выплатами (целевой признак).\n",
        "- Данные были разделены на целевой признак и остальные признаки.\n",
        "- Признаки и целевой признак были разбиты на обучающую и тестовую выборки."
      ]
    },
    {
      "cell_type": "markdown",
      "metadata": {
        "id": "xctE-wfoLrrI"
      },
      "source": [
        "## Умножение матриц"
      ]
    },
    {
      "cell_type": "markdown",
      "metadata": {
        "id": "MkFQC_BGLrrI"
      },
      "source": [
        "Обозначения:\n",
        "\n",
        "- $X$ — матрица признаков (нулевой столбец состоит из единиц)\n",
        "\n",
        "- $y$ — вектор целевого признака\n",
        "\n",
        "- $P$ — матрица, на которую умножаются признаки\n",
        "\n",
        "- $w$ — вектор весов линейной регрессии (нулевой элемент равен сдвигу)"
      ]
    },
    {
      "cell_type": "markdown",
      "metadata": {
        "id": "hG5gsG5-LrrJ"
      },
      "source": [
        "Предсказания:\n",
        "\n",
        "$$\n",
        "a = Xw\n",
        "$$\n",
        "\n",
        "Задача обучения:\n",
        "\n",
        "$$\n",
        "w = \\arg\\min_w MSE(Xw, y)\n",
        "$$\n",
        "\n",
        "Формула обучения:\n",
        "\n",
        "$$\n",
        "w = (X^T X)^{-1} X^T y\n",
        "$$"
      ]
    },
    {
      "cell_type": "markdown",
      "metadata": {
        "id": "GZ-_2Q9FLrrJ"
      },
      "source": [
        "**Вопрос:** Признаки умножают на обратимую матрицу. Изменится ли качество линейной регрессии? (Её можно обучить заново.)\n",
        "\n",
        "**Ответ:** Нет, не изменится.\n",
        "\n",
        "**Обоснование:**"
      ]
    },
    {
      "cell_type": "markdown",
      "metadata": {
        "id": "jbAUs0A0LrrJ"
      },
      "source": [
        "1. Введем новую переменную **Xi**, она получается из произведения матрицы признаков на произвольную матрицу.\n",
        "\n",
        "$$\n",
        "Xi = X * P\n",
        "$$"
      ]
    },
    {
      "cell_type": "markdown",
      "metadata": {
        "id": "wRWfrA9uLrrJ"
      },
      "source": [
        "2. Сделаем обучение заново (**wi**), подставим **Xi** в формулу обучения.\n",
        "\n",
        "$$\n",
        "wi = ((XP)^T XP)^{-1} (XP)^T y\n",
        "$$"
      ]
    },
    {
      "cell_type": "markdown",
      "metadata": {
        "id": "IZdOvh-GLrrJ"
      },
      "source": [
        "3. Раскроем скобки у **$(XP)^T$**.\n",
        "\n",
        "$$\n",
        "wi = (X^TP^T XP)^{-1} X^TP^T y\n",
        "$$"
      ]
    },
    {
      "cell_type": "markdown",
      "metadata": {
        "id": "BxRB3Zc4LrrK"
      },
      "source": [
        "4. Разобьем скобку **$(X^TP^T XP)^{-1}$**.\n",
        "\n",
        "$$\n",
        "wi = P^{-1}(X^T X)^{-1} (P^T)^{-1} P^T X^T y\n",
        "$$"
      ]
    },
    {
      "cell_type": "markdown",
      "metadata": {
        "id": "VfKScvAHLrrK"
      },
      "source": [
        "5. По условию матрица P обратимая, поэтому произведение **$(P^T)^{-1} P^T$** равно единичной матрице E.\n",
        "\n",
        "$$\n",
        "wi = P^{-1}(X^T X)^{-1} EX^T y\n",
        "$$"
      ]
    },
    {
      "cell_type": "markdown",
      "metadata": {
        "id": "S5Zg3xQvLrrK"
      },
      "source": [
        "6. Умножение любой матрицы на единичную равно этой же матрице.\n",
        "\n",
        "$$\n",
        "wi = P^{-1}(X^T X)^{-1} X^T y\n",
        "$$"
      ]
    },
    {
      "cell_type": "markdown",
      "metadata": {
        "id": "yRykToGCLrrK"
      },
      "source": [
        "7. После преобразования получилась формула обучения.\n",
        "\n",
        "$$\n",
        "wi = P^{-1} w\n",
        "$$"
      ]
    },
    {
      "cell_type": "markdown",
      "metadata": {
        "id": "FBy9nb9LLrrK"
      },
      "source": [
        "8. Подставим в формулу предсказания значения **Xi** и **wi** , чтобы вычислить предсказания модели **ai**.\n",
        "\n",
        "$$\n",
        "ai = Xiwi\n",
        "$$"
      ]
    },
    {
      "cell_type": "markdown",
      "metadata": {
        "id": "xH-NDKsOLrrK"
      },
      "source": [
        "9. Продолжим наши преобразования разложив **Xi** и **wi**\n",
        "\n",
        "$$\n",
        "ai = XPP^{-1}(X^T X)^{-1} X^T y\n",
        "$$"
      ]
    },
    {
      "cell_type": "markdown",
      "metadata": {
        "id": "oTBMC0B-LrrK"
      },
      "source": [
        "10. Произведение **$PP^{-1}$** равно единичной матрице.\n",
        "\n",
        "$$\n",
        "ai = XE(X^T X)^{-1} X^T y = X(X^T X)^{-1} X^T y\n",
        "$$"
      ]
    },
    {
      "cell_type": "markdown",
      "metadata": {
        "id": "e1L1M7txLrrK"
      },
      "source": [
        "11. Сократим запись.\n",
        "\n",
        "$$\n",
        "ai = Xw\n",
        "$$"
      ]
    },
    {
      "cell_type": "markdown",
      "metadata": {
        "id": "rTkcxTrvLrrK"
      },
      "source": [
        "Таким образом преобразовав формулу мы получили результат, в котором предсказания ai равны предсказаниям a."
      ]
    },
    {
      "cell_type": "markdown",
      "metadata": {
        "id": "gciztHG8LrrL"
      },
      "source": [
        "## Алгоритм преобразования"
      ]
    },
    {
      "cell_type": "markdown",
      "metadata": {
        "id": "ljLcqSIULrrL"
      },
      "source": [
        "**Алгоритм**\n",
        "\n",
        "Для алгоритма перемножим матрицу X на случайную обратимую матрицу P, которую создадим с помощью np.random.normal"
      ]
    },
    {
      "cell_type": "markdown",
      "metadata": {
        "id": "7W1p_tmxLrrL"
      },
      "source": [
        "**Обоснование**"
      ]
    },
    {
      "cell_type": "code",
      "execution_count": 20,
      "metadata": {
        "colab": {
          "base_uri": "https://localhost:8080/"
        },
        "id": "3qnOj5fHLrrL",
        "outputId": "6c252112-ac34-434d-a187-53d1e1e4b58e"
      },
      "outputs": [
        {
          "output_type": "execute_result",
          "data": {
            "text/plain": [
              "array([[-0.46978859, -0.56653444, -0.67863788, -0.52120621],\n",
              "       [-0.57999346, -0.50038919,  0.1663999 ,  0.4754121 ],\n",
              "       [-0.66577798,  1.05961262, -0.75691717, -0.42919582],\n",
              "       [ 1.43663231, -1.01609072, -0.03095547,  0.10755527]])"
            ]
          },
          "metadata": {},
          "execution_count": 20
        }
      ],
      "source": [
        "# создадим случайную матрицу P размерностью 4х4\n",
        "\n",
        "matrix_p =  np.random.normal(size=(features.shape[1],features.shape[1]))\n",
        "matrix_p"
      ]
    },
    {
      "cell_type": "code",
      "execution_count": 21,
      "metadata": {
        "colab": {
          "base_uri": "https://localhost:8080/"
        },
        "id": "2j19af-3LrrL",
        "outputId": "6e604d2a-ebc2-41b5-c737-9d201de97be9"
      },
      "outputs": [
        {
          "output_type": "execute_result",
          "data": {
            "text/plain": [
              "array([[ 1.,  0.,  0., -0.],\n",
              "       [-0.,  1., -0., -0.],\n",
              "       [-0., -0.,  1.,  0.],\n",
              "       [-0., -0., -0.,  1.]])"
            ]
          },
          "metadata": {},
          "execution_count": 21
        }
      ],
      "source": [
        "# проверим матрицу на обратимость, на главной диагонали должны быть единицы, \n",
        "# когда перемножаем матрицу с ее обратной матрицей\n",
        "\n",
        "matrix_p = np.linalg.inv(matrix_p)\n",
        "np.round(matrix_p @ np.linalg.inv(matrix_p))"
      ]
    },
    {
      "cell_type": "code",
      "execution_count": 22,
      "metadata": {
        "id": "ZEweFNY1LrrL"
      },
      "outputs": [],
      "source": [
        "# преобразуем features в матрицы\n",
        "\n",
        "features_train_m = features_train.values\n",
        "features_test_m = features_test.values "
      ]
    },
    {
      "cell_type": "code",
      "execution_count": 23,
      "metadata": {
        "id": "Yc3iH8FvLrrM"
      },
      "outputs": [],
      "source": [
        "# перемножим матрицы с признаками на случайную матрицу\n",
        "\n",
        "features_random_and_train = features_train_m.dot(matrix_p)\n",
        "features_random_and_test = features_test_m.dot(matrix_p)"
      ]
    },
    {
      "cell_type": "code",
      "execution_count": 24,
      "metadata": {
        "id": "uodTgBU7LrrM"
      },
      "outputs": [],
      "source": [
        "# перемножим обучающую выборку с обратной случайной матрицей\n",
        "\n",
        "final_features = features_random_and_train.dot(np.linalg.inv(matrix_p))"
      ]
    },
    {
      "cell_type": "code",
      "execution_count": 25,
      "metadata": {
        "id": "nhFHg0GlLrrM"
      },
      "outputs": [],
      "source": [
        "# соберем таблицу\n",
        "\n",
        "features_train_table = pd.DataFrame(final_features, columns=features_train.columns)\n",
        "features_train_table = np.round(features_train_table)"
      ]
    },
    {
      "cell_type": "code",
      "execution_count": 26,
      "metadata": {
        "scrolled": true,
        "colab": {
          "base_uri": "https://localhost:8080/",
          "height": 849
        },
        "id": "cLcKICGwLrrM",
        "outputId": "e8f16d29-2383-4cdc-f2b0-0475063a75e3"
      },
      "outputs": [
        {
          "output_type": "display_data",
          "data": {
            "text/plain": [
              "      gender   age   income  family_members\n",
              "0       -0.0  22.0  48400.0             2.0\n",
              "1       -0.0  40.0  38000.0            -0.0\n",
              "2       -0.0  24.0  33700.0             3.0\n",
              "3       -0.0  28.0  30500.0             1.0\n",
              "4        1.0  31.0  38700.0             1.0\n",
              "...      ...   ...      ...             ...\n",
              "3630     1.0  35.0  51500.0             3.0\n",
              "3631    -0.0  21.0  41000.0             1.0\n",
              "3632     1.0  27.0  57300.0             1.0\n",
              "3633     1.0  33.0  41100.0             1.0\n",
              "3634     1.0  45.0  49100.0             0.0\n",
              "\n",
              "[3635 rows x 4 columns]"
            ],
            "text/html": [
              "\n",
              "  <div id=\"df-41ea799e-7b55-4450-a523-2424945b5ba8\">\n",
              "    <div class=\"colab-df-container\">\n",
              "      <div>\n",
              "<style scoped>\n",
              "    .dataframe tbody tr th:only-of-type {\n",
              "        vertical-align: middle;\n",
              "    }\n",
              "\n",
              "    .dataframe tbody tr th {\n",
              "        vertical-align: top;\n",
              "    }\n",
              "\n",
              "    .dataframe thead th {\n",
              "        text-align: right;\n",
              "    }\n",
              "</style>\n",
              "<table border=\"1\" class=\"dataframe\">\n",
              "  <thead>\n",
              "    <tr style=\"text-align: right;\">\n",
              "      <th></th>\n",
              "      <th>gender</th>\n",
              "      <th>age</th>\n",
              "      <th>income</th>\n",
              "      <th>family_members</th>\n",
              "    </tr>\n",
              "  </thead>\n",
              "  <tbody>\n",
              "    <tr>\n",
              "      <th>0</th>\n",
              "      <td>-0.0</td>\n",
              "      <td>22.0</td>\n",
              "      <td>48400.0</td>\n",
              "      <td>2.0</td>\n",
              "    </tr>\n",
              "    <tr>\n",
              "      <th>1</th>\n",
              "      <td>-0.0</td>\n",
              "      <td>40.0</td>\n",
              "      <td>38000.0</td>\n",
              "      <td>-0.0</td>\n",
              "    </tr>\n",
              "    <tr>\n",
              "      <th>2</th>\n",
              "      <td>-0.0</td>\n",
              "      <td>24.0</td>\n",
              "      <td>33700.0</td>\n",
              "      <td>3.0</td>\n",
              "    </tr>\n",
              "    <tr>\n",
              "      <th>3</th>\n",
              "      <td>-0.0</td>\n",
              "      <td>28.0</td>\n",
              "      <td>30500.0</td>\n",
              "      <td>1.0</td>\n",
              "    </tr>\n",
              "    <tr>\n",
              "      <th>4</th>\n",
              "      <td>1.0</td>\n",
              "      <td>31.0</td>\n",
              "      <td>38700.0</td>\n",
              "      <td>1.0</td>\n",
              "    </tr>\n",
              "    <tr>\n",
              "      <th>...</th>\n",
              "      <td>...</td>\n",
              "      <td>...</td>\n",
              "      <td>...</td>\n",
              "      <td>...</td>\n",
              "    </tr>\n",
              "    <tr>\n",
              "      <th>3630</th>\n",
              "      <td>1.0</td>\n",
              "      <td>35.0</td>\n",
              "      <td>51500.0</td>\n",
              "      <td>3.0</td>\n",
              "    </tr>\n",
              "    <tr>\n",
              "      <th>3631</th>\n",
              "      <td>-0.0</td>\n",
              "      <td>21.0</td>\n",
              "      <td>41000.0</td>\n",
              "      <td>1.0</td>\n",
              "    </tr>\n",
              "    <tr>\n",
              "      <th>3632</th>\n",
              "      <td>1.0</td>\n",
              "      <td>27.0</td>\n",
              "      <td>57300.0</td>\n",
              "      <td>1.0</td>\n",
              "    </tr>\n",
              "    <tr>\n",
              "      <th>3633</th>\n",
              "      <td>1.0</td>\n",
              "      <td>33.0</td>\n",
              "      <td>41100.0</td>\n",
              "      <td>1.0</td>\n",
              "    </tr>\n",
              "    <tr>\n",
              "      <th>3634</th>\n",
              "      <td>1.0</td>\n",
              "      <td>45.0</td>\n",
              "      <td>49100.0</td>\n",
              "      <td>0.0</td>\n",
              "    </tr>\n",
              "  </tbody>\n",
              "</table>\n",
              "<p>3635 rows × 4 columns</p>\n",
              "</div>\n",
              "      <button class=\"colab-df-convert\" onclick=\"convertToInteractive('df-41ea799e-7b55-4450-a523-2424945b5ba8')\"\n",
              "              title=\"Convert this dataframe to an interactive table.\"\n",
              "              style=\"display:none;\">\n",
              "        \n",
              "  <svg xmlns=\"http://www.w3.org/2000/svg\" height=\"24px\"viewBox=\"0 0 24 24\"\n",
              "       width=\"24px\">\n",
              "    <path d=\"M0 0h24v24H0V0z\" fill=\"none\"/>\n",
              "    <path d=\"M18.56 5.44l.94 2.06.94-2.06 2.06-.94-2.06-.94-.94-2.06-.94 2.06-2.06.94zm-11 1L8.5 8.5l.94-2.06 2.06-.94-2.06-.94L8.5 2.5l-.94 2.06-2.06.94zm10 10l.94 2.06.94-2.06 2.06-.94-2.06-.94-.94-2.06-.94 2.06-2.06.94z\"/><path d=\"M17.41 7.96l-1.37-1.37c-.4-.4-.92-.59-1.43-.59-.52 0-1.04.2-1.43.59L10.3 9.45l-7.72 7.72c-.78.78-.78 2.05 0 2.83L4 21.41c.39.39.9.59 1.41.59.51 0 1.02-.2 1.41-.59l7.78-7.78 2.81-2.81c.8-.78.8-2.07 0-2.86zM5.41 20L4 18.59l7.72-7.72 1.47 1.35L5.41 20z\"/>\n",
              "  </svg>\n",
              "      </button>\n",
              "      \n",
              "  <style>\n",
              "    .colab-df-container {\n",
              "      display:flex;\n",
              "      flex-wrap:wrap;\n",
              "      gap: 12px;\n",
              "    }\n",
              "\n",
              "    .colab-df-convert {\n",
              "      background-color: #E8F0FE;\n",
              "      border: none;\n",
              "      border-radius: 50%;\n",
              "      cursor: pointer;\n",
              "      display: none;\n",
              "      fill: #1967D2;\n",
              "      height: 32px;\n",
              "      padding: 0 0 0 0;\n",
              "      width: 32px;\n",
              "    }\n",
              "\n",
              "    .colab-df-convert:hover {\n",
              "      background-color: #E2EBFA;\n",
              "      box-shadow: 0px 1px 2px rgba(60, 64, 67, 0.3), 0px 1px 3px 1px rgba(60, 64, 67, 0.15);\n",
              "      fill: #174EA6;\n",
              "    }\n",
              "\n",
              "    [theme=dark] .colab-df-convert {\n",
              "      background-color: #3B4455;\n",
              "      fill: #D2E3FC;\n",
              "    }\n",
              "\n",
              "    [theme=dark] .colab-df-convert:hover {\n",
              "      background-color: #434B5C;\n",
              "      box-shadow: 0px 1px 3px 1px rgba(0, 0, 0, 0.15);\n",
              "      filter: drop-shadow(0px 1px 2px rgba(0, 0, 0, 0.3));\n",
              "      fill: #FFFFFF;\n",
              "    }\n",
              "  </style>\n",
              "\n",
              "      <script>\n",
              "        const buttonEl =\n",
              "          document.querySelector('#df-41ea799e-7b55-4450-a523-2424945b5ba8 button.colab-df-convert');\n",
              "        buttonEl.style.display =\n",
              "          google.colab.kernel.accessAllowed ? 'block' : 'none';\n",
              "\n",
              "        async function convertToInteractive(key) {\n",
              "          const element = document.querySelector('#df-41ea799e-7b55-4450-a523-2424945b5ba8');\n",
              "          const dataTable =\n",
              "            await google.colab.kernel.invokeFunction('convertToInteractive',\n",
              "                                                     [key], {});\n",
              "          if (!dataTable) return;\n",
              "\n",
              "          const docLinkHtml = 'Like what you see? Visit the ' +\n",
              "            '<a target=\"_blank\" href=https://colab.research.google.com/notebooks/data_table.ipynb>data table notebook</a>'\n",
              "            + ' to learn more about interactive tables.';\n",
              "          element.innerHTML = '';\n",
              "          dataTable['output_type'] = 'display_data';\n",
              "          await google.colab.output.renderOutput(dataTable, element);\n",
              "          const docLink = document.createElement('div');\n",
              "          docLink.innerHTML = docLinkHtml;\n",
              "          element.appendChild(docLink);\n",
              "        }\n",
              "      </script>\n",
              "    </div>\n",
              "  </div>\n",
              "  "
            ]
          },
          "metadata": {}
        },
        {
          "output_type": "stream",
          "name": "stdout",
          "text": [
            "\n"
          ]
        },
        {
          "output_type": "display_data",
          "data": {
            "text/plain": [
              "      gender  age   income  family_members\n",
              "4613       0   22  48400.0               2\n",
              "3920       0   40  38000.0               0\n",
              "4714       0   24  33700.0               3\n",
              "1472       0   28  30500.0               1\n",
              "777        1   31  38700.0               1\n",
              "...      ...  ...      ...             ...\n",
              "3642       1   35  51500.0               3\n",
              "3637       0   21  41000.0               1\n",
              "2292       1   27  57300.0               1\n",
              "3703       1   33  41100.0               1\n",
              "4731       1   45  49100.0               0\n",
              "\n",
              "[3635 rows x 4 columns]"
            ],
            "text/html": [
              "\n",
              "  <div id=\"df-2f86d7fa-48ad-4754-8ede-d2c01aca00fc\">\n",
              "    <div class=\"colab-df-container\">\n",
              "      <div>\n",
              "<style scoped>\n",
              "    .dataframe tbody tr th:only-of-type {\n",
              "        vertical-align: middle;\n",
              "    }\n",
              "\n",
              "    .dataframe tbody tr th {\n",
              "        vertical-align: top;\n",
              "    }\n",
              "\n",
              "    .dataframe thead th {\n",
              "        text-align: right;\n",
              "    }\n",
              "</style>\n",
              "<table border=\"1\" class=\"dataframe\">\n",
              "  <thead>\n",
              "    <tr style=\"text-align: right;\">\n",
              "      <th></th>\n",
              "      <th>gender</th>\n",
              "      <th>age</th>\n",
              "      <th>income</th>\n",
              "      <th>family_members</th>\n",
              "    </tr>\n",
              "  </thead>\n",
              "  <tbody>\n",
              "    <tr>\n",
              "      <th>4613</th>\n",
              "      <td>0</td>\n",
              "      <td>22</td>\n",
              "      <td>48400.0</td>\n",
              "      <td>2</td>\n",
              "    </tr>\n",
              "    <tr>\n",
              "      <th>3920</th>\n",
              "      <td>0</td>\n",
              "      <td>40</td>\n",
              "      <td>38000.0</td>\n",
              "      <td>0</td>\n",
              "    </tr>\n",
              "    <tr>\n",
              "      <th>4714</th>\n",
              "      <td>0</td>\n",
              "      <td>24</td>\n",
              "      <td>33700.0</td>\n",
              "      <td>3</td>\n",
              "    </tr>\n",
              "    <tr>\n",
              "      <th>1472</th>\n",
              "      <td>0</td>\n",
              "      <td>28</td>\n",
              "      <td>30500.0</td>\n",
              "      <td>1</td>\n",
              "    </tr>\n",
              "    <tr>\n",
              "      <th>777</th>\n",
              "      <td>1</td>\n",
              "      <td>31</td>\n",
              "      <td>38700.0</td>\n",
              "      <td>1</td>\n",
              "    </tr>\n",
              "    <tr>\n",
              "      <th>...</th>\n",
              "      <td>...</td>\n",
              "      <td>...</td>\n",
              "      <td>...</td>\n",
              "      <td>...</td>\n",
              "    </tr>\n",
              "    <tr>\n",
              "      <th>3642</th>\n",
              "      <td>1</td>\n",
              "      <td>35</td>\n",
              "      <td>51500.0</td>\n",
              "      <td>3</td>\n",
              "    </tr>\n",
              "    <tr>\n",
              "      <th>3637</th>\n",
              "      <td>0</td>\n",
              "      <td>21</td>\n",
              "      <td>41000.0</td>\n",
              "      <td>1</td>\n",
              "    </tr>\n",
              "    <tr>\n",
              "      <th>2292</th>\n",
              "      <td>1</td>\n",
              "      <td>27</td>\n",
              "      <td>57300.0</td>\n",
              "      <td>1</td>\n",
              "    </tr>\n",
              "    <tr>\n",
              "      <th>3703</th>\n",
              "      <td>1</td>\n",
              "      <td>33</td>\n",
              "      <td>41100.0</td>\n",
              "      <td>1</td>\n",
              "    </tr>\n",
              "    <tr>\n",
              "      <th>4731</th>\n",
              "      <td>1</td>\n",
              "      <td>45</td>\n",
              "      <td>49100.0</td>\n",
              "      <td>0</td>\n",
              "    </tr>\n",
              "  </tbody>\n",
              "</table>\n",
              "<p>3635 rows × 4 columns</p>\n",
              "</div>\n",
              "      <button class=\"colab-df-convert\" onclick=\"convertToInteractive('df-2f86d7fa-48ad-4754-8ede-d2c01aca00fc')\"\n",
              "              title=\"Convert this dataframe to an interactive table.\"\n",
              "              style=\"display:none;\">\n",
              "        \n",
              "  <svg xmlns=\"http://www.w3.org/2000/svg\" height=\"24px\"viewBox=\"0 0 24 24\"\n",
              "       width=\"24px\">\n",
              "    <path d=\"M0 0h24v24H0V0z\" fill=\"none\"/>\n",
              "    <path d=\"M18.56 5.44l.94 2.06.94-2.06 2.06-.94-2.06-.94-.94-2.06-.94 2.06-2.06.94zm-11 1L8.5 8.5l.94-2.06 2.06-.94-2.06-.94L8.5 2.5l-.94 2.06-2.06.94zm10 10l.94 2.06.94-2.06 2.06-.94-2.06-.94-.94-2.06-.94 2.06-2.06.94z\"/><path d=\"M17.41 7.96l-1.37-1.37c-.4-.4-.92-.59-1.43-.59-.52 0-1.04.2-1.43.59L10.3 9.45l-7.72 7.72c-.78.78-.78 2.05 0 2.83L4 21.41c.39.39.9.59 1.41.59.51 0 1.02-.2 1.41-.59l7.78-7.78 2.81-2.81c.8-.78.8-2.07 0-2.86zM5.41 20L4 18.59l7.72-7.72 1.47 1.35L5.41 20z\"/>\n",
              "  </svg>\n",
              "      </button>\n",
              "      \n",
              "  <style>\n",
              "    .colab-df-container {\n",
              "      display:flex;\n",
              "      flex-wrap:wrap;\n",
              "      gap: 12px;\n",
              "    }\n",
              "\n",
              "    .colab-df-convert {\n",
              "      background-color: #E8F0FE;\n",
              "      border: none;\n",
              "      border-radius: 50%;\n",
              "      cursor: pointer;\n",
              "      display: none;\n",
              "      fill: #1967D2;\n",
              "      height: 32px;\n",
              "      padding: 0 0 0 0;\n",
              "      width: 32px;\n",
              "    }\n",
              "\n",
              "    .colab-df-convert:hover {\n",
              "      background-color: #E2EBFA;\n",
              "      box-shadow: 0px 1px 2px rgba(60, 64, 67, 0.3), 0px 1px 3px 1px rgba(60, 64, 67, 0.15);\n",
              "      fill: #174EA6;\n",
              "    }\n",
              "\n",
              "    [theme=dark] .colab-df-convert {\n",
              "      background-color: #3B4455;\n",
              "      fill: #D2E3FC;\n",
              "    }\n",
              "\n",
              "    [theme=dark] .colab-df-convert:hover {\n",
              "      background-color: #434B5C;\n",
              "      box-shadow: 0px 1px 3px 1px rgba(0, 0, 0, 0.15);\n",
              "      filter: drop-shadow(0px 1px 2px rgba(0, 0, 0, 0.3));\n",
              "      fill: #FFFFFF;\n",
              "    }\n",
              "  </style>\n",
              "\n",
              "      <script>\n",
              "        const buttonEl =\n",
              "          document.querySelector('#df-2f86d7fa-48ad-4754-8ede-d2c01aca00fc button.colab-df-convert');\n",
              "        buttonEl.style.display =\n",
              "          google.colab.kernel.accessAllowed ? 'block' : 'none';\n",
              "\n",
              "        async function convertToInteractive(key) {\n",
              "          const element = document.querySelector('#df-2f86d7fa-48ad-4754-8ede-d2c01aca00fc');\n",
              "          const dataTable =\n",
              "            await google.colab.kernel.invokeFunction('convertToInteractive',\n",
              "                                                     [key], {});\n",
              "          if (!dataTable) return;\n",
              "\n",
              "          const docLinkHtml = 'Like what you see? Visit the ' +\n",
              "            '<a target=\"_blank\" href=https://colab.research.google.com/notebooks/data_table.ipynb>data table notebook</a>'\n",
              "            + ' to learn more about interactive tables.';\n",
              "          element.innerHTML = '';\n",
              "          dataTable['output_type'] = 'display_data';\n",
              "          await google.colab.output.renderOutput(dataTable, element);\n",
              "          const docLink = document.createElement('div');\n",
              "          docLink.innerHTML = docLinkHtml;\n",
              "          element.appendChild(docLink);\n",
              "        }\n",
              "      </script>\n",
              "    </div>\n",
              "  </div>\n",
              "  "
            ]
          },
          "metadata": {}
        }
      ],
      "source": [
        "display(features_train_table)\n",
        "print()\n",
        "display(features_train)"
      ]
    },
    {
      "cell_type": "markdown",
      "metadata": {
        "id": "RUaVoFzDLrrM"
      },
      "source": [
        "**Краткий вывод:** \n",
        "<br>Данные не изменились, следовательно качество линейной регрессии не поменяется. "
      ]
    },
    {
      "cell_type": "markdown",
      "metadata": {
        "id": "99RaDNB_LrrM"
      },
      "source": [
        "## Проверка алгоритма"
      ]
    },
    {
      "cell_type": "code",
      "execution_count": 27,
      "metadata": {
        "colab": {
          "base_uri": "https://localhost:8080/"
        },
        "id": "HOfjg3OVLrrM",
        "outputId": "05814486-c124-477a-db33-995ead00e141"
      },
      "outputs": [
        {
          "output_type": "stream",
          "name": "stdout",
          "text": [
            "R2 для модели с изначальными данными: 0.45\n"
          ]
        }
      ],
      "source": [
        "#обучим модель линейной регрессии\n",
        "\n",
        "model = LinearRegression()\n",
        "model.fit(features_train, target_train)\n",
        "\n",
        "r2 = model.score(features_test, target_test)\n",
        "print('R2 для модели с изначальными данными: {:.2f}'.format(r2))"
      ]
    },
    {
      "cell_type": "code",
      "execution_count": 28,
      "metadata": {
        "colab": {
          "base_uri": "https://localhost:8080/"
        },
        "id": "FtjcJYNBLrrM",
        "outputId": "1881b8eb-455c-4f86-c648-6f4d0a231f2b"
      },
      "outputs": [
        {
          "output_type": "stream",
          "name": "stdout",
          "text": [
            "R2 для модели с матричным преобразованием: 0.45\n"
          ]
        }
      ],
      "source": [
        "#обучим модель линейной регрессии, но используем матричное преобразование\n",
        "\n",
        "model_matrix = LinearRegression()\n",
        "model_matrix.fit(features_random_and_train, target_train)\n",
        "\n",
        "r2_m = model_matrix.score(features_random_and_test, target_test)\n",
        "print('R2 для модели с матричным преобразованием: {:.2f}'.format(r2_m))"
      ]
    },
    {
      "cell_type": "markdown",
      "metadata": {
        "id": "E2KraC4KLrrN"
      },
      "source": [
        "**Краткий вывод:** \n",
        "<br>Показатели метрики R2 равны, что означает, что алгоритм рабочий."
      ]
    },
    {
      "cell_type": "markdown",
      "metadata": {
        "id": "3h88ievALrrN"
      },
      "source": [
        "## Вывод по работе"
      ]
    },
    {
      "cell_type": "markdown",
      "metadata": {
        "id": "g66NOGWzLrrN"
      },
      "source": [
        "- Данные прошли первичную предобработку.\n",
        "- Во 2 разделе мы произвели преобразование формулы, тем самым доказав, что качество линейной регрессии не меняется, если признаки будут умножены на обратимую матрицу.\n",
        "- Был проверен алгоритм линейной регрессии, который оказался рабочим, так как метрики R2 для двух моделей равны.\n",
        "- Результат говорит нам о том, что нам удалось успешно защитить данные пользователей, не потеряв при этом качество алгоритма."
      ]
    }
  ],
  "metadata": {
    "ExecuteTimeLog": [
      {
        "duration": 1372,
        "start_time": "2022-02-21T14:02:44.166Z"
      },
      {
        "duration": 25,
        "start_time": "2022-02-21T14:03:59.211Z"
      },
      {
        "duration": 22,
        "start_time": "2022-02-21T14:04:05.794Z"
      },
      {
        "duration": 9,
        "start_time": "2022-02-21T14:04:15.924Z"
      },
      {
        "duration": 192,
        "start_time": "2022-02-21T14:35:34.709Z"
      },
      {
        "duration": 572,
        "start_time": "2022-02-21T14:35:54.627Z"
      },
      {
        "duration": 5,
        "start_time": "2022-02-21T14:50:12.864Z"
      },
      {
        "duration": 551,
        "start_time": "2022-02-21T14:50:15.042Z"
      },
      {
        "duration": 5,
        "start_time": "2022-02-21T14:54:33.828Z"
      },
      {
        "duration": 480,
        "start_time": "2022-02-21T14:54:36.628Z"
      },
      {
        "duration": 9,
        "start_time": "2022-02-21T14:55:12.089Z"
      },
      {
        "duration": 1121,
        "start_time": "2022-02-22T08:59:39.638Z"
      },
      {
        "duration": 107,
        "start_time": "2022-02-22T08:59:40.761Z"
      },
      {
        "duration": 12,
        "start_time": "2022-02-22T08:59:40.870Z"
      },
      {
        "duration": 6,
        "start_time": "2022-02-22T08:59:40.884Z"
      },
      {
        "duration": 4,
        "start_time": "2022-02-22T08:59:40.891Z"
      },
      {
        "duration": 4,
        "start_time": "2022-02-22T08:59:40.897Z"
      },
      {
        "duration": 342,
        "start_time": "2022-02-22T08:59:40.902Z"
      },
      {
        "duration": 3,
        "start_time": "2022-02-22T13:01:21.941Z"
      },
      {
        "duration": 64,
        "start_time": "2022-02-22T13:01:21.951Z"
      },
      {
        "duration": 8,
        "start_time": "2022-02-22T13:01:22.017Z"
      },
      {
        "duration": 5,
        "start_time": "2022-02-22T13:01:22.027Z"
      },
      {
        "duration": 4,
        "start_time": "2022-02-22T13:01:22.034Z"
      },
      {
        "duration": 4,
        "start_time": "2022-02-22T13:01:22.040Z"
      },
      {
        "duration": 308,
        "start_time": "2022-02-22T13:01:22.046Z"
      },
      {
        "duration": 1518,
        "start_time": "2022-02-25T09:13:59.465Z"
      },
      {
        "duration": 46,
        "start_time": "2022-02-25T09:14:00.986Z"
      },
      {
        "duration": 19,
        "start_time": "2022-02-25T09:14:01.035Z"
      },
      {
        "duration": 23,
        "start_time": "2022-02-25T09:14:01.057Z"
      },
      {
        "duration": 18,
        "start_time": "2022-02-25T09:14:01.082Z"
      },
      {
        "duration": 35,
        "start_time": "2022-02-25T09:14:01.102Z"
      },
      {
        "duration": 661,
        "start_time": "2022-02-25T09:14:01.140Z"
      },
      {
        "duration": 1220,
        "start_time": "2022-02-25T09:50:26.130Z"
      },
      {
        "duration": 19,
        "start_time": "2022-02-25T09:50:27.352Z"
      },
      {
        "duration": 13,
        "start_time": "2022-02-25T09:50:27.374Z"
      },
      {
        "duration": 11,
        "start_time": "2022-02-25T09:50:27.389Z"
      },
      {
        "duration": 14,
        "start_time": "2022-02-25T09:50:27.401Z"
      },
      {
        "duration": 7,
        "start_time": "2022-02-25T09:50:27.417Z"
      },
      {
        "duration": 356,
        "start_time": "2022-02-25T09:50:27.425Z"
      },
      {
        "duration": 50,
        "start_time": "2022-02-25T10:04:41.969Z"
      },
      {
        "duration": 5,
        "start_time": "2022-02-25T10:05:01.753Z"
      },
      {
        "duration": 6,
        "start_time": "2022-02-25T11:26:32.380Z"
      },
      {
        "duration": 1600,
        "start_time": "2022-02-25T13:00:55.516Z"
      },
      {
        "duration": 37,
        "start_time": "2022-02-25T13:00:57.119Z"
      },
      {
        "duration": 22,
        "start_time": "2022-02-25T13:00:57.160Z"
      },
      {
        "duration": 17,
        "start_time": "2022-02-25T13:00:57.186Z"
      },
      {
        "duration": 20,
        "start_time": "2022-02-25T13:00:57.206Z"
      },
      {
        "duration": 15,
        "start_time": "2022-02-25T13:00:57.229Z"
      },
      {
        "duration": 721,
        "start_time": "2022-02-25T13:00:57.247Z"
      },
      {
        "duration": 8,
        "start_time": "2022-02-25T13:00:57.972Z"
      },
      {
        "duration": 10,
        "start_time": "2022-02-25T13:00:57.983Z"
      },
      {
        "duration": 30,
        "start_time": "2022-02-25T13:00:57.996Z"
      },
      {
        "duration": 8,
        "start_time": "2022-02-25T13:09:42.540Z"
      },
      {
        "duration": 8,
        "start_time": "2022-02-25T13:09:55.974Z"
      },
      {
        "duration": 518,
        "start_time": "2022-02-25T13:16:11.000Z"
      },
      {
        "duration": 5,
        "start_time": "2022-02-25T13:16:25.819Z"
      },
      {
        "duration": 5,
        "start_time": "2022-02-25T13:16:40.836Z"
      },
      {
        "duration": 37,
        "start_time": "2022-02-25T13:23:15.339Z"
      },
      {
        "duration": 12,
        "start_time": "2022-02-25T13:24:01.709Z"
      },
      {
        "duration": 8,
        "start_time": "2022-02-25T13:24:35.713Z"
      },
      {
        "duration": 6,
        "start_time": "2022-02-25T13:25:04.797Z"
      },
      {
        "duration": 441,
        "start_time": "2022-02-25T13:26:54.821Z"
      },
      {
        "duration": 5,
        "start_time": "2022-02-25T13:27:07.657Z"
      },
      {
        "duration": 5,
        "start_time": "2022-02-25T13:30:47.567Z"
      },
      {
        "duration": 3,
        "start_time": "2022-02-25T13:37:29.732Z"
      },
      {
        "duration": 4,
        "start_time": "2022-02-25T13:37:33.533Z"
      },
      {
        "duration": 4,
        "start_time": "2022-02-25T13:37:57.963Z"
      },
      {
        "duration": 8,
        "start_time": "2022-02-25T13:38:47.018Z"
      },
      {
        "duration": 6,
        "start_time": "2022-02-25T13:39:33.520Z"
      },
      {
        "duration": 3,
        "start_time": "2022-02-25T13:40:21.916Z"
      },
      {
        "duration": 23,
        "start_time": "2022-02-25T13:40:59.437Z"
      },
      {
        "duration": 11,
        "start_time": "2022-02-25T13:41:18.619Z"
      },
      {
        "duration": 12,
        "start_time": "2022-02-25T13:41:31.912Z"
      },
      {
        "duration": 10,
        "start_time": "2022-02-25T13:41:57.838Z"
      },
      {
        "duration": 6,
        "start_time": "2022-02-25T13:42:09.712Z"
      },
      {
        "duration": 8,
        "start_time": "2022-02-25T13:42:12.101Z"
      },
      {
        "duration": 19,
        "start_time": "2022-02-25T13:42:36.558Z"
      },
      {
        "duration": 5,
        "start_time": "2022-02-25T13:43:42.597Z"
      },
      {
        "duration": 28,
        "start_time": "2022-02-25T13:43:51.623Z"
      },
      {
        "duration": 304,
        "start_time": "2022-02-25T13:44:15.084Z"
      },
      {
        "duration": 5,
        "start_time": "2022-02-25T13:44:16.943Z"
      },
      {
        "duration": 311,
        "start_time": "2022-02-25T13:44:19.411Z"
      },
      {
        "duration": 9,
        "start_time": "2022-02-25T13:45:07.367Z"
      },
      {
        "duration": 7,
        "start_time": "2022-02-25T13:45:10.232Z"
      },
      {
        "duration": 9,
        "start_time": "2022-02-25T13:45:22.788Z"
      },
      {
        "duration": 4,
        "start_time": "2022-02-25T13:45:24.112Z"
      },
      {
        "duration": 304,
        "start_time": "2022-02-25T13:45:25.496Z"
      },
      {
        "duration": 4,
        "start_time": "2022-02-25T13:45:48.311Z"
      },
      {
        "duration": 21,
        "start_time": "2022-02-25T13:45:50.285Z"
      },
      {
        "duration": 16,
        "start_time": "2022-02-25T13:45:52.624Z"
      },
      {
        "duration": 4,
        "start_time": "2022-02-25T13:46:25.300Z"
      },
      {
        "duration": 5,
        "start_time": "2022-02-25T13:46:29.348Z"
      },
      {
        "duration": 17,
        "start_time": "2022-02-25T13:46:30.954Z"
      },
      {
        "duration": 17,
        "start_time": "2022-02-25T13:46:33.759Z"
      },
      {
        "duration": 8,
        "start_time": "2022-02-25T13:46:40.104Z"
      },
      {
        "duration": 7,
        "start_time": "2022-02-25T13:46:42.646Z"
      },
      {
        "duration": 7,
        "start_time": "2022-02-25T13:46:47.630Z"
      },
      {
        "duration": 7,
        "start_time": "2022-02-25T13:46:48.657Z"
      },
      {
        "duration": 7,
        "start_time": "2022-02-25T13:46:51.733Z"
      },
      {
        "duration": 4,
        "start_time": "2022-02-25T13:46:55.781Z"
      },
      {
        "duration": 5,
        "start_time": "2022-02-25T13:46:58.215Z"
      },
      {
        "duration": 5,
        "start_time": "2022-02-25T13:47:24.645Z"
      },
      {
        "duration": 18,
        "start_time": "2022-02-25T13:47:26.653Z"
      },
      {
        "duration": 3,
        "start_time": "2022-02-25T13:47:39.457Z"
      },
      {
        "duration": 22,
        "start_time": "2022-02-25T13:47:41.019Z"
      },
      {
        "duration": 6,
        "start_time": "2022-02-25T13:47:47.883Z"
      },
      {
        "duration": 23,
        "start_time": "2022-02-25T13:48:42.319Z"
      },
      {
        "duration": 16,
        "start_time": "2022-02-25T13:49:02.157Z"
      },
      {
        "duration": 3,
        "start_time": "2022-02-25T13:50:26.843Z"
      },
      {
        "duration": 4,
        "start_time": "2022-02-25T13:50:29.351Z"
      },
      {
        "duration": 3,
        "start_time": "2022-02-25T13:50:33.319Z"
      },
      {
        "duration": 4,
        "start_time": "2022-02-25T13:50:37.147Z"
      },
      {
        "duration": 4,
        "start_time": "2022-02-25T13:50:48.400Z"
      },
      {
        "duration": 96,
        "start_time": "2022-02-25T13:50:59.389Z"
      },
      {
        "duration": 4,
        "start_time": "2022-02-25T13:51:03.484Z"
      },
      {
        "duration": 5,
        "start_time": "2022-02-25T13:51:08.379Z"
      },
      {
        "duration": 4,
        "start_time": "2022-02-25T13:51:48.156Z"
      },
      {
        "duration": 320,
        "start_time": "2022-02-25T13:55:46.961Z"
      },
      {
        "duration": 4,
        "start_time": "2022-02-25T13:55:55.980Z"
      },
      {
        "duration": 6,
        "start_time": "2022-02-25T13:56:15.713Z"
      },
      {
        "duration": 6,
        "start_time": "2022-02-25T13:56:33.995Z"
      },
      {
        "duration": 1641,
        "start_time": "2022-02-25T14:01:40.763Z"
      },
      {
        "duration": 29,
        "start_time": "2022-02-25T14:01:42.407Z"
      },
      {
        "duration": 22,
        "start_time": "2022-02-25T14:01:42.439Z"
      },
      {
        "duration": 14,
        "start_time": "2022-02-25T14:01:42.464Z"
      },
      {
        "duration": 9,
        "start_time": "2022-02-25T14:01:42.481Z"
      },
      {
        "duration": 8,
        "start_time": "2022-02-25T14:01:42.492Z"
      },
      {
        "duration": 559,
        "start_time": "2022-02-25T14:01:42.502Z"
      },
      {
        "duration": 7,
        "start_time": "2022-02-25T14:01:43.067Z"
      },
      {
        "duration": 10,
        "start_time": "2022-02-25T14:01:43.079Z"
      },
      {
        "duration": 6,
        "start_time": "2022-02-25T14:01:43.092Z"
      },
      {
        "duration": 7,
        "start_time": "2022-02-25T14:01:43.101Z"
      },
      {
        "duration": 62,
        "start_time": "2022-02-25T14:01:43.110Z"
      },
      {
        "duration": 3,
        "start_time": "2022-02-25T14:01:43.175Z"
      },
      {
        "duration": 82,
        "start_time": "2022-02-25T14:01:43.181Z"
      },
      {
        "duration": 10,
        "start_time": "2022-02-25T14:01:43.266Z"
      },
      {
        "duration": 82,
        "start_time": "2022-02-25T14:01:43.279Z"
      },
      {
        "duration": 6,
        "start_time": "2022-02-25T14:01:43.364Z"
      },
      {
        "duration": 6,
        "start_time": "2022-02-25T14:01:43.373Z"
      },
      {
        "duration": 13,
        "start_time": "2022-02-25T14:01:43.382Z"
      },
      {
        "duration": 12,
        "start_time": "2022-02-25T14:01:43.397Z"
      },
      {
        "duration": 50,
        "start_time": "2022-02-25T14:01:43.412Z"
      },
      {
        "duration": 10,
        "start_time": "2022-02-25T14:01:43.465Z"
      },
      {
        "duration": 486,
        "start_time": "2022-02-25T14:01:43.561Z"
      },
      {
        "duration": 3,
        "start_time": "2022-02-25T14:06:44.203Z"
      },
      {
        "duration": 3,
        "start_time": "2022-02-25T14:06:47.932Z"
      },
      {
        "duration": 4,
        "start_time": "2022-02-25T14:06:54.328Z"
      },
      {
        "duration": 7,
        "start_time": "2022-02-25T14:07:18.776Z"
      },
      {
        "duration": 19,
        "start_time": "2022-02-25T14:07:22.130Z"
      },
      {
        "duration": 15,
        "start_time": "2022-02-25T14:09:39.309Z"
      },
      {
        "duration": 4,
        "start_time": "2022-02-25T14:09:51.814Z"
      },
      {
        "duration": 16,
        "start_time": "2022-02-25T14:09:53.508Z"
      },
      {
        "duration": 9,
        "start_time": "2022-02-25T14:11:31.494Z"
      },
      {
        "duration": 5,
        "start_time": "2022-02-25T14:11:33.313Z"
      },
      {
        "duration": 30,
        "start_time": "2022-02-25T14:12:26.751Z"
      },
      {
        "duration": 8,
        "start_time": "2022-02-25T14:12:36.792Z"
      },
      {
        "duration": 27,
        "start_time": "2022-02-25T14:12:39.217Z"
      },
      {
        "duration": 7,
        "start_time": "2022-02-25T14:12:42.344Z"
      },
      {
        "duration": 7,
        "start_time": "2022-02-25T14:12:44.304Z"
      },
      {
        "duration": 4,
        "start_time": "2022-02-25T14:12:46.364Z"
      },
      {
        "duration": 4,
        "start_time": "2022-02-25T14:12:48.785Z"
      },
      {
        "duration": 4,
        "start_time": "2022-02-25T14:12:50.226Z"
      },
      {
        "duration": 7,
        "start_time": "2022-02-25T14:12:51.477Z"
      },
      {
        "duration": 28,
        "start_time": "2022-02-25T14:12:53.146Z"
      },
      {
        "duration": 392,
        "start_time": "2022-02-25T14:43:59.581Z"
      },
      {
        "duration": 4,
        "start_time": "2022-02-25T14:44:11.376Z"
      },
      {
        "duration": 15,
        "start_time": "2022-02-25T14:44:11.387Z"
      },
      {
        "duration": 15,
        "start_time": "2022-02-25T14:44:11.405Z"
      },
      {
        "duration": 40,
        "start_time": "2022-02-25T14:44:11.424Z"
      },
      {
        "duration": 6,
        "start_time": "2022-02-25T14:44:11.468Z"
      },
      {
        "duration": 9,
        "start_time": "2022-02-25T14:44:11.477Z"
      },
      {
        "duration": 547,
        "start_time": "2022-02-25T14:44:11.489Z"
      },
      {
        "duration": 6,
        "start_time": "2022-02-25T14:44:12.038Z"
      },
      {
        "duration": 20,
        "start_time": "2022-02-25T14:44:12.047Z"
      },
      {
        "duration": 6,
        "start_time": "2022-02-25T14:44:12.071Z"
      },
      {
        "duration": 10,
        "start_time": "2022-02-25T14:44:12.080Z"
      },
      {
        "duration": 8,
        "start_time": "2022-02-25T14:44:12.092Z"
      },
      {
        "duration": 62,
        "start_time": "2022-02-25T14:44:12.102Z"
      },
      {
        "duration": 5,
        "start_time": "2022-02-25T14:44:12.168Z"
      },
      {
        "duration": 93,
        "start_time": "2022-02-25T14:44:12.176Z"
      },
      {
        "duration": 10,
        "start_time": "2022-02-25T14:44:12.271Z"
      },
      {
        "duration": 196,
        "start_time": "2022-02-25T14:44:12.284Z"
      },
      {
        "duration": 330,
        "start_time": "2022-02-25T14:44:12.482Z"
      },
      {
        "duration": 8,
        "start_time": "2022-02-25T14:44:27.808Z"
      },
      {
        "duration": 7,
        "start_time": "2022-02-25T14:47:35.396Z"
      },
      {
        "duration": 143,
        "start_time": "2022-02-25T14:49:16.960Z"
      },
      {
        "duration": 13,
        "start_time": "2022-02-25T14:49:22.826Z"
      },
      {
        "duration": 13,
        "start_time": "2022-02-25T14:49:58.172Z"
      },
      {
        "duration": 8,
        "start_time": "2022-02-25T14:49:59.946Z"
      },
      {
        "duration": 11,
        "start_time": "2022-02-25T14:51:15.745Z"
      },
      {
        "duration": 9,
        "start_time": "2022-02-25T14:51:20.527Z"
      },
      {
        "duration": 9,
        "start_time": "2022-02-25T14:51:40.682Z"
      },
      {
        "duration": 4,
        "start_time": "2022-02-25T14:56:17.574Z"
      },
      {
        "duration": 14,
        "start_time": "2022-02-25T14:56:17.590Z"
      },
      {
        "duration": 14,
        "start_time": "2022-02-25T14:56:17.607Z"
      },
      {
        "duration": 13,
        "start_time": "2022-02-25T14:56:17.625Z"
      },
      {
        "duration": 24,
        "start_time": "2022-02-25T14:56:17.641Z"
      },
      {
        "duration": 8,
        "start_time": "2022-02-25T14:56:17.668Z"
      },
      {
        "duration": 486,
        "start_time": "2022-02-25T14:56:17.678Z"
      },
      {
        "duration": 6,
        "start_time": "2022-02-25T14:56:18.167Z"
      },
      {
        "duration": 11,
        "start_time": "2022-02-25T14:56:18.176Z"
      },
      {
        "duration": 12,
        "start_time": "2022-02-25T14:56:18.190Z"
      },
      {
        "duration": 9,
        "start_time": "2022-02-25T14:56:18.204Z"
      },
      {
        "duration": 50,
        "start_time": "2022-02-25T14:56:18.216Z"
      },
      {
        "duration": 92,
        "start_time": "2022-02-25T14:56:18.270Z"
      },
      {
        "duration": 4,
        "start_time": "2022-02-25T14:56:18.365Z"
      },
      {
        "duration": 5,
        "start_time": "2022-02-25T14:56:18.373Z"
      },
      {
        "duration": 85,
        "start_time": "2022-02-25T14:56:18.380Z"
      },
      {
        "duration": 113,
        "start_time": "2022-02-25T14:56:18.468Z"
      },
      {
        "duration": 15,
        "start_time": "2022-02-25T14:56:18.584Z"
      },
      {
        "duration": 10,
        "start_time": "2022-02-25T14:56:18.603Z"
      },
      {
        "duration": 1548,
        "start_time": "2022-02-25T14:56:29.217Z"
      },
      {
        "duration": 15,
        "start_time": "2022-02-25T14:56:30.767Z"
      },
      {
        "duration": 15,
        "start_time": "2022-02-25T14:56:30.785Z"
      },
      {
        "duration": 22,
        "start_time": "2022-02-25T14:56:30.803Z"
      },
      {
        "duration": 18,
        "start_time": "2022-02-25T14:56:30.828Z"
      },
      {
        "duration": 13,
        "start_time": "2022-02-25T14:56:30.848Z"
      },
      {
        "duration": 497,
        "start_time": "2022-02-25T14:56:30.864Z"
      },
      {
        "duration": 5,
        "start_time": "2022-02-25T14:56:31.365Z"
      },
      {
        "duration": 17,
        "start_time": "2022-02-25T14:56:31.373Z"
      },
      {
        "duration": 10,
        "start_time": "2022-02-25T14:56:31.393Z"
      },
      {
        "duration": 17,
        "start_time": "2022-02-25T14:56:31.406Z"
      },
      {
        "duration": 37,
        "start_time": "2022-02-25T14:56:31.426Z"
      },
      {
        "duration": 5,
        "start_time": "2022-02-25T14:56:31.466Z"
      },
      {
        "duration": 88,
        "start_time": "2022-02-25T14:56:31.474Z"
      },
      {
        "duration": 14,
        "start_time": "2022-02-25T14:56:31.565Z"
      },
      {
        "duration": 96,
        "start_time": "2022-02-25T14:56:31.582Z"
      },
      {
        "duration": 113,
        "start_time": "2022-02-25T14:56:31.682Z"
      },
      {
        "duration": 10,
        "start_time": "2022-02-25T14:56:31.798Z"
      },
      {
        "duration": 18,
        "start_time": "2022-02-25T14:56:31.811Z"
      },
      {
        "duration": 1361,
        "start_time": "2022-02-25T15:14:25.057Z"
      },
      {
        "duration": 116,
        "start_time": "2022-02-25T15:14:26.420Z"
      },
      {
        "duration": 14,
        "start_time": "2022-02-25T15:14:26.539Z"
      },
      {
        "duration": 7,
        "start_time": "2022-02-25T15:14:26.593Z"
      },
      {
        "duration": 4,
        "start_time": "2022-02-25T15:14:30.268Z"
      },
      {
        "duration": 3,
        "start_time": "2022-02-25T15:14:30.630Z"
      },
      {
        "duration": 393,
        "start_time": "2022-02-25T15:14:30.786Z"
      },
      {
        "duration": 4,
        "start_time": "2022-02-25T15:14:31.223Z"
      },
      {
        "duration": 6,
        "start_time": "2022-02-25T15:14:31.910Z"
      },
      {
        "duration": 4,
        "start_time": "2022-02-25T15:14:33.045Z"
      },
      {
        "duration": 6,
        "start_time": "2022-02-25T15:17:46.304Z"
      },
      {
        "duration": 7,
        "start_time": "2022-02-25T15:17:47.028Z"
      },
      {
        "duration": 4,
        "start_time": "2022-02-25T15:19:16.690Z"
      },
      {
        "duration": 4,
        "start_time": "2022-02-25T15:19:17.238Z"
      },
      {
        "duration": 4,
        "start_time": "2022-02-25T15:19:17.457Z"
      },
      {
        "duration": 6,
        "start_time": "2022-02-25T15:19:17.678Z"
      },
      {
        "duration": 22,
        "start_time": "2022-02-25T15:19:18.117Z"
      },
      {
        "duration": 10,
        "start_time": "2022-02-25T15:19:24.046Z"
      },
      {
        "duration": 7,
        "start_time": "2022-02-25T15:19:24.584Z"
      }
    ],
    "kernelspec": {
      "display_name": "Python 3 (ipykernel)",
      "language": "python",
      "name": "python3"
    },
    "language_info": {
      "codemirror_mode": {
        "name": "ipython",
        "version": 3
      },
      "file_extension": ".py",
      "mimetype": "text/x-python",
      "name": "python",
      "nbconvert_exporter": "python",
      "pygments_lexer": "ipython3",
      "version": "3.9.5"
    },
    "toc": {
      "base_numbering": 1,
      "nav_menu": {},
      "number_sections": true,
      "sideBar": true,
      "skip_h1_title": true,
      "title_cell": "Содержание",
      "title_sidebar": "Contents",
      "toc_cell": true,
      "toc_position": {
        "height": "calc(100% - 180px)",
        "left": "10px",
        "top": "150px",
        "width": "323.984px"
      },
      "toc_section_display": true,
      "toc_window_display": true
    },
    "colab": {
      "provenance": [],
      "collapsed_sections": [],
      "toc_visible": true
    }
  },
  "nbformat": 4,
  "nbformat_minor": 0
}