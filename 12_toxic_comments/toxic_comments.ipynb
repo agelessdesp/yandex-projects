{
  "cells": [
    {
      "cell_type": "markdown",
      "metadata": {
        "id": "aBXQyn22vCOV"
      },
      "source": [
        "# Проект для «Викишоп»"
      ]
    },
    {
      "cell_type": "markdown",
      "metadata": {
        "id": "5mLvlNbbvCOW"
      },
      "source": [
        "Интернет-магазин «Викишоп» запускает новый сервис. Теперь пользователи могут редактировать и дополнять описания товаров, как в вики-сообществах. То есть клиенты предлагают свои правки и комментируют изменения других. Магазину нужен инструмент, который будет искать токсичные комментарии и отправлять их на модерацию. \n",
        "\n",
        "Обучите модель классифицировать комментарии на позитивные и негативные. В вашем распоряжении набор данных с разметкой о токсичности правок.\n",
        "\n",
        "Постройте модель со значением метрики качества *F1* не меньше 0.75. \n",
        "\n",
        "**Инструкция по выполнению проекта**\n",
        "\n",
        "1. Загрузите и подготовьте данные.\n",
        "2. Обучите разные модели. \n",
        "3. Сделайте выводы.\n",
        "\n",
        "Для выполнения проекта применять *BERT* необязательно, но вы можете попробовать.\n",
        "\n",
        "**Описание данных**\n",
        "\n",
        "Данные находятся в файле `toxic_comments.csv`. Столбец *text* в нём содержит текст комментария, а *toxic* — целевой признак."
      ]
    },
    {
      "cell_type": "code",
      "execution_count": 1,
      "metadata": {
        "colab": {
          "base_uri": "https://localhost:8080/"
        },
        "id": "_UnO6xU34-G-",
        "outputId": "67a2919e-69b8-487d-c57e-d9710835e8b5"
      },
      "outputs": [
        {
          "output_type": "stream",
          "name": "stdout",
          "text": [
            "Mounted at /content/drive\n"
          ]
        }
      ],
      "source": [
        "from google.colab import drive\n",
        "\n",
        "drive.mount('/content/drive')"
      ]
    },
    {
      "cell_type": "code",
      "execution_count": 2,
      "metadata": {
        "colab": {
          "base_uri": "https://localhost:8080/"
        },
        "id": "44kodVL37cWZ",
        "outputId": "b9d58614-cb30-4199-f73e-3e50d34ef22e"
      },
      "outputs": [
        {
          "output_type": "stream",
          "name": "stdout",
          "text": [
            "Looking in indexes: https://pypi.org/simple, https://us-python.pkg.dev/colab-wheels/public/simple/\n",
            "Collecting catboost\n",
            "  Downloading catboost-1.0.6-cp37-none-manylinux1_x86_64.whl (76.6 MB)\n",
            "\u001b[K     |████████████████████████████████| 76.6 MB 1.2 MB/s \n",
            "\u001b[?25hRequirement already satisfied: plotly in /usr/local/lib/python3.7/dist-packages (from catboost) (5.5.0)\n",
            "Requirement already satisfied: six in /usr/local/lib/python3.7/dist-packages (from catboost) (1.15.0)\n",
            "Requirement already satisfied: matplotlib in /usr/local/lib/python3.7/dist-packages (from catboost) (3.2.2)\n",
            "Requirement already satisfied: numpy>=1.16.0 in /usr/local/lib/python3.7/dist-packages (from catboost) (1.21.6)\n",
            "Requirement already satisfied: scipy in /usr/local/lib/python3.7/dist-packages (from catboost) (1.7.3)\n",
            "Requirement already satisfied: pandas>=0.24.0 in /usr/local/lib/python3.7/dist-packages (from catboost) (1.3.5)\n",
            "Requirement already satisfied: graphviz in /usr/local/lib/python3.7/dist-packages (from catboost) (0.10.1)\n",
            "Requirement already satisfied: python-dateutil>=2.7.3 in /usr/local/lib/python3.7/dist-packages (from pandas>=0.24.0->catboost) (2.8.2)\n",
            "Requirement already satisfied: pytz>=2017.3 in /usr/local/lib/python3.7/dist-packages (from pandas>=0.24.0->catboost) (2022.2.1)\n",
            "Requirement already satisfied: cycler>=0.10 in /usr/local/lib/python3.7/dist-packages (from matplotlib->catboost) (0.11.0)\n",
            "Requirement already satisfied: pyparsing!=2.0.4,!=2.1.2,!=2.1.6,>=2.0.1 in /usr/local/lib/python3.7/dist-packages (from matplotlib->catboost) (3.0.9)\n",
            "Requirement already satisfied: kiwisolver>=1.0.1 in /usr/local/lib/python3.7/dist-packages (from matplotlib->catboost) (1.4.4)\n",
            "Requirement already satisfied: typing-extensions in /usr/local/lib/python3.7/dist-packages (from kiwisolver>=1.0.1->matplotlib->catboost) (4.1.1)\n",
            "Requirement already satisfied: tenacity>=6.2.0 in /usr/local/lib/python3.7/dist-packages (from plotly->catboost) (8.0.1)\n",
            "Installing collected packages: catboost\n",
            "Successfully installed catboost-1.0.6\n",
            "Looking in indexes: https://pypi.org/simple, https://us-python.pkg.dev/colab-wheels/public/simple/\n",
            "Requirement already satisfied: scikit-learn in /usr/local/lib/python3.7/dist-packages (1.0.2)\n",
            "Requirement already satisfied: scipy>=1.1.0 in /usr/local/lib/python3.7/dist-packages (from scikit-learn) (1.7.3)\n",
            "Requirement already satisfied: numpy>=1.14.6 in /usr/local/lib/python3.7/dist-packages (from scikit-learn) (1.21.6)\n",
            "Requirement already satisfied: threadpoolctl>=2.0.0 in /usr/local/lib/python3.7/dist-packages (from scikit-learn) (3.1.0)\n",
            "Requirement already satisfied: joblib>=0.11 in /usr/local/lib/python3.7/dist-packages (from scikit-learn) (1.1.0)\n",
            "Looking in indexes: https://pypi.org/simple, https://us-python.pkg.dev/colab-wheels/public/simple/\n",
            "Requirement already satisfied: ipywidgets in /usr/local/lib/python3.7/dist-packages (7.7.1)\n",
            "Requirement already satisfied: widgetsnbextension~=3.6.0 in /usr/local/lib/python3.7/dist-packages (from ipywidgets) (3.6.1)\n",
            "Requirement already satisfied: traitlets>=4.3.1 in /usr/local/lib/python3.7/dist-packages (from ipywidgets) (5.1.1)\n",
            "Requirement already satisfied: jupyterlab-widgets>=1.0.0 in /usr/local/lib/python3.7/dist-packages (from ipywidgets) (3.0.3)\n",
            "Requirement already satisfied: ipython>=4.0.0 in /usr/local/lib/python3.7/dist-packages (from ipywidgets) (7.9.0)\n",
            "Requirement already satisfied: ipython-genutils~=0.2.0 in /usr/local/lib/python3.7/dist-packages (from ipywidgets) (0.2.0)\n",
            "Requirement already satisfied: ipykernel>=4.5.1 in /usr/local/lib/python3.7/dist-packages (from ipywidgets) (5.3.4)\n",
            "Requirement already satisfied: jupyter-client in /usr/local/lib/python3.7/dist-packages (from ipykernel>=4.5.1->ipywidgets) (6.1.12)\n",
            "Requirement already satisfied: tornado>=4.2 in /usr/local/lib/python3.7/dist-packages (from ipykernel>=4.5.1->ipywidgets) (5.1.1)\n",
            "Requirement already satisfied: pexpect in /usr/local/lib/python3.7/dist-packages (from ipython>=4.0.0->ipywidgets) (4.8.0)\n",
            "Requirement already satisfied: setuptools>=18.5 in /usr/local/lib/python3.7/dist-packages (from ipython>=4.0.0->ipywidgets) (57.4.0)\n",
            "Requirement already satisfied: prompt-toolkit<2.1.0,>=2.0.0 in /usr/local/lib/python3.7/dist-packages (from ipython>=4.0.0->ipywidgets) (2.0.10)\n",
            "Requirement already satisfied: backcall in /usr/local/lib/python3.7/dist-packages (from ipython>=4.0.0->ipywidgets) (0.2.0)\n",
            "Requirement already satisfied: pygments in /usr/local/lib/python3.7/dist-packages (from ipython>=4.0.0->ipywidgets) (2.6.1)\n",
            "Collecting jedi>=0.10\n",
            "  Downloading jedi-0.18.1-py2.py3-none-any.whl (1.6 MB)\n",
            "\u001b[K     |████████████████████████████████| 1.6 MB 4.1 MB/s \n",
            "\u001b[?25hRequirement already satisfied: pickleshare in /usr/local/lib/python3.7/dist-packages (from ipython>=4.0.0->ipywidgets) (0.7.5)\n",
            "Requirement already satisfied: decorator in /usr/local/lib/python3.7/dist-packages (from ipython>=4.0.0->ipywidgets) (4.4.2)\n",
            "Requirement already satisfied: parso<0.9.0,>=0.8.0 in /usr/local/lib/python3.7/dist-packages (from jedi>=0.10->ipython>=4.0.0->ipywidgets) (0.8.3)\n",
            "Requirement already satisfied: six>=1.9.0 in /usr/local/lib/python3.7/dist-packages (from prompt-toolkit<2.1.0,>=2.0.0->ipython>=4.0.0->ipywidgets) (1.15.0)\n",
            "Requirement already satisfied: wcwidth in /usr/local/lib/python3.7/dist-packages (from prompt-toolkit<2.1.0,>=2.0.0->ipython>=4.0.0->ipywidgets) (0.2.5)\n",
            "Requirement already satisfied: notebook>=4.4.1 in /usr/local/lib/python3.7/dist-packages (from widgetsnbextension~=3.6.0->ipywidgets) (5.3.1)\n",
            "Requirement already satisfied: jinja2 in /usr/local/lib/python3.7/dist-packages (from notebook>=4.4.1->widgetsnbextension~=3.6.0->ipywidgets) (2.11.3)\n",
            "Requirement already satisfied: nbconvert in /usr/local/lib/python3.7/dist-packages (from notebook>=4.4.1->widgetsnbextension~=3.6.0->ipywidgets) (5.6.1)\n",
            "Requirement already satisfied: Send2Trash in /usr/local/lib/python3.7/dist-packages (from notebook>=4.4.1->widgetsnbextension~=3.6.0->ipywidgets) (1.8.0)\n",
            "Requirement already satisfied: terminado>=0.8.1 in /usr/local/lib/python3.7/dist-packages (from notebook>=4.4.1->widgetsnbextension~=3.6.0->ipywidgets) (0.13.3)\n",
            "Requirement already satisfied: jupyter-core>=4.4.0 in /usr/local/lib/python3.7/dist-packages (from notebook>=4.4.1->widgetsnbextension~=3.6.0->ipywidgets) (4.11.1)\n",
            "Requirement already satisfied: nbformat in /usr/local/lib/python3.7/dist-packages (from notebook>=4.4.1->widgetsnbextension~=3.6.0->ipywidgets) (5.4.0)\n",
            "Requirement already satisfied: python-dateutil>=2.1 in /usr/local/lib/python3.7/dist-packages (from jupyter-client->ipykernel>=4.5.1->ipywidgets) (2.8.2)\n",
            "Requirement already satisfied: pyzmq>=13 in /usr/local/lib/python3.7/dist-packages (from jupyter-client->ipykernel>=4.5.1->ipywidgets) (23.2.1)\n",
            "Requirement already satisfied: ptyprocess in /usr/local/lib/python3.7/dist-packages (from terminado>=0.8.1->notebook>=4.4.1->widgetsnbextension~=3.6.0->ipywidgets) (0.7.0)\n",
            "Requirement already satisfied: MarkupSafe>=0.23 in /usr/local/lib/python3.7/dist-packages (from jinja2->notebook>=4.4.1->widgetsnbextension~=3.6.0->ipywidgets) (2.0.1)\n",
            "Requirement already satisfied: testpath in /usr/local/lib/python3.7/dist-packages (from nbconvert->notebook>=4.4.1->widgetsnbextension~=3.6.0->ipywidgets) (0.6.0)\n",
            "Requirement already satisfied: entrypoints>=0.2.2 in /usr/local/lib/python3.7/dist-packages (from nbconvert->notebook>=4.4.1->widgetsnbextension~=3.6.0->ipywidgets) (0.4)\n",
            "Requirement already satisfied: pandocfilters>=1.4.1 in /usr/local/lib/python3.7/dist-packages (from nbconvert->notebook>=4.4.1->widgetsnbextension~=3.6.0->ipywidgets) (1.5.0)\n",
            "Requirement already satisfied: mistune<2,>=0.8.1 in /usr/local/lib/python3.7/dist-packages (from nbconvert->notebook>=4.4.1->widgetsnbextension~=3.6.0->ipywidgets) (0.8.4)\n",
            "Requirement already satisfied: bleach in /usr/local/lib/python3.7/dist-packages (from nbconvert->notebook>=4.4.1->widgetsnbextension~=3.6.0->ipywidgets) (5.0.1)\n",
            "Requirement already satisfied: defusedxml in /usr/local/lib/python3.7/dist-packages (from nbconvert->notebook>=4.4.1->widgetsnbextension~=3.6.0->ipywidgets) (0.7.1)\n",
            "Requirement already satisfied: fastjsonschema in /usr/local/lib/python3.7/dist-packages (from nbformat->notebook>=4.4.1->widgetsnbextension~=3.6.0->ipywidgets) (2.16.1)\n",
            "Requirement already satisfied: jsonschema>=2.6 in /usr/local/lib/python3.7/dist-packages (from nbformat->notebook>=4.4.1->widgetsnbextension~=3.6.0->ipywidgets) (4.3.3)\n",
            "Requirement already satisfied: pyrsistent!=0.17.0,!=0.17.1,!=0.17.2,>=0.14.0 in /usr/local/lib/python3.7/dist-packages (from jsonschema>=2.6->nbformat->notebook>=4.4.1->widgetsnbextension~=3.6.0->ipywidgets) (0.18.1)\n",
            "Requirement already satisfied: attrs>=17.4.0 in /usr/local/lib/python3.7/dist-packages (from jsonschema>=2.6->nbformat->notebook>=4.4.1->widgetsnbextension~=3.6.0->ipywidgets) (22.1.0)\n",
            "Requirement already satisfied: typing-extensions in /usr/local/lib/python3.7/dist-packages (from jsonschema>=2.6->nbformat->notebook>=4.4.1->widgetsnbextension~=3.6.0->ipywidgets) (4.1.1)\n",
            "Requirement already satisfied: importlib-metadata in /usr/local/lib/python3.7/dist-packages (from jsonschema>=2.6->nbformat->notebook>=4.4.1->widgetsnbextension~=3.6.0->ipywidgets) (4.12.0)\n",
            "Requirement already satisfied: importlib-resources>=1.4.0 in /usr/local/lib/python3.7/dist-packages (from jsonschema>=2.6->nbformat->notebook>=4.4.1->widgetsnbextension~=3.6.0->ipywidgets) (5.9.0)\n",
            "Requirement already satisfied: zipp>=3.1.0 in /usr/local/lib/python3.7/dist-packages (from importlib-resources>=1.4.0->jsonschema>=2.6->nbformat->notebook>=4.4.1->widgetsnbextension~=3.6.0->ipywidgets) (3.8.1)\n",
            "Requirement already satisfied: webencodings in /usr/local/lib/python3.7/dist-packages (from bleach->nbconvert->notebook>=4.4.1->widgetsnbextension~=3.6.0->ipywidgets) (0.5.1)\n",
            "Installing collected packages: jedi\n",
            "Successfully installed jedi-0.18.1\n",
            "Looking in indexes: https://pypi.org/simple, https://us-python.pkg.dev/colab-wheels/public/simple/\n",
            "Collecting optuna\n",
            "  Downloading optuna-3.0.2-py3-none-any.whl (348 kB)\n",
            "\u001b[K     |████████████████████████████████| 348 kB 4.2 MB/s \n",
            "\u001b[?25hRequirement already satisfied: packaging>=20.0 in /usr/local/lib/python3.7/dist-packages (from optuna) (21.3)\n",
            "Collecting cliff\n",
            "  Downloading cliff-3.10.1-py3-none-any.whl (81 kB)\n",
            "\u001b[K     |████████████████████████████████| 81 kB 7.3 MB/s \n",
            "\u001b[?25hRequirement already satisfied: tqdm in /usr/local/lib/python3.7/dist-packages (from optuna) (4.64.1)\n",
            "Requirement already satisfied: numpy in /usr/local/lib/python3.7/dist-packages (from optuna) (1.21.6)\n",
            "Requirement already satisfied: scipy<1.9.0,>=1.7.0 in /usr/local/lib/python3.7/dist-packages (from optuna) (1.7.3)\n",
            "Requirement already satisfied: PyYAML in /usr/local/lib/python3.7/dist-packages (from optuna) (6.0)\n",
            "Collecting cmaes>=0.8.2\n",
            "  Downloading cmaes-0.8.2-py3-none-any.whl (15 kB)\n",
            "Collecting colorlog\n",
            "  Downloading colorlog-6.7.0-py2.py3-none-any.whl (11 kB)\n",
            "Requirement already satisfied: sqlalchemy>=1.3.0 in /usr/local/lib/python3.7/dist-packages (from optuna) (1.4.41)\n",
            "Collecting alembic>=1.5.0\n",
            "  Downloading alembic-1.8.1-py3-none-any.whl (209 kB)\n",
            "\u001b[K     |████████████████████████████████| 209 kB 62.5 MB/s \n",
            "\u001b[?25hCollecting Mako\n",
            "  Downloading Mako-1.2.2-py3-none-any.whl (78 kB)\n",
            "\u001b[K     |████████████████████████████████| 78 kB 8.1 MB/s \n",
            "\u001b[?25hRequirement already satisfied: importlib-resources in /usr/local/lib/python3.7/dist-packages (from alembic>=1.5.0->optuna) (5.9.0)\n",
            "Requirement already satisfied: importlib-metadata in /usr/local/lib/python3.7/dist-packages (from alembic>=1.5.0->optuna) (4.12.0)\n",
            "Requirement already satisfied: pyparsing!=3.0.5,>=2.0.2 in /usr/local/lib/python3.7/dist-packages (from packaging>=20.0->optuna) (3.0.9)\n",
            "Requirement already satisfied: greenlet!=0.4.17 in /usr/local/lib/python3.7/dist-packages (from sqlalchemy>=1.3.0->optuna) (1.1.3)\n",
            "Collecting cmd2>=1.0.0\n",
            "  Downloading cmd2-2.4.2-py3-none-any.whl (147 kB)\n",
            "\u001b[K     |████████████████████████████████| 147 kB 58.1 MB/s \n",
            "\u001b[?25hRequirement already satisfied: PrettyTable>=0.7.2 in /usr/local/lib/python3.7/dist-packages (from cliff->optuna) (3.4.1)\n",
            "Collecting pbr!=2.1.0,>=2.0.0\n",
            "  Downloading pbr-5.10.0-py2.py3-none-any.whl (112 kB)\n",
            "\u001b[K     |████████████████████████████████| 112 kB 59.9 MB/s \n",
            "\u001b[?25hCollecting autopage>=0.4.0\n",
            "  Downloading autopage-0.5.1-py3-none-any.whl (29 kB)\n",
            "Collecting stevedore>=2.0.1\n",
            "  Downloading stevedore-3.5.0-py3-none-any.whl (49 kB)\n",
            "\u001b[K     |████████████████████████████████| 49 kB 6.5 MB/s \n",
            "\u001b[?25hRequirement already satisfied: wcwidth>=0.1.7 in /usr/local/lib/python3.7/dist-packages (from cmd2>=1.0.0->cliff->optuna) (0.2.5)\n",
            "Requirement already satisfied: typing-extensions in /usr/local/lib/python3.7/dist-packages (from cmd2>=1.0.0->cliff->optuna) (4.1.1)\n",
            "Requirement already satisfied: attrs>=16.3.0 in /usr/local/lib/python3.7/dist-packages (from cmd2>=1.0.0->cliff->optuna) (22.1.0)\n",
            "Collecting pyperclip>=1.6\n",
            "  Downloading pyperclip-1.8.2.tar.gz (20 kB)\n",
            "Requirement already satisfied: zipp>=0.5 in /usr/local/lib/python3.7/dist-packages (from importlib-metadata->alembic>=1.5.0->optuna) (3.8.1)\n",
            "Requirement already satisfied: MarkupSafe>=0.9.2 in /usr/local/lib/python3.7/dist-packages (from Mako->alembic>=1.5.0->optuna) (2.0.1)\n",
            "Building wheels for collected packages: pyperclip\n",
            "  Building wheel for pyperclip (setup.py) ... \u001b[?25l\u001b[?25hdone\n",
            "  Created wheel for pyperclip: filename=pyperclip-1.8.2-py3-none-any.whl size=11137 sha256=4a9df39864819ea6f4d1ca65570bb270b5a29e9b85ba3c52c3d9820644144835\n",
            "  Stored in directory: /root/.cache/pip/wheels/9f/18/84/8f69f8b08169c7bae2dde6bd7daf0c19fca8c8e500ee620a28\n",
            "Successfully built pyperclip\n",
            "Installing collected packages: pyperclip, pbr, stevedore, Mako, cmd2, autopage, colorlog, cmaes, cliff, alembic, optuna\n",
            "Successfully installed Mako-1.2.2 alembic-1.8.1 autopage-0.5.1 cliff-3.10.1 cmaes-0.8.2 cmd2-2.4.2 colorlog-6.7.0 optuna-3.0.2 pbr-5.10.0 pyperclip-1.8.2 stevedore-3.5.0\n"
          ]
        }
      ],
      "source": [
        "!pip install catboost\n",
        "!pip install scikit-learn\n",
        "!pip install ipywidgets\n",
        "!pip install optuna"
      ]
    },
    {
      "cell_type": "code",
      "execution_count": 3,
      "metadata": {
        "colab": {
          "base_uri": "https://localhost:8080/"
        },
        "id": "CRye43p3vCOW",
        "outputId": "9123f27f-f140-4551-b3e0-a176446813a7"
      },
      "outputs": [
        {
          "output_type": "stream",
          "name": "stderr",
          "text": [
            "[nltk_data] Downloading package stopwords to /root/nltk_data...\n",
            "[nltk_data]   Unzipping corpora/stopwords.zip.\n",
            "[nltk_data] Downloading collection 'popular'\n",
            "[nltk_data]    | \n",
            "[nltk_data]    | Downloading package cmudict to /root/nltk_data...\n",
            "[nltk_data]    |   Unzipping corpora/cmudict.zip.\n",
            "[nltk_data]    | Downloading package gazetteers to /root/nltk_data...\n",
            "[nltk_data]    |   Unzipping corpora/gazetteers.zip.\n",
            "[nltk_data]    | Downloading package genesis to /root/nltk_data...\n",
            "[nltk_data]    |   Unzipping corpora/genesis.zip.\n",
            "[nltk_data]    | Downloading package gutenberg to /root/nltk_data...\n",
            "[nltk_data]    |   Unzipping corpora/gutenberg.zip.\n",
            "[nltk_data]    | Downloading package inaugural to /root/nltk_data...\n",
            "[nltk_data]    |   Unzipping corpora/inaugural.zip.\n",
            "[nltk_data]    | Downloading package movie_reviews to\n",
            "[nltk_data]    |     /root/nltk_data...\n",
            "[nltk_data]    |   Unzipping corpora/movie_reviews.zip.\n",
            "[nltk_data]    | Downloading package names to /root/nltk_data...\n",
            "[nltk_data]    |   Unzipping corpora/names.zip.\n",
            "[nltk_data]    | Downloading package shakespeare to /root/nltk_data...\n",
            "[nltk_data]    |   Unzipping corpora/shakespeare.zip.\n",
            "[nltk_data]    | Downloading package stopwords to /root/nltk_data...\n",
            "[nltk_data]    |   Package stopwords is already up-to-date!\n",
            "[nltk_data]    | Downloading package treebank to /root/nltk_data...\n",
            "[nltk_data]    |   Unzipping corpora/treebank.zip.\n",
            "[nltk_data]    | Downloading package twitter_samples to\n",
            "[nltk_data]    |     /root/nltk_data...\n",
            "[nltk_data]    |   Unzipping corpora/twitter_samples.zip.\n",
            "[nltk_data]    | Downloading package omw to /root/nltk_data...\n",
            "[nltk_data]    | Downloading package omw-1.4 to /root/nltk_data...\n",
            "[nltk_data]    | Downloading package wordnet to /root/nltk_data...\n",
            "[nltk_data]    | Downloading package wordnet2021 to /root/nltk_data...\n",
            "[nltk_data]    | Downloading package wordnet31 to /root/nltk_data...\n",
            "[nltk_data]    | Downloading package wordnet_ic to /root/nltk_data...\n",
            "[nltk_data]    |   Unzipping corpora/wordnet_ic.zip.\n",
            "[nltk_data]    | Downloading package words to /root/nltk_data...\n",
            "[nltk_data]    |   Unzipping corpora/words.zip.\n",
            "[nltk_data]    | Downloading package maxent_ne_chunker to\n",
            "[nltk_data]    |     /root/nltk_data...\n",
            "[nltk_data]    |   Unzipping chunkers/maxent_ne_chunker.zip.\n",
            "[nltk_data]    | Downloading package punkt to /root/nltk_data...\n",
            "[nltk_data]    |   Unzipping tokenizers/punkt.zip.\n",
            "[nltk_data]    | Downloading package snowball_data to\n",
            "[nltk_data]    |     /root/nltk_data...\n",
            "[nltk_data]    | Downloading package averaged_perceptron_tagger to\n",
            "[nltk_data]    |     /root/nltk_data...\n",
            "[nltk_data]    |   Unzipping taggers/averaged_perceptron_tagger.zip.\n",
            "[nltk_data]    | \n",
            "[nltk_data]  Done downloading collection popular\n"
          ]
        }
      ],
      "source": [
        "#загрузим библиотеки\n",
        "\n",
        "import pandas as pd\n",
        "import numpy as np\n",
        "import re\n",
        "import os\n",
        "import nltk\n",
        "from nltk.corpus import stopwords as nltk_stopwords\n",
        "nltk.download('stopwords')\n",
        "nltk.download(\"popular\")\n",
        "\n",
        "\n",
        "import matplotlib.pyplot as plt\n",
        "import seaborn as sns\n",
        "\n",
        "from sklearn.model_selection import train_test_split, RandomizedSearchCV, cross_val_score, GridSearchCV\n",
        "from sklearn.metrics import f1_score\n",
        "from sklearn.metrics import make_scorer\n",
        "from sklearn.feature_extraction.text import TfidfVectorizer\n",
        "from nltk.stem import WordNetLemmatizer\n",
        "from nltk.tokenize import word_tokenize\n",
        "from nltk.corpus import wordnet\n",
        "\n",
        "from sklearn.linear_model import LogisticRegression\n",
        "from sklearn.svm import LinearSVC\n",
        "from catboost import CatBoostClassifier\n",
        "from lightgbm import LGBMClassifier\n",
        "from sklearn.dummy import DummyClassifier \n",
        "\n",
        "import warnings\n",
        "warnings.filterwarnings('ignore')"
      ]
    },
    {
      "cell_type": "code",
      "source": [
        "# напишем общую функцию для распаковки данных\n",
        "\n",
        "def open_data(data):\n",
        "  display(data.head(5))\n",
        "  print('-------------------------------')\n",
        "  print('Общая информация')\n",
        "  data.info()\n",
        "  print('-------------------------------')\n",
        "  print('Описание данных')\n",
        "  display(data.describe())\n",
        "  print('-------------------------------')\n",
        "  print('Количество дубликатов')\n",
        "  print(data.duplicated().sum())"
      ],
      "metadata": {
        "id": "nbexXZ_bFyYb"
      },
      "execution_count": 4,
      "outputs": []
    },
    {
      "cell_type": "markdown",
      "metadata": {
        "id": "Z0mceqMJvCOX"
      },
      "source": [
        "## Подготовка"
      ]
    },
    {
      "cell_type": "code",
      "execution_count": 5,
      "metadata": {
        "id": "sdUhZAuyvCOX"
      },
      "outputs": [],
      "source": [
        "#загрузим данные\n",
        "\n",
        "data = pd.read_csv('/content/drive/My Drive/Collab file/toxic_comments.csv')"
      ]
    },
    {
      "cell_type": "code",
      "execution_count": 6,
      "metadata": {
        "colab": {
          "base_uri": "https://localhost:8080/"
        },
        "id": "eBUV7juBvCOY",
        "outputId": "69b817de-e8df-4609-e5e0-ff75b60a1da1"
      },
      "outputs": [
        {
          "output_type": "stream",
          "name": "stdout",
          "text": [
            "<class 'pandas.core.frame.DataFrame'>\n",
            "RangeIndex: 159571 entries, 0 to 159570\n",
            "Data columns (total 2 columns):\n",
            " #   Column  Non-Null Count   Dtype \n",
            "---  ------  --------------   ----- \n",
            " 0   text    159571 non-null  object\n",
            " 1   toxic   159571 non-null  int64 \n",
            "dtypes: int64(1), object(1)\n",
            "memory usage: 2.4+ MB\n"
          ]
        }
      ],
      "source": [
        "#посмотрим информацию\n",
        "\n",
        "data.info()"
      ]
    },
    {
      "cell_type": "code",
      "execution_count": 7,
      "metadata": {
        "colab": {
          "base_uri": "https://localhost:8080/",
          "height": 676
        },
        "id": "TZ6ZcAZOvCOY",
        "outputId": "b380af1f-ff5d-492e-8fb2-91f268776909"
      },
      "outputs": [
        {
          "output_type": "execute_result",
          "data": {
            "text/plain": [
              "                                                 text  toxic\n",
              "0   Explanation\\nWhy the edits made under my usern...      0\n",
              "1   D'aww! He matches this background colour I'm s...      0\n",
              "2   Hey man, I'm really not trying to edit war. It...      0\n",
              "3   \"\\nMore\\nI can't make any real suggestions on ...      0\n",
              "4   You, sir, are my hero. Any chance you remember...      0\n",
              "5   \"\\n\\nCongratulations from me as well, use the ...      0\n",
              "6        COCKSUCKER BEFORE YOU PISS AROUND ON MY WORK      1\n",
              "7   Your vandalism to the Matt Shirvington article...      0\n",
              "8   Sorry if the word 'nonsense' was offensive to ...      0\n",
              "9   alignment on this subject and which are contra...      0\n",
              "10  \"\\nFair use rationale for Image:Wonju.jpg\\n\\nT...      0\n",
              "11  bbq \\n\\nbe a man and lets discuss it-maybe ove...      0\n",
              "12  Hey... what is it..\\n@ | talk .\\nWhat is it......      1\n",
              "13  Before you start throwing accusations and warn...      0\n",
              "14  Oh, and the girl above started her arguments w...      0\n",
              "15  \"\\n\\nJuelz Santanas Age\\n\\nIn 2002, Juelz Sant...      0\n",
              "16  Bye! \\n\\nDon't look, come or think of comming ...      1\n",
              "17   REDIRECT Talk:Voydan Pop Georgiev- Chernodrinski      0\n",
              "18  The Mitsurugi point made no sense - why not ar...      0\n",
              "19  Don't mean to bother you \\n\\nI see that you're...      0"
            ],
            "text/html": [
              "\n",
              "  <div id=\"df-ee18ef22-83c1-4447-90f6-10fa10e204f7\">\n",
              "    <div class=\"colab-df-container\">\n",
              "      <div>\n",
              "<style scoped>\n",
              "    .dataframe tbody tr th:only-of-type {\n",
              "        vertical-align: middle;\n",
              "    }\n",
              "\n",
              "    .dataframe tbody tr th {\n",
              "        vertical-align: top;\n",
              "    }\n",
              "\n",
              "    .dataframe thead th {\n",
              "        text-align: right;\n",
              "    }\n",
              "</style>\n",
              "<table border=\"1\" class=\"dataframe\">\n",
              "  <thead>\n",
              "    <tr style=\"text-align: right;\">\n",
              "      <th></th>\n",
              "      <th>text</th>\n",
              "      <th>toxic</th>\n",
              "    </tr>\n",
              "  </thead>\n",
              "  <tbody>\n",
              "    <tr>\n",
              "      <th>0</th>\n",
              "      <td>Explanation\\nWhy the edits made under my usern...</td>\n",
              "      <td>0</td>\n",
              "    </tr>\n",
              "    <tr>\n",
              "      <th>1</th>\n",
              "      <td>D'aww! He matches this background colour I'm s...</td>\n",
              "      <td>0</td>\n",
              "    </tr>\n",
              "    <tr>\n",
              "      <th>2</th>\n",
              "      <td>Hey man, I'm really not trying to edit war. It...</td>\n",
              "      <td>0</td>\n",
              "    </tr>\n",
              "    <tr>\n",
              "      <th>3</th>\n",
              "      <td>\"\\nMore\\nI can't make any real suggestions on ...</td>\n",
              "      <td>0</td>\n",
              "    </tr>\n",
              "    <tr>\n",
              "      <th>4</th>\n",
              "      <td>You, sir, are my hero. Any chance you remember...</td>\n",
              "      <td>0</td>\n",
              "    </tr>\n",
              "    <tr>\n",
              "      <th>5</th>\n",
              "      <td>\"\\n\\nCongratulations from me as well, use the ...</td>\n",
              "      <td>0</td>\n",
              "    </tr>\n",
              "    <tr>\n",
              "      <th>6</th>\n",
              "      <td>COCKSUCKER BEFORE YOU PISS AROUND ON MY WORK</td>\n",
              "      <td>1</td>\n",
              "    </tr>\n",
              "    <tr>\n",
              "      <th>7</th>\n",
              "      <td>Your vandalism to the Matt Shirvington article...</td>\n",
              "      <td>0</td>\n",
              "    </tr>\n",
              "    <tr>\n",
              "      <th>8</th>\n",
              "      <td>Sorry if the word 'nonsense' was offensive to ...</td>\n",
              "      <td>0</td>\n",
              "    </tr>\n",
              "    <tr>\n",
              "      <th>9</th>\n",
              "      <td>alignment on this subject and which are contra...</td>\n",
              "      <td>0</td>\n",
              "    </tr>\n",
              "    <tr>\n",
              "      <th>10</th>\n",
              "      <td>\"\\nFair use rationale for Image:Wonju.jpg\\n\\nT...</td>\n",
              "      <td>0</td>\n",
              "    </tr>\n",
              "    <tr>\n",
              "      <th>11</th>\n",
              "      <td>bbq \\n\\nbe a man and lets discuss it-maybe ove...</td>\n",
              "      <td>0</td>\n",
              "    </tr>\n",
              "    <tr>\n",
              "      <th>12</th>\n",
              "      <td>Hey... what is it..\\n@ | talk .\\nWhat is it......</td>\n",
              "      <td>1</td>\n",
              "    </tr>\n",
              "    <tr>\n",
              "      <th>13</th>\n",
              "      <td>Before you start throwing accusations and warn...</td>\n",
              "      <td>0</td>\n",
              "    </tr>\n",
              "    <tr>\n",
              "      <th>14</th>\n",
              "      <td>Oh, and the girl above started her arguments w...</td>\n",
              "      <td>0</td>\n",
              "    </tr>\n",
              "    <tr>\n",
              "      <th>15</th>\n",
              "      <td>\"\\n\\nJuelz Santanas Age\\n\\nIn 2002, Juelz Sant...</td>\n",
              "      <td>0</td>\n",
              "    </tr>\n",
              "    <tr>\n",
              "      <th>16</th>\n",
              "      <td>Bye! \\n\\nDon't look, come or think of comming ...</td>\n",
              "      <td>1</td>\n",
              "    </tr>\n",
              "    <tr>\n",
              "      <th>17</th>\n",
              "      <td>REDIRECT Talk:Voydan Pop Georgiev- Chernodrinski</td>\n",
              "      <td>0</td>\n",
              "    </tr>\n",
              "    <tr>\n",
              "      <th>18</th>\n",
              "      <td>The Mitsurugi point made no sense - why not ar...</td>\n",
              "      <td>0</td>\n",
              "    </tr>\n",
              "    <tr>\n",
              "      <th>19</th>\n",
              "      <td>Don't mean to bother you \\n\\nI see that you're...</td>\n",
              "      <td>0</td>\n",
              "    </tr>\n",
              "  </tbody>\n",
              "</table>\n",
              "</div>\n",
              "      <button class=\"colab-df-convert\" onclick=\"convertToInteractive('df-ee18ef22-83c1-4447-90f6-10fa10e204f7')\"\n",
              "              title=\"Convert this dataframe to an interactive table.\"\n",
              "              style=\"display:none;\">\n",
              "        \n",
              "  <svg xmlns=\"http://www.w3.org/2000/svg\" height=\"24px\"viewBox=\"0 0 24 24\"\n",
              "       width=\"24px\">\n",
              "    <path d=\"M0 0h24v24H0V0z\" fill=\"none\"/>\n",
              "    <path d=\"M18.56 5.44l.94 2.06.94-2.06 2.06-.94-2.06-.94-.94-2.06-.94 2.06-2.06.94zm-11 1L8.5 8.5l.94-2.06 2.06-.94-2.06-.94L8.5 2.5l-.94 2.06-2.06.94zm10 10l.94 2.06.94-2.06 2.06-.94-2.06-.94-.94-2.06-.94 2.06-2.06.94z\"/><path d=\"M17.41 7.96l-1.37-1.37c-.4-.4-.92-.59-1.43-.59-.52 0-1.04.2-1.43.59L10.3 9.45l-7.72 7.72c-.78.78-.78 2.05 0 2.83L4 21.41c.39.39.9.59 1.41.59.51 0 1.02-.2 1.41-.59l7.78-7.78 2.81-2.81c.8-.78.8-2.07 0-2.86zM5.41 20L4 18.59l7.72-7.72 1.47 1.35L5.41 20z\"/>\n",
              "  </svg>\n",
              "      </button>\n",
              "      \n",
              "  <style>\n",
              "    .colab-df-container {\n",
              "      display:flex;\n",
              "      flex-wrap:wrap;\n",
              "      gap: 12px;\n",
              "    }\n",
              "\n",
              "    .colab-df-convert {\n",
              "      background-color: #E8F0FE;\n",
              "      border: none;\n",
              "      border-radius: 50%;\n",
              "      cursor: pointer;\n",
              "      display: none;\n",
              "      fill: #1967D2;\n",
              "      height: 32px;\n",
              "      padding: 0 0 0 0;\n",
              "      width: 32px;\n",
              "    }\n",
              "\n",
              "    .colab-df-convert:hover {\n",
              "      background-color: #E2EBFA;\n",
              "      box-shadow: 0px 1px 2px rgba(60, 64, 67, 0.3), 0px 1px 3px 1px rgba(60, 64, 67, 0.15);\n",
              "      fill: #174EA6;\n",
              "    }\n",
              "\n",
              "    [theme=dark] .colab-df-convert {\n",
              "      background-color: #3B4455;\n",
              "      fill: #D2E3FC;\n",
              "    }\n",
              "\n",
              "    [theme=dark] .colab-df-convert:hover {\n",
              "      background-color: #434B5C;\n",
              "      box-shadow: 0px 1px 3px 1px rgba(0, 0, 0, 0.15);\n",
              "      filter: drop-shadow(0px 1px 2px rgba(0, 0, 0, 0.3));\n",
              "      fill: #FFFFFF;\n",
              "    }\n",
              "  </style>\n",
              "\n",
              "      <script>\n",
              "        const buttonEl =\n",
              "          document.querySelector('#df-ee18ef22-83c1-4447-90f6-10fa10e204f7 button.colab-df-convert');\n",
              "        buttonEl.style.display =\n",
              "          google.colab.kernel.accessAllowed ? 'block' : 'none';\n",
              "\n",
              "        async function convertToInteractive(key) {\n",
              "          const element = document.querySelector('#df-ee18ef22-83c1-4447-90f6-10fa10e204f7');\n",
              "          const dataTable =\n",
              "            await google.colab.kernel.invokeFunction('convertToInteractive',\n",
              "                                                     [key], {});\n",
              "          if (!dataTable) return;\n",
              "\n",
              "          const docLinkHtml = 'Like what you see? Visit the ' +\n",
              "            '<a target=\"_blank\" href=https://colab.research.google.com/notebooks/data_table.ipynb>data table notebook</a>'\n",
              "            + ' to learn more about interactive tables.';\n",
              "          element.innerHTML = '';\n",
              "          dataTable['output_type'] = 'display_data';\n",
              "          await google.colab.output.renderOutput(dataTable, element);\n",
              "          const docLink = document.createElement('div');\n",
              "          docLink.innerHTML = docLinkHtml;\n",
              "          element.appendChild(docLink);\n",
              "        }\n",
              "      </script>\n",
              "    </div>\n",
              "  </div>\n",
              "  "
            ]
          },
          "metadata": {},
          "execution_count": 7
        }
      ],
      "source": [
        "data.head(20)"
      ]
    },
    {
      "cell_type": "markdown",
      "metadata": {
        "id": "toGpzplyvCOZ"
      },
      "source": [
        "Пропусков нет, данные выглядят нормально."
      ]
    },
    {
      "cell_type": "code",
      "execution_count": 8,
      "metadata": {
        "colab": {
          "base_uri": "https://localhost:8080/",
          "height": 353
        },
        "id": "Pz96SFhgvCOZ",
        "outputId": "29a7f33d-f7c2-4f11-ced7-360397f9c1ce"
      },
      "outputs": [
        {
          "output_type": "stream",
          "name": "stdout",
          "text": [
            "0    143346\n",
            "1     16225\n",
            "Name: toxic, dtype: int64\n"
          ]
        },
        {
          "output_type": "execute_result",
          "data": {
            "text/plain": [
              "Text(0.5, 1.0, 'Распределение целевого признака')"
            ]
          },
          "metadata": {},
          "execution_count": 8
        },
        {
          "output_type": "display_data",
          "data": {
            "text/plain": [
              "<Figure size 432x288 with 1 Axes>"
            ],
            "image/png": "[encoded data removed]"
          },
          "metadata": {
            "needs_background": "light"
          }
        }
      ],
      "source": [
        "class_frequency = data['toxic'].value_counts()\n",
        "print(class_frequency)\n",
        "class_frequency.plot(kind='bar')\n",
        "plt.title('Распределение целевого признака')"
      ]
    },
    {
      "cell_type": "markdown",
      "metadata": {
        "id": "zLIrKIklvCOa"
      },
      "source": [
        "Исходя из графика, мы наблюдаем сильный дисбаланс классов. Радует то, что положительных комментариев гораздо больше. "
      ]
    },
    {
      "cell_type": "markdown",
      "metadata": {
        "id": "wrIdoeoNvCOa"
      },
      "source": [
        "### Краткий итог"
      ]
    },
    {
      "cell_type": "markdown",
      "metadata": {
        "id": "1GRh6O_7vCOa"
      },
      "source": [
        "- Познакомились с данными.\n",
        "- Пропуски в данных не были обнаружены.\n",
        "- Присутствует существенный дисбаланс в целевом признаке.\n",
        "- Сравним модели с балансировкой и без."
      ]
    },
    {
      "cell_type": "markdown",
      "metadata": {
        "id": "-YAJKguXvCOa"
      },
      "source": [
        "### Подготовка данных"
      ]
    },
    {
      "cell_type": "code",
      "execution_count": 9,
      "metadata": {
        "id": "5ZsKHcggvCOa"
      },
      "outputs": [],
      "source": [
        "#подготовим функцию для очистки текста\n",
        "\n",
        "def clean_text(text):\n",
        "    text = re.sub(r'[^a-zA-Z ]', ' ', text)\n",
        "    #text = \" \".join(text.split())\n",
        "    text = re.sub(r\"what's\", \"what is \", text)\n",
        "    text = re.sub(r\"\\'s\", \" \", text)\n",
        "    text = re.sub(r\"\\'ve\", \" have \", text)\n",
        "    text = re.sub(r\"can't\", \"cannot \", text)\n",
        "    text = re.sub(r\"n't\", \" not \", text)\n",
        "    text = re.sub(r\"i'm\", \"i am \", text)\n",
        "    text = re.sub(r\"\\'re\", \" are \", text)\n",
        "    text = re.sub(r\"\\'d\", \" would \", text)\n",
        "    text = re.sub(r\"\\'ll\", \" will \", text)\n",
        "    text = re.sub('\\W', ' ', text)\n",
        "    text = re.sub('\\s+', ' ', text)\n",
        "    text = text.strip(' ')\n",
        "    \n",
        "    return text"
      ]
    },
    {
      "cell_type": "code",
      "execution_count": 10,
      "metadata": {
        "id": "zpoEWnPHvCOb"
      },
      "outputs": [],
      "source": [
        "data['text'] = data['text'].apply(clean_text)"
      ]
    },
    {
      "cell_type": "code",
      "execution_count": 11,
      "metadata": {
        "colab": {
          "base_uri": "https://localhost:8080/",
          "height": 363
        },
        "id": "t1nQiRunvCOb",
        "outputId": "871e7528-26a2-4436-a304-890001eddf2c"
      },
      "outputs": [
        {
          "output_type": "execute_result",
          "data": {
            "text/plain": [
              "                                                text  toxic\n",
              "0  Explanation Why the edits made under my userna...      0\n",
              "1  D aww He matches this background colour I m se...      0\n",
              "2  Hey man I m really not trying to edit war It s...      0\n",
              "3  More I can t make any real suggestions on impr...      0\n",
              "4  You sir are my hero Any chance you remember wh...      0\n",
              "5  Congratulations from me as well use the tools ...      0\n",
              "6       COCKSUCKER BEFORE YOU PISS AROUND ON MY WORK      1\n",
              "7  Your vandalism to the Matt Shirvington article...      0\n",
              "8  Sorry if the word nonsense was offensive to yo...      0\n",
              "9  alignment on this subject and which are contra...      0"
            ],
            "text/html": [
              "\n",
              "  <div id=\"df-ba59274c-78e9-4ea4-ac20-9cce05bcd359\">\n",
              "    <div class=\"colab-df-container\">\n",
              "      <div>\n",
              "<style scoped>\n",
              "    .dataframe tbody tr th:only-of-type {\n",
              "        vertical-align: middle;\n",
              "    }\n",
              "\n",
              "    .dataframe tbody tr th {\n",
              "        vertical-align: top;\n",
              "    }\n",
              "\n",
              "    .dataframe thead th {\n",
              "        text-align: right;\n",
              "    }\n",
              "</style>\n",
              "<table border=\"1\" class=\"dataframe\">\n",
              "  <thead>\n",
              "    <tr style=\"text-align: right;\">\n",
              "      <th></th>\n",
              "      <th>text</th>\n",
              "      <th>toxic</th>\n",
              "    </tr>\n",
              "  </thead>\n",
              "  <tbody>\n",
              "    <tr>\n",
              "      <th>0</th>\n",
              "      <td>Explanation Why the edits made under my userna...</td>\n",
              "      <td>0</td>\n",
              "    </tr>\n",
              "    <tr>\n",
              "      <th>1</th>\n",
              "      <td>D aww He matches this background colour I m se...</td>\n",
              "      <td>0</td>\n",
              "    </tr>\n",
              "    <tr>\n",
              "      <th>2</th>\n",
              "      <td>Hey man I m really not trying to edit war It s...</td>\n",
              "      <td>0</td>\n",
              "    </tr>\n",
              "    <tr>\n",
              "      <th>3</th>\n",
              "      <td>More I can t make any real suggestions on impr...</td>\n",
              "      <td>0</td>\n",
              "    </tr>\n",
              "    <tr>\n",
              "      <th>4</th>\n",
              "      <td>You sir are my hero Any chance you remember wh...</td>\n",
              "      <td>0</td>\n",
              "    </tr>\n",
              "    <tr>\n",
              "      <th>5</th>\n",
              "      <td>Congratulations from me as well use the tools ...</td>\n",
              "      <td>0</td>\n",
              "    </tr>\n",
              "    <tr>\n",
              "      <th>6</th>\n",
              "      <td>COCKSUCKER BEFORE YOU PISS AROUND ON MY WORK</td>\n",
              "      <td>1</td>\n",
              "    </tr>\n",
              "    <tr>\n",
              "      <th>7</th>\n",
              "      <td>Your vandalism to the Matt Shirvington article...</td>\n",
              "      <td>0</td>\n",
              "    </tr>\n",
              "    <tr>\n",
              "      <th>8</th>\n",
              "      <td>Sorry if the word nonsense was offensive to yo...</td>\n",
              "      <td>0</td>\n",
              "    </tr>\n",
              "    <tr>\n",
              "      <th>9</th>\n",
              "      <td>alignment on this subject and which are contra...</td>\n",
              "      <td>0</td>\n",
              "    </tr>\n",
              "  </tbody>\n",
              "</table>\n",
              "</div>\n",
              "      <button class=\"colab-df-convert\" onclick=\"convertToInteractive('df-ba59274c-78e9-4ea4-ac20-9cce05bcd359')\"\n",
              "              title=\"Convert this dataframe to an interactive table.\"\n",
              "              style=\"display:none;\">\n",
              "        \n",
              "  <svg xmlns=\"http://www.w3.org/2000/svg\" height=\"24px\"viewBox=\"0 0 24 24\"\n",
              "       width=\"24px\">\n",
              "    <path d=\"M0 0h24v24H0V0z\" fill=\"none\"/>\n",
              "    <path d=\"M18.56 5.44l.94 2.06.94-2.06 2.06-.94-2.06-.94-.94-2.06-.94 2.06-2.06.94zm-11 1L8.5 8.5l.94-2.06 2.06-.94-2.06-.94L8.5 2.5l-.94 2.06-2.06.94zm10 10l.94 2.06.94-2.06 2.06-.94-2.06-.94-.94-2.06-.94 2.06-2.06.94z\"/><path d=\"M17.41 7.96l-1.37-1.37c-.4-.4-.92-.59-1.43-.59-.52 0-1.04.2-1.43.59L10.3 9.45l-7.72 7.72c-.78.78-.78 2.05 0 2.83L4 21.41c.39.39.9.59 1.41.59.51 0 1.02-.2 1.41-.59l7.78-7.78 2.81-2.81c.8-.78.8-2.07 0-2.86zM5.41 20L4 18.59l7.72-7.72 1.47 1.35L5.41 20z\"/>\n",
              "  </svg>\n",
              "      </button>\n",
              "      \n",
              "  <style>\n",
              "    .colab-df-container {\n",
              "      display:flex;\n",
              "      flex-wrap:wrap;\n",
              "      gap: 12px;\n",
              "    }\n",
              "\n",
              "    .colab-df-convert {\n",
              "      background-color: #E8F0FE;\n",
              "      border: none;\n",
              "      border-radius: 50%;\n",
              "      cursor: pointer;\n",
              "      display: none;\n",
              "      fill: #1967D2;\n",
              "      height: 32px;\n",
              "      padding: 0 0 0 0;\n",
              "      width: 32px;\n",
              "    }\n",
              "\n",
              "    .colab-df-convert:hover {\n",
              "      background-color: #E2EBFA;\n",
              "      box-shadow: 0px 1px 2px rgba(60, 64, 67, 0.3), 0px 1px 3px 1px rgba(60, 64, 67, 0.15);\n",
              "      fill: #174EA6;\n",
              "    }\n",
              "\n",
              "    [theme=dark] .colab-df-convert {\n",
              "      background-color: #3B4455;\n",
              "      fill: #D2E3FC;\n",
              "    }\n",
              "\n",
              "    [theme=dark] .colab-df-convert:hover {\n",
              "      background-color: #434B5C;\n",
              "      box-shadow: 0px 1px 3px 1px rgba(0, 0, 0, 0.15);\n",
              "      filter: drop-shadow(0px 1px 2px rgba(0, 0, 0, 0.3));\n",
              "      fill: #FFFFFF;\n",
              "    }\n",
              "  </style>\n",
              "\n",
              "      <script>\n",
              "        const buttonEl =\n",
              "          document.querySelector('#df-ba59274c-78e9-4ea4-ac20-9cce05bcd359 button.colab-df-convert');\n",
              "        buttonEl.style.display =\n",
              "          google.colab.kernel.accessAllowed ? 'block' : 'none';\n",
              "\n",
              "        async function convertToInteractive(key) {\n",
              "          const element = document.querySelector('#df-ba59274c-78e9-4ea4-ac20-9cce05bcd359');\n",
              "          const dataTable =\n",
              "            await google.colab.kernel.invokeFunction('convertToInteractive',\n",
              "                                                     [key], {});\n",
              "          if (!dataTable) return;\n",
              "\n",
              "          const docLinkHtml = 'Like what you see? Visit the ' +\n",
              "            '<a target=\"_blank\" href=https://colab.research.google.com/notebooks/data_table.ipynb>data table notebook</a>'\n",
              "            + ' to learn more about interactive tables.';\n",
              "          element.innerHTML = '';\n",
              "          dataTable['output_type'] = 'display_data';\n",
              "          await google.colab.output.renderOutput(dataTable, element);\n",
              "          const docLink = document.createElement('div');\n",
              "          docLink.innerHTML = docLinkHtml;\n",
              "          element.appendChild(docLink);\n",
              "        }\n",
              "      </script>\n",
              "    </div>\n",
              "  </div>\n",
              "  "
            ]
          },
          "metadata": {},
          "execution_count": 11
        }
      ],
      "source": [
        "data.head(10)"
      ]
    },
    {
      "cell_type": "code",
      "execution_count": 12,
      "metadata": {
        "id": "b_gOLx0FvCOb"
      },
      "outputs": [],
      "source": [
        "# #подготовим функцию для лемматизации текста\n",
        "\n",
        "# lemmatizer = WordNetLemmatizer()\n",
        "\n",
        "# nltk.download('wordnet')\n",
        "# nltk.download('punkt')\n",
        "# nltk.download('averaged_perceptron_tagger')\n",
        "\n",
        "# def get_wordnet_pos(word):\n",
        "#     tag = nltk.pos_tag([word])[0][1][0].upper()\n",
        "#     tag_dict = {\"J\": wordnet.ADJ,\n",
        "#                 \"N\": wordnet.NOUN,\n",
        "#                 \"V\": wordnet.VERB,\n",
        "#                 \"R\": wordnet.ADV}\n",
        "#     return tag_dict.get(tag, wordnet.NOUN)"
      ]
    },
    {
      "cell_type": "code",
      "execution_count": 13,
      "metadata": {
        "id": "CWqwzuCjrS1M"
      },
      "outputs": [],
      "source": [
        "lemmatizer = WordNetLemmatizer()\n",
        "\n",
        "def lemmatization(text):\n",
        "    lemm_list = nltk.word_tokenize(text)\n",
        "    return ' '.join([lemmatizer.lemmatize(w, 'v') for w in (lemm_list)])"
      ]
    },
    {
      "cell_type": "code",
      "execution_count": 14,
      "metadata": {
        "colab": {
          "base_uri": "https://localhost:8080/"
        },
        "id": "tUnPQqzFvCOb",
        "outputId": "d14c3555-d36b-476c-82d0-f1c4ad843e21"
      },
      "outputs": [
        {
          "output_type": "stream",
          "name": "stdout",
          "text": [
            "CPU times: user 1min 37s, sys: 612 ms, total: 1min 37s\n",
            "Wall time: 1min 45s\n"
          ]
        }
      ],
      "source": [
        "%%time\n",
        "\n",
        "data['lemmas'] = data['text'].apply(lambda x:lemmatization(x))"
      ]
    },
    {
      "cell_type": "code",
      "execution_count": 15,
      "metadata": {
        "colab": {
          "base_uri": "https://localhost:8080/",
          "height": 363
        },
        "id": "j7G7DaV9vCOb",
        "outputId": "d3474a1b-2d04-4829-dbe1-1aa6b2419c16",
        "scrolled": true
      },
      "outputs": [
        {
          "output_type": "execute_result",
          "data": {
            "text/plain": [
              "                                                text  toxic  \\\n",
              "0  Explanation Why the edits made under my userna...      0   \n",
              "1  D aww He matches this background colour I m se...      0   \n",
              "2  Hey man I m really not trying to edit war It s...      0   \n",
              "3  More I can t make any real suggestions on impr...      0   \n",
              "4  You sir are my hero Any chance you remember wh...      0   \n",
              "5  Congratulations from me as well use the tools ...      0   \n",
              "6       COCKSUCKER BEFORE YOU PISS AROUND ON MY WORK      1   \n",
              "7  Your vandalism to the Matt Shirvington article...      0   \n",
              "8  Sorry if the word nonsense was offensive to yo...      0   \n",
              "9  alignment on this subject and which are contra...      0   \n",
              "\n",
              "                                              lemmas  \n",
              "0  Explanation Why the edit make under my usernam...  \n",
              "1  D aww He match this background colour I m seem...  \n",
              "2  Hey man I m really not try to edit war It s ju...  \n",
              "3  More I can t make any real suggestions on impr...  \n",
              "4  You sir be my hero Any chance you remember wha...  \n",
              "5  Congratulations from me as well use the tool w...  \n",
              "6       COCKSUCKER BEFORE YOU PISS AROUND ON MY WORK  \n",
              "7  Your vandalism to the Matt Shirvington article...  \n",
              "8  Sorry if the word nonsense be offensive to you...  \n",
              "9  alignment on this subject and which be contrar...  "
            ],
            "text/html": [
              "\n",
              "  <div id=\"df-fb012be1-4be2-4177-aef0-9767bf70df2b\">\n",
              "    <div class=\"colab-df-container\">\n",
              "      <div>\n",
              "<style scoped>\n",
              "    .dataframe tbody tr th:only-of-type {\n",
              "        vertical-align: middle;\n",
              "    }\n",
              "\n",
              "    .dataframe tbody tr th {\n",
              "        vertical-align: top;\n",
              "    }\n",
              "\n",
              "    .dataframe thead th {\n",
              "        text-align: right;\n",
              "    }\n",
              "</style>\n",
              "<table border=\"1\" class=\"dataframe\">\n",
              "  <thead>\n",
              "    <tr style=\"text-align: right;\">\n",
              "      <th></th>\n",
              "      <th>text</th>\n",
              "      <th>toxic</th>\n",
              "      <th>lemmas</th>\n",
              "    </tr>\n",
              "  </thead>\n",
              "  <tbody>\n",
              "    <tr>\n",
              "      <th>0</th>\n",
              "      <td>Explanation Why the edits made under my userna...</td>\n",
              "      <td>0</td>\n",
              "      <td>Explanation Why the edit make under my usernam...</td>\n",
              "    </tr>\n",
              "    <tr>\n",
              "      <th>1</th>\n",
              "      <td>D aww He matches this background colour I m se...</td>\n",
              "      <td>0</td>\n",
              "      <td>D aww He match this background colour I m seem...</td>\n",
              "    </tr>\n",
              "    <tr>\n",
              "      <th>2</th>\n",
              "      <td>Hey man I m really not trying to edit war It s...</td>\n",
              "      <td>0</td>\n",
              "      <td>Hey man I m really not try to edit war It s ju...</td>\n",
              "    </tr>\n",
              "    <tr>\n",
              "      <th>3</th>\n",
              "      <td>More I can t make any real suggestions on impr...</td>\n",
              "      <td>0</td>\n",
              "      <td>More I can t make any real suggestions on impr...</td>\n",
              "    </tr>\n",
              "    <tr>\n",
              "      <th>4</th>\n",
              "      <td>You sir are my hero Any chance you remember wh...</td>\n",
              "      <td>0</td>\n",
              "      <td>You sir be my hero Any chance you remember wha...</td>\n",
              "    </tr>\n",
              "    <tr>\n",
              "      <th>5</th>\n",
              "      <td>Congratulations from me as well use the tools ...</td>\n",
              "      <td>0</td>\n",
              "      <td>Congratulations from me as well use the tool w...</td>\n",
              "    </tr>\n",
              "    <tr>\n",
              "      <th>6</th>\n",
              "      <td>COCKSUCKER BEFORE YOU PISS AROUND ON MY WORK</td>\n",
              "      <td>1</td>\n",
              "      <td>COCKSUCKER BEFORE YOU PISS AROUND ON MY WORK</td>\n",
              "    </tr>\n",
              "    <tr>\n",
              "      <th>7</th>\n",
              "      <td>Your vandalism to the Matt Shirvington article...</td>\n",
              "      <td>0</td>\n",
              "      <td>Your vandalism to the Matt Shirvington article...</td>\n",
              "    </tr>\n",
              "    <tr>\n",
              "      <th>8</th>\n",
              "      <td>Sorry if the word nonsense was offensive to yo...</td>\n",
              "      <td>0</td>\n",
              "      <td>Sorry if the word nonsense be offensive to you...</td>\n",
              "    </tr>\n",
              "    <tr>\n",
              "      <th>9</th>\n",
              "      <td>alignment on this subject and which are contra...</td>\n",
              "      <td>0</td>\n",
              "      <td>alignment on this subject and which be contrar...</td>\n",
              "    </tr>\n",
              "  </tbody>\n",
              "</table>\n",
              "</div>\n",
              "      <button class=\"colab-df-convert\" onclick=\"convertToInteractive('df-fb012be1-4be2-4177-aef0-9767bf70df2b')\"\n",
              "              title=\"Convert this dataframe to an interactive table.\"\n",
              "              style=\"display:none;\">\n",
              "        \n",
              "  <svg xmlns=\"http://www.w3.org/2000/svg\" height=\"24px\"viewBox=\"0 0 24 24\"\n",
              "       width=\"24px\">\n",
              "    <path d=\"M0 0h24v24H0V0z\" fill=\"none\"/>\n",
              "    <path d=\"M18.56 5.44l.94 2.06.94-2.06 2.06-.94-2.06-.94-.94-2.06-.94 2.06-2.06.94zm-11 1L8.5 8.5l.94-2.06 2.06-.94-2.06-.94L8.5 2.5l-.94 2.06-2.06.94zm10 10l.94 2.06.94-2.06 2.06-.94-2.06-.94-.94-2.06-.94 2.06-2.06.94z\"/><path d=\"M17.41 7.96l-1.37-1.37c-.4-.4-.92-.59-1.43-.59-.52 0-1.04.2-1.43.59L10.3 9.45l-7.72 7.72c-.78.78-.78 2.05 0 2.83L4 21.41c.39.39.9.59 1.41.59.51 0 1.02-.2 1.41-.59l7.78-7.78 2.81-2.81c.8-.78.8-2.07 0-2.86zM5.41 20L4 18.59l7.72-7.72 1.47 1.35L5.41 20z\"/>\n",
              "  </svg>\n",
              "      </button>\n",
              "      \n",
              "  <style>\n",
              "    .colab-df-container {\n",
              "      display:flex;\n",
              "      flex-wrap:wrap;\n",
              "      gap: 12px;\n",
              "    }\n",
              "\n",
              "    .colab-df-convert {\n",
              "      background-color: #E8F0FE;\n",
              "      border: none;\n",
              "      border-radius: 50%;\n",
              "      cursor: pointer;\n",
              "      display: none;\n",
              "      fill: #1967D2;\n",
              "      height: 32px;\n",
              "      padding: 0 0 0 0;\n",
              "      width: 32px;\n",
              "    }\n",
              "\n",
              "    .colab-df-convert:hover {\n",
              "      background-color: #E2EBFA;\n",
              "      box-shadow: 0px 1px 2px rgba(60, 64, 67, 0.3), 0px 1px 3px 1px rgba(60, 64, 67, 0.15);\n",
              "      fill: #174EA6;\n",
              "    }\n",
              "\n",
              "    [theme=dark] .colab-df-convert {\n",
              "      background-color: #3B4455;\n",
              "      fill: #D2E3FC;\n",
              "    }\n",
              "\n",
              "    [theme=dark] .colab-df-convert:hover {\n",
              "      background-color: #434B5C;\n",
              "      box-shadow: 0px 1px 3px 1px rgba(0, 0, 0, 0.15);\n",
              "      filter: drop-shadow(0px 1px 2px rgba(0, 0, 0, 0.3));\n",
              "      fill: #FFFFFF;\n",
              "    }\n",
              "  </style>\n",
              "\n",
              "      <script>\n",
              "        const buttonEl =\n",
              "          document.querySelector('#df-fb012be1-4be2-4177-aef0-9767bf70df2b button.colab-df-convert');\n",
              "        buttonEl.style.display =\n",
              "          google.colab.kernel.accessAllowed ? 'block' : 'none';\n",
              "\n",
              "        async function convertToInteractive(key) {\n",
              "          const element = document.querySelector('#df-fb012be1-4be2-4177-aef0-9767bf70df2b');\n",
              "          const dataTable =\n",
              "            await google.colab.kernel.invokeFunction('convertToInteractive',\n",
              "                                                     [key], {});\n",
              "          if (!dataTable) return;\n",
              "\n",
              "          const docLinkHtml = 'Like what you see? Visit the ' +\n",
              "            '<a target=\"_blank\" href=https://colab.research.google.com/notebooks/data_table.ipynb>data table notebook</a>'\n",
              "            + ' to learn more about interactive tables.';\n",
              "          element.innerHTML = '';\n",
              "          dataTable['output_type'] = 'display_data';\n",
              "          await google.colab.output.renderOutput(dataTable, element);\n",
              "          const docLink = document.createElement('div');\n",
              "          docLink.innerHTML = docLinkHtml;\n",
              "          element.appendChild(docLink);\n",
              "        }\n",
              "      </script>\n",
              "    </div>\n",
              "  </div>\n",
              "  "
            ]
          },
          "metadata": {},
          "execution_count": 15
        }
      ],
      "source": [
        "data.head(10)"
      ]
    },
    {
      "cell_type": "markdown",
      "metadata": {
        "id": "_Xe_Q92hvCOb"
      },
      "source": [
        "### Краткий итог"
      ]
    },
    {
      "cell_type": "markdown",
      "metadata": {
        "id": "Nvvxmz0VvCOc"
      },
      "source": [
        "- Выполнили очистку текста.\n",
        "- Выполнили лемматизацию. (В интернете прочитала, что есть опция подбора параметра pos, но по какой-то причине подбор не сработал, выдает ошибку)\n",
        "\n",
        "На данном этапе этих шагов достаточно."
      ]
    },
    {
      "cell_type": "markdown",
      "metadata": {
        "id": "VCpLqSUYvCOc"
      },
      "source": [
        "### Подготовка признаков"
      ]
    },
    {
      "cell_type": "code",
      "execution_count": 16,
      "metadata": {
        "colab": {
          "base_uri": "https://localhost:8080/"
        },
        "id": "VmgiQP-LvCOc",
        "outputId": "61c38233-e6c1-422a-a8a6-6560c818bdcc"
      },
      "outputs": [
        {
          "output_type": "stream",
          "name": "stdout",
          "text": [
            "Обучающая выборка:  (119678,) (119678,)\n",
            "Тестовая выборка:  (39893,) (39893,)\n",
            "Количество элементов обучающей выборки: 75%\n",
            "Количество элементов тестовой выборки: 25%\n"
          ]
        }
      ],
      "source": [
        "#поделим данные на обучающую и тестовую выборки\n",
        "\n",
        "features = data['lemmas']\n",
        "target = data['toxic']\n",
        "\n",
        "features_train, features_test, target_train, target_test = train_test_split(features, target, test_size=0.25, random_state=123456, stratify = target)\n",
        "\n",
        "print('Обучающая выборка: ', features_train.shape,  target_train.shape)\n",
        "print('Тестовая выборка: ', features_test.shape,  target_test.shape)\n",
        "print('Количество элементов обучающей выборки: {:.0f}%'.format(features_train.shape[0]/data.shape[0] * 100))\n",
        "print('Количество элементов тестовой выборки: {:.0f}%'.format(features_test.shape[0]/data.shape[0] * 100))"
      ]
    },
    {
      "cell_type": "code",
      "execution_count": 17,
      "metadata": {
        "id": "eJJrFglWvCOc"
      },
      "outputs": [],
      "source": [
        "stop_words = set(nltk_stopwords.words('english'))\n",
        "count_tf_idf = TfidfVectorizer(stop_words=stop_words)\n",
        "features_train = count_tf_idf.fit_transform(features_train)\n",
        "features_test = count_tf_idf.transform(features_test)"
      ]
    },
    {
      "cell_type": "markdown",
      "metadata": {
        "id": "IyBkFjuGvCOc"
      },
      "source": [
        "### Краткий итог"
      ]
    },
    {
      "cell_type": "markdown",
      "metadata": {
        "id": "jMJtxHVdvCOc"
      },
      "source": [
        "- Разделили данные на признаки и целевой признак. \n",
        "- В обучающую выборку попали 75% данных, в тестовую - 25%.\n",
        "- Провели векторизацию и добавили список стоп-слов."
      ]
    },
    {
      "cell_type": "markdown",
      "metadata": {
        "id": "6lbwcX83vCOc"
      },
      "source": [
        "## Обучение"
      ]
    },
    {
      "cell_type": "markdown",
      "metadata": {
        "id": "FYDsnLt-vCOd"
      },
      "source": [
        "Обучим следующие модели:\n",
        "\n",
        "- Логистическая регрессия\n",
        "- CatBoostClassifier\n",
        "- LGBMClassifier\n",
        "- LinearSVC"
      ]
    },
    {
      "cell_type": "code",
      "execution_count": 18,
      "metadata": {
        "id": "0Lbk4I3KyG_X"
      },
      "outputs": [],
      "source": [
        "# функия для расчёта F1\n",
        "def f_1 (target, prediction):\n",
        "    return f1_score(target, prediction)"
      ]
    },
    {
      "cell_type": "code",
      "execution_count": 19,
      "metadata": {
        "id": "UU094TFJyHiO"
      },
      "outputs": [],
      "source": [
        "#для наглядности результатов сведем полученные метрики в таблицу\n",
        "\n",
        "def metrics(result_train, result_test, model, data):\n",
        "    data.loc[model, 'F1_train'] = result_train\n",
        "    data.loc[model, 'F1_test'] = result_test\n",
        "    return data"
      ]
    },
    {
      "cell_type": "code",
      "execution_count": 20,
      "metadata": {
        "id": "op8ylwwjwl7O"
      },
      "outputs": [],
      "source": [
        "# Таблица для сравнения результатов работы моделей\n",
        "compare_models = pd.DataFrame(columns=['F1_train', 'F1_test'])"
      ]
    },
    {
      "cell_type": "code",
      "execution_count": 21,
      "metadata": {
        "id": "WJxDCATOwr1h"
      },
      "outputs": [],
      "source": [
        "score = make_scorer(f1_score,greater_is_better=True)"
      ]
    },
    {
      "cell_type": "markdown",
      "metadata": {
        "id": "ZOxPbV9lJfsW"
      },
      "source": [
        "### Константная модель"
      ]
    },
    {
      "cell_type": "code",
      "execution_count": 22,
      "metadata": {
        "colab": {
          "base_uri": "https://localhost:8080/"
        },
        "id": "bAiLfxD_Jk4B",
        "outputId": "d24b6adb-ccbd-45aa-b80f-c8c98e4ad015"
      },
      "outputs": [
        {
          "output_type": "stream",
          "name": "stdout",
          "text": [
            "F1 на обучающей выборке 0.18459274765447828\n",
            "F1 на тестовой выборке 0.18457757855696372\n",
            "CPU times: user 77.3 ms, sys: 985 µs, total: 78.3 ms\n",
            "Wall time: 77.6 ms\n"
          ]
        }
      ],
      "source": [
        "%%time\n",
        "\n",
        "#подготовим константную модель для проверки будущих моделей на адекватность\n",
        "\n",
        "\n",
        "dummy_model = DummyClassifier(strategy='constant', random_state=None, constant=1)\n",
        "dummy_model.fit(features_train, target_train)\n",
        "\n",
        "\n",
        "dummy_model_pred_train = dummy_model.predict(features_train)\n",
        "dummy_model_pred_test = dummy_model.predict(features_test)\n",
        "\n",
        "\n",
        "result_dummy_train = f_1(target_train, dummy_model_pred_train)\n",
        "result_dummy_test = f_1(target_test, dummy_model_pred_test)\n",
        "\n",
        "print('F1 на обучающей выборке', result_dummy_train)\n",
        "print('F1 на тестовой выборке', result_dummy_test)"
      ]
    },
    {
      "cell_type": "code",
      "execution_count": 23,
      "metadata": {
        "colab": {
          "base_uri": "https://localhost:8080/",
          "height": 81
        },
        "id": "PRFlFX5QM0-J",
        "outputId": "2b0f6186-02d3-4d52-d5d0-fc89ef709f8a"
      },
      "outputs": [
        {
          "output_type": "execute_result",
          "data": {
            "text/plain": [
              "                 F1_train   F1_test\n",
              "DummyClassifier  0.184593  0.184578"
            ],
            "text/html": [
              "\n",
              "  <div id=\"df-60413e29-8e7f-4277-8118-be2186582cf0\">\n",
              "    <div class=\"colab-df-container\">\n",
              "      <div>\n",
              "<style scoped>\n",
              "    .dataframe tbody tr th:only-of-type {\n",
              "        vertical-align: middle;\n",
              "    }\n",
              "\n",
              "    .dataframe tbody tr th {\n",
              "        vertical-align: top;\n",
              "    }\n",
              "\n",
              "    .dataframe thead th {\n",
              "        text-align: right;\n",
              "    }\n",
              "</style>\n",
              "<table border=\"1\" class=\"dataframe\">\n",
              "  <thead>\n",
              "    <tr style=\"text-align: right;\">\n",
              "      <th></th>\n",
              "      <th>F1_train</th>\n",
              "      <th>F1_test</th>\n",
              "    </tr>\n",
              "  </thead>\n",
              "  <tbody>\n",
              "    <tr>\n",
              "      <th>DummyClassifier</th>\n",
              "      <td>0.184593</td>\n",
              "      <td>0.184578</td>\n",
              "    </tr>\n",
              "  </tbody>\n",
              "</table>\n",
              "</div>\n",
              "      <button class=\"colab-df-convert\" onclick=\"convertToInteractive('df-60413e29-8e7f-4277-8118-be2186582cf0')\"\n",
              "              title=\"Convert this dataframe to an interactive table.\"\n",
              "              style=\"display:none;\">\n",
              "        \n",
              "  <svg xmlns=\"http://www.w3.org/2000/svg\" height=\"24px\"viewBox=\"0 0 24 24\"\n",
              "       width=\"24px\">\n",
              "    <path d=\"M0 0h24v24H0V0z\" fill=\"none\"/>\n",
              "    <path d=\"M18.56 5.44l.94 2.06.94-2.06 2.06-.94-2.06-.94-.94-2.06-.94 2.06-2.06.94zm-11 1L8.5 8.5l.94-2.06 2.06-.94-2.06-.94L8.5 2.5l-.94 2.06-2.06.94zm10 10l.94 2.06.94-2.06 2.06-.94-2.06-.94-.94-2.06-.94 2.06-2.06.94z\"/><path d=\"M17.41 7.96l-1.37-1.37c-.4-.4-.92-.59-1.43-.59-.52 0-1.04.2-1.43.59L10.3 9.45l-7.72 7.72c-.78.78-.78 2.05 0 2.83L4 21.41c.39.39.9.59 1.41.59.51 0 1.02-.2 1.41-.59l7.78-7.78 2.81-2.81c.8-.78.8-2.07 0-2.86zM5.41 20L4 18.59l7.72-7.72 1.47 1.35L5.41 20z\"/>\n",
              "  </svg>\n",
              "      </button>\n",
              "      \n",
              "  <style>\n",
              "    .colab-df-container {\n",
              "      display:flex;\n",
              "      flex-wrap:wrap;\n",
              "      gap: 12px;\n",
              "    }\n",
              "\n",
              "    .colab-df-convert {\n",
              "      background-color: #E8F0FE;\n",
              "      border: none;\n",
              "      border-radius: 50%;\n",
              "      cursor: pointer;\n",
              "      display: none;\n",
              "      fill: #1967D2;\n",
              "      height: 32px;\n",
              "      padding: 0 0 0 0;\n",
              "      width: 32px;\n",
              "    }\n",
              "\n",
              "    .colab-df-convert:hover {\n",
              "      background-color: #E2EBFA;\n",
              "      box-shadow: 0px 1px 2px rgba(60, 64, 67, 0.3), 0px 1px 3px 1px rgba(60, 64, 67, 0.15);\n",
              "      fill: #174EA6;\n",
              "    }\n",
              "\n",
              "    [theme=dark] .colab-df-convert {\n",
              "      background-color: #3B4455;\n",
              "      fill: #D2E3FC;\n",
              "    }\n",
              "\n",
              "    [theme=dark] .colab-df-convert:hover {\n",
              "      background-color: #434B5C;\n",
              "      box-shadow: 0px 1px 3px 1px rgba(0, 0, 0, 0.15);\n",
              "      filter: drop-shadow(0px 1px 2px rgba(0, 0, 0, 0.3));\n",
              "      fill: #FFFFFF;\n",
              "    }\n",
              "  </style>\n",
              "\n",
              "      <script>\n",
              "        const buttonEl =\n",
              "          document.querySelector('#df-60413e29-8e7f-4277-8118-be2186582cf0 button.colab-df-convert');\n",
              "        buttonEl.style.display =\n",
              "          google.colab.kernel.accessAllowed ? 'block' : 'none';\n",
              "\n",
              "        async function convertToInteractive(key) {\n",
              "          const element = document.querySelector('#df-60413e29-8e7f-4277-8118-be2186582cf0');\n",
              "          const dataTable =\n",
              "            await google.colab.kernel.invokeFunction('convertToInteractive',\n",
              "                                                     [key], {});\n",
              "          if (!dataTable) return;\n",
              "\n",
              "          const docLinkHtml = 'Like what you see? Visit the ' +\n",
              "            '<a target=\"_blank\" href=https://colab.research.google.com/notebooks/data_table.ipynb>data table notebook</a>'\n",
              "            + ' to learn more about interactive tables.';\n",
              "          element.innerHTML = '';\n",
              "          dataTable['output_type'] = 'display_data';\n",
              "          await google.colab.output.renderOutput(dataTable, element);\n",
              "          const docLink = document.createElement('div');\n",
              "          docLink.innerHTML = docLinkHtml;\n",
              "          element.appendChild(docLink);\n",
              "        }\n",
              "      </script>\n",
              "    </div>\n",
              "  </div>\n",
              "  "
            ]
          },
          "metadata": {},
          "execution_count": 23
        }
      ],
      "source": [
        "metrics(result_dummy_train, result_dummy_test, 'DummyClassifier', compare_models)"
      ]
    },
    {
      "cell_type": "markdown",
      "metadata": {
        "id": "X51-wjRTvCOd"
      },
      "source": [
        "### Логистическая регрессия"
      ]
    },
    {
      "cell_type": "code",
      "execution_count": 24,
      "metadata": {
        "colab": {
          "base_uri": "https://localhost:8080/"
        },
        "id": "XRpCtsfxxBGD",
        "outputId": "cb82ebe8-7636-41a7-ee05-1b9b44f431a0"
      },
      "outputs": [
        {
          "output_type": "stream",
          "name": "stdout",
          "text": [
            "Наилучшие параметры для модели Логистической регрессии: {'C': 7}\n",
            "CPU times: user 1min 4s, sys: 48.7 s, total: 1min 52s\n",
            "Wall time: 59.5 s\n"
          ]
        }
      ],
      "source": [
        "%%time\n",
        "\n",
        "#подберем параметры для Линейной регрессии\n",
        "\n",
        "model_lr = LogisticRegression(fit_intercept=True, \n",
        "                                class_weight='balanced', \n",
        "                                random_state=12345,\n",
        "                                solver='liblinear'\n",
        "                               )\n",
        "params_lr = {'C': [-5, 7, 50]}\n",
        "\n",
        "model_lr_gs = GridSearchCV(model_lr, params_lr, scoring=score)\n",
        "model_lr_gs.fit(features_train, target_train)\n",
        "\n",
        "\n",
        "print('Наилучшие параметры для модели Логистической регрессии:', model_lr_gs.best_params_)"
      ]
    },
    {
      "cell_type": "code",
      "execution_count": 25,
      "metadata": {
        "colab": {
          "base_uri": "https://localhost:8080/"
        },
        "id": "dVilqtWHym-Z",
        "outputId": "737505ed-c127-4a24-b665-35a2dab4b653"
      },
      "outputs": [
        {
          "output_type": "stream",
          "name": "stdout",
          "text": [
            "F1 на обучающей выборке 0.9570494128772953\n",
            "F1 на тестовой выборке 0.7621519584709768\n",
            "CPU times: user 8.71 s, sys: 6.75 s, total: 15.5 s\n",
            "Wall time: 7.95 s\n"
          ]
        }
      ],
      "source": [
        "%%time\n",
        "\n",
        "#обучим модель с подобранными параметрами\n",
        "\n",
        "model_lr_best = LogisticRegression(fit_intercept=True, \n",
        "                                class_weight='balanced', \n",
        "                                random_state=12345,\n",
        "                                solver='liblinear',\n",
        "                                C=50\n",
        "                               )\n",
        "model_lr_best.fit(features_train, target_train)\n",
        "model_lr_best_pred_train = model_lr_best.predict(features_train)\n",
        "model_lr_best_pred_test = model_lr_best.predict(features_test)\n",
        "\n",
        "result_model_lr_train = f_1(target_train, model_lr_best_pred_train)\n",
        "result_model_lr_target = f_1(target_test, model_lr_best_pred_test)\n",
        "\n",
        "print('F1 на обучающей выборке', result_model_lr_train)\n",
        "print('F1 на тестовой выборке', result_model_lr_target)"
      ]
    },
    {
      "cell_type": "code",
      "execution_count": 26,
      "metadata": {
        "colab": {
          "base_uri": "https://localhost:8080/",
          "height": 112
        },
        "id": "b3uPG6x_5nWU",
        "outputId": "8e1db1f9-275a-4e62-b596-f2a1e006a3b1"
      },
      "outputs": [
        {
          "output_type": "execute_result",
          "data": {
            "text/plain": [
              "                    F1_train   F1_test\n",
              "DummyClassifier     0.184593  0.184578\n",
              "LogisticRegression  0.957049  0.762152"
            ],
            "text/html": [
              "\n",
              "  <div id=\"df-bb51a53a-f885-4340-a8a6-1d56972c0e92\">\n",
              "    <div class=\"colab-df-container\">\n",
              "      <div>\n",
              "<style scoped>\n",
              "    .dataframe tbody tr th:only-of-type {\n",
              "        vertical-align: middle;\n",
              "    }\n",
              "\n",
              "    .dataframe tbody tr th {\n",
              "        vertical-align: top;\n",
              "    }\n",
              "\n",
              "    .dataframe thead th {\n",
              "        text-align: right;\n",
              "    }\n",
              "</style>\n",
              "<table border=\"1\" class=\"dataframe\">\n",
              "  <thead>\n",
              "    <tr style=\"text-align: right;\">\n",
              "      <th></th>\n",
              "      <th>F1_train</th>\n",
              "      <th>F1_test</th>\n",
              "    </tr>\n",
              "  </thead>\n",
              "  <tbody>\n",
              "    <tr>\n",
              "      <th>DummyClassifier</th>\n",
              "      <td>0.184593</td>\n",
              "      <td>0.184578</td>\n",
              "    </tr>\n",
              "    <tr>\n",
              "      <th>LogisticRegression</th>\n",
              "      <td>0.957049</td>\n",
              "      <td>0.762152</td>\n",
              "    </tr>\n",
              "  </tbody>\n",
              "</table>\n",
              "</div>\n",
              "      <button class=\"colab-df-convert\" onclick=\"convertToInteractive('df-bb51a53a-f885-4340-a8a6-1d56972c0e92')\"\n",
              "              title=\"Convert this dataframe to an interactive table.\"\n",
              "              style=\"display:none;\">\n",
              "        \n",
              "  <svg xmlns=\"http://www.w3.org/2000/svg\" height=\"24px\"viewBox=\"0 0 24 24\"\n",
              "       width=\"24px\">\n",
              "    <path d=\"M0 0h24v24H0V0z\" fill=\"none\"/>\n",
              "    <path d=\"M18.56 5.44l.94 2.06.94-2.06 2.06-.94-2.06-.94-.94-2.06-.94 2.06-2.06.94zm-11 1L8.5 8.5l.94-2.06 2.06-.94-2.06-.94L8.5 2.5l-.94 2.06-2.06.94zm10 10l.94 2.06.94-2.06 2.06-.94-2.06-.94-.94-2.06-.94 2.06-2.06.94z\"/><path d=\"M17.41 7.96l-1.37-1.37c-.4-.4-.92-.59-1.43-.59-.52 0-1.04.2-1.43.59L10.3 9.45l-7.72 7.72c-.78.78-.78 2.05 0 2.83L4 21.41c.39.39.9.59 1.41.59.51 0 1.02-.2 1.41-.59l7.78-7.78 2.81-2.81c.8-.78.8-2.07 0-2.86zM5.41 20L4 18.59l7.72-7.72 1.47 1.35L5.41 20z\"/>\n",
              "  </svg>\n",
              "      </button>\n",
              "      \n",
              "  <style>\n",
              "    .colab-df-container {\n",
              "      display:flex;\n",
              "      flex-wrap:wrap;\n",
              "      gap: 12px;\n",
              "    }\n",
              "\n",
              "    .colab-df-convert {\n",
              "      background-color: #E8F0FE;\n",
              "      border: none;\n",
              "      border-radius: 50%;\n",
              "      cursor: pointer;\n",
              "      display: none;\n",
              "      fill: #1967D2;\n",
              "      height: 32px;\n",
              "      padding: 0 0 0 0;\n",
              "      width: 32px;\n",
              "    }\n",
              "\n",
              "    .colab-df-convert:hover {\n",
              "      background-color: #E2EBFA;\n",
              "      box-shadow: 0px 1px 2px rgba(60, 64, 67, 0.3), 0px 1px 3px 1px rgba(60, 64, 67, 0.15);\n",
              "      fill: #174EA6;\n",
              "    }\n",
              "\n",
              "    [theme=dark] .colab-df-convert {\n",
              "      background-color: #3B4455;\n",
              "      fill: #D2E3FC;\n",
              "    }\n",
              "\n",
              "    [theme=dark] .colab-df-convert:hover {\n",
              "      background-color: #434B5C;\n",
              "      box-shadow: 0px 1px 3px 1px rgba(0, 0, 0, 0.15);\n",
              "      filter: drop-shadow(0px 1px 2px rgba(0, 0, 0, 0.3));\n",
              "      fill: #FFFFFF;\n",
              "    }\n",
              "  </style>\n",
              "\n",
              "      <script>\n",
              "        const buttonEl =\n",
              "          document.querySelector('#df-bb51a53a-f885-4340-a8a6-1d56972c0e92 button.colab-df-convert');\n",
              "        buttonEl.style.display =\n",
              "          google.colab.kernel.accessAllowed ? 'block' : 'none';\n",
              "\n",
              "        async function convertToInteractive(key) {\n",
              "          const element = document.querySelector('#df-bb51a53a-f885-4340-a8a6-1d56972c0e92');\n",
              "          const dataTable =\n",
              "            await google.colab.kernel.invokeFunction('convertToInteractive',\n",
              "                                                     [key], {});\n",
              "          if (!dataTable) return;\n",
              "\n",
              "          const docLinkHtml = 'Like what you see? Visit the ' +\n",
              "            '<a target=\"_blank\" href=https://colab.research.google.com/notebooks/data_table.ipynb>data table notebook</a>'\n",
              "            + ' to learn more about interactive tables.';\n",
              "          element.innerHTML = '';\n",
              "          dataTable['output_type'] = 'display_data';\n",
              "          await google.colab.output.renderOutput(dataTable, element);\n",
              "          const docLink = document.createElement('div');\n",
              "          docLink.innerHTML = docLinkHtml;\n",
              "          element.appendChild(docLink);\n",
              "        }\n",
              "      </script>\n",
              "    </div>\n",
              "  </div>\n",
              "  "
            ]
          },
          "metadata": {},
          "execution_count": 26
        }
      ],
      "source": [
        "metrics(result_model_lr_train, result_model_lr_target, 'LogisticRegression', compare_models)"
      ]
    },
    {
      "cell_type": "markdown",
      "metadata": {
        "id": "b-9XtWeO49aP"
      },
      "source": [
        "### CatBoostClassifier"
      ]
    },
    {
      "cell_type": "code",
      "execution_count": 27,
      "metadata": {
        "colab": {
          "base_uri": "https://localhost:8080/"
        },
        "id": "G6PsyfML5Bo3",
        "outputId": "0bbb099d-3863-45f0-cdbd-e9801ffe69fc"
      },
      "outputs": [
        {
          "output_type": "stream",
          "name": "stdout",
          "text": [
            "0:\tlearn: 0.2807908\ttotal: 1.22s\tremaining: 6m 6s\n",
            "10:\tlearn: 0.1801267\ttotal: 11.2s\tremaining: 4m 53s\n",
            "20:\tlearn: 0.1590067\ttotal: 20.9s\tremaining: 4m 37s\n",
            "30:\tlearn: 0.1465176\ttotal: 30.7s\tremaining: 4m 26s\n",
            "40:\tlearn: 0.1391415\ttotal: 40.4s\tremaining: 4m 15s\n",
            "50:\tlearn: 0.1339777\ttotal: 49.9s\tremaining: 4m 3s\n",
            "60:\tlearn: 0.1289881\ttotal: 59.6s\tremaining: 3m 53s\n",
            "70:\tlearn: 0.1254596\ttotal: 1m 9s\tremaining: 3m 42s\n",
            "80:\tlearn: 0.1223881\ttotal: 1m 18s\tremaining: 3m 32s\n",
            "90:\tlearn: 0.1197374\ttotal: 1m 28s\tremaining: 3m 22s\n",
            "100:\tlearn: 0.1166979\ttotal: 1m 37s\tremaining: 3m 12s\n",
            "110:\tlearn: 0.1143973\ttotal: 1m 47s\tremaining: 3m 2s\n",
            "120:\tlearn: 0.1123307\ttotal: 1m 56s\tremaining: 2m 52s\n",
            "130:\tlearn: 0.1105182\ttotal: 2m 6s\tremaining: 2m 42s\n",
            "140:\tlearn: 0.1090288\ttotal: 2m 15s\tremaining: 2m 33s\n",
            "150:\tlearn: 0.1073978\ttotal: 2m 25s\tremaining: 2m 23s\n",
            "160:\tlearn: 0.1053128\ttotal: 2m 35s\tremaining: 2m 13s\n",
            "170:\tlearn: 0.1040945\ttotal: 2m 44s\tremaining: 2m 4s\n",
            "180:\tlearn: 0.1022440\ttotal: 2m 54s\tremaining: 1m 54s\n",
            "190:\tlearn: 0.1010238\ttotal: 3m 3s\tremaining: 1m 44s\n",
            "200:\tlearn: 0.0988335\ttotal: 3m 13s\tremaining: 1m 35s\n",
            "210:\tlearn: 0.0973589\ttotal: 3m 23s\tremaining: 1m 25s\n",
            "220:\tlearn: 0.0958299\ttotal: 3m 32s\tremaining: 1m 16s\n",
            "230:\tlearn: 0.0946146\ttotal: 3m 42s\tremaining: 1m 6s\n",
            "240:\tlearn: 0.0934216\ttotal: 3m 51s\tremaining: 56.8s\n",
            "250:\tlearn: 0.0919068\ttotal: 4m 1s\tremaining: 47.2s\n",
            "260:\tlearn: 0.0908257\ttotal: 4m 11s\tremaining: 37.5s\n",
            "270:\tlearn: 0.0897335\ttotal: 4m 20s\tremaining: 27.9s\n",
            "280:\tlearn: 0.0886093\ttotal: 4m 30s\tremaining: 18.3s\n",
            "290:\tlearn: 0.0877398\ttotal: 4m 39s\tremaining: 8.65s\n",
            "299:\tlearn: 0.0868631\ttotal: 4m 48s\tremaining: 0us\n",
            "F1 на обучающей выборке 0.8419933554817276\n",
            "F1 на тестовой выборке 0.7613168724279835\n",
            "CPU times: user 10min, sys: 2.99 s, total: 10min 3s\n",
            "Wall time: 5min 27s\n"
          ]
        }
      ],
      "source": [
        "%%time\n",
        "\n",
        "#не будем применять подбор данных, так как время выполнения очень долгое\n",
        "\n",
        "model_cb = CatBoostClassifier(loss_function='Logloss',\n",
        "                    iterations=300,\n",
        "                    learning_rate=0.9,\n",
        "                    depth=4,\n",
        "                    verbose=10,\n",
        "                    random_state=12345)\n",
        "model_cb.fit(features_train, target_train)\n",
        "model_cb_pred_train = model_cb.predict(features_train)\n",
        "model_cb_pred_test = model_cb.predict(features_test)\n",
        "\n",
        "result_model_cb_train = f_1(target_train, model_cb_pred_train)\n",
        "result_model_cb_test = f_1(target_test, model_cb_pred_test)\n",
        "\n",
        "print('F1 на обучающей выборке', result_model_cb_train)\n",
        "print('F1 на тестовой выборке', result_model_cb_test)"
      ]
    },
    {
      "cell_type": "code",
      "execution_count": 28,
      "metadata": {
        "colab": {
          "base_uri": "https://localhost:8080/",
          "height": 143
        },
        "id": "jQ6cg3WN5B4w",
        "outputId": "994de251-9a2c-466a-b063-ff287eadcbc9"
      },
      "outputs": [
        {
          "output_type": "execute_result",
          "data": {
            "text/plain": [
              "                    F1_train   F1_test\n",
              "DummyClassifier     0.184593  0.184578\n",
              "LogisticRegression  0.957049  0.762152\n",
              "CatBoostClassifier  0.841993  0.761317"
            ],
            "text/html": [
              "\n",
              "  <div id=\"df-cec0469a-41de-4038-80a3-15ff03d8e98c\">\n",
              "    <div class=\"colab-df-container\">\n",
              "      <div>\n",
              "<style scoped>\n",
              "    .dataframe tbody tr th:only-of-type {\n",
              "        vertical-align: middle;\n",
              "    }\n",
              "\n",
              "    .dataframe tbody tr th {\n",
              "        vertical-align: top;\n",
              "    }\n",
              "\n",
              "    .dataframe thead th {\n",
              "        text-align: right;\n",
              "    }\n",
              "</style>\n",
              "<table border=\"1\" class=\"dataframe\">\n",
              "  <thead>\n",
              "    <tr style=\"text-align: right;\">\n",
              "      <th></th>\n",
              "      <th>F1_train</th>\n",
              "      <th>F1_test</th>\n",
              "    </tr>\n",
              "  </thead>\n",
              "  <tbody>\n",
              "    <tr>\n",
              "      <th>DummyClassifier</th>\n",
              "      <td>0.184593</td>\n",
              "      <td>0.184578</td>\n",
              "    </tr>\n",
              "    <tr>\n",
              "      <th>LogisticRegression</th>\n",
              "      <td>0.957049</td>\n",
              "      <td>0.762152</td>\n",
              "    </tr>\n",
              "    <tr>\n",
              "      <th>CatBoostClassifier</th>\n",
              "      <td>0.841993</td>\n",
              "      <td>0.761317</td>\n",
              "    </tr>\n",
              "  </tbody>\n",
              "</table>\n",
              "</div>\n",
              "      <button class=\"colab-df-convert\" onclick=\"convertToInteractive('df-cec0469a-41de-4038-80a3-15ff03d8e98c')\"\n",
              "              title=\"Convert this dataframe to an interactive table.\"\n",
              "              style=\"display:none;\">\n",
              "        \n",
              "  <svg xmlns=\"http://www.w3.org/2000/svg\" height=\"24px\"viewBox=\"0 0 24 24\"\n",
              "       width=\"24px\">\n",
              "    <path d=\"M0 0h24v24H0V0z\" fill=\"none\"/>\n",
              "    <path d=\"M18.56 5.44l.94 2.06.94-2.06 2.06-.94-2.06-.94-.94-2.06-.94 2.06-2.06.94zm-11 1L8.5 8.5l.94-2.06 2.06-.94-2.06-.94L8.5 2.5l-.94 2.06-2.06.94zm10 10l.94 2.06.94-2.06 2.06-.94-2.06-.94-.94-2.06-.94 2.06-2.06.94z\"/><path d=\"M17.41 7.96l-1.37-1.37c-.4-.4-.92-.59-1.43-.59-.52 0-1.04.2-1.43.59L10.3 9.45l-7.72 7.72c-.78.78-.78 2.05 0 2.83L4 21.41c.39.39.9.59 1.41.59.51 0 1.02-.2 1.41-.59l7.78-7.78 2.81-2.81c.8-.78.8-2.07 0-2.86zM5.41 20L4 18.59l7.72-7.72 1.47 1.35L5.41 20z\"/>\n",
              "  </svg>\n",
              "      </button>\n",
              "      \n",
              "  <style>\n",
              "    .colab-df-container {\n",
              "      display:flex;\n",
              "      flex-wrap:wrap;\n",
              "      gap: 12px;\n",
              "    }\n",
              "\n",
              "    .colab-df-convert {\n",
              "      background-color: #E8F0FE;\n",
              "      border: none;\n",
              "      border-radius: 50%;\n",
              "      cursor: pointer;\n",
              "      display: none;\n",
              "      fill: #1967D2;\n",
              "      height: 32px;\n",
              "      padding: 0 0 0 0;\n",
              "      width: 32px;\n",
              "    }\n",
              "\n",
              "    .colab-df-convert:hover {\n",
              "      background-color: #E2EBFA;\n",
              "      box-shadow: 0px 1px 2px rgba(60, 64, 67, 0.3), 0px 1px 3px 1px rgba(60, 64, 67, 0.15);\n",
              "      fill: #174EA6;\n",
              "    }\n",
              "\n",
              "    [theme=dark] .colab-df-convert {\n",
              "      background-color: #3B4455;\n",
              "      fill: #D2E3FC;\n",
              "    }\n",
              "\n",
              "    [theme=dark] .colab-df-convert:hover {\n",
              "      background-color: #434B5C;\n",
              "      box-shadow: 0px 1px 3px 1px rgba(0, 0, 0, 0.15);\n",
              "      filter: drop-shadow(0px 1px 2px rgba(0, 0, 0, 0.3));\n",
              "      fill: #FFFFFF;\n",
              "    }\n",
              "  </style>\n",
              "\n",
              "      <script>\n",
              "        const buttonEl =\n",
              "          document.querySelector('#df-cec0469a-41de-4038-80a3-15ff03d8e98c button.colab-df-convert');\n",
              "        buttonEl.style.display =\n",
              "          google.colab.kernel.accessAllowed ? 'block' : 'none';\n",
              "\n",
              "        async function convertToInteractive(key) {\n",
              "          const element = document.querySelector('#df-cec0469a-41de-4038-80a3-15ff03d8e98c');\n",
              "          const dataTable =\n",
              "            await google.colab.kernel.invokeFunction('convertToInteractive',\n",
              "                                                     [key], {});\n",
              "          if (!dataTable) return;\n",
              "\n",
              "          const docLinkHtml = 'Like what you see? Visit the ' +\n",
              "            '<a target=\"_blank\" href=https://colab.research.google.com/notebooks/data_table.ipynb>data table notebook</a>'\n",
              "            + ' to learn more about interactive tables.';\n",
              "          element.innerHTML = '';\n",
              "          dataTable['output_type'] = 'display_data';\n",
              "          await google.colab.output.renderOutput(dataTable, element);\n",
              "          const docLink = document.createElement('div');\n",
              "          docLink.innerHTML = docLinkHtml;\n",
              "          element.appendChild(docLink);\n",
              "        }\n",
              "      </script>\n",
              "    </div>\n",
              "  </div>\n",
              "  "
            ]
          },
          "metadata": {},
          "execution_count": 28
        }
      ],
      "source": [
        "metrics(result_model_cb_train, result_model_cb_test, 'CatBoostClassifier',compare_models)"
      ]
    },
    {
      "cell_type": "markdown",
      "metadata": {
        "id": "qR4FFp2G88S1"
      },
      "source": [
        "### LGBMClassifiere"
      ]
    },
    {
      "cell_type": "code",
      "execution_count": 29,
      "metadata": {
        "colab": {
          "base_uri": "https://localhost:8080/"
        },
        "id": "_kIqJutm9CZM",
        "outputId": "1b706d07-d39e-417d-ebef-89fd445f878c"
      },
      "outputs": [
        {
          "output_type": "stream",
          "name": "stdout",
          "text": [
            "F1 на обучающей выборке 0.781374002007936\n",
            "F1 на тестовой выборке 0.744455718220032\n",
            "CPU times: user 2min 10s, sys: 512 ms, total: 2min 11s\n",
            "Wall time: 1min 7s\n"
          ]
        }
      ],
      "source": [
        "%%time\n",
        "\n",
        "#подбор параметров производить не будем, т.к. этот процесс на этой модели занимает много времени\n",
        "\n",
        "model_lgbm = LGBMClassifier(random_state=12345)\n",
        "model_lgbm.fit(features_train, target_train, verbose=100)\n",
        "pred_lgbm_train=model_lgbm.predict(features_train)\n",
        "pred_lgbm_test=model_lgbm.predict(features_test)\n",
        "\n",
        "result_lgbm_train=f_1(target_train, pred_lgbm_train)\n",
        "result_lgbm_test=f_1(target_test, pred_lgbm_test)\n",
        "\n",
        "print('F1 на обучающей выборке', result_lgbm_train)\n",
        "print('F1 на тестовой выборке', result_lgbm_test)"
      ]
    },
    {
      "cell_type": "code",
      "execution_count": 30,
      "metadata": {
        "colab": {
          "base_uri": "https://localhost:8080/",
          "height": 175
        },
        "id": "HJ--CGWe9cY_",
        "outputId": "b52f3be2-2d13-41cd-f248-e75e7d265276"
      },
      "outputs": [
        {
          "output_type": "execute_result",
          "data": {
            "text/plain": [
              "                    F1_train   F1_test\n",
              "DummyClassifier     0.184593  0.184578\n",
              "LogisticRegression  0.957049  0.762152\n",
              "CatBoostClassifier  0.841993  0.761317\n",
              "LGBMClassifier      0.781374  0.744456"
            ],
            "text/html": [
              "\n",
              "  <div id=\"df-42011eb1-f515-4ad5-9fd3-926b8c2d9fbe\">\n",
              "    <div class=\"colab-df-container\">\n",
              "      <div>\n",
              "<style scoped>\n",
              "    .dataframe tbody tr th:only-of-type {\n",
              "        vertical-align: middle;\n",
              "    }\n",
              "\n",
              "    .dataframe tbody tr th {\n",
              "        vertical-align: top;\n",
              "    }\n",
              "\n",
              "    .dataframe thead th {\n",
              "        text-align: right;\n",
              "    }\n",
              "</style>\n",
              "<table border=\"1\" class=\"dataframe\">\n",
              "  <thead>\n",
              "    <tr style=\"text-align: right;\">\n",
              "      <th></th>\n",
              "      <th>F1_train</th>\n",
              "      <th>F1_test</th>\n",
              "    </tr>\n",
              "  </thead>\n",
              "  <tbody>\n",
              "    <tr>\n",
              "      <th>DummyClassifier</th>\n",
              "      <td>0.184593</td>\n",
              "      <td>0.184578</td>\n",
              "    </tr>\n",
              "    <tr>\n",
              "      <th>LogisticRegression</th>\n",
              "      <td>0.957049</td>\n",
              "      <td>0.762152</td>\n",
              "    </tr>\n",
              "    <tr>\n",
              "      <th>CatBoostClassifier</th>\n",
              "      <td>0.841993</td>\n",
              "      <td>0.761317</td>\n",
              "    </tr>\n",
              "    <tr>\n",
              "      <th>LGBMClassifier</th>\n",
              "      <td>0.781374</td>\n",
              "      <td>0.744456</td>\n",
              "    </tr>\n",
              "  </tbody>\n",
              "</table>\n",
              "</div>\n",
              "      <button class=\"colab-df-convert\" onclick=\"convertToInteractive('df-42011eb1-f515-4ad5-9fd3-926b8c2d9fbe')\"\n",
              "              title=\"Convert this dataframe to an interactive table.\"\n",
              "              style=\"display:none;\">\n",
              "        \n",
              "  <svg xmlns=\"http://www.w3.org/2000/svg\" height=\"24px\"viewBox=\"0 0 24 24\"\n",
              "       width=\"24px\">\n",
              "    <path d=\"M0 0h24v24H0V0z\" fill=\"none\"/>\n",
              "    <path d=\"M18.56 5.44l.94 2.06.94-2.06 2.06-.94-2.06-.94-.94-2.06-.94 2.06-2.06.94zm-11 1L8.5 8.5l.94-2.06 2.06-.94-2.06-.94L8.5 2.5l-.94 2.06-2.06.94zm10 10l.94 2.06.94-2.06 2.06-.94-2.06-.94-.94-2.06-.94 2.06-2.06.94z\"/><path d=\"M17.41 7.96l-1.37-1.37c-.4-.4-.92-.59-1.43-.59-.52 0-1.04.2-1.43.59L10.3 9.45l-7.72 7.72c-.78.78-.78 2.05 0 2.83L4 21.41c.39.39.9.59 1.41.59.51 0 1.02-.2 1.41-.59l7.78-7.78 2.81-2.81c.8-.78.8-2.07 0-2.86zM5.41 20L4 18.59l7.72-7.72 1.47 1.35L5.41 20z\"/>\n",
              "  </svg>\n",
              "      </button>\n",
              "      \n",
              "  <style>\n",
              "    .colab-df-container {\n",
              "      display:flex;\n",
              "      flex-wrap:wrap;\n",
              "      gap: 12px;\n",
              "    }\n",
              "\n",
              "    .colab-df-convert {\n",
              "      background-color: #E8F0FE;\n",
              "      border: none;\n",
              "      border-radius: 50%;\n",
              "      cursor: pointer;\n",
              "      display: none;\n",
              "      fill: #1967D2;\n",
              "      height: 32px;\n",
              "      padding: 0 0 0 0;\n",
              "      width: 32px;\n",
              "    }\n",
              "\n",
              "    .colab-df-convert:hover {\n",
              "      background-color: #E2EBFA;\n",
              "      box-shadow: 0px 1px 2px rgba(60, 64, 67, 0.3), 0px 1px 3px 1px rgba(60, 64, 67, 0.15);\n",
              "      fill: #174EA6;\n",
              "    }\n",
              "\n",
              "    [theme=dark] .colab-df-convert {\n",
              "      background-color: #3B4455;\n",
              "      fill: #D2E3FC;\n",
              "    }\n",
              "\n",
              "    [theme=dark] .colab-df-convert:hover {\n",
              "      background-color: #434B5C;\n",
              "      box-shadow: 0px 1px 3px 1px rgba(0, 0, 0, 0.15);\n",
              "      filter: drop-shadow(0px 1px 2px rgba(0, 0, 0, 0.3));\n",
              "      fill: #FFFFFF;\n",
              "    }\n",
              "  </style>\n",
              "\n",
              "      <script>\n",
              "        const buttonEl =\n",
              "          document.querySelector('#df-42011eb1-f515-4ad5-9fd3-926b8c2d9fbe button.colab-df-convert');\n",
              "        buttonEl.style.display =\n",
              "          google.colab.kernel.accessAllowed ? 'block' : 'none';\n",
              "\n",
              "        async function convertToInteractive(key) {\n",
              "          const element = document.querySelector('#df-42011eb1-f515-4ad5-9fd3-926b8c2d9fbe');\n",
              "          const dataTable =\n",
              "            await google.colab.kernel.invokeFunction('convertToInteractive',\n",
              "                                                     [key], {});\n",
              "          if (!dataTable) return;\n",
              "\n",
              "          const docLinkHtml = 'Like what you see? Visit the ' +\n",
              "            '<a target=\"_blank\" href=https://colab.research.google.com/notebooks/data_table.ipynb>data table notebook</a>'\n",
              "            + ' to learn more about interactive tables.';\n",
              "          element.innerHTML = '';\n",
              "          dataTable['output_type'] = 'display_data';\n",
              "          await google.colab.output.renderOutput(dataTable, element);\n",
              "          const docLink = document.createElement('div');\n",
              "          docLink.innerHTML = docLinkHtml;\n",
              "          element.appendChild(docLink);\n",
              "        }\n",
              "      </script>\n",
              "    </div>\n",
              "  </div>\n",
              "  "
            ]
          },
          "metadata": {},
          "execution_count": 30
        }
      ],
      "source": [
        "metrics(result_lgbm_train, result_lgbm_test, 'LGBMClassifier',compare_models)"
      ]
    },
    {
      "cell_type": "markdown",
      "metadata": {
        "id": "UHF-OsxTZ6dw"
      },
      "source": [
        "### LinearSVC "
      ]
    },
    {
      "cell_type": "code",
      "execution_count": 31,
      "metadata": {
        "colab": {
          "base_uri": "https://localhost:8080/"
        },
        "id": "ddPyAsmWZvzR",
        "outputId": "20997459-eeca-4713-ea79-9a362546274c"
      },
      "outputs": [
        {
          "output_type": "stream",
          "name": "stdout",
          "text": [
            "CPU times: user 3 µs, sys: 0 ns, total: 3 µs\n",
            "Wall time: 6.44 µs\n",
            "Fitting 5 folds for each of 3 candidates, totalling 15 fits\n",
            "Наилучшие параметры для модели LinearSVC: {'C': 0.5}\n"
          ]
        }
      ],
      "source": [
        "%time\n",
        "\n",
        "#найдем параметры для модели\n",
        "\n",
        "model_cvs = LinearSVC(random_state=12345, class_weight='balanced')\n",
        "\n",
        "params_cvs = [{'C': [0.5, 0.4, 0.3]}]\n",
        "\n",
        "\n",
        "grid_cvs = GridSearchCV(model_cvs, params_cvs, scoring=score, n_jobs=-1, \n",
        "                   cv=5, verbose=True)\n",
        "grid_cvs.fit(features_train, target_train)\n",
        "\n",
        "print('Наилучшие параметры для модели LinearSVC:', grid_cvs.best_params_)"
      ]
    },
    {
      "cell_type": "code",
      "execution_count": 32,
      "metadata": {
        "colab": {
          "base_uri": "https://localhost:8080/"
        },
        "id": "NFrl9Bn2fPmX",
        "outputId": "146e1aeb-384f-4380-c06e-3bb96db65bda"
      },
      "outputs": [
        {
          "output_type": "stream",
          "name": "stdout",
          "text": [
            "F1 на обучающей выборке 0.8809358435386585\n",
            "F1 на тестовой выборке 0.7621283255086072\n",
            "CPU times: user 1.97 s, sys: 11 ms, total: 1.98 s\n",
            "Wall time: 1.98 s\n"
          ]
        }
      ],
      "source": [
        "%%time\n",
        "\n",
        "#обучим модель с подобранными параметрами\n",
        "\n",
        "model_cvs_best = LinearSVC(random_state=12345, class_weight='balanced', C=0.3)\n",
        "model_cvs_best.fit(features_train, target_train)\n",
        "model_cvs_best_pred_train = model_cvs_best.predict(features_train)\n",
        "model_cvs_best_target = model_cvs_best.predict(features_test)\n",
        "\n",
        "result_model_cvs_train = f_1(target_train, model_cvs_best_pred_train)\n",
        "result_model_cvs_target = f_1(target_test, model_cvs_best_target)\n",
        "\n",
        "print('F1 на обучающей выборке', result_model_cvs_train)\n",
        "print('F1 на тестовой выборке', result_model_cvs_target)"
      ]
    },
    {
      "cell_type": "code",
      "execution_count": 33,
      "metadata": {
        "colab": {
          "base_uri": "https://localhost:8080/",
          "height": 206
        },
        "id": "n0wOr57YFyFV",
        "outputId": "2ccdaba1-ff4f-403f-91ff-87474c6e8d8d"
      },
      "outputs": [
        {
          "output_type": "execute_result",
          "data": {
            "text/plain": [
              "                    F1_train   F1_test\n",
              "DummyClassifier     0.184593  0.184578\n",
              "LogisticRegression  0.957049  0.762152\n",
              "CatBoostClassifier  0.841993  0.761317\n",
              "LGBMClassifier      0.781374  0.744456\n",
              "LinearSVC           0.880936  0.762128"
            ],
            "text/html": [
              "\n",
              "  <div id=\"df-20730117-37ea-4c94-a82d-f215f3fa572b\">\n",
              "    <div class=\"colab-df-container\">\n",
              "      <div>\n",
              "<style scoped>\n",
              "    .dataframe tbody tr th:only-of-type {\n",
              "        vertical-align: middle;\n",
              "    }\n",
              "\n",
              "    .dataframe tbody tr th {\n",
              "        vertical-align: top;\n",
              "    }\n",
              "\n",
              "    .dataframe thead th {\n",
              "        text-align: right;\n",
              "    }\n",
              "</style>\n",
              "<table border=\"1\" class=\"dataframe\">\n",
              "  <thead>\n",
              "    <tr style=\"text-align: right;\">\n",
              "      <th></th>\n",
              "      <th>F1_train</th>\n",
              "      <th>F1_test</th>\n",
              "    </tr>\n",
              "  </thead>\n",
              "  <tbody>\n",
              "    <tr>\n",
              "      <th>DummyClassifier</th>\n",
              "      <td>0.184593</td>\n",
              "      <td>0.184578</td>\n",
              "    </tr>\n",
              "    <tr>\n",
              "      <th>LogisticRegression</th>\n",
              "      <td>0.957049</td>\n",
              "      <td>0.762152</td>\n",
              "    </tr>\n",
              "    <tr>\n",
              "      <th>CatBoostClassifier</th>\n",
              "      <td>0.841993</td>\n",
              "      <td>0.761317</td>\n",
              "    </tr>\n",
              "    <tr>\n",
              "      <th>LGBMClassifier</th>\n",
              "      <td>0.781374</td>\n",
              "      <td>0.744456</td>\n",
              "    </tr>\n",
              "    <tr>\n",
              "      <th>LinearSVC</th>\n",
              "      <td>0.880936</td>\n",
              "      <td>0.762128</td>\n",
              "    </tr>\n",
              "  </tbody>\n",
              "</table>\n",
              "</div>\n",
              "      <button class=\"colab-df-convert\" onclick=\"convertToInteractive('df-20730117-37ea-4c94-a82d-f215f3fa572b')\"\n",
              "              title=\"Convert this dataframe to an interactive table.\"\n",
              "              style=\"display:none;\">\n",
              "        \n",
              "  <svg xmlns=\"http://www.w3.org/2000/svg\" height=\"24px\"viewBox=\"0 0 24 24\"\n",
              "       width=\"24px\">\n",
              "    <path d=\"M0 0h24v24H0V0z\" fill=\"none\"/>\n",
              "    <path d=\"M18.56 5.44l.94 2.06.94-2.06 2.06-.94-2.06-.94-.94-2.06-.94 2.06-2.06.94zm-11 1L8.5 8.5l.94-2.06 2.06-.94-2.06-.94L8.5 2.5l-.94 2.06-2.06.94zm10 10l.94 2.06.94-2.06 2.06-.94-2.06-.94-.94-2.06-.94 2.06-2.06.94z\"/><path d=\"M17.41 7.96l-1.37-1.37c-.4-.4-.92-.59-1.43-.59-.52 0-1.04.2-1.43.59L10.3 9.45l-7.72 7.72c-.78.78-.78 2.05 0 2.83L4 21.41c.39.39.9.59 1.41.59.51 0 1.02-.2 1.41-.59l7.78-7.78 2.81-2.81c.8-.78.8-2.07 0-2.86zM5.41 20L4 18.59l7.72-7.72 1.47 1.35L5.41 20z\"/>\n",
              "  </svg>\n",
              "      </button>\n",
              "      \n",
              "  <style>\n",
              "    .colab-df-container {\n",
              "      display:flex;\n",
              "      flex-wrap:wrap;\n",
              "      gap: 12px;\n",
              "    }\n",
              "\n",
              "    .colab-df-convert {\n",
              "      background-color: #E8F0FE;\n",
              "      border: none;\n",
              "      border-radius: 50%;\n",
              "      cursor: pointer;\n",
              "      display: none;\n",
              "      fill: #1967D2;\n",
              "      height: 32px;\n",
              "      padding: 0 0 0 0;\n",
              "      width: 32px;\n",
              "    }\n",
              "\n",
              "    .colab-df-convert:hover {\n",
              "      background-color: #E2EBFA;\n",
              "      box-shadow: 0px 1px 2px rgba(60, 64, 67, 0.3), 0px 1px 3px 1px rgba(60, 64, 67, 0.15);\n",
              "      fill: #174EA6;\n",
              "    }\n",
              "\n",
              "    [theme=dark] .colab-df-convert {\n",
              "      background-color: #3B4455;\n",
              "      fill: #D2E3FC;\n",
              "    }\n",
              "\n",
              "    [theme=dark] .colab-df-convert:hover {\n",
              "      background-color: #434B5C;\n",
              "      box-shadow: 0px 1px 3px 1px rgba(0, 0, 0, 0.15);\n",
              "      filter: drop-shadow(0px 1px 2px rgba(0, 0, 0, 0.3));\n",
              "      fill: #FFFFFF;\n",
              "    }\n",
              "  </style>\n",
              "\n",
              "      <script>\n",
              "        const buttonEl =\n",
              "          document.querySelector('#df-20730117-37ea-4c94-a82d-f215f3fa572b button.colab-df-convert');\n",
              "        buttonEl.style.display =\n",
              "          google.colab.kernel.accessAllowed ? 'block' : 'none';\n",
              "\n",
              "        async function convertToInteractive(key) {\n",
              "          const element = document.querySelector('#df-20730117-37ea-4c94-a82d-f215f3fa572b');\n",
              "          const dataTable =\n",
              "            await google.colab.kernel.invokeFunction('convertToInteractive',\n",
              "                                                     [key], {});\n",
              "          if (!dataTable) return;\n",
              "\n",
              "          const docLinkHtml = 'Like what you see? Visit the ' +\n",
              "            '<a target=\"_blank\" href=https://colab.research.google.com/notebooks/data_table.ipynb>data table notebook</a>'\n",
              "            + ' to learn more about interactive tables.';\n",
              "          element.innerHTML = '';\n",
              "          dataTable['output_type'] = 'display_data';\n",
              "          await google.colab.output.renderOutput(dataTable, element);\n",
              "          const docLink = document.createElement('div');\n",
              "          docLink.innerHTML = docLinkHtml;\n",
              "          element.appendChild(docLink);\n",
              "        }\n",
              "      </script>\n",
              "    </div>\n",
              "  </div>\n",
              "  "
            ]
          },
          "metadata": {},
          "execution_count": 33
        }
      ],
      "source": [
        "metrics(result_model_cvs_train, result_model_cvs_target, 'LinearSVC',compare_models)"
      ]
    },
    {
      "cell_type": "markdown",
      "metadata": {
        "id": "xoJg64qZGsMM"
      },
      "source": [
        "### Краткий итог"
      ]
    },
    {
      "cell_type": "markdown",
      "metadata": {
        "id": "oCNycjSNGvR0"
      },
      "source": [
        "- Были обучены 4 модели.\n",
        "- Для моделей Логистрическая регрессия и LinearSVC был произведен подбор параметров с помощью GridSearch.\n",
        "- Результаты F1 были объеденины в сводную таблицу для сравнения.\n",
        "- Все модели кроме LGBMClassifier соответствуют требованиям задания.\n",
        "- На обучающей выборке наилучший результат показа Линейная регрессия.\n",
        "- На тестовой выборке наилучший результат также показала Линейная регрессия, хотя CatBoost и LinearCVS \n",
        "- Модели были сравнены с константной моделью, и результат показывает, что все модели адекватны."
      ]
    },
    {
      "cell_type": "markdown",
      "metadata": {
        "id": "yHGtULBcvCOe"
      },
      "source": [
        "## Выводы"
      ]
    },
    {
      "cell_type": "markdown",
      "metadata": {
        "id": "1XLzy7jQUGpi"
      },
      "source": [
        "По результатам обучения моделей наилучший результат на тестовой выборке получился у модели Линейной регрессии. Вероятно, если бы удалось сделать подбор параметров для модели CatBoost, то результат финального сравнения мог бы быть совсем другим. Также интересно, что наилучшие результаты показали модели, для которых подбор параметров был произведен. По итогам проекта я рекомендую выбрать к работе модель Линейной регрессии."
      ]
    }
  ],
  "metadata": {
    "ExecuteTimeLog": [
      {
        "duration": 6,
        "start_time": "2022-05-24T08:43:58.943Z"
      },
      {
        "duration": 163,
        "start_time": "2022-05-24T08:46:11.553Z"
      },
      {
        "duration": 3053,
        "start_time": "2022-05-24T08:46:48.242Z"
      },
      {
        "duration": 29,
        "start_time": "2022-05-24T08:47:16.520Z"
      },
      {
        "duration": 9,
        "start_time": "2022-05-24T08:47:33.032Z"
      },
      {
        "duration": 28,
        "start_time": "2022-05-24T08:51:54.635Z"
      },
      {
        "duration": 10,
        "start_time": "2022-05-24T09:12:28.649Z"
      },
      {
        "duration": 14,
        "start_time": "2022-05-24T09:14:22.939Z"
      },
      {
        "duration": 9,
        "start_time": "2022-05-24T09:15:03.520Z"
      },
      {
        "duration": 5,
        "start_time": "2022-05-24T09:15:18.628Z"
      },
      {
        "duration": 9,
        "start_time": "2022-05-24T09:15:22.656Z"
      },
      {
        "duration": 151,
        "start_time": "2022-05-24T09:15:41.720Z"
      },
      {
        "duration": 165,
        "start_time": "2022-05-24T09:16:03.945Z"
      },
      {
        "duration": 166,
        "start_time": "2022-05-24T09:16:12.222Z"
      },
      {
        "duration": 169,
        "start_time": "2022-05-24T09:38:27.267Z"
      },
      {
        "duration": 2482,
        "start_time": "2022-05-24T20:33:24.597Z"
      },
      {
        "duration": 2479,
        "start_time": "2022-05-24T20:33:27.081Z"
      },
      {
        "duration": 34,
        "start_time": "2022-05-24T20:33:29.562Z"
      },
      {
        "duration": 11,
        "start_time": "2022-05-24T20:33:29.598Z"
      },
      {
        "duration": 200,
        "start_time": "2022-05-24T20:33:29.610Z"
      },
      {
        "duration": 3,
        "start_time": "2022-05-24T20:33:29.812Z"
      },
      {
        "duration": 6,
        "start_time": "2022-05-24T20:35:12.974Z"
      },
      {
        "duration": 120,
        "start_time": "2022-05-24T20:42:06.565Z"
      },
      {
        "duration": 100,
        "start_time": "2022-05-24T20:44:35.423Z"
      },
      {
        "duration": 219,
        "start_time": "2022-05-24T20:44:58.064Z"
      },
      {
        "duration": 5,
        "start_time": "2022-05-24T20:51:03.494Z"
      },
      {
        "duration": 128,
        "start_time": "2022-05-24T21:55:09.748Z"
      },
      {
        "duration": 6,
        "start_time": "2022-05-24T21:55:16.860Z"
      },
      {
        "duration": 2284,
        "start_time": "2022-05-24T21:55:16.867Z"
      },
      {
        "duration": 30,
        "start_time": "2022-05-24T21:55:19.153Z"
      },
      {
        "duration": 13,
        "start_time": "2022-05-24T21:55:19.185Z"
      },
      {
        "duration": 129,
        "start_time": "2022-05-24T21:55:19.200Z"
      },
      {
        "duration": 32,
        "start_time": "2022-05-24T21:55:19.331Z"
      },
      {
        "duration": 21,
        "start_time": "2022-05-24T21:55:19.364Z"
      },
      {
        "duration": 0,
        "start_time": "2022-05-24T21:55:19.386Z"
      },
      {
        "duration": 0,
        "start_time": "2022-05-24T21:55:19.387Z"
      },
      {
        "duration": 37,
        "start_time": "2022-05-24T21:55:45.639Z"
      },
      {
        "duration": 37,
        "start_time": "2022-05-24T21:55:56.679Z"
      },
      {
        "duration": 27,
        "start_time": "2022-05-24T21:59:16.540Z"
      },
      {
        "duration": 20,
        "start_time": "2022-05-24T22:00:41.699Z"
      },
      {
        "duration": 13,
        "start_time": "2022-05-24T22:02:08.287Z"
      },
      {
        "duration": 32,
        "start_time": "2022-05-24T22:02:58.215Z"
      },
      {
        "duration": 153,
        "start_time": "2022-05-24T22:03:32.111Z"
      },
      {
        "duration": 205,
        "start_time": "2022-05-24T22:04:05.009Z"
      },
      {
        "duration": 215,
        "start_time": "2022-05-24T22:04:31.695Z"
      },
      {
        "duration": 6,
        "start_time": "2022-05-24T22:14:30.849Z"
      },
      {
        "duration": 827,
        "start_time": "2022-05-24T22:14:30.857Z"
      },
      {
        "duration": 32,
        "start_time": "2022-05-24T22:14:31.686Z"
      },
      {
        "duration": 23,
        "start_time": "2022-05-24T22:14:31.720Z"
      },
      {
        "duration": 138,
        "start_time": "2022-05-24T22:14:31.744Z"
      },
      {
        "duration": 61,
        "start_time": "2022-05-24T22:14:31.884Z"
      },
      {
        "duration": 3,
        "start_time": "2022-05-24T22:14:31.947Z"
      },
      {
        "duration": 10,
        "start_time": "2022-05-24T22:14:31.952Z"
      },
      {
        "duration": 147,
        "start_time": "2022-05-24T22:19:44.818Z"
      },
      {
        "duration": 3,
        "start_time": "2022-05-24T22:20:20.647Z"
      },
      {
        "duration": 14,
        "start_time": "2022-05-24T22:20:37.787Z"
      },
      {
        "duration": 14,
        "start_time": "2022-05-24T22:20:48.183Z"
      },
      {
        "duration": 92013,
        "start_time": "2022-05-24T22:21:10.525Z"
      },
      {
        "duration": 5,
        "start_time": "2022-05-24T22:27:07.816Z"
      },
      {
        "duration": 4,
        "start_time": "2022-05-24T22:32:49.571Z"
      },
      {
        "duration": 206509,
        "start_time": "2022-05-24T22:32:53.525Z"
      },
      {
        "duration": 6,
        "start_time": "2022-05-24T22:42:19.118Z"
      },
      {
        "duration": 6,
        "start_time": "2022-05-24T22:42:27.128Z"
      },
      {
        "duration": 31,
        "start_time": "2022-05-24T22:42:30.891Z"
      },
      {
        "duration": 22140,
        "start_time": "2022-05-24T22:42:38.933Z"
      },
      {
        "duration": 3,
        "start_time": "2022-05-24T22:43:01.080Z"
      },
      {
        "duration": 6,
        "start_time": "2022-05-24T22:51:35.355Z"
      },
      {
        "duration": 828,
        "start_time": "2022-05-24T22:51:35.363Z"
      },
      {
        "duration": 45,
        "start_time": "2022-05-24T22:51:36.193Z"
      },
      {
        "duration": 30,
        "start_time": "2022-05-24T22:51:36.243Z"
      },
      {
        "duration": 197,
        "start_time": "2022-05-24T22:51:36.275Z"
      },
      {
        "duration": 70,
        "start_time": "2022-05-24T22:51:36.474Z"
      },
      {
        "duration": 20754,
        "start_time": "2022-05-24T22:51:36.546Z"
      },
      {
        "duration": 34,
        "start_time": "2022-05-24T22:51:57.303Z"
      },
      {
        "duration": 31,
        "start_time": "2022-05-24T22:56:02.879Z"
      },
      {
        "duration": 33,
        "start_time": "2022-05-24T22:56:51.046Z"
      },
      {
        "duration": 4,
        "start_time": "2022-05-24T23:03:58.403Z"
      },
      {
        "duration": 5,
        "start_time": "2022-05-24T23:04:18.492Z"
      },
      {
        "duration": 7,
        "start_time": "2022-05-24T23:04:26.915Z"
      },
      {
        "duration": 1166,
        "start_time": "2022-05-24T23:04:26.924Z"
      },
      {
        "duration": 42,
        "start_time": "2022-05-24T23:04:28.092Z"
      },
      {
        "duration": 26,
        "start_time": "2022-05-24T23:04:28.138Z"
      },
      {
        "duration": 169,
        "start_time": "2022-05-24T23:04:28.166Z"
      },
      {
        "duration": 55,
        "start_time": "2022-05-24T23:04:28.338Z"
      },
      {
        "duration": 6,
        "start_time": "2022-05-24T23:04:28.395Z"
      },
      {
        "duration": 209232,
        "start_time": "2022-05-24T23:04:28.402Z"
      },
      {
        "duration": 7,
        "start_time": "2022-05-24T23:07:57.636Z"
      },
      {
        "duration": 11,
        "start_time": "2022-05-24T23:07:57.646Z"
      },
      {
        "duration": 3,
        "start_time": "2022-05-24T23:17:47.222Z"
      },
      {
        "duration": 4,
        "start_time": "2022-05-24T23:21:56.985Z"
      },
      {
        "duration": 7059,
        "start_time": "2022-05-24T23:23:26.518Z"
      },
      {
        "duration": 7,
        "start_time": "2022-05-24T23:24:49.155Z"
      },
      {
        "duration": 78,
        "start_time": "2022-05-24T23:33:57.024Z"
      },
      {
        "duration": 35,
        "start_time": "2022-05-24T23:36:13.615Z"
      },
      {
        "duration": 165,
        "start_time": "2022-05-24T23:36:54.890Z"
      },
      {
        "duration": 62,
        "start_time": "2022-05-24T23:37:18.717Z"
      },
      {
        "duration": 27510,
        "start_time": "2022-05-24T23:38:00.201Z"
      },
      {
        "duration": 37,
        "start_time": "2022-05-24T23:45:44.280Z"
      },
      {
        "duration": 59,
        "start_time": "2022-05-24T23:45:56.191Z"
      },
      {
        "duration": 34,
        "start_time": "2022-05-24T23:46:07.083Z"
      },
      {
        "duration": 6,
        "start_time": "2022-05-24T23:46:20.064Z"
      },
      {
        "duration": 812,
        "start_time": "2022-05-24T23:46:20.072Z"
      },
      {
        "duration": 33,
        "start_time": "2022-05-24T23:46:20.886Z"
      },
      {
        "duration": 14,
        "start_time": "2022-05-24T23:46:20.930Z"
      },
      {
        "duration": 123,
        "start_time": "2022-05-24T23:46:20.946Z"
      },
      {
        "duration": 43,
        "start_time": "2022-05-24T23:46:21.071Z"
      },
      {
        "duration": 26,
        "start_time": "2022-05-24T23:46:21.116Z"
      },
      {
        "duration": 8,
        "start_time": "2022-05-24T23:46:47.538Z"
      },
      {
        "duration": 770,
        "start_time": "2022-05-24T23:46:47.547Z"
      },
      {
        "duration": 48,
        "start_time": "2022-05-24T23:46:48.319Z"
      },
      {
        "duration": 16,
        "start_time": "2022-05-24T23:46:48.369Z"
      },
      {
        "duration": 133,
        "start_time": "2022-05-24T23:46:48.386Z"
      },
      {
        "duration": 55,
        "start_time": "2022-05-24T23:46:48.526Z"
      },
      {
        "duration": 4,
        "start_time": "2022-05-24T23:46:48.583Z"
      },
      {
        "duration": 6,
        "start_time": "2022-05-24T23:48:29.762Z"
      },
      {
        "duration": 831,
        "start_time": "2022-05-24T23:48:29.769Z"
      },
      {
        "duration": 41,
        "start_time": "2022-05-24T23:48:30.602Z"
      },
      {
        "duration": 14,
        "start_time": "2022-05-24T23:48:30.644Z"
      },
      {
        "duration": 126,
        "start_time": "2022-05-24T23:48:30.659Z"
      },
      {
        "duration": 58,
        "start_time": "2022-05-24T23:48:30.787Z"
      },
      {
        "duration": 5,
        "start_time": "2022-05-24T23:48:30.847Z"
      },
      {
        "duration": 87424,
        "start_time": "2022-05-24T23:48:30.853Z"
      },
      {
        "duration": 4,
        "start_time": "2022-05-24T23:49:58.279Z"
      },
      {
        "duration": 3152,
        "start_time": "2022-05-24T23:49:58.285Z"
      },
      {
        "duration": 19963,
        "start_time": "2022-05-24T23:50:14.943Z"
      },
      {
        "duration": 4,
        "start_time": "2022-05-24T23:52:36.550Z"
      },
      {
        "duration": 18384,
        "start_time": "2022-05-24T23:59:05.376Z"
      },
      {
        "duration": 19721,
        "start_time": "2022-05-25T00:05:23.350Z"
      },
      {
        "duration": 298,
        "start_time": "2022-05-25T00:07:31.847Z"
      },
      {
        "duration": 1621,
        "start_time": "2022-05-25T00:07:52.561Z"
      },
      {
        "duration": 789,
        "start_time": "2022-05-25T00:07:54.184Z"
      },
      {
        "duration": 32,
        "start_time": "2022-05-25T00:07:54.975Z"
      },
      {
        "duration": 20,
        "start_time": "2022-05-25T00:07:55.008Z"
      },
      {
        "duration": 136,
        "start_time": "2022-05-25T00:07:55.030Z"
      },
      {
        "duration": 37,
        "start_time": "2022-05-25T00:07:55.168Z"
      },
      {
        "duration": 4,
        "start_time": "2022-05-25T00:07:55.207Z"
      },
      {
        "duration": 85618,
        "start_time": "2022-05-25T00:07:55.212Z"
      },
      {
        "duration": 4,
        "start_time": "2022-05-25T00:09:20.832Z"
      },
      {
        "duration": 2971,
        "start_time": "2022-05-25T00:09:20.838Z"
      },
      {
        "duration": 18613,
        "start_time": "2022-05-25T00:09:23.811Z"
      },
      {
        "duration": 19685,
        "start_time": "2022-05-25T00:09:42.426Z"
      },
      {
        "duration": 271,
        "start_time": "2022-05-25T08:48:59.988Z"
      },
      {
        "duration": 5549,
        "start_time": "2022-05-25T08:55:08.417Z"
      },
      {
        "duration": 69,
        "start_time": "2022-05-25T08:56:52.640Z"
      },
      {
        "duration": 14,
        "start_time": "2022-05-25T08:57:03.822Z"
      },
      {
        "duration": 821,
        "start_time": "2022-05-25T08:57:03.845Z"
      },
      {
        "duration": 27,
        "start_time": "2022-05-25T08:57:04.668Z"
      },
      {
        "duration": 21,
        "start_time": "2022-05-25T08:57:04.697Z"
      },
      {
        "duration": 152,
        "start_time": "2022-05-25T08:57:04.720Z"
      },
      {
        "duration": 49,
        "start_time": "2022-05-25T08:57:04.873Z"
      },
      {
        "duration": 5,
        "start_time": "2022-05-25T08:57:04.924Z"
      },
      {
        "duration": 98620,
        "start_time": "2022-05-25T08:57:04.931Z"
      },
      {
        "duration": 4,
        "start_time": "2022-05-25T08:58:43.552Z"
      },
      {
        "duration": 3273,
        "start_time": "2022-05-25T08:58:43.558Z"
      },
      {
        "duration": 7344,
        "start_time": "2022-05-25T08:58:46.833Z"
      },
      {
        "duration": 65,
        "start_time": "2022-05-25T08:58:54.178Z"
      },
      {
        "duration": 1833,
        "start_time": "2022-05-25T09:06:40.739Z"
      },
      {
        "duration": 784,
        "start_time": "2022-05-25T09:06:42.573Z"
      },
      {
        "duration": 30,
        "start_time": "2022-05-25T09:06:43.359Z"
      },
      {
        "duration": 29,
        "start_time": "2022-05-25T09:06:43.391Z"
      },
      {
        "duration": 142,
        "start_time": "2022-05-25T09:06:43.422Z"
      },
      {
        "duration": 3,
        "start_time": "2022-05-25T09:06:43.566Z"
      },
      {
        "duration": 7,
        "start_time": "2022-05-25T09:06:43.570Z"
      },
      {
        "duration": 9,
        "start_time": "2022-05-25T09:06:43.579Z"
      },
      {
        "duration": 6,
        "start_time": "2022-05-25T09:06:43.589Z"
      },
      {
        "duration": 38,
        "start_time": "2022-05-25T09:06:43.596Z"
      },
      {
        "duration": 0,
        "start_time": "2022-05-25T09:06:43.636Z"
      },
      {
        "duration": 0,
        "start_time": "2022-05-25T09:06:43.637Z"
      },
      {
        "duration": 4,
        "start_time": "2022-05-25T09:07:08.553Z"
      },
      {
        "duration": 2,
        "start_time": "2022-05-25T09:07:13.542Z"
      },
      {
        "duration": 2,
        "start_time": "2022-05-25T09:07:15.439Z"
      },
      {
        "duration": 5,
        "start_time": "2022-05-25T09:08:10.337Z"
      },
      {
        "duration": 0,
        "start_time": "2022-05-25T09:10:52.389Z"
      },
      {
        "duration": 3,
        "start_time": "2022-05-25T09:10:55.442Z"
      },
      {
        "duration": 133658,
        "start_time": "2022-05-25T09:11:13.401Z"
      },
      {
        "duration": 7,
        "start_time": "2022-05-25T09:14:13.044Z"
      },
      {
        "duration": 3,
        "start_time": "2022-05-25T09:18:40.947Z"
      },
      {
        "duration": 4778,
        "start_time": "2022-05-25T09:19:15.194Z"
      },
      {
        "duration": 37,
        "start_time": "2022-05-25T09:27:22.957Z"
      },
      {
        "duration": 73,
        "start_time": "2022-05-25T09:27:33.829Z"
      },
      {
        "duration": 113,
        "start_time": "2022-05-25T09:32:54.896Z"
      },
      {
        "duration": 16,
        "start_time": "2022-05-25T09:33:30.454Z"
      },
      {
        "duration": 5,
        "start_time": "2022-05-25T09:34:26.697Z"
      },
      {
        "duration": 3725,
        "start_time": "2022-05-25T09:35:45.382Z"
      },
      {
        "duration": 1965,
        "start_time": "2022-05-25T09:38:08.152Z"
      },
      {
        "duration": 39,
        "start_time": "2022-05-25T09:38:56.109Z"
      },
      {
        "duration": 49,
        "start_time": "2022-05-25T09:41:55.401Z"
      },
      {
        "duration": 59,
        "start_time": "2022-05-25T09:42:11.921Z"
      },
      {
        "duration": 15,
        "start_time": "2022-05-25T09:44:23.756Z"
      },
      {
        "duration": 16,
        "start_time": "2022-05-25T09:46:15.556Z"
      },
      {
        "duration": 18,
        "start_time": "2022-05-25T09:46:33.334Z"
      },
      {
        "duration": 65,
        "start_time": "2022-05-25T09:48:50.456Z"
      },
      {
        "duration": 11,
        "start_time": "2022-05-25T09:49:24.610Z"
      },
      {
        "duration": 12,
        "start_time": "2022-05-25T09:52:20.739Z"
      },
      {
        "duration": 22,
        "start_time": "2022-05-25T09:52:34.829Z"
      },
      {
        "duration": 24,
        "start_time": "2022-05-25T09:53:09.706Z"
      },
      {
        "duration": 183,
        "start_time": "2022-05-25T10:28:44.992Z"
      },
      {
        "duration": 724,
        "start_time": "2022-05-25T10:28:45.177Z"
      },
      {
        "duration": 41,
        "start_time": "2022-05-25T10:28:45.903Z"
      },
      {
        "duration": 8,
        "start_time": "2022-05-25T10:28:45.947Z"
      },
      {
        "duration": 133,
        "start_time": "2022-05-25T10:28:45.956Z"
      },
      {
        "duration": 4,
        "start_time": "2022-05-25T10:28:46.091Z"
      },
      {
        "duration": 24,
        "start_time": "2022-05-25T10:28:46.096Z"
      },
      {
        "duration": 2,
        "start_time": "2022-05-25T10:28:46.126Z"
      },
      {
        "duration": 11,
        "start_time": "2022-05-25T10:28:46.130Z"
      },
      {
        "duration": 4,
        "start_time": "2022-05-25T10:28:46.143Z"
      },
      {
        "duration": 7,
        "start_time": "2022-05-25T10:28:46.149Z"
      },
      {
        "duration": 6,
        "start_time": "2022-05-25T10:28:46.157Z"
      },
      {
        "duration": 4,
        "start_time": "2022-05-25T10:28:46.165Z"
      },
      {
        "duration": 9,
        "start_time": "2022-05-25T10:28:46.171Z"
      },
      {
        "duration": 6,
        "start_time": "2022-05-25T10:29:05.352Z"
      },
      {
        "duration": 784,
        "start_time": "2022-05-25T10:29:05.360Z"
      },
      {
        "duration": 34,
        "start_time": "2022-05-25T10:29:06.146Z"
      },
      {
        "duration": 30,
        "start_time": "2022-05-25T10:29:06.183Z"
      },
      {
        "duration": 147,
        "start_time": "2022-05-25T10:29:06.215Z"
      },
      {
        "duration": 3,
        "start_time": "2022-05-25T10:29:06.364Z"
      },
      {
        "duration": 6,
        "start_time": "2022-05-25T10:29:06.370Z"
      },
      {
        "duration": 7,
        "start_time": "2022-05-25T10:29:06.378Z"
      },
      {
        "duration": 9,
        "start_time": "2022-05-25T10:29:06.386Z"
      },
      {
        "duration": 33,
        "start_time": "2022-05-25T10:29:06.397Z"
      },
      {
        "duration": 10,
        "start_time": "2022-05-25T10:29:06.432Z"
      },
      {
        "duration": 11,
        "start_time": "2022-05-25T10:29:06.445Z"
      },
      {
        "duration": 8,
        "start_time": "2022-05-25T10:29:06.458Z"
      },
      {
        "duration": 19,
        "start_time": "2022-05-25T10:29:06.467Z"
      },
      {
        "duration": 21,
        "start_time": "2022-05-25T10:30:46.499Z"
      },
      {
        "duration": 7,
        "start_time": "2022-05-25T10:31:54.970Z"
      },
      {
        "duration": 758,
        "start_time": "2022-05-25T10:33:21.166Z"
      },
      {
        "duration": 14,
        "start_time": "2022-05-25T10:37:46.663Z"
      },
      {
        "duration": 3,
        "start_time": "2022-05-25T10:42:35.959Z"
      },
      {
        "duration": 169,
        "start_time": "2022-05-25T10:43:14.299Z"
      },
      {
        "duration": 4,
        "start_time": "2022-05-25T10:43:46.997Z"
      },
      {
        "duration": 661,
        "start_time": "2022-05-25T10:43:49.476Z"
      },
      {
        "duration": 8,
        "start_time": "2022-05-25T10:44:06.031Z"
      },
      {
        "duration": 6,
        "start_time": "2022-05-25T10:44:25.930Z"
      },
      {
        "duration": 41,
        "start_time": "2022-05-25T10:45:29.287Z"
      },
      {
        "duration": 53,
        "start_time": "2022-05-25T10:46:42.305Z"
      },
      {
        "duration": 13,
        "start_time": "2022-05-25T10:48:52.660Z"
      },
      {
        "duration": 3,
        "start_time": "2022-05-25T10:50:39.343Z"
      },
      {
        "duration": 6910,
        "start_time": "2022-05-25T10:50:44.427Z"
      },
      {
        "duration": 3,
        "start_time": "2022-05-25T10:50:58.141Z"
      },
      {
        "duration": 140,
        "start_time": "2022-05-25T10:51:02.548Z"
      },
      {
        "duration": 5,
        "start_time": "2022-05-25T10:51:13.840Z"
      },
      {
        "duration": 271,
        "start_time": "2022-05-25T10:51:18.989Z"
      },
      {
        "duration": 79,
        "start_time": "2022-05-25T10:51:25.450Z"
      },
      {
        "duration": 8,
        "start_time": "2022-05-25T10:57:48.988Z"
      },
      {
        "duration": 3,
        "start_time": "2022-05-25T10:58:15.625Z"
      },
      {
        "duration": 2,
        "start_time": "2022-05-25T10:58:23.328Z"
      },
      {
        "duration": 3,
        "start_time": "2022-05-25T10:58:32.767Z"
      },
      {
        "duration": 6,
        "start_time": "2022-05-25T10:58:54.372Z"
      },
      {
        "duration": 727,
        "start_time": "2022-05-25T10:58:54.380Z"
      },
      {
        "duration": 37,
        "start_time": "2022-05-25T10:58:55.109Z"
      },
      {
        "duration": 7,
        "start_time": "2022-05-25T10:58:55.148Z"
      },
      {
        "duration": 133,
        "start_time": "2022-05-25T10:58:55.157Z"
      },
      {
        "duration": 3,
        "start_time": "2022-05-25T10:58:55.291Z"
      },
      {
        "duration": 17,
        "start_time": "2022-05-25T10:58:55.295Z"
      },
      {
        "duration": 12,
        "start_time": "2022-05-25T10:58:55.315Z"
      },
      {
        "duration": 13,
        "start_time": "2022-05-25T10:58:55.330Z"
      },
      {
        "duration": 131433,
        "start_time": "2022-05-25T10:58:55.346Z"
      },
      {
        "duration": 7,
        "start_time": "2022-05-25T11:01:06.781Z"
      },
      {
        "duration": 5,
        "start_time": "2022-05-25T11:01:06.790Z"
      },
      {
        "duration": 4756,
        "start_time": "2022-05-25T11:01:06.811Z"
      },
      {
        "duration": 4,
        "start_time": "2022-05-25T11:01:11.569Z"
      },
      {
        "duration": 3592,
        "start_time": "2022-05-25T11:01:11.574Z"
      },
      {
        "duration": 1964,
        "start_time": "2022-05-25T11:01:15.168Z"
      },
      {
        "duration": 3,
        "start_time": "2022-05-25T11:01:17.134Z"
      },
      {
        "duration": 10,
        "start_time": "2022-05-25T11:01:17.139Z"
      },
      {
        "duration": 8,
        "start_time": "2022-05-25T11:01:31.142Z"
      },
      {
        "duration": 8,
        "start_time": "2022-05-25T11:01:56.333Z"
      },
      {
        "duration": 3,
        "start_time": "2022-05-25T11:02:07.833Z"
      },
      {
        "duration": 21413,
        "start_time": "2022-05-25T11:02:09.868Z"
      },
      {
        "duration": 11,
        "start_time": "2022-05-25T11:02:37.163Z"
      },
      {
        "duration": 4,
        "start_time": "2022-05-25T11:04:08.663Z"
      },
      {
        "duration": 2860,
        "start_time": "2022-05-25T11:04:15.120Z"
      },
      {
        "duration": 11,
        "start_time": "2022-05-25T11:04:21.440Z"
      },
      {
        "duration": 4,
        "start_time": "2022-05-25T11:05:00.563Z"
      },
      {
        "duration": 505,
        "start_time": "2022-05-25T11:05:03.103Z"
      },
      {
        "duration": 7,
        "start_time": "2022-05-25T11:05:06.638Z"
      },
      {
        "duration": 3,
        "start_time": "2022-05-25T13:11:48.114Z"
      },
      {
        "duration": 4402,
        "start_time": "2022-05-25T13:11:49.634Z"
      },
      {
        "duration": 9,
        "start_time": "2022-05-25T13:12:01.524Z"
      },
      {
        "duration": 7,
        "start_time": "2022-05-25T13:14:10.485Z"
      },
      {
        "duration": 770,
        "start_time": "2022-05-25T13:14:10.494Z"
      },
      {
        "duration": 30,
        "start_time": "2022-05-25T13:14:11.265Z"
      },
      {
        "duration": 26,
        "start_time": "2022-05-25T13:14:11.297Z"
      },
      {
        "duration": 146,
        "start_time": "2022-05-25T13:14:11.326Z"
      },
      {
        "duration": 4,
        "start_time": "2022-05-25T13:14:11.474Z"
      },
      {
        "duration": 12,
        "start_time": "2022-05-25T13:14:11.480Z"
      },
      {
        "duration": 4,
        "start_time": "2022-05-25T13:14:11.495Z"
      },
      {
        "duration": 163,
        "start_time": "2022-05-25T13:14:11.501Z"
      },
      {
        "duration": 0,
        "start_time": "2022-05-25T13:14:11.666Z"
      },
      {
        "duration": 0,
        "start_time": "2022-05-25T13:14:11.668Z"
      },
      {
        "duration": 0,
        "start_time": "2022-05-25T13:14:11.670Z"
      },
      {
        "duration": 0,
        "start_time": "2022-05-25T13:14:11.671Z"
      },
      {
        "duration": 0,
        "start_time": "2022-05-25T13:14:11.673Z"
      },
      {
        "duration": 0,
        "start_time": "2022-05-25T13:14:11.674Z"
      },
      {
        "duration": 0,
        "start_time": "2022-05-25T13:14:11.676Z"
      },
      {
        "duration": 0,
        "start_time": "2022-05-25T13:14:11.677Z"
      },
      {
        "duration": 0,
        "start_time": "2022-05-25T13:14:11.679Z"
      },
      {
        "duration": 0,
        "start_time": "2022-05-25T13:14:11.680Z"
      },
      {
        "duration": 0,
        "start_time": "2022-05-25T13:14:11.682Z"
      },
      {
        "duration": 0,
        "start_time": "2022-05-25T13:14:11.683Z"
      },
      {
        "duration": 3,
        "start_time": "2022-05-25T13:16:38.759Z"
      },
      {
        "duration": 14,
        "start_time": "2022-05-25T13:16:40.908Z"
      },
      {
        "duration": 4097,
        "start_time": "2022-05-25T13:16:48.074Z"
      },
      {
        "duration": 7,
        "start_time": "2022-05-25T13:16:59.100Z"
      },
      {
        "duration": 4,
        "start_time": "2022-05-25T13:17:24.357Z"
      },
      {
        "duration": 84884,
        "start_time": "2022-05-25T13:17:40.036Z"
      },
      {
        "duration": 7,
        "start_time": "2022-05-25T13:19:21.191Z"
      },
      {
        "duration": 8,
        "start_time": "2022-05-25T13:19:32.546Z"
      },
      {
        "duration": 10,
        "start_time": "2022-05-25T13:19:44.066Z"
      },
      {
        "duration": 8,
        "start_time": "2022-05-25T13:21:03.929Z"
      },
      {
        "duration": 3852,
        "start_time": "2022-05-25T13:21:31.495Z"
      },
      {
        "duration": 15,
        "start_time": "2022-05-25T13:21:45.777Z"
      },
      {
        "duration": 13908,
        "start_time": "2022-05-25T13:22:49.474Z"
      },
      {
        "duration": 8,
        "start_time": "2022-05-25T13:23:26.124Z"
      },
      {
        "duration": 1106,
        "start_time": "2022-05-25T13:23:26.135Z"
      },
      {
        "duration": 39,
        "start_time": "2022-05-25T13:23:27.243Z"
      },
      {
        "duration": 10,
        "start_time": "2022-05-25T13:23:27.285Z"
      },
      {
        "duration": 222,
        "start_time": "2022-05-25T13:23:27.297Z"
      },
      {
        "duration": 3,
        "start_time": "2022-05-25T13:23:27.521Z"
      },
      {
        "duration": 38,
        "start_time": "2022-05-25T13:23:27.526Z"
      },
      {
        "duration": 17,
        "start_time": "2022-05-25T13:23:27.566Z"
      },
      {
        "duration": 34,
        "start_time": "2022-05-25T13:23:27.586Z"
      },
      {
        "duration": 21,
        "start_time": "2022-05-25T13:23:27.623Z"
      },
      {
        "duration": 7010,
        "start_time": "2022-05-25T13:23:27.646Z"
      },
      {
        "duration": 10,
        "start_time": "2022-05-25T13:23:34.659Z"
      },
      {
        "duration": 17,
        "start_time": "2022-05-25T13:23:34.672Z"
      },
      {
        "duration": 91379,
        "start_time": "2022-05-25T13:23:34.691Z"
      },
      {
        "duration": 8,
        "start_time": "2022-05-25T13:25:06.072Z"
      },
      {
        "duration": 29552,
        "start_time": "2022-05-25T13:25:06.082Z"
      },
      {
        "duration": 1137,
        "start_time": "2022-05-25T13:26:22.278Z"
      },
      {
        "duration": 3,
        "start_time": "2022-05-25T13:28:39.006Z"
      },
      {
        "duration": 10,
        "start_time": "2022-05-25T13:31:11.053Z"
      },
      {
        "duration": 773,
        "start_time": "2022-05-25T13:31:11.064Z"
      },
      {
        "duration": 39,
        "start_time": "2022-05-25T13:31:11.839Z"
      },
      {
        "duration": 12,
        "start_time": "2022-05-25T13:31:11.880Z"
      },
      {
        "duration": 143,
        "start_time": "2022-05-25T13:31:11.894Z"
      },
      {
        "duration": 3,
        "start_time": "2022-05-25T13:31:12.051Z"
      },
      {
        "duration": 8,
        "start_time": "2022-05-25T13:31:12.056Z"
      },
      {
        "duration": 6,
        "start_time": "2022-05-25T13:31:12.066Z"
      },
      {
        "duration": 12,
        "start_time": "2022-05-25T13:31:12.074Z"
      },
      {
        "duration": 5,
        "start_time": "2022-05-25T13:31:12.088Z"
      },
      {
        "duration": 4402,
        "start_time": "2022-05-25T13:31:12.095Z"
      },
      {
        "duration": 8,
        "start_time": "2022-05-25T13:31:16.500Z"
      },
      {
        "duration": 16,
        "start_time": "2022-05-25T13:31:16.510Z"
      },
      {
        "duration": 88462,
        "start_time": "2022-05-25T13:31:16.528Z"
      },
      {
        "duration": 11,
        "start_time": "2022-05-25T13:32:44.992Z"
      },
      {
        "duration": 39,
        "start_time": "2022-05-25T13:32:45.004Z"
      },
      {
        "duration": 13,
        "start_time": "2022-05-25T13:32:45.045Z"
      },
      {
        "duration": 15,
        "start_time": "2022-05-25T13:32:45.059Z"
      },
      {
        "duration": 16,
        "start_time": "2022-05-25T13:32:45.076Z"
      },
      {
        "duration": 15,
        "start_time": "2022-05-25T13:32:45.094Z"
      },
      {
        "duration": 12,
        "start_time": "2022-05-25T13:32:45.111Z"
      },
      {
        "duration": 6,
        "start_time": "2022-05-25T13:32:45.125Z"
      },
      {
        "duration": 11,
        "start_time": "2022-05-25T13:32:45.133Z"
      },
      {
        "duration": 13,
        "start_time": "2022-05-25T13:32:45.145Z"
      },
      {
        "duration": 5,
        "start_time": "2022-05-25T13:32:45.160Z"
      },
      {
        "duration": 7,
        "start_time": "2022-05-25T13:32:45.167Z"
      },
      {
        "duration": 6,
        "start_time": "2022-05-25T13:32:45.176Z"
      },
      {
        "duration": 39,
        "start_time": "2022-05-25T13:33:19.732Z"
      },
      {
        "duration": 60,
        "start_time": "2022-05-25T13:33:26.492Z"
      },
      {
        "duration": 250,
        "start_time": "2022-05-25T13:34:25.028Z"
      },
      {
        "duration": 53,
        "start_time": "2022-05-25T13:34:33.593Z"
      },
      {
        "duration": 186,
        "start_time": "2022-05-25T13:39:17.705Z"
      },
      {
        "duration": 88799,
        "start_time": "2022-05-25T13:39:33.252Z"
      },
      {
        "duration": 12,
        "start_time": "2022-05-25T13:41:22.188Z"
      },
      {
        "duration": 61,
        "start_time": "2022-05-25T13:43:34.462Z"
      },
      {
        "duration": 70,
        "start_time": "2022-05-25T13:43:50.708Z"
      },
      {
        "duration": 5987,
        "start_time": "2022-05-25T13:46:39.668Z"
      },
      {
        "duration": 40,
        "start_time": "2022-05-25T14:01:53.287Z"
      },
      {
        "duration": 5798,
        "start_time": "2022-05-25T14:05:26.016Z"
      },
      {
        "duration": 5923,
        "start_time": "2022-05-25T14:06:20.256Z"
      },
      {
        "duration": 15,
        "start_time": "2022-05-25T14:13:51.958Z"
      },
      {
        "duration": 484,
        "start_time": "2022-05-25T14:14:07.242Z"
      },
      {
        "duration": 14,
        "start_time": "2022-05-25T14:14:40.997Z"
      },
      {
        "duration": 6,
        "start_time": "2022-05-25T14:14:48.571Z"
      },
      {
        "duration": 13,
        "start_time": "2022-05-25T14:16:52.892Z"
      },
      {
        "duration": 255692,
        "start_time": "2022-05-25T14:26:11.387Z"
      },
      {
        "duration": 2729,
        "start_time": "2022-05-25T14:42:00.766Z"
      },
      {
        "duration": 2458,
        "start_time": "2022-05-25T14:42:03.498Z"
      },
      {
        "duration": 40,
        "start_time": "2022-05-25T14:42:05.959Z"
      },
      {
        "duration": 13,
        "start_time": "2022-05-25T14:42:06.002Z"
      },
      {
        "duration": 246,
        "start_time": "2022-05-25T14:42:06.018Z"
      },
      {
        "duration": 3,
        "start_time": "2022-05-25T14:42:06.266Z"
      },
      {
        "duration": 10,
        "start_time": "2022-05-25T14:42:06.271Z"
      },
      {
        "duration": 7,
        "start_time": "2022-05-25T14:42:06.283Z"
      },
      {
        "duration": 12,
        "start_time": "2022-05-25T14:42:06.292Z"
      },
      {
        "duration": 5,
        "start_time": "2022-05-25T14:42:06.306Z"
      },
      {
        "duration": 5,
        "start_time": "2022-05-25T14:42:06.313Z"
      },
      {
        "duration": 4154,
        "start_time": "2022-05-25T14:42:06.320Z"
      },
      {
        "duration": 10,
        "start_time": "2022-05-25T14:42:10.477Z"
      },
      {
        "duration": 4,
        "start_time": "2022-05-25T14:42:10.492Z"
      },
      {
        "duration": 84871,
        "start_time": "2022-05-25T14:42:10.498Z"
      },
      {
        "duration": 11,
        "start_time": "2022-05-25T14:43:35.371Z"
      },
      {
        "duration": 27360,
        "start_time": "2022-05-25T14:43:35.383Z"
      },
      {
        "duration": 7,
        "start_time": "2022-05-25T14:44:02.745Z"
      },
      {
        "duration": 19,
        "start_time": "2022-05-25T14:44:02.753Z"
      },
      {
        "duration": 23,
        "start_time": "2022-05-25T14:44:02.774Z"
      },
      {
        "duration": 24,
        "start_time": "2022-05-25T14:44:02.798Z"
      },
      {
        "duration": 14,
        "start_time": "2022-05-25T14:44:02.824Z"
      },
      {
        "duration": 24,
        "start_time": "2022-05-25T14:44:02.840Z"
      },
      {
        "duration": 39,
        "start_time": "2022-05-25T14:44:02.866Z"
      },
      {
        "duration": 27,
        "start_time": "2022-05-25T14:44:02.906Z"
      },
      {
        "duration": 15,
        "start_time": "2022-05-25T14:44:02.935Z"
      },
      {
        "duration": 23,
        "start_time": "2022-05-25T14:44:02.952Z"
      },
      {
        "duration": 43,
        "start_time": "2022-05-25T14:44:02.977Z"
      },
      {
        "duration": 168,
        "start_time": "2022-05-25T14:44:03.022Z"
      },
      {
        "duration": 0,
        "start_time": "2022-05-25T14:44:03.193Z"
      },
      {
        "duration": 2,
        "start_time": "2022-05-25T14:46:52.091Z"
      },
      {
        "duration": 48,
        "start_time": "2022-05-25T14:46:55.313Z"
      },
      {
        "duration": 5,
        "start_time": "2022-05-25T14:49:02.795Z"
      },
      {
        "duration": 3,
        "start_time": "2022-05-25T14:50:28.418Z"
      },
      {
        "duration": 19,
        "start_time": "2022-05-25T14:50:53.044Z"
      },
      {
        "duration": 23,
        "start_time": "2022-05-25T14:51:40.235Z"
      },
      {
        "duration": 110,
        "start_time": "2022-05-25T14:53:32.756Z"
      },
      {
        "duration": 1427,
        "start_time": "2022-05-25T14:55:32.789Z"
      },
      {
        "duration": 32,
        "start_time": "2022-05-25T14:57:26.896Z"
      },
      {
        "duration": 30,
        "start_time": "2022-05-25T14:57:37.401Z"
      },
      {
        "duration": 24,
        "start_time": "2022-05-25T14:58:24.191Z"
      },
      {
        "duration": 26,
        "start_time": "2022-05-25T15:08:32.658Z"
      },
      {
        "duration": 4488,
        "start_time": "2022-05-25T15:12:57.448Z"
      },
      {
        "duration": 4,
        "start_time": "2022-05-25T15:49:41.334Z"
      },
      {
        "duration": 1396,
        "start_time": "2022-05-25T15:49:52.713Z"
      },
      {
        "duration": 2345,
        "start_time": "2022-05-25T15:49:56.050Z"
      },
      {
        "duration": 192,
        "start_time": "2022-05-25T15:50:08.462Z"
      },
      {
        "duration": 728,
        "start_time": "2022-05-25T15:50:08.656Z"
      },
      {
        "duration": 30,
        "start_time": "2022-05-25T15:50:09.387Z"
      },
      {
        "duration": 8,
        "start_time": "2022-05-25T15:50:09.419Z"
      },
      {
        "duration": 155,
        "start_time": "2022-05-25T15:50:09.428Z"
      },
      {
        "duration": 5,
        "start_time": "2022-05-25T15:50:09.585Z"
      },
      {
        "duration": 13,
        "start_time": "2022-05-25T15:50:09.591Z"
      },
      {
        "duration": 28,
        "start_time": "2022-05-25T15:50:09.606Z"
      },
      {
        "duration": 12,
        "start_time": "2022-05-25T15:50:09.636Z"
      },
      {
        "duration": 23,
        "start_time": "2022-05-25T15:50:09.650Z"
      },
      {
        "duration": 6,
        "start_time": "2022-05-25T15:50:09.676Z"
      },
      {
        "duration": 9,
        "start_time": "2022-05-25T15:50:09.684Z"
      },
      {
        "duration": 2067,
        "start_time": "2022-05-25T15:50:09.695Z"
      },
      {
        "duration": 1233,
        "start_time": "2022-05-25T15:50:16.706Z"
      },
      {
        "duration": 10,
        "start_time": "2022-05-25T15:50:19.255Z"
      },
      {
        "duration": 11,
        "start_time": "2022-05-25T15:57:50.947Z"
      },
      {
        "duration": 79,
        "start_time": "2022-05-25T15:57:57.265Z"
      },
      {
        "duration": 1998,
        "start_time": "2022-05-25T15:58:07.937Z"
      },
      {
        "duration": 2399,
        "start_time": "2022-05-25T15:58:09.937Z"
      },
      {
        "duration": 33,
        "start_time": "2022-05-25T15:58:12.338Z"
      },
      {
        "duration": 15,
        "start_time": "2022-05-25T15:58:12.373Z"
      },
      {
        "duration": 163,
        "start_time": "2022-05-25T15:58:12.389Z"
      },
      {
        "duration": 3,
        "start_time": "2022-05-25T15:58:12.554Z"
      },
      {
        "duration": 19,
        "start_time": "2022-05-25T15:58:12.559Z"
      },
      {
        "duration": 13,
        "start_time": "2022-05-25T15:58:12.581Z"
      },
      {
        "duration": 14,
        "start_time": "2022-05-25T15:58:12.597Z"
      },
      {
        "duration": 14,
        "start_time": "2022-05-25T15:58:12.615Z"
      },
      {
        "duration": 11,
        "start_time": "2022-05-25T15:58:12.631Z"
      },
      {
        "duration": 10,
        "start_time": "2022-05-25T15:58:12.645Z"
      },
      {
        "duration": 10115,
        "start_time": "2022-05-25T15:58:12.658Z"
      },
      {
        "duration": 9,
        "start_time": "2022-05-25T15:58:22.775Z"
      },
      {
        "duration": 5,
        "start_time": "2022-05-25T15:58:22.786Z"
      },
      {
        "duration": 91187,
        "start_time": "2022-05-25T15:58:22.793Z"
      },
      {
        "duration": 9,
        "start_time": "2022-05-25T15:59:53.981Z"
      },
      {
        "duration": 29575,
        "start_time": "2022-05-25T15:59:53.991Z"
      },
      {
        "duration": 1190,
        "start_time": "2022-05-25T16:00:23.568Z"
      },
      {
        "duration": 3,
        "start_time": "2022-05-25T16:00:24.760Z"
      },
      {
        "duration": 10,
        "start_time": "2022-05-25T16:00:24.765Z"
      },
      {
        "duration": 5,
        "start_time": "2022-05-25T16:00:24.777Z"
      },
      {
        "duration": 5,
        "start_time": "2022-05-25T16:00:24.784Z"
      },
      {
        "duration": 10,
        "start_time": "2022-05-25T16:00:24.791Z"
      },
      {
        "duration": 9,
        "start_time": "2022-05-25T16:00:24.804Z"
      },
      {
        "duration": 8,
        "start_time": "2022-05-25T16:00:24.815Z"
      },
      {
        "duration": 28,
        "start_time": "2022-05-25T16:00:24.825Z"
      },
      {
        "duration": 3,
        "start_time": "2022-05-25T16:00:24.858Z"
      },
      {
        "duration": 7,
        "start_time": "2022-05-25T16:00:24.863Z"
      },
      {
        "duration": 24,
        "start_time": "2022-05-25T16:00:24.872Z"
      },
      {
        "duration": 2,
        "start_time": "2022-05-25T16:00:24.898Z"
      },
      {
        "duration": 6,
        "start_time": "2022-05-25T16:00:24.902Z"
      },
      {
        "duration": 167,
        "start_time": "2022-05-25T16:00:24.911Z"
      },
      {
        "duration": 0,
        "start_time": "2022-05-25T16:00:25.080Z"
      },
      {
        "duration": 6,
        "start_time": "2022-05-25T16:01:07.840Z"
      },
      {
        "duration": 6,
        "start_time": "2022-05-25T16:03:01.268Z"
      },
      {
        "duration": 559,
        "start_time": "2022-05-25T16:03:21.366Z"
      },
      {
        "duration": 151,
        "start_time": "2022-05-25T16:03:50.766Z"
      },
      {
        "duration": 5,
        "start_time": "2022-05-25T16:04:55.099Z"
      },
      {
        "duration": 218,
        "start_time": "2022-05-25T16:04:57.728Z"
      },
      {
        "duration": 234,
        "start_time": "2022-05-25T16:05:34.939Z"
      },
      {
        "duration": 3,
        "start_time": "2022-05-25T16:05:53.816Z"
      },
      {
        "duration": 91487,
        "start_time": "2022-05-25T16:05:55.928Z"
      },
      {
        "duration": 12,
        "start_time": "2022-05-25T16:08:36.111Z"
      },
      {
        "duration": 8559,
        "start_time": "2022-05-25T16:09:44.705Z"
      },
      {
        "duration": 459,
        "start_time": "2022-05-25T16:10:01.945Z"
      },
      {
        "duration": 22,
        "start_time": "2022-05-25T16:10:11.104Z"
      },
      {
        "duration": 22,
        "start_time": "2022-05-25T16:10:16.402Z"
      },
      {
        "duration": 13,
        "start_time": "2022-05-25T16:11:01.955Z"
      },
      {
        "duration": 815,
        "start_time": "2022-05-25T16:11:01.970Z"
      },
      {
        "duration": 36,
        "start_time": "2022-05-25T16:11:02.787Z"
      },
      {
        "duration": 12,
        "start_time": "2022-05-25T16:11:02.826Z"
      },
      {
        "duration": 142,
        "start_time": "2022-05-25T16:11:02.854Z"
      },
      {
        "duration": 3,
        "start_time": "2022-05-25T16:11:02.998Z"
      },
      {
        "duration": 9,
        "start_time": "2022-05-25T16:11:03.003Z"
      },
      {
        "duration": 8,
        "start_time": "2022-05-25T16:11:03.015Z"
      },
      {
        "duration": 18,
        "start_time": "2022-05-25T16:11:03.025Z"
      },
      {
        "duration": 32,
        "start_time": "2022-05-25T16:11:03.045Z"
      },
      {
        "duration": 15,
        "start_time": "2022-05-25T16:11:03.079Z"
      },
      {
        "duration": 10,
        "start_time": "2022-05-25T16:11:03.096Z"
      },
      {
        "duration": 11341,
        "start_time": "2022-05-25T16:11:03.108Z"
      },
      {
        "duration": 18,
        "start_time": "2022-05-25T16:11:14.451Z"
      },
      {
        "duration": 10,
        "start_time": "2022-05-25T16:11:14.472Z"
      },
      {
        "duration": 91911,
        "start_time": "2022-05-25T16:11:14.484Z"
      },
      {
        "duration": 9,
        "start_time": "2022-05-25T16:12:46.397Z"
      },
      {
        "duration": 5,
        "start_time": "2022-05-25T16:12:46.408Z"
      },
      {
        "duration": 6,
        "start_time": "2022-05-25T16:12:46.414Z"
      },
      {
        "duration": 5,
        "start_time": "2022-05-25T16:12:46.422Z"
      },
      {
        "duration": 24,
        "start_time": "2022-05-25T16:12:46.429Z"
      },
      {
        "duration": 8,
        "start_time": "2022-05-25T16:12:46.456Z"
      },
      {
        "duration": 13,
        "start_time": "2022-05-25T16:12:46.466Z"
      },
      {
        "duration": 6,
        "start_time": "2022-05-25T16:12:46.481Z"
      },
      {
        "duration": 7,
        "start_time": "2022-05-25T16:12:46.489Z"
      },
      {
        "duration": 5,
        "start_time": "2022-05-25T16:12:46.498Z"
      },
      {
        "duration": 8,
        "start_time": "2022-05-25T16:12:46.505Z"
      },
      {
        "duration": 5,
        "start_time": "2022-05-25T16:12:46.517Z"
      },
      {
        "duration": 343938,
        "start_time": "2022-05-25T16:18:05.197Z"
      },
      {
        "duration": 6,
        "start_time": "2022-05-25T16:23:57.980Z"
      },
      {
        "duration": 780,
        "start_time": "2022-05-25T16:23:57.989Z"
      },
      {
        "duration": 29,
        "start_time": "2022-05-25T16:23:58.771Z"
      },
      {
        "duration": 13,
        "start_time": "2022-05-25T16:23:58.801Z"
      },
      {
        "duration": 142,
        "start_time": "2022-05-25T16:23:58.816Z"
      },
      {
        "duration": 4,
        "start_time": "2022-05-25T16:23:58.960Z"
      },
      {
        "duration": 8,
        "start_time": "2022-05-25T16:23:58.968Z"
      },
      {
        "duration": 9,
        "start_time": "2022-05-25T16:23:58.977Z"
      },
      {
        "duration": 12,
        "start_time": "2022-05-25T16:23:58.987Z"
      },
      {
        "duration": 12,
        "start_time": "2022-05-25T16:23:59.002Z"
      },
      {
        "duration": 11,
        "start_time": "2022-05-25T16:23:59.016Z"
      },
      {
        "duration": 7,
        "start_time": "2022-05-25T16:23:59.028Z"
      },
      {
        "duration": 10106,
        "start_time": "2022-05-25T16:23:59.037Z"
      },
      {
        "duration": 22,
        "start_time": "2022-05-25T16:24:09.145Z"
      },
      {
        "duration": 6,
        "start_time": "2022-05-25T16:24:09.169Z"
      },
      {
        "duration": 84793,
        "start_time": "2022-05-25T16:24:09.177Z"
      },
      {
        "duration": 8,
        "start_time": "2022-05-25T16:25:33.973Z"
      },
      {
        "duration": 7,
        "start_time": "2022-05-25T16:25:33.983Z"
      },
      {
        "duration": 14,
        "start_time": "2022-05-25T16:25:33.991Z"
      },
      {
        "duration": 17,
        "start_time": "2022-05-25T16:25:34.007Z"
      },
      {
        "duration": 12,
        "start_time": "2022-05-25T16:25:34.026Z"
      },
      {
        "duration": 5,
        "start_time": "2022-05-25T16:25:34.040Z"
      },
      {
        "duration": 14,
        "start_time": "2022-05-25T16:25:34.048Z"
      },
      {
        "duration": 7,
        "start_time": "2022-05-25T16:25:34.064Z"
      },
      {
        "duration": 9,
        "start_time": "2022-05-25T16:25:34.072Z"
      },
      {
        "duration": 4,
        "start_time": "2022-05-25T16:25:34.083Z"
      },
      {
        "duration": 5,
        "start_time": "2022-05-25T16:25:34.089Z"
      },
      {
        "duration": 3,
        "start_time": "2022-05-25T16:25:34.097Z"
      },
      {
        "duration": 6,
        "start_time": "2022-05-25T16:25:34.102Z"
      },
      {
        "duration": 38,
        "start_time": "2022-05-25T16:25:34.110Z"
      },
      {
        "duration": 3,
        "start_time": "2022-05-25T16:27:18.668Z"
      },
      {
        "duration": 500,
        "start_time": "2022-05-25T16:28:25.101Z"
      },
      {
        "duration": 17412,
        "start_time": "2022-05-25T16:29:45.482Z"
      },
      {
        "duration": 129893,
        "start_time": "2022-05-25T16:30:16.839Z"
      },
      {
        "duration": 1492030,
        "start_time": "2022-05-25T16:56:51.480Z"
      },
      {
        "duration": 0,
        "start_time": "2022-05-25T17:21:43.516Z"
      },
      {
        "duration": 0,
        "start_time": "2022-05-25T17:21:43.524Z"
      },
      {
        "duration": 0,
        "start_time": "2022-05-25T17:21:43.526Z"
      },
      {
        "duration": 1,
        "start_time": "2022-05-25T17:21:43.527Z"
      },
      {
        "duration": 0,
        "start_time": "2022-05-25T17:21:43.529Z"
      },
      {
        "duration": 0,
        "start_time": "2022-05-25T17:21:43.531Z"
      },
      {
        "duration": 0,
        "start_time": "2022-05-25T17:21:43.532Z"
      },
      {
        "duration": 0,
        "start_time": "2022-05-25T17:21:43.554Z"
      },
      {
        "duration": 0,
        "start_time": "2022-05-25T17:21:43.555Z"
      },
      {
        "duration": 0,
        "start_time": "2022-05-25T17:21:43.557Z"
      },
      {
        "duration": 0,
        "start_time": "2022-05-25T17:21:43.558Z"
      },
      {
        "duration": 0,
        "start_time": "2022-05-25T17:21:43.559Z"
      },
      {
        "duration": 0,
        "start_time": "2022-05-25T17:21:43.560Z"
      },
      {
        "duration": 0,
        "start_time": "2022-05-25T17:21:43.561Z"
      },
      {
        "duration": 0,
        "start_time": "2022-05-25T17:21:43.562Z"
      },
      {
        "duration": 51,
        "start_time": "2022-05-25T17:22:45.632Z"
      },
      {
        "duration": 211,
        "start_time": "2022-05-25T17:22:54.729Z"
      },
      {
        "duration": 847,
        "start_time": "2022-05-25T17:22:54.942Z"
      },
      {
        "duration": 30,
        "start_time": "2022-05-25T17:22:55.791Z"
      },
      {
        "duration": 8,
        "start_time": "2022-05-25T17:22:55.823Z"
      },
      {
        "duration": 160,
        "start_time": "2022-05-25T17:22:55.834Z"
      },
      {
        "duration": 5,
        "start_time": "2022-05-25T17:22:55.996Z"
      },
      {
        "duration": 10396,
        "start_time": "2022-05-25T17:22:56.003Z"
      },
      {
        "duration": 8,
        "start_time": "2022-05-25T17:23:06.401Z"
      },
      {
        "duration": 11,
        "start_time": "2022-05-25T17:23:06.411Z"
      },
      {
        "duration": 83865,
        "start_time": "2022-05-25T17:23:06.424Z"
      },
      {
        "duration": 9,
        "start_time": "2022-05-25T17:24:30.291Z"
      },
      {
        "duration": 45,
        "start_time": "2022-05-25T17:24:30.301Z"
      },
      {
        "duration": 18445,
        "start_time": "2022-05-25T17:24:30.352Z"
      },
      {
        "duration": 131038,
        "start_time": "2022-05-25T17:24:48.800Z"
      },
      {
        "duration": 135,
        "start_time": "2022-05-25T17:26:59.841Z"
      },
      {
        "duration": 3,
        "start_time": "2022-05-25T17:26:59.978Z"
      },
      {
        "duration": 2174,
        "start_time": "2022-05-25T17:28:12.246Z"
      },
      {
        "duration": 3491,
        "start_time": "2022-05-25T17:30:15.342Z"
      },
      {
        "duration": 46,
        "start_time": "2022-05-25T17:32:59.828Z"
      },
      {
        "duration": 26,
        "start_time": "2022-05-25T17:34:16.710Z"
      },
      {
        "duration": 1894,
        "start_time": "2022-05-25T17:36:09.052Z"
      },
      {
        "duration": 2,
        "start_time": "2022-05-25T17:38:23.995Z"
      },
      {
        "duration": 16,
        "start_time": "2022-05-25T17:39:31.523Z"
      },
      {
        "duration": 18,
        "start_time": "2022-05-25T17:39:55.457Z"
      },
      {
        "duration": 1909,
        "start_time": "2022-05-25T17:40:35.270Z"
      },
      {
        "duration": 1849,
        "start_time": "2022-05-25T17:40:47.063Z"
      },
      {
        "duration": 6,
        "start_time": "2022-05-25T17:44:27.618Z"
      },
      {
        "duration": 688,
        "start_time": "2022-05-25T17:44:27.626Z"
      },
      {
        "duration": 27,
        "start_time": "2022-05-25T17:44:28.315Z"
      },
      {
        "duration": 23,
        "start_time": "2022-05-25T17:44:28.343Z"
      },
      {
        "duration": 123,
        "start_time": "2022-05-25T17:44:28.368Z"
      },
      {
        "duration": 5,
        "start_time": "2022-05-25T17:44:28.493Z"
      },
      {
        "duration": 10494,
        "start_time": "2022-05-25T17:44:28.500Z"
      },
      {
        "duration": 7,
        "start_time": "2022-05-25T17:44:38.996Z"
      },
      {
        "duration": 6,
        "start_time": "2022-05-25T17:44:39.004Z"
      },
      {
        "duration": 80571,
        "start_time": "2022-05-25T17:44:39.013Z"
      },
      {
        "duration": 9,
        "start_time": "2022-05-25T17:45:59.586Z"
      },
      {
        "duration": 33,
        "start_time": "2022-05-25T17:45:59.597Z"
      },
      {
        "duration": 19216,
        "start_time": "2022-05-25T17:45:59.632Z"
      },
      {
        "duration": 13,
        "start_time": "2022-05-25T17:46:18.849Z"
      },
      {
        "duration": 17,
        "start_time": "2022-05-25T17:46:18.868Z"
      },
      {
        "duration": 21,
        "start_time": "2022-05-25T17:46:18.886Z"
      },
      {
        "duration": 8,
        "start_time": "2022-05-25T17:46:18.908Z"
      },
      {
        "duration": 124804,
        "start_time": "2022-05-25T17:46:44.915Z"
      },
      {
        "duration": 18,
        "start_time": "2022-05-25T17:54:23.173Z"
      },
      {
        "duration": 443117,
        "start_time": "2022-05-25T17:56:47.408Z"
      },
      {
        "duration": 354217,
        "start_time": "2022-05-25T18:04:51.415Z"
      },
      {
        "duration": 1158042,
        "start_time": "2022-05-25T18:11:34.496Z"
      },
      {
        "duration": 2,
        "start_time": "2022-05-25T18:46:04.225Z"
      },
      {
        "duration": 3156,
        "start_time": "2022-05-25T18:48:57.261Z"
      },
      {
        "duration": 83350,
        "start_time": "2022-05-25T18:49:14.803Z"
      },
      {
        "duration": 318320,
        "start_time": "2022-05-25T18:52:10.428Z"
      },
      {
        "duration": 3,
        "start_time": "2022-05-25T18:57:42.883Z"
      }
    ],
    "colab": {
      "collapsed_sections": [],
      "provenance": [],
      "toc_visible": true
    },
    "kernelspec": {
      "display_name": "Python 3 (ipykernel)",
      "language": "python",
      "name": "python3"
    },
    "language_info": {
      "codemirror_mode": {
        "name": "ipython",
        "version": 3
      },
      "file_extension": ".py",
      "mimetype": "text/x-python",
      "name": "python",
      "nbconvert_exporter": "python",
      "pygments_lexer": "ipython3",
      "version": "3.9.5"
    },
    "toc": {
      "base_numbering": 1,
      "nav_menu": {},
      "number_sections": true,
      "sideBar": true,
      "skip_h1_title": true,
      "title_cell": "Содержание",
      "title_sidebar": "Contents",
      "toc_cell": true,
      "toc_position": {
        "height": "886.667px",
        "left": "593px",
        "top": "410.143px",
        "width": "302.381px"
      },
      "toc_section_display": true,
      "toc_window_display": true
    }
  },
  "nbformat": 4,
  "nbformat_minor": 0
}