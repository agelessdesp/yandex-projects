{
  "cells": [
    {
      "cell_type": "code",
      "source": [
        "from google.colab import drive\n",
        "\n",
        "drive.mount('/content/drive')"
      ],
      "metadata": {
        "colab": {
          "base_uri": "https://localhost:8080/"
        },
        "id": "ypmPLw0h14CV",
        "outputId": "70263286-9f30-464a-9cb5-d7630866b5ee"
      },
      "execution_count": 1,
      "outputs": [
        {
          "output_type": "stream",
          "name": "stdout",
          "text": [
            "Mounted at /content/drive\n"
          ]
        }
      ]
    },
    {
      "cell_type": "code",
      "execution_count": 2,
      "metadata": {
        "id": "XtUrFQFE1iVm"
      },
      "outputs": [],
      "source": [
        "import pandas as pd\n",
        "import numpy as np\n",
        "import seaborn as sns\n",
        "import time\n",
        "import matplotlib.pyplot as plt\n",
        "\n",
        "from sklearn.model_selection import train_test_split, GridSearchCV, cross_val_score, RandomizedSearchCV\n",
        "from scipy import stats as st\n",
        "\n",
        "from sklearn.linear_model import LinearRegression\n",
        "from sklearn.dummy import DummyClassifier\n",
        "\n",
        "from sklearn.preprocessing import StandardScaler\n",
        "from sklearn.metrics import mean_squared_error, mean_absolute_error, r2_score, make_scorer\n",
        "\n",
        "import warnings\n",
        "warnings.filterwarnings('ignore')"
      ]
    },
    {
      "cell_type": "markdown",
      "metadata": {
        "id": "Q6K02gVk1iVl"
      },
      "source": [
        "## Загрузка и подготовка данных"
      ]
    },
    {
      "cell_type": "code",
      "execution_count": 3,
      "metadata": {
        "id": "bLMVzi0D1iVn"
      },
      "outputs": [],
      "source": [
        "data_1 = pd.read_csv('/content/drive/My Drive/Collab file/geo_data_0.csv') \n",
        "data_2 = pd.read_csv('/content/drive/My Drive/Collab file/geo_data_1.csv')\n",
        "data_3 = pd.read_csv('/content/drive/My Drive/Collab file/geo_data_2.csv')"
      ]
    },
    {
      "cell_type": "code",
      "source": [
        "# функция для распаковки данных\n",
        "\n",
        "def open_data(data):\n",
        "  display(data.head())\n",
        "  print('------------------------')\n",
        "  print('Общая информация')\n",
        "  data.info()\n",
        "  print('------------------------')\n",
        "  print('Описание данных')\n",
        "  display(data.describe())\n",
        "  print('------------------------')\n",
        "  print('Количество дубликатов')\n",
        "  print(data.duplicated().sum())\n",
        "  print('------------------------')\n",
        "  print('Количество пропусков')\n",
        "  display(data.isna().sum())"
      ],
      "metadata": {
        "id": "l49U_h0L3keW"
      },
      "execution_count": 4,
      "outputs": []
    },
    {
      "cell_type": "markdown",
      "metadata": {
        "id": "0DZeYVl61iVo"
      },
      "source": [
        "### Первый регион"
      ]
    },
    {
      "cell_type": "code",
      "source": [
        "open_data(data_1)"
      ],
      "metadata": {
        "colab": {
          "base_uri": "https://localhost:8080/",
          "height": 994
        },
        "id": "6iixt8GB3oDJ",
        "outputId": "38d5e8fc-2a43-4c71-aa0b-3e1e0784963b"
      },
      "execution_count": 5,
      "outputs": [
        {
          "output_type": "display_data",
          "data": {
            "text/plain": [
              "      id        f0        f1        f2     product\n",
              "0  txEyH  0.705745 -0.497823  1.221170  105.280062\n",
              "1  2acmU  1.334711 -0.340164  4.365080   73.037750\n",
              "2  409Wp  1.022732  0.151990  1.419926   85.265647\n",
              "3  iJLyR -0.032172  0.139033  2.978566  168.620776\n",
              "4  Xdl7t  1.988431  0.155413  4.751769  154.036647"
            ],
            "text/html": [
              "\n",
              "  <div id=\"df-327f220d-131b-4988-993b-731109ba4869\">\n",
              "    <div class=\"colab-df-container\">\n",
              "      <div>\n",
              "<style scoped>\n",
              "    .dataframe tbody tr th:only-of-type {\n",
              "        vertical-align: middle;\n",
              "    }\n",
              "\n",
              "    .dataframe tbody tr th {\n",
              "        vertical-align: top;\n",
              "    }\n",
              "\n",
              "    .dataframe thead th {\n",
              "        text-align: right;\n",
              "    }\n",
              "</style>\n",
              "<table border=\"1\" class=\"dataframe\">\n",
              "  <thead>\n",
              "    <tr style=\"text-align: right;\">\n",
              "      <th></th>\n",
              "      <th>id</th>\n",
              "      <th>f0</th>\n",
              "      <th>f1</th>\n",
              "      <th>f2</th>\n",
              "      <th>product</th>\n",
              "    </tr>\n",
              "  </thead>\n",
              "  <tbody>\n",
              "    <tr>\n",
              "      <th>0</th>\n",
              "      <td>txEyH</td>\n",
              "      <td>0.705745</td>\n",
              "      <td>-0.497823</td>\n",
              "      <td>1.221170</td>\n",
              "      <td>105.280062</td>\n",
              "    </tr>\n",
              "    <tr>\n",
              "      <th>1</th>\n",
              "      <td>2acmU</td>\n",
              "      <td>1.334711</td>\n",
              "      <td>-0.340164</td>\n",
              "      <td>4.365080</td>\n",
              "      <td>73.037750</td>\n",
              "    </tr>\n",
              "    <tr>\n",
              "      <th>2</th>\n",
              "      <td>409Wp</td>\n",
              "      <td>1.022732</td>\n",
              "      <td>0.151990</td>\n",
              "      <td>1.419926</td>\n",
              "      <td>85.265647</td>\n",
              "    </tr>\n",
              "    <tr>\n",
              "      <th>3</th>\n",
              "      <td>iJLyR</td>\n",
              "      <td>-0.032172</td>\n",
              "      <td>0.139033</td>\n",
              "      <td>2.978566</td>\n",
              "      <td>168.620776</td>\n",
              "    </tr>\n",
              "    <tr>\n",
              "      <th>4</th>\n",
              "      <td>Xdl7t</td>\n",
              "      <td>1.988431</td>\n",
              "      <td>0.155413</td>\n",
              "      <td>4.751769</td>\n",
              "      <td>154.036647</td>\n",
              "    </tr>\n",
              "  </tbody>\n",
              "</table>\n",
              "</div>\n",
              "      <button class=\"colab-df-convert\" onclick=\"convertToInteractive('df-327f220d-131b-4988-993b-731109ba4869')\"\n",
              "              title=\"Convert this dataframe to an interactive table.\"\n",
              "              style=\"display:none;\">\n",
              "        \n",
              "  <svg xmlns=\"http://www.w3.org/2000/svg\" height=\"24px\"viewBox=\"0 0 24 24\"\n",
              "       width=\"24px\">\n",
              "    <path d=\"M0 0h24v24H0V0z\" fill=\"none\"/>\n",
              "    <path d=\"M18.56 5.44l.94 2.06.94-2.06 2.06-.94-2.06-.94-.94-2.06-.94 2.06-2.06.94zm-11 1L8.5 8.5l.94-2.06 2.06-.94-2.06-.94L8.5 2.5l-.94 2.06-2.06.94zm10 10l.94 2.06.94-2.06 2.06-.94-2.06-.94-.94-2.06-.94 2.06-2.06.94z\"/><path d=\"M17.41 7.96l-1.37-1.37c-.4-.4-.92-.59-1.43-.59-.52 0-1.04.2-1.43.59L10.3 9.45l-7.72 7.72c-.78.78-.78 2.05 0 2.83L4 21.41c.39.39.9.59 1.41.59.51 0 1.02-.2 1.41-.59l7.78-7.78 2.81-2.81c.8-.78.8-2.07 0-2.86zM5.41 20L4 18.59l7.72-7.72 1.47 1.35L5.41 20z\"/>\n",
              "  </svg>\n",
              "      </button>\n",
              "      \n",
              "  <style>\n",
              "    .colab-df-container {\n",
              "      display:flex;\n",
              "      flex-wrap:wrap;\n",
              "      gap: 12px;\n",
              "    }\n",
              "\n",
              "    .colab-df-convert {\n",
              "      background-color: #E8F0FE;\n",
              "      border: none;\n",
              "      border-radius: 50%;\n",
              "      cursor: pointer;\n",
              "      display: none;\n",
              "      fill: #1967D2;\n",
              "      height: 32px;\n",
              "      padding: 0 0 0 0;\n",
              "      width: 32px;\n",
              "    }\n",
              "\n",
              "    .colab-df-convert:hover {\n",
              "      background-color: #E2EBFA;\n",
              "      box-shadow: 0px 1px 2px rgba(60, 64, 67, 0.3), 0px 1px 3px 1px rgba(60, 64, 67, 0.15);\n",
              "      fill: #174EA6;\n",
              "    }\n",
              "\n",
              "    [theme=dark] .colab-df-convert {\n",
              "      background-color: #3B4455;\n",
              "      fill: #D2E3FC;\n",
              "    }\n",
              "\n",
              "    [theme=dark] .colab-df-convert:hover {\n",
              "      background-color: #434B5C;\n",
              "      box-shadow: 0px 1px 3px 1px rgba(0, 0, 0, 0.15);\n",
              "      filter: drop-shadow(0px 1px 2px rgba(0, 0, 0, 0.3));\n",
              "      fill: #FFFFFF;\n",
              "    }\n",
              "  </style>\n",
              "\n",
              "      <script>\n",
              "        const buttonEl =\n",
              "          document.querySelector('#df-327f220d-131b-4988-993b-731109ba4869 button.colab-df-convert');\n",
              "        buttonEl.style.display =\n",
              "          google.colab.kernel.accessAllowed ? 'block' : 'none';\n",
              "\n",
              "        async function convertToInteractive(key) {\n",
              "          const element = document.querySelector('#df-327f220d-131b-4988-993b-731109ba4869');\n",
              "          const dataTable =\n",
              "            await google.colab.kernel.invokeFunction('convertToInteractive',\n",
              "                                                     [key], {});\n",
              "          if (!dataTable) return;\n",
              "\n",
              "          const docLinkHtml = 'Like what you see? Visit the ' +\n",
              "            '<a target=\"_blank\" href=https://colab.research.google.com/notebooks/data_table.ipynb>data table notebook</a>'\n",
              "            + ' to learn more about interactive tables.';\n",
              "          element.innerHTML = '';\n",
              "          dataTable['output_type'] = 'display_data';\n",
              "          await google.colab.output.renderOutput(dataTable, element);\n",
              "          const docLink = document.createElement('div');\n",
              "          docLink.innerHTML = docLinkHtml;\n",
              "          element.appendChild(docLink);\n",
              "        }\n",
              "      </script>\n",
              "    </div>\n",
              "  </div>\n",
              "  "
            ]
          },
          "metadata": {}
        },
        {
          "output_type": "stream",
          "name": "stdout",
          "text": [
            "------------------------\n",
            "Общая информация\n",
            "<class 'pandas.core.frame.DataFrame'>\n",
            "RangeIndex: 100000 entries, 0 to 99999\n",
            "Data columns (total 5 columns):\n",
            " #   Column   Non-Null Count   Dtype  \n",
            "---  ------   --------------   -----  \n",
            " 0   id       100000 non-null  object \n",
            " 1   f0       100000 non-null  float64\n",
            " 2   f1       100000 non-null  float64\n",
            " 3   f2       100000 non-null  float64\n",
            " 4   product  100000 non-null  float64\n",
            "dtypes: float64(4), object(1)\n",
            "memory usage: 3.8+ MB\n",
            "------------------------\n",
            "Описание данных\n"
          ]
        },
        {
          "output_type": "display_data",
          "data": {
            "text/plain": [
              "                  f0             f1             f2        product\n",
              "count  100000.000000  100000.000000  100000.000000  100000.000000\n",
              "mean        0.500419       0.250143       2.502647      92.500000\n",
              "std         0.871832       0.504433       3.248248      44.288691\n",
              "min        -1.408605      -0.848218     -12.088328       0.000000\n",
              "25%        -0.072580      -0.200881       0.287748      56.497507\n",
              "50%         0.502360       0.250252       2.515969      91.849972\n",
              "75%         1.073581       0.700646       4.715088     128.564089\n",
              "max         2.362331       1.343769      16.003790     185.364347"
            ],
            "text/html": [
              "\n",
              "  <div id=\"df-66536be1-f704-4fb9-b4b6-8c91e88b30bf\">\n",
              "    <div class=\"colab-df-container\">\n",
              "      <div>\n",
              "<style scoped>\n",
              "    .dataframe tbody tr th:only-of-type {\n",
              "        vertical-align: middle;\n",
              "    }\n",
              "\n",
              "    .dataframe tbody tr th {\n",
              "        vertical-align: top;\n",
              "    }\n",
              "\n",
              "    .dataframe thead th {\n",
              "        text-align: right;\n",
              "    }\n",
              "</style>\n",
              "<table border=\"1\" class=\"dataframe\">\n",
              "  <thead>\n",
              "    <tr style=\"text-align: right;\">\n",
              "      <th></th>\n",
              "      <th>f0</th>\n",
              "      <th>f1</th>\n",
              "      <th>f2</th>\n",
              "      <th>product</th>\n",
              "    </tr>\n",
              "  </thead>\n",
              "  <tbody>\n",
              "    <tr>\n",
              "      <th>count</th>\n",
              "      <td>100000.000000</td>\n",
              "      <td>100000.000000</td>\n",
              "      <td>100000.000000</td>\n",
              "      <td>100000.000000</td>\n",
              "    </tr>\n",
              "    <tr>\n",
              "      <th>mean</th>\n",
              "      <td>0.500419</td>\n",
              "      <td>0.250143</td>\n",
              "      <td>2.502647</td>\n",
              "      <td>92.500000</td>\n",
              "    </tr>\n",
              "    <tr>\n",
              "      <th>std</th>\n",
              "      <td>0.871832</td>\n",
              "      <td>0.504433</td>\n",
              "      <td>3.248248</td>\n",
              "      <td>44.288691</td>\n",
              "    </tr>\n",
              "    <tr>\n",
              "      <th>min</th>\n",
              "      <td>-1.408605</td>\n",
              "      <td>-0.848218</td>\n",
              "      <td>-12.088328</td>\n",
              "      <td>0.000000</td>\n",
              "    </tr>\n",
              "    <tr>\n",
              "      <th>25%</th>\n",
              "      <td>-0.072580</td>\n",
              "      <td>-0.200881</td>\n",
              "      <td>0.287748</td>\n",
              "      <td>56.497507</td>\n",
              "    </tr>\n",
              "    <tr>\n",
              "      <th>50%</th>\n",
              "      <td>0.502360</td>\n",
              "      <td>0.250252</td>\n",
              "      <td>2.515969</td>\n",
              "      <td>91.849972</td>\n",
              "    </tr>\n",
              "    <tr>\n",
              "      <th>75%</th>\n",
              "      <td>1.073581</td>\n",
              "      <td>0.700646</td>\n",
              "      <td>4.715088</td>\n",
              "      <td>128.564089</td>\n",
              "    </tr>\n",
              "    <tr>\n",
              "      <th>max</th>\n",
              "      <td>2.362331</td>\n",
              "      <td>1.343769</td>\n",
              "      <td>16.003790</td>\n",
              "      <td>185.364347</td>\n",
              "    </tr>\n",
              "  </tbody>\n",
              "</table>\n",
              "</div>\n",
              "      <button class=\"colab-df-convert\" onclick=\"convertToInteractive('df-66536be1-f704-4fb9-b4b6-8c91e88b30bf')\"\n",
              "              title=\"Convert this dataframe to an interactive table.\"\n",
              "              style=\"display:none;\">\n",
              "        \n",
              "  <svg xmlns=\"http://www.w3.org/2000/svg\" height=\"24px\"viewBox=\"0 0 24 24\"\n",
              "       width=\"24px\">\n",
              "    <path d=\"M0 0h24v24H0V0z\" fill=\"none\"/>\n",
              "    <path d=\"M18.56 5.44l.94 2.06.94-2.06 2.06-.94-2.06-.94-.94-2.06-.94 2.06-2.06.94zm-11 1L8.5 8.5l.94-2.06 2.06-.94-2.06-.94L8.5 2.5l-.94 2.06-2.06.94zm10 10l.94 2.06.94-2.06 2.06-.94-2.06-.94-.94-2.06-.94 2.06-2.06.94z\"/><path d=\"M17.41 7.96l-1.37-1.37c-.4-.4-.92-.59-1.43-.59-.52 0-1.04.2-1.43.59L10.3 9.45l-7.72 7.72c-.78.78-.78 2.05 0 2.83L4 21.41c.39.39.9.59 1.41.59.51 0 1.02-.2 1.41-.59l7.78-7.78 2.81-2.81c.8-.78.8-2.07 0-2.86zM5.41 20L4 18.59l7.72-7.72 1.47 1.35L5.41 20z\"/>\n",
              "  </svg>\n",
              "      </button>\n",
              "      \n",
              "  <style>\n",
              "    .colab-df-container {\n",
              "      display:flex;\n",
              "      flex-wrap:wrap;\n",
              "      gap: 12px;\n",
              "    }\n",
              "\n",
              "    .colab-df-convert {\n",
              "      background-color: #E8F0FE;\n",
              "      border: none;\n",
              "      border-radius: 50%;\n",
              "      cursor: pointer;\n",
              "      display: none;\n",
              "      fill: #1967D2;\n",
              "      height: 32px;\n",
              "      padding: 0 0 0 0;\n",
              "      width: 32px;\n",
              "    }\n",
              "\n",
              "    .colab-df-convert:hover {\n",
              "      background-color: #E2EBFA;\n",
              "      box-shadow: 0px 1px 2px rgba(60, 64, 67, 0.3), 0px 1px 3px 1px rgba(60, 64, 67, 0.15);\n",
              "      fill: #174EA6;\n",
              "    }\n",
              "\n",
              "    [theme=dark] .colab-df-convert {\n",
              "      background-color: #3B4455;\n",
              "      fill: #D2E3FC;\n",
              "    }\n",
              "\n",
              "    [theme=dark] .colab-df-convert:hover {\n",
              "      background-color: #434B5C;\n",
              "      box-shadow: 0px 1px 3px 1px rgba(0, 0, 0, 0.15);\n",
              "      filter: drop-shadow(0px 1px 2px rgba(0, 0, 0, 0.3));\n",
              "      fill: #FFFFFF;\n",
              "    }\n",
              "  </style>\n",
              "\n",
              "      <script>\n",
              "        const buttonEl =\n",
              "          document.querySelector('#df-66536be1-f704-4fb9-b4b6-8c91e88b30bf button.colab-df-convert');\n",
              "        buttonEl.style.display =\n",
              "          google.colab.kernel.accessAllowed ? 'block' : 'none';\n",
              "\n",
              "        async function convertToInteractive(key) {\n",
              "          const element = document.querySelector('#df-66536be1-f704-4fb9-b4b6-8c91e88b30bf');\n",
              "          const dataTable =\n",
              "            await google.colab.kernel.invokeFunction('convertToInteractive',\n",
              "                                                     [key], {});\n",
              "          if (!dataTable) return;\n",
              "\n",
              "          const docLinkHtml = 'Like what you see? Visit the ' +\n",
              "            '<a target=\"_blank\" href=https://colab.research.google.com/notebooks/data_table.ipynb>data table notebook</a>'\n",
              "            + ' to learn more about interactive tables.';\n",
              "          element.innerHTML = '';\n",
              "          dataTable['output_type'] = 'display_data';\n",
              "          await google.colab.output.renderOutput(dataTable, element);\n",
              "          const docLink = document.createElement('div');\n",
              "          docLink.innerHTML = docLinkHtml;\n",
              "          element.appendChild(docLink);\n",
              "        }\n",
              "      </script>\n",
              "    </div>\n",
              "  </div>\n",
              "  "
            ]
          },
          "metadata": {}
        },
        {
          "output_type": "stream",
          "name": "stdout",
          "text": [
            "------------------------\n",
            "Количество дубликатов\n",
            "0\n",
            "------------------------\n",
            "Количество пропусков\n"
          ]
        },
        {
          "output_type": "display_data",
          "data": {
            "text/plain": [
              "id         0\n",
              "f0         0\n",
              "f1         0\n",
              "f2         0\n",
              "product    0\n",
              "dtype: int64"
            ]
          },
          "metadata": {}
        }
      ]
    },
    {
      "cell_type": "code",
      "execution_count": 6,
      "metadata": {
        "id": "HVQjgJUj1iVp"
      },
      "outputs": [],
      "source": [
        "#удалим столбец id, чтобы не мешал обучению модели, важной информации он не несет\n",
        "\n",
        "data_1 = data_1.drop(['id'], axis=1)"
      ]
    },
    {
      "cell_type": "markdown",
      "metadata": {
        "id": "LDK0uARw1iVq"
      },
      "source": [
        "**Комментарий:**\n",
        "<br>Типы данных в порядке, дубликатов и пропусков нет."
      ]
    },
    {
      "cell_type": "code",
      "execution_count": 7,
      "metadata": {
        "colab": {
          "base_uri": "https://localhost:8080/",
          "height": 414
        },
        "id": "L6tQC5BW1iVq",
        "outputId": "9a77edbc-e371-4fd6-b043-f3b6d18dc282"
      },
      "outputs": [
        {
          "output_type": "execute_result",
          "data": {
            "text/plain": [
              "Text(0.5, 1.0, 'Тепловая карта корреляции')"
            ]
          },
          "metadata": {},
          "execution_count": 7
        },
        {
          "output_type": "display_data",
          "data": {
            "text/plain": [
              "<Figure size 720x432 with 2 Axes>"
            ],
            "image/png": "[encoded data removed]"
          },
          "metadata": {
            "needs_background": "light"
          }
        }
      ],
      "source": [
        "#посмотрим на взаимосвязь данных\n",
        "\n",
        "plt.figure(figsize=(10,6))\n",
        "\n",
        "sns.heatmap(data_1.corr(), annot=True, square=True, center=0, fmt='.1g', cmap='PRGn', linecolor='black', linewidths=3)\n",
        "plt.title(label='Тепловая карта корреляции', fontsize=20)"
      ]
    },
    {
      "cell_type": "markdown",
      "metadata": {
        "id": "jkvqinpj1iVq"
      },
      "source": [
        "**Краткий вывод** \n",
        "<br>Большой корреляции между признаками и целевым признаком не выявлено. Наибольшую корреляцию имеет ***f2*** и целевой признак ***product***."
      ]
    },
    {
      "cell_type": "markdown",
      "metadata": {
        "id": "pahdox9Z1iVq"
      },
      "source": [
        "### Второй регион"
      ]
    },
    {
      "cell_type": "code",
      "execution_count": 8,
      "metadata": {
        "colab": {
          "base_uri": "https://localhost:8080/",
          "height": 994
        },
        "id": "9aHnGkQp1iVq",
        "outputId": "b663d869-2a21-4b47-eee1-4478a5c08b5e"
      },
      "outputs": [
        {
          "output_type": "display_data",
          "data": {
            "text/plain": [
              "      id         f0         f1        f2     product\n",
              "0  kBEdx -15.001348  -8.276000 -0.005876    3.179103\n",
              "1  62mP7  14.272088  -3.475083  0.999183   26.953261\n",
              "2  vyE1P   6.263187  -5.948386  5.001160  134.766305\n",
              "3  KcrkZ -13.081196 -11.506057  4.999415  137.945408\n",
              "4  AHL4O  12.702195  -8.147433  5.004363  134.766305"
            ],
            "text/html": [
              "\n",
              "  <div id=\"df-ea202e0f-71e4-4209-b959-635414af6013\">\n",
              "    <div class=\"colab-df-container\">\n",
              "      <div>\n",
              "<style scoped>\n",
              "    .dataframe tbody tr th:only-of-type {\n",
              "        vertical-align: middle;\n",
              "    }\n",
              "\n",
              "    .dataframe tbody tr th {\n",
              "        vertical-align: top;\n",
              "    }\n",
              "\n",
              "    .dataframe thead th {\n",
              "        text-align: right;\n",
              "    }\n",
              "</style>\n",
              "<table border=\"1\" class=\"dataframe\">\n",
              "  <thead>\n",
              "    <tr style=\"text-align: right;\">\n",
              "      <th></th>\n",
              "      <th>id</th>\n",
              "      <th>f0</th>\n",
              "      <th>f1</th>\n",
              "      <th>f2</th>\n",
              "      <th>product</th>\n",
              "    </tr>\n",
              "  </thead>\n",
              "  <tbody>\n",
              "    <tr>\n",
              "      <th>0</th>\n",
              "      <td>kBEdx</td>\n",
              "      <td>-15.001348</td>\n",
              "      <td>-8.276000</td>\n",
              "      <td>-0.005876</td>\n",
              "      <td>3.179103</td>\n",
              "    </tr>\n",
              "    <tr>\n",
              "      <th>1</th>\n",
              "      <td>62mP7</td>\n",
              "      <td>14.272088</td>\n",
              "      <td>-3.475083</td>\n",
              "      <td>0.999183</td>\n",
              "      <td>26.953261</td>\n",
              "    </tr>\n",
              "    <tr>\n",
              "      <th>2</th>\n",
              "      <td>vyE1P</td>\n",
              "      <td>6.263187</td>\n",
              "      <td>-5.948386</td>\n",
              "      <td>5.001160</td>\n",
              "      <td>134.766305</td>\n",
              "    </tr>\n",
              "    <tr>\n",
              "      <th>3</th>\n",
              "      <td>KcrkZ</td>\n",
              "      <td>-13.081196</td>\n",
              "      <td>-11.506057</td>\n",
              "      <td>4.999415</td>\n",
              "      <td>137.945408</td>\n",
              "    </tr>\n",
              "    <tr>\n",
              "      <th>4</th>\n",
              "      <td>AHL4O</td>\n",
              "      <td>12.702195</td>\n",
              "      <td>-8.147433</td>\n",
              "      <td>5.004363</td>\n",
              "      <td>134.766305</td>\n",
              "    </tr>\n",
              "  </tbody>\n",
              "</table>\n",
              "</div>\n",
              "      <button class=\"colab-df-convert\" onclick=\"convertToInteractive('df-ea202e0f-71e4-4209-b959-635414af6013')\"\n",
              "              title=\"Convert this dataframe to an interactive table.\"\n",
              "              style=\"display:none;\">\n",
              "        \n",
              "  <svg xmlns=\"http://www.w3.org/2000/svg\" height=\"24px\"viewBox=\"0 0 24 24\"\n",
              "       width=\"24px\">\n",
              "    <path d=\"M0 0h24v24H0V0z\" fill=\"none\"/>\n",
              "    <path d=\"M18.56 5.44l.94 2.06.94-2.06 2.06-.94-2.06-.94-.94-2.06-.94 2.06-2.06.94zm-11 1L8.5 8.5l.94-2.06 2.06-.94-2.06-.94L8.5 2.5l-.94 2.06-2.06.94zm10 10l.94 2.06.94-2.06 2.06-.94-2.06-.94-.94-2.06-.94 2.06-2.06.94z\"/><path d=\"M17.41 7.96l-1.37-1.37c-.4-.4-.92-.59-1.43-.59-.52 0-1.04.2-1.43.59L10.3 9.45l-7.72 7.72c-.78.78-.78 2.05 0 2.83L4 21.41c.39.39.9.59 1.41.59.51 0 1.02-.2 1.41-.59l7.78-7.78 2.81-2.81c.8-.78.8-2.07 0-2.86zM5.41 20L4 18.59l7.72-7.72 1.47 1.35L5.41 20z\"/>\n",
              "  </svg>\n",
              "      </button>\n",
              "      \n",
              "  <style>\n",
              "    .colab-df-container {\n",
              "      display:flex;\n",
              "      flex-wrap:wrap;\n",
              "      gap: 12px;\n",
              "    }\n",
              "\n",
              "    .colab-df-convert {\n",
              "      background-color: #E8F0FE;\n",
              "      border: none;\n",
              "      border-radius: 50%;\n",
              "      cursor: pointer;\n",
              "      display: none;\n",
              "      fill: #1967D2;\n",
              "      height: 32px;\n",
              "      padding: 0 0 0 0;\n",
              "      width: 32px;\n",
              "    }\n",
              "\n",
              "    .colab-df-convert:hover {\n",
              "      background-color: #E2EBFA;\n",
              "      box-shadow: 0px 1px 2px rgba(60, 64, 67, 0.3), 0px 1px 3px 1px rgba(60, 64, 67, 0.15);\n",
              "      fill: #174EA6;\n",
              "    }\n",
              "\n",
              "    [theme=dark] .colab-df-convert {\n",
              "      background-color: #3B4455;\n",
              "      fill: #D2E3FC;\n",
              "    }\n",
              "\n",
              "    [theme=dark] .colab-df-convert:hover {\n",
              "      background-color: #434B5C;\n",
              "      box-shadow: 0px 1px 3px 1px rgba(0, 0, 0, 0.15);\n",
              "      filter: drop-shadow(0px 1px 2px rgba(0, 0, 0, 0.3));\n",
              "      fill: #FFFFFF;\n",
              "    }\n",
              "  </style>\n",
              "\n",
              "      <script>\n",
              "        const buttonEl =\n",
              "          document.querySelector('#df-ea202e0f-71e4-4209-b959-635414af6013 button.colab-df-convert');\n",
              "        buttonEl.style.display =\n",
              "          google.colab.kernel.accessAllowed ? 'block' : 'none';\n",
              "\n",
              "        async function convertToInteractive(key) {\n",
              "          const element = document.querySelector('#df-ea202e0f-71e4-4209-b959-635414af6013');\n",
              "          const dataTable =\n",
              "            await google.colab.kernel.invokeFunction('convertToInteractive',\n",
              "                                                     [key], {});\n",
              "          if (!dataTable) return;\n",
              "\n",
              "          const docLinkHtml = 'Like what you see? Visit the ' +\n",
              "            '<a target=\"_blank\" href=https://colab.research.google.com/notebooks/data_table.ipynb>data table notebook</a>'\n",
              "            + ' to learn more about interactive tables.';\n",
              "          element.innerHTML = '';\n",
              "          dataTable['output_type'] = 'display_data';\n",
              "          await google.colab.output.renderOutput(dataTable, element);\n",
              "          const docLink = document.createElement('div');\n",
              "          docLink.innerHTML = docLinkHtml;\n",
              "          element.appendChild(docLink);\n",
              "        }\n",
              "      </script>\n",
              "    </div>\n",
              "  </div>\n",
              "  "
            ]
          },
          "metadata": {}
        },
        {
          "output_type": "stream",
          "name": "stdout",
          "text": [
            "------------------------\n",
            "Общая информация\n",
            "<class 'pandas.core.frame.DataFrame'>\n",
            "RangeIndex: 100000 entries, 0 to 99999\n",
            "Data columns (total 5 columns):\n",
            " #   Column   Non-Null Count   Dtype  \n",
            "---  ------   --------------   -----  \n",
            " 0   id       100000 non-null  object \n",
            " 1   f0       100000 non-null  float64\n",
            " 2   f1       100000 non-null  float64\n",
            " 3   f2       100000 non-null  float64\n",
            " 4   product  100000 non-null  float64\n",
            "dtypes: float64(4), object(1)\n",
            "memory usage: 3.8+ MB\n",
            "------------------------\n",
            "Описание данных\n"
          ]
        },
        {
          "output_type": "display_data",
          "data": {
            "text/plain": [
              "                  f0             f1             f2        product\n",
              "count  100000.000000  100000.000000  100000.000000  100000.000000\n",
              "mean        1.141296      -4.796579       2.494541      68.825000\n",
              "std         8.965932       5.119872       1.703572      45.944423\n",
              "min       -31.609576     -26.358598      -0.018144       0.000000\n",
              "25%        -6.298551      -8.267985       1.000021      26.953261\n",
              "50%         1.153055      -4.813172       2.011479      57.085625\n",
              "75%         8.621015      -1.332816       3.999904     107.813044\n",
              "max        29.421755      18.734063       5.019721     137.945408"
            ],
            "text/html": [
              "\n",
              "  <div id=\"df-513f01c7-e8e0-4b19-871b-6e5692349ed5\">\n",
              "    <div class=\"colab-df-container\">\n",
              "      <div>\n",
              "<style scoped>\n",
              "    .dataframe tbody tr th:only-of-type {\n",
              "        vertical-align: middle;\n",
              "    }\n",
              "\n",
              "    .dataframe tbody tr th {\n",
              "        vertical-align: top;\n",
              "    }\n",
              "\n",
              "    .dataframe thead th {\n",
              "        text-align: right;\n",
              "    }\n",
              "</style>\n",
              "<table border=\"1\" class=\"dataframe\">\n",
              "  <thead>\n",
              "    <tr style=\"text-align: right;\">\n",
              "      <th></th>\n",
              "      <th>f0</th>\n",
              "      <th>f1</th>\n",
              "      <th>f2</th>\n",
              "      <th>product</th>\n",
              "    </tr>\n",
              "  </thead>\n",
              "  <tbody>\n",
              "    <tr>\n",
              "      <th>count</th>\n",
              "      <td>100000.000000</td>\n",
              "      <td>100000.000000</td>\n",
              "      <td>100000.000000</td>\n",
              "      <td>100000.000000</td>\n",
              "    </tr>\n",
              "    <tr>\n",
              "      <th>mean</th>\n",
              "      <td>1.141296</td>\n",
              "      <td>-4.796579</td>\n",
              "      <td>2.494541</td>\n",
              "      <td>68.825000</td>\n",
              "    </tr>\n",
              "    <tr>\n",
              "      <th>std</th>\n",
              "      <td>8.965932</td>\n",
              "      <td>5.119872</td>\n",
              "      <td>1.703572</td>\n",
              "      <td>45.944423</td>\n",
              "    </tr>\n",
              "    <tr>\n",
              "      <th>min</th>\n",
              "      <td>-31.609576</td>\n",
              "      <td>-26.358598</td>\n",
              "      <td>-0.018144</td>\n",
              "      <td>0.000000</td>\n",
              "    </tr>\n",
              "    <tr>\n",
              "      <th>25%</th>\n",
              "      <td>-6.298551</td>\n",
              "      <td>-8.267985</td>\n",
              "      <td>1.000021</td>\n",
              "      <td>26.953261</td>\n",
              "    </tr>\n",
              "    <tr>\n",
              "      <th>50%</th>\n",
              "      <td>1.153055</td>\n",
              "      <td>-4.813172</td>\n",
              "      <td>2.011479</td>\n",
              "      <td>57.085625</td>\n",
              "    </tr>\n",
              "    <tr>\n",
              "      <th>75%</th>\n",
              "      <td>8.621015</td>\n",
              "      <td>-1.332816</td>\n",
              "      <td>3.999904</td>\n",
              "      <td>107.813044</td>\n",
              "    </tr>\n",
              "    <tr>\n",
              "      <th>max</th>\n",
              "      <td>29.421755</td>\n",
              "      <td>18.734063</td>\n",
              "      <td>5.019721</td>\n",
              "      <td>137.945408</td>\n",
              "    </tr>\n",
              "  </tbody>\n",
              "</table>\n",
              "</div>\n",
              "      <button class=\"colab-df-convert\" onclick=\"convertToInteractive('df-513f01c7-e8e0-4b19-871b-6e5692349ed5')\"\n",
              "              title=\"Convert this dataframe to an interactive table.\"\n",
              "              style=\"display:none;\">\n",
              "        \n",
              "  <svg xmlns=\"http://www.w3.org/2000/svg\" height=\"24px\"viewBox=\"0 0 24 24\"\n",
              "       width=\"24px\">\n",
              "    <path d=\"M0 0h24v24H0V0z\" fill=\"none\"/>\n",
              "    <path d=\"M18.56 5.44l.94 2.06.94-2.06 2.06-.94-2.06-.94-.94-2.06-.94 2.06-2.06.94zm-11 1L8.5 8.5l.94-2.06 2.06-.94-2.06-.94L8.5 2.5l-.94 2.06-2.06.94zm10 10l.94 2.06.94-2.06 2.06-.94-2.06-.94-.94-2.06-.94 2.06-2.06.94z\"/><path d=\"M17.41 7.96l-1.37-1.37c-.4-.4-.92-.59-1.43-.59-.52 0-1.04.2-1.43.59L10.3 9.45l-7.72 7.72c-.78.78-.78 2.05 0 2.83L4 21.41c.39.39.9.59 1.41.59.51 0 1.02-.2 1.41-.59l7.78-7.78 2.81-2.81c.8-.78.8-2.07 0-2.86zM5.41 20L4 18.59l7.72-7.72 1.47 1.35L5.41 20z\"/>\n",
              "  </svg>\n",
              "      </button>\n",
              "      \n",
              "  <style>\n",
              "    .colab-df-container {\n",
              "      display:flex;\n",
              "      flex-wrap:wrap;\n",
              "      gap: 12px;\n",
              "    }\n",
              "\n",
              "    .colab-df-convert {\n",
              "      background-color: #E8F0FE;\n",
              "      border: none;\n",
              "      border-radius: 50%;\n",
              "      cursor: pointer;\n",
              "      display: none;\n",
              "      fill: #1967D2;\n",
              "      height: 32px;\n",
              "      padding: 0 0 0 0;\n",
              "      width: 32px;\n",
              "    }\n",
              "\n",
              "    .colab-df-convert:hover {\n",
              "      background-color: #E2EBFA;\n",
              "      box-shadow: 0px 1px 2px rgba(60, 64, 67, 0.3), 0px 1px 3px 1px rgba(60, 64, 67, 0.15);\n",
              "      fill: #174EA6;\n",
              "    }\n",
              "\n",
              "    [theme=dark] .colab-df-convert {\n",
              "      background-color: #3B4455;\n",
              "      fill: #D2E3FC;\n",
              "    }\n",
              "\n",
              "    [theme=dark] .colab-df-convert:hover {\n",
              "      background-color: #434B5C;\n",
              "      box-shadow: 0px 1px 3px 1px rgba(0, 0, 0, 0.15);\n",
              "      filter: drop-shadow(0px 1px 2px rgba(0, 0, 0, 0.3));\n",
              "      fill: #FFFFFF;\n",
              "    }\n",
              "  </style>\n",
              "\n",
              "      <script>\n",
              "        const buttonEl =\n",
              "          document.querySelector('#df-513f01c7-e8e0-4b19-871b-6e5692349ed5 button.colab-df-convert');\n",
              "        buttonEl.style.display =\n",
              "          google.colab.kernel.accessAllowed ? 'block' : 'none';\n",
              "\n",
              "        async function convertToInteractive(key) {\n",
              "          const element = document.querySelector('#df-513f01c7-e8e0-4b19-871b-6e5692349ed5');\n",
              "          const dataTable =\n",
              "            await google.colab.kernel.invokeFunction('convertToInteractive',\n",
              "                                                     [key], {});\n",
              "          if (!dataTable) return;\n",
              "\n",
              "          const docLinkHtml = 'Like what you see? Visit the ' +\n",
              "            '<a target=\"_blank\" href=https://colab.research.google.com/notebooks/data_table.ipynb>data table notebook</a>'\n",
              "            + ' to learn more about interactive tables.';\n",
              "          element.innerHTML = '';\n",
              "          dataTable['output_type'] = 'display_data';\n",
              "          await google.colab.output.renderOutput(dataTable, element);\n",
              "          const docLink = document.createElement('div');\n",
              "          docLink.innerHTML = docLinkHtml;\n",
              "          element.appendChild(docLink);\n",
              "        }\n",
              "      </script>\n",
              "    </div>\n",
              "  </div>\n",
              "  "
            ]
          },
          "metadata": {}
        },
        {
          "output_type": "stream",
          "name": "stdout",
          "text": [
            "------------------------\n",
            "Количество дубликатов\n",
            "0\n",
            "------------------------\n",
            "Количество пропусков\n"
          ]
        },
        {
          "output_type": "display_data",
          "data": {
            "text/plain": [
              "id         0\n",
              "f0         0\n",
              "f1         0\n",
              "f2         0\n",
              "product    0\n",
              "dtype: int64"
            ]
          },
          "metadata": {}
        }
      ],
      "source": [
        "open_data(data_2)"
      ]
    },
    {
      "cell_type": "code",
      "execution_count": 9,
      "metadata": {
        "id": "4AzB_LIq1iVr"
      },
      "outputs": [],
      "source": [
        "#удалим столбец id, чтобы не мешал обучению модели, важной информации он не несет\n",
        "\n",
        "data_2 = data_2.drop(['id'], axis=1)"
      ]
    },
    {
      "cell_type": "markdown",
      "metadata": {
        "id": "DrPBMhPh1iVr"
      },
      "source": [
        "**Комментарий:**\n",
        "<br>Типы данных в порядке, дубликатов и пропусков нет."
      ]
    },
    {
      "cell_type": "code",
      "execution_count": 10,
      "metadata": {
        "colab": {
          "base_uri": "https://localhost:8080/",
          "height": 414
        },
        "id": "ZwWOCQ7c1iVr",
        "outputId": "ee64bd95-ed29-4a5c-b743-bf9101f105ad"
      },
      "outputs": [
        {
          "output_type": "execute_result",
          "data": {
            "text/plain": [
              "Text(0.5, 1.0, 'Тепловая карта корреляции')"
            ]
          },
          "metadata": {},
          "execution_count": 10
        },
        {
          "output_type": "display_data",
          "data": {
            "text/plain": [
              "<Figure size 720x432 with 2 Axes>"
            ],
            "image/png": "[encoded data removed]"
          },
          "metadata": {
            "needs_background": "light"
          }
        }
      ],
      "source": [
        "#посмотрим на взаимосвязь данных\n",
        "\n",
        "plt.figure(figsize=(10,6))\n",
        "\n",
        "sns.heatmap(data_2.corr(), annot=True, square=True, center=0, fmt='.1g', cmap='PRGn', linecolor='black', linewidths=3)\n",
        "plt.title(label='Тепловая карта корреляции', fontsize=20)"
      ]
    },
    {
      "cell_type": "markdown",
      "metadata": {
        "id": "ri_H9Rbw1iVr"
      },
      "source": [
        "**Краткий вывод** \n",
        "<br>Выявлена полная положительная корреляция между признаком ***f2*** и целевым признаком ***product***. "
      ]
    },
    {
      "cell_type": "markdown",
      "metadata": {
        "id": "dQ0n9b4y1iVr"
      },
      "source": [
        "### Третий регион"
      ]
    },
    {
      "cell_type": "code",
      "execution_count": 11,
      "metadata": {
        "colab": {
          "base_uri": "https://localhost:8080/",
          "height": 994
        },
        "id": "BdcxM3UH1iVr",
        "outputId": "e2477ee7-02c3-493d-b4cf-92d19a88ddf1"
      },
      "outputs": [
        {
          "output_type": "display_data",
          "data": {
            "text/plain": [
              "      id        f0        f1        f2     product\n",
              "0  fwXo0 -1.146987  0.963328 -0.828965   27.758673\n",
              "1  WJtFt  0.262778  0.269839 -2.530187   56.069697\n",
              "2  ovLUW  0.194587  0.289035 -5.586433   62.871910\n",
              "3  q6cA6  2.236060 -0.553760  0.930038  114.572842\n",
              "4  WPMUX -0.515993  1.716266  5.899011  149.600746"
            ],
            "text/html": [
              "\n",
              "  <div id=\"df-1d8d1776-6271-495a-b142-82a2f283947d\">\n",
              "    <div class=\"colab-df-container\">\n",
              "      <div>\n",
              "<style scoped>\n",
              "    .dataframe tbody tr th:only-of-type {\n",
              "        vertical-align: middle;\n",
              "    }\n",
              "\n",
              "    .dataframe tbody tr th {\n",
              "        vertical-align: top;\n",
              "    }\n",
              "\n",
              "    .dataframe thead th {\n",
              "        text-align: right;\n",
              "    }\n",
              "</style>\n",
              "<table border=\"1\" class=\"dataframe\">\n",
              "  <thead>\n",
              "    <tr style=\"text-align: right;\">\n",
              "      <th></th>\n",
              "      <th>id</th>\n",
              "      <th>f0</th>\n",
              "      <th>f1</th>\n",
              "      <th>f2</th>\n",
              "      <th>product</th>\n",
              "    </tr>\n",
              "  </thead>\n",
              "  <tbody>\n",
              "    <tr>\n",
              "      <th>0</th>\n",
              "      <td>fwXo0</td>\n",
              "      <td>-1.146987</td>\n",
              "      <td>0.963328</td>\n",
              "      <td>-0.828965</td>\n",
              "      <td>27.758673</td>\n",
              "    </tr>\n",
              "    <tr>\n",
              "      <th>1</th>\n",
              "      <td>WJtFt</td>\n",
              "      <td>0.262778</td>\n",
              "      <td>0.269839</td>\n",
              "      <td>-2.530187</td>\n",
              "      <td>56.069697</td>\n",
              "    </tr>\n",
              "    <tr>\n",
              "      <th>2</th>\n",
              "      <td>ovLUW</td>\n",
              "      <td>0.194587</td>\n",
              "      <td>0.289035</td>\n",
              "      <td>-5.586433</td>\n",
              "      <td>62.871910</td>\n",
              "    </tr>\n",
              "    <tr>\n",
              "      <th>3</th>\n",
              "      <td>q6cA6</td>\n",
              "      <td>2.236060</td>\n",
              "      <td>-0.553760</td>\n",
              "      <td>0.930038</td>\n",
              "      <td>114.572842</td>\n",
              "    </tr>\n",
              "    <tr>\n",
              "      <th>4</th>\n",
              "      <td>WPMUX</td>\n",
              "      <td>-0.515993</td>\n",
              "      <td>1.716266</td>\n",
              "      <td>5.899011</td>\n",
              "      <td>149.600746</td>\n",
              "    </tr>\n",
              "  </tbody>\n",
              "</table>\n",
              "</div>\n",
              "      <button class=\"colab-df-convert\" onclick=\"convertToInteractive('df-1d8d1776-6271-495a-b142-82a2f283947d')\"\n",
              "              title=\"Convert this dataframe to an interactive table.\"\n",
              "              style=\"display:none;\">\n",
              "        \n",
              "  <svg xmlns=\"http://www.w3.org/2000/svg\" height=\"24px\"viewBox=\"0 0 24 24\"\n",
              "       width=\"24px\">\n",
              "    <path d=\"M0 0h24v24H0V0z\" fill=\"none\"/>\n",
              "    <path d=\"M18.56 5.44l.94 2.06.94-2.06 2.06-.94-2.06-.94-.94-2.06-.94 2.06-2.06.94zm-11 1L8.5 8.5l.94-2.06 2.06-.94-2.06-.94L8.5 2.5l-.94 2.06-2.06.94zm10 10l.94 2.06.94-2.06 2.06-.94-2.06-.94-.94-2.06-.94 2.06-2.06.94z\"/><path d=\"M17.41 7.96l-1.37-1.37c-.4-.4-.92-.59-1.43-.59-.52 0-1.04.2-1.43.59L10.3 9.45l-7.72 7.72c-.78.78-.78 2.05 0 2.83L4 21.41c.39.39.9.59 1.41.59.51 0 1.02-.2 1.41-.59l7.78-7.78 2.81-2.81c.8-.78.8-2.07 0-2.86zM5.41 20L4 18.59l7.72-7.72 1.47 1.35L5.41 20z\"/>\n",
              "  </svg>\n",
              "      </button>\n",
              "      \n",
              "  <style>\n",
              "    .colab-df-container {\n",
              "      display:flex;\n",
              "      flex-wrap:wrap;\n",
              "      gap: 12px;\n",
              "    }\n",
              "\n",
              "    .colab-df-convert {\n",
              "      background-color: #E8F0FE;\n",
              "      border: none;\n",
              "      border-radius: 50%;\n",
              "      cursor: pointer;\n",
              "      display: none;\n",
              "      fill: #1967D2;\n",
              "      height: 32px;\n",
              "      padding: 0 0 0 0;\n",
              "      width: 32px;\n",
              "    }\n",
              "\n",
              "    .colab-df-convert:hover {\n",
              "      background-color: #E2EBFA;\n",
              "      box-shadow: 0px 1px 2px rgba(60, 64, 67, 0.3), 0px 1px 3px 1px rgba(60, 64, 67, 0.15);\n",
              "      fill: #174EA6;\n",
              "    }\n",
              "\n",
              "    [theme=dark] .colab-df-convert {\n",
              "      background-color: #3B4455;\n",
              "      fill: #D2E3FC;\n",
              "    }\n",
              "\n",
              "    [theme=dark] .colab-df-convert:hover {\n",
              "      background-color: #434B5C;\n",
              "      box-shadow: 0px 1px 3px 1px rgba(0, 0, 0, 0.15);\n",
              "      filter: drop-shadow(0px 1px 2px rgba(0, 0, 0, 0.3));\n",
              "      fill: #FFFFFF;\n",
              "    }\n",
              "  </style>\n",
              "\n",
              "      <script>\n",
              "        const buttonEl =\n",
              "          document.querySelector('#df-1d8d1776-6271-495a-b142-82a2f283947d button.colab-df-convert');\n",
              "        buttonEl.style.display =\n",
              "          google.colab.kernel.accessAllowed ? 'block' : 'none';\n",
              "\n",
              "        async function convertToInteractive(key) {\n",
              "          const element = document.querySelector('#df-1d8d1776-6271-495a-b142-82a2f283947d');\n",
              "          const dataTable =\n",
              "            await google.colab.kernel.invokeFunction('convertToInteractive',\n",
              "                                                     [key], {});\n",
              "          if (!dataTable) return;\n",
              "\n",
              "          const docLinkHtml = 'Like what you see? Visit the ' +\n",
              "            '<a target=\"_blank\" href=https://colab.research.google.com/notebooks/data_table.ipynb>data table notebook</a>'\n",
              "            + ' to learn more about interactive tables.';\n",
              "          element.innerHTML = '';\n",
              "          dataTable['output_type'] = 'display_data';\n",
              "          await google.colab.output.renderOutput(dataTable, element);\n",
              "          const docLink = document.createElement('div');\n",
              "          docLink.innerHTML = docLinkHtml;\n",
              "          element.appendChild(docLink);\n",
              "        }\n",
              "      </script>\n",
              "    </div>\n",
              "  </div>\n",
              "  "
            ]
          },
          "metadata": {}
        },
        {
          "output_type": "stream",
          "name": "stdout",
          "text": [
            "------------------------\n",
            "Общая информация\n",
            "<class 'pandas.core.frame.DataFrame'>\n",
            "RangeIndex: 100000 entries, 0 to 99999\n",
            "Data columns (total 5 columns):\n",
            " #   Column   Non-Null Count   Dtype  \n",
            "---  ------   --------------   -----  \n",
            " 0   id       100000 non-null  object \n",
            " 1   f0       100000 non-null  float64\n",
            " 2   f1       100000 non-null  float64\n",
            " 3   f2       100000 non-null  float64\n",
            " 4   product  100000 non-null  float64\n",
            "dtypes: float64(4), object(1)\n",
            "memory usage: 3.8+ MB\n",
            "------------------------\n",
            "Описание данных\n"
          ]
        },
        {
          "output_type": "display_data",
          "data": {
            "text/plain": [
              "                  f0             f1             f2        product\n",
              "count  100000.000000  100000.000000  100000.000000  100000.000000\n",
              "mean        0.002023      -0.002081       2.495128      95.000000\n",
              "std         1.732045       1.730417       3.473445      44.749921\n",
              "min        -8.760004      -7.084020     -11.970335       0.000000\n",
              "25%        -1.162288      -1.174820       0.130359      59.450441\n",
              "50%         0.009424      -0.009482       2.484236      94.925613\n",
              "75%         1.158535       1.163678       4.858794     130.595027\n",
              "max         7.238262       7.844801      16.739402     190.029838"
            ],
            "text/html": [
              "\n",
              "  <div id=\"df-c9a1a24a-050a-4788-bf4e-ee144e644d53\">\n",
              "    <div class=\"colab-df-container\">\n",
              "      <div>\n",
              "<style scoped>\n",
              "    .dataframe tbody tr th:only-of-type {\n",
              "        vertical-align: middle;\n",
              "    }\n",
              "\n",
              "    .dataframe tbody tr th {\n",
              "        vertical-align: top;\n",
              "    }\n",
              "\n",
              "    .dataframe thead th {\n",
              "        text-align: right;\n",
              "    }\n",
              "</style>\n",
              "<table border=\"1\" class=\"dataframe\">\n",
              "  <thead>\n",
              "    <tr style=\"text-align: right;\">\n",
              "      <th></th>\n",
              "      <th>f0</th>\n",
              "      <th>f1</th>\n",
              "      <th>f2</th>\n",
              "      <th>product</th>\n",
              "    </tr>\n",
              "  </thead>\n",
              "  <tbody>\n",
              "    <tr>\n",
              "      <th>count</th>\n",
              "      <td>100000.000000</td>\n",
              "      <td>100000.000000</td>\n",
              "      <td>100000.000000</td>\n",
              "      <td>100000.000000</td>\n",
              "    </tr>\n",
              "    <tr>\n",
              "      <th>mean</th>\n",
              "      <td>0.002023</td>\n",
              "      <td>-0.002081</td>\n",
              "      <td>2.495128</td>\n",
              "      <td>95.000000</td>\n",
              "    </tr>\n",
              "    <tr>\n",
              "      <th>std</th>\n",
              "      <td>1.732045</td>\n",
              "      <td>1.730417</td>\n",
              "      <td>3.473445</td>\n",
              "      <td>44.749921</td>\n",
              "    </tr>\n",
              "    <tr>\n",
              "      <th>min</th>\n",
              "      <td>-8.760004</td>\n",
              "      <td>-7.084020</td>\n",
              "      <td>-11.970335</td>\n",
              "      <td>0.000000</td>\n",
              "    </tr>\n",
              "    <tr>\n",
              "      <th>25%</th>\n",
              "      <td>-1.162288</td>\n",
              "      <td>-1.174820</td>\n",
              "      <td>0.130359</td>\n",
              "      <td>59.450441</td>\n",
              "    </tr>\n",
              "    <tr>\n",
              "      <th>50%</th>\n",
              "      <td>0.009424</td>\n",
              "      <td>-0.009482</td>\n",
              "      <td>2.484236</td>\n",
              "      <td>94.925613</td>\n",
              "    </tr>\n",
              "    <tr>\n",
              "      <th>75%</th>\n",
              "      <td>1.158535</td>\n",
              "      <td>1.163678</td>\n",
              "      <td>4.858794</td>\n",
              "      <td>130.595027</td>\n",
              "    </tr>\n",
              "    <tr>\n",
              "      <th>max</th>\n",
              "      <td>7.238262</td>\n",
              "      <td>7.844801</td>\n",
              "      <td>16.739402</td>\n",
              "      <td>190.029838</td>\n",
              "    </tr>\n",
              "  </tbody>\n",
              "</table>\n",
              "</div>\n",
              "      <button class=\"colab-df-convert\" onclick=\"convertToInteractive('df-c9a1a24a-050a-4788-bf4e-ee144e644d53')\"\n",
              "              title=\"Convert this dataframe to an interactive table.\"\n",
              "              style=\"display:none;\">\n",
              "        \n",
              "  <svg xmlns=\"http://www.w3.org/2000/svg\" height=\"24px\"viewBox=\"0 0 24 24\"\n",
              "       width=\"24px\">\n",
              "    <path d=\"M0 0h24v24H0V0z\" fill=\"none\"/>\n",
              "    <path d=\"M18.56 5.44l.94 2.06.94-2.06 2.06-.94-2.06-.94-.94-2.06-.94 2.06-2.06.94zm-11 1L8.5 8.5l.94-2.06 2.06-.94-2.06-.94L8.5 2.5l-.94 2.06-2.06.94zm10 10l.94 2.06.94-2.06 2.06-.94-2.06-.94-.94-2.06-.94 2.06-2.06.94z\"/><path d=\"M17.41 7.96l-1.37-1.37c-.4-.4-.92-.59-1.43-.59-.52 0-1.04.2-1.43.59L10.3 9.45l-7.72 7.72c-.78.78-.78 2.05 0 2.83L4 21.41c.39.39.9.59 1.41.59.51 0 1.02-.2 1.41-.59l7.78-7.78 2.81-2.81c.8-.78.8-2.07 0-2.86zM5.41 20L4 18.59l7.72-7.72 1.47 1.35L5.41 20z\"/>\n",
              "  </svg>\n",
              "      </button>\n",
              "      \n",
              "  <style>\n",
              "    .colab-df-container {\n",
              "      display:flex;\n",
              "      flex-wrap:wrap;\n",
              "      gap: 12px;\n",
              "    }\n",
              "\n",
              "    .colab-df-convert {\n",
              "      background-color: #E8F0FE;\n",
              "      border: none;\n",
              "      border-radius: 50%;\n",
              "      cursor: pointer;\n",
              "      display: none;\n",
              "      fill: #1967D2;\n",
              "      height: 32px;\n",
              "      padding: 0 0 0 0;\n",
              "      width: 32px;\n",
              "    }\n",
              "\n",
              "    .colab-df-convert:hover {\n",
              "      background-color: #E2EBFA;\n",
              "      box-shadow: 0px 1px 2px rgba(60, 64, 67, 0.3), 0px 1px 3px 1px rgba(60, 64, 67, 0.15);\n",
              "      fill: #174EA6;\n",
              "    }\n",
              "\n",
              "    [theme=dark] .colab-df-convert {\n",
              "      background-color: #3B4455;\n",
              "      fill: #D2E3FC;\n",
              "    }\n",
              "\n",
              "    [theme=dark] .colab-df-convert:hover {\n",
              "      background-color: #434B5C;\n",
              "      box-shadow: 0px 1px 3px 1px rgba(0, 0, 0, 0.15);\n",
              "      filter: drop-shadow(0px 1px 2px rgba(0, 0, 0, 0.3));\n",
              "      fill: #FFFFFF;\n",
              "    }\n",
              "  </style>\n",
              "\n",
              "      <script>\n",
              "        const buttonEl =\n",
              "          document.querySelector('#df-c9a1a24a-050a-4788-bf4e-ee144e644d53 button.colab-df-convert');\n",
              "        buttonEl.style.display =\n",
              "          google.colab.kernel.accessAllowed ? 'block' : 'none';\n",
              "\n",
              "        async function convertToInteractive(key) {\n",
              "          const element = document.querySelector('#df-c9a1a24a-050a-4788-bf4e-ee144e644d53');\n",
              "          const dataTable =\n",
              "            await google.colab.kernel.invokeFunction('convertToInteractive',\n",
              "                                                     [key], {});\n",
              "          if (!dataTable) return;\n",
              "\n",
              "          const docLinkHtml = 'Like what you see? Visit the ' +\n",
              "            '<a target=\"_blank\" href=https://colab.research.google.com/notebooks/data_table.ipynb>data table notebook</a>'\n",
              "            + ' to learn more about interactive tables.';\n",
              "          element.innerHTML = '';\n",
              "          dataTable['output_type'] = 'display_data';\n",
              "          await google.colab.output.renderOutput(dataTable, element);\n",
              "          const docLink = document.createElement('div');\n",
              "          docLink.innerHTML = docLinkHtml;\n",
              "          element.appendChild(docLink);\n",
              "        }\n",
              "      </script>\n",
              "    </div>\n",
              "  </div>\n",
              "  "
            ]
          },
          "metadata": {}
        },
        {
          "output_type": "stream",
          "name": "stdout",
          "text": [
            "------------------------\n",
            "Количество дубликатов\n",
            "0\n",
            "------------------------\n",
            "Количество пропусков\n"
          ]
        },
        {
          "output_type": "display_data",
          "data": {
            "text/plain": [
              "id         0\n",
              "f0         0\n",
              "f1         0\n",
              "f2         0\n",
              "product    0\n",
              "dtype: int64"
            ]
          },
          "metadata": {}
        }
      ],
      "source": [
        "open_data(data_3)"
      ]
    },
    {
      "cell_type": "code",
      "execution_count": 12,
      "metadata": {
        "id": "3XMrvgdC1iVs"
      },
      "outputs": [],
      "source": [
        "#удалим столбец id, чтобы не мешал обучению модели, важной информации он не несет\n",
        "\n",
        "data_3 = data_3.drop(['id'], axis=1)"
      ]
    },
    {
      "cell_type": "markdown",
      "metadata": {
        "id": "RAnxXr_A1iVs"
      },
      "source": [
        "**Комментарий:**\n",
        "<br>Типы данных в порядке, дубликатов и пропусков нет."
      ]
    },
    {
      "cell_type": "code",
      "execution_count": 13,
      "metadata": {
        "colab": {
          "base_uri": "https://localhost:8080/",
          "height": 414
        },
        "id": "Gd1vMSHX1iVs",
        "outputId": "8c77bfd2-1956-407f-8a0c-4a206f808366"
      },
      "outputs": [
        {
          "output_type": "execute_result",
          "data": {
            "text/plain": [
              "Text(0.5, 1.0, 'Тепловая карта корреляции')"
            ]
          },
          "metadata": {},
          "execution_count": 13
        },
        {
          "output_type": "display_data",
          "data": {
            "text/plain": [
              "<Figure size 720x432 with 2 Axes>"
            ],
            "image/png": "[encoded data removed]"
          },
          "metadata": {
            "needs_background": "light"
          }
        }
      ],
      "source": [
        "#посмотрим на взаимосвязь данных\n",
        "\n",
        "plt.figure(figsize=(10,6))\n",
        "\n",
        "sns.heatmap(data_3.corr(), annot=True, square=True, center=0, fmt='.1g', cmap='PRGn', linecolor='black', linewidths=3)\n",
        "plt.title(label='Тепловая карта корреляции', fontsize=20)"
      ]
    },
    {
      "cell_type": "markdown",
      "metadata": {
        "id": "M49Z65961iVs"
      },
      "source": [
        "**Краткий вывод** \n",
        "<br>Здесь наблюдается наименьшая корреляция со всеми данными."
      ]
    },
    {
      "cell_type": "markdown",
      "metadata": {
        "id": "4Ip6YGTf1iVs"
      },
      "source": [
        "### Общий вывод по разделу"
      ]
    },
    {
      "cell_type": "markdown",
      "metadata": {
        "id": "UmV4qGDA1iVs"
      },
      "source": [
        " - Данные по трем регионам в порядке - пропусков нет, типы данных соответствующие\n",
        " - Был удален признак ***id*** из всех таблиц, так как не является показательным. \n",
        " - Признаки - ***f0, f1, f2***, целевой признак - ***product***.\n",
        " - Выявлена прямая положительная корреляция во втором регионе между признаками ***f2*** и ***product***, также между этими признаками высокая корреляция и в других регионах.\n",
        " - Наименьшую корреляцию имеют признаки по третьему региону."
      ]
    },
    {
      "cell_type": "markdown",
      "metadata": {
        "id": "AGga3qDN1iVs"
      },
      "source": [
        "## Обучение и проверка модели"
      ]
    },
    {
      "cell_type": "markdown",
      "metadata": {
        "id": "oieN9dlz1iVt"
      },
      "source": [
        "### Первый регион"
      ]
    },
    {
      "cell_type": "code",
      "execution_count": 14,
      "metadata": {
        "id": "3HJyrN751iVt"
      },
      "outputs": [],
      "source": [
        "#разобьем данные на обучающую и валидационную выборки в отношении 72:25\n",
        "\n",
        "features_1 = data_1.drop(['product'], axis=1)\n",
        "target_1 = data_1['product']\n",
        "\n",
        "features_train_1, features_valid_1, target_train_1, target_valid_1 = train_test_split(\n",
        "                features_1, target_1, test_size=0.25, random_state=12345)"
      ]
    },
    {
      "cell_type": "code",
      "source": [
        "%%time\n",
        "\n",
        "# подберем наилучшие параметры с помощью кросс-валидации\n",
        "\n",
        "model_lr_1 = LinearRegression()\n",
        "params_lr_1 = {'fit_intercept':[True, False], 'normalize':[True, False], 'copy_X':[True, False]}\n",
        "\n",
        "random_cv_1 = GridSearchCV(model_lr_1, params_lr_1, cv=3, scoring='neg_mean_squared_error')\n",
        "random_cv_1.fit(features_train_1, target_train_1)\n",
        "\n",
        "print('Лучшие гиперпараметры для модели:', random_cv_1.best_params_) "
      ],
      "metadata": {
        "colab": {
          "base_uri": "https://localhost:8080/"
        },
        "id": "18xBFWmR-nBm",
        "outputId": "fa114fc6-ac18-4673-b21f-6ee56339476f"
      },
      "execution_count": 15,
      "outputs": [
        {
          "output_type": "stream",
          "name": "stdout",
          "text": [
            "Лучшие гиперпараметры для модели: {'copy_X': True, 'fit_intercept': True, 'normalize': True}\n",
            "CPU times: user 491 ms, sys: 447 ms, total: 939 ms\n",
            "Wall time: 535 ms\n"
          ]
        }
      ]
    },
    {
      "cell_type": "code",
      "execution_count": 16,
      "metadata": {
        "id": "pxVfdJ7e1iVt",
        "colab": {
          "base_uri": "https://localhost:8080/"
        },
        "outputId": "4134ecb8-722c-4356-e29d-2614515974b8"
      },
      "outputs": [
        {
          "output_type": "stream",
          "name": "stdout",
          "text": [
            "MSE = 1412.2129364399243\n",
            "RMSE = 37.5794217150813\n",
            "CPU times: user 22 ms, sys: 7.35 ms, total: 29.3 ms\n",
            "Wall time: 23.4 ms\n"
          ]
        }
      ],
      "source": [
        "%%time\n",
        "\n",
        "# обучим модель\n",
        "\n",
        "model_lr_1 = LinearRegression(fit_intercept=True, normalize=True, copy_X=True)\n",
        "model_lr_1.fit(features_train_1, target_train_1)\n",
        "predicted_valid_1 = model_lr_1.predict(features_valid_1)\n",
        "\n",
        "# и посчитаем RMSE\n",
        "\n",
        "mse_1 = mean_squared_error(target_valid_1, predicted_valid_1)\n",
        "rmse_1 = mse_1 ** 0.5\n",
        "print(\"MSE =\", mse_1)\n",
        "print(\"RMSE =\", rmse_1)"
      ]
    },
    {
      "cell_type": "code",
      "execution_count": 17,
      "metadata": {
        "id": "LlaxoCb-1iVt",
        "outputId": "e5ddf945-7df1-46a9-f5e0-f4441526991d",
        "colab": {
          "base_uri": "https://localhost:8080/"
        }
      },
      "outputs": [
        {
          "output_type": "stream",
          "name": "stdout",
          "text": [
            "       real_product  predicted_product\n",
            "71751     10.038645          95.894952\n",
            "80493    114.551489          77.572583\n",
            "2655     132.603635          77.892640\n",
            "53233    169.072125          90.175134\n",
            "91141    122.325180          70.510088\n",
            "\n",
            "Средний запас предсказанного сырья: 92.59\n"
          ]
        }
      ],
      "source": [
        "#выведем таблицу с реальными и предсказанными данными по сырью\n",
        "\n",
        "frame_1 = {'real_product' : target_valid_1,\n",
        "            'predicted_product' : predicted_valid_1         \n",
        "    }\n",
        "data_frame_1 = pd.DataFrame(frame_1, columns = ['real_product', 'predicted_product'])\n",
        "print(data_frame_1.head(5))\n",
        "print()\n",
        "print('Средний запас предсказанного сырья: {:.2f}'.format(predicted_valid_1.mean()))"
      ]
    },
    {
      "cell_type": "code",
      "execution_count": 18,
      "metadata": {
        "id": "_y2Ajgs61iVt",
        "outputId": "c64d5952-f057-48d1-9577-408fe77b2b22",
        "colab": {
          "base_uri": "https://localhost:8080/"
        }
      },
      "outputs": [
        {
          "output_type": "stream",
          "name": "stdout",
          "text": [
            "Вывод по первому региону:\n",
            "\n",
            "RMSE = 37.5794217150813\n",
            "Средний запас предсказанного сырья: 92.59\n",
            "R2 = 0.27994321524487786\n",
            "MAE = 30.919600777151313\n"
          ]
        }
      ],
      "source": [
        "print('Вывод по первому региону:')\n",
        "print()\n",
        "print(\"RMSE =\", mse_1 ** 0.5)\n",
        "print('Средний запас предсказанного сырья: {:.2f}'.format(predicted_valid_1.mean()))\n",
        "print('R2 =', r2_score(target_valid_1, predicted_valid_1))\n",
        "print('MAE =', mean_absolute_error(target_valid_1, predicted_valid_1))"
      ]
    },
    {
      "cell_type": "markdown",
      "metadata": {
        "id": "JmOA7joo1iVt"
      },
      "source": [
        "**Краткий вывод** \n",
        "<br>Средняя квадратичная ошибка достаточно большая, необходимо посмотреть на результаты других регионов."
      ]
    },
    {
      "cell_type": "markdown",
      "metadata": {
        "id": "KTUuN2jT1iVt"
      },
      "source": [
        "### Второй регион"
      ]
    },
    {
      "cell_type": "code",
      "execution_count": 19,
      "metadata": {
        "id": "6MGeH9dR1iVt"
      },
      "outputs": [],
      "source": [
        "#разобьем данные на обучающую и валидационную выборки в отношении 72:25\n",
        "\n",
        "features_2 = data_2.drop(['product'], axis=1)\n",
        "target_2 = data_2['product']\n",
        "\n",
        "features_train_2, features_valid_2, target_train_2, target_valid_2 = train_test_split(\n",
        "                features_2, target_2, test_size=0.25, random_state=12345)"
      ]
    },
    {
      "cell_type": "code",
      "source": [
        "%%time\n",
        "\n",
        "# подберем наилучшие параметры с помощью кросс-валидации\n",
        "\n",
        "model_lr_2 = LinearRegression()\n",
        "params_lr_2 = {'fit_intercept':[True, False], 'normalize':[True, False], 'copy_X':[True, False]}\n",
        "\n",
        "random_cv_2 = GridSearchCV(model_lr_2, params_lr_2, cv=3, scoring='neg_mean_squared_error')\n",
        "random_cv_2.fit(features_train_2, target_train_2)\n",
        "\n",
        "print('Лучшие гиперпараметры для модели:', random_cv_2.best_params_) "
      ],
      "metadata": {
        "colab": {
          "base_uri": "https://localhost:8080/"
        },
        "id": "H6reHTv1ggw7",
        "outputId": "275db01e-95f2-4ca7-a082-c7e584569896"
      },
      "execution_count": 20,
      "outputs": [
        {
          "output_type": "stream",
          "name": "stdout",
          "text": [
            "Лучшие гиперпараметры для модели: {'copy_X': True, 'fit_intercept': True, 'normalize': False}\n",
            "CPU times: user 412 ms, sys: 357 ms, total: 768 ms\n",
            "Wall time: 472 ms\n"
          ]
        }
      ]
    },
    {
      "cell_type": "code",
      "execution_count": 21,
      "metadata": {
        "id": "BRLI-mHu1iVt",
        "colab": {
          "base_uri": "https://localhost:8080/"
        },
        "outputId": "afaf5fa8-5ec5-4729-8b9c-6c745a391f06"
      },
      "outputs": [
        {
          "output_type": "stream",
          "name": "stdout",
          "text": [
            "MSE = 0.7976263360391157\n",
            "RMSE = 0.893099286775617\n",
            "CPU times: user 15.1 ms, sys: 18.2 ms, total: 33.3 ms\n",
            "Wall time: 18.5 ms\n"
          ]
        }
      ],
      "source": [
        "%%time\n",
        "\n",
        "# обучим модель\n",
        "\n",
        "model_2 = LinearRegression(fit_intercept=True, normalize=False, copy_X=True)\n",
        "model_2.fit(features_train_2, target_train_2)\n",
        "predicted_valid_2 = model_2.predict(features_valid_2)\n",
        "\n",
        "# и посчитаем RMSE\n",
        "\n",
        "mse_2 = mean_squared_error(target_valid_2, predicted_valid_2)\n",
        "rmse_2 = mse_2 ** 0.5\n",
        "print(\"MSE =\", mse_2)\n",
        "print(\"RMSE =\", rmse_2)"
      ]
    },
    {
      "cell_type": "code",
      "execution_count": 22,
      "metadata": {
        "id": "ejcFK-0H1iVu",
        "outputId": "547bb402-606c-44a3-fb64-71564c253646",
        "colab": {
          "base_uri": "https://localhost:8080/"
        }
      },
      "outputs": [
        {
          "output_type": "stream",
          "name": "stdout",
          "text": [
            "       real_product  predicted_product\n",
            "71751     80.859783          82.663314\n",
            "80493     53.906522          54.431786\n",
            "2655      30.132364          29.748760\n",
            "53233     53.906522          53.552133\n",
            "91141      0.000000           1.243856\n",
            "\n",
            "Средний запас предсказанного сырья: 68.73\n"
          ]
        }
      ],
      "source": [
        "#выведем таблицу с реальными и предсказанными данными по сырью\n",
        "\n",
        "frame_2 = {'real_product' : target_valid_2,\n",
        "            'predicted_product' : predicted_valid_2         \n",
        "    }\n",
        "data_frame_2 = pd.DataFrame(frame_2, columns = ['real_product', 'predicted_product'])\n",
        "print(data_frame_2.head(5))\n",
        "print()\n",
        "print('Средний запас предсказанного сырья: {:.2f}'.format(predicted_valid_2.mean()))"
      ]
    },
    {
      "cell_type": "code",
      "execution_count": 23,
      "metadata": {
        "id": "yLFXOdFN1iVu",
        "outputId": "3d002c98-ee82-4c3d-8dc7-87dd7293e238",
        "colab": {
          "base_uri": "https://localhost:8080/"
        }
      },
      "outputs": [
        {
          "output_type": "stream",
          "name": "stdout",
          "text": [
            "Вывод по второму региону:\n",
            "\n",
            "RMSE = 0.893099286775617\n",
            "Средний запас предсказанного сырья: 68.73\n",
            "R2 = 0.9996233978805127\n",
            "MAE = 0.7187662442124758\n"
          ]
        }
      ],
      "source": [
        "print('Вывод по второму региону:')\n",
        "print()\n",
        "print(\"RMSE =\", mse_2 ** 0.5)\n",
        "print('Средний запас предсказанного сырья: {:.2f}'.format(predicted_valid_2.mean()))\n",
        "print('R2 =', r2_score(target_valid_2, predicted_valid_2))\n",
        "print('MAE =', mean_absolute_error(target_valid_2, predicted_valid_2))"
      ]
    },
    {
      "cell_type": "markdown",
      "metadata": {
        "id": "Uy_s5njH1iVu"
      },
      "source": [
        "**Краткий вывод** \n",
        "<br>Показатели RMSE и MAE значительно лучше здесь, однако средний запас сырья сильно ниже, чем в первом регионе."
      ]
    },
    {
      "cell_type": "markdown",
      "metadata": {
        "id": "eU_JXGcA1iVu"
      },
      "source": [
        "### Третий регион"
      ]
    },
    {
      "cell_type": "code",
      "execution_count": 24,
      "metadata": {
        "id": "WLsKKKem1iVu"
      },
      "outputs": [],
      "source": [
        "# разобьем данные на обучающую и валидационную выборки в отношении 72:25\n",
        "\n",
        "features_3 = data_3.drop(['product'], axis=1)\n",
        "target_3 = data_3['product']\n",
        "\n",
        "features_train_3, features_valid_3, target_train_3, target_valid_3 = train_test_split(\n",
        "                features_3, target_3, test_size=0.25, random_state=12345)"
      ]
    },
    {
      "cell_type": "code",
      "source": [
        "%%time\n",
        "\n",
        "# подберем наилучшие параметры с помощью кросс-валидации\n",
        "\n",
        "model_lr_3 = LinearRegression()\n",
        "params_lr_3 = {'fit_intercept':[True, False], 'normalize':[True, False], 'copy_X':[True, False]}\n",
        "\n",
        "random_cv_3 = GridSearchCV(model_lr_3, params_lr_3, cv=3, scoring='neg_mean_squared_error')\n",
        "random_cv_3.fit(features_train_3, target_train_3)\n",
        "\n",
        "print('Лучшие гиперпараметры для модели:', random_cv_3.best_params_) "
      ],
      "metadata": {
        "colab": {
          "base_uri": "https://localhost:8080/"
        },
        "id": "jAI_W9fyhhaW",
        "outputId": "da5163d1-34c0-4484-c01f-68d21bad46ff"
      },
      "execution_count": 25,
      "outputs": [
        {
          "output_type": "stream",
          "name": "stdout",
          "text": [
            "Лучшие гиперпараметры для модели: {'copy_X': True, 'fit_intercept': True, 'normalize': True}\n",
            "CPU times: user 421 ms, sys: 345 ms, total: 766 ms\n",
            "Wall time: 411 ms\n"
          ]
        }
      ]
    },
    {
      "cell_type": "code",
      "execution_count": 26,
      "metadata": {
        "id": "94dft0eW1iVu",
        "colab": {
          "base_uri": "https://localhost:8080/"
        },
        "outputId": "43c7fe9b-2517-4aae-ee1b-1ec5e45cef05"
      },
      "outputs": [
        {
          "output_type": "stream",
          "name": "stdout",
          "text": [
            "MSE = 1602.3775813236196\n",
            "RMSE = 40.02970873393434\n",
            "CPU times: user 22.4 ms, sys: 9.91 ms, total: 32.3 ms\n",
            "Wall time: 22.5 ms\n"
          ]
        }
      ],
      "source": [
        "%%time\n",
        "\n",
        "# обучим модель\n",
        "\n",
        "model_3 = LinearRegression(fit_intercept=True, normalize=True, copy_X=True)\n",
        "model_3.fit(features_train_3, target_train_3)\n",
        "predicted_valid_3 = model_3.predict(features_valid_3)\n",
        "\n",
        "# и посчитаем RMSE\n",
        "\n",
        "mse_3 = mean_squared_error(target_valid_3, predicted_valid_3)\n",
        "rmse_3 = mse_3 ** 0.5\n",
        "print(\"MSE =\", mse_3)\n",
        "print(\"RMSE =\", rmse_3)"
      ]
    },
    {
      "cell_type": "code",
      "execution_count": 27,
      "metadata": {
        "id": "CJanTS4_1iVu",
        "outputId": "075a1ba6-1bb8-4e7f-bbf4-707a26886e07",
        "colab": {
          "base_uri": "https://localhost:8080/"
        }
      },
      "outputs": [
        {
          "output_type": "stream",
          "name": "stdout",
          "text": [
            "       real_product  predicted_product\n",
            "71751     61.212375          93.599633\n",
            "80493     41.850118          75.105159\n",
            "2655      57.776581          90.066809\n",
            "53233    100.053761         105.162375\n",
            "91141    109.897122         115.303310\n",
            "\n",
            "Средний запас предсказанного сырья: 94.97\n"
          ]
        }
      ],
      "source": [
        "#выведем таблицу с реальными и предсказанными данными по сырью\n",
        "\n",
        "frame_3 = {'real_product' : target_valid_3,\n",
        "            'predicted_product' : predicted_valid_3         \n",
        "    }\n",
        "data_frame_3 = pd.DataFrame(frame_3, columns = ['real_product', 'predicted_product'])\n",
        "print(data_frame_3.head(5))\n",
        "print()\n",
        "print('Средний запас предсказанного сырья: {:.2f}'.format(predicted_valid_3.mean()))"
      ]
    },
    {
      "cell_type": "code",
      "execution_count": 28,
      "metadata": {
        "id": "Uj_ptsa91iVv",
        "outputId": "0df56721-274e-40de-f08f-f51334a2def8",
        "colab": {
          "base_uri": "https://localhost:8080/"
        }
      },
      "outputs": [
        {
          "output_type": "stream",
          "name": "stdout",
          "text": [
            "Вывод по третьему региону:\n",
            "\n",
            "RMSE = 40.02970873393434\n",
            "Средний запас предсказанного сырья: 94.97\n",
            "R2 = 0.20524758386040443\n",
            "MAE = 32.792652105481814\n"
          ]
        }
      ],
      "source": [
        "print('Вывод по третьему региону:')\n",
        "print()\n",
        "print(\"RMSE =\", mse_3 ** 0.5)\n",
        "print('Средний запас предсказанного сырья: {:.2f}'.format(predicted_valid_3.mean()))\n",
        "print('R2 =', r2_score(target_valid_3, predicted_valid_3))\n",
        "print('MAE =', mean_absolute_error(target_valid_3, predicted_valid_3))"
      ]
    },
    {
      "cell_type": "markdown",
      "metadata": {
        "id": "HBdYOIHQ1iVv"
      },
      "source": [
        "**Краткий вывод** \n",
        "<br>В этом регионе наилучшие показатели по запасу сырья, однако RMSE и MAE хуже, чем в остальных."
      ]
    },
    {
      "cell_type": "markdown",
      "metadata": {
        "id": "EYYxwgVr1iVv"
      },
      "source": [
        "### Общий вывод по разделу"
      ]
    },
    {
      "cell_type": "markdown",
      "metadata": {
        "id": "BU1slopi1iVv"
      },
      "source": [
        "**Первый регион:**\n",
        "\n",
        "- RMSE = 37.5794217150813\n",
        "- Средний запас предсказанного сырья: 92.59\n",
        "\n",
        "**Второй регион:**\n",
        "\n",
        "- RMSE = 0.893099286775617\n",
        "- Средний запас предсказанного сырья: 68.73\n",
        "\n",
        "**Третий регион:**\n",
        "\n",
        "- RMSE = 40.02970873393434\n",
        "- Средний запас предсказанного сырья: 94.97\n",
        "\n",
        "**Выводы:**\n",
        "\n",
        "- По второму региону показатели запаса сырья являются самыми низкими, однако именно на этих данных модель отработала лучше всего. Средняя квадратичная ошибка достаточно низкая. Вероятно, это связано с тем, что мы наблюдаем тут прямую корреляцию между признаками f2 и целевым признаком.\n",
        "- В третьем регионе показатели запаса сырья самые высокие, однако модель достаточно плохо отработала на этих данных. Возможно, потому что корреляция между всеми признаками довольно низкая.\n",
        "- На данный момент первый регион выглядит приоритетным с точки зрения всех показателей, если его сравнивать с остальными регионами."
      ]
    },
    {
      "cell_type": "markdown",
      "metadata": {
        "id": "iN2psfjz1iVv"
      },
      "source": [
        "## Подготовка к расчёту прибыли"
      ]
    },
    {
      "cell_type": "markdown",
      "metadata": {
        "id": "7mhxVsz-1iVv"
      },
      "source": [
        "**Дано:**\n",
        "\n",
        "- Исследуют 500 точек, выбирают 200, введем переменную: *oilwell_count = 200*\n",
        "- Бюджет на разработку скважин в регионе — 10 млрд рублей, переменная: *region_budget = 10.000.000.000*\n",
        "- Доход с каждой единицы продукта составляет 450 тыс. рублей, переменная: *unit_revenue = 450.000*"
      ]
    },
    {
      "cell_type": "code",
      "execution_count": 29,
      "metadata": {
        "id": "l5kCzyhB1iVv"
      },
      "outputs": [],
      "source": [
        "oilwell_count = 200\n",
        "region_budget = 10000000000\n",
        "barrel_revenue = 450\n",
        "unit_revenue = 450000"
      ]
    },
    {
      "cell_type": "code",
      "execution_count": 30,
      "metadata": {
        "id": "WdABhXTC1iVv",
        "outputId": "538ae3f6-587a-46bf-834a-5060c8cc4762",
        "colab": {
          "base_uri": "https://localhost:8080/"
        }
      },
      "outputs": [
        {
          "output_type": "stream",
          "name": "stdout",
          "text": [
            "Стоимость разработки одной скважины: 50000000.00\n",
            "Минимальный объем сырья для дальнейшей разработки: 111.11\n"
          ]
        }
      ],
      "source": [
        "# из данных нам вводных найдем все возможные нужные для нас переменные\n",
        "\n",
        "oilwell_budget = region_budget / oilwell_count\n",
        "min_revenue = oilwell_budget / unit_revenue\n",
        "\n",
        "print('Стоимость разработки одной скважины: {:.2f}'.format(oilwell_budget))\n",
        "print('Минимальный объем сырья для дальнейшей разработки: {:.2f}'.format(min_revenue))"
      ]
    },
    {
      "cell_type": "code",
      "execution_count": 31,
      "metadata": {
        "id": "5a84x4181iVw",
        "outputId": "fbe9b6d3-4d04-46d1-8dbc-336e75bbfe17",
        "colab": {
          "base_uri": "https://localhost:8080/"
        }
      },
      "outputs": [
        {
          "output_type": "stream",
          "name": "stdout",
          "text": [
            "Средний фактический запас сырья в первом регионе: 92.50\n",
            "Средний фактический запас сырья во втором регионе: 68.83\n",
            "Средний фактический запас сырья в третьем регионе: 95.00\n"
          ]
        }
      ],
      "source": [
        "#посмотрим на фактические значения запасов сырья в регионах\n",
        "\n",
        "print('Средний фактический запас сырья в первом регионе: {:.2f}'.format(target_1.mean()))\n",
        "print('Средний фактический запас сырья во втором регионе: {:.2f}'.format(target_2.mean()))\n",
        "print('Средний фактический запас сырья в третьем регионе: {:.2f}'.format(target_3.mean()))"
      ]
    },
    {
      "cell_type": "markdown",
      "metadata": {
        "id": "O2yrGoQN1iVw"
      },
      "source": [
        "### Общий вывод по разделу"
      ]
    },
    {
      "cell_type": "markdown",
      "metadata": {
        "id": "thmAJgEx1iVw"
      },
      "source": [
        "- Стоимость разработки 1 скважины - 50 млн.руб\n",
        "- Минимальный объем сырья для дальнейшей разработки: 111 единиц\n",
        "- Ни один регион на данный момент не проходит по минимальным значениям, ближе всего 3 регион."
      ]
    },
    {
      "cell_type": "markdown",
      "metadata": {
        "id": "I8SAJsBH1iVw"
      },
      "source": [
        "## Расчёт прибыли и рисков "
      ]
    },
    {
      "cell_type": "code",
      "execution_count": 32,
      "metadata": {
        "id": "7hX_m0vn1iVw"
      },
      "outputs": [],
      "source": [
        "#напишем функцию для расчёта прибыли по выбранным скважинам и предсказаниям модели \n",
        "\n",
        "def revenue(target, predictions):\n",
        "    target = pd.Series(target).reset_index(drop=True)\n",
        "    predictions = pd.Series(predictions).reset_index(drop=True)\n",
        "    pred_sorted = predictions.sort_values(ascending=False)\n",
        "    selected = target[pred_sorted.index][:200]\n",
        "    revenue = ((selected.sum() * unit_revenue) - region_budget)\n",
        "    return revenue"
      ]
    },
    {
      "cell_type": "code",
      "execution_count": 33,
      "metadata": {
        "id": "_RBieXiC1iVw",
        "outputId": "5c5833d8-64a4-4bf9-b0e0-bfa7b381a50e",
        "colab": {
          "base_uri": "https://localhost:8080/"
        }
      },
      "outputs": [
        {
          "output_type": "stream",
          "name": "stdout",
          "text": [
            "Прибыль топ-200 скважин: 3320826043.14\n"
          ]
        }
      ],
      "source": [
        "#первый регион\n",
        "\n",
        "print('Прибыль топ-200 скважин: {:.2f}'.format(revenue(target_valid_1, predicted_valid_1)))"
      ]
    },
    {
      "cell_type": "code",
      "execution_count": 34,
      "metadata": {
        "id": "6_pvKe6E1iVw",
        "outputId": "7c0630b2-6c7a-47d1-ad79-3518402dcb7d",
        "colab": {
          "base_uri": "https://localhost:8080/"
        }
      },
      "outputs": [
        {
          "output_type": "stream",
          "name": "stdout",
          "text": [
            "Прибыль топ-200 скважин: 2415086696.68\n"
          ]
        }
      ],
      "source": [
        "#второй регион\n",
        "\n",
        "print('Прибыль топ-200 скважин: {:.2f}'.format(revenue(target_valid_2, predicted_valid_2)))"
      ]
    },
    {
      "cell_type": "code",
      "execution_count": 35,
      "metadata": {
        "id": "GblF8cU41iVw",
        "outputId": "153d4bd5-7fda-4ab0-9df5-24ede6d21813",
        "colab": {
          "base_uri": "https://localhost:8080/"
        }
      },
      "outputs": [
        {
          "output_type": "stream",
          "name": "stdout",
          "text": [
            "Прибыль топ-200 скважин: 2710349963.60\n"
          ]
        }
      ],
      "source": [
        "#третий регион\n",
        "\n",
        "print('Прибыль топ-200 скважин: {:.2f}'.format(revenue(target_valid_3, predicted_valid_3)))"
      ]
    },
    {
      "cell_type": "markdown",
      "metadata": {
        "id": "uoefz5dy1iVx"
      },
      "source": [
        "В первом регионе самый большой показатель выручки. "
      ]
    },
    {
      "cell_type": "code",
      "execution_count": 36,
      "metadata": {
        "id": "Ph_mclJq1iVx"
      },
      "outputs": [],
      "source": [
        "state = np.random.RandomState(12345)\n",
        "def bootstrap (target, probabilities):\n",
        "    values = []\n",
        "    for i in range(1000):\n",
        "        target_subsample = target.reset_index(drop=True).sample(n=500, replace=True, random_state=state)\n",
        "        probs_subsample = probabilities[target_subsample.index]\n",
        "        values.append(revenue(target_subsample,  probs_subsample))\n",
        "    \n",
        "\n",
        "    risk = 0.025\n",
        "    values = pd.Series(values)\n",
        "    lower = values.quantile(risk)\n",
        "    confidence_interval = (values.quantile(0.025), values.quantile(0.975))\n",
        "    mean = values.mean()\n",
        "    \n",
        "    print('Средняя выручка: {:.2f}'.format(mean))\n",
        "    print('2.5%-квантиль: {:.2f}'.format(lower))\n",
        "    print('Доверительный интервал:', confidence_interval)\n",
        "    print('Риск убытка:', ((values < 0).mean()))"
      ]
    },
    {
      "cell_type": "code",
      "execution_count": 37,
      "metadata": {
        "id": "mL9VnT_51iVx",
        "outputId": "c91862f8-5241-4c2d-fb22-c2d61b822db8",
        "colab": {
          "base_uri": "https://localhost:8080/"
        }
      },
      "outputs": [
        {
          "output_type": "stream",
          "name": "stdout",
          "text": [
            "Средняя выручка: 396164984.80\n",
            "2.5%-квантиль: -111215545.89\n",
            "Доверительный интервал: (-111215545.89049526, 909766941.5534226)\n",
            "Риск убытка: 0.069\n"
          ]
        }
      ],
      "source": [
        "#первый регион\n",
        "\n",
        "bootstrap(target_valid_1, predicted_valid_1)"
      ]
    },
    {
      "cell_type": "code",
      "execution_count": 38,
      "metadata": {
        "id": "4jI7gHa21iVx",
        "outputId": "4ac58b2e-9eda-4765-edac-e186474a4816",
        "colab": {
          "base_uri": "https://localhost:8080/"
        }
      },
      "outputs": [
        {
          "output_type": "stream",
          "name": "stdout",
          "text": [
            "Средняя выручка: 461155817.28\n",
            "2.5%-квантиль: 78050810.75\n",
            "Доверительный интервал: (78050810.7517417, 862952060.2637234)\n",
            "Риск убытка: 0.007\n"
          ]
        }
      ],
      "source": [
        "#второй регион\n",
        "\n",
        "bootstrap(target_valid_2, predicted_valid_2)"
      ]
    },
    {
      "cell_type": "code",
      "execution_count": 39,
      "metadata": {
        "id": "rS7Npw_y1iVx",
        "outputId": "74f78421-7c56-42ac-bd26-5359c1998265",
        "colab": {
          "base_uri": "https://localhost:8080/"
        }
      },
      "outputs": [
        {
          "output_type": "stream",
          "name": "stdout",
          "text": [
            "Средняя выручка: 392950475.17\n",
            "2.5%-квантиль: -112227625.38\n",
            "Доверительный интервал: (-112227625.37857565, 934562914.5511636)\n",
            "Риск убытка: 0.065\n"
          ]
        }
      ],
      "source": [
        "#третий регион\n",
        "\n",
        "bootstrap(target_valid_3, predicted_valid_3)"
      ]
    },
    {
      "cell_type": "markdown",
      "metadata": {
        "id": "xec5dWGI1iVx"
      },
      "source": [
        "### Общий вывод по разделу"
      ]
    },
    {
      "cell_type": "markdown",
      "metadata": {
        "id": "3t96ShwR1iVx"
      },
      "source": [
        "- Единственный регион, который проходит под условия задачи - это второй регион. Риск убытка тут минимальный.\n",
        "- Интересно, что показатели по первому и третьему региону очень близки друг к другу."
      ]
    },
    {
      "cell_type": "markdown",
      "metadata": {
        "id": "uOdlxESY1iVx"
      },
      "source": [
        "## Общий итог"
      ]
    },
    {
      "cell_type": "markdown",
      "metadata": {
        "id": "G8HpYkcV1iVx"
      },
      "source": [
        "Второй регион является самым подходящим для бизнеса. Риск убытка здесь минимальный, также показатель средней выручки максимальный из всех трех регионов. Запасы сырья здесь самые низкие, однако это не влияет на показатель выручки."
      ]
    }
  ],
  "metadata": {
    "ExecuteTimeLog": [
      {
        "duration": 1826,
        "start_time": "2022-01-24T19:53:06.852Z"
      },
      {
        "duration": 471,
        "start_time": "2022-01-24T19:54:45.063Z"
      },
      {
        "duration": 17,
        "start_time": "2022-01-24T19:55:35.565Z"
      },
      {
        "duration": 15,
        "start_time": "2022-01-24T19:56:24.259Z"
      },
      {
        "duration": 13,
        "start_time": "2022-01-24T20:15:04.021Z"
      },
      {
        "duration": 14,
        "start_time": "2022-01-24T20:15:10.783Z"
      },
      {
        "duration": 12,
        "start_time": "2022-01-24T20:17:38.597Z"
      },
      {
        "duration": 472,
        "start_time": "2022-01-24T20:19:11.503Z"
      },
      {
        "duration": 8,
        "start_time": "2022-01-24T20:19:34.111Z"
      },
      {
        "duration": 384,
        "start_time": "2022-01-24T20:19:44.793Z"
      },
      {
        "duration": 323,
        "start_time": "2022-01-24T20:19:58.764Z"
      },
      {
        "duration": 1200,
        "start_time": "2022-01-24T20:20:09.191Z"
      },
      {
        "duration": 319,
        "start_time": "2022-01-24T20:20:49.311Z"
      },
      {
        "duration": 11,
        "start_time": "2022-01-24T20:21:12.851Z"
      },
      {
        "duration": 345,
        "start_time": "2022-01-24T20:21:16.079Z"
      },
      {
        "duration": 322,
        "start_time": "2022-01-24T20:21:23.441Z"
      },
      {
        "duration": 339,
        "start_time": "2022-01-24T20:21:29.408Z"
      },
      {
        "duration": 1398,
        "start_time": "2022-01-24T20:22:25.900Z"
      },
      {
        "duration": 460,
        "start_time": "2022-01-24T20:22:27.300Z"
      },
      {
        "duration": 17,
        "start_time": "2022-01-24T20:22:27.763Z"
      },
      {
        "duration": 15,
        "start_time": "2022-01-24T20:22:27.782Z"
      },
      {
        "duration": 8,
        "start_time": "2022-01-24T20:22:27.799Z"
      },
      {
        "duration": 13,
        "start_time": "2022-01-24T20:22:27.810Z"
      },
      {
        "duration": 15,
        "start_time": "2022-01-24T20:22:27.862Z"
      },
      {
        "duration": 13,
        "start_time": "2022-01-24T20:22:27.880Z"
      },
      {
        "duration": 9,
        "start_time": "2022-01-24T20:22:48.349Z"
      },
      {
        "duration": 8,
        "start_time": "2022-01-24T20:23:49.802Z"
      },
      {
        "duration": 9,
        "start_time": "2022-01-24T20:23:55.393Z"
      },
      {
        "duration": 8,
        "start_time": "2022-01-24T20:24:49.867Z"
      },
      {
        "duration": 9,
        "start_time": "2022-01-24T20:25:08.735Z"
      },
      {
        "duration": 8,
        "start_time": "2022-01-24T20:25:27.588Z"
      },
      {
        "duration": 9,
        "start_time": "2022-01-24T20:25:33.006Z"
      },
      {
        "duration": 20,
        "start_time": "2022-01-24T20:34:00.885Z"
      },
      {
        "duration": 22,
        "start_time": "2022-01-24T20:37:42.149Z"
      },
      {
        "duration": 5,
        "start_time": "2022-01-24T21:02:41.381Z"
      },
      {
        "duration": 35,
        "start_time": "2022-01-24T21:07:05.940Z"
      },
      {
        "duration": 30,
        "start_time": "2022-01-24T21:07:28.647Z"
      },
      {
        "duration": 5,
        "start_time": "2022-01-24T21:08:45.468Z"
      },
      {
        "duration": 7,
        "start_time": "2022-01-24T21:09:15.073Z"
      },
      {
        "duration": 5,
        "start_time": "2022-01-24T21:10:53.626Z"
      },
      {
        "duration": 6,
        "start_time": "2022-01-24T21:11:26.321Z"
      },
      {
        "duration": 490,
        "start_time": "2022-01-24T21:21:08.733Z"
      },
      {
        "duration": 14,
        "start_time": "2022-01-24T21:21:16.987Z"
      },
      {
        "duration": 13,
        "start_time": "2022-01-24T21:22:47.112Z"
      },
      {
        "duration": 4,
        "start_time": "2022-01-24T21:22:49.950Z"
      },
      {
        "duration": 7,
        "start_time": "2022-01-24T21:23:03.455Z"
      },
      {
        "duration": 15,
        "start_time": "2022-01-24T21:30:04.289Z"
      },
      {
        "duration": 9,
        "start_time": "2022-01-24T21:31:30.886Z"
      },
      {
        "duration": 11,
        "start_time": "2022-01-24T21:31:39.308Z"
      },
      {
        "duration": 12,
        "start_time": "2022-01-24T21:31:45.027Z"
      },
      {
        "duration": 8,
        "start_time": "2022-01-24T21:33:12.371Z"
      },
      {
        "duration": 7,
        "start_time": "2022-01-24T21:36:49.904Z"
      },
      {
        "duration": 304,
        "start_time": "2022-01-24T21:38:50.224Z"
      },
      {
        "duration": 7,
        "start_time": "2022-01-24T21:39:00.172Z"
      },
      {
        "duration": 20,
        "start_time": "2022-01-24T21:40:21.138Z"
      },
      {
        "duration": 26,
        "start_time": "2022-01-24T21:40:23.151Z"
      },
      {
        "duration": 16,
        "start_time": "2022-01-24T21:40:25.613Z"
      },
      {
        "duration": 8,
        "start_time": "2022-01-24T21:40:26.925Z"
      },
      {
        "duration": 11,
        "start_time": "2022-01-24T21:40:29.161Z"
      },
      {
        "duration": 10,
        "start_time": "2022-01-24T21:40:31.280Z"
      },
      {
        "duration": 20,
        "start_time": "2022-01-24T21:40:47.957Z"
      },
      {
        "duration": 27,
        "start_time": "2022-01-24T21:41:21.756Z"
      },
      {
        "duration": 14,
        "start_time": "2022-01-24T21:41:51.794Z"
      },
      {
        "duration": 7,
        "start_time": "2022-01-24T21:42:08.716Z"
      },
      {
        "duration": 11,
        "start_time": "2022-01-24T21:43:10.942Z"
      },
      {
        "duration": 14,
        "start_time": "2022-01-24T21:43:53.535Z"
      },
      {
        "duration": 6,
        "start_time": "2022-01-24T21:43:55.511Z"
      },
      {
        "duration": 13,
        "start_time": "2022-01-24T21:43:57.881Z"
      },
      {
        "duration": 8,
        "start_time": "2022-01-24T21:44:00.279Z"
      },
      {
        "duration": 30,
        "start_time": "2022-01-24T21:44:15.451Z"
      },
      {
        "duration": 31,
        "start_time": "2022-01-24T21:44:16.940Z"
      },
      {
        "duration": 14,
        "start_time": "2022-01-24T21:44:19.175Z"
      },
      {
        "duration": 7,
        "start_time": "2022-01-24T21:44:20.610Z"
      },
      {
        "duration": 16,
        "start_time": "2022-01-24T21:44:42.700Z"
      },
      {
        "duration": 7,
        "start_time": "2022-01-24T21:44:44.475Z"
      },
      {
        "duration": 11,
        "start_time": "2022-01-24T21:44:46.309Z"
      },
      {
        "duration": 7,
        "start_time": "2022-01-24T21:44:53.871Z"
      },
      {
        "duration": 11,
        "start_time": "2022-01-24T21:44:56.799Z"
      },
      {
        "duration": 9,
        "start_time": "2022-01-24T21:45:27.149Z"
      },
      {
        "duration": 30,
        "start_time": "2022-01-24T21:46:32.991Z"
      },
      {
        "duration": 29,
        "start_time": "2022-01-24T21:46:53.471Z"
      },
      {
        "duration": 13,
        "start_time": "2022-01-24T21:47:17.971Z"
      },
      {
        "duration": 6,
        "start_time": "2022-01-24T21:47:35.784Z"
      },
      {
        "duration": 12,
        "start_time": "2022-01-24T21:48:05.439Z"
      },
      {
        "duration": 9,
        "start_time": "2022-01-24T21:48:31.071Z"
      },
      {
        "duration": 1194,
        "start_time": "2022-01-25T07:40:12.226Z"
      },
      {
        "duration": 6085,
        "start_time": "2022-01-25T07:40:13.421Z"
      },
      {
        "duration": 10,
        "start_time": "2022-01-25T07:40:19.508Z"
      },
      {
        "duration": 9,
        "start_time": "2022-01-25T07:40:19.520Z"
      },
      {
        "duration": 8,
        "start_time": "2022-01-25T07:40:19.530Z"
      },
      {
        "duration": 7,
        "start_time": "2022-01-25T07:40:19.539Z"
      },
      {
        "duration": 24,
        "start_time": "2022-01-25T07:40:19.548Z"
      },
      {
        "duration": 8,
        "start_time": "2022-01-25T07:40:19.574Z"
      },
      {
        "duration": 8,
        "start_time": "2022-01-25T07:40:19.584Z"
      },
      {
        "duration": 6,
        "start_time": "2022-01-25T07:40:19.593Z"
      },
      {
        "duration": 8,
        "start_time": "2022-01-25T07:40:19.600Z"
      },
      {
        "duration": 350,
        "start_time": "2022-01-25T07:40:19.609Z"
      },
      {
        "duration": -1948,
        "start_time": "2022-01-25T07:40:21.909Z"
      },
      {
        "duration": -1951,
        "start_time": "2022-01-25T07:40:21.913Z"
      },
      {
        "duration": -1959,
        "start_time": "2022-01-25T07:40:21.922Z"
      },
      {
        "duration": -1961,
        "start_time": "2022-01-25T07:40:21.925Z"
      },
      {
        "duration": -1963,
        "start_time": "2022-01-25T07:40:21.928Z"
      },
      {
        "duration": -1993,
        "start_time": "2022-01-25T07:40:21.959Z"
      },
      {
        "duration": -2006,
        "start_time": "2022-01-25T07:40:21.973Z"
      },
      {
        "duration": -2023,
        "start_time": "2022-01-25T07:40:21.991Z"
      },
      {
        "duration": -2053,
        "start_time": "2022-01-25T07:40:22.022Z"
      },
      {
        "duration": -2070,
        "start_time": "2022-01-25T07:40:22.040Z"
      },
      {
        "duration": -2085,
        "start_time": "2022-01-25T07:40:22.056Z"
      },
      {
        "duration": -2108,
        "start_time": "2022-01-25T07:40:22.080Z"
      },
      {
        "duration": -2117,
        "start_time": "2022-01-25T07:40:22.090Z"
      },
      {
        "duration": -2131,
        "start_time": "2022-01-25T07:40:22.105Z"
      },
      {
        "duration": -2147,
        "start_time": "2022-01-25T07:40:22.122Z"
      },
      {
        "duration": -2150,
        "start_time": "2022-01-25T07:40:22.126Z"
      },
      {
        "duration": -2155,
        "start_time": "2022-01-25T07:40:22.131Z"
      },
      {
        "duration": 16,
        "start_time": "2022-01-25T07:40:33.665Z"
      },
      {
        "duration": 17,
        "start_time": "2022-01-25T07:40:36.803Z"
      },
      {
        "duration": 20,
        "start_time": "2022-01-25T07:40:36.822Z"
      },
      {
        "duration": 10,
        "start_time": "2022-01-25T07:40:36.844Z"
      },
      {
        "duration": 110,
        "start_time": "2022-01-25T07:40:36.875Z"
      },
      {
        "duration": 12,
        "start_time": "2022-01-25T07:40:36.987Z"
      },
      {
        "duration": 5,
        "start_time": "2022-01-25T07:40:37.073Z"
      },
      {
        "duration": 22,
        "start_time": "2022-01-25T07:40:37.080Z"
      },
      {
        "duration": 24,
        "start_time": "2022-01-25T07:40:37.106Z"
      },
      {
        "duration": 52,
        "start_time": "2022-01-25T07:40:37.133Z"
      },
      {
        "duration": 7,
        "start_time": "2022-01-25T07:40:37.273Z"
      },
      {
        "duration": 94,
        "start_time": "2022-01-25T07:40:37.283Z"
      },
      {
        "duration": 6,
        "start_time": "2022-01-25T07:40:37.379Z"
      },
      {
        "duration": 16,
        "start_time": "2022-01-25T07:40:37.387Z"
      },
      {
        "duration": 18,
        "start_time": "2022-01-25T07:40:37.405Z"
      },
      {
        "duration": 49,
        "start_time": "2022-01-25T07:40:37.424Z"
      },
      {
        "duration": 6,
        "start_time": "2022-01-25T07:40:37.476Z"
      },
      {
        "duration": 92,
        "start_time": "2022-01-25T07:40:37.484Z"
      },
      {
        "duration": 94,
        "start_time": "2022-01-25T07:40:37.579Z"
      },
      {
        "duration": 6,
        "start_time": "2022-01-25T07:41:36.100Z"
      },
      {
        "duration": 5,
        "start_time": "2022-01-25T07:50:37.229Z"
      },
      {
        "duration": 6,
        "start_time": "2022-01-25T07:50:39.139Z"
      },
      {
        "duration": 4,
        "start_time": "2022-01-25T07:50:56.618Z"
      },
      {
        "duration": 7,
        "start_time": "2022-01-25T07:51:06.886Z"
      },
      {
        "duration": 4,
        "start_time": "2022-01-25T07:51:30.232Z"
      },
      {
        "duration": 6,
        "start_time": "2022-01-25T07:51:41.645Z"
      },
      {
        "duration": 5,
        "start_time": "2022-01-25T07:51:50.715Z"
      },
      {
        "duration": 5,
        "start_time": "2022-01-25T11:04:12.219Z"
      },
      {
        "duration": 9,
        "start_time": "2022-01-25T11:04:46.522Z"
      },
      {
        "duration": 60,
        "start_time": "2022-01-25T11:19:29.128Z"
      },
      {
        "duration": 265,
        "start_time": "2022-01-25T11:20:09.086Z"
      },
      {
        "duration": 281,
        "start_time": "2022-01-25T11:21:58.607Z"
      },
      {
        "duration": 279,
        "start_time": "2022-01-25T11:23:36.285Z"
      },
      {
        "duration": 3,
        "start_time": "2022-01-25T11:45:21.225Z"
      },
      {
        "duration": 3,
        "start_time": "2022-01-25T11:48:50.386Z"
      },
      {
        "duration": 4,
        "start_time": "2022-01-25T11:54:29.162Z"
      },
      {
        "duration": 4,
        "start_time": "2022-01-25T11:55:38.053Z"
      },
      {
        "duration": 3,
        "start_time": "2022-01-25T11:56:29.657Z"
      },
      {
        "duration": 4,
        "start_time": "2022-01-25T11:56:32.943Z"
      },
      {
        "duration": 5,
        "start_time": "2022-01-25T11:57:46.739Z"
      },
      {
        "duration": 6,
        "start_time": "2022-01-25T12:04:34.947Z"
      },
      {
        "duration": 1169,
        "start_time": "2022-01-25T15:17:33.760Z"
      },
      {
        "duration": 343,
        "start_time": "2022-01-25T15:17:34.933Z"
      },
      {
        "duration": 12,
        "start_time": "2022-01-25T15:17:35.278Z"
      },
      {
        "duration": 10,
        "start_time": "2022-01-25T15:17:35.292Z"
      },
      {
        "duration": 11,
        "start_time": "2022-01-25T15:17:35.303Z"
      },
      {
        "duration": 333,
        "start_time": "2022-01-25T15:17:35.317Z"
      },
      {
        "duration": 8,
        "start_time": "2022-01-25T15:17:35.652Z"
      },
      {
        "duration": 8,
        "start_time": "2022-01-25T15:17:35.671Z"
      },
      {
        "duration": 18,
        "start_time": "2022-01-25T15:17:35.681Z"
      },
      {
        "duration": 253,
        "start_time": "2022-01-25T15:17:35.701Z"
      },
      {
        "duration": 20,
        "start_time": "2022-01-25T15:17:35.956Z"
      },
      {
        "duration": 13,
        "start_time": "2022-01-25T15:17:35.977Z"
      },
      {
        "duration": 11,
        "start_time": "2022-01-25T15:17:35.992Z"
      },
      {
        "duration": 274,
        "start_time": "2022-01-25T15:17:36.004Z"
      },
      {
        "duration": 15,
        "start_time": "2022-01-25T15:17:36.280Z"
      },
      {
        "duration": 21,
        "start_time": "2022-01-25T15:17:36.296Z"
      },
      {
        "duration": 9,
        "start_time": "2022-01-25T15:17:36.318Z"
      },
      {
        "duration": 48,
        "start_time": "2022-01-25T15:17:36.329Z"
      },
      {
        "duration": 105,
        "start_time": "2022-01-25T15:17:36.379Z"
      },
      {
        "duration": 10,
        "start_time": "2022-01-25T15:17:36.486Z"
      },
      {
        "duration": 15,
        "start_time": "2022-01-25T15:17:36.498Z"
      },
      {
        "duration": 19,
        "start_time": "2022-01-25T15:17:36.515Z"
      },
      {
        "duration": 138,
        "start_time": "2022-01-25T15:17:36.535Z"
      },
      {
        "duration": 96,
        "start_time": "2022-01-25T15:17:36.678Z"
      },
      {
        "duration": 9,
        "start_time": "2022-01-25T15:17:36.776Z"
      },
      {
        "duration": 15,
        "start_time": "2022-01-25T15:17:36.789Z"
      },
      {
        "duration": 20,
        "start_time": "2022-01-25T15:17:36.806Z"
      },
      {
        "duration": 20,
        "start_time": "2022-01-25T15:17:36.828Z"
      },
      {
        "duration": 39,
        "start_time": "2022-01-25T15:17:36.849Z"
      },
      {
        "duration": 5,
        "start_time": "2022-01-25T15:17:36.972Z"
      },
      {
        "duration": 97,
        "start_time": "2022-01-25T15:17:36.979Z"
      },
      {
        "duration": 14,
        "start_time": "2022-01-25T15:17:37.078Z"
      },
      {
        "duration": 7,
        "start_time": "2022-01-25T15:17:37.093Z"
      },
      {
        "duration": 9,
        "start_time": "2022-01-25T15:17:37.102Z"
      },
      {
        "duration": 8,
        "start_time": "2022-01-25T15:17:37.112Z"
      },
      {
        "duration": 19,
        "start_time": "2022-01-25T15:32:11.516Z"
      },
      {
        "duration": 46,
        "start_time": "2022-01-25T15:32:45.453Z"
      },
      {
        "duration": 43,
        "start_time": "2022-01-25T15:33:19.928Z"
      },
      {
        "duration": 4,
        "start_time": "2022-01-25T15:39:45.821Z"
      },
      {
        "duration": 9,
        "start_time": "2022-01-25T15:41:36.192Z"
      },
      {
        "duration": 9,
        "start_time": "2022-01-25T15:42:48.462Z"
      },
      {
        "duration": 3,
        "start_time": "2022-01-25T15:44:09.211Z"
      },
      {
        "duration": 8,
        "start_time": "2022-01-25T15:44:10.973Z"
      },
      {
        "duration": 4,
        "start_time": "2022-01-25T15:44:43.267Z"
      },
      {
        "duration": 9,
        "start_time": "2022-01-25T15:44:44.870Z"
      },
      {
        "duration": 4,
        "start_time": "2022-01-25T15:45:21.218Z"
      },
      {
        "duration": 326,
        "start_time": "2022-01-25T15:45:21.226Z"
      },
      {
        "duration": 7,
        "start_time": "2022-01-25T15:45:21.554Z"
      },
      {
        "duration": 9,
        "start_time": "2022-01-25T15:45:21.563Z"
      },
      {
        "duration": 7,
        "start_time": "2022-01-25T15:45:21.574Z"
      },
      {
        "duration": 280,
        "start_time": "2022-01-25T15:45:21.582Z"
      },
      {
        "duration": 14,
        "start_time": "2022-01-25T15:45:21.864Z"
      },
      {
        "duration": 17,
        "start_time": "2022-01-25T15:45:21.879Z"
      },
      {
        "duration": 11,
        "start_time": "2022-01-25T15:45:21.897Z"
      },
      {
        "duration": 352,
        "start_time": "2022-01-25T15:45:21.910Z"
      },
      {
        "duration": 13,
        "start_time": "2022-01-25T15:45:22.265Z"
      },
      {
        "duration": 22,
        "start_time": "2022-01-25T15:45:22.280Z"
      },
      {
        "duration": 68,
        "start_time": "2022-01-25T15:45:22.303Z"
      },
      {
        "duration": 306,
        "start_time": "2022-01-25T15:45:22.373Z"
      },
      {
        "duration": 17,
        "start_time": "2022-01-25T15:45:22.680Z"
      },
      {
        "duration": 30,
        "start_time": "2022-01-25T15:45:22.698Z"
      },
      {
        "duration": 12,
        "start_time": "2022-01-25T15:45:22.730Z"
      },
      {
        "duration": 6,
        "start_time": "2022-01-25T15:45:22.773Z"
      },
      {
        "duration": 112,
        "start_time": "2022-01-25T15:45:22.781Z"
      },
      {
        "duration": 21,
        "start_time": "2022-01-25T15:45:22.895Z"
      },
      {
        "duration": 37,
        "start_time": "2022-01-25T15:45:22.918Z"
      },
      {
        "duration": 32,
        "start_time": "2022-01-25T15:45:22.957Z"
      },
      {
        "duration": 11,
        "start_time": "2022-01-25T15:45:22.991Z"
      },
      {
        "duration": 70,
        "start_time": "2022-01-25T15:45:23.004Z"
      },
      {
        "duration": 157,
        "start_time": "2022-01-25T15:45:23.077Z"
      },
      {
        "duration": 16,
        "start_time": "2022-01-25T15:45:23.235Z"
      },
      {
        "duration": 27,
        "start_time": "2022-01-25T15:45:23.253Z"
      },
      {
        "duration": 19,
        "start_time": "2022-01-25T15:45:23.283Z"
      },
      {
        "duration": 19,
        "start_time": "2022-01-25T15:45:23.303Z"
      },
      {
        "duration": 55,
        "start_time": "2022-01-25T15:45:23.324Z"
      },
      {
        "duration": 8,
        "start_time": "2022-01-25T15:45:23.472Z"
      },
      {
        "duration": 7,
        "start_time": "2022-01-25T15:45:23.481Z"
      },
      {
        "duration": 3,
        "start_time": "2022-01-25T15:45:23.490Z"
      },
      {
        "duration": 5,
        "start_time": "2022-01-25T15:45:23.494Z"
      },
      {
        "duration": 8,
        "start_time": "2022-01-25T15:45:23.501Z"
      },
      {
        "duration": 3,
        "start_time": "2022-01-25T15:45:23.511Z"
      },
      {
        "duration": 12,
        "start_time": "2022-01-25T15:45:23.516Z"
      },
      {
        "duration": 45,
        "start_time": "2022-01-25T15:45:23.529Z"
      },
      {
        "duration": 2,
        "start_time": "2022-01-25T15:45:23.575Z"
      },
      {
        "duration": 9,
        "start_time": "2022-01-25T15:46:10.503Z"
      },
      {
        "duration": 4,
        "start_time": "2022-01-25T15:47:20.879Z"
      },
      {
        "duration": 658,
        "start_time": "2022-01-25T15:47:22.611Z"
      },
      {
        "duration": 4,
        "start_time": "2022-01-25T15:47:42.972Z"
      },
      {
        "duration": 9,
        "start_time": "2022-01-25T15:47:45.083Z"
      },
      {
        "duration": 253,
        "start_time": "2022-01-25T15:48:19.289Z"
      },
      {
        "duration": 3,
        "start_time": "2022-01-25T15:48:28.012Z"
      },
      {
        "duration": 6,
        "start_time": "2022-01-25T15:48:31.253Z"
      },
      {
        "duration": 8,
        "start_time": "2022-01-25T15:48:34.330Z"
      },
      {
        "duration": 4,
        "start_time": "2022-01-25T15:48:35.997Z"
      },
      {
        "duration": 8,
        "start_time": "2022-01-25T15:48:37.696Z"
      },
      {
        "duration": 3,
        "start_time": "2022-01-25T15:49:32.303Z"
      },
      {
        "duration": 8,
        "start_time": "2022-01-25T15:49:34.280Z"
      },
      {
        "duration": 9,
        "start_time": "2022-01-25T15:49:36.089Z"
      },
      {
        "duration": 9,
        "start_time": "2022-01-25T15:49:38.196Z"
      },
      {
        "duration": 4,
        "start_time": "2022-01-25T15:52:08.767Z"
      },
      {
        "duration": 9,
        "start_time": "2022-01-25T15:52:10.650Z"
      },
      {
        "duration": 15,
        "start_time": "2022-01-25T15:52:19.736Z"
      },
      {
        "duration": 3,
        "start_time": "2022-01-25T15:53:08.085Z"
      },
      {
        "duration": 10,
        "start_time": "2022-01-25T15:53:09.715Z"
      },
      {
        "duration": 1394,
        "start_time": "2022-01-25T20:09:31.436Z"
      },
      {
        "duration": 866,
        "start_time": "2022-01-25T20:09:32.833Z"
      },
      {
        "duration": 16,
        "start_time": "2022-01-25T20:09:33.701Z"
      },
      {
        "duration": 8,
        "start_time": "2022-01-25T20:09:33.719Z"
      },
      {
        "duration": 15,
        "start_time": "2022-01-25T20:09:33.729Z"
      },
      {
        "duration": 349,
        "start_time": "2022-01-25T20:09:33.746Z"
      },
      {
        "duration": 19,
        "start_time": "2022-01-25T20:09:34.097Z"
      },
      {
        "duration": 18,
        "start_time": "2022-01-25T20:09:34.117Z"
      },
      {
        "duration": 24,
        "start_time": "2022-01-25T20:09:34.138Z"
      },
      {
        "duration": 335,
        "start_time": "2022-01-25T20:09:34.164Z"
      },
      {
        "duration": 16,
        "start_time": "2022-01-25T20:09:34.501Z"
      },
      {
        "duration": 17,
        "start_time": "2022-01-25T20:09:34.519Z"
      },
      {
        "duration": 14,
        "start_time": "2022-01-25T20:09:34.538Z"
      },
      {
        "duration": 364,
        "start_time": "2022-01-25T20:09:34.554Z"
      },
      {
        "duration": 20,
        "start_time": "2022-01-25T20:09:34.920Z"
      },
      {
        "duration": 37,
        "start_time": "2022-01-25T20:09:34.942Z"
      },
      {
        "duration": 130,
        "start_time": "2022-01-25T20:09:34.981Z"
      },
      {
        "duration": 6,
        "start_time": "2022-01-25T20:09:35.113Z"
      },
      {
        "duration": 94,
        "start_time": "2022-01-25T20:09:35.121Z"
      },
      {
        "duration": 24,
        "start_time": "2022-01-25T20:09:35.216Z"
      },
      {
        "duration": 32,
        "start_time": "2022-01-25T20:09:35.243Z"
      },
      {
        "duration": 37,
        "start_time": "2022-01-25T20:09:35.277Z"
      },
      {
        "duration": 20,
        "start_time": "2022-01-25T20:09:35.316Z"
      },
      {
        "duration": 72,
        "start_time": "2022-01-25T20:09:35.339Z"
      },
      {
        "duration": 110,
        "start_time": "2022-01-25T20:09:35.414Z"
      },
      {
        "duration": 17,
        "start_time": "2022-01-25T20:09:35.526Z"
      },
      {
        "duration": 20,
        "start_time": "2022-01-25T20:09:35.548Z"
      },
      {
        "duration": 34,
        "start_time": "2022-01-25T20:09:35.571Z"
      },
      {
        "duration": 22,
        "start_time": "2022-01-25T20:09:35.607Z"
      },
      {
        "duration": 7,
        "start_time": "2022-01-25T20:09:35.708Z"
      },
      {
        "duration": 110,
        "start_time": "2022-01-25T20:09:35.718Z"
      },
      {
        "duration": 20,
        "start_time": "2022-01-25T20:09:35.829Z"
      },
      {
        "duration": 18,
        "start_time": "2022-01-25T20:09:35.851Z"
      },
      {
        "duration": 304,
        "start_time": "2022-01-25T20:09:35.871Z"
      },
      {
        "duration": 138,
        "start_time": "2022-01-25T20:09:36.039Z"
      },
      {
        "duration": 134,
        "start_time": "2022-01-25T20:09:36.044Z"
      },
      {
        "duration": 129,
        "start_time": "2022-01-25T20:09:36.050Z"
      },
      {
        "duration": 123,
        "start_time": "2022-01-25T20:09:36.057Z"
      },
      {
        "duration": 120,
        "start_time": "2022-01-25T20:09:36.061Z"
      },
      {
        "duration": 3,
        "start_time": "2022-01-25T20:10:04.819Z"
      },
      {
        "duration": 8,
        "start_time": "2022-01-25T20:10:07.256Z"
      },
      {
        "duration": 5,
        "start_time": "2022-01-25T20:10:11.100Z"
      },
      {
        "duration": 11,
        "start_time": "2022-01-25T20:10:13.474Z"
      },
      {
        "duration": 11,
        "start_time": "2022-01-25T20:10:16.253Z"
      },
      {
        "duration": 4,
        "start_time": "2022-01-25T20:11:26.520Z"
      },
      {
        "duration": 10,
        "start_time": "2022-01-25T20:11:32.454Z"
      },
      {
        "duration": 4,
        "start_time": "2022-01-25T20:12:52.249Z"
      },
      {
        "duration": 10,
        "start_time": "2022-01-25T20:12:54.152Z"
      },
      {
        "duration": 10,
        "start_time": "2022-01-25T20:12:55.988Z"
      },
      {
        "duration": 13,
        "start_time": "2022-01-25T20:12:57.635Z"
      },
      {
        "duration": 1243,
        "start_time": "2022-01-26T13:44:37.614Z"
      },
      {
        "duration": 460,
        "start_time": "2022-01-26T13:44:38.859Z"
      },
      {
        "duration": 15,
        "start_time": "2022-01-26T13:44:39.321Z"
      },
      {
        "duration": 21,
        "start_time": "2022-01-26T13:44:39.337Z"
      },
      {
        "duration": 22,
        "start_time": "2022-01-26T13:44:39.360Z"
      },
      {
        "duration": 339,
        "start_time": "2022-01-26T13:44:39.384Z"
      },
      {
        "duration": 10,
        "start_time": "2022-01-26T13:44:39.724Z"
      },
      {
        "duration": 12,
        "start_time": "2022-01-26T13:44:39.737Z"
      },
      {
        "duration": 12,
        "start_time": "2022-01-26T13:44:39.752Z"
      },
      {
        "duration": 333,
        "start_time": "2022-01-26T13:44:39.766Z"
      },
      {
        "duration": 10,
        "start_time": "2022-01-26T13:44:40.107Z"
      },
      {
        "duration": 11,
        "start_time": "2022-01-26T13:44:40.118Z"
      },
      {
        "duration": 12,
        "start_time": "2022-01-26T13:44:40.131Z"
      },
      {
        "duration": 326,
        "start_time": "2022-01-26T13:44:40.145Z"
      },
      {
        "duration": 34,
        "start_time": "2022-01-26T13:44:40.473Z"
      },
      {
        "duration": 30,
        "start_time": "2022-01-26T13:44:40.509Z"
      },
      {
        "duration": 167,
        "start_time": "2022-01-26T13:44:40.541Z"
      },
      {
        "duration": 5,
        "start_time": "2022-01-26T13:44:40.711Z"
      },
      {
        "duration": 15,
        "start_time": "2022-01-26T13:44:40.718Z"
      },
      {
        "duration": 73,
        "start_time": "2022-01-26T13:44:40.735Z"
      },
      {
        "duration": 21,
        "start_time": "2022-01-26T13:44:40.810Z"
      },
      {
        "duration": 78,
        "start_time": "2022-01-26T13:44:40.833Z"
      },
      {
        "duration": 92,
        "start_time": "2022-01-26T13:44:40.915Z"
      },
      {
        "duration": 101,
        "start_time": "2022-01-26T13:44:41.010Z"
      },
      {
        "duration": 14,
        "start_time": "2022-01-26T13:44:41.113Z"
      },
      {
        "duration": 19,
        "start_time": "2022-01-26T13:44:41.129Z"
      },
      {
        "duration": 39,
        "start_time": "2022-01-26T13:44:41.150Z"
      },
      {
        "duration": 23,
        "start_time": "2022-01-26T13:44:41.191Z"
      },
      {
        "duration": 12,
        "start_time": "2022-01-26T13:44:41.216Z"
      },
      {
        "duration": 76,
        "start_time": "2022-01-26T13:44:41.231Z"
      },
      {
        "duration": 104,
        "start_time": "2022-01-26T13:44:41.309Z"
      },
      {
        "duration": 11,
        "start_time": "2022-01-26T13:44:41.415Z"
      },
      {
        "duration": 9,
        "start_time": "2022-01-26T13:44:41.428Z"
      },
      {
        "duration": 11,
        "start_time": "2022-01-26T13:44:41.439Z"
      },
      {
        "duration": 21,
        "start_time": "2022-01-26T13:44:41.452Z"
      },
      {
        "duration": 6,
        "start_time": "2022-01-26T13:44:41.475Z"
      },
      {
        "duration": 28,
        "start_time": "2022-01-26T13:44:41.484Z"
      },
      {
        "duration": 11,
        "start_time": "2022-01-26T13:44:41.514Z"
      },
      {
        "duration": 16,
        "start_time": "2022-01-26T13:44:41.527Z"
      },
      {
        "duration": 4,
        "start_time": "2022-01-26T13:47:48.705Z"
      },
      {
        "duration": 11,
        "start_time": "2022-01-26T13:47:50.900Z"
      },
      {
        "duration": 4,
        "start_time": "2022-01-26T13:47:55.472Z"
      },
      {
        "duration": 12,
        "start_time": "2022-01-26T13:47:57.434Z"
      },
      {
        "duration": 4,
        "start_time": "2022-01-26T13:48:03.577Z"
      },
      {
        "duration": 12,
        "start_time": "2022-01-26T13:48:05.285Z"
      },
      {
        "duration": 4,
        "start_time": "2022-01-26T13:52:53.547Z"
      },
      {
        "duration": 11,
        "start_time": "2022-01-26T13:52:56.410Z"
      },
      {
        "duration": 11,
        "start_time": "2022-01-26T13:52:58.244Z"
      },
      {
        "duration": 11,
        "start_time": "2022-01-26T13:52:59.923Z"
      },
      {
        "duration": 5,
        "start_time": "2022-01-26T13:53:39.130Z"
      },
      {
        "duration": 10,
        "start_time": "2022-01-26T13:53:40.921Z"
      },
      {
        "duration": 11,
        "start_time": "2022-01-26T13:53:42.724Z"
      },
      {
        "duration": 12,
        "start_time": "2022-01-26T13:53:47.551Z"
      },
      {
        "duration": 13,
        "start_time": "2022-01-26T13:53:57.054Z"
      },
      {
        "duration": 4,
        "start_time": "2022-01-26T13:53:58.741Z"
      },
      {
        "duration": 10,
        "start_time": "2022-01-26T13:54:00.563Z"
      },
      {
        "duration": 11,
        "start_time": "2022-01-26T13:54:02.251Z"
      },
      {
        "duration": 10,
        "start_time": "2022-01-26T13:54:04.464Z"
      },
      {
        "duration": 5,
        "start_time": "2022-01-26T14:32:41.393Z"
      },
      {
        "duration": 894,
        "start_time": "2022-01-26T14:33:00.423Z"
      },
      {
        "duration": 6,
        "start_time": "2022-01-26T14:34:12.209Z"
      },
      {
        "duration": 454,
        "start_time": "2022-01-26T14:34:14.551Z"
      },
      {
        "duration": 6,
        "start_time": "2022-01-26T14:35:02.861Z"
      },
      {
        "duration": 405,
        "start_time": "2022-01-26T14:35:05.064Z"
      },
      {
        "duration": 6,
        "start_time": "2022-01-26T14:38:30.792Z"
      },
      {
        "duration": 759,
        "start_time": "2022-01-26T14:38:42.650Z"
      },
      {
        "duration": 6,
        "start_time": "2022-01-26T14:38:51.953Z"
      },
      {
        "duration": 471,
        "start_time": "2022-01-26T14:38:54.024Z"
      },
      {
        "duration": 5,
        "start_time": "2022-01-26T14:40:46.876Z"
      },
      {
        "duration": 411,
        "start_time": "2022-01-26T14:40:49.015Z"
      },
      {
        "duration": 7,
        "start_time": "2022-01-26T14:41:07.579Z"
      },
      {
        "duration": 387,
        "start_time": "2022-01-26T14:41:10.319Z"
      },
      {
        "duration": 4,
        "start_time": "2022-01-26T14:41:40.059Z"
      },
      {
        "duration": 435,
        "start_time": "2022-01-26T14:41:40.068Z"
      },
      {
        "duration": 10,
        "start_time": "2022-01-26T14:41:40.505Z"
      },
      {
        "duration": 15,
        "start_time": "2022-01-26T14:41:40.517Z"
      },
      {
        "duration": 10,
        "start_time": "2022-01-26T14:41:40.534Z"
      },
      {
        "duration": 312,
        "start_time": "2022-01-26T14:41:40.546Z"
      },
      {
        "duration": 10,
        "start_time": "2022-01-26T14:41:40.860Z"
      },
      {
        "duration": 9,
        "start_time": "2022-01-26T14:41:40.872Z"
      },
      {
        "duration": 27,
        "start_time": "2022-01-26T14:41:40.884Z"
      },
      {
        "duration": 332,
        "start_time": "2022-01-26T14:41:40.914Z"
      },
      {
        "duration": 9,
        "start_time": "2022-01-26T14:41:41.248Z"
      },
      {
        "duration": 8,
        "start_time": "2022-01-26T14:41:41.260Z"
      },
      {
        "duration": 12,
        "start_time": "2022-01-26T14:41:41.270Z"
      },
      {
        "duration": 348,
        "start_time": "2022-01-26T14:41:41.284Z"
      },
      {
        "duration": 18,
        "start_time": "2022-01-26T14:41:41.634Z"
      },
      {
        "duration": 58,
        "start_time": "2022-01-26T14:41:41.653Z"
      },
      {
        "duration": 7,
        "start_time": "2022-01-26T14:41:41.713Z"
      },
      {
        "duration": 97,
        "start_time": "2022-01-26T14:41:41.721Z"
      },
      {
        "duration": 10,
        "start_time": "2022-01-26T14:41:41.820Z"
      },
      {
        "duration": 27,
        "start_time": "2022-01-26T14:41:41.832Z"
      },
      {
        "duration": 52,
        "start_time": "2022-01-26T14:41:41.861Z"
      },
      {
        "duration": 92,
        "start_time": "2022-01-26T14:41:41.916Z"
      },
      {
        "duration": 8,
        "start_time": "2022-01-26T14:41:42.011Z"
      },
      {
        "duration": 11,
        "start_time": "2022-01-26T14:41:42.023Z"
      },
      {
        "duration": 23,
        "start_time": "2022-01-26T14:41:42.036Z"
      },
      {
        "duration": 55,
        "start_time": "2022-01-26T14:41:42.061Z"
      },
      {
        "duration": 90,
        "start_time": "2022-01-26T14:41:42.119Z"
      },
      {
        "duration": 12,
        "start_time": "2022-01-26T14:41:42.212Z"
      },
      {
        "duration": 15,
        "start_time": "2022-01-26T14:41:42.226Z"
      },
      {
        "duration": 65,
        "start_time": "2022-01-26T14:41:42.243Z"
      },
      {
        "duration": 4,
        "start_time": "2022-01-26T14:41:42.310Z"
      },
      {
        "duration": 16,
        "start_time": "2022-01-26T14:41:42.316Z"
      },
      {
        "duration": 8,
        "start_time": "2022-01-26T14:41:42.334Z"
      },
      {
        "duration": 17,
        "start_time": "2022-01-26T14:41:42.344Z"
      },
      {
        "duration": 95,
        "start_time": "2022-01-26T14:41:42.364Z"
      },
      {
        "duration": 12,
        "start_time": "2022-01-26T14:41:42.461Z"
      },
      {
        "duration": 6,
        "start_time": "2022-01-26T14:41:42.475Z"
      },
      {
        "duration": 431,
        "start_time": "2022-01-26T14:41:42.483Z"
      },
      {
        "duration": 5,
        "start_time": "2022-01-26T14:44:18.160Z"
      },
      {
        "duration": 5,
        "start_time": "2022-01-26T14:44:54.994Z"
      },
      {
        "duration": 2328,
        "start_time": "2022-01-26T14:46:40.548Z"
      },
      {
        "duration": 4,
        "start_time": "2022-01-26T19:25:36.614Z"
      },
      {
        "duration": 426,
        "start_time": "2022-01-26T19:25:36.621Z"
      },
      {
        "duration": 10,
        "start_time": "2022-01-26T19:25:37.050Z"
      },
      {
        "duration": 8,
        "start_time": "2022-01-26T19:25:37.062Z"
      },
      {
        "duration": 10,
        "start_time": "2022-01-26T19:25:37.071Z"
      },
      {
        "duration": 301,
        "start_time": "2022-01-26T19:25:37.107Z"
      },
      {
        "duration": 10,
        "start_time": "2022-01-26T19:25:37.410Z"
      },
      {
        "duration": 8,
        "start_time": "2022-01-26T19:25:37.422Z"
      },
      {
        "duration": 11,
        "start_time": "2022-01-26T19:25:37.432Z"
      },
      {
        "duration": 356,
        "start_time": "2022-01-26T19:25:37.445Z"
      },
      {
        "duration": 11,
        "start_time": "2022-01-26T19:25:37.803Z"
      },
      {
        "duration": 6,
        "start_time": "2022-01-26T19:25:37.816Z"
      },
      {
        "duration": 9,
        "start_time": "2022-01-26T19:25:37.824Z"
      },
      {
        "duration": 305,
        "start_time": "2022-01-26T19:25:37.835Z"
      },
      {
        "duration": 17,
        "start_time": "2022-01-26T19:25:38.141Z"
      },
      {
        "duration": 3,
        "start_time": "2022-01-26T19:25:38.160Z"
      },
      {
        "duration": 51,
        "start_time": "2022-01-26T19:25:38.165Z"
      },
      {
        "duration": 5,
        "start_time": "2022-01-26T19:25:38.309Z"
      },
      {
        "duration": 9,
        "start_time": "2022-01-26T19:25:38.318Z"
      },
      {
        "duration": 8,
        "start_time": "2022-01-26T19:25:38.329Z"
      },
      {
        "duration": 75,
        "start_time": "2022-01-26T19:25:38.339Z"
      },
      {
        "duration": 10,
        "start_time": "2022-01-26T19:25:38.416Z"
      },
      {
        "duration": 86,
        "start_time": "2022-01-26T19:25:38.429Z"
      },
      {
        "duration": 20,
        "start_time": "2022-01-26T19:25:38.607Z"
      },
      {
        "duration": 25,
        "start_time": "2022-01-26T19:25:38.629Z"
      },
      {
        "duration": 31,
        "start_time": "2022-01-26T19:25:38.656Z"
      },
      {
        "duration": 18,
        "start_time": "2022-01-26T19:25:38.689Z"
      },
      {
        "duration": 104,
        "start_time": "2022-01-26T19:25:38.709Z"
      },
      {
        "duration": 109,
        "start_time": "2022-01-26T19:25:38.816Z"
      },
      {
        "duration": 29,
        "start_time": "2022-01-26T19:25:38.927Z"
      },
      {
        "duration": 23,
        "start_time": "2022-01-26T19:25:38.958Z"
      },
      {
        "duration": 20,
        "start_time": "2022-01-26T19:25:38.983Z"
      },
      {
        "duration": 24,
        "start_time": "2022-01-26T19:25:39.005Z"
      },
      {
        "duration": 11,
        "start_time": "2022-01-26T19:25:39.031Z"
      },
      {
        "duration": 29,
        "start_time": "2022-01-26T19:25:39.044Z"
      },
      {
        "duration": 12,
        "start_time": "2022-01-26T19:25:39.075Z"
      },
      {
        "duration": 18,
        "start_time": "2022-01-26T19:25:39.089Z"
      },
      {
        "duration": 6,
        "start_time": "2022-01-26T19:25:39.109Z"
      },
      {
        "duration": 2237,
        "start_time": "2022-01-26T19:25:39.117Z"
      },
      {
        "duration": 2325,
        "start_time": "2022-01-26T19:26:28.841Z"
      },
      {
        "duration": 11,
        "start_time": "2022-01-26T19:26:55.496Z"
      },
      {
        "duration": 4,
        "start_time": "2022-01-26T19:27:00.707Z"
      },
      {
        "duration": 11,
        "start_time": "2022-01-26T19:27:02.421Z"
      },
      {
        "duration": 10,
        "start_time": "2022-01-26T19:27:11.142Z"
      },
      {
        "duration": 12,
        "start_time": "2022-01-26T19:27:18.122Z"
      },
      {
        "duration": 6,
        "start_time": "2022-01-26T19:27:21.150Z"
      },
      {
        "duration": 2365,
        "start_time": "2022-01-26T19:27:23.652Z"
      },
      {
        "duration": 2390,
        "start_time": "2022-01-26T19:27:29.266Z"
      },
      {
        "duration": 2505,
        "start_time": "2022-01-26T19:27:42.752Z"
      },
      {
        "duration": 1183,
        "start_time": "2022-01-26T19:51:14.662Z"
      },
      {
        "duration": 413,
        "start_time": "2022-01-26T19:51:15.848Z"
      },
      {
        "duration": 17,
        "start_time": "2022-01-26T19:51:16.264Z"
      },
      {
        "duration": 7,
        "start_time": "2022-01-26T19:51:16.283Z"
      },
      {
        "duration": 8,
        "start_time": "2022-01-26T19:51:16.308Z"
      },
      {
        "duration": 320,
        "start_time": "2022-01-26T19:51:16.319Z"
      },
      {
        "duration": 10,
        "start_time": "2022-01-26T19:51:16.641Z"
      },
      {
        "duration": 10,
        "start_time": "2022-01-26T19:51:16.653Z"
      },
      {
        "duration": 23,
        "start_time": "2022-01-26T19:51:16.665Z"
      },
      {
        "duration": 353,
        "start_time": "2022-01-26T19:51:16.690Z"
      },
      {
        "duration": 12,
        "start_time": "2022-01-26T19:51:17.046Z"
      },
      {
        "duration": 11,
        "start_time": "2022-01-26T19:51:17.060Z"
      },
      {
        "duration": 31,
        "start_time": "2022-01-26T19:51:17.073Z"
      },
      {
        "duration": 334,
        "start_time": "2022-01-26T19:51:17.108Z"
      },
      {
        "duration": 19,
        "start_time": "2022-01-26T19:51:17.444Z"
      },
      {
        "duration": 4,
        "start_time": "2022-01-26T19:51:17.465Z"
      },
      {
        "duration": 45,
        "start_time": "2022-01-26T19:51:17.471Z"
      },
      {
        "duration": 6,
        "start_time": "2022-01-26T19:51:17.609Z"
      },
      {
        "duration": 16,
        "start_time": "2022-01-26T19:51:17.706Z"
      },
      {
        "duration": 11,
        "start_time": "2022-01-26T19:51:17.724Z"
      },
      {
        "duration": 25,
        "start_time": "2022-01-26T19:51:17.737Z"
      },
      {
        "duration": 52,
        "start_time": "2022-01-26T19:51:17.764Z"
      },
      {
        "duration": 5,
        "start_time": "2022-01-26T19:51:17.911Z"
      },
      {
        "duration": 15,
        "start_time": "2022-01-26T19:51:17.919Z"
      },
      {
        "duration": 13,
        "start_time": "2022-01-26T19:51:17.937Z"
      },
      {
        "duration": 64,
        "start_time": "2022-01-26T19:51:17.953Z"
      },
      {
        "duration": 14,
        "start_time": "2022-01-26T19:51:18.018Z"
      },
      {
        "duration": 176,
        "start_time": "2022-01-26T19:51:18.035Z"
      },
      {
        "duration": 10,
        "start_time": "2022-01-26T19:51:18.214Z"
      },
      {
        "duration": 13,
        "start_time": "2022-01-26T19:51:18.226Z"
      },
      {
        "duration": 5,
        "start_time": "2022-01-26T19:51:18.241Z"
      },
      {
        "duration": 7,
        "start_time": "2022-01-26T19:51:18.248Z"
      },
      {
        "duration": 9,
        "start_time": "2022-01-26T19:51:18.257Z"
      },
      {
        "duration": 4,
        "start_time": "2022-01-26T19:51:18.307Z"
      },
      {
        "duration": 21,
        "start_time": "2022-01-26T19:51:18.314Z"
      },
      {
        "duration": 10,
        "start_time": "2022-01-26T19:51:18.337Z"
      },
      {
        "duration": 11,
        "start_time": "2022-01-26T19:51:18.349Z"
      },
      {
        "duration": 6,
        "start_time": "2022-01-26T19:51:18.362Z"
      },
      {
        "duration": 2731,
        "start_time": "2022-01-26T19:51:18.370Z"
      },
      {
        "duration": 2749,
        "start_time": "2022-01-26T19:51:21.107Z"
      },
      {
        "duration": 2374,
        "start_time": "2022-01-26T19:51:23.857Z"
      },
      {
        "duration": 5,
        "start_time": "2022-01-26T19:51:27.480Z"
      },
      {
        "duration": 1265,
        "start_time": "2022-01-26T19:51:58.263Z"
      },
      {
        "duration": 407,
        "start_time": "2022-01-26T19:51:59.530Z"
      },
      {
        "duration": 13,
        "start_time": "2022-01-26T19:51:59.939Z"
      },
      {
        "duration": 14,
        "start_time": "2022-01-26T19:51:59.955Z"
      },
      {
        "duration": 11,
        "start_time": "2022-01-26T19:51:59.971Z"
      },
      {
        "duration": 370,
        "start_time": "2022-01-26T19:51:59.984Z"
      },
      {
        "duration": 11,
        "start_time": "2022-01-26T19:52:00.357Z"
      },
      {
        "duration": 28,
        "start_time": "2022-01-26T19:52:00.371Z"
      },
      {
        "duration": 41,
        "start_time": "2022-01-26T19:52:00.401Z"
      },
      {
        "duration": 354,
        "start_time": "2022-01-26T19:52:00.444Z"
      },
      {
        "duration": 12,
        "start_time": "2022-01-26T19:52:00.810Z"
      },
      {
        "duration": 29,
        "start_time": "2022-01-26T19:52:00.824Z"
      },
      {
        "duration": 49,
        "start_time": "2022-01-26T19:52:00.855Z"
      },
      {
        "duration": 414,
        "start_time": "2022-01-26T19:52:00.908Z"
      },
      {
        "duration": 22,
        "start_time": "2022-01-26T19:52:01.324Z"
      },
      {
        "duration": 60,
        "start_time": "2022-01-26T19:52:01.348Z"
      },
      {
        "duration": 98,
        "start_time": "2022-01-26T19:52:01.410Z"
      },
      {
        "duration": 125,
        "start_time": "2022-01-26T19:52:01.512Z"
      },
      {
        "duration": 35,
        "start_time": "2022-01-26T19:52:01.639Z"
      },
      {
        "duration": 12,
        "start_time": "2022-01-26T19:52:01.707Z"
      },
      {
        "duration": 44,
        "start_time": "2022-01-26T19:52:01.720Z"
      },
      {
        "duration": 56,
        "start_time": "2022-01-26T19:52:01.809Z"
      },
      {
        "duration": 198,
        "start_time": "2022-01-26T19:52:01.870Z"
      },
      {
        "duration": 46,
        "start_time": "2022-01-26T19:52:02.071Z"
      },
      {
        "duration": 25,
        "start_time": "2022-01-26T19:52:02.119Z"
      },
      {
        "duration": 41,
        "start_time": "2022-01-26T19:52:02.147Z"
      },
      {
        "duration": 23,
        "start_time": "2022-01-26T19:52:02.190Z"
      },
      {
        "duration": 96,
        "start_time": "2022-01-26T19:52:02.217Z"
      },
      {
        "duration": 111,
        "start_time": "2022-01-26T19:52:02.316Z"
      },
      {
        "duration": 21,
        "start_time": "2022-01-26T19:52:02.429Z"
      },
      {
        "duration": 10,
        "start_time": "2022-01-26T19:52:02.452Z"
      },
      {
        "duration": 10,
        "start_time": "2022-01-26T19:52:02.464Z"
      },
      {
        "duration": 13,
        "start_time": "2022-01-26T19:52:02.476Z"
      },
      {
        "duration": 18,
        "start_time": "2022-01-26T19:52:02.491Z"
      },
      {
        "duration": 26,
        "start_time": "2022-01-26T19:52:02.511Z"
      },
      {
        "duration": 11,
        "start_time": "2022-01-26T19:52:02.539Z"
      },
      {
        "duration": 25,
        "start_time": "2022-01-26T19:52:02.552Z"
      },
      {
        "duration": 6,
        "start_time": "2022-01-26T19:52:02.579Z"
      },
      {
        "duration": 2489,
        "start_time": "2022-01-26T19:52:02.607Z"
      },
      {
        "duration": 2548,
        "start_time": "2022-01-26T19:52:05.099Z"
      },
      {
        "duration": 2409,
        "start_time": "2022-01-26T19:52:07.649Z"
      },
      {
        "duration": 88,
        "start_time": "2022-01-26T19:53:44.462Z"
      },
      {
        "duration": 15,
        "start_time": "2022-01-26T19:53:56.000Z"
      },
      {
        "duration": 14,
        "start_time": "2022-01-26T19:53:58.932Z"
      },
      {
        "duration": 14,
        "start_time": "2022-01-26T19:54:02.329Z"
      },
      {
        "duration": 1409,
        "start_time": "2022-01-26T19:54:57.812Z"
      },
      {
        "duration": 419,
        "start_time": "2022-01-26T19:54:59.224Z"
      },
      {
        "duration": 12,
        "start_time": "2022-01-26T19:54:59.645Z"
      },
      {
        "duration": 10,
        "start_time": "2022-01-26T19:54:59.659Z"
      },
      {
        "duration": 11,
        "start_time": "2022-01-26T19:54:59.671Z"
      },
      {
        "duration": 338,
        "start_time": "2022-01-26T19:54:59.684Z"
      },
      {
        "duration": 10,
        "start_time": "2022-01-26T19:55:00.024Z"
      },
      {
        "duration": 13,
        "start_time": "2022-01-26T19:55:00.037Z"
      },
      {
        "duration": 29,
        "start_time": "2022-01-26T19:55:00.053Z"
      },
      {
        "duration": 429,
        "start_time": "2022-01-26T19:55:00.085Z"
      },
      {
        "duration": 13,
        "start_time": "2022-01-26T19:55:00.517Z"
      },
      {
        "duration": 17,
        "start_time": "2022-01-26T19:55:00.532Z"
      },
      {
        "duration": 23,
        "start_time": "2022-01-26T19:55:00.551Z"
      },
      {
        "duration": 428,
        "start_time": "2022-01-26T19:55:00.577Z"
      },
      {
        "duration": 28,
        "start_time": "2022-01-26T19:55:01.008Z"
      },
      {
        "duration": 78,
        "start_time": "2022-01-26T19:55:01.039Z"
      },
      {
        "duration": 93,
        "start_time": "2022-01-26T19:55:01.119Z"
      },
      {
        "duration": 29,
        "start_time": "2022-01-26T19:55:01.214Z"
      },
      {
        "duration": 72,
        "start_time": "2022-01-26T19:55:01.246Z"
      },
      {
        "duration": 22,
        "start_time": "2022-01-26T19:55:01.320Z"
      },
      {
        "duration": 79,
        "start_time": "2022-01-26T19:55:01.344Z"
      },
      {
        "duration": 99,
        "start_time": "2022-01-26T19:55:01.509Z"
      },
      {
        "duration": 121,
        "start_time": "2022-01-26T19:55:01.612Z"
      },
      {
        "duration": 20,
        "start_time": "2022-01-26T19:55:01.736Z"
      },
      {
        "duration": 65,
        "start_time": "2022-01-26T19:55:01.758Z"
      },
      {
        "duration": 83,
        "start_time": "2022-01-26T19:55:01.826Z"
      },
      {
        "duration": 105,
        "start_time": "2022-01-26T19:55:01.912Z"
      },
      {
        "duration": 22,
        "start_time": "2022-01-26T19:55:02.019Z"
      },
      {
        "duration": 68,
        "start_time": "2022-01-26T19:55:02.044Z"
      },
      {
        "duration": 30,
        "start_time": "2022-01-26T19:55:02.114Z"
      },
      {
        "duration": 32,
        "start_time": "2022-01-26T19:55:02.146Z"
      },
      {
        "duration": 18,
        "start_time": "2022-01-26T19:55:02.180Z"
      },
      {
        "duration": 9,
        "start_time": "2022-01-26T19:55:02.200Z"
      },
      {
        "duration": 34,
        "start_time": "2022-01-26T19:55:02.211Z"
      },
      {
        "duration": 11,
        "start_time": "2022-01-26T19:55:02.247Z"
      },
      {
        "duration": 14,
        "start_time": "2022-01-26T19:55:02.260Z"
      },
      {
        "duration": 6,
        "start_time": "2022-01-26T19:55:02.276Z"
      },
      {
        "duration": 2474,
        "start_time": "2022-01-26T19:55:02.284Z"
      },
      {
        "duration": 2580,
        "start_time": "2022-01-26T19:55:04.760Z"
      },
      {
        "duration": 2479,
        "start_time": "2022-01-26T19:55:07.343Z"
      },
      {
        "duration": 1545,
        "start_time": "2022-01-26T21:23:31.032Z"
      },
      {
        "duration": 439,
        "start_time": "2022-01-26T21:23:32.580Z"
      },
      {
        "duration": 18,
        "start_time": "2022-01-26T21:24:03.783Z"
      },
      {
        "duration": 10,
        "start_time": "2022-01-26T21:24:04.342Z"
      },
      {
        "duration": 13,
        "start_time": "2022-01-26T21:24:04.541Z"
      },
      {
        "duration": 409,
        "start_time": "2022-01-26T21:24:05.859Z"
      },
      {
        "duration": 14,
        "start_time": "2022-01-26T21:24:06.958Z"
      },
      {
        "duration": 8,
        "start_time": "2022-01-26T21:24:07.132Z"
      },
      {
        "duration": 9,
        "start_time": "2022-01-26T21:24:07.298Z"
      },
      {
        "duration": 389,
        "start_time": "2022-01-26T21:24:07.645Z"
      },
      {
        "duration": 12,
        "start_time": "2022-01-26T21:24:08.090Z"
      },
      {
        "duration": 8,
        "start_time": "2022-01-26T21:24:08.416Z"
      },
      {
        "duration": 9,
        "start_time": "2022-01-26T21:24:08.629Z"
      },
      {
        "duration": 430,
        "start_time": "2022-01-26T21:24:09.131Z"
      },
      {
        "duration": 23,
        "start_time": "2022-01-26T21:25:55.938Z"
      },
      {
        "duration": 24,
        "start_time": "2022-01-26T21:25:56.487Z"
      },
      {
        "duration": 8,
        "start_time": "2022-01-26T21:25:56.694Z"
      },
      {
        "duration": 17,
        "start_time": "2022-01-26T21:25:56.874Z"
      },
      {
        "duration": 10,
        "start_time": "2022-01-26T21:25:57.276Z"
      },
      {
        "duration": 23,
        "start_time": "2022-01-26T21:25:57.810Z"
      },
      {
        "duration": 24,
        "start_time": "2022-01-26T21:25:58.241Z"
      },
      {
        "duration": 8,
        "start_time": "2022-01-26T21:25:58.450Z"
      },
      {
        "duration": 12,
        "start_time": "2022-01-26T21:25:58.580Z"
      },
      {
        "duration": 9,
        "start_time": "2022-01-26T21:25:58.814Z"
      },
      {
        "duration": 22,
        "start_time": "2022-01-26T21:25:59.310Z"
      },
      {
        "duration": 24,
        "start_time": "2022-01-26T21:25:59.499Z"
      },
      {
        "duration": 8,
        "start_time": "2022-01-26T21:25:59.877Z"
      },
      {
        "duration": 12,
        "start_time": "2022-01-26T21:26:00.191Z"
      },
      {
        "duration": 10,
        "start_time": "2022-01-26T21:26:00.419Z"
      },
      {
        "duration": 4,
        "start_time": "2022-01-26T21:29:23.870Z"
      },
      {
        "duration": 6,
        "start_time": "2022-01-26T21:29:24.428Z"
      },
      {
        "duration": 9,
        "start_time": "2022-01-26T21:29:24.680Z"
      },
      {
        "duration": 5,
        "start_time": "2022-01-26T21:31:51.688Z"
      },
      {
        "duration": 13,
        "start_time": "2022-01-26T21:31:54.198Z"
      },
      {
        "duration": 12,
        "start_time": "2022-01-26T21:31:54.404Z"
      },
      {
        "duration": 13,
        "start_time": "2022-01-26T21:31:54.666Z"
      },
      {
        "duration": 8,
        "start_time": "2022-01-26T21:32:24.184Z"
      },
      {
        "duration": 3720,
        "start_time": "2022-01-26T21:32:25.144Z"
      },
      {
        "duration": 3583,
        "start_time": "2022-01-26T21:32:28.867Z"
      },
      {
        "duration": 3624,
        "start_time": "2022-01-26T21:32:32.453Z"
      }
    ],
    "kernelspec": {
      "display_name": "Python 3 (ipykernel)",
      "language": "python",
      "name": "python3"
    },
    "language_info": {
      "codemirror_mode": {
        "name": "ipython",
        "version": 3
      },
      "file_extension": ".py",
      "mimetype": "text/x-python",
      "name": "python",
      "nbconvert_exporter": "python",
      "pygments_lexer": "ipython3",
      "version": "3.9.5"
    },
    "toc": {
      "base_numbering": 1,
      "nav_menu": {},
      "number_sections": true,
      "sideBar": true,
      "skip_h1_title": true,
      "title_cell": "Table of Contents",
      "title_sidebar": "Contents",
      "toc_cell": false,
      "toc_position": {},
      "toc_section_display": true,
      "toc_window_display": true
    },
    "colab": {
      "provenance": [],
      "toc_visible": true,
      "collapsed_sections": []
    }
  },
  "nbformat": 4,
  "nbformat_minor": 0
}