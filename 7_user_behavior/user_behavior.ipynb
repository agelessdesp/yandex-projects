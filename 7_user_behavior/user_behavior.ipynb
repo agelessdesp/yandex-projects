{
  "cells": [
    {
      "cell_type": "code",
      "source": [
        "from google.colab import drive\n",
        "\n",
        "drive.mount('/content/drive')"
      ],
      "metadata": {
        "colab": {
          "base_uri": "https://localhost:8080/"
        },
        "id": "U1qGe7gWfmfL",
        "outputId": "ea2757bf-4d30-4894-e91f-2e01e06ed563"
      },
      "execution_count": 1,
      "outputs": [
        {
          "output_type": "stream",
          "name": "stdout",
          "text": [
            "Mounted at /content/drive\n"
          ]
        }
      ]
    },
    {
      "cell_type": "code",
      "execution_count": 2,
      "metadata": {
        "id": "q7iCrJpofcC4"
      },
      "outputs": [],
      "source": [
        "import pandas as pd\n",
        "import numpy as np\n",
        "\n",
        "from sklearn.tree import DecisionTreeClassifier\n",
        "from sklearn.ensemble import RandomForestClassifier\n",
        "from sklearn.linear_model import LogisticRegression\n",
        "from sklearn.dummy import DummyClassifier\n",
        "\n",
        "from sklearn.model_selection import train_test_split\n",
        "from sklearn.metrics import accuracy_score\n",
        "\n",
        "from tqdm import tqdm\n",
        "import time\n",
        "\n",
        "import matplotlib.pyplot as plt\n",
        "import seaborn as sns \n",
        "\n",
        "import warnings\n",
        "warnings.filterwarnings('ignore')"
      ]
    },
    {
      "cell_type": "markdown",
      "metadata": {
        "id": "YbIXCJ5gfcC3"
      },
      "source": [
        "## Откройте и изучите файл"
      ]
    },
    {
      "cell_type": "code",
      "source": [
        "data = pd.read_csv('/content/drive/My Drive/Collab file/users_behavior.csv')"
      ],
      "metadata": {
        "id": "z74W9tCIgT0F"
      },
      "execution_count": 3,
      "outputs": []
    },
    {
      "cell_type": "code",
      "execution_count": 4,
      "metadata": {
        "id": "hSnBzxyMfcC5"
      },
      "outputs": [],
      "source": [
        "# функция для распаковки данных\n",
        "\n",
        "def open_data(data):\n",
        "  display(data.head())\n",
        "  print('------------------------')\n",
        "  print('Общая информация')\n",
        "  data.info()\n",
        "  print('------------------------')\n",
        "  print('Описание данных')\n",
        "  display(data.describe())\n",
        "  print('------------------------')\n",
        "  print('Количество дубликатов')\n",
        "  print(data.duplicated().sum())\n",
        "  print('------------------------')\n",
        "  print('Количество пропусков')\n",
        "  display(data.isna().sum())"
      ]
    },
    {
      "cell_type": "code",
      "execution_count": 5,
      "metadata": {
        "colab": {
          "base_uri": "https://localhost:8080/",
          "height": 994
        },
        "id": "BMRgpmMyfcC6",
        "outputId": "a2182d91-6e2c-489e-f469-14ec588234ce"
      },
      "outputs": [
        {
          "output_type": "display_data",
          "data": {
            "text/plain": [
              "   calls  minutes  messages   mb_used  is_ultra\n",
              "0   40.0   311.90      83.0  19915.42         0\n",
              "1   85.0   516.75      56.0  22696.96         0\n",
              "2   77.0   467.66      86.0  21060.45         0\n",
              "3  106.0   745.53      81.0   8437.39         1\n",
              "4   66.0   418.74       1.0  14502.75         0"
            ],
            "text/html": [
              "\n",
              "  <div id=\"df-e97b4b55-e9d0-4c48-9a7d-9ac77bd2455f\">\n",
              "    <div class=\"colab-df-container\">\n",
              "      <div>\n",
              "<style scoped>\n",
              "    .dataframe tbody tr th:only-of-type {\n",
              "        vertical-align: middle;\n",
              "    }\n",
              "\n",
              "    .dataframe tbody tr th {\n",
              "        vertical-align: top;\n",
              "    }\n",
              "\n",
              "    .dataframe thead th {\n",
              "        text-align: right;\n",
              "    }\n",
              "</style>\n",
              "<table border=\"1\" class=\"dataframe\">\n",
              "  <thead>\n",
              "    <tr style=\"text-align: right;\">\n",
              "      <th></th>\n",
              "      <th>calls</th>\n",
              "      <th>minutes</th>\n",
              "      <th>messages</th>\n",
              "      <th>mb_used</th>\n",
              "      <th>is_ultra</th>\n",
              "    </tr>\n",
              "  </thead>\n",
              "  <tbody>\n",
              "    <tr>\n",
              "      <th>0</th>\n",
              "      <td>40.0</td>\n",
              "      <td>311.90</td>\n",
              "      <td>83.0</td>\n",
              "      <td>19915.42</td>\n",
              "      <td>0</td>\n",
              "    </tr>\n",
              "    <tr>\n",
              "      <th>1</th>\n",
              "      <td>85.0</td>\n",
              "      <td>516.75</td>\n",
              "      <td>56.0</td>\n",
              "      <td>22696.96</td>\n",
              "      <td>0</td>\n",
              "    </tr>\n",
              "    <tr>\n",
              "      <th>2</th>\n",
              "      <td>77.0</td>\n",
              "      <td>467.66</td>\n",
              "      <td>86.0</td>\n",
              "      <td>21060.45</td>\n",
              "      <td>0</td>\n",
              "    </tr>\n",
              "    <tr>\n",
              "      <th>3</th>\n",
              "      <td>106.0</td>\n",
              "      <td>745.53</td>\n",
              "      <td>81.0</td>\n",
              "      <td>8437.39</td>\n",
              "      <td>1</td>\n",
              "    </tr>\n",
              "    <tr>\n",
              "      <th>4</th>\n",
              "      <td>66.0</td>\n",
              "      <td>418.74</td>\n",
              "      <td>1.0</td>\n",
              "      <td>14502.75</td>\n",
              "      <td>0</td>\n",
              "    </tr>\n",
              "  </tbody>\n",
              "</table>\n",
              "</div>\n",
              "      <button class=\"colab-df-convert\" onclick=\"convertToInteractive('df-e97b4b55-e9d0-4c48-9a7d-9ac77bd2455f')\"\n",
              "              title=\"Convert this dataframe to an interactive table.\"\n",
              "              style=\"display:none;\">\n",
              "        \n",
              "  <svg xmlns=\"http://www.w3.org/2000/svg\" height=\"24px\"viewBox=\"0 0 24 24\"\n",
              "       width=\"24px\">\n",
              "    <path d=\"M0 0h24v24H0V0z\" fill=\"none\"/>\n",
              "    <path d=\"M18.56 5.44l.94 2.06.94-2.06 2.06-.94-2.06-.94-.94-2.06-.94 2.06-2.06.94zm-11 1L8.5 8.5l.94-2.06 2.06-.94-2.06-.94L8.5 2.5l-.94 2.06-2.06.94zm10 10l.94 2.06.94-2.06 2.06-.94-2.06-.94-.94-2.06-.94 2.06-2.06.94z\"/><path d=\"M17.41 7.96l-1.37-1.37c-.4-.4-.92-.59-1.43-.59-.52 0-1.04.2-1.43.59L10.3 9.45l-7.72 7.72c-.78.78-.78 2.05 0 2.83L4 21.41c.39.39.9.59 1.41.59.51 0 1.02-.2 1.41-.59l7.78-7.78 2.81-2.81c.8-.78.8-2.07 0-2.86zM5.41 20L4 18.59l7.72-7.72 1.47 1.35L5.41 20z\"/>\n",
              "  </svg>\n",
              "      </button>\n",
              "      \n",
              "  <style>\n",
              "    .colab-df-container {\n",
              "      display:flex;\n",
              "      flex-wrap:wrap;\n",
              "      gap: 12px;\n",
              "    }\n",
              "\n",
              "    .colab-df-convert {\n",
              "      background-color: #E8F0FE;\n",
              "      border: none;\n",
              "      border-radius: 50%;\n",
              "      cursor: pointer;\n",
              "      display: none;\n",
              "      fill: #1967D2;\n",
              "      height: 32px;\n",
              "      padding: 0 0 0 0;\n",
              "      width: 32px;\n",
              "    }\n",
              "\n",
              "    .colab-df-convert:hover {\n",
              "      background-color: #E2EBFA;\n",
              "      box-shadow: 0px 1px 2px rgba(60, 64, 67, 0.3), 0px 1px 3px 1px rgba(60, 64, 67, 0.15);\n",
              "      fill: #174EA6;\n",
              "    }\n",
              "\n",
              "    [theme=dark] .colab-df-convert {\n",
              "      background-color: #3B4455;\n",
              "      fill: #D2E3FC;\n",
              "    }\n",
              "\n",
              "    [theme=dark] .colab-df-convert:hover {\n",
              "      background-color: #434B5C;\n",
              "      box-shadow: 0px 1px 3px 1px rgba(0, 0, 0, 0.15);\n",
              "      filter: drop-shadow(0px 1px 2px rgba(0, 0, 0, 0.3));\n",
              "      fill: #FFFFFF;\n",
              "    }\n",
              "  </style>\n",
              "\n",
              "      <script>\n",
              "        const buttonEl =\n",
              "          document.querySelector('#df-e97b4b55-e9d0-4c48-9a7d-9ac77bd2455f button.colab-df-convert');\n",
              "        buttonEl.style.display =\n",
              "          google.colab.kernel.accessAllowed ? 'block' : 'none';\n",
              "\n",
              "        async function convertToInteractive(key) {\n",
              "          const element = document.querySelector('#df-e97b4b55-e9d0-4c48-9a7d-9ac77bd2455f');\n",
              "          const dataTable =\n",
              "            await google.colab.kernel.invokeFunction('convertToInteractive',\n",
              "                                                     [key], {});\n",
              "          if (!dataTable) return;\n",
              "\n",
              "          const docLinkHtml = 'Like what you see? Visit the ' +\n",
              "            '<a target=\"_blank\" href=https://colab.research.google.com/notebooks/data_table.ipynb>data table notebook</a>'\n",
              "            + ' to learn more about interactive tables.';\n",
              "          element.innerHTML = '';\n",
              "          dataTable['output_type'] = 'display_data';\n",
              "          await google.colab.output.renderOutput(dataTable, element);\n",
              "          const docLink = document.createElement('div');\n",
              "          docLink.innerHTML = docLinkHtml;\n",
              "          element.appendChild(docLink);\n",
              "        }\n",
              "      </script>\n",
              "    </div>\n",
              "  </div>\n",
              "  "
            ]
          },
          "metadata": {}
        },
        {
          "output_type": "stream",
          "name": "stdout",
          "text": [
            "------------------------\n",
            "Общая информация\n",
            "<class 'pandas.core.frame.DataFrame'>\n",
            "RangeIndex: 3214 entries, 0 to 3213\n",
            "Data columns (total 5 columns):\n",
            " #   Column    Non-Null Count  Dtype  \n",
            "---  ------    --------------  -----  \n",
            " 0   calls     3214 non-null   float64\n",
            " 1   minutes   3214 non-null   float64\n",
            " 2   messages  3214 non-null   float64\n",
            " 3   mb_used   3214 non-null   float64\n",
            " 4   is_ultra  3214 non-null   int64  \n",
            "dtypes: float64(4), int64(1)\n",
            "memory usage: 125.7 KB\n",
            "------------------------\n",
            "Описание данных\n"
          ]
        },
        {
          "output_type": "display_data",
          "data": {
            "text/plain": [
              "             calls      minutes     messages       mb_used     is_ultra\n",
              "count  3214.000000  3214.000000  3214.000000   3214.000000  3214.000000\n",
              "mean     63.038892   438.208787    38.281269  17207.673836     0.306472\n",
              "std      33.236368   234.569872    36.148326   7570.968246     0.461100\n",
              "min       0.000000     0.000000     0.000000      0.000000     0.000000\n",
              "25%      40.000000   274.575000     9.000000  12491.902500     0.000000\n",
              "50%      62.000000   430.600000    30.000000  16943.235000     0.000000\n",
              "75%      82.000000   571.927500    57.000000  21424.700000     1.000000\n",
              "max     244.000000  1632.060000   224.000000  49745.730000     1.000000"
            ],
            "text/html": [
              "\n",
              "  <div id=\"df-8ce92f2a-5dce-4abc-9180-56621e3b32dd\">\n",
              "    <div class=\"colab-df-container\">\n",
              "      <div>\n",
              "<style scoped>\n",
              "    .dataframe tbody tr th:only-of-type {\n",
              "        vertical-align: middle;\n",
              "    }\n",
              "\n",
              "    .dataframe tbody tr th {\n",
              "        vertical-align: top;\n",
              "    }\n",
              "\n",
              "    .dataframe thead th {\n",
              "        text-align: right;\n",
              "    }\n",
              "</style>\n",
              "<table border=\"1\" class=\"dataframe\">\n",
              "  <thead>\n",
              "    <tr style=\"text-align: right;\">\n",
              "      <th></th>\n",
              "      <th>calls</th>\n",
              "      <th>minutes</th>\n",
              "      <th>messages</th>\n",
              "      <th>mb_used</th>\n",
              "      <th>is_ultra</th>\n",
              "    </tr>\n",
              "  </thead>\n",
              "  <tbody>\n",
              "    <tr>\n",
              "      <th>count</th>\n",
              "      <td>3214.000000</td>\n",
              "      <td>3214.000000</td>\n",
              "      <td>3214.000000</td>\n",
              "      <td>3214.000000</td>\n",
              "      <td>3214.000000</td>\n",
              "    </tr>\n",
              "    <tr>\n",
              "      <th>mean</th>\n",
              "      <td>63.038892</td>\n",
              "      <td>438.208787</td>\n",
              "      <td>38.281269</td>\n",
              "      <td>17207.673836</td>\n",
              "      <td>0.306472</td>\n",
              "    </tr>\n",
              "    <tr>\n",
              "      <th>std</th>\n",
              "      <td>33.236368</td>\n",
              "      <td>234.569872</td>\n",
              "      <td>36.148326</td>\n",
              "      <td>7570.968246</td>\n",
              "      <td>0.461100</td>\n",
              "    </tr>\n",
              "    <tr>\n",
              "      <th>min</th>\n",
              "      <td>0.000000</td>\n",
              "      <td>0.000000</td>\n",
              "      <td>0.000000</td>\n",
              "      <td>0.000000</td>\n",
              "      <td>0.000000</td>\n",
              "    </tr>\n",
              "    <tr>\n",
              "      <th>25%</th>\n",
              "      <td>40.000000</td>\n",
              "      <td>274.575000</td>\n",
              "      <td>9.000000</td>\n",
              "      <td>12491.902500</td>\n",
              "      <td>0.000000</td>\n",
              "    </tr>\n",
              "    <tr>\n",
              "      <th>50%</th>\n",
              "      <td>62.000000</td>\n",
              "      <td>430.600000</td>\n",
              "      <td>30.000000</td>\n",
              "      <td>16943.235000</td>\n",
              "      <td>0.000000</td>\n",
              "    </tr>\n",
              "    <tr>\n",
              "      <th>75%</th>\n",
              "      <td>82.000000</td>\n",
              "      <td>571.927500</td>\n",
              "      <td>57.000000</td>\n",
              "      <td>21424.700000</td>\n",
              "      <td>1.000000</td>\n",
              "    </tr>\n",
              "    <tr>\n",
              "      <th>max</th>\n",
              "      <td>244.000000</td>\n",
              "      <td>1632.060000</td>\n",
              "      <td>224.000000</td>\n",
              "      <td>49745.730000</td>\n",
              "      <td>1.000000</td>\n",
              "    </tr>\n",
              "  </tbody>\n",
              "</table>\n",
              "</div>\n",
              "      <button class=\"colab-df-convert\" onclick=\"convertToInteractive('df-8ce92f2a-5dce-4abc-9180-56621e3b32dd')\"\n",
              "              title=\"Convert this dataframe to an interactive table.\"\n",
              "              style=\"display:none;\">\n",
              "        \n",
              "  <svg xmlns=\"http://www.w3.org/2000/svg\" height=\"24px\"viewBox=\"0 0 24 24\"\n",
              "       width=\"24px\">\n",
              "    <path d=\"M0 0h24v24H0V0z\" fill=\"none\"/>\n",
              "    <path d=\"M18.56 5.44l.94 2.06.94-2.06 2.06-.94-2.06-.94-.94-2.06-.94 2.06-2.06.94zm-11 1L8.5 8.5l.94-2.06 2.06-.94-2.06-.94L8.5 2.5l-.94 2.06-2.06.94zm10 10l.94 2.06.94-2.06 2.06-.94-2.06-.94-.94-2.06-.94 2.06-2.06.94z\"/><path d=\"M17.41 7.96l-1.37-1.37c-.4-.4-.92-.59-1.43-.59-.52 0-1.04.2-1.43.59L10.3 9.45l-7.72 7.72c-.78.78-.78 2.05 0 2.83L4 21.41c.39.39.9.59 1.41.59.51 0 1.02-.2 1.41-.59l7.78-7.78 2.81-2.81c.8-.78.8-2.07 0-2.86zM5.41 20L4 18.59l7.72-7.72 1.47 1.35L5.41 20z\"/>\n",
              "  </svg>\n",
              "      </button>\n",
              "      \n",
              "  <style>\n",
              "    .colab-df-container {\n",
              "      display:flex;\n",
              "      flex-wrap:wrap;\n",
              "      gap: 12px;\n",
              "    }\n",
              "\n",
              "    .colab-df-convert {\n",
              "      background-color: #E8F0FE;\n",
              "      border: none;\n",
              "      border-radius: 50%;\n",
              "      cursor: pointer;\n",
              "      display: none;\n",
              "      fill: #1967D2;\n",
              "      height: 32px;\n",
              "      padding: 0 0 0 0;\n",
              "      width: 32px;\n",
              "    }\n",
              "\n",
              "    .colab-df-convert:hover {\n",
              "      background-color: #E2EBFA;\n",
              "      box-shadow: 0px 1px 2px rgba(60, 64, 67, 0.3), 0px 1px 3px 1px rgba(60, 64, 67, 0.15);\n",
              "      fill: #174EA6;\n",
              "    }\n",
              "\n",
              "    [theme=dark] .colab-df-convert {\n",
              "      background-color: #3B4455;\n",
              "      fill: #D2E3FC;\n",
              "    }\n",
              "\n",
              "    [theme=dark] .colab-df-convert:hover {\n",
              "      background-color: #434B5C;\n",
              "      box-shadow: 0px 1px 3px 1px rgba(0, 0, 0, 0.15);\n",
              "      filter: drop-shadow(0px 1px 2px rgba(0, 0, 0, 0.3));\n",
              "      fill: #FFFFFF;\n",
              "    }\n",
              "  </style>\n",
              "\n",
              "      <script>\n",
              "        const buttonEl =\n",
              "          document.querySelector('#df-8ce92f2a-5dce-4abc-9180-56621e3b32dd button.colab-df-convert');\n",
              "        buttonEl.style.display =\n",
              "          google.colab.kernel.accessAllowed ? 'block' : 'none';\n",
              "\n",
              "        async function convertToInteractive(key) {\n",
              "          const element = document.querySelector('#df-8ce92f2a-5dce-4abc-9180-56621e3b32dd');\n",
              "          const dataTable =\n",
              "            await google.colab.kernel.invokeFunction('convertToInteractive',\n",
              "                                                     [key], {});\n",
              "          if (!dataTable) return;\n",
              "\n",
              "          const docLinkHtml = 'Like what you see? Visit the ' +\n",
              "            '<a target=\"_blank\" href=https://colab.research.google.com/notebooks/data_table.ipynb>data table notebook</a>'\n",
              "            + ' to learn more about interactive tables.';\n",
              "          element.innerHTML = '';\n",
              "          dataTable['output_type'] = 'display_data';\n",
              "          await google.colab.output.renderOutput(dataTable, element);\n",
              "          const docLink = document.createElement('div');\n",
              "          docLink.innerHTML = docLinkHtml;\n",
              "          element.appendChild(docLink);\n",
              "        }\n",
              "      </script>\n",
              "    </div>\n",
              "  </div>\n",
              "  "
            ]
          },
          "metadata": {}
        },
        {
          "output_type": "stream",
          "name": "stdout",
          "text": [
            "------------------------\n",
            "Количество дубликатов\n",
            "0\n",
            "------------------------\n",
            "Количество пропусков\n"
          ]
        },
        {
          "output_type": "display_data",
          "data": {
            "text/plain": [
              "calls       0\n",
              "minutes     0\n",
              "messages    0\n",
              "mb_used     0\n",
              "is_ultra    0\n",
              "dtype: int64"
            ]
          },
          "metadata": {}
        }
      ],
      "source": [
        "open_data(data)"
      ]
    },
    {
      "cell_type": "markdown",
      "source": [
        "**Комментарий:**\n",
        "<br> Данные выгружены успешно, предобработка не требуется."
      ],
      "metadata": {
        "id": "TjoF05Gyjgo1"
      }
    },
    {
      "cell_type": "markdown",
      "metadata": {
        "id": "YcsNGBdyfcC6"
      },
      "source": [
        "## Разбейте данные на выборки"
      ]
    },
    {
      "cell_type": "code",
      "execution_count": 6,
      "metadata": {
        "id": "W81Sqa7IfcC6"
      },
      "outputs": [],
      "source": [
        "#поделим наши данные в начале на тренировочную и валидационную выборки\n",
        "\n",
        "data_train, data_valid = train_test_split(\n",
        "    data, test_size=0.4, random_state=12345)"
      ]
    },
    {
      "cell_type": "code",
      "execution_count": 7,
      "metadata": {
        "id": "lTJYN_BzfcC6"
      },
      "outputs": [],
      "source": [
        "#теперь из валидационной выборки отделим данные для тестовой, данные разбиты в соотношении 3:1:1\n",
        "\n",
        "data_valid, data_test = train_test_split(\n",
        "    data_valid, test_size=0.5, random_state=12345)"
      ]
    },
    {
      "cell_type": "code",
      "execution_count": 8,
      "metadata": {
        "id": "mFm5-Yg8fcC7"
      },
      "outputs": [],
      "source": [
        "#создаем переменные для признаков и целевого признака\n",
        "\n",
        "features_train = data_train.drop(['is_ultra'], axis=1)\n",
        "target_train = data_train['is_ultra']\n",
        "features_valid = data_valid.drop(['is_ultra'], axis=1)\n",
        "target_valid = data_valid['is_ultra']\n",
        "features_test = data_test.drop(['is_ultra'], axis=1)\n",
        "target_test = data_test['is_ultra']"
      ]
    },
    {
      "cell_type": "code",
      "execution_count": 9,
      "metadata": {
        "colab": {
          "base_uri": "https://localhost:8080/"
        },
        "id": "mpLheZPXfcC7",
        "outputId": "f1df0c06-a28e-4b0e-f7c1-01d0246b3e01"
      },
      "outputs": [
        {
          "output_type": "stream",
          "name": "stdout",
          "text": [
            "(1928, 5)\n",
            "(643, 5)\n",
            "(643, 5)\n"
          ]
        }
      ],
      "source": [
        "print(data_train.shape)\n",
        "print(data_valid.shape)\n",
        "print(data_test.shape)"
      ]
    },
    {
      "cell_type": "markdown",
      "metadata": {
        "id": "bxH2OH7GfcC8"
      },
      "source": [
        "## Исследуйте модели"
      ]
    },
    {
      "cell_type": "code",
      "source": [
        "# для наглядности результатов сведем полученные метрики в таблицу\n",
        "\n",
        "def metrics(result_valid, model, data):\n",
        "    data.loc[model, 'Accuracy_valid'] = result_valid\n",
        "    \n",
        "    return data"
      ],
      "metadata": {
        "id": "MH0HW_-jNy3o"
      },
      "execution_count": 10,
      "outputs": []
    },
    {
      "cell_type": "code",
      "source": [
        "# таблица для сравнения результатов работы моделей\n",
        "\n",
        "compare_models = pd.DataFrame(columns=['Accuracy_valid'])"
      ],
      "metadata": {
        "id": "wlWDG-80Ny0L"
      },
      "execution_count": 11,
      "outputs": []
    },
    {
      "cell_type": "markdown",
      "source": [
        "### Создание baseline модели"
      ],
      "metadata": {
        "id": "9JSNJ3WUOOqa"
      }
    },
    {
      "cell_type": "code",
      "source": [
        "%%time\n",
        "\n",
        "dummy = DummyClassifier(strategy=\"most_frequent\", random_state=12345)\n",
        "dummy_model = dummy.fit(features_train, target_train)\n",
        "\n",
        "dummy_pred_train = dummy_model.predict(features_train)\n",
        "dummy_pred_valid = dummy_model.predict(features_valid)\n",
        "dummy_pred_test = dummy_model.predict(features_test)\n",
        "\n",
        "dummy_acc_train = accuracy_score(target_train, dummy_pred_train)\n",
        "dummy_acc_valid = accuracy_score(target_valid, dummy_pred_valid)\n",
        "dummy_acc_test = accuracy_score(target_test, dummy_pred_test)\n",
        "\n",
        "print('Accuracy для константной модели на обучающей выборке:{:.2f}'.format(dummy_acc_train))\n",
        "print('Accuracy для константной модели на валидационной выборке:{:.2f}'.format(dummy_acc_valid))\n",
        "print('Accuracy для константной модели на тестовой выборке:{:.2f}'.format(dummy_acc_test))"
      ],
      "metadata": {
        "colab": {
          "base_uri": "https://localhost:8080/"
        },
        "id": "qgDUodTNOXpk",
        "outputId": "ce1777a0-c6a4-4acc-c22b-a93215d385e8"
      },
      "execution_count": 12,
      "outputs": [
        {
          "output_type": "stream",
          "name": "stdout",
          "text": [
            "Accuracy для константной модели на обучающей выборке:0.69\n",
            "Accuracy для константной модели на валидационной выборке:0.71\n",
            "Accuracy для константной модели на тестовой выборке:0.68\n",
            "CPU times: user 9.74 ms, sys: 0 ns, total: 9.74 ms\n",
            "Wall time: 12.2 ms\n"
          ]
        }
      ]
    },
    {
      "cell_type": "code",
      "source": [
        "metrics(dummy_acc_valid, 'Baseline model', compare_models)"
      ],
      "metadata": {
        "colab": {
          "base_uri": "https://localhost:8080/",
          "height": 81
        },
        "id": "_WIyy_BeoBJN",
        "outputId": "438e1516-390f-4f38-a1f6-1a721f087fa0"
      },
      "execution_count": 13,
      "outputs": [
        {
          "output_type": "execute_result",
          "data": {
            "text/plain": [
              "               Accuracy_valid\n",
              "Baseline model       0.706065"
            ],
            "text/html": [
              "\n",
              "  <div id=\"df-3a072ed7-7c12-4745-ad4c-dfb228f1b540\">\n",
              "    <div class=\"colab-df-container\">\n",
              "      <div>\n",
              "<style scoped>\n",
              "    .dataframe tbody tr th:only-of-type {\n",
              "        vertical-align: middle;\n",
              "    }\n",
              "\n",
              "    .dataframe tbody tr th {\n",
              "        vertical-align: top;\n",
              "    }\n",
              "\n",
              "    .dataframe thead th {\n",
              "        text-align: right;\n",
              "    }\n",
              "</style>\n",
              "<table border=\"1\" class=\"dataframe\">\n",
              "  <thead>\n",
              "    <tr style=\"text-align: right;\">\n",
              "      <th></th>\n",
              "      <th>Accuracy_valid</th>\n",
              "    </tr>\n",
              "  </thead>\n",
              "  <tbody>\n",
              "    <tr>\n",
              "      <th>Baseline model</th>\n",
              "      <td>0.706065</td>\n",
              "    </tr>\n",
              "  </tbody>\n",
              "</table>\n",
              "</div>\n",
              "      <button class=\"colab-df-convert\" onclick=\"convertToInteractive('df-3a072ed7-7c12-4745-ad4c-dfb228f1b540')\"\n",
              "              title=\"Convert this dataframe to an interactive table.\"\n",
              "              style=\"display:none;\">\n",
              "        \n",
              "  <svg xmlns=\"http://www.w3.org/2000/svg\" height=\"24px\"viewBox=\"0 0 24 24\"\n",
              "       width=\"24px\">\n",
              "    <path d=\"M0 0h24v24H0V0z\" fill=\"none\"/>\n",
              "    <path d=\"M18.56 5.44l.94 2.06.94-2.06 2.06-.94-2.06-.94-.94-2.06-.94 2.06-2.06.94zm-11 1L8.5 8.5l.94-2.06 2.06-.94-2.06-.94L8.5 2.5l-.94 2.06-2.06.94zm10 10l.94 2.06.94-2.06 2.06-.94-2.06-.94-.94-2.06-.94 2.06-2.06.94z\"/><path d=\"M17.41 7.96l-1.37-1.37c-.4-.4-.92-.59-1.43-.59-.52 0-1.04.2-1.43.59L10.3 9.45l-7.72 7.72c-.78.78-.78 2.05 0 2.83L4 21.41c.39.39.9.59 1.41.59.51 0 1.02-.2 1.41-.59l7.78-7.78 2.81-2.81c.8-.78.8-2.07 0-2.86zM5.41 20L4 18.59l7.72-7.72 1.47 1.35L5.41 20z\"/>\n",
              "  </svg>\n",
              "      </button>\n",
              "      \n",
              "  <style>\n",
              "    .colab-df-container {\n",
              "      display:flex;\n",
              "      flex-wrap:wrap;\n",
              "      gap: 12px;\n",
              "    }\n",
              "\n",
              "    .colab-df-convert {\n",
              "      background-color: #E8F0FE;\n",
              "      border: none;\n",
              "      border-radius: 50%;\n",
              "      cursor: pointer;\n",
              "      display: none;\n",
              "      fill: #1967D2;\n",
              "      height: 32px;\n",
              "      padding: 0 0 0 0;\n",
              "      width: 32px;\n",
              "    }\n",
              "\n",
              "    .colab-df-convert:hover {\n",
              "      background-color: #E2EBFA;\n",
              "      box-shadow: 0px 1px 2px rgba(60, 64, 67, 0.3), 0px 1px 3px 1px rgba(60, 64, 67, 0.15);\n",
              "      fill: #174EA6;\n",
              "    }\n",
              "\n",
              "    [theme=dark] .colab-df-convert {\n",
              "      background-color: #3B4455;\n",
              "      fill: #D2E3FC;\n",
              "    }\n",
              "\n",
              "    [theme=dark] .colab-df-convert:hover {\n",
              "      background-color: #434B5C;\n",
              "      box-shadow: 0px 1px 3px 1px rgba(0, 0, 0, 0.15);\n",
              "      filter: drop-shadow(0px 1px 2px rgba(0, 0, 0, 0.3));\n",
              "      fill: #FFFFFF;\n",
              "    }\n",
              "  </style>\n",
              "\n",
              "      <script>\n",
              "        const buttonEl =\n",
              "          document.querySelector('#df-3a072ed7-7c12-4745-ad4c-dfb228f1b540 button.colab-df-convert');\n",
              "        buttonEl.style.display =\n",
              "          google.colab.kernel.accessAllowed ? 'block' : 'none';\n",
              "\n",
              "        async function convertToInteractive(key) {\n",
              "          const element = document.querySelector('#df-3a072ed7-7c12-4745-ad4c-dfb228f1b540');\n",
              "          const dataTable =\n",
              "            await google.colab.kernel.invokeFunction('convertToInteractive',\n",
              "                                                     [key], {});\n",
              "          if (!dataTable) return;\n",
              "\n",
              "          const docLinkHtml = 'Like what you see? Visit the ' +\n",
              "            '<a target=\"_blank\" href=https://colab.research.google.com/notebooks/data_table.ipynb>data table notebook</a>'\n",
              "            + ' to learn more about interactive tables.';\n",
              "          element.innerHTML = '';\n",
              "          dataTable['output_type'] = 'display_data';\n",
              "          await google.colab.output.renderOutput(dataTable, element);\n",
              "          const docLink = document.createElement('div');\n",
              "          docLink.innerHTML = docLinkHtml;\n",
              "          element.appendChild(docLink);\n",
              "        }\n",
              "      </script>\n",
              "    </div>\n",
              "  </div>\n",
              "  "
            ]
          },
          "metadata": {},
          "execution_count": 13
        }
      ]
    },
    {
      "cell_type": "markdown",
      "metadata": {
        "id": "5uq5yYM8fcC8"
      },
      "source": [
        "### Случайный лес"
      ]
    },
    {
      "cell_type": "code",
      "source": [
        "%%time \n",
        "\n",
        "# подберем наилучшие параметры для модели случайного леса\n",
        "\n",
        "best_features = 0\n",
        "best_criterion = None\n",
        "best_depth = 0\n",
        "best_model_r = None\n",
        "best_result_r = 0\n",
        "best_est = 0\n",
        "\n",
        "for crit in tqdm(['gini', 'entropy']):\n",
        "    for max_features in ['sqrt', 'log2']:\n",
        "        for est in range(7,35):\n",
        "            for depth in range(5,25):\n",
        "                model_r = RandomForestClassifier(random_state=45, criterion=crit,\n",
        "                                    max_features=max_features, max_depth=depth, n_estimators=est)\n",
        "                model_r.fit(features_train, target_train)\n",
        "                predictions = model_r.predict(features_valid)\n",
        "                result = model_r.score(features_valid, target_valid)\n",
        "                if result > best_result_r:\n",
        "                    best_criterion = crit\n",
        "                    best_features = max_features\n",
        "                    best_depth = depth\n",
        "                    best_model_r = model_r\n",
        "                    best_result_r = result\n",
        "                    best_est = est\n",
        "\n",
        "print('Accuracy наилучшей модели на валидационной выборке:', best_result_r)\n",
        "print('Количество деревьев:', best_est)\n",
        "print('Глубина:', best_depth)\n",
        "print('Число признаков:', best_features)\n",
        "print('Критерий расщепления:', best_criterion)"
      ],
      "metadata": {
        "colab": {
          "base_uri": "https://localhost:8080/"
        },
        "id": "nP6XEHEoi708",
        "outputId": "e98159f6-b4b9-4d69-81bd-89cfd79502c6"
      },
      "execution_count": 14,
      "outputs": [
        {
          "output_type": "stream",
          "name": "stderr",
          "text": [
            "100%|██████████| 2/2 [04:05<00:00, 122.91s/it]"
          ]
        },
        {
          "output_type": "stream",
          "name": "stdout",
          "text": [
            "Accuracy наилучшей модели на валидационной выборке: 0.8102643856920684\n",
            "Количество деревьев: 14\n",
            "Глубина: 9\n",
            "Число признаков: sqrt\n",
            "Критерий расщепления: entropy\n",
            "CPU times: user 4min 3s, sys: 708 ms, total: 4min 4s\n",
            "Wall time: 4min 5s\n"
          ]
        },
        {
          "output_type": "stream",
          "name": "stderr",
          "text": [
            "\n"
          ]
        }
      ]
    },
    {
      "cell_type": "code",
      "source": [
        "# посмотрим на важность признаков для модели\n",
        "\n",
        "fi = pd.DataFrame({'feature': list(features_train.columns),\n",
        "                   'importance': best_model_r.feature_importances_}).\\\n",
        "                    sort_values('importance', ascending = False)\n",
        "\n",
        "display(fi)"
      ],
      "metadata": {
        "colab": {
          "base_uri": "https://localhost:8080/",
          "height": 175
        },
        "id": "fj0A04_Jp41D",
        "outputId": "0c16c769-b8aa-4562-f6d5-800fa545df58"
      },
      "execution_count": 15,
      "outputs": [
        {
          "output_type": "display_data",
          "data": {
            "text/plain": [
              "    feature  importance\n",
              "3   mb_used    0.379926\n",
              "1   minutes    0.247990\n",
              "2  messages    0.197699\n",
              "0     calls    0.174385"
            ],
            "text/html": [
              "\n",
              "  <div id=\"df-12079c42-26aa-4bf1-90d1-28e0fc54f5b2\">\n",
              "    <div class=\"colab-df-container\">\n",
              "      <div>\n",
              "<style scoped>\n",
              "    .dataframe tbody tr th:only-of-type {\n",
              "        vertical-align: middle;\n",
              "    }\n",
              "\n",
              "    .dataframe tbody tr th {\n",
              "        vertical-align: top;\n",
              "    }\n",
              "\n",
              "    .dataframe thead th {\n",
              "        text-align: right;\n",
              "    }\n",
              "</style>\n",
              "<table border=\"1\" class=\"dataframe\">\n",
              "  <thead>\n",
              "    <tr style=\"text-align: right;\">\n",
              "      <th></th>\n",
              "      <th>feature</th>\n",
              "      <th>importance</th>\n",
              "    </tr>\n",
              "  </thead>\n",
              "  <tbody>\n",
              "    <tr>\n",
              "      <th>3</th>\n",
              "      <td>mb_used</td>\n",
              "      <td>0.379926</td>\n",
              "    </tr>\n",
              "    <tr>\n",
              "      <th>1</th>\n",
              "      <td>minutes</td>\n",
              "      <td>0.247990</td>\n",
              "    </tr>\n",
              "    <tr>\n",
              "      <th>2</th>\n",
              "      <td>messages</td>\n",
              "      <td>0.197699</td>\n",
              "    </tr>\n",
              "    <tr>\n",
              "      <th>0</th>\n",
              "      <td>calls</td>\n",
              "      <td>0.174385</td>\n",
              "    </tr>\n",
              "  </tbody>\n",
              "</table>\n",
              "</div>\n",
              "      <button class=\"colab-df-convert\" onclick=\"convertToInteractive('df-12079c42-26aa-4bf1-90d1-28e0fc54f5b2')\"\n",
              "              title=\"Convert this dataframe to an interactive table.\"\n",
              "              style=\"display:none;\">\n",
              "        \n",
              "  <svg xmlns=\"http://www.w3.org/2000/svg\" height=\"24px\"viewBox=\"0 0 24 24\"\n",
              "       width=\"24px\">\n",
              "    <path d=\"M0 0h24v24H0V0z\" fill=\"none\"/>\n",
              "    <path d=\"M18.56 5.44l.94 2.06.94-2.06 2.06-.94-2.06-.94-.94-2.06-.94 2.06-2.06.94zm-11 1L8.5 8.5l.94-2.06 2.06-.94-2.06-.94L8.5 2.5l-.94 2.06-2.06.94zm10 10l.94 2.06.94-2.06 2.06-.94-2.06-.94-.94-2.06-.94 2.06-2.06.94z\"/><path d=\"M17.41 7.96l-1.37-1.37c-.4-.4-.92-.59-1.43-.59-.52 0-1.04.2-1.43.59L10.3 9.45l-7.72 7.72c-.78.78-.78 2.05 0 2.83L4 21.41c.39.39.9.59 1.41.59.51 0 1.02-.2 1.41-.59l7.78-7.78 2.81-2.81c.8-.78.8-2.07 0-2.86zM5.41 20L4 18.59l7.72-7.72 1.47 1.35L5.41 20z\"/>\n",
              "  </svg>\n",
              "      </button>\n",
              "      \n",
              "  <style>\n",
              "    .colab-df-container {\n",
              "      display:flex;\n",
              "      flex-wrap:wrap;\n",
              "      gap: 12px;\n",
              "    }\n",
              "\n",
              "    .colab-df-convert {\n",
              "      background-color: #E8F0FE;\n",
              "      border: none;\n",
              "      border-radius: 50%;\n",
              "      cursor: pointer;\n",
              "      display: none;\n",
              "      fill: #1967D2;\n",
              "      height: 32px;\n",
              "      padding: 0 0 0 0;\n",
              "      width: 32px;\n",
              "    }\n",
              "\n",
              "    .colab-df-convert:hover {\n",
              "      background-color: #E2EBFA;\n",
              "      box-shadow: 0px 1px 2px rgba(60, 64, 67, 0.3), 0px 1px 3px 1px rgba(60, 64, 67, 0.15);\n",
              "      fill: #174EA6;\n",
              "    }\n",
              "\n",
              "    [theme=dark] .colab-df-convert {\n",
              "      background-color: #3B4455;\n",
              "      fill: #D2E3FC;\n",
              "    }\n",
              "\n",
              "    [theme=dark] .colab-df-convert:hover {\n",
              "      background-color: #434B5C;\n",
              "      box-shadow: 0px 1px 3px 1px rgba(0, 0, 0, 0.15);\n",
              "      filter: drop-shadow(0px 1px 2px rgba(0, 0, 0, 0.3));\n",
              "      fill: #FFFFFF;\n",
              "    }\n",
              "  </style>\n",
              "\n",
              "      <script>\n",
              "        const buttonEl =\n",
              "          document.querySelector('#df-12079c42-26aa-4bf1-90d1-28e0fc54f5b2 button.colab-df-convert');\n",
              "        buttonEl.style.display =\n",
              "          google.colab.kernel.accessAllowed ? 'block' : 'none';\n",
              "\n",
              "        async function convertToInteractive(key) {\n",
              "          const element = document.querySelector('#df-12079c42-26aa-4bf1-90d1-28e0fc54f5b2');\n",
              "          const dataTable =\n",
              "            await google.colab.kernel.invokeFunction('convertToInteractive',\n",
              "                                                     [key], {});\n",
              "          if (!dataTable) return;\n",
              "\n",
              "          const docLinkHtml = 'Like what you see? Visit the ' +\n",
              "            '<a target=\"_blank\" href=https://colab.research.google.com/notebooks/data_table.ipynb>data table notebook</a>'\n",
              "            + ' to learn more about interactive tables.';\n",
              "          element.innerHTML = '';\n",
              "          dataTable['output_type'] = 'display_data';\n",
              "          await google.colab.output.renderOutput(dataTable, element);\n",
              "          const docLink = document.createElement('div');\n",
              "          docLink.innerHTML = docLinkHtml;\n",
              "          element.appendChild(docLink);\n",
              "        }\n",
              "      </script>\n",
              "    </div>\n",
              "  </div>\n",
              "  "
            ]
          },
          "metadata": {}
        }
      ]
    },
    {
      "cell_type": "code",
      "source": [
        "plt.figure(figsize=(10,6))\n",
        "\n",
        "sns.barplot(x=fi['importance'], y=fi['feature'])\n",
        "\n",
        "plt.xlabel('Важность признаков')\n",
        "plt.ylabel('Признаки')\n",
        "plt.title('Визуализация важных признаков')\n",
        "plt.show()"
      ],
      "metadata": {
        "colab": {
          "base_uri": "https://localhost:8080/",
          "height": 404
        },
        "id": "p3U54aQfshn1",
        "outputId": "0e2c4cfc-92ba-4b22-94c5-260e319e1532"
      },
      "execution_count": 16,
      "outputs": [
        {
          "output_type": "display_data",
          "data": {
            "text/plain": [
              "<Figure size 720x432 with 1 Axes>"
            ],
            "image/png": "[encoded data removed]"
          },
          "metadata": {
            "needs_background": "light"
          }
        }
      ]
    },
    {
      "cell_type": "code",
      "source": [
        "metrics(best_result_r, 'RF Classifier', compare_models)"
      ],
      "metadata": {
        "colab": {
          "base_uri": "https://localhost:8080/",
          "height": 112
        },
        "id": "QeBt5Vd0oe_I",
        "outputId": "154bc697-b028-49d6-a2a7-0b273ea60f72"
      },
      "execution_count": 17,
      "outputs": [
        {
          "output_type": "execute_result",
          "data": {
            "text/plain": [
              "               Accuracy_valid\n",
              "Baseline model       0.706065\n",
              "RF Classifier        0.810264"
            ],
            "text/html": [
              "\n",
              "  <div id=\"df-420e99a7-6b83-4388-b42f-f959685f6046\">\n",
              "    <div class=\"colab-df-container\">\n",
              "      <div>\n",
              "<style scoped>\n",
              "    .dataframe tbody tr th:only-of-type {\n",
              "        vertical-align: middle;\n",
              "    }\n",
              "\n",
              "    .dataframe tbody tr th {\n",
              "        vertical-align: top;\n",
              "    }\n",
              "\n",
              "    .dataframe thead th {\n",
              "        text-align: right;\n",
              "    }\n",
              "</style>\n",
              "<table border=\"1\" class=\"dataframe\">\n",
              "  <thead>\n",
              "    <tr style=\"text-align: right;\">\n",
              "      <th></th>\n",
              "      <th>Accuracy_valid</th>\n",
              "    </tr>\n",
              "  </thead>\n",
              "  <tbody>\n",
              "    <tr>\n",
              "      <th>Baseline model</th>\n",
              "      <td>0.706065</td>\n",
              "    </tr>\n",
              "    <tr>\n",
              "      <th>RF Classifier</th>\n",
              "      <td>0.810264</td>\n",
              "    </tr>\n",
              "  </tbody>\n",
              "</table>\n",
              "</div>\n",
              "      <button class=\"colab-df-convert\" onclick=\"convertToInteractive('df-420e99a7-6b83-4388-b42f-f959685f6046')\"\n",
              "              title=\"Convert this dataframe to an interactive table.\"\n",
              "              style=\"display:none;\">\n",
              "        \n",
              "  <svg xmlns=\"http://www.w3.org/2000/svg\" height=\"24px\"viewBox=\"0 0 24 24\"\n",
              "       width=\"24px\">\n",
              "    <path d=\"M0 0h24v24H0V0z\" fill=\"none\"/>\n",
              "    <path d=\"M18.56 5.44l.94 2.06.94-2.06 2.06-.94-2.06-.94-.94-2.06-.94 2.06-2.06.94zm-11 1L8.5 8.5l.94-2.06 2.06-.94-2.06-.94L8.5 2.5l-.94 2.06-2.06.94zm10 10l.94 2.06.94-2.06 2.06-.94-2.06-.94-.94-2.06-.94 2.06-2.06.94z\"/><path d=\"M17.41 7.96l-1.37-1.37c-.4-.4-.92-.59-1.43-.59-.52 0-1.04.2-1.43.59L10.3 9.45l-7.72 7.72c-.78.78-.78 2.05 0 2.83L4 21.41c.39.39.9.59 1.41.59.51 0 1.02-.2 1.41-.59l7.78-7.78 2.81-2.81c.8-.78.8-2.07 0-2.86zM5.41 20L4 18.59l7.72-7.72 1.47 1.35L5.41 20z\"/>\n",
              "  </svg>\n",
              "      </button>\n",
              "      \n",
              "  <style>\n",
              "    .colab-df-container {\n",
              "      display:flex;\n",
              "      flex-wrap:wrap;\n",
              "      gap: 12px;\n",
              "    }\n",
              "\n",
              "    .colab-df-convert {\n",
              "      background-color: #E8F0FE;\n",
              "      border: none;\n",
              "      border-radius: 50%;\n",
              "      cursor: pointer;\n",
              "      display: none;\n",
              "      fill: #1967D2;\n",
              "      height: 32px;\n",
              "      padding: 0 0 0 0;\n",
              "      width: 32px;\n",
              "    }\n",
              "\n",
              "    .colab-df-convert:hover {\n",
              "      background-color: #E2EBFA;\n",
              "      box-shadow: 0px 1px 2px rgba(60, 64, 67, 0.3), 0px 1px 3px 1px rgba(60, 64, 67, 0.15);\n",
              "      fill: #174EA6;\n",
              "    }\n",
              "\n",
              "    [theme=dark] .colab-df-convert {\n",
              "      background-color: #3B4455;\n",
              "      fill: #D2E3FC;\n",
              "    }\n",
              "\n",
              "    [theme=dark] .colab-df-convert:hover {\n",
              "      background-color: #434B5C;\n",
              "      box-shadow: 0px 1px 3px 1px rgba(0, 0, 0, 0.15);\n",
              "      filter: drop-shadow(0px 1px 2px rgba(0, 0, 0, 0.3));\n",
              "      fill: #FFFFFF;\n",
              "    }\n",
              "  </style>\n",
              "\n",
              "      <script>\n",
              "        const buttonEl =\n",
              "          document.querySelector('#df-420e99a7-6b83-4388-b42f-f959685f6046 button.colab-df-convert');\n",
              "        buttonEl.style.display =\n",
              "          google.colab.kernel.accessAllowed ? 'block' : 'none';\n",
              "\n",
              "        async function convertToInteractive(key) {\n",
              "          const element = document.querySelector('#df-420e99a7-6b83-4388-b42f-f959685f6046');\n",
              "          const dataTable =\n",
              "            await google.colab.kernel.invokeFunction('convertToInteractive',\n",
              "                                                     [key], {});\n",
              "          if (!dataTable) return;\n",
              "\n",
              "          const docLinkHtml = 'Like what you see? Visit the ' +\n",
              "            '<a target=\"_blank\" href=https://colab.research.google.com/notebooks/data_table.ipynb>data table notebook</a>'\n",
              "            + ' to learn more about interactive tables.';\n",
              "          element.innerHTML = '';\n",
              "          dataTable['output_type'] = 'display_data';\n",
              "          await google.colab.output.renderOutput(dataTable, element);\n",
              "          const docLink = document.createElement('div');\n",
              "          docLink.innerHTML = docLinkHtml;\n",
              "          element.appendChild(docLink);\n",
              "        }\n",
              "      </script>\n",
              "    </div>\n",
              "  </div>\n",
              "  "
            ]
          },
          "metadata": {},
          "execution_count": 17
        }
      ]
    },
    {
      "cell_type": "markdown",
      "metadata": {
        "id": "QjIlh_UFfcC8"
      },
      "source": [
        "### Дерево решений"
      ]
    },
    {
      "cell_type": "code",
      "source": [
        "%%time \n",
        "\n",
        "# подберем наилучшие параметры для модели дерева решений\n",
        "\n",
        "best_features = 0\n",
        "best_criterion = None\n",
        "best_depth = 0\n",
        "best_model_d = None\n",
        "best_result_d = 0\n",
        "\n",
        "for crit in tqdm(['gini', 'entropy']):\n",
        "    for max_features in ['sqrt', 'log2']:\n",
        "        for depth in range(5,25):\n",
        "             model_d = DecisionTreeClassifier(random_state=4545, criterion=crit,\n",
        "                                     max_depth=depth)\n",
        "             model_d.fit(features_train, target_train)\n",
        "             predictions = model_d.predict(features_valid)\n",
        "             result = model_d.score(features_valid, target_valid)\n",
        "             if result > best_result_d:\n",
        "                best_criterion = crit\n",
        "                best_features = max_features\n",
        "                best_depth = depth\n",
        "                best_model_d = model_d\n",
        "                best_result_d = result\n",
        "                    \n",
        "\n",
        "print('Accuracy наилучшей модели на валидационной выборке:', best_result_d)\n",
        "print('Глубина:', best_depth)\n",
        "print('Число признаков:', best_features)\n",
        "print('Критерий расщепления:', best_criterion)"
      ],
      "metadata": {
        "colab": {
          "base_uri": "https://localhost:8080/"
        },
        "id": "kdcoLalle1eC",
        "outputId": "b9a8ed4f-e04f-4504-ff4d-823e93ea1dda"
      },
      "execution_count": 18,
      "outputs": [
        {
          "output_type": "stream",
          "name": "stderr",
          "text": [
            "100%|██████████| 2/2 [00:01<00:00,  1.71it/s]"
          ]
        },
        {
          "output_type": "stream",
          "name": "stdout",
          "text": [
            "Accuracy наилучшей модели на валидационной выборке: 0.7853810264385692\n",
            "Глубина: 9\n",
            "Число признаков: sqrt\n",
            "Критерий расщепления: gini\n",
            "CPU times: user 1.17 s, sys: 8.93 ms, total: 1.18 s\n",
            "Wall time: 1.19 s\n"
          ]
        },
        {
          "output_type": "stream",
          "name": "stderr",
          "text": [
            "\n"
          ]
        }
      ]
    },
    {
      "cell_type": "code",
      "source": [
        "# посмотрим на важность признаков для модели\n",
        "\n",
        "fi = pd.DataFrame({'feature': list(features_train.columns),\n",
        "                   'importance': best_model_d.feature_importances_}).\\\n",
        "                    sort_values('importance', ascending = False)\n",
        "\n",
        "display(fi)"
      ],
      "metadata": {
        "colab": {
          "base_uri": "https://localhost:8080/",
          "height": 175
        },
        "id": "bWuJpZLqza4C",
        "outputId": "9e086c4d-c76a-4372-cdb0-935790bd18da"
      },
      "execution_count": 19,
      "outputs": [
        {
          "output_type": "display_data",
          "data": {
            "text/plain": [
              "    feature  importance\n",
              "3   mb_used    0.422203\n",
              "1   minutes    0.245164\n",
              "2  messages    0.201257\n",
              "0     calls    0.131377"
            ],
            "text/html": [
              "\n",
              "  <div id=\"df-fef36895-c065-4a0b-acdc-02ada864ce9a\">\n",
              "    <div class=\"colab-df-container\">\n",
              "      <div>\n",
              "<style scoped>\n",
              "    .dataframe tbody tr th:only-of-type {\n",
              "        vertical-align: middle;\n",
              "    }\n",
              "\n",
              "    .dataframe tbody tr th {\n",
              "        vertical-align: top;\n",
              "    }\n",
              "\n",
              "    .dataframe thead th {\n",
              "        text-align: right;\n",
              "    }\n",
              "</style>\n",
              "<table border=\"1\" class=\"dataframe\">\n",
              "  <thead>\n",
              "    <tr style=\"text-align: right;\">\n",
              "      <th></th>\n",
              "      <th>feature</th>\n",
              "      <th>importance</th>\n",
              "    </tr>\n",
              "  </thead>\n",
              "  <tbody>\n",
              "    <tr>\n",
              "      <th>3</th>\n",
              "      <td>mb_used</td>\n",
              "      <td>0.422203</td>\n",
              "    </tr>\n",
              "    <tr>\n",
              "      <th>1</th>\n",
              "      <td>minutes</td>\n",
              "      <td>0.245164</td>\n",
              "    </tr>\n",
              "    <tr>\n",
              "      <th>2</th>\n",
              "      <td>messages</td>\n",
              "      <td>0.201257</td>\n",
              "    </tr>\n",
              "    <tr>\n",
              "      <th>0</th>\n",
              "      <td>calls</td>\n",
              "      <td>0.131377</td>\n",
              "    </tr>\n",
              "  </tbody>\n",
              "</table>\n",
              "</div>\n",
              "      <button class=\"colab-df-convert\" onclick=\"convertToInteractive('df-fef36895-c065-4a0b-acdc-02ada864ce9a')\"\n",
              "              title=\"Convert this dataframe to an interactive table.\"\n",
              "              style=\"display:none;\">\n",
              "        \n",
              "  <svg xmlns=\"http://www.w3.org/2000/svg\" height=\"24px\"viewBox=\"0 0 24 24\"\n",
              "       width=\"24px\">\n",
              "    <path d=\"M0 0h24v24H0V0z\" fill=\"none\"/>\n",
              "    <path d=\"M18.56 5.44l.94 2.06.94-2.06 2.06-.94-2.06-.94-.94-2.06-.94 2.06-2.06.94zm-11 1L8.5 8.5l.94-2.06 2.06-.94-2.06-.94L8.5 2.5l-.94 2.06-2.06.94zm10 10l.94 2.06.94-2.06 2.06-.94-2.06-.94-.94-2.06-.94 2.06-2.06.94z\"/><path d=\"M17.41 7.96l-1.37-1.37c-.4-.4-.92-.59-1.43-.59-.52 0-1.04.2-1.43.59L10.3 9.45l-7.72 7.72c-.78.78-.78 2.05 0 2.83L4 21.41c.39.39.9.59 1.41.59.51 0 1.02-.2 1.41-.59l7.78-7.78 2.81-2.81c.8-.78.8-2.07 0-2.86zM5.41 20L4 18.59l7.72-7.72 1.47 1.35L5.41 20z\"/>\n",
              "  </svg>\n",
              "      </button>\n",
              "      \n",
              "  <style>\n",
              "    .colab-df-container {\n",
              "      display:flex;\n",
              "      flex-wrap:wrap;\n",
              "      gap: 12px;\n",
              "    }\n",
              "\n",
              "    .colab-df-convert {\n",
              "      background-color: #E8F0FE;\n",
              "      border: none;\n",
              "      border-radius: 50%;\n",
              "      cursor: pointer;\n",
              "      display: none;\n",
              "      fill: #1967D2;\n",
              "      height: 32px;\n",
              "      padding: 0 0 0 0;\n",
              "      width: 32px;\n",
              "    }\n",
              "\n",
              "    .colab-df-convert:hover {\n",
              "      background-color: #E2EBFA;\n",
              "      box-shadow: 0px 1px 2px rgba(60, 64, 67, 0.3), 0px 1px 3px 1px rgba(60, 64, 67, 0.15);\n",
              "      fill: #174EA6;\n",
              "    }\n",
              "\n",
              "    [theme=dark] .colab-df-convert {\n",
              "      background-color: #3B4455;\n",
              "      fill: #D2E3FC;\n",
              "    }\n",
              "\n",
              "    [theme=dark] .colab-df-convert:hover {\n",
              "      background-color: #434B5C;\n",
              "      box-shadow: 0px 1px 3px 1px rgba(0, 0, 0, 0.15);\n",
              "      filter: drop-shadow(0px 1px 2px rgba(0, 0, 0, 0.3));\n",
              "      fill: #FFFFFF;\n",
              "    }\n",
              "  </style>\n",
              "\n",
              "      <script>\n",
              "        const buttonEl =\n",
              "          document.querySelector('#df-fef36895-c065-4a0b-acdc-02ada864ce9a button.colab-df-convert');\n",
              "        buttonEl.style.display =\n",
              "          google.colab.kernel.accessAllowed ? 'block' : 'none';\n",
              "\n",
              "        async function convertToInteractive(key) {\n",
              "          const element = document.querySelector('#df-fef36895-c065-4a0b-acdc-02ada864ce9a');\n",
              "          const dataTable =\n",
              "            await google.colab.kernel.invokeFunction('convertToInteractive',\n",
              "                                                     [key], {});\n",
              "          if (!dataTable) return;\n",
              "\n",
              "          const docLinkHtml = 'Like what you see? Visit the ' +\n",
              "            '<a target=\"_blank\" href=https://colab.research.google.com/notebooks/data_table.ipynb>data table notebook</a>'\n",
              "            + ' to learn more about interactive tables.';\n",
              "          element.innerHTML = '';\n",
              "          dataTable['output_type'] = 'display_data';\n",
              "          await google.colab.output.renderOutput(dataTable, element);\n",
              "          const docLink = document.createElement('div');\n",
              "          docLink.innerHTML = docLinkHtml;\n",
              "          element.appendChild(docLink);\n",
              "        }\n",
              "      </script>\n",
              "    </div>\n",
              "  </div>\n",
              "  "
            ]
          },
          "metadata": {}
        }
      ]
    },
    {
      "cell_type": "code",
      "source": [
        "plt.figure(figsize=(10,6))\n",
        "\n",
        "sns.barplot(x=fi['importance'], y=fi['feature'])\n",
        "\n",
        "plt.xlabel('Важность признаков')\n",
        "plt.ylabel('Признаки')\n",
        "plt.title('Визуализация важных признаков')\n",
        "plt.show()"
      ],
      "metadata": {
        "colab": {
          "base_uri": "https://localhost:8080/",
          "height": 404
        },
        "id": "GSudcneszyAd",
        "outputId": "b0e9fb9d-e35c-46da-c3cc-d960a43e067c"
      },
      "execution_count": 20,
      "outputs": [
        {
          "output_type": "display_data",
          "data": {
            "text/plain": [
              "<Figure size 720x432 with 1 Axes>"
            ],
            "image/png": "[encoded data removed]"
          },
          "metadata": {
            "needs_background": "light"
          }
        }
      ]
    },
    {
      "cell_type": "code",
      "source": [
        "metrics(best_result_d, 'DT Classifier', compare_models)"
      ],
      "metadata": {
        "colab": {
          "base_uri": "https://localhost:8080/",
          "height": 143
        },
        "id": "HSXlMBxZotzM",
        "outputId": "b4b3cfc0-09a8-470b-e0b4-3f9f4a38e19c"
      },
      "execution_count": 21,
      "outputs": [
        {
          "output_type": "execute_result",
          "data": {
            "text/plain": [
              "               Accuracy_valid\n",
              "Baseline model       0.706065\n",
              "RF Classifier        0.810264\n",
              "DT Classifier        0.785381"
            ],
            "text/html": [
              "\n",
              "  <div id=\"df-87845087-8eb8-4a49-a3cd-433241d42762\">\n",
              "    <div class=\"colab-df-container\">\n",
              "      <div>\n",
              "<style scoped>\n",
              "    .dataframe tbody tr th:only-of-type {\n",
              "        vertical-align: middle;\n",
              "    }\n",
              "\n",
              "    .dataframe tbody tr th {\n",
              "        vertical-align: top;\n",
              "    }\n",
              "\n",
              "    .dataframe thead th {\n",
              "        text-align: right;\n",
              "    }\n",
              "</style>\n",
              "<table border=\"1\" class=\"dataframe\">\n",
              "  <thead>\n",
              "    <tr style=\"text-align: right;\">\n",
              "      <th></th>\n",
              "      <th>Accuracy_valid</th>\n",
              "    </tr>\n",
              "  </thead>\n",
              "  <tbody>\n",
              "    <tr>\n",
              "      <th>Baseline model</th>\n",
              "      <td>0.706065</td>\n",
              "    </tr>\n",
              "    <tr>\n",
              "      <th>RF Classifier</th>\n",
              "      <td>0.810264</td>\n",
              "    </tr>\n",
              "    <tr>\n",
              "      <th>DT Classifier</th>\n",
              "      <td>0.785381</td>\n",
              "    </tr>\n",
              "  </tbody>\n",
              "</table>\n",
              "</div>\n",
              "      <button class=\"colab-df-convert\" onclick=\"convertToInteractive('df-87845087-8eb8-4a49-a3cd-433241d42762')\"\n",
              "              title=\"Convert this dataframe to an interactive table.\"\n",
              "              style=\"display:none;\">\n",
              "        \n",
              "  <svg xmlns=\"http://www.w3.org/2000/svg\" height=\"24px\"viewBox=\"0 0 24 24\"\n",
              "       width=\"24px\">\n",
              "    <path d=\"M0 0h24v24H0V0z\" fill=\"none\"/>\n",
              "    <path d=\"M18.56 5.44l.94 2.06.94-2.06 2.06-.94-2.06-.94-.94-2.06-.94 2.06-2.06.94zm-11 1L8.5 8.5l.94-2.06 2.06-.94-2.06-.94L8.5 2.5l-.94 2.06-2.06.94zm10 10l.94 2.06.94-2.06 2.06-.94-2.06-.94-.94-2.06-.94 2.06-2.06.94z\"/><path d=\"M17.41 7.96l-1.37-1.37c-.4-.4-.92-.59-1.43-.59-.52 0-1.04.2-1.43.59L10.3 9.45l-7.72 7.72c-.78.78-.78 2.05 0 2.83L4 21.41c.39.39.9.59 1.41.59.51 0 1.02-.2 1.41-.59l7.78-7.78 2.81-2.81c.8-.78.8-2.07 0-2.86zM5.41 20L4 18.59l7.72-7.72 1.47 1.35L5.41 20z\"/>\n",
              "  </svg>\n",
              "      </button>\n",
              "      \n",
              "  <style>\n",
              "    .colab-df-container {\n",
              "      display:flex;\n",
              "      flex-wrap:wrap;\n",
              "      gap: 12px;\n",
              "    }\n",
              "\n",
              "    .colab-df-convert {\n",
              "      background-color: #E8F0FE;\n",
              "      border: none;\n",
              "      border-radius: 50%;\n",
              "      cursor: pointer;\n",
              "      display: none;\n",
              "      fill: #1967D2;\n",
              "      height: 32px;\n",
              "      padding: 0 0 0 0;\n",
              "      width: 32px;\n",
              "    }\n",
              "\n",
              "    .colab-df-convert:hover {\n",
              "      background-color: #E2EBFA;\n",
              "      box-shadow: 0px 1px 2px rgba(60, 64, 67, 0.3), 0px 1px 3px 1px rgba(60, 64, 67, 0.15);\n",
              "      fill: #174EA6;\n",
              "    }\n",
              "\n",
              "    [theme=dark] .colab-df-convert {\n",
              "      background-color: #3B4455;\n",
              "      fill: #D2E3FC;\n",
              "    }\n",
              "\n",
              "    [theme=dark] .colab-df-convert:hover {\n",
              "      background-color: #434B5C;\n",
              "      box-shadow: 0px 1px 3px 1px rgba(0, 0, 0, 0.15);\n",
              "      filter: drop-shadow(0px 1px 2px rgba(0, 0, 0, 0.3));\n",
              "      fill: #FFFFFF;\n",
              "    }\n",
              "  </style>\n",
              "\n",
              "      <script>\n",
              "        const buttonEl =\n",
              "          document.querySelector('#df-87845087-8eb8-4a49-a3cd-433241d42762 button.colab-df-convert');\n",
              "        buttonEl.style.display =\n",
              "          google.colab.kernel.accessAllowed ? 'block' : 'none';\n",
              "\n",
              "        async function convertToInteractive(key) {\n",
              "          const element = document.querySelector('#df-87845087-8eb8-4a49-a3cd-433241d42762');\n",
              "          const dataTable =\n",
              "            await google.colab.kernel.invokeFunction('convertToInteractive',\n",
              "                                                     [key], {});\n",
              "          if (!dataTable) return;\n",
              "\n",
              "          const docLinkHtml = 'Like what you see? Visit the ' +\n",
              "            '<a target=\"_blank\" href=https://colab.research.google.com/notebooks/data_table.ipynb>data table notebook</a>'\n",
              "            + ' to learn more about interactive tables.';\n",
              "          element.innerHTML = '';\n",
              "          dataTable['output_type'] = 'display_data';\n",
              "          await google.colab.output.renderOutput(dataTable, element);\n",
              "          const docLink = document.createElement('div');\n",
              "          docLink.innerHTML = docLinkHtml;\n",
              "          element.appendChild(docLink);\n",
              "        }\n",
              "      </script>\n",
              "    </div>\n",
              "  </div>\n",
              "  "
            ]
          },
          "metadata": {},
          "execution_count": 21
        }
      ]
    },
    {
      "cell_type": "markdown",
      "metadata": {
        "id": "27kxPdsefcC8"
      },
      "source": [
        "### Логистическая регрессия"
      ]
    },
    {
      "cell_type": "code",
      "execution_count": 22,
      "metadata": {
        "colab": {
          "base_uri": "https://localhost:8080/"
        },
        "id": "pcxsR4c7fcC9",
        "outputId": "ce4b31e4-22ad-4c5c-c3a6-9e79a0480a0e"
      },
      "outputs": [
        {
          "output_type": "stream",
          "name": "stdout",
          "text": [
            "Accuracy модели логистической регрессии на валидационной выборке: 0.7107309486780715\n",
            "CPU times: user 32.3 ms, sys: 3 ms, total: 35.3 ms\n",
            "Wall time: 43 ms\n"
          ]
        }
      ],
      "source": [
        "%%time\n",
        "\n",
        "#посмотрим на модель логистической регрессии\n",
        "\n",
        "model_l = LogisticRegression(random_state=25) \n",
        "model_l.fit(features_train, target_train) \n",
        "result_l = model_l.score(features_valid, target_valid)\n",
        "\n",
        "print(\"Accuracy модели логистической регрессии на валидационной выборке:\", result_l)"
      ]
    },
    {
      "cell_type": "code",
      "source": [
        "metrics(result_l, 'Logistic Regression', compare_models)"
      ],
      "metadata": {
        "colab": {
          "base_uri": "https://localhost:8080/",
          "height": 175
        },
        "id": "gLnBGYW3oykO",
        "outputId": "8d2e7cf6-38f1-436a-e363-c2f47baa3a34"
      },
      "execution_count": 23,
      "outputs": [
        {
          "output_type": "execute_result",
          "data": {
            "text/plain": [
              "                    Accuracy_valid\n",
              "Baseline model            0.706065\n",
              "RF Classifier             0.810264\n",
              "DT Classifier             0.785381\n",
              "Logistic Regression       0.710731"
            ],
            "text/html": [
              "\n",
              "  <div id=\"df-a2ba363e-1e8b-4d80-a51e-e7733bbc6fd6\">\n",
              "    <div class=\"colab-df-container\">\n",
              "      <div>\n",
              "<style scoped>\n",
              "    .dataframe tbody tr th:only-of-type {\n",
              "        vertical-align: middle;\n",
              "    }\n",
              "\n",
              "    .dataframe tbody tr th {\n",
              "        vertical-align: top;\n",
              "    }\n",
              "\n",
              "    .dataframe thead th {\n",
              "        text-align: right;\n",
              "    }\n",
              "</style>\n",
              "<table border=\"1\" class=\"dataframe\">\n",
              "  <thead>\n",
              "    <tr style=\"text-align: right;\">\n",
              "      <th></th>\n",
              "      <th>Accuracy_valid</th>\n",
              "    </tr>\n",
              "  </thead>\n",
              "  <tbody>\n",
              "    <tr>\n",
              "      <th>Baseline model</th>\n",
              "      <td>0.706065</td>\n",
              "    </tr>\n",
              "    <tr>\n",
              "      <th>RF Classifier</th>\n",
              "      <td>0.810264</td>\n",
              "    </tr>\n",
              "    <tr>\n",
              "      <th>DT Classifier</th>\n",
              "      <td>0.785381</td>\n",
              "    </tr>\n",
              "    <tr>\n",
              "      <th>Logistic Regression</th>\n",
              "      <td>0.710731</td>\n",
              "    </tr>\n",
              "  </tbody>\n",
              "</table>\n",
              "</div>\n",
              "      <button class=\"colab-df-convert\" onclick=\"convertToInteractive('df-a2ba363e-1e8b-4d80-a51e-e7733bbc6fd6')\"\n",
              "              title=\"Convert this dataframe to an interactive table.\"\n",
              "              style=\"display:none;\">\n",
              "        \n",
              "  <svg xmlns=\"http://www.w3.org/2000/svg\" height=\"24px\"viewBox=\"0 0 24 24\"\n",
              "       width=\"24px\">\n",
              "    <path d=\"M0 0h24v24H0V0z\" fill=\"none\"/>\n",
              "    <path d=\"M18.56 5.44l.94 2.06.94-2.06 2.06-.94-2.06-.94-.94-2.06-.94 2.06-2.06.94zm-11 1L8.5 8.5l.94-2.06 2.06-.94-2.06-.94L8.5 2.5l-.94 2.06-2.06.94zm10 10l.94 2.06.94-2.06 2.06-.94-2.06-.94-.94-2.06-.94 2.06-2.06.94z\"/><path d=\"M17.41 7.96l-1.37-1.37c-.4-.4-.92-.59-1.43-.59-.52 0-1.04.2-1.43.59L10.3 9.45l-7.72 7.72c-.78.78-.78 2.05 0 2.83L4 21.41c.39.39.9.59 1.41.59.51 0 1.02-.2 1.41-.59l7.78-7.78 2.81-2.81c.8-.78.8-2.07 0-2.86zM5.41 20L4 18.59l7.72-7.72 1.47 1.35L5.41 20z\"/>\n",
              "  </svg>\n",
              "      </button>\n",
              "      \n",
              "  <style>\n",
              "    .colab-df-container {\n",
              "      display:flex;\n",
              "      flex-wrap:wrap;\n",
              "      gap: 12px;\n",
              "    }\n",
              "\n",
              "    .colab-df-convert {\n",
              "      background-color: #E8F0FE;\n",
              "      border: none;\n",
              "      border-radius: 50%;\n",
              "      cursor: pointer;\n",
              "      display: none;\n",
              "      fill: #1967D2;\n",
              "      height: 32px;\n",
              "      padding: 0 0 0 0;\n",
              "      width: 32px;\n",
              "    }\n",
              "\n",
              "    .colab-df-convert:hover {\n",
              "      background-color: #E2EBFA;\n",
              "      box-shadow: 0px 1px 2px rgba(60, 64, 67, 0.3), 0px 1px 3px 1px rgba(60, 64, 67, 0.15);\n",
              "      fill: #174EA6;\n",
              "    }\n",
              "\n",
              "    [theme=dark] .colab-df-convert {\n",
              "      background-color: #3B4455;\n",
              "      fill: #D2E3FC;\n",
              "    }\n",
              "\n",
              "    [theme=dark] .colab-df-convert:hover {\n",
              "      background-color: #434B5C;\n",
              "      box-shadow: 0px 1px 3px 1px rgba(0, 0, 0, 0.15);\n",
              "      filter: drop-shadow(0px 1px 2px rgba(0, 0, 0, 0.3));\n",
              "      fill: #FFFFFF;\n",
              "    }\n",
              "  </style>\n",
              "\n",
              "      <script>\n",
              "        const buttonEl =\n",
              "          document.querySelector('#df-a2ba363e-1e8b-4d80-a51e-e7733bbc6fd6 button.colab-df-convert');\n",
              "        buttonEl.style.display =\n",
              "          google.colab.kernel.accessAllowed ? 'block' : 'none';\n",
              "\n",
              "        async function convertToInteractive(key) {\n",
              "          const element = document.querySelector('#df-a2ba363e-1e8b-4d80-a51e-e7733bbc6fd6');\n",
              "          const dataTable =\n",
              "            await google.colab.kernel.invokeFunction('convertToInteractive',\n",
              "                                                     [key], {});\n",
              "          if (!dataTable) return;\n",
              "\n",
              "          const docLinkHtml = 'Like what you see? Visit the ' +\n",
              "            '<a target=\"_blank\" href=https://colab.research.google.com/notebooks/data_table.ipynb>data table notebook</a>'\n",
              "            + ' to learn more about interactive tables.';\n",
              "          element.innerHTML = '';\n",
              "          dataTable['output_type'] = 'display_data';\n",
              "          await google.colab.output.renderOutput(dataTable, element);\n",
              "          const docLink = document.createElement('div');\n",
              "          docLink.innerHTML = docLinkHtml;\n",
              "          element.appendChild(docLink);\n",
              "        }\n",
              "      </script>\n",
              "    </div>\n",
              "  </div>\n",
              "  "
            ]
          },
          "metadata": {},
          "execution_count": 23
        }
      ]
    },
    {
      "cell_type": "markdown",
      "source": [
        "**Комментарий:**\n",
        "<br> Мы обучили три модели - Случайный лес, Дерево решений и Логистическая регрессия. Самый низкий результат показала модель Логистической регрессии. Был проведен анализ важности признаков для моделей Случайного леса и Дерева решений, оба анализа показали, что параметр calls наименее важен для обеих моделей. Сделаем новую выборку уже без этого параметра и посмотрим на результаты."
      ],
      "metadata": {
        "id": "7N6j879x0BWb"
      }
    },
    {
      "cell_type": "markdown",
      "source": [
        "### Повторное обучение"
      ],
      "metadata": {
        "id": "qCgVwDuzP_Rn"
      }
    },
    {
      "cell_type": "code",
      "source": [
        "#создаем новые переменные\n",
        "\n",
        "features_train_new = data_train.drop(['is_ultra', 'calls'], axis=1)\n",
        "\n",
        "features_valid_new = data_valid.drop(['is_ultra', 'calls'], axis=1)\n",
        "\n",
        "#features_test = data_test.drop(['is_ultra'], axis=1)"
      ],
      "metadata": {
        "id": "QimPZKIno8YQ"
      },
      "execution_count": 24,
      "outputs": []
    },
    {
      "cell_type": "markdown",
      "source": [
        "**Случайный лес**"
      ],
      "metadata": {
        "id": "bDK_gDmNQIHx"
      }
    },
    {
      "cell_type": "code",
      "source": [
        "%%time \n",
        "\n",
        "# подберем наилучшие параметры для модели случайного леса\n",
        "\n",
        "best_features2 = 0\n",
        "best_criterion2 = None\n",
        "best_depth2 = 0\n",
        "best_model_r_new = None\n",
        "best_result_r2 = 0\n",
        "best_est2 = 0\n",
        "\n",
        "for crit in tqdm(['gini', 'entropy']):\n",
        "    for max_features in ['sqrt', 'log2']:\n",
        "        for est in range(7,35):\n",
        "            for depth in range(5,25):\n",
        "                model_r_new = RandomForestClassifier(random_state=45, criterion=crit,\n",
        "                                    max_features=max_features, max_depth=depth, n_estimators=est)\n",
        "                model_r_new.fit(features_train_new, target_train)\n",
        "                predictions = model_r_new.predict(features_valid_new)\n",
        "                result = model_r_new.score(features_valid_new, target_valid)\n",
        "                if result > best_result_r2:\n",
        "                    best_criterion2 = crit\n",
        "                    best_features2 = max_features\n",
        "                    best_depth2 = depth\n",
        "                    best_model_r_new = model_r_new\n",
        "                    best_result_r2 = result\n",
        "                    best_est2 = est\n",
        "\n",
        "print('Accuracy наилучшей модели на валидационной выборке:', best_result_r2)\n",
        "print('Количество деревьев:', best_est2)\n",
        "print('Глубина:', best_depth2)\n",
        "print('Число признаков:', best_features2)\n",
        "print('Критерий расщепления:', best_criterion2)"
      ],
      "metadata": {
        "colab": {
          "base_uri": "https://localhost:8080/"
        },
        "id": "PJOqLuRvQHj6",
        "outputId": "399e37ac-e569-46d8-c414-f194af006443"
      },
      "execution_count": 25,
      "outputs": [
        {
          "output_type": "stream",
          "name": "stderr",
          "text": [
            "100%|██████████| 2/2 [03:03<00:00, 91.90s/it]"
          ]
        },
        {
          "output_type": "stream",
          "name": "stdout",
          "text": [
            "Accuracy наилучшей модели на валидационной выборке: 0.80248833592535\n",
            "Количество деревьев: 18\n",
            "Глубина: 13\n",
            "Число признаков: sqrt\n",
            "Критерий расщепления: entropy\n",
            "CPU times: user 3min 3s, sys: 640 ms, total: 3min 3s\n",
            "Wall time: 3min 3s\n"
          ]
        },
        {
          "output_type": "stream",
          "name": "stderr",
          "text": [
            "\n"
          ]
        }
      ]
    },
    {
      "cell_type": "code",
      "source": [
        "metrics(best_result_r2, 'RF Classifier without calls', compare_models)"
      ],
      "metadata": {
        "colab": {
          "base_uri": "https://localhost:8080/",
          "height": 206
        },
        "id": "UkcLjUSMUCtX",
        "outputId": "b72f1849-c742-4d14-cdf7-7f3aab6f249c"
      },
      "execution_count": 26,
      "outputs": [
        {
          "output_type": "execute_result",
          "data": {
            "text/plain": [
              "                            Accuracy_valid\n",
              "Baseline model                    0.706065\n",
              "RF Classifier                     0.810264\n",
              "DT Classifier                     0.785381\n",
              "Logistic Regression               0.710731\n",
              "RF Classifier without calls       0.802488"
            ],
            "text/html": [
              "\n",
              "  <div id=\"df-926ef6b2-d079-4e89-9025-f07ffe1f4cf4\">\n",
              "    <div class=\"colab-df-container\">\n",
              "      <div>\n",
              "<style scoped>\n",
              "    .dataframe tbody tr th:only-of-type {\n",
              "        vertical-align: middle;\n",
              "    }\n",
              "\n",
              "    .dataframe tbody tr th {\n",
              "        vertical-align: top;\n",
              "    }\n",
              "\n",
              "    .dataframe thead th {\n",
              "        text-align: right;\n",
              "    }\n",
              "</style>\n",
              "<table border=\"1\" class=\"dataframe\">\n",
              "  <thead>\n",
              "    <tr style=\"text-align: right;\">\n",
              "      <th></th>\n",
              "      <th>Accuracy_valid</th>\n",
              "    </tr>\n",
              "  </thead>\n",
              "  <tbody>\n",
              "    <tr>\n",
              "      <th>Baseline model</th>\n",
              "      <td>0.706065</td>\n",
              "    </tr>\n",
              "    <tr>\n",
              "      <th>RF Classifier</th>\n",
              "      <td>0.810264</td>\n",
              "    </tr>\n",
              "    <tr>\n",
              "      <th>DT Classifier</th>\n",
              "      <td>0.785381</td>\n",
              "    </tr>\n",
              "    <tr>\n",
              "      <th>Logistic Regression</th>\n",
              "      <td>0.710731</td>\n",
              "    </tr>\n",
              "    <tr>\n",
              "      <th>RF Classifier without calls</th>\n",
              "      <td>0.802488</td>\n",
              "    </tr>\n",
              "  </tbody>\n",
              "</table>\n",
              "</div>\n",
              "      <button class=\"colab-df-convert\" onclick=\"convertToInteractive('df-926ef6b2-d079-4e89-9025-f07ffe1f4cf4')\"\n",
              "              title=\"Convert this dataframe to an interactive table.\"\n",
              "              style=\"display:none;\">\n",
              "        \n",
              "  <svg xmlns=\"http://www.w3.org/2000/svg\" height=\"24px\"viewBox=\"0 0 24 24\"\n",
              "       width=\"24px\">\n",
              "    <path d=\"M0 0h24v24H0V0z\" fill=\"none\"/>\n",
              "    <path d=\"M18.56 5.44l.94 2.06.94-2.06 2.06-.94-2.06-.94-.94-2.06-.94 2.06-2.06.94zm-11 1L8.5 8.5l.94-2.06 2.06-.94-2.06-.94L8.5 2.5l-.94 2.06-2.06.94zm10 10l.94 2.06.94-2.06 2.06-.94-2.06-.94-.94-2.06-.94 2.06-2.06.94z\"/><path d=\"M17.41 7.96l-1.37-1.37c-.4-.4-.92-.59-1.43-.59-.52 0-1.04.2-1.43.59L10.3 9.45l-7.72 7.72c-.78.78-.78 2.05 0 2.83L4 21.41c.39.39.9.59 1.41.59.51 0 1.02-.2 1.41-.59l7.78-7.78 2.81-2.81c.8-.78.8-2.07 0-2.86zM5.41 20L4 18.59l7.72-7.72 1.47 1.35L5.41 20z\"/>\n",
              "  </svg>\n",
              "      </button>\n",
              "      \n",
              "  <style>\n",
              "    .colab-df-container {\n",
              "      display:flex;\n",
              "      flex-wrap:wrap;\n",
              "      gap: 12px;\n",
              "    }\n",
              "\n",
              "    .colab-df-convert {\n",
              "      background-color: #E8F0FE;\n",
              "      border: none;\n",
              "      border-radius: 50%;\n",
              "      cursor: pointer;\n",
              "      display: none;\n",
              "      fill: #1967D2;\n",
              "      height: 32px;\n",
              "      padding: 0 0 0 0;\n",
              "      width: 32px;\n",
              "    }\n",
              "\n",
              "    .colab-df-convert:hover {\n",
              "      background-color: #E2EBFA;\n",
              "      box-shadow: 0px 1px 2px rgba(60, 64, 67, 0.3), 0px 1px 3px 1px rgba(60, 64, 67, 0.15);\n",
              "      fill: #174EA6;\n",
              "    }\n",
              "\n",
              "    [theme=dark] .colab-df-convert {\n",
              "      background-color: #3B4455;\n",
              "      fill: #D2E3FC;\n",
              "    }\n",
              "\n",
              "    [theme=dark] .colab-df-convert:hover {\n",
              "      background-color: #434B5C;\n",
              "      box-shadow: 0px 1px 3px 1px rgba(0, 0, 0, 0.15);\n",
              "      filter: drop-shadow(0px 1px 2px rgba(0, 0, 0, 0.3));\n",
              "      fill: #FFFFFF;\n",
              "    }\n",
              "  </style>\n",
              "\n",
              "      <script>\n",
              "        const buttonEl =\n",
              "          document.querySelector('#df-926ef6b2-d079-4e89-9025-f07ffe1f4cf4 button.colab-df-convert');\n",
              "        buttonEl.style.display =\n",
              "          google.colab.kernel.accessAllowed ? 'block' : 'none';\n",
              "\n",
              "        async function convertToInteractive(key) {\n",
              "          const element = document.querySelector('#df-926ef6b2-d079-4e89-9025-f07ffe1f4cf4');\n",
              "          const dataTable =\n",
              "            await google.colab.kernel.invokeFunction('convertToInteractive',\n",
              "                                                     [key], {});\n",
              "          if (!dataTable) return;\n",
              "\n",
              "          const docLinkHtml = 'Like what you see? Visit the ' +\n",
              "            '<a target=\"_blank\" href=https://colab.research.google.com/notebooks/data_table.ipynb>data table notebook</a>'\n",
              "            + ' to learn more about interactive tables.';\n",
              "          element.innerHTML = '';\n",
              "          dataTable['output_type'] = 'display_data';\n",
              "          await google.colab.output.renderOutput(dataTable, element);\n",
              "          const docLink = document.createElement('div');\n",
              "          docLink.innerHTML = docLinkHtml;\n",
              "          element.appendChild(docLink);\n",
              "        }\n",
              "      </script>\n",
              "    </div>\n",
              "  </div>\n",
              "  "
            ]
          },
          "metadata": {},
          "execution_count": 26
        }
      ]
    },
    {
      "cell_type": "markdown",
      "source": [
        "**Дерево решений**"
      ],
      "metadata": {
        "id": "JSrjrjmYTVux"
      }
    },
    {
      "cell_type": "code",
      "source": [
        "%%time \n",
        "\n",
        "# подберем наилучшие параметры для модели дерева решений\n",
        "\n",
        "best_features2 = 0\n",
        "best_criterion2 = None\n",
        "best_depth2 = 0\n",
        "best_model_d_new = None\n",
        "best_result_d2 = 0\n",
        "\n",
        "for crit in tqdm(['gini', 'entropy']):\n",
        "    for max_features in ['sqrt', 'log2']:\n",
        "        for depth in range(5,25):\n",
        "             model_d_new = DecisionTreeClassifier(random_state=4545, criterion=crit,\n",
        "                                     max_depth=depth)\n",
        "             model_d_new.fit(features_train_new, target_train)\n",
        "             predictions = model_d_new.predict(features_valid_new)\n",
        "             result = model_d_new.score(features_valid_new, target_valid)\n",
        "             if result > best_result_d2:\n",
        "                best_criterion2 = crit\n",
        "                best_features2 = max_features\n",
        "                best_depth2 = depth\n",
        "                best_model_d_new = model_d_new\n",
        "                best_result_d2 = result\n",
        "                    \n",
        "\n",
        "print('Accuracy наилучшей модели на валидационной выборке:', best_result_d2)\n",
        "print('Глубина:', best_depth2)\n",
        "print('Число признаков:', best_features2)\n",
        "print('Критерий расщепления:', best_criterion2)"
      ],
      "metadata": {
        "colab": {
          "base_uri": "https://localhost:8080/"
        },
        "id": "BH8Wv2mOo8LU",
        "outputId": "d2b3aad8-b1d1-43c1-ff43-d0f47431e4db"
      },
      "execution_count": 27,
      "outputs": [
        {
          "output_type": "stream",
          "name": "stderr",
          "text": [
            "100%|██████████| 2/2 [00:01<00:00,  1.85it/s]"
          ]
        },
        {
          "output_type": "stream",
          "name": "stdout",
          "text": [
            "Accuracy наилучшей модели на валидационной выборке: 0.7884914463452566\n",
            "Глубина: 5\n",
            "Число признаков: sqrt\n",
            "Критерий расщепления: gini\n",
            "CPU times: user 1.08 s, sys: 6.01 ms, total: 1.09 s\n",
            "Wall time: 1.1 s\n"
          ]
        },
        {
          "output_type": "stream",
          "name": "stderr",
          "text": [
            "\n"
          ]
        }
      ]
    },
    {
      "cell_type": "code",
      "source": [
        "metrics(best_result_d2, 'DT Classifier without calls', compare_models)"
      ],
      "metadata": {
        "colab": {
          "base_uri": "https://localhost:8080/",
          "height": 237
        },
        "id": "NhpheQpCURNH",
        "outputId": "a4a38c19-70bb-4579-d44e-20055e574c70"
      },
      "execution_count": 28,
      "outputs": [
        {
          "output_type": "execute_result",
          "data": {
            "text/plain": [
              "                            Accuracy_valid\n",
              "Baseline model                    0.706065\n",
              "RF Classifier                     0.810264\n",
              "DT Classifier                     0.785381\n",
              "Logistic Regression               0.710731\n",
              "RF Classifier without calls       0.802488\n",
              "DT Classifier without calls       0.788491"
            ],
            "text/html": [
              "\n",
              "  <div id=\"df-13a86fc2-155d-4006-a29c-8f194a698cd6\">\n",
              "    <div class=\"colab-df-container\">\n",
              "      <div>\n",
              "<style scoped>\n",
              "    .dataframe tbody tr th:only-of-type {\n",
              "        vertical-align: middle;\n",
              "    }\n",
              "\n",
              "    .dataframe tbody tr th {\n",
              "        vertical-align: top;\n",
              "    }\n",
              "\n",
              "    .dataframe thead th {\n",
              "        text-align: right;\n",
              "    }\n",
              "</style>\n",
              "<table border=\"1\" class=\"dataframe\">\n",
              "  <thead>\n",
              "    <tr style=\"text-align: right;\">\n",
              "      <th></th>\n",
              "      <th>Accuracy_valid</th>\n",
              "    </tr>\n",
              "  </thead>\n",
              "  <tbody>\n",
              "    <tr>\n",
              "      <th>Baseline model</th>\n",
              "      <td>0.706065</td>\n",
              "    </tr>\n",
              "    <tr>\n",
              "      <th>RF Classifier</th>\n",
              "      <td>0.810264</td>\n",
              "    </tr>\n",
              "    <tr>\n",
              "      <th>DT Classifier</th>\n",
              "      <td>0.785381</td>\n",
              "    </tr>\n",
              "    <tr>\n",
              "      <th>Logistic Regression</th>\n",
              "      <td>0.710731</td>\n",
              "    </tr>\n",
              "    <tr>\n",
              "      <th>RF Classifier without calls</th>\n",
              "      <td>0.802488</td>\n",
              "    </tr>\n",
              "    <tr>\n",
              "      <th>DT Classifier without calls</th>\n",
              "      <td>0.788491</td>\n",
              "    </tr>\n",
              "  </tbody>\n",
              "</table>\n",
              "</div>\n",
              "      <button class=\"colab-df-convert\" onclick=\"convertToInteractive('df-13a86fc2-155d-4006-a29c-8f194a698cd6')\"\n",
              "              title=\"Convert this dataframe to an interactive table.\"\n",
              "              style=\"display:none;\">\n",
              "        \n",
              "  <svg xmlns=\"http://www.w3.org/2000/svg\" height=\"24px\"viewBox=\"0 0 24 24\"\n",
              "       width=\"24px\">\n",
              "    <path d=\"M0 0h24v24H0V0z\" fill=\"none\"/>\n",
              "    <path d=\"M18.56 5.44l.94 2.06.94-2.06 2.06-.94-2.06-.94-.94-2.06-.94 2.06-2.06.94zm-11 1L8.5 8.5l.94-2.06 2.06-.94-2.06-.94L8.5 2.5l-.94 2.06-2.06.94zm10 10l.94 2.06.94-2.06 2.06-.94-2.06-.94-.94-2.06-.94 2.06-2.06.94z\"/><path d=\"M17.41 7.96l-1.37-1.37c-.4-.4-.92-.59-1.43-.59-.52 0-1.04.2-1.43.59L10.3 9.45l-7.72 7.72c-.78.78-.78 2.05 0 2.83L4 21.41c.39.39.9.59 1.41.59.51 0 1.02-.2 1.41-.59l7.78-7.78 2.81-2.81c.8-.78.8-2.07 0-2.86zM5.41 20L4 18.59l7.72-7.72 1.47 1.35L5.41 20z\"/>\n",
              "  </svg>\n",
              "      </button>\n",
              "      \n",
              "  <style>\n",
              "    .colab-df-container {\n",
              "      display:flex;\n",
              "      flex-wrap:wrap;\n",
              "      gap: 12px;\n",
              "    }\n",
              "\n",
              "    .colab-df-convert {\n",
              "      background-color: #E8F0FE;\n",
              "      border: none;\n",
              "      border-radius: 50%;\n",
              "      cursor: pointer;\n",
              "      display: none;\n",
              "      fill: #1967D2;\n",
              "      height: 32px;\n",
              "      padding: 0 0 0 0;\n",
              "      width: 32px;\n",
              "    }\n",
              "\n",
              "    .colab-df-convert:hover {\n",
              "      background-color: #E2EBFA;\n",
              "      box-shadow: 0px 1px 2px rgba(60, 64, 67, 0.3), 0px 1px 3px 1px rgba(60, 64, 67, 0.15);\n",
              "      fill: #174EA6;\n",
              "    }\n",
              "\n",
              "    [theme=dark] .colab-df-convert {\n",
              "      background-color: #3B4455;\n",
              "      fill: #D2E3FC;\n",
              "    }\n",
              "\n",
              "    [theme=dark] .colab-df-convert:hover {\n",
              "      background-color: #434B5C;\n",
              "      box-shadow: 0px 1px 3px 1px rgba(0, 0, 0, 0.15);\n",
              "      filter: drop-shadow(0px 1px 2px rgba(0, 0, 0, 0.3));\n",
              "      fill: #FFFFFF;\n",
              "    }\n",
              "  </style>\n",
              "\n",
              "      <script>\n",
              "        const buttonEl =\n",
              "          document.querySelector('#df-13a86fc2-155d-4006-a29c-8f194a698cd6 button.colab-df-convert');\n",
              "        buttonEl.style.display =\n",
              "          google.colab.kernel.accessAllowed ? 'block' : 'none';\n",
              "\n",
              "        async function convertToInteractive(key) {\n",
              "          const element = document.querySelector('#df-13a86fc2-155d-4006-a29c-8f194a698cd6');\n",
              "          const dataTable =\n",
              "            await google.colab.kernel.invokeFunction('convertToInteractive',\n",
              "                                                     [key], {});\n",
              "          if (!dataTable) return;\n",
              "\n",
              "          const docLinkHtml = 'Like what you see? Visit the ' +\n",
              "            '<a target=\"_blank\" href=https://colab.research.google.com/notebooks/data_table.ipynb>data table notebook</a>'\n",
              "            + ' to learn more about interactive tables.';\n",
              "          element.innerHTML = '';\n",
              "          dataTable['output_type'] = 'display_data';\n",
              "          await google.colab.output.renderOutput(dataTable, element);\n",
              "          const docLink = document.createElement('div');\n",
              "          docLink.innerHTML = docLinkHtml;\n",
              "          element.appendChild(docLink);\n",
              "        }\n",
              "      </script>\n",
              "    </div>\n",
              "  </div>\n",
              "  "
            ]
          },
          "metadata": {},
          "execution_count": 28
        }
      ]
    },
    {
      "cell_type": "markdown",
      "source": [
        "**Комментарий:**\n",
        "<br>После удаления параметра ***calls*** метрика у Случайного леса снизилась, а у Дерева решений очень незначительно увеличилась. Однако, это не привело нас к желаемому результату - повышению метрики.\n",
        "<br> Таким образом, наилучший результат показала модель Случайного леса (с параметром ***calls***). Ее результат прошел проверку на адекватность. Посмотрим на результаты на тестовой выборке."
      ],
      "metadata": {
        "id": "xYEIYLtWTuMm"
      }
    },
    {
      "cell_type": "markdown",
      "metadata": {
        "id": "r1OfaEd_fcC9"
      },
      "source": [
        "## Проверьте модель на тестовой выборке"
      ]
    },
    {
      "cell_type": "code",
      "execution_count": 29,
      "metadata": {
        "colab": {
          "base_uri": "https://localhost:8080/"
        },
        "id": "mGFfQcjafcC9",
        "outputId": "57997112-7905-426f-efa2-0e6c89c6491d"
      },
      "outputs": [
        {
          "output_type": "stream",
          "name": "stdout",
          "text": [
            "Accuracy модели на тестовой выборке: 0.7978227060653188\n"
          ]
        }
      ],
      "source": [
        "predictions_final_r = best_model_r.predict(features_test)\n",
        "result_rf = accuracy_score(target_test, predictions_final_r)\n",
        "print('Accuracy модели на тестовой выборке:', result_rf)"
      ]
    },
    {
      "cell_type": "markdown",
      "metadata": {
        "id": "cDUn7cqxfcC-"
      },
      "source": [
        "**Общий вывод** \n",
        "<br>Наилучший результат показала модель случайного леса со следующими гиперпараметрами:\n",
        "- Количество деревьев: 14\n",
        "- Глубина: 9\n",
        "- Число признаков: sqrt\n",
        "- Критерий расщепления: entropy \n",
        "\n",
        "После проведения анализа важности параметров, было выявлено, что параметр calls влияет на обучение модели наименьшим образом. Однако, после его удаления из выборок, результат модели Случайного леса стал меньше. Результат Дерева решений немного улучшился, но практически незначительно.\n",
        "<br>На тесте модель Случайного леса (со всеми фичами) показала результат гораздо ниже, хотя на валидационной выборке результат был довольно высоким: 0.81 (валидационная выборка) и 0.79 (тест). \n",
        "<br>Несмотря на это, условия задачи были выполнены, поэтому рекомендуемая модель для заказчика - Случайный лес."
      ]
    }
  ],
  "metadata": {
    "ExecuteTimeLog": [
      {
        "duration": 997,
        "start_time": "2021-12-15T18:15:05.405Z"
      },
      {
        "duration": 18,
        "start_time": "2021-12-15T18:15:56.211Z"
      },
      {
        "duration": 29,
        "start_time": "2021-12-15T18:16:04.322Z"
      },
      {
        "duration": 407,
        "start_time": "2021-12-18T19:19:03.146Z"
      },
      {
        "duration": 318,
        "start_time": "2021-12-18T19:19:08.020Z"
      },
      {
        "duration": 1502,
        "start_time": "2021-12-18T19:19:14.941Z"
      },
      {
        "duration": 47,
        "start_time": "2021-12-18T19:19:16.446Z"
      },
      {
        "duration": 9,
        "start_time": "2021-12-18T19:19:16.495Z"
      },
      {
        "duration": 11,
        "start_time": "2021-12-18T19:21:13.426Z"
      },
      {
        "duration": 440,
        "start_time": "2021-12-18T19:27:40.912Z"
      },
      {
        "duration": 7,
        "start_time": "2021-12-18T19:27:48.088Z"
      },
      {
        "duration": 7,
        "start_time": "2021-12-18T19:28:07.575Z"
      },
      {
        "duration": 7,
        "start_time": "2021-12-18T19:28:13.818Z"
      },
      {
        "duration": 6,
        "start_time": "2021-12-18T19:30:05.384Z"
      },
      {
        "duration": 8,
        "start_time": "2021-12-18T19:33:12.017Z"
      },
      {
        "duration": 6,
        "start_time": "2021-12-18T19:34:20.495Z"
      },
      {
        "duration": 5,
        "start_time": "2021-12-18T19:35:01.964Z"
      },
      {
        "duration": 1369,
        "start_time": "2021-12-19T12:05:56.423Z"
      },
      {
        "duration": 43,
        "start_time": "2021-12-19T12:05:57.795Z"
      },
      {
        "duration": 18,
        "start_time": "2021-12-19T12:05:57.841Z"
      },
      {
        "duration": 7,
        "start_time": "2021-12-19T12:05:57.862Z"
      },
      {
        "duration": 7,
        "start_time": "2021-12-19T12:05:57.872Z"
      },
      {
        "duration": 8,
        "start_time": "2021-12-19T12:05:57.882Z"
      },
      {
        "duration": 672,
        "start_time": "2021-12-19T12:14:16.192Z"
      },
      {
        "duration": 4,
        "start_time": "2021-12-19T12:14:52.397Z"
      },
      {
        "duration": 284,
        "start_time": "2021-12-19T12:14:55.899Z"
      },
      {
        "duration": 4,
        "start_time": "2021-12-19T12:16:54.122Z"
      },
      {
        "duration": 7,
        "start_time": "2021-12-19T12:16:59.814Z"
      },
      {
        "duration": 264,
        "start_time": "2021-12-19T12:17:05.004Z"
      },
      {
        "duration": 4,
        "start_time": "2021-12-19T12:18:04.641Z"
      },
      {
        "duration": 426,
        "start_time": "2021-12-19T12:49:24.941Z"
      },
      {
        "duration": 31,
        "start_time": "2021-12-19T12:50:20.843Z"
      },
      {
        "duration": 31,
        "start_time": "2021-12-19T12:54:02.270Z"
      },
      {
        "duration": 31,
        "start_time": "2021-12-19T12:54:28.950Z"
      },
      {
        "duration": 271,
        "start_time": "2021-12-19T12:56:04.808Z"
      },
      {
        "duration": 15,
        "start_time": "2021-12-19T12:56:54.855Z"
      },
      {
        "duration": 4,
        "start_time": "2021-12-19T12:57:23.708Z"
      },
      {
        "duration": 40,
        "start_time": "2021-12-19T12:57:23.714Z"
      },
      {
        "duration": 13,
        "start_time": "2021-12-19T12:57:23.758Z"
      },
      {
        "duration": 8,
        "start_time": "2021-12-19T12:57:23.775Z"
      },
      {
        "duration": 12,
        "start_time": "2021-12-19T12:57:23.787Z"
      },
      {
        "duration": 9,
        "start_time": "2021-12-19T12:57:23.802Z"
      },
      {
        "duration": 316,
        "start_time": "2021-12-19T12:57:23.813Z"
      },
      {
        "duration": 41,
        "start_time": "2021-12-19T12:57:24.132Z"
      },
      {
        "duration": 20,
        "start_time": "2021-12-19T13:22:46.080Z"
      },
      {
        "duration": 385,
        "start_time": "2021-12-19T13:27:36.831Z"
      },
      {
        "duration": 270,
        "start_time": "2021-12-19T13:29:07.446Z"
      },
      {
        "duration": 390,
        "start_time": "2021-12-19T13:29:31.023Z"
      },
      {
        "duration": 33,
        "start_time": "2021-12-19T13:30:36.875Z"
      },
      {
        "duration": 20,
        "start_time": "2021-12-19T13:31:01.042Z"
      },
      {
        "duration": 4,
        "start_time": "2021-12-19T13:31:53.794Z"
      },
      {
        "duration": 6,
        "start_time": "2021-12-19T13:32:31.927Z"
      },
      {
        "duration": 9,
        "start_time": "2021-12-19T13:32:46.429Z"
      },
      {
        "duration": 7,
        "start_time": "2021-12-19T13:32:49.912Z"
      },
      {
        "duration": 12,
        "start_time": "2021-12-19T13:32:52.209Z"
      },
      {
        "duration": 6,
        "start_time": "2021-12-19T13:32:53.616Z"
      },
      {
        "duration": 7,
        "start_time": "2021-12-19T13:33:08.024Z"
      },
      {
        "duration": 9,
        "start_time": "2021-12-19T13:33:09.890Z"
      },
      {
        "duration": 6,
        "start_time": "2021-12-19T13:33:11.167Z"
      },
      {
        "duration": 7,
        "start_time": "2021-12-19T13:33:26.311Z"
      },
      {
        "duration": 8,
        "start_time": "2021-12-19T13:33:27.524Z"
      },
      {
        "duration": 4,
        "start_time": "2021-12-19T13:33:28.782Z"
      },
      {
        "duration": 7,
        "start_time": "2021-12-19T13:33:36.938Z"
      },
      {
        "duration": 11,
        "start_time": "2021-12-19T13:33:38.393Z"
      },
      {
        "duration": 8,
        "start_time": "2021-12-19T13:33:39.528Z"
      },
      {
        "duration": 5,
        "start_time": "2021-12-19T13:33:40.724Z"
      },
      {
        "duration": 5,
        "start_time": "2021-12-19T13:33:47.083Z"
      },
      {
        "duration": 324,
        "start_time": "2021-12-19T13:33:47.090Z"
      },
      {
        "duration": 42,
        "start_time": "2021-12-19T13:33:47.417Z"
      },
      {
        "duration": 23,
        "start_time": "2021-12-19T13:33:47.462Z"
      },
      {
        "duration": 426,
        "start_time": "2021-12-19T13:33:47.489Z"
      },
      {
        "duration": 422,
        "start_time": "2021-12-19T13:34:55.560Z"
      },
      {
        "duration": 10,
        "start_time": "2021-12-19T13:35:47.185Z"
      },
      {
        "duration": 8,
        "start_time": "2021-12-19T13:36:53.416Z"
      },
      {
        "duration": 7,
        "start_time": "2021-12-19T13:37:39.864Z"
      },
      {
        "duration": 42,
        "start_time": "2021-12-19T13:43:58.596Z"
      },
      {
        "duration": 9,
        "start_time": "2021-12-19T13:44:45.055Z"
      },
      {
        "duration": 7,
        "start_time": "2021-12-19T13:44:53.665Z"
      },
      {
        "duration": 956,
        "start_time": "2021-12-19T13:45:22.945Z"
      },
      {
        "duration": 4,
        "start_time": "2021-12-19T13:45:31.265Z"
      },
      {
        "duration": 42,
        "start_time": "2021-12-19T13:45:31.272Z"
      },
      {
        "duration": 8,
        "start_time": "2021-12-19T13:45:31.318Z"
      },
      {
        "duration": 16,
        "start_time": "2021-12-19T13:45:31.328Z"
      },
      {
        "duration": 14,
        "start_time": "2021-12-19T13:45:31.346Z"
      },
      {
        "duration": 11,
        "start_time": "2021-12-19T13:45:31.363Z"
      },
      {
        "duration": 10,
        "start_time": "2021-12-19T13:45:31.376Z"
      },
      {
        "duration": 951,
        "start_time": "2021-12-19T13:45:31.388Z"
      },
      {
        "duration": 52,
        "start_time": "2021-12-19T13:45:32.342Z"
      },
      {
        "duration": 22,
        "start_time": "2021-12-19T13:45:32.397Z"
      },
      {
        "duration": 42,
        "start_time": "2021-12-19T13:45:32.422Z"
      },
      {
        "duration": 9,
        "start_time": "2021-12-19T13:45:32.467Z"
      },
      {
        "duration": 8,
        "start_time": "2021-12-19T13:45:32.478Z"
      },
      {
        "duration": 306,
        "start_time": "2021-12-19T13:45:50.692Z"
      },
      {
        "duration": 34,
        "start_time": "2021-12-19T13:45:57.304Z"
      },
      {
        "duration": 4,
        "start_time": "2021-12-19T13:46:10.971Z"
      },
      {
        "duration": 32,
        "start_time": "2021-12-19T13:46:10.978Z"
      },
      {
        "duration": 8,
        "start_time": "2021-12-19T13:46:11.018Z"
      },
      {
        "duration": 7,
        "start_time": "2021-12-19T13:46:11.029Z"
      },
      {
        "duration": 25,
        "start_time": "2021-12-19T13:46:11.038Z"
      },
      {
        "duration": 12,
        "start_time": "2021-12-19T13:46:11.065Z"
      },
      {
        "duration": 6,
        "start_time": "2021-12-19T13:46:11.079Z"
      },
      {
        "duration": 333,
        "start_time": "2021-12-19T13:46:11.087Z"
      },
      {
        "duration": 46,
        "start_time": "2021-12-19T13:46:11.424Z"
      },
      {
        "duration": 23,
        "start_time": "2021-12-19T13:46:11.473Z"
      },
      {
        "duration": 9,
        "start_time": "2021-12-19T13:46:11.499Z"
      },
      {
        "duration": 7,
        "start_time": "2021-12-19T13:46:11.511Z"
      },
      {
        "duration": 10,
        "start_time": "2021-12-19T13:46:11.560Z"
      },
      {
        "duration": 1306,
        "start_time": "2021-12-19T13:51:11.396Z"
      },
      {
        "duration": 44,
        "start_time": "2021-12-19T13:51:12.705Z"
      },
      {
        "duration": 15,
        "start_time": "2021-12-19T13:51:12.753Z"
      },
      {
        "duration": 9,
        "start_time": "2021-12-19T13:51:12.772Z"
      },
      {
        "duration": 9,
        "start_time": "2021-12-19T13:51:12.784Z"
      },
      {
        "duration": 11,
        "start_time": "2021-12-19T13:51:12.795Z"
      },
      {
        "duration": 9,
        "start_time": "2021-12-19T13:51:12.809Z"
      },
      {
        "duration": 779,
        "start_time": "2021-12-19T13:51:12.861Z"
      },
      {
        "duration": 56,
        "start_time": "2021-12-19T13:51:13.587Z"
      },
      {
        "duration": 54,
        "start_time": "2021-12-19T13:51:13.590Z"
      },
      {
        "duration": 53,
        "start_time": "2021-12-19T13:51:13.593Z"
      },
      {
        "duration": 50,
        "start_time": "2021-12-19T13:51:13.597Z"
      },
      {
        "duration": 48,
        "start_time": "2021-12-19T13:51:13.600Z"
      },
      {
        "duration": 298,
        "start_time": "2021-12-19T13:51:57.847Z"
      },
      {
        "duration": 1326,
        "start_time": "2021-12-19T13:52:14.164Z"
      },
      {
        "duration": 39,
        "start_time": "2021-12-19T13:52:15.493Z"
      },
      {
        "duration": 8,
        "start_time": "2021-12-19T13:52:15.536Z"
      },
      {
        "duration": 17,
        "start_time": "2021-12-19T13:52:15.546Z"
      },
      {
        "duration": 6,
        "start_time": "2021-12-19T13:52:15.565Z"
      },
      {
        "duration": 8,
        "start_time": "2021-12-19T13:52:15.574Z"
      },
      {
        "duration": 7,
        "start_time": "2021-12-19T13:52:15.584Z"
      },
      {
        "duration": 331,
        "start_time": "2021-12-19T13:52:15.594Z"
      },
      {
        "duration": 52,
        "start_time": "2021-12-19T13:52:15.928Z"
      },
      {
        "duration": 574,
        "start_time": "2021-12-19T13:52:15.983Z"
      },
      {
        "duration": 40,
        "start_time": "2021-12-19T13:52:16.520Z"
      },
      {
        "duration": 32,
        "start_time": "2021-12-19T13:52:16.530Z"
      },
      {
        "duration": 32,
        "start_time": "2021-12-19T13:52:16.533Z"
      },
      {
        "duration": 1309,
        "start_time": "2021-12-19T13:52:35.879Z"
      },
      {
        "duration": 41,
        "start_time": "2021-12-19T13:52:37.190Z"
      },
      {
        "duration": 8,
        "start_time": "2021-12-19T13:52:37.234Z"
      },
      {
        "duration": 16,
        "start_time": "2021-12-19T13:52:37.245Z"
      },
      {
        "duration": 10,
        "start_time": "2021-12-19T13:52:37.263Z"
      },
      {
        "duration": 18,
        "start_time": "2021-12-19T13:52:37.275Z"
      },
      {
        "duration": 22,
        "start_time": "2021-12-19T13:52:37.295Z"
      },
      {
        "duration": 327,
        "start_time": "2021-12-19T13:52:37.320Z"
      },
      {
        "duration": 35,
        "start_time": "2021-12-19T13:52:37.650Z"
      },
      {
        "duration": 23,
        "start_time": "2021-12-19T13:52:37.688Z"
      },
      {
        "duration": 9,
        "start_time": "2021-12-19T13:52:37.713Z"
      },
      {
        "duration": 8,
        "start_time": "2021-12-19T13:52:37.760Z"
      },
      {
        "duration": 8,
        "start_time": "2021-12-19T13:52:37.771Z"
      },
      {
        "duration": 1053,
        "start_time": "2021-12-21T09:00:35.067Z"
      },
      {
        "duration": 129,
        "start_time": "2021-12-21T09:00:36.122Z"
      },
      {
        "duration": 7,
        "start_time": "2021-12-21T09:00:36.253Z"
      },
      {
        "duration": 8,
        "start_time": "2021-12-21T09:00:36.262Z"
      },
      {
        "duration": 8,
        "start_time": "2021-12-21T09:00:36.272Z"
      },
      {
        "duration": 9,
        "start_time": "2021-12-21T09:00:36.282Z"
      },
      {
        "duration": 7,
        "start_time": "2021-12-21T09:00:36.292Z"
      },
      {
        "duration": 187,
        "start_time": "2021-12-21T09:00:36.301Z"
      },
      {
        "duration": 23,
        "start_time": "2021-12-21T09:00:36.490Z"
      },
      {
        "duration": 12,
        "start_time": "2021-12-21T09:00:36.514Z"
      },
      {
        "duration": 6,
        "start_time": "2021-12-21T09:00:36.528Z"
      },
      {
        "duration": 18,
        "start_time": "2021-12-21T09:00:36.536Z"
      },
      {
        "duration": 14,
        "start_time": "2021-12-21T09:00:36.555Z"
      },
      {
        "duration": 5,
        "start_time": "2021-12-21T09:01:08.581Z"
      },
      {
        "duration": 5,
        "start_time": "2021-12-21T09:01:09.518Z"
      },
      {
        "duration": 6,
        "start_time": "2021-12-21T09:01:09.993Z"
      },
      {
        "duration": 4,
        "start_time": "2021-12-21T09:01:10.439Z"
      },
      {
        "duration": 1071,
        "start_time": "2021-12-22T11:33:30.269Z"
      },
      {
        "duration": 4,
        "start_time": "2021-12-22T11:33:33.159Z"
      },
      {
        "duration": 55,
        "start_time": "2021-12-22T11:33:33.168Z"
      },
      {
        "duration": 6,
        "start_time": "2021-12-22T11:33:33.225Z"
      },
      {
        "duration": 14,
        "start_time": "2021-12-22T11:33:33.233Z"
      },
      {
        "duration": 5,
        "start_time": "2021-12-22T11:33:33.250Z"
      },
      {
        "duration": 7,
        "start_time": "2021-12-22T11:33:33.257Z"
      },
      {
        "duration": 5,
        "start_time": "2021-12-22T11:33:33.266Z"
      },
      {
        "duration": 265,
        "start_time": "2021-12-22T11:33:33.273Z"
      },
      {
        "duration": 25,
        "start_time": "2021-12-22T11:33:33.540Z"
      },
      {
        "duration": 13,
        "start_time": "2021-12-22T11:33:33.568Z"
      },
      {
        "duration": 7,
        "start_time": "2021-12-22T11:33:33.606Z"
      },
      {
        "duration": 5,
        "start_time": "2021-12-22T11:33:33.615Z"
      },
      {
        "duration": 9,
        "start_time": "2021-12-22T11:33:33.621Z"
      },
      {
        "duration": 6,
        "start_time": "2021-12-22T11:40:08.451Z"
      },
      {
        "duration": 8,
        "start_time": "2021-12-22T11:43:04.070Z"
      },
      {
        "duration": 1066,
        "start_time": "2021-12-22T11:48:22.293Z"
      },
      {
        "duration": 31,
        "start_time": "2021-12-22T11:48:23.361Z"
      },
      {
        "duration": 8,
        "start_time": "2021-12-22T11:48:23.394Z"
      },
      {
        "duration": 7,
        "start_time": "2021-12-22T11:48:23.404Z"
      },
      {
        "duration": 7,
        "start_time": "2021-12-22T11:48:23.412Z"
      },
      {
        "duration": 10,
        "start_time": "2021-12-22T11:48:23.421Z"
      },
      {
        "duration": 6,
        "start_time": "2021-12-22T11:48:23.432Z"
      },
      {
        "duration": 276,
        "start_time": "2021-12-22T11:48:23.441Z"
      },
      {
        "duration": 24,
        "start_time": "2021-12-22T11:48:23.719Z"
      },
      {
        "duration": 14,
        "start_time": "2021-12-22T11:48:23.745Z"
      },
      {
        "duration": 7,
        "start_time": "2021-12-22T11:48:23.760Z"
      },
      {
        "duration": 41,
        "start_time": "2021-12-22T11:48:23.768Z"
      },
      {
        "duration": 6,
        "start_time": "2021-12-22T11:48:23.810Z"
      },
      {
        "duration": 8,
        "start_time": "2021-12-22T11:48:23.818Z"
      }
    ],
    "kernelspec": {
      "display_name": "Python 3 (ipykernel)",
      "language": "python",
      "name": "python3"
    },
    "language_info": {
      "codemirror_mode": {
        "name": "ipython",
        "version": 3
      },
      "file_extension": ".py",
      "mimetype": "text/x-python",
      "name": "python",
      "nbconvert_exporter": "python",
      "pygments_lexer": "ipython3",
      "version": "3.9.5"
    },
    "toc": {
      "base_numbering": 1,
      "nav_menu": {},
      "number_sections": true,
      "sideBar": true,
      "skip_h1_title": true,
      "title_cell": "Table of Contents",
      "title_sidebar": "Contents",
      "toc_cell": false,
      "toc_position": {
        "height": "calc(100% - 180px)",
        "left": "10px",
        "top": "150px",
        "width": "323.729px"
      },
      "toc_section_display": true,
      "toc_window_display": true
    },
    "colab": {
      "provenance": [],
      "collapsed_sections": [],
      "toc_visible": true
    }
  },
  "nbformat": 4,
  "nbformat_minor": 0
}