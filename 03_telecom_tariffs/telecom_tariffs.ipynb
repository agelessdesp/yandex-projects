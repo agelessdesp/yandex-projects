{
  "cells": [
    {
      "cell_type": "code",
      "source": [
        "from google.colab import drive\n",
        "\n",
        "drive.mount('/content/drive')"
      ],
      "metadata": {
        "colab": {
          "base_uri": "https://localhost:8080/"
        },
        "id": "D4IJsJwNZ-2s",
        "outputId": "8ac91368-9192-47c2-f3b4-ca7338fb2b62"
      },
      "execution_count": 1,
      "outputs": [
        {
          "output_type": "stream",
          "name": "stdout",
          "text": [
            "Mounted at /content/drive\n"
          ]
        }
      ]
    },
    {
      "cell_type": "code",
      "execution_count": 2,
      "metadata": {
        "id": "l1DKUjg8Zciq"
      },
      "outputs": [],
      "source": [
        "#импортируем все необходимые для работы библиотеки\n",
        "\n",
        "import pandas as pd\n",
        "import matplotlib.pyplot as plt\n",
        "from datetime import datetime, date, time\n",
        "import numpy as np\n",
        "import seaborn as sns\n",
        "from scipy import stats as st\n",
        "from math import factorial\n",
        "import math\n",
        "\n",
        "import warnings\n",
        "warnings.filterwarnings('ignore')"
      ]
    },
    {
      "cell_type": "markdown",
      "metadata": {
        "id": "z5NzZoFMZcip"
      },
      "source": [
        "## Изучение данных из файла"
      ]
    },
    {
      "cell_type": "code",
      "execution_count": 3,
      "metadata": {
        "id": "xQfbCpAhZcir"
      },
      "outputs": [],
      "source": [
        "pd.set_option('display.max_columns', 100)"
      ]
    },
    {
      "cell_type": "markdown",
      "metadata": {
        "id": "dQYxZHS4Zcip"
      },
      "source": [
        "### Подготовка к работе"
      ]
    },
    {
      "cell_type": "code",
      "execution_count": 4,
      "metadata": {
        "id": "5VRme_8XZcir"
      },
      "outputs": [],
      "source": [
        "#прочитаем данные из файлов\n",
        "\n",
        "data_calls = pd.read_csv('/content/drive/My Drive/Collab file/calls.csv')\n",
        "data_internet = pd.read_csv('/content/drive/My Drive/Collab file/internet.csv',  index_col=0)\n",
        "data_messages = pd.read_csv('/content/drive/My Drive/Collab file/messages.csv') \n",
        "data_tariffs = pd.read_csv('/content/drive/My Drive/Collab file/tariffs.csv') \n",
        "data_users = pd.read_csv('/content/drive/My Drive/Collab file/users.csv') "
      ]
    },
    {
      "cell_type": "code",
      "source": [
        "def open_data(data):\n",
        "  display(data.head())\n",
        "  print('------------------------')\n",
        "  print('Общая информация')\n",
        "  data.info()\n",
        "  print('------------------------')\n",
        "  print('Описание данных')\n",
        "  display(data.describe())\n",
        "  print('------------------------')\n",
        "  print('Количество дубликатов')\n",
        "  print(data.duplicated().sum())\n",
        "  print('------------------------')\n",
        "  print('Количество пропусков')\n",
        "  display(data.isna().sum())"
      ],
      "metadata": {
        "id": "Oj8KiOhlbzHX"
      },
      "execution_count": 5,
      "outputs": []
    },
    {
      "cell_type": "markdown",
      "metadata": {
        "id": "3rQuB6V9Zcir"
      },
      "source": [
        "### Знакомство с данными о звонках"
      ]
    },
    {
      "cell_type": "code",
      "execution_count": 6,
      "metadata": {
        "scrolled": true,
        "colab": {
          "base_uri": "https://localhost:8080/",
          "height": 957
        },
        "id": "Je53UiNdZcir",
        "outputId": "da51e357-68bb-4779-fc75-26a1b9021aa1"
      },
      "outputs": [
        {
          "output_type": "display_data",
          "data": {
            "text/plain": [
              "       id   call_date  duration  user_id\n",
              "0  1000_0  2018-07-25      0.00     1000\n",
              "1  1000_1  2018-08-17      0.00     1000\n",
              "2  1000_2  2018-06-11      2.85     1000\n",
              "3  1000_3  2018-09-21     13.80     1000\n",
              "4  1000_4  2018-12-15      5.18     1000"
            ],
            "text/html": [
              "\n",
              "  <div id=\"df-792c5629-7a92-4bc1-8bb4-d4838ea09635\">\n",
              "    <div class=\"colab-df-container\">\n",
              "      <div>\n",
              "<style scoped>\n",
              "    .dataframe tbody tr th:only-of-type {\n",
              "        vertical-align: middle;\n",
              "    }\n",
              "\n",
              "    .dataframe tbody tr th {\n",
              "        vertical-align: top;\n",
              "    }\n",
              "\n",
              "    .dataframe thead th {\n",
              "        text-align: right;\n",
              "    }\n",
              "</style>\n",
              "<table border=\"1\" class=\"dataframe\">\n",
              "  <thead>\n",
              "    <tr style=\"text-align: right;\">\n",
              "      <th></th>\n",
              "      <th>id</th>\n",
              "      <th>call_date</th>\n",
              "      <th>duration</th>\n",
              "      <th>user_id</th>\n",
              "    </tr>\n",
              "  </thead>\n",
              "  <tbody>\n",
              "    <tr>\n",
              "      <th>0</th>\n",
              "      <td>1000_0</td>\n",
              "      <td>2018-07-25</td>\n",
              "      <td>0.00</td>\n",
              "      <td>1000</td>\n",
              "    </tr>\n",
              "    <tr>\n",
              "      <th>1</th>\n",
              "      <td>1000_1</td>\n",
              "      <td>2018-08-17</td>\n",
              "      <td>0.00</td>\n",
              "      <td>1000</td>\n",
              "    </tr>\n",
              "    <tr>\n",
              "      <th>2</th>\n",
              "      <td>1000_2</td>\n",
              "      <td>2018-06-11</td>\n",
              "      <td>2.85</td>\n",
              "      <td>1000</td>\n",
              "    </tr>\n",
              "    <tr>\n",
              "      <th>3</th>\n",
              "      <td>1000_3</td>\n",
              "      <td>2018-09-21</td>\n",
              "      <td>13.80</td>\n",
              "      <td>1000</td>\n",
              "    </tr>\n",
              "    <tr>\n",
              "      <th>4</th>\n",
              "      <td>1000_4</td>\n",
              "      <td>2018-12-15</td>\n",
              "      <td>5.18</td>\n",
              "      <td>1000</td>\n",
              "    </tr>\n",
              "  </tbody>\n",
              "</table>\n",
              "</div>\n",
              "      <button class=\"colab-df-convert\" onclick=\"convertToInteractive('df-792c5629-7a92-4bc1-8bb4-d4838ea09635')\"\n",
              "              title=\"Convert this dataframe to an interactive table.\"\n",
              "              style=\"display:none;\">\n",
              "        \n",
              "  <svg xmlns=\"http://www.w3.org/2000/svg\" height=\"24px\"viewBox=\"0 0 24 24\"\n",
              "       width=\"24px\">\n",
              "    <path d=\"M0 0h24v24H0V0z\" fill=\"none\"/>\n",
              "    <path d=\"M18.56 5.44l.94 2.06.94-2.06 2.06-.94-2.06-.94-.94-2.06-.94 2.06-2.06.94zm-11 1L8.5 8.5l.94-2.06 2.06-.94-2.06-.94L8.5 2.5l-.94 2.06-2.06.94zm10 10l.94 2.06.94-2.06 2.06-.94-2.06-.94-.94-2.06-.94 2.06-2.06.94z\"/><path d=\"M17.41 7.96l-1.37-1.37c-.4-.4-.92-.59-1.43-.59-.52 0-1.04.2-1.43.59L10.3 9.45l-7.72 7.72c-.78.78-.78 2.05 0 2.83L4 21.41c.39.39.9.59 1.41.59.51 0 1.02-.2 1.41-.59l7.78-7.78 2.81-2.81c.8-.78.8-2.07 0-2.86zM5.41 20L4 18.59l7.72-7.72 1.47 1.35L5.41 20z\"/>\n",
              "  </svg>\n",
              "      </button>\n",
              "      \n",
              "  <style>\n",
              "    .colab-df-container {\n",
              "      display:flex;\n",
              "      flex-wrap:wrap;\n",
              "      gap: 12px;\n",
              "    }\n",
              "\n",
              "    .colab-df-convert {\n",
              "      background-color: #E8F0FE;\n",
              "      border: none;\n",
              "      border-radius: 50%;\n",
              "      cursor: pointer;\n",
              "      display: none;\n",
              "      fill: #1967D2;\n",
              "      height: 32px;\n",
              "      padding: 0 0 0 0;\n",
              "      width: 32px;\n",
              "    }\n",
              "\n",
              "    .colab-df-convert:hover {\n",
              "      background-color: #E2EBFA;\n",
              "      box-shadow: 0px 1px 2px rgba(60, 64, 67, 0.3), 0px 1px 3px 1px rgba(60, 64, 67, 0.15);\n",
              "      fill: #174EA6;\n",
              "    }\n",
              "\n",
              "    [theme=dark] .colab-df-convert {\n",
              "      background-color: #3B4455;\n",
              "      fill: #D2E3FC;\n",
              "    }\n",
              "\n",
              "    [theme=dark] .colab-df-convert:hover {\n",
              "      background-color: #434B5C;\n",
              "      box-shadow: 0px 1px 3px 1px rgba(0, 0, 0, 0.15);\n",
              "      filter: drop-shadow(0px 1px 2px rgba(0, 0, 0, 0.3));\n",
              "      fill: #FFFFFF;\n",
              "    }\n",
              "  </style>\n",
              "\n",
              "      <script>\n",
              "        const buttonEl =\n",
              "          document.querySelector('#df-792c5629-7a92-4bc1-8bb4-d4838ea09635 button.colab-df-convert');\n",
              "        buttonEl.style.display =\n",
              "          google.colab.kernel.accessAllowed ? 'block' : 'none';\n",
              "\n",
              "        async function convertToInteractive(key) {\n",
              "          const element = document.querySelector('#df-792c5629-7a92-4bc1-8bb4-d4838ea09635');\n",
              "          const dataTable =\n",
              "            await google.colab.kernel.invokeFunction('convertToInteractive',\n",
              "                                                     [key], {});\n",
              "          if (!dataTable) return;\n",
              "\n",
              "          const docLinkHtml = 'Like what you see? Visit the ' +\n",
              "            '<a target=\"_blank\" href=https://colab.research.google.com/notebooks/data_table.ipynb>data table notebook</a>'\n",
              "            + ' to learn more about interactive tables.';\n",
              "          element.innerHTML = '';\n",
              "          dataTable['output_type'] = 'display_data';\n",
              "          await google.colab.output.renderOutput(dataTable, element);\n",
              "          const docLink = document.createElement('div');\n",
              "          docLink.innerHTML = docLinkHtml;\n",
              "          element.appendChild(docLink);\n",
              "        }\n",
              "      </script>\n",
              "    </div>\n",
              "  </div>\n",
              "  "
            ]
          },
          "metadata": {}
        },
        {
          "output_type": "stream",
          "name": "stdout",
          "text": [
            "------------------------\n",
            "Общая информация\n",
            "<class 'pandas.core.frame.DataFrame'>\n",
            "RangeIndex: 202607 entries, 0 to 202606\n",
            "Data columns (total 4 columns):\n",
            " #   Column     Non-Null Count   Dtype  \n",
            "---  ------     --------------   -----  \n",
            " 0   id         202607 non-null  object \n",
            " 1   call_date  202607 non-null  object \n",
            " 2   duration   202607 non-null  float64\n",
            " 3   user_id    202607 non-null  int64  \n",
            "dtypes: float64(1), int64(1), object(2)\n",
            "memory usage: 6.2+ MB\n",
            "------------------------\n",
            "Описание данных\n"
          ]
        },
        {
          "output_type": "display_data",
          "data": {
            "text/plain": [
              "            duration        user_id\n",
              "count  202607.000000  202607.000000\n",
              "mean        6.755887    1253.940619\n",
              "std         5.843365     144.722751\n",
              "min         0.000000    1000.000000\n",
              "25%         1.300000    1126.000000\n",
              "50%         6.000000    1260.000000\n",
              "75%        10.700000    1379.000000\n",
              "max        38.000000    1499.000000"
            ],
            "text/html": [
              "\n",
              "  <div id=\"df-b1aeb034-c546-45a0-a2bd-c925b356f163\">\n",
              "    <div class=\"colab-df-container\">\n",
              "      <div>\n",
              "<style scoped>\n",
              "    .dataframe tbody tr th:only-of-type {\n",
              "        vertical-align: middle;\n",
              "    }\n",
              "\n",
              "    .dataframe tbody tr th {\n",
              "        vertical-align: top;\n",
              "    }\n",
              "\n",
              "    .dataframe thead th {\n",
              "        text-align: right;\n",
              "    }\n",
              "</style>\n",
              "<table border=\"1\" class=\"dataframe\">\n",
              "  <thead>\n",
              "    <tr style=\"text-align: right;\">\n",
              "      <th></th>\n",
              "      <th>duration</th>\n",
              "      <th>user_id</th>\n",
              "    </tr>\n",
              "  </thead>\n",
              "  <tbody>\n",
              "    <tr>\n",
              "      <th>count</th>\n",
              "      <td>202607.000000</td>\n",
              "      <td>202607.000000</td>\n",
              "    </tr>\n",
              "    <tr>\n",
              "      <th>mean</th>\n",
              "      <td>6.755887</td>\n",
              "      <td>1253.940619</td>\n",
              "    </tr>\n",
              "    <tr>\n",
              "      <th>std</th>\n",
              "      <td>5.843365</td>\n",
              "      <td>144.722751</td>\n",
              "    </tr>\n",
              "    <tr>\n",
              "      <th>min</th>\n",
              "      <td>0.000000</td>\n",
              "      <td>1000.000000</td>\n",
              "    </tr>\n",
              "    <tr>\n",
              "      <th>25%</th>\n",
              "      <td>1.300000</td>\n",
              "      <td>1126.000000</td>\n",
              "    </tr>\n",
              "    <tr>\n",
              "      <th>50%</th>\n",
              "      <td>6.000000</td>\n",
              "      <td>1260.000000</td>\n",
              "    </tr>\n",
              "    <tr>\n",
              "      <th>75%</th>\n",
              "      <td>10.700000</td>\n",
              "      <td>1379.000000</td>\n",
              "    </tr>\n",
              "    <tr>\n",
              "      <th>max</th>\n",
              "      <td>38.000000</td>\n",
              "      <td>1499.000000</td>\n",
              "    </tr>\n",
              "  </tbody>\n",
              "</table>\n",
              "</div>\n",
              "      <button class=\"colab-df-convert\" onclick=\"convertToInteractive('df-b1aeb034-c546-45a0-a2bd-c925b356f163')\"\n",
              "              title=\"Convert this dataframe to an interactive table.\"\n",
              "              style=\"display:none;\">\n",
              "        \n",
              "  <svg xmlns=\"http://www.w3.org/2000/svg\" height=\"24px\"viewBox=\"0 0 24 24\"\n",
              "       width=\"24px\">\n",
              "    <path d=\"M0 0h24v24H0V0z\" fill=\"none\"/>\n",
              "    <path d=\"M18.56 5.44l.94 2.06.94-2.06 2.06-.94-2.06-.94-.94-2.06-.94 2.06-2.06.94zm-11 1L8.5 8.5l.94-2.06 2.06-.94-2.06-.94L8.5 2.5l-.94 2.06-2.06.94zm10 10l.94 2.06.94-2.06 2.06-.94-2.06-.94-.94-2.06-.94 2.06-2.06.94z\"/><path d=\"M17.41 7.96l-1.37-1.37c-.4-.4-.92-.59-1.43-.59-.52 0-1.04.2-1.43.59L10.3 9.45l-7.72 7.72c-.78.78-.78 2.05 0 2.83L4 21.41c.39.39.9.59 1.41.59.51 0 1.02-.2 1.41-.59l7.78-7.78 2.81-2.81c.8-.78.8-2.07 0-2.86zM5.41 20L4 18.59l7.72-7.72 1.47 1.35L5.41 20z\"/>\n",
              "  </svg>\n",
              "      </button>\n",
              "      \n",
              "  <style>\n",
              "    .colab-df-container {\n",
              "      display:flex;\n",
              "      flex-wrap:wrap;\n",
              "      gap: 12px;\n",
              "    }\n",
              "\n",
              "    .colab-df-convert {\n",
              "      background-color: #E8F0FE;\n",
              "      border: none;\n",
              "      border-radius: 50%;\n",
              "      cursor: pointer;\n",
              "      display: none;\n",
              "      fill: #1967D2;\n",
              "      height: 32px;\n",
              "      padding: 0 0 0 0;\n",
              "      width: 32px;\n",
              "    }\n",
              "\n",
              "    .colab-df-convert:hover {\n",
              "      background-color: #E2EBFA;\n",
              "      box-shadow: 0px 1px 2px rgba(60, 64, 67, 0.3), 0px 1px 3px 1px rgba(60, 64, 67, 0.15);\n",
              "      fill: #174EA6;\n",
              "    }\n",
              "\n",
              "    [theme=dark] .colab-df-convert {\n",
              "      background-color: #3B4455;\n",
              "      fill: #D2E3FC;\n",
              "    }\n",
              "\n",
              "    [theme=dark] .colab-df-convert:hover {\n",
              "      background-color: #434B5C;\n",
              "      box-shadow: 0px 1px 3px 1px rgba(0, 0, 0, 0.15);\n",
              "      filter: drop-shadow(0px 1px 2px rgba(0, 0, 0, 0.3));\n",
              "      fill: #FFFFFF;\n",
              "    }\n",
              "  </style>\n",
              "\n",
              "      <script>\n",
              "        const buttonEl =\n",
              "          document.querySelector('#df-b1aeb034-c546-45a0-a2bd-c925b356f163 button.colab-df-convert');\n",
              "        buttonEl.style.display =\n",
              "          google.colab.kernel.accessAllowed ? 'block' : 'none';\n",
              "\n",
              "        async function convertToInteractive(key) {\n",
              "          const element = document.querySelector('#df-b1aeb034-c546-45a0-a2bd-c925b356f163');\n",
              "          const dataTable =\n",
              "            await google.colab.kernel.invokeFunction('convertToInteractive',\n",
              "                                                     [key], {});\n",
              "          if (!dataTable) return;\n",
              "\n",
              "          const docLinkHtml = 'Like what you see? Visit the ' +\n",
              "            '<a target=\"_blank\" href=https://colab.research.google.com/notebooks/data_table.ipynb>data table notebook</a>'\n",
              "            + ' to learn more about interactive tables.';\n",
              "          element.innerHTML = '';\n",
              "          dataTable['output_type'] = 'display_data';\n",
              "          await google.colab.output.renderOutput(dataTable, element);\n",
              "          const docLink = document.createElement('div');\n",
              "          docLink.innerHTML = docLinkHtml;\n",
              "          element.appendChild(docLink);\n",
              "        }\n",
              "      </script>\n",
              "    </div>\n",
              "  </div>\n",
              "  "
            ]
          },
          "metadata": {}
        },
        {
          "output_type": "stream",
          "name": "stdout",
          "text": [
            "------------------------\n",
            "Количество дубликатов\n",
            "0\n",
            "------------------------\n",
            "Количество пропусков\n"
          ]
        },
        {
          "output_type": "display_data",
          "data": {
            "text/plain": [
              "id           0\n",
              "call_date    0\n",
              "duration     0\n",
              "user_id      0\n",
              "dtype: int64"
            ]
          },
          "metadata": {}
        }
      ],
      "source": [
        "open_data(data_calls)"
      ]
    },
    {
      "cell_type": "markdown",
      "metadata": {
        "id": "Pm5U_mGPZcis"
      },
      "source": [
        "**Описание данных**\n",
        "\n",
        "- ***id*** — уникальный номер звонка\n",
        "- ***call_date*** — дата звонка\n",
        "- ***duration*** — длительность звонка в минутах\n",
        "- ***user_id*** — идентификатор пользователя, сделавшего звонок"
      ]
    },
    {
      "cell_type": "markdown",
      "metadata": {
        "id": "CrrKXRwEZcis"
      },
      "source": [
        "**Комментарий:**\n",
        "\n",
        "- Наименование столбцов без ошибок, пропущенных значений нет. \n",
        "- Нулевая продолжительность звонка - пропущенный вызов. \n",
        "- Необходимо привести тип данных столбца ***call_date*** к datetime и столбец ***id*** к int (однако сначала необходимо понять, нужен ли нам вообще будет данный столбец). \n",
        "- Длительность звонков небходимо округлить в большую сторону, таким образом и нулевые звонки у нас получатся по 1 минуте."
      ]
    },
    {
      "cell_type": "markdown",
      "metadata": {
        "id": "gTdwgzp7Zcis"
      },
      "source": [
        "### Знакомство с данными об интернет-сессиях"
      ]
    },
    {
      "cell_type": "code",
      "execution_count": 7,
      "metadata": {
        "colab": {
          "base_uri": "https://localhost:8080/",
          "height": 957
        },
        "id": "JHcYyFi6Zcit",
        "outputId": "0e2039d8-c684-4c2e-e744-01d433a7965c"
      },
      "outputs": [
        {
          "output_type": "display_data",
          "data": {
            "text/plain": [
              "       id  mb_used session_date  user_id\n",
              "0  1000_0   112.95   2018-11-25     1000\n",
              "1  1000_1  1052.81   2018-09-07     1000\n",
              "2  1000_2  1197.26   2018-06-25     1000\n",
              "3  1000_3   550.27   2018-08-22     1000\n",
              "4  1000_4   302.56   2018-09-24     1000"
            ],
            "text/html": [
              "\n",
              "  <div id=\"df-8b3ad9c0-7821-47ba-9a80-49769f0d41b1\">\n",
              "    <div class=\"colab-df-container\">\n",
              "      <div>\n",
              "<style scoped>\n",
              "    .dataframe tbody tr th:only-of-type {\n",
              "        vertical-align: middle;\n",
              "    }\n",
              "\n",
              "    .dataframe tbody tr th {\n",
              "        vertical-align: top;\n",
              "    }\n",
              "\n",
              "    .dataframe thead th {\n",
              "        text-align: right;\n",
              "    }\n",
              "</style>\n",
              "<table border=\"1\" class=\"dataframe\">\n",
              "  <thead>\n",
              "    <tr style=\"text-align: right;\">\n",
              "      <th></th>\n",
              "      <th>id</th>\n",
              "      <th>mb_used</th>\n",
              "      <th>session_date</th>\n",
              "      <th>user_id</th>\n",
              "    </tr>\n",
              "  </thead>\n",
              "  <tbody>\n",
              "    <tr>\n",
              "      <th>0</th>\n",
              "      <td>1000_0</td>\n",
              "      <td>112.95</td>\n",
              "      <td>2018-11-25</td>\n",
              "      <td>1000</td>\n",
              "    </tr>\n",
              "    <tr>\n",
              "      <th>1</th>\n",
              "      <td>1000_1</td>\n",
              "      <td>1052.81</td>\n",
              "      <td>2018-09-07</td>\n",
              "      <td>1000</td>\n",
              "    </tr>\n",
              "    <tr>\n",
              "      <th>2</th>\n",
              "      <td>1000_2</td>\n",
              "      <td>1197.26</td>\n",
              "      <td>2018-06-25</td>\n",
              "      <td>1000</td>\n",
              "    </tr>\n",
              "    <tr>\n",
              "      <th>3</th>\n",
              "      <td>1000_3</td>\n",
              "      <td>550.27</td>\n",
              "      <td>2018-08-22</td>\n",
              "      <td>1000</td>\n",
              "    </tr>\n",
              "    <tr>\n",
              "      <th>4</th>\n",
              "      <td>1000_4</td>\n",
              "      <td>302.56</td>\n",
              "      <td>2018-09-24</td>\n",
              "      <td>1000</td>\n",
              "    </tr>\n",
              "  </tbody>\n",
              "</table>\n",
              "</div>\n",
              "      <button class=\"colab-df-convert\" onclick=\"convertToInteractive('df-8b3ad9c0-7821-47ba-9a80-49769f0d41b1')\"\n",
              "              title=\"Convert this dataframe to an interactive table.\"\n",
              "              style=\"display:none;\">\n",
              "        \n",
              "  <svg xmlns=\"http://www.w3.org/2000/svg\" height=\"24px\"viewBox=\"0 0 24 24\"\n",
              "       width=\"24px\">\n",
              "    <path d=\"M0 0h24v24H0V0z\" fill=\"none\"/>\n",
              "    <path d=\"M18.56 5.44l.94 2.06.94-2.06 2.06-.94-2.06-.94-.94-2.06-.94 2.06-2.06.94zm-11 1L8.5 8.5l.94-2.06 2.06-.94-2.06-.94L8.5 2.5l-.94 2.06-2.06.94zm10 10l.94 2.06.94-2.06 2.06-.94-2.06-.94-.94-2.06-.94 2.06-2.06.94z\"/><path d=\"M17.41 7.96l-1.37-1.37c-.4-.4-.92-.59-1.43-.59-.52 0-1.04.2-1.43.59L10.3 9.45l-7.72 7.72c-.78.78-.78 2.05 0 2.83L4 21.41c.39.39.9.59 1.41.59.51 0 1.02-.2 1.41-.59l7.78-7.78 2.81-2.81c.8-.78.8-2.07 0-2.86zM5.41 20L4 18.59l7.72-7.72 1.47 1.35L5.41 20z\"/>\n",
              "  </svg>\n",
              "      </button>\n",
              "      \n",
              "  <style>\n",
              "    .colab-df-container {\n",
              "      display:flex;\n",
              "      flex-wrap:wrap;\n",
              "      gap: 12px;\n",
              "    }\n",
              "\n",
              "    .colab-df-convert {\n",
              "      background-color: #E8F0FE;\n",
              "      border: none;\n",
              "      border-radius: 50%;\n",
              "      cursor: pointer;\n",
              "      display: none;\n",
              "      fill: #1967D2;\n",
              "      height: 32px;\n",
              "      padding: 0 0 0 0;\n",
              "      width: 32px;\n",
              "    }\n",
              "\n",
              "    .colab-df-convert:hover {\n",
              "      background-color: #E2EBFA;\n",
              "      box-shadow: 0px 1px 2px rgba(60, 64, 67, 0.3), 0px 1px 3px 1px rgba(60, 64, 67, 0.15);\n",
              "      fill: #174EA6;\n",
              "    }\n",
              "\n",
              "    [theme=dark] .colab-df-convert {\n",
              "      background-color: #3B4455;\n",
              "      fill: #D2E3FC;\n",
              "    }\n",
              "\n",
              "    [theme=dark] .colab-df-convert:hover {\n",
              "      background-color: #434B5C;\n",
              "      box-shadow: 0px 1px 3px 1px rgba(0, 0, 0, 0.15);\n",
              "      filter: drop-shadow(0px 1px 2px rgba(0, 0, 0, 0.3));\n",
              "      fill: #FFFFFF;\n",
              "    }\n",
              "  </style>\n",
              "\n",
              "      <script>\n",
              "        const buttonEl =\n",
              "          document.querySelector('#df-8b3ad9c0-7821-47ba-9a80-49769f0d41b1 button.colab-df-convert');\n",
              "        buttonEl.style.display =\n",
              "          google.colab.kernel.accessAllowed ? 'block' : 'none';\n",
              "\n",
              "        async function convertToInteractive(key) {\n",
              "          const element = document.querySelector('#df-8b3ad9c0-7821-47ba-9a80-49769f0d41b1');\n",
              "          const dataTable =\n",
              "            await google.colab.kernel.invokeFunction('convertToInteractive',\n",
              "                                                     [key], {});\n",
              "          if (!dataTable) return;\n",
              "\n",
              "          const docLinkHtml = 'Like what you see? Visit the ' +\n",
              "            '<a target=\"_blank\" href=https://colab.research.google.com/notebooks/data_table.ipynb>data table notebook</a>'\n",
              "            + ' to learn more about interactive tables.';\n",
              "          element.innerHTML = '';\n",
              "          dataTable['output_type'] = 'display_data';\n",
              "          await google.colab.output.renderOutput(dataTable, element);\n",
              "          const docLink = document.createElement('div');\n",
              "          docLink.innerHTML = docLinkHtml;\n",
              "          element.appendChild(docLink);\n",
              "        }\n",
              "      </script>\n",
              "    </div>\n",
              "  </div>\n",
              "  "
            ]
          },
          "metadata": {}
        },
        {
          "output_type": "stream",
          "name": "stdout",
          "text": [
            "------------------------\n",
            "Общая информация\n",
            "<class 'pandas.core.frame.DataFrame'>\n",
            "Int64Index: 149396 entries, 0 to 149395\n",
            "Data columns (total 4 columns):\n",
            " #   Column        Non-Null Count   Dtype  \n",
            "---  ------        --------------   -----  \n",
            " 0   id            149396 non-null  object \n",
            " 1   mb_used       149396 non-null  float64\n",
            " 2   session_date  149396 non-null  object \n",
            " 3   user_id       149396 non-null  int64  \n",
            "dtypes: float64(1), int64(1), object(2)\n",
            "memory usage: 5.7+ MB\n",
            "------------------------\n",
            "Описание данных\n"
          ]
        },
        {
          "output_type": "display_data",
          "data": {
            "text/plain": [
              "             mb_used        user_id\n",
              "count  149396.000000  149396.000000\n",
              "mean      370.192426    1252.099842\n",
              "std       278.300951     144.050823\n",
              "min         0.000000    1000.000000\n",
              "25%       138.187500    1130.000000\n",
              "50%       348.015000    1251.000000\n",
              "75%       559.552500    1380.000000\n",
              "max      1724.830000    1499.000000"
            ],
            "text/html": [
              "\n",
              "  <div id=\"df-532cae3b-6bb7-43ca-9387-9e13c58d3b57\">\n",
              "    <div class=\"colab-df-container\">\n",
              "      <div>\n",
              "<style scoped>\n",
              "    .dataframe tbody tr th:only-of-type {\n",
              "        vertical-align: middle;\n",
              "    }\n",
              "\n",
              "    .dataframe tbody tr th {\n",
              "        vertical-align: top;\n",
              "    }\n",
              "\n",
              "    .dataframe thead th {\n",
              "        text-align: right;\n",
              "    }\n",
              "</style>\n",
              "<table border=\"1\" class=\"dataframe\">\n",
              "  <thead>\n",
              "    <tr style=\"text-align: right;\">\n",
              "      <th></th>\n",
              "      <th>mb_used</th>\n",
              "      <th>user_id</th>\n",
              "    </tr>\n",
              "  </thead>\n",
              "  <tbody>\n",
              "    <tr>\n",
              "      <th>count</th>\n",
              "      <td>149396.000000</td>\n",
              "      <td>149396.000000</td>\n",
              "    </tr>\n",
              "    <tr>\n",
              "      <th>mean</th>\n",
              "      <td>370.192426</td>\n",
              "      <td>1252.099842</td>\n",
              "    </tr>\n",
              "    <tr>\n",
              "      <th>std</th>\n",
              "      <td>278.300951</td>\n",
              "      <td>144.050823</td>\n",
              "    </tr>\n",
              "    <tr>\n",
              "      <th>min</th>\n",
              "      <td>0.000000</td>\n",
              "      <td>1000.000000</td>\n",
              "    </tr>\n",
              "    <tr>\n",
              "      <th>25%</th>\n",
              "      <td>138.187500</td>\n",
              "      <td>1130.000000</td>\n",
              "    </tr>\n",
              "    <tr>\n",
              "      <th>50%</th>\n",
              "      <td>348.015000</td>\n",
              "      <td>1251.000000</td>\n",
              "    </tr>\n",
              "    <tr>\n",
              "      <th>75%</th>\n",
              "      <td>559.552500</td>\n",
              "      <td>1380.000000</td>\n",
              "    </tr>\n",
              "    <tr>\n",
              "      <th>max</th>\n",
              "      <td>1724.830000</td>\n",
              "      <td>1499.000000</td>\n",
              "    </tr>\n",
              "  </tbody>\n",
              "</table>\n",
              "</div>\n",
              "      <button class=\"colab-df-convert\" onclick=\"convertToInteractive('df-532cae3b-6bb7-43ca-9387-9e13c58d3b57')\"\n",
              "              title=\"Convert this dataframe to an interactive table.\"\n",
              "              style=\"display:none;\">\n",
              "        \n",
              "  <svg xmlns=\"http://www.w3.org/2000/svg\" height=\"24px\"viewBox=\"0 0 24 24\"\n",
              "       width=\"24px\">\n",
              "    <path d=\"M0 0h24v24H0V0z\" fill=\"none\"/>\n",
              "    <path d=\"M18.56 5.44l.94 2.06.94-2.06 2.06-.94-2.06-.94-.94-2.06-.94 2.06-2.06.94zm-11 1L8.5 8.5l.94-2.06 2.06-.94-2.06-.94L8.5 2.5l-.94 2.06-2.06.94zm10 10l.94 2.06.94-2.06 2.06-.94-2.06-.94-.94-2.06-.94 2.06-2.06.94z\"/><path d=\"M17.41 7.96l-1.37-1.37c-.4-.4-.92-.59-1.43-.59-.52 0-1.04.2-1.43.59L10.3 9.45l-7.72 7.72c-.78.78-.78 2.05 0 2.83L4 21.41c.39.39.9.59 1.41.59.51 0 1.02-.2 1.41-.59l7.78-7.78 2.81-2.81c.8-.78.8-2.07 0-2.86zM5.41 20L4 18.59l7.72-7.72 1.47 1.35L5.41 20z\"/>\n",
              "  </svg>\n",
              "      </button>\n",
              "      \n",
              "  <style>\n",
              "    .colab-df-container {\n",
              "      display:flex;\n",
              "      flex-wrap:wrap;\n",
              "      gap: 12px;\n",
              "    }\n",
              "\n",
              "    .colab-df-convert {\n",
              "      background-color: #E8F0FE;\n",
              "      border: none;\n",
              "      border-radius: 50%;\n",
              "      cursor: pointer;\n",
              "      display: none;\n",
              "      fill: #1967D2;\n",
              "      height: 32px;\n",
              "      padding: 0 0 0 0;\n",
              "      width: 32px;\n",
              "    }\n",
              "\n",
              "    .colab-df-convert:hover {\n",
              "      background-color: #E2EBFA;\n",
              "      box-shadow: 0px 1px 2px rgba(60, 64, 67, 0.3), 0px 1px 3px 1px rgba(60, 64, 67, 0.15);\n",
              "      fill: #174EA6;\n",
              "    }\n",
              "\n",
              "    [theme=dark] .colab-df-convert {\n",
              "      background-color: #3B4455;\n",
              "      fill: #D2E3FC;\n",
              "    }\n",
              "\n",
              "    [theme=dark] .colab-df-convert:hover {\n",
              "      background-color: #434B5C;\n",
              "      box-shadow: 0px 1px 3px 1px rgba(0, 0, 0, 0.15);\n",
              "      filter: drop-shadow(0px 1px 2px rgba(0, 0, 0, 0.3));\n",
              "      fill: #FFFFFF;\n",
              "    }\n",
              "  </style>\n",
              "\n",
              "      <script>\n",
              "        const buttonEl =\n",
              "          document.querySelector('#df-532cae3b-6bb7-43ca-9387-9e13c58d3b57 button.colab-df-convert');\n",
              "        buttonEl.style.display =\n",
              "          google.colab.kernel.accessAllowed ? 'block' : 'none';\n",
              "\n",
              "        async function convertToInteractive(key) {\n",
              "          const element = document.querySelector('#df-532cae3b-6bb7-43ca-9387-9e13c58d3b57');\n",
              "          const dataTable =\n",
              "            await google.colab.kernel.invokeFunction('convertToInteractive',\n",
              "                                                     [key], {});\n",
              "          if (!dataTable) return;\n",
              "\n",
              "          const docLinkHtml = 'Like what you see? Visit the ' +\n",
              "            '<a target=\"_blank\" href=https://colab.research.google.com/notebooks/data_table.ipynb>data table notebook</a>'\n",
              "            + ' to learn more about interactive tables.';\n",
              "          element.innerHTML = '';\n",
              "          dataTable['output_type'] = 'display_data';\n",
              "          await google.colab.output.renderOutput(dataTable, element);\n",
              "          const docLink = document.createElement('div');\n",
              "          docLink.innerHTML = docLinkHtml;\n",
              "          element.appendChild(docLink);\n",
              "        }\n",
              "      </script>\n",
              "    </div>\n",
              "  </div>\n",
              "  "
            ]
          },
          "metadata": {}
        },
        {
          "output_type": "stream",
          "name": "stdout",
          "text": [
            "------------------------\n",
            "Количество дубликатов\n",
            "0\n",
            "------------------------\n",
            "Количество пропусков\n"
          ]
        },
        {
          "output_type": "display_data",
          "data": {
            "text/plain": [
              "id              0\n",
              "mb_used         0\n",
              "session_date    0\n",
              "user_id         0\n",
              "dtype: int64"
            ]
          },
          "metadata": {}
        }
      ],
      "source": [
        "open_data(data_internet)"
      ]
    },
    {
      "cell_type": "markdown",
      "metadata": {
        "id": "IsTIX-1LZcit"
      },
      "source": [
        "**Описание данных**\n",
        "\n",
        "- ***id*** — уникальный номер сессии\n",
        "- ***mb_used*** — объём потраченного за сессию интернет-трафика (в мегабайтах)\n",
        "- ***session_date*** — дата интернет-сессии\n",
        "- ***user_id*** — идентификатор пользователя"
      ]
    },
    {
      "cell_type": "markdown",
      "metadata": {
        "id": "q7GXcpAUZcit"
      },
      "source": [
        "**Комментарий:**\n",
        "\n",
        "- В данной таблице данных меньше, чем в таблице о звонках. \n",
        "- Заголовки нормальные, пропусков внутри таблицы нет. \n",
        "- Столбец ***session_date*** нужно будет привести к типу datetime. \n",
        "- Также я хочу округлить значения в столбце ***mb_used*** до целых и привести к типу данных int."
      ]
    },
    {
      "cell_type": "markdown",
      "metadata": {
        "id": "HlzqimSiZciu"
      },
      "source": [
        "### Знакомство с данными о сообщениях"
      ]
    },
    {
      "cell_type": "code",
      "execution_count": 8,
      "metadata": {
        "colab": {
          "base_uri": "https://localhost:8080/",
          "height": 919
        },
        "id": "PuTaooIvZciu",
        "outputId": "ed71de8b-9acc-4800-bc9c-599ea8e0d48b"
      },
      "outputs": [
        {
          "output_type": "display_data",
          "data": {
            "text/plain": [
              "       id message_date  user_id\n",
              "0  1000_0   2018-06-27     1000\n",
              "1  1000_1   2018-10-08     1000\n",
              "2  1000_2   2018-08-04     1000\n",
              "3  1000_3   2018-06-16     1000\n",
              "4  1000_4   2018-12-05     1000"
            ],
            "text/html": [
              "\n",
              "  <div id=\"df-0d54683b-910d-45bf-9ce1-a8c03eeb9362\">\n",
              "    <div class=\"colab-df-container\">\n",
              "      <div>\n",
              "<style scoped>\n",
              "    .dataframe tbody tr th:only-of-type {\n",
              "        vertical-align: middle;\n",
              "    }\n",
              "\n",
              "    .dataframe tbody tr th {\n",
              "        vertical-align: top;\n",
              "    }\n",
              "\n",
              "    .dataframe thead th {\n",
              "        text-align: right;\n",
              "    }\n",
              "</style>\n",
              "<table border=\"1\" class=\"dataframe\">\n",
              "  <thead>\n",
              "    <tr style=\"text-align: right;\">\n",
              "      <th></th>\n",
              "      <th>id</th>\n",
              "      <th>message_date</th>\n",
              "      <th>user_id</th>\n",
              "    </tr>\n",
              "  </thead>\n",
              "  <tbody>\n",
              "    <tr>\n",
              "      <th>0</th>\n",
              "      <td>1000_0</td>\n",
              "      <td>2018-06-27</td>\n",
              "      <td>1000</td>\n",
              "    </tr>\n",
              "    <tr>\n",
              "      <th>1</th>\n",
              "      <td>1000_1</td>\n",
              "      <td>2018-10-08</td>\n",
              "      <td>1000</td>\n",
              "    </tr>\n",
              "    <tr>\n",
              "      <th>2</th>\n",
              "      <td>1000_2</td>\n",
              "      <td>2018-08-04</td>\n",
              "      <td>1000</td>\n",
              "    </tr>\n",
              "    <tr>\n",
              "      <th>3</th>\n",
              "      <td>1000_3</td>\n",
              "      <td>2018-06-16</td>\n",
              "      <td>1000</td>\n",
              "    </tr>\n",
              "    <tr>\n",
              "      <th>4</th>\n",
              "      <td>1000_4</td>\n",
              "      <td>2018-12-05</td>\n",
              "      <td>1000</td>\n",
              "    </tr>\n",
              "  </tbody>\n",
              "</table>\n",
              "</div>\n",
              "      <button class=\"colab-df-convert\" onclick=\"convertToInteractive('df-0d54683b-910d-45bf-9ce1-a8c03eeb9362')\"\n",
              "              title=\"Convert this dataframe to an interactive table.\"\n",
              "              style=\"display:none;\">\n",
              "        \n",
              "  <svg xmlns=\"http://www.w3.org/2000/svg\" height=\"24px\"viewBox=\"0 0 24 24\"\n",
              "       width=\"24px\">\n",
              "    <path d=\"M0 0h24v24H0V0z\" fill=\"none\"/>\n",
              "    <path d=\"M18.56 5.44l.94 2.06.94-2.06 2.06-.94-2.06-.94-.94-2.06-.94 2.06-2.06.94zm-11 1L8.5 8.5l.94-2.06 2.06-.94-2.06-.94L8.5 2.5l-.94 2.06-2.06.94zm10 10l.94 2.06.94-2.06 2.06-.94-2.06-.94-.94-2.06-.94 2.06-2.06.94z\"/><path d=\"M17.41 7.96l-1.37-1.37c-.4-.4-.92-.59-1.43-.59-.52 0-1.04.2-1.43.59L10.3 9.45l-7.72 7.72c-.78.78-.78 2.05 0 2.83L4 21.41c.39.39.9.59 1.41.59.51 0 1.02-.2 1.41-.59l7.78-7.78 2.81-2.81c.8-.78.8-2.07 0-2.86zM5.41 20L4 18.59l7.72-7.72 1.47 1.35L5.41 20z\"/>\n",
              "  </svg>\n",
              "      </button>\n",
              "      \n",
              "  <style>\n",
              "    .colab-df-container {\n",
              "      display:flex;\n",
              "      flex-wrap:wrap;\n",
              "      gap: 12px;\n",
              "    }\n",
              "\n",
              "    .colab-df-convert {\n",
              "      background-color: #E8F0FE;\n",
              "      border: none;\n",
              "      border-radius: 50%;\n",
              "      cursor: pointer;\n",
              "      display: none;\n",
              "      fill: #1967D2;\n",
              "      height: 32px;\n",
              "      padding: 0 0 0 0;\n",
              "      width: 32px;\n",
              "    }\n",
              "\n",
              "    .colab-df-convert:hover {\n",
              "      background-color: #E2EBFA;\n",
              "      box-shadow: 0px 1px 2px rgba(60, 64, 67, 0.3), 0px 1px 3px 1px rgba(60, 64, 67, 0.15);\n",
              "      fill: #174EA6;\n",
              "    }\n",
              "\n",
              "    [theme=dark] .colab-df-convert {\n",
              "      background-color: #3B4455;\n",
              "      fill: #D2E3FC;\n",
              "    }\n",
              "\n",
              "    [theme=dark] .colab-df-convert:hover {\n",
              "      background-color: #434B5C;\n",
              "      box-shadow: 0px 1px 3px 1px rgba(0, 0, 0, 0.15);\n",
              "      filter: drop-shadow(0px 1px 2px rgba(0, 0, 0, 0.3));\n",
              "      fill: #FFFFFF;\n",
              "    }\n",
              "  </style>\n",
              "\n",
              "      <script>\n",
              "        const buttonEl =\n",
              "          document.querySelector('#df-0d54683b-910d-45bf-9ce1-a8c03eeb9362 button.colab-df-convert');\n",
              "        buttonEl.style.display =\n",
              "          google.colab.kernel.accessAllowed ? 'block' : 'none';\n",
              "\n",
              "        async function convertToInteractive(key) {\n",
              "          const element = document.querySelector('#df-0d54683b-910d-45bf-9ce1-a8c03eeb9362');\n",
              "          const dataTable =\n",
              "            await google.colab.kernel.invokeFunction('convertToInteractive',\n",
              "                                                     [key], {});\n",
              "          if (!dataTable) return;\n",
              "\n",
              "          const docLinkHtml = 'Like what you see? Visit the ' +\n",
              "            '<a target=\"_blank\" href=https://colab.research.google.com/notebooks/data_table.ipynb>data table notebook</a>'\n",
              "            + ' to learn more about interactive tables.';\n",
              "          element.innerHTML = '';\n",
              "          dataTable['output_type'] = 'display_data';\n",
              "          await google.colab.output.renderOutput(dataTable, element);\n",
              "          const docLink = document.createElement('div');\n",
              "          docLink.innerHTML = docLinkHtml;\n",
              "          element.appendChild(docLink);\n",
              "        }\n",
              "      </script>\n",
              "    </div>\n",
              "  </div>\n",
              "  "
            ]
          },
          "metadata": {}
        },
        {
          "output_type": "stream",
          "name": "stdout",
          "text": [
            "------------------------\n",
            "Общая информация\n",
            "<class 'pandas.core.frame.DataFrame'>\n",
            "RangeIndex: 123036 entries, 0 to 123035\n",
            "Data columns (total 3 columns):\n",
            " #   Column        Non-Null Count   Dtype \n",
            "---  ------        --------------   ----- \n",
            " 0   id            123036 non-null  object\n",
            " 1   message_date  123036 non-null  object\n",
            " 2   user_id       123036 non-null  int64 \n",
            "dtypes: int64(1), object(2)\n",
            "memory usage: 2.8+ MB\n",
            "------------------------\n",
            "Описание данных\n"
          ]
        },
        {
          "output_type": "display_data",
          "data": {
            "text/plain": [
              "             user_id\n",
              "count  123036.000000\n",
              "mean     1256.989410\n",
              "std       143.523967\n",
              "min      1000.000000\n",
              "25%      1134.000000\n",
              "50%      1271.000000\n",
              "75%      1381.000000\n",
              "max      1499.000000"
            ],
            "text/html": [
              "\n",
              "  <div id=\"df-08cb897e-5aba-4caa-83fc-a91f028a4379\">\n",
              "    <div class=\"colab-df-container\">\n",
              "      <div>\n",
              "<style scoped>\n",
              "    .dataframe tbody tr th:only-of-type {\n",
              "        vertical-align: middle;\n",
              "    }\n",
              "\n",
              "    .dataframe tbody tr th {\n",
              "        vertical-align: top;\n",
              "    }\n",
              "\n",
              "    .dataframe thead th {\n",
              "        text-align: right;\n",
              "    }\n",
              "</style>\n",
              "<table border=\"1\" class=\"dataframe\">\n",
              "  <thead>\n",
              "    <tr style=\"text-align: right;\">\n",
              "      <th></th>\n",
              "      <th>user_id</th>\n",
              "    </tr>\n",
              "  </thead>\n",
              "  <tbody>\n",
              "    <tr>\n",
              "      <th>count</th>\n",
              "      <td>123036.000000</td>\n",
              "    </tr>\n",
              "    <tr>\n",
              "      <th>mean</th>\n",
              "      <td>1256.989410</td>\n",
              "    </tr>\n",
              "    <tr>\n",
              "      <th>std</th>\n",
              "      <td>143.523967</td>\n",
              "    </tr>\n",
              "    <tr>\n",
              "      <th>min</th>\n",
              "      <td>1000.000000</td>\n",
              "    </tr>\n",
              "    <tr>\n",
              "      <th>25%</th>\n",
              "      <td>1134.000000</td>\n",
              "    </tr>\n",
              "    <tr>\n",
              "      <th>50%</th>\n",
              "      <td>1271.000000</td>\n",
              "    </tr>\n",
              "    <tr>\n",
              "      <th>75%</th>\n",
              "      <td>1381.000000</td>\n",
              "    </tr>\n",
              "    <tr>\n",
              "      <th>max</th>\n",
              "      <td>1499.000000</td>\n",
              "    </tr>\n",
              "  </tbody>\n",
              "</table>\n",
              "</div>\n",
              "      <button class=\"colab-df-convert\" onclick=\"convertToInteractive('df-08cb897e-5aba-4caa-83fc-a91f028a4379')\"\n",
              "              title=\"Convert this dataframe to an interactive table.\"\n",
              "              style=\"display:none;\">\n",
              "        \n",
              "  <svg xmlns=\"http://www.w3.org/2000/svg\" height=\"24px\"viewBox=\"0 0 24 24\"\n",
              "       width=\"24px\">\n",
              "    <path d=\"M0 0h24v24H0V0z\" fill=\"none\"/>\n",
              "    <path d=\"M18.56 5.44l.94 2.06.94-2.06 2.06-.94-2.06-.94-.94-2.06-.94 2.06-2.06.94zm-11 1L8.5 8.5l.94-2.06 2.06-.94-2.06-.94L8.5 2.5l-.94 2.06-2.06.94zm10 10l.94 2.06.94-2.06 2.06-.94-2.06-.94-.94-2.06-.94 2.06-2.06.94z\"/><path d=\"M17.41 7.96l-1.37-1.37c-.4-.4-.92-.59-1.43-.59-.52 0-1.04.2-1.43.59L10.3 9.45l-7.72 7.72c-.78.78-.78 2.05 0 2.83L4 21.41c.39.39.9.59 1.41.59.51 0 1.02-.2 1.41-.59l7.78-7.78 2.81-2.81c.8-.78.8-2.07 0-2.86zM5.41 20L4 18.59l7.72-7.72 1.47 1.35L5.41 20z\"/>\n",
              "  </svg>\n",
              "      </button>\n",
              "      \n",
              "  <style>\n",
              "    .colab-df-container {\n",
              "      display:flex;\n",
              "      flex-wrap:wrap;\n",
              "      gap: 12px;\n",
              "    }\n",
              "\n",
              "    .colab-df-convert {\n",
              "      background-color: #E8F0FE;\n",
              "      border: none;\n",
              "      border-radius: 50%;\n",
              "      cursor: pointer;\n",
              "      display: none;\n",
              "      fill: #1967D2;\n",
              "      height: 32px;\n",
              "      padding: 0 0 0 0;\n",
              "      width: 32px;\n",
              "    }\n",
              "\n",
              "    .colab-df-convert:hover {\n",
              "      background-color: #E2EBFA;\n",
              "      box-shadow: 0px 1px 2px rgba(60, 64, 67, 0.3), 0px 1px 3px 1px rgba(60, 64, 67, 0.15);\n",
              "      fill: #174EA6;\n",
              "    }\n",
              "\n",
              "    [theme=dark] .colab-df-convert {\n",
              "      background-color: #3B4455;\n",
              "      fill: #D2E3FC;\n",
              "    }\n",
              "\n",
              "    [theme=dark] .colab-df-convert:hover {\n",
              "      background-color: #434B5C;\n",
              "      box-shadow: 0px 1px 3px 1px rgba(0, 0, 0, 0.15);\n",
              "      filter: drop-shadow(0px 1px 2px rgba(0, 0, 0, 0.3));\n",
              "      fill: #FFFFFF;\n",
              "    }\n",
              "  </style>\n",
              "\n",
              "      <script>\n",
              "        const buttonEl =\n",
              "          document.querySelector('#df-08cb897e-5aba-4caa-83fc-a91f028a4379 button.colab-df-convert');\n",
              "        buttonEl.style.display =\n",
              "          google.colab.kernel.accessAllowed ? 'block' : 'none';\n",
              "\n",
              "        async function convertToInteractive(key) {\n",
              "          const element = document.querySelector('#df-08cb897e-5aba-4caa-83fc-a91f028a4379');\n",
              "          const dataTable =\n",
              "            await google.colab.kernel.invokeFunction('convertToInteractive',\n",
              "                                                     [key], {});\n",
              "          if (!dataTable) return;\n",
              "\n",
              "          const docLinkHtml = 'Like what you see? Visit the ' +\n",
              "            '<a target=\"_blank\" href=https://colab.research.google.com/notebooks/data_table.ipynb>data table notebook</a>'\n",
              "            + ' to learn more about interactive tables.';\n",
              "          element.innerHTML = '';\n",
              "          dataTable['output_type'] = 'display_data';\n",
              "          await google.colab.output.renderOutput(dataTable, element);\n",
              "          const docLink = document.createElement('div');\n",
              "          docLink.innerHTML = docLinkHtml;\n",
              "          element.appendChild(docLink);\n",
              "        }\n",
              "      </script>\n",
              "    </div>\n",
              "  </div>\n",
              "  "
            ]
          },
          "metadata": {}
        },
        {
          "output_type": "stream",
          "name": "stdout",
          "text": [
            "------------------------\n",
            "Количество дубликатов\n",
            "0\n",
            "------------------------\n",
            "Количество пропусков\n"
          ]
        },
        {
          "output_type": "display_data",
          "data": {
            "text/plain": [
              "id              0\n",
              "message_date    0\n",
              "user_id         0\n",
              "dtype: int64"
            ]
          },
          "metadata": {}
        }
      ],
      "source": [
        "open_data(data_messages)"
      ]
    },
    {
      "cell_type": "markdown",
      "metadata": {
        "id": "fvjqJs83Zciu"
      },
      "source": [
        "**Описание данных**\n",
        "\n",
        "- ***id*** — уникальный номер сообщения\n",
        "- ***message_date*** — дата сообщения\n",
        "- ***user_id*** — идентификатор пользователя, отправившего сообщение"
      ]
    },
    {
      "cell_type": "markdown",
      "metadata": {
        "id": "8KWzL4ocZciu"
      },
      "source": [
        "**Комментарий:**\n",
        "\n",
        "- Таблица также выглядит нормально, значений меньше, чем в предыдущих двух таблицах, пропусков нет. \n",
        "- Столбец ***message_date*** нужно будет привести к типу datetime."
      ]
    },
    {
      "cell_type": "markdown",
      "metadata": {
        "id": "PbdbC3z3Zciu"
      },
      "source": [
        "### Знакомство с данными о тарифах"
      ]
    },
    {
      "cell_type": "code",
      "execution_count": 9,
      "metadata": {
        "colab": {
          "base_uri": "https://localhost:8080/",
          "height": 1000
        },
        "id": "Mr6WsTwNZciu",
        "outputId": "952adaac-e4a2-4f68-f2f0-c4ae84150871"
      },
      "outputs": [
        {
          "output_type": "display_data",
          "data": {
            "text/plain": [
              "   messages_included  mb_per_month_included  minutes_included  \\\n",
              "0                 50                  15360               500   \n",
              "1               1000                  30720              3000   \n",
              "\n",
              "   rub_monthly_fee  rub_per_gb  rub_per_message  rub_per_minute tariff_name  \n",
              "0              550         200                3               3       smart  \n",
              "1             1950         150                1               1       ultra  "
            ],
            "text/html": [
              "\n",
              "  <div id=\"df-60f4e223-cf9a-4a92-b967-416708dbd961\">\n",
              "    <div class=\"colab-df-container\">\n",
              "      <div>\n",
              "<style scoped>\n",
              "    .dataframe tbody tr th:only-of-type {\n",
              "        vertical-align: middle;\n",
              "    }\n",
              "\n",
              "    .dataframe tbody tr th {\n",
              "        vertical-align: top;\n",
              "    }\n",
              "\n",
              "    .dataframe thead th {\n",
              "        text-align: right;\n",
              "    }\n",
              "</style>\n",
              "<table border=\"1\" class=\"dataframe\">\n",
              "  <thead>\n",
              "    <tr style=\"text-align: right;\">\n",
              "      <th></th>\n",
              "      <th>messages_included</th>\n",
              "      <th>mb_per_month_included</th>\n",
              "      <th>minutes_included</th>\n",
              "      <th>rub_monthly_fee</th>\n",
              "      <th>rub_per_gb</th>\n",
              "      <th>rub_per_message</th>\n",
              "      <th>rub_per_minute</th>\n",
              "      <th>tariff_name</th>\n",
              "    </tr>\n",
              "  </thead>\n",
              "  <tbody>\n",
              "    <tr>\n",
              "      <th>0</th>\n",
              "      <td>50</td>\n",
              "      <td>15360</td>\n",
              "      <td>500</td>\n",
              "      <td>550</td>\n",
              "      <td>200</td>\n",
              "      <td>3</td>\n",
              "      <td>3</td>\n",
              "      <td>smart</td>\n",
              "    </tr>\n",
              "    <tr>\n",
              "      <th>1</th>\n",
              "      <td>1000</td>\n",
              "      <td>30720</td>\n",
              "      <td>3000</td>\n",
              "      <td>1950</td>\n",
              "      <td>150</td>\n",
              "      <td>1</td>\n",
              "      <td>1</td>\n",
              "      <td>ultra</td>\n",
              "    </tr>\n",
              "  </tbody>\n",
              "</table>\n",
              "</div>\n",
              "      <button class=\"colab-df-convert\" onclick=\"convertToInteractive('df-60f4e223-cf9a-4a92-b967-416708dbd961')\"\n",
              "              title=\"Convert this dataframe to an interactive table.\"\n",
              "              style=\"display:none;\">\n",
              "        \n",
              "  <svg xmlns=\"http://www.w3.org/2000/svg\" height=\"24px\"viewBox=\"0 0 24 24\"\n",
              "       width=\"24px\">\n",
              "    <path d=\"M0 0h24v24H0V0z\" fill=\"none\"/>\n",
              "    <path d=\"M18.56 5.44l.94 2.06.94-2.06 2.06-.94-2.06-.94-.94-2.06-.94 2.06-2.06.94zm-11 1L8.5 8.5l.94-2.06 2.06-.94-2.06-.94L8.5 2.5l-.94 2.06-2.06.94zm10 10l.94 2.06.94-2.06 2.06-.94-2.06-.94-.94-2.06-.94 2.06-2.06.94z\"/><path d=\"M17.41 7.96l-1.37-1.37c-.4-.4-.92-.59-1.43-.59-.52 0-1.04.2-1.43.59L10.3 9.45l-7.72 7.72c-.78.78-.78 2.05 0 2.83L4 21.41c.39.39.9.59 1.41.59.51 0 1.02-.2 1.41-.59l7.78-7.78 2.81-2.81c.8-.78.8-2.07 0-2.86zM5.41 20L4 18.59l7.72-7.72 1.47 1.35L5.41 20z\"/>\n",
              "  </svg>\n",
              "      </button>\n",
              "      \n",
              "  <style>\n",
              "    .colab-df-container {\n",
              "      display:flex;\n",
              "      flex-wrap:wrap;\n",
              "      gap: 12px;\n",
              "    }\n",
              "\n",
              "    .colab-df-convert {\n",
              "      background-color: #E8F0FE;\n",
              "      border: none;\n",
              "      border-radius: 50%;\n",
              "      cursor: pointer;\n",
              "      display: none;\n",
              "      fill: #1967D2;\n",
              "      height: 32px;\n",
              "      padding: 0 0 0 0;\n",
              "      width: 32px;\n",
              "    }\n",
              "\n",
              "    .colab-df-convert:hover {\n",
              "      background-color: #E2EBFA;\n",
              "      box-shadow: 0px 1px 2px rgba(60, 64, 67, 0.3), 0px 1px 3px 1px rgba(60, 64, 67, 0.15);\n",
              "      fill: #174EA6;\n",
              "    }\n",
              "\n",
              "    [theme=dark] .colab-df-convert {\n",
              "      background-color: #3B4455;\n",
              "      fill: #D2E3FC;\n",
              "    }\n",
              "\n",
              "    [theme=dark] .colab-df-convert:hover {\n",
              "      background-color: #434B5C;\n",
              "      box-shadow: 0px 1px 3px 1px rgba(0, 0, 0, 0.15);\n",
              "      filter: drop-shadow(0px 1px 2px rgba(0, 0, 0, 0.3));\n",
              "      fill: #FFFFFF;\n",
              "    }\n",
              "  </style>\n",
              "\n",
              "      <script>\n",
              "        const buttonEl =\n",
              "          document.querySelector('#df-60f4e223-cf9a-4a92-b967-416708dbd961 button.colab-df-convert');\n",
              "        buttonEl.style.display =\n",
              "          google.colab.kernel.accessAllowed ? 'block' : 'none';\n",
              "\n",
              "        async function convertToInteractive(key) {\n",
              "          const element = document.querySelector('#df-60f4e223-cf9a-4a92-b967-416708dbd961');\n",
              "          const dataTable =\n",
              "            await google.colab.kernel.invokeFunction('convertToInteractive',\n",
              "                                                     [key], {});\n",
              "          if (!dataTable) return;\n",
              "\n",
              "          const docLinkHtml = 'Like what you see? Visit the ' +\n",
              "            '<a target=\"_blank\" href=https://colab.research.google.com/notebooks/data_table.ipynb>data table notebook</a>'\n",
              "            + ' to learn more about interactive tables.';\n",
              "          element.innerHTML = '';\n",
              "          dataTable['output_type'] = 'display_data';\n",
              "          await google.colab.output.renderOutput(dataTable, element);\n",
              "          const docLink = document.createElement('div');\n",
              "          docLink.innerHTML = docLinkHtml;\n",
              "          element.appendChild(docLink);\n",
              "        }\n",
              "      </script>\n",
              "    </div>\n",
              "  </div>\n",
              "  "
            ]
          },
          "metadata": {}
        },
        {
          "output_type": "stream",
          "name": "stdout",
          "text": [
            "------------------------\n",
            "Общая информация\n",
            "<class 'pandas.core.frame.DataFrame'>\n",
            "RangeIndex: 2 entries, 0 to 1\n",
            "Data columns (total 8 columns):\n",
            " #   Column                 Non-Null Count  Dtype \n",
            "---  ------                 --------------  ----- \n",
            " 0   messages_included      2 non-null      int64 \n",
            " 1   mb_per_month_included  2 non-null      int64 \n",
            " 2   minutes_included       2 non-null      int64 \n",
            " 3   rub_monthly_fee        2 non-null      int64 \n",
            " 4   rub_per_gb             2 non-null      int64 \n",
            " 5   rub_per_message        2 non-null      int64 \n",
            " 6   rub_per_minute         2 non-null      int64 \n",
            " 7   tariff_name            2 non-null      object\n",
            "dtypes: int64(7), object(1)\n",
            "memory usage: 256.0+ bytes\n",
            "------------------------\n",
            "Описание данных\n"
          ]
        },
        {
          "output_type": "display_data",
          "data": {
            "text/plain": [
              "       messages_included  mb_per_month_included  minutes_included  \\\n",
              "count           2.000000               2.000000          2.000000   \n",
              "mean          525.000000           23040.000000       1750.000000   \n",
              "std           671.751442           10861.160159       1767.766953   \n",
              "min            50.000000           15360.000000        500.000000   \n",
              "25%           287.500000           19200.000000       1125.000000   \n",
              "50%           525.000000           23040.000000       1750.000000   \n",
              "75%           762.500000           26880.000000       2375.000000   \n",
              "max          1000.000000           30720.000000       3000.000000   \n",
              "\n",
              "       rub_monthly_fee  rub_per_gb  rub_per_message  rub_per_minute  \n",
              "count         2.000000    2.000000         2.000000        2.000000  \n",
              "mean       1250.000000  175.000000         2.000000        2.000000  \n",
              "std         989.949494   35.355339         1.414214        1.414214  \n",
              "min         550.000000  150.000000         1.000000        1.000000  \n",
              "25%         900.000000  162.500000         1.500000        1.500000  \n",
              "50%        1250.000000  175.000000         2.000000        2.000000  \n",
              "75%        1600.000000  187.500000         2.500000        2.500000  \n",
              "max        1950.000000  200.000000         3.000000        3.000000  "
            ],
            "text/html": [
              "\n",
              "  <div id=\"df-044920be-5aa2-49f9-80b0-bc4ac995e206\">\n",
              "    <div class=\"colab-df-container\">\n",
              "      <div>\n",
              "<style scoped>\n",
              "    .dataframe tbody tr th:only-of-type {\n",
              "        vertical-align: middle;\n",
              "    }\n",
              "\n",
              "    .dataframe tbody tr th {\n",
              "        vertical-align: top;\n",
              "    }\n",
              "\n",
              "    .dataframe thead th {\n",
              "        text-align: right;\n",
              "    }\n",
              "</style>\n",
              "<table border=\"1\" class=\"dataframe\">\n",
              "  <thead>\n",
              "    <tr style=\"text-align: right;\">\n",
              "      <th></th>\n",
              "      <th>messages_included</th>\n",
              "      <th>mb_per_month_included</th>\n",
              "      <th>minutes_included</th>\n",
              "      <th>rub_monthly_fee</th>\n",
              "      <th>rub_per_gb</th>\n",
              "      <th>rub_per_message</th>\n",
              "      <th>rub_per_minute</th>\n",
              "    </tr>\n",
              "  </thead>\n",
              "  <tbody>\n",
              "    <tr>\n",
              "      <th>count</th>\n",
              "      <td>2.000000</td>\n",
              "      <td>2.000000</td>\n",
              "      <td>2.000000</td>\n",
              "      <td>2.000000</td>\n",
              "      <td>2.000000</td>\n",
              "      <td>2.000000</td>\n",
              "      <td>2.000000</td>\n",
              "    </tr>\n",
              "    <tr>\n",
              "      <th>mean</th>\n",
              "      <td>525.000000</td>\n",
              "      <td>23040.000000</td>\n",
              "      <td>1750.000000</td>\n",
              "      <td>1250.000000</td>\n",
              "      <td>175.000000</td>\n",
              "      <td>2.000000</td>\n",
              "      <td>2.000000</td>\n",
              "    </tr>\n",
              "    <tr>\n",
              "      <th>std</th>\n",
              "      <td>671.751442</td>\n",
              "      <td>10861.160159</td>\n",
              "      <td>1767.766953</td>\n",
              "      <td>989.949494</td>\n",
              "      <td>35.355339</td>\n",
              "      <td>1.414214</td>\n",
              "      <td>1.414214</td>\n",
              "    </tr>\n",
              "    <tr>\n",
              "      <th>min</th>\n",
              "      <td>50.000000</td>\n",
              "      <td>15360.000000</td>\n",
              "      <td>500.000000</td>\n",
              "      <td>550.000000</td>\n",
              "      <td>150.000000</td>\n",
              "      <td>1.000000</td>\n",
              "      <td>1.000000</td>\n",
              "    </tr>\n",
              "    <tr>\n",
              "      <th>25%</th>\n",
              "      <td>287.500000</td>\n",
              "      <td>19200.000000</td>\n",
              "      <td>1125.000000</td>\n",
              "      <td>900.000000</td>\n",
              "      <td>162.500000</td>\n",
              "      <td>1.500000</td>\n",
              "      <td>1.500000</td>\n",
              "    </tr>\n",
              "    <tr>\n",
              "      <th>50%</th>\n",
              "      <td>525.000000</td>\n",
              "      <td>23040.000000</td>\n",
              "      <td>1750.000000</td>\n",
              "      <td>1250.000000</td>\n",
              "      <td>175.000000</td>\n",
              "      <td>2.000000</td>\n",
              "      <td>2.000000</td>\n",
              "    </tr>\n",
              "    <tr>\n",
              "      <th>75%</th>\n",
              "      <td>762.500000</td>\n",
              "      <td>26880.000000</td>\n",
              "      <td>2375.000000</td>\n",
              "      <td>1600.000000</td>\n",
              "      <td>187.500000</td>\n",
              "      <td>2.500000</td>\n",
              "      <td>2.500000</td>\n",
              "    </tr>\n",
              "    <tr>\n",
              "      <th>max</th>\n",
              "      <td>1000.000000</td>\n",
              "      <td>30720.000000</td>\n",
              "      <td>3000.000000</td>\n",
              "      <td>1950.000000</td>\n",
              "      <td>200.000000</td>\n",
              "      <td>3.000000</td>\n",
              "      <td>3.000000</td>\n",
              "    </tr>\n",
              "  </tbody>\n",
              "</table>\n",
              "</div>\n",
              "      <button class=\"colab-df-convert\" onclick=\"convertToInteractive('df-044920be-5aa2-49f9-80b0-bc4ac995e206')\"\n",
              "              title=\"Convert this dataframe to an interactive table.\"\n",
              "              style=\"display:none;\">\n",
              "        \n",
              "  <svg xmlns=\"http://www.w3.org/2000/svg\" height=\"24px\"viewBox=\"0 0 24 24\"\n",
              "       width=\"24px\">\n",
              "    <path d=\"M0 0h24v24H0V0z\" fill=\"none\"/>\n",
              "    <path d=\"M18.56 5.44l.94 2.06.94-2.06 2.06-.94-2.06-.94-.94-2.06-.94 2.06-2.06.94zm-11 1L8.5 8.5l.94-2.06 2.06-.94-2.06-.94L8.5 2.5l-.94 2.06-2.06.94zm10 10l.94 2.06.94-2.06 2.06-.94-2.06-.94-.94-2.06-.94 2.06-2.06.94z\"/><path d=\"M17.41 7.96l-1.37-1.37c-.4-.4-.92-.59-1.43-.59-.52 0-1.04.2-1.43.59L10.3 9.45l-7.72 7.72c-.78.78-.78 2.05 0 2.83L4 21.41c.39.39.9.59 1.41.59.51 0 1.02-.2 1.41-.59l7.78-7.78 2.81-2.81c.8-.78.8-2.07 0-2.86zM5.41 20L4 18.59l7.72-7.72 1.47 1.35L5.41 20z\"/>\n",
              "  </svg>\n",
              "      </button>\n",
              "      \n",
              "  <style>\n",
              "    .colab-df-container {\n",
              "      display:flex;\n",
              "      flex-wrap:wrap;\n",
              "      gap: 12px;\n",
              "    }\n",
              "\n",
              "    .colab-df-convert {\n",
              "      background-color: #E8F0FE;\n",
              "      border: none;\n",
              "      border-radius: 50%;\n",
              "      cursor: pointer;\n",
              "      display: none;\n",
              "      fill: #1967D2;\n",
              "      height: 32px;\n",
              "      padding: 0 0 0 0;\n",
              "      width: 32px;\n",
              "    }\n",
              "\n",
              "    .colab-df-convert:hover {\n",
              "      background-color: #E2EBFA;\n",
              "      box-shadow: 0px 1px 2px rgba(60, 64, 67, 0.3), 0px 1px 3px 1px rgba(60, 64, 67, 0.15);\n",
              "      fill: #174EA6;\n",
              "    }\n",
              "\n",
              "    [theme=dark] .colab-df-convert {\n",
              "      background-color: #3B4455;\n",
              "      fill: #D2E3FC;\n",
              "    }\n",
              "\n",
              "    [theme=dark] .colab-df-convert:hover {\n",
              "      background-color: #434B5C;\n",
              "      box-shadow: 0px 1px 3px 1px rgba(0, 0, 0, 0.15);\n",
              "      filter: drop-shadow(0px 1px 2px rgba(0, 0, 0, 0.3));\n",
              "      fill: #FFFFFF;\n",
              "    }\n",
              "  </style>\n",
              "\n",
              "      <script>\n",
              "        const buttonEl =\n",
              "          document.querySelector('#df-044920be-5aa2-49f9-80b0-bc4ac995e206 button.colab-df-convert');\n",
              "        buttonEl.style.display =\n",
              "          google.colab.kernel.accessAllowed ? 'block' : 'none';\n",
              "\n",
              "        async function convertToInteractive(key) {\n",
              "          const element = document.querySelector('#df-044920be-5aa2-49f9-80b0-bc4ac995e206');\n",
              "          const dataTable =\n",
              "            await google.colab.kernel.invokeFunction('convertToInteractive',\n",
              "                                                     [key], {});\n",
              "          if (!dataTable) return;\n",
              "\n",
              "          const docLinkHtml = 'Like what you see? Visit the ' +\n",
              "            '<a target=\"_blank\" href=https://colab.research.google.com/notebooks/data_table.ipynb>data table notebook</a>'\n",
              "            + ' to learn more about interactive tables.';\n",
              "          element.innerHTML = '';\n",
              "          dataTable['output_type'] = 'display_data';\n",
              "          await google.colab.output.renderOutput(dataTable, element);\n",
              "          const docLink = document.createElement('div');\n",
              "          docLink.innerHTML = docLinkHtml;\n",
              "          element.appendChild(docLink);\n",
              "        }\n",
              "      </script>\n",
              "    </div>\n",
              "  </div>\n",
              "  "
            ]
          },
          "metadata": {}
        },
        {
          "output_type": "stream",
          "name": "stdout",
          "text": [
            "------------------------\n",
            "Количество дубликатов\n",
            "0\n",
            "------------------------\n",
            "Количество пропусков\n"
          ]
        },
        {
          "output_type": "display_data",
          "data": {
            "text/plain": [
              "messages_included        0\n",
              "mb_per_month_included    0\n",
              "minutes_included         0\n",
              "rub_monthly_fee          0\n",
              "rub_per_gb               0\n",
              "rub_per_message          0\n",
              "rub_per_minute           0\n",
              "tariff_name              0\n",
              "dtype: int64"
            ]
          },
          "metadata": {}
        }
      ],
      "source": [
        "open_data(data_tariffs)"
      ]
    },
    {
      "cell_type": "markdown",
      "metadata": {
        "id": "JNDFZHiDZciu"
      },
      "source": [
        "**Описание данных**\n",
        "\n",
        "- ***tariff_name*** — название тарифа\n",
        "- ***rub_monthly_fee*** — ежемесячная абонентская плата в рублях\n",
        "- ***minutes_included*** — количество минут разговора в месяц, включённых в абонентскую плату\n",
        "- ***messages_included*** — количество сообщений в месяц, включённых в абонентскую плату\n",
        "- ***mb_per_month_included*** — объём интернет-трафика, включённого в абонентскую плату (в мегабайтах)\n",
        "- ***rub_per_minute*** — стоимость минуты разговора сверх тарифного пакета (например, если в тарифе 100 минут разговора в месяц, то со 101 минуты будет взиматься плата)\n",
        "- ***rub_per_message*** — стоимость отправки сообщения сверх тарифного пакета\n",
        "- ***rub_per_gb*** — стоимость дополнительного гигабайта интернет-трафика сверх тарифного пакета (1 гигабайт = 1024 мегабайта)"
      ]
    },
    {
      "cell_type": "markdown",
      "metadata": {
        "id": "rkKu9Ie9Zciv"
      },
      "source": [
        "**Комментарий:**\n",
        "\n",
        "Данные выглядят нормально, изменений никаких не требуется."
      ]
    },
    {
      "cell_type": "markdown",
      "metadata": {
        "id": "padXylmUZciv"
      },
      "source": [
        "### Знакомство с данными о пользователях"
      ]
    },
    {
      "cell_type": "code",
      "execution_count": 10,
      "metadata": {
        "colab": {
          "base_uri": "https://localhost:8080/",
          "height": 1000
        },
        "id": "q4ksi5a4Zciv",
        "outputId": "0cba69fb-256d-4be3-baad-0105276b8a10"
      },
      "outputs": [
        {
          "output_type": "display_data",
          "data": {
            "text/plain": [
              "   user_id  age churn_date         city first_name  last_name    reg_date  \\\n",
              "0     1000   52        NaN    Краснодар     Рафаил  Верещагин  2018-05-25   \n",
              "1     1001   41        NaN       Москва       Иван       Ежов  2018-11-01   \n",
              "2     1002   59        NaN  Стерлитамак    Евгений  Абрамович  2018-06-17   \n",
              "3     1003   23        NaN       Москва      Белла   Белякова  2018-08-17   \n",
              "4     1004   68        NaN  Новокузнецк    Татьяна   Авдеенко  2018-05-14   \n",
              "\n",
              "  tariff  \n",
              "0  ultra  \n",
              "1  smart  \n",
              "2  smart  \n",
              "3  ultra  \n",
              "4  ultra  "
            ],
            "text/html": [
              "\n",
              "  <div id=\"df-01fcdcb4-e034-4400-bc32-e4d418bf65c2\">\n",
              "    <div class=\"colab-df-container\">\n",
              "      <div>\n",
              "<style scoped>\n",
              "    .dataframe tbody tr th:only-of-type {\n",
              "        vertical-align: middle;\n",
              "    }\n",
              "\n",
              "    .dataframe tbody tr th {\n",
              "        vertical-align: top;\n",
              "    }\n",
              "\n",
              "    .dataframe thead th {\n",
              "        text-align: right;\n",
              "    }\n",
              "</style>\n",
              "<table border=\"1\" class=\"dataframe\">\n",
              "  <thead>\n",
              "    <tr style=\"text-align: right;\">\n",
              "      <th></th>\n",
              "      <th>user_id</th>\n",
              "      <th>age</th>\n",
              "      <th>churn_date</th>\n",
              "      <th>city</th>\n",
              "      <th>first_name</th>\n",
              "      <th>last_name</th>\n",
              "      <th>reg_date</th>\n",
              "      <th>tariff</th>\n",
              "    </tr>\n",
              "  </thead>\n",
              "  <tbody>\n",
              "    <tr>\n",
              "      <th>0</th>\n",
              "      <td>1000</td>\n",
              "      <td>52</td>\n",
              "      <td>NaN</td>\n",
              "      <td>Краснодар</td>\n",
              "      <td>Рафаил</td>\n",
              "      <td>Верещагин</td>\n",
              "      <td>2018-05-25</td>\n",
              "      <td>ultra</td>\n",
              "    </tr>\n",
              "    <tr>\n",
              "      <th>1</th>\n",
              "      <td>1001</td>\n",
              "      <td>41</td>\n",
              "      <td>NaN</td>\n",
              "      <td>Москва</td>\n",
              "      <td>Иван</td>\n",
              "      <td>Ежов</td>\n",
              "      <td>2018-11-01</td>\n",
              "      <td>smart</td>\n",
              "    </tr>\n",
              "    <tr>\n",
              "      <th>2</th>\n",
              "      <td>1002</td>\n",
              "      <td>59</td>\n",
              "      <td>NaN</td>\n",
              "      <td>Стерлитамак</td>\n",
              "      <td>Евгений</td>\n",
              "      <td>Абрамович</td>\n",
              "      <td>2018-06-17</td>\n",
              "      <td>smart</td>\n",
              "    </tr>\n",
              "    <tr>\n",
              "      <th>3</th>\n",
              "      <td>1003</td>\n",
              "      <td>23</td>\n",
              "      <td>NaN</td>\n",
              "      <td>Москва</td>\n",
              "      <td>Белла</td>\n",
              "      <td>Белякова</td>\n",
              "      <td>2018-08-17</td>\n",
              "      <td>ultra</td>\n",
              "    </tr>\n",
              "    <tr>\n",
              "      <th>4</th>\n",
              "      <td>1004</td>\n",
              "      <td>68</td>\n",
              "      <td>NaN</td>\n",
              "      <td>Новокузнецк</td>\n",
              "      <td>Татьяна</td>\n",
              "      <td>Авдеенко</td>\n",
              "      <td>2018-05-14</td>\n",
              "      <td>ultra</td>\n",
              "    </tr>\n",
              "  </tbody>\n",
              "</table>\n",
              "</div>\n",
              "      <button class=\"colab-df-convert\" onclick=\"convertToInteractive('df-01fcdcb4-e034-4400-bc32-e4d418bf65c2')\"\n",
              "              title=\"Convert this dataframe to an interactive table.\"\n",
              "              style=\"display:none;\">\n",
              "        \n",
              "  <svg xmlns=\"http://www.w3.org/2000/svg\" height=\"24px\"viewBox=\"0 0 24 24\"\n",
              "       width=\"24px\">\n",
              "    <path d=\"M0 0h24v24H0V0z\" fill=\"none\"/>\n",
              "    <path d=\"M18.56 5.44l.94 2.06.94-2.06 2.06-.94-2.06-.94-.94-2.06-.94 2.06-2.06.94zm-11 1L8.5 8.5l.94-2.06 2.06-.94-2.06-.94L8.5 2.5l-.94 2.06-2.06.94zm10 10l.94 2.06.94-2.06 2.06-.94-2.06-.94-.94-2.06-.94 2.06-2.06.94z\"/><path d=\"M17.41 7.96l-1.37-1.37c-.4-.4-.92-.59-1.43-.59-.52 0-1.04.2-1.43.59L10.3 9.45l-7.72 7.72c-.78.78-.78 2.05 0 2.83L4 21.41c.39.39.9.59 1.41.59.51 0 1.02-.2 1.41-.59l7.78-7.78 2.81-2.81c.8-.78.8-2.07 0-2.86zM5.41 20L4 18.59l7.72-7.72 1.47 1.35L5.41 20z\"/>\n",
              "  </svg>\n",
              "      </button>\n",
              "      \n",
              "  <style>\n",
              "    .colab-df-container {\n",
              "      display:flex;\n",
              "      flex-wrap:wrap;\n",
              "      gap: 12px;\n",
              "    }\n",
              "\n",
              "    .colab-df-convert {\n",
              "      background-color: #E8F0FE;\n",
              "      border: none;\n",
              "      border-radius: 50%;\n",
              "      cursor: pointer;\n",
              "      display: none;\n",
              "      fill: #1967D2;\n",
              "      height: 32px;\n",
              "      padding: 0 0 0 0;\n",
              "      width: 32px;\n",
              "    }\n",
              "\n",
              "    .colab-df-convert:hover {\n",
              "      background-color: #E2EBFA;\n",
              "      box-shadow: 0px 1px 2px rgba(60, 64, 67, 0.3), 0px 1px 3px 1px rgba(60, 64, 67, 0.15);\n",
              "      fill: #174EA6;\n",
              "    }\n",
              "\n",
              "    [theme=dark] .colab-df-convert {\n",
              "      background-color: #3B4455;\n",
              "      fill: #D2E3FC;\n",
              "    }\n",
              "\n",
              "    [theme=dark] .colab-df-convert:hover {\n",
              "      background-color: #434B5C;\n",
              "      box-shadow: 0px 1px 3px 1px rgba(0, 0, 0, 0.15);\n",
              "      filter: drop-shadow(0px 1px 2px rgba(0, 0, 0, 0.3));\n",
              "      fill: #FFFFFF;\n",
              "    }\n",
              "  </style>\n",
              "\n",
              "      <script>\n",
              "        const buttonEl =\n",
              "          document.querySelector('#df-01fcdcb4-e034-4400-bc32-e4d418bf65c2 button.colab-df-convert');\n",
              "        buttonEl.style.display =\n",
              "          google.colab.kernel.accessAllowed ? 'block' : 'none';\n",
              "\n",
              "        async function convertToInteractive(key) {\n",
              "          const element = document.querySelector('#df-01fcdcb4-e034-4400-bc32-e4d418bf65c2');\n",
              "          const dataTable =\n",
              "            await google.colab.kernel.invokeFunction('convertToInteractive',\n",
              "                                                     [key], {});\n",
              "          if (!dataTable) return;\n",
              "\n",
              "          const docLinkHtml = 'Like what you see? Visit the ' +\n",
              "            '<a target=\"_blank\" href=https://colab.research.google.com/notebooks/data_table.ipynb>data table notebook</a>'\n",
              "            + ' to learn more about interactive tables.';\n",
              "          element.innerHTML = '';\n",
              "          dataTable['output_type'] = 'display_data';\n",
              "          await google.colab.output.renderOutput(dataTable, element);\n",
              "          const docLink = document.createElement('div');\n",
              "          docLink.innerHTML = docLinkHtml;\n",
              "          element.appendChild(docLink);\n",
              "        }\n",
              "      </script>\n",
              "    </div>\n",
              "  </div>\n",
              "  "
            ]
          },
          "metadata": {}
        },
        {
          "output_type": "stream",
          "name": "stdout",
          "text": [
            "------------------------\n",
            "Общая информация\n",
            "<class 'pandas.core.frame.DataFrame'>\n",
            "RangeIndex: 500 entries, 0 to 499\n",
            "Data columns (total 8 columns):\n",
            " #   Column      Non-Null Count  Dtype \n",
            "---  ------      --------------  ----- \n",
            " 0   user_id     500 non-null    int64 \n",
            " 1   age         500 non-null    int64 \n",
            " 2   churn_date  38 non-null     object\n",
            " 3   city        500 non-null    object\n",
            " 4   first_name  500 non-null    object\n",
            " 5   last_name   500 non-null    object\n",
            " 6   reg_date    500 non-null    object\n",
            " 7   tariff      500 non-null    object\n",
            "dtypes: int64(2), object(6)\n",
            "memory usage: 31.4+ KB\n",
            "------------------------\n",
            "Описание данных\n"
          ]
        },
        {
          "output_type": "display_data",
          "data": {
            "text/plain": [
              "           user_id        age\n",
              "count   500.000000  500.00000\n",
              "mean   1249.500000   46.58800\n",
              "std     144.481833   16.66763\n",
              "min    1000.000000   18.00000\n",
              "25%    1124.750000   32.00000\n",
              "50%    1249.500000   46.00000\n",
              "75%    1374.250000   62.00000\n",
              "max    1499.000000   75.00000"
            ],
            "text/html": [
              "\n",
              "  <div id=\"df-941fc50b-e939-4232-a965-2e1ad963a03f\">\n",
              "    <div class=\"colab-df-container\">\n",
              "      <div>\n",
              "<style scoped>\n",
              "    .dataframe tbody tr th:only-of-type {\n",
              "        vertical-align: middle;\n",
              "    }\n",
              "\n",
              "    .dataframe tbody tr th {\n",
              "        vertical-align: top;\n",
              "    }\n",
              "\n",
              "    .dataframe thead th {\n",
              "        text-align: right;\n",
              "    }\n",
              "</style>\n",
              "<table border=\"1\" class=\"dataframe\">\n",
              "  <thead>\n",
              "    <tr style=\"text-align: right;\">\n",
              "      <th></th>\n",
              "      <th>user_id</th>\n",
              "      <th>age</th>\n",
              "    </tr>\n",
              "  </thead>\n",
              "  <tbody>\n",
              "    <tr>\n",
              "      <th>count</th>\n",
              "      <td>500.000000</td>\n",
              "      <td>500.00000</td>\n",
              "    </tr>\n",
              "    <tr>\n",
              "      <th>mean</th>\n",
              "      <td>1249.500000</td>\n",
              "      <td>46.58800</td>\n",
              "    </tr>\n",
              "    <tr>\n",
              "      <th>std</th>\n",
              "      <td>144.481833</td>\n",
              "      <td>16.66763</td>\n",
              "    </tr>\n",
              "    <tr>\n",
              "      <th>min</th>\n",
              "      <td>1000.000000</td>\n",
              "      <td>18.00000</td>\n",
              "    </tr>\n",
              "    <tr>\n",
              "      <th>25%</th>\n",
              "      <td>1124.750000</td>\n",
              "      <td>32.00000</td>\n",
              "    </tr>\n",
              "    <tr>\n",
              "      <th>50%</th>\n",
              "      <td>1249.500000</td>\n",
              "      <td>46.00000</td>\n",
              "    </tr>\n",
              "    <tr>\n",
              "      <th>75%</th>\n",
              "      <td>1374.250000</td>\n",
              "      <td>62.00000</td>\n",
              "    </tr>\n",
              "    <tr>\n",
              "      <th>max</th>\n",
              "      <td>1499.000000</td>\n",
              "      <td>75.00000</td>\n",
              "    </tr>\n",
              "  </tbody>\n",
              "</table>\n",
              "</div>\n",
              "      <button class=\"colab-df-convert\" onclick=\"convertToInteractive('df-941fc50b-e939-4232-a965-2e1ad963a03f')\"\n",
              "              title=\"Convert this dataframe to an interactive table.\"\n",
              "              style=\"display:none;\">\n",
              "        \n",
              "  <svg xmlns=\"http://www.w3.org/2000/svg\" height=\"24px\"viewBox=\"0 0 24 24\"\n",
              "       width=\"24px\">\n",
              "    <path d=\"M0 0h24v24H0V0z\" fill=\"none\"/>\n",
              "    <path d=\"M18.56 5.44l.94 2.06.94-2.06 2.06-.94-2.06-.94-.94-2.06-.94 2.06-2.06.94zm-11 1L8.5 8.5l.94-2.06 2.06-.94-2.06-.94L8.5 2.5l-.94 2.06-2.06.94zm10 10l.94 2.06.94-2.06 2.06-.94-2.06-.94-.94-2.06-.94 2.06-2.06.94z\"/><path d=\"M17.41 7.96l-1.37-1.37c-.4-.4-.92-.59-1.43-.59-.52 0-1.04.2-1.43.59L10.3 9.45l-7.72 7.72c-.78.78-.78 2.05 0 2.83L4 21.41c.39.39.9.59 1.41.59.51 0 1.02-.2 1.41-.59l7.78-7.78 2.81-2.81c.8-.78.8-2.07 0-2.86zM5.41 20L4 18.59l7.72-7.72 1.47 1.35L5.41 20z\"/>\n",
              "  </svg>\n",
              "      </button>\n",
              "      \n",
              "  <style>\n",
              "    .colab-df-container {\n",
              "      display:flex;\n",
              "      flex-wrap:wrap;\n",
              "      gap: 12px;\n",
              "    }\n",
              "\n",
              "    .colab-df-convert {\n",
              "      background-color: #E8F0FE;\n",
              "      border: none;\n",
              "      border-radius: 50%;\n",
              "      cursor: pointer;\n",
              "      display: none;\n",
              "      fill: #1967D2;\n",
              "      height: 32px;\n",
              "      padding: 0 0 0 0;\n",
              "      width: 32px;\n",
              "    }\n",
              "\n",
              "    .colab-df-convert:hover {\n",
              "      background-color: #E2EBFA;\n",
              "      box-shadow: 0px 1px 2px rgba(60, 64, 67, 0.3), 0px 1px 3px 1px rgba(60, 64, 67, 0.15);\n",
              "      fill: #174EA6;\n",
              "    }\n",
              "\n",
              "    [theme=dark] .colab-df-convert {\n",
              "      background-color: #3B4455;\n",
              "      fill: #D2E3FC;\n",
              "    }\n",
              "\n",
              "    [theme=dark] .colab-df-convert:hover {\n",
              "      background-color: #434B5C;\n",
              "      box-shadow: 0px 1px 3px 1px rgba(0, 0, 0, 0.15);\n",
              "      filter: drop-shadow(0px 1px 2px rgba(0, 0, 0, 0.3));\n",
              "      fill: #FFFFFF;\n",
              "    }\n",
              "  </style>\n",
              "\n",
              "      <script>\n",
              "        const buttonEl =\n",
              "          document.querySelector('#df-941fc50b-e939-4232-a965-2e1ad963a03f button.colab-df-convert');\n",
              "        buttonEl.style.display =\n",
              "          google.colab.kernel.accessAllowed ? 'block' : 'none';\n",
              "\n",
              "        async function convertToInteractive(key) {\n",
              "          const element = document.querySelector('#df-941fc50b-e939-4232-a965-2e1ad963a03f');\n",
              "          const dataTable =\n",
              "            await google.colab.kernel.invokeFunction('convertToInteractive',\n",
              "                                                     [key], {});\n",
              "          if (!dataTable) return;\n",
              "\n",
              "          const docLinkHtml = 'Like what you see? Visit the ' +\n",
              "            '<a target=\"_blank\" href=https://colab.research.google.com/notebooks/data_table.ipynb>data table notebook</a>'\n",
              "            + ' to learn more about interactive tables.';\n",
              "          element.innerHTML = '';\n",
              "          dataTable['output_type'] = 'display_data';\n",
              "          await google.colab.output.renderOutput(dataTable, element);\n",
              "          const docLink = document.createElement('div');\n",
              "          docLink.innerHTML = docLinkHtml;\n",
              "          element.appendChild(docLink);\n",
              "        }\n",
              "      </script>\n",
              "    </div>\n",
              "  </div>\n",
              "  "
            ]
          },
          "metadata": {}
        },
        {
          "output_type": "stream",
          "name": "stdout",
          "text": [
            "------------------------\n",
            "Количество дубликатов\n",
            "0\n",
            "------------------------\n",
            "Количество пропусков\n"
          ]
        },
        {
          "output_type": "display_data",
          "data": {
            "text/plain": [
              "user_id         0\n",
              "age             0\n",
              "churn_date    462\n",
              "city            0\n",
              "first_name      0\n",
              "last_name       0\n",
              "reg_date        0\n",
              "tariff          0\n",
              "dtype: int64"
            ]
          },
          "metadata": {}
        }
      ],
      "source": [
        "open_data(data_users)"
      ]
    },
    {
      "cell_type": "markdown",
      "metadata": {
        "id": "W72kRhmpZciv"
      },
      "source": [
        "**Описание данных**\n",
        "\n",
        "- ***user_id*** — уникальный идентификатор пользователя\n",
        "- ***first_name*** — имя пользователя\n",
        "- ***last_name*** — фамилия пользователя\n",
        "- ***age*** — возраст пользователя (годы)\n",
        "- ***reg_date*** — дата подключения тарифа (день, месяц, год)\n",
        "- ***churn_date*** — дата прекращения пользования тарифом (если значение пропущено, то тариф ещё действовал на момент выгрузки данных)\n",
        "- ***city*** — город проживания пользователя\n",
        "- ***tarif*** — название тарифного плана"
      ]
    },
    {
      "cell_type": "markdown",
      "metadata": {
        "id": "KQWUyFNHZciv"
      },
      "source": [
        "**Комментарий:**\n",
        "\n",
        "- Мы наблюдаем много пропусков в столбце **churn_data** заполнять мы их не будем. \n",
        "- Также необходимо будет привести тип данных в столбце ***reg_date*** и **churn_date** к типу datetime."
      ]
    },
    {
      "cell_type": "markdown",
      "metadata": {
        "id": "F0gn6kxcZciw"
      },
      "source": [
        "## Работа с типом данных и исправление ошибок"
      ]
    },
    {
      "cell_type": "markdown",
      "metadata": {
        "id": "bdEpuA-CZciw"
      },
      "source": [
        "### Таблица со звонками"
      ]
    },
    {
      "cell_type": "code",
      "execution_count": 11,
      "metadata": {
        "colab": {
          "base_uri": "https://localhost:8080/"
        },
        "id": "BplzY1KtZciw",
        "outputId": "4f3956e2-a49a-491d-bede-bd2e7970ab56"
      },
      "outputs": [
        {
          "output_type": "stream",
          "name": "stdout",
          "text": [
            "<class 'pandas.core.frame.DataFrame'>\n",
            "RangeIndex: 202607 entries, 0 to 202606\n",
            "Data columns (total 4 columns):\n",
            " #   Column     Non-Null Count   Dtype         \n",
            "---  ------     --------------   -----         \n",
            " 0   id         202607 non-null  object        \n",
            " 1   call_date  202607 non-null  datetime64[ns]\n",
            " 2   duration   202607 non-null  float64       \n",
            " 3   user_id    202607 non-null  int64         \n",
            "dtypes: datetime64[ns](1), float64(1), int64(1), object(1)\n",
            "memory usage: 6.2+ MB\n"
          ]
        }
      ],
      "source": [
        "#исправим тип данных\n",
        "\n",
        "data_calls['call_date'] = pd.to_datetime(data_calls['call_date'], format='%Y-%m-%d')\n",
        "data_calls.info()"
      ]
    },
    {
      "cell_type": "code",
      "execution_count": 12,
      "metadata": {
        "colab": {
          "base_uri": "https://localhost:8080/",
          "height": 363
        },
        "id": "8_WzygpgZciw",
        "outputId": "30b42581-5e05-49ed-93f2-4edb4c23ddde"
      },
      "outputs": [
        {
          "output_type": "execute_result",
          "data": {
            "text/plain": [
              "       id  call_date  duration  user_id  duration_round\n",
              "0  1000_0 2018-07-25      0.00     1000               0\n",
              "1  1000_1 2018-08-17      0.00     1000               0\n",
              "2  1000_2 2018-06-11      2.85     1000               3\n",
              "3  1000_3 2018-09-21     13.80     1000              14\n",
              "4  1000_4 2018-12-15      5.18     1000               6\n",
              "5  1000_5 2018-11-02      0.00     1000               0\n",
              "6  1000_6 2018-10-18      0.00     1000               0\n",
              "7  1000_7 2018-08-22     18.31     1000              19\n",
              "8  1000_8 2018-09-15     18.44     1000              19\n",
              "9  1000_9 2018-08-15      0.00     1000               0"
            ],
            "text/html": [
              "\n",
              "  <div id=\"df-2d757340-ae12-4be6-83fa-35967b186188\">\n",
              "    <div class=\"colab-df-container\">\n",
              "      <div>\n",
              "<style scoped>\n",
              "    .dataframe tbody tr th:only-of-type {\n",
              "        vertical-align: middle;\n",
              "    }\n",
              "\n",
              "    .dataframe tbody tr th {\n",
              "        vertical-align: top;\n",
              "    }\n",
              "\n",
              "    .dataframe thead th {\n",
              "        text-align: right;\n",
              "    }\n",
              "</style>\n",
              "<table border=\"1\" class=\"dataframe\">\n",
              "  <thead>\n",
              "    <tr style=\"text-align: right;\">\n",
              "      <th></th>\n",
              "      <th>id</th>\n",
              "      <th>call_date</th>\n",
              "      <th>duration</th>\n",
              "      <th>user_id</th>\n",
              "      <th>duration_round</th>\n",
              "    </tr>\n",
              "  </thead>\n",
              "  <tbody>\n",
              "    <tr>\n",
              "      <th>0</th>\n",
              "      <td>1000_0</td>\n",
              "      <td>2018-07-25</td>\n",
              "      <td>0.00</td>\n",
              "      <td>1000</td>\n",
              "      <td>0</td>\n",
              "    </tr>\n",
              "    <tr>\n",
              "      <th>1</th>\n",
              "      <td>1000_1</td>\n",
              "      <td>2018-08-17</td>\n",
              "      <td>0.00</td>\n",
              "      <td>1000</td>\n",
              "      <td>0</td>\n",
              "    </tr>\n",
              "    <tr>\n",
              "      <th>2</th>\n",
              "      <td>1000_2</td>\n",
              "      <td>2018-06-11</td>\n",
              "      <td>2.85</td>\n",
              "      <td>1000</td>\n",
              "      <td>3</td>\n",
              "    </tr>\n",
              "    <tr>\n",
              "      <th>3</th>\n",
              "      <td>1000_3</td>\n",
              "      <td>2018-09-21</td>\n",
              "      <td>13.80</td>\n",
              "      <td>1000</td>\n",
              "      <td>14</td>\n",
              "    </tr>\n",
              "    <tr>\n",
              "      <th>4</th>\n",
              "      <td>1000_4</td>\n",
              "      <td>2018-12-15</td>\n",
              "      <td>5.18</td>\n",
              "      <td>1000</td>\n",
              "      <td>6</td>\n",
              "    </tr>\n",
              "    <tr>\n",
              "      <th>5</th>\n",
              "      <td>1000_5</td>\n",
              "      <td>2018-11-02</td>\n",
              "      <td>0.00</td>\n",
              "      <td>1000</td>\n",
              "      <td>0</td>\n",
              "    </tr>\n",
              "    <tr>\n",
              "      <th>6</th>\n",
              "      <td>1000_6</td>\n",
              "      <td>2018-10-18</td>\n",
              "      <td>0.00</td>\n",
              "      <td>1000</td>\n",
              "      <td>0</td>\n",
              "    </tr>\n",
              "    <tr>\n",
              "      <th>7</th>\n",
              "      <td>1000_7</td>\n",
              "      <td>2018-08-22</td>\n",
              "      <td>18.31</td>\n",
              "      <td>1000</td>\n",
              "      <td>19</td>\n",
              "    </tr>\n",
              "    <tr>\n",
              "      <th>8</th>\n",
              "      <td>1000_8</td>\n",
              "      <td>2018-09-15</td>\n",
              "      <td>18.44</td>\n",
              "      <td>1000</td>\n",
              "      <td>19</td>\n",
              "    </tr>\n",
              "    <tr>\n",
              "      <th>9</th>\n",
              "      <td>1000_9</td>\n",
              "      <td>2018-08-15</td>\n",
              "      <td>0.00</td>\n",
              "      <td>1000</td>\n",
              "      <td>0</td>\n",
              "    </tr>\n",
              "  </tbody>\n",
              "</table>\n",
              "</div>\n",
              "      <button class=\"colab-df-convert\" onclick=\"convertToInteractive('df-2d757340-ae12-4be6-83fa-35967b186188')\"\n",
              "              title=\"Convert this dataframe to an interactive table.\"\n",
              "              style=\"display:none;\">\n",
              "        \n",
              "  <svg xmlns=\"http://www.w3.org/2000/svg\" height=\"24px\"viewBox=\"0 0 24 24\"\n",
              "       width=\"24px\">\n",
              "    <path d=\"M0 0h24v24H0V0z\" fill=\"none\"/>\n",
              "    <path d=\"M18.56 5.44l.94 2.06.94-2.06 2.06-.94-2.06-.94-.94-2.06-.94 2.06-2.06.94zm-11 1L8.5 8.5l.94-2.06 2.06-.94-2.06-.94L8.5 2.5l-.94 2.06-2.06.94zm10 10l.94 2.06.94-2.06 2.06-.94-2.06-.94-.94-2.06-.94 2.06-2.06.94z\"/><path d=\"M17.41 7.96l-1.37-1.37c-.4-.4-.92-.59-1.43-.59-.52 0-1.04.2-1.43.59L10.3 9.45l-7.72 7.72c-.78.78-.78 2.05 0 2.83L4 21.41c.39.39.9.59 1.41.59.51 0 1.02-.2 1.41-.59l7.78-7.78 2.81-2.81c.8-.78.8-2.07 0-2.86zM5.41 20L4 18.59l7.72-7.72 1.47 1.35L5.41 20z\"/>\n",
              "  </svg>\n",
              "      </button>\n",
              "      \n",
              "  <style>\n",
              "    .colab-df-container {\n",
              "      display:flex;\n",
              "      flex-wrap:wrap;\n",
              "      gap: 12px;\n",
              "    }\n",
              "\n",
              "    .colab-df-convert {\n",
              "      background-color: #E8F0FE;\n",
              "      border: none;\n",
              "      border-radius: 50%;\n",
              "      cursor: pointer;\n",
              "      display: none;\n",
              "      fill: #1967D2;\n",
              "      height: 32px;\n",
              "      padding: 0 0 0 0;\n",
              "      width: 32px;\n",
              "    }\n",
              "\n",
              "    .colab-df-convert:hover {\n",
              "      background-color: #E2EBFA;\n",
              "      box-shadow: 0px 1px 2px rgba(60, 64, 67, 0.3), 0px 1px 3px 1px rgba(60, 64, 67, 0.15);\n",
              "      fill: #174EA6;\n",
              "    }\n",
              "\n",
              "    [theme=dark] .colab-df-convert {\n",
              "      background-color: #3B4455;\n",
              "      fill: #D2E3FC;\n",
              "    }\n",
              "\n",
              "    [theme=dark] .colab-df-convert:hover {\n",
              "      background-color: #434B5C;\n",
              "      box-shadow: 0px 1px 3px 1px rgba(0, 0, 0, 0.15);\n",
              "      filter: drop-shadow(0px 1px 2px rgba(0, 0, 0, 0.3));\n",
              "      fill: #FFFFFF;\n",
              "    }\n",
              "  </style>\n",
              "\n",
              "      <script>\n",
              "        const buttonEl =\n",
              "          document.querySelector('#df-2d757340-ae12-4be6-83fa-35967b186188 button.colab-df-convert');\n",
              "        buttonEl.style.display =\n",
              "          google.colab.kernel.accessAllowed ? 'block' : 'none';\n",
              "\n",
              "        async function convertToInteractive(key) {\n",
              "          const element = document.querySelector('#df-2d757340-ae12-4be6-83fa-35967b186188');\n",
              "          const dataTable =\n",
              "            await google.colab.kernel.invokeFunction('convertToInteractive',\n",
              "                                                     [key], {});\n",
              "          if (!dataTable) return;\n",
              "\n",
              "          const docLinkHtml = 'Like what you see? Visit the ' +\n",
              "            '<a target=\"_blank\" href=https://colab.research.google.com/notebooks/data_table.ipynb>data table notebook</a>'\n",
              "            + ' to learn more about interactive tables.';\n",
              "          element.innerHTML = '';\n",
              "          dataTable['output_type'] = 'display_data';\n",
              "          await google.colab.output.renderOutput(dataTable, element);\n",
              "          const docLink = document.createElement('div');\n",
              "          docLink.innerHTML = docLinkHtml;\n",
              "          element.appendChild(docLink);\n",
              "        }\n",
              "      </script>\n",
              "    </div>\n",
              "  </div>\n",
              "  "
            ]
          },
          "metadata": {},
          "execution_count": 12
        }
      ],
      "source": [
        "#округлим длительность звонков до целого\n",
        "\n",
        "data_calls['duration_round'] = np.ceil(data_calls['duration'])\n",
        "data_calls['duration_round'] = data_calls['duration_round'].astype('int')\n",
        "data_calls.head(10)"
      ]
    },
    {
      "cell_type": "code",
      "execution_count": 13,
      "metadata": {
        "colab": {
          "base_uri": "https://localhost:8080/",
          "height": 363
        },
        "id": "Aqa4G6AeZciw",
        "outputId": "6f3a5ae8-2f65-4494-901b-c130ec5aa223"
      },
      "outputs": [
        {
          "output_type": "execute_result",
          "data": {
            "text/plain": [
              "       id  call_date  duration  user_id  duration_round\n",
              "0  1000_0 2018-07-25      0.00     1000               1\n",
              "1  1000_1 2018-08-17      0.00     1000               1\n",
              "2  1000_2 2018-06-11      2.85     1000               3\n",
              "3  1000_3 2018-09-21     13.80     1000              14\n",
              "4  1000_4 2018-12-15      5.18     1000               6\n",
              "5  1000_5 2018-11-02      0.00     1000               1\n",
              "6  1000_6 2018-10-18      0.00     1000               1\n",
              "7  1000_7 2018-08-22     18.31     1000              19\n",
              "8  1000_8 2018-09-15     18.44     1000              19\n",
              "9  1000_9 2018-08-15      0.00     1000               1"
            ],
            "text/html": [
              "\n",
              "  <div id=\"df-8e4fe72e-eb98-4703-94b6-d2e9f4da3e8c\">\n",
              "    <div class=\"colab-df-container\">\n",
              "      <div>\n",
              "<style scoped>\n",
              "    .dataframe tbody tr th:only-of-type {\n",
              "        vertical-align: middle;\n",
              "    }\n",
              "\n",
              "    .dataframe tbody tr th {\n",
              "        vertical-align: top;\n",
              "    }\n",
              "\n",
              "    .dataframe thead th {\n",
              "        text-align: right;\n",
              "    }\n",
              "</style>\n",
              "<table border=\"1\" class=\"dataframe\">\n",
              "  <thead>\n",
              "    <tr style=\"text-align: right;\">\n",
              "      <th></th>\n",
              "      <th>id</th>\n",
              "      <th>call_date</th>\n",
              "      <th>duration</th>\n",
              "      <th>user_id</th>\n",
              "      <th>duration_round</th>\n",
              "    </tr>\n",
              "  </thead>\n",
              "  <tbody>\n",
              "    <tr>\n",
              "      <th>0</th>\n",
              "      <td>1000_0</td>\n",
              "      <td>2018-07-25</td>\n",
              "      <td>0.00</td>\n",
              "      <td>1000</td>\n",
              "      <td>1</td>\n",
              "    </tr>\n",
              "    <tr>\n",
              "      <th>1</th>\n",
              "      <td>1000_1</td>\n",
              "      <td>2018-08-17</td>\n",
              "      <td>0.00</td>\n",
              "      <td>1000</td>\n",
              "      <td>1</td>\n",
              "    </tr>\n",
              "    <tr>\n",
              "      <th>2</th>\n",
              "      <td>1000_2</td>\n",
              "      <td>2018-06-11</td>\n",
              "      <td>2.85</td>\n",
              "      <td>1000</td>\n",
              "      <td>3</td>\n",
              "    </tr>\n",
              "    <tr>\n",
              "      <th>3</th>\n",
              "      <td>1000_3</td>\n",
              "      <td>2018-09-21</td>\n",
              "      <td>13.80</td>\n",
              "      <td>1000</td>\n",
              "      <td>14</td>\n",
              "    </tr>\n",
              "    <tr>\n",
              "      <th>4</th>\n",
              "      <td>1000_4</td>\n",
              "      <td>2018-12-15</td>\n",
              "      <td>5.18</td>\n",
              "      <td>1000</td>\n",
              "      <td>6</td>\n",
              "    </tr>\n",
              "    <tr>\n",
              "      <th>5</th>\n",
              "      <td>1000_5</td>\n",
              "      <td>2018-11-02</td>\n",
              "      <td>0.00</td>\n",
              "      <td>1000</td>\n",
              "      <td>1</td>\n",
              "    </tr>\n",
              "    <tr>\n",
              "      <th>6</th>\n",
              "      <td>1000_6</td>\n",
              "      <td>2018-10-18</td>\n",
              "      <td>0.00</td>\n",
              "      <td>1000</td>\n",
              "      <td>1</td>\n",
              "    </tr>\n",
              "    <tr>\n",
              "      <th>7</th>\n",
              "      <td>1000_7</td>\n",
              "      <td>2018-08-22</td>\n",
              "      <td>18.31</td>\n",
              "      <td>1000</td>\n",
              "      <td>19</td>\n",
              "    </tr>\n",
              "    <tr>\n",
              "      <th>8</th>\n",
              "      <td>1000_8</td>\n",
              "      <td>2018-09-15</td>\n",
              "      <td>18.44</td>\n",
              "      <td>1000</td>\n",
              "      <td>19</td>\n",
              "    </tr>\n",
              "    <tr>\n",
              "      <th>9</th>\n",
              "      <td>1000_9</td>\n",
              "      <td>2018-08-15</td>\n",
              "      <td>0.00</td>\n",
              "      <td>1000</td>\n",
              "      <td>1</td>\n",
              "    </tr>\n",
              "  </tbody>\n",
              "</table>\n",
              "</div>\n",
              "      <button class=\"colab-df-convert\" onclick=\"convertToInteractive('df-8e4fe72e-eb98-4703-94b6-d2e9f4da3e8c')\"\n",
              "              title=\"Convert this dataframe to an interactive table.\"\n",
              "              style=\"display:none;\">\n",
              "        \n",
              "  <svg xmlns=\"http://www.w3.org/2000/svg\" height=\"24px\"viewBox=\"0 0 24 24\"\n",
              "       width=\"24px\">\n",
              "    <path d=\"M0 0h24v24H0V0z\" fill=\"none\"/>\n",
              "    <path d=\"M18.56 5.44l.94 2.06.94-2.06 2.06-.94-2.06-.94-.94-2.06-.94 2.06-2.06.94zm-11 1L8.5 8.5l.94-2.06 2.06-.94-2.06-.94L8.5 2.5l-.94 2.06-2.06.94zm10 10l.94 2.06.94-2.06 2.06-.94-2.06-.94-.94-2.06-.94 2.06-2.06.94z\"/><path d=\"M17.41 7.96l-1.37-1.37c-.4-.4-.92-.59-1.43-.59-.52 0-1.04.2-1.43.59L10.3 9.45l-7.72 7.72c-.78.78-.78 2.05 0 2.83L4 21.41c.39.39.9.59 1.41.59.51 0 1.02-.2 1.41-.59l7.78-7.78 2.81-2.81c.8-.78.8-2.07 0-2.86zM5.41 20L4 18.59l7.72-7.72 1.47 1.35L5.41 20z\"/>\n",
              "  </svg>\n",
              "      </button>\n",
              "      \n",
              "  <style>\n",
              "    .colab-df-container {\n",
              "      display:flex;\n",
              "      flex-wrap:wrap;\n",
              "      gap: 12px;\n",
              "    }\n",
              "\n",
              "    .colab-df-convert {\n",
              "      background-color: #E8F0FE;\n",
              "      border: none;\n",
              "      border-radius: 50%;\n",
              "      cursor: pointer;\n",
              "      display: none;\n",
              "      fill: #1967D2;\n",
              "      height: 32px;\n",
              "      padding: 0 0 0 0;\n",
              "      width: 32px;\n",
              "    }\n",
              "\n",
              "    .colab-df-convert:hover {\n",
              "      background-color: #E2EBFA;\n",
              "      box-shadow: 0px 1px 2px rgba(60, 64, 67, 0.3), 0px 1px 3px 1px rgba(60, 64, 67, 0.15);\n",
              "      fill: #174EA6;\n",
              "    }\n",
              "\n",
              "    [theme=dark] .colab-df-convert {\n",
              "      background-color: #3B4455;\n",
              "      fill: #D2E3FC;\n",
              "    }\n",
              "\n",
              "    [theme=dark] .colab-df-convert:hover {\n",
              "      background-color: #434B5C;\n",
              "      box-shadow: 0px 1px 3px 1px rgba(0, 0, 0, 0.15);\n",
              "      filter: drop-shadow(0px 1px 2px rgba(0, 0, 0, 0.3));\n",
              "      fill: #FFFFFF;\n",
              "    }\n",
              "  </style>\n",
              "\n",
              "      <script>\n",
              "        const buttonEl =\n",
              "          document.querySelector('#df-8e4fe72e-eb98-4703-94b6-d2e9f4da3e8c button.colab-df-convert');\n",
              "        buttonEl.style.display =\n",
              "          google.colab.kernel.accessAllowed ? 'block' : 'none';\n",
              "\n",
              "        async function convertToInteractive(key) {\n",
              "          const element = document.querySelector('#df-8e4fe72e-eb98-4703-94b6-d2e9f4da3e8c');\n",
              "          const dataTable =\n",
              "            await google.colab.kernel.invokeFunction('convertToInteractive',\n",
              "                                                     [key], {});\n",
              "          if (!dataTable) return;\n",
              "\n",
              "          const docLinkHtml = 'Like what you see? Visit the ' +\n",
              "            '<a target=\"_blank\" href=https://colab.research.google.com/notebooks/data_table.ipynb>data table notebook</a>'\n",
              "            + ' to learn more about interactive tables.';\n",
              "          element.innerHTML = '';\n",
              "          dataTable['output_type'] = 'display_data';\n",
              "          await google.colab.output.renderOutput(dataTable, element);\n",
              "          const docLink = document.createElement('div');\n",
              "          docLink.innerHTML = docLinkHtml;\n",
              "          element.appendChild(docLink);\n",
              "        }\n",
              "      </script>\n",
              "    </div>\n",
              "  </div>\n",
              "  "
            ]
          },
          "metadata": {},
          "execution_count": 13
        }
      ],
      "source": [
        "#звонки с нулевой длительностью заменим на 1 минуту\n",
        "\n",
        "data_calls.loc[data_calls['duration_round'] == 0, 'duration_round'] = 1\n",
        "data_calls.head(10)"
      ]
    },
    {
      "cell_type": "markdown",
      "metadata": {
        "id": "n64wzl2PZciw"
      },
      "source": [
        "### Таблица с интернет-сессиями"
      ]
    },
    {
      "cell_type": "code",
      "execution_count": 14,
      "metadata": {
        "scrolled": true,
        "colab": {
          "base_uri": "https://localhost:8080/"
        },
        "id": "EQ4CUt_nZcix",
        "outputId": "7fd75197-b1af-4a71-ca90-6562d43d43ea"
      },
      "outputs": [
        {
          "output_type": "stream",
          "name": "stdout",
          "text": [
            "<class 'pandas.core.frame.DataFrame'>\n",
            "Int64Index: 149396 entries, 0 to 149395\n",
            "Data columns (total 4 columns):\n",
            " #   Column        Non-Null Count   Dtype         \n",
            "---  ------        --------------   -----         \n",
            " 0   id            149396 non-null  object        \n",
            " 1   mb_used       149396 non-null  float64       \n",
            " 2   session_date  149396 non-null  datetime64[ns]\n",
            " 3   user_id       149396 non-null  int64         \n",
            "dtypes: datetime64[ns](1), float64(1), int64(1), object(1)\n",
            "memory usage: 5.7+ MB\n"
          ]
        }
      ],
      "source": [
        "#изменим тип данных\n",
        "\n",
        "data_internet['session_date'] = pd.to_datetime(data_internet['session_date'], format='%Y-%m-%d')\n",
        "data_internet.info()"
      ]
    },
    {
      "cell_type": "code",
      "execution_count": 15,
      "metadata": {
        "colab": {
          "base_uri": "https://localhost:8080/",
          "height": 206
        },
        "id": "Ju1DfvIsZcix",
        "outputId": "1c2bc416-5770-47fa-e316-e0b7c0fd1e19"
      },
      "outputs": [
        {
          "output_type": "execute_result",
          "data": {
            "text/plain": [
              "       id  mb_used session_date  user_id\n",
              "0  1000_0      113   2018-11-25     1000\n",
              "1  1000_1     1053   2018-09-07     1000\n",
              "2  1000_2     1198   2018-06-25     1000\n",
              "3  1000_3      551   2018-08-22     1000\n",
              "4  1000_4      303   2018-09-24     1000"
            ],
            "text/html": [
              "\n",
              "  <div id=\"df-0e9b6ab3-6a11-4f52-8edb-cfbbac1a5a66\">\n",
              "    <div class=\"colab-df-container\">\n",
              "      <div>\n",
              "<style scoped>\n",
              "    .dataframe tbody tr th:only-of-type {\n",
              "        vertical-align: middle;\n",
              "    }\n",
              "\n",
              "    .dataframe tbody tr th {\n",
              "        vertical-align: top;\n",
              "    }\n",
              "\n",
              "    .dataframe thead th {\n",
              "        text-align: right;\n",
              "    }\n",
              "</style>\n",
              "<table border=\"1\" class=\"dataframe\">\n",
              "  <thead>\n",
              "    <tr style=\"text-align: right;\">\n",
              "      <th></th>\n",
              "      <th>id</th>\n",
              "      <th>mb_used</th>\n",
              "      <th>session_date</th>\n",
              "      <th>user_id</th>\n",
              "    </tr>\n",
              "  </thead>\n",
              "  <tbody>\n",
              "    <tr>\n",
              "      <th>0</th>\n",
              "      <td>1000_0</td>\n",
              "      <td>113</td>\n",
              "      <td>2018-11-25</td>\n",
              "      <td>1000</td>\n",
              "    </tr>\n",
              "    <tr>\n",
              "      <th>1</th>\n",
              "      <td>1000_1</td>\n",
              "      <td>1053</td>\n",
              "      <td>2018-09-07</td>\n",
              "      <td>1000</td>\n",
              "    </tr>\n",
              "    <tr>\n",
              "      <th>2</th>\n",
              "      <td>1000_2</td>\n",
              "      <td>1198</td>\n",
              "      <td>2018-06-25</td>\n",
              "      <td>1000</td>\n",
              "    </tr>\n",
              "    <tr>\n",
              "      <th>3</th>\n",
              "      <td>1000_3</td>\n",
              "      <td>551</td>\n",
              "      <td>2018-08-22</td>\n",
              "      <td>1000</td>\n",
              "    </tr>\n",
              "    <tr>\n",
              "      <th>4</th>\n",
              "      <td>1000_4</td>\n",
              "      <td>303</td>\n",
              "      <td>2018-09-24</td>\n",
              "      <td>1000</td>\n",
              "    </tr>\n",
              "  </tbody>\n",
              "</table>\n",
              "</div>\n",
              "      <button class=\"colab-df-convert\" onclick=\"convertToInteractive('df-0e9b6ab3-6a11-4f52-8edb-cfbbac1a5a66')\"\n",
              "              title=\"Convert this dataframe to an interactive table.\"\n",
              "              style=\"display:none;\">\n",
              "        \n",
              "  <svg xmlns=\"http://www.w3.org/2000/svg\" height=\"24px\"viewBox=\"0 0 24 24\"\n",
              "       width=\"24px\">\n",
              "    <path d=\"M0 0h24v24H0V0z\" fill=\"none\"/>\n",
              "    <path d=\"M18.56 5.44l.94 2.06.94-2.06 2.06-.94-2.06-.94-.94-2.06-.94 2.06-2.06.94zm-11 1L8.5 8.5l.94-2.06 2.06-.94-2.06-.94L8.5 2.5l-.94 2.06-2.06.94zm10 10l.94 2.06.94-2.06 2.06-.94-2.06-.94-.94-2.06-.94 2.06-2.06.94z\"/><path d=\"M17.41 7.96l-1.37-1.37c-.4-.4-.92-.59-1.43-.59-.52 0-1.04.2-1.43.59L10.3 9.45l-7.72 7.72c-.78.78-.78 2.05 0 2.83L4 21.41c.39.39.9.59 1.41.59.51 0 1.02-.2 1.41-.59l7.78-7.78 2.81-2.81c.8-.78.8-2.07 0-2.86zM5.41 20L4 18.59l7.72-7.72 1.47 1.35L5.41 20z\"/>\n",
              "  </svg>\n",
              "      </button>\n",
              "      \n",
              "  <style>\n",
              "    .colab-df-container {\n",
              "      display:flex;\n",
              "      flex-wrap:wrap;\n",
              "      gap: 12px;\n",
              "    }\n",
              "\n",
              "    .colab-df-convert {\n",
              "      background-color: #E8F0FE;\n",
              "      border: none;\n",
              "      border-radius: 50%;\n",
              "      cursor: pointer;\n",
              "      display: none;\n",
              "      fill: #1967D2;\n",
              "      height: 32px;\n",
              "      padding: 0 0 0 0;\n",
              "      width: 32px;\n",
              "    }\n",
              "\n",
              "    .colab-df-convert:hover {\n",
              "      background-color: #E2EBFA;\n",
              "      box-shadow: 0px 1px 2px rgba(60, 64, 67, 0.3), 0px 1px 3px 1px rgba(60, 64, 67, 0.15);\n",
              "      fill: #174EA6;\n",
              "    }\n",
              "\n",
              "    [theme=dark] .colab-df-convert {\n",
              "      background-color: #3B4455;\n",
              "      fill: #D2E3FC;\n",
              "    }\n",
              "\n",
              "    [theme=dark] .colab-df-convert:hover {\n",
              "      background-color: #434B5C;\n",
              "      box-shadow: 0px 1px 3px 1px rgba(0, 0, 0, 0.15);\n",
              "      filter: drop-shadow(0px 1px 2px rgba(0, 0, 0, 0.3));\n",
              "      fill: #FFFFFF;\n",
              "    }\n",
              "  </style>\n",
              "\n",
              "      <script>\n",
              "        const buttonEl =\n",
              "          document.querySelector('#df-0e9b6ab3-6a11-4f52-8edb-cfbbac1a5a66 button.colab-df-convert');\n",
              "        buttonEl.style.display =\n",
              "          google.colab.kernel.accessAllowed ? 'block' : 'none';\n",
              "\n",
              "        async function convertToInteractive(key) {\n",
              "          const element = document.querySelector('#df-0e9b6ab3-6a11-4f52-8edb-cfbbac1a5a66');\n",
              "          const dataTable =\n",
              "            await google.colab.kernel.invokeFunction('convertToInteractive',\n",
              "                                                     [key], {});\n",
              "          if (!dataTable) return;\n",
              "\n",
              "          const docLinkHtml = 'Like what you see? Visit the ' +\n",
              "            '<a target=\"_blank\" href=https://colab.research.google.com/notebooks/data_table.ipynb>data table notebook</a>'\n",
              "            + ' to learn more about interactive tables.';\n",
              "          element.innerHTML = '';\n",
              "          dataTable['output_type'] = 'display_data';\n",
              "          await google.colab.output.renderOutput(dataTable, element);\n",
              "          const docLink = document.createElement('div');\n",
              "          docLink.innerHTML = docLinkHtml;\n",
              "          element.appendChild(docLink);\n",
              "        }\n",
              "      </script>\n",
              "    </div>\n",
              "  </div>\n",
              "  "
            ]
          },
          "metadata": {},
          "execution_count": 15
        }
      ],
      "source": [
        "#округлим значения в столбце mb_used до целых в большую сторону\n",
        "\n",
        "data_internet['mb_used'] = data_internet['mb_used'].apply(np.ceil)\n",
        "data_internet['mb_used'] = data_internet['mb_used'].astype('int')\n",
        "data_internet.head(5)"
      ]
    },
    {
      "cell_type": "code",
      "execution_count": 16,
      "metadata": {
        "colab": {
          "base_uri": "https://localhost:8080/"
        },
        "id": "o5U9q782Zcix",
        "outputId": "7089e785-8cae-4d12-a8a9-763145ac75b2"
      },
      "outputs": [
        {
          "output_type": "execute_result",
          "data": {
            "text/plain": [
              "id              19598\n",
              "mb_used         19598\n",
              "session_date    19598\n",
              "user_id         19598\n",
              "dtype: int64"
            ]
          },
          "metadata": {},
          "execution_count": 16
        }
      ],
      "source": [
        "data_internet[data_internet['mb_used'] == 0].count()"
      ]
    },
    {
      "cell_type": "markdown",
      "metadata": {
        "id": "YAPxQ-eXZcix"
      },
      "source": [
        "**Комментарий:**\n",
        "<br>Нулей много, но отдельные интернет-сессии до 1 округлять не будем, так как по-отдельности они не учитываются."
      ]
    },
    {
      "cell_type": "markdown",
      "metadata": {
        "id": "VVgyW3qjZcix"
      },
      "source": [
        "### Таблица с сообщениями"
      ]
    },
    {
      "cell_type": "code",
      "execution_count": 17,
      "metadata": {
        "colab": {
          "base_uri": "https://localhost:8080/"
        },
        "id": "-0IZTPZmZcix",
        "outputId": "cf191612-4a5a-4ebc-fb13-cec246f8f5d5"
      },
      "outputs": [
        {
          "output_type": "stream",
          "name": "stdout",
          "text": [
            "<class 'pandas.core.frame.DataFrame'>\n",
            "RangeIndex: 123036 entries, 0 to 123035\n",
            "Data columns (total 3 columns):\n",
            " #   Column        Non-Null Count   Dtype         \n",
            "---  ------        --------------   -----         \n",
            " 0   id            123036 non-null  object        \n",
            " 1   message_date  123036 non-null  datetime64[ns]\n",
            " 2   user_id       123036 non-null  int64         \n",
            "dtypes: datetime64[ns](1), int64(1), object(1)\n",
            "memory usage: 2.8+ MB\n"
          ]
        }
      ],
      "source": [
        "data_messages['message_date'] = pd.to_datetime(data_messages['message_date'], format='%Y-%m-%d')\n",
        "data_messages.info()"
      ]
    },
    {
      "cell_type": "markdown",
      "metadata": {
        "id": "r-RM65jSZcix"
      },
      "source": [
        "### Таблица с пользователями"
      ]
    },
    {
      "cell_type": "code",
      "execution_count": 18,
      "metadata": {
        "colab": {
          "base_uri": "https://localhost:8080/"
        },
        "id": "izbcrFJtZcix",
        "outputId": "166fe67c-9c75-45a3-a64a-9cc4e200a560"
      },
      "outputs": [
        {
          "output_type": "stream",
          "name": "stdout",
          "text": [
            "<class 'pandas.core.frame.DataFrame'>\n",
            "RangeIndex: 500 entries, 0 to 499\n",
            "Data columns (total 8 columns):\n",
            " #   Column      Non-Null Count  Dtype         \n",
            "---  ------      --------------  -----         \n",
            " 0   user_id     500 non-null    int64         \n",
            " 1   age         500 non-null    int64         \n",
            " 2   churn_date  38 non-null     datetime64[ns]\n",
            " 3   city        500 non-null    object        \n",
            " 4   first_name  500 non-null    object        \n",
            " 5   last_name   500 non-null    object        \n",
            " 6   reg_date    500 non-null    datetime64[ns]\n",
            " 7   tariff      500 non-null    object        \n",
            "dtypes: datetime64[ns](2), int64(2), object(4)\n",
            "memory usage: 31.4+ KB\n"
          ]
        }
      ],
      "source": [
        "data_users['reg_date'] = pd.to_datetime(data_users['reg_date'], format='%Y-%m-%d')\n",
        "data_users['churn_date'] = pd.to_datetime(data_users['churn_date'], format='%Y-%m-%d')\n",
        "data_users.info()"
      ]
    },
    {
      "cell_type": "markdown",
      "metadata": {
        "id": "iR9TLCxmZcix"
      },
      "source": [
        "## Подготовительные рассчёты"
      ]
    },
    {
      "cell_type": "markdown",
      "metadata": {
        "id": "MVwEMqmkZciy"
      },
      "source": [
        "**Задание:**\\\n",
        "Посчитайте для каждого пользователя:\n",
        "* \t\tколичество сделанных звонков и израсходованных минут разговора по месяцам;\n",
        "* \t\tколичество отправленных сообщений по месяцам;\n",
        "* \t\tобъем израсходованного интернет-трафика по месяцам;\n",
        "* \t\tпомесячную выручку с каждого пользователя (вычтите бесплатный лимит из суммарного количества звонков, сообщений и интернет-трафика; остаток умножьте на значение из тарифного плана; прибавьте абонентскую плату, соответствующую тарифному плану)."
      ]
    },
    {
      "cell_type": "markdown",
      "metadata": {
        "id": "Zg4ti7FOZciy"
      },
      "source": [
        "### Звонки и минуты разговора по месяцам"
      ]
    },
    {
      "cell_type": "code",
      "execution_count": 19,
      "metadata": {
        "colab": {
          "base_uri": "https://localhost:8080/",
          "height": 206
        },
        "id": "v_jp76BDZciy",
        "outputId": "8f839fbd-7361-4603-ef23-43c6cf66eefd"
      },
      "outputs": [
        {
          "output_type": "execute_result",
          "data": {
            "text/plain": [
              "       id  call_date  duration  user_id  duration_round calls_month\n",
              "0  1000_0 2018-07-25      0.00     1000               1  2018-07-01\n",
              "1  1000_1 2018-08-17      0.00     1000               1  2018-08-01\n",
              "2  1000_2 2018-06-11      2.85     1000               3  2018-06-01\n",
              "3  1000_3 2018-09-21     13.80     1000              14  2018-09-01\n",
              "4  1000_4 2018-12-15      5.18     1000               6  2018-12-01"
            ],
            "text/html": [
              "\n",
              "  <div id=\"df-d46078f5-da1d-4981-aa72-6526a392bf05\">\n",
              "    <div class=\"colab-df-container\">\n",
              "      <div>\n",
              "<style scoped>\n",
              "    .dataframe tbody tr th:only-of-type {\n",
              "        vertical-align: middle;\n",
              "    }\n",
              "\n",
              "    .dataframe tbody tr th {\n",
              "        vertical-align: top;\n",
              "    }\n",
              "\n",
              "    .dataframe thead th {\n",
              "        text-align: right;\n",
              "    }\n",
              "</style>\n",
              "<table border=\"1\" class=\"dataframe\">\n",
              "  <thead>\n",
              "    <tr style=\"text-align: right;\">\n",
              "      <th></th>\n",
              "      <th>id</th>\n",
              "      <th>call_date</th>\n",
              "      <th>duration</th>\n",
              "      <th>user_id</th>\n",
              "      <th>duration_round</th>\n",
              "      <th>calls_month</th>\n",
              "    </tr>\n",
              "  </thead>\n",
              "  <tbody>\n",
              "    <tr>\n",
              "      <th>0</th>\n",
              "      <td>1000_0</td>\n",
              "      <td>2018-07-25</td>\n",
              "      <td>0.00</td>\n",
              "      <td>1000</td>\n",
              "      <td>1</td>\n",
              "      <td>2018-07-01</td>\n",
              "    </tr>\n",
              "    <tr>\n",
              "      <th>1</th>\n",
              "      <td>1000_1</td>\n",
              "      <td>2018-08-17</td>\n",
              "      <td>0.00</td>\n",
              "      <td>1000</td>\n",
              "      <td>1</td>\n",
              "      <td>2018-08-01</td>\n",
              "    </tr>\n",
              "    <tr>\n",
              "      <th>2</th>\n",
              "      <td>1000_2</td>\n",
              "      <td>2018-06-11</td>\n",
              "      <td>2.85</td>\n",
              "      <td>1000</td>\n",
              "      <td>3</td>\n",
              "      <td>2018-06-01</td>\n",
              "    </tr>\n",
              "    <tr>\n",
              "      <th>3</th>\n",
              "      <td>1000_3</td>\n",
              "      <td>2018-09-21</td>\n",
              "      <td>13.80</td>\n",
              "      <td>1000</td>\n",
              "      <td>14</td>\n",
              "      <td>2018-09-01</td>\n",
              "    </tr>\n",
              "    <tr>\n",
              "      <th>4</th>\n",
              "      <td>1000_4</td>\n",
              "      <td>2018-12-15</td>\n",
              "      <td>5.18</td>\n",
              "      <td>1000</td>\n",
              "      <td>6</td>\n",
              "      <td>2018-12-01</td>\n",
              "    </tr>\n",
              "  </tbody>\n",
              "</table>\n",
              "</div>\n",
              "      <button class=\"colab-df-convert\" onclick=\"convertToInteractive('df-d46078f5-da1d-4981-aa72-6526a392bf05')\"\n",
              "              title=\"Convert this dataframe to an interactive table.\"\n",
              "              style=\"display:none;\">\n",
              "        \n",
              "  <svg xmlns=\"http://www.w3.org/2000/svg\" height=\"24px\"viewBox=\"0 0 24 24\"\n",
              "       width=\"24px\">\n",
              "    <path d=\"M0 0h24v24H0V0z\" fill=\"none\"/>\n",
              "    <path d=\"M18.56 5.44l.94 2.06.94-2.06 2.06-.94-2.06-.94-.94-2.06-.94 2.06-2.06.94zm-11 1L8.5 8.5l.94-2.06 2.06-.94-2.06-.94L8.5 2.5l-.94 2.06-2.06.94zm10 10l.94 2.06.94-2.06 2.06-.94-2.06-.94-.94-2.06-.94 2.06-2.06.94z\"/><path d=\"M17.41 7.96l-1.37-1.37c-.4-.4-.92-.59-1.43-.59-.52 0-1.04.2-1.43.59L10.3 9.45l-7.72 7.72c-.78.78-.78 2.05 0 2.83L4 21.41c.39.39.9.59 1.41.59.51 0 1.02-.2 1.41-.59l7.78-7.78 2.81-2.81c.8-.78.8-2.07 0-2.86zM5.41 20L4 18.59l7.72-7.72 1.47 1.35L5.41 20z\"/>\n",
              "  </svg>\n",
              "      </button>\n",
              "      \n",
              "  <style>\n",
              "    .colab-df-container {\n",
              "      display:flex;\n",
              "      flex-wrap:wrap;\n",
              "      gap: 12px;\n",
              "    }\n",
              "\n",
              "    .colab-df-convert {\n",
              "      background-color: #E8F0FE;\n",
              "      border: none;\n",
              "      border-radius: 50%;\n",
              "      cursor: pointer;\n",
              "      display: none;\n",
              "      fill: #1967D2;\n",
              "      height: 32px;\n",
              "      padding: 0 0 0 0;\n",
              "      width: 32px;\n",
              "    }\n",
              "\n",
              "    .colab-df-convert:hover {\n",
              "      background-color: #E2EBFA;\n",
              "      box-shadow: 0px 1px 2px rgba(60, 64, 67, 0.3), 0px 1px 3px 1px rgba(60, 64, 67, 0.15);\n",
              "      fill: #174EA6;\n",
              "    }\n",
              "\n",
              "    [theme=dark] .colab-df-convert {\n",
              "      background-color: #3B4455;\n",
              "      fill: #D2E3FC;\n",
              "    }\n",
              "\n",
              "    [theme=dark] .colab-df-convert:hover {\n",
              "      background-color: #434B5C;\n",
              "      box-shadow: 0px 1px 3px 1px rgba(0, 0, 0, 0.15);\n",
              "      filter: drop-shadow(0px 1px 2px rgba(0, 0, 0, 0.3));\n",
              "      fill: #FFFFFF;\n",
              "    }\n",
              "  </style>\n",
              "\n",
              "      <script>\n",
              "        const buttonEl =\n",
              "          document.querySelector('#df-d46078f5-da1d-4981-aa72-6526a392bf05 button.colab-df-convert');\n",
              "        buttonEl.style.display =\n",
              "          google.colab.kernel.accessAllowed ? 'block' : 'none';\n",
              "\n",
              "        async function convertToInteractive(key) {\n",
              "          const element = document.querySelector('#df-d46078f5-da1d-4981-aa72-6526a392bf05');\n",
              "          const dataTable =\n",
              "            await google.colab.kernel.invokeFunction('convertToInteractive',\n",
              "                                                     [key], {});\n",
              "          if (!dataTable) return;\n",
              "\n",
              "          const docLinkHtml = 'Like what you see? Visit the ' +\n",
              "            '<a target=\"_blank\" href=https://colab.research.google.com/notebooks/data_table.ipynb>data table notebook</a>'\n",
              "            + ' to learn more about interactive tables.';\n",
              "          element.innerHTML = '';\n",
              "          dataTable['output_type'] = 'display_data';\n",
              "          await google.colab.output.renderOutput(dataTable, element);\n",
              "          const docLink = document.createElement('div');\n",
              "          docLink.innerHTML = docLinkHtml;\n",
              "          element.appendChild(docLink);\n",
              "        }\n",
              "      </script>\n",
              "    </div>\n",
              "  </div>\n",
              "  "
            ]
          },
          "metadata": {},
          "execution_count": 19
        }
      ],
      "source": [
        "data_calls['calls_month'] = data_calls['call_date'].astype('datetime64[M]')\n",
        "data_calls.head(5)"
      ]
    },
    {
      "cell_type": "code",
      "execution_count": 20,
      "metadata": {
        "colab": {
          "base_uri": "https://localhost:8080/"
        },
        "id": "BmdmoHCfZciy",
        "outputId": "14f3b901-31d2-4806-90f0-b49e3d3e46ff"
      },
      "outputs": [
        {
          "output_type": "execute_result",
          "data": {
            "text/plain": [
              "2018-12-01    33987\n",
              "2018-11-01    29501\n",
              "2018-10-01    27146\n",
              "2018-09-01    24061\n",
              "2018-08-01    21488\n",
              "2018-07-01    18298\n",
              "2018-06-01    14716\n",
              "2018-05-01    12647\n",
              "2018-04-01     9272\n",
              "2018-03-01     6687\n",
              "2018-02-01     3328\n",
              "2018-01-01     1476\n",
              "Name: calls_month, dtype: int64"
            ]
          },
          "metadata": {},
          "execution_count": 20
        }
      ],
      "source": [
        "#посмотрим на количество звонков по месяцам по всем пользователям\n",
        "\n",
        "count_calls_m = data_calls['calls_month'].value_counts()\n",
        "count_calls_m"
      ]
    },
    {
      "cell_type": "markdown",
      "metadata": {
        "id": "QpPGD7wXZciy"
      },
      "source": [
        "**Комментарий:**\n",
        "<br>Интересно, что в январе звонков меньше всего, а в декабре больше."
      ]
    },
    {
      "cell_type": "code",
      "execution_count": 21,
      "metadata": {
        "colab": {
          "base_uri": "https://localhost:8080/"
        },
        "id": "bjJpIOstZciy",
        "outputId": "7058ea1d-355e-4d18-c034-992ef8337a04"
      },
      "outputs": [
        {
          "output_type": "execute_result",
          "data": {
            "text/plain": [
              "calls_month\n",
              "2018-01-01     11096\n",
              "2018-02-01     25078\n",
              "2018-03-01     49455\n",
              "2018-04-01     68078\n",
              "2018-05-01     91341\n",
              "2018-06-01    108063\n",
              "2018-07-01    135264\n",
              "2018-08-01    157929\n",
              "2018-09-01    178090\n",
              "2018-10-01    199317\n",
              "2018-11-01    215926\n",
              "2018-12-01    250277\n",
              "Name: duration_round, dtype: int64"
            ]
          },
          "metadata": {},
          "execution_count": 21
        }
      ],
      "source": [
        "#посмотрим на минуты разговора по месяцам\n",
        "\n",
        "duration_calls_m = data_calls.groupby('calls_month')['duration_round'].sum()\n",
        "duration_calls_m"
      ]
    },
    {
      "cell_type": "markdown",
      "metadata": {
        "id": "65gXwZSiZciy"
      },
      "source": [
        "### Сообщения по месяцам"
      ]
    },
    {
      "cell_type": "code",
      "execution_count": 22,
      "metadata": {
        "colab": {
          "base_uri": "https://localhost:8080/",
          "height": 206
        },
        "id": "4FkLWz_pZciy",
        "outputId": "cd074adb-203c-4da6-a185-8368b64ec910"
      },
      "outputs": [
        {
          "output_type": "execute_result",
          "data": {
            "text/plain": [
              "       id message_date  user_id message_month\n",
              "0  1000_0   2018-06-27     1000    2018-06-01\n",
              "1  1000_1   2018-10-08     1000    2018-10-01\n",
              "2  1000_2   2018-08-04     1000    2018-08-01\n",
              "3  1000_3   2018-06-16     1000    2018-06-01\n",
              "4  1000_4   2018-12-05     1000    2018-12-01"
            ],
            "text/html": [
              "\n",
              "  <div id=\"df-060f79cd-a18a-468e-aa8b-df109ee587df\">\n",
              "    <div class=\"colab-df-container\">\n",
              "      <div>\n",
              "<style scoped>\n",
              "    .dataframe tbody tr th:only-of-type {\n",
              "        vertical-align: middle;\n",
              "    }\n",
              "\n",
              "    .dataframe tbody tr th {\n",
              "        vertical-align: top;\n",
              "    }\n",
              "\n",
              "    .dataframe thead th {\n",
              "        text-align: right;\n",
              "    }\n",
              "</style>\n",
              "<table border=\"1\" class=\"dataframe\">\n",
              "  <thead>\n",
              "    <tr style=\"text-align: right;\">\n",
              "      <th></th>\n",
              "      <th>id</th>\n",
              "      <th>message_date</th>\n",
              "      <th>user_id</th>\n",
              "      <th>message_month</th>\n",
              "    </tr>\n",
              "  </thead>\n",
              "  <tbody>\n",
              "    <tr>\n",
              "      <th>0</th>\n",
              "      <td>1000_0</td>\n",
              "      <td>2018-06-27</td>\n",
              "      <td>1000</td>\n",
              "      <td>2018-06-01</td>\n",
              "    </tr>\n",
              "    <tr>\n",
              "      <th>1</th>\n",
              "      <td>1000_1</td>\n",
              "      <td>2018-10-08</td>\n",
              "      <td>1000</td>\n",
              "      <td>2018-10-01</td>\n",
              "    </tr>\n",
              "    <tr>\n",
              "      <th>2</th>\n",
              "      <td>1000_2</td>\n",
              "      <td>2018-08-04</td>\n",
              "      <td>1000</td>\n",
              "      <td>2018-08-01</td>\n",
              "    </tr>\n",
              "    <tr>\n",
              "      <th>3</th>\n",
              "      <td>1000_3</td>\n",
              "      <td>2018-06-16</td>\n",
              "      <td>1000</td>\n",
              "      <td>2018-06-01</td>\n",
              "    </tr>\n",
              "    <tr>\n",
              "      <th>4</th>\n",
              "      <td>1000_4</td>\n",
              "      <td>2018-12-05</td>\n",
              "      <td>1000</td>\n",
              "      <td>2018-12-01</td>\n",
              "    </tr>\n",
              "  </tbody>\n",
              "</table>\n",
              "</div>\n",
              "      <button class=\"colab-df-convert\" onclick=\"convertToInteractive('df-060f79cd-a18a-468e-aa8b-df109ee587df')\"\n",
              "              title=\"Convert this dataframe to an interactive table.\"\n",
              "              style=\"display:none;\">\n",
              "        \n",
              "  <svg xmlns=\"http://www.w3.org/2000/svg\" height=\"24px\"viewBox=\"0 0 24 24\"\n",
              "       width=\"24px\">\n",
              "    <path d=\"M0 0h24v24H0V0z\" fill=\"none\"/>\n",
              "    <path d=\"M18.56 5.44l.94 2.06.94-2.06 2.06-.94-2.06-.94-.94-2.06-.94 2.06-2.06.94zm-11 1L8.5 8.5l.94-2.06 2.06-.94-2.06-.94L8.5 2.5l-.94 2.06-2.06.94zm10 10l.94 2.06.94-2.06 2.06-.94-2.06-.94-.94-2.06-.94 2.06-2.06.94z\"/><path d=\"M17.41 7.96l-1.37-1.37c-.4-.4-.92-.59-1.43-.59-.52 0-1.04.2-1.43.59L10.3 9.45l-7.72 7.72c-.78.78-.78 2.05 0 2.83L4 21.41c.39.39.9.59 1.41.59.51 0 1.02-.2 1.41-.59l7.78-7.78 2.81-2.81c.8-.78.8-2.07 0-2.86zM5.41 20L4 18.59l7.72-7.72 1.47 1.35L5.41 20z\"/>\n",
              "  </svg>\n",
              "      </button>\n",
              "      \n",
              "  <style>\n",
              "    .colab-df-container {\n",
              "      display:flex;\n",
              "      flex-wrap:wrap;\n",
              "      gap: 12px;\n",
              "    }\n",
              "\n",
              "    .colab-df-convert {\n",
              "      background-color: #E8F0FE;\n",
              "      border: none;\n",
              "      border-radius: 50%;\n",
              "      cursor: pointer;\n",
              "      display: none;\n",
              "      fill: #1967D2;\n",
              "      height: 32px;\n",
              "      padding: 0 0 0 0;\n",
              "      width: 32px;\n",
              "    }\n",
              "\n",
              "    .colab-df-convert:hover {\n",
              "      background-color: #E2EBFA;\n",
              "      box-shadow: 0px 1px 2px rgba(60, 64, 67, 0.3), 0px 1px 3px 1px rgba(60, 64, 67, 0.15);\n",
              "      fill: #174EA6;\n",
              "    }\n",
              "\n",
              "    [theme=dark] .colab-df-convert {\n",
              "      background-color: #3B4455;\n",
              "      fill: #D2E3FC;\n",
              "    }\n",
              "\n",
              "    [theme=dark] .colab-df-convert:hover {\n",
              "      background-color: #434B5C;\n",
              "      box-shadow: 0px 1px 3px 1px rgba(0, 0, 0, 0.15);\n",
              "      filter: drop-shadow(0px 1px 2px rgba(0, 0, 0, 0.3));\n",
              "      fill: #FFFFFF;\n",
              "    }\n",
              "  </style>\n",
              "\n",
              "      <script>\n",
              "        const buttonEl =\n",
              "          document.querySelector('#df-060f79cd-a18a-468e-aa8b-df109ee587df button.colab-df-convert');\n",
              "        buttonEl.style.display =\n",
              "          google.colab.kernel.accessAllowed ? 'block' : 'none';\n",
              "\n",
              "        async function convertToInteractive(key) {\n",
              "          const element = document.querySelector('#df-060f79cd-a18a-468e-aa8b-df109ee587df');\n",
              "          const dataTable =\n",
              "            await google.colab.kernel.invokeFunction('convertToInteractive',\n",
              "                                                     [key], {});\n",
              "          if (!dataTable) return;\n",
              "\n",
              "          const docLinkHtml = 'Like what you see? Visit the ' +\n",
              "            '<a target=\"_blank\" href=https://colab.research.google.com/notebooks/data_table.ipynb>data table notebook</a>'\n",
              "            + ' to learn more about interactive tables.';\n",
              "          element.innerHTML = '';\n",
              "          dataTable['output_type'] = 'display_data';\n",
              "          await google.colab.output.renderOutput(dataTable, element);\n",
              "          const docLink = document.createElement('div');\n",
              "          docLink.innerHTML = docLinkHtml;\n",
              "          element.appendChild(docLink);\n",
              "        }\n",
              "      </script>\n",
              "    </div>\n",
              "  </div>\n",
              "  "
            ]
          },
          "metadata": {},
          "execution_count": 22
        }
      ],
      "source": [
        "data_messages['message_month'] = data_messages['message_date'].astype('datetime64[M]')\n",
        "data_messages.head(5)"
      ]
    },
    {
      "cell_type": "code",
      "execution_count": 23,
      "metadata": {
        "colab": {
          "base_uri": "https://localhost:8080/"
        },
        "id": "kVl2a8EqZciz",
        "outputId": "f86d9c5e-a430-4a92-abf9-5a6d7da7d0d6"
      },
      "outputs": [
        {
          "output_type": "execute_result",
          "data": {
            "text/plain": [
              "2018-12-01    20555\n",
              "2018-11-01    18244\n",
              "2018-10-01    17114\n",
              "2018-09-01    14759\n",
              "2018-08-01    13088\n",
              "2018-07-01    11320\n",
              "2018-06-01     8983\n",
              "2018-05-01     7298\n",
              "2018-04-01     5179\n",
              "2018-03-01     3648\n",
              "2018-02-01     1924\n",
              "2018-01-01      924\n",
              "Name: message_month, dtype: int64"
            ]
          },
          "metadata": {},
          "execution_count": 23
        }
      ],
      "source": [
        "#посмотрим на количество сообщений по месяцам\n",
        "\n",
        "count_messages_m = data_messages['message_month'].value_counts()\n",
        "count_messages_m"
      ]
    },
    {
      "cell_type": "markdown",
      "metadata": {
        "id": "FC_AJSzSZciz"
      },
      "source": [
        "### Объём интернет-трафика по месяцам"
      ]
    },
    {
      "cell_type": "code",
      "execution_count": 24,
      "metadata": {
        "colab": {
          "base_uri": "https://localhost:8080/",
          "height": 206
        },
        "id": "CjoIPilTZciz",
        "outputId": "81956881-c12f-4449-85dd-6d2f07546bd6"
      },
      "outputs": [
        {
          "output_type": "execute_result",
          "data": {
            "text/plain": [
              "       id  mb_used session_date  user_id session_month\n",
              "0  1000_0      113   2018-11-25     1000    2018-11-01\n",
              "1  1000_1     1053   2018-09-07     1000    2018-09-01\n",
              "2  1000_2     1198   2018-06-25     1000    2018-06-01\n",
              "3  1000_3      551   2018-08-22     1000    2018-08-01\n",
              "4  1000_4      303   2018-09-24     1000    2018-09-01"
            ],
            "text/html": [
              "\n",
              "  <div id=\"df-432802fc-83d6-4efa-aab2-a8372c749716\">\n",
              "    <div class=\"colab-df-container\">\n",
              "      <div>\n",
              "<style scoped>\n",
              "    .dataframe tbody tr th:only-of-type {\n",
              "        vertical-align: middle;\n",
              "    }\n",
              "\n",
              "    .dataframe tbody tr th {\n",
              "        vertical-align: top;\n",
              "    }\n",
              "\n",
              "    .dataframe thead th {\n",
              "        text-align: right;\n",
              "    }\n",
              "</style>\n",
              "<table border=\"1\" class=\"dataframe\">\n",
              "  <thead>\n",
              "    <tr style=\"text-align: right;\">\n",
              "      <th></th>\n",
              "      <th>id</th>\n",
              "      <th>mb_used</th>\n",
              "      <th>session_date</th>\n",
              "      <th>user_id</th>\n",
              "      <th>session_month</th>\n",
              "    </tr>\n",
              "  </thead>\n",
              "  <tbody>\n",
              "    <tr>\n",
              "      <th>0</th>\n",
              "      <td>1000_0</td>\n",
              "      <td>113</td>\n",
              "      <td>2018-11-25</td>\n",
              "      <td>1000</td>\n",
              "      <td>2018-11-01</td>\n",
              "    </tr>\n",
              "    <tr>\n",
              "      <th>1</th>\n",
              "      <td>1000_1</td>\n",
              "      <td>1053</td>\n",
              "      <td>2018-09-07</td>\n",
              "      <td>1000</td>\n",
              "      <td>2018-09-01</td>\n",
              "    </tr>\n",
              "    <tr>\n",
              "      <th>2</th>\n",
              "      <td>1000_2</td>\n",
              "      <td>1198</td>\n",
              "      <td>2018-06-25</td>\n",
              "      <td>1000</td>\n",
              "      <td>2018-06-01</td>\n",
              "    </tr>\n",
              "    <tr>\n",
              "      <th>3</th>\n",
              "      <td>1000_3</td>\n",
              "      <td>551</td>\n",
              "      <td>2018-08-22</td>\n",
              "      <td>1000</td>\n",
              "      <td>2018-08-01</td>\n",
              "    </tr>\n",
              "    <tr>\n",
              "      <th>4</th>\n",
              "      <td>1000_4</td>\n",
              "      <td>303</td>\n",
              "      <td>2018-09-24</td>\n",
              "      <td>1000</td>\n",
              "      <td>2018-09-01</td>\n",
              "    </tr>\n",
              "  </tbody>\n",
              "</table>\n",
              "</div>\n",
              "      <button class=\"colab-df-convert\" onclick=\"convertToInteractive('df-432802fc-83d6-4efa-aab2-a8372c749716')\"\n",
              "              title=\"Convert this dataframe to an interactive table.\"\n",
              "              style=\"display:none;\">\n",
              "        \n",
              "  <svg xmlns=\"http://www.w3.org/2000/svg\" height=\"24px\"viewBox=\"0 0 24 24\"\n",
              "       width=\"24px\">\n",
              "    <path d=\"M0 0h24v24H0V0z\" fill=\"none\"/>\n",
              "    <path d=\"M18.56 5.44l.94 2.06.94-2.06 2.06-.94-2.06-.94-.94-2.06-.94 2.06-2.06.94zm-11 1L8.5 8.5l.94-2.06 2.06-.94-2.06-.94L8.5 2.5l-.94 2.06-2.06.94zm10 10l.94 2.06.94-2.06 2.06-.94-2.06-.94-.94-2.06-.94 2.06-2.06.94z\"/><path d=\"M17.41 7.96l-1.37-1.37c-.4-.4-.92-.59-1.43-.59-.52 0-1.04.2-1.43.59L10.3 9.45l-7.72 7.72c-.78.78-.78 2.05 0 2.83L4 21.41c.39.39.9.59 1.41.59.51 0 1.02-.2 1.41-.59l7.78-7.78 2.81-2.81c.8-.78.8-2.07 0-2.86zM5.41 20L4 18.59l7.72-7.72 1.47 1.35L5.41 20z\"/>\n",
              "  </svg>\n",
              "      </button>\n",
              "      \n",
              "  <style>\n",
              "    .colab-df-container {\n",
              "      display:flex;\n",
              "      flex-wrap:wrap;\n",
              "      gap: 12px;\n",
              "    }\n",
              "\n",
              "    .colab-df-convert {\n",
              "      background-color: #E8F0FE;\n",
              "      border: none;\n",
              "      border-radius: 50%;\n",
              "      cursor: pointer;\n",
              "      display: none;\n",
              "      fill: #1967D2;\n",
              "      height: 32px;\n",
              "      padding: 0 0 0 0;\n",
              "      width: 32px;\n",
              "    }\n",
              "\n",
              "    .colab-df-convert:hover {\n",
              "      background-color: #E2EBFA;\n",
              "      box-shadow: 0px 1px 2px rgba(60, 64, 67, 0.3), 0px 1px 3px 1px rgba(60, 64, 67, 0.15);\n",
              "      fill: #174EA6;\n",
              "    }\n",
              "\n",
              "    [theme=dark] .colab-df-convert {\n",
              "      background-color: #3B4455;\n",
              "      fill: #D2E3FC;\n",
              "    }\n",
              "\n",
              "    [theme=dark] .colab-df-convert:hover {\n",
              "      background-color: #434B5C;\n",
              "      box-shadow: 0px 1px 3px 1px rgba(0, 0, 0, 0.15);\n",
              "      filter: drop-shadow(0px 1px 2px rgba(0, 0, 0, 0.3));\n",
              "      fill: #FFFFFF;\n",
              "    }\n",
              "  </style>\n",
              "\n",
              "      <script>\n",
              "        const buttonEl =\n",
              "          document.querySelector('#df-432802fc-83d6-4efa-aab2-a8372c749716 button.colab-df-convert');\n",
              "        buttonEl.style.display =\n",
              "          google.colab.kernel.accessAllowed ? 'block' : 'none';\n",
              "\n",
              "        async function convertToInteractive(key) {\n",
              "          const element = document.querySelector('#df-432802fc-83d6-4efa-aab2-a8372c749716');\n",
              "          const dataTable =\n",
              "            await google.colab.kernel.invokeFunction('convertToInteractive',\n",
              "                                                     [key], {});\n",
              "          if (!dataTable) return;\n",
              "\n",
              "          const docLinkHtml = 'Like what you see? Visit the ' +\n",
              "            '<a target=\"_blank\" href=https://colab.research.google.com/notebooks/data_table.ipynb>data table notebook</a>'\n",
              "            + ' to learn more about interactive tables.';\n",
              "          element.innerHTML = '';\n",
              "          dataTable['output_type'] = 'display_data';\n",
              "          await google.colab.output.renderOutput(dataTable, element);\n",
              "          const docLink = document.createElement('div');\n",
              "          docLink.innerHTML = docLinkHtml;\n",
              "          element.appendChild(docLink);\n",
              "        }\n",
              "      </script>\n",
              "    </div>\n",
              "  </div>\n",
              "  "
            ]
          },
          "metadata": {},
          "execution_count": 24
        }
      ],
      "source": [
        "data_internet['session_month'] = data_internet['session_date'].astype('datetime64[M]')\n",
        "data_internet.head(5)"
      ]
    },
    {
      "cell_type": "code",
      "execution_count": 25,
      "metadata": {
        "colab": {
          "base_uri": "https://localhost:8080/"
        },
        "id": "OAsMtmeUZciz",
        "outputId": "1c4f7af9-d446-4925-d9d7-a328cdea0786"
      },
      "outputs": [
        {
          "output_type": "execute_result",
          "data": {
            "text/plain": [
              "session_month\n",
              "2018-01-01     408213\n",
              "2018-02-01     956348\n",
              "2018-03-01    1813960\n",
              "2018-04-01    2436111\n",
              "2018-05-01    3529893\n",
              "2018-06-01    4184770\n",
              "2018-07-01    5035299\n",
              "2018-08-01    6005126\n",
              "2018-09-01    6454931\n",
              "2018-10-01    7400754\n",
              "2018-11-01    7999852\n",
              "2018-12-01    9144202\n",
              "Name: mb_used, dtype: int64"
            ]
          },
          "metadata": {},
          "execution_count": 25
        }
      ],
      "source": [
        "#посмотрим на объем интернет-трафика по месяцам\n",
        "\n",
        "count_session_m = data_internet.groupby('session_month')['mb_used'].sum()\n",
        "count_session_m"
      ]
    },
    {
      "cell_type": "markdown",
      "metadata": {
        "id": "UOiCvSXVZciz"
      },
      "source": [
        "### Помесячная выручка на каждого пользователя"
      ]
    },
    {
      "cell_type": "markdown",
      "metadata": {
        "id": "ySEGPMpiZciz"
      },
      "source": [
        "Чтобы посчитать помесячную выручку нам необходимо сделать новый датафрейм, который будет включать в себя данные о пользователе, его тарифе, количестве звонков/сообщений/интернет-трафике в месяц и тарифные ставки. Объединим все таблицы (кроме таблицы с тарифами) по столбцу user_id. Потом добавим к каждому его тарифный план."
      ]
    },
    {
      "cell_type": "code",
      "execution_count": 26,
      "metadata": {
        "scrolled": true,
        "colab": {
          "base_uri": "https://localhost:8080/",
          "height": 363
        },
        "id": "RF6I98A5Zciz",
        "outputId": "b28c0582-a16a-42a3-8834-91b0ab81b54f"
      },
      "outputs": [
        {
          "output_type": "execute_result",
          "data": {
            "text/plain": [
              "       id  call_date  duration  user_id  duration_round calls_month  age  \\\n",
              "0  1000_0 2018-07-25      0.00     1000               1  2018-07-01   52   \n",
              "1  1000_1 2018-08-17      0.00     1000               1  2018-08-01   52   \n",
              "2  1000_2 2018-06-11      2.85     1000               3  2018-06-01   52   \n",
              "3  1000_3 2018-09-21     13.80     1000              14  2018-09-01   52   \n",
              "4  1000_4 2018-12-15      5.18     1000               6  2018-12-01   52   \n",
              "5  1000_5 2018-11-02      0.00     1000               1  2018-11-01   52   \n",
              "6  1000_6 2018-10-18      0.00     1000               1  2018-10-01   52   \n",
              "7  1000_7 2018-08-22     18.31     1000              19  2018-08-01   52   \n",
              "8  1000_8 2018-09-15     18.44     1000              19  2018-09-01   52   \n",
              "9  1000_9 2018-08-15      0.00     1000               1  2018-08-01   52   \n",
              "\n",
              "  churn_date       city first_name  last_name   reg_date tariff  \n",
              "0        NaT  Краснодар     Рафаил  Верещагин 2018-05-25  ultra  \n",
              "1        NaT  Краснодар     Рафаил  Верещагин 2018-05-25  ultra  \n",
              "2        NaT  Краснодар     Рафаил  Верещагин 2018-05-25  ultra  \n",
              "3        NaT  Краснодар     Рафаил  Верещагин 2018-05-25  ultra  \n",
              "4        NaT  Краснодар     Рафаил  Верещагин 2018-05-25  ultra  \n",
              "5        NaT  Краснодар     Рафаил  Верещагин 2018-05-25  ultra  \n",
              "6        NaT  Краснодар     Рафаил  Верещагин 2018-05-25  ultra  \n",
              "7        NaT  Краснодар     Рафаил  Верещагин 2018-05-25  ultra  \n",
              "8        NaT  Краснодар     Рафаил  Верещагин 2018-05-25  ultra  \n",
              "9        NaT  Краснодар     Рафаил  Верещагин 2018-05-25  ultra  "
            ],
            "text/html": [
              "\n",
              "  <div id=\"df-c90d215c-f257-4758-82f4-de459f7071c5\">\n",
              "    <div class=\"colab-df-container\">\n",
              "      <div>\n",
              "<style scoped>\n",
              "    .dataframe tbody tr th:only-of-type {\n",
              "        vertical-align: middle;\n",
              "    }\n",
              "\n",
              "    .dataframe tbody tr th {\n",
              "        vertical-align: top;\n",
              "    }\n",
              "\n",
              "    .dataframe thead th {\n",
              "        text-align: right;\n",
              "    }\n",
              "</style>\n",
              "<table border=\"1\" class=\"dataframe\">\n",
              "  <thead>\n",
              "    <tr style=\"text-align: right;\">\n",
              "      <th></th>\n",
              "      <th>id</th>\n",
              "      <th>call_date</th>\n",
              "      <th>duration</th>\n",
              "      <th>user_id</th>\n",
              "      <th>duration_round</th>\n",
              "      <th>calls_month</th>\n",
              "      <th>age</th>\n",
              "      <th>churn_date</th>\n",
              "      <th>city</th>\n",
              "      <th>first_name</th>\n",
              "      <th>last_name</th>\n",
              "      <th>reg_date</th>\n",
              "      <th>tariff</th>\n",
              "    </tr>\n",
              "  </thead>\n",
              "  <tbody>\n",
              "    <tr>\n",
              "      <th>0</th>\n",
              "      <td>1000_0</td>\n",
              "      <td>2018-07-25</td>\n",
              "      <td>0.00</td>\n",
              "      <td>1000</td>\n",
              "      <td>1</td>\n",
              "      <td>2018-07-01</td>\n",
              "      <td>52</td>\n",
              "      <td>NaT</td>\n",
              "      <td>Краснодар</td>\n",
              "      <td>Рафаил</td>\n",
              "      <td>Верещагин</td>\n",
              "      <td>2018-05-25</td>\n",
              "      <td>ultra</td>\n",
              "    </tr>\n",
              "    <tr>\n",
              "      <th>1</th>\n",
              "      <td>1000_1</td>\n",
              "      <td>2018-08-17</td>\n",
              "      <td>0.00</td>\n",
              "      <td>1000</td>\n",
              "      <td>1</td>\n",
              "      <td>2018-08-01</td>\n",
              "      <td>52</td>\n",
              "      <td>NaT</td>\n",
              "      <td>Краснодар</td>\n",
              "      <td>Рафаил</td>\n",
              "      <td>Верещагин</td>\n",
              "      <td>2018-05-25</td>\n",
              "      <td>ultra</td>\n",
              "    </tr>\n",
              "    <tr>\n",
              "      <th>2</th>\n",
              "      <td>1000_2</td>\n",
              "      <td>2018-06-11</td>\n",
              "      <td>2.85</td>\n",
              "      <td>1000</td>\n",
              "      <td>3</td>\n",
              "      <td>2018-06-01</td>\n",
              "      <td>52</td>\n",
              "      <td>NaT</td>\n",
              "      <td>Краснодар</td>\n",
              "      <td>Рафаил</td>\n",
              "      <td>Верещагин</td>\n",
              "      <td>2018-05-25</td>\n",
              "      <td>ultra</td>\n",
              "    </tr>\n",
              "    <tr>\n",
              "      <th>3</th>\n",
              "      <td>1000_3</td>\n",
              "      <td>2018-09-21</td>\n",
              "      <td>13.80</td>\n",
              "      <td>1000</td>\n",
              "      <td>14</td>\n",
              "      <td>2018-09-01</td>\n",
              "      <td>52</td>\n",
              "      <td>NaT</td>\n",
              "      <td>Краснодар</td>\n",
              "      <td>Рафаил</td>\n",
              "      <td>Верещагин</td>\n",
              "      <td>2018-05-25</td>\n",
              "      <td>ultra</td>\n",
              "    </tr>\n",
              "    <tr>\n",
              "      <th>4</th>\n",
              "      <td>1000_4</td>\n",
              "      <td>2018-12-15</td>\n",
              "      <td>5.18</td>\n",
              "      <td>1000</td>\n",
              "      <td>6</td>\n",
              "      <td>2018-12-01</td>\n",
              "      <td>52</td>\n",
              "      <td>NaT</td>\n",
              "      <td>Краснодар</td>\n",
              "      <td>Рафаил</td>\n",
              "      <td>Верещагин</td>\n",
              "      <td>2018-05-25</td>\n",
              "      <td>ultra</td>\n",
              "    </tr>\n",
              "    <tr>\n",
              "      <th>5</th>\n",
              "      <td>1000_5</td>\n",
              "      <td>2018-11-02</td>\n",
              "      <td>0.00</td>\n",
              "      <td>1000</td>\n",
              "      <td>1</td>\n",
              "      <td>2018-11-01</td>\n",
              "      <td>52</td>\n",
              "      <td>NaT</td>\n",
              "      <td>Краснодар</td>\n",
              "      <td>Рафаил</td>\n",
              "      <td>Верещагин</td>\n",
              "      <td>2018-05-25</td>\n",
              "      <td>ultra</td>\n",
              "    </tr>\n",
              "    <tr>\n",
              "      <th>6</th>\n",
              "      <td>1000_6</td>\n",
              "      <td>2018-10-18</td>\n",
              "      <td>0.00</td>\n",
              "      <td>1000</td>\n",
              "      <td>1</td>\n",
              "      <td>2018-10-01</td>\n",
              "      <td>52</td>\n",
              "      <td>NaT</td>\n",
              "      <td>Краснодар</td>\n",
              "      <td>Рафаил</td>\n",
              "      <td>Верещагин</td>\n",
              "      <td>2018-05-25</td>\n",
              "      <td>ultra</td>\n",
              "    </tr>\n",
              "    <tr>\n",
              "      <th>7</th>\n",
              "      <td>1000_7</td>\n",
              "      <td>2018-08-22</td>\n",
              "      <td>18.31</td>\n",
              "      <td>1000</td>\n",
              "      <td>19</td>\n",
              "      <td>2018-08-01</td>\n",
              "      <td>52</td>\n",
              "      <td>NaT</td>\n",
              "      <td>Краснодар</td>\n",
              "      <td>Рафаил</td>\n",
              "      <td>Верещагин</td>\n",
              "      <td>2018-05-25</td>\n",
              "      <td>ultra</td>\n",
              "    </tr>\n",
              "    <tr>\n",
              "      <th>8</th>\n",
              "      <td>1000_8</td>\n",
              "      <td>2018-09-15</td>\n",
              "      <td>18.44</td>\n",
              "      <td>1000</td>\n",
              "      <td>19</td>\n",
              "      <td>2018-09-01</td>\n",
              "      <td>52</td>\n",
              "      <td>NaT</td>\n",
              "      <td>Краснодар</td>\n",
              "      <td>Рафаил</td>\n",
              "      <td>Верещагин</td>\n",
              "      <td>2018-05-25</td>\n",
              "      <td>ultra</td>\n",
              "    </tr>\n",
              "    <tr>\n",
              "      <th>9</th>\n",
              "      <td>1000_9</td>\n",
              "      <td>2018-08-15</td>\n",
              "      <td>0.00</td>\n",
              "      <td>1000</td>\n",
              "      <td>1</td>\n",
              "      <td>2018-08-01</td>\n",
              "      <td>52</td>\n",
              "      <td>NaT</td>\n",
              "      <td>Краснодар</td>\n",
              "      <td>Рафаил</td>\n",
              "      <td>Верещагин</td>\n",
              "      <td>2018-05-25</td>\n",
              "      <td>ultra</td>\n",
              "    </tr>\n",
              "  </tbody>\n",
              "</table>\n",
              "</div>\n",
              "      <button class=\"colab-df-convert\" onclick=\"convertToInteractive('df-c90d215c-f257-4758-82f4-de459f7071c5')\"\n",
              "              title=\"Convert this dataframe to an interactive table.\"\n",
              "              style=\"display:none;\">\n",
              "        \n",
              "  <svg xmlns=\"http://www.w3.org/2000/svg\" height=\"24px\"viewBox=\"0 0 24 24\"\n",
              "       width=\"24px\">\n",
              "    <path d=\"M0 0h24v24H0V0z\" fill=\"none\"/>\n",
              "    <path d=\"M18.56 5.44l.94 2.06.94-2.06 2.06-.94-2.06-.94-.94-2.06-.94 2.06-2.06.94zm-11 1L8.5 8.5l.94-2.06 2.06-.94-2.06-.94L8.5 2.5l-.94 2.06-2.06.94zm10 10l.94 2.06.94-2.06 2.06-.94-2.06-.94-.94-2.06-.94 2.06-2.06.94z\"/><path d=\"M17.41 7.96l-1.37-1.37c-.4-.4-.92-.59-1.43-.59-.52 0-1.04.2-1.43.59L10.3 9.45l-7.72 7.72c-.78.78-.78 2.05 0 2.83L4 21.41c.39.39.9.59 1.41.59.51 0 1.02-.2 1.41-.59l7.78-7.78 2.81-2.81c.8-.78.8-2.07 0-2.86zM5.41 20L4 18.59l7.72-7.72 1.47 1.35L5.41 20z\"/>\n",
              "  </svg>\n",
              "      </button>\n",
              "      \n",
              "  <style>\n",
              "    .colab-df-container {\n",
              "      display:flex;\n",
              "      flex-wrap:wrap;\n",
              "      gap: 12px;\n",
              "    }\n",
              "\n",
              "    .colab-df-convert {\n",
              "      background-color: #E8F0FE;\n",
              "      border: none;\n",
              "      border-radius: 50%;\n",
              "      cursor: pointer;\n",
              "      display: none;\n",
              "      fill: #1967D2;\n",
              "      height: 32px;\n",
              "      padding: 0 0 0 0;\n",
              "      width: 32px;\n",
              "    }\n",
              "\n",
              "    .colab-df-convert:hover {\n",
              "      background-color: #E2EBFA;\n",
              "      box-shadow: 0px 1px 2px rgba(60, 64, 67, 0.3), 0px 1px 3px 1px rgba(60, 64, 67, 0.15);\n",
              "      fill: #174EA6;\n",
              "    }\n",
              "\n",
              "    [theme=dark] .colab-df-convert {\n",
              "      background-color: #3B4455;\n",
              "      fill: #D2E3FC;\n",
              "    }\n",
              "\n",
              "    [theme=dark] .colab-df-convert:hover {\n",
              "      background-color: #434B5C;\n",
              "      box-shadow: 0px 1px 3px 1px rgba(0, 0, 0, 0.15);\n",
              "      filter: drop-shadow(0px 1px 2px rgba(0, 0, 0, 0.3));\n",
              "      fill: #FFFFFF;\n",
              "    }\n",
              "  </style>\n",
              "\n",
              "      <script>\n",
              "        const buttonEl =\n",
              "          document.querySelector('#df-c90d215c-f257-4758-82f4-de459f7071c5 button.colab-df-convert');\n",
              "        buttonEl.style.display =\n",
              "          google.colab.kernel.accessAllowed ? 'block' : 'none';\n",
              "\n",
              "        async function convertToInteractive(key) {\n",
              "          const element = document.querySelector('#df-c90d215c-f257-4758-82f4-de459f7071c5');\n",
              "          const dataTable =\n",
              "            await google.colab.kernel.invokeFunction('convertToInteractive',\n",
              "                                                     [key], {});\n",
              "          if (!dataTable) return;\n",
              "\n",
              "          const docLinkHtml = 'Like what you see? Visit the ' +\n",
              "            '<a target=\"_blank\" href=https://colab.research.google.com/notebooks/data_table.ipynb>data table notebook</a>'\n",
              "            + ' to learn more about interactive tables.';\n",
              "          element.innerHTML = '';\n",
              "          dataTable['output_type'] = 'display_data';\n",
              "          await google.colab.output.renderOutput(dataTable, element);\n",
              "          const docLink = document.createElement('div');\n",
              "          docLink.innerHTML = docLinkHtml;\n",
              "          element.appendChild(docLink);\n",
              "        }\n",
              "      </script>\n",
              "    </div>\n",
              "  </div>\n",
              "  "
            ]
          },
          "metadata": {},
          "execution_count": 26
        }
      ],
      "source": [
        "#объединим таблицы по звонкам и пользователям\n",
        "\n",
        "table1 = data_calls.merge(data_users, on='user_id', how='left')\n",
        "table1.head(10)"
      ]
    },
    {
      "cell_type": "code",
      "execution_count": 27,
      "metadata": {
        "colab": {
          "base_uri": "https://localhost:8080/",
          "height": 394
        },
        "id": "-Vv97K5wZciz",
        "outputId": "03720fcf-2859-4d84-b50f-93b732110349"
      },
      "outputs": [
        {
          "output_type": "execute_result",
          "data": {
            "text/plain": [
              "                            duration  calls\n",
              "user_id tariff calls_month                 \n",
              "1000    ultra  2018-05-01        164     22\n",
              "               2018-06-01        187     43\n",
              "               2018-07-01        346     47\n",
              "               2018-08-01        418     52\n",
              "               2018-09-01        478     58\n",
              "               2018-10-01        363     57\n",
              "               2018-11-01        344     43\n",
              "               2018-12-01        341     46\n",
              "1001    smart  2018-11-01        444     59\n",
              "               2018-12-01        430     63"
            ],
            "text/html": [
              "\n",
              "  <div id=\"df-7e3ad607-fb22-490b-b55b-b8937508f7d1\">\n",
              "    <div class=\"colab-df-container\">\n",
              "      <div>\n",
              "<style scoped>\n",
              "    .dataframe tbody tr th:only-of-type {\n",
              "        vertical-align: middle;\n",
              "    }\n",
              "\n",
              "    .dataframe tbody tr th {\n",
              "        vertical-align: top;\n",
              "    }\n",
              "\n",
              "    .dataframe thead th {\n",
              "        text-align: right;\n",
              "    }\n",
              "</style>\n",
              "<table border=\"1\" class=\"dataframe\">\n",
              "  <thead>\n",
              "    <tr style=\"text-align: right;\">\n",
              "      <th></th>\n",
              "      <th></th>\n",
              "      <th></th>\n",
              "      <th>duration</th>\n",
              "      <th>calls</th>\n",
              "    </tr>\n",
              "    <tr>\n",
              "      <th>user_id</th>\n",
              "      <th>tariff</th>\n",
              "      <th>calls_month</th>\n",
              "      <th></th>\n",
              "      <th></th>\n",
              "    </tr>\n",
              "  </thead>\n",
              "  <tbody>\n",
              "    <tr>\n",
              "      <th rowspan=\"8\" valign=\"top\">1000</th>\n",
              "      <th rowspan=\"8\" valign=\"top\">ultra</th>\n",
              "      <th>2018-05-01</th>\n",
              "      <td>164</td>\n",
              "      <td>22</td>\n",
              "    </tr>\n",
              "    <tr>\n",
              "      <th>2018-06-01</th>\n",
              "      <td>187</td>\n",
              "      <td>43</td>\n",
              "    </tr>\n",
              "    <tr>\n",
              "      <th>2018-07-01</th>\n",
              "      <td>346</td>\n",
              "      <td>47</td>\n",
              "    </tr>\n",
              "    <tr>\n",
              "      <th>2018-08-01</th>\n",
              "      <td>418</td>\n",
              "      <td>52</td>\n",
              "    </tr>\n",
              "    <tr>\n",
              "      <th>2018-09-01</th>\n",
              "      <td>478</td>\n",
              "      <td>58</td>\n",
              "    </tr>\n",
              "    <tr>\n",
              "      <th>2018-10-01</th>\n",
              "      <td>363</td>\n",
              "      <td>57</td>\n",
              "    </tr>\n",
              "    <tr>\n",
              "      <th>2018-11-01</th>\n",
              "      <td>344</td>\n",
              "      <td>43</td>\n",
              "    </tr>\n",
              "    <tr>\n",
              "      <th>2018-12-01</th>\n",
              "      <td>341</td>\n",
              "      <td>46</td>\n",
              "    </tr>\n",
              "    <tr>\n",
              "      <th rowspan=\"2\" valign=\"top\">1001</th>\n",
              "      <th rowspan=\"2\" valign=\"top\">smart</th>\n",
              "      <th>2018-11-01</th>\n",
              "      <td>444</td>\n",
              "      <td>59</td>\n",
              "    </tr>\n",
              "    <tr>\n",
              "      <th>2018-12-01</th>\n",
              "      <td>430</td>\n",
              "      <td>63</td>\n",
              "    </tr>\n",
              "  </tbody>\n",
              "</table>\n",
              "</div>\n",
              "      <button class=\"colab-df-convert\" onclick=\"convertToInteractive('df-7e3ad607-fb22-490b-b55b-b8937508f7d1')\"\n",
              "              title=\"Convert this dataframe to an interactive table.\"\n",
              "              style=\"display:none;\">\n",
              "        \n",
              "  <svg xmlns=\"http://www.w3.org/2000/svg\" height=\"24px\"viewBox=\"0 0 24 24\"\n",
              "       width=\"24px\">\n",
              "    <path d=\"M0 0h24v24H0V0z\" fill=\"none\"/>\n",
              "    <path d=\"M18.56 5.44l.94 2.06.94-2.06 2.06-.94-2.06-.94-.94-2.06-.94 2.06-2.06.94zm-11 1L8.5 8.5l.94-2.06 2.06-.94-2.06-.94L8.5 2.5l-.94 2.06-2.06.94zm10 10l.94 2.06.94-2.06 2.06-.94-2.06-.94-.94-2.06-.94 2.06-2.06.94z\"/><path d=\"M17.41 7.96l-1.37-1.37c-.4-.4-.92-.59-1.43-.59-.52 0-1.04.2-1.43.59L10.3 9.45l-7.72 7.72c-.78.78-.78 2.05 0 2.83L4 21.41c.39.39.9.59 1.41.59.51 0 1.02-.2 1.41-.59l7.78-7.78 2.81-2.81c.8-.78.8-2.07 0-2.86zM5.41 20L4 18.59l7.72-7.72 1.47 1.35L5.41 20z\"/>\n",
              "  </svg>\n",
              "      </button>\n",
              "      \n",
              "  <style>\n",
              "    .colab-df-container {\n",
              "      display:flex;\n",
              "      flex-wrap:wrap;\n",
              "      gap: 12px;\n",
              "    }\n",
              "\n",
              "    .colab-df-convert {\n",
              "      background-color: #E8F0FE;\n",
              "      border: none;\n",
              "      border-radius: 50%;\n",
              "      cursor: pointer;\n",
              "      display: none;\n",
              "      fill: #1967D2;\n",
              "      height: 32px;\n",
              "      padding: 0 0 0 0;\n",
              "      width: 32px;\n",
              "    }\n",
              "\n",
              "    .colab-df-convert:hover {\n",
              "      background-color: #E2EBFA;\n",
              "      box-shadow: 0px 1px 2px rgba(60, 64, 67, 0.3), 0px 1px 3px 1px rgba(60, 64, 67, 0.15);\n",
              "      fill: #174EA6;\n",
              "    }\n",
              "\n",
              "    [theme=dark] .colab-df-convert {\n",
              "      background-color: #3B4455;\n",
              "      fill: #D2E3FC;\n",
              "    }\n",
              "\n",
              "    [theme=dark] .colab-df-convert:hover {\n",
              "      background-color: #434B5C;\n",
              "      box-shadow: 0px 1px 3px 1px rgba(0, 0, 0, 0.15);\n",
              "      filter: drop-shadow(0px 1px 2px rgba(0, 0, 0, 0.3));\n",
              "      fill: #FFFFFF;\n",
              "    }\n",
              "  </style>\n",
              "\n",
              "      <script>\n",
              "        const buttonEl =\n",
              "          document.querySelector('#df-7e3ad607-fb22-490b-b55b-b8937508f7d1 button.colab-df-convert');\n",
              "        buttonEl.style.display =\n",
              "          google.colab.kernel.accessAllowed ? 'block' : 'none';\n",
              "\n",
              "        async function convertToInteractive(key) {\n",
              "          const element = document.querySelector('#df-7e3ad607-fb22-490b-b55b-b8937508f7d1');\n",
              "          const dataTable =\n",
              "            await google.colab.kernel.invokeFunction('convertToInteractive',\n",
              "                                                     [key], {});\n",
              "          if (!dataTable) return;\n",
              "\n",
              "          const docLinkHtml = 'Like what you see? Visit the ' +\n",
              "            '<a target=\"_blank\" href=https://colab.research.google.com/notebooks/data_table.ipynb>data table notebook</a>'\n",
              "            + ' to learn more about interactive tables.';\n",
              "          element.innerHTML = '';\n",
              "          dataTable['output_type'] = 'display_data';\n",
              "          await google.colab.output.renderOutput(dataTable, element);\n",
              "          const docLink = document.createElement('div');\n",
              "          docLink.innerHTML = docLinkHtml;\n",
              "          element.appendChild(docLink);\n",
              "        }\n",
              "      </script>\n",
              "    </div>\n",
              "  </div>\n",
              "  "
            ]
          },
          "metadata": {},
          "execution_count": 27
        }
      ],
      "source": [
        "#сгруппируем таблицу, которая будет показывать общую продолжительность звонков по меясцам по каждому пользователю\n",
        "\n",
        "table1_group = table1.pivot_table(index=['user_id', 'tariff', 'calls_month'], values=['id','duration_round'], aggfunc={'id': 'count', 'duration_round': 'sum'})\n",
        "table1_group.columns = ['duration', 'calls']\n",
        "table1_group.head(10)"
      ]
    },
    {
      "cell_type": "code",
      "execution_count": 28,
      "metadata": {
        "scrolled": true,
        "colab": {
          "base_uri": "https://localhost:8080/",
          "height": 363
        },
        "id": "fkEQzsbhZci0",
        "outputId": "b3ef0b9e-b68e-46dc-b580-4ff589ffd87a"
      },
      "outputs": [
        {
          "output_type": "execute_result",
          "data": {
            "text/plain": [
              "       id  mb_used session_date  user_id session_month  age churn_date  \\\n",
              "0  1000_0      113   2018-11-25     1000    2018-11-01   52        NaT   \n",
              "1  1000_1     1053   2018-09-07     1000    2018-09-01   52        NaT   \n",
              "2  1000_2     1198   2018-06-25     1000    2018-06-01   52        NaT   \n",
              "3  1000_3      551   2018-08-22     1000    2018-08-01   52        NaT   \n",
              "4  1000_4      303   2018-09-24     1000    2018-09-01   52        NaT   \n",
              "5  1000_5      400   2018-10-02     1000    2018-10-01   52        NaT   \n",
              "6  1000_6      541   2018-09-07     1000    2018-09-01   52        NaT   \n",
              "7  1000_7      416   2018-07-11     1000    2018-07-01   52        NaT   \n",
              "8  1000_8      506   2018-10-08     1000    2018-10-01   52        NaT   \n",
              "9  1000_9      346   2018-09-03     1000    2018-09-01   52        NaT   \n",
              "\n",
              "        city first_name  last_name   reg_date tariff  \n",
              "0  Краснодар     Рафаил  Верещагин 2018-05-25  ultra  \n",
              "1  Краснодар     Рафаил  Верещагин 2018-05-25  ultra  \n",
              "2  Краснодар     Рафаил  Верещагин 2018-05-25  ultra  \n",
              "3  Краснодар     Рафаил  Верещагин 2018-05-25  ultra  \n",
              "4  Краснодар     Рафаил  Верещагин 2018-05-25  ultra  \n",
              "5  Краснодар     Рафаил  Верещагин 2018-05-25  ultra  \n",
              "6  Краснодар     Рафаил  Верещагин 2018-05-25  ultra  \n",
              "7  Краснодар     Рафаил  Верещагин 2018-05-25  ultra  \n",
              "8  Краснодар     Рафаил  Верещагин 2018-05-25  ultra  \n",
              "9  Краснодар     Рафаил  Верещагин 2018-05-25  ultra  "
            ],
            "text/html": [
              "\n",
              "  <div id=\"df-60844559-65ab-4923-af74-5b86f7c23404\">\n",
              "    <div class=\"colab-df-container\">\n",
              "      <div>\n",
              "<style scoped>\n",
              "    .dataframe tbody tr th:only-of-type {\n",
              "        vertical-align: middle;\n",
              "    }\n",
              "\n",
              "    .dataframe tbody tr th {\n",
              "        vertical-align: top;\n",
              "    }\n",
              "\n",
              "    .dataframe thead th {\n",
              "        text-align: right;\n",
              "    }\n",
              "</style>\n",
              "<table border=\"1\" class=\"dataframe\">\n",
              "  <thead>\n",
              "    <tr style=\"text-align: right;\">\n",
              "      <th></th>\n",
              "      <th>id</th>\n",
              "      <th>mb_used</th>\n",
              "      <th>session_date</th>\n",
              "      <th>user_id</th>\n",
              "      <th>session_month</th>\n",
              "      <th>age</th>\n",
              "      <th>churn_date</th>\n",
              "      <th>city</th>\n",
              "      <th>first_name</th>\n",
              "      <th>last_name</th>\n",
              "      <th>reg_date</th>\n",
              "      <th>tariff</th>\n",
              "    </tr>\n",
              "  </thead>\n",
              "  <tbody>\n",
              "    <tr>\n",
              "      <th>0</th>\n",
              "      <td>1000_0</td>\n",
              "      <td>113</td>\n",
              "      <td>2018-11-25</td>\n",
              "      <td>1000</td>\n",
              "      <td>2018-11-01</td>\n",
              "      <td>52</td>\n",
              "      <td>NaT</td>\n",
              "      <td>Краснодар</td>\n",
              "      <td>Рафаил</td>\n",
              "      <td>Верещагин</td>\n",
              "      <td>2018-05-25</td>\n",
              "      <td>ultra</td>\n",
              "    </tr>\n",
              "    <tr>\n",
              "      <th>1</th>\n",
              "      <td>1000_1</td>\n",
              "      <td>1053</td>\n",
              "      <td>2018-09-07</td>\n",
              "      <td>1000</td>\n",
              "      <td>2018-09-01</td>\n",
              "      <td>52</td>\n",
              "      <td>NaT</td>\n",
              "      <td>Краснодар</td>\n",
              "      <td>Рафаил</td>\n",
              "      <td>Верещагин</td>\n",
              "      <td>2018-05-25</td>\n",
              "      <td>ultra</td>\n",
              "    </tr>\n",
              "    <tr>\n",
              "      <th>2</th>\n",
              "      <td>1000_2</td>\n",
              "      <td>1198</td>\n",
              "      <td>2018-06-25</td>\n",
              "      <td>1000</td>\n",
              "      <td>2018-06-01</td>\n",
              "      <td>52</td>\n",
              "      <td>NaT</td>\n",
              "      <td>Краснодар</td>\n",
              "      <td>Рафаил</td>\n",
              "      <td>Верещагин</td>\n",
              "      <td>2018-05-25</td>\n",
              "      <td>ultra</td>\n",
              "    </tr>\n",
              "    <tr>\n",
              "      <th>3</th>\n",
              "      <td>1000_3</td>\n",
              "      <td>551</td>\n",
              "      <td>2018-08-22</td>\n",
              "      <td>1000</td>\n",
              "      <td>2018-08-01</td>\n",
              "      <td>52</td>\n",
              "      <td>NaT</td>\n",
              "      <td>Краснодар</td>\n",
              "      <td>Рафаил</td>\n",
              "      <td>Верещагин</td>\n",
              "      <td>2018-05-25</td>\n",
              "      <td>ultra</td>\n",
              "    </tr>\n",
              "    <tr>\n",
              "      <th>4</th>\n",
              "      <td>1000_4</td>\n",
              "      <td>303</td>\n",
              "      <td>2018-09-24</td>\n",
              "      <td>1000</td>\n",
              "      <td>2018-09-01</td>\n",
              "      <td>52</td>\n",
              "      <td>NaT</td>\n",
              "      <td>Краснодар</td>\n",
              "      <td>Рафаил</td>\n",
              "      <td>Верещагин</td>\n",
              "      <td>2018-05-25</td>\n",
              "      <td>ultra</td>\n",
              "    </tr>\n",
              "    <tr>\n",
              "      <th>5</th>\n",
              "      <td>1000_5</td>\n",
              "      <td>400</td>\n",
              "      <td>2018-10-02</td>\n",
              "      <td>1000</td>\n",
              "      <td>2018-10-01</td>\n",
              "      <td>52</td>\n",
              "      <td>NaT</td>\n",
              "      <td>Краснодар</td>\n",
              "      <td>Рафаил</td>\n",
              "      <td>Верещагин</td>\n",
              "      <td>2018-05-25</td>\n",
              "      <td>ultra</td>\n",
              "    </tr>\n",
              "    <tr>\n",
              "      <th>6</th>\n",
              "      <td>1000_6</td>\n",
              "      <td>541</td>\n",
              "      <td>2018-09-07</td>\n",
              "      <td>1000</td>\n",
              "      <td>2018-09-01</td>\n",
              "      <td>52</td>\n",
              "      <td>NaT</td>\n",
              "      <td>Краснодар</td>\n",
              "      <td>Рафаил</td>\n",
              "      <td>Верещагин</td>\n",
              "      <td>2018-05-25</td>\n",
              "      <td>ultra</td>\n",
              "    </tr>\n",
              "    <tr>\n",
              "      <th>7</th>\n",
              "      <td>1000_7</td>\n",
              "      <td>416</td>\n",
              "      <td>2018-07-11</td>\n",
              "      <td>1000</td>\n",
              "      <td>2018-07-01</td>\n",
              "      <td>52</td>\n",
              "      <td>NaT</td>\n",
              "      <td>Краснодар</td>\n",
              "      <td>Рафаил</td>\n",
              "      <td>Верещагин</td>\n",
              "      <td>2018-05-25</td>\n",
              "      <td>ultra</td>\n",
              "    </tr>\n",
              "    <tr>\n",
              "      <th>8</th>\n",
              "      <td>1000_8</td>\n",
              "      <td>506</td>\n",
              "      <td>2018-10-08</td>\n",
              "      <td>1000</td>\n",
              "      <td>2018-10-01</td>\n",
              "      <td>52</td>\n",
              "      <td>NaT</td>\n",
              "      <td>Краснодар</td>\n",
              "      <td>Рафаил</td>\n",
              "      <td>Верещагин</td>\n",
              "      <td>2018-05-25</td>\n",
              "      <td>ultra</td>\n",
              "    </tr>\n",
              "    <tr>\n",
              "      <th>9</th>\n",
              "      <td>1000_9</td>\n",
              "      <td>346</td>\n",
              "      <td>2018-09-03</td>\n",
              "      <td>1000</td>\n",
              "      <td>2018-09-01</td>\n",
              "      <td>52</td>\n",
              "      <td>NaT</td>\n",
              "      <td>Краснодар</td>\n",
              "      <td>Рафаил</td>\n",
              "      <td>Верещагин</td>\n",
              "      <td>2018-05-25</td>\n",
              "      <td>ultra</td>\n",
              "    </tr>\n",
              "  </tbody>\n",
              "</table>\n",
              "</div>\n",
              "      <button class=\"colab-df-convert\" onclick=\"convertToInteractive('df-60844559-65ab-4923-af74-5b86f7c23404')\"\n",
              "              title=\"Convert this dataframe to an interactive table.\"\n",
              "              style=\"display:none;\">\n",
              "        \n",
              "  <svg xmlns=\"http://www.w3.org/2000/svg\" height=\"24px\"viewBox=\"0 0 24 24\"\n",
              "       width=\"24px\">\n",
              "    <path d=\"M0 0h24v24H0V0z\" fill=\"none\"/>\n",
              "    <path d=\"M18.56 5.44l.94 2.06.94-2.06 2.06-.94-2.06-.94-.94-2.06-.94 2.06-2.06.94zm-11 1L8.5 8.5l.94-2.06 2.06-.94-2.06-.94L8.5 2.5l-.94 2.06-2.06.94zm10 10l.94 2.06.94-2.06 2.06-.94-2.06-.94-.94-2.06-.94 2.06-2.06.94z\"/><path d=\"M17.41 7.96l-1.37-1.37c-.4-.4-.92-.59-1.43-.59-.52 0-1.04.2-1.43.59L10.3 9.45l-7.72 7.72c-.78.78-.78 2.05 0 2.83L4 21.41c.39.39.9.59 1.41.59.51 0 1.02-.2 1.41-.59l7.78-7.78 2.81-2.81c.8-.78.8-2.07 0-2.86zM5.41 20L4 18.59l7.72-7.72 1.47 1.35L5.41 20z\"/>\n",
              "  </svg>\n",
              "      </button>\n",
              "      \n",
              "  <style>\n",
              "    .colab-df-container {\n",
              "      display:flex;\n",
              "      flex-wrap:wrap;\n",
              "      gap: 12px;\n",
              "    }\n",
              "\n",
              "    .colab-df-convert {\n",
              "      background-color: #E8F0FE;\n",
              "      border: none;\n",
              "      border-radius: 50%;\n",
              "      cursor: pointer;\n",
              "      display: none;\n",
              "      fill: #1967D2;\n",
              "      height: 32px;\n",
              "      padding: 0 0 0 0;\n",
              "      width: 32px;\n",
              "    }\n",
              "\n",
              "    .colab-df-convert:hover {\n",
              "      background-color: #E2EBFA;\n",
              "      box-shadow: 0px 1px 2px rgba(60, 64, 67, 0.3), 0px 1px 3px 1px rgba(60, 64, 67, 0.15);\n",
              "      fill: #174EA6;\n",
              "    }\n",
              "\n",
              "    [theme=dark] .colab-df-convert {\n",
              "      background-color: #3B4455;\n",
              "      fill: #D2E3FC;\n",
              "    }\n",
              "\n",
              "    [theme=dark] .colab-df-convert:hover {\n",
              "      background-color: #434B5C;\n",
              "      box-shadow: 0px 1px 3px 1px rgba(0, 0, 0, 0.15);\n",
              "      filter: drop-shadow(0px 1px 2px rgba(0, 0, 0, 0.3));\n",
              "      fill: #FFFFFF;\n",
              "    }\n",
              "  </style>\n",
              "\n",
              "      <script>\n",
              "        const buttonEl =\n",
              "          document.querySelector('#df-60844559-65ab-4923-af74-5b86f7c23404 button.colab-df-convert');\n",
              "        buttonEl.style.display =\n",
              "          google.colab.kernel.accessAllowed ? 'block' : 'none';\n",
              "\n",
              "        async function convertToInteractive(key) {\n",
              "          const element = document.querySelector('#df-60844559-65ab-4923-af74-5b86f7c23404');\n",
              "          const dataTable =\n",
              "            await google.colab.kernel.invokeFunction('convertToInteractive',\n",
              "                                                     [key], {});\n",
              "          if (!dataTable) return;\n",
              "\n",
              "          const docLinkHtml = 'Like what you see? Visit the ' +\n",
              "            '<a target=\"_blank\" href=https://colab.research.google.com/notebooks/data_table.ipynb>data table notebook</a>'\n",
              "            + ' to learn more about interactive tables.';\n",
              "          element.innerHTML = '';\n",
              "          dataTable['output_type'] = 'display_data';\n",
              "          await google.colab.output.renderOutput(dataTable, element);\n",
              "          const docLink = document.createElement('div');\n",
              "          docLink.innerHTML = docLinkHtml;\n",
              "          element.appendChild(docLink);\n",
              "        }\n",
              "      </script>\n",
              "    </div>\n",
              "  </div>\n",
              "  "
            ]
          },
          "metadata": {},
          "execution_count": 28
        }
      ],
      "source": [
        "#объединим таблицы по интернет-сессиям и пользователям\n",
        "\n",
        "table2 = data_internet.merge(data_users, on='user_id', how='left')\n",
        "table2.head(10)"
      ]
    },
    {
      "cell_type": "code",
      "execution_count": 29,
      "metadata": {
        "colab": {
          "base_uri": "https://localhost:8080/",
          "height": 394
        },
        "id": "LAv_8B3EZci0",
        "outputId": "2dab05bb-83a5-43fd-cc86-5d8a2fc4fdbb"
      },
      "outputs": [
        {
          "output_type": "execute_result",
          "data": {
            "text/plain": [
              "                              mb_used\n",
              "user_id tariff session_month         \n",
              "1000    ultra  2018-05-01        2256\n",
              "               2018-06-01       23257\n",
              "               2018-07-01       14016\n",
              "               2018-08-01       14070\n",
              "               2018-09-01       14581\n",
              "               2018-10-01       14717\n",
              "               2018-11-01       14768\n",
              "               2018-12-01        9827\n",
              "1001    smart  2018-11-01       18452\n",
              "               2018-12-01       14053"
            ],
            "text/html": [
              "\n",
              "  <div id=\"df-eacbb863-f94f-4ecc-aeb3-1e01ea875d40\">\n",
              "    <div class=\"colab-df-container\">\n",
              "      <div>\n",
              "<style scoped>\n",
              "    .dataframe tbody tr th:only-of-type {\n",
              "        vertical-align: middle;\n",
              "    }\n",
              "\n",
              "    .dataframe tbody tr th {\n",
              "        vertical-align: top;\n",
              "    }\n",
              "\n",
              "    .dataframe thead th {\n",
              "        text-align: right;\n",
              "    }\n",
              "</style>\n",
              "<table border=\"1\" class=\"dataframe\">\n",
              "  <thead>\n",
              "    <tr style=\"text-align: right;\">\n",
              "      <th></th>\n",
              "      <th></th>\n",
              "      <th></th>\n",
              "      <th>mb_used</th>\n",
              "    </tr>\n",
              "    <tr>\n",
              "      <th>user_id</th>\n",
              "      <th>tariff</th>\n",
              "      <th>session_month</th>\n",
              "      <th></th>\n",
              "    </tr>\n",
              "  </thead>\n",
              "  <tbody>\n",
              "    <tr>\n",
              "      <th rowspan=\"8\" valign=\"top\">1000</th>\n",
              "      <th rowspan=\"8\" valign=\"top\">ultra</th>\n",
              "      <th>2018-05-01</th>\n",
              "      <td>2256</td>\n",
              "    </tr>\n",
              "    <tr>\n",
              "      <th>2018-06-01</th>\n",
              "      <td>23257</td>\n",
              "    </tr>\n",
              "    <tr>\n",
              "      <th>2018-07-01</th>\n",
              "      <td>14016</td>\n",
              "    </tr>\n",
              "    <tr>\n",
              "      <th>2018-08-01</th>\n",
              "      <td>14070</td>\n",
              "    </tr>\n",
              "    <tr>\n",
              "      <th>2018-09-01</th>\n",
              "      <td>14581</td>\n",
              "    </tr>\n",
              "    <tr>\n",
              "      <th>2018-10-01</th>\n",
              "      <td>14717</td>\n",
              "    </tr>\n",
              "    <tr>\n",
              "      <th>2018-11-01</th>\n",
              "      <td>14768</td>\n",
              "    </tr>\n",
              "    <tr>\n",
              "      <th>2018-12-01</th>\n",
              "      <td>9827</td>\n",
              "    </tr>\n",
              "    <tr>\n",
              "      <th rowspan=\"2\" valign=\"top\">1001</th>\n",
              "      <th rowspan=\"2\" valign=\"top\">smart</th>\n",
              "      <th>2018-11-01</th>\n",
              "      <td>18452</td>\n",
              "    </tr>\n",
              "    <tr>\n",
              "      <th>2018-12-01</th>\n",
              "      <td>14053</td>\n",
              "    </tr>\n",
              "  </tbody>\n",
              "</table>\n",
              "</div>\n",
              "      <button class=\"colab-df-convert\" onclick=\"convertToInteractive('df-eacbb863-f94f-4ecc-aeb3-1e01ea875d40')\"\n",
              "              title=\"Convert this dataframe to an interactive table.\"\n",
              "              style=\"display:none;\">\n",
              "        \n",
              "  <svg xmlns=\"http://www.w3.org/2000/svg\" height=\"24px\"viewBox=\"0 0 24 24\"\n",
              "       width=\"24px\">\n",
              "    <path d=\"M0 0h24v24H0V0z\" fill=\"none\"/>\n",
              "    <path d=\"M18.56 5.44l.94 2.06.94-2.06 2.06-.94-2.06-.94-.94-2.06-.94 2.06-2.06.94zm-11 1L8.5 8.5l.94-2.06 2.06-.94-2.06-.94L8.5 2.5l-.94 2.06-2.06.94zm10 10l.94 2.06.94-2.06 2.06-.94-2.06-.94-.94-2.06-.94 2.06-2.06.94z\"/><path d=\"M17.41 7.96l-1.37-1.37c-.4-.4-.92-.59-1.43-.59-.52 0-1.04.2-1.43.59L10.3 9.45l-7.72 7.72c-.78.78-.78 2.05 0 2.83L4 21.41c.39.39.9.59 1.41.59.51 0 1.02-.2 1.41-.59l7.78-7.78 2.81-2.81c.8-.78.8-2.07 0-2.86zM5.41 20L4 18.59l7.72-7.72 1.47 1.35L5.41 20z\"/>\n",
              "  </svg>\n",
              "      </button>\n",
              "      \n",
              "  <style>\n",
              "    .colab-df-container {\n",
              "      display:flex;\n",
              "      flex-wrap:wrap;\n",
              "      gap: 12px;\n",
              "    }\n",
              "\n",
              "    .colab-df-convert {\n",
              "      background-color: #E8F0FE;\n",
              "      border: none;\n",
              "      border-radius: 50%;\n",
              "      cursor: pointer;\n",
              "      display: none;\n",
              "      fill: #1967D2;\n",
              "      height: 32px;\n",
              "      padding: 0 0 0 0;\n",
              "      width: 32px;\n",
              "    }\n",
              "\n",
              "    .colab-df-convert:hover {\n",
              "      background-color: #E2EBFA;\n",
              "      box-shadow: 0px 1px 2px rgba(60, 64, 67, 0.3), 0px 1px 3px 1px rgba(60, 64, 67, 0.15);\n",
              "      fill: #174EA6;\n",
              "    }\n",
              "\n",
              "    [theme=dark] .colab-df-convert {\n",
              "      background-color: #3B4455;\n",
              "      fill: #D2E3FC;\n",
              "    }\n",
              "\n",
              "    [theme=dark] .colab-df-convert:hover {\n",
              "      background-color: #434B5C;\n",
              "      box-shadow: 0px 1px 3px 1px rgba(0, 0, 0, 0.15);\n",
              "      filter: drop-shadow(0px 1px 2px rgba(0, 0, 0, 0.3));\n",
              "      fill: #FFFFFF;\n",
              "    }\n",
              "  </style>\n",
              "\n",
              "      <script>\n",
              "        const buttonEl =\n",
              "          document.querySelector('#df-eacbb863-f94f-4ecc-aeb3-1e01ea875d40 button.colab-df-convert');\n",
              "        buttonEl.style.display =\n",
              "          google.colab.kernel.accessAllowed ? 'block' : 'none';\n",
              "\n",
              "        async function convertToInteractive(key) {\n",
              "          const element = document.querySelector('#df-eacbb863-f94f-4ecc-aeb3-1e01ea875d40');\n",
              "          const dataTable =\n",
              "            await google.colab.kernel.invokeFunction('convertToInteractive',\n",
              "                                                     [key], {});\n",
              "          if (!dataTable) return;\n",
              "\n",
              "          const docLinkHtml = 'Like what you see? Visit the ' +\n",
              "            '<a target=\"_blank\" href=https://colab.research.google.com/notebooks/data_table.ipynb>data table notebook</a>'\n",
              "            + ' to learn more about interactive tables.';\n",
              "          element.innerHTML = '';\n",
              "          dataTable['output_type'] = 'display_data';\n",
              "          await google.colab.output.renderOutput(dataTable, element);\n",
              "          const docLink = document.createElement('div');\n",
              "          docLink.innerHTML = docLinkHtml;\n",
              "          element.appendChild(docLink);\n",
              "        }\n",
              "      </script>\n",
              "    </div>\n",
              "  </div>\n",
              "  "
            ]
          },
          "metadata": {},
          "execution_count": 29
        }
      ],
      "source": [
        "#сгруппируем данные по количеству потраченных мегабайтов по-месячно по каждому пользователю\n",
        "\n",
        "table2_group = table2.pivot_table(index=['user_id', 'tariff', 'session_month'], values='mb_used', aggfunc='sum')\n",
        "table2_group.head(10)"
      ]
    },
    {
      "cell_type": "code",
      "execution_count": 30,
      "metadata": {
        "colab": {
          "base_uri": "https://localhost:8080/",
          "height": 363
        },
        "id": "wmmyg6qpZci0",
        "outputId": "8e1c6430-a90c-4ccf-b5b1-d4906e407619"
      },
      "outputs": [
        {
          "output_type": "execute_result",
          "data": {
            "text/plain": [
              "       id message_date  user_id message_month  age churn_date       city  \\\n",
              "0  1000_0   2018-06-27     1000    2018-06-01   52        NaT  Краснодар   \n",
              "1  1000_1   2018-10-08     1000    2018-10-01   52        NaT  Краснодар   \n",
              "2  1000_2   2018-08-04     1000    2018-08-01   52        NaT  Краснодар   \n",
              "3  1000_3   2018-06-16     1000    2018-06-01   52        NaT  Краснодар   \n",
              "4  1000_4   2018-12-05     1000    2018-12-01   52        NaT  Краснодар   \n",
              "5  1000_5   2018-06-20     1000    2018-06-01   52        NaT  Краснодар   \n",
              "6  1000_6   2018-11-19     1000    2018-11-01   52        NaT  Краснодар   \n",
              "7  1000_7   2018-10-29     1000    2018-10-01   52        NaT  Краснодар   \n",
              "8  1000_8   2018-06-25     1000    2018-06-01   52        NaT  Краснодар   \n",
              "9  1000_9   2018-12-18     1000    2018-12-01   52        NaT  Краснодар   \n",
              "\n",
              "  first_name  last_name   reg_date tariff  \n",
              "0     Рафаил  Верещагин 2018-05-25  ultra  \n",
              "1     Рафаил  Верещагин 2018-05-25  ultra  \n",
              "2     Рафаил  Верещагин 2018-05-25  ultra  \n",
              "3     Рафаил  Верещагин 2018-05-25  ultra  \n",
              "4     Рафаил  Верещагин 2018-05-25  ultra  \n",
              "5     Рафаил  Верещагин 2018-05-25  ultra  \n",
              "6     Рафаил  Верещагин 2018-05-25  ultra  \n",
              "7     Рафаил  Верещагин 2018-05-25  ultra  \n",
              "8     Рафаил  Верещагин 2018-05-25  ultra  \n",
              "9     Рафаил  Верещагин 2018-05-25  ultra  "
            ],
            "text/html": [
              "\n",
              "  <div id=\"df-d55487a2-2669-4baa-b950-601b51628e22\">\n",
              "    <div class=\"colab-df-container\">\n",
              "      <div>\n",
              "<style scoped>\n",
              "    .dataframe tbody tr th:only-of-type {\n",
              "        vertical-align: middle;\n",
              "    }\n",
              "\n",
              "    .dataframe tbody tr th {\n",
              "        vertical-align: top;\n",
              "    }\n",
              "\n",
              "    .dataframe thead th {\n",
              "        text-align: right;\n",
              "    }\n",
              "</style>\n",
              "<table border=\"1\" class=\"dataframe\">\n",
              "  <thead>\n",
              "    <tr style=\"text-align: right;\">\n",
              "      <th></th>\n",
              "      <th>id</th>\n",
              "      <th>message_date</th>\n",
              "      <th>user_id</th>\n",
              "      <th>message_month</th>\n",
              "      <th>age</th>\n",
              "      <th>churn_date</th>\n",
              "      <th>city</th>\n",
              "      <th>first_name</th>\n",
              "      <th>last_name</th>\n",
              "      <th>reg_date</th>\n",
              "      <th>tariff</th>\n",
              "    </tr>\n",
              "  </thead>\n",
              "  <tbody>\n",
              "    <tr>\n",
              "      <th>0</th>\n",
              "      <td>1000_0</td>\n",
              "      <td>2018-06-27</td>\n",
              "      <td>1000</td>\n",
              "      <td>2018-06-01</td>\n",
              "      <td>52</td>\n",
              "      <td>NaT</td>\n",
              "      <td>Краснодар</td>\n",
              "      <td>Рафаил</td>\n",
              "      <td>Верещагин</td>\n",
              "      <td>2018-05-25</td>\n",
              "      <td>ultra</td>\n",
              "    </tr>\n",
              "    <tr>\n",
              "      <th>1</th>\n",
              "      <td>1000_1</td>\n",
              "      <td>2018-10-08</td>\n",
              "      <td>1000</td>\n",
              "      <td>2018-10-01</td>\n",
              "      <td>52</td>\n",
              "      <td>NaT</td>\n",
              "      <td>Краснодар</td>\n",
              "      <td>Рафаил</td>\n",
              "      <td>Верещагин</td>\n",
              "      <td>2018-05-25</td>\n",
              "      <td>ultra</td>\n",
              "    </tr>\n",
              "    <tr>\n",
              "      <th>2</th>\n",
              "      <td>1000_2</td>\n",
              "      <td>2018-08-04</td>\n",
              "      <td>1000</td>\n",
              "      <td>2018-08-01</td>\n",
              "      <td>52</td>\n",
              "      <td>NaT</td>\n",
              "      <td>Краснодар</td>\n",
              "      <td>Рафаил</td>\n",
              "      <td>Верещагин</td>\n",
              "      <td>2018-05-25</td>\n",
              "      <td>ultra</td>\n",
              "    </tr>\n",
              "    <tr>\n",
              "      <th>3</th>\n",
              "      <td>1000_3</td>\n",
              "      <td>2018-06-16</td>\n",
              "      <td>1000</td>\n",
              "      <td>2018-06-01</td>\n",
              "      <td>52</td>\n",
              "      <td>NaT</td>\n",
              "      <td>Краснодар</td>\n",
              "      <td>Рафаил</td>\n",
              "      <td>Верещагин</td>\n",
              "      <td>2018-05-25</td>\n",
              "      <td>ultra</td>\n",
              "    </tr>\n",
              "    <tr>\n",
              "      <th>4</th>\n",
              "      <td>1000_4</td>\n",
              "      <td>2018-12-05</td>\n",
              "      <td>1000</td>\n",
              "      <td>2018-12-01</td>\n",
              "      <td>52</td>\n",
              "      <td>NaT</td>\n",
              "      <td>Краснодар</td>\n",
              "      <td>Рафаил</td>\n",
              "      <td>Верещагин</td>\n",
              "      <td>2018-05-25</td>\n",
              "      <td>ultra</td>\n",
              "    </tr>\n",
              "    <tr>\n",
              "      <th>5</th>\n",
              "      <td>1000_5</td>\n",
              "      <td>2018-06-20</td>\n",
              "      <td>1000</td>\n",
              "      <td>2018-06-01</td>\n",
              "      <td>52</td>\n",
              "      <td>NaT</td>\n",
              "      <td>Краснодар</td>\n",
              "      <td>Рафаил</td>\n",
              "      <td>Верещагин</td>\n",
              "      <td>2018-05-25</td>\n",
              "      <td>ultra</td>\n",
              "    </tr>\n",
              "    <tr>\n",
              "      <th>6</th>\n",
              "      <td>1000_6</td>\n",
              "      <td>2018-11-19</td>\n",
              "      <td>1000</td>\n",
              "      <td>2018-11-01</td>\n",
              "      <td>52</td>\n",
              "      <td>NaT</td>\n",
              "      <td>Краснодар</td>\n",
              "      <td>Рафаил</td>\n",
              "      <td>Верещагин</td>\n",
              "      <td>2018-05-25</td>\n",
              "      <td>ultra</td>\n",
              "    </tr>\n",
              "    <tr>\n",
              "      <th>7</th>\n",
              "      <td>1000_7</td>\n",
              "      <td>2018-10-29</td>\n",
              "      <td>1000</td>\n",
              "      <td>2018-10-01</td>\n",
              "      <td>52</td>\n",
              "      <td>NaT</td>\n",
              "      <td>Краснодар</td>\n",
              "      <td>Рафаил</td>\n",
              "      <td>Верещагин</td>\n",
              "      <td>2018-05-25</td>\n",
              "      <td>ultra</td>\n",
              "    </tr>\n",
              "    <tr>\n",
              "      <th>8</th>\n",
              "      <td>1000_8</td>\n",
              "      <td>2018-06-25</td>\n",
              "      <td>1000</td>\n",
              "      <td>2018-06-01</td>\n",
              "      <td>52</td>\n",
              "      <td>NaT</td>\n",
              "      <td>Краснодар</td>\n",
              "      <td>Рафаил</td>\n",
              "      <td>Верещагин</td>\n",
              "      <td>2018-05-25</td>\n",
              "      <td>ultra</td>\n",
              "    </tr>\n",
              "    <tr>\n",
              "      <th>9</th>\n",
              "      <td>1000_9</td>\n",
              "      <td>2018-12-18</td>\n",
              "      <td>1000</td>\n",
              "      <td>2018-12-01</td>\n",
              "      <td>52</td>\n",
              "      <td>NaT</td>\n",
              "      <td>Краснодар</td>\n",
              "      <td>Рафаил</td>\n",
              "      <td>Верещагин</td>\n",
              "      <td>2018-05-25</td>\n",
              "      <td>ultra</td>\n",
              "    </tr>\n",
              "  </tbody>\n",
              "</table>\n",
              "</div>\n",
              "      <button class=\"colab-df-convert\" onclick=\"convertToInteractive('df-d55487a2-2669-4baa-b950-601b51628e22')\"\n",
              "              title=\"Convert this dataframe to an interactive table.\"\n",
              "              style=\"display:none;\">\n",
              "        \n",
              "  <svg xmlns=\"http://www.w3.org/2000/svg\" height=\"24px\"viewBox=\"0 0 24 24\"\n",
              "       width=\"24px\">\n",
              "    <path d=\"M0 0h24v24H0V0z\" fill=\"none\"/>\n",
              "    <path d=\"M18.56 5.44l.94 2.06.94-2.06 2.06-.94-2.06-.94-.94-2.06-.94 2.06-2.06.94zm-11 1L8.5 8.5l.94-2.06 2.06-.94-2.06-.94L8.5 2.5l-.94 2.06-2.06.94zm10 10l.94 2.06.94-2.06 2.06-.94-2.06-.94-.94-2.06-.94 2.06-2.06.94z\"/><path d=\"M17.41 7.96l-1.37-1.37c-.4-.4-.92-.59-1.43-.59-.52 0-1.04.2-1.43.59L10.3 9.45l-7.72 7.72c-.78.78-.78 2.05 0 2.83L4 21.41c.39.39.9.59 1.41.59.51 0 1.02-.2 1.41-.59l7.78-7.78 2.81-2.81c.8-.78.8-2.07 0-2.86zM5.41 20L4 18.59l7.72-7.72 1.47 1.35L5.41 20z\"/>\n",
              "  </svg>\n",
              "      </button>\n",
              "      \n",
              "  <style>\n",
              "    .colab-df-container {\n",
              "      display:flex;\n",
              "      flex-wrap:wrap;\n",
              "      gap: 12px;\n",
              "    }\n",
              "\n",
              "    .colab-df-convert {\n",
              "      background-color: #E8F0FE;\n",
              "      border: none;\n",
              "      border-radius: 50%;\n",
              "      cursor: pointer;\n",
              "      display: none;\n",
              "      fill: #1967D2;\n",
              "      height: 32px;\n",
              "      padding: 0 0 0 0;\n",
              "      width: 32px;\n",
              "    }\n",
              "\n",
              "    .colab-df-convert:hover {\n",
              "      background-color: #E2EBFA;\n",
              "      box-shadow: 0px 1px 2px rgba(60, 64, 67, 0.3), 0px 1px 3px 1px rgba(60, 64, 67, 0.15);\n",
              "      fill: #174EA6;\n",
              "    }\n",
              "\n",
              "    [theme=dark] .colab-df-convert {\n",
              "      background-color: #3B4455;\n",
              "      fill: #D2E3FC;\n",
              "    }\n",
              "\n",
              "    [theme=dark] .colab-df-convert:hover {\n",
              "      background-color: #434B5C;\n",
              "      box-shadow: 0px 1px 3px 1px rgba(0, 0, 0, 0.15);\n",
              "      filter: drop-shadow(0px 1px 2px rgba(0, 0, 0, 0.3));\n",
              "      fill: #FFFFFF;\n",
              "    }\n",
              "  </style>\n",
              "\n",
              "      <script>\n",
              "        const buttonEl =\n",
              "          document.querySelector('#df-d55487a2-2669-4baa-b950-601b51628e22 button.colab-df-convert');\n",
              "        buttonEl.style.display =\n",
              "          google.colab.kernel.accessAllowed ? 'block' : 'none';\n",
              "\n",
              "        async function convertToInteractive(key) {\n",
              "          const element = document.querySelector('#df-d55487a2-2669-4baa-b950-601b51628e22');\n",
              "          const dataTable =\n",
              "            await google.colab.kernel.invokeFunction('convertToInteractive',\n",
              "                                                     [key], {});\n",
              "          if (!dataTable) return;\n",
              "\n",
              "          const docLinkHtml = 'Like what you see? Visit the ' +\n",
              "            '<a target=\"_blank\" href=https://colab.research.google.com/notebooks/data_table.ipynb>data table notebook</a>'\n",
              "            + ' to learn more about interactive tables.';\n",
              "          element.innerHTML = '';\n",
              "          dataTable['output_type'] = 'display_data';\n",
              "          await google.colab.output.renderOutput(dataTable, element);\n",
              "          const docLink = document.createElement('div');\n",
              "          docLink.innerHTML = docLinkHtml;\n",
              "          element.appendChild(docLink);\n",
              "        }\n",
              "      </script>\n",
              "    </div>\n",
              "  </div>\n",
              "  "
            ]
          },
          "metadata": {},
          "execution_count": 30
        }
      ],
      "source": [
        "#объединим таблицы с сообщениями и пользователями\n",
        "\n",
        "table3 = data_messages.merge(data_users, on='user_id', how='left')\n",
        "table3.head(10)"
      ]
    },
    {
      "cell_type": "code",
      "execution_count": 31,
      "metadata": {
        "colab": {
          "base_uri": "https://localhost:8080/",
          "height": 394
        },
        "id": "lmExVWWvZci0",
        "outputId": "24de6265-80e7-4b1f-c61d-50b2c44c56c9"
      },
      "outputs": [
        {
          "output_type": "execute_result",
          "data": {
            "text/plain": [
              "                              messages\n",
              "user_id tariff message_month          \n",
              "1000    ultra  2018-05-01           22\n",
              "               2018-06-01           60\n",
              "               2018-07-01           75\n",
              "               2018-08-01           81\n",
              "               2018-09-01           57\n",
              "               2018-10-01           73\n",
              "               2018-11-01           58\n",
              "               2018-12-01           70\n",
              "1002    smart  2018-06-01            4\n",
              "               2018-07-01           11"
            ],
            "text/html": [
              "\n",
              "  <div id=\"df-6aa7bf3e-1ef9-4918-af2b-24272728643c\">\n",
              "    <div class=\"colab-df-container\">\n",
              "      <div>\n",
              "<style scoped>\n",
              "    .dataframe tbody tr th:only-of-type {\n",
              "        vertical-align: middle;\n",
              "    }\n",
              "\n",
              "    .dataframe tbody tr th {\n",
              "        vertical-align: top;\n",
              "    }\n",
              "\n",
              "    .dataframe thead th {\n",
              "        text-align: right;\n",
              "    }\n",
              "</style>\n",
              "<table border=\"1\" class=\"dataframe\">\n",
              "  <thead>\n",
              "    <tr style=\"text-align: right;\">\n",
              "      <th></th>\n",
              "      <th></th>\n",
              "      <th></th>\n",
              "      <th>messages</th>\n",
              "    </tr>\n",
              "    <tr>\n",
              "      <th>user_id</th>\n",
              "      <th>tariff</th>\n",
              "      <th>message_month</th>\n",
              "      <th></th>\n",
              "    </tr>\n",
              "  </thead>\n",
              "  <tbody>\n",
              "    <tr>\n",
              "      <th rowspan=\"8\" valign=\"top\">1000</th>\n",
              "      <th rowspan=\"8\" valign=\"top\">ultra</th>\n",
              "      <th>2018-05-01</th>\n",
              "      <td>22</td>\n",
              "    </tr>\n",
              "    <tr>\n",
              "      <th>2018-06-01</th>\n",
              "      <td>60</td>\n",
              "    </tr>\n",
              "    <tr>\n",
              "      <th>2018-07-01</th>\n",
              "      <td>75</td>\n",
              "    </tr>\n",
              "    <tr>\n",
              "      <th>2018-08-01</th>\n",
              "      <td>81</td>\n",
              "    </tr>\n",
              "    <tr>\n",
              "      <th>2018-09-01</th>\n",
              "      <td>57</td>\n",
              "    </tr>\n",
              "    <tr>\n",
              "      <th>2018-10-01</th>\n",
              "      <td>73</td>\n",
              "    </tr>\n",
              "    <tr>\n",
              "      <th>2018-11-01</th>\n",
              "      <td>58</td>\n",
              "    </tr>\n",
              "    <tr>\n",
              "      <th>2018-12-01</th>\n",
              "      <td>70</td>\n",
              "    </tr>\n",
              "    <tr>\n",
              "      <th rowspan=\"2\" valign=\"top\">1002</th>\n",
              "      <th rowspan=\"2\" valign=\"top\">smart</th>\n",
              "      <th>2018-06-01</th>\n",
              "      <td>4</td>\n",
              "    </tr>\n",
              "    <tr>\n",
              "      <th>2018-07-01</th>\n",
              "      <td>11</td>\n",
              "    </tr>\n",
              "  </tbody>\n",
              "</table>\n",
              "</div>\n",
              "      <button class=\"colab-df-convert\" onclick=\"convertToInteractive('df-6aa7bf3e-1ef9-4918-af2b-24272728643c')\"\n",
              "              title=\"Convert this dataframe to an interactive table.\"\n",
              "              style=\"display:none;\">\n",
              "        \n",
              "  <svg xmlns=\"http://www.w3.org/2000/svg\" height=\"24px\"viewBox=\"0 0 24 24\"\n",
              "       width=\"24px\">\n",
              "    <path d=\"M0 0h24v24H0V0z\" fill=\"none\"/>\n",
              "    <path d=\"M18.56 5.44l.94 2.06.94-2.06 2.06-.94-2.06-.94-.94-2.06-.94 2.06-2.06.94zm-11 1L8.5 8.5l.94-2.06 2.06-.94-2.06-.94L8.5 2.5l-.94 2.06-2.06.94zm10 10l.94 2.06.94-2.06 2.06-.94-2.06-.94-.94-2.06-.94 2.06-2.06.94z\"/><path d=\"M17.41 7.96l-1.37-1.37c-.4-.4-.92-.59-1.43-.59-.52 0-1.04.2-1.43.59L10.3 9.45l-7.72 7.72c-.78.78-.78 2.05 0 2.83L4 21.41c.39.39.9.59 1.41.59.51 0 1.02-.2 1.41-.59l7.78-7.78 2.81-2.81c.8-.78.8-2.07 0-2.86zM5.41 20L4 18.59l7.72-7.72 1.47 1.35L5.41 20z\"/>\n",
              "  </svg>\n",
              "      </button>\n",
              "      \n",
              "  <style>\n",
              "    .colab-df-container {\n",
              "      display:flex;\n",
              "      flex-wrap:wrap;\n",
              "      gap: 12px;\n",
              "    }\n",
              "\n",
              "    .colab-df-convert {\n",
              "      background-color: #E8F0FE;\n",
              "      border: none;\n",
              "      border-radius: 50%;\n",
              "      cursor: pointer;\n",
              "      display: none;\n",
              "      fill: #1967D2;\n",
              "      height: 32px;\n",
              "      padding: 0 0 0 0;\n",
              "      width: 32px;\n",
              "    }\n",
              "\n",
              "    .colab-df-convert:hover {\n",
              "      background-color: #E2EBFA;\n",
              "      box-shadow: 0px 1px 2px rgba(60, 64, 67, 0.3), 0px 1px 3px 1px rgba(60, 64, 67, 0.15);\n",
              "      fill: #174EA6;\n",
              "    }\n",
              "\n",
              "    [theme=dark] .colab-df-convert {\n",
              "      background-color: #3B4455;\n",
              "      fill: #D2E3FC;\n",
              "    }\n",
              "\n",
              "    [theme=dark] .colab-df-convert:hover {\n",
              "      background-color: #434B5C;\n",
              "      box-shadow: 0px 1px 3px 1px rgba(0, 0, 0, 0.15);\n",
              "      filter: drop-shadow(0px 1px 2px rgba(0, 0, 0, 0.3));\n",
              "      fill: #FFFFFF;\n",
              "    }\n",
              "  </style>\n",
              "\n",
              "      <script>\n",
              "        const buttonEl =\n",
              "          document.querySelector('#df-6aa7bf3e-1ef9-4918-af2b-24272728643c button.colab-df-convert');\n",
              "        buttonEl.style.display =\n",
              "          google.colab.kernel.accessAllowed ? 'block' : 'none';\n",
              "\n",
              "        async function convertToInteractive(key) {\n",
              "          const element = document.querySelector('#df-6aa7bf3e-1ef9-4918-af2b-24272728643c');\n",
              "          const dataTable =\n",
              "            await google.colab.kernel.invokeFunction('convertToInteractive',\n",
              "                                                     [key], {});\n",
              "          if (!dataTable) return;\n",
              "\n",
              "          const docLinkHtml = 'Like what you see? Visit the ' +\n",
              "            '<a target=\"_blank\" href=https://colab.research.google.com/notebooks/data_table.ipynb>data table notebook</a>'\n",
              "            + ' to learn more about interactive tables.';\n",
              "          element.innerHTML = '';\n",
              "          dataTable['output_type'] = 'display_data';\n",
              "          await google.colab.output.renderOutput(dataTable, element);\n",
              "          const docLink = document.createElement('div');\n",
              "          docLink.innerHTML = docLinkHtml;\n",
              "          element.appendChild(docLink);\n",
              "        }\n",
              "      </script>\n",
              "    </div>\n",
              "  </div>\n",
              "  "
            ]
          },
          "metadata": {},
          "execution_count": 31
        }
      ],
      "source": [
        "#сгруппируем данные по количеству сообщений по-месячно по каждому пользователю\n",
        "\n",
        "table3_group = table3.pivot_table(index=['user_id', 'tariff', 'message_month'], values='id', aggfunc='count')\n",
        "table3_group.columns = ['messages']\n",
        "table3_group.head(10)"
      ]
    },
    {
      "cell_type": "code",
      "execution_count": 32,
      "metadata": {
        "scrolled": true,
        "colab": {
          "base_uri": "https://localhost:8080/",
          "height": 708
        },
        "id": "f7FhPL68Zci0",
        "outputId": "b1ddfbe4-7523-4cd8-b936-4db098682632"
      },
      "outputs": [
        {
          "output_type": "execute_result",
          "data": {
            "text/plain": [
              "                           duration  calls  mb_used  messages\n",
              "user_id tariff                                               \n",
              "1000    ultra  2018-05-01     164.0   22.0   2256.0      22.0\n",
              "               2018-06-01     187.0   43.0  23257.0      60.0\n",
              "               2018-07-01     346.0   47.0  14016.0      75.0\n",
              "               2018-08-01     418.0   52.0  14070.0      81.0\n",
              "               2018-09-01     478.0   58.0  14581.0      57.0\n",
              "               2018-10-01     363.0   57.0  14717.0      73.0\n",
              "               2018-11-01     344.0   43.0  14768.0      58.0\n",
              "               2018-12-01     341.0   46.0   9827.0      70.0\n",
              "1001    smart  2018-11-01     444.0   59.0  18452.0       NaN\n",
              "               2018-12-01     430.0   63.0  14053.0       NaN\n",
              "1002    smart  2018-06-01     118.0   15.0  10871.0       4.0\n",
              "               2018-07-01     219.0   26.0  17601.0      11.0\n",
              "               2018-08-01     294.0   42.0  20347.0      13.0\n",
              "               2018-09-01     217.0   36.0  16712.0       4.0\n",
              "               2018-10-01     221.0   33.0  13905.0      10.0\n",
              "               2018-11-01     250.0   32.0  18610.0      16.0\n",
              "               2018-12-01     242.0   33.0  18137.0      12.0\n",
              "1003    ultra  2018-08-01     392.0   55.0   8571.0      37.0\n",
              "               2018-09-01     990.0  134.0  12479.0      91.0\n",
              "               2018-10-01     866.0  108.0  14779.0      83.0"
            ],
            "text/html": [
              "\n",
              "  <div id=\"df-f4306bb4-3e5e-405c-a1c3-1e195d9b9fd4\">\n",
              "    <div class=\"colab-df-container\">\n",
              "      <div>\n",
              "<style scoped>\n",
              "    .dataframe tbody tr th:only-of-type {\n",
              "        vertical-align: middle;\n",
              "    }\n",
              "\n",
              "    .dataframe tbody tr th {\n",
              "        vertical-align: top;\n",
              "    }\n",
              "\n",
              "    .dataframe thead th {\n",
              "        text-align: right;\n",
              "    }\n",
              "</style>\n",
              "<table border=\"1\" class=\"dataframe\">\n",
              "  <thead>\n",
              "    <tr style=\"text-align: right;\">\n",
              "      <th></th>\n",
              "      <th></th>\n",
              "      <th></th>\n",
              "      <th>duration</th>\n",
              "      <th>calls</th>\n",
              "      <th>mb_used</th>\n",
              "      <th>messages</th>\n",
              "    </tr>\n",
              "    <tr>\n",
              "      <th>user_id</th>\n",
              "      <th>tariff</th>\n",
              "      <th></th>\n",
              "      <th></th>\n",
              "      <th></th>\n",
              "      <th></th>\n",
              "      <th></th>\n",
              "    </tr>\n",
              "  </thead>\n",
              "  <tbody>\n",
              "    <tr>\n",
              "      <th rowspan=\"8\" valign=\"top\">1000</th>\n",
              "      <th rowspan=\"8\" valign=\"top\">ultra</th>\n",
              "      <th>2018-05-01</th>\n",
              "      <td>164.0</td>\n",
              "      <td>22.0</td>\n",
              "      <td>2256.0</td>\n",
              "      <td>22.0</td>\n",
              "    </tr>\n",
              "    <tr>\n",
              "      <th>2018-06-01</th>\n",
              "      <td>187.0</td>\n",
              "      <td>43.0</td>\n",
              "      <td>23257.0</td>\n",
              "      <td>60.0</td>\n",
              "    </tr>\n",
              "    <tr>\n",
              "      <th>2018-07-01</th>\n",
              "      <td>346.0</td>\n",
              "      <td>47.0</td>\n",
              "      <td>14016.0</td>\n",
              "      <td>75.0</td>\n",
              "    </tr>\n",
              "    <tr>\n",
              "      <th>2018-08-01</th>\n",
              "      <td>418.0</td>\n",
              "      <td>52.0</td>\n",
              "      <td>14070.0</td>\n",
              "      <td>81.0</td>\n",
              "    </tr>\n",
              "    <tr>\n",
              "      <th>2018-09-01</th>\n",
              "      <td>478.0</td>\n",
              "      <td>58.0</td>\n",
              "      <td>14581.0</td>\n",
              "      <td>57.0</td>\n",
              "    </tr>\n",
              "    <tr>\n",
              "      <th>2018-10-01</th>\n",
              "      <td>363.0</td>\n",
              "      <td>57.0</td>\n",
              "      <td>14717.0</td>\n",
              "      <td>73.0</td>\n",
              "    </tr>\n",
              "    <tr>\n",
              "      <th>2018-11-01</th>\n",
              "      <td>344.0</td>\n",
              "      <td>43.0</td>\n",
              "      <td>14768.0</td>\n",
              "      <td>58.0</td>\n",
              "    </tr>\n",
              "    <tr>\n",
              "      <th>2018-12-01</th>\n",
              "      <td>341.0</td>\n",
              "      <td>46.0</td>\n",
              "      <td>9827.0</td>\n",
              "      <td>70.0</td>\n",
              "    </tr>\n",
              "    <tr>\n",
              "      <th rowspan=\"2\" valign=\"top\">1001</th>\n",
              "      <th rowspan=\"2\" valign=\"top\">smart</th>\n",
              "      <th>2018-11-01</th>\n",
              "      <td>444.0</td>\n",
              "      <td>59.0</td>\n",
              "      <td>18452.0</td>\n",
              "      <td>NaN</td>\n",
              "    </tr>\n",
              "    <tr>\n",
              "      <th>2018-12-01</th>\n",
              "      <td>430.0</td>\n",
              "      <td>63.0</td>\n",
              "      <td>14053.0</td>\n",
              "      <td>NaN</td>\n",
              "    </tr>\n",
              "    <tr>\n",
              "      <th rowspan=\"7\" valign=\"top\">1002</th>\n",
              "      <th rowspan=\"7\" valign=\"top\">smart</th>\n",
              "      <th>2018-06-01</th>\n",
              "      <td>118.0</td>\n",
              "      <td>15.0</td>\n",
              "      <td>10871.0</td>\n",
              "      <td>4.0</td>\n",
              "    </tr>\n",
              "    <tr>\n",
              "      <th>2018-07-01</th>\n",
              "      <td>219.0</td>\n",
              "      <td>26.0</td>\n",
              "      <td>17601.0</td>\n",
              "      <td>11.0</td>\n",
              "    </tr>\n",
              "    <tr>\n",
              "      <th>2018-08-01</th>\n",
              "      <td>294.0</td>\n",
              "      <td>42.0</td>\n",
              "      <td>20347.0</td>\n",
              "      <td>13.0</td>\n",
              "    </tr>\n",
              "    <tr>\n",
              "      <th>2018-09-01</th>\n",
              "      <td>217.0</td>\n",
              "      <td>36.0</td>\n",
              "      <td>16712.0</td>\n",
              "      <td>4.0</td>\n",
              "    </tr>\n",
              "    <tr>\n",
              "      <th>2018-10-01</th>\n",
              "      <td>221.0</td>\n",
              "      <td>33.0</td>\n",
              "      <td>13905.0</td>\n",
              "      <td>10.0</td>\n",
              "    </tr>\n",
              "    <tr>\n",
              "      <th>2018-11-01</th>\n",
              "      <td>250.0</td>\n",
              "      <td>32.0</td>\n",
              "      <td>18610.0</td>\n",
              "      <td>16.0</td>\n",
              "    </tr>\n",
              "    <tr>\n",
              "      <th>2018-12-01</th>\n",
              "      <td>242.0</td>\n",
              "      <td>33.0</td>\n",
              "      <td>18137.0</td>\n",
              "      <td>12.0</td>\n",
              "    </tr>\n",
              "    <tr>\n",
              "      <th rowspan=\"3\" valign=\"top\">1003</th>\n",
              "      <th rowspan=\"3\" valign=\"top\">ultra</th>\n",
              "      <th>2018-08-01</th>\n",
              "      <td>392.0</td>\n",
              "      <td>55.0</td>\n",
              "      <td>8571.0</td>\n",
              "      <td>37.0</td>\n",
              "    </tr>\n",
              "    <tr>\n",
              "      <th>2018-09-01</th>\n",
              "      <td>990.0</td>\n",
              "      <td>134.0</td>\n",
              "      <td>12479.0</td>\n",
              "      <td>91.0</td>\n",
              "    </tr>\n",
              "    <tr>\n",
              "      <th>2018-10-01</th>\n",
              "      <td>866.0</td>\n",
              "      <td>108.0</td>\n",
              "      <td>14779.0</td>\n",
              "      <td>83.0</td>\n",
              "    </tr>\n",
              "  </tbody>\n",
              "</table>\n",
              "</div>\n",
              "      <button class=\"colab-df-convert\" onclick=\"convertToInteractive('df-f4306bb4-3e5e-405c-a1c3-1e195d9b9fd4')\"\n",
              "              title=\"Convert this dataframe to an interactive table.\"\n",
              "              style=\"display:none;\">\n",
              "        \n",
              "  <svg xmlns=\"http://www.w3.org/2000/svg\" height=\"24px\"viewBox=\"0 0 24 24\"\n",
              "       width=\"24px\">\n",
              "    <path d=\"M0 0h24v24H0V0z\" fill=\"none\"/>\n",
              "    <path d=\"M18.56 5.44l.94 2.06.94-2.06 2.06-.94-2.06-.94-.94-2.06-.94 2.06-2.06.94zm-11 1L8.5 8.5l.94-2.06 2.06-.94-2.06-.94L8.5 2.5l-.94 2.06-2.06.94zm10 10l.94 2.06.94-2.06 2.06-.94-2.06-.94-.94-2.06-.94 2.06-2.06.94z\"/><path d=\"M17.41 7.96l-1.37-1.37c-.4-.4-.92-.59-1.43-.59-.52 0-1.04.2-1.43.59L10.3 9.45l-7.72 7.72c-.78.78-.78 2.05 0 2.83L4 21.41c.39.39.9.59 1.41.59.51 0 1.02-.2 1.41-.59l7.78-7.78 2.81-2.81c.8-.78.8-2.07 0-2.86zM5.41 20L4 18.59l7.72-7.72 1.47 1.35L5.41 20z\"/>\n",
              "  </svg>\n",
              "      </button>\n",
              "      \n",
              "  <style>\n",
              "    .colab-df-container {\n",
              "      display:flex;\n",
              "      flex-wrap:wrap;\n",
              "      gap: 12px;\n",
              "    }\n",
              "\n",
              "    .colab-df-convert {\n",
              "      background-color: #E8F0FE;\n",
              "      border: none;\n",
              "      border-radius: 50%;\n",
              "      cursor: pointer;\n",
              "      display: none;\n",
              "      fill: #1967D2;\n",
              "      height: 32px;\n",
              "      padding: 0 0 0 0;\n",
              "      width: 32px;\n",
              "    }\n",
              "\n",
              "    .colab-df-convert:hover {\n",
              "      background-color: #E2EBFA;\n",
              "      box-shadow: 0px 1px 2px rgba(60, 64, 67, 0.3), 0px 1px 3px 1px rgba(60, 64, 67, 0.15);\n",
              "      fill: #174EA6;\n",
              "    }\n",
              "\n",
              "    [theme=dark] .colab-df-convert {\n",
              "      background-color: #3B4455;\n",
              "      fill: #D2E3FC;\n",
              "    }\n",
              "\n",
              "    [theme=dark] .colab-df-convert:hover {\n",
              "      background-color: #434B5C;\n",
              "      box-shadow: 0px 1px 3px 1px rgba(0, 0, 0, 0.15);\n",
              "      filter: drop-shadow(0px 1px 2px rgba(0, 0, 0, 0.3));\n",
              "      fill: #FFFFFF;\n",
              "    }\n",
              "  </style>\n",
              "\n",
              "      <script>\n",
              "        const buttonEl =\n",
              "          document.querySelector('#df-f4306bb4-3e5e-405c-a1c3-1e195d9b9fd4 button.colab-df-convert');\n",
              "        buttonEl.style.display =\n",
              "          google.colab.kernel.accessAllowed ? 'block' : 'none';\n",
              "\n",
              "        async function convertToInteractive(key) {\n",
              "          const element = document.querySelector('#df-f4306bb4-3e5e-405c-a1c3-1e195d9b9fd4');\n",
              "          const dataTable =\n",
              "            await google.colab.kernel.invokeFunction('convertToInteractive',\n",
              "                                                     [key], {});\n",
              "          if (!dataTable) return;\n",
              "\n",
              "          const docLinkHtml = 'Like what you see? Visit the ' +\n",
              "            '<a target=\"_blank\" href=https://colab.research.google.com/notebooks/data_table.ipynb>data table notebook</a>'\n",
              "            + ' to learn more about interactive tables.';\n",
              "          element.innerHTML = '';\n",
              "          dataTable['output_type'] = 'display_data';\n",
              "          await google.colab.output.renderOutput(dataTable, element);\n",
              "          const docLink = document.createElement('div');\n",
              "          docLink.innerHTML = docLinkHtml;\n",
              "          element.appendChild(docLink);\n",
              "        }\n",
              "      </script>\n",
              "    </div>\n",
              "  </div>\n",
              "  "
            ]
          },
          "metadata": {},
          "execution_count": 32
        }
      ],
      "source": [
        "#объединим наши таблицы в одну для наглядности\n",
        "\n",
        "tables = [table2_group, table3_group]\n",
        "grouped_data = table1_group.join(tables, how='outer')\n",
        "grouped_data.head(20)"
      ]
    },
    {
      "cell_type": "code",
      "execution_count": 33,
      "metadata": {
        "scrolled": true,
        "colab": {
          "base_uri": "https://localhost:8080/"
        },
        "id": "oyHHKQ6oZci0",
        "outputId": "4288b951-b45e-4ddd-c732-1137deb1ae96"
      },
      "outputs": [
        {
          "output_type": "stream",
          "name": "stdout",
          "text": [
            "<class 'pandas.core.frame.DataFrame'>\n",
            "MultiIndex: 3214 entries, (1000, 'ultra', Timestamp('2018-05-01 00:00:00')) to (1499, 'smart', Timestamp('2018-12-01 00:00:00'))\n",
            "Data columns (total 4 columns):\n",
            " #   Column    Non-Null Count  Dtype  \n",
            "---  ------    --------------  -----  \n",
            " 0   duration  3174 non-null   float64\n",
            " 1   calls     3174 non-null   float64\n",
            " 2   mb_used   3203 non-null   float64\n",
            " 3   messages  2717 non-null   float64\n",
            "dtypes: float64(4)\n",
            "memory usage: 133.7+ KB\n"
          ]
        }
      ],
      "source": [
        "grouped_data.info()"
      ]
    },
    {
      "cell_type": "code",
      "execution_count": 34,
      "metadata": {
        "colab": {
          "base_uri": "https://localhost:8080/",
          "height": 363
        },
        "id": "e0oza1KLZci0",
        "outputId": "22a43292-3b4e-4e4b-a916-271811eda288"
      },
      "outputs": [
        {
          "output_type": "execute_result",
          "data": {
            "text/plain": [
              "   user_id tariff    level_2  duration  calls  mb_used  messages\n",
              "0     1000  ultra 2018-05-01     164.0   22.0   2256.0      22.0\n",
              "1     1000  ultra 2018-06-01     187.0   43.0  23257.0      60.0\n",
              "2     1000  ultra 2018-07-01     346.0   47.0  14016.0      75.0\n",
              "3     1000  ultra 2018-08-01     418.0   52.0  14070.0      81.0\n",
              "4     1000  ultra 2018-09-01     478.0   58.0  14581.0      57.0\n",
              "5     1000  ultra 2018-10-01     363.0   57.0  14717.0      73.0\n",
              "6     1000  ultra 2018-11-01     344.0   43.0  14768.0      58.0\n",
              "7     1000  ultra 2018-12-01     341.0   46.0   9827.0      70.0\n",
              "8     1001  smart 2018-11-01     444.0   59.0  18452.0       NaN\n",
              "9     1001  smart 2018-12-01     430.0   63.0  14053.0       NaN"
            ],
            "text/html": [
              "\n",
              "  <div id=\"df-5029ead7-ff23-4f63-932a-e563a1a9d137\">\n",
              "    <div class=\"colab-df-container\">\n",
              "      <div>\n",
              "<style scoped>\n",
              "    .dataframe tbody tr th:only-of-type {\n",
              "        vertical-align: middle;\n",
              "    }\n",
              "\n",
              "    .dataframe tbody tr th {\n",
              "        vertical-align: top;\n",
              "    }\n",
              "\n",
              "    .dataframe thead th {\n",
              "        text-align: right;\n",
              "    }\n",
              "</style>\n",
              "<table border=\"1\" class=\"dataframe\">\n",
              "  <thead>\n",
              "    <tr style=\"text-align: right;\">\n",
              "      <th></th>\n",
              "      <th>user_id</th>\n",
              "      <th>tariff</th>\n",
              "      <th>level_2</th>\n",
              "      <th>duration</th>\n",
              "      <th>calls</th>\n",
              "      <th>mb_used</th>\n",
              "      <th>messages</th>\n",
              "    </tr>\n",
              "  </thead>\n",
              "  <tbody>\n",
              "    <tr>\n",
              "      <th>0</th>\n",
              "      <td>1000</td>\n",
              "      <td>ultra</td>\n",
              "      <td>2018-05-01</td>\n",
              "      <td>164.0</td>\n",
              "      <td>22.0</td>\n",
              "      <td>2256.0</td>\n",
              "      <td>22.0</td>\n",
              "    </tr>\n",
              "    <tr>\n",
              "      <th>1</th>\n",
              "      <td>1000</td>\n",
              "      <td>ultra</td>\n",
              "      <td>2018-06-01</td>\n",
              "      <td>187.0</td>\n",
              "      <td>43.0</td>\n",
              "      <td>23257.0</td>\n",
              "      <td>60.0</td>\n",
              "    </tr>\n",
              "    <tr>\n",
              "      <th>2</th>\n",
              "      <td>1000</td>\n",
              "      <td>ultra</td>\n",
              "      <td>2018-07-01</td>\n",
              "      <td>346.0</td>\n",
              "      <td>47.0</td>\n",
              "      <td>14016.0</td>\n",
              "      <td>75.0</td>\n",
              "    </tr>\n",
              "    <tr>\n",
              "      <th>3</th>\n",
              "      <td>1000</td>\n",
              "      <td>ultra</td>\n",
              "      <td>2018-08-01</td>\n",
              "      <td>418.0</td>\n",
              "      <td>52.0</td>\n",
              "      <td>14070.0</td>\n",
              "      <td>81.0</td>\n",
              "    </tr>\n",
              "    <tr>\n",
              "      <th>4</th>\n",
              "      <td>1000</td>\n",
              "      <td>ultra</td>\n",
              "      <td>2018-09-01</td>\n",
              "      <td>478.0</td>\n",
              "      <td>58.0</td>\n",
              "      <td>14581.0</td>\n",
              "      <td>57.0</td>\n",
              "    </tr>\n",
              "    <tr>\n",
              "      <th>5</th>\n",
              "      <td>1000</td>\n",
              "      <td>ultra</td>\n",
              "      <td>2018-10-01</td>\n",
              "      <td>363.0</td>\n",
              "      <td>57.0</td>\n",
              "      <td>14717.0</td>\n",
              "      <td>73.0</td>\n",
              "    </tr>\n",
              "    <tr>\n",
              "      <th>6</th>\n",
              "      <td>1000</td>\n",
              "      <td>ultra</td>\n",
              "      <td>2018-11-01</td>\n",
              "      <td>344.0</td>\n",
              "      <td>43.0</td>\n",
              "      <td>14768.0</td>\n",
              "      <td>58.0</td>\n",
              "    </tr>\n",
              "    <tr>\n",
              "      <th>7</th>\n",
              "      <td>1000</td>\n",
              "      <td>ultra</td>\n",
              "      <td>2018-12-01</td>\n",
              "      <td>341.0</td>\n",
              "      <td>46.0</td>\n",
              "      <td>9827.0</td>\n",
              "      <td>70.0</td>\n",
              "    </tr>\n",
              "    <tr>\n",
              "      <th>8</th>\n",
              "      <td>1001</td>\n",
              "      <td>smart</td>\n",
              "      <td>2018-11-01</td>\n",
              "      <td>444.0</td>\n",
              "      <td>59.0</td>\n",
              "      <td>18452.0</td>\n",
              "      <td>NaN</td>\n",
              "    </tr>\n",
              "    <tr>\n",
              "      <th>9</th>\n",
              "      <td>1001</td>\n",
              "      <td>smart</td>\n",
              "      <td>2018-12-01</td>\n",
              "      <td>430.0</td>\n",
              "      <td>63.0</td>\n",
              "      <td>14053.0</td>\n",
              "      <td>NaN</td>\n",
              "    </tr>\n",
              "  </tbody>\n",
              "</table>\n",
              "</div>\n",
              "      <button class=\"colab-df-convert\" onclick=\"convertToInteractive('df-5029ead7-ff23-4f63-932a-e563a1a9d137')\"\n",
              "              title=\"Convert this dataframe to an interactive table.\"\n",
              "              style=\"display:none;\">\n",
              "        \n",
              "  <svg xmlns=\"http://www.w3.org/2000/svg\" height=\"24px\"viewBox=\"0 0 24 24\"\n",
              "       width=\"24px\">\n",
              "    <path d=\"M0 0h24v24H0V0z\" fill=\"none\"/>\n",
              "    <path d=\"M18.56 5.44l.94 2.06.94-2.06 2.06-.94-2.06-.94-.94-2.06-.94 2.06-2.06.94zm-11 1L8.5 8.5l.94-2.06 2.06-.94-2.06-.94L8.5 2.5l-.94 2.06-2.06.94zm10 10l.94 2.06.94-2.06 2.06-.94-2.06-.94-.94-2.06-.94 2.06-2.06.94z\"/><path d=\"M17.41 7.96l-1.37-1.37c-.4-.4-.92-.59-1.43-.59-.52 0-1.04.2-1.43.59L10.3 9.45l-7.72 7.72c-.78.78-.78 2.05 0 2.83L4 21.41c.39.39.9.59 1.41.59.51 0 1.02-.2 1.41-.59l7.78-7.78 2.81-2.81c.8-.78.8-2.07 0-2.86zM5.41 20L4 18.59l7.72-7.72 1.47 1.35L5.41 20z\"/>\n",
              "  </svg>\n",
              "      </button>\n",
              "      \n",
              "  <style>\n",
              "    .colab-df-container {\n",
              "      display:flex;\n",
              "      flex-wrap:wrap;\n",
              "      gap: 12px;\n",
              "    }\n",
              "\n",
              "    .colab-df-convert {\n",
              "      background-color: #E8F0FE;\n",
              "      border: none;\n",
              "      border-radius: 50%;\n",
              "      cursor: pointer;\n",
              "      display: none;\n",
              "      fill: #1967D2;\n",
              "      height: 32px;\n",
              "      padding: 0 0 0 0;\n",
              "      width: 32px;\n",
              "    }\n",
              "\n",
              "    .colab-df-convert:hover {\n",
              "      background-color: #E2EBFA;\n",
              "      box-shadow: 0px 1px 2px rgba(60, 64, 67, 0.3), 0px 1px 3px 1px rgba(60, 64, 67, 0.15);\n",
              "      fill: #174EA6;\n",
              "    }\n",
              "\n",
              "    [theme=dark] .colab-df-convert {\n",
              "      background-color: #3B4455;\n",
              "      fill: #D2E3FC;\n",
              "    }\n",
              "\n",
              "    [theme=dark] .colab-df-convert:hover {\n",
              "      background-color: #434B5C;\n",
              "      box-shadow: 0px 1px 3px 1px rgba(0, 0, 0, 0.15);\n",
              "      filter: drop-shadow(0px 1px 2px rgba(0, 0, 0, 0.3));\n",
              "      fill: #FFFFFF;\n",
              "    }\n",
              "  </style>\n",
              "\n",
              "      <script>\n",
              "        const buttonEl =\n",
              "          document.querySelector('#df-5029ead7-ff23-4f63-932a-e563a1a9d137 button.colab-df-convert');\n",
              "        buttonEl.style.display =\n",
              "          google.colab.kernel.accessAllowed ? 'block' : 'none';\n",
              "\n",
              "        async function convertToInteractive(key) {\n",
              "          const element = document.querySelector('#df-5029ead7-ff23-4f63-932a-e563a1a9d137');\n",
              "          const dataTable =\n",
              "            await google.colab.kernel.invokeFunction('convertToInteractive',\n",
              "                                                     [key], {});\n",
              "          if (!dataTable) return;\n",
              "\n",
              "          const docLinkHtml = 'Like what you see? Visit the ' +\n",
              "            '<a target=\"_blank\" href=https://colab.research.google.com/notebooks/data_table.ipynb>data table notebook</a>'\n",
              "            + ' to learn more about interactive tables.';\n",
              "          element.innerHTML = '';\n",
              "          dataTable['output_type'] = 'display_data';\n",
              "          await google.colab.output.renderOutput(dataTable, element);\n",
              "          const docLink = document.createElement('div');\n",
              "          docLink.innerHTML = docLinkHtml;\n",
              "          element.appendChild(docLink);\n",
              "        }\n",
              "      </script>\n",
              "    </div>\n",
              "  </div>\n",
              "  "
            ]
          },
          "metadata": {},
          "execution_count": 34
        }
      ],
      "source": [
        "#уберем индексы для удобства\n",
        "\n",
        "grouped_data.reset_index(inplace=True)\n",
        "grouped_data.head(10)"
      ]
    },
    {
      "cell_type": "code",
      "execution_count": 35,
      "metadata": {
        "scrolled": true,
        "colab": {
          "base_uri": "https://localhost:8080/",
          "height": 363
        },
        "id": "9LoKkqNQZci0",
        "outputId": "6cf1ce81-c810-4ed8-e776-d16c5cc0e483"
      },
      "outputs": [
        {
          "output_type": "execute_result",
          "data": {
            "text/plain": [
              "   user_id tariff_name      month  calls  duration  mb_used  messages\n",
              "0     1000       ultra 2018-05-01  164.0      22.0   2256.0      22.0\n",
              "1     1000       ultra 2018-06-01  187.0      43.0  23257.0      60.0\n",
              "2     1000       ultra 2018-07-01  346.0      47.0  14016.0      75.0\n",
              "3     1000       ultra 2018-08-01  418.0      52.0  14070.0      81.0\n",
              "4     1000       ultra 2018-09-01  478.0      58.0  14581.0      57.0\n",
              "5     1000       ultra 2018-10-01  363.0      57.0  14717.0      73.0\n",
              "6     1000       ultra 2018-11-01  344.0      43.0  14768.0      58.0\n",
              "7     1000       ultra 2018-12-01  341.0      46.0   9827.0      70.0\n",
              "8     1001       smart 2018-11-01  444.0      59.0  18452.0       NaN\n",
              "9     1001       smart 2018-12-01  430.0      63.0  14053.0       NaN"
            ],
            "text/html": [
              "\n",
              "  <div id=\"df-660ed99d-0d1d-477c-b4ca-11c4962cc7a0\">\n",
              "    <div class=\"colab-df-container\">\n",
              "      <div>\n",
              "<style scoped>\n",
              "    .dataframe tbody tr th:only-of-type {\n",
              "        vertical-align: middle;\n",
              "    }\n",
              "\n",
              "    .dataframe tbody tr th {\n",
              "        vertical-align: top;\n",
              "    }\n",
              "\n",
              "    .dataframe thead th {\n",
              "        text-align: right;\n",
              "    }\n",
              "</style>\n",
              "<table border=\"1\" class=\"dataframe\">\n",
              "  <thead>\n",
              "    <tr style=\"text-align: right;\">\n",
              "      <th></th>\n",
              "      <th>user_id</th>\n",
              "      <th>tariff_name</th>\n",
              "      <th>month</th>\n",
              "      <th>calls</th>\n",
              "      <th>duration</th>\n",
              "      <th>mb_used</th>\n",
              "      <th>messages</th>\n",
              "    </tr>\n",
              "  </thead>\n",
              "  <tbody>\n",
              "    <tr>\n",
              "      <th>0</th>\n",
              "      <td>1000</td>\n",
              "      <td>ultra</td>\n",
              "      <td>2018-05-01</td>\n",
              "      <td>164.0</td>\n",
              "      <td>22.0</td>\n",
              "      <td>2256.0</td>\n",
              "      <td>22.0</td>\n",
              "    </tr>\n",
              "    <tr>\n",
              "      <th>1</th>\n",
              "      <td>1000</td>\n",
              "      <td>ultra</td>\n",
              "      <td>2018-06-01</td>\n",
              "      <td>187.0</td>\n",
              "      <td>43.0</td>\n",
              "      <td>23257.0</td>\n",
              "      <td>60.0</td>\n",
              "    </tr>\n",
              "    <tr>\n",
              "      <th>2</th>\n",
              "      <td>1000</td>\n",
              "      <td>ultra</td>\n",
              "      <td>2018-07-01</td>\n",
              "      <td>346.0</td>\n",
              "      <td>47.0</td>\n",
              "      <td>14016.0</td>\n",
              "      <td>75.0</td>\n",
              "    </tr>\n",
              "    <tr>\n",
              "      <th>3</th>\n",
              "      <td>1000</td>\n",
              "      <td>ultra</td>\n",
              "      <td>2018-08-01</td>\n",
              "      <td>418.0</td>\n",
              "      <td>52.0</td>\n",
              "      <td>14070.0</td>\n",
              "      <td>81.0</td>\n",
              "    </tr>\n",
              "    <tr>\n",
              "      <th>4</th>\n",
              "      <td>1000</td>\n",
              "      <td>ultra</td>\n",
              "      <td>2018-09-01</td>\n",
              "      <td>478.0</td>\n",
              "      <td>58.0</td>\n",
              "      <td>14581.0</td>\n",
              "      <td>57.0</td>\n",
              "    </tr>\n",
              "    <tr>\n",
              "      <th>5</th>\n",
              "      <td>1000</td>\n",
              "      <td>ultra</td>\n",
              "      <td>2018-10-01</td>\n",
              "      <td>363.0</td>\n",
              "      <td>57.0</td>\n",
              "      <td>14717.0</td>\n",
              "      <td>73.0</td>\n",
              "    </tr>\n",
              "    <tr>\n",
              "      <th>6</th>\n",
              "      <td>1000</td>\n",
              "      <td>ultra</td>\n",
              "      <td>2018-11-01</td>\n",
              "      <td>344.0</td>\n",
              "      <td>43.0</td>\n",
              "      <td>14768.0</td>\n",
              "      <td>58.0</td>\n",
              "    </tr>\n",
              "    <tr>\n",
              "      <th>7</th>\n",
              "      <td>1000</td>\n",
              "      <td>ultra</td>\n",
              "      <td>2018-12-01</td>\n",
              "      <td>341.0</td>\n",
              "      <td>46.0</td>\n",
              "      <td>9827.0</td>\n",
              "      <td>70.0</td>\n",
              "    </tr>\n",
              "    <tr>\n",
              "      <th>8</th>\n",
              "      <td>1001</td>\n",
              "      <td>smart</td>\n",
              "      <td>2018-11-01</td>\n",
              "      <td>444.0</td>\n",
              "      <td>59.0</td>\n",
              "      <td>18452.0</td>\n",
              "      <td>NaN</td>\n",
              "    </tr>\n",
              "    <tr>\n",
              "      <th>9</th>\n",
              "      <td>1001</td>\n",
              "      <td>smart</td>\n",
              "      <td>2018-12-01</td>\n",
              "      <td>430.0</td>\n",
              "      <td>63.0</td>\n",
              "      <td>14053.0</td>\n",
              "      <td>NaN</td>\n",
              "    </tr>\n",
              "  </tbody>\n",
              "</table>\n",
              "</div>\n",
              "      <button class=\"colab-df-convert\" onclick=\"convertToInteractive('df-660ed99d-0d1d-477c-b4ca-11c4962cc7a0')\"\n",
              "              title=\"Convert this dataframe to an interactive table.\"\n",
              "              style=\"display:none;\">\n",
              "        \n",
              "  <svg xmlns=\"http://www.w3.org/2000/svg\" height=\"24px\"viewBox=\"0 0 24 24\"\n",
              "       width=\"24px\">\n",
              "    <path d=\"M0 0h24v24H0V0z\" fill=\"none\"/>\n",
              "    <path d=\"M18.56 5.44l.94 2.06.94-2.06 2.06-.94-2.06-.94-.94-2.06-.94 2.06-2.06.94zm-11 1L8.5 8.5l.94-2.06 2.06-.94-2.06-.94L8.5 2.5l-.94 2.06-2.06.94zm10 10l.94 2.06.94-2.06 2.06-.94-2.06-.94-.94-2.06-.94 2.06-2.06.94z\"/><path d=\"M17.41 7.96l-1.37-1.37c-.4-.4-.92-.59-1.43-.59-.52 0-1.04.2-1.43.59L10.3 9.45l-7.72 7.72c-.78.78-.78 2.05 0 2.83L4 21.41c.39.39.9.59 1.41.59.51 0 1.02-.2 1.41-.59l7.78-7.78 2.81-2.81c.8-.78.8-2.07 0-2.86zM5.41 20L4 18.59l7.72-7.72 1.47 1.35L5.41 20z\"/>\n",
              "  </svg>\n",
              "      </button>\n",
              "      \n",
              "  <style>\n",
              "    .colab-df-container {\n",
              "      display:flex;\n",
              "      flex-wrap:wrap;\n",
              "      gap: 12px;\n",
              "    }\n",
              "\n",
              "    .colab-df-convert {\n",
              "      background-color: #E8F0FE;\n",
              "      border: none;\n",
              "      border-radius: 50%;\n",
              "      cursor: pointer;\n",
              "      display: none;\n",
              "      fill: #1967D2;\n",
              "      height: 32px;\n",
              "      padding: 0 0 0 0;\n",
              "      width: 32px;\n",
              "    }\n",
              "\n",
              "    .colab-df-convert:hover {\n",
              "      background-color: #E2EBFA;\n",
              "      box-shadow: 0px 1px 2px rgba(60, 64, 67, 0.3), 0px 1px 3px 1px rgba(60, 64, 67, 0.15);\n",
              "      fill: #174EA6;\n",
              "    }\n",
              "\n",
              "    [theme=dark] .colab-df-convert {\n",
              "      background-color: #3B4455;\n",
              "      fill: #D2E3FC;\n",
              "    }\n",
              "\n",
              "    [theme=dark] .colab-df-convert:hover {\n",
              "      background-color: #434B5C;\n",
              "      box-shadow: 0px 1px 3px 1px rgba(0, 0, 0, 0.15);\n",
              "      filter: drop-shadow(0px 1px 2px rgba(0, 0, 0, 0.3));\n",
              "      fill: #FFFFFF;\n",
              "    }\n",
              "  </style>\n",
              "\n",
              "      <script>\n",
              "        const buttonEl =\n",
              "          document.querySelector('#df-660ed99d-0d1d-477c-b4ca-11c4962cc7a0 button.colab-df-convert');\n",
              "        buttonEl.style.display =\n",
              "          google.colab.kernel.accessAllowed ? 'block' : 'none';\n",
              "\n",
              "        async function convertToInteractive(key) {\n",
              "          const element = document.querySelector('#df-660ed99d-0d1d-477c-b4ca-11c4962cc7a0');\n",
              "          const dataTable =\n",
              "            await google.colab.kernel.invokeFunction('convertToInteractive',\n",
              "                                                     [key], {});\n",
              "          if (!dataTable) return;\n",
              "\n",
              "          const docLinkHtml = 'Like what you see? Visit the ' +\n",
              "            '<a target=\"_blank\" href=https://colab.research.google.com/notebooks/data_table.ipynb>data table notebook</a>'\n",
              "            + ' to learn more about interactive tables.';\n",
              "          element.innerHTML = '';\n",
              "          dataTable['output_type'] = 'display_data';\n",
              "          await google.colab.output.renderOutput(dataTable, element);\n",
              "          const docLink = document.createElement('div');\n",
              "          docLink.innerHTML = docLinkHtml;\n",
              "          element.appendChild(docLink);\n",
              "        }\n",
              "      </script>\n",
              "    </div>\n",
              "  </div>\n",
              "  "
            ]
          },
          "metadata": {},
          "execution_count": 35
        }
      ],
      "source": [
        "#переименуем колонки, чтобы они по названиям совпадали с колонками из изначальных таблиц\n",
        "\n",
        "grouped_data.columns = ['user_id', 'tariff_name', 'month', 'calls', 'duration', 'mb_used', 'messages']\n",
        "grouped_data.head(10)"
      ]
    },
    {
      "cell_type": "code",
      "execution_count": 36,
      "metadata": {
        "scrolled": false,
        "id": "HtqkJO17Zci1"
      },
      "outputs": [],
      "source": [
        "#сделаем дополнительную таблицу для рассчета выручки\n",
        "#для этого присоединяем таблицу с данными по тарифам\n",
        "\n",
        "table_for_rev = grouped_data.merge(data_tariffs, on='tariff_name', how='left')"
      ]
    },
    {
      "cell_type": "code",
      "execution_count": 37,
      "metadata": {
        "id": "9eQPxcBtZci1"
      },
      "outputs": [],
      "source": [
        "#чтобы избежать пропусков в конечных данных, избавляемся от них\n",
        "\n",
        "table_for_rev['messages'] = table_for_rev['messages'].fillna(0)\n",
        "table_for_rev['mb_used'] = table_for_rev['mb_used'].fillna(0)\n",
        "table_for_rev['duration'] = table_for_rev['duration'].fillna(0)"
      ]
    },
    {
      "cell_type": "code",
      "execution_count": 38,
      "metadata": {
        "scrolled": true,
        "colab": {
          "base_uri": "https://localhost:8080/",
          "height": 844
        },
        "id": "8pL_-AtLZci1",
        "outputId": "f99874a4-e775-4cb5-8259-eebcc65da1e5"
      },
      "outputs": [
        {
          "output_type": "execute_result",
          "data": {
            "text/plain": [
              "    user_id tariff_name      month  calls  duration  mb_used  messages  \\\n",
              "0      1000       ultra 2018-05-01  164.0      22.0   2256.0      22.0   \n",
              "1      1000       ultra 2018-06-01  187.0      43.0  23257.0      60.0   \n",
              "2      1000       ultra 2018-07-01  346.0      47.0  14016.0      75.0   \n",
              "3      1000       ultra 2018-08-01  418.0      52.0  14070.0      81.0   \n",
              "4      1000       ultra 2018-09-01  478.0      58.0  14581.0      57.0   \n",
              "5      1000       ultra 2018-10-01  363.0      57.0  14717.0      73.0   \n",
              "6      1000       ultra 2018-11-01  344.0      43.0  14768.0      58.0   \n",
              "7      1000       ultra 2018-12-01  341.0      46.0   9827.0      70.0   \n",
              "8      1001       smart 2018-11-01  444.0      59.0  18452.0       0.0   \n",
              "9      1001       smart 2018-12-01  430.0      63.0  14053.0       0.0   \n",
              "10     1002       smart 2018-06-01  118.0      15.0  10871.0       4.0   \n",
              "11     1002       smart 2018-07-01  219.0      26.0  17601.0      11.0   \n",
              "12     1002       smart 2018-08-01  294.0      42.0  20347.0      13.0   \n",
              "13     1002       smart 2018-09-01  217.0      36.0  16712.0       4.0   \n",
              "14     1002       smart 2018-10-01  221.0      33.0  13905.0      10.0   \n",
              "\n",
              "    messages_included  mb_per_month_included  minutes_included  \\\n",
              "0                1000                  30720              3000   \n",
              "1                1000                  30720              3000   \n",
              "2                1000                  30720              3000   \n",
              "3                1000                  30720              3000   \n",
              "4                1000                  30720              3000   \n",
              "5                1000                  30720              3000   \n",
              "6                1000                  30720              3000   \n",
              "7                1000                  30720              3000   \n",
              "8                  50                  15360               500   \n",
              "9                  50                  15360               500   \n",
              "10                 50                  15360               500   \n",
              "11                 50                  15360               500   \n",
              "12                 50                  15360               500   \n",
              "13                 50                  15360               500   \n",
              "14                 50                  15360               500   \n",
              "\n",
              "    rub_monthly_fee  rub_per_gb  rub_per_message  rub_per_minute  \n",
              "0              1950         150                1               1  \n",
              "1              1950         150                1               1  \n",
              "2              1950         150                1               1  \n",
              "3              1950         150                1               1  \n",
              "4              1950         150                1               1  \n",
              "5              1950         150                1               1  \n",
              "6              1950         150                1               1  \n",
              "7              1950         150                1               1  \n",
              "8               550         200                3               3  \n",
              "9               550         200                3               3  \n",
              "10              550         200                3               3  \n",
              "11              550         200                3               3  \n",
              "12              550         200                3               3  \n",
              "13              550         200                3               3  \n",
              "14              550         200                3               3  "
            ],
            "text/html": [
              "\n",
              "  <div id=\"df-bcbc9949-5694-4746-be39-bd288b71eb78\">\n",
              "    <div class=\"colab-df-container\">\n",
              "      <div>\n",
              "<style scoped>\n",
              "    .dataframe tbody tr th:only-of-type {\n",
              "        vertical-align: middle;\n",
              "    }\n",
              "\n",
              "    .dataframe tbody tr th {\n",
              "        vertical-align: top;\n",
              "    }\n",
              "\n",
              "    .dataframe thead th {\n",
              "        text-align: right;\n",
              "    }\n",
              "</style>\n",
              "<table border=\"1\" class=\"dataframe\">\n",
              "  <thead>\n",
              "    <tr style=\"text-align: right;\">\n",
              "      <th></th>\n",
              "      <th>user_id</th>\n",
              "      <th>tariff_name</th>\n",
              "      <th>month</th>\n",
              "      <th>calls</th>\n",
              "      <th>duration</th>\n",
              "      <th>mb_used</th>\n",
              "      <th>messages</th>\n",
              "      <th>messages_included</th>\n",
              "      <th>mb_per_month_included</th>\n",
              "      <th>minutes_included</th>\n",
              "      <th>rub_monthly_fee</th>\n",
              "      <th>rub_per_gb</th>\n",
              "      <th>rub_per_message</th>\n",
              "      <th>rub_per_minute</th>\n",
              "    </tr>\n",
              "  </thead>\n",
              "  <tbody>\n",
              "    <tr>\n",
              "      <th>0</th>\n",
              "      <td>1000</td>\n",
              "      <td>ultra</td>\n",
              "      <td>2018-05-01</td>\n",
              "      <td>164.0</td>\n",
              "      <td>22.0</td>\n",
              "      <td>2256.0</td>\n",
              "      <td>22.0</td>\n",
              "      <td>1000</td>\n",
              "      <td>30720</td>\n",
              "      <td>3000</td>\n",
              "      <td>1950</td>\n",
              "      <td>150</td>\n",
              "      <td>1</td>\n",
              "      <td>1</td>\n",
              "    </tr>\n",
              "    <tr>\n",
              "      <th>1</th>\n",
              "      <td>1000</td>\n",
              "      <td>ultra</td>\n",
              "      <td>2018-06-01</td>\n",
              "      <td>187.0</td>\n",
              "      <td>43.0</td>\n",
              "      <td>23257.0</td>\n",
              "      <td>60.0</td>\n",
              "      <td>1000</td>\n",
              "      <td>30720</td>\n",
              "      <td>3000</td>\n",
              "      <td>1950</td>\n",
              "      <td>150</td>\n",
              "      <td>1</td>\n",
              "      <td>1</td>\n",
              "    </tr>\n",
              "    <tr>\n",
              "      <th>2</th>\n",
              "      <td>1000</td>\n",
              "      <td>ultra</td>\n",
              "      <td>2018-07-01</td>\n",
              "      <td>346.0</td>\n",
              "      <td>47.0</td>\n",
              "      <td>14016.0</td>\n",
              "      <td>75.0</td>\n",
              "      <td>1000</td>\n",
              "      <td>30720</td>\n",
              "      <td>3000</td>\n",
              "      <td>1950</td>\n",
              "      <td>150</td>\n",
              "      <td>1</td>\n",
              "      <td>1</td>\n",
              "    </tr>\n",
              "    <tr>\n",
              "      <th>3</th>\n",
              "      <td>1000</td>\n",
              "      <td>ultra</td>\n",
              "      <td>2018-08-01</td>\n",
              "      <td>418.0</td>\n",
              "      <td>52.0</td>\n",
              "      <td>14070.0</td>\n",
              "      <td>81.0</td>\n",
              "      <td>1000</td>\n",
              "      <td>30720</td>\n",
              "      <td>3000</td>\n",
              "      <td>1950</td>\n",
              "      <td>150</td>\n",
              "      <td>1</td>\n",
              "      <td>1</td>\n",
              "    </tr>\n",
              "    <tr>\n",
              "      <th>4</th>\n",
              "      <td>1000</td>\n",
              "      <td>ultra</td>\n",
              "      <td>2018-09-01</td>\n",
              "      <td>478.0</td>\n",
              "      <td>58.0</td>\n",
              "      <td>14581.0</td>\n",
              "      <td>57.0</td>\n",
              "      <td>1000</td>\n",
              "      <td>30720</td>\n",
              "      <td>3000</td>\n",
              "      <td>1950</td>\n",
              "      <td>150</td>\n",
              "      <td>1</td>\n",
              "      <td>1</td>\n",
              "    </tr>\n",
              "    <tr>\n",
              "      <th>5</th>\n",
              "      <td>1000</td>\n",
              "      <td>ultra</td>\n",
              "      <td>2018-10-01</td>\n",
              "      <td>363.0</td>\n",
              "      <td>57.0</td>\n",
              "      <td>14717.0</td>\n",
              "      <td>73.0</td>\n",
              "      <td>1000</td>\n",
              "      <td>30720</td>\n",
              "      <td>3000</td>\n",
              "      <td>1950</td>\n",
              "      <td>150</td>\n",
              "      <td>1</td>\n",
              "      <td>1</td>\n",
              "    </tr>\n",
              "    <tr>\n",
              "      <th>6</th>\n",
              "      <td>1000</td>\n",
              "      <td>ultra</td>\n",
              "      <td>2018-11-01</td>\n",
              "      <td>344.0</td>\n",
              "      <td>43.0</td>\n",
              "      <td>14768.0</td>\n",
              "      <td>58.0</td>\n",
              "      <td>1000</td>\n",
              "      <td>30720</td>\n",
              "      <td>3000</td>\n",
              "      <td>1950</td>\n",
              "      <td>150</td>\n",
              "      <td>1</td>\n",
              "      <td>1</td>\n",
              "    </tr>\n",
              "    <tr>\n",
              "      <th>7</th>\n",
              "      <td>1000</td>\n",
              "      <td>ultra</td>\n",
              "      <td>2018-12-01</td>\n",
              "      <td>341.0</td>\n",
              "      <td>46.0</td>\n",
              "      <td>9827.0</td>\n",
              "      <td>70.0</td>\n",
              "      <td>1000</td>\n",
              "      <td>30720</td>\n",
              "      <td>3000</td>\n",
              "      <td>1950</td>\n",
              "      <td>150</td>\n",
              "      <td>1</td>\n",
              "      <td>1</td>\n",
              "    </tr>\n",
              "    <tr>\n",
              "      <th>8</th>\n",
              "      <td>1001</td>\n",
              "      <td>smart</td>\n",
              "      <td>2018-11-01</td>\n",
              "      <td>444.0</td>\n",
              "      <td>59.0</td>\n",
              "      <td>18452.0</td>\n",
              "      <td>0.0</td>\n",
              "      <td>50</td>\n",
              "      <td>15360</td>\n",
              "      <td>500</td>\n",
              "      <td>550</td>\n",
              "      <td>200</td>\n",
              "      <td>3</td>\n",
              "      <td>3</td>\n",
              "    </tr>\n",
              "    <tr>\n",
              "      <th>9</th>\n",
              "      <td>1001</td>\n",
              "      <td>smart</td>\n",
              "      <td>2018-12-01</td>\n",
              "      <td>430.0</td>\n",
              "      <td>63.0</td>\n",
              "      <td>14053.0</td>\n",
              "      <td>0.0</td>\n",
              "      <td>50</td>\n",
              "      <td>15360</td>\n",
              "      <td>500</td>\n",
              "      <td>550</td>\n",
              "      <td>200</td>\n",
              "      <td>3</td>\n",
              "      <td>3</td>\n",
              "    </tr>\n",
              "    <tr>\n",
              "      <th>10</th>\n",
              "      <td>1002</td>\n",
              "      <td>smart</td>\n",
              "      <td>2018-06-01</td>\n",
              "      <td>118.0</td>\n",
              "      <td>15.0</td>\n",
              "      <td>10871.0</td>\n",
              "      <td>4.0</td>\n",
              "      <td>50</td>\n",
              "      <td>15360</td>\n",
              "      <td>500</td>\n",
              "      <td>550</td>\n",
              "      <td>200</td>\n",
              "      <td>3</td>\n",
              "      <td>3</td>\n",
              "    </tr>\n",
              "    <tr>\n",
              "      <th>11</th>\n",
              "      <td>1002</td>\n",
              "      <td>smart</td>\n",
              "      <td>2018-07-01</td>\n",
              "      <td>219.0</td>\n",
              "      <td>26.0</td>\n",
              "      <td>17601.0</td>\n",
              "      <td>11.0</td>\n",
              "      <td>50</td>\n",
              "      <td>15360</td>\n",
              "      <td>500</td>\n",
              "      <td>550</td>\n",
              "      <td>200</td>\n",
              "      <td>3</td>\n",
              "      <td>3</td>\n",
              "    </tr>\n",
              "    <tr>\n",
              "      <th>12</th>\n",
              "      <td>1002</td>\n",
              "      <td>smart</td>\n",
              "      <td>2018-08-01</td>\n",
              "      <td>294.0</td>\n",
              "      <td>42.0</td>\n",
              "      <td>20347.0</td>\n",
              "      <td>13.0</td>\n",
              "      <td>50</td>\n",
              "      <td>15360</td>\n",
              "      <td>500</td>\n",
              "      <td>550</td>\n",
              "      <td>200</td>\n",
              "      <td>3</td>\n",
              "      <td>3</td>\n",
              "    </tr>\n",
              "    <tr>\n",
              "      <th>13</th>\n",
              "      <td>1002</td>\n",
              "      <td>smart</td>\n",
              "      <td>2018-09-01</td>\n",
              "      <td>217.0</td>\n",
              "      <td>36.0</td>\n",
              "      <td>16712.0</td>\n",
              "      <td>4.0</td>\n",
              "      <td>50</td>\n",
              "      <td>15360</td>\n",
              "      <td>500</td>\n",
              "      <td>550</td>\n",
              "      <td>200</td>\n",
              "      <td>3</td>\n",
              "      <td>3</td>\n",
              "    </tr>\n",
              "    <tr>\n",
              "      <th>14</th>\n",
              "      <td>1002</td>\n",
              "      <td>smart</td>\n",
              "      <td>2018-10-01</td>\n",
              "      <td>221.0</td>\n",
              "      <td>33.0</td>\n",
              "      <td>13905.0</td>\n",
              "      <td>10.0</td>\n",
              "      <td>50</td>\n",
              "      <td>15360</td>\n",
              "      <td>500</td>\n",
              "      <td>550</td>\n",
              "      <td>200</td>\n",
              "      <td>3</td>\n",
              "      <td>3</td>\n",
              "    </tr>\n",
              "  </tbody>\n",
              "</table>\n",
              "</div>\n",
              "      <button class=\"colab-df-convert\" onclick=\"convertToInteractive('df-bcbc9949-5694-4746-be39-bd288b71eb78')\"\n",
              "              title=\"Convert this dataframe to an interactive table.\"\n",
              "              style=\"display:none;\">\n",
              "        \n",
              "  <svg xmlns=\"http://www.w3.org/2000/svg\" height=\"24px\"viewBox=\"0 0 24 24\"\n",
              "       width=\"24px\">\n",
              "    <path d=\"M0 0h24v24H0V0z\" fill=\"none\"/>\n",
              "    <path d=\"M18.56 5.44l.94 2.06.94-2.06 2.06-.94-2.06-.94-.94-2.06-.94 2.06-2.06.94zm-11 1L8.5 8.5l.94-2.06 2.06-.94-2.06-.94L8.5 2.5l-.94 2.06-2.06.94zm10 10l.94 2.06.94-2.06 2.06-.94-2.06-.94-.94-2.06-.94 2.06-2.06.94z\"/><path d=\"M17.41 7.96l-1.37-1.37c-.4-.4-.92-.59-1.43-.59-.52 0-1.04.2-1.43.59L10.3 9.45l-7.72 7.72c-.78.78-.78 2.05 0 2.83L4 21.41c.39.39.9.59 1.41.59.51 0 1.02-.2 1.41-.59l7.78-7.78 2.81-2.81c.8-.78.8-2.07 0-2.86zM5.41 20L4 18.59l7.72-7.72 1.47 1.35L5.41 20z\"/>\n",
              "  </svg>\n",
              "      </button>\n",
              "      \n",
              "  <style>\n",
              "    .colab-df-container {\n",
              "      display:flex;\n",
              "      flex-wrap:wrap;\n",
              "      gap: 12px;\n",
              "    }\n",
              "\n",
              "    .colab-df-convert {\n",
              "      background-color: #E8F0FE;\n",
              "      border: none;\n",
              "      border-radius: 50%;\n",
              "      cursor: pointer;\n",
              "      display: none;\n",
              "      fill: #1967D2;\n",
              "      height: 32px;\n",
              "      padding: 0 0 0 0;\n",
              "      width: 32px;\n",
              "    }\n",
              "\n",
              "    .colab-df-convert:hover {\n",
              "      background-color: #E2EBFA;\n",
              "      box-shadow: 0px 1px 2px rgba(60, 64, 67, 0.3), 0px 1px 3px 1px rgba(60, 64, 67, 0.15);\n",
              "      fill: #174EA6;\n",
              "    }\n",
              "\n",
              "    [theme=dark] .colab-df-convert {\n",
              "      background-color: #3B4455;\n",
              "      fill: #D2E3FC;\n",
              "    }\n",
              "\n",
              "    [theme=dark] .colab-df-convert:hover {\n",
              "      background-color: #434B5C;\n",
              "      box-shadow: 0px 1px 3px 1px rgba(0, 0, 0, 0.15);\n",
              "      filter: drop-shadow(0px 1px 2px rgba(0, 0, 0, 0.3));\n",
              "      fill: #FFFFFF;\n",
              "    }\n",
              "  </style>\n",
              "\n",
              "      <script>\n",
              "        const buttonEl =\n",
              "          document.querySelector('#df-bcbc9949-5694-4746-be39-bd288b71eb78 button.colab-df-convert');\n",
              "        buttonEl.style.display =\n",
              "          google.colab.kernel.accessAllowed ? 'block' : 'none';\n",
              "\n",
              "        async function convertToInteractive(key) {\n",
              "          const element = document.querySelector('#df-bcbc9949-5694-4746-be39-bd288b71eb78');\n",
              "          const dataTable =\n",
              "            await google.colab.kernel.invokeFunction('convertToInteractive',\n",
              "                                                     [key], {});\n",
              "          if (!dataTable) return;\n",
              "\n",
              "          const docLinkHtml = 'Like what you see? Visit the ' +\n",
              "            '<a target=\"_blank\" href=https://colab.research.google.com/notebooks/data_table.ipynb>data table notebook</a>'\n",
              "            + ' to learn more about interactive tables.';\n",
              "          element.innerHTML = '';\n",
              "          dataTable['output_type'] = 'display_data';\n",
              "          await google.colab.output.renderOutput(dataTable, element);\n",
              "          const docLink = document.createElement('div');\n",
              "          docLink.innerHTML = docLinkHtml;\n",
              "          element.appendChild(docLink);\n",
              "        }\n",
              "      </script>\n",
              "    </div>\n",
              "  </div>\n",
              "  "
            ]
          },
          "metadata": {},
          "execution_count": 38
        }
      ],
      "source": [
        "table_for_rev.head(15)"
      ]
    },
    {
      "cell_type": "code",
      "execution_count": 39,
      "metadata": {
        "scrolled": true,
        "colab": {
          "base_uri": "https://localhost:8080/",
          "height": 357
        },
        "id": "WX5hRX4NZci1",
        "outputId": "ffdcf063-6b8d-4903-e4a2-d411fd8eca2f"
      },
      "outputs": [
        {
          "output_type": "execute_result",
          "data": {
            "text/plain": [
              "   user_id tariff_name      month  calls  duration  mb_used  messages  \\\n",
              "0     1000       ultra 2018-05-01  164.0      22.0   2256.0      22.0   \n",
              "1     1000       ultra 2018-06-01  187.0      43.0  23257.0      60.0   \n",
              "2     1000       ultra 2018-07-01  346.0      47.0  14016.0      75.0   \n",
              "3     1000       ultra 2018-08-01  418.0      52.0  14070.0      81.0   \n",
              "4     1000       ultra 2018-09-01  478.0      58.0  14581.0      57.0   \n",
              "\n",
              "   messages_included  mb_per_month_included  minutes_included  \\\n",
              "0               1000                  30720              3000   \n",
              "1               1000                  30720              3000   \n",
              "2               1000                  30720              3000   \n",
              "3               1000                  30720              3000   \n",
              "4               1000                  30720              3000   \n",
              "\n",
              "   rub_monthly_fee  rub_per_gb  rub_per_message  rub_per_minute  \\\n",
              "0             1950         150                1               1   \n",
              "1             1950         150                1               1   \n",
              "2             1950         150                1               1   \n",
              "3             1950         150                1               1   \n",
              "4             1950         150                1               1   \n",
              "\n",
              "   minutes_over_tariff  call_add_fee  total_call_m  \n",
              "0              -2978.0             0          1950  \n",
              "1              -2957.0             0          1950  \n",
              "2              -2953.0             0          1950  \n",
              "3              -2948.0             0          1950  \n",
              "4              -2942.0             0          1950  "
            ],
            "text/html": [
              "\n",
              "  <div id=\"df-42c3be65-e4ec-4f3f-b929-ce6a1b98ef6e\">\n",
              "    <div class=\"colab-df-container\">\n",
              "      <div>\n",
              "<style scoped>\n",
              "    .dataframe tbody tr th:only-of-type {\n",
              "        vertical-align: middle;\n",
              "    }\n",
              "\n",
              "    .dataframe tbody tr th {\n",
              "        vertical-align: top;\n",
              "    }\n",
              "\n",
              "    .dataframe thead th {\n",
              "        text-align: right;\n",
              "    }\n",
              "</style>\n",
              "<table border=\"1\" class=\"dataframe\">\n",
              "  <thead>\n",
              "    <tr style=\"text-align: right;\">\n",
              "      <th></th>\n",
              "      <th>user_id</th>\n",
              "      <th>tariff_name</th>\n",
              "      <th>month</th>\n",
              "      <th>calls</th>\n",
              "      <th>duration</th>\n",
              "      <th>mb_used</th>\n",
              "      <th>messages</th>\n",
              "      <th>messages_included</th>\n",
              "      <th>mb_per_month_included</th>\n",
              "      <th>minutes_included</th>\n",
              "      <th>rub_monthly_fee</th>\n",
              "      <th>rub_per_gb</th>\n",
              "      <th>rub_per_message</th>\n",
              "      <th>rub_per_minute</th>\n",
              "      <th>minutes_over_tariff</th>\n",
              "      <th>call_add_fee</th>\n",
              "      <th>total_call_m</th>\n",
              "    </tr>\n",
              "  </thead>\n",
              "  <tbody>\n",
              "    <tr>\n",
              "      <th>0</th>\n",
              "      <td>1000</td>\n",
              "      <td>ultra</td>\n",
              "      <td>2018-05-01</td>\n",
              "      <td>164.0</td>\n",
              "      <td>22.0</td>\n",
              "      <td>2256.0</td>\n",
              "      <td>22.0</td>\n",
              "      <td>1000</td>\n",
              "      <td>30720</td>\n",
              "      <td>3000</td>\n",
              "      <td>1950</td>\n",
              "      <td>150</td>\n",
              "      <td>1</td>\n",
              "      <td>1</td>\n",
              "      <td>-2978.0</td>\n",
              "      <td>0</td>\n",
              "      <td>1950</td>\n",
              "    </tr>\n",
              "    <tr>\n",
              "      <th>1</th>\n",
              "      <td>1000</td>\n",
              "      <td>ultra</td>\n",
              "      <td>2018-06-01</td>\n",
              "      <td>187.0</td>\n",
              "      <td>43.0</td>\n",
              "      <td>23257.0</td>\n",
              "      <td>60.0</td>\n",
              "      <td>1000</td>\n",
              "      <td>30720</td>\n",
              "      <td>3000</td>\n",
              "      <td>1950</td>\n",
              "      <td>150</td>\n",
              "      <td>1</td>\n",
              "      <td>1</td>\n",
              "      <td>-2957.0</td>\n",
              "      <td>0</td>\n",
              "      <td>1950</td>\n",
              "    </tr>\n",
              "    <tr>\n",
              "      <th>2</th>\n",
              "      <td>1000</td>\n",
              "      <td>ultra</td>\n",
              "      <td>2018-07-01</td>\n",
              "      <td>346.0</td>\n",
              "      <td>47.0</td>\n",
              "      <td>14016.0</td>\n",
              "      <td>75.0</td>\n",
              "      <td>1000</td>\n",
              "      <td>30720</td>\n",
              "      <td>3000</td>\n",
              "      <td>1950</td>\n",
              "      <td>150</td>\n",
              "      <td>1</td>\n",
              "      <td>1</td>\n",
              "      <td>-2953.0</td>\n",
              "      <td>0</td>\n",
              "      <td>1950</td>\n",
              "    </tr>\n",
              "    <tr>\n",
              "      <th>3</th>\n",
              "      <td>1000</td>\n",
              "      <td>ultra</td>\n",
              "      <td>2018-08-01</td>\n",
              "      <td>418.0</td>\n",
              "      <td>52.0</td>\n",
              "      <td>14070.0</td>\n",
              "      <td>81.0</td>\n",
              "      <td>1000</td>\n",
              "      <td>30720</td>\n",
              "      <td>3000</td>\n",
              "      <td>1950</td>\n",
              "      <td>150</td>\n",
              "      <td>1</td>\n",
              "      <td>1</td>\n",
              "      <td>-2948.0</td>\n",
              "      <td>0</td>\n",
              "      <td>1950</td>\n",
              "    </tr>\n",
              "    <tr>\n",
              "      <th>4</th>\n",
              "      <td>1000</td>\n",
              "      <td>ultra</td>\n",
              "      <td>2018-09-01</td>\n",
              "      <td>478.0</td>\n",
              "      <td>58.0</td>\n",
              "      <td>14581.0</td>\n",
              "      <td>57.0</td>\n",
              "      <td>1000</td>\n",
              "      <td>30720</td>\n",
              "      <td>3000</td>\n",
              "      <td>1950</td>\n",
              "      <td>150</td>\n",
              "      <td>1</td>\n",
              "      <td>1</td>\n",
              "      <td>-2942.0</td>\n",
              "      <td>0</td>\n",
              "      <td>1950</td>\n",
              "    </tr>\n",
              "  </tbody>\n",
              "</table>\n",
              "</div>\n",
              "      <button class=\"colab-df-convert\" onclick=\"convertToInteractive('df-42c3be65-e4ec-4f3f-b929-ce6a1b98ef6e')\"\n",
              "              title=\"Convert this dataframe to an interactive table.\"\n",
              "              style=\"display:none;\">\n",
              "        \n",
              "  <svg xmlns=\"http://www.w3.org/2000/svg\" height=\"24px\"viewBox=\"0 0 24 24\"\n",
              "       width=\"24px\">\n",
              "    <path d=\"M0 0h24v24H0V0z\" fill=\"none\"/>\n",
              "    <path d=\"M18.56 5.44l.94 2.06.94-2.06 2.06-.94-2.06-.94-.94-2.06-.94 2.06-2.06.94zm-11 1L8.5 8.5l.94-2.06 2.06-.94-2.06-.94L8.5 2.5l-.94 2.06-2.06.94zm10 10l.94 2.06.94-2.06 2.06-.94-2.06-.94-.94-2.06-.94 2.06-2.06.94z\"/><path d=\"M17.41 7.96l-1.37-1.37c-.4-.4-.92-.59-1.43-.59-.52 0-1.04.2-1.43.59L10.3 9.45l-7.72 7.72c-.78.78-.78 2.05 0 2.83L4 21.41c.39.39.9.59 1.41.59.51 0 1.02-.2 1.41-.59l7.78-7.78 2.81-2.81c.8-.78.8-2.07 0-2.86zM5.41 20L4 18.59l7.72-7.72 1.47 1.35L5.41 20z\"/>\n",
              "  </svg>\n",
              "      </button>\n",
              "      \n",
              "  <style>\n",
              "    .colab-df-container {\n",
              "      display:flex;\n",
              "      flex-wrap:wrap;\n",
              "      gap: 12px;\n",
              "    }\n",
              "\n",
              "    .colab-df-convert {\n",
              "      background-color: #E8F0FE;\n",
              "      border: none;\n",
              "      border-radius: 50%;\n",
              "      cursor: pointer;\n",
              "      display: none;\n",
              "      fill: #1967D2;\n",
              "      height: 32px;\n",
              "      padding: 0 0 0 0;\n",
              "      width: 32px;\n",
              "    }\n",
              "\n",
              "    .colab-df-convert:hover {\n",
              "      background-color: #E2EBFA;\n",
              "      box-shadow: 0px 1px 2px rgba(60, 64, 67, 0.3), 0px 1px 3px 1px rgba(60, 64, 67, 0.15);\n",
              "      fill: #174EA6;\n",
              "    }\n",
              "\n",
              "    [theme=dark] .colab-df-convert {\n",
              "      background-color: #3B4455;\n",
              "      fill: #D2E3FC;\n",
              "    }\n",
              "\n",
              "    [theme=dark] .colab-df-convert:hover {\n",
              "      background-color: #434B5C;\n",
              "      box-shadow: 0px 1px 3px 1px rgba(0, 0, 0, 0.15);\n",
              "      filter: drop-shadow(0px 1px 2px rgba(0, 0, 0, 0.3));\n",
              "      fill: #FFFFFF;\n",
              "    }\n",
              "  </style>\n",
              "\n",
              "      <script>\n",
              "        const buttonEl =\n",
              "          document.querySelector('#df-42c3be65-e4ec-4f3f-b929-ce6a1b98ef6e button.colab-df-convert');\n",
              "        buttonEl.style.display =\n",
              "          google.colab.kernel.accessAllowed ? 'block' : 'none';\n",
              "\n",
              "        async function convertToInteractive(key) {\n",
              "          const element = document.querySelector('#df-42c3be65-e4ec-4f3f-b929-ce6a1b98ef6e');\n",
              "          const dataTable =\n",
              "            await google.colab.kernel.invokeFunction('convertToInteractive',\n",
              "                                                     [key], {});\n",
              "          if (!dataTable) return;\n",
              "\n",
              "          const docLinkHtml = 'Like what you see? Visit the ' +\n",
              "            '<a target=\"_blank\" href=https://colab.research.google.com/notebooks/data_table.ipynb>data table notebook</a>'\n",
              "            + ' to learn more about interactive tables.';\n",
              "          element.innerHTML = '';\n",
              "          dataTable['output_type'] = 'display_data';\n",
              "          await google.colab.output.renderOutput(dataTable, element);\n",
              "          const docLink = document.createElement('div');\n",
              "          docLink.innerHTML = docLinkHtml;\n",
              "          element.appendChild(docLink);\n",
              "        }\n",
              "      </script>\n",
              "    </div>\n",
              "  </div>\n",
              "  "
            ]
          },
          "metadata": {},
          "execution_count": 39
        }
      ],
      "source": [
        "#делаем рассчет выручки для звонков\n",
        "\n",
        "table_for_rev['minutes_over_tariff'] = table_for_rev['duration'] - table_for_rev['minutes_included']\n",
        "table_for_rev['call_add_fee'] = table_for_rev['minutes_over_tariff'] * table_for_rev['rub_per_minute']\n",
        "table_for_rev['call_add_fee'] = table_for_rev['call_add_fee'].apply(lambda x: 0 if x < 0 else x)\n",
        "table_for_rev['total_call_m'] = table_for_rev['rub_monthly_fee'] + table_for_rev['call_add_fee']\n",
        "table_for_rev.head(5)"
      ]
    },
    {
      "cell_type": "code",
      "execution_count": 40,
      "metadata": {
        "scrolled": true,
        "colab": {
          "base_uri": "https://localhost:8080/",
          "height": 357
        },
        "id": "CKOEM_i-Zci1",
        "outputId": "6bbc9be2-7c1c-4d8a-fc76-212f33ff15a1"
      },
      "outputs": [
        {
          "output_type": "execute_result",
          "data": {
            "text/plain": [
              "   user_id tariff_name      month  calls  duration  mb_used  messages  \\\n",
              "0     1000       ultra 2018-05-01  164.0      22.0   2256.0      22.0   \n",
              "1     1000       ultra 2018-06-01  187.0      43.0  23257.0      60.0   \n",
              "2     1000       ultra 2018-07-01  346.0      47.0  14016.0      75.0   \n",
              "3     1000       ultra 2018-08-01  418.0      52.0  14070.0      81.0   \n",
              "4     1000       ultra 2018-09-01  478.0      58.0  14581.0      57.0   \n",
              "\n",
              "   messages_included  mb_per_month_included  minutes_included  \\\n",
              "0               1000                  30720              3000   \n",
              "1               1000                  30720              3000   \n",
              "2               1000                  30720              3000   \n",
              "3               1000                  30720              3000   \n",
              "4               1000                  30720              3000   \n",
              "\n",
              "   rub_monthly_fee  rub_per_gb  rub_per_message  rub_per_minute  \\\n",
              "0             1950         150                1               1   \n",
              "1             1950         150                1               1   \n",
              "2             1950         150                1               1   \n",
              "3             1950         150                1               1   \n",
              "4             1950         150                1               1   \n",
              "\n",
              "   minutes_over_tariff  call_add_fee  total_call_m  messages_over_tariff  \\\n",
              "0              -2978.0             0          1950                -978.0   \n",
              "1              -2957.0             0          1950                -940.0   \n",
              "2              -2953.0             0          1950                -925.0   \n",
              "3              -2948.0             0          1950                -919.0   \n",
              "4              -2942.0             0          1950                -943.0   \n",
              "\n",
              "   message_add_fee  total_message_m  \n",
              "0              0.0           1950.0  \n",
              "1              0.0           1950.0  \n",
              "2              0.0           1950.0  \n",
              "3              0.0           1950.0  \n",
              "4              0.0           1950.0  "
            ],
            "text/html": [
              "\n",
              "  <div id=\"df-258e994d-924c-4355-9f43-86ed0700b597\">\n",
              "    <div class=\"colab-df-container\">\n",
              "      <div>\n",
              "<style scoped>\n",
              "    .dataframe tbody tr th:only-of-type {\n",
              "        vertical-align: middle;\n",
              "    }\n",
              "\n",
              "    .dataframe tbody tr th {\n",
              "        vertical-align: top;\n",
              "    }\n",
              "\n",
              "    .dataframe thead th {\n",
              "        text-align: right;\n",
              "    }\n",
              "</style>\n",
              "<table border=\"1\" class=\"dataframe\">\n",
              "  <thead>\n",
              "    <tr style=\"text-align: right;\">\n",
              "      <th></th>\n",
              "      <th>user_id</th>\n",
              "      <th>tariff_name</th>\n",
              "      <th>month</th>\n",
              "      <th>calls</th>\n",
              "      <th>duration</th>\n",
              "      <th>mb_used</th>\n",
              "      <th>messages</th>\n",
              "      <th>messages_included</th>\n",
              "      <th>mb_per_month_included</th>\n",
              "      <th>minutes_included</th>\n",
              "      <th>rub_monthly_fee</th>\n",
              "      <th>rub_per_gb</th>\n",
              "      <th>rub_per_message</th>\n",
              "      <th>rub_per_minute</th>\n",
              "      <th>minutes_over_tariff</th>\n",
              "      <th>call_add_fee</th>\n",
              "      <th>total_call_m</th>\n",
              "      <th>messages_over_tariff</th>\n",
              "      <th>message_add_fee</th>\n",
              "      <th>total_message_m</th>\n",
              "    </tr>\n",
              "  </thead>\n",
              "  <tbody>\n",
              "    <tr>\n",
              "      <th>0</th>\n",
              "      <td>1000</td>\n",
              "      <td>ultra</td>\n",
              "      <td>2018-05-01</td>\n",
              "      <td>164.0</td>\n",
              "      <td>22.0</td>\n",
              "      <td>2256.0</td>\n",
              "      <td>22.0</td>\n",
              "      <td>1000</td>\n",
              "      <td>30720</td>\n",
              "      <td>3000</td>\n",
              "      <td>1950</td>\n",
              "      <td>150</td>\n",
              "      <td>1</td>\n",
              "      <td>1</td>\n",
              "      <td>-2978.0</td>\n",
              "      <td>0</td>\n",
              "      <td>1950</td>\n",
              "      <td>-978.0</td>\n",
              "      <td>0.0</td>\n",
              "      <td>1950.0</td>\n",
              "    </tr>\n",
              "    <tr>\n",
              "      <th>1</th>\n",
              "      <td>1000</td>\n",
              "      <td>ultra</td>\n",
              "      <td>2018-06-01</td>\n",
              "      <td>187.0</td>\n",
              "      <td>43.0</td>\n",
              "      <td>23257.0</td>\n",
              "      <td>60.0</td>\n",
              "      <td>1000</td>\n",
              "      <td>30720</td>\n",
              "      <td>3000</td>\n",
              "      <td>1950</td>\n",
              "      <td>150</td>\n",
              "      <td>1</td>\n",
              "      <td>1</td>\n",
              "      <td>-2957.0</td>\n",
              "      <td>0</td>\n",
              "      <td>1950</td>\n",
              "      <td>-940.0</td>\n",
              "      <td>0.0</td>\n",
              "      <td>1950.0</td>\n",
              "    </tr>\n",
              "    <tr>\n",
              "      <th>2</th>\n",
              "      <td>1000</td>\n",
              "      <td>ultra</td>\n",
              "      <td>2018-07-01</td>\n",
              "      <td>346.0</td>\n",
              "      <td>47.0</td>\n",
              "      <td>14016.0</td>\n",
              "      <td>75.0</td>\n",
              "      <td>1000</td>\n",
              "      <td>30720</td>\n",
              "      <td>3000</td>\n",
              "      <td>1950</td>\n",
              "      <td>150</td>\n",
              "      <td>1</td>\n",
              "      <td>1</td>\n",
              "      <td>-2953.0</td>\n",
              "      <td>0</td>\n",
              "      <td>1950</td>\n",
              "      <td>-925.0</td>\n",
              "      <td>0.0</td>\n",
              "      <td>1950.0</td>\n",
              "    </tr>\n",
              "    <tr>\n",
              "      <th>3</th>\n",
              "      <td>1000</td>\n",
              "      <td>ultra</td>\n",
              "      <td>2018-08-01</td>\n",
              "      <td>418.0</td>\n",
              "      <td>52.0</td>\n",
              "      <td>14070.0</td>\n",
              "      <td>81.0</td>\n",
              "      <td>1000</td>\n",
              "      <td>30720</td>\n",
              "      <td>3000</td>\n",
              "      <td>1950</td>\n",
              "      <td>150</td>\n",
              "      <td>1</td>\n",
              "      <td>1</td>\n",
              "      <td>-2948.0</td>\n",
              "      <td>0</td>\n",
              "      <td>1950</td>\n",
              "      <td>-919.0</td>\n",
              "      <td>0.0</td>\n",
              "      <td>1950.0</td>\n",
              "    </tr>\n",
              "    <tr>\n",
              "      <th>4</th>\n",
              "      <td>1000</td>\n",
              "      <td>ultra</td>\n",
              "      <td>2018-09-01</td>\n",
              "      <td>478.0</td>\n",
              "      <td>58.0</td>\n",
              "      <td>14581.0</td>\n",
              "      <td>57.0</td>\n",
              "      <td>1000</td>\n",
              "      <td>30720</td>\n",
              "      <td>3000</td>\n",
              "      <td>1950</td>\n",
              "      <td>150</td>\n",
              "      <td>1</td>\n",
              "      <td>1</td>\n",
              "      <td>-2942.0</td>\n",
              "      <td>0</td>\n",
              "      <td>1950</td>\n",
              "      <td>-943.0</td>\n",
              "      <td>0.0</td>\n",
              "      <td>1950.0</td>\n",
              "    </tr>\n",
              "  </tbody>\n",
              "</table>\n",
              "</div>\n",
              "      <button class=\"colab-df-convert\" onclick=\"convertToInteractive('df-258e994d-924c-4355-9f43-86ed0700b597')\"\n",
              "              title=\"Convert this dataframe to an interactive table.\"\n",
              "              style=\"display:none;\">\n",
              "        \n",
              "  <svg xmlns=\"http://www.w3.org/2000/svg\" height=\"24px\"viewBox=\"0 0 24 24\"\n",
              "       width=\"24px\">\n",
              "    <path d=\"M0 0h24v24H0V0z\" fill=\"none\"/>\n",
              "    <path d=\"M18.56 5.44l.94 2.06.94-2.06 2.06-.94-2.06-.94-.94-2.06-.94 2.06-2.06.94zm-11 1L8.5 8.5l.94-2.06 2.06-.94-2.06-.94L8.5 2.5l-.94 2.06-2.06.94zm10 10l.94 2.06.94-2.06 2.06-.94-2.06-.94-.94-2.06-.94 2.06-2.06.94z\"/><path d=\"M17.41 7.96l-1.37-1.37c-.4-.4-.92-.59-1.43-.59-.52 0-1.04.2-1.43.59L10.3 9.45l-7.72 7.72c-.78.78-.78 2.05 0 2.83L4 21.41c.39.39.9.59 1.41.59.51 0 1.02-.2 1.41-.59l7.78-7.78 2.81-2.81c.8-.78.8-2.07 0-2.86zM5.41 20L4 18.59l7.72-7.72 1.47 1.35L5.41 20z\"/>\n",
              "  </svg>\n",
              "      </button>\n",
              "      \n",
              "  <style>\n",
              "    .colab-df-container {\n",
              "      display:flex;\n",
              "      flex-wrap:wrap;\n",
              "      gap: 12px;\n",
              "    }\n",
              "\n",
              "    .colab-df-convert {\n",
              "      background-color: #E8F0FE;\n",
              "      border: none;\n",
              "      border-radius: 50%;\n",
              "      cursor: pointer;\n",
              "      display: none;\n",
              "      fill: #1967D2;\n",
              "      height: 32px;\n",
              "      padding: 0 0 0 0;\n",
              "      width: 32px;\n",
              "    }\n",
              "\n",
              "    .colab-df-convert:hover {\n",
              "      background-color: #E2EBFA;\n",
              "      box-shadow: 0px 1px 2px rgba(60, 64, 67, 0.3), 0px 1px 3px 1px rgba(60, 64, 67, 0.15);\n",
              "      fill: #174EA6;\n",
              "    }\n",
              "\n",
              "    [theme=dark] .colab-df-convert {\n",
              "      background-color: #3B4455;\n",
              "      fill: #D2E3FC;\n",
              "    }\n",
              "\n",
              "    [theme=dark] .colab-df-convert:hover {\n",
              "      background-color: #434B5C;\n",
              "      box-shadow: 0px 1px 3px 1px rgba(0, 0, 0, 0.15);\n",
              "      filter: drop-shadow(0px 1px 2px rgba(0, 0, 0, 0.3));\n",
              "      fill: #FFFFFF;\n",
              "    }\n",
              "  </style>\n",
              "\n",
              "      <script>\n",
              "        const buttonEl =\n",
              "          document.querySelector('#df-258e994d-924c-4355-9f43-86ed0700b597 button.colab-df-convert');\n",
              "        buttonEl.style.display =\n",
              "          google.colab.kernel.accessAllowed ? 'block' : 'none';\n",
              "\n",
              "        async function convertToInteractive(key) {\n",
              "          const element = document.querySelector('#df-258e994d-924c-4355-9f43-86ed0700b597');\n",
              "          const dataTable =\n",
              "            await google.colab.kernel.invokeFunction('convertToInteractive',\n",
              "                                                     [key], {});\n",
              "          if (!dataTable) return;\n",
              "\n",
              "          const docLinkHtml = 'Like what you see? Visit the ' +\n",
              "            '<a target=\"_blank\" href=https://colab.research.google.com/notebooks/data_table.ipynb>data table notebook</a>'\n",
              "            + ' to learn more about interactive tables.';\n",
              "          element.innerHTML = '';\n",
              "          dataTable['output_type'] = 'display_data';\n",
              "          await google.colab.output.renderOutput(dataTable, element);\n",
              "          const docLink = document.createElement('div');\n",
              "          docLink.innerHTML = docLinkHtml;\n",
              "          element.appendChild(docLink);\n",
              "        }\n",
              "      </script>\n",
              "    </div>\n",
              "  </div>\n",
              "  "
            ]
          },
          "metadata": {},
          "execution_count": 40
        }
      ],
      "source": [
        "#делаем рассчет выручки для сообщений\n",
        "\n",
        "table_for_rev['messages_over_tariff'] = table_for_rev['messages'] - table_for_rev['messages_included']\n",
        "table_for_rev['message_add_fee'] = np.ceil(table_for_rev['messages_over_tariff']) * table_for_rev['rub_per_message']\n",
        "table_for_rev['message_add_fee'] = table_for_rev['message_add_fee'].apply(lambda x: 0 if x < 0 else x)\n",
        "table_for_rev['total_message_m'] = table_for_rev['rub_monthly_fee'] + table_for_rev['message_add_fee']\n",
        "table_for_rev.head(5)"
      ]
    },
    {
      "cell_type": "code",
      "execution_count": 41,
      "metadata": {
        "scrolled": true,
        "colab": {
          "base_uri": "https://localhost:8080/",
          "height": 1000
        },
        "id": "M46IQ5FyZci1",
        "outputId": "4318a6a7-263e-4fbd-988b-56fc30c82050"
      },
      "outputs": [
        {
          "output_type": "execute_result",
          "data": {
            "text/plain": [
              "    user_id tariff_name      month  calls  duration  mb_used  messages  \\\n",
              "0      1000       ultra 2018-05-01  164.0      22.0   2256.0      22.0   \n",
              "1      1000       ultra 2018-06-01  187.0      43.0  23257.0      60.0   \n",
              "2      1000       ultra 2018-07-01  346.0      47.0  14016.0      75.0   \n",
              "3      1000       ultra 2018-08-01  418.0      52.0  14070.0      81.0   \n",
              "4      1000       ultra 2018-09-01  478.0      58.0  14581.0      57.0   \n",
              "5      1000       ultra 2018-10-01  363.0      57.0  14717.0      73.0   \n",
              "6      1000       ultra 2018-11-01  344.0      43.0  14768.0      58.0   \n",
              "7      1000       ultra 2018-12-01  341.0      46.0   9827.0      70.0   \n",
              "8      1001       smart 2018-11-01  444.0      59.0  18452.0       0.0   \n",
              "9      1001       smart 2018-12-01  430.0      63.0  14053.0       0.0   \n",
              "10     1002       smart 2018-06-01  118.0      15.0  10871.0       4.0   \n",
              "11     1002       smart 2018-07-01  219.0      26.0  17601.0      11.0   \n",
              "12     1002       smart 2018-08-01  294.0      42.0  20347.0      13.0   \n",
              "13     1002       smart 2018-09-01  217.0      36.0  16712.0       4.0   \n",
              "14     1002       smart 2018-10-01  221.0      33.0  13905.0      10.0   \n",
              "15     1002       smart 2018-11-01  250.0      32.0  18610.0      16.0   \n",
              "16     1002       smart 2018-12-01  242.0      33.0  18137.0      12.0   \n",
              "17     1003       ultra 2018-08-01  392.0      55.0   8571.0      37.0   \n",
              "18     1003       ultra 2018-09-01  990.0     134.0  12479.0      91.0   \n",
              "19     1003       ultra 2018-10-01  866.0     108.0  14779.0      83.0   \n",
              "20     1003       ultra 2018-11-01  844.0     115.0  11368.0      94.0   \n",
              "21     1003       ultra 2018-12-01  822.0     108.0  10132.0      75.0   \n",
              "22     1004       ultra 2018-05-01   37.0       9.0  13415.0      95.0   \n",
              "23     1004       ultra 2018-06-01  177.0      31.0  17619.0     134.0   \n",
              "24     1004       ultra 2018-07-01  137.0      22.0  22243.0     181.0   \n",
              "\n",
              "    messages_included  mb_per_month_included  minutes_included  \\\n",
              "0                1000                  30720              3000   \n",
              "1                1000                  30720              3000   \n",
              "2                1000                  30720              3000   \n",
              "3                1000                  30720              3000   \n",
              "4                1000                  30720              3000   \n",
              "5                1000                  30720              3000   \n",
              "6                1000                  30720              3000   \n",
              "7                1000                  30720              3000   \n",
              "8                  50                  15360               500   \n",
              "9                  50                  15360               500   \n",
              "10                 50                  15360               500   \n",
              "11                 50                  15360               500   \n",
              "12                 50                  15360               500   \n",
              "13                 50                  15360               500   \n",
              "14                 50                  15360               500   \n",
              "15                 50                  15360               500   \n",
              "16                 50                  15360               500   \n",
              "17               1000                  30720              3000   \n",
              "18               1000                  30720              3000   \n",
              "19               1000                  30720              3000   \n",
              "20               1000                  30720              3000   \n",
              "21               1000                  30720              3000   \n",
              "22               1000                  30720              3000   \n",
              "23               1000                  30720              3000   \n",
              "24               1000                  30720              3000   \n",
              "\n",
              "    rub_monthly_fee  rub_per_gb  rub_per_message  rub_per_minute  \\\n",
              "0              1950         150                1               1   \n",
              "1              1950         150                1               1   \n",
              "2              1950         150                1               1   \n",
              "3              1950         150                1               1   \n",
              "4              1950         150                1               1   \n",
              "5              1950         150                1               1   \n",
              "6              1950         150                1               1   \n",
              "7              1950         150                1               1   \n",
              "8               550         200                3               3   \n",
              "9               550         200                3               3   \n",
              "10              550         200                3               3   \n",
              "11              550         200                3               3   \n",
              "12              550         200                3               3   \n",
              "13              550         200                3               3   \n",
              "14              550         200                3               3   \n",
              "15              550         200                3               3   \n",
              "16              550         200                3               3   \n",
              "17             1950         150                1               1   \n",
              "18             1950         150                1               1   \n",
              "19             1950         150                1               1   \n",
              "20             1950         150                1               1   \n",
              "21             1950         150                1               1   \n",
              "22             1950         150                1               1   \n",
              "23             1950         150                1               1   \n",
              "24             1950         150                1               1   \n",
              "\n",
              "    minutes_over_tariff  call_add_fee  total_call_m  messages_over_tariff  \\\n",
              "0               -2978.0             0          1950                -978.0   \n",
              "1               -2957.0             0          1950                -940.0   \n",
              "2               -2953.0             0          1950                -925.0   \n",
              "3               -2948.0             0          1950                -919.0   \n",
              "4               -2942.0             0          1950                -943.0   \n",
              "5               -2943.0             0          1950                -927.0   \n",
              "6               -2957.0             0          1950                -942.0   \n",
              "7               -2954.0             0          1950                -930.0   \n",
              "8                -441.0             0           550                 -50.0   \n",
              "9                -437.0             0           550                 -50.0   \n",
              "10               -485.0             0           550                 -46.0   \n",
              "11               -474.0             0           550                 -39.0   \n",
              "12               -458.0             0           550                 -37.0   \n",
              "13               -464.0             0           550                 -46.0   \n",
              "14               -467.0             0           550                 -40.0   \n",
              "15               -468.0             0           550                 -34.0   \n",
              "16               -467.0             0           550                 -38.0   \n",
              "17              -2945.0             0          1950                -963.0   \n",
              "18              -2866.0             0          1950                -909.0   \n",
              "19              -2892.0             0          1950                -917.0   \n",
              "20              -2885.0             0          1950                -906.0   \n",
              "21              -2892.0             0          1950                -925.0   \n",
              "22              -2991.0             0          1950                -905.0   \n",
              "23              -2969.0             0          1950                -866.0   \n",
              "24              -2978.0             0          1950                -819.0   \n",
              "\n",
              "    message_add_fee  total_message_m  internet_over_tariff  internet_add_fee  \\\n",
              "0               0.0           1950.0              -28464.0               0.0   \n",
              "1               0.0           1950.0               -7463.0               0.0   \n",
              "2               0.0           1950.0              -16704.0               0.0   \n",
              "3               0.0           1950.0              -16650.0               0.0   \n",
              "4               0.0           1950.0              -16139.0               0.0   \n",
              "5               0.0           1950.0              -16003.0               0.0   \n",
              "6               0.0           1950.0              -15952.0               0.0   \n",
              "7               0.0           1950.0              -20893.0               0.0   \n",
              "8               0.0            550.0                3092.0             800.0   \n",
              "9               0.0            550.0               -1307.0               0.0   \n",
              "10              0.0            550.0               -4489.0               0.0   \n",
              "11              0.0            550.0                2241.0             600.0   \n",
              "12              0.0            550.0                4987.0            1000.0   \n",
              "13              0.0            550.0                1352.0             400.0   \n",
              "14              0.0            550.0               -1455.0               0.0   \n",
              "15              0.0            550.0                3250.0             800.0   \n",
              "16              0.0            550.0                2777.0             600.0   \n",
              "17              0.0           1950.0              -22149.0               0.0   \n",
              "18              0.0           1950.0              -18241.0               0.0   \n",
              "19              0.0           1950.0              -15941.0               0.0   \n",
              "20              0.0           1950.0              -19352.0               0.0   \n",
              "21              0.0           1950.0              -20588.0               0.0   \n",
              "22              0.0           1950.0              -17305.0               0.0   \n",
              "23              0.0           1950.0              -13101.0               0.0   \n",
              "24              0.0           1950.0               -8477.0               0.0   \n",
              "\n",
              "    total_internet_m  \n",
              "0             1950.0  \n",
              "1             1950.0  \n",
              "2             1950.0  \n",
              "3             1950.0  \n",
              "4             1950.0  \n",
              "5             1950.0  \n",
              "6             1950.0  \n",
              "7             1950.0  \n",
              "8             1350.0  \n",
              "9              550.0  \n",
              "10             550.0  \n",
              "11            1150.0  \n",
              "12            1550.0  \n",
              "13             950.0  \n",
              "14             550.0  \n",
              "15            1350.0  \n",
              "16            1150.0  \n",
              "17            1950.0  \n",
              "18            1950.0  \n",
              "19            1950.0  \n",
              "20            1950.0  \n",
              "21            1950.0  \n",
              "22            1950.0  \n",
              "23            1950.0  \n",
              "24            1950.0  "
            ],
            "text/html": [
              "\n",
              "  <div id=\"df-696a301b-0f13-4d9e-b2f4-6b6034589ca9\">\n",
              "    <div class=\"colab-df-container\">\n",
              "      <div>\n",
              "<style scoped>\n",
              "    .dataframe tbody tr th:only-of-type {\n",
              "        vertical-align: middle;\n",
              "    }\n",
              "\n",
              "    .dataframe tbody tr th {\n",
              "        vertical-align: top;\n",
              "    }\n",
              "\n",
              "    .dataframe thead th {\n",
              "        text-align: right;\n",
              "    }\n",
              "</style>\n",
              "<table border=\"1\" class=\"dataframe\">\n",
              "  <thead>\n",
              "    <tr style=\"text-align: right;\">\n",
              "      <th></th>\n",
              "      <th>user_id</th>\n",
              "      <th>tariff_name</th>\n",
              "      <th>month</th>\n",
              "      <th>calls</th>\n",
              "      <th>duration</th>\n",
              "      <th>mb_used</th>\n",
              "      <th>messages</th>\n",
              "      <th>messages_included</th>\n",
              "      <th>mb_per_month_included</th>\n",
              "      <th>minutes_included</th>\n",
              "      <th>rub_monthly_fee</th>\n",
              "      <th>rub_per_gb</th>\n",
              "      <th>rub_per_message</th>\n",
              "      <th>rub_per_minute</th>\n",
              "      <th>minutes_over_tariff</th>\n",
              "      <th>call_add_fee</th>\n",
              "      <th>total_call_m</th>\n",
              "      <th>messages_over_tariff</th>\n",
              "      <th>message_add_fee</th>\n",
              "      <th>total_message_m</th>\n",
              "      <th>internet_over_tariff</th>\n",
              "      <th>internet_add_fee</th>\n",
              "      <th>total_internet_m</th>\n",
              "    </tr>\n",
              "  </thead>\n",
              "  <tbody>\n",
              "    <tr>\n",
              "      <th>0</th>\n",
              "      <td>1000</td>\n",
              "      <td>ultra</td>\n",
              "      <td>2018-05-01</td>\n",
              "      <td>164.0</td>\n",
              "      <td>22.0</td>\n",
              "      <td>2256.0</td>\n",
              "      <td>22.0</td>\n",
              "      <td>1000</td>\n",
              "      <td>30720</td>\n",
              "      <td>3000</td>\n",
              "      <td>1950</td>\n",
              "      <td>150</td>\n",
              "      <td>1</td>\n",
              "      <td>1</td>\n",
              "      <td>-2978.0</td>\n",
              "      <td>0</td>\n",
              "      <td>1950</td>\n",
              "      <td>-978.0</td>\n",
              "      <td>0.0</td>\n",
              "      <td>1950.0</td>\n",
              "      <td>-28464.0</td>\n",
              "      <td>0.0</td>\n",
              "      <td>1950.0</td>\n",
              "    </tr>\n",
              "    <tr>\n",
              "      <th>1</th>\n",
              "      <td>1000</td>\n",
              "      <td>ultra</td>\n",
              "      <td>2018-06-01</td>\n",
              "      <td>187.0</td>\n",
              "      <td>43.0</td>\n",
              "      <td>23257.0</td>\n",
              "      <td>60.0</td>\n",
              "      <td>1000</td>\n",
              "      <td>30720</td>\n",
              "      <td>3000</td>\n",
              "      <td>1950</td>\n",
              "      <td>150</td>\n",
              "      <td>1</td>\n",
              "      <td>1</td>\n",
              "      <td>-2957.0</td>\n",
              "      <td>0</td>\n",
              "      <td>1950</td>\n",
              "      <td>-940.0</td>\n",
              "      <td>0.0</td>\n",
              "      <td>1950.0</td>\n",
              "      <td>-7463.0</td>\n",
              "      <td>0.0</td>\n",
              "      <td>1950.0</td>\n",
              "    </tr>\n",
              "    <tr>\n",
              "      <th>2</th>\n",
              "      <td>1000</td>\n",
              "      <td>ultra</td>\n",
              "      <td>2018-07-01</td>\n",
              "      <td>346.0</td>\n",
              "      <td>47.0</td>\n",
              "      <td>14016.0</td>\n",
              "      <td>75.0</td>\n",
              "      <td>1000</td>\n",
              "      <td>30720</td>\n",
              "      <td>3000</td>\n",
              "      <td>1950</td>\n",
              "      <td>150</td>\n",
              "      <td>1</td>\n",
              "      <td>1</td>\n",
              "      <td>-2953.0</td>\n",
              "      <td>0</td>\n",
              "      <td>1950</td>\n",
              "      <td>-925.0</td>\n",
              "      <td>0.0</td>\n",
              "      <td>1950.0</td>\n",
              "      <td>-16704.0</td>\n",
              "      <td>0.0</td>\n",
              "      <td>1950.0</td>\n",
              "    </tr>\n",
              "    <tr>\n",
              "      <th>3</th>\n",
              "      <td>1000</td>\n",
              "      <td>ultra</td>\n",
              "      <td>2018-08-01</td>\n",
              "      <td>418.0</td>\n",
              "      <td>52.0</td>\n",
              "      <td>14070.0</td>\n",
              "      <td>81.0</td>\n",
              "      <td>1000</td>\n",
              "      <td>30720</td>\n",
              "      <td>3000</td>\n",
              "      <td>1950</td>\n",
              "      <td>150</td>\n",
              "      <td>1</td>\n",
              "      <td>1</td>\n",
              "      <td>-2948.0</td>\n",
              "      <td>0</td>\n",
              "      <td>1950</td>\n",
              "      <td>-919.0</td>\n",
              "      <td>0.0</td>\n",
              "      <td>1950.0</td>\n",
              "      <td>-16650.0</td>\n",
              "      <td>0.0</td>\n",
              "      <td>1950.0</td>\n",
              "    </tr>\n",
              "    <tr>\n",
              "      <th>4</th>\n",
              "      <td>1000</td>\n",
              "      <td>ultra</td>\n",
              "      <td>2018-09-01</td>\n",
              "      <td>478.0</td>\n",
              "      <td>58.0</td>\n",
              "      <td>14581.0</td>\n",
              "      <td>57.0</td>\n",
              "      <td>1000</td>\n",
              "      <td>30720</td>\n",
              "      <td>3000</td>\n",
              "      <td>1950</td>\n",
              "      <td>150</td>\n",
              "      <td>1</td>\n",
              "      <td>1</td>\n",
              "      <td>-2942.0</td>\n",
              "      <td>0</td>\n",
              "      <td>1950</td>\n",
              "      <td>-943.0</td>\n",
              "      <td>0.0</td>\n",
              "      <td>1950.0</td>\n",
              "      <td>-16139.0</td>\n",
              "      <td>0.0</td>\n",
              "      <td>1950.0</td>\n",
              "    </tr>\n",
              "    <tr>\n",
              "      <th>5</th>\n",
              "      <td>1000</td>\n",
              "      <td>ultra</td>\n",
              "      <td>2018-10-01</td>\n",
              "      <td>363.0</td>\n",
              "      <td>57.0</td>\n",
              "      <td>14717.0</td>\n",
              "      <td>73.0</td>\n",
              "      <td>1000</td>\n",
              "      <td>30720</td>\n",
              "      <td>3000</td>\n",
              "      <td>1950</td>\n",
              "      <td>150</td>\n",
              "      <td>1</td>\n",
              "      <td>1</td>\n",
              "      <td>-2943.0</td>\n",
              "      <td>0</td>\n",
              "      <td>1950</td>\n",
              "      <td>-927.0</td>\n",
              "      <td>0.0</td>\n",
              "      <td>1950.0</td>\n",
              "      <td>-16003.0</td>\n",
              "      <td>0.0</td>\n",
              "      <td>1950.0</td>\n",
              "    </tr>\n",
              "    <tr>\n",
              "      <th>6</th>\n",
              "      <td>1000</td>\n",
              "      <td>ultra</td>\n",
              "      <td>2018-11-01</td>\n",
              "      <td>344.0</td>\n",
              "      <td>43.0</td>\n",
              "      <td>14768.0</td>\n",
              "      <td>58.0</td>\n",
              "      <td>1000</td>\n",
              "      <td>30720</td>\n",
              "      <td>3000</td>\n",
              "      <td>1950</td>\n",
              "      <td>150</td>\n",
              "      <td>1</td>\n",
              "      <td>1</td>\n",
              "      <td>-2957.0</td>\n",
              "      <td>0</td>\n",
              "      <td>1950</td>\n",
              "      <td>-942.0</td>\n",
              "      <td>0.0</td>\n",
              "      <td>1950.0</td>\n",
              "      <td>-15952.0</td>\n",
              "      <td>0.0</td>\n",
              "      <td>1950.0</td>\n",
              "    </tr>\n",
              "    <tr>\n",
              "      <th>7</th>\n",
              "      <td>1000</td>\n",
              "      <td>ultra</td>\n",
              "      <td>2018-12-01</td>\n",
              "      <td>341.0</td>\n",
              "      <td>46.0</td>\n",
              "      <td>9827.0</td>\n",
              "      <td>70.0</td>\n",
              "      <td>1000</td>\n",
              "      <td>30720</td>\n",
              "      <td>3000</td>\n",
              "      <td>1950</td>\n",
              "      <td>150</td>\n",
              "      <td>1</td>\n",
              "      <td>1</td>\n",
              "      <td>-2954.0</td>\n",
              "      <td>0</td>\n",
              "      <td>1950</td>\n",
              "      <td>-930.0</td>\n",
              "      <td>0.0</td>\n",
              "      <td>1950.0</td>\n",
              "      <td>-20893.0</td>\n",
              "      <td>0.0</td>\n",
              "      <td>1950.0</td>\n",
              "    </tr>\n",
              "    <tr>\n",
              "      <th>8</th>\n",
              "      <td>1001</td>\n",
              "      <td>smart</td>\n",
              "      <td>2018-11-01</td>\n",
              "      <td>444.0</td>\n",
              "      <td>59.0</td>\n",
              "      <td>18452.0</td>\n",
              "      <td>0.0</td>\n",
              "      <td>50</td>\n",
              "      <td>15360</td>\n",
              "      <td>500</td>\n",
              "      <td>550</td>\n",
              "      <td>200</td>\n",
              "      <td>3</td>\n",
              "      <td>3</td>\n",
              "      <td>-441.0</td>\n",
              "      <td>0</td>\n",
              "      <td>550</td>\n",
              "      <td>-50.0</td>\n",
              "      <td>0.0</td>\n",
              "      <td>550.0</td>\n",
              "      <td>3092.0</td>\n",
              "      <td>800.0</td>\n",
              "      <td>1350.0</td>\n",
              "    </tr>\n",
              "    <tr>\n",
              "      <th>9</th>\n",
              "      <td>1001</td>\n",
              "      <td>smart</td>\n",
              "      <td>2018-12-01</td>\n",
              "      <td>430.0</td>\n",
              "      <td>63.0</td>\n",
              "      <td>14053.0</td>\n",
              "      <td>0.0</td>\n",
              "      <td>50</td>\n",
              "      <td>15360</td>\n",
              "      <td>500</td>\n",
              "      <td>550</td>\n",
              "      <td>200</td>\n",
              "      <td>3</td>\n",
              "      <td>3</td>\n",
              "      <td>-437.0</td>\n",
              "      <td>0</td>\n",
              "      <td>550</td>\n",
              "      <td>-50.0</td>\n",
              "      <td>0.0</td>\n",
              "      <td>550.0</td>\n",
              "      <td>-1307.0</td>\n",
              "      <td>0.0</td>\n",
              "      <td>550.0</td>\n",
              "    </tr>\n",
              "    <tr>\n",
              "      <th>10</th>\n",
              "      <td>1002</td>\n",
              "      <td>smart</td>\n",
              "      <td>2018-06-01</td>\n",
              "      <td>118.0</td>\n",
              "      <td>15.0</td>\n",
              "      <td>10871.0</td>\n",
              "      <td>4.0</td>\n",
              "      <td>50</td>\n",
              "      <td>15360</td>\n",
              "      <td>500</td>\n",
              "      <td>550</td>\n",
              "      <td>200</td>\n",
              "      <td>3</td>\n",
              "      <td>3</td>\n",
              "      <td>-485.0</td>\n",
              "      <td>0</td>\n",
              "      <td>550</td>\n",
              "      <td>-46.0</td>\n",
              "      <td>0.0</td>\n",
              "      <td>550.0</td>\n",
              "      <td>-4489.0</td>\n",
              "      <td>0.0</td>\n",
              "      <td>550.0</td>\n",
              "    </tr>\n",
              "    <tr>\n",
              "      <th>11</th>\n",
              "      <td>1002</td>\n",
              "      <td>smart</td>\n",
              "      <td>2018-07-01</td>\n",
              "      <td>219.0</td>\n",
              "      <td>26.0</td>\n",
              "      <td>17601.0</td>\n",
              "      <td>11.0</td>\n",
              "      <td>50</td>\n",
              "      <td>15360</td>\n",
              "      <td>500</td>\n",
              "      <td>550</td>\n",
              "      <td>200</td>\n",
              "      <td>3</td>\n",
              "      <td>3</td>\n",
              "      <td>-474.0</td>\n",
              "      <td>0</td>\n",
              "      <td>550</td>\n",
              "      <td>-39.0</td>\n",
              "      <td>0.0</td>\n",
              "      <td>550.0</td>\n",
              "      <td>2241.0</td>\n",
              "      <td>600.0</td>\n",
              "      <td>1150.0</td>\n",
              "    </tr>\n",
              "    <tr>\n",
              "      <th>12</th>\n",
              "      <td>1002</td>\n",
              "      <td>smart</td>\n",
              "      <td>2018-08-01</td>\n",
              "      <td>294.0</td>\n",
              "      <td>42.0</td>\n",
              "      <td>20347.0</td>\n",
              "      <td>13.0</td>\n",
              "      <td>50</td>\n",
              "      <td>15360</td>\n",
              "      <td>500</td>\n",
              "      <td>550</td>\n",
              "      <td>200</td>\n",
              "      <td>3</td>\n",
              "      <td>3</td>\n",
              "      <td>-458.0</td>\n",
              "      <td>0</td>\n",
              "      <td>550</td>\n",
              "      <td>-37.0</td>\n",
              "      <td>0.0</td>\n",
              "      <td>550.0</td>\n",
              "      <td>4987.0</td>\n",
              "      <td>1000.0</td>\n",
              "      <td>1550.0</td>\n",
              "    </tr>\n",
              "    <tr>\n",
              "      <th>13</th>\n",
              "      <td>1002</td>\n",
              "      <td>smart</td>\n",
              "      <td>2018-09-01</td>\n",
              "      <td>217.0</td>\n",
              "      <td>36.0</td>\n",
              "      <td>16712.0</td>\n",
              "      <td>4.0</td>\n",
              "      <td>50</td>\n",
              "      <td>15360</td>\n",
              "      <td>500</td>\n",
              "      <td>550</td>\n",
              "      <td>200</td>\n",
              "      <td>3</td>\n",
              "      <td>3</td>\n",
              "      <td>-464.0</td>\n",
              "      <td>0</td>\n",
              "      <td>550</td>\n",
              "      <td>-46.0</td>\n",
              "      <td>0.0</td>\n",
              "      <td>550.0</td>\n",
              "      <td>1352.0</td>\n",
              "      <td>400.0</td>\n",
              "      <td>950.0</td>\n",
              "    </tr>\n",
              "    <tr>\n",
              "      <th>14</th>\n",
              "      <td>1002</td>\n",
              "      <td>smart</td>\n",
              "      <td>2018-10-01</td>\n",
              "      <td>221.0</td>\n",
              "      <td>33.0</td>\n",
              "      <td>13905.0</td>\n",
              "      <td>10.0</td>\n",
              "      <td>50</td>\n",
              "      <td>15360</td>\n",
              "      <td>500</td>\n",
              "      <td>550</td>\n",
              "      <td>200</td>\n",
              "      <td>3</td>\n",
              "      <td>3</td>\n",
              "      <td>-467.0</td>\n",
              "      <td>0</td>\n",
              "      <td>550</td>\n",
              "      <td>-40.0</td>\n",
              "      <td>0.0</td>\n",
              "      <td>550.0</td>\n",
              "      <td>-1455.0</td>\n",
              "      <td>0.0</td>\n",
              "      <td>550.0</td>\n",
              "    </tr>\n",
              "    <tr>\n",
              "      <th>15</th>\n",
              "      <td>1002</td>\n",
              "      <td>smart</td>\n",
              "      <td>2018-11-01</td>\n",
              "      <td>250.0</td>\n",
              "      <td>32.0</td>\n",
              "      <td>18610.0</td>\n",
              "      <td>16.0</td>\n",
              "      <td>50</td>\n",
              "      <td>15360</td>\n",
              "      <td>500</td>\n",
              "      <td>550</td>\n",
              "      <td>200</td>\n",
              "      <td>3</td>\n",
              "      <td>3</td>\n",
              "      <td>-468.0</td>\n",
              "      <td>0</td>\n",
              "      <td>550</td>\n",
              "      <td>-34.0</td>\n",
              "      <td>0.0</td>\n",
              "      <td>550.0</td>\n",
              "      <td>3250.0</td>\n",
              "      <td>800.0</td>\n",
              "      <td>1350.0</td>\n",
              "    </tr>\n",
              "    <tr>\n",
              "      <th>16</th>\n",
              "      <td>1002</td>\n",
              "      <td>smart</td>\n",
              "      <td>2018-12-01</td>\n",
              "      <td>242.0</td>\n",
              "      <td>33.0</td>\n",
              "      <td>18137.0</td>\n",
              "      <td>12.0</td>\n",
              "      <td>50</td>\n",
              "      <td>15360</td>\n",
              "      <td>500</td>\n",
              "      <td>550</td>\n",
              "      <td>200</td>\n",
              "      <td>3</td>\n",
              "      <td>3</td>\n",
              "      <td>-467.0</td>\n",
              "      <td>0</td>\n",
              "      <td>550</td>\n",
              "      <td>-38.0</td>\n",
              "      <td>0.0</td>\n",
              "      <td>550.0</td>\n",
              "      <td>2777.0</td>\n",
              "      <td>600.0</td>\n",
              "      <td>1150.0</td>\n",
              "    </tr>\n",
              "    <tr>\n",
              "      <th>17</th>\n",
              "      <td>1003</td>\n",
              "      <td>ultra</td>\n",
              "      <td>2018-08-01</td>\n",
              "      <td>392.0</td>\n",
              "      <td>55.0</td>\n",
              "      <td>8571.0</td>\n",
              "      <td>37.0</td>\n",
              "      <td>1000</td>\n",
              "      <td>30720</td>\n",
              "      <td>3000</td>\n",
              "      <td>1950</td>\n",
              "      <td>150</td>\n",
              "      <td>1</td>\n",
              "      <td>1</td>\n",
              "      <td>-2945.0</td>\n",
              "      <td>0</td>\n",
              "      <td>1950</td>\n",
              "      <td>-963.0</td>\n",
              "      <td>0.0</td>\n",
              "      <td>1950.0</td>\n",
              "      <td>-22149.0</td>\n",
              "      <td>0.0</td>\n",
              "      <td>1950.0</td>\n",
              "    </tr>\n",
              "    <tr>\n",
              "      <th>18</th>\n",
              "      <td>1003</td>\n",
              "      <td>ultra</td>\n",
              "      <td>2018-09-01</td>\n",
              "      <td>990.0</td>\n",
              "      <td>134.0</td>\n",
              "      <td>12479.0</td>\n",
              "      <td>91.0</td>\n",
              "      <td>1000</td>\n",
              "      <td>30720</td>\n",
              "      <td>3000</td>\n",
              "      <td>1950</td>\n",
              "      <td>150</td>\n",
              "      <td>1</td>\n",
              "      <td>1</td>\n",
              "      <td>-2866.0</td>\n",
              "      <td>0</td>\n",
              "      <td>1950</td>\n",
              "      <td>-909.0</td>\n",
              "      <td>0.0</td>\n",
              "      <td>1950.0</td>\n",
              "      <td>-18241.0</td>\n",
              "      <td>0.0</td>\n",
              "      <td>1950.0</td>\n",
              "    </tr>\n",
              "    <tr>\n",
              "      <th>19</th>\n",
              "      <td>1003</td>\n",
              "      <td>ultra</td>\n",
              "      <td>2018-10-01</td>\n",
              "      <td>866.0</td>\n",
              "      <td>108.0</td>\n",
              "      <td>14779.0</td>\n",
              "      <td>83.0</td>\n",
              "      <td>1000</td>\n",
              "      <td>30720</td>\n",
              "      <td>3000</td>\n",
              "      <td>1950</td>\n",
              "      <td>150</td>\n",
              "      <td>1</td>\n",
              "      <td>1</td>\n",
              "      <td>-2892.0</td>\n",
              "      <td>0</td>\n",
              "      <td>1950</td>\n",
              "      <td>-917.0</td>\n",
              "      <td>0.0</td>\n",
              "      <td>1950.0</td>\n",
              "      <td>-15941.0</td>\n",
              "      <td>0.0</td>\n",
              "      <td>1950.0</td>\n",
              "    </tr>\n",
              "    <tr>\n",
              "      <th>20</th>\n",
              "      <td>1003</td>\n",
              "      <td>ultra</td>\n",
              "      <td>2018-11-01</td>\n",
              "      <td>844.0</td>\n",
              "      <td>115.0</td>\n",
              "      <td>11368.0</td>\n",
              "      <td>94.0</td>\n",
              "      <td>1000</td>\n",
              "      <td>30720</td>\n",
              "      <td>3000</td>\n",
              "      <td>1950</td>\n",
              "      <td>150</td>\n",
              "      <td>1</td>\n",
              "      <td>1</td>\n",
              "      <td>-2885.0</td>\n",
              "      <td>0</td>\n",
              "      <td>1950</td>\n",
              "      <td>-906.0</td>\n",
              "      <td>0.0</td>\n",
              "      <td>1950.0</td>\n",
              "      <td>-19352.0</td>\n",
              "      <td>0.0</td>\n",
              "      <td>1950.0</td>\n",
              "    </tr>\n",
              "    <tr>\n",
              "      <th>21</th>\n",
              "      <td>1003</td>\n",
              "      <td>ultra</td>\n",
              "      <td>2018-12-01</td>\n",
              "      <td>822.0</td>\n",
              "      <td>108.0</td>\n",
              "      <td>10132.0</td>\n",
              "      <td>75.0</td>\n",
              "      <td>1000</td>\n",
              "      <td>30720</td>\n",
              "      <td>3000</td>\n",
              "      <td>1950</td>\n",
              "      <td>150</td>\n",
              "      <td>1</td>\n",
              "      <td>1</td>\n",
              "      <td>-2892.0</td>\n",
              "      <td>0</td>\n",
              "      <td>1950</td>\n",
              "      <td>-925.0</td>\n",
              "      <td>0.0</td>\n",
              "      <td>1950.0</td>\n",
              "      <td>-20588.0</td>\n",
              "      <td>0.0</td>\n",
              "      <td>1950.0</td>\n",
              "    </tr>\n",
              "    <tr>\n",
              "      <th>22</th>\n",
              "      <td>1004</td>\n",
              "      <td>ultra</td>\n",
              "      <td>2018-05-01</td>\n",
              "      <td>37.0</td>\n",
              "      <td>9.0</td>\n",
              "      <td>13415.0</td>\n",
              "      <td>95.0</td>\n",
              "      <td>1000</td>\n",
              "      <td>30720</td>\n",
              "      <td>3000</td>\n",
              "      <td>1950</td>\n",
              "      <td>150</td>\n",
              "      <td>1</td>\n",
              "      <td>1</td>\n",
              "      <td>-2991.0</td>\n",
              "      <td>0</td>\n",
              "      <td>1950</td>\n",
              "      <td>-905.0</td>\n",
              "      <td>0.0</td>\n",
              "      <td>1950.0</td>\n",
              "      <td>-17305.0</td>\n",
              "      <td>0.0</td>\n",
              "      <td>1950.0</td>\n",
              "    </tr>\n",
              "    <tr>\n",
              "      <th>23</th>\n",
              "      <td>1004</td>\n",
              "      <td>ultra</td>\n",
              "      <td>2018-06-01</td>\n",
              "      <td>177.0</td>\n",
              "      <td>31.0</td>\n",
              "      <td>17619.0</td>\n",
              "      <td>134.0</td>\n",
              "      <td>1000</td>\n",
              "      <td>30720</td>\n",
              "      <td>3000</td>\n",
              "      <td>1950</td>\n",
              "      <td>150</td>\n",
              "      <td>1</td>\n",
              "      <td>1</td>\n",
              "      <td>-2969.0</td>\n",
              "      <td>0</td>\n",
              "      <td>1950</td>\n",
              "      <td>-866.0</td>\n",
              "      <td>0.0</td>\n",
              "      <td>1950.0</td>\n",
              "      <td>-13101.0</td>\n",
              "      <td>0.0</td>\n",
              "      <td>1950.0</td>\n",
              "    </tr>\n",
              "    <tr>\n",
              "      <th>24</th>\n",
              "      <td>1004</td>\n",
              "      <td>ultra</td>\n",
              "      <td>2018-07-01</td>\n",
              "      <td>137.0</td>\n",
              "      <td>22.0</td>\n",
              "      <td>22243.0</td>\n",
              "      <td>181.0</td>\n",
              "      <td>1000</td>\n",
              "      <td>30720</td>\n",
              "      <td>3000</td>\n",
              "      <td>1950</td>\n",
              "      <td>150</td>\n",
              "      <td>1</td>\n",
              "      <td>1</td>\n",
              "      <td>-2978.0</td>\n",
              "      <td>0</td>\n",
              "      <td>1950</td>\n",
              "      <td>-819.0</td>\n",
              "      <td>0.0</td>\n",
              "      <td>1950.0</td>\n",
              "      <td>-8477.0</td>\n",
              "      <td>0.0</td>\n",
              "      <td>1950.0</td>\n",
              "    </tr>\n",
              "  </tbody>\n",
              "</table>\n",
              "</div>\n",
              "      <button class=\"colab-df-convert\" onclick=\"convertToInteractive('df-696a301b-0f13-4d9e-b2f4-6b6034589ca9')\"\n",
              "              title=\"Convert this dataframe to an interactive table.\"\n",
              "              style=\"display:none;\">\n",
              "        \n",
              "  <svg xmlns=\"http://www.w3.org/2000/svg\" height=\"24px\"viewBox=\"0 0 24 24\"\n",
              "       width=\"24px\">\n",
              "    <path d=\"M0 0h24v24H0V0z\" fill=\"none\"/>\n",
              "    <path d=\"M18.56 5.44l.94 2.06.94-2.06 2.06-.94-2.06-.94-.94-2.06-.94 2.06-2.06.94zm-11 1L8.5 8.5l.94-2.06 2.06-.94-2.06-.94L8.5 2.5l-.94 2.06-2.06.94zm10 10l.94 2.06.94-2.06 2.06-.94-2.06-.94-.94-2.06-.94 2.06-2.06.94z\"/><path d=\"M17.41 7.96l-1.37-1.37c-.4-.4-.92-.59-1.43-.59-.52 0-1.04.2-1.43.59L10.3 9.45l-7.72 7.72c-.78.78-.78 2.05 0 2.83L4 21.41c.39.39.9.59 1.41.59.51 0 1.02-.2 1.41-.59l7.78-7.78 2.81-2.81c.8-.78.8-2.07 0-2.86zM5.41 20L4 18.59l7.72-7.72 1.47 1.35L5.41 20z\"/>\n",
              "  </svg>\n",
              "      </button>\n",
              "      \n",
              "  <style>\n",
              "    .colab-df-container {\n",
              "      display:flex;\n",
              "      flex-wrap:wrap;\n",
              "      gap: 12px;\n",
              "    }\n",
              "\n",
              "    .colab-df-convert {\n",
              "      background-color: #E8F0FE;\n",
              "      border: none;\n",
              "      border-radius: 50%;\n",
              "      cursor: pointer;\n",
              "      display: none;\n",
              "      fill: #1967D2;\n",
              "      height: 32px;\n",
              "      padding: 0 0 0 0;\n",
              "      width: 32px;\n",
              "    }\n",
              "\n",
              "    .colab-df-convert:hover {\n",
              "      background-color: #E2EBFA;\n",
              "      box-shadow: 0px 1px 2px rgba(60, 64, 67, 0.3), 0px 1px 3px 1px rgba(60, 64, 67, 0.15);\n",
              "      fill: #174EA6;\n",
              "    }\n",
              "\n",
              "    [theme=dark] .colab-df-convert {\n",
              "      background-color: #3B4455;\n",
              "      fill: #D2E3FC;\n",
              "    }\n",
              "\n",
              "    [theme=dark] .colab-df-convert:hover {\n",
              "      background-color: #434B5C;\n",
              "      box-shadow: 0px 1px 3px 1px rgba(0, 0, 0, 0.15);\n",
              "      filter: drop-shadow(0px 1px 2px rgba(0, 0, 0, 0.3));\n",
              "      fill: #FFFFFF;\n",
              "    }\n",
              "  </style>\n",
              "\n",
              "      <script>\n",
              "        const buttonEl =\n",
              "          document.querySelector('#df-696a301b-0f13-4d9e-b2f4-6b6034589ca9 button.colab-df-convert');\n",
              "        buttonEl.style.display =\n",
              "          google.colab.kernel.accessAllowed ? 'block' : 'none';\n",
              "\n",
              "        async function convertToInteractive(key) {\n",
              "          const element = document.querySelector('#df-696a301b-0f13-4d9e-b2f4-6b6034589ca9');\n",
              "          const dataTable =\n",
              "            await google.colab.kernel.invokeFunction('convertToInteractive',\n",
              "                                                     [key], {});\n",
              "          if (!dataTable) return;\n",
              "\n",
              "          const docLinkHtml = 'Like what you see? Visit the ' +\n",
              "            '<a target=\"_blank\" href=https://colab.research.google.com/notebooks/data_table.ipynb>data table notebook</a>'\n",
              "            + ' to learn more about interactive tables.';\n",
              "          element.innerHTML = '';\n",
              "          dataTable['output_type'] = 'display_data';\n",
              "          await google.colab.output.renderOutput(dataTable, element);\n",
              "          const docLink = document.createElement('div');\n",
              "          docLink.innerHTML = docLinkHtml;\n",
              "          element.appendChild(docLink);\n",
              "        }\n",
              "      </script>\n",
              "    </div>\n",
              "  </div>\n",
              "  "
            ]
          },
          "metadata": {},
          "execution_count": 41
        }
      ],
      "source": [
        "#делаем рассчет выручки для интернета\n",
        "\n",
        "table_for_rev['internet_over_tariff'] = table_for_rev['mb_used'] - table_for_rev['mb_per_month_included']\n",
        "table_for_rev['internet_add_fee'] = np.ceil(table_for_rev['internet_over_tariff'] / 1024) * table_for_rev['rub_per_gb']\n",
        "table_for_rev['internet_add_fee'] = table_for_rev['internet_add_fee'].apply(lambda x: 0 if x < 0 else x)\n",
        "table_for_rev['total_internet_m'] = table_for_rev['rub_monthly_fee'] + table_for_rev['internet_add_fee']\n",
        "table_for_rev.head(25)\n"
      ]
    },
    {
      "cell_type": "code",
      "execution_count": 42,
      "metadata": {
        "scrolled": false,
        "colab": {
          "base_uri": "https://localhost:8080/",
          "height": 357
        },
        "id": "w7i9kT3AZci1",
        "outputId": "b249b2fd-4ffe-4034-a785-c6db3774028b"
      },
      "outputs": [
        {
          "output_type": "execute_result",
          "data": {
            "text/plain": [
              "   user_id tariff_name      month  calls  duration  mb_used  messages  \\\n",
              "0     1000       ultra 2018-05-01  164.0      22.0   2256.0      22.0   \n",
              "1     1000       ultra 2018-06-01  187.0      43.0  23257.0      60.0   \n",
              "2     1000       ultra 2018-07-01  346.0      47.0  14016.0      75.0   \n",
              "3     1000       ultra 2018-08-01  418.0      52.0  14070.0      81.0   \n",
              "4     1000       ultra 2018-09-01  478.0      58.0  14581.0      57.0   \n",
              "\n",
              "   messages_included  mb_per_month_included  minutes_included  \\\n",
              "0               1000                  30720              3000   \n",
              "1               1000                  30720              3000   \n",
              "2               1000                  30720              3000   \n",
              "3               1000                  30720              3000   \n",
              "4               1000                  30720              3000   \n",
              "\n",
              "   rub_monthly_fee  rub_per_gb  rub_per_message  rub_per_minute  \\\n",
              "0             1950         150                1               1   \n",
              "1             1950         150                1               1   \n",
              "2             1950         150                1               1   \n",
              "3             1950         150                1               1   \n",
              "4             1950         150                1               1   \n",
              "\n",
              "   minutes_over_tariff  call_add_fee  total_call_m  messages_over_tariff  \\\n",
              "0              -2978.0             0          1950                -978.0   \n",
              "1              -2957.0             0          1950                -940.0   \n",
              "2              -2953.0             0          1950                -925.0   \n",
              "3              -2948.0             0          1950                -919.0   \n",
              "4              -2942.0             0          1950                -943.0   \n",
              "\n",
              "   message_add_fee  total_message_m  internet_over_tariff  internet_add_fee  \\\n",
              "0              0.0           1950.0              -28464.0               0.0   \n",
              "1              0.0           1950.0               -7463.0               0.0   \n",
              "2              0.0           1950.0              -16704.0               0.0   \n",
              "3              0.0           1950.0              -16650.0               0.0   \n",
              "4              0.0           1950.0              -16139.0               0.0   \n",
              "\n",
              "   total_internet_m  total_revenue  \n",
              "0            1950.0         1950.0  \n",
              "1            1950.0         1950.0  \n",
              "2            1950.0         1950.0  \n",
              "3            1950.0         1950.0  \n",
              "4            1950.0         1950.0  "
            ],
            "text/html": [
              "\n",
              "  <div id=\"df-cb6a9c64-7128-43d2-a413-cefe49b6d566\">\n",
              "    <div class=\"colab-df-container\">\n",
              "      <div>\n",
              "<style scoped>\n",
              "    .dataframe tbody tr th:only-of-type {\n",
              "        vertical-align: middle;\n",
              "    }\n",
              "\n",
              "    .dataframe tbody tr th {\n",
              "        vertical-align: top;\n",
              "    }\n",
              "\n",
              "    .dataframe thead th {\n",
              "        text-align: right;\n",
              "    }\n",
              "</style>\n",
              "<table border=\"1\" class=\"dataframe\">\n",
              "  <thead>\n",
              "    <tr style=\"text-align: right;\">\n",
              "      <th></th>\n",
              "      <th>user_id</th>\n",
              "      <th>tariff_name</th>\n",
              "      <th>month</th>\n",
              "      <th>calls</th>\n",
              "      <th>duration</th>\n",
              "      <th>mb_used</th>\n",
              "      <th>messages</th>\n",
              "      <th>messages_included</th>\n",
              "      <th>mb_per_month_included</th>\n",
              "      <th>minutes_included</th>\n",
              "      <th>rub_monthly_fee</th>\n",
              "      <th>rub_per_gb</th>\n",
              "      <th>rub_per_message</th>\n",
              "      <th>rub_per_minute</th>\n",
              "      <th>minutes_over_tariff</th>\n",
              "      <th>call_add_fee</th>\n",
              "      <th>total_call_m</th>\n",
              "      <th>messages_over_tariff</th>\n",
              "      <th>message_add_fee</th>\n",
              "      <th>total_message_m</th>\n",
              "      <th>internet_over_tariff</th>\n",
              "      <th>internet_add_fee</th>\n",
              "      <th>total_internet_m</th>\n",
              "      <th>total_revenue</th>\n",
              "    </tr>\n",
              "  </thead>\n",
              "  <tbody>\n",
              "    <tr>\n",
              "      <th>0</th>\n",
              "      <td>1000</td>\n",
              "      <td>ultra</td>\n",
              "      <td>2018-05-01</td>\n",
              "      <td>164.0</td>\n",
              "      <td>22.0</td>\n",
              "      <td>2256.0</td>\n",
              "      <td>22.0</td>\n",
              "      <td>1000</td>\n",
              "      <td>30720</td>\n",
              "      <td>3000</td>\n",
              "      <td>1950</td>\n",
              "      <td>150</td>\n",
              "      <td>1</td>\n",
              "      <td>1</td>\n",
              "      <td>-2978.0</td>\n",
              "      <td>0</td>\n",
              "      <td>1950</td>\n",
              "      <td>-978.0</td>\n",
              "      <td>0.0</td>\n",
              "      <td>1950.0</td>\n",
              "      <td>-28464.0</td>\n",
              "      <td>0.0</td>\n",
              "      <td>1950.0</td>\n",
              "      <td>1950.0</td>\n",
              "    </tr>\n",
              "    <tr>\n",
              "      <th>1</th>\n",
              "      <td>1000</td>\n",
              "      <td>ultra</td>\n",
              "      <td>2018-06-01</td>\n",
              "      <td>187.0</td>\n",
              "      <td>43.0</td>\n",
              "      <td>23257.0</td>\n",
              "      <td>60.0</td>\n",
              "      <td>1000</td>\n",
              "      <td>30720</td>\n",
              "      <td>3000</td>\n",
              "      <td>1950</td>\n",
              "      <td>150</td>\n",
              "      <td>1</td>\n",
              "      <td>1</td>\n",
              "      <td>-2957.0</td>\n",
              "      <td>0</td>\n",
              "      <td>1950</td>\n",
              "      <td>-940.0</td>\n",
              "      <td>0.0</td>\n",
              "      <td>1950.0</td>\n",
              "      <td>-7463.0</td>\n",
              "      <td>0.0</td>\n",
              "      <td>1950.0</td>\n",
              "      <td>1950.0</td>\n",
              "    </tr>\n",
              "    <tr>\n",
              "      <th>2</th>\n",
              "      <td>1000</td>\n",
              "      <td>ultra</td>\n",
              "      <td>2018-07-01</td>\n",
              "      <td>346.0</td>\n",
              "      <td>47.0</td>\n",
              "      <td>14016.0</td>\n",
              "      <td>75.0</td>\n",
              "      <td>1000</td>\n",
              "      <td>30720</td>\n",
              "      <td>3000</td>\n",
              "      <td>1950</td>\n",
              "      <td>150</td>\n",
              "      <td>1</td>\n",
              "      <td>1</td>\n",
              "      <td>-2953.0</td>\n",
              "      <td>0</td>\n",
              "      <td>1950</td>\n",
              "      <td>-925.0</td>\n",
              "      <td>0.0</td>\n",
              "      <td>1950.0</td>\n",
              "      <td>-16704.0</td>\n",
              "      <td>0.0</td>\n",
              "      <td>1950.0</td>\n",
              "      <td>1950.0</td>\n",
              "    </tr>\n",
              "    <tr>\n",
              "      <th>3</th>\n",
              "      <td>1000</td>\n",
              "      <td>ultra</td>\n",
              "      <td>2018-08-01</td>\n",
              "      <td>418.0</td>\n",
              "      <td>52.0</td>\n",
              "      <td>14070.0</td>\n",
              "      <td>81.0</td>\n",
              "      <td>1000</td>\n",
              "      <td>30720</td>\n",
              "      <td>3000</td>\n",
              "      <td>1950</td>\n",
              "      <td>150</td>\n",
              "      <td>1</td>\n",
              "      <td>1</td>\n",
              "      <td>-2948.0</td>\n",
              "      <td>0</td>\n",
              "      <td>1950</td>\n",
              "      <td>-919.0</td>\n",
              "      <td>0.0</td>\n",
              "      <td>1950.0</td>\n",
              "      <td>-16650.0</td>\n",
              "      <td>0.0</td>\n",
              "      <td>1950.0</td>\n",
              "      <td>1950.0</td>\n",
              "    </tr>\n",
              "    <tr>\n",
              "      <th>4</th>\n",
              "      <td>1000</td>\n",
              "      <td>ultra</td>\n",
              "      <td>2018-09-01</td>\n",
              "      <td>478.0</td>\n",
              "      <td>58.0</td>\n",
              "      <td>14581.0</td>\n",
              "      <td>57.0</td>\n",
              "      <td>1000</td>\n",
              "      <td>30720</td>\n",
              "      <td>3000</td>\n",
              "      <td>1950</td>\n",
              "      <td>150</td>\n",
              "      <td>1</td>\n",
              "      <td>1</td>\n",
              "      <td>-2942.0</td>\n",
              "      <td>0</td>\n",
              "      <td>1950</td>\n",
              "      <td>-943.0</td>\n",
              "      <td>0.0</td>\n",
              "      <td>1950.0</td>\n",
              "      <td>-16139.0</td>\n",
              "      <td>0.0</td>\n",
              "      <td>1950.0</td>\n",
              "      <td>1950.0</td>\n",
              "    </tr>\n",
              "  </tbody>\n",
              "</table>\n",
              "</div>\n",
              "      <button class=\"colab-df-convert\" onclick=\"convertToInteractive('df-cb6a9c64-7128-43d2-a413-cefe49b6d566')\"\n",
              "              title=\"Convert this dataframe to an interactive table.\"\n",
              "              style=\"display:none;\">\n",
              "        \n",
              "  <svg xmlns=\"http://www.w3.org/2000/svg\" height=\"24px\"viewBox=\"0 0 24 24\"\n",
              "       width=\"24px\">\n",
              "    <path d=\"M0 0h24v24H0V0z\" fill=\"none\"/>\n",
              "    <path d=\"M18.56 5.44l.94 2.06.94-2.06 2.06-.94-2.06-.94-.94-2.06-.94 2.06-2.06.94zm-11 1L8.5 8.5l.94-2.06 2.06-.94-2.06-.94L8.5 2.5l-.94 2.06-2.06.94zm10 10l.94 2.06.94-2.06 2.06-.94-2.06-.94-.94-2.06-.94 2.06-2.06.94z\"/><path d=\"M17.41 7.96l-1.37-1.37c-.4-.4-.92-.59-1.43-.59-.52 0-1.04.2-1.43.59L10.3 9.45l-7.72 7.72c-.78.78-.78 2.05 0 2.83L4 21.41c.39.39.9.59 1.41.59.51 0 1.02-.2 1.41-.59l7.78-7.78 2.81-2.81c.8-.78.8-2.07 0-2.86zM5.41 20L4 18.59l7.72-7.72 1.47 1.35L5.41 20z\"/>\n",
              "  </svg>\n",
              "      </button>\n",
              "      \n",
              "  <style>\n",
              "    .colab-df-container {\n",
              "      display:flex;\n",
              "      flex-wrap:wrap;\n",
              "      gap: 12px;\n",
              "    }\n",
              "\n",
              "    .colab-df-convert {\n",
              "      background-color: #E8F0FE;\n",
              "      border: none;\n",
              "      border-radius: 50%;\n",
              "      cursor: pointer;\n",
              "      display: none;\n",
              "      fill: #1967D2;\n",
              "      height: 32px;\n",
              "      padding: 0 0 0 0;\n",
              "      width: 32px;\n",
              "    }\n",
              "\n",
              "    .colab-df-convert:hover {\n",
              "      background-color: #E2EBFA;\n",
              "      box-shadow: 0px 1px 2px rgba(60, 64, 67, 0.3), 0px 1px 3px 1px rgba(60, 64, 67, 0.15);\n",
              "      fill: #174EA6;\n",
              "    }\n",
              "\n",
              "    [theme=dark] .colab-df-convert {\n",
              "      background-color: #3B4455;\n",
              "      fill: #D2E3FC;\n",
              "    }\n",
              "\n",
              "    [theme=dark] .colab-df-convert:hover {\n",
              "      background-color: #434B5C;\n",
              "      box-shadow: 0px 1px 3px 1px rgba(0, 0, 0, 0.15);\n",
              "      filter: drop-shadow(0px 1px 2px rgba(0, 0, 0, 0.3));\n",
              "      fill: #FFFFFF;\n",
              "    }\n",
              "  </style>\n",
              "\n",
              "      <script>\n",
              "        const buttonEl =\n",
              "          document.querySelector('#df-cb6a9c64-7128-43d2-a413-cefe49b6d566 button.colab-df-convert');\n",
              "        buttonEl.style.display =\n",
              "          google.colab.kernel.accessAllowed ? 'block' : 'none';\n",
              "\n",
              "        async function convertToInteractive(key) {\n",
              "          const element = document.querySelector('#df-cb6a9c64-7128-43d2-a413-cefe49b6d566');\n",
              "          const dataTable =\n",
              "            await google.colab.kernel.invokeFunction('convertToInteractive',\n",
              "                                                     [key], {});\n",
              "          if (!dataTable) return;\n",
              "\n",
              "          const docLinkHtml = 'Like what you see? Visit the ' +\n",
              "            '<a target=\"_blank\" href=https://colab.research.google.com/notebooks/data_table.ipynb>data table notebook</a>'\n",
              "            + ' to learn more about interactive tables.';\n",
              "          element.innerHTML = '';\n",
              "          dataTable['output_type'] = 'display_data';\n",
              "          await google.colab.output.renderOutput(dataTable, element);\n",
              "          const docLink = document.createElement('div');\n",
              "          docLink.innerHTML = docLinkHtml;\n",
              "          element.appendChild(docLink);\n",
              "        }\n",
              "      </script>\n",
              "    </div>\n",
              "  </div>\n",
              "  "
            ]
          },
          "metadata": {},
          "execution_count": 42
        }
      ],
      "source": [
        "#собираем всю выручку в один столбец\n",
        "\n",
        "table_for_rev['total_revenue'] = table_for_rev['call_add_fee'] + table_for_rev['message_add_fee'] + table_for_rev['internet_add_fee'] + table_for_rev['rub_monthly_fee'] \n",
        "table_for_rev.head(5)"
      ]
    },
    {
      "cell_type": "code",
      "execution_count": 43,
      "metadata": {
        "id": "IBW9YhkXZci1"
      },
      "outputs": [],
      "source": [
        "#делаем срез только по нужным нам данным\n",
        "\n",
        "pivot_data_final = table_for_rev.pivot_table(index=['user_id', 'tariff_name', 'month'], values=['calls', 'duration', 'mb_used', 'messages', 'total_revenue'], aggfunc={'calls': 'sum', 'duration': 'sum', 'mb_used': 'sum', 'messages': 'sum', 'total_revenue': 'sum'})"
      ]
    },
    {
      "cell_type": "code",
      "execution_count": 44,
      "metadata": {
        "colab": {
          "base_uri": "https://localhost:8080/",
          "height": 363
        },
        "id": "eHeMb2ldZci2",
        "outputId": "a24e7c65-c340-448a-931b-d20724f5081d"
      },
      "outputs": [
        {
          "output_type": "execute_result",
          "data": {
            "text/plain": [
              "   user_id tariff_name      month  calls  duration  mb_used  messages  \\\n",
              "0     1000       ultra 2018-05-01  164.0      22.0   2256.0      22.0   \n",
              "1     1000       ultra 2018-06-01  187.0      43.0  23257.0      60.0   \n",
              "2     1000       ultra 2018-07-01  346.0      47.0  14016.0      75.0   \n",
              "3     1000       ultra 2018-08-01  418.0      52.0  14070.0      81.0   \n",
              "4     1000       ultra 2018-09-01  478.0      58.0  14581.0      57.0   \n",
              "5     1000       ultra 2018-10-01  363.0      57.0  14717.0      73.0   \n",
              "6     1000       ultra 2018-11-01  344.0      43.0  14768.0      58.0   \n",
              "7     1000       ultra 2018-12-01  341.0      46.0   9827.0      70.0   \n",
              "8     1001       smart 2018-11-01  444.0      59.0  18452.0       0.0   \n",
              "9     1001       smart 2018-12-01  430.0      63.0  14053.0       0.0   \n",
              "\n",
              "   total_revenue  \n",
              "0         1950.0  \n",
              "1         1950.0  \n",
              "2         1950.0  \n",
              "3         1950.0  \n",
              "4         1950.0  \n",
              "5         1950.0  \n",
              "6         1950.0  \n",
              "7         1950.0  \n",
              "8         1350.0  \n",
              "9          550.0  "
            ],
            "text/html": [
              "\n",
              "  <div id=\"df-84c42141-da89-4e9b-b9fa-bb390b083165\">\n",
              "    <div class=\"colab-df-container\">\n",
              "      <div>\n",
              "<style scoped>\n",
              "    .dataframe tbody tr th:only-of-type {\n",
              "        vertical-align: middle;\n",
              "    }\n",
              "\n",
              "    .dataframe tbody tr th {\n",
              "        vertical-align: top;\n",
              "    }\n",
              "\n",
              "    .dataframe thead th {\n",
              "        text-align: right;\n",
              "    }\n",
              "</style>\n",
              "<table border=\"1\" class=\"dataframe\">\n",
              "  <thead>\n",
              "    <tr style=\"text-align: right;\">\n",
              "      <th></th>\n",
              "      <th>user_id</th>\n",
              "      <th>tariff_name</th>\n",
              "      <th>month</th>\n",
              "      <th>calls</th>\n",
              "      <th>duration</th>\n",
              "      <th>mb_used</th>\n",
              "      <th>messages</th>\n",
              "      <th>total_revenue</th>\n",
              "    </tr>\n",
              "  </thead>\n",
              "  <tbody>\n",
              "    <tr>\n",
              "      <th>0</th>\n",
              "      <td>1000</td>\n",
              "      <td>ultra</td>\n",
              "      <td>2018-05-01</td>\n",
              "      <td>164.0</td>\n",
              "      <td>22.0</td>\n",
              "      <td>2256.0</td>\n",
              "      <td>22.0</td>\n",
              "      <td>1950.0</td>\n",
              "    </tr>\n",
              "    <tr>\n",
              "      <th>1</th>\n",
              "      <td>1000</td>\n",
              "      <td>ultra</td>\n",
              "      <td>2018-06-01</td>\n",
              "      <td>187.0</td>\n",
              "      <td>43.0</td>\n",
              "      <td>23257.0</td>\n",
              "      <td>60.0</td>\n",
              "      <td>1950.0</td>\n",
              "    </tr>\n",
              "    <tr>\n",
              "      <th>2</th>\n",
              "      <td>1000</td>\n",
              "      <td>ultra</td>\n",
              "      <td>2018-07-01</td>\n",
              "      <td>346.0</td>\n",
              "      <td>47.0</td>\n",
              "      <td>14016.0</td>\n",
              "      <td>75.0</td>\n",
              "      <td>1950.0</td>\n",
              "    </tr>\n",
              "    <tr>\n",
              "      <th>3</th>\n",
              "      <td>1000</td>\n",
              "      <td>ultra</td>\n",
              "      <td>2018-08-01</td>\n",
              "      <td>418.0</td>\n",
              "      <td>52.0</td>\n",
              "      <td>14070.0</td>\n",
              "      <td>81.0</td>\n",
              "      <td>1950.0</td>\n",
              "    </tr>\n",
              "    <tr>\n",
              "      <th>4</th>\n",
              "      <td>1000</td>\n",
              "      <td>ultra</td>\n",
              "      <td>2018-09-01</td>\n",
              "      <td>478.0</td>\n",
              "      <td>58.0</td>\n",
              "      <td>14581.0</td>\n",
              "      <td>57.0</td>\n",
              "      <td>1950.0</td>\n",
              "    </tr>\n",
              "    <tr>\n",
              "      <th>5</th>\n",
              "      <td>1000</td>\n",
              "      <td>ultra</td>\n",
              "      <td>2018-10-01</td>\n",
              "      <td>363.0</td>\n",
              "      <td>57.0</td>\n",
              "      <td>14717.0</td>\n",
              "      <td>73.0</td>\n",
              "      <td>1950.0</td>\n",
              "    </tr>\n",
              "    <tr>\n",
              "      <th>6</th>\n",
              "      <td>1000</td>\n",
              "      <td>ultra</td>\n",
              "      <td>2018-11-01</td>\n",
              "      <td>344.0</td>\n",
              "      <td>43.0</td>\n",
              "      <td>14768.0</td>\n",
              "      <td>58.0</td>\n",
              "      <td>1950.0</td>\n",
              "    </tr>\n",
              "    <tr>\n",
              "      <th>7</th>\n",
              "      <td>1000</td>\n",
              "      <td>ultra</td>\n",
              "      <td>2018-12-01</td>\n",
              "      <td>341.0</td>\n",
              "      <td>46.0</td>\n",
              "      <td>9827.0</td>\n",
              "      <td>70.0</td>\n",
              "      <td>1950.0</td>\n",
              "    </tr>\n",
              "    <tr>\n",
              "      <th>8</th>\n",
              "      <td>1001</td>\n",
              "      <td>smart</td>\n",
              "      <td>2018-11-01</td>\n",
              "      <td>444.0</td>\n",
              "      <td>59.0</td>\n",
              "      <td>18452.0</td>\n",
              "      <td>0.0</td>\n",
              "      <td>1350.0</td>\n",
              "    </tr>\n",
              "    <tr>\n",
              "      <th>9</th>\n",
              "      <td>1001</td>\n",
              "      <td>smart</td>\n",
              "      <td>2018-12-01</td>\n",
              "      <td>430.0</td>\n",
              "      <td>63.0</td>\n",
              "      <td>14053.0</td>\n",
              "      <td>0.0</td>\n",
              "      <td>550.0</td>\n",
              "    </tr>\n",
              "  </tbody>\n",
              "</table>\n",
              "</div>\n",
              "      <button class=\"colab-df-convert\" onclick=\"convertToInteractive('df-84c42141-da89-4e9b-b9fa-bb390b083165')\"\n",
              "              title=\"Convert this dataframe to an interactive table.\"\n",
              "              style=\"display:none;\">\n",
              "        \n",
              "  <svg xmlns=\"http://www.w3.org/2000/svg\" height=\"24px\"viewBox=\"0 0 24 24\"\n",
              "       width=\"24px\">\n",
              "    <path d=\"M0 0h24v24H0V0z\" fill=\"none\"/>\n",
              "    <path d=\"M18.56 5.44l.94 2.06.94-2.06 2.06-.94-2.06-.94-.94-2.06-.94 2.06-2.06.94zm-11 1L8.5 8.5l.94-2.06 2.06-.94-2.06-.94L8.5 2.5l-.94 2.06-2.06.94zm10 10l.94 2.06.94-2.06 2.06-.94-2.06-.94-.94-2.06-.94 2.06-2.06.94z\"/><path d=\"M17.41 7.96l-1.37-1.37c-.4-.4-.92-.59-1.43-.59-.52 0-1.04.2-1.43.59L10.3 9.45l-7.72 7.72c-.78.78-.78 2.05 0 2.83L4 21.41c.39.39.9.59 1.41.59.51 0 1.02-.2 1.41-.59l7.78-7.78 2.81-2.81c.8-.78.8-2.07 0-2.86zM5.41 20L4 18.59l7.72-7.72 1.47 1.35L5.41 20z\"/>\n",
              "  </svg>\n",
              "      </button>\n",
              "      \n",
              "  <style>\n",
              "    .colab-df-container {\n",
              "      display:flex;\n",
              "      flex-wrap:wrap;\n",
              "      gap: 12px;\n",
              "    }\n",
              "\n",
              "    .colab-df-convert {\n",
              "      background-color: #E8F0FE;\n",
              "      border: none;\n",
              "      border-radius: 50%;\n",
              "      cursor: pointer;\n",
              "      display: none;\n",
              "      fill: #1967D2;\n",
              "      height: 32px;\n",
              "      padding: 0 0 0 0;\n",
              "      width: 32px;\n",
              "    }\n",
              "\n",
              "    .colab-df-convert:hover {\n",
              "      background-color: #E2EBFA;\n",
              "      box-shadow: 0px 1px 2px rgba(60, 64, 67, 0.3), 0px 1px 3px 1px rgba(60, 64, 67, 0.15);\n",
              "      fill: #174EA6;\n",
              "    }\n",
              "\n",
              "    [theme=dark] .colab-df-convert {\n",
              "      background-color: #3B4455;\n",
              "      fill: #D2E3FC;\n",
              "    }\n",
              "\n",
              "    [theme=dark] .colab-df-convert:hover {\n",
              "      background-color: #434B5C;\n",
              "      box-shadow: 0px 1px 3px 1px rgba(0, 0, 0, 0.15);\n",
              "      filter: drop-shadow(0px 1px 2px rgba(0, 0, 0, 0.3));\n",
              "      fill: #FFFFFF;\n",
              "    }\n",
              "  </style>\n",
              "\n",
              "      <script>\n",
              "        const buttonEl =\n",
              "          document.querySelector('#df-84c42141-da89-4e9b-b9fa-bb390b083165 button.colab-df-convert');\n",
              "        buttonEl.style.display =\n",
              "          google.colab.kernel.accessAllowed ? 'block' : 'none';\n",
              "\n",
              "        async function convertToInteractive(key) {\n",
              "          const element = document.querySelector('#df-84c42141-da89-4e9b-b9fa-bb390b083165');\n",
              "          const dataTable =\n",
              "            await google.colab.kernel.invokeFunction('convertToInteractive',\n",
              "                                                     [key], {});\n",
              "          if (!dataTable) return;\n",
              "\n",
              "          const docLinkHtml = 'Like what you see? Visit the ' +\n",
              "            '<a target=\"_blank\" href=https://colab.research.google.com/notebooks/data_table.ipynb>data table notebook</a>'\n",
              "            + ' to learn more about interactive tables.';\n",
              "          element.innerHTML = '';\n",
              "          dataTable['output_type'] = 'display_data';\n",
              "          await google.colab.output.renderOutput(dataTable, element);\n",
              "          const docLink = document.createElement('div');\n",
              "          docLink.innerHTML = docLinkHtml;\n",
              "          element.appendChild(docLink);\n",
              "        }\n",
              "      </script>\n",
              "    </div>\n",
              "  </div>\n",
              "  "
            ]
          },
          "metadata": {},
          "execution_count": 44
        }
      ],
      "source": [
        "pivot_data_final.reset_index(inplace=True)\n",
        "pivot_data_final.head(10)"
      ]
    },
    {
      "cell_type": "markdown",
      "metadata": {
        "id": "JFJKt7y8Zci2"
      },
      "source": [
        "\n",
        "## Анализ данных"
      ]
    },
    {
      "cell_type": "markdown",
      "metadata": {
        "id": "b3JrFq-0Zci2"
      },
      "source": [
        "**Задание:**\\\n",
        " Опишите поведение клиентов оператора, исходя из выборки. Сколько минут разговора, сколько сообщений и какой объём интернет-трафика требуется пользователям каждого тарифа в месяц? Посчитайте среднее количество, дисперсию и стандартное отклонение. Постройте гистограммы. Опишите распределения."
      ]
    },
    {
      "cell_type": "markdown",
      "metadata": {
        "id": "yZ_cWLDTZci2"
      },
      "source": [
        "**Условия тарифов** \n",
        "\n",
        "Тариф «Смарт»\n",
        "* Ежемесячная плата: 550 рублей\n",
        "* Включено 500 минут разговора, 50 сообщений и 15 Гб интернет-трафика\n",
        "* Стоимость услуг сверх тарифного пакета: 1. минута разговора: 3 рубля («Мегалайн» всегда округляет вверх значения минут и мегабайтов. Если пользователь проговорил всего 1 секунду, в тарифе засчитывается целая минута); 2. сообщение: 3 рубля; 3. 1 Гб интернет-трафика: 200 рублей.\n",
        "\n",
        "Тариф «Ультра»\n",
        "* Ежемесячная плата: 1950 рублей\n",
        "* Включено 3000 минут разговора, 1000 сообщений и 30 Гб интернет-трафика\n",
        "* Стоимость услуг сверх тарифного пакета: 1. минута разговора: 1 рубль; 2. сообщение: 1 рубль; 3. 1 Гб интернет-трафика: 150 рублей."
      ]
    },
    {
      "cell_type": "markdown",
      "metadata": {
        "id": "U2rcQIleZci2"
      },
      "source": [
        "### Пользователи тарифа Ultra"
      ]
    },
    {
      "cell_type": "code",
      "execution_count": 45,
      "metadata": {
        "colab": {
          "base_uri": "https://localhost:8080/",
          "height": 206
        },
        "id": "JMlQ-erBZci2",
        "outputId": "fb46e42e-94a6-4aca-f2a6-9a4f4df477b2"
      },
      "outputs": [
        {
          "output_type": "execute_result",
          "data": {
            "text/plain": [
              "   user_id tariff_name      month  calls  duration  mb_used  messages  \\\n",
              "0     1000       ultra 2018-05-01  164.0      22.0   2256.0      22.0   \n",
              "1     1000       ultra 2018-06-01  187.0      43.0  23257.0      60.0   \n",
              "2     1000       ultra 2018-07-01  346.0      47.0  14016.0      75.0   \n",
              "3     1000       ultra 2018-08-01  418.0      52.0  14070.0      81.0   \n",
              "4     1000       ultra 2018-09-01  478.0      58.0  14581.0      57.0   \n",
              "\n",
              "   total_revenue  \n",
              "0         1950.0  \n",
              "1         1950.0  \n",
              "2         1950.0  \n",
              "3         1950.0  \n",
              "4         1950.0  "
            ],
            "text/html": [
              "\n",
              "  <div id=\"df-0e71e7d0-9eae-4bfb-b221-a5c3fc17608e\">\n",
              "    <div class=\"colab-df-container\">\n",
              "      <div>\n",
              "<style scoped>\n",
              "    .dataframe tbody tr th:only-of-type {\n",
              "        vertical-align: middle;\n",
              "    }\n",
              "\n",
              "    .dataframe tbody tr th {\n",
              "        vertical-align: top;\n",
              "    }\n",
              "\n",
              "    .dataframe thead th {\n",
              "        text-align: right;\n",
              "    }\n",
              "</style>\n",
              "<table border=\"1\" class=\"dataframe\">\n",
              "  <thead>\n",
              "    <tr style=\"text-align: right;\">\n",
              "      <th></th>\n",
              "      <th>user_id</th>\n",
              "      <th>tariff_name</th>\n",
              "      <th>month</th>\n",
              "      <th>calls</th>\n",
              "      <th>duration</th>\n",
              "      <th>mb_used</th>\n",
              "      <th>messages</th>\n",
              "      <th>total_revenue</th>\n",
              "    </tr>\n",
              "  </thead>\n",
              "  <tbody>\n",
              "    <tr>\n",
              "      <th>0</th>\n",
              "      <td>1000</td>\n",
              "      <td>ultra</td>\n",
              "      <td>2018-05-01</td>\n",
              "      <td>164.0</td>\n",
              "      <td>22.0</td>\n",
              "      <td>2256.0</td>\n",
              "      <td>22.0</td>\n",
              "      <td>1950.0</td>\n",
              "    </tr>\n",
              "    <tr>\n",
              "      <th>1</th>\n",
              "      <td>1000</td>\n",
              "      <td>ultra</td>\n",
              "      <td>2018-06-01</td>\n",
              "      <td>187.0</td>\n",
              "      <td>43.0</td>\n",
              "      <td>23257.0</td>\n",
              "      <td>60.0</td>\n",
              "      <td>1950.0</td>\n",
              "    </tr>\n",
              "    <tr>\n",
              "      <th>2</th>\n",
              "      <td>1000</td>\n",
              "      <td>ultra</td>\n",
              "      <td>2018-07-01</td>\n",
              "      <td>346.0</td>\n",
              "      <td>47.0</td>\n",
              "      <td>14016.0</td>\n",
              "      <td>75.0</td>\n",
              "      <td>1950.0</td>\n",
              "    </tr>\n",
              "    <tr>\n",
              "      <th>3</th>\n",
              "      <td>1000</td>\n",
              "      <td>ultra</td>\n",
              "      <td>2018-08-01</td>\n",
              "      <td>418.0</td>\n",
              "      <td>52.0</td>\n",
              "      <td>14070.0</td>\n",
              "      <td>81.0</td>\n",
              "      <td>1950.0</td>\n",
              "    </tr>\n",
              "    <tr>\n",
              "      <th>4</th>\n",
              "      <td>1000</td>\n",
              "      <td>ultra</td>\n",
              "      <td>2018-09-01</td>\n",
              "      <td>478.0</td>\n",
              "      <td>58.0</td>\n",
              "      <td>14581.0</td>\n",
              "      <td>57.0</td>\n",
              "      <td>1950.0</td>\n",
              "    </tr>\n",
              "  </tbody>\n",
              "</table>\n",
              "</div>\n",
              "      <button class=\"colab-df-convert\" onclick=\"convertToInteractive('df-0e71e7d0-9eae-4bfb-b221-a5c3fc17608e')\"\n",
              "              title=\"Convert this dataframe to an interactive table.\"\n",
              "              style=\"display:none;\">\n",
              "        \n",
              "  <svg xmlns=\"http://www.w3.org/2000/svg\" height=\"24px\"viewBox=\"0 0 24 24\"\n",
              "       width=\"24px\">\n",
              "    <path d=\"M0 0h24v24H0V0z\" fill=\"none\"/>\n",
              "    <path d=\"M18.56 5.44l.94 2.06.94-2.06 2.06-.94-2.06-.94-.94-2.06-.94 2.06-2.06.94zm-11 1L8.5 8.5l.94-2.06 2.06-.94-2.06-.94L8.5 2.5l-.94 2.06-2.06.94zm10 10l.94 2.06.94-2.06 2.06-.94-2.06-.94-.94-2.06-.94 2.06-2.06.94z\"/><path d=\"M17.41 7.96l-1.37-1.37c-.4-.4-.92-.59-1.43-.59-.52 0-1.04.2-1.43.59L10.3 9.45l-7.72 7.72c-.78.78-.78 2.05 0 2.83L4 21.41c.39.39.9.59 1.41.59.51 0 1.02-.2 1.41-.59l7.78-7.78 2.81-2.81c.8-.78.8-2.07 0-2.86zM5.41 20L4 18.59l7.72-7.72 1.47 1.35L5.41 20z\"/>\n",
              "  </svg>\n",
              "      </button>\n",
              "      \n",
              "  <style>\n",
              "    .colab-df-container {\n",
              "      display:flex;\n",
              "      flex-wrap:wrap;\n",
              "      gap: 12px;\n",
              "    }\n",
              "\n",
              "    .colab-df-convert {\n",
              "      background-color: #E8F0FE;\n",
              "      border: none;\n",
              "      border-radius: 50%;\n",
              "      cursor: pointer;\n",
              "      display: none;\n",
              "      fill: #1967D2;\n",
              "      height: 32px;\n",
              "      padding: 0 0 0 0;\n",
              "      width: 32px;\n",
              "    }\n",
              "\n",
              "    .colab-df-convert:hover {\n",
              "      background-color: #E2EBFA;\n",
              "      box-shadow: 0px 1px 2px rgba(60, 64, 67, 0.3), 0px 1px 3px 1px rgba(60, 64, 67, 0.15);\n",
              "      fill: #174EA6;\n",
              "    }\n",
              "\n",
              "    [theme=dark] .colab-df-convert {\n",
              "      background-color: #3B4455;\n",
              "      fill: #D2E3FC;\n",
              "    }\n",
              "\n",
              "    [theme=dark] .colab-df-convert:hover {\n",
              "      background-color: #434B5C;\n",
              "      box-shadow: 0px 1px 3px 1px rgba(0, 0, 0, 0.15);\n",
              "      filter: drop-shadow(0px 1px 2px rgba(0, 0, 0, 0.3));\n",
              "      fill: #FFFFFF;\n",
              "    }\n",
              "  </style>\n",
              "\n",
              "      <script>\n",
              "        const buttonEl =\n",
              "          document.querySelector('#df-0e71e7d0-9eae-4bfb-b221-a5c3fc17608e button.colab-df-convert');\n",
              "        buttonEl.style.display =\n",
              "          google.colab.kernel.accessAllowed ? 'block' : 'none';\n",
              "\n",
              "        async function convertToInteractive(key) {\n",
              "          const element = document.querySelector('#df-0e71e7d0-9eae-4bfb-b221-a5c3fc17608e');\n",
              "          const dataTable =\n",
              "            await google.colab.kernel.invokeFunction('convertToInteractive',\n",
              "                                                     [key], {});\n",
              "          if (!dataTable) return;\n",
              "\n",
              "          const docLinkHtml = 'Like what you see? Visit the ' +\n",
              "            '<a target=\"_blank\" href=https://colab.research.google.com/notebooks/data_table.ipynb>data table notebook</a>'\n",
              "            + ' to learn more about interactive tables.';\n",
              "          element.innerHTML = '';\n",
              "          dataTable['output_type'] = 'display_data';\n",
              "          await google.colab.output.renderOutput(dataTable, element);\n",
              "          const docLink = document.createElement('div');\n",
              "          docLink.innerHTML = docLinkHtml;\n",
              "          element.appendChild(docLink);\n",
              "        }\n",
              "      </script>\n",
              "    </div>\n",
              "  </div>\n",
              "  "
            ]
          },
          "metadata": {},
          "execution_count": 45
        }
      ],
      "source": [
        "ultra_table = pivot_data_final.query('tariff_name == \"ultra\"')\n",
        "ultra_table.head(5)"
      ]
    },
    {
      "cell_type": "code",
      "execution_count": 46,
      "metadata": {
        "scrolled": true,
        "colab": {
          "base_uri": "https://localhost:8080/"
        },
        "id": "zO1QXJLLZci2",
        "outputId": "0078a432-57fa-439e-e88a-ba45bd6638e5"
      },
      "outputs": [
        {
          "output_type": "execute_result",
          "data": {
            "text/plain": [
              "count     985.000000\n",
              "mean      540.779695\n",
              "std       325.738740\n",
              "min         0.000000\n",
              "25%       292.000000\n",
              "50%       532.000000\n",
              "75%       773.000000\n",
              "max      1727.000000\n",
              "Name: calls, dtype: float64"
            ]
          },
          "metadata": {},
          "execution_count": 46
        }
      ],
      "source": [
        "ultra_table['calls'].describe()"
      ]
    },
    {
      "cell_type": "code",
      "execution_count": 47,
      "metadata": {
        "colab": {
          "base_uri": "https://localhost:8080/"
        },
        "id": "mtLfVFhSZci2",
        "outputId": "b9dc6421-c803-46f1-b140-636f76dcff4c"
      },
      "outputs": [
        {
          "output_type": "execute_result",
          "data": {
            "text/plain": [
              "105998.00527300368"
            ]
          },
          "metadata": {},
          "execution_count": 47
        }
      ],
      "source": [
        "variance = np.var(ultra_table['calls'])\n",
        "variance"
      ]
    },
    {
      "cell_type": "code",
      "execution_count": 48,
      "metadata": {
        "colab": {
          "base_uri": "https://localhost:8080/",
          "height": 428
        },
        "id": "ADjt_zY6Zci2",
        "outputId": "8af05721-27dc-423e-97c6-89b3fdb03c57"
      },
      "outputs": [
        {
          "output_type": "execute_result",
          "data": {
            "text/plain": [
              "Text(0, 0.5, 'Частота в выборке')"
            ]
          },
          "metadata": {},
          "execution_count": 48
        },
        {
          "output_type": "display_data",
          "data": {
            "text/plain": [
              "<Figure size 720x432 with 1 Axes>"
            ],
            "image/png": "[encoded data removed]"
          },
          "metadata": {
            "needs_background": "light"
          }
        }
      ],
      "source": [
        "plt.figure(figsize=(10, 6))\n",
        "\n",
        "ultra_table['calls'].plot(kind='hist', bins=50, grid=True)\n",
        "plt.title(label='Распределение количества звонков', fontsize=20)\n",
        "plt.xlabel('Количество звонков')\n",
        "plt.ylabel('Частота в выборке')"
      ]
    },
    {
      "cell_type": "markdown",
      "metadata": {
        "id": "9PmkdKztZci3"
      },
      "source": [
        "**Комментарий:** \n",
        "<br>Мы наблюдаем большой всплеск на отметке 0, так как мы заполнили много пропусков нулями. В основном все данные распределяются в диапозоне меджу 292 и 773 звонками. Данные имеют довольно большой разброс. График в целом похож на график нормального распределения, имеет скошенность влево."
      ]
    },
    {
      "cell_type": "code",
      "execution_count": 49,
      "metadata": {
        "colab": {
          "base_uri": "https://localhost:8080/"
        },
        "id": "p0PRfVlWZci3",
        "outputId": "2a191fa5-5bf6-427f-af52-760b45a18eb9"
      },
      "outputs": [
        {
          "output_type": "execute_result",
          "data": {
            "text/plain": [
              "count    985.000000\n",
              "mean      73.392893\n",
              "std       43.916853\n",
              "min        0.000000\n",
              "25%       41.000000\n",
              "50%       74.000000\n",
              "75%      104.000000\n",
              "max      244.000000\n",
              "Name: duration, dtype: float64"
            ]
          },
          "metadata": {},
          "execution_count": 49
        }
      ],
      "source": [
        "ultra_table['duration'].describe()"
      ]
    },
    {
      "cell_type": "code",
      "execution_count": 50,
      "metadata": {
        "colab": {
          "base_uri": "https://localhost:8080/"
        },
        "id": "1vrAJ1jXZci3",
        "outputId": "0b422dd0-1d00-42f6-d478-4fe811e6ab33"
      },
      "outputs": [
        {
          "output_type": "execute_result",
          "data": {
            "text/plain": [
              "1926.7319291916822"
            ]
          },
          "metadata": {},
          "execution_count": 50
        }
      ],
      "source": [
        "variance = np.var(ultra_table['duration'])\n",
        "variance"
      ]
    },
    {
      "cell_type": "code",
      "execution_count": 51,
      "metadata": {
        "colab": {
          "base_uri": "https://localhost:8080/",
          "height": 428
        },
        "id": "2SOz4zqaZci3",
        "outputId": "f40637a1-307e-4f2a-db88-6550f47e9e2b"
      },
      "outputs": [
        {
          "output_type": "execute_result",
          "data": {
            "text/plain": [
              "Text(0, 0.5, 'Частота в выборке')"
            ]
          },
          "metadata": {},
          "execution_count": 51
        },
        {
          "output_type": "display_data",
          "data": {
            "text/plain": [
              "<Figure size 720x432 with 1 Axes>"
            ],
            "image/png": "[encoded data removed]"
          },
          "metadata": {
            "needs_background": "light"
          }
        }
      ],
      "source": [
        "plt.figure(figsize=(10, 6))\n",
        "\n",
        "ultra_table['duration'].plot(kind='hist', bins=50, grid=True)\n",
        "\n",
        "plt.title(label='Распределение минут разговора', fontsize=20)\n",
        "plt.xlabel('Минуты разговора')\n",
        "plt.ylabel('Частота в выборке')"
      ]
    },
    {
      "cell_type": "markdown",
      "metadata": {
        "id": "JqQ10qHpZci3"
      },
      "source": [
        "**Комментарий:** \n",
        "<br>Здесь мы также наблюдаем сплеск на 0 из-за того, что заменили пропуски. Небольшой выброс на значении в 250 минут. На этом графике данные в основном распределены в диапозоне от 41 до 104, исходя из значения дисперсии разброс считаю не слишком большим. График также имеет скошенность влево."
      ]
    },
    {
      "cell_type": "code",
      "execution_count": 52,
      "metadata": {
        "colab": {
          "base_uri": "https://localhost:8080/"
        },
        "id": "C4rudLvTZci3",
        "outputId": "543bda9b-d897-4b3f-d1eb-72dad06ee3dc"
      },
      "outputs": [
        {
          "output_type": "execute_result",
          "data": {
            "text/plain": [
              "count      985.000000\n",
              "mean     19486.901523\n",
              "std      10096.317202\n",
              "min          0.000000\n",
              "25%      11785.000000\n",
              "50%      19324.000000\n",
              "75%      26863.000000\n",
              "max      49789.000000\n",
              "Name: mb_used, dtype: float64"
            ]
          },
          "metadata": {},
          "execution_count": 52
        }
      ],
      "source": [
        "ultra_table['mb_used'].describe()"
      ]
    },
    {
      "cell_type": "code",
      "execution_count": 53,
      "metadata": {
        "colab": {
          "base_uri": "https://localhost:8080/"
        },
        "id": "CSiLWqU7Zci3",
        "outputId": "c41a8310-5aa9-45c9-f2cd-bcbc701ef149"
      },
      "outputs": [
        {
          "output_type": "execute_result",
          "data": {
            "text/plain": [
              "101832133.10806875"
            ]
          },
          "metadata": {},
          "execution_count": 53
        }
      ],
      "source": [
        "variance = np.var(ultra_table['mb_used'])\n",
        "variance"
      ]
    },
    {
      "cell_type": "code",
      "execution_count": 54,
      "metadata": {
        "colab": {
          "base_uri": "https://localhost:8080/",
          "height": 429
        },
        "id": "vLiD557hZci3",
        "outputId": "e86d7009-b6b3-4b5e-e70e-2296df857a33"
      },
      "outputs": [
        {
          "output_type": "execute_result",
          "data": {
            "text/plain": [
              "Text(0, 0.5, 'частота в выборке')"
            ]
          },
          "metadata": {},
          "execution_count": 54
        },
        {
          "output_type": "display_data",
          "data": {
            "text/plain": [
              "<Figure size 720x432 with 1 Axes>"
            ],
            "image/png": "[encoded data removed]"
          },
          "metadata": {
            "needs_background": "light"
          }
        }
      ],
      "source": [
        "plt.figure(figsize=(10,6))\n",
        "\n",
        "ultra_table['mb_used'].plot(kind='hist', bins=50, grid=True)\n",
        "\n",
        "plt.title(label='Распределение использованных мегабайтов', fontsize=20)\n",
        "plt.xlabel('использованные мегабайты')\n",
        "plt.ylabel('частота в выборке')"
      ]
    },
    {
      "cell_type": "markdown",
      "metadata": {
        "id": "ozYk0V1gZci3"
      },
      "source": [
        "**Комментарий:** \n",
        "<br>Наша замена пропусков на 0 здесь уже не так видна, выборка имеет достаточно большой разброс, основная масса значений расположена в диапозоне от 11,5 Гб до 26,2 Гб."
      ]
    },
    {
      "cell_type": "code",
      "execution_count": 55,
      "metadata": {
        "scrolled": true,
        "colab": {
          "base_uri": "https://localhost:8080/"
        },
        "id": "SBUlRo7iZci3",
        "outputId": "af10dc79-8bcd-4908-c2c2-3dc497db9d8e"
      },
      "outputs": [
        {
          "output_type": "execute_result",
          "data": {
            "text/plain": [
              "count    985.000000\n",
              "mean      49.363452\n",
              "std       47.804457\n",
              "min        0.000000\n",
              "25%        6.000000\n",
              "50%       38.000000\n",
              "75%       79.000000\n",
              "max      224.000000\n",
              "Name: messages, dtype: float64"
            ]
          },
          "metadata": {},
          "execution_count": 55
        }
      ],
      "source": [
        "ultra_table['messages'].describe()"
      ]
    },
    {
      "cell_type": "code",
      "execution_count": 56,
      "metadata": {
        "colab": {
          "base_uri": "https://localhost:8080/"
        },
        "id": "xFhwOkvBZci4",
        "outputId": "65bc0634-9121-437d-97f2-1cf01b603eb5"
      },
      "outputs": [
        {
          "output_type": "execute_result",
          "data": {
            "text/plain": [
              "2282.9460753948824"
            ]
          },
          "metadata": {},
          "execution_count": 56
        }
      ],
      "source": [
        "variance = np.var(ultra_table['messages'])\n",
        "variance"
      ]
    },
    {
      "cell_type": "code",
      "execution_count": 57,
      "metadata": {
        "colab": {
          "base_uri": "https://localhost:8080/",
          "height": 429
        },
        "id": "5Wdh_jpYZci4",
        "outputId": "e81b5980-9ec2-4c61-d724-3c62052558f0"
      },
      "outputs": [
        {
          "output_type": "execute_result",
          "data": {
            "text/plain": [
              "Text(0, 0.5, 'Частота в выборке')"
            ]
          },
          "metadata": {},
          "execution_count": 57
        },
        {
          "output_type": "display_data",
          "data": {
            "text/plain": [
              "<Figure size 720x432 with 1 Axes>"
            ],
            "image/png": "[encoded data removed]"
          },
          "metadata": {
            "needs_background": "light"
          }
        }
      ],
      "source": [
        "plt.figure(figsize=(10,6))\n",
        "\n",
        "ultra_table['messages'].plot(kind='hist', bins=50, grid=True)\n",
        "\n",
        "plt.title(label='Распределение количества отправленных сообщений', fontsize=20)\n",
        "plt.xlabel('Количество отправленных сообщений')\n",
        "plt.ylabel('Частота в выборке')"
      ]
    },
    {
      "cell_type": "markdown",
      "metadata": {
        "id": "uFcJvlK0Zci4"
      },
      "source": [
        "**Комментарий:** \n",
        "<br>Здесь также наблюдаем большой выброс на нуле. Основная масса значений сосредоточена от 6 до 79, разброс выборки достаточно большой, среднее квадратическое отклонение - 47."
      ]
    },
    {
      "cell_type": "markdown",
      "metadata": {
        "id": "4lOsUYzLZci4"
      },
      "source": [
        "**Промежуточный вывод:** \n",
        "<br>Сейчас мы рассматривали дорогой тариф, можно сказать, что люди, которые им пользуются в основном не вылезают за рамки лимитов, кроме интернета, тут мы наблюдаем перерасход."
      ]
    },
    {
      "cell_type": "markdown",
      "metadata": {
        "id": "-Ivb2hDBZci4"
      },
      "source": [
        "### Пользователи тарифа Smart"
      ]
    },
    {
      "cell_type": "code",
      "execution_count": 58,
      "metadata": {
        "colab": {
          "base_uri": "https://localhost:8080/",
          "height": 206
        },
        "id": "EbOH_qbAZci4",
        "outputId": "8df40128-a1cb-4e88-be47-53369dd67a7b"
      },
      "outputs": [
        {
          "output_type": "execute_result",
          "data": {
            "text/plain": [
              "    user_id tariff_name      month  calls  duration  mb_used  messages  \\\n",
              "8      1001       smart 2018-11-01  444.0      59.0  18452.0       0.0   \n",
              "9      1001       smart 2018-12-01  430.0      63.0  14053.0       0.0   \n",
              "10     1002       smart 2018-06-01  118.0      15.0  10871.0       4.0   \n",
              "11     1002       smart 2018-07-01  219.0      26.0  17601.0      11.0   \n",
              "12     1002       smart 2018-08-01  294.0      42.0  20347.0      13.0   \n",
              "\n",
              "    total_revenue  \n",
              "8          1350.0  \n",
              "9           550.0  \n",
              "10          550.0  \n",
              "11         1150.0  \n",
              "12         1550.0  "
            ],
            "text/html": [
              "\n",
              "  <div id=\"df-561f837a-39ec-4d53-a340-b31289149711\">\n",
              "    <div class=\"colab-df-container\">\n",
              "      <div>\n",
              "<style scoped>\n",
              "    .dataframe tbody tr th:only-of-type {\n",
              "        vertical-align: middle;\n",
              "    }\n",
              "\n",
              "    .dataframe tbody tr th {\n",
              "        vertical-align: top;\n",
              "    }\n",
              "\n",
              "    .dataframe thead th {\n",
              "        text-align: right;\n",
              "    }\n",
              "</style>\n",
              "<table border=\"1\" class=\"dataframe\">\n",
              "  <thead>\n",
              "    <tr style=\"text-align: right;\">\n",
              "      <th></th>\n",
              "      <th>user_id</th>\n",
              "      <th>tariff_name</th>\n",
              "      <th>month</th>\n",
              "      <th>calls</th>\n",
              "      <th>duration</th>\n",
              "      <th>mb_used</th>\n",
              "      <th>messages</th>\n",
              "      <th>total_revenue</th>\n",
              "    </tr>\n",
              "  </thead>\n",
              "  <tbody>\n",
              "    <tr>\n",
              "      <th>8</th>\n",
              "      <td>1001</td>\n",
              "      <td>smart</td>\n",
              "      <td>2018-11-01</td>\n",
              "      <td>444.0</td>\n",
              "      <td>59.0</td>\n",
              "      <td>18452.0</td>\n",
              "      <td>0.0</td>\n",
              "      <td>1350.0</td>\n",
              "    </tr>\n",
              "    <tr>\n",
              "      <th>9</th>\n",
              "      <td>1001</td>\n",
              "      <td>smart</td>\n",
              "      <td>2018-12-01</td>\n",
              "      <td>430.0</td>\n",
              "      <td>63.0</td>\n",
              "      <td>14053.0</td>\n",
              "      <td>0.0</td>\n",
              "      <td>550.0</td>\n",
              "    </tr>\n",
              "    <tr>\n",
              "      <th>10</th>\n",
              "      <td>1002</td>\n",
              "      <td>smart</td>\n",
              "      <td>2018-06-01</td>\n",
              "      <td>118.0</td>\n",
              "      <td>15.0</td>\n",
              "      <td>10871.0</td>\n",
              "      <td>4.0</td>\n",
              "      <td>550.0</td>\n",
              "    </tr>\n",
              "    <tr>\n",
              "      <th>11</th>\n",
              "      <td>1002</td>\n",
              "      <td>smart</td>\n",
              "      <td>2018-07-01</td>\n",
              "      <td>219.0</td>\n",
              "      <td>26.0</td>\n",
              "      <td>17601.0</td>\n",
              "      <td>11.0</td>\n",
              "      <td>1150.0</td>\n",
              "    </tr>\n",
              "    <tr>\n",
              "      <th>12</th>\n",
              "      <td>1002</td>\n",
              "      <td>smart</td>\n",
              "      <td>2018-08-01</td>\n",
              "      <td>294.0</td>\n",
              "      <td>42.0</td>\n",
              "      <td>20347.0</td>\n",
              "      <td>13.0</td>\n",
              "      <td>1550.0</td>\n",
              "    </tr>\n",
              "  </tbody>\n",
              "</table>\n",
              "</div>\n",
              "      <button class=\"colab-df-convert\" onclick=\"convertToInteractive('df-561f837a-39ec-4d53-a340-b31289149711')\"\n",
              "              title=\"Convert this dataframe to an interactive table.\"\n",
              "              style=\"display:none;\">\n",
              "        \n",
              "  <svg xmlns=\"http://www.w3.org/2000/svg\" height=\"24px\"viewBox=\"0 0 24 24\"\n",
              "       width=\"24px\">\n",
              "    <path d=\"M0 0h24v24H0V0z\" fill=\"none\"/>\n",
              "    <path d=\"M18.56 5.44l.94 2.06.94-2.06 2.06-.94-2.06-.94-.94-2.06-.94 2.06-2.06.94zm-11 1L8.5 8.5l.94-2.06 2.06-.94-2.06-.94L8.5 2.5l-.94 2.06-2.06.94zm10 10l.94 2.06.94-2.06 2.06-.94-2.06-.94-.94-2.06-.94 2.06-2.06.94z\"/><path d=\"M17.41 7.96l-1.37-1.37c-.4-.4-.92-.59-1.43-.59-.52 0-1.04.2-1.43.59L10.3 9.45l-7.72 7.72c-.78.78-.78 2.05 0 2.83L4 21.41c.39.39.9.59 1.41.59.51 0 1.02-.2 1.41-.59l7.78-7.78 2.81-2.81c.8-.78.8-2.07 0-2.86zM5.41 20L4 18.59l7.72-7.72 1.47 1.35L5.41 20z\"/>\n",
              "  </svg>\n",
              "      </button>\n",
              "      \n",
              "  <style>\n",
              "    .colab-df-container {\n",
              "      display:flex;\n",
              "      flex-wrap:wrap;\n",
              "      gap: 12px;\n",
              "    }\n",
              "\n",
              "    .colab-df-convert {\n",
              "      background-color: #E8F0FE;\n",
              "      border: none;\n",
              "      border-radius: 50%;\n",
              "      cursor: pointer;\n",
              "      display: none;\n",
              "      fill: #1967D2;\n",
              "      height: 32px;\n",
              "      padding: 0 0 0 0;\n",
              "      width: 32px;\n",
              "    }\n",
              "\n",
              "    .colab-df-convert:hover {\n",
              "      background-color: #E2EBFA;\n",
              "      box-shadow: 0px 1px 2px rgba(60, 64, 67, 0.3), 0px 1px 3px 1px rgba(60, 64, 67, 0.15);\n",
              "      fill: #174EA6;\n",
              "    }\n",
              "\n",
              "    [theme=dark] .colab-df-convert {\n",
              "      background-color: #3B4455;\n",
              "      fill: #D2E3FC;\n",
              "    }\n",
              "\n",
              "    [theme=dark] .colab-df-convert:hover {\n",
              "      background-color: #434B5C;\n",
              "      box-shadow: 0px 1px 3px 1px rgba(0, 0, 0, 0.15);\n",
              "      filter: drop-shadow(0px 1px 2px rgba(0, 0, 0, 0.3));\n",
              "      fill: #FFFFFF;\n",
              "    }\n",
              "  </style>\n",
              "\n",
              "      <script>\n",
              "        const buttonEl =\n",
              "          document.querySelector('#df-561f837a-39ec-4d53-a340-b31289149711 button.colab-df-convert');\n",
              "        buttonEl.style.display =\n",
              "          google.colab.kernel.accessAllowed ? 'block' : 'none';\n",
              "\n",
              "        async function convertToInteractive(key) {\n",
              "          const element = document.querySelector('#df-561f837a-39ec-4d53-a340-b31289149711');\n",
              "          const dataTable =\n",
              "            await google.colab.kernel.invokeFunction('convertToInteractive',\n",
              "                                                     [key], {});\n",
              "          if (!dataTable) return;\n",
              "\n",
              "          const docLinkHtml = 'Like what you see? Visit the ' +\n",
              "            '<a target=\"_blank\" href=https://colab.research.google.com/notebooks/data_table.ipynb>data table notebook</a>'\n",
              "            + ' to learn more about interactive tables.';\n",
              "          element.innerHTML = '';\n",
              "          dataTable['output_type'] = 'display_data';\n",
              "          await google.colab.output.renderOutput(dataTable, element);\n",
              "          const docLink = document.createElement('div');\n",
              "          docLink.innerHTML = docLinkHtml;\n",
              "          element.appendChild(docLink);\n",
              "        }\n",
              "      </script>\n",
              "    </div>\n",
              "  </div>\n",
              "  "
            ]
          },
          "metadata": {},
          "execution_count": 58
        }
      ],
      "source": [
        "smart_table = pivot_data_final.query('tariff_name == \"smart\"')\n",
        "smart_table.head(5)"
      ]
    },
    {
      "cell_type": "code",
      "execution_count": 59,
      "metadata": {
        "colab": {
          "base_uri": "https://localhost:8080/"
        },
        "id": "Huae1JajZci4",
        "outputId": "5962dbcc-b800-4957-b7f7-685ae9e44ba1"
      },
      "outputs": [
        {
          "output_type": "execute_result",
          "data": {
            "text/plain": [
              "count    2229.000000\n",
              "mean      429.450875\n",
              "std       194.871174\n",
              "min         0.000000\n",
              "25%       291.000000\n",
              "50%       435.000000\n",
              "75%       560.000000\n",
              "max      1471.000000\n",
              "Name: calls, dtype: float64"
            ]
          },
          "metadata": {},
          "execution_count": 59
        }
      ],
      "source": [
        "smart_table['calls'].describe()"
      ]
    },
    {
      "cell_type": "code",
      "execution_count": 60,
      "metadata": {
        "colab": {
          "base_uri": "https://localhost:8080/"
        },
        "id": "3x_dRBsoZci4",
        "outputId": "26dbe51d-300a-4664-efef-817315a012f5"
      },
      "outputs": [
        {
          "output_type": "execute_result",
          "data": {
            "text/plain": [
              "37957.737941136875"
            ]
          },
          "metadata": {},
          "execution_count": 60
        }
      ],
      "source": [
        "variance = np.var(smart_table['calls'])\n",
        "variance"
      ]
    },
    {
      "cell_type": "code",
      "execution_count": 61,
      "metadata": {
        "colab": {
          "base_uri": "https://localhost:8080/",
          "height": 428
        },
        "id": "kvBeIdZ3Zci8",
        "outputId": "6523dd86-45e2-4f19-fcaa-7551b25ddcaa"
      },
      "outputs": [
        {
          "output_type": "execute_result",
          "data": {
            "text/plain": [
              "Text(0, 0.5, 'Частота в выборке')"
            ]
          },
          "metadata": {},
          "execution_count": 61
        },
        {
          "output_type": "display_data",
          "data": {
            "text/plain": [
              "<Figure size 720x432 with 1 Axes>"
            ],
            "image/png": "[encoded data removed]"
          },
          "metadata": {
            "needs_background": "light"
          }
        }
      ],
      "source": [
        "plt.figure(figsize=(10,6))\n",
        "\n",
        "smart_table['calls'].plot(kind='hist', bins=50, grid=True)\n",
        "\n",
        "plt.title(label='Распределение количества звонков', fontsize=20)\n",
        "plt.xlabel('Количество звонков')\n",
        "plt.ylabel('Частота в выборке')"
      ]
    },
    {
      "cell_type": "markdown",
      "metadata": {
        "id": "Uy4Lfy2xZci8"
      },
      "source": [
        "**Комментарий:** \n",
        "<br>Перед нами график нормального распределения с небольшой скошенностью влево, разброс значений, на мой взгляд небольшой. Наблюдаем выбросы в районе от 1200 до 1400 звонков. "
      ]
    },
    {
      "cell_type": "code",
      "execution_count": 62,
      "metadata": {
        "colab": {
          "base_uri": "https://localhost:8080/"
        },
        "id": "MAbcWQPJZci8",
        "outputId": "e2465ae1-6557-4b9c-f7eb-8cca4bbb208d"
      },
      "outputs": [
        {
          "output_type": "execute_result",
          "data": {
            "text/plain": [
              "count    2229.000000\n",
              "mean       58.463437\n",
              "std        25.939858\n",
              "min         0.000000\n",
              "25%        40.000000\n",
              "50%        60.000000\n",
              "75%        76.000000\n",
              "max       198.000000\n",
              "Name: duration, dtype: float64"
            ]
          },
          "metadata": {},
          "execution_count": 62
        }
      ],
      "source": [
        "smart_table['duration'].describe()"
      ]
    },
    {
      "cell_type": "code",
      "execution_count": 63,
      "metadata": {
        "colab": {
          "base_uri": "https://localhost:8080/"
        },
        "id": "qFcmCrb8Zci8",
        "outputId": "02d4caad-52ca-4014-e740-60dd0a86f299"
      },
      "outputs": [
        {
          "output_type": "execute_result",
          "data": {
            "text/plain": [
              "672.5743697067148"
            ]
          },
          "metadata": {},
          "execution_count": 63
        }
      ],
      "source": [
        "variance = np.var(smart_table['duration'])\n",
        "variance"
      ]
    },
    {
      "cell_type": "code",
      "execution_count": 64,
      "metadata": {
        "colab": {
          "base_uri": "https://localhost:8080/",
          "height": 428
        },
        "id": "HpE_Xsc1Zci9",
        "outputId": "75939bb1-9e6e-44e8-aea0-6047bb1d01ad"
      },
      "outputs": [
        {
          "output_type": "execute_result",
          "data": {
            "text/plain": [
              "Text(0, 0.5, 'частота в выборке')"
            ]
          },
          "metadata": {},
          "execution_count": 64
        },
        {
          "output_type": "display_data",
          "data": {
            "text/plain": [
              "<Figure size 720x432 with 1 Axes>"
            ],
            "image/png": "[encoded data removed]"
          },
          "metadata": {
            "needs_background": "light"
          }
        }
      ],
      "source": [
        "plt.figure(figsize=(10,6))\n",
        "\n",
        "smart_table['duration'].plot(kind='hist', bins=50, grid=True)\n",
        "\n",
        "plt.title(label='Распределение минут разговора', fontsize=20)\n",
        "plt.xlabel('минуты разговора')\n",
        "plt.ylabel('частота в выборке')"
      ]
    },
    {
      "cell_type": "markdown",
      "metadata": {
        "id": "690qmOGCZci9"
      },
      "source": [
        "**Комментарий:** \n",
        "<br>График нормального распределения с сильной скошенностью влево. Разброс значений минимальный, стандартное отклонение составляет 25%. В основном значения сосредоточены от 40 до 76 минут. Есть небольшой выброс в 198 минут. "
      ]
    },
    {
      "cell_type": "code",
      "execution_count": 65,
      "metadata": {
        "colab": {
          "base_uri": "https://localhost:8080/"
        },
        "id": "r4tYkK6lZci9",
        "outputId": "3bf32c99-658a-4c1b-bfac-8d63b91807f8"
      },
      "outputs": [
        {
          "output_type": "execute_result",
          "data": {
            "text/plain": [
              "count     2229.000000\n",
              "mean     16229.188425\n",
              "std       5877.576978\n",
              "min          0.000000\n",
              "25%      12658.000000\n",
              "50%      16531.000000\n",
              "75%      20068.000000\n",
              "max      38610.000000\n",
              "Name: mb_used, dtype: float64"
            ]
          },
          "metadata": {},
          "execution_count": 65
        }
      ],
      "source": [
        "smart_table['mb_used'].describe()"
      ]
    },
    {
      "cell_type": "code",
      "execution_count": 66,
      "metadata": {
        "colab": {
          "base_uri": "https://localhost:8080/"
        },
        "id": "bRXwpVr0Zci9",
        "outputId": "464553a7-be07-4a44-9482-40bbe0905cc1"
      },
      "outputs": [
        {
          "output_type": "execute_result",
          "data": {
            "text/plain": [
              "34530412.73703965"
            ]
          },
          "metadata": {},
          "execution_count": 66
        }
      ],
      "source": [
        "variance = np.var(smart_table['mb_used'])\n",
        "variance"
      ]
    },
    {
      "cell_type": "code",
      "execution_count": 67,
      "metadata": {
        "colab": {
          "base_uri": "https://localhost:8080/",
          "height": 429
        },
        "id": "tR5w568gZci9",
        "outputId": "ba48eef0-c220-479f-956e-80a4fb3e6ba4"
      },
      "outputs": [
        {
          "output_type": "execute_result",
          "data": {
            "text/plain": [
              "Text(0, 0.5, 'Частота в выборке')"
            ]
          },
          "metadata": {},
          "execution_count": 67
        },
        {
          "output_type": "display_data",
          "data": {
            "text/plain": [
              "<Figure size 720x432 with 1 Axes>"
            ],
            "image/png": "[encoded data removed]"
          },
          "metadata": {
            "needs_background": "light"
          }
        }
      ],
      "source": [
        "plt.figure(figsize=(10,6))\n",
        "\n",
        "smart_table['mb_used'].plot(kind='hist', bins=50, grid=True)\n",
        "\n",
        "plt.title(label='Распределение использованных мегабайтов', fontsize=20)\n",
        "plt.xlabel('Использованные мегабайты')\n",
        "plt.ylabel('Частота в выборке')"
      ]
    },
    {
      "cell_type": "markdown",
      "metadata": {
        "id": "0xjOkYL4Zci9"
      },
      "source": [
        "**Комментарий:** \n",
        "<br>Разброс значений достаточно большой, о чем нам говорит значение дисперсии. В основном значения сосредоточены от 12,4 Гб до 19,5 Гб. "
      ]
    },
    {
      "cell_type": "code",
      "execution_count": 68,
      "metadata": {
        "scrolled": true,
        "colab": {
          "base_uri": "https://localhost:8080/"
        },
        "id": "iX1SQ4_GZci9",
        "outputId": "6c867a45-7c74-49da-cb89-7586b1a8d3a0"
      },
      "outputs": [
        {
          "output_type": "execute_result",
          "data": {
            "text/plain": [
              "count    2229.000000\n",
              "mean       33.384029\n",
              "std        28.227876\n",
              "min         0.000000\n",
              "25%        10.000000\n",
              "50%        28.000000\n",
              "75%        51.000000\n",
              "max       143.000000\n",
              "Name: messages, dtype: float64"
            ]
          },
          "metadata": {},
          "execution_count": 68
        }
      ],
      "source": [
        "smart_table['messages'].describe()"
      ]
    },
    {
      "cell_type": "code",
      "execution_count": 69,
      "metadata": {
        "colab": {
          "base_uri": "https://localhost:8080/"
        },
        "id": "vPTaIFboZci9",
        "outputId": "763b3cf4-9748-4020-d2a8-a4cda6b7c4cc"
      },
      "outputs": [
        {
          "output_type": "execute_result",
          "data": {
            "text/plain": [
              "796.455482917076"
            ]
          },
          "metadata": {},
          "execution_count": 69
        }
      ],
      "source": [
        "variance = np.var(smart_table['messages'])\n",
        "variance"
      ]
    },
    {
      "cell_type": "code",
      "execution_count": 70,
      "metadata": {
        "colab": {
          "base_uri": "https://localhost:8080/",
          "height": 429
        },
        "id": "EqVg-ZDlZci9",
        "outputId": "14f1c4aa-e3be-49dc-ab2c-4785b595e0b8"
      },
      "outputs": [
        {
          "output_type": "execute_result",
          "data": {
            "text/plain": [
              "Text(0, 0.5, 'Частота в выборке')"
            ]
          },
          "metadata": {},
          "execution_count": 70
        },
        {
          "output_type": "display_data",
          "data": {
            "text/plain": [
              "<Figure size 720x432 with 1 Axes>"
            ],
            "image/png": "[encoded data removed]"
          },
          "metadata": {
            "needs_background": "light"
          }
        }
      ],
      "source": [
        "plt.figure(figsize=(10,6))\n",
        "\n",
        "smart_table['messages'].plot(kind='hist', bins=50, grid=True)\n",
        "\n",
        "plt.title(label='Распределение количества отправленных сообщений', fontsize=20)\n",
        "plt.xlabel('Количество отправленных сообщений')\n",
        "plt.ylabel('Частота в выборке')"
      ]
    },
    {
      "cell_type": "markdown",
      "metadata": {
        "id": "r2R_lGoEZci-"
      },
      "source": [
        "**Комментарий:** \n",
        "<br>Основная масса значений сосредоточена между 10 и 51 сообщениями, разброс, на мой взгляд, большой. Наблюдаем выброс на нуле из-за замены пропусков, хотя предполагаю, что в целом люди не так часто стали пользоваться сообщениями."
      ]
    },
    {
      "cell_type": "markdown",
      "metadata": {
        "id": "jDoYdUlRZci-"
      },
      "source": [
        "**Промежуточный вывод:** \n",
        "<br>Рассматриваемый тариф дешевле предыдущего, здесь достаточно много абонентов, которые выходят за рамки установленных лимитов во всех группах (звонки, сообщения, интернет). Больший перерасход, конечно, наблюдается по использованию интернета."
      ]
    },
    {
      "cell_type": "markdown",
      "metadata": {
        "id": "swYoKqEkZci-"
      },
      "source": [
        "### Сравнение данных по тарифам"
      ]
    },
    {
      "cell_type": "markdown",
      "metadata": {
        "id": "6Ed13o1iZci-"
      },
      "source": [
        "Для наглядности построим графики по двум тарифам."
      ]
    },
    {
      "cell_type": "code",
      "execution_count": 71,
      "metadata": {
        "scrolled": true,
        "colab": {
          "base_uri": "https://localhost:8080/",
          "height": 388
        },
        "id": "Ab2gl991Zci-",
        "outputId": "81a955a4-a4e1-4376-b028-0cd6be6ab2df"
      },
      "outputs": [
        {
          "output_type": "display_data",
          "data": {
            "text/plain": [
              "<Figure size 720x432 with 1 Axes>"
            ],
            "image/png": "[encoded data removed]"
          },
          "metadata": {
            "needs_background": "light"
          }
        }
      ],
      "source": [
        "plt.figure(figsize=(10,6))\n",
        "for tariff_name in ['ultra', 'smart']:  \n",
        "    sns.distplot(pivot_data_final.query('tariff_name == @tariff_name')['duration'], kde=False, label=tariff_name)\n",
        "    plt.legend(['ultra', 'smart'])\n",
        "    plt.xlabel('Mинуты разговора')"
      ]
    },
    {
      "cell_type": "code",
      "execution_count": 72,
      "metadata": {
        "colab": {
          "base_uri": "https://localhost:8080/",
          "height": 388
        },
        "id": "bc7A9r1BZci-",
        "outputId": "396544dd-d7c0-4e12-ef66-43584f42af32"
      },
      "outputs": [
        {
          "output_type": "display_data",
          "data": {
            "text/plain": [
              "<Figure size 720x432 with 1 Axes>"
            ],
            "image/png": "[encoded data removed]"
          },
          "metadata": {
            "needs_background": "light"
          }
        }
      ],
      "source": [
        "plt.figure(figsize=(10,6))\n",
        "for tariff_name in ['ultra', 'smart']:\n",
        "    sns.distplot(pivot_data_final.query('tariff_name == @tariff_name')['calls'], kde=False, label=tariff_name)\n",
        "    plt.legend(['ultra', 'smart'])\n",
        "    plt.xlabel('количество звонков')"
      ]
    },
    {
      "cell_type": "code",
      "execution_count": 73,
      "metadata": {
        "colab": {
          "base_uri": "https://localhost:8080/",
          "height": 388
        },
        "id": "OQvptRlRZci-",
        "outputId": "72123ca0-3750-4dc2-dc94-09816ba334e2"
      },
      "outputs": [
        {
          "output_type": "display_data",
          "data": {
            "text/plain": [
              "<Figure size 720x432 with 1 Axes>"
            ],
            "image/png": "[encoded data removed]"
          },
          "metadata": {
            "needs_background": "light"
          }
        }
      ],
      "source": [
        "plt.figure(figsize=(10,6))\n",
        "for tariff_name in ['ultra', 'smart']:\n",
        "    sns.distplot(pivot_data_final.query('tariff_name == @tariff_name')['mb_used'], kde=False, label=tariff_name)\n",
        "    plt.legend(['ultra', 'smart'])\n",
        "    plt.xlabel('использованные мегабайты')"
      ]
    },
    {
      "cell_type": "code",
      "execution_count": 74,
      "metadata": {
        "colab": {
          "base_uri": "https://localhost:8080/",
          "height": 388
        },
        "id": "u5rk6ipnZci-",
        "outputId": "147268c4-098f-4fc2-89b7-4034396d7bbb"
      },
      "outputs": [
        {
          "output_type": "display_data",
          "data": {
            "text/plain": [
              "<Figure size 720x432 with 1 Axes>"
            ],
            "image/png": "[encoded data removed]"
          },
          "metadata": {
            "needs_background": "light"
          }
        }
      ],
      "source": [
        "plt.figure(figsize=(10,6))\n",
        "for tariff_name in ['ultra', 'smart']:\n",
        "    sns.distplot(pivot_data_final.query('tariff_name == @tariff_name')['messages'], kde=False, label=tariff_name)\n",
        "    plt.legend(['ultra', 'smart'])\n",
        "    plt.xlabel('количество отправленных сообщений')"
      ]
    },
    {
      "cell_type": "markdown",
      "metadata": {
        "id": "UKSRZ_ELZci-"
      },
      "source": [
        "**Общий вывод** \n",
        "\n",
        "- Если говорить о разбросах значений, то разброс в тарифе Ультра значительно больше по всем категориям. Думаю, это связано с тем, что сам пакет дороже и включает в себя больше возможностей.\n",
        "- Медианные значения у двух выборок примерно одинаковые, как и концентрация большей части значений, что, думаю, говорит нам о том, что привычки у людей в целом примерно одинаковые. \n",
        "- Самая большая разница по использованию тарифов видна в пользовании интернетом, у абонентов тарифа Ультра диапозон распределения большей части значения гораздо шире.\n",
        "- Пользователей тарифа Смарт гораздо больше (почти в 2 раза), но и переплат у них также больше."
      ]
    },
    {
      "cell_type": "markdown",
      "metadata": {
        "id": "7jh-UfQUZci_"
      },
      "source": [
        "## Гипотеза № 1"
      ]
    },
    {
      "cell_type": "markdown",
      "metadata": {
        "id": "qmGAWdSbZci_"
      },
      "source": [
        "**Условие:**\\\n",
        " Средняя выручка пользователей тарифов «Ультра» и «Смарт» различаются"
      ]
    },
    {
      "cell_type": "markdown",
      "metadata": {
        "id": "5NUmvwMZZci_"
      },
      "source": [
        "Я бы сформулировала гипотезы следующим способом:\n",
        "\n",
        "**$Н_0$:** - Средняя выручка пользоваталей тарифа \"Ультра\" равна средней выручке пользователей тарифа \"Смарт\"\n",
        "\n",
        "**$Н_1$:** - Средняя выручка пользоваталей тарифа \"Ультра\" не равна средней выручке пользователей тарифа \"Смарт\"\n",
        "\n",
        "Уровень значимости я хочу назначить 0,01 - так как у нас достаточно большая выборка, поэтому 5% кажется достаточно большой вероятностью ошибки. Будем делать двусторонний тест."
      ]
    },
    {
      "cell_type": "code",
      "execution_count": 75,
      "metadata": {
        "id": "OGWbWkb7Zci_"
      },
      "outputs": [],
      "source": [
        "#подготовим выборки\n",
        "\n",
        "ultra_filter = pivot_data_final.query('tariff_name == \"ultra\"')['total_revenue']\n",
        "smart_filter = pivot_data_final.query('tariff_name == \"smart\"')['total_revenue']"
      ]
    },
    {
      "cell_type": "code",
      "execution_count": 76,
      "metadata": {
        "colab": {
          "base_uri": "https://localhost:8080/"
        },
        "id": "5mWmh7cHZci_",
        "outputId": "a4627d4d-b03c-4a01-c08a-8598c059736f"
      },
      "outputs": [
        {
          "output_type": "stream",
          "name": "stdout",
          "text": [
            "Дисперсия выборки ultra_filter: 143345.5641732588\n",
            "Дисперсия выборки smart_filter: 552423.5036551708\n"
          ]
        }
      ],
      "source": [
        "#сделаем предварительное сравнение дисперсий\n",
        "\n",
        "variance1 = np.var(ultra_filter)\n",
        "print('Дисперсия выборки ultra_filter:', variance1)\n",
        "\n",
        "variance2 = np.var(smart_filter)\n",
        "print('Дисперсия выборки smart_filter:', variance2)"
      ]
    },
    {
      "cell_type": "code",
      "execution_count": 77,
      "metadata": {
        "colab": {
          "base_uri": "https://localhost:8080/"
        },
        "id": "CV9nVyfuZci_",
        "outputId": "7e093406-04d3-434f-ab37-debfaf39bfba"
      },
      "outputs": [
        {
          "output_type": "stream",
          "name": "stdout",
          "text": [
            "p-значение: 0.0\n",
            "Отвергаем нулевую гипотезу\n"
          ]
        }
      ],
      "source": [
        "#так как дисперсии наших выборок довольно сильно отличаются, для параментра equal_var мы выбираем False\n",
        "\n",
        "alpha = 0.01\n",
        "\n",
        "results = st.ttest_ind(\n",
        "            ultra_filter,\n",
        "            smart_filter,\n",
        "            equal_var=False)\n",
        "\n",
        "print('p-значение:', results.pvalue)\n",
        "\n",
        "if results.pvalue < alpha:\n",
        "    print('Отвергаем нулевую гипотезу')\n",
        "else:\n",
        "    print('Не получилось отвергнуть нулевую гипотезу')"
      ]
    },
    {
      "cell_type": "code",
      "execution_count": 78,
      "metadata": {
        "colab": {
          "base_uri": "https://localhost:8080/",
          "height": 143
        },
        "id": "-UvnZBjcZci_",
        "outputId": "37dc6f8f-5c72-472d-e386-e2d15c22bb85"
      },
      "outputs": [
        {
          "output_type": "execute_result",
          "data": {
            "text/plain": [
              "             total_revenue\n",
              "tariff_name               \n",
              "smart                950.0\n",
              "ultra               1950.0"
            ],
            "text/html": [
              "\n",
              "  <div id=\"df-ad69905c-f9aa-4446-8adf-1cc6b09cb557\">\n",
              "    <div class=\"colab-df-container\">\n",
              "      <div>\n",
              "<style scoped>\n",
              "    .dataframe tbody tr th:only-of-type {\n",
              "        vertical-align: middle;\n",
              "    }\n",
              "\n",
              "    .dataframe tbody tr th {\n",
              "        vertical-align: top;\n",
              "    }\n",
              "\n",
              "    .dataframe thead th {\n",
              "        text-align: right;\n",
              "    }\n",
              "</style>\n",
              "<table border=\"1\" class=\"dataframe\">\n",
              "  <thead>\n",
              "    <tr style=\"text-align: right;\">\n",
              "      <th></th>\n",
              "      <th>total_revenue</th>\n",
              "    </tr>\n",
              "    <tr>\n",
              "      <th>tariff_name</th>\n",
              "      <th></th>\n",
              "    </tr>\n",
              "  </thead>\n",
              "  <tbody>\n",
              "    <tr>\n",
              "      <th>smart</th>\n",
              "      <td>950.0</td>\n",
              "    </tr>\n",
              "    <tr>\n",
              "      <th>ultra</th>\n",
              "      <td>1950.0</td>\n",
              "    </tr>\n",
              "  </tbody>\n",
              "</table>\n",
              "</div>\n",
              "      <button class=\"colab-df-convert\" onclick=\"convertToInteractive('df-ad69905c-f9aa-4446-8adf-1cc6b09cb557')\"\n",
              "              title=\"Convert this dataframe to an interactive table.\"\n",
              "              style=\"display:none;\">\n",
              "        \n",
              "  <svg xmlns=\"http://www.w3.org/2000/svg\" height=\"24px\"viewBox=\"0 0 24 24\"\n",
              "       width=\"24px\">\n",
              "    <path d=\"M0 0h24v24H0V0z\" fill=\"none\"/>\n",
              "    <path d=\"M18.56 5.44l.94 2.06.94-2.06 2.06-.94-2.06-.94-.94-2.06-.94 2.06-2.06.94zm-11 1L8.5 8.5l.94-2.06 2.06-.94-2.06-.94L8.5 2.5l-.94 2.06-2.06.94zm10 10l.94 2.06.94-2.06 2.06-.94-2.06-.94-.94-2.06-.94 2.06-2.06.94z\"/><path d=\"M17.41 7.96l-1.37-1.37c-.4-.4-.92-.59-1.43-.59-.52 0-1.04.2-1.43.59L10.3 9.45l-7.72 7.72c-.78.78-.78 2.05 0 2.83L4 21.41c.39.39.9.59 1.41.59.51 0 1.02-.2 1.41-.59l7.78-7.78 2.81-2.81c.8-.78.8-2.07 0-2.86zM5.41 20L4 18.59l7.72-7.72 1.47 1.35L5.41 20z\"/>\n",
              "  </svg>\n",
              "      </button>\n",
              "      \n",
              "  <style>\n",
              "    .colab-df-container {\n",
              "      display:flex;\n",
              "      flex-wrap:wrap;\n",
              "      gap: 12px;\n",
              "    }\n",
              "\n",
              "    .colab-df-convert {\n",
              "      background-color: #E8F0FE;\n",
              "      border: none;\n",
              "      border-radius: 50%;\n",
              "      cursor: pointer;\n",
              "      display: none;\n",
              "      fill: #1967D2;\n",
              "      height: 32px;\n",
              "      padding: 0 0 0 0;\n",
              "      width: 32px;\n",
              "    }\n",
              "\n",
              "    .colab-df-convert:hover {\n",
              "      background-color: #E2EBFA;\n",
              "      box-shadow: 0px 1px 2px rgba(60, 64, 67, 0.3), 0px 1px 3px 1px rgba(60, 64, 67, 0.15);\n",
              "      fill: #174EA6;\n",
              "    }\n",
              "\n",
              "    [theme=dark] .colab-df-convert {\n",
              "      background-color: #3B4455;\n",
              "      fill: #D2E3FC;\n",
              "    }\n",
              "\n",
              "    [theme=dark] .colab-df-convert:hover {\n",
              "      background-color: #434B5C;\n",
              "      box-shadow: 0px 1px 3px 1px rgba(0, 0, 0, 0.15);\n",
              "      filter: drop-shadow(0px 1px 2px rgba(0, 0, 0, 0.3));\n",
              "      fill: #FFFFFF;\n",
              "    }\n",
              "  </style>\n",
              "\n",
              "      <script>\n",
              "        const buttonEl =\n",
              "          document.querySelector('#df-ad69905c-f9aa-4446-8adf-1cc6b09cb557 button.colab-df-convert');\n",
              "        buttonEl.style.display =\n",
              "          google.colab.kernel.accessAllowed ? 'block' : 'none';\n",
              "\n",
              "        async function convertToInteractive(key) {\n",
              "          const element = document.querySelector('#df-ad69905c-f9aa-4446-8adf-1cc6b09cb557');\n",
              "          const dataTable =\n",
              "            await google.colab.kernel.invokeFunction('convertToInteractive',\n",
              "                                                     [key], {});\n",
              "          if (!dataTable) return;\n",
              "\n",
              "          const docLinkHtml = 'Like what you see? Visit the ' +\n",
              "            '<a target=\"_blank\" href=https://colab.research.google.com/notebooks/data_table.ipynb>data table notebook</a>'\n",
              "            + ' to learn more about interactive tables.';\n",
              "          element.innerHTML = '';\n",
              "          dataTable['output_type'] = 'display_data';\n",
              "          await google.colab.output.renderOutput(dataTable, element);\n",
              "          const docLink = document.createElement('div');\n",
              "          docLink.innerHTML = docLinkHtml;\n",
              "          element.appendChild(docLink);\n",
              "        }\n",
              "      </script>\n",
              "    </div>\n",
              "  </div>\n",
              "  "
            ]
          },
          "metadata": {},
          "execution_count": 78
        }
      ],
      "source": [
        "#посмотрим на средние значения выборок\n",
        "\n",
        "pivot_data_final.pivot_table(index='tariff_name', values='total_revenue', aggfunc='median')"
      ]
    },
    {
      "cell_type": "markdown",
      "metadata": {
        "id": "9hHZpPCrZci_"
      },
      "source": [
        "**Комментарий:** \n",
        "<br>Мы уже сравнивали распределение данных в предыдущем пункте, из которого было видно, что выборки очень разные. Двусторонний тест отвергнул нулевую теорию. Среднее по тарифу \"Смарт\" превышает его стоимость (550р), отсюда можно сделать вывод, что абонент с таким тарифом в конце месяца будет все равно платить больше стоимости тарифа."
      ]
    },
    {
      "cell_type": "markdown",
      "metadata": {
        "id": "Le1HsGUwZcjA"
      },
      "source": [
        "## Гипотеза № 2"
      ]
    },
    {
      "cell_type": "markdown",
      "metadata": {
        "id": "vxsG9V7sZcjA"
      },
      "source": [
        "**Условие:**\\\n",
        " Средняя выручка пользователей из Москвы отличается от выручки пользователей из других регионов."
      ]
    },
    {
      "cell_type": "markdown",
      "metadata": {
        "id": "jkuk-ZtVZcjA"
      },
      "source": [
        "Я бы сформулировала гипотезы следующим способом:\n",
        "\n",
        "**$H_0$:** - Средняя выручка пользователей из Москвы равна средней выручке пользователей из других регионов.\n",
        "\n",
        "**$Н_1$:** - Средняя выручка пользователей из Москвы не равна средней выручке пользователей из других регионов\n",
        "\n",
        "Уровень значимости я хочу назначить 0,01 - так как у нас достаточно большая выборка, поэтому 5% кажется достаточно большой вероятностью ошибки. Будем делать двусторонний тест."
      ]
    },
    {
      "cell_type": "code",
      "execution_count": 79,
      "metadata": {
        "scrolled": true,
        "colab": {
          "base_uri": "https://localhost:8080/",
          "height": 206
        },
        "id": "F_C3AhMsZcjA",
        "outputId": "ab3d6e5c-8a98-49e6-e616-98ffcce1b348"
      },
      "outputs": [
        {
          "output_type": "execute_result",
          "data": {
            "text/plain": [
              "   user_id tariff_name      month  calls  duration  mb_used  messages  \\\n",
              "0     1000       ultra 2018-05-01  164.0      22.0   2256.0      22.0   \n",
              "1     1000       ultra 2018-06-01  187.0      43.0  23257.0      60.0   \n",
              "2     1000       ultra 2018-07-01  346.0      47.0  14016.0      75.0   \n",
              "3     1000       ultra 2018-08-01  418.0      52.0  14070.0      81.0   \n",
              "4     1000       ultra 2018-09-01  478.0      58.0  14581.0      57.0   \n",
              "\n",
              "   total_revenue         city  \n",
              "0         1950.0    Краснодар  \n",
              "1         1950.0       Москва  \n",
              "2         1950.0  Стерлитамак  \n",
              "3         1950.0       Москва  \n",
              "4         1950.0  Новокузнецк  "
            ],
            "text/html": [
              "\n",
              "  <div id=\"df-173ddcb3-9d42-4fdf-b84e-36feebe2a65c\">\n",
              "    <div class=\"colab-df-container\">\n",
              "      <div>\n",
              "<style scoped>\n",
              "    .dataframe tbody tr th:only-of-type {\n",
              "        vertical-align: middle;\n",
              "    }\n",
              "\n",
              "    .dataframe tbody tr th {\n",
              "        vertical-align: top;\n",
              "    }\n",
              "\n",
              "    .dataframe thead th {\n",
              "        text-align: right;\n",
              "    }\n",
              "</style>\n",
              "<table border=\"1\" class=\"dataframe\">\n",
              "  <thead>\n",
              "    <tr style=\"text-align: right;\">\n",
              "      <th></th>\n",
              "      <th>user_id</th>\n",
              "      <th>tariff_name</th>\n",
              "      <th>month</th>\n",
              "      <th>calls</th>\n",
              "      <th>duration</th>\n",
              "      <th>mb_used</th>\n",
              "      <th>messages</th>\n",
              "      <th>total_revenue</th>\n",
              "      <th>city</th>\n",
              "    </tr>\n",
              "  </thead>\n",
              "  <tbody>\n",
              "    <tr>\n",
              "      <th>0</th>\n",
              "      <td>1000</td>\n",
              "      <td>ultra</td>\n",
              "      <td>2018-05-01</td>\n",
              "      <td>164.0</td>\n",
              "      <td>22.0</td>\n",
              "      <td>2256.0</td>\n",
              "      <td>22.0</td>\n",
              "      <td>1950.0</td>\n",
              "      <td>Краснодар</td>\n",
              "    </tr>\n",
              "    <tr>\n",
              "      <th>1</th>\n",
              "      <td>1000</td>\n",
              "      <td>ultra</td>\n",
              "      <td>2018-06-01</td>\n",
              "      <td>187.0</td>\n",
              "      <td>43.0</td>\n",
              "      <td>23257.0</td>\n",
              "      <td>60.0</td>\n",
              "      <td>1950.0</td>\n",
              "      <td>Москва</td>\n",
              "    </tr>\n",
              "    <tr>\n",
              "      <th>2</th>\n",
              "      <td>1000</td>\n",
              "      <td>ultra</td>\n",
              "      <td>2018-07-01</td>\n",
              "      <td>346.0</td>\n",
              "      <td>47.0</td>\n",
              "      <td>14016.0</td>\n",
              "      <td>75.0</td>\n",
              "      <td>1950.0</td>\n",
              "      <td>Стерлитамак</td>\n",
              "    </tr>\n",
              "    <tr>\n",
              "      <th>3</th>\n",
              "      <td>1000</td>\n",
              "      <td>ultra</td>\n",
              "      <td>2018-08-01</td>\n",
              "      <td>418.0</td>\n",
              "      <td>52.0</td>\n",
              "      <td>14070.0</td>\n",
              "      <td>81.0</td>\n",
              "      <td>1950.0</td>\n",
              "      <td>Москва</td>\n",
              "    </tr>\n",
              "    <tr>\n",
              "      <th>4</th>\n",
              "      <td>1000</td>\n",
              "      <td>ultra</td>\n",
              "      <td>2018-09-01</td>\n",
              "      <td>478.0</td>\n",
              "      <td>58.0</td>\n",
              "      <td>14581.0</td>\n",
              "      <td>57.0</td>\n",
              "      <td>1950.0</td>\n",
              "      <td>Новокузнецк</td>\n",
              "    </tr>\n",
              "  </tbody>\n",
              "</table>\n",
              "</div>\n",
              "      <button class=\"colab-df-convert\" onclick=\"convertToInteractive('df-173ddcb3-9d42-4fdf-b84e-36feebe2a65c')\"\n",
              "              title=\"Convert this dataframe to an interactive table.\"\n",
              "              style=\"display:none;\">\n",
              "        \n",
              "  <svg xmlns=\"http://www.w3.org/2000/svg\" height=\"24px\"viewBox=\"0 0 24 24\"\n",
              "       width=\"24px\">\n",
              "    <path d=\"M0 0h24v24H0V0z\" fill=\"none\"/>\n",
              "    <path d=\"M18.56 5.44l.94 2.06.94-2.06 2.06-.94-2.06-.94-.94-2.06-.94 2.06-2.06.94zm-11 1L8.5 8.5l.94-2.06 2.06-.94-2.06-.94L8.5 2.5l-.94 2.06-2.06.94zm10 10l.94 2.06.94-2.06 2.06-.94-2.06-.94-.94-2.06-.94 2.06-2.06.94z\"/><path d=\"M17.41 7.96l-1.37-1.37c-.4-.4-.92-.59-1.43-.59-.52 0-1.04.2-1.43.59L10.3 9.45l-7.72 7.72c-.78.78-.78 2.05 0 2.83L4 21.41c.39.39.9.59 1.41.59.51 0 1.02-.2 1.41-.59l7.78-7.78 2.81-2.81c.8-.78.8-2.07 0-2.86zM5.41 20L4 18.59l7.72-7.72 1.47 1.35L5.41 20z\"/>\n",
              "  </svg>\n",
              "      </button>\n",
              "      \n",
              "  <style>\n",
              "    .colab-df-container {\n",
              "      display:flex;\n",
              "      flex-wrap:wrap;\n",
              "      gap: 12px;\n",
              "    }\n",
              "\n",
              "    .colab-df-convert {\n",
              "      background-color: #E8F0FE;\n",
              "      border: none;\n",
              "      border-radius: 50%;\n",
              "      cursor: pointer;\n",
              "      display: none;\n",
              "      fill: #1967D2;\n",
              "      height: 32px;\n",
              "      padding: 0 0 0 0;\n",
              "      width: 32px;\n",
              "    }\n",
              "\n",
              "    .colab-df-convert:hover {\n",
              "      background-color: #E2EBFA;\n",
              "      box-shadow: 0px 1px 2px rgba(60, 64, 67, 0.3), 0px 1px 3px 1px rgba(60, 64, 67, 0.15);\n",
              "      fill: #174EA6;\n",
              "    }\n",
              "\n",
              "    [theme=dark] .colab-df-convert {\n",
              "      background-color: #3B4455;\n",
              "      fill: #D2E3FC;\n",
              "    }\n",
              "\n",
              "    [theme=dark] .colab-df-convert:hover {\n",
              "      background-color: #434B5C;\n",
              "      box-shadow: 0px 1px 3px 1px rgba(0, 0, 0, 0.15);\n",
              "      filter: drop-shadow(0px 1px 2px rgba(0, 0, 0, 0.3));\n",
              "      fill: #FFFFFF;\n",
              "    }\n",
              "  </style>\n",
              "\n",
              "      <script>\n",
              "        const buttonEl =\n",
              "          document.querySelector('#df-173ddcb3-9d42-4fdf-b84e-36feebe2a65c button.colab-df-convert');\n",
              "        buttonEl.style.display =\n",
              "          google.colab.kernel.accessAllowed ? 'block' : 'none';\n",
              "\n",
              "        async function convertToInteractive(key) {\n",
              "          const element = document.querySelector('#df-173ddcb3-9d42-4fdf-b84e-36feebe2a65c');\n",
              "          const dataTable =\n",
              "            await google.colab.kernel.invokeFunction('convertToInteractive',\n",
              "                                                     [key], {});\n",
              "          if (!dataTable) return;\n",
              "\n",
              "          const docLinkHtml = 'Like what you see? Visit the ' +\n",
              "            '<a target=\"_blank\" href=https://colab.research.google.com/notebooks/data_table.ipynb>data table notebook</a>'\n",
              "            + ' to learn more about interactive tables.';\n",
              "          element.innerHTML = '';\n",
              "          dataTable['output_type'] = 'display_data';\n",
              "          await google.colab.output.renderOutput(dataTable, element);\n",
              "          const docLink = document.createElement('div');\n",
              "          docLink.innerHTML = docLinkHtml;\n",
              "          element.appendChild(docLink);\n",
              "        }\n",
              "      </script>\n",
              "    </div>\n",
              "  </div>\n",
              "  "
            ]
          },
          "metadata": {},
          "execution_count": 79
        }
      ],
      "source": [
        "#добавим столбец с значением города\n",
        "\n",
        "pivot_data_final['city'] = data_users['city']\n",
        "pivot_data_final.head(5)"
      ]
    },
    {
      "cell_type": "code",
      "execution_count": 80,
      "metadata": {
        "id": "z7NoyjTGZcjA"
      },
      "outputs": [],
      "source": [
        "#подготовим выборки\n",
        "\n",
        "ultra_filter_city = pivot_data_final.query('city == \"Москва\"')['total_revenue']\n",
        "smart_filter_city = pivot_data_final.query('city != \"Москва\"')['total_revenue']"
      ]
    },
    {
      "cell_type": "code",
      "execution_count": 81,
      "metadata": {
        "colab": {
          "base_uri": "https://localhost:8080/"
        },
        "id": "sNWPA6ydZcjA",
        "outputId": "94893404-b71f-4895-c0d7-c04f428d77b5"
      },
      "outputs": [
        {
          "output_type": "stream",
          "name": "stdout",
          "text": [
            "Дисперсия выборки ultra_filter_city: 650217.572288542\n",
            "Дисперсия выборки smart_filter_city: 597827.9073075189\n"
          ]
        }
      ],
      "source": [
        "#сделаем предварительное сравнение дисперсий\n",
        "\n",
        "variance1 = np.var(ultra_filter_city)\n",
        "print('Дисперсия выборки ultra_filter_city:', variance1)\n",
        "\n",
        "variance2 = np.var(smart_filter_city)\n",
        "print('Дисперсия выборки smart_filter_city:', variance2)"
      ]
    },
    {
      "cell_type": "code",
      "execution_count": 82,
      "metadata": {
        "colab": {
          "base_uri": "https://localhost:8080/"
        },
        "id": "h62Q1jqQZcjA",
        "outputId": "f13397c6-9b42-4cd2-d8db-b1048bed9887"
      },
      "outputs": [
        {
          "output_type": "stream",
          "name": "stdout",
          "text": [
            "p-значение: 0.27055026896551415\n",
            "Не получилось отвергнуть нулевую гипотезу\n"
          ]
        }
      ],
      "source": [
        "#так как дисперсии наших выборок довольно сильно отличаются, для параментра equal_var мы выбираем False\n",
        "\n",
        "alpha = 0.05\n",
        "\n",
        "results = st.ttest_ind(\n",
        "            ultra_filter_city,\n",
        "            smart_filter_city,\n",
        "            equal_var=False)\n",
        "\n",
        "print('p-значение:', results.pvalue)\n",
        "\n",
        "if results.pvalue < alpha:\n",
        "    print('Отвергаем нулевую гипотезу')\n",
        "else:\n",
        "    print('Не получилось отвергнуть нулевую гипотезу')"
      ]
    },
    {
      "cell_type": "code",
      "execution_count": 83,
      "metadata": {
        "colab": {
          "base_uri": "https://localhost:8080/",
          "height": 206
        },
        "id": "UKANdGaJZcjA",
        "outputId": "562d2a48-0bd6-4053-af5b-d6c17f1f733b"
      },
      "outputs": [
        {
          "output_type": "execute_result",
          "data": {
            "text/plain": [
              "   user_id tariff_name      month  calls  duration  mb_used  messages  \\\n",
              "0     1000       ultra 2018-05-01  164.0      22.0   2256.0      22.0   \n",
              "1     1000       ultra 2018-06-01  187.0      43.0  23257.0      60.0   \n",
              "2     1000       ultra 2018-07-01  346.0      47.0  14016.0      75.0   \n",
              "3     1000       ultra 2018-08-01  418.0      52.0  14070.0      81.0   \n",
              "4     1000       ultra 2018-09-01  478.0      58.0  14581.0      57.0   \n",
              "\n",
              "   total_revenue         city  region  \n",
              "0         1950.0    Краснодар  Другой  \n",
              "1         1950.0       Москва  Москва  \n",
              "2         1950.0  Стерлитамак  Другой  \n",
              "3         1950.0       Москва  Москва  \n",
              "4         1950.0  Новокузнецк  Другой  "
            ],
            "text/html": [
              "\n",
              "  <div id=\"df-4485137f-0069-4b47-be48-0233b16a73db\">\n",
              "    <div class=\"colab-df-container\">\n",
              "      <div>\n",
              "<style scoped>\n",
              "    .dataframe tbody tr th:only-of-type {\n",
              "        vertical-align: middle;\n",
              "    }\n",
              "\n",
              "    .dataframe tbody tr th {\n",
              "        vertical-align: top;\n",
              "    }\n",
              "\n",
              "    .dataframe thead th {\n",
              "        text-align: right;\n",
              "    }\n",
              "</style>\n",
              "<table border=\"1\" class=\"dataframe\">\n",
              "  <thead>\n",
              "    <tr style=\"text-align: right;\">\n",
              "      <th></th>\n",
              "      <th>user_id</th>\n",
              "      <th>tariff_name</th>\n",
              "      <th>month</th>\n",
              "      <th>calls</th>\n",
              "      <th>duration</th>\n",
              "      <th>mb_used</th>\n",
              "      <th>messages</th>\n",
              "      <th>total_revenue</th>\n",
              "      <th>city</th>\n",
              "      <th>region</th>\n",
              "    </tr>\n",
              "  </thead>\n",
              "  <tbody>\n",
              "    <tr>\n",
              "      <th>0</th>\n",
              "      <td>1000</td>\n",
              "      <td>ultra</td>\n",
              "      <td>2018-05-01</td>\n",
              "      <td>164.0</td>\n",
              "      <td>22.0</td>\n",
              "      <td>2256.0</td>\n",
              "      <td>22.0</td>\n",
              "      <td>1950.0</td>\n",
              "      <td>Краснодар</td>\n",
              "      <td>Другой</td>\n",
              "    </tr>\n",
              "    <tr>\n",
              "      <th>1</th>\n",
              "      <td>1000</td>\n",
              "      <td>ultra</td>\n",
              "      <td>2018-06-01</td>\n",
              "      <td>187.0</td>\n",
              "      <td>43.0</td>\n",
              "      <td>23257.0</td>\n",
              "      <td>60.0</td>\n",
              "      <td>1950.0</td>\n",
              "      <td>Москва</td>\n",
              "      <td>Москва</td>\n",
              "    </tr>\n",
              "    <tr>\n",
              "      <th>2</th>\n",
              "      <td>1000</td>\n",
              "      <td>ultra</td>\n",
              "      <td>2018-07-01</td>\n",
              "      <td>346.0</td>\n",
              "      <td>47.0</td>\n",
              "      <td>14016.0</td>\n",
              "      <td>75.0</td>\n",
              "      <td>1950.0</td>\n",
              "      <td>Стерлитамак</td>\n",
              "      <td>Другой</td>\n",
              "    </tr>\n",
              "    <tr>\n",
              "      <th>3</th>\n",
              "      <td>1000</td>\n",
              "      <td>ultra</td>\n",
              "      <td>2018-08-01</td>\n",
              "      <td>418.0</td>\n",
              "      <td>52.0</td>\n",
              "      <td>14070.0</td>\n",
              "      <td>81.0</td>\n",
              "      <td>1950.0</td>\n",
              "      <td>Москва</td>\n",
              "      <td>Москва</td>\n",
              "    </tr>\n",
              "    <tr>\n",
              "      <th>4</th>\n",
              "      <td>1000</td>\n",
              "      <td>ultra</td>\n",
              "      <td>2018-09-01</td>\n",
              "      <td>478.0</td>\n",
              "      <td>58.0</td>\n",
              "      <td>14581.0</td>\n",
              "      <td>57.0</td>\n",
              "      <td>1950.0</td>\n",
              "      <td>Новокузнецк</td>\n",
              "      <td>Другой</td>\n",
              "    </tr>\n",
              "  </tbody>\n",
              "</table>\n",
              "</div>\n",
              "      <button class=\"colab-df-convert\" onclick=\"convertToInteractive('df-4485137f-0069-4b47-be48-0233b16a73db')\"\n",
              "              title=\"Convert this dataframe to an interactive table.\"\n",
              "              style=\"display:none;\">\n",
              "        \n",
              "  <svg xmlns=\"http://www.w3.org/2000/svg\" height=\"24px\"viewBox=\"0 0 24 24\"\n",
              "       width=\"24px\">\n",
              "    <path d=\"M0 0h24v24H0V0z\" fill=\"none\"/>\n",
              "    <path d=\"M18.56 5.44l.94 2.06.94-2.06 2.06-.94-2.06-.94-.94-2.06-.94 2.06-2.06.94zm-11 1L8.5 8.5l.94-2.06 2.06-.94-2.06-.94L8.5 2.5l-.94 2.06-2.06.94zm10 10l.94 2.06.94-2.06 2.06-.94-2.06-.94-.94-2.06-.94 2.06-2.06.94z\"/><path d=\"M17.41 7.96l-1.37-1.37c-.4-.4-.92-.59-1.43-.59-.52 0-1.04.2-1.43.59L10.3 9.45l-7.72 7.72c-.78.78-.78 2.05 0 2.83L4 21.41c.39.39.9.59 1.41.59.51 0 1.02-.2 1.41-.59l7.78-7.78 2.81-2.81c.8-.78.8-2.07 0-2.86zM5.41 20L4 18.59l7.72-7.72 1.47 1.35L5.41 20z\"/>\n",
              "  </svg>\n",
              "      </button>\n",
              "      \n",
              "  <style>\n",
              "    .colab-df-container {\n",
              "      display:flex;\n",
              "      flex-wrap:wrap;\n",
              "      gap: 12px;\n",
              "    }\n",
              "\n",
              "    .colab-df-convert {\n",
              "      background-color: #E8F0FE;\n",
              "      border: none;\n",
              "      border-radius: 50%;\n",
              "      cursor: pointer;\n",
              "      display: none;\n",
              "      fill: #1967D2;\n",
              "      height: 32px;\n",
              "      padding: 0 0 0 0;\n",
              "      width: 32px;\n",
              "    }\n",
              "\n",
              "    .colab-df-convert:hover {\n",
              "      background-color: #E2EBFA;\n",
              "      box-shadow: 0px 1px 2px rgba(60, 64, 67, 0.3), 0px 1px 3px 1px rgba(60, 64, 67, 0.15);\n",
              "      fill: #174EA6;\n",
              "    }\n",
              "\n",
              "    [theme=dark] .colab-df-convert {\n",
              "      background-color: #3B4455;\n",
              "      fill: #D2E3FC;\n",
              "    }\n",
              "\n",
              "    [theme=dark] .colab-df-convert:hover {\n",
              "      background-color: #434B5C;\n",
              "      box-shadow: 0px 1px 3px 1px rgba(0, 0, 0, 0.15);\n",
              "      filter: drop-shadow(0px 1px 2px rgba(0, 0, 0, 0.3));\n",
              "      fill: #FFFFFF;\n",
              "    }\n",
              "  </style>\n",
              "\n",
              "      <script>\n",
              "        const buttonEl =\n",
              "          document.querySelector('#df-4485137f-0069-4b47-be48-0233b16a73db button.colab-df-convert');\n",
              "        buttonEl.style.display =\n",
              "          google.colab.kernel.accessAllowed ? 'block' : 'none';\n",
              "\n",
              "        async function convertToInteractive(key) {\n",
              "          const element = document.querySelector('#df-4485137f-0069-4b47-be48-0233b16a73db');\n",
              "          const dataTable =\n",
              "            await google.colab.kernel.invokeFunction('convertToInteractive',\n",
              "                                                     [key], {});\n",
              "          if (!dataTable) return;\n",
              "\n",
              "          const docLinkHtml = 'Like what you see? Visit the ' +\n",
              "            '<a target=\"_blank\" href=https://colab.research.google.com/notebooks/data_table.ipynb>data table notebook</a>'\n",
              "            + ' to learn more about interactive tables.';\n",
              "          element.innerHTML = '';\n",
              "          dataTable['output_type'] = 'display_data';\n",
              "          await google.colab.output.renderOutput(dataTable, element);\n",
              "          const docLink = document.createElement('div');\n",
              "          docLink.innerHTML = docLinkHtml;\n",
              "          element.appendChild(docLink);\n",
              "        }\n",
              "      </script>\n",
              "    </div>\n",
              "  </div>\n",
              "  "
            ]
          },
          "metadata": {},
          "execution_count": 83
        }
      ],
      "source": [
        "#для удобства визуализации средних значений сделаем категоризацию\n",
        "\n",
        "def region(city):\n",
        "    if city == 'Москва':\n",
        "        return 'Москва'\n",
        "    return 'Другой'\n",
        "\n",
        "pivot_data_final['region'] = pivot_data_final['city'].apply(region)\n",
        "pivot_data_final.head(5)"
      ]
    },
    {
      "cell_type": "code",
      "execution_count": 84,
      "metadata": {
        "colab": {
          "base_uri": "https://localhost:8080/"
        },
        "id": "YVWr0qm8ZcjB",
        "outputId": "dd38b5e2-7932-425a-8f3b-1a2ce88d6a6f"
      },
      "outputs": [
        {
          "output_type": "stream",
          "name": "stdout",
          "text": [
            "<class 'pandas.core.frame.DataFrame'>\n",
            "RangeIndex: 3214 entries, 0 to 3213\n",
            "Data columns (total 10 columns):\n",
            " #   Column         Non-Null Count  Dtype         \n",
            "---  ------         --------------  -----         \n",
            " 0   user_id        3214 non-null   int64         \n",
            " 1   tariff_name    3214 non-null   object        \n",
            " 2   month          3214 non-null   datetime64[ns]\n",
            " 3   calls          3214 non-null   float64       \n",
            " 4   duration       3214 non-null   float64       \n",
            " 5   mb_used        3214 non-null   float64       \n",
            " 6   messages       3214 non-null   float64       \n",
            " 7   total_revenue  3214 non-null   float64       \n",
            " 8   city           500 non-null    object        \n",
            " 9   region         3214 non-null   object        \n",
            "dtypes: datetime64[ns](1), float64(5), int64(1), object(3)\n",
            "memory usage: 251.2+ KB\n"
          ]
        }
      ],
      "source": [
        "pivot_data_final.info()"
      ]
    },
    {
      "cell_type": "code",
      "execution_count": 85,
      "metadata": {
        "colab": {
          "base_uri": "https://localhost:8080/",
          "height": 143
        },
        "id": "MajSFpi6ZcjB",
        "outputId": "6fe1466b-b36a-4fb0-ee33-fc5d87445d81"
      },
      "outputs": [
        {
          "output_type": "execute_result",
          "data": {
            "text/plain": [
              "        total_revenue\n",
              "region               \n",
              "Другой         1550.0\n",
              "Москва         1350.0"
            ],
            "text/html": [
              "\n",
              "  <div id=\"df-0866e631-7d24-4723-8119-5520b943851b\">\n",
              "    <div class=\"colab-df-container\">\n",
              "      <div>\n",
              "<style scoped>\n",
              "    .dataframe tbody tr th:only-of-type {\n",
              "        vertical-align: middle;\n",
              "    }\n",
              "\n",
              "    .dataframe tbody tr th {\n",
              "        vertical-align: top;\n",
              "    }\n",
              "\n",
              "    .dataframe thead th {\n",
              "        text-align: right;\n",
              "    }\n",
              "</style>\n",
              "<table border=\"1\" class=\"dataframe\">\n",
              "  <thead>\n",
              "    <tr style=\"text-align: right;\">\n",
              "      <th></th>\n",
              "      <th>total_revenue</th>\n",
              "    </tr>\n",
              "    <tr>\n",
              "      <th>region</th>\n",
              "      <th></th>\n",
              "    </tr>\n",
              "  </thead>\n",
              "  <tbody>\n",
              "    <tr>\n",
              "      <th>Другой</th>\n",
              "      <td>1550.0</td>\n",
              "    </tr>\n",
              "    <tr>\n",
              "      <th>Москва</th>\n",
              "      <td>1350.0</td>\n",
              "    </tr>\n",
              "  </tbody>\n",
              "</table>\n",
              "</div>\n",
              "      <button class=\"colab-df-convert\" onclick=\"convertToInteractive('df-0866e631-7d24-4723-8119-5520b943851b')\"\n",
              "              title=\"Convert this dataframe to an interactive table.\"\n",
              "              style=\"display:none;\">\n",
              "        \n",
              "  <svg xmlns=\"http://www.w3.org/2000/svg\" height=\"24px\"viewBox=\"0 0 24 24\"\n",
              "       width=\"24px\">\n",
              "    <path d=\"M0 0h24v24H0V0z\" fill=\"none\"/>\n",
              "    <path d=\"M18.56 5.44l.94 2.06.94-2.06 2.06-.94-2.06-.94-.94-2.06-.94 2.06-2.06.94zm-11 1L8.5 8.5l.94-2.06 2.06-.94-2.06-.94L8.5 2.5l-.94 2.06-2.06.94zm10 10l.94 2.06.94-2.06 2.06-.94-2.06-.94-.94-2.06-.94 2.06-2.06.94z\"/><path d=\"M17.41 7.96l-1.37-1.37c-.4-.4-.92-.59-1.43-.59-.52 0-1.04.2-1.43.59L10.3 9.45l-7.72 7.72c-.78.78-.78 2.05 0 2.83L4 21.41c.39.39.9.59 1.41.59.51 0 1.02-.2 1.41-.59l7.78-7.78 2.81-2.81c.8-.78.8-2.07 0-2.86zM5.41 20L4 18.59l7.72-7.72 1.47 1.35L5.41 20z\"/>\n",
              "  </svg>\n",
              "      </button>\n",
              "      \n",
              "  <style>\n",
              "    .colab-df-container {\n",
              "      display:flex;\n",
              "      flex-wrap:wrap;\n",
              "      gap: 12px;\n",
              "    }\n",
              "\n",
              "    .colab-df-convert {\n",
              "      background-color: #E8F0FE;\n",
              "      border: none;\n",
              "      border-radius: 50%;\n",
              "      cursor: pointer;\n",
              "      display: none;\n",
              "      fill: #1967D2;\n",
              "      height: 32px;\n",
              "      padding: 0 0 0 0;\n",
              "      width: 32px;\n",
              "    }\n",
              "\n",
              "    .colab-df-convert:hover {\n",
              "      background-color: #E2EBFA;\n",
              "      box-shadow: 0px 1px 2px rgba(60, 64, 67, 0.3), 0px 1px 3px 1px rgba(60, 64, 67, 0.15);\n",
              "      fill: #174EA6;\n",
              "    }\n",
              "\n",
              "    [theme=dark] .colab-df-convert {\n",
              "      background-color: #3B4455;\n",
              "      fill: #D2E3FC;\n",
              "    }\n",
              "\n",
              "    [theme=dark] .colab-df-convert:hover {\n",
              "      background-color: #434B5C;\n",
              "      box-shadow: 0px 1px 3px 1px rgba(0, 0, 0, 0.15);\n",
              "      filter: drop-shadow(0px 1px 2px rgba(0, 0, 0, 0.3));\n",
              "      fill: #FFFFFF;\n",
              "    }\n",
              "  </style>\n",
              "\n",
              "      <script>\n",
              "        const buttonEl =\n",
              "          document.querySelector('#df-0866e631-7d24-4723-8119-5520b943851b button.colab-df-convert');\n",
              "        buttonEl.style.display =\n",
              "          google.colab.kernel.accessAllowed ? 'block' : 'none';\n",
              "\n",
              "        async function convertToInteractive(key) {\n",
              "          const element = document.querySelector('#df-0866e631-7d24-4723-8119-5520b943851b');\n",
              "          const dataTable =\n",
              "            await google.colab.kernel.invokeFunction('convertToInteractive',\n",
              "                                                     [key], {});\n",
              "          if (!dataTable) return;\n",
              "\n",
              "          const docLinkHtml = 'Like what you see? Visit the ' +\n",
              "            '<a target=\"_blank\" href=https://colab.research.google.com/notebooks/data_table.ipynb>data table notebook</a>'\n",
              "            + ' to learn more about interactive tables.';\n",
              "          element.innerHTML = '';\n",
              "          dataTable['output_type'] = 'display_data';\n",
              "          await google.colab.output.renderOutput(dataTable, element);\n",
              "          const docLink = document.createElement('div');\n",
              "          docLink.innerHTML = docLinkHtml;\n",
              "          element.appendChild(docLink);\n",
              "        }\n",
              "      </script>\n",
              "    </div>\n",
              "  </div>\n",
              "  "
            ]
          },
          "metadata": {},
          "execution_count": 85
        }
      ],
      "source": [
        "#посмотрим на средние значения выборок\n",
        "\n",
        "pivot_data_final.pivot_table(index='region', values='total_revenue', aggfunc='median')"
      ]
    },
    {
      "cell_type": "code",
      "execution_count": 86,
      "metadata": {
        "colab": {
          "base_uri": "https://localhost:8080/"
        },
        "id": "Wwfl5uiBZcjB",
        "outputId": "a210fa87-002c-40f1-cb98-d07b5721d6ed"
      },
      "outputs": [
        {
          "output_type": "execute_result",
          "data": {
            "text/plain": [
              "Другой    3115\n",
              "Москва      99\n",
              "Name: region, dtype: int64"
            ]
          },
          "metadata": {},
          "execution_count": 86
        }
      ],
      "source": [
        "pivot_data_final['region'].value_counts()"
      ]
    },
    {
      "cell_type": "code",
      "execution_count": 87,
      "metadata": {
        "colab": {
          "base_uri": "https://localhost:8080/",
          "height": 206
        },
        "id": "SZL-yrBMZcjB",
        "outputId": "6b509474-8e70-45c3-c54b-f3b47cbca5bb"
      },
      "outputs": [
        {
          "output_type": "execute_result",
          "data": {
            "text/plain": [
              "                    user_id\n",
              "region tariff_name         \n",
              "Другой smart           2147\n",
              "       ultra            968\n",
              "Москва smart             82\n",
              "       ultra             17"
            ],
            "text/html": [
              "\n",
              "  <div id=\"df-c77a34a3-66ef-44c2-bbb9-06b719e1d3e9\">\n",
              "    <div class=\"colab-df-container\">\n",
              "      <div>\n",
              "<style scoped>\n",
              "    .dataframe tbody tr th:only-of-type {\n",
              "        vertical-align: middle;\n",
              "    }\n",
              "\n",
              "    .dataframe tbody tr th {\n",
              "        vertical-align: top;\n",
              "    }\n",
              "\n",
              "    .dataframe thead th {\n",
              "        text-align: right;\n",
              "    }\n",
              "</style>\n",
              "<table border=\"1\" class=\"dataframe\">\n",
              "  <thead>\n",
              "    <tr style=\"text-align: right;\">\n",
              "      <th></th>\n",
              "      <th></th>\n",
              "      <th>user_id</th>\n",
              "    </tr>\n",
              "    <tr>\n",
              "      <th>region</th>\n",
              "      <th>tariff_name</th>\n",
              "      <th></th>\n",
              "    </tr>\n",
              "  </thead>\n",
              "  <tbody>\n",
              "    <tr>\n",
              "      <th rowspan=\"2\" valign=\"top\">Другой</th>\n",
              "      <th>smart</th>\n",
              "      <td>2147</td>\n",
              "    </tr>\n",
              "    <tr>\n",
              "      <th>ultra</th>\n",
              "      <td>968</td>\n",
              "    </tr>\n",
              "    <tr>\n",
              "      <th rowspan=\"2\" valign=\"top\">Москва</th>\n",
              "      <th>smart</th>\n",
              "      <td>82</td>\n",
              "    </tr>\n",
              "    <tr>\n",
              "      <th>ultra</th>\n",
              "      <td>17</td>\n",
              "    </tr>\n",
              "  </tbody>\n",
              "</table>\n",
              "</div>\n",
              "      <button class=\"colab-df-convert\" onclick=\"convertToInteractive('df-c77a34a3-66ef-44c2-bbb9-06b719e1d3e9')\"\n",
              "              title=\"Convert this dataframe to an interactive table.\"\n",
              "              style=\"display:none;\">\n",
              "        \n",
              "  <svg xmlns=\"http://www.w3.org/2000/svg\" height=\"24px\"viewBox=\"0 0 24 24\"\n",
              "       width=\"24px\">\n",
              "    <path d=\"M0 0h24v24H0V0z\" fill=\"none\"/>\n",
              "    <path d=\"M18.56 5.44l.94 2.06.94-2.06 2.06-.94-2.06-.94-.94-2.06-.94 2.06-2.06.94zm-11 1L8.5 8.5l.94-2.06 2.06-.94-2.06-.94L8.5 2.5l-.94 2.06-2.06.94zm10 10l.94 2.06.94-2.06 2.06-.94-2.06-.94-.94-2.06-.94 2.06-2.06.94z\"/><path d=\"M17.41 7.96l-1.37-1.37c-.4-.4-.92-.59-1.43-.59-.52 0-1.04.2-1.43.59L10.3 9.45l-7.72 7.72c-.78.78-.78 2.05 0 2.83L4 21.41c.39.39.9.59 1.41.59.51 0 1.02-.2 1.41-.59l7.78-7.78 2.81-2.81c.8-.78.8-2.07 0-2.86zM5.41 20L4 18.59l7.72-7.72 1.47 1.35L5.41 20z\"/>\n",
              "  </svg>\n",
              "      </button>\n",
              "      \n",
              "  <style>\n",
              "    .colab-df-container {\n",
              "      display:flex;\n",
              "      flex-wrap:wrap;\n",
              "      gap: 12px;\n",
              "    }\n",
              "\n",
              "    .colab-df-convert {\n",
              "      background-color: #E8F0FE;\n",
              "      border: none;\n",
              "      border-radius: 50%;\n",
              "      cursor: pointer;\n",
              "      display: none;\n",
              "      fill: #1967D2;\n",
              "      height: 32px;\n",
              "      padding: 0 0 0 0;\n",
              "      width: 32px;\n",
              "    }\n",
              "\n",
              "    .colab-df-convert:hover {\n",
              "      background-color: #E2EBFA;\n",
              "      box-shadow: 0px 1px 2px rgba(60, 64, 67, 0.3), 0px 1px 3px 1px rgba(60, 64, 67, 0.15);\n",
              "      fill: #174EA6;\n",
              "    }\n",
              "\n",
              "    [theme=dark] .colab-df-convert {\n",
              "      background-color: #3B4455;\n",
              "      fill: #D2E3FC;\n",
              "    }\n",
              "\n",
              "    [theme=dark] .colab-df-convert:hover {\n",
              "      background-color: #434B5C;\n",
              "      box-shadow: 0px 1px 3px 1px rgba(0, 0, 0, 0.15);\n",
              "      filter: drop-shadow(0px 1px 2px rgba(0, 0, 0, 0.3));\n",
              "      fill: #FFFFFF;\n",
              "    }\n",
              "  </style>\n",
              "\n",
              "      <script>\n",
              "        const buttonEl =\n",
              "          document.querySelector('#df-c77a34a3-66ef-44c2-bbb9-06b719e1d3e9 button.colab-df-convert');\n",
              "        buttonEl.style.display =\n",
              "          google.colab.kernel.accessAllowed ? 'block' : 'none';\n",
              "\n",
              "        async function convertToInteractive(key) {\n",
              "          const element = document.querySelector('#df-c77a34a3-66ef-44c2-bbb9-06b719e1d3e9');\n",
              "          const dataTable =\n",
              "            await google.colab.kernel.invokeFunction('convertToInteractive',\n",
              "                                                     [key], {});\n",
              "          if (!dataTable) return;\n",
              "\n",
              "          const docLinkHtml = 'Like what you see? Visit the ' +\n",
              "            '<a target=\"_blank\" href=https://colab.research.google.com/notebooks/data_table.ipynb>data table notebook</a>'\n",
              "            + ' to learn more about interactive tables.';\n",
              "          element.innerHTML = '';\n",
              "          dataTable['output_type'] = 'display_data';\n",
              "          await google.colab.output.renderOutput(dataTable, element);\n",
              "          const docLink = document.createElement('div');\n",
              "          docLink.innerHTML = docLinkHtml;\n",
              "          element.appendChild(docLink);\n",
              "        }\n",
              "      </script>\n",
              "    </div>\n",
              "  </div>\n",
              "  "
            ]
          },
          "metadata": {},
          "execution_count": 87
        }
      ],
      "source": [
        "pivot_data_final.pivot_table(index=['region', 'tariff_name'], values='user_id', aggfunc='count')"
      ]
    },
    {
      "cell_type": "markdown",
      "metadata": {
        "id": "dMg993FxZcjB"
      },
      "source": [
        "**Комментарий:** \n",
        "<br>У нас нет достаточных оснований, чтобы опровергнуть нудевую гипотезу, хотя мы и видим, что среднее значение по Москве немного меньше, чем по остальным регионам. Вероятно небольшая разница между Москвой и регионами обусловлена тем, что в Москве люди привыкли много звонить и пользоваться интернетом, поэтому даже если они используют тариф \"Смарт\", то вероятнее всего переплачивают за него. "
      ]
    },
    {
      "cell_type": "markdown",
      "metadata": {
        "id": "7Jp42PKCZcjB"
      },
      "source": [
        "## Общий вывод"
      ]
    },
    {
      "cell_type": "markdown",
      "metadata": {
        "id": "AIIkyPZrZcjB"
      },
      "source": [
        "Можно сделать следующие выводы:\n",
        "\n",
        "- Пользователей тарифа \"Смарт\" больше, чем пользователей \"Ультра\"\n",
        "- Разброс данных по тарифу \"Ультра\" больше, думаю, что это связано с более широкими тарифными условиями. Пользователи могут более свободно пользоваться интернетом, дольше разговаривать по телефону и больше отправлять сообщений. \n",
        "- Абоненты, которые подключили тариф \"Смарт\" в конце месяца переплачивают гораздо чаще, чем пользователи тарифа \"Ультра\". Это связано, конечно, с ограниченными тарифными лимитами - слишком мало минут, мегабайтов и смс.\n",
        "- Средняя выручка по тарифу \"Ультра\" выше, чем по тарифу \"Смарт\", но и разница в стоимости у них большая. \n",
        "- В Москве не так много абонентов \"Мегалайна\", из них большая часть пользуется \"Смартом\".\n",
        "- Не смотря на то, что в Москве не очень много абонентов, средняя выручка от других регионов практически не отличается. \n",
        "- В среднем пользователи тарифа \"Смарт\" переплачивают около 400р. ежемесячно."
      ]
    }
  ],
  "metadata": {
    "ExecuteTimeLog": [
      {
        "duration": 62,
        "start_time": "2021-11-13T21:59:43.676Z"
      },
      {
        "duration": 61,
        "start_time": "2021-11-13T22:09:16.138Z"
      },
      {
        "duration": 64,
        "start_time": "2021-11-13T22:09:23.766Z"
      },
      {
        "duration": 85,
        "start_time": "2021-11-13T22:09:29.183Z"
      },
      {
        "duration": 63,
        "start_time": "2021-11-13T22:09:56.272Z"
      },
      {
        "duration": 1066,
        "start_time": "2021-11-13T22:17:50.176Z"
      },
      {
        "duration": 388,
        "start_time": "2021-11-13T22:22:07.291Z"
      },
      {
        "duration": 13,
        "start_time": "2021-11-13T22:26:51.741Z"
      },
      {
        "duration": 10,
        "start_time": "2021-11-13T22:27:19.700Z"
      },
      {
        "duration": 719,
        "start_time": "2021-11-13T22:27:41.353Z"
      },
      {
        "duration": 9,
        "start_time": "2021-11-13T22:27:44.013Z"
      },
      {
        "duration": 400,
        "start_time": "2021-11-13T22:27:55.479Z"
      },
      {
        "duration": 6,
        "start_time": "2021-11-13T22:27:57.464Z"
      },
      {
        "duration": 402,
        "start_time": "2021-11-13T22:28:34.267Z"
      },
      {
        "duration": 7,
        "start_time": "2021-11-13T22:28:36.321Z"
      },
      {
        "duration": 391,
        "start_time": "2021-11-13T22:28:54.632Z"
      },
      {
        "duration": 6,
        "start_time": "2021-11-13T22:28:56.524Z"
      },
      {
        "duration": 408,
        "start_time": "2021-11-13T22:29:18.503Z"
      },
      {
        "duration": 6,
        "start_time": "2021-11-13T22:29:20.716Z"
      },
      {
        "duration": 746,
        "start_time": "2021-11-13T22:29:35.981Z"
      },
      {
        "duration": 374,
        "start_time": "2021-11-13T22:29:41.714Z"
      },
      {
        "duration": 6,
        "start_time": "2021-11-13T22:29:43.552Z"
      },
      {
        "duration": 367,
        "start_time": "2021-11-13T22:31:48.681Z"
      },
      {
        "duration": 6,
        "start_time": "2021-11-13T22:31:51.155Z"
      },
      {
        "duration": 358,
        "start_time": "2021-11-13T22:33:40.202Z"
      },
      {
        "duration": 10,
        "start_time": "2021-11-13T22:33:42.630Z"
      },
      {
        "duration": 388,
        "start_time": "2021-11-13T22:33:59.304Z"
      },
      {
        "duration": 21,
        "start_time": "2021-11-13T22:34:02.567Z"
      },
      {
        "duration": 19,
        "start_time": "2021-11-13T22:38:05.784Z"
      },
      {
        "duration": 19,
        "start_time": "2021-11-13T22:38:17.784Z"
      },
      {
        "duration": 8,
        "start_time": "2021-11-13T22:38:36.098Z"
      },
      {
        "duration": 15,
        "start_time": "2021-11-13T22:46:06.904Z"
      },
      {
        "duration": 7,
        "start_time": "2021-11-13T22:47:03.364Z"
      },
      {
        "duration": 9,
        "start_time": "2021-11-13T22:47:10.350Z"
      },
      {
        "duration": 7,
        "start_time": "2021-11-13T22:47:16.127Z"
      },
      {
        "duration": 427,
        "start_time": "2021-11-14T11:52:34.745Z"
      },
      {
        "duration": 1795,
        "start_time": "2021-11-14T11:52:41.317Z"
      },
      {
        "duration": 560,
        "start_time": "2021-11-14T11:52:43.114Z"
      },
      {
        "duration": 29,
        "start_time": "2021-11-14T11:52:43.678Z"
      },
      {
        "duration": 16,
        "start_time": "2021-11-14T11:52:43.710Z"
      },
      {
        "duration": 24,
        "start_time": "2021-11-14T11:52:43.728Z"
      },
      {
        "duration": 12,
        "start_time": "2021-11-14T11:52:43.755Z"
      },
      {
        "duration": 56,
        "start_time": "2021-11-14T11:52:43.770Z"
      },
      {
        "duration": 14,
        "start_time": "2021-11-14T11:52:43.829Z"
      },
      {
        "duration": 12,
        "start_time": "2021-11-14T11:52:43.848Z"
      },
      {
        "duration": 16,
        "start_time": "2021-11-14T11:53:16.759Z"
      },
      {
        "duration": 17,
        "start_time": "2021-11-14T11:53:24.112Z"
      },
      {
        "duration": 9,
        "start_time": "2021-11-14T12:06:36.796Z"
      },
      {
        "duration": 16,
        "start_time": "2021-11-14T12:08:38.184Z"
      },
      {
        "duration": 358,
        "start_time": "2021-11-14T12:19:28.784Z"
      },
      {
        "duration": 42,
        "start_time": "2021-11-14T12:19:42.912Z"
      },
      {
        "duration": 27,
        "start_time": "2021-11-14T12:20:02.044Z"
      },
      {
        "duration": 44,
        "start_time": "2021-11-14T12:22:50.530Z"
      },
      {
        "duration": 312,
        "start_time": "2021-11-14T12:24:35.082Z"
      },
      {
        "duration": 20,
        "start_time": "2021-11-14T12:24:44.385Z"
      },
      {
        "duration": 12,
        "start_time": "2021-11-14T12:26:23.922Z"
      },
      {
        "duration": 42,
        "start_time": "2021-11-14T12:32:06.779Z"
      },
      {
        "duration": 9768,
        "start_time": "2021-11-14T12:33:17.467Z"
      },
      {
        "duration": 12,
        "start_time": "2021-11-14T12:33:42.219Z"
      },
      {
        "duration": 20,
        "start_time": "2021-11-14T12:42:08.268Z"
      },
      {
        "duration": 12,
        "start_time": "2021-11-14T12:42:28.772Z"
      },
      {
        "duration": 12,
        "start_time": "2021-11-14T12:42:41.385Z"
      },
      {
        "duration": 26,
        "start_time": "2021-11-14T12:44:59.427Z"
      },
      {
        "duration": 31,
        "start_time": "2021-11-14T12:45:11.813Z"
      },
      {
        "duration": 15,
        "start_time": "2021-11-14T12:47:19.377Z"
      },
      {
        "duration": 25,
        "start_time": "2021-11-14T12:47:55.485Z"
      },
      {
        "duration": 30,
        "start_time": "2021-11-14T12:49:50.653Z"
      },
      {
        "duration": 299,
        "start_time": "2021-11-14T12:50:22.046Z"
      },
      {
        "duration": 18,
        "start_time": "2021-11-14T12:50:40.492Z"
      },
      {
        "duration": 21,
        "start_time": "2021-11-14T12:50:55.987Z"
      },
      {
        "duration": 13,
        "start_time": "2021-11-14T12:51:20.882Z"
      },
      {
        "duration": 11,
        "start_time": "2021-11-14T12:52:56.786Z"
      },
      {
        "duration": 11,
        "start_time": "2021-11-14T12:53:19.947Z"
      },
      {
        "duration": 7747,
        "start_time": "2021-11-14T12:58:02.079Z"
      },
      {
        "duration": 28,
        "start_time": "2021-11-14T12:58:29.485Z"
      },
      {
        "duration": 7,
        "start_time": "2021-11-14T12:59:52.114Z"
      },
      {
        "duration": 8,
        "start_time": "2021-11-14T13:00:02.963Z"
      },
      {
        "duration": 34,
        "start_time": "2021-11-14T13:03:18.048Z"
      },
      {
        "duration": 10,
        "start_time": "2021-11-14T13:06:23.679Z"
      },
      {
        "duration": 6,
        "start_time": "2021-11-14T13:58:12.869Z"
      },
      {
        "duration": 17,
        "start_time": "2021-11-14T13:58:26.986Z"
      },
      {
        "duration": 18,
        "start_time": "2021-11-14T13:59:09.498Z"
      },
      {
        "duration": 378,
        "start_time": "2021-11-14T14:00:54.887Z"
      },
      {
        "duration": 296,
        "start_time": "2021-11-14T14:02:39.491Z"
      },
      {
        "duration": 4,
        "start_time": "2021-11-14T14:03:01.721Z"
      },
      {
        "duration": 358,
        "start_time": "2021-11-14T14:03:06.296Z"
      },
      {
        "duration": 284,
        "start_time": "2021-11-14T14:03:33.092Z"
      },
      {
        "duration": 17,
        "start_time": "2021-11-14T14:05:05.326Z"
      },
      {
        "duration": 44,
        "start_time": "2021-11-14T14:06:00.541Z"
      },
      {
        "duration": 43,
        "start_time": "2021-11-14T14:06:34.849Z"
      },
      {
        "duration": 19,
        "start_time": "2021-11-14T14:06:51.271Z"
      },
      {
        "duration": 4,
        "start_time": "2021-11-14T14:07:08.333Z"
      },
      {
        "duration": 662,
        "start_time": "2021-11-14T14:07:08.346Z"
      },
      {
        "duration": 42,
        "start_time": "2021-11-14T14:07:09.012Z"
      },
      {
        "duration": 15,
        "start_time": "2021-11-14T14:07:09.058Z"
      },
      {
        "duration": 56,
        "start_time": "2021-11-14T14:07:09.077Z"
      },
      {
        "duration": 16,
        "start_time": "2021-11-14T14:07:09.136Z"
      },
      {
        "duration": 34,
        "start_time": "2021-11-14T14:07:09.155Z"
      },
      {
        "duration": 38,
        "start_time": "2021-11-14T14:07:09.192Z"
      },
      {
        "duration": 11,
        "start_time": "2021-11-14T14:07:09.233Z"
      },
      {
        "duration": 16,
        "start_time": "2021-11-14T14:07:09.249Z"
      },
      {
        "duration": 9,
        "start_time": "2021-11-14T14:07:09.267Z"
      },
      {
        "duration": 62,
        "start_time": "2021-11-14T14:07:09.279Z"
      },
      {
        "duration": 56,
        "start_time": "2021-11-14T14:07:09.344Z"
      },
      {
        "duration": 20,
        "start_time": "2021-11-14T14:07:09.403Z"
      },
      {
        "duration": 45,
        "start_time": "2021-11-14T14:07:09.427Z"
      },
      {
        "duration": 71,
        "start_time": "2021-11-14T14:07:09.475Z"
      },
      {
        "duration": 11,
        "start_time": "2021-11-14T14:07:09.548Z"
      },
      {
        "duration": 71,
        "start_time": "2021-11-14T14:07:09.562Z"
      },
      {
        "duration": 13,
        "start_time": "2021-11-14T14:07:09.636Z"
      },
      {
        "duration": 25,
        "start_time": "2021-11-14T14:07:09.652Z"
      },
      {
        "duration": 73,
        "start_time": "2021-11-14T14:07:09.680Z"
      },
      {
        "duration": 11,
        "start_time": "2021-11-14T14:07:09.756Z"
      },
      {
        "duration": 67,
        "start_time": "2021-11-14T14:07:09.770Z"
      },
      {
        "duration": 12,
        "start_time": "2021-11-14T14:07:09.840Z"
      },
      {
        "duration": 20,
        "start_time": "2021-11-14T14:07:29.289Z"
      },
      {
        "duration": 21,
        "start_time": "2021-11-14T14:08:30.411Z"
      },
      {
        "duration": 28,
        "start_time": "2021-11-14T14:16:32.985Z"
      },
      {
        "duration": 24,
        "start_time": "2021-11-14T14:17:24.016Z"
      },
      {
        "duration": 5,
        "start_time": "2021-11-14T14:17:36.251Z"
      },
      {
        "duration": 547,
        "start_time": "2021-11-14T14:17:36.259Z"
      },
      {
        "duration": 27,
        "start_time": "2021-11-14T14:17:36.809Z"
      },
      {
        "duration": 12,
        "start_time": "2021-11-14T14:17:36.839Z"
      },
      {
        "duration": 24,
        "start_time": "2021-11-14T14:17:36.853Z"
      },
      {
        "duration": 44,
        "start_time": "2021-11-14T14:17:36.880Z"
      },
      {
        "duration": 22,
        "start_time": "2021-11-14T14:17:36.926Z"
      },
      {
        "duration": 10,
        "start_time": "2021-11-14T14:17:36.952Z"
      },
      {
        "duration": 9,
        "start_time": "2021-11-14T14:17:36.965Z"
      },
      {
        "duration": 50,
        "start_time": "2021-11-14T14:17:36.976Z"
      },
      {
        "duration": 13,
        "start_time": "2021-11-14T14:17:37.029Z"
      },
      {
        "duration": 15,
        "start_time": "2021-11-14T14:17:37.045Z"
      },
      {
        "duration": 86,
        "start_time": "2021-11-14T14:17:37.062Z"
      },
      {
        "duration": 18,
        "start_time": "2021-11-14T14:17:37.151Z"
      },
      {
        "duration": 13,
        "start_time": "2021-11-14T14:17:37.171Z"
      },
      {
        "duration": 73,
        "start_time": "2021-11-14T14:17:37.187Z"
      },
      {
        "duration": 37,
        "start_time": "2021-11-14T14:17:37.263Z"
      },
      {
        "duration": 12,
        "start_time": "2021-11-14T14:17:37.322Z"
      },
      {
        "duration": 43,
        "start_time": "2021-11-14T14:17:37.337Z"
      },
      {
        "duration": 10,
        "start_time": "2021-11-14T14:17:37.382Z"
      },
      {
        "duration": 22,
        "start_time": "2021-11-14T14:17:37.423Z"
      },
      {
        "duration": 30,
        "start_time": "2021-11-14T14:17:37.447Z"
      },
      {
        "duration": 47,
        "start_time": "2021-11-14T14:17:37.483Z"
      },
      {
        "duration": 35,
        "start_time": "2021-11-14T14:17:37.533Z"
      },
      {
        "duration": 12,
        "start_time": "2021-11-14T14:17:37.571Z"
      },
      {
        "duration": 27,
        "start_time": "2021-11-14T14:17:53.124Z"
      },
      {
        "duration": 36,
        "start_time": "2021-11-14T14:18:33.363Z"
      },
      {
        "duration": 5,
        "start_time": "2021-11-14T14:18:36.981Z"
      },
      {
        "duration": 551,
        "start_time": "2021-11-14T14:18:36.990Z"
      },
      {
        "duration": 27,
        "start_time": "2021-11-14T14:18:37.544Z"
      },
      {
        "duration": 13,
        "start_time": "2021-11-14T14:18:37.574Z"
      },
      {
        "duration": 40,
        "start_time": "2021-11-14T14:18:37.589Z"
      },
      {
        "duration": 12,
        "start_time": "2021-11-14T14:18:37.631Z"
      },
      {
        "duration": 38,
        "start_time": "2021-11-14T14:18:37.646Z"
      },
      {
        "duration": 11,
        "start_time": "2021-11-14T14:18:37.688Z"
      },
      {
        "duration": 25,
        "start_time": "2021-11-14T14:18:37.702Z"
      },
      {
        "duration": 15,
        "start_time": "2021-11-14T14:18:37.729Z"
      },
      {
        "duration": 10,
        "start_time": "2021-11-14T14:18:37.747Z"
      },
      {
        "duration": 79,
        "start_time": "2021-11-14T14:18:37.760Z"
      },
      {
        "duration": 55,
        "start_time": "2021-11-14T14:18:37.842Z"
      },
      {
        "duration": 31,
        "start_time": "2021-11-14T14:18:37.900Z"
      },
      {
        "duration": 5,
        "start_time": "2021-11-14T14:23:36.687Z"
      },
      {
        "duration": 14,
        "start_time": "2021-11-14T14:23:48.472Z"
      },
      {
        "duration": 16,
        "start_time": "2021-11-14T14:24:21.671Z"
      },
      {
        "duration": 15,
        "start_time": "2021-11-14T14:28:05.277Z"
      },
      {
        "duration": 17,
        "start_time": "2021-11-14T14:35:55.577Z"
      },
      {
        "duration": 15,
        "start_time": "2021-11-14T14:36:00.121Z"
      },
      {
        "duration": 9,
        "start_time": "2021-11-14T14:39:15.497Z"
      },
      {
        "duration": 15,
        "start_time": "2021-11-14T14:39:55.539Z"
      },
      {
        "duration": 344,
        "start_time": "2021-11-14T15:00:37.272Z"
      },
      {
        "duration": 4,
        "start_time": "2021-11-14T15:01:02.446Z"
      },
      {
        "duration": 555,
        "start_time": "2021-11-14T15:01:02.453Z"
      },
      {
        "duration": 29,
        "start_time": "2021-11-14T15:01:03.011Z"
      },
      {
        "duration": 13,
        "start_time": "2021-11-14T15:01:03.043Z"
      },
      {
        "duration": 37,
        "start_time": "2021-11-14T15:01:03.059Z"
      },
      {
        "duration": 34,
        "start_time": "2021-11-14T15:01:03.098Z"
      },
      {
        "duration": 35,
        "start_time": "2021-11-14T15:01:03.135Z"
      },
      {
        "duration": 12,
        "start_time": "2021-11-14T15:01:03.174Z"
      },
      {
        "duration": 44,
        "start_time": "2021-11-14T15:01:03.189Z"
      },
      {
        "duration": 15,
        "start_time": "2021-11-14T15:01:03.235Z"
      },
      {
        "duration": 12,
        "start_time": "2021-11-14T15:01:03.254Z"
      },
      {
        "duration": 17,
        "start_time": "2021-11-14T15:01:03.268Z"
      },
      {
        "duration": 91,
        "start_time": "2021-11-14T15:01:03.288Z"
      },
      {
        "duration": 40,
        "start_time": "2021-11-14T15:01:03.382Z"
      },
      {
        "duration": 29,
        "start_time": "2021-11-14T15:01:03.425Z"
      },
      {
        "duration": 65,
        "start_time": "2021-11-14T15:01:03.457Z"
      },
      {
        "duration": 15,
        "start_time": "2021-11-14T15:01:03.525Z"
      },
      {
        "duration": 35,
        "start_time": "2021-11-14T15:01:03.542Z"
      },
      {
        "duration": 44,
        "start_time": "2021-11-14T15:01:03.579Z"
      },
      {
        "duration": 44,
        "start_time": "2021-11-14T15:01:03.626Z"
      },
      {
        "duration": 10,
        "start_time": "2021-11-14T15:01:03.672Z"
      },
      {
        "duration": 52,
        "start_time": "2021-11-14T15:01:03.685Z"
      },
      {
        "duration": 30,
        "start_time": "2021-11-14T15:01:03.741Z"
      },
      {
        "duration": 8,
        "start_time": "2021-11-14T15:01:03.774Z"
      },
      {
        "duration": 61,
        "start_time": "2021-11-14T15:01:03.785Z"
      },
      {
        "duration": 9,
        "start_time": "2021-11-14T15:01:03.849Z"
      },
      {
        "duration": 440,
        "start_time": "2021-11-14T15:02:28.366Z"
      },
      {
        "duration": 22,
        "start_time": "2021-11-14T15:02:41.355Z"
      },
      {
        "duration": 10,
        "start_time": "2021-11-14T15:02:52.892Z"
      },
      {
        "duration": 11,
        "start_time": "2021-11-14T15:03:03.049Z"
      },
      {
        "duration": 87,
        "start_time": "2021-11-14T15:38:50.740Z"
      },
      {
        "duration": 107,
        "start_time": "2021-11-14T15:39:00.435Z"
      },
      {
        "duration": 170,
        "start_time": "2021-11-14T15:39:46.124Z"
      },
      {
        "duration": 128,
        "start_time": "2021-11-14T15:40:15.162Z"
      },
      {
        "duration": 193,
        "start_time": "2021-11-14T15:40:19.273Z"
      },
      {
        "duration": 3,
        "start_time": "2021-11-14T15:41:59.501Z"
      },
      {
        "duration": 3,
        "start_time": "2021-11-14T15:42:01.194Z"
      },
      {
        "duration": 3,
        "start_time": "2021-11-14T15:42:43.178Z"
      },
      {
        "duration": 322,
        "start_time": "2021-11-14T15:43:48.558Z"
      },
      {
        "duration": 328,
        "start_time": "2021-11-14T15:44:40.945Z"
      },
      {
        "duration": 317,
        "start_time": "2021-11-14T15:45:02.029Z"
      },
      {
        "duration": 349,
        "start_time": "2021-11-14T16:19:00.293Z"
      },
      {
        "duration": 299,
        "start_time": "2021-11-14T16:19:54.064Z"
      },
      {
        "duration": 293,
        "start_time": "2021-11-14T16:20:04.638Z"
      },
      {
        "duration": 351,
        "start_time": "2021-11-14T16:24:11.217Z"
      },
      {
        "duration": 320,
        "start_time": "2021-11-14T16:24:26.721Z"
      },
      {
        "duration": 169,
        "start_time": "2021-11-14T16:24:36.352Z"
      },
      {
        "duration": 157,
        "start_time": "2021-11-14T16:24:49.813Z"
      },
      {
        "duration": 1480,
        "start_time": "2021-11-14T16:25:26.014Z"
      },
      {
        "duration": 645,
        "start_time": "2021-11-14T16:25:27.498Z"
      },
      {
        "duration": 30,
        "start_time": "2021-11-14T16:25:28.146Z"
      },
      {
        "duration": 16,
        "start_time": "2021-11-14T16:25:28.180Z"
      },
      {
        "duration": 34,
        "start_time": "2021-11-14T16:25:28.199Z"
      },
      {
        "duration": 12,
        "start_time": "2021-11-14T16:25:28.236Z"
      },
      {
        "duration": 23,
        "start_time": "2021-11-14T16:25:28.251Z"
      },
      {
        "duration": 11,
        "start_time": "2021-11-14T16:25:28.278Z"
      },
      {
        "duration": 11,
        "start_time": "2021-11-14T16:25:28.325Z"
      },
      {
        "duration": 15,
        "start_time": "2021-11-14T16:25:28.339Z"
      },
      {
        "duration": 11,
        "start_time": "2021-11-14T16:25:28.357Z"
      },
      {
        "duration": 72,
        "start_time": "2021-11-14T16:25:28.371Z"
      },
      {
        "duration": 111,
        "start_time": "2021-11-14T16:25:28.446Z"
      },
      {
        "duration": 30,
        "start_time": "2021-11-14T16:25:28.560Z"
      },
      {
        "duration": 65,
        "start_time": "2021-11-14T16:25:28.593Z"
      },
      {
        "duration": 81,
        "start_time": "2021-11-14T16:25:28.661Z"
      },
      {
        "duration": 22,
        "start_time": "2021-11-14T16:25:28.745Z"
      },
      {
        "duration": 57,
        "start_time": "2021-11-14T16:25:28.770Z"
      },
      {
        "duration": 15,
        "start_time": "2021-11-14T16:25:28.830Z"
      },
      {
        "duration": 55,
        "start_time": "2021-11-14T16:25:28.847Z"
      },
      {
        "duration": 12,
        "start_time": "2021-11-14T16:25:28.923Z"
      },
      {
        "duration": 27,
        "start_time": "2021-11-14T16:25:28.938Z"
      },
      {
        "duration": 70,
        "start_time": "2021-11-14T16:25:28.971Z"
      },
      {
        "duration": 10,
        "start_time": "2021-11-14T16:25:29.045Z"
      },
      {
        "duration": 34,
        "start_time": "2021-11-14T16:25:29.058Z"
      },
      {
        "duration": 20,
        "start_time": "2021-11-14T16:25:29.124Z"
      },
      {
        "duration": 223,
        "start_time": "2021-11-14T16:25:29.147Z"
      },
      {
        "duration": 350,
        "start_time": "2021-11-14T16:30:01.777Z"
      },
      {
        "duration": 1463,
        "start_time": "2021-11-14T16:30:11.235Z"
      },
      {
        "duration": 520,
        "start_time": "2021-11-14T16:30:12.700Z"
      },
      {
        "duration": 28,
        "start_time": "2021-11-14T16:30:13.223Z"
      },
      {
        "duration": 16,
        "start_time": "2021-11-14T16:30:13.254Z"
      },
      {
        "duration": 24,
        "start_time": "2021-11-14T16:30:13.272Z"
      },
      {
        "duration": 12,
        "start_time": "2021-11-14T16:30:13.322Z"
      },
      {
        "duration": 30,
        "start_time": "2021-11-14T16:30:13.336Z"
      },
      {
        "duration": 17,
        "start_time": "2021-11-14T16:30:13.370Z"
      },
      {
        "duration": 20,
        "start_time": "2021-11-14T16:30:13.389Z"
      },
      {
        "duration": 16,
        "start_time": "2021-11-14T16:30:13.423Z"
      },
      {
        "duration": 13,
        "start_time": "2021-11-14T16:30:13.441Z"
      },
      {
        "duration": 24,
        "start_time": "2021-11-14T16:30:13.457Z"
      },
      {
        "duration": 78,
        "start_time": "2021-11-14T16:30:13.483Z"
      },
      {
        "duration": 20,
        "start_time": "2021-11-14T16:30:13.564Z"
      },
      {
        "duration": 54,
        "start_time": "2021-11-14T16:30:13.586Z"
      },
      {
        "duration": 47,
        "start_time": "2021-11-14T16:30:13.643Z"
      },
      {
        "duration": 32,
        "start_time": "2021-11-14T16:30:13.692Z"
      },
      {
        "duration": 37,
        "start_time": "2021-11-14T16:30:13.726Z"
      },
      {
        "duration": 14,
        "start_time": "2021-11-14T16:30:13.766Z"
      },
      {
        "duration": 72,
        "start_time": "2021-11-14T16:30:13.782Z"
      },
      {
        "duration": 10,
        "start_time": "2021-11-14T16:30:13.856Z"
      },
      {
        "duration": 29,
        "start_time": "2021-11-14T16:30:13.868Z"
      },
      {
        "duration": 48,
        "start_time": "2021-11-14T16:30:13.902Z"
      },
      {
        "duration": 8,
        "start_time": "2021-11-14T16:30:13.952Z"
      },
      {
        "duration": 63,
        "start_time": "2021-11-14T16:30:13.963Z"
      },
      {
        "duration": 17,
        "start_time": "2021-11-14T16:30:14.029Z"
      },
      {
        "duration": 369,
        "start_time": "2021-11-14T16:30:14.049Z"
      },
      {
        "duration": 187,
        "start_time": "2021-11-14T16:30:14.234Z"
      },
      {
        "duration": 4,
        "start_time": "2021-11-14T16:47:05.107Z"
      },
      {
        "duration": 1538,
        "start_time": "2021-11-14T16:47:11.566Z"
      },
      {
        "duration": 527,
        "start_time": "2021-11-14T16:47:13.107Z"
      },
      {
        "duration": 29,
        "start_time": "2021-11-14T16:47:13.637Z"
      },
      {
        "duration": 17,
        "start_time": "2021-11-14T16:47:13.670Z"
      },
      {
        "duration": 48,
        "start_time": "2021-11-14T16:47:13.690Z"
      },
      {
        "duration": 13,
        "start_time": "2021-11-14T16:47:13.741Z"
      },
      {
        "duration": 19,
        "start_time": "2021-11-14T16:47:13.756Z"
      },
      {
        "duration": 10,
        "start_time": "2021-11-14T16:47:13.778Z"
      },
      {
        "duration": 9,
        "start_time": "2021-11-14T16:47:13.825Z"
      },
      {
        "duration": 13,
        "start_time": "2021-11-14T16:47:13.838Z"
      },
      {
        "duration": 10,
        "start_time": "2021-11-14T16:47:13.853Z"
      },
      {
        "duration": 17,
        "start_time": "2021-11-14T16:47:13.865Z"
      },
      {
        "duration": 59,
        "start_time": "2021-11-14T16:47:13.923Z"
      },
      {
        "duration": 42,
        "start_time": "2021-11-14T16:47:13.984Z"
      },
      {
        "duration": 31,
        "start_time": "2021-11-14T16:47:14.029Z"
      },
      {
        "duration": 62,
        "start_time": "2021-11-14T16:47:14.063Z"
      },
      {
        "duration": 15,
        "start_time": "2021-11-14T16:47:14.127Z"
      },
      {
        "duration": 35,
        "start_time": "2021-11-14T16:47:14.145Z"
      },
      {
        "duration": 46,
        "start_time": "2021-11-14T16:47:14.182Z"
      },
      {
        "duration": 44,
        "start_time": "2021-11-14T16:47:14.230Z"
      },
      {
        "duration": 9,
        "start_time": "2021-11-14T16:47:14.276Z"
      },
      {
        "duration": 48,
        "start_time": "2021-11-14T16:47:14.288Z"
      },
      {
        "duration": 28,
        "start_time": "2021-11-14T16:47:14.339Z"
      },
      {
        "duration": 8,
        "start_time": "2021-11-14T16:47:14.370Z"
      },
      {
        "duration": 63,
        "start_time": "2021-11-14T16:47:14.381Z"
      },
      {
        "duration": 19,
        "start_time": "2021-11-14T16:47:14.446Z"
      },
      {
        "duration": 4,
        "start_time": "2021-11-14T16:47:14.470Z"
      },
      {
        "duration": 6,
        "start_time": "2021-11-14T16:47:14.476Z"
      },
      {
        "duration": 123,
        "start_time": "2021-11-14T16:57:38.932Z"
      },
      {
        "duration": 141,
        "start_time": "2021-11-14T16:58:25.326Z"
      },
      {
        "duration": 110,
        "start_time": "2021-11-14T16:58:35.487Z"
      },
      {
        "duration": 371,
        "start_time": "2021-11-14T16:59:10.998Z"
      },
      {
        "duration": 414,
        "start_time": "2021-11-14T17:00:19.246Z"
      },
      {
        "duration": 53,
        "start_time": "2021-11-14T17:02:15.255Z"
      },
      {
        "duration": 91,
        "start_time": "2021-11-14T17:02:30.402Z"
      },
      {
        "duration": 150,
        "start_time": "2021-11-14T17:03:12.663Z"
      },
      {
        "duration": 370,
        "start_time": "2021-11-14T17:03:38.492Z"
      },
      {
        "duration": 142,
        "start_time": "2021-11-14T17:03:42.377Z"
      },
      {
        "duration": 99,
        "start_time": "2021-11-14T17:04:07.091Z"
      },
      {
        "duration": 92,
        "start_time": "2021-11-14T17:04:23.193Z"
      },
      {
        "duration": 118,
        "start_time": "2021-11-14T17:04:48.769Z"
      },
      {
        "duration": 9,
        "start_time": "2021-11-14T17:05:27.189Z"
      },
      {
        "duration": 1710,
        "start_time": "2021-11-14T17:13:01.544Z"
      },
      {
        "duration": 525,
        "start_time": "2021-11-14T17:13:03.257Z"
      },
      {
        "duration": 28,
        "start_time": "2021-11-14T17:13:03.786Z"
      },
      {
        "duration": 15,
        "start_time": "2021-11-14T17:13:03.817Z"
      },
      {
        "duration": 23,
        "start_time": "2021-11-14T17:13:03.835Z"
      },
      {
        "duration": 12,
        "start_time": "2021-11-14T17:13:03.861Z"
      },
      {
        "duration": 59,
        "start_time": "2021-11-14T17:13:03.876Z"
      },
      {
        "duration": 16,
        "start_time": "2021-11-14T17:13:03.938Z"
      },
      {
        "duration": 17,
        "start_time": "2021-11-14T17:13:03.959Z"
      },
      {
        "duration": 22,
        "start_time": "2021-11-14T17:13:03.979Z"
      },
      {
        "duration": 20,
        "start_time": "2021-11-14T17:13:04.003Z"
      },
      {
        "duration": 24,
        "start_time": "2021-11-14T17:13:04.026Z"
      },
      {
        "duration": 78,
        "start_time": "2021-11-14T17:13:04.053Z"
      },
      {
        "duration": 20,
        "start_time": "2021-11-14T17:13:04.133Z"
      },
      {
        "duration": 32,
        "start_time": "2021-11-14T17:13:04.155Z"
      },
      {
        "duration": 65,
        "start_time": "2021-11-14T17:13:04.189Z"
      },
      {
        "duration": 15,
        "start_time": "2021-11-14T17:13:04.257Z"
      },
      {
        "duration": 59,
        "start_time": "2021-11-14T17:13:04.274Z"
      },
      {
        "duration": 14,
        "start_time": "2021-11-14T17:13:04.335Z"
      },
      {
        "duration": 43,
        "start_time": "2021-11-14T17:13:04.352Z"
      },
      {
        "duration": 11,
        "start_time": "2021-11-14T17:13:04.422Z"
      },
      {
        "duration": 19,
        "start_time": "2021-11-14T17:13:04.436Z"
      },
      {
        "duration": 28,
        "start_time": "2021-11-14T17:13:04.457Z"
      },
      {
        "duration": 41,
        "start_time": "2021-11-14T17:13:04.488Z"
      },
      {
        "duration": 32,
        "start_time": "2021-11-14T17:13:04.532Z"
      },
      {
        "duration": 17,
        "start_time": "2021-11-14T17:13:04.566Z"
      },
      {
        "duration": 89,
        "start_time": "2021-11-14T17:24:59.947Z"
      },
      {
        "duration": 89,
        "start_time": "2021-11-14T17:25:10.105Z"
      },
      {
        "duration": 476,
        "start_time": "2021-11-14T17:25:25.898Z"
      },
      {
        "duration": 100,
        "start_time": "2021-11-14T17:25:34.724Z"
      },
      {
        "duration": 95,
        "start_time": "2021-11-14T17:31:50.568Z"
      },
      {
        "duration": 165,
        "start_time": "2021-11-14T17:32:44.052Z"
      },
      {
        "duration": 28,
        "start_time": "2021-11-14T17:33:25.769Z"
      },
      {
        "duration": 156,
        "start_time": "2021-11-14T17:33:35.386Z"
      },
      {
        "duration": 169,
        "start_time": "2021-11-14T17:33:48.220Z"
      },
      {
        "duration": 51,
        "start_time": "2021-11-14T17:37:15.360Z"
      },
      {
        "duration": 72,
        "start_time": "2021-11-14T17:37:24.028Z"
      },
      {
        "duration": 796,
        "start_time": "2021-11-14T17:37:44.775Z"
      },
      {
        "duration": 72,
        "start_time": "2021-11-14T17:37:55.444Z"
      },
      {
        "duration": 60,
        "start_time": "2021-11-14T17:39:37.169Z"
      },
      {
        "duration": 56,
        "start_time": "2021-11-14T17:39:57.427Z"
      },
      {
        "duration": 94,
        "start_time": "2021-11-14T17:40:16.581Z"
      },
      {
        "duration": 303,
        "start_time": "2021-11-14T17:41:07.984Z"
      },
      {
        "duration": 85,
        "start_time": "2021-11-14T17:42:01.577Z"
      },
      {
        "duration": 98,
        "start_time": "2021-11-14T17:42:12.749Z"
      },
      {
        "duration": 94,
        "start_time": "2021-11-14T17:43:11.745Z"
      },
      {
        "duration": 57,
        "start_time": "2021-11-14T17:43:26.391Z"
      },
      {
        "duration": 90,
        "start_time": "2021-11-14T17:45:00.323Z"
      },
      {
        "duration": 65,
        "start_time": "2021-11-14T18:04:03.106Z"
      },
      {
        "duration": 340,
        "start_time": "2021-11-14T18:07:26.308Z"
      },
      {
        "duration": 104,
        "start_time": "2021-11-14T18:07:39.801Z"
      },
      {
        "duration": 292,
        "start_time": "2021-11-14T18:09:58.812Z"
      },
      {
        "duration": 314,
        "start_time": "2021-11-14T18:10:30.087Z"
      },
      {
        "duration": 526,
        "start_time": "2021-11-14T18:10:40.731Z"
      },
      {
        "duration": 1618,
        "start_time": "2021-11-15T08:46:07.333Z"
      },
      {
        "duration": 541,
        "start_time": "2021-11-15T08:46:08.954Z"
      },
      {
        "duration": 29,
        "start_time": "2021-11-15T08:46:09.499Z"
      },
      {
        "duration": 16,
        "start_time": "2021-11-15T08:46:09.531Z"
      },
      {
        "duration": 28,
        "start_time": "2021-11-15T08:46:09.549Z"
      },
      {
        "duration": 12,
        "start_time": "2021-11-15T08:46:09.580Z"
      },
      {
        "duration": 22,
        "start_time": "2021-11-15T08:46:09.594Z"
      },
      {
        "duration": 11,
        "start_time": "2021-11-15T08:46:09.620Z"
      },
      {
        "duration": 40,
        "start_time": "2021-11-15T08:46:09.634Z"
      },
      {
        "duration": 14,
        "start_time": "2021-11-15T08:46:09.677Z"
      },
      {
        "duration": 11,
        "start_time": "2021-11-15T08:46:09.694Z"
      },
      {
        "duration": 17,
        "start_time": "2021-11-15T08:46:09.707Z"
      },
      {
        "duration": 96,
        "start_time": "2021-11-15T08:46:09.726Z"
      },
      {
        "duration": 22,
        "start_time": "2021-11-15T08:46:09.824Z"
      },
      {
        "duration": 48,
        "start_time": "2021-11-15T08:46:09.848Z"
      },
      {
        "duration": 45,
        "start_time": "2021-11-15T08:46:09.898Z"
      },
      {
        "duration": 16,
        "start_time": "2021-11-15T08:46:09.967Z"
      },
      {
        "duration": 36,
        "start_time": "2021-11-15T08:46:09.986Z"
      },
      {
        "duration": 44,
        "start_time": "2021-11-15T08:46:10.025Z"
      },
      {
        "duration": 54,
        "start_time": "2021-11-15T08:46:10.071Z"
      },
      {
        "duration": 11,
        "start_time": "2021-11-15T08:46:10.127Z"
      },
      {
        "duration": 41,
        "start_time": "2021-11-15T08:46:10.140Z"
      },
      {
        "duration": 31,
        "start_time": "2021-11-15T08:46:10.186Z"
      },
      {
        "duration": 10,
        "start_time": "2021-11-15T08:46:10.219Z"
      },
      {
        "duration": 65,
        "start_time": "2021-11-15T08:46:10.231Z"
      },
      {
        "duration": 18,
        "start_time": "2021-11-15T08:46:10.298Z"
      },
      {
        "duration": 131,
        "start_time": "2021-11-15T08:46:10.319Z"
      },
      {
        "duration": 94,
        "start_time": "2021-11-15T08:46:10.452Z"
      },
      {
        "duration": 78,
        "start_time": "2021-11-15T08:46:10.548Z"
      },
      {
        "duration": 557,
        "start_time": "2021-11-15T08:46:10.628Z"
      },
      {
        "duration": 367,
        "start_time": "2021-11-15T08:58:41.863Z"
      },
      {
        "duration": 14,
        "start_time": "2021-11-15T08:58:58.256Z"
      },
      {
        "duration": 39,
        "start_time": "2021-11-15T09:08:00.963Z"
      },
      {
        "duration": 33,
        "start_time": "2021-11-15T09:08:11.428Z"
      },
      {
        "duration": 30,
        "start_time": "2021-11-15T09:14:42.179Z"
      },
      {
        "duration": 38,
        "start_time": "2021-11-15T09:18:14.722Z"
      },
      {
        "duration": 42,
        "start_time": "2021-11-15T09:19:00.992Z"
      },
      {
        "duration": 49,
        "start_time": "2021-11-15T09:20:44.624Z"
      },
      {
        "duration": 1578,
        "start_time": "2021-11-15T12:54:47.778Z"
      },
      {
        "duration": 542,
        "start_time": "2021-11-15T12:54:49.359Z"
      },
      {
        "duration": 29,
        "start_time": "2021-11-15T12:54:49.904Z"
      },
      {
        "duration": 16,
        "start_time": "2021-11-15T12:54:49.936Z"
      },
      {
        "duration": 31,
        "start_time": "2021-11-15T12:54:49.954Z"
      },
      {
        "duration": 12,
        "start_time": "2021-11-15T12:54:49.987Z"
      },
      {
        "duration": 28,
        "start_time": "2021-11-15T12:54:50.001Z"
      },
      {
        "duration": 11,
        "start_time": "2021-11-15T12:54:50.032Z"
      },
      {
        "duration": 10,
        "start_time": "2021-11-15T12:54:50.067Z"
      },
      {
        "duration": 14,
        "start_time": "2021-11-15T12:54:50.079Z"
      },
      {
        "duration": 12,
        "start_time": "2021-11-15T12:54:50.095Z"
      },
      {
        "duration": 19,
        "start_time": "2021-11-15T12:54:50.109Z"
      },
      {
        "duration": 96,
        "start_time": "2021-11-15T12:54:50.131Z"
      },
      {
        "duration": 38,
        "start_time": "2021-11-15T12:54:50.230Z"
      },
      {
        "duration": 32,
        "start_time": "2021-11-15T12:54:50.271Z"
      },
      {
        "duration": 68,
        "start_time": "2021-11-15T12:54:50.306Z"
      },
      {
        "duration": 16,
        "start_time": "2021-11-15T12:54:50.377Z"
      },
      {
        "duration": 22,
        "start_time": "2021-11-15T12:54:50.396Z"
      },
      {
        "duration": 69,
        "start_time": "2021-11-15T12:54:50.420Z"
      },
      {
        "duration": 15,
        "start_time": "2021-11-15T12:54:50.491Z"
      },
      {
        "duration": 68,
        "start_time": "2021-11-15T12:54:50.509Z"
      },
      {
        "duration": 12,
        "start_time": "2021-11-15T12:54:50.580Z"
      },
      {
        "duration": 22,
        "start_time": "2021-11-15T12:54:50.599Z"
      },
      {
        "duration": 72,
        "start_time": "2021-11-15T12:54:50.624Z"
      },
      {
        "duration": 12,
        "start_time": "2021-11-15T12:54:50.699Z"
      },
      {
        "duration": 66,
        "start_time": "2021-11-15T12:54:50.714Z"
      },
      {
        "duration": 20,
        "start_time": "2021-11-15T12:54:50.783Z"
      },
      {
        "duration": 140,
        "start_time": "2021-11-15T12:54:50.806Z"
      },
      {
        "duration": 129,
        "start_time": "2021-11-15T12:54:50.950Z"
      },
      {
        "duration": 101,
        "start_time": "2021-11-15T12:54:51.082Z"
      },
      {
        "duration": 85,
        "start_time": "2021-11-15T12:54:51.186Z"
      },
      {
        "duration": 68,
        "start_time": "2021-11-15T12:54:51.274Z"
      },
      {
        "duration": 56,
        "start_time": "2021-11-15T12:54:51.366Z"
      },
      {
        "duration": 408,
        "start_time": "2021-11-15T13:11:36.108Z"
      },
      {
        "duration": 83,
        "start_time": "2021-11-15T13:12:34.255Z"
      },
      {
        "duration": 561,
        "start_time": "2021-11-15T13:13:10.526Z"
      },
      {
        "duration": 294,
        "start_time": "2021-11-15T13:18:15.113Z"
      },
      {
        "duration": 284,
        "start_time": "2021-11-15T13:18:54.175Z"
      },
      {
        "duration": 44,
        "start_time": "2021-11-15T13:19:29.215Z"
      },
      {
        "duration": 69,
        "start_time": "2021-11-15T15:03:22.668Z"
      },
      {
        "duration": 67,
        "start_time": "2021-11-15T15:03:37.035Z"
      },
      {
        "duration": 45,
        "start_time": "2021-11-15T15:03:57.734Z"
      },
      {
        "duration": 49,
        "start_time": "2021-11-15T15:04:07.706Z"
      },
      {
        "duration": 53,
        "start_time": "2021-11-15T15:04:14.228Z"
      },
      {
        "duration": 351,
        "start_time": "2021-11-15T20:21:23.658Z"
      },
      {
        "duration": 1481,
        "start_time": "2021-11-15T20:21:29.076Z"
      },
      {
        "duration": 541,
        "start_time": "2021-11-15T20:21:30.560Z"
      },
      {
        "duration": 29,
        "start_time": "2021-11-15T20:21:31.104Z"
      },
      {
        "duration": 17,
        "start_time": "2021-11-15T20:21:31.135Z"
      },
      {
        "duration": 35,
        "start_time": "2021-11-15T20:21:31.154Z"
      },
      {
        "duration": 11,
        "start_time": "2021-11-15T20:21:31.191Z"
      },
      {
        "duration": 22,
        "start_time": "2021-11-15T20:21:31.204Z"
      },
      {
        "duration": 13,
        "start_time": "2021-11-15T20:21:31.229Z"
      },
      {
        "duration": 43,
        "start_time": "2021-11-15T20:21:31.246Z"
      },
      {
        "duration": 23,
        "start_time": "2021-11-15T20:21:31.292Z"
      },
      {
        "duration": 15,
        "start_time": "2021-11-15T20:21:31.318Z"
      },
      {
        "duration": 22,
        "start_time": "2021-11-15T20:21:31.335Z"
      },
      {
        "duration": 78,
        "start_time": "2021-11-15T20:21:31.359Z"
      },
      {
        "duration": 21,
        "start_time": "2021-11-15T20:21:31.439Z"
      },
      {
        "duration": 51,
        "start_time": "2021-11-15T20:21:31.462Z"
      },
      {
        "duration": 67,
        "start_time": "2021-11-15T20:21:31.515Z"
      },
      {
        "duration": 15,
        "start_time": "2021-11-15T20:21:31.584Z"
      },
      {
        "duration": 20,
        "start_time": "2021-11-15T20:21:31.601Z"
      },
      {
        "duration": 64,
        "start_time": "2021-11-15T20:21:31.624Z"
      },
      {
        "duration": 17,
        "start_time": "2021-11-15T20:21:31.691Z"
      },
      {
        "duration": 49,
        "start_time": "2021-11-15T20:21:31.710Z"
      },
      {
        "duration": 28,
        "start_time": "2021-11-15T20:21:31.761Z"
      },
      {
        "duration": 21,
        "start_time": "2021-11-15T20:21:31.791Z"
      },
      {
        "duration": 68,
        "start_time": "2021-11-15T20:21:31.815Z"
      },
      {
        "duration": 12,
        "start_time": "2021-11-15T20:21:31.886Z"
      },
      {
        "duration": 33,
        "start_time": "2021-11-15T20:21:31.900Z"
      },
      {
        "duration": 51,
        "start_time": "2021-11-15T20:21:31.937Z"
      },
      {
        "duration": 118,
        "start_time": "2021-11-15T20:21:31.990Z"
      },
      {
        "duration": 132,
        "start_time": "2021-11-15T20:21:32.110Z"
      },
      {
        "duration": 90,
        "start_time": "2021-11-15T20:21:32.244Z"
      },
      {
        "duration": 85,
        "start_time": "2021-11-15T20:21:32.336Z"
      },
      {
        "duration": 84,
        "start_time": "2021-11-15T20:21:32.424Z"
      },
      {
        "duration": 75,
        "start_time": "2021-11-15T20:21:32.511Z"
      },
      {
        "duration": 50,
        "start_time": "2021-11-15T20:21:32.588Z"
      },
      {
        "duration": 8826,
        "start_time": "2021-11-15T20:21:32.640Z"
      },
      {
        "duration": 9105,
        "start_time": "2021-11-15T20:29:44.594Z"
      },
      {
        "duration": 11,
        "start_time": "2021-11-15T20:31:37.715Z"
      },
      {
        "duration": 50,
        "start_time": "2021-11-15T20:32:10.007Z"
      },
      {
        "duration": 103,
        "start_time": "2021-11-15T20:34:30.905Z"
      },
      {
        "duration": 38,
        "start_time": "2021-11-15T20:37:22.777Z"
      },
      {
        "duration": 1357,
        "start_time": "2021-11-15T20:37:44.447Z"
      },
      {
        "duration": 1297,
        "start_time": "2021-11-15T20:37:59.747Z"
      },
      {
        "duration": 337,
        "start_time": "2021-11-15T20:38:23.573Z"
      },
      {
        "duration": 62,
        "start_time": "2021-11-15T20:38:31.983Z"
      },
      {
        "duration": 9720,
        "start_time": "2021-11-15T20:51:31.432Z"
      },
      {
        "duration": 411,
        "start_time": "2021-11-15T20:52:58.377Z"
      },
      {
        "duration": 314,
        "start_time": "2021-11-15T20:53:10.463Z"
      },
      {
        "duration": 7,
        "start_time": "2021-11-15T20:54:31.092Z"
      },
      {
        "duration": 19,
        "start_time": "2021-11-15T20:54:44.421Z"
      },
      {
        "duration": 5,
        "start_time": "2021-11-15T20:56:06.168Z"
      },
      {
        "duration": 17,
        "start_time": "2021-11-15T20:56:16.290Z"
      },
      {
        "duration": 517,
        "start_time": "2021-11-15T20:56:36.060Z"
      },
      {
        "duration": 530,
        "start_time": "2021-11-15T21:01:04.834Z"
      },
      {
        "duration": 521,
        "start_time": "2021-11-15T21:02:04.189Z"
      },
      {
        "duration": 536,
        "start_time": "2021-11-15T21:02:53.903Z"
      },
      {
        "duration": 8148,
        "start_time": "2021-11-15T21:09:09.400Z"
      },
      {
        "duration": 616,
        "start_time": "2021-11-15T21:10:20.284Z"
      },
      {
        "duration": 560,
        "start_time": "2021-11-15T21:12:17.346Z"
      },
      {
        "duration": 535,
        "start_time": "2021-11-15T21:14:10.357Z"
      },
      {
        "duration": 834,
        "start_time": "2021-11-15T21:14:29.921Z"
      },
      {
        "duration": 732,
        "start_time": "2021-11-15T21:15:02.251Z"
      },
      {
        "duration": 579,
        "start_time": "2021-11-15T21:16:49.531Z"
      },
      {
        "duration": 318,
        "start_time": "2021-11-15T21:22:16.961Z"
      },
      {
        "duration": 17,
        "start_time": "2021-11-15T21:22:27.482Z"
      },
      {
        "duration": 25,
        "start_time": "2021-11-15T21:22:29.586Z"
      },
      {
        "duration": 643,
        "start_time": "2021-11-15T21:25:07.385Z"
      },
      {
        "duration": 713,
        "start_time": "2021-11-15T21:25:23.952Z"
      },
      {
        "duration": 683,
        "start_time": "2021-11-15T21:25:28.688Z"
      },
      {
        "duration": 663,
        "start_time": "2021-11-15T21:30:14.690Z"
      },
      {
        "duration": 416,
        "start_time": "2021-11-15T21:30:41.296Z"
      },
      {
        "duration": 407,
        "start_time": "2021-11-15T21:31:05.821Z"
      },
      {
        "duration": 176,
        "start_time": "2021-11-15T21:37:12.770Z"
      },
      {
        "duration": 159,
        "start_time": "2021-11-15T21:37:51.994Z"
      },
      {
        "duration": 535,
        "start_time": "2021-11-15T21:38:49.441Z"
      },
      {
        "duration": 6,
        "start_time": "2021-11-15T21:41:11.232Z"
      },
      {
        "duration": 7,
        "start_time": "2021-11-15T21:41:57.129Z"
      },
      {
        "duration": 683,
        "start_time": "2021-11-15T21:41:58.986Z"
      },
      {
        "duration": 38,
        "start_time": "2021-11-15T21:44:16.183Z"
      },
      {
        "duration": 129,
        "start_time": "2021-11-15T21:48:41.164Z"
      },
      {
        "duration": 780,
        "start_time": "2021-11-15T21:49:02.963Z"
      },
      {
        "duration": 7,
        "start_time": "2021-11-15T21:49:16.141Z"
      },
      {
        "duration": 112,
        "start_time": "2021-11-15T21:52:48.917Z"
      },
      {
        "duration": 108,
        "start_time": "2021-11-15T21:53:33.340Z"
      },
      {
        "duration": 499,
        "start_time": "2021-11-15T21:53:41.778Z"
      },
      {
        "duration": 434,
        "start_time": "2021-11-15T21:53:51.393Z"
      },
      {
        "duration": 699,
        "start_time": "2021-11-15T21:54:55.858Z"
      },
      {
        "duration": 402,
        "start_time": "2021-11-15T21:55:44.788Z"
      },
      {
        "duration": 534,
        "start_time": "2021-11-15T22:11:14.559Z"
      },
      {
        "duration": 1434,
        "start_time": "2021-11-16T09:06:46.912Z"
      },
      {
        "duration": 578,
        "start_time": "2021-11-16T09:06:48.349Z"
      },
      {
        "duration": 29,
        "start_time": "2021-11-16T09:06:48.931Z"
      },
      {
        "duration": 16,
        "start_time": "2021-11-16T09:06:48.963Z"
      },
      {
        "duration": 22,
        "start_time": "2021-11-16T09:06:48.982Z"
      },
      {
        "duration": 11,
        "start_time": "2021-11-16T09:06:49.006Z"
      },
      {
        "duration": 55,
        "start_time": "2021-11-16T09:06:49.020Z"
      },
      {
        "duration": 10,
        "start_time": "2021-11-16T09:06:49.078Z"
      },
      {
        "duration": 16,
        "start_time": "2021-11-16T09:06:49.092Z"
      },
      {
        "duration": 17,
        "start_time": "2021-11-16T09:06:49.110Z"
      },
      {
        "duration": 15,
        "start_time": "2021-11-16T09:06:49.129Z"
      },
      {
        "duration": 15,
        "start_time": "2021-11-16T09:06:49.168Z"
      },
      {
        "duration": 82,
        "start_time": "2021-11-16T09:06:49.185Z"
      },
      {
        "duration": 20,
        "start_time": "2021-11-16T09:06:49.269Z"
      },
      {
        "duration": 30,
        "start_time": "2021-11-16T09:06:49.292Z"
      },
      {
        "duration": 71,
        "start_time": "2021-11-16T09:06:49.324Z"
      },
      {
        "duration": 15,
        "start_time": "2021-11-16T09:06:49.397Z"
      },
      {
        "duration": 19,
        "start_time": "2021-11-16T09:06:49.415Z"
      },
      {
        "duration": 36,
        "start_time": "2021-11-16T09:06:49.468Z"
      },
      {
        "duration": 14,
        "start_time": "2021-11-16T09:06:49.507Z"
      },
      {
        "duration": 72,
        "start_time": "2021-11-16T09:06:49.524Z"
      },
      {
        "duration": 11,
        "start_time": "2021-11-16T09:06:49.598Z"
      },
      {
        "duration": 21,
        "start_time": "2021-11-16T09:06:49.616Z"
      },
      {
        "duration": 53,
        "start_time": "2021-11-16T09:06:49.639Z"
      },
      {
        "duration": 8,
        "start_time": "2021-11-16T09:06:49.695Z"
      },
      {
        "duration": 62,
        "start_time": "2021-11-16T09:06:49.705Z"
      },
      {
        "duration": 19,
        "start_time": "2021-11-16T09:06:49.769Z"
      },
      {
        "duration": 128,
        "start_time": "2021-11-16T09:06:49.790Z"
      },
      {
        "duration": 132,
        "start_time": "2021-11-16T09:06:49.920Z"
      },
      {
        "duration": 88,
        "start_time": "2021-11-16T09:06:50.054Z"
      },
      {
        "duration": 90,
        "start_time": "2021-11-16T09:06:50.145Z"
      },
      {
        "duration": 87,
        "start_time": "2021-11-16T09:06:50.237Z"
      },
      {
        "duration": 74,
        "start_time": "2021-11-16T09:06:50.327Z"
      },
      {
        "duration": 64,
        "start_time": "2021-11-16T09:06:50.403Z"
      },
      {
        "duration": 10,
        "start_time": "2021-11-16T09:06:50.469Z"
      },
      {
        "duration": 31,
        "start_time": "2021-11-16T09:06:50.481Z"
      },
      {
        "duration": 1148,
        "start_time": "2021-11-16T09:06:50.515Z"
      },
      {
        "duration": -2320,
        "start_time": "2021-11-16T09:06:53.986Z"
      },
      {
        "duration": -2331,
        "start_time": "2021-11-16T09:06:53.999Z"
      },
      {
        "duration": -2335,
        "start_time": "2021-11-16T09:06:54.004Z"
      },
      {
        "duration": -2337,
        "start_time": "2021-11-16T09:06:54.008Z"
      },
      {
        "duration": -2338,
        "start_time": "2021-11-16T09:06:54.011Z"
      },
      {
        "duration": 1094,
        "start_time": "2021-11-16T09:10:41.482Z"
      },
      {
        "duration": 276,
        "start_time": "2021-11-16T09:11:36.163Z"
      },
      {
        "duration": 1058,
        "start_time": "2021-11-16T09:11:41.406Z"
      },
      {
        "duration": 1459,
        "start_time": "2021-11-16T09:11:48.685Z"
      },
      {
        "duration": 530,
        "start_time": "2021-11-16T09:11:50.146Z"
      },
      {
        "duration": 28,
        "start_time": "2021-11-16T09:11:50.679Z"
      },
      {
        "duration": 17,
        "start_time": "2021-11-16T09:11:50.710Z"
      },
      {
        "duration": 45,
        "start_time": "2021-11-16T09:11:50.729Z"
      },
      {
        "duration": 12,
        "start_time": "2021-11-16T09:11:50.776Z"
      },
      {
        "duration": 19,
        "start_time": "2021-11-16T09:11:50.792Z"
      },
      {
        "duration": 17,
        "start_time": "2021-11-16T09:11:50.815Z"
      },
      {
        "duration": 9,
        "start_time": "2021-11-16T09:11:50.867Z"
      },
      {
        "duration": 17,
        "start_time": "2021-11-16T09:11:50.879Z"
      },
      {
        "duration": 14,
        "start_time": "2021-11-16T09:11:50.898Z"
      },
      {
        "duration": 16,
        "start_time": "2021-11-16T09:11:50.915Z"
      },
      {
        "duration": 86,
        "start_time": "2021-11-16T09:11:50.934Z"
      },
      {
        "duration": 22,
        "start_time": "2021-11-16T09:11:51.022Z"
      },
      {
        "duration": 50,
        "start_time": "2021-11-16T09:11:51.046Z"
      },
      {
        "duration": 43,
        "start_time": "2021-11-16T09:11:51.098Z"
      },
      {
        "duration": 14,
        "start_time": "2021-11-16T09:11:51.168Z"
      },
      {
        "duration": 19,
        "start_time": "2021-11-16T09:11:51.184Z"
      },
      {
        "duration": 63,
        "start_time": "2021-11-16T09:11:51.206Z"
      },
      {
        "duration": 14,
        "start_time": "2021-11-16T09:11:51.272Z"
      },
      {
        "duration": 46,
        "start_time": "2021-11-16T09:11:51.290Z"
      },
      {
        "duration": 12,
        "start_time": "2021-11-16T09:11:51.367Z"
      },
      {
        "duration": 21,
        "start_time": "2021-11-16T09:11:51.386Z"
      },
      {
        "duration": 66,
        "start_time": "2021-11-16T09:11:51.411Z"
      },
      {
        "duration": 10,
        "start_time": "2021-11-16T09:11:51.481Z"
      },
      {
        "duration": 34,
        "start_time": "2021-11-16T09:11:51.494Z"
      },
      {
        "duration": 54,
        "start_time": "2021-11-16T09:11:51.531Z"
      },
      {
        "duration": 140,
        "start_time": "2021-11-16T09:11:51.588Z"
      },
      {
        "duration": 133,
        "start_time": "2021-11-16T09:11:51.731Z"
      },
      {
        "duration": 80,
        "start_time": "2021-11-16T09:11:51.868Z"
      },
      {
        "duration": 78,
        "start_time": "2021-11-16T09:11:51.968Z"
      },
      {
        "duration": 84,
        "start_time": "2021-11-16T09:11:52.049Z"
      },
      {
        "duration": 86,
        "start_time": "2021-11-16T09:11:52.136Z"
      },
      {
        "duration": 68,
        "start_time": "2021-11-16T09:11:52.224Z"
      },
      {
        "duration": 10,
        "start_time": "2021-11-16T09:11:52.294Z"
      },
      {
        "duration": 18,
        "start_time": "2021-11-16T09:11:52.307Z"
      },
      {
        "duration": 1241,
        "start_time": "2021-11-16T09:11:52.327Z"
      },
      {
        "duration": -2317,
        "start_time": "2021-11-16T09:11:55.888Z"
      },
      {
        "duration": -2322,
        "start_time": "2021-11-16T09:11:55.895Z"
      },
      {
        "duration": 16,
        "start_time": "2021-11-16T09:12:27.815Z"
      },
      {
        "duration": 30,
        "start_time": "2021-11-16T09:12:34.808Z"
      },
      {
        "duration": 6,
        "start_time": "2021-11-16T09:12:38.458Z"
      },
      {
        "duration": 11,
        "start_time": "2021-11-16T09:15:35.752Z"
      },
      {
        "duration": 22,
        "start_time": "2021-11-16T09:15:41.606Z"
      },
      {
        "duration": 6,
        "start_time": "2021-11-16T09:15:44.811Z"
      },
      {
        "duration": 24,
        "start_time": "2021-11-16T09:15:46.802Z"
      },
      {
        "duration": 37,
        "start_time": "2021-11-16T09:20:04.086Z"
      },
      {
        "duration": 30,
        "start_time": "2021-11-16T09:21:53.149Z"
      },
      {
        "duration": 33,
        "start_time": "2021-11-16T09:38:25.013Z"
      },
      {
        "duration": 32,
        "start_time": "2021-11-16T09:39:16.268Z"
      },
      {
        "duration": 33,
        "start_time": "2021-11-16T09:39:29.382Z"
      },
      {
        "duration": 32,
        "start_time": "2021-11-16T09:39:34.973Z"
      },
      {
        "duration": 31,
        "start_time": "2021-11-16T09:39:43.960Z"
      },
      {
        "duration": 34,
        "start_time": "2021-11-16T09:40:05.356Z"
      },
      {
        "duration": 42,
        "start_time": "2021-11-16T09:42:00.031Z"
      },
      {
        "duration": 87,
        "start_time": "2021-11-16T09:43:05.776Z"
      },
      {
        "duration": 95,
        "start_time": "2021-11-16T09:43:15.380Z"
      },
      {
        "duration": 40,
        "start_time": "2021-11-16T09:43:18.774Z"
      },
      {
        "duration": 40,
        "start_time": "2021-11-16T09:44:19.237Z"
      },
      {
        "duration": 42,
        "start_time": "2021-11-16T09:44:32.213Z"
      },
      {
        "duration": 40,
        "start_time": "2021-11-16T09:44:53.898Z"
      },
      {
        "duration": 55,
        "start_time": "2021-11-16T09:45:33.739Z"
      },
      {
        "duration": 55,
        "start_time": "2021-11-16T09:48:05.150Z"
      },
      {
        "duration": 54,
        "start_time": "2021-11-16T09:48:30.949Z"
      },
      {
        "duration": 41,
        "start_time": "2021-11-16T09:48:45.603Z"
      },
      {
        "duration": 1434,
        "start_time": "2021-11-16T12:19:26.406Z"
      },
      {
        "duration": 531,
        "start_time": "2021-11-16T12:19:27.843Z"
      },
      {
        "duration": 28,
        "start_time": "2021-11-16T12:19:28.378Z"
      },
      {
        "duration": 15,
        "start_time": "2021-11-16T12:19:28.409Z"
      },
      {
        "duration": 50,
        "start_time": "2021-11-16T12:19:28.427Z"
      },
      {
        "duration": 11,
        "start_time": "2021-11-16T12:19:28.480Z"
      },
      {
        "duration": 21,
        "start_time": "2021-11-16T12:19:28.494Z"
      },
      {
        "duration": 11,
        "start_time": "2021-11-16T12:19:28.518Z"
      },
      {
        "duration": 42,
        "start_time": "2021-11-16T12:19:28.532Z"
      },
      {
        "duration": 15,
        "start_time": "2021-11-16T12:19:28.576Z"
      },
      {
        "duration": 11,
        "start_time": "2021-11-16T12:19:28.593Z"
      },
      {
        "duration": 17,
        "start_time": "2021-11-16T12:19:28.607Z"
      },
      {
        "duration": 96,
        "start_time": "2021-11-16T12:19:28.626Z"
      },
      {
        "duration": 22,
        "start_time": "2021-11-16T12:19:28.724Z"
      },
      {
        "duration": 34,
        "start_time": "2021-11-16T12:19:28.767Z"
      },
      {
        "duration": 64,
        "start_time": "2021-11-16T12:19:28.803Z"
      },
      {
        "duration": 16,
        "start_time": "2021-11-16T12:19:28.870Z"
      },
      {
        "duration": 20,
        "start_time": "2021-11-16T12:19:28.888Z"
      },
      {
        "duration": 68,
        "start_time": "2021-11-16T12:19:28.911Z"
      },
      {
        "duration": 15,
        "start_time": "2021-11-16T12:19:28.981Z"
      },
      {
        "duration": 51,
        "start_time": "2021-11-16T12:19:28.998Z"
      },
      {
        "duration": 10,
        "start_time": "2021-11-16T12:19:29.067Z"
      },
      {
        "duration": 24,
        "start_time": "2021-11-16T12:19:29.082Z"
      },
      {
        "duration": 29,
        "start_time": "2021-11-16T12:19:29.109Z"
      },
      {
        "duration": 9,
        "start_time": "2021-11-16T12:19:29.168Z"
      },
      {
        "duration": 33,
        "start_time": "2021-11-16T12:19:29.179Z"
      },
      {
        "duration": 17,
        "start_time": "2021-11-16T12:19:29.215Z"
      },
      {
        "duration": 120,
        "start_time": "2021-11-16T12:19:29.267Z"
      },
      {
        "duration": 134,
        "start_time": "2021-11-16T12:19:29.389Z"
      },
      {
        "duration": 91,
        "start_time": "2021-11-16T12:19:29.526Z"
      },
      {
        "duration": 93,
        "start_time": "2021-11-16T12:19:29.619Z"
      },
      {
        "duration": 73,
        "start_time": "2021-11-16T12:19:29.714Z"
      },
      {
        "duration": 78,
        "start_time": "2021-11-16T12:19:29.789Z"
      },
      {
        "duration": 53,
        "start_time": "2021-11-16T12:19:29.869Z"
      },
      {
        "duration": 10,
        "start_time": "2021-11-16T12:19:29.924Z"
      },
      {
        "duration": 45,
        "start_time": "2021-11-16T12:19:29.937Z"
      },
      {
        "duration": 17,
        "start_time": "2021-11-16T12:19:29.984Z"
      },
      {
        "duration": 30,
        "start_time": "2021-11-16T12:19:30.003Z"
      },
      {
        "duration": 11,
        "start_time": "2021-11-16T12:19:30.035Z"
      },
      {
        "duration": 39,
        "start_time": "2021-11-16T12:19:30.049Z"
      },
      {
        "duration": 34,
        "start_time": "2021-11-16T12:19:30.091Z"
      },
      {
        "duration": 60,
        "start_time": "2021-11-16T12:19:30.127Z"
      },
      {
        "duration": 80,
        "start_time": "2021-11-16T12:19:30.189Z"
      },
      {
        "duration": 40,
        "start_time": "2021-11-16T12:57:37.934Z"
      },
      {
        "duration": 94,
        "start_time": "2021-11-16T13:04:54.065Z"
      },
      {
        "duration": 41,
        "start_time": "2021-11-16T13:04:57.982Z"
      },
      {
        "duration": 70,
        "start_time": "2021-11-16T13:05:18.430Z"
      },
      {
        "duration": 40,
        "start_time": "2021-11-16T13:05:51.033Z"
      },
      {
        "duration": 36,
        "start_time": "2021-11-16T13:46:42.692Z"
      },
      {
        "duration": 48,
        "start_time": "2021-11-16T13:58:34.350Z"
      },
      {
        "duration": 35,
        "start_time": "2021-11-16T13:59:16.990Z"
      },
      {
        "duration": 8,
        "start_time": "2021-11-16T14:02:07.303Z"
      },
      {
        "duration": 22,
        "start_time": "2021-11-16T14:02:13.077Z"
      },
      {
        "duration": 21,
        "start_time": "2021-11-16T14:02:18.692Z"
      },
      {
        "duration": 426,
        "start_time": "2021-11-16T14:04:16.446Z"
      },
      {
        "duration": 344,
        "start_time": "2021-11-16T14:04:51.774Z"
      },
      {
        "duration": 4,
        "start_time": "2021-11-16T14:04:58.340Z"
      },
      {
        "duration": 545,
        "start_time": "2021-11-16T14:04:58.351Z"
      },
      {
        "duration": 27,
        "start_time": "2021-11-16T14:04:58.898Z"
      },
      {
        "duration": 11,
        "start_time": "2021-11-16T14:04:58.928Z"
      },
      {
        "duration": 27,
        "start_time": "2021-11-16T14:04:58.942Z"
      },
      {
        "duration": 12,
        "start_time": "2021-11-16T14:04:58.971Z"
      },
      {
        "duration": 24,
        "start_time": "2021-11-16T14:04:58.985Z"
      },
      {
        "duration": 10,
        "start_time": "2021-11-16T14:04:59.011Z"
      },
      {
        "duration": 43,
        "start_time": "2021-11-16T14:04:59.024Z"
      },
      {
        "duration": 12,
        "start_time": "2021-11-16T14:04:59.072Z"
      },
      {
        "duration": 11,
        "start_time": "2021-11-16T14:04:59.087Z"
      },
      {
        "duration": 15,
        "start_time": "2021-11-16T14:04:59.101Z"
      },
      {
        "duration": 90,
        "start_time": "2021-11-16T14:04:59.119Z"
      },
      {
        "duration": 19,
        "start_time": "2021-11-16T14:04:59.211Z"
      },
      {
        "duration": 48,
        "start_time": "2021-11-16T14:04:59.232Z"
      },
      {
        "duration": 45,
        "start_time": "2021-11-16T14:04:59.282Z"
      },
      {
        "duration": 39,
        "start_time": "2021-11-16T14:04:59.330Z"
      },
      {
        "duration": 18,
        "start_time": "2021-11-16T14:04:59.371Z"
      },
      {
        "duration": 35,
        "start_time": "2021-11-16T14:04:59.392Z"
      },
      {
        "duration": 44,
        "start_time": "2021-11-16T14:04:59.430Z"
      },
      {
        "duration": 44,
        "start_time": "2021-11-16T14:04:59.476Z"
      },
      {
        "duration": 11,
        "start_time": "2021-11-16T14:04:59.522Z"
      },
      {
        "duration": 50,
        "start_time": "2021-11-16T14:04:59.535Z"
      },
      {
        "duration": 31,
        "start_time": "2021-11-16T14:04:59.588Z"
      },
      {
        "duration": 44,
        "start_time": "2021-11-16T14:04:59.623Z"
      },
      {
        "duration": 33,
        "start_time": "2021-11-16T14:04:59.670Z"
      },
      {
        "duration": 15,
        "start_time": "2021-11-16T14:04:59.706Z"
      },
      {
        "duration": 141,
        "start_time": "2021-11-16T14:04:59.727Z"
      },
      {
        "duration": 129,
        "start_time": "2021-11-16T14:04:59.871Z"
      },
      {
        "duration": 88,
        "start_time": "2021-11-16T14:05:00.003Z"
      },
      {
        "duration": 86,
        "start_time": "2021-11-16T14:05:00.094Z"
      },
      {
        "duration": 67,
        "start_time": "2021-11-16T14:05:00.183Z"
      },
      {
        "duration": 72,
        "start_time": "2021-11-16T14:05:00.267Z"
      },
      {
        "duration": 135,
        "start_time": "2021-11-16T14:05:00.341Z"
      },
      {
        "duration": 9,
        "start_time": "2021-11-16T14:05:00.479Z"
      },
      {
        "duration": 42,
        "start_time": "2021-11-16T14:05:00.491Z"
      },
      {
        "duration": 31,
        "start_time": "2021-11-16T14:05:00.536Z"
      },
      {
        "duration": 16,
        "start_time": "2021-11-16T14:05:00.570Z"
      },
      {
        "duration": 28,
        "start_time": "2021-11-16T14:05:00.589Z"
      },
      {
        "duration": 48,
        "start_time": "2021-11-16T14:05:00.620Z"
      },
      {
        "duration": 36,
        "start_time": "2021-11-16T14:05:00.670Z"
      },
      {
        "duration": 40,
        "start_time": "2021-11-16T14:05:00.709Z"
      },
      {
        "duration": 69,
        "start_time": "2021-11-16T14:05:00.752Z"
      },
      {
        "duration": 57,
        "start_time": "2021-11-16T14:05:00.824Z"
      },
      {
        "duration": 24,
        "start_time": "2021-11-16T14:05:00.883Z"
      },
      {
        "duration": 36,
        "start_time": "2021-11-16T14:05:00.909Z"
      },
      {
        "duration": 346,
        "start_time": "2021-11-16T14:05:00.947Z"
      },
      {
        "duration": 299,
        "start_time": "2021-11-16T14:05:07.120Z"
      },
      {
        "duration": 19,
        "start_time": "2021-11-16T14:05:15.556Z"
      },
      {
        "duration": 12,
        "start_time": "2021-11-16T14:18:56.156Z"
      },
      {
        "duration": 477,
        "start_time": "2021-11-16T14:19:27.590Z"
      },
      {
        "duration": 12,
        "start_time": "2021-11-16T14:21:57.534Z"
      },
      {
        "duration": 4,
        "start_time": "2021-11-16T14:46:30.270Z"
      },
      {
        "duration": 7,
        "start_time": "2021-11-16T14:46:37.463Z"
      },
      {
        "duration": 7,
        "start_time": "2021-11-16T14:51:00.990Z"
      },
      {
        "duration": 319,
        "start_time": "2021-11-16T14:51:40.157Z"
      },
      {
        "duration": 422,
        "start_time": "2021-11-16T14:53:01.706Z"
      },
      {
        "duration": 4,
        "start_time": "2021-11-16T14:54:54.438Z"
      },
      {
        "duration": 5,
        "start_time": "2021-11-16T14:55:01.295Z"
      },
      {
        "duration": 6,
        "start_time": "2021-11-16T14:55:51.443Z"
      },
      {
        "duration": 7,
        "start_time": "2021-11-16T14:57:31.626Z"
      },
      {
        "duration": 7,
        "start_time": "2021-11-16T15:01:19.880Z"
      },
      {
        "duration": 6,
        "start_time": "2021-11-16T15:02:44.775Z"
      },
      {
        "duration": 402,
        "start_time": "2021-11-16T15:03:14.500Z"
      },
      {
        "duration": 434,
        "start_time": "2021-11-16T15:05:28.866Z"
      },
      {
        "duration": 417,
        "start_time": "2021-11-16T15:05:49.203Z"
      },
      {
        "duration": 415,
        "start_time": "2021-11-16T15:06:33.679Z"
      },
      {
        "duration": 11,
        "start_time": "2021-11-16T15:07:12.681Z"
      },
      {
        "duration": 6,
        "start_time": "2021-11-16T15:07:35.142Z"
      },
      {
        "duration": 426,
        "start_time": "2021-11-16T15:08:26.715Z"
      },
      {
        "duration": 20,
        "start_time": "2021-11-16T15:30:13.665Z"
      },
      {
        "duration": 11,
        "start_time": "2021-11-16T15:30:31.779Z"
      },
      {
        "duration": 7,
        "start_time": "2021-11-16T15:30:46.425Z"
      },
      {
        "duration": 445,
        "start_time": "2021-11-16T15:31:09.513Z"
      },
      {
        "duration": 12,
        "start_time": "2021-11-16T15:31:30.454Z"
      },
      {
        "duration": 11,
        "start_time": "2021-11-16T15:32:25.209Z"
      },
      {
        "duration": 7,
        "start_time": "2021-11-16T15:32:42.561Z"
      },
      {
        "duration": 7,
        "start_time": "2021-11-16T15:33:00.359Z"
      },
      {
        "duration": 518,
        "start_time": "2021-11-16T15:33:05.001Z"
      },
      {
        "duration": 404,
        "start_time": "2021-11-16T15:33:36.884Z"
      },
      {
        "duration": 7,
        "start_time": "2021-11-16T15:34:14.461Z"
      },
      {
        "duration": 438,
        "start_time": "2021-11-16T15:34:35.979Z"
      },
      {
        "duration": 11,
        "start_time": "2021-11-16T15:34:58.375Z"
      },
      {
        "duration": 6,
        "start_time": "2021-11-16T15:35:20.051Z"
      },
      {
        "duration": 455,
        "start_time": "2021-11-16T15:35:36.807Z"
      },
      {
        "duration": 11,
        "start_time": "2021-11-16T15:36:08.752Z"
      },
      {
        "duration": 15,
        "start_time": "2021-11-16T15:36:42.058Z"
      },
      {
        "duration": 983,
        "start_time": "2021-11-16T15:59:00.752Z"
      },
      {
        "duration": 977,
        "start_time": "2021-11-16T15:59:24.217Z"
      },
      {
        "duration": 16124,
        "start_time": "2021-11-16T15:59:47.923Z"
      },
      {
        "duration": 1432,
        "start_time": "2021-11-16T19:41:08.207Z"
      },
      {
        "duration": 511,
        "start_time": "2021-11-16T19:41:09.642Z"
      },
      {
        "duration": 30,
        "start_time": "2021-11-16T19:41:10.156Z"
      },
      {
        "duration": 18,
        "start_time": "2021-11-16T19:41:10.189Z"
      },
      {
        "duration": 25,
        "start_time": "2021-11-16T19:41:10.210Z"
      },
      {
        "duration": 13,
        "start_time": "2021-11-16T19:41:10.266Z"
      },
      {
        "duration": 28,
        "start_time": "2021-11-16T19:41:10.282Z"
      },
      {
        "duration": 10,
        "start_time": "2021-11-16T19:41:10.315Z"
      },
      {
        "duration": 43,
        "start_time": "2021-11-16T19:41:10.327Z"
      },
      {
        "duration": 13,
        "start_time": "2021-11-16T19:41:10.373Z"
      },
      {
        "duration": 10,
        "start_time": "2021-11-16T19:41:10.388Z"
      },
      {
        "duration": 19,
        "start_time": "2021-11-16T19:41:10.400Z"
      },
      {
        "duration": 89,
        "start_time": "2021-11-16T19:41:10.421Z"
      },
      {
        "duration": 21,
        "start_time": "2021-11-16T19:41:10.512Z"
      },
      {
        "duration": 32,
        "start_time": "2021-11-16T19:41:10.568Z"
      },
      {
        "duration": 66,
        "start_time": "2021-11-16T19:41:10.602Z"
      },
      {
        "duration": 16,
        "start_time": "2021-11-16T19:41:10.670Z"
      },
      {
        "duration": 20,
        "start_time": "2021-11-16T19:41:10.688Z"
      },
      {
        "duration": 68,
        "start_time": "2021-11-16T19:41:10.711Z"
      },
      {
        "duration": 15,
        "start_time": "2021-11-16T19:41:10.782Z"
      },
      {
        "duration": 44,
        "start_time": "2021-11-16T19:41:10.799Z"
      },
      {
        "duration": 30,
        "start_time": "2021-11-16T19:41:10.846Z"
      },
      {
        "duration": 20,
        "start_time": "2021-11-16T19:41:10.882Z"
      },
      {
        "duration": 63,
        "start_time": "2021-11-16T19:41:10.906Z"
      },
      {
        "duration": 9,
        "start_time": "2021-11-16T19:41:10.971Z"
      },
      {
        "duration": 35,
        "start_time": "2021-11-16T19:41:10.983Z"
      },
      {
        "duration": 48,
        "start_time": "2021-11-16T19:41:11.020Z"
      },
      {
        "duration": 120,
        "start_time": "2021-11-16T19:41:11.070Z"
      },
      {
        "duration": 128,
        "start_time": "2021-11-16T19:41:11.193Z"
      },
      {
        "duration": 81,
        "start_time": "2021-11-16T19:41:11.324Z"
      },
      {
        "duration": 85,
        "start_time": "2021-11-16T19:41:11.408Z"
      },
      {
        "duration": 75,
        "start_time": "2021-11-16T19:41:11.496Z"
      },
      {
        "duration": 62,
        "start_time": "2021-11-16T19:41:11.573Z"
      },
      {
        "duration": 80,
        "start_time": "2021-11-16T19:41:11.637Z"
      },
      {
        "duration": 9,
        "start_time": "2021-11-16T19:41:11.719Z"
      },
      {
        "duration": 41,
        "start_time": "2021-11-16T19:41:11.731Z"
      },
      {
        "duration": 17,
        "start_time": "2021-11-16T19:41:11.774Z"
      },
      {
        "duration": 15,
        "start_time": "2021-11-16T19:41:11.793Z"
      },
      {
        "duration": 8,
        "start_time": "2021-11-16T19:41:11.811Z"
      },
      {
        "duration": 52,
        "start_time": "2021-11-16T19:41:11.822Z"
      },
      {
        "duration": 35,
        "start_time": "2021-11-16T19:41:11.876Z"
      },
      {
        "duration": 61,
        "start_time": "2021-11-16T19:41:11.914Z"
      },
      {
        "duration": 66,
        "start_time": "2021-11-16T19:41:11.978Z"
      },
      {
        "duration": 48,
        "start_time": "2021-11-16T19:41:12.047Z"
      },
      {
        "duration": 24,
        "start_time": "2021-11-16T19:41:12.098Z"
      },
      {
        "duration": 51,
        "start_time": "2021-11-16T19:41:12.124Z"
      },
      {
        "duration": 22,
        "start_time": "2021-11-16T19:41:12.178Z"
      },
      {
        "duration": 12,
        "start_time": "2021-11-16T19:41:12.202Z"
      },
      {
        "duration": 8,
        "start_time": "2021-11-16T19:41:12.216Z"
      },
      {
        "duration": 485,
        "start_time": "2021-11-16T19:41:12.226Z"
      },
      {
        "duration": 11,
        "start_time": "2021-11-16T19:41:12.713Z"
      },
      {
        "duration": 12,
        "start_time": "2021-11-16T19:41:12.726Z"
      },
      {
        "duration": 443,
        "start_time": "2021-11-16T19:41:12.740Z"
      },
      {
        "duration": 12,
        "start_time": "2021-11-16T19:41:13.186Z"
      },
      {
        "duration": 17,
        "start_time": "2021-11-16T19:41:13.200Z"
      },
      {
        "duration": 428,
        "start_time": "2021-11-16T19:41:13.219Z"
      },
      {
        "duration": 27,
        "start_time": "2021-11-16T19:41:13.650Z"
      },
      {
        "duration": 17,
        "start_time": "2021-11-16T19:41:13.679Z"
      },
      {
        "duration": 11,
        "start_time": "2021-11-16T19:41:13.699Z"
      },
      {
        "duration": 528,
        "start_time": "2021-11-16T19:41:13.712Z"
      },
      {
        "duration": 10,
        "start_time": "2021-11-16T19:41:14.242Z"
      },
      {
        "duration": 16,
        "start_time": "2021-11-16T19:41:14.254Z"
      },
      {
        "duration": 454,
        "start_time": "2021-11-16T19:41:14.276Z"
      },
      {
        "duration": 10,
        "start_time": "2021-11-16T19:41:14.733Z"
      },
      {
        "duration": 24,
        "start_time": "2021-11-16T19:41:14.745Z"
      },
      {
        "duration": 462,
        "start_time": "2021-11-16T19:41:14.771Z"
      },
      {
        "duration": 1008,
        "start_time": "2021-11-16T19:41:15.235Z"
      },
      {
        "duration": 17221,
        "start_time": "2021-11-16T19:41:16.245Z"
      },
      {
        "duration": 10,
        "start_time": "2021-11-16T19:43:14.132Z"
      },
      {
        "duration": 9,
        "start_time": "2021-11-16T19:43:42.992Z"
      },
      {
        "duration": 448,
        "start_time": "2021-11-16T20:49:03.328Z"
      },
      {
        "duration": 289,
        "start_time": "2021-11-16T20:49:19.419Z"
      },
      {
        "duration": 476,
        "start_time": "2021-11-16T20:49:30.681Z"
      },
      {
        "duration": 487,
        "start_time": "2021-11-16T20:50:19.170Z"
      },
      {
        "duration": 6,
        "start_time": "2021-11-16T21:03:09.816Z"
      },
      {
        "duration": 4,
        "start_time": "2021-11-16T21:13:11.571Z"
      },
      {
        "duration": 275,
        "start_time": "2021-11-16T21:13:53.128Z"
      },
      {
        "duration": 414,
        "start_time": "2021-11-16T21:14:14.953Z"
      },
      {
        "duration": 6,
        "start_time": "2021-11-16T21:14:37.548Z"
      },
      {
        "duration": 10,
        "start_time": "2021-11-16T21:16:06.569Z"
      },
      {
        "duration": 285,
        "start_time": "2021-11-16T21:17:30.324Z"
      },
      {
        "duration": 90,
        "start_time": "2021-11-16T21:17:50.870Z"
      },
      {
        "duration": 44,
        "start_time": "2021-11-16T21:18:18.278Z"
      },
      {
        "duration": 33,
        "start_time": "2021-11-16T21:19:30.585Z"
      },
      {
        "duration": 19,
        "start_time": "2021-11-16T21:19:45.089Z"
      },
      {
        "duration": 6,
        "start_time": "2021-11-16T21:20:28.777Z"
      },
      {
        "duration": 6,
        "start_time": "2021-11-16T21:21:14.741Z"
      },
      {
        "duration": 3,
        "start_time": "2021-11-16T21:22:29.174Z"
      },
      {
        "duration": 22,
        "start_time": "2021-11-16T21:22:30.738Z"
      },
      {
        "duration": 28,
        "start_time": "2021-11-16T21:22:38.720Z"
      },
      {
        "duration": 23,
        "start_time": "2021-11-16T21:23:07.281Z"
      },
      {
        "duration": 20,
        "start_time": "2021-11-16T21:23:45.245Z"
      },
      {
        "duration": 28,
        "start_time": "2021-11-16T21:23:47.734Z"
      },
      {
        "duration": 21,
        "start_time": "2021-11-16T21:23:59.060Z"
      },
      {
        "duration": 11,
        "start_time": "2021-11-16T21:24:28.256Z"
      },
      {
        "duration": 7,
        "start_time": "2021-11-16T21:24:38.560Z"
      },
      {
        "duration": 4,
        "start_time": "2021-11-16T21:24:43.104Z"
      },
      {
        "duration": 571,
        "start_time": "2021-11-16T21:24:43.111Z"
      },
      {
        "duration": 29,
        "start_time": "2021-11-16T21:24:43.686Z"
      },
      {
        "duration": 12,
        "start_time": "2021-11-16T21:24:43.719Z"
      },
      {
        "duration": 46,
        "start_time": "2021-11-16T21:24:43.734Z"
      },
      {
        "duration": 12,
        "start_time": "2021-11-16T21:24:43.783Z"
      },
      {
        "duration": 23,
        "start_time": "2021-11-16T21:24:43.798Z"
      },
      {
        "duration": 44,
        "start_time": "2021-11-16T21:24:43.825Z"
      },
      {
        "duration": 8,
        "start_time": "2021-11-16T21:24:43.876Z"
      },
      {
        "duration": 15,
        "start_time": "2021-11-16T21:24:43.888Z"
      },
      {
        "duration": 15,
        "start_time": "2021-11-16T21:24:43.906Z"
      },
      {
        "duration": 57,
        "start_time": "2021-11-16T21:24:43.924Z"
      },
      {
        "duration": 56,
        "start_time": "2021-11-16T21:24:43.984Z"
      },
      {
        "duration": 41,
        "start_time": "2021-11-16T21:24:44.043Z"
      },
      {
        "duration": 30,
        "start_time": "2021-11-16T21:24:44.087Z"
      },
      {
        "duration": 77,
        "start_time": "2021-11-16T21:24:44.120Z"
      },
      {
        "duration": 16,
        "start_time": "2021-11-16T21:24:44.200Z"
      },
      {
        "duration": 52,
        "start_time": "2021-11-16T21:24:44.219Z"
      },
      {
        "duration": 34,
        "start_time": "2021-11-16T21:24:44.273Z"
      },
      {
        "duration": 15,
        "start_time": "2021-11-16T21:24:44.309Z"
      },
      {
        "duration": 73,
        "start_time": "2021-11-16T21:24:44.326Z"
      },
      {
        "duration": 9,
        "start_time": "2021-11-16T21:24:44.401Z"
      },
      {
        "duration": 20,
        "start_time": "2021-11-16T21:24:44.413Z"
      },
      {
        "duration": 57,
        "start_time": "2021-11-16T21:24:44.435Z"
      },
      {
        "duration": 9,
        "start_time": "2021-11-16T21:24:44.494Z"
      },
      {
        "duration": 33,
        "start_time": "2021-11-16T21:24:44.505Z"
      },
      {
        "duration": 16,
        "start_time": "2021-11-16T21:24:44.571Z"
      },
      {
        "duration": 127,
        "start_time": "2021-11-16T21:24:44.590Z"
      },
      {
        "duration": 135,
        "start_time": "2021-11-16T21:24:44.719Z"
      },
      {
        "duration": 86,
        "start_time": "2021-11-16T21:24:44.857Z"
      },
      {
        "duration": 86,
        "start_time": "2021-11-16T21:24:44.945Z"
      },
      {
        "duration": 80,
        "start_time": "2021-11-16T21:24:45.033Z"
      },
      {
        "duration": 86,
        "start_time": "2021-11-16T21:24:45.116Z"
      },
      {
        "duration": 300,
        "start_time": "2021-11-16T21:24:45.205Z"
      },
      {
        "duration": 9,
        "start_time": "2021-11-16T21:24:45.507Z"
      },
      {
        "duration": 21,
        "start_time": "2021-11-16T21:24:45.519Z"
      },
      {
        "duration": 38,
        "start_time": "2021-11-16T21:24:45.543Z"
      },
      {
        "duration": 18,
        "start_time": "2021-11-16T21:24:45.583Z"
      },
      {
        "duration": 6,
        "start_time": "2021-11-16T21:24:45.603Z"
      },
      {
        "duration": 24,
        "start_time": "2021-11-16T21:24:45.612Z"
      },
      {
        "duration": 32,
        "start_time": "2021-11-16T21:24:45.667Z"
      },
      {
        "duration": 36,
        "start_time": "2021-11-16T21:24:45.701Z"
      },
      {
        "duration": 82,
        "start_time": "2021-11-16T21:24:45.739Z"
      },
      {
        "duration": 61,
        "start_time": "2021-11-16T21:24:45.823Z"
      },
      {
        "duration": 23,
        "start_time": "2021-11-16T21:24:45.886Z"
      },
      {
        "duration": 21,
        "start_time": "2021-11-16T21:24:45.912Z"
      },
      {
        "duration": 46,
        "start_time": "2021-11-16T21:24:45.936Z"
      },
      {
        "duration": 11,
        "start_time": "2021-11-16T21:24:45.985Z"
      },
      {
        "duration": 7,
        "start_time": "2021-11-16T21:24:45.998Z"
      },
      {
        "duration": 478,
        "start_time": "2021-11-16T21:24:46.007Z"
      },
      {
        "duration": 12,
        "start_time": "2021-11-16T21:24:46.487Z"
      },
      {
        "duration": 8,
        "start_time": "2021-11-16T21:24:46.501Z"
      },
      {
        "duration": 459,
        "start_time": "2021-11-16T21:24:46.511Z"
      },
      {
        "duration": 12,
        "start_time": "2021-11-16T21:24:46.972Z"
      },
      {
        "duration": 10,
        "start_time": "2021-11-16T21:24:46.987Z"
      },
      {
        "duration": 461,
        "start_time": "2021-11-16T21:24:46.999Z"
      },
      {
        "duration": 10,
        "start_time": "2021-11-16T21:24:47.467Z"
      },
      {
        "duration": 24,
        "start_time": "2021-11-16T21:24:47.480Z"
      },
      {
        "duration": 13,
        "start_time": "2021-11-16T21:24:47.507Z"
      },
      {
        "duration": 47,
        "start_time": "2021-11-16T21:24:47.522Z"
      },
      {
        "duration": 454,
        "start_time": "2021-11-16T21:24:47.572Z"
      },
      {
        "duration": 13,
        "start_time": "2021-11-16T21:24:48.029Z"
      },
      {
        "duration": 28,
        "start_time": "2021-11-16T21:24:48.045Z"
      },
      {
        "duration": 500,
        "start_time": "2021-11-16T21:24:48.076Z"
      },
      {
        "duration": 11,
        "start_time": "2021-11-16T21:24:48.578Z"
      },
      {
        "duration": 10,
        "start_time": "2021-11-16T21:24:48.591Z"
      },
      {
        "duration": 474,
        "start_time": "2021-11-16T21:24:48.604Z"
      },
      {
        "duration": 9,
        "start_time": "2021-11-16T21:24:49.081Z"
      },
      {
        "duration": 488,
        "start_time": "2021-11-16T21:24:49.092Z"
      },
      {
        "duration": 11,
        "start_time": "2021-11-16T21:24:57.046Z"
      },
      {
        "duration": 6,
        "start_time": "2021-11-16T21:25:18.603Z"
      },
      {
        "duration": 414,
        "start_time": "2021-11-16T21:25:50.937Z"
      },
      {
        "duration": 445,
        "start_time": "2021-11-16T21:33:42.160Z"
      },
      {
        "duration": 6,
        "start_time": "2021-11-16T21:33:43.903Z"
      },
      {
        "duration": 10,
        "start_time": "2021-11-16T21:33:45.527Z"
      },
      {
        "duration": 466,
        "start_time": "2021-11-16T21:45:13.179Z"
      },
      {
        "duration": 636,
        "start_time": "2021-11-16T21:53:04.865Z"
      },
      {
        "duration": 430,
        "start_time": "2021-11-16T21:53:43.121Z"
      },
      {
        "duration": 438,
        "start_time": "2021-11-16T21:53:51.847Z"
      },
      {
        "duration": 494,
        "start_time": "2021-11-16T21:54:14.156Z"
      },
      {
        "duration": 877,
        "start_time": "2021-11-16T21:54:40.154Z"
      },
      {
        "duration": 1683,
        "start_time": "2021-11-17T08:26:05.170Z"
      },
      {
        "duration": 2005,
        "start_time": "2021-11-17T08:26:06.856Z"
      },
      {
        "duration": 29,
        "start_time": "2021-11-17T08:26:08.864Z"
      },
      {
        "duration": 17,
        "start_time": "2021-11-17T08:26:08.896Z"
      },
      {
        "duration": 26,
        "start_time": "2021-11-17T08:26:08.915Z"
      },
      {
        "duration": 12,
        "start_time": "2021-11-17T08:26:08.968Z"
      },
      {
        "duration": 25,
        "start_time": "2021-11-17T08:26:08.983Z"
      },
      {
        "duration": 11,
        "start_time": "2021-11-17T08:26:09.012Z"
      },
      {
        "duration": 45,
        "start_time": "2021-11-17T08:26:09.026Z"
      },
      {
        "duration": 32,
        "start_time": "2021-11-17T08:26:09.074Z"
      },
      {
        "duration": 28,
        "start_time": "2021-11-17T08:26:09.109Z"
      },
      {
        "duration": 29,
        "start_time": "2021-11-17T08:26:09.140Z"
      },
      {
        "duration": 61,
        "start_time": "2021-11-17T08:26:09.172Z"
      },
      {
        "duration": 41,
        "start_time": "2021-11-17T08:26:09.235Z"
      },
      {
        "duration": 32,
        "start_time": "2021-11-17T08:26:09.279Z"
      },
      {
        "duration": 78,
        "start_time": "2021-11-17T08:26:09.313Z"
      },
      {
        "duration": 15,
        "start_time": "2021-11-17T08:26:09.393Z"
      },
      {
        "duration": 19,
        "start_time": "2021-11-17T08:26:09.411Z"
      },
      {
        "duration": 60,
        "start_time": "2021-11-17T08:26:09.433Z"
      },
      {
        "duration": 15,
        "start_time": "2021-11-17T08:26:09.496Z"
      },
      {
        "duration": 78,
        "start_time": "2021-11-17T08:26:09.514Z"
      },
      {
        "duration": 11,
        "start_time": "2021-11-17T08:26:09.595Z"
      },
      {
        "duration": 19,
        "start_time": "2021-11-17T08:26:09.612Z"
      },
      {
        "duration": 54,
        "start_time": "2021-11-17T08:26:09.635Z"
      },
      {
        "duration": 9,
        "start_time": "2021-11-17T08:26:09.691Z"
      },
      {
        "duration": 70,
        "start_time": "2021-11-17T08:26:09.703Z"
      },
      {
        "duration": 18,
        "start_time": "2021-11-17T08:26:09.775Z"
      },
      {
        "duration": 134,
        "start_time": "2021-11-17T08:26:09.795Z"
      },
      {
        "duration": 132,
        "start_time": "2021-11-17T08:26:09.931Z"
      },
      {
        "duration": 80,
        "start_time": "2021-11-17T08:26:10.066Z"
      },
      {
        "duration": 98,
        "start_time": "2021-11-17T08:26:10.148Z"
      },
      {
        "duration": 77,
        "start_time": "2021-11-17T08:26:10.249Z"
      },
      {
        "duration": 78,
        "start_time": "2021-11-17T08:26:10.328Z"
      },
      {
        "duration": 66,
        "start_time": "2021-11-17T08:26:10.408Z"
      },
      {
        "duration": 9,
        "start_time": "2021-11-17T08:26:10.476Z"
      },
      {
        "duration": 20,
        "start_time": "2021-11-17T08:26:10.488Z"
      },
      {
        "duration": 17,
        "start_time": "2021-11-17T08:26:10.510Z"
      },
      {
        "duration": 42,
        "start_time": "2021-11-17T08:26:10.529Z"
      },
      {
        "duration": 6,
        "start_time": "2021-11-17T08:26:10.574Z"
      },
      {
        "duration": 24,
        "start_time": "2021-11-17T08:26:10.582Z"
      },
      {
        "duration": 62,
        "start_time": "2021-11-17T08:26:10.609Z"
      },
      {
        "duration": 33,
        "start_time": "2021-11-17T08:26:10.674Z"
      },
      {
        "duration": 82,
        "start_time": "2021-11-17T08:26:10.710Z"
      },
      {
        "duration": 35,
        "start_time": "2021-11-17T08:26:10.795Z"
      },
      {
        "duration": 44,
        "start_time": "2021-11-17T08:26:10.833Z"
      },
      {
        "duration": 20,
        "start_time": "2021-11-17T08:26:10.879Z"
      },
      {
        "duration": 23,
        "start_time": "2021-11-17T08:26:10.901Z"
      },
      {
        "duration": 10,
        "start_time": "2021-11-17T08:26:10.926Z"
      },
      {
        "duration": 7,
        "start_time": "2021-11-17T08:26:10.968Z"
      },
      {
        "duration": 449,
        "start_time": "2021-11-17T08:26:10.978Z"
      },
      {
        "duration": 14,
        "start_time": "2021-11-17T08:26:11.430Z"
      },
      {
        "duration": 24,
        "start_time": "2021-11-17T08:26:11.446Z"
      },
      {
        "duration": 431,
        "start_time": "2021-11-17T08:26:11.472Z"
      },
      {
        "duration": 11,
        "start_time": "2021-11-17T08:26:11.906Z"
      },
      {
        "duration": 10,
        "start_time": "2021-11-17T08:26:11.919Z"
      },
      {
        "duration": 459,
        "start_time": "2021-11-17T08:26:11.931Z"
      },
      {
        "duration": 12,
        "start_time": "2021-11-17T08:26:12.392Z"
      },
      {
        "duration": 7,
        "start_time": "2021-11-17T08:26:12.407Z"
      },
      {
        "duration": 507,
        "start_time": "2021-11-17T08:26:12.416Z"
      },
      {
        "duration": 21,
        "start_time": "2021-11-17T08:26:12.926Z"
      },
      {
        "duration": 12,
        "start_time": "2021-11-17T08:26:12.966Z"
      },
      {
        "duration": 7,
        "start_time": "2021-11-17T08:26:12.980Z"
      },
      {
        "duration": 468,
        "start_time": "2021-11-17T08:26:12.990Z"
      },
      {
        "duration": 11,
        "start_time": "2021-11-17T08:26:13.467Z"
      },
      {
        "duration": 8,
        "start_time": "2021-11-17T08:26:13.480Z"
      },
      {
        "duration": 479,
        "start_time": "2021-11-17T08:26:13.490Z"
      },
      {
        "duration": 12,
        "start_time": "2021-11-17T08:26:13.971Z"
      },
      {
        "duration": 6,
        "start_time": "2021-11-17T08:26:13.990Z"
      },
      {
        "duration": 519,
        "start_time": "2021-11-17T08:26:13.999Z"
      },
      {
        "duration": 12,
        "start_time": "2021-11-17T08:26:14.521Z"
      },
      {
        "duration": 32,
        "start_time": "2021-11-17T08:26:14.535Z"
      },
      {
        "duration": 478,
        "start_time": "2021-11-17T08:26:14.570Z"
      },
      {
        "duration": 587,
        "start_time": "2021-11-17T08:26:15.051Z"
      },
      {
        "duration": -83,
        "start_time": "2021-11-17T08:26:15.724Z"
      },
      {
        "duration": -90,
        "start_time": "2021-11-17T08:26:15.732Z"
      },
      {
        "duration": -111,
        "start_time": "2021-11-17T08:26:15.755Z"
      },
      {
        "duration": 272,
        "start_time": "2021-11-17T08:37:18.018Z"
      },
      {
        "duration": 5,
        "start_time": "2021-11-17T08:37:25.735Z"
      },
      {
        "duration": 600,
        "start_time": "2021-11-17T08:37:25.747Z"
      },
      {
        "duration": 46,
        "start_time": "2021-11-17T08:37:26.350Z"
      },
      {
        "duration": 12,
        "start_time": "2021-11-17T08:37:26.400Z"
      },
      {
        "duration": 27,
        "start_time": "2021-11-17T08:37:26.415Z"
      },
      {
        "duration": 22,
        "start_time": "2021-11-17T08:37:26.445Z"
      },
      {
        "duration": 37,
        "start_time": "2021-11-17T08:37:26.470Z"
      },
      {
        "duration": 10,
        "start_time": "2021-11-17T08:37:26.510Z"
      },
      {
        "duration": 11,
        "start_time": "2021-11-17T08:37:26.523Z"
      },
      {
        "duration": 36,
        "start_time": "2021-11-17T08:37:26.538Z"
      },
      {
        "duration": 17,
        "start_time": "2021-11-17T08:37:26.577Z"
      },
      {
        "duration": 18,
        "start_time": "2021-11-17T08:37:26.597Z"
      },
      {
        "duration": 87,
        "start_time": "2021-11-17T08:37:26.618Z"
      },
      {
        "duration": 19,
        "start_time": "2021-11-17T08:37:26.708Z"
      },
      {
        "duration": 51,
        "start_time": "2021-11-17T08:37:26.729Z"
      },
      {
        "duration": 45,
        "start_time": "2021-11-17T08:37:26.782Z"
      },
      {
        "duration": 39,
        "start_time": "2021-11-17T08:37:26.830Z"
      },
      {
        "duration": 19,
        "start_time": "2021-11-17T08:37:26.872Z"
      },
      {
        "duration": 37,
        "start_time": "2021-11-17T08:37:26.894Z"
      },
      {
        "duration": 44,
        "start_time": "2021-11-17T08:37:26.934Z"
      },
      {
        "duration": 50,
        "start_time": "2021-11-17T08:37:26.981Z"
      },
      {
        "duration": 9,
        "start_time": "2021-11-17T08:37:27.033Z"
      },
      {
        "duration": 40,
        "start_time": "2021-11-17T08:37:27.045Z"
      },
      {
        "duration": 30,
        "start_time": "2021-11-17T08:37:27.089Z"
      },
      {
        "duration": 9,
        "start_time": "2021-11-17T08:37:27.121Z"
      },
      {
        "duration": 62,
        "start_time": "2021-11-17T08:37:27.133Z"
      },
      {
        "duration": 17,
        "start_time": "2021-11-17T08:37:27.197Z"
      },
      {
        "duration": 137,
        "start_time": "2021-11-17T08:37:27.222Z"
      },
      {
        "duration": 129,
        "start_time": "2021-11-17T08:37:27.368Z"
      },
      {
        "duration": 91,
        "start_time": "2021-11-17T08:37:27.499Z"
      },
      {
        "duration": 80,
        "start_time": "2021-11-17T08:37:27.592Z"
      },
      {
        "duration": 75,
        "start_time": "2021-11-17T08:37:27.675Z"
      },
      {
        "duration": 78,
        "start_time": "2021-11-17T08:37:27.752Z"
      },
      {
        "duration": 80,
        "start_time": "2021-11-17T08:37:27.832Z"
      },
      {
        "duration": 9,
        "start_time": "2021-11-17T08:37:27.915Z"
      },
      {
        "duration": 43,
        "start_time": "2021-11-17T08:37:27.926Z"
      },
      {
        "duration": 19,
        "start_time": "2021-11-17T08:37:27.972Z"
      },
      {
        "duration": 12,
        "start_time": "2021-11-17T08:37:27.993Z"
      },
      {
        "duration": 11,
        "start_time": "2021-11-17T08:37:28.008Z"
      },
      {
        "duration": 50,
        "start_time": "2021-11-17T08:37:28.022Z"
      },
      {
        "duration": 32,
        "start_time": "2021-11-17T08:37:28.075Z"
      },
      {
        "duration": 59,
        "start_time": "2021-11-17T08:37:28.110Z"
      },
      {
        "duration": 61,
        "start_time": "2021-11-17T08:37:28.172Z"
      },
      {
        "duration": 73,
        "start_time": "2021-11-17T08:37:28.235Z"
      },
      {
        "duration": 26,
        "start_time": "2021-11-17T08:37:28.311Z"
      },
      {
        "duration": 41,
        "start_time": "2021-11-17T08:37:28.339Z"
      },
      {
        "duration": 29,
        "start_time": "2021-11-17T08:37:28.383Z"
      },
      {
        "duration": 10,
        "start_time": "2021-11-17T08:37:28.414Z"
      },
      {
        "duration": 15,
        "start_time": "2021-11-17T08:37:28.426Z"
      },
      {
        "duration": 599,
        "start_time": "2021-11-17T08:37:28.443Z"
      },
      {
        "duration": 24,
        "start_time": "2021-11-17T08:37:29.045Z"
      },
      {
        "duration": 7,
        "start_time": "2021-11-17T08:37:29.071Z"
      },
      {
        "duration": 463,
        "start_time": "2021-11-17T08:37:29.080Z"
      },
      {
        "duration": 23,
        "start_time": "2021-11-17T08:37:29.545Z"
      },
      {
        "duration": 7,
        "start_time": "2021-11-17T08:37:29.571Z"
      },
      {
        "duration": 451,
        "start_time": "2021-11-17T08:37:29.581Z"
      },
      {
        "duration": 13,
        "start_time": "2021-11-17T08:37:30.035Z"
      },
      {
        "duration": 10,
        "start_time": "2021-11-17T08:37:30.068Z"
      },
      {
        "duration": 467,
        "start_time": "2021-11-17T08:37:30.080Z"
      },
      {
        "duration": 29,
        "start_time": "2021-11-17T08:37:30.549Z"
      },
      {
        "duration": 33,
        "start_time": "2021-11-17T08:37:30.581Z"
      },
      {
        "duration": 22,
        "start_time": "2021-11-17T08:37:30.616Z"
      },
      {
        "duration": 479,
        "start_time": "2021-11-17T08:37:30.640Z"
      },
      {
        "duration": 13,
        "start_time": "2021-11-17T08:37:31.122Z"
      },
      {
        "duration": 31,
        "start_time": "2021-11-17T08:37:31.138Z"
      },
      {
        "duration": 495,
        "start_time": "2021-11-17T08:37:31.172Z"
      },
      {
        "duration": 14,
        "start_time": "2021-11-17T08:37:31.670Z"
      },
      {
        "duration": 12,
        "start_time": "2021-11-17T08:37:31.686Z"
      },
      {
        "duration": 508,
        "start_time": "2021-11-17T08:37:31.700Z"
      },
      {
        "duration": 10,
        "start_time": "2021-11-17T08:37:32.211Z"
      },
      {
        "duration": 8,
        "start_time": "2021-11-17T08:37:32.224Z"
      },
      {
        "duration": 550,
        "start_time": "2021-11-17T08:37:32.235Z"
      },
      {
        "duration": 629,
        "start_time": "2021-11-17T08:37:32.788Z"
      },
      {
        "duration": -939,
        "start_time": "2021-11-17T08:37:34.358Z"
      },
      {
        "duration": -966,
        "start_time": "2021-11-17T08:37:34.387Z"
      },
      {
        "duration": -972,
        "start_time": "2021-11-17T08:37:34.394Z"
      },
      {
        "duration": -978,
        "start_time": "2021-11-17T08:37:34.401Z"
      },
      {
        "duration": 279,
        "start_time": "2021-11-17T08:38:17.564Z"
      },
      {
        "duration": 275,
        "start_time": "2021-11-17T08:39:14.127Z"
      },
      {
        "duration": 1510,
        "start_time": "2021-11-17T08:39:24.922Z"
      },
      {
        "duration": 529,
        "start_time": "2021-11-17T08:39:26.435Z"
      },
      {
        "duration": 28,
        "start_time": "2021-11-17T08:39:26.966Z"
      },
      {
        "duration": 15,
        "start_time": "2021-11-17T08:39:26.997Z"
      },
      {
        "duration": 23,
        "start_time": "2021-11-17T08:39:27.015Z"
      },
      {
        "duration": 11,
        "start_time": "2021-11-17T08:39:27.067Z"
      },
      {
        "duration": 25,
        "start_time": "2021-11-17T08:39:27.080Z"
      },
      {
        "duration": 11,
        "start_time": "2021-11-17T08:39:27.109Z"
      },
      {
        "duration": 10,
        "start_time": "2021-11-17T08:39:27.123Z"
      },
      {
        "duration": 43,
        "start_time": "2021-11-17T08:39:27.135Z"
      },
      {
        "duration": 10,
        "start_time": "2021-11-17T08:39:27.181Z"
      },
      {
        "duration": 20,
        "start_time": "2021-11-17T08:39:27.193Z"
      },
      {
        "duration": 90,
        "start_time": "2021-11-17T08:39:27.215Z"
      },
      {
        "duration": 20,
        "start_time": "2021-11-17T08:39:27.308Z"
      },
      {
        "duration": 53,
        "start_time": "2021-11-17T08:39:27.331Z"
      },
      {
        "duration": 44,
        "start_time": "2021-11-17T08:39:27.387Z"
      },
      {
        "duration": 39,
        "start_time": "2021-11-17T08:39:27.433Z"
      },
      {
        "duration": 19,
        "start_time": "2021-11-17T08:39:27.474Z"
      },
      {
        "duration": 36,
        "start_time": "2021-11-17T08:39:27.495Z"
      },
      {
        "duration": 40,
        "start_time": "2021-11-17T08:39:27.533Z"
      },
      {
        "duration": 44,
        "start_time": "2021-11-17T08:39:27.575Z"
      },
      {
        "duration": 11,
        "start_time": "2021-11-17T08:39:27.622Z"
      },
      {
        "duration": 20,
        "start_time": "2021-11-17T08:39:27.671Z"
      },
      {
        "duration": 28,
        "start_time": "2021-11-17T08:39:27.695Z"
      },
      {
        "duration": 41,
        "start_time": "2021-11-17T08:39:27.726Z"
      },
      {
        "duration": 33,
        "start_time": "2021-11-17T08:39:27.770Z"
      },
      {
        "duration": 17,
        "start_time": "2021-11-17T08:39:27.805Z"
      },
      {
        "duration": 138,
        "start_time": "2021-11-17T08:39:27.824Z"
      },
      {
        "duration": 143,
        "start_time": "2021-11-17T08:39:27.964Z"
      },
      {
        "duration": 91,
        "start_time": "2021-11-17T08:39:28.109Z"
      },
      {
        "duration": 86,
        "start_time": "2021-11-17T08:39:28.202Z"
      },
      {
        "duration": 76,
        "start_time": "2021-11-17T08:39:28.291Z"
      },
      {
        "duration": 61,
        "start_time": "2021-11-17T08:39:28.369Z"
      },
      {
        "duration": 76,
        "start_time": "2021-11-17T08:39:28.432Z"
      },
      {
        "duration": 9,
        "start_time": "2021-11-17T08:39:28.510Z"
      },
      {
        "duration": 22,
        "start_time": "2021-11-17T08:39:28.522Z"
      },
      {
        "duration": 35,
        "start_time": "2021-11-17T08:39:28.546Z"
      },
      {
        "duration": 15,
        "start_time": "2021-11-17T08:39:28.584Z"
      },
      {
        "duration": 7,
        "start_time": "2021-11-17T08:39:28.601Z"
      },
      {
        "duration": 56,
        "start_time": "2021-11-17T08:39:28.611Z"
      },
      {
        "duration": 35,
        "start_time": "2021-11-17T08:39:28.670Z"
      },
      {
        "duration": 35,
        "start_time": "2021-11-17T08:39:28.707Z"
      },
      {
        "duration": 58,
        "start_time": "2021-11-17T08:39:28.768Z"
      },
      {
        "duration": 59,
        "start_time": "2021-11-17T08:39:28.829Z"
      },
      {
        "duration": 23,
        "start_time": "2021-11-17T08:39:28.890Z"
      },
      {
        "duration": 22,
        "start_time": "2021-11-17T08:39:28.915Z"
      },
      {
        "duration": 20,
        "start_time": "2021-11-17T08:39:28.968Z"
      },
      {
        "duration": 13,
        "start_time": "2021-11-17T08:39:28.991Z"
      },
      {
        "duration": 6,
        "start_time": "2021-11-17T08:39:29.006Z"
      },
      {
        "duration": 459,
        "start_time": "2021-11-17T08:39:29.014Z"
      },
      {
        "duration": 11,
        "start_time": "2021-11-17T08:39:29.475Z"
      },
      {
        "duration": 12,
        "start_time": "2021-11-17T08:39:29.489Z"
      },
      {
        "duration": 463,
        "start_time": "2021-11-17T08:39:29.503Z"
      },
      {
        "duration": 10,
        "start_time": "2021-11-17T08:39:29.969Z"
      },
      {
        "duration": 7,
        "start_time": "2021-11-17T08:39:29.981Z"
      },
      {
        "duration": 450,
        "start_time": "2021-11-17T08:39:29.990Z"
      },
      {
        "duration": 10,
        "start_time": "2021-11-17T08:39:30.443Z"
      },
      {
        "duration": 10,
        "start_time": "2021-11-17T08:39:30.467Z"
      },
      {
        "duration": 497,
        "start_time": "2021-11-17T08:39:30.479Z"
      },
      {
        "duration": 19,
        "start_time": "2021-11-17T08:39:30.979Z"
      },
      {
        "duration": 17,
        "start_time": "2021-11-17T08:39:31.000Z"
      },
      {
        "duration": 10,
        "start_time": "2021-11-17T08:39:31.020Z"
      },
      {
        "duration": 485,
        "start_time": "2021-11-17T08:39:31.032Z"
      },
      {
        "duration": 11,
        "start_time": "2021-11-17T08:39:31.519Z"
      },
      {
        "duration": 9,
        "start_time": "2021-11-17T08:39:31.532Z"
      },
      {
        "duration": 453,
        "start_time": "2021-11-17T08:39:31.568Z"
      },
      {
        "duration": 12,
        "start_time": "2021-11-17T08:39:32.023Z"
      },
      {
        "duration": 28,
        "start_time": "2021-11-17T08:39:32.043Z"
      },
      {
        "duration": 511,
        "start_time": "2021-11-17T08:39:32.073Z"
      },
      {
        "duration": 11,
        "start_time": "2021-11-17T08:39:32.587Z"
      },
      {
        "duration": 8,
        "start_time": "2021-11-17T08:39:32.600Z"
      },
      {
        "duration": 476,
        "start_time": "2021-11-17T08:39:32.610Z"
      },
      {
        "duration": 482,
        "start_time": "2021-11-17T08:39:33.088Z"
      },
      {
        "duration": -454,
        "start_time": "2021-11-17T08:39:34.026Z"
      },
      {
        "duration": -481,
        "start_time": "2021-11-17T08:39:34.054Z"
      },
      {
        "duration": -486,
        "start_time": "2021-11-17T08:39:34.061Z"
      },
      {
        "duration": -494,
        "start_time": "2021-11-17T08:39:34.071Z"
      },
      {
        "duration": 468,
        "start_time": "2021-11-17T08:39:56.301Z"
      },
      {
        "duration": 522,
        "start_time": "2021-11-17T08:40:08.011Z"
      },
      {
        "duration": 601,
        "start_time": "2021-11-17T08:40:08.544Z"
      },
      {
        "duration": 422,
        "start_time": "2021-11-17T08:40:09.149Z"
      },
      {
        "duration": 5,
        "start_time": "2021-11-17T08:40:09.574Z"
      },
      {
        "duration": 131,
        "start_time": "2021-11-17T09:35:44.397Z"
      },
      {
        "duration": 295,
        "start_time": "2021-11-17T09:36:11.630Z"
      },
      {
        "duration": 304,
        "start_time": "2021-11-17T09:36:32.724Z"
      },
      {
        "duration": 22,
        "start_time": "2021-11-17T09:36:42.636Z"
      },
      {
        "duration": 15,
        "start_time": "2021-11-17T10:20:11.744Z"
      },
      {
        "duration": 15,
        "start_time": "2021-11-17T10:20:22.906Z"
      },
      {
        "duration": 16,
        "start_time": "2021-11-17T10:20:38.562Z"
      },
      {
        "duration": 15,
        "start_time": "2021-11-17T10:20:58.300Z"
      },
      {
        "duration": 18,
        "start_time": "2021-11-17T10:21:02.177Z"
      },
      {
        "duration": 15,
        "start_time": "2021-11-17T10:32:48.715Z"
      },
      {
        "duration": 14,
        "start_time": "2021-11-17T10:33:30.392Z"
      },
      {
        "duration": 274,
        "start_time": "2021-11-17T10:44:52.889Z"
      },
      {
        "duration": 19,
        "start_time": "2021-11-17T10:45:02.508Z"
      },
      {
        "duration": 1463,
        "start_time": "2021-11-17T11:46:52.373Z"
      },
      {
        "duration": 560,
        "start_time": "2021-11-17T11:46:53.839Z"
      },
      {
        "duration": 29,
        "start_time": "2021-11-17T11:46:54.402Z"
      },
      {
        "duration": 16,
        "start_time": "2021-11-17T11:46:54.435Z"
      },
      {
        "duration": 25,
        "start_time": "2021-11-17T11:46:54.454Z"
      },
      {
        "duration": 12,
        "start_time": "2021-11-17T11:46:54.482Z"
      },
      {
        "duration": 22,
        "start_time": "2021-11-17T11:46:54.497Z"
      },
      {
        "duration": 49,
        "start_time": "2021-11-17T11:46:54.524Z"
      },
      {
        "duration": 11,
        "start_time": "2021-11-17T11:46:54.576Z"
      },
      {
        "duration": 15,
        "start_time": "2021-11-17T11:46:54.590Z"
      },
      {
        "duration": 12,
        "start_time": "2021-11-17T11:46:54.608Z"
      },
      {
        "duration": 56,
        "start_time": "2021-11-17T11:46:54.623Z"
      },
      {
        "duration": 67,
        "start_time": "2021-11-17T11:46:54.682Z"
      },
      {
        "duration": 37,
        "start_time": "2021-11-17T11:46:54.751Z"
      },
      {
        "duration": 35,
        "start_time": "2021-11-17T11:46:54.791Z"
      },
      {
        "duration": 79,
        "start_time": "2021-11-17T11:46:54.828Z"
      },
      {
        "duration": 15,
        "start_time": "2021-11-17T11:46:54.909Z"
      },
      {
        "duration": 49,
        "start_time": "2021-11-17T11:46:54.926Z"
      },
      {
        "duration": 37,
        "start_time": "2021-11-17T11:46:54.978Z"
      },
      {
        "duration": 15,
        "start_time": "2021-11-17T11:46:55.017Z"
      },
      {
        "duration": 73,
        "start_time": "2021-11-17T11:46:55.035Z"
      },
      {
        "duration": 11,
        "start_time": "2021-11-17T11:46:55.110Z"
      },
      {
        "duration": 52,
        "start_time": "2021-11-17T11:46:55.129Z"
      },
      {
        "duration": 36,
        "start_time": "2021-11-17T11:46:55.186Z"
      },
      {
        "duration": 12,
        "start_time": "2021-11-17T11:46:55.225Z"
      },
      {
        "duration": 34,
        "start_time": "2021-11-17T11:46:55.267Z"
      },
      {
        "duration": 17,
        "start_time": "2021-11-17T11:46:55.304Z"
      },
      {
        "duration": 150,
        "start_time": "2021-11-17T11:46:55.323Z"
      },
      {
        "duration": 137,
        "start_time": "2021-11-17T11:46:55.476Z"
      },
      {
        "duration": 96,
        "start_time": "2021-11-17T11:46:55.616Z"
      },
      {
        "duration": 87,
        "start_time": "2021-11-17T11:46:55.715Z"
      },
      {
        "duration": 79,
        "start_time": "2021-11-17T11:46:55.804Z"
      },
      {
        "duration": 62,
        "start_time": "2021-11-17T11:46:55.885Z"
      },
      {
        "duration": 54,
        "start_time": "2021-11-17T11:46:55.967Z"
      },
      {
        "duration": 13,
        "start_time": "2021-11-17T11:46:56.024Z"
      },
      {
        "duration": 44,
        "start_time": "2021-11-17T11:46:56.040Z"
      },
      {
        "duration": 18,
        "start_time": "2021-11-17T11:46:56.087Z"
      },
      {
        "duration": 12,
        "start_time": "2021-11-17T11:46:56.108Z"
      },
      {
        "duration": 44,
        "start_time": "2021-11-17T11:46:56.123Z"
      },
      {
        "duration": 23,
        "start_time": "2021-11-17T11:46:56.170Z"
      },
      {
        "duration": 35,
        "start_time": "2021-11-17T11:46:56.196Z"
      },
      {
        "duration": 60,
        "start_time": "2021-11-17T11:46:56.233Z"
      },
      {
        "duration": 110,
        "start_time": "2021-11-17T11:46:56.295Z"
      },
      {
        "duration": 64,
        "start_time": "2021-11-17T11:46:56.408Z"
      },
      {
        "duration": 22,
        "start_time": "2021-11-17T11:46:56.474Z"
      },
      {
        "duration": 20,
        "start_time": "2021-11-17T11:46:56.499Z"
      },
      {
        "duration": 62,
        "start_time": "2021-11-17T11:46:56.522Z"
      },
      {
        "duration": 15,
        "start_time": "2021-11-17T11:46:56.587Z"
      },
      {
        "duration": 8,
        "start_time": "2021-11-17T11:46:56.605Z"
      },
      {
        "duration": 474,
        "start_time": "2021-11-17T11:46:56.616Z"
      },
      {
        "duration": 12,
        "start_time": "2021-11-17T11:46:57.092Z"
      },
      {
        "duration": 8,
        "start_time": "2021-11-17T11:46:57.107Z"
      },
      {
        "duration": 457,
        "start_time": "2021-11-17T11:46:57.118Z"
      },
      {
        "duration": 11,
        "start_time": "2021-11-17T11:46:57.578Z"
      },
      {
        "duration": 9,
        "start_time": "2021-11-17T11:46:57.592Z"
      },
      {
        "duration": 455,
        "start_time": "2021-11-17T11:46:57.603Z"
      },
      {
        "duration": 16,
        "start_time": "2021-11-17T11:46:58.060Z"
      },
      {
        "duration": 6,
        "start_time": "2021-11-17T11:46:58.078Z"
      },
      {
        "duration": 732,
        "start_time": "2021-11-17T11:46:58.087Z"
      },
      {
        "duration": 19,
        "start_time": "2021-11-17T11:46:58.822Z"
      },
      {
        "duration": 32,
        "start_time": "2021-11-17T11:46:58.844Z"
      },
      {
        "duration": 8,
        "start_time": "2021-11-17T11:46:58.879Z"
      },
      {
        "duration": 484,
        "start_time": "2021-11-17T11:46:58.889Z"
      },
      {
        "duration": 11,
        "start_time": "2021-11-17T11:46:59.376Z"
      },
      {
        "duration": 9,
        "start_time": "2021-11-17T11:46:59.390Z"
      },
      {
        "duration": 501,
        "start_time": "2021-11-17T11:46:59.402Z"
      },
      {
        "duration": 12,
        "start_time": "2021-11-17T11:46:59.905Z"
      },
      {
        "duration": 7,
        "start_time": "2021-11-17T11:46:59.925Z"
      },
      {
        "duration": 744,
        "start_time": "2021-11-17T11:46:59.936Z"
      },
      {
        "duration": 14,
        "start_time": "2021-11-17T11:47:00.683Z"
      },
      {
        "duration": 14,
        "start_time": "2021-11-17T11:47:00.700Z"
      },
      {
        "duration": 915,
        "start_time": "2021-11-17T11:47:00.716Z"
      },
      {
        "duration": 765,
        "start_time": "2021-11-17T11:47:01.634Z"
      },
      {
        "duration": 865,
        "start_time": "2021-11-17T11:47:02.402Z"
      },
      {
        "duration": 653,
        "start_time": "2021-11-17T11:47:03.270Z"
      },
      {
        "duration": 438,
        "start_time": "2021-11-17T11:47:03.925Z"
      },
      {
        "duration": 16,
        "start_time": "2021-11-17T11:47:04.367Z"
      },
      {
        "duration": 26,
        "start_time": "2021-11-17T11:47:04.385Z"
      },
      {
        "duration": 15,
        "start_time": "2021-11-17T11:48:44.909Z"
      },
      {
        "duration": 6,
        "start_time": "2021-11-17T12:01:39.522Z"
      },
      {
        "duration": 20,
        "start_time": "2021-11-17T12:01:49.458Z"
      },
      {
        "duration": 17,
        "start_time": "2021-11-17T12:04:22.420Z"
      },
      {
        "duration": 22,
        "start_time": "2021-11-17T12:04:57.097Z"
      },
      {
        "duration": 21,
        "start_time": "2021-11-17T12:10:08.736Z"
      },
      {
        "duration": 19,
        "start_time": "2021-11-17T12:10:30.481Z"
      },
      {
        "duration": 383,
        "start_time": "2021-11-17T12:11:12.786Z"
      },
      {
        "duration": 12,
        "start_time": "2021-11-17T12:11:18.513Z"
      },
      {
        "duration": 9,
        "start_time": "2021-11-17T12:11:43.393Z"
      },
      {
        "duration": 7,
        "start_time": "2021-11-17T12:14:39.084Z"
      },
      {
        "duration": 17,
        "start_time": "2021-11-17T12:17:27.217Z"
      },
      {
        "duration": 22,
        "start_time": "2021-11-17T12:17:56.586Z"
      },
      {
        "duration": 1539,
        "start_time": "2021-11-17T13:00:31.993Z"
      },
      {
        "duration": 518,
        "start_time": "2021-11-17T13:00:33.535Z"
      },
      {
        "duration": 28,
        "start_time": "2021-11-17T13:00:34.059Z"
      },
      {
        "duration": 20,
        "start_time": "2021-11-17T13:00:34.089Z"
      },
      {
        "duration": 30,
        "start_time": "2021-11-17T13:00:34.111Z"
      },
      {
        "duration": 13,
        "start_time": "2021-11-17T13:00:34.167Z"
      },
      {
        "duration": 21,
        "start_time": "2021-11-17T13:00:34.184Z"
      },
      {
        "duration": 11,
        "start_time": "2021-11-17T13:00:34.208Z"
      },
      {
        "duration": 50,
        "start_time": "2021-11-17T13:00:34.222Z"
      },
      {
        "duration": 20,
        "start_time": "2021-11-17T13:00:34.275Z"
      },
      {
        "duration": 15,
        "start_time": "2021-11-17T13:00:34.298Z"
      },
      {
        "duration": 29,
        "start_time": "2021-11-17T13:00:34.316Z"
      },
      {
        "duration": 119,
        "start_time": "2021-11-17T13:00:34.348Z"
      },
      {
        "duration": 27,
        "start_time": "2021-11-17T13:00:34.470Z"
      },
      {
        "duration": 44,
        "start_time": "2021-11-17T13:00:34.499Z"
      },
      {
        "duration": 67,
        "start_time": "2021-11-17T13:00:34.568Z"
      },
      {
        "duration": 41,
        "start_time": "2021-11-17T13:00:34.638Z"
      },
      {
        "duration": 27,
        "start_time": "2021-11-17T13:00:34.682Z"
      },
      {
        "duration": 80,
        "start_time": "2021-11-17T13:00:34.711Z"
      },
      {
        "duration": 19,
        "start_time": "2021-11-17T13:00:34.794Z"
      },
      {
        "duration": 65,
        "start_time": "2021-11-17T13:00:34.816Z"
      },
      {
        "duration": 10,
        "start_time": "2021-11-17T13:00:34.890Z"
      },
      {
        "duration": 21,
        "start_time": "2021-11-17T13:00:34.904Z"
      },
      {
        "duration": 56,
        "start_time": "2021-11-17T13:00:34.928Z"
      },
      {
        "duration": 8,
        "start_time": "2021-11-17T13:00:34.987Z"
      },
      {
        "duration": 41,
        "start_time": "2021-11-17T13:00:34.998Z"
      },
      {
        "duration": 39,
        "start_time": "2021-11-17T13:00:35.042Z"
      },
      {
        "duration": 130,
        "start_time": "2021-11-17T13:00:35.083Z"
      },
      {
        "duration": 131,
        "start_time": "2021-11-17T13:00:35.215Z"
      },
      {
        "duration": 88,
        "start_time": "2021-11-17T13:00:35.348Z"
      },
      {
        "duration": 88,
        "start_time": "2021-11-17T13:00:35.438Z"
      },
      {
        "duration": 80,
        "start_time": "2021-11-17T13:00:35.528Z"
      },
      {
        "duration": 70,
        "start_time": "2021-11-17T13:00:35.610Z"
      },
      {
        "duration": 52,
        "start_time": "2021-11-17T13:00:35.683Z"
      },
      {
        "duration": 34,
        "start_time": "2021-11-17T13:00:35.737Z"
      },
      {
        "duration": 23,
        "start_time": "2021-11-17T13:00:35.773Z"
      },
      {
        "duration": 16,
        "start_time": "2021-11-17T13:00:35.799Z"
      },
      {
        "duration": 50,
        "start_time": "2021-11-17T13:00:35.817Z"
      },
      {
        "duration": 9,
        "start_time": "2021-11-17T13:00:35.870Z"
      },
      {
        "duration": 35,
        "start_time": "2021-11-17T13:00:35.882Z"
      },
      {
        "duration": 71,
        "start_time": "2021-11-17T13:00:35.920Z"
      },
      {
        "duration": 35,
        "start_time": "2021-11-17T13:00:35.993Z"
      },
      {
        "duration": 75,
        "start_time": "2021-11-17T13:00:36.031Z"
      },
      {
        "duration": 40,
        "start_time": "2021-11-17T13:00:36.109Z"
      },
      {
        "duration": 22,
        "start_time": "2021-11-17T13:00:36.167Z"
      },
      {
        "duration": 21,
        "start_time": "2021-11-17T13:00:36.191Z"
      },
      {
        "duration": 22,
        "start_time": "2021-11-17T13:00:36.214Z"
      },
      {
        "duration": 11,
        "start_time": "2021-11-17T13:00:36.268Z"
      },
      {
        "duration": 10,
        "start_time": "2021-11-17T13:00:36.282Z"
      },
      {
        "duration": 473,
        "start_time": "2021-11-17T13:00:36.294Z"
      },
      {
        "duration": 13,
        "start_time": "2021-11-17T13:00:36.770Z"
      },
      {
        "duration": 13,
        "start_time": "2021-11-17T13:00:36.786Z"
      },
      {
        "duration": 457,
        "start_time": "2021-11-17T13:00:36.801Z"
      },
      {
        "duration": 18,
        "start_time": "2021-11-17T13:00:37.261Z"
      },
      {
        "duration": 7,
        "start_time": "2021-11-17T13:00:37.282Z"
      },
      {
        "duration": 475,
        "start_time": "2021-11-17T13:00:37.292Z"
      },
      {
        "duration": 11,
        "start_time": "2021-11-17T13:00:37.769Z"
      },
      {
        "duration": 10,
        "start_time": "2021-11-17T13:00:37.783Z"
      },
      {
        "duration": 486,
        "start_time": "2021-11-17T13:00:37.796Z"
      },
      {
        "duration": 20,
        "start_time": "2021-11-17T13:00:38.285Z"
      },
      {
        "duration": 18,
        "start_time": "2021-11-17T13:00:38.308Z"
      },
      {
        "duration": 40,
        "start_time": "2021-11-17T13:00:38.329Z"
      },
      {
        "duration": 458,
        "start_time": "2021-11-17T13:00:38.372Z"
      },
      {
        "duration": 13,
        "start_time": "2021-11-17T13:00:38.832Z"
      },
      {
        "duration": 6,
        "start_time": "2021-11-17T13:00:38.867Z"
      },
      {
        "duration": 483,
        "start_time": "2021-11-17T13:00:38.876Z"
      },
      {
        "duration": 11,
        "start_time": "2021-11-17T13:00:39.371Z"
      },
      {
        "duration": 8,
        "start_time": "2021-11-17T13:00:39.385Z"
      },
      {
        "duration": 487,
        "start_time": "2021-11-17T13:00:39.395Z"
      },
      {
        "duration": 12,
        "start_time": "2021-11-17T13:00:39.884Z"
      },
      {
        "duration": 7,
        "start_time": "2021-11-17T13:00:39.899Z"
      },
      {
        "duration": 498,
        "start_time": "2021-11-17T13:00:39.908Z"
      },
      {
        "duration": 482,
        "start_time": "2021-11-17T13:00:40.408Z"
      },
      {
        "duration": 517,
        "start_time": "2021-11-17T13:00:40.892Z"
      },
      {
        "duration": 576,
        "start_time": "2021-11-17T13:00:41.412Z"
      },
      {
        "duration": 433,
        "start_time": "2021-11-17T13:00:41.991Z"
      },
      {
        "duration": 14,
        "start_time": "2021-11-17T13:00:42.427Z"
      },
      {
        "duration": 36,
        "start_time": "2021-11-17T13:00:42.443Z"
      },
      {
        "duration": 24,
        "start_time": "2021-11-17T13:00:42.481Z"
      },
      {
        "duration": 18,
        "start_time": "2021-11-17T13:00:42.507Z"
      },
      {
        "duration": 57,
        "start_time": "2021-11-17T13:00:42.527Z"
      },
      {
        "duration": 13,
        "start_time": "2021-11-17T13:00:42.587Z"
      },
      {
        "duration": 17,
        "start_time": "2021-11-17T13:00:42.602Z"
      },
      {
        "duration": 48,
        "start_time": "2021-11-17T13:00:42.621Z"
      },
      {
        "duration": 24,
        "start_time": "2021-11-17T13:00:42.671Z"
      },
      {
        "duration": 1474,
        "start_time": "2021-11-17T13:03:53.962Z"
      },
      {
        "duration": 524,
        "start_time": "2021-11-17T13:03:55.439Z"
      },
      {
        "duration": 28,
        "start_time": "2021-11-17T13:03:55.966Z"
      },
      {
        "duration": 17,
        "start_time": "2021-11-17T13:03:55.997Z"
      },
      {
        "duration": 51,
        "start_time": "2021-11-17T13:03:56.016Z"
      },
      {
        "duration": 12,
        "start_time": "2021-11-17T13:03:56.070Z"
      },
      {
        "duration": 32,
        "start_time": "2021-11-17T13:03:56.084Z"
      },
      {
        "duration": 12,
        "start_time": "2021-11-17T13:03:56.120Z"
      },
      {
        "duration": 34,
        "start_time": "2021-11-17T13:03:56.135Z"
      },
      {
        "duration": 28,
        "start_time": "2021-11-17T13:03:56.172Z"
      },
      {
        "duration": 11,
        "start_time": "2021-11-17T13:03:56.203Z"
      },
      {
        "duration": 20,
        "start_time": "2021-11-17T13:03:56.216Z"
      },
      {
        "duration": 76,
        "start_time": "2021-11-17T13:03:56.238Z"
      },
      {
        "duration": 21,
        "start_time": "2021-11-17T13:03:56.317Z"
      },
      {
        "duration": 47,
        "start_time": "2021-11-17T13:03:56.340Z"
      },
      {
        "duration": 43,
        "start_time": "2021-11-17T13:03:56.389Z"
      },
      {
        "duration": 39,
        "start_time": "2021-11-17T13:03:56.434Z"
      },
      {
        "duration": 20,
        "start_time": "2021-11-17T13:03:56.476Z"
      },
      {
        "duration": 35,
        "start_time": "2021-11-17T13:03:56.498Z"
      },
      {
        "duration": 44,
        "start_time": "2021-11-17T13:03:56.535Z"
      },
      {
        "duration": 58,
        "start_time": "2021-11-17T13:03:56.581Z"
      },
      {
        "duration": 9,
        "start_time": "2021-11-17T13:03:56.642Z"
      },
      {
        "duration": 21,
        "start_time": "2021-11-17T13:03:56.673Z"
      },
      {
        "duration": 30,
        "start_time": "2021-11-17T13:03:56.700Z"
      },
      {
        "duration": 45,
        "start_time": "2021-11-17T13:03:56.732Z"
      },
      {
        "duration": 37,
        "start_time": "2021-11-17T13:03:56.780Z"
      },
      {
        "duration": 57,
        "start_time": "2021-11-17T13:03:56.820Z"
      },
      {
        "duration": 128,
        "start_time": "2021-11-17T13:03:56.880Z"
      },
      {
        "duration": 131,
        "start_time": "2021-11-17T13:03:57.011Z"
      },
      {
        "duration": 87,
        "start_time": "2021-11-17T13:03:57.144Z"
      },
      {
        "duration": 90,
        "start_time": "2021-11-17T13:03:57.233Z"
      },
      {
        "duration": 79,
        "start_time": "2021-11-17T13:03:57.325Z"
      },
      {
        "duration": 75,
        "start_time": "2021-11-17T13:03:57.407Z"
      },
      {
        "duration": 54,
        "start_time": "2021-11-17T13:03:57.485Z"
      },
      {
        "duration": 28,
        "start_time": "2021-11-17T13:03:57.541Z"
      },
      {
        "duration": 17,
        "start_time": "2021-11-17T13:03:57.572Z"
      },
      {
        "duration": 16,
        "start_time": "2021-11-17T13:03:57.592Z"
      },
      {
        "duration": 18,
        "start_time": "2021-11-17T13:03:57.611Z"
      },
      {
        "duration": 37,
        "start_time": "2021-11-17T13:03:57.632Z"
      },
      {
        "duration": 24,
        "start_time": "2021-11-17T13:03:57.672Z"
      },
      {
        "duration": 34,
        "start_time": "2021-11-17T13:03:57.699Z"
      },
      {
        "duration": 59,
        "start_time": "2021-11-17T13:03:57.736Z"
      },
      {
        "duration": 76,
        "start_time": "2021-11-17T13:03:57.798Z"
      },
      {
        "duration": 35,
        "start_time": "2021-11-17T13:03:57.877Z"
      },
      {
        "duration": 28,
        "start_time": "2021-11-17T13:03:57.914Z"
      },
      {
        "duration": 36,
        "start_time": "2021-11-17T13:03:57.944Z"
      },
      {
        "duration": 25,
        "start_time": "2021-11-17T13:03:57.983Z"
      },
      {
        "duration": 11,
        "start_time": "2021-11-17T13:03:58.010Z"
      },
      {
        "duration": 15,
        "start_time": "2021-11-17T13:03:58.024Z"
      },
      {
        "duration": 475,
        "start_time": "2021-11-17T13:03:58.041Z"
      },
      {
        "duration": 10,
        "start_time": "2021-11-17T13:03:58.518Z"
      },
      {
        "duration": 9,
        "start_time": "2021-11-17T13:03:58.531Z"
      },
      {
        "duration": 451,
        "start_time": "2021-11-17T13:03:58.542Z"
      },
      {
        "duration": 14,
        "start_time": "2021-11-17T13:03:58.996Z"
      },
      {
        "duration": 8,
        "start_time": "2021-11-17T13:03:59.012Z"
      },
      {
        "duration": 449,
        "start_time": "2021-11-17T13:03:59.023Z"
      },
      {
        "duration": 12,
        "start_time": "2021-11-17T13:03:59.476Z"
      },
      {
        "duration": 17,
        "start_time": "2021-11-17T13:03:59.491Z"
      },
      {
        "duration": 508,
        "start_time": "2021-11-17T13:03:59.512Z"
      },
      {
        "duration": 20,
        "start_time": "2021-11-17T13:04:00.022Z"
      },
      {
        "duration": 33,
        "start_time": "2021-11-17T13:04:00.045Z"
      },
      {
        "duration": 12,
        "start_time": "2021-11-17T13:04:00.081Z"
      },
      {
        "duration": 477,
        "start_time": "2021-11-17T13:04:00.095Z"
      },
      {
        "duration": 11,
        "start_time": "2021-11-17T13:04:00.574Z"
      },
      {
        "duration": 29,
        "start_time": "2021-11-17T13:04:00.587Z"
      },
      {
        "duration": 471,
        "start_time": "2021-11-17T13:04:00.618Z"
      },
      {
        "duration": 11,
        "start_time": "2021-11-17T13:04:01.091Z"
      },
      {
        "duration": 21,
        "start_time": "2021-11-17T13:04:01.111Z"
      },
      {
        "duration": 483,
        "start_time": "2021-11-17T13:04:01.135Z"
      },
      {
        "duration": 12,
        "start_time": "2021-11-17T13:04:01.621Z"
      },
      {
        "duration": 31,
        "start_time": "2021-11-17T13:04:01.636Z"
      },
      {
        "duration": 467,
        "start_time": "2021-11-17T13:04:01.670Z"
      },
      {
        "duration": 502,
        "start_time": "2021-11-17T13:04:02.140Z"
      },
      {
        "duration": 509,
        "start_time": "2021-11-17T13:04:02.644Z"
      },
      {
        "duration": 626,
        "start_time": "2021-11-17T13:04:03.156Z"
      },
      {
        "duration": 427,
        "start_time": "2021-11-17T13:04:03.786Z"
      },
      {
        "duration": 16,
        "start_time": "2021-11-17T13:04:04.215Z"
      },
      {
        "duration": 42,
        "start_time": "2021-11-17T13:04:04.233Z"
      },
      {
        "duration": 19,
        "start_time": "2021-11-17T13:04:04.278Z"
      },
      {
        "duration": 18,
        "start_time": "2021-11-17T13:04:04.300Z"
      },
      {
        "duration": 56,
        "start_time": "2021-11-17T13:04:04.320Z"
      },
      {
        "duration": 19,
        "start_time": "2021-11-17T13:04:04.378Z"
      },
      {
        "duration": 27,
        "start_time": "2021-11-17T13:04:04.399Z"
      },
      {
        "duration": 9,
        "start_time": "2021-11-17T13:04:04.429Z"
      },
      {
        "duration": 44,
        "start_time": "2021-11-17T13:04:04.440Z"
      },
      {
        "duration": 1515,
        "start_time": "2021-11-17T22:15:02.115Z"
      },
      {
        "duration": 517,
        "start_time": "2021-11-17T22:15:03.633Z"
      },
      {
        "duration": 28,
        "start_time": "2021-11-17T22:15:04.153Z"
      },
      {
        "duration": 19,
        "start_time": "2021-11-17T22:15:04.184Z"
      },
      {
        "duration": 25,
        "start_time": "2021-11-17T22:15:04.205Z"
      },
      {
        "duration": 36,
        "start_time": "2021-11-17T22:15:04.233Z"
      },
      {
        "duration": 19,
        "start_time": "2021-11-17T22:15:04.272Z"
      },
      {
        "duration": 10,
        "start_time": "2021-11-17T22:15:04.295Z"
      },
      {
        "duration": 12,
        "start_time": "2021-11-17T22:15:04.308Z"
      },
      {
        "duration": 55,
        "start_time": "2021-11-17T22:15:04.322Z"
      },
      {
        "duration": 11,
        "start_time": "2021-11-17T22:15:04.379Z"
      },
      {
        "duration": 23,
        "start_time": "2021-11-17T22:15:04.392Z"
      },
      {
        "duration": 87,
        "start_time": "2021-11-17T22:15:04.417Z"
      },
      {
        "duration": 22,
        "start_time": "2021-11-17T22:15:04.506Z"
      },
      {
        "duration": 57,
        "start_time": "2021-11-17T22:15:04.531Z"
      },
      {
        "duration": 44,
        "start_time": "2021-11-17T22:15:04.591Z"
      },
      {
        "duration": 41,
        "start_time": "2021-11-17T22:15:04.639Z"
      },
      {
        "duration": 23,
        "start_time": "2021-11-17T22:15:04.683Z"
      },
      {
        "duration": 74,
        "start_time": "2021-11-17T22:15:04.709Z"
      },
      {
        "duration": 19,
        "start_time": "2021-11-17T22:15:04.786Z"
      },
      {
        "duration": 80,
        "start_time": "2021-11-17T22:15:04.808Z"
      },
      {
        "duration": 13,
        "start_time": "2021-11-17T22:15:04.891Z"
      },
      {
        "duration": 23,
        "start_time": "2021-11-17T22:15:04.914Z"
      },
      {
        "duration": 30,
        "start_time": "2021-11-17T22:15:04.969Z"
      },
      {
        "duration": 8,
        "start_time": "2021-11-17T22:15:05.001Z"
      },
      {
        "duration": 59,
        "start_time": "2021-11-17T22:15:05.012Z"
      },
      {
        "duration": 19,
        "start_time": "2021-11-17T22:15:05.073Z"
      },
      {
        "duration": 138,
        "start_time": "2021-11-17T22:15:05.094Z"
      },
      {
        "duration": 139,
        "start_time": "2021-11-17T22:15:05.235Z"
      },
      {
        "duration": 90,
        "start_time": "2021-11-17T22:15:05.377Z"
      },
      {
        "duration": 78,
        "start_time": "2021-11-17T22:15:05.469Z"
      },
      {
        "duration": 79,
        "start_time": "2021-11-17T22:15:05.549Z"
      },
      {
        "duration": 85,
        "start_time": "2021-11-17T22:15:05.631Z"
      },
      {
        "duration": 60,
        "start_time": "2021-11-17T22:15:05.718Z"
      },
      {
        "duration": 10,
        "start_time": "2021-11-17T22:15:05.780Z"
      },
      {
        "duration": 21,
        "start_time": "2021-11-17T22:15:05.792Z"
      },
      {
        "duration": 17,
        "start_time": "2021-11-17T22:15:05.815Z"
      },
      {
        "duration": 39,
        "start_time": "2021-11-17T22:15:05.835Z"
      },
      {
        "duration": 9,
        "start_time": "2021-11-17T22:15:05.877Z"
      },
      {
        "duration": 29,
        "start_time": "2021-11-17T22:15:05.888Z"
      },
      {
        "duration": 59,
        "start_time": "2021-11-17T22:15:05.919Z"
      },
      {
        "duration": 34,
        "start_time": "2021-11-17T22:15:05.980Z"
      },
      {
        "duration": 81,
        "start_time": "2021-11-17T22:15:06.016Z"
      },
      {
        "duration": 36,
        "start_time": "2021-11-17T22:15:06.099Z"
      },
      {
        "duration": 41,
        "start_time": "2021-11-17T22:15:06.137Z"
      },
      {
        "duration": 19,
        "start_time": "2021-11-17T22:15:06.181Z"
      },
      {
        "duration": 22,
        "start_time": "2021-11-17T22:15:06.203Z"
      },
      {
        "duration": 42,
        "start_time": "2021-11-17T22:15:06.227Z"
      },
      {
        "duration": 6,
        "start_time": "2021-11-17T22:15:06.271Z"
      },
      {
        "duration": 467,
        "start_time": "2021-11-17T22:15:06.279Z"
      },
      {
        "duration": 20,
        "start_time": "2021-11-17T22:15:06.749Z"
      },
      {
        "duration": 7,
        "start_time": "2021-11-17T22:15:06.772Z"
      },
      {
        "duration": 460,
        "start_time": "2021-11-17T22:15:06.782Z"
      },
      {
        "duration": 23,
        "start_time": "2021-11-17T22:15:07.244Z"
      },
      {
        "duration": 9,
        "start_time": "2021-11-17T22:15:07.270Z"
      },
      {
        "duration": 447,
        "start_time": "2021-11-17T22:15:07.282Z"
      },
      {
        "duration": 11,
        "start_time": "2021-11-17T22:15:07.732Z"
      },
      {
        "duration": 25,
        "start_time": "2021-11-17T22:15:07.746Z"
      },
      {
        "duration": 427,
        "start_time": "2021-11-17T22:15:07.773Z"
      },
      {
        "duration": 21,
        "start_time": "2021-11-17T22:15:08.202Z"
      },
      {
        "duration": 14,
        "start_time": "2021-11-17T22:15:08.225Z"
      },
      {
        "duration": 6,
        "start_time": "2021-11-17T22:15:08.267Z"
      },
      {
        "duration": 529,
        "start_time": "2021-11-17T22:15:08.275Z"
      },
      {
        "duration": 11,
        "start_time": "2021-11-17T22:15:08.806Z"
      },
      {
        "duration": 10,
        "start_time": "2021-11-17T22:15:08.820Z"
      },
      {
        "duration": 482,
        "start_time": "2021-11-17T22:15:08.832Z"
      },
      {
        "duration": 10,
        "start_time": "2021-11-17T22:15:09.316Z"
      },
      {
        "duration": 33,
        "start_time": "2021-11-17T22:15:09.334Z"
      },
      {
        "duration": 465,
        "start_time": "2021-11-17T22:15:09.370Z"
      },
      {
        "duration": 13,
        "start_time": "2021-11-17T22:15:09.837Z"
      },
      {
        "duration": 7,
        "start_time": "2021-11-17T22:15:09.868Z"
      },
      {
        "duration": 472,
        "start_time": "2021-11-17T22:15:09.877Z"
      },
      {
        "duration": 487,
        "start_time": "2021-11-17T22:15:10.352Z"
      },
      {
        "duration": 511,
        "start_time": "2021-11-17T22:15:10.842Z"
      },
      {
        "duration": 495,
        "start_time": "2021-11-17T22:15:11.356Z"
      },
      {
        "duration": 520,
        "start_time": "2021-11-17T22:15:11.853Z"
      },
      {
        "duration": 14,
        "start_time": "2021-11-17T22:15:12.376Z"
      },
      {
        "duration": 23,
        "start_time": "2021-11-17T22:15:12.393Z"
      },
      {
        "duration": 52,
        "start_time": "2021-11-17T22:15:12.419Z"
      },
      {
        "duration": 16,
        "start_time": "2021-11-17T22:15:12.473Z"
      },
      {
        "duration": 23,
        "start_time": "2021-11-17T22:15:12.491Z"
      },
      {
        "duration": 12,
        "start_time": "2021-11-17T22:15:12.517Z"
      },
      {
        "duration": 51,
        "start_time": "2021-11-17T22:15:12.532Z"
      },
      {
        "duration": 8,
        "start_time": "2021-11-17T22:15:12.586Z"
      },
      {
        "duration": 23,
        "start_time": "2021-11-17T22:15:12.597Z"
      },
      {
        "duration": 36,
        "start_time": "2021-11-17T22:20:44.036Z"
      },
      {
        "duration": 4,
        "start_time": "2021-11-17T22:22:13.103Z"
      },
      {
        "duration": 31,
        "start_time": "2021-11-17T22:22:15.307Z"
      },
      {
        "duration": 30,
        "start_time": "2021-11-17T22:22:25.049Z"
      },
      {
        "duration": 2020,
        "start_time": "2021-11-18T06:31:20.616Z"
      },
      {
        "duration": 523,
        "start_time": "2021-11-18T06:31:22.639Z"
      },
      {
        "duration": 27,
        "start_time": "2021-11-18T06:31:23.165Z"
      },
      {
        "duration": 14,
        "start_time": "2021-11-18T06:31:23.195Z"
      },
      {
        "duration": 24,
        "start_time": "2021-11-18T06:31:23.212Z"
      },
      {
        "duration": 11,
        "start_time": "2021-11-18T06:31:23.259Z"
      },
      {
        "duration": 23,
        "start_time": "2021-11-18T06:31:23.273Z"
      },
      {
        "duration": 10,
        "start_time": "2021-11-18T06:31:23.299Z"
      },
      {
        "duration": 14,
        "start_time": "2021-11-18T06:31:23.313Z"
      },
      {
        "duration": 38,
        "start_time": "2021-11-18T06:31:23.330Z"
      },
      {
        "duration": 12,
        "start_time": "2021-11-18T06:31:23.371Z"
      },
      {
        "duration": 15,
        "start_time": "2021-11-18T06:31:23.386Z"
      },
      {
        "duration": 94,
        "start_time": "2021-11-18T06:31:23.403Z"
      },
      {
        "duration": 24,
        "start_time": "2021-11-18T06:31:23.500Z"
      },
      {
        "duration": 52,
        "start_time": "2021-11-18T06:31:23.527Z"
      },
      {
        "duration": 42,
        "start_time": "2021-11-18T06:31:23.582Z"
      },
      {
        "duration": 40,
        "start_time": "2021-11-18T06:31:23.627Z"
      },
      {
        "duration": 25,
        "start_time": "2021-11-18T06:31:23.670Z"
      },
      {
        "duration": 65,
        "start_time": "2021-11-18T06:31:23.697Z"
      },
      {
        "duration": 16,
        "start_time": "2021-11-18T06:31:23.764Z"
      },
      {
        "duration": 44,
        "start_time": "2021-11-18T06:31:23.783Z"
      },
      {
        "duration": 39,
        "start_time": "2021-11-18T06:31:23.829Z"
      },
      {
        "duration": 20,
        "start_time": "2021-11-18T06:31:23.871Z"
      },
      {
        "duration": 28,
        "start_time": "2021-11-18T06:31:23.893Z"
      },
      {
        "duration": 41,
        "start_time": "2021-11-18T06:31:23.924Z"
      },
      {
        "duration": 34,
        "start_time": "2021-11-18T06:31:23.968Z"
      },
      {
        "duration": 49,
        "start_time": "2021-11-18T06:31:24.011Z"
      },
      {
        "duration": 124,
        "start_time": "2021-11-18T06:31:24.064Z"
      },
      {
        "duration": 132,
        "start_time": "2021-11-18T06:31:24.191Z"
      },
      {
        "duration": 85,
        "start_time": "2021-11-18T06:31:24.325Z"
      },
      {
        "duration": 89,
        "start_time": "2021-11-18T06:31:24.412Z"
      },
      {
        "duration": 77,
        "start_time": "2021-11-18T06:31:24.504Z"
      },
      {
        "duration": 61,
        "start_time": "2021-11-18T06:31:24.583Z"
      },
      {
        "duration": 61,
        "start_time": "2021-11-18T06:31:24.646Z"
      },
      {
        "duration": 10,
        "start_time": "2021-11-18T06:31:24.709Z"
      },
      {
        "duration": 47,
        "start_time": "2021-11-18T06:31:24.721Z"
      },
      {
        "duration": 17,
        "start_time": "2021-11-18T06:31:24.771Z"
      },
      {
        "duration": 16,
        "start_time": "2021-11-18T06:31:24.791Z"
      },
      {
        "duration": 8,
        "start_time": "2021-11-18T06:31:24.809Z"
      },
      {
        "duration": 55,
        "start_time": "2021-11-18T06:31:24.820Z"
      },
      {
        "duration": 34,
        "start_time": "2021-11-18T06:31:24.877Z"
      },
      {
        "duration": 54,
        "start_time": "2021-11-18T06:31:24.913Z"
      },
      {
        "duration": 57,
        "start_time": "2021-11-18T06:31:24.969Z"
      },
      {
        "duration": 57,
        "start_time": "2021-11-18T06:31:25.028Z"
      },
      {
        "duration": 22,
        "start_time": "2021-11-18T06:31:25.087Z"
      },
      {
        "duration": 47,
        "start_time": "2021-11-18T06:31:25.112Z"
      },
      {
        "duration": 20,
        "start_time": "2021-11-18T06:31:25.161Z"
      },
      {
        "duration": 11,
        "start_time": "2021-11-18T06:31:25.183Z"
      },
      {
        "duration": 5,
        "start_time": "2021-11-18T06:31:25.196Z"
      },
      {
        "duration": 469,
        "start_time": "2021-11-18T06:31:25.204Z"
      },
      {
        "duration": 12,
        "start_time": "2021-11-18T06:31:25.675Z"
      },
      {
        "duration": 10,
        "start_time": "2021-11-18T06:31:25.689Z"
      },
      {
        "duration": 536,
        "start_time": "2021-11-18T06:31:25.701Z"
      },
      {
        "duration": 20,
        "start_time": "2021-11-18T06:31:26.239Z"
      },
      {
        "duration": 9,
        "start_time": "2021-11-18T06:31:26.261Z"
      },
      {
        "duration": 438,
        "start_time": "2021-11-18T06:31:26.272Z"
      },
      {
        "duration": 11,
        "start_time": "2021-11-18T06:31:26.712Z"
      },
      {
        "duration": 9,
        "start_time": "2021-11-18T06:31:26.725Z"
      },
      {
        "duration": 493,
        "start_time": "2021-11-18T06:31:26.736Z"
      },
      {
        "duration": 30,
        "start_time": "2021-11-18T06:31:27.231Z"
      },
      {
        "duration": 11,
        "start_time": "2021-11-18T06:31:27.264Z"
      },
      {
        "duration": 18,
        "start_time": "2021-11-18T06:31:27.277Z"
      },
      {
        "duration": 471,
        "start_time": "2021-11-18T06:31:27.297Z"
      },
      {
        "duration": 10,
        "start_time": "2021-11-18T06:31:27.771Z"
      },
      {
        "duration": 10,
        "start_time": "2021-11-18T06:31:27.784Z"
      },
      {
        "duration": 459,
        "start_time": "2021-11-18T06:31:27.796Z"
      },
      {
        "duration": 10,
        "start_time": "2021-11-18T06:31:28.259Z"
      },
      {
        "duration": 6,
        "start_time": "2021-11-18T06:31:28.271Z"
      },
      {
        "duration": 468,
        "start_time": "2021-11-18T06:31:28.279Z"
      },
      {
        "duration": 16,
        "start_time": "2021-11-18T06:31:28.749Z"
      },
      {
        "duration": 6,
        "start_time": "2021-11-18T06:31:28.768Z"
      },
      {
        "duration": 598,
        "start_time": "2021-11-18T06:31:28.776Z"
      },
      {
        "duration": 495,
        "start_time": "2021-11-18T06:31:29.376Z"
      },
      {
        "duration": 639,
        "start_time": "2021-11-18T06:31:29.873Z"
      },
      {
        "duration": 604,
        "start_time": "2021-11-18T06:31:30.514Z"
      },
      {
        "duration": 467,
        "start_time": "2021-11-18T06:31:31.120Z"
      },
      {
        "duration": 15,
        "start_time": "2021-11-18T06:31:31.589Z"
      },
      {
        "duration": 22,
        "start_time": "2021-11-18T06:31:31.606Z"
      },
      {
        "duration": 39,
        "start_time": "2021-11-18T06:31:31.631Z"
      },
      {
        "duration": 15,
        "start_time": "2021-11-18T06:31:31.672Z"
      },
      {
        "duration": 20,
        "start_time": "2021-11-18T06:31:31.694Z"
      },
      {
        "duration": 45,
        "start_time": "2021-11-18T06:31:31.717Z"
      },
      {
        "duration": 20,
        "start_time": "2021-11-18T06:31:31.765Z"
      },
      {
        "duration": 23,
        "start_time": "2021-11-18T06:31:31.787Z"
      },
      {
        "duration": 35,
        "start_time": "2021-11-18T06:31:31.813Z"
      },
      {
        "duration": 528,
        "start_time": "2021-11-18T06:32:09.217Z"
      },
      {
        "duration": 11,
        "start_time": "2021-11-18T06:32:15.864Z"
      },
      {
        "duration": 650,
        "start_time": "2021-11-18T06:34:18.980Z"
      },
      {
        "duration": 18,
        "start_time": "2021-11-18T06:34:29.669Z"
      },
      {
        "duration": 58,
        "start_time": "2021-11-18T06:38:43.671Z"
      },
      {
        "duration": 16,
        "start_time": "2021-11-18T06:39:10.394Z"
      },
      {
        "duration": 49,
        "start_time": "2021-11-18T06:40:16.109Z"
      },
      {
        "duration": 23741,
        "start_time": "2021-11-18T06:40:18.796Z"
      },
      {
        "duration": 49,
        "start_time": "2021-11-18T06:41:01.944Z"
      },
      {
        "duration": 47,
        "start_time": "2021-11-18T06:41:08.234Z"
      },
      {
        "duration": 9,
        "start_time": "2021-11-18T06:41:10.702Z"
      },
      {
        "duration": 4,
        "start_time": "2021-11-18T06:41:48.220Z"
      },
      {
        "duration": 3,
        "start_time": "2021-11-18T06:41:57.593Z"
      },
      {
        "duration": 77,
        "start_time": "2021-11-18T06:43:02.927Z"
      },
      {
        "duration": 83,
        "start_time": "2021-11-18T06:43:22.300Z"
      },
      {
        "duration": 374,
        "start_time": "2021-11-19T10:42:58.077Z"
      },
      {
        "duration": 1516,
        "start_time": "2021-11-19T10:43:03.399Z"
      },
      {
        "duration": 561,
        "start_time": "2021-11-19T10:43:04.918Z"
      },
      {
        "duration": 36,
        "start_time": "2021-11-19T10:43:05.482Z"
      },
      {
        "duration": 18,
        "start_time": "2021-11-19T10:43:05.521Z"
      },
      {
        "duration": 69,
        "start_time": "2021-11-19T10:43:05.541Z"
      },
      {
        "duration": 14,
        "start_time": "2021-11-19T10:43:05.613Z"
      },
      {
        "duration": 26,
        "start_time": "2021-11-19T10:43:05.629Z"
      },
      {
        "duration": 34,
        "start_time": "2021-11-19T10:43:05.659Z"
      },
      {
        "duration": 10,
        "start_time": "2021-11-19T10:43:05.697Z"
      },
      {
        "duration": 10,
        "start_time": "2021-11-19T10:43:05.710Z"
      },
      {
        "duration": 11,
        "start_time": "2021-11-19T10:43:05.723Z"
      },
      {
        "duration": 55,
        "start_time": "2021-11-19T10:43:05.736Z"
      },
      {
        "duration": 66,
        "start_time": "2021-11-19T10:43:05.794Z"
      },
      {
        "duration": 42,
        "start_time": "2021-11-19T10:43:05.863Z"
      },
      {
        "duration": 30,
        "start_time": "2021-11-19T10:43:05.908Z"
      },
      {
        "duration": 71,
        "start_time": "2021-11-19T10:43:05.940Z"
      },
      {
        "duration": 14,
        "start_time": "2021-11-19T10:43:06.014Z"
      },
      {
        "duration": 17,
        "start_time": "2021-11-19T10:43:06.030Z"
      },
      {
        "duration": 66,
        "start_time": "2021-11-19T10:43:06.049Z"
      },
      {
        "duration": 17,
        "start_time": "2021-11-19T10:43:06.118Z"
      },
      {
        "duration": 5,
        "start_time": "2021-11-19T10:43:06.138Z"
      },
      {
        "duration": 80,
        "start_time": "2021-11-19T10:43:06.146Z"
      },
      {
        "duration": 9,
        "start_time": "2021-11-19T10:43:06.234Z"
      },
      {
        "duration": 49,
        "start_time": "2021-11-19T10:43:06.247Z"
      },
      {
        "duration": 3,
        "start_time": "2021-11-19T10:43:06.299Z"
      },
      {
        "duration": 30,
        "start_time": "2021-11-19T10:43:06.304Z"
      },
      {
        "duration": 10,
        "start_time": "2021-11-19T10:43:06.336Z"
      },
      {
        "duration": 3,
        "start_time": "2021-11-19T10:43:06.381Z"
      },
      {
        "duration": 41,
        "start_time": "2021-11-19T10:43:06.389Z"
      },
      {
        "duration": 20,
        "start_time": "2021-11-19T10:43:06.433Z"
      },
      {
        "duration": 148,
        "start_time": "2021-11-19T10:43:06.456Z"
      },
      {
        "duration": 139,
        "start_time": "2021-11-19T10:43:06.607Z"
      },
      {
        "duration": 86,
        "start_time": "2021-11-19T10:43:06.748Z"
      },
      {
        "duration": 99,
        "start_time": "2021-11-19T10:43:06.837Z"
      },
      {
        "duration": 75,
        "start_time": "2021-11-19T10:43:06.939Z"
      },
      {
        "duration": 86,
        "start_time": "2021-11-19T10:43:07.017Z"
      },
      {
        "duration": 151,
        "start_time": "2021-11-19T10:43:07.106Z"
      },
      {
        "duration": 10,
        "start_time": "2021-11-19T10:43:07.260Z"
      },
      {
        "duration": 21,
        "start_time": "2021-11-19T10:43:07.285Z"
      },
      {
        "duration": 15,
        "start_time": "2021-11-19T10:43:07.308Z"
      },
      {
        "duration": 12,
        "start_time": "2021-11-19T10:43:07.326Z"
      },
      {
        "duration": 6,
        "start_time": "2021-11-19T10:43:07.340Z"
      },
      {
        "duration": 28,
        "start_time": "2021-11-19T10:43:07.381Z"
      },
      {
        "duration": 36,
        "start_time": "2021-11-19T10:43:07.412Z"
      },
      {
        "duration": 55,
        "start_time": "2021-11-19T10:43:07.451Z"
      },
      {
        "duration": 508,
        "start_time": "2021-11-19T10:43:07.509Z"
      },
      {
        "duration": -1250,
        "start_time": "2021-11-19T10:43:09.271Z"
      },
      {
        "duration": -1254,
        "start_time": "2021-11-19T10:43:09.278Z"
      },
      {
        "duration": -1258,
        "start_time": "2021-11-19T10:43:09.283Z"
      },
      {
        "duration": -1262,
        "start_time": "2021-11-19T10:43:09.289Z"
      },
      {
        "duration": -1267,
        "start_time": "2021-11-19T10:43:09.295Z"
      },
      {
        "duration": -1271,
        "start_time": "2021-11-19T10:43:09.301Z"
      },
      {
        "duration": -1275,
        "start_time": "2021-11-19T10:43:09.306Z"
      },
      {
        "duration": -1279,
        "start_time": "2021-11-19T10:43:09.312Z"
      },
      {
        "duration": -1282,
        "start_time": "2021-11-19T10:43:09.317Z"
      },
      {
        "duration": -1287,
        "start_time": "2021-11-19T10:43:09.323Z"
      },
      {
        "duration": -1290,
        "start_time": "2021-11-19T10:43:09.328Z"
      },
      {
        "duration": -1295,
        "start_time": "2021-11-19T10:43:09.334Z"
      },
      {
        "duration": -1299,
        "start_time": "2021-11-19T10:43:09.339Z"
      },
      {
        "duration": -1303,
        "start_time": "2021-11-19T10:43:09.345Z"
      },
      {
        "duration": -1307,
        "start_time": "2021-11-19T10:43:09.350Z"
      },
      {
        "duration": -1312,
        "start_time": "2021-11-19T10:43:09.356Z"
      },
      {
        "duration": -1317,
        "start_time": "2021-11-19T10:43:09.362Z"
      },
      {
        "duration": -1320,
        "start_time": "2021-11-19T10:43:09.367Z"
      },
      {
        "duration": -1333,
        "start_time": "2021-11-19T10:43:09.381Z"
      },
      {
        "duration": -1337,
        "start_time": "2021-11-19T10:43:09.386Z"
      },
      {
        "duration": -1341,
        "start_time": "2021-11-19T10:43:09.392Z"
      },
      {
        "duration": -1346,
        "start_time": "2021-11-19T10:43:09.398Z"
      },
      {
        "duration": -1350,
        "start_time": "2021-11-19T10:43:09.403Z"
      },
      {
        "duration": -1359,
        "start_time": "2021-11-19T10:43:09.413Z"
      },
      {
        "duration": -1363,
        "start_time": "2021-11-19T10:43:09.418Z"
      },
      {
        "duration": -1368,
        "start_time": "2021-11-19T10:43:09.424Z"
      },
      {
        "duration": -1347,
        "start_time": "2021-11-19T10:43:09.430Z"
      },
      {
        "duration": -1351,
        "start_time": "2021-11-19T10:43:09.436Z"
      },
      {
        "duration": -1355,
        "start_time": "2021-11-19T10:43:09.441Z"
      },
      {
        "duration": -1359,
        "start_time": "2021-11-19T10:43:09.447Z"
      },
      {
        "duration": -1362,
        "start_time": "2021-11-19T10:43:09.453Z"
      },
      {
        "duration": -1365,
        "start_time": "2021-11-19T10:43:09.458Z"
      },
      {
        "duration": -1368,
        "start_time": "2021-11-19T10:43:09.463Z"
      },
      {
        "duration": -1372,
        "start_time": "2021-11-19T10:43:09.469Z"
      },
      {
        "duration": -1375,
        "start_time": "2021-11-19T10:43:09.474Z"
      },
      {
        "duration": -1385,
        "start_time": "2021-11-19T10:43:09.487Z"
      },
      {
        "duration": -1388,
        "start_time": "2021-11-19T10:43:09.492Z"
      },
      {
        "duration": -1392,
        "start_time": "2021-11-19T10:43:09.498Z"
      },
      {
        "duration": -1397,
        "start_time": "2021-11-19T10:43:09.504Z"
      },
      {
        "duration": -1401,
        "start_time": "2021-11-19T10:43:09.510Z"
      },
      {
        "duration": -1405,
        "start_time": "2021-11-19T10:43:09.515Z"
      },
      {
        "duration": -1410,
        "start_time": "2021-11-19T10:43:09.521Z"
      },
      {
        "duration": 330,
        "start_time": "2021-11-19T10:43:28.341Z"
      },
      {
        "duration": 60,
        "start_time": "2021-11-19T10:43:39.053Z"
      },
      {
        "duration": 37,
        "start_time": "2021-11-19T10:50:35.592Z"
      },
      {
        "duration": 55,
        "start_time": "2021-11-19T10:51:24.119Z"
      },
      {
        "duration": 30,
        "start_time": "2021-11-19T10:51:24.177Z"
      },
      {
        "duration": 20,
        "start_time": "2021-11-19T10:51:24.210Z"
      },
      {
        "duration": 59,
        "start_time": "2021-11-19T10:51:24.234Z"
      },
      {
        "duration": 20,
        "start_time": "2021-11-19T10:51:24.295Z"
      },
      {
        "duration": 8,
        "start_time": "2021-11-19T10:51:24.317Z"
      },
      {
        "duration": 479,
        "start_time": "2021-11-19T10:51:24.327Z"
      },
      {
        "duration": 16,
        "start_time": "2021-11-19T10:51:24.811Z"
      },
      {
        "duration": 8,
        "start_time": "2021-11-19T10:51:24.831Z"
      },
      {
        "duration": 551,
        "start_time": "2021-11-19T10:51:24.842Z"
      },
      {
        "duration": 16,
        "start_time": "2021-11-19T10:51:25.396Z"
      },
      {
        "duration": 8,
        "start_time": "2021-11-19T10:51:25.415Z"
      },
      {
        "duration": 461,
        "start_time": "2021-11-19T10:51:25.426Z"
      },
      {
        "duration": 14,
        "start_time": "2021-11-19T10:51:25.890Z"
      },
      {
        "duration": 9,
        "start_time": "2021-11-19T10:51:25.907Z"
      },
      {
        "duration": 664,
        "start_time": "2021-11-19T10:51:25.919Z"
      },
      {
        "duration": 27,
        "start_time": "2021-11-19T10:51:26.586Z"
      },
      {
        "duration": 13,
        "start_time": "2021-11-19T10:51:26.615Z"
      },
      {
        "duration": 6,
        "start_time": "2021-11-19T10:51:26.631Z"
      },
      {
        "duration": 575,
        "start_time": "2021-11-19T10:51:26.639Z"
      },
      {
        "duration": 14,
        "start_time": "2021-11-19T10:51:27.217Z"
      },
      {
        "duration": 5,
        "start_time": "2021-11-19T10:51:27.234Z"
      },
      {
        "duration": 488,
        "start_time": "2021-11-19T10:51:27.244Z"
      },
      {
        "duration": 16,
        "start_time": "2021-11-19T10:51:27.736Z"
      },
      {
        "duration": 6,
        "start_time": "2021-11-19T10:51:27.754Z"
      },
      {
        "duration": 669,
        "start_time": "2021-11-19T10:51:27.762Z"
      },
      {
        "duration": 12,
        "start_time": "2021-11-19T10:51:28.435Z"
      },
      {
        "duration": 20,
        "start_time": "2021-11-19T10:51:28.449Z"
      },
      {
        "duration": 737,
        "start_time": "2021-11-19T10:51:28.482Z"
      },
      {
        "duration": 975,
        "start_time": "2021-11-19T10:51:29.222Z"
      },
      {
        "duration": 688,
        "start_time": "2021-11-19T10:51:30.199Z"
      },
      {
        "duration": 563,
        "start_time": "2021-11-19T10:51:30.890Z"
      },
      {
        "duration": 655,
        "start_time": "2021-11-19T10:51:31.456Z"
      },
      {
        "duration": 21,
        "start_time": "2021-11-19T10:51:32.114Z"
      },
      {
        "duration": 48,
        "start_time": "2021-11-19T10:51:32.139Z"
      },
      {
        "duration": 26,
        "start_time": "2021-11-19T10:51:32.193Z"
      },
      {
        "duration": 17,
        "start_time": "2021-11-19T10:51:32.222Z"
      },
      {
        "duration": 69,
        "start_time": "2021-11-19T10:51:32.242Z"
      },
      {
        "duration": 36,
        "start_time": "2021-11-19T10:51:32.314Z"
      },
      {
        "duration": 58,
        "start_time": "2021-11-19T10:51:32.353Z"
      },
      {
        "duration": 8,
        "start_time": "2021-11-19T10:51:32.413Z"
      },
      {
        "duration": 40,
        "start_time": "2021-11-19T10:51:32.424Z"
      },
      {
        "duration": 14,
        "start_time": "2021-11-19T10:52:32.661Z"
      },
      {
        "duration": 318,
        "start_time": "2021-11-19T10:52:57.214Z"
      },
      {
        "duration": 981,
        "start_time": "2021-11-19T10:54:30.063Z"
      },
      {
        "duration": 4,
        "start_time": "2021-11-19T10:54:46.419Z"
      },
      {
        "duration": 61,
        "start_time": "2021-11-19T10:54:53.435Z"
      },
      {
        "duration": 4,
        "start_time": "2021-11-19T10:55:03.647Z"
      },
      {
        "duration": 85,
        "start_time": "2021-11-19T10:55:05.790Z"
      },
      {
        "duration": 4,
        "start_time": "2021-11-19T10:55:15.511Z"
      },
      {
        "duration": 76,
        "start_time": "2021-11-19T10:55:17.452Z"
      },
      {
        "duration": 5,
        "start_time": "2021-11-19T10:55:36.111Z"
      },
      {
        "duration": 10,
        "start_time": "2021-11-19T11:05:34.392Z"
      },
      {
        "duration": 11,
        "start_time": "2021-11-19T11:05:36.412Z"
      },
      {
        "duration": 6,
        "start_time": "2021-11-19T11:13:16.272Z"
      },
      {
        "duration": 9,
        "start_time": "2021-11-19T11:21:51.470Z"
      },
      {
        "duration": 13,
        "start_time": "2021-11-19T11:23:39.468Z"
      },
      {
        "duration": 6,
        "start_time": "2021-11-19T11:24:21.252Z"
      },
      {
        "duration": 11,
        "start_time": "2021-11-19T11:24:23.552Z"
      },
      {
        "duration": 7,
        "start_time": "2021-11-19T11:24:48.243Z"
      },
      {
        "duration": 1164,
        "start_time": "2021-11-19T18:43:02.276Z"
      },
      {
        "duration": 3,
        "start_time": "2021-11-19T18:43:03.442Z"
      },
      {
        "duration": 401,
        "start_time": "2021-11-19T18:43:03.448Z"
      },
      {
        "duration": 21,
        "start_time": "2021-11-19T18:43:03.850Z"
      },
      {
        "duration": 10,
        "start_time": "2021-11-19T18:43:03.872Z"
      },
      {
        "duration": 15,
        "start_time": "2021-11-19T18:43:03.884Z"
      },
      {
        "duration": 7,
        "start_time": "2021-11-19T18:43:03.901Z"
      },
      {
        "duration": 14,
        "start_time": "2021-11-19T18:43:03.911Z"
      },
      {
        "duration": 5,
        "start_time": "2021-11-19T18:43:03.927Z"
      },
      {
        "duration": 7,
        "start_time": "2021-11-19T18:43:03.934Z"
      },
      {
        "duration": 9,
        "start_time": "2021-11-19T18:43:03.942Z"
      },
      {
        "duration": 7,
        "start_time": "2021-11-19T18:43:03.952Z"
      },
      {
        "duration": 39,
        "start_time": "2021-11-19T18:43:03.960Z"
      },
      {
        "duration": 46,
        "start_time": "2021-11-19T18:43:04.000Z"
      },
      {
        "duration": 14,
        "start_time": "2021-11-19T18:43:04.047Z"
      },
      {
        "duration": 41,
        "start_time": "2021-11-19T18:43:04.062Z"
      },
      {
        "duration": 27,
        "start_time": "2021-11-19T18:43:04.104Z"
      },
      {
        "duration": 9,
        "start_time": "2021-11-19T18:43:04.133Z"
      },
      {
        "duration": 13,
        "start_time": "2021-11-19T18:43:04.143Z"
      },
      {
        "duration": 47,
        "start_time": "2021-11-19T18:43:04.157Z"
      },
      {
        "duration": 9,
        "start_time": "2021-11-19T18:43:04.206Z"
      },
      {
        "duration": 6,
        "start_time": "2021-11-19T18:43:04.216Z"
      },
      {
        "duration": 31,
        "start_time": "2021-11-19T18:43:04.226Z"
      },
      {
        "duration": 35,
        "start_time": "2021-11-19T18:43:04.260Z"
      },
      {
        "duration": 17,
        "start_time": "2021-11-19T18:43:04.296Z"
      },
      {
        "duration": 2,
        "start_time": "2021-11-19T18:43:04.314Z"
      },
      {
        "duration": 22,
        "start_time": "2021-11-19T18:43:04.318Z"
      },
      {
        "duration": 5,
        "start_time": "2021-11-19T18:43:04.342Z"
      },
      {
        "duration": 3,
        "start_time": "2021-11-19T18:43:04.348Z"
      },
      {
        "duration": 54,
        "start_time": "2021-11-19T18:43:04.352Z"
      },
      {
        "duration": 12,
        "start_time": "2021-11-19T18:43:04.407Z"
      },
      {
        "duration": 91,
        "start_time": "2021-11-19T18:43:04.421Z"
      },
      {
        "duration": 101,
        "start_time": "2021-11-19T18:43:04.514Z"
      },
      {
        "duration": 47,
        "start_time": "2021-11-19T18:43:04.617Z"
      },
      {
        "duration": 79,
        "start_time": "2021-11-19T18:43:04.666Z"
      },
      {
        "duration": 49,
        "start_time": "2021-11-19T18:43:04.747Z"
      },
      {
        "duration": 50,
        "start_time": "2021-11-19T18:43:04.798Z"
      },
      {
        "duration": 108,
        "start_time": "2021-11-19T18:43:04.851Z"
      },
      {
        "duration": 7,
        "start_time": "2021-11-19T18:43:04.961Z"
      },
      {
        "duration": 27,
        "start_time": "2021-11-19T18:43:04.970Z"
      },
      {
        "duration": 12,
        "start_time": "2021-11-19T18:43:04.999Z"
      },
      {
        "duration": 8,
        "start_time": "2021-11-19T18:43:05.013Z"
      },
      {
        "duration": 6,
        "start_time": "2021-11-19T18:43:05.023Z"
      },
      {
        "duration": 23,
        "start_time": "2021-11-19T18:43:05.030Z"
      },
      {
        "duration": 57,
        "start_time": "2021-11-19T18:43:05.055Z"
      },
      {
        "duration": 22,
        "start_time": "2021-11-19T18:43:05.114Z"
      },
      {
        "duration": 32,
        "start_time": "2021-11-19T18:43:05.138Z"
      },
      {
        "duration": 38,
        "start_time": "2021-11-19T18:43:05.171Z"
      },
      {
        "duration": 15,
        "start_time": "2021-11-19T18:43:05.211Z"
      },
      {
        "duration": 13,
        "start_time": "2021-11-19T18:43:05.227Z"
      },
      {
        "duration": 13,
        "start_time": "2021-11-19T18:43:05.242Z"
      },
      {
        "duration": 40,
        "start_time": "2021-11-19T18:43:05.256Z"
      },
      {
        "duration": 4,
        "start_time": "2021-11-19T18:43:05.298Z"
      },
      {
        "duration": 268,
        "start_time": "2021-11-19T18:43:05.304Z"
      },
      {
        "duration": 8,
        "start_time": "2021-11-19T18:43:05.573Z"
      },
      {
        "duration": 12,
        "start_time": "2021-11-19T18:43:05.582Z"
      },
      {
        "duration": 318,
        "start_time": "2021-11-19T18:43:05.595Z"
      },
      {
        "duration": 8,
        "start_time": "2021-11-19T18:43:05.915Z"
      },
      {
        "duration": 6,
        "start_time": "2021-11-19T18:43:05.924Z"
      },
      {
        "duration": 276,
        "start_time": "2021-11-19T18:43:05.932Z"
      },
      {
        "duration": 8,
        "start_time": "2021-11-19T18:43:06.210Z"
      },
      {
        "duration": 5,
        "start_time": "2021-11-19T18:43:06.220Z"
      },
      {
        "duration": 276,
        "start_time": "2021-11-19T18:43:06.226Z"
      },
      {
        "duration": 14,
        "start_time": "2021-11-19T18:43:06.504Z"
      },
      {
        "duration": 7,
        "start_time": "2021-11-19T18:43:06.519Z"
      },
      {
        "duration": 4,
        "start_time": "2021-11-19T18:43:06.527Z"
      },
      {
        "duration": 287,
        "start_time": "2021-11-19T18:43:06.533Z"
      },
      {
        "duration": 8,
        "start_time": "2021-11-19T18:43:06.825Z"
      },
      {
        "duration": 6,
        "start_time": "2021-11-19T18:43:06.835Z"
      },
      {
        "duration": 299,
        "start_time": "2021-11-19T18:43:06.843Z"
      },
      {
        "duration": 7,
        "start_time": "2021-11-19T18:43:07.144Z"
      },
      {
        "duration": 5,
        "start_time": "2021-11-19T18:43:07.152Z"
      },
      {
        "duration": 291,
        "start_time": "2021-11-19T18:43:07.158Z"
      },
      {
        "duration": 7,
        "start_time": "2021-11-19T18:43:07.451Z"
      },
      {
        "duration": 4,
        "start_time": "2021-11-19T18:43:07.460Z"
      },
      {
        "duration": 284,
        "start_time": "2021-11-19T18:43:07.465Z"
      },
      {
        "duration": 291,
        "start_time": "2021-11-19T18:43:07.750Z"
      },
      {
        "duration": 320,
        "start_time": "2021-11-19T18:43:08.043Z"
      },
      {
        "duration": 379,
        "start_time": "2021-11-19T18:43:08.365Z"
      },
      {
        "duration": 252,
        "start_time": "2021-11-19T18:43:08.746Z"
      },
      {
        "duration": 7,
        "start_time": "2021-11-19T18:43:09.000Z"
      },
      {
        "duration": 14,
        "start_time": "2021-11-19T18:43:09.008Z"
      },
      {
        "duration": 21,
        "start_time": "2021-11-19T18:43:09.023Z"
      },
      {
        "duration": 27,
        "start_time": "2021-11-19T18:43:09.046Z"
      },
      {
        "duration": 19,
        "start_time": "2021-11-19T18:43:09.075Z"
      },
      {
        "duration": 22,
        "start_time": "2021-11-19T18:43:09.096Z"
      },
      {
        "duration": 11,
        "start_time": "2021-11-19T18:43:09.120Z"
      },
      {
        "duration": 15,
        "start_time": "2021-11-19T18:43:09.132Z"
      },
      {
        "duration": 28,
        "start_time": "2021-11-19T18:43:09.148Z"
      },
      {
        "duration": 21,
        "start_time": "2021-11-19T18:43:09.178Z"
      },
      {
        "duration": 29,
        "start_time": "2021-11-19T18:43:09.200Z"
      },
      {
        "duration": 20,
        "start_time": "2021-11-19T18:43:09.230Z"
      },
      {
        "duration": 23,
        "start_time": "2021-11-19T18:43:09.252Z"
      },
      {
        "duration": 16,
        "start_time": "2021-11-19T18:50:19.159Z"
      },
      {
        "duration": 5,
        "start_time": "2021-11-19T18:57:35.643Z"
      },
      {
        "duration": 4,
        "start_time": "2021-11-19T18:57:42.518Z"
      },
      {
        "duration": 5,
        "start_time": "2021-11-19T18:57:51.340Z"
      },
      {
        "duration": 5,
        "start_time": "2021-11-19T18:57:56.983Z"
      },
      {
        "duration": 1563,
        "start_time": "2021-11-19T21:01:02.727Z"
      },
      {
        "duration": 3,
        "start_time": "2021-11-19T21:01:04.293Z"
      },
      {
        "duration": 545,
        "start_time": "2021-11-19T21:01:04.299Z"
      },
      {
        "duration": 27,
        "start_time": "2021-11-19T21:01:04.846Z"
      },
      {
        "duration": 16,
        "start_time": "2021-11-19T21:01:04.876Z"
      },
      {
        "duration": 45,
        "start_time": "2021-11-19T21:01:04.895Z"
      },
      {
        "duration": 12,
        "start_time": "2021-11-19T21:01:04.943Z"
      },
      {
        "duration": 41,
        "start_time": "2021-11-19T21:01:04.962Z"
      },
      {
        "duration": 11,
        "start_time": "2021-11-19T21:01:05.028Z"
      },
      {
        "duration": 38,
        "start_time": "2021-11-19T21:01:05.042Z"
      },
      {
        "duration": 42,
        "start_time": "2021-11-19T21:01:05.082Z"
      },
      {
        "duration": 36,
        "start_time": "2021-11-19T21:01:05.126Z"
      },
      {
        "duration": 40,
        "start_time": "2021-11-19T21:01:05.164Z"
      },
      {
        "duration": 80,
        "start_time": "2021-11-19T21:01:05.206Z"
      },
      {
        "duration": 21,
        "start_time": "2021-11-19T21:01:05.288Z"
      },
      {
        "duration": 71,
        "start_time": "2021-11-19T21:01:05.330Z"
      },
      {
        "duration": 82,
        "start_time": "2021-11-19T21:01:05.405Z"
      },
      {
        "duration": 20,
        "start_time": "2021-11-19T21:01:05.491Z"
      },
      {
        "duration": 29,
        "start_time": "2021-11-19T21:01:05.531Z"
      },
      {
        "duration": 90,
        "start_time": "2021-11-19T21:01:05.564Z"
      },
      {
        "duration": 28,
        "start_time": "2021-11-19T21:01:05.658Z"
      },
      {
        "duration": 4,
        "start_time": "2021-11-19T21:01:05.690Z"
      },
      {
        "duration": 64,
        "start_time": "2021-11-19T21:01:05.732Z"
      },
      {
        "duration": 29,
        "start_time": "2021-11-19T21:01:05.803Z"
      },
      {
        "duration": 39,
        "start_time": "2021-11-19T21:01:05.836Z"
      },
      {
        "duration": 4,
        "start_time": "2021-11-19T21:01:05.879Z"
      },
      {
        "duration": 66,
        "start_time": "2021-11-19T21:01:05.887Z"
      },
      {
        "duration": 9,
        "start_time": "2021-11-19T21:01:05.955Z"
      },
      {
        "duration": 3,
        "start_time": "2021-11-19T21:01:05.967Z"
      },
      {
        "duration": 59,
        "start_time": "2021-11-19T21:01:05.973Z"
      },
      {
        "duration": 19,
        "start_time": "2021-11-19T21:01:06.034Z"
      },
      {
        "duration": 133,
        "start_time": "2021-11-19T21:01:06.055Z"
      },
      {
        "duration": 238,
        "start_time": "2021-11-19T21:01:06.193Z"
      },
      {
        "duration": 137,
        "start_time": "2021-11-19T21:01:06.435Z"
      },
      {
        "duration": 174,
        "start_time": "2021-11-19T21:01:06.576Z"
      },
      {
        "duration": 87,
        "start_time": "2021-11-19T21:01:06.754Z"
      },
      {
        "duration": 95,
        "start_time": "2021-11-19T21:01:06.844Z"
      },
      {
        "duration": 154,
        "start_time": "2021-11-19T21:01:06.941Z"
      },
      {
        "duration": 11,
        "start_time": "2021-11-19T21:01:07.098Z"
      },
      {
        "duration": 29,
        "start_time": "2021-11-19T21:01:07.130Z"
      },
      {
        "duration": 43,
        "start_time": "2021-11-19T21:01:07.162Z"
      },
      {
        "duration": 34,
        "start_time": "2021-11-19T21:01:07.208Z"
      },
      {
        "duration": 23,
        "start_time": "2021-11-19T21:01:07.245Z"
      },
      {
        "duration": 43,
        "start_time": "2021-11-19T21:01:07.270Z"
      },
      {
        "duration": 61,
        "start_time": "2021-11-19T21:01:07.316Z"
      },
      {
        "duration": 35,
        "start_time": "2021-11-19T21:01:07.379Z"
      },
      {
        "duration": 116,
        "start_time": "2021-11-19T21:01:07.417Z"
      },
      {
        "duration": 63,
        "start_time": "2021-11-19T21:01:07.537Z"
      },
      {
        "duration": 45,
        "start_time": "2021-11-19T21:01:07.604Z"
      },
      {
        "duration": 20,
        "start_time": "2021-11-19T21:01:07.652Z"
      },
      {
        "duration": 20,
        "start_time": "2021-11-19T21:01:07.674Z"
      },
      {
        "duration": 12,
        "start_time": "2021-11-19T21:01:07.730Z"
      },
      {
        "duration": 10,
        "start_time": "2021-11-19T21:01:07.744Z"
      },
      {
        "duration": 582,
        "start_time": "2021-11-19T21:01:07.756Z"
      },
      {
        "duration": 13,
        "start_time": "2021-11-19T21:01:08.340Z"
      },
      {
        "duration": 7,
        "start_time": "2021-11-19T21:01:08.355Z"
      },
      {
        "duration": 583,
        "start_time": "2021-11-19T21:01:08.364Z"
      },
      {
        "duration": 13,
        "start_time": "2021-11-19T21:01:08.950Z"
      },
      {
        "duration": 9,
        "start_time": "2021-11-19T21:01:08.966Z"
      },
      {
        "duration": 478,
        "start_time": "2021-11-19T21:01:08.978Z"
      },
      {
        "duration": 12,
        "start_time": "2021-11-19T21:01:09.458Z"
      },
      {
        "duration": 9,
        "start_time": "2021-11-19T21:01:09.473Z"
      },
      {
        "duration": 423,
        "start_time": "2021-11-19T21:01:09.485Z"
      },
      {
        "duration": 33,
        "start_time": "2021-11-19T21:01:09.910Z"
      },
      {
        "duration": 15,
        "start_time": "2021-11-19T21:01:09.945Z"
      },
      {
        "duration": 6,
        "start_time": "2021-11-19T21:01:09.963Z"
      },
      {
        "duration": 471,
        "start_time": "2021-11-19T21:01:09.971Z"
      },
      {
        "duration": 11,
        "start_time": "2021-11-19T21:01:10.450Z"
      },
      {
        "duration": 6,
        "start_time": "2021-11-19T21:01:10.464Z"
      },
      {
        "duration": 507,
        "start_time": "2021-11-19T21:01:10.472Z"
      },
      {
        "duration": 13,
        "start_time": "2021-11-19T21:01:10.981Z"
      },
      {
        "duration": 37,
        "start_time": "2021-11-19T21:01:10.996Z"
      },
      {
        "duration": 484,
        "start_time": "2021-11-19T21:01:11.035Z"
      },
      {
        "duration": 16,
        "start_time": "2021-11-19T21:01:11.521Z"
      },
      {
        "duration": 37,
        "start_time": "2021-11-19T21:01:11.539Z"
      },
      {
        "duration": 459,
        "start_time": "2021-11-19T21:01:11.578Z"
      },
      {
        "duration": 481,
        "start_time": "2021-11-19T21:01:12.039Z"
      },
      {
        "duration": 519,
        "start_time": "2021-11-19T21:01:12.522Z"
      },
      {
        "duration": 586,
        "start_time": "2021-11-19T21:01:13.043Z"
      },
      {
        "duration": 443,
        "start_time": "2021-11-19T21:01:13.631Z"
      },
      {
        "duration": 11,
        "start_time": "2021-11-19T21:01:14.076Z"
      },
      {
        "duration": 14,
        "start_time": "2021-11-19T21:01:14.090Z"
      },
      {
        "duration": 31,
        "start_time": "2021-11-19T21:01:14.107Z"
      },
      {
        "duration": 22,
        "start_time": "2021-11-19T21:01:14.141Z"
      },
      {
        "duration": 27,
        "start_time": "2021-11-19T21:01:14.165Z"
      },
      {
        "duration": 44,
        "start_time": "2021-11-19T21:01:14.196Z"
      },
      {
        "duration": 9,
        "start_time": "2021-11-19T21:01:14.243Z"
      },
      {
        "duration": 21,
        "start_time": "2021-11-19T21:01:14.256Z"
      },
      {
        "duration": 29,
        "start_time": "2021-11-19T21:01:14.281Z"
      },
      {
        "duration": 22,
        "start_time": "2021-11-19T21:01:14.331Z"
      },
      {
        "duration": 48,
        "start_time": "2021-11-19T21:01:14.356Z"
      },
      {
        "duration": 15,
        "start_time": "2021-11-19T21:01:14.407Z"
      },
      {
        "duration": 41,
        "start_time": "2021-11-19T21:01:14.425Z"
      },
      {
        "duration": 76,
        "start_time": "2021-11-19T21:07:51.258Z"
      },
      {
        "duration": 92,
        "start_time": "2021-11-19T21:08:46.786Z"
      },
      {
        "duration": 74,
        "start_time": "2021-11-19T21:08:53.093Z"
      },
      {
        "duration": 109,
        "start_time": "2021-11-19T21:08:53.170Z"
      },
      {
        "duration": 120,
        "start_time": "2021-11-19T21:08:53.283Z"
      },
      {
        "duration": 96,
        "start_time": "2021-11-19T21:08:53.407Z"
      },
      {
        "duration": 88,
        "start_time": "2021-11-19T21:08:53.505Z"
      },
      {
        "duration": 265,
        "start_time": "2021-11-19T21:08:53.595Z"
      },
      {
        "duration": 10,
        "start_time": "2021-11-19T21:08:53.862Z"
      },
      {
        "duration": 20,
        "start_time": "2021-11-19T21:08:53.876Z"
      },
      {
        "duration": 42,
        "start_time": "2021-11-19T21:08:53.899Z"
      },
      {
        "duration": 10,
        "start_time": "2021-11-19T21:08:53.944Z"
      },
      {
        "duration": 6,
        "start_time": "2021-11-19T21:08:53.957Z"
      },
      {
        "duration": 65,
        "start_time": "2021-11-19T21:08:53.965Z"
      },
      {
        "duration": 31,
        "start_time": "2021-11-19T21:08:54.033Z"
      },
      {
        "duration": 37,
        "start_time": "2021-11-19T21:08:54.067Z"
      },
      {
        "duration": 59,
        "start_time": "2021-11-19T21:08:54.130Z"
      },
      {
        "duration": 64,
        "start_time": "2021-11-19T21:08:54.193Z"
      },
      {
        "duration": 25,
        "start_time": "2021-11-19T21:08:54.260Z"
      },
      {
        "duration": 41,
        "start_time": "2021-11-19T21:08:54.288Z"
      },
      {
        "duration": 23,
        "start_time": "2021-11-19T21:08:54.332Z"
      },
      {
        "duration": 13,
        "start_time": "2021-11-19T21:08:54.357Z"
      },
      {
        "duration": 10,
        "start_time": "2021-11-19T21:08:54.373Z"
      },
      {
        "duration": 454,
        "start_time": "2021-11-19T21:08:54.386Z"
      },
      {
        "duration": 12,
        "start_time": "2021-11-19T21:08:54.846Z"
      },
      {
        "duration": 6,
        "start_time": "2021-11-19T21:08:54.862Z"
      },
      {
        "duration": 446,
        "start_time": "2021-11-19T21:08:54.870Z"
      },
      {
        "duration": 23,
        "start_time": "2021-11-19T21:08:55.318Z"
      },
      {
        "duration": 9,
        "start_time": "2021-11-19T21:08:55.344Z"
      },
      {
        "duration": 457,
        "start_time": "2021-11-19T21:08:55.355Z"
      },
      {
        "duration": 27,
        "start_time": "2021-11-19T21:08:55.816Z"
      },
      {
        "duration": 9,
        "start_time": "2021-11-19T21:08:55.847Z"
      },
      {
        "duration": 1016,
        "start_time": "2021-11-19T21:08:55.860Z"
      },
      {
        "duration": 53,
        "start_time": "2021-11-19T21:08:56.880Z"
      },
      {
        "duration": 13,
        "start_time": "2021-11-19T21:08:56.936Z"
      },
      {
        "duration": 30,
        "start_time": "2021-11-19T21:08:56.952Z"
      },
      {
        "duration": 446,
        "start_time": "2021-11-19T21:08:56.985Z"
      },
      {
        "duration": 14,
        "start_time": "2021-11-19T21:08:57.434Z"
      },
      {
        "duration": 38,
        "start_time": "2021-11-19T21:08:57.451Z"
      },
      {
        "duration": 851,
        "start_time": "2021-11-19T21:08:57.493Z"
      },
      {
        "duration": 15,
        "start_time": "2021-11-19T21:08:58.347Z"
      },
      {
        "duration": 20,
        "start_time": "2021-11-19T21:08:58.365Z"
      },
      {
        "duration": 728,
        "start_time": "2021-11-19T21:08:58.388Z"
      },
      {
        "duration": 20,
        "start_time": "2021-11-19T21:08:59.119Z"
      },
      {
        "duration": 17,
        "start_time": "2021-11-19T21:08:59.142Z"
      },
      {
        "duration": 462,
        "start_time": "2021-11-19T21:08:59.162Z"
      },
      {
        "duration": 483,
        "start_time": "2021-11-19T21:08:59.629Z"
      },
      {
        "duration": 519,
        "start_time": "2021-11-19T21:09:00.115Z"
      },
      {
        "duration": 626,
        "start_time": "2021-11-19T21:09:00.636Z"
      },
      {
        "duration": 427,
        "start_time": "2021-11-19T21:09:01.265Z"
      },
      {
        "duration": 12,
        "start_time": "2021-11-19T21:09:01.694Z"
      },
      {
        "duration": 23,
        "start_time": "2021-11-19T21:09:01.709Z"
      },
      {
        "duration": 8,
        "start_time": "2021-11-19T21:09:01.734Z"
      },
      {
        "duration": 25,
        "start_time": "2021-11-19T21:09:01.745Z"
      },
      {
        "duration": 30,
        "start_time": "2021-11-19T21:09:01.772Z"
      },
      {
        "duration": 13,
        "start_time": "2021-11-19T21:09:01.830Z"
      },
      {
        "duration": 20,
        "start_time": "2021-11-19T21:09:01.846Z"
      },
      {
        "duration": 17,
        "start_time": "2021-11-19T21:09:01.869Z"
      },
      {
        "duration": 118,
        "start_time": "2021-11-19T21:09:01.889Z"
      },
      {
        "duration": 23,
        "start_time": "2021-11-19T21:09:02.009Z"
      },
      {
        "duration": 19,
        "start_time": "2021-11-19T21:09:02.035Z"
      },
      {
        "duration": 12,
        "start_time": "2021-11-19T21:09:02.056Z"
      },
      {
        "duration": 28,
        "start_time": "2021-11-19T21:09:02.070Z"
      }
    ],
    "kernelspec": {
      "display_name": "Python 3 (ipykernel)",
      "language": "python",
      "name": "python3"
    },
    "language_info": {
      "codemirror_mode": {
        "name": "ipython",
        "version": 3
      },
      "file_extension": ".py",
      "mimetype": "text/x-python",
      "name": "python",
      "nbconvert_exporter": "python",
      "pygments_lexer": "ipython3",
      "version": "3.9.5"
    },
    "toc": {
      "base_numbering": 1,
      "nav_menu": {},
      "number_sections": true,
      "sideBar": true,
      "skip_h1_title": true,
      "title_cell": "Table of Contents",
      "title_sidebar": "Contents",
      "toc_cell": false,
      "toc_position": {
        "height": "calc(100% - 180px)",
        "left": "10px",
        "top": "150px",
        "width": "323.965px"
      },
      "toc_section_display": true,
      "toc_window_display": true
    },
    "colab": {
      "provenance": [],
      "collapsed_sections": [],
      "toc_visible": true
    }
  },
  "nbformat": 4,
  "nbformat_minor": 0
}