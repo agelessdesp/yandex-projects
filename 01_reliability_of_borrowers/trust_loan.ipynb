{
 "cells": [
  {
   "cell_type": "code",
   "execution_count": 38,
   "metadata": {
    "colab": {
     "base_uri": "https://localhost:8080/"
    },
    "executionInfo": {
     "elapsed": 4392,
     "status": "ok",
     "timestamp": 1663662914933,
     "user": {
      "displayName": "Настя Соколова",
      "userId": "11350473308931524848"
     },
     "user_tz": -180
    },
    "id": "rPWMkL--VhA9",
    "outputId": "81088b28-8e80-42b8-efca-ecddf244f83a"
   },
   "outputs": [],
   "source": [
    "# from google.colab import drive\n",
    "\n",
    "# drive.mount('/content/drive')"
   ]
  },
  {
   "cell_type": "code",
   "execution_count": 39,
   "metadata": {
    "executionInfo": {
     "elapsed": 52,
     "status": "ok",
     "timestamp": 1663662914934,
     "user": {
      "displayName": "Настя Соколова",
      "userId": "11350473308931524848"
     },
     "user_tz": -180
    },
    "id": "bvqy5q3-VO0Q"
   },
   "outputs": [],
   "source": [
    "import pandas as pd\n",
    "import numpy as np\n",
    "import seaborn as sns\n",
    "import matplotlib.pyplot as plt\n",
    "from matplotlib import pyplot\n",
    "\n",
    "from pymystem3 import Mystem\n",
    "m = Mystem()\n",
    "\n",
    "import warnings\n",
    "warnings.filterwarnings('ignore')"
   ]
  },
  {
   "cell_type": "markdown",
   "metadata": {
    "id": "EwzcLzy7VO0c"
   },
   "source": [
    "## Знакомство с данными"
   ]
  },
  {
   "cell_type": "code",
   "execution_count": 40,
   "metadata": {
    "executionInfo": {
     "elapsed": 52,
     "status": "ok",
     "timestamp": 1663662914935,
     "user": {
      "displayName": "Настя Соколова",
      "userId": "11350473308931524848"
     },
     "user_tz": -180
    },
    "id": "594eMGaVgPLU"
   },
   "outputs": [],
   "source": [
    "# напишем общую функцию для распаковки данных\n",
    "\n",
    "def open_data(data):\n",
    "  display(data.head())\n",
    "  print('------------------------')\n",
    "  print('Общая информация')\n",
    "  data.info()\n",
    "  print('------------------------')\n",
    "  print('Описание данных')\n",
    "  display(data.describe())\n",
    "  print('------------------------')\n",
    "  print('Количество дубликатов')\n",
    "  print(data.duplicated().sum())\n",
    "  print('------------------------')\n",
    "  print('Количество пропусков')\n",
    "  display(data.isna().sum())"
   ]
  },
  {
   "cell_type": "code",
   "execution_count": 41,
   "metadata": {},
   "outputs": [],
   "source": [
    "data_bank = pd.read_csv('/datasets/data.csv')"
   ]
  },
  {
   "cell_type": "code",
   "execution_count": 42,
   "metadata": {
    "colab": {
     "base_uri": "https://localhost:8080/",
     "height": 1000
    },
    "executionInfo": {
     "elapsed": 52,
     "status": "ok",
     "timestamp": 1663662914937,
     "user": {
      "displayName": "Настя Соколова",
      "userId": "11350473308931524848"
     },
     "user_tz": -180
    },
    "id": "1dJSziplVmsA",
    "outputId": "539eaac3-7632-4877-8706-f9091e1e008a"
   },
   "outputs": [
    {
     "data": {
      "text/html": [
       "<div>\n",
       "<style scoped>\n",
       "    .dataframe tbody tr th:only-of-type {\n",
       "        vertical-align: middle;\n",
       "    }\n",
       "\n",
       "    .dataframe tbody tr th {\n",
       "        vertical-align: top;\n",
       "    }\n",
       "\n",
       "    .dataframe thead th {\n",
       "        text-align: right;\n",
       "    }\n",
       "</style>\n",
       "<table border=\"1\" class=\"dataframe\">\n",
       "  <thead>\n",
       "    <tr style=\"text-align: right;\">\n",
       "      <th></th>\n",
       "      <th>children</th>\n",
       "      <th>days_employed</th>\n",
       "      <th>dob_years</th>\n",
       "      <th>education</th>\n",
       "      <th>education_id</th>\n",
       "      <th>family_status</th>\n",
       "      <th>family_status_id</th>\n",
       "      <th>gender</th>\n",
       "      <th>income_type</th>\n",
       "      <th>debt</th>\n",
       "      <th>total_income</th>\n",
       "      <th>purpose</th>\n",
       "    </tr>\n",
       "  </thead>\n",
       "  <tbody>\n",
       "    <tr>\n",
       "      <th>0</th>\n",
       "      <td>1</td>\n",
       "      <td>-8437.673028</td>\n",
       "      <td>42</td>\n",
       "      <td>высшее</td>\n",
       "      <td>0</td>\n",
       "      <td>женат / замужем</td>\n",
       "      <td>0</td>\n",
       "      <td>F</td>\n",
       "      <td>сотрудник</td>\n",
       "      <td>0</td>\n",
       "      <td>253875.639453</td>\n",
       "      <td>покупка жилья</td>\n",
       "    </tr>\n",
       "    <tr>\n",
       "      <th>1</th>\n",
       "      <td>1</td>\n",
       "      <td>-4024.803754</td>\n",
       "      <td>36</td>\n",
       "      <td>среднее</td>\n",
       "      <td>1</td>\n",
       "      <td>женат / замужем</td>\n",
       "      <td>0</td>\n",
       "      <td>F</td>\n",
       "      <td>сотрудник</td>\n",
       "      <td>0</td>\n",
       "      <td>112080.014102</td>\n",
       "      <td>приобретение автомобиля</td>\n",
       "    </tr>\n",
       "    <tr>\n",
       "      <th>2</th>\n",
       "      <td>0</td>\n",
       "      <td>-5623.422610</td>\n",
       "      <td>33</td>\n",
       "      <td>Среднее</td>\n",
       "      <td>1</td>\n",
       "      <td>женат / замужем</td>\n",
       "      <td>0</td>\n",
       "      <td>M</td>\n",
       "      <td>сотрудник</td>\n",
       "      <td>0</td>\n",
       "      <td>145885.952297</td>\n",
       "      <td>покупка жилья</td>\n",
       "    </tr>\n",
       "    <tr>\n",
       "      <th>3</th>\n",
       "      <td>3</td>\n",
       "      <td>-4124.747207</td>\n",
       "      <td>32</td>\n",
       "      <td>среднее</td>\n",
       "      <td>1</td>\n",
       "      <td>женат / замужем</td>\n",
       "      <td>0</td>\n",
       "      <td>M</td>\n",
       "      <td>сотрудник</td>\n",
       "      <td>0</td>\n",
       "      <td>267628.550329</td>\n",
       "      <td>дополнительное образование</td>\n",
       "    </tr>\n",
       "    <tr>\n",
       "      <th>4</th>\n",
       "      <td>0</td>\n",
       "      <td>340266.072047</td>\n",
       "      <td>53</td>\n",
       "      <td>среднее</td>\n",
       "      <td>1</td>\n",
       "      <td>гражданский брак</td>\n",
       "      <td>1</td>\n",
       "      <td>F</td>\n",
       "      <td>пенсионер</td>\n",
       "      <td>0</td>\n",
       "      <td>158616.077870</td>\n",
       "      <td>сыграть свадьбу</td>\n",
       "    </tr>\n",
       "  </tbody>\n",
       "</table>\n",
       "</div>"
      ],
      "text/plain": [
       "   children  days_employed  dob_years education  education_id  \\\n",
       "0         1   -8437.673028         42    высшее             0   \n",
       "1         1   -4024.803754         36   среднее             1   \n",
       "2         0   -5623.422610         33   Среднее             1   \n",
       "3         3   -4124.747207         32   среднее             1   \n",
       "4         0  340266.072047         53   среднее             1   \n",
       "\n",
       "      family_status  family_status_id gender income_type  debt   total_income  \\\n",
       "0   женат / замужем                 0      F   сотрудник     0  253875.639453   \n",
       "1   женат / замужем                 0      F   сотрудник     0  112080.014102   \n",
       "2   женат / замужем                 0      M   сотрудник     0  145885.952297   \n",
       "3   женат / замужем                 0      M   сотрудник     0  267628.550329   \n",
       "4  гражданский брак                 1      F   пенсионер     0  158616.077870   \n",
       "\n",
       "                      purpose  \n",
       "0               покупка жилья  \n",
       "1     приобретение автомобиля  \n",
       "2               покупка жилья  \n",
       "3  дополнительное образование  \n",
       "4             сыграть свадьбу  "
      ]
     },
     "metadata": {},
     "output_type": "display_data"
    },
    {
     "name": "stdout",
     "output_type": "stream",
     "text": [
      "------------------------\n",
      "Общая информация\n",
      "<class 'pandas.core.frame.DataFrame'>\n",
      "RangeIndex: 21525 entries, 0 to 21524\n",
      "Data columns (total 12 columns):\n",
      " #   Column            Non-Null Count  Dtype  \n",
      "---  ------            --------------  -----  \n",
      " 0   children          21525 non-null  int64  \n",
      " 1   days_employed     19351 non-null  float64\n",
      " 2   dob_years         21525 non-null  int64  \n",
      " 3   education         21525 non-null  object \n",
      " 4   education_id      21525 non-null  int64  \n",
      " 5   family_status     21525 non-null  object \n",
      " 6   family_status_id  21525 non-null  int64  \n",
      " 7   gender            21525 non-null  object \n",
      " 8   income_type       21525 non-null  object \n",
      " 9   debt              21525 non-null  int64  \n",
      " 10  total_income      19351 non-null  float64\n",
      " 11  purpose           21525 non-null  object \n",
      "dtypes: float64(2), int64(5), object(5)\n",
      "memory usage: 2.0+ MB\n",
      "------------------------\n",
      "Описание данных\n"
     ]
    },
    {
     "data": {
      "text/html": [
       "<div>\n",
       "<style scoped>\n",
       "    .dataframe tbody tr th:only-of-type {\n",
       "        vertical-align: middle;\n",
       "    }\n",
       "\n",
       "    .dataframe tbody tr th {\n",
       "        vertical-align: top;\n",
       "    }\n",
       "\n",
       "    .dataframe thead th {\n",
       "        text-align: right;\n",
       "    }\n",
       "</style>\n",
       "<table border=\"1\" class=\"dataframe\">\n",
       "  <thead>\n",
       "    <tr style=\"text-align: right;\">\n",
       "      <th></th>\n",
       "      <th>children</th>\n",
       "      <th>days_employed</th>\n",
       "      <th>dob_years</th>\n",
       "      <th>education_id</th>\n",
       "      <th>family_status_id</th>\n",
       "      <th>debt</th>\n",
       "      <th>total_income</th>\n",
       "    </tr>\n",
       "  </thead>\n",
       "  <tbody>\n",
       "    <tr>\n",
       "      <th>count</th>\n",
       "      <td>21525.000000</td>\n",
       "      <td>19351.000000</td>\n",
       "      <td>21525.000000</td>\n",
       "      <td>21525.000000</td>\n",
       "      <td>21525.000000</td>\n",
       "      <td>21525.000000</td>\n",
       "      <td>1.935100e+04</td>\n",
       "    </tr>\n",
       "    <tr>\n",
       "      <th>mean</th>\n",
       "      <td>0.538908</td>\n",
       "      <td>63046.497661</td>\n",
       "      <td>43.293380</td>\n",
       "      <td>0.817236</td>\n",
       "      <td>0.972544</td>\n",
       "      <td>0.080883</td>\n",
       "      <td>1.674223e+05</td>\n",
       "    </tr>\n",
       "    <tr>\n",
       "      <th>std</th>\n",
       "      <td>1.381587</td>\n",
       "      <td>140827.311974</td>\n",
       "      <td>12.574584</td>\n",
       "      <td>0.548138</td>\n",
       "      <td>1.420324</td>\n",
       "      <td>0.272661</td>\n",
       "      <td>1.029716e+05</td>\n",
       "    </tr>\n",
       "    <tr>\n",
       "      <th>min</th>\n",
       "      <td>-1.000000</td>\n",
       "      <td>-18388.949901</td>\n",
       "      <td>0.000000</td>\n",
       "      <td>0.000000</td>\n",
       "      <td>0.000000</td>\n",
       "      <td>0.000000</td>\n",
       "      <td>2.066726e+04</td>\n",
       "    </tr>\n",
       "    <tr>\n",
       "      <th>25%</th>\n",
       "      <td>0.000000</td>\n",
       "      <td>-2747.423625</td>\n",
       "      <td>33.000000</td>\n",
       "      <td>1.000000</td>\n",
       "      <td>0.000000</td>\n",
       "      <td>0.000000</td>\n",
       "      <td>1.030532e+05</td>\n",
       "    </tr>\n",
       "    <tr>\n",
       "      <th>50%</th>\n",
       "      <td>0.000000</td>\n",
       "      <td>-1203.369529</td>\n",
       "      <td>42.000000</td>\n",
       "      <td>1.000000</td>\n",
       "      <td>0.000000</td>\n",
       "      <td>0.000000</td>\n",
       "      <td>1.450179e+05</td>\n",
       "    </tr>\n",
       "    <tr>\n",
       "      <th>75%</th>\n",
       "      <td>1.000000</td>\n",
       "      <td>-291.095954</td>\n",
       "      <td>53.000000</td>\n",
       "      <td>1.000000</td>\n",
       "      <td>1.000000</td>\n",
       "      <td>0.000000</td>\n",
       "      <td>2.034351e+05</td>\n",
       "    </tr>\n",
       "    <tr>\n",
       "      <th>max</th>\n",
       "      <td>20.000000</td>\n",
       "      <td>401755.400475</td>\n",
       "      <td>75.000000</td>\n",
       "      <td>4.000000</td>\n",
       "      <td>4.000000</td>\n",
       "      <td>1.000000</td>\n",
       "      <td>2.265604e+06</td>\n",
       "    </tr>\n",
       "  </tbody>\n",
       "</table>\n",
       "</div>"
      ],
      "text/plain": [
       "           children  days_employed     dob_years  education_id  \\\n",
       "count  21525.000000   19351.000000  21525.000000  21525.000000   \n",
       "mean       0.538908   63046.497661     43.293380      0.817236   \n",
       "std        1.381587  140827.311974     12.574584      0.548138   \n",
       "min       -1.000000  -18388.949901      0.000000      0.000000   \n",
       "25%        0.000000   -2747.423625     33.000000      1.000000   \n",
       "50%        0.000000   -1203.369529     42.000000      1.000000   \n",
       "75%        1.000000    -291.095954     53.000000      1.000000   \n",
       "max       20.000000  401755.400475     75.000000      4.000000   \n",
       "\n",
       "       family_status_id          debt  total_income  \n",
       "count      21525.000000  21525.000000  1.935100e+04  \n",
       "mean           0.972544      0.080883  1.674223e+05  \n",
       "std            1.420324      0.272661  1.029716e+05  \n",
       "min            0.000000      0.000000  2.066726e+04  \n",
       "25%            0.000000      0.000000  1.030532e+05  \n",
       "50%            0.000000      0.000000  1.450179e+05  \n",
       "75%            1.000000      0.000000  2.034351e+05  \n",
       "max            4.000000      1.000000  2.265604e+06  "
      ]
     },
     "metadata": {},
     "output_type": "display_data"
    },
    {
     "name": "stdout",
     "output_type": "stream",
     "text": [
      "------------------------\n",
      "Количество дубликатов\n",
      "54\n",
      "------------------------\n",
      "Количество пропусков\n"
     ]
    },
    {
     "data": {
      "text/plain": [
       "children               0\n",
       "days_employed       2174\n",
       "dob_years              0\n",
       "education              0\n",
       "education_id           0\n",
       "family_status          0\n",
       "family_status_id       0\n",
       "gender                 0\n",
       "income_type            0\n",
       "debt                   0\n",
       "total_income        2174\n",
       "purpose                0\n",
       "dtype: int64"
      ]
     },
     "metadata": {},
     "output_type": "display_data"
    }
   ],
   "source": [
    "#data_bank = pd.read_csv('/content/drive/My Drive/Collab file/bank_project2.csv')\n",
    "open_data(data_bank)"
   ]
  },
  {
   "cell_type": "markdown",
   "metadata": {
    "id": "m_644-hjWyoV"
   },
   "source": [
    "**Краткий план предобработки:** \n",
    "\n",
    "- Работа с пропусками, столбцы ***days_employed*** и ***total_income***: посмотреть, что можно восстановить/заменить, а что придется удалить.\n",
    "- Обратить внимание на дубликаты и проверить, есть ли пустые значения.\n",
    "- Проанализировать отрицательные значения в столбце ***days_employed***. \n",
    "- Значения в столбце ***education*** имеют разный регистр, привести к строчному виду."
   ]
  },
  {
   "cell_type": "markdown",
   "metadata": {
    "id": "1Ul91qYRVO0j"
   },
   "source": [
    "## Шаг 2. Предобработка данных"
   ]
  },
  {
   "cell_type": "markdown",
   "metadata": {
    "id": "7plhIAUtVO0k"
   },
   "source": [
    "### Обработка пропусков и дубликатов"
   ]
  },
  {
   "cell_type": "markdown",
   "metadata": {
    "id": "H5w0B6eRVO0l"
   },
   "source": [
    "**Комментарий:** так как в столбцах ***days_employed*** и ***total_income*** несущественное количество пропущенных значений, а логически заменить их на что-то нельзя (средние значения, например, ставить довольно опасно), то можно заполнить их нулями."
   ]
  },
  {
   "cell_type": "code",
   "execution_count": 43,
   "metadata": {
    "colab": {
     "base_uri": "https://localhost:8080/"
    },
    "executionInfo": {
     "elapsed": 49,
     "status": "ok",
     "timestamp": 1663662914938,
     "user": {
      "displayName": "Настя Соколова",
      "userId": "11350473308931524848"
     },
     "user_tz": -180
    },
    "id": "mWE-4OUGVO0l",
    "outputId": "1c41bb9d-3f8d-4a79-ecfd-8aac25aca6e7"
   },
   "outputs": [
    {
     "data": {
      "text/plain": [
       "children            0\n",
       "days_employed       0\n",
       "dob_years           0\n",
       "education           0\n",
       "education_id        0\n",
       "family_status       0\n",
       "family_status_id    0\n",
       "gender              0\n",
       "income_type         0\n",
       "debt                0\n",
       "total_income        0\n",
       "purpose             0\n",
       "dtype: int64"
      ]
     },
     "execution_count": 43,
     "metadata": {},
     "output_type": "execute_result"
    }
   ],
   "source": [
    "data_bank['days_employed'] = data_bank['days_employed'].fillna(0)\n",
    "data_bank['total_income'] = data_bank['total_income'].fillna(0)\n",
    "data_bank.isna().sum()"
   ]
  },
  {
   "cell_type": "code",
   "execution_count": 44,
   "metadata": {
    "colab": {
     "base_uri": "https://localhost:8080/"
    },
    "executionInfo": {
     "elapsed": 48,
     "status": "ok",
     "timestamp": 1663662914942,
     "user": {
      "displayName": "Настя Соколова",
      "userId": "11350473308931524848"
     },
     "user_tz": -180
    },
    "id": "lHmR1noSCjuQ",
    "outputId": "863557c0-1d07-4ad9-cfdc-0052cd221cc8"
   },
   "outputs": [
    {
     "data": {
      "text/plain": [
       "count     21525.000000\n",
       "mean      56678.874622\n",
       "std      134870.763085\n",
       "min      -18388.949901\n",
       "25%       -2518.168900\n",
       "50%        -982.531720\n",
       "75%           0.000000\n",
       "max      401755.400475\n",
       "Name: days_employed, dtype: float64"
      ]
     },
     "execution_count": 44,
     "metadata": {},
     "output_type": "execute_result"
    }
   ],
   "source": [
    "data_bank['days_employed'].describe()"
   ]
  },
  {
   "cell_type": "markdown",
   "metadata": {
    "id": "W5TCUO2hdK_L"
   },
   "source": [
    "**Комментарий:**\n",
    "<br> Так как тип данных в столбце ***days_employed*** не целочисленный, то лучше его округлить и привести к целочисленному типу данных. Также, на мой взгляд, будет целесообразным отрицательные значения привести к положительным."
   ]
  },
  {
   "cell_type": "code",
   "execution_count": 45,
   "metadata": {
    "executionInfo": {
     "elapsed": 45,
     "status": "ok",
     "timestamp": 1663662914943,
     "user": {
      "displayName": "Настя Соколова",
      "userId": "11350473308931524848"
     },
     "user_tz": -180
    },
    "id": "vpFNUnm8gUNT"
   },
   "outputs": [],
   "source": [
    "data_bank['days_employed'] = data_bank['days_employed'].apply(np.ceil).abs()"
   ]
  },
  {
   "cell_type": "code",
   "execution_count": 46,
   "metadata": {
    "colab": {
     "base_uri": "https://localhost:8080/"
    },
    "executionInfo": {
     "elapsed": 49,
     "status": "ok",
     "timestamp": 1663662914947,
     "user": {
      "displayName": "Настя Соколова",
      "userId": "11350473308931524848"
     },
     "user_tz": -180
    },
    "id": "GuQ-Irt_WYVP",
    "outputId": "e1aa6cb8-077d-4d67-c36c-88e38951ee4a"
   },
   "outputs": [
    {
     "data": {
      "text/plain": [
       "count     21525.000000\n",
       "mean      60156.130174\n",
       "std      133356.272035\n",
       "min           0.000000\n",
       "25%         610.000000\n",
       "50%        1808.000000\n",
       "75%        4779.000000\n",
       "max      401756.000000\n",
       "Name: days_employed, dtype: float64"
      ]
     },
     "execution_count": 46,
     "metadata": {},
     "output_type": "execute_result"
    }
   ],
   "source": [
    "data_bank['days_employed'].describe()"
   ]
  },
  {
   "cell_type": "markdown",
   "metadata": {
    "id": "JOCeYT1wbDnF"
   },
   "source": [
    "**Комментарий:**\n",
    "<br> Значения выглядят аномально. В описании данных было указано, что данные в этом столбце представлены в днях. В году в среднем 247 рабочих дней, самому старшему заемщику в наших данных нет и 80 лет. Похоже, что данные все-таки указаны в часах. Посмотрим на распределение данных."
   ]
  },
  {
   "cell_type": "code",
   "execution_count": 47,
   "metadata": {
    "colab": {
     "base_uri": "https://localhost:8080/",
     "height": 410
    },
    "executionInfo": {
     "elapsed": 47,
     "status": "ok",
     "timestamp": 1663662914948,
     "user": {
      "displayName": "Настя Соколова",
      "userId": "11350473308931524848"
     },
     "user_tz": -180
    },
    "id": "KGClvBXVWYFU",
    "outputId": "34ca3633-d588-4a7f-8ed3-a5a3f095ac8f"
   },
   "outputs": [
    {
     "data": {
      "image/png": "[encoded data removed]",
      "text/plain": [
       "<Figure size 720x432 with 1 Axes>"
      ]
     },
     "metadata": {
      "needs_background": "light"
     },
     "output_type": "display_data"
    }
   ],
   "source": [
    "plt.figure(figsize=(10, 6))\n",
    "\n",
    "bins = np.linspace(-10, 10, 100)\n",
    "\n",
    "plt.title(label='Распределение количества рабочих дней', fontsize=20)\n",
    "plt.ylabel('Количество значений')\n",
    "plt.xlabel('Стаж в днях')\n",
    "\n",
    "plt.hist(data_bank['days_employed'])\n",
    "pyplot.show()"
   ]
  },
  {
   "cell_type": "markdown",
   "metadata": {
    "id": "-PlxlIRVcaC_"
   },
   "source": [
    "**Комментарий:**\n",
    "<br> Так как в целом аномально больших значений много, то делаю предположение, что данные все-таки указаны в часах, поэтому поделим все значения на 24."
   ]
  },
  {
   "cell_type": "code",
   "execution_count": 48,
   "metadata": {
    "executionInfo": {
     "elapsed": 46,
     "status": "ok",
     "timestamp": 1663662914949,
     "user": {
      "displayName": "Настя Соколова",
      "userId": "11350473308931524848"
     },
     "user_tz": -180
    },
    "id": "jwwi6GUzcy66"
   },
   "outputs": [],
   "source": [
    "data_bank['days_employed'] = data_bank['days_employed'] / 24"
   ]
  },
  {
   "cell_type": "code",
   "execution_count": 49,
   "metadata": {
    "colab": {
     "base_uri": "https://localhost:8080/"
    },
    "executionInfo": {
     "elapsed": 46,
     "status": "ok",
     "timestamp": 1663662914950,
     "user": {
      "displayName": "Настя Соколова",
      "userId": "11350473308931524848"
     },
     "user_tz": -180
    },
    "id": "8SkiOUjOcy3-",
    "outputId": "f784dfe4-53e3-40b4-ea57-f5a26292c866"
   },
   "outputs": [
    {
     "data": {
      "text/plain": [
       "count    21525.000000\n",
       "mean      2506.505424\n",
       "std       5556.511335\n",
       "min          0.000000\n",
       "25%         25.416667\n",
       "50%         75.333333\n",
       "75%        199.125000\n",
       "max      16739.833333\n",
       "Name: days_employed, dtype: float64"
      ]
     },
     "execution_count": 49,
     "metadata": {},
     "output_type": "execute_result"
    }
   ],
   "source": [
    "data_bank['days_employed'].describe()"
   ]
  },
  {
   "cell_type": "code",
   "execution_count": 50,
   "metadata": {
    "executionInfo": {
     "elapsed": 41,
     "status": "ok",
     "timestamp": 1663662914951,
     "user": {
      "displayName": "Настя Соколова",
      "userId": "11350473308931524848"
     },
     "user_tz": -180
    },
    "id": "8jMQFwfNfaQO"
   },
   "outputs": [],
   "source": [
    "data_bank['days_employed'] = data_bank['days_employed'].astype('int')"
   ]
  },
  {
   "cell_type": "code",
   "execution_count": 51,
   "metadata": {
    "colab": {
     "base_uri": "https://localhost:8080/"
    },
    "executionInfo": {
     "elapsed": 41,
     "status": "ok",
     "timestamp": 1663662914951,
     "user": {
      "displayName": "Настя Соколова",
      "userId": "11350473308931524848"
     },
     "user_tz": -180
    },
    "id": "msTR1CBa1uSK",
    "outputId": "8c1df53f-a29d-4386-d279-22396aa4210d"
   },
   "outputs": [
    {
     "name": "stdout",
     "output_type": "stream",
     "text": [
      "children\n",
      "[ 1  0  3  2 -1  4 20  5]\n",
      "-----------------------------------\n",
      "days_employed\n",
      "[  351   167   234 ... 16361 15217 14330]\n",
      "-----------------------------------\n",
      "dob_years\n",
      "[42 36 33 32 53 27 43 50 35 41 40 65 54 56 26 48 24 21 57 67 28 63 62 47\n",
      " 34 68 25 31 30 20 49 37 45 61 64 44 52 46 23 38 39 51  0 59 29 60 55 58\n",
      " 71 22 73 66 69 19 72 70 74 75]\n",
      "-----------------------------------\n",
      "education\n",
      "['высшее' 'среднее' 'Среднее' 'СРЕДНЕЕ' 'ВЫСШЕЕ' 'неоконченное высшее'\n",
      " 'начальное' 'Высшее' 'НЕОКОНЧЕННОЕ ВЫСШЕЕ' 'Неоконченное высшее'\n",
      " 'НАЧАЛЬНОЕ' 'Начальное' 'Ученая степень' 'УЧЕНАЯ СТЕПЕНЬ'\n",
      " 'ученая степень']\n",
      "-----------------------------------\n",
      "education_id\n",
      "[0 1 2 3 4]\n",
      "-----------------------------------\n",
      "family_status\n",
      "['женат / замужем' 'гражданский брак' 'вдовец / вдова' 'в разводе'\n",
      " 'Не женат / не замужем']\n",
      "-----------------------------------\n",
      "family_status_id\n",
      "[0 1 2 3 4]\n",
      "-----------------------------------\n",
      "gender\n",
      "['F' 'M' 'XNA']\n",
      "-----------------------------------\n",
      "income_type\n",
      "['сотрудник' 'пенсионер' 'компаньон' 'госслужащий' 'безработный'\n",
      " 'предприниматель' 'студент' 'в декрете']\n",
      "-----------------------------------\n",
      "debt\n",
      "[0 1]\n",
      "-----------------------------------\n",
      "total_income\n",
      "[253875.6394526  112080.01410244 145885.95229686 ...  89672.56115303\n",
      " 244093.05050043  82047.41889948]\n",
      "-----------------------------------\n",
      "purpose\n",
      "['покупка жилья' 'приобретение автомобиля' 'дополнительное образование'\n",
      " 'сыграть свадьбу' 'операции с жильем' 'образование'\n",
      " 'на проведение свадьбы' 'покупка жилья для семьи' 'покупка недвижимости'\n",
      " 'покупка коммерческой недвижимости' 'покупка жилой недвижимости'\n",
      " 'строительство собственной недвижимости' 'недвижимость'\n",
      " 'строительство недвижимости' 'на покупку подержанного автомобиля'\n",
      " 'на покупку своего автомобиля' 'операции с коммерческой недвижимостью'\n",
      " 'строительство жилой недвижимости' 'жилье'\n",
      " 'операции со своей недвижимостью' 'автомобили' 'заняться образованием'\n",
      " 'сделка с подержанным автомобилем' 'получение образования' 'автомобиль'\n",
      " 'свадьба' 'получение дополнительного образования' 'покупка своего жилья'\n",
      " 'операции с недвижимостью' 'получение высшего образования'\n",
      " 'свой автомобиль' 'сделка с автомобилем' 'профильное образование'\n",
      " 'высшее образование' 'покупка жилья для сдачи' 'на покупку автомобиля'\n",
      " 'ремонт жилью' 'заняться высшим образованием']\n",
      "-----------------------------------\n"
     ]
    }
   ],
   "source": [
    "# посмотрим на уникальные значения в столбцах\n",
    "\n",
    "for column in data_bank.columns:\n",
    "    print(column)\n",
    "    print((data_bank[column].unique()))\n",
    "    print('-----------------------------------')\n"
   ]
  },
  {
   "cell_type": "markdown",
   "metadata": {
    "id": "OLaIJHF2VO0n"
   },
   "source": [
    "**Комментарий:** \n",
    "\n",
    "- Столбец ***children*** содержит значения -1 и 20, значение -1 преобразуем в 1, значение 20 похоже на опечатку, исправим на 2.\n",
    "- Столбец ***days_employed*** содержит отрицательные значения, также считаю необходимым сравнить его со столбцом с возрастом заемщиков.\n",
    "- Столбец ***dob_years*** содержит значение 0, т.к. это, очевидно, является ошибкой, удалим это значение.\n",
    "- Столбец ***education***, как упоминали выше, содержит значения разного регистра, приведем их к строчному виду.\n",
    "- Столбец ***gender*** содержит значение XNA - удалим его.\n",
    "- В столбце ***family_status*** приведем все к нижнему регистру.\n",
    "- Столбец ***purpose*** содержит значения одинаковые по смыслу. Проведем лемматизацию и соберем все в категории.\n",
    "\n",
    "<br> Также хочу уточнить, что значения в столбце ***debt*** будем считывать следующим образом:\n",
    "- 0 - это нет задолженности.\n",
    "- 1 - это есть задолженность. "
   ]
  },
  {
   "cell_type": "code",
   "execution_count": 52,
   "metadata": {
    "colab": {
     "base_uri": "https://localhost:8080/"
    },
    "executionInfo": {
     "elapsed": 33,
     "status": "ok",
     "timestamp": 1663662915808,
     "user": {
      "displayName": "Настя Соколова",
      "userId": "11350473308931524848"
     },
     "user_tz": -180
    },
    "id": "kZWeU7WlVO0o",
    "outputId": "b5ca8190-7cf0-4c35-b11b-d672b1973534"
   },
   "outputs": [
    {
     "data": {
      "text/plain": [
       "0    14149\n",
       "1     4865\n",
       "2     2131\n",
       "3      330\n",
       "4       41\n",
       "5        9\n",
       "Name: children, dtype: int64"
      ]
     },
     "execution_count": 52,
     "metadata": {},
     "output_type": "execute_result"
    }
   ],
   "source": [
    "data_bank.loc[data_bank['children'] == 20, 'children'] = 2\n",
    "data_bank.loc[data_bank['children'] == -1, 'children'] = 1\n",
    "data_bank['children'].value_counts()"
   ]
  },
  {
   "cell_type": "code",
   "execution_count": 53,
   "metadata": {
    "colab": {
     "base_uri": "https://localhost:8080/"
    },
    "executionInfo": {
     "elapsed": 29,
     "status": "ok",
     "timestamp": 1663662915809,
     "user": {
      "displayName": "Настя Соколова",
      "userId": "11350473308931524848"
     },
     "user_tz": -180
    },
    "id": "kawok8zL88h1",
    "outputId": "4f2f33ad-3f73-4808-f972-3cee06bd7136"
   },
   "outputs": [
    {
     "data": {
      "text/plain": [
       "count    21424.000000\n",
       "mean        43.497479\n",
       "std         12.246934\n",
       "min         19.000000\n",
       "25%         33.000000\n",
       "50%         43.000000\n",
       "75%         53.000000\n",
       "max         75.000000\n",
       "Name: dob_years, dtype: float64"
      ]
     },
     "execution_count": 53,
     "metadata": {},
     "output_type": "execute_result"
    }
   ],
   "source": [
    "data_bank = data_bank.query('dob_years > 0')\n",
    "data_bank['dob_years'].describe()"
   ]
  },
  {
   "cell_type": "code",
   "execution_count": 54,
   "metadata": {
    "colab": {
     "base_uri": "https://localhost:8080/"
    },
    "executionInfo": {
     "elapsed": 26,
     "status": "ok",
     "timestamp": 1663662915810,
     "user": {
      "displayName": "Настя Соколова",
      "userId": "11350473308931524848"
     },
     "user_tz": -180
    },
    "id": "f0WgOJ4IVO03",
    "outputId": "bf0c67a4-56d7-4946-9d8d-0e9154fd5f0b"
   },
   "outputs": [
    {
     "data": {
      "text/plain": [
       "среднее                15169\n",
       "высшее                  5225\n",
       "неоконченное высшее      742\n",
       "начальное                282\n",
       "ученая степень             6\n",
       "Name: education, dtype: int64"
      ]
     },
     "execution_count": 54,
     "metadata": {},
     "output_type": "execute_result"
    }
   ],
   "source": [
    "data_bank['education'] = data_bank['education'].str.lower()\n",
    "data_bank['education'].value_counts()"
   ]
  },
  {
   "cell_type": "code",
   "execution_count": 55,
   "metadata": {
    "executionInfo": {
     "elapsed": 23,
     "status": "ok",
     "timestamp": 1663662915811,
     "user": {
      "displayName": "Настя Соколова",
      "userId": "11350473308931524848"
     },
     "user_tz": -180
    },
    "id": "0MotWZkb__w9"
   },
   "outputs": [],
   "source": [
    "data_bank = data_bank[data_bank.gender != 'XNA']"
   ]
  },
  {
   "cell_type": "code",
   "execution_count": 56,
   "metadata": {
    "colab": {
     "base_uri": "https://localhost:8080/"
    },
    "executionInfo": {
     "elapsed": 24,
     "status": "ok",
     "timestamp": 1663662915812,
     "user": {
      "displayName": "Настя Соколова",
      "userId": "11350473308931524848"
     },
     "user_tz": -180
    },
    "id": "aejKbG4VVO1H",
    "outputId": "c53e5508-1527-45f6-c05a-39bd2853ec7a"
   },
   "outputs": [
    {
     "data": {
      "text/plain": [
       "женат / замужем          12331\n",
       "гражданский брак          4155\n",
       "не женат / не замужем     2797\n",
       "в разводе                 1185\n",
       "вдовец / вдова             955\n",
       "Name: family_status, dtype: int64"
      ]
     },
     "execution_count": 56,
     "metadata": {},
     "output_type": "execute_result"
    }
   ],
   "source": [
    "data_bank['family_status'] = data_bank['family_status'].str.lower()\n",
    "data_bank['family_status'].value_counts()"
   ]
  },
  {
   "cell_type": "code",
   "execution_count": 57,
   "metadata": {
    "colab": {
     "base_uri": "https://localhost:8080/"
    },
    "executionInfo": {
     "elapsed": 21,
     "status": "ok",
     "timestamp": 1663662915813,
     "user": {
      "displayName": "Настя Соколова",
      "userId": "11350473308931524848"
     },
     "user_tz": -180
    },
    "id": "bIb6_m-jP2xM",
    "outputId": "c6dc34c1-5fc1-48c2-dc52-25e6b1d761db"
   },
   "outputs": [
    {
     "data": {
      "text/plain": [
       "0"
      ]
     },
     "execution_count": 57,
     "metadata": {},
     "output_type": "execute_result"
    }
   ],
   "source": [
    "# удалим дубликаты\n",
    "\n",
    "data_bank = data_bank.drop_duplicates().reset_index(drop=True)\n",
    "data_bank.duplicated().sum()"
   ]
  },
  {
   "cell_type": "markdown",
   "metadata": {
    "id": "UBmb4TisVO1K"
   },
   "source": [
    "### Лемматизация и категоризация данных"
   ]
  },
  {
   "cell_type": "markdown",
   "metadata": {
    "id": "MTDkYTizVO1K"
   },
   "source": [
    "Нам необходимо проработать дубликаты в столбце ***purpose*** и привести их к единым значениям. Используем MyStem, так как нам нужно определить основные категории целей."
   ]
  },
  {
   "cell_type": "code",
   "execution_count": 58,
   "metadata": {
    "colab": {
     "base_uri": "https://localhost:8080/"
    },
    "executionInfo": {
     "elapsed": 19,
     "status": "ok",
     "timestamp": 1663662915814,
     "user": {
      "displayName": "Настя Соколова",
      "userId": "11350473308931524848"
     },
     "user_tz": -180
    },
    "id": "XU_qtRGtRfVh",
    "outputId": "ffed78b1-3d94-463e-ea1f-b33f928eb777"
   },
   "outputs": [
    {
     "name": "stdout",
     "output_type": "stream",
     "text": [
      "['покупка жилья' 'приобретение автомобиля' 'дополнительное образование'\n",
      " 'сыграть свадьбу' 'операции с жильем' 'образование'\n",
      " 'на проведение свадьбы' 'покупка жилья для семьи' 'покупка недвижимости'\n",
      " 'покупка коммерческой недвижимости' 'покупка жилой недвижимости'\n",
      " 'строительство собственной недвижимости' 'недвижимость'\n",
      " 'строительство недвижимости' 'на покупку подержанного автомобиля'\n",
      " 'на покупку своего автомобиля' 'операции с коммерческой недвижимостью'\n",
      " 'строительство жилой недвижимости' 'жилье'\n",
      " 'операции со своей недвижимостью' 'автомобили' 'заняться образованием'\n",
      " 'сделка с подержанным автомобилем' 'получение образования' 'автомобиль'\n",
      " 'свадьба' 'получение дополнительного образования' 'покупка своего жилья'\n",
      " 'операции с недвижимостью' 'получение высшего образования'\n",
      " 'свой автомобиль' 'сделка с автомобилем' 'профильное образование'\n",
      " 'высшее образование' 'покупка жилья для сдачи' 'на покупку автомобиля'\n",
      " 'ремонт жилью' 'заняться высшим образованием']\n"
     ]
    }
   ],
   "source": [
    "# сделаем список из уникальных значений \n",
    "\n",
    "purpose_list = data_bank['purpose'].unique()\n",
    "print(purpose_list)"
   ]
  },
  {
   "cell_type": "code",
   "execution_count": 59,
   "metadata": {
    "colab": {
     "base_uri": "https://localhost:8080/",
     "height": 404
    },
    "executionInfo": {
     "elapsed": 11847,
     "status": "error",
     "timestamp": 1663662910549,
     "user": {
      "displayName": "Настя Соколова",
      "userId": "11350473308931524848"
     },
     "user_tz": -180
    },
    "id": "e6jY-c9T4HkC",
    "outputId": "b7adaa6b-f12e-4f3e-9f07-6d98197d36c2"
   },
   "outputs": [
    {
     "name": "stdout",
     "output_type": "stream",
     "text": [
      "['покупка жилье\\n']\n",
      "['покупка жилье\\n', 'приобретение автомобиль\\n']\n",
      "['покупка жилье\\n', 'приобретение автомобиль\\n', 'дополнительный образование\\n']\n",
      "['покупка жилье\\n', 'приобретение автомобиль\\n', 'дополнительный образование\\n', 'сыграть свадьба\\n']\n",
      "['покупка жилье\\n', 'приобретение автомобиль\\n', 'дополнительный образование\\n', 'сыграть свадьба\\n', 'операция с жилье\\n']\n",
      "['покупка жилье\\n', 'приобретение автомобиль\\n', 'дополнительный образование\\n', 'сыграть свадьба\\n', 'операция с жилье\\n', 'образование\\n']\n",
      "['покупка жилье\\n', 'приобретение автомобиль\\n', 'дополнительный образование\\n', 'сыграть свадьба\\n', 'операция с жилье\\n', 'образование\\n', 'на проведение свадьба\\n']\n",
      "['покупка жилье\\n', 'приобретение автомобиль\\n', 'дополнительный образование\\n', 'сыграть свадьба\\n', 'операция с жилье\\n', 'образование\\n', 'на проведение свадьба\\n', 'покупка жилье для семья\\n']\n",
      "['покупка жилье\\n', 'приобретение автомобиль\\n', 'дополнительный образование\\n', 'сыграть свадьба\\n', 'операция с жилье\\n', 'образование\\n', 'на проведение свадьба\\n', 'покупка жилье для семья\\n', 'покупка недвижимость\\n']\n",
      "['покупка жилье\\n', 'приобретение автомобиль\\n', 'дополнительный образование\\n', 'сыграть свадьба\\n', 'операция с жилье\\n', 'образование\\n', 'на проведение свадьба\\n', 'покупка жилье для семья\\n', 'покупка недвижимость\\n', 'покупка коммерческий недвижимость\\n']\n",
      "['покупка жилье\\n', 'приобретение автомобиль\\n', 'дополнительный образование\\n', 'сыграть свадьба\\n', 'операция с жилье\\n', 'образование\\n', 'на проведение свадьба\\n', 'покупка жилье для семья\\n', 'покупка недвижимость\\n', 'покупка коммерческий недвижимость\\n', 'покупка жилой недвижимость\\n']\n",
      "['покупка жилье\\n', 'приобретение автомобиль\\n', 'дополнительный образование\\n', 'сыграть свадьба\\n', 'операция с жилье\\n', 'образование\\n', 'на проведение свадьба\\n', 'покупка жилье для семья\\n', 'покупка недвижимость\\n', 'покупка коммерческий недвижимость\\n', 'покупка жилой недвижимость\\n', 'строительство собственный недвижимость\\n']\n",
      "['покупка жилье\\n', 'приобретение автомобиль\\n', 'дополнительный образование\\n', 'сыграть свадьба\\n', 'операция с жилье\\n', 'образование\\n', 'на проведение свадьба\\n', 'покупка жилье для семья\\n', 'покупка недвижимость\\n', 'покупка коммерческий недвижимость\\n', 'покупка жилой недвижимость\\n', 'строительство собственный недвижимость\\n', 'недвижимость\\n']\n",
      "['покупка жилье\\n', 'приобретение автомобиль\\n', 'дополнительный образование\\n', 'сыграть свадьба\\n', 'операция с жилье\\n', 'образование\\n', 'на проведение свадьба\\n', 'покупка жилье для семья\\n', 'покупка недвижимость\\n', 'покупка коммерческий недвижимость\\n', 'покупка жилой недвижимость\\n', 'строительство собственный недвижимость\\n', 'недвижимость\\n', 'строительство недвижимость\\n']\n",
      "['покупка жилье\\n', 'приобретение автомобиль\\n', 'дополнительный образование\\n', 'сыграть свадьба\\n', 'операция с жилье\\n', 'образование\\n', 'на проведение свадьба\\n', 'покупка жилье для семья\\n', 'покупка недвижимость\\n', 'покупка коммерческий недвижимость\\n', 'покупка жилой недвижимость\\n', 'строительство собственный недвижимость\\n', 'недвижимость\\n', 'строительство недвижимость\\n', 'на покупка подержать автомобиль\\n']\n",
      "['покупка жилье\\n', 'приобретение автомобиль\\n', 'дополнительный образование\\n', 'сыграть свадьба\\n', 'операция с жилье\\n', 'образование\\n', 'на проведение свадьба\\n', 'покупка жилье для семья\\n', 'покупка недвижимость\\n', 'покупка коммерческий недвижимость\\n', 'покупка жилой недвижимость\\n', 'строительство собственный недвижимость\\n', 'недвижимость\\n', 'строительство недвижимость\\n', 'на покупка подержать автомобиль\\n', 'на покупка свой автомобиль\\n']\n",
      "['покупка жилье\\n', 'приобретение автомобиль\\n', 'дополнительный образование\\n', 'сыграть свадьба\\n', 'операция с жилье\\n', 'образование\\n', 'на проведение свадьба\\n', 'покупка жилье для семья\\n', 'покупка недвижимость\\n', 'покупка коммерческий недвижимость\\n', 'покупка жилой недвижимость\\n', 'строительство собственный недвижимость\\n', 'недвижимость\\n', 'строительство недвижимость\\n', 'на покупка подержать автомобиль\\n', 'на покупка свой автомобиль\\n', 'операция с коммерческий недвижимость\\n']\n",
      "['покупка жилье\\n', 'приобретение автомобиль\\n', 'дополнительный образование\\n', 'сыграть свадьба\\n', 'операция с жилье\\n', 'образование\\n', 'на проведение свадьба\\n', 'покупка жилье для семья\\n', 'покупка недвижимость\\n', 'покупка коммерческий недвижимость\\n', 'покупка жилой недвижимость\\n', 'строительство собственный недвижимость\\n', 'недвижимость\\n', 'строительство недвижимость\\n', 'на покупка подержать автомобиль\\n', 'на покупка свой автомобиль\\n', 'операция с коммерческий недвижимость\\n', 'строительство жилой недвижимость\\n']\n",
      "['покупка жилье\\n', 'приобретение автомобиль\\n', 'дополнительный образование\\n', 'сыграть свадьба\\n', 'операция с жилье\\n', 'образование\\n', 'на проведение свадьба\\n', 'покупка жилье для семья\\n', 'покупка недвижимость\\n', 'покупка коммерческий недвижимость\\n', 'покупка жилой недвижимость\\n', 'строительство собственный недвижимость\\n', 'недвижимость\\n', 'строительство недвижимость\\n', 'на покупка подержать автомобиль\\n', 'на покупка свой автомобиль\\n', 'операция с коммерческий недвижимость\\n', 'строительство жилой недвижимость\\n', 'жилье\\n']\n",
      "['покупка жилье\\n', 'приобретение автомобиль\\n', 'дополнительный образование\\n', 'сыграть свадьба\\n', 'операция с жилье\\n', 'образование\\n', 'на проведение свадьба\\n', 'покупка жилье для семья\\n', 'покупка недвижимость\\n', 'покупка коммерческий недвижимость\\n', 'покупка жилой недвижимость\\n', 'строительство собственный недвижимость\\n', 'недвижимость\\n', 'строительство недвижимость\\n', 'на покупка подержать автомобиль\\n', 'на покупка свой автомобиль\\n', 'операция с коммерческий недвижимость\\n', 'строительство жилой недвижимость\\n', 'жилье\\n', 'операция со свой недвижимость\\n']\n",
      "['покупка жилье\\n', 'приобретение автомобиль\\n', 'дополнительный образование\\n', 'сыграть свадьба\\n', 'операция с жилье\\n', 'образование\\n', 'на проведение свадьба\\n', 'покупка жилье для семья\\n', 'покупка недвижимость\\n', 'покупка коммерческий недвижимость\\n', 'покупка жилой недвижимость\\n', 'строительство собственный недвижимость\\n', 'недвижимость\\n', 'строительство недвижимость\\n', 'на покупка подержать автомобиль\\n', 'на покупка свой автомобиль\\n', 'операция с коммерческий недвижимость\\n', 'строительство жилой недвижимость\\n', 'жилье\\n', 'операция со свой недвижимость\\n', 'автомобиль\\n']\n",
      "['покупка жилье\\n', 'приобретение автомобиль\\n', 'дополнительный образование\\n', 'сыграть свадьба\\n', 'операция с жилье\\n', 'образование\\n', 'на проведение свадьба\\n', 'покупка жилье для семья\\n', 'покупка недвижимость\\n', 'покупка коммерческий недвижимость\\n', 'покупка жилой недвижимость\\n', 'строительство собственный недвижимость\\n', 'недвижимость\\n', 'строительство недвижимость\\n', 'на покупка подержать автомобиль\\n', 'на покупка свой автомобиль\\n', 'операция с коммерческий недвижимость\\n', 'строительство жилой недвижимость\\n', 'жилье\\n', 'операция со свой недвижимость\\n', 'автомобиль\\n', 'заниматься образование\\n']\n",
      "['покупка жилье\\n', 'приобретение автомобиль\\n', 'дополнительный образование\\n', 'сыграть свадьба\\n', 'операция с жилье\\n', 'образование\\n', 'на проведение свадьба\\n', 'покупка жилье для семья\\n', 'покупка недвижимость\\n', 'покупка коммерческий недвижимость\\n', 'покупка жилой недвижимость\\n', 'строительство собственный недвижимость\\n', 'недвижимость\\n', 'строительство недвижимость\\n', 'на покупка подержать автомобиль\\n', 'на покупка свой автомобиль\\n', 'операция с коммерческий недвижимость\\n', 'строительство жилой недвижимость\\n', 'жилье\\n', 'операция со свой недвижимость\\n', 'автомобиль\\n', 'заниматься образование\\n', 'сделка с подержанный автомобиль\\n']\n",
      "['покупка жилье\\n', 'приобретение автомобиль\\n', 'дополнительный образование\\n', 'сыграть свадьба\\n', 'операция с жилье\\n', 'образование\\n', 'на проведение свадьба\\n', 'покупка жилье для семья\\n', 'покупка недвижимость\\n', 'покупка коммерческий недвижимость\\n', 'покупка жилой недвижимость\\n', 'строительство собственный недвижимость\\n', 'недвижимость\\n', 'строительство недвижимость\\n', 'на покупка подержать автомобиль\\n', 'на покупка свой автомобиль\\n', 'операция с коммерческий недвижимость\\n', 'строительство жилой недвижимость\\n', 'жилье\\n', 'операция со свой недвижимость\\n', 'автомобиль\\n', 'заниматься образование\\n', 'сделка с подержанный автомобиль\\n', 'получение образование\\n']\n",
      "['покупка жилье\\n', 'приобретение автомобиль\\n', 'дополнительный образование\\n', 'сыграть свадьба\\n', 'операция с жилье\\n', 'образование\\n', 'на проведение свадьба\\n', 'покупка жилье для семья\\n', 'покупка недвижимость\\n', 'покупка коммерческий недвижимость\\n', 'покупка жилой недвижимость\\n', 'строительство собственный недвижимость\\n', 'недвижимость\\n', 'строительство недвижимость\\n', 'на покупка подержать автомобиль\\n', 'на покупка свой автомобиль\\n', 'операция с коммерческий недвижимость\\n', 'строительство жилой недвижимость\\n', 'жилье\\n', 'операция со свой недвижимость\\n', 'автомобиль\\n', 'заниматься образование\\n', 'сделка с подержанный автомобиль\\n', 'получение образование\\n', 'автомобиль\\n']\n",
      "['покупка жилье\\n', 'приобретение автомобиль\\n', 'дополнительный образование\\n', 'сыграть свадьба\\n', 'операция с жилье\\n', 'образование\\n', 'на проведение свадьба\\n', 'покупка жилье для семья\\n', 'покупка недвижимость\\n', 'покупка коммерческий недвижимость\\n', 'покупка жилой недвижимость\\n', 'строительство собственный недвижимость\\n', 'недвижимость\\n', 'строительство недвижимость\\n', 'на покупка подержать автомобиль\\n', 'на покупка свой автомобиль\\n', 'операция с коммерческий недвижимость\\n', 'строительство жилой недвижимость\\n', 'жилье\\n', 'операция со свой недвижимость\\n', 'автомобиль\\n', 'заниматься образование\\n', 'сделка с подержанный автомобиль\\n', 'получение образование\\n', 'автомобиль\\n', 'свадьба\\n']\n",
      "['покупка жилье\\n', 'приобретение автомобиль\\n', 'дополнительный образование\\n', 'сыграть свадьба\\n', 'операция с жилье\\n', 'образование\\n', 'на проведение свадьба\\n', 'покупка жилье для семья\\n', 'покупка недвижимость\\n', 'покупка коммерческий недвижимость\\n', 'покупка жилой недвижимость\\n', 'строительство собственный недвижимость\\n', 'недвижимость\\n', 'строительство недвижимость\\n', 'на покупка подержать автомобиль\\n', 'на покупка свой автомобиль\\n', 'операция с коммерческий недвижимость\\n', 'строительство жилой недвижимость\\n', 'жилье\\n', 'операция со свой недвижимость\\n', 'автомобиль\\n', 'заниматься образование\\n', 'сделка с подержанный автомобиль\\n', 'получение образование\\n', 'автомобиль\\n', 'свадьба\\n', 'получение дополнительный образование\\n']\n",
      "['покупка жилье\\n', 'приобретение автомобиль\\n', 'дополнительный образование\\n', 'сыграть свадьба\\n', 'операция с жилье\\n', 'образование\\n', 'на проведение свадьба\\n', 'покупка жилье для семья\\n', 'покупка недвижимость\\n', 'покупка коммерческий недвижимость\\n', 'покупка жилой недвижимость\\n', 'строительство собственный недвижимость\\n', 'недвижимость\\n', 'строительство недвижимость\\n', 'на покупка подержать автомобиль\\n', 'на покупка свой автомобиль\\n', 'операция с коммерческий недвижимость\\n', 'строительство жилой недвижимость\\n', 'жилье\\n', 'операция со свой недвижимость\\n', 'автомобиль\\n', 'заниматься образование\\n', 'сделка с подержанный автомобиль\\n', 'получение образование\\n', 'автомобиль\\n', 'свадьба\\n', 'получение дополнительный образование\\n', 'покупка свой жилье\\n']\n",
      "['покупка жилье\\n', 'приобретение автомобиль\\n', 'дополнительный образование\\n', 'сыграть свадьба\\n', 'операция с жилье\\n', 'образование\\n', 'на проведение свадьба\\n', 'покупка жилье для семья\\n', 'покупка недвижимость\\n', 'покупка коммерческий недвижимость\\n', 'покупка жилой недвижимость\\n', 'строительство собственный недвижимость\\n', 'недвижимость\\n', 'строительство недвижимость\\n', 'на покупка подержать автомобиль\\n', 'на покупка свой автомобиль\\n', 'операция с коммерческий недвижимость\\n', 'строительство жилой недвижимость\\n', 'жилье\\n', 'операция со свой недвижимость\\n', 'автомобиль\\n', 'заниматься образование\\n', 'сделка с подержанный автомобиль\\n', 'получение образование\\n', 'автомобиль\\n', 'свадьба\\n', 'получение дополнительный образование\\n', 'покупка свой жилье\\n', 'операция с недвижимость\\n']\n",
      "['покупка жилье\\n', 'приобретение автомобиль\\n', 'дополнительный образование\\n', 'сыграть свадьба\\n', 'операция с жилье\\n', 'образование\\n', 'на проведение свадьба\\n', 'покупка жилье для семья\\n', 'покупка недвижимость\\n', 'покупка коммерческий недвижимость\\n', 'покупка жилой недвижимость\\n', 'строительство собственный недвижимость\\n', 'недвижимость\\n', 'строительство недвижимость\\n', 'на покупка подержать автомобиль\\n', 'на покупка свой автомобиль\\n', 'операция с коммерческий недвижимость\\n', 'строительство жилой недвижимость\\n', 'жилье\\n', 'операция со свой недвижимость\\n', 'автомобиль\\n', 'заниматься образование\\n', 'сделка с подержанный автомобиль\\n', 'получение образование\\n', 'автомобиль\\n', 'свадьба\\n', 'получение дополнительный образование\\n', 'покупка свой жилье\\n', 'операция с недвижимость\\n', 'получение высокий образование\\n']\n",
      "['покупка жилье\\n', 'приобретение автомобиль\\n', 'дополнительный образование\\n', 'сыграть свадьба\\n', 'операция с жилье\\n', 'образование\\n', 'на проведение свадьба\\n', 'покупка жилье для семья\\n', 'покупка недвижимость\\n', 'покупка коммерческий недвижимость\\n', 'покупка жилой недвижимость\\n', 'строительство собственный недвижимость\\n', 'недвижимость\\n', 'строительство недвижимость\\n', 'на покупка подержать автомобиль\\n', 'на покупка свой автомобиль\\n', 'операция с коммерческий недвижимость\\n', 'строительство жилой недвижимость\\n', 'жилье\\n', 'операция со свой недвижимость\\n', 'автомобиль\\n', 'заниматься образование\\n', 'сделка с подержанный автомобиль\\n', 'получение образование\\n', 'автомобиль\\n', 'свадьба\\n', 'получение дополнительный образование\\n', 'покупка свой жилье\\n', 'операция с недвижимость\\n', 'получение высокий образование\\n', 'свой автомобиль\\n']\n",
      "['покупка жилье\\n', 'приобретение автомобиль\\n', 'дополнительный образование\\n', 'сыграть свадьба\\n', 'операция с жилье\\n', 'образование\\n', 'на проведение свадьба\\n', 'покупка жилье для семья\\n', 'покупка недвижимость\\n', 'покупка коммерческий недвижимость\\n', 'покупка жилой недвижимость\\n', 'строительство собственный недвижимость\\n', 'недвижимость\\n', 'строительство недвижимость\\n', 'на покупка подержать автомобиль\\n', 'на покупка свой автомобиль\\n', 'операция с коммерческий недвижимость\\n', 'строительство жилой недвижимость\\n', 'жилье\\n', 'операция со свой недвижимость\\n', 'автомобиль\\n', 'заниматься образование\\n', 'сделка с подержанный автомобиль\\n', 'получение образование\\n', 'автомобиль\\n', 'свадьба\\n', 'получение дополнительный образование\\n', 'покупка свой жилье\\n', 'операция с недвижимость\\n', 'получение высокий образование\\n', 'свой автомобиль\\n', 'сделка с автомобиль\\n']\n",
      "['покупка жилье\\n', 'приобретение автомобиль\\n', 'дополнительный образование\\n', 'сыграть свадьба\\n', 'операция с жилье\\n', 'образование\\n', 'на проведение свадьба\\n', 'покупка жилье для семья\\n', 'покупка недвижимость\\n', 'покупка коммерческий недвижимость\\n', 'покупка жилой недвижимость\\n', 'строительство собственный недвижимость\\n', 'недвижимость\\n', 'строительство недвижимость\\n', 'на покупка подержать автомобиль\\n', 'на покупка свой автомобиль\\n', 'операция с коммерческий недвижимость\\n', 'строительство жилой недвижимость\\n', 'жилье\\n', 'операция со свой недвижимость\\n', 'автомобиль\\n', 'заниматься образование\\n', 'сделка с подержанный автомобиль\\n', 'получение образование\\n', 'автомобиль\\n', 'свадьба\\n', 'получение дополнительный образование\\n', 'покупка свой жилье\\n', 'операция с недвижимость\\n', 'получение высокий образование\\n', 'свой автомобиль\\n', 'сделка с автомобиль\\n', 'профильный образование\\n']\n",
      "['покупка жилье\\n', 'приобретение автомобиль\\n', 'дополнительный образование\\n', 'сыграть свадьба\\n', 'операция с жилье\\n', 'образование\\n', 'на проведение свадьба\\n', 'покупка жилье для семья\\n', 'покупка недвижимость\\n', 'покупка коммерческий недвижимость\\n', 'покупка жилой недвижимость\\n', 'строительство собственный недвижимость\\n', 'недвижимость\\n', 'строительство недвижимость\\n', 'на покупка подержать автомобиль\\n', 'на покупка свой автомобиль\\n', 'операция с коммерческий недвижимость\\n', 'строительство жилой недвижимость\\n', 'жилье\\n', 'операция со свой недвижимость\\n', 'автомобиль\\n', 'заниматься образование\\n', 'сделка с подержанный автомобиль\\n', 'получение образование\\n', 'автомобиль\\n', 'свадьба\\n', 'получение дополнительный образование\\n', 'покупка свой жилье\\n', 'операция с недвижимость\\n', 'получение высокий образование\\n', 'свой автомобиль\\n', 'сделка с автомобиль\\n', 'профильный образование\\n', 'высокий образование\\n']\n",
      "['покупка жилье\\n', 'приобретение автомобиль\\n', 'дополнительный образование\\n', 'сыграть свадьба\\n', 'операция с жилье\\n', 'образование\\n', 'на проведение свадьба\\n', 'покупка жилье для семья\\n', 'покупка недвижимость\\n', 'покупка коммерческий недвижимость\\n', 'покупка жилой недвижимость\\n', 'строительство собственный недвижимость\\n', 'недвижимость\\n', 'строительство недвижимость\\n', 'на покупка подержать автомобиль\\n', 'на покупка свой автомобиль\\n', 'операция с коммерческий недвижимость\\n', 'строительство жилой недвижимость\\n', 'жилье\\n', 'операция со свой недвижимость\\n', 'автомобиль\\n', 'заниматься образование\\n', 'сделка с подержанный автомобиль\\n', 'получение образование\\n', 'автомобиль\\n', 'свадьба\\n', 'получение дополнительный образование\\n', 'покупка свой жилье\\n', 'операция с недвижимость\\n', 'получение высокий образование\\n', 'свой автомобиль\\n', 'сделка с автомобиль\\n', 'профильный образование\\n', 'высокий образование\\n', 'покупка жилье для сдача\\n']\n",
      "['покупка жилье\\n', 'приобретение автомобиль\\n', 'дополнительный образование\\n', 'сыграть свадьба\\n', 'операция с жилье\\n', 'образование\\n', 'на проведение свадьба\\n', 'покупка жилье для семья\\n', 'покупка недвижимость\\n', 'покупка коммерческий недвижимость\\n', 'покупка жилой недвижимость\\n', 'строительство собственный недвижимость\\n', 'недвижимость\\n', 'строительство недвижимость\\n', 'на покупка подержать автомобиль\\n', 'на покупка свой автомобиль\\n', 'операция с коммерческий недвижимость\\n', 'строительство жилой недвижимость\\n', 'жилье\\n', 'операция со свой недвижимость\\n', 'автомобиль\\n', 'заниматься образование\\n', 'сделка с подержанный автомобиль\\n', 'получение образование\\n', 'автомобиль\\n', 'свадьба\\n', 'получение дополнительный образование\\n', 'покупка свой жилье\\n', 'операция с недвижимость\\n', 'получение высокий образование\\n', 'свой автомобиль\\n', 'сделка с автомобиль\\n', 'профильный образование\\n', 'высокий образование\\n', 'покупка жилье для сдача\\n', 'на покупка автомобиль\\n']\n",
      "['покупка жилье\\n', 'приобретение автомобиль\\n', 'дополнительный образование\\n', 'сыграть свадьба\\n', 'операция с жилье\\n', 'образование\\n', 'на проведение свадьба\\n', 'покупка жилье для семья\\n', 'покупка недвижимость\\n', 'покупка коммерческий недвижимость\\n', 'покупка жилой недвижимость\\n', 'строительство собственный недвижимость\\n', 'недвижимость\\n', 'строительство недвижимость\\n', 'на покупка подержать автомобиль\\n', 'на покупка свой автомобиль\\n', 'операция с коммерческий недвижимость\\n', 'строительство жилой недвижимость\\n', 'жилье\\n', 'операция со свой недвижимость\\n', 'автомобиль\\n', 'заниматься образование\\n', 'сделка с подержанный автомобиль\\n', 'получение образование\\n', 'автомобиль\\n', 'свадьба\\n', 'получение дополнительный образование\\n', 'покупка свой жилье\\n', 'операция с недвижимость\\n', 'получение высокий образование\\n', 'свой автомобиль\\n', 'сделка с автомобиль\\n', 'профильный образование\\n', 'высокий образование\\n', 'покупка жилье для сдача\\n', 'на покупка автомобиль\\n', 'ремонт жилье\\n']\n",
      "['покупка жилье\\n', 'приобретение автомобиль\\n', 'дополнительный образование\\n', 'сыграть свадьба\\n', 'операция с жилье\\n', 'образование\\n', 'на проведение свадьба\\n', 'покупка жилье для семья\\n', 'покупка недвижимость\\n', 'покупка коммерческий недвижимость\\n', 'покупка жилой недвижимость\\n', 'строительство собственный недвижимость\\n', 'недвижимость\\n', 'строительство недвижимость\\n', 'на покупка подержать автомобиль\\n', 'на покупка свой автомобиль\\n', 'операция с коммерческий недвижимость\\n', 'строительство жилой недвижимость\\n', 'жилье\\n', 'операция со свой недвижимость\\n', 'автомобиль\\n', 'заниматься образование\\n', 'сделка с подержанный автомобиль\\n', 'получение образование\\n', 'автомобиль\\n', 'свадьба\\n', 'получение дополнительный образование\\n', 'покупка свой жилье\\n', 'операция с недвижимость\\n', 'получение высокий образование\\n', 'свой автомобиль\\n', 'сделка с автомобиль\\n', 'профильный образование\\n', 'высокий образование\\n', 'покупка жилье для сдача\\n', 'на покупка автомобиль\\n', 'ремонт жилье\\n', 'заниматься высокий образование\\n']\n"
     ]
    }
   ],
   "source": [
    "purpuse_set = [] #сделаем отдельный список\n",
    "\n",
    "for word in purpose_list:\n",
    "    lemma = ''.join(m.lemmatize(word))\n",
    "    purpuse_set.append(lemma)\n",
    "    print(purpuse_set)"
   ]
  },
  {
   "cell_type": "markdown",
   "metadata": {
    "id": "xBqQ8ZMjVO1N"
   },
   "source": [
    "**Категоризация № 1**\n",
    "<br> Проанализировав получившийся список, нам необходимо выделить основные категории - это будут \"*автомобиль*\", \"*недвижимость*\", \"*свадьба*\", \"*образование*\" - напишем функцию и заменим их в основной таблице."
   ]
  },
  {
   "cell_type": "code",
   "execution_count": 60,
   "metadata": {
    "id": "uHQax4gKVO1N",
    "scrolled": true
   },
   "outputs": [
    {
     "data": {
      "text/plain": [
       "недвижимость    10763\n",
       "автомобиль       4284\n",
       "образование      3995\n",
       "свадьба          2310\n",
       "Name: purpose_def, dtype: int64"
      ]
     },
     "execution_count": 60,
     "metadata": {},
     "output_type": "execute_result"
    }
   ],
   "source": [
    "def change_category(row):\n",
    "    l = m.lemmatize(row)\n",
    "    if 'недвижимость' in l or 'жилье' in l:\n",
    "        return 'недвижимость'\n",
    "    if 'свадьба' in l:\n",
    "        return 'свадьба'\n",
    "    if 'образование' in l:\n",
    "        return 'образование'\n",
    "    if 'автомобиль' in l:\n",
    "        return 'автомобиль' \n",
    "\n",
    "data_bank['purpose_def'] = data_bank['purpose'].apply(change_category) \n",
    "\n",
    "data_bank['purpose_def'].value_counts()\n"
   ]
  },
  {
   "cell_type": "markdown",
   "metadata": {
    "id": "IRfad9A1VO1O"
   },
   "source": [
    "**Категоризация № 2** \n",
    "- если нет детей - **\"нет детей\"**. \n",
    "- если 1-2 ребенка - **\"немногодетная семья\"**.\n",
    "- более 3 детей - **\"многодетная семья\"**. "
   ]
  },
  {
   "cell_type": "code",
   "execution_count": 61,
   "metadata": {
    "id": "JVpCEQ2IVO1O"
   },
   "outputs": [
    {
     "data": {
      "text/html": [
       "<div>\n",
       "<style scoped>\n",
       "    .dataframe tbody tr th:only-of-type {\n",
       "        vertical-align: middle;\n",
       "    }\n",
       "\n",
       "    .dataframe tbody tr th {\n",
       "        vertical-align: top;\n",
       "    }\n",
       "\n",
       "    .dataframe thead th {\n",
       "        text-align: right;\n",
       "    }\n",
       "</style>\n",
       "<table border=\"1\" class=\"dataframe\">\n",
       "  <thead>\n",
       "    <tr style=\"text-align: right;\">\n",
       "      <th></th>\n",
       "      <th>children</th>\n",
       "      <th>days_employed</th>\n",
       "      <th>dob_years</th>\n",
       "      <th>education</th>\n",
       "      <th>education_id</th>\n",
       "      <th>family_status</th>\n",
       "      <th>family_status_id</th>\n",
       "      <th>gender</th>\n",
       "      <th>income_type</th>\n",
       "      <th>debt</th>\n",
       "      <th>total_income</th>\n",
       "      <th>purpose</th>\n",
       "      <th>purpose_def</th>\n",
       "      <th>child_group</th>\n",
       "    </tr>\n",
       "  </thead>\n",
       "  <tbody>\n",
       "    <tr>\n",
       "      <th>0</th>\n",
       "      <td>1</td>\n",
       "      <td>351</td>\n",
       "      <td>42</td>\n",
       "      <td>высшее</td>\n",
       "      <td>0</td>\n",
       "      <td>женат / замужем</td>\n",
       "      <td>0</td>\n",
       "      <td>F</td>\n",
       "      <td>сотрудник</td>\n",
       "      <td>0</td>\n",
       "      <td>253875.639453</td>\n",
       "      <td>покупка жилья</td>\n",
       "      <td>недвижимость</td>\n",
       "      <td>немногодетная семья</td>\n",
       "    </tr>\n",
       "    <tr>\n",
       "      <th>1</th>\n",
       "      <td>1</td>\n",
       "      <td>167</td>\n",
       "      <td>36</td>\n",
       "      <td>среднее</td>\n",
       "      <td>1</td>\n",
       "      <td>женат / замужем</td>\n",
       "      <td>0</td>\n",
       "      <td>F</td>\n",
       "      <td>сотрудник</td>\n",
       "      <td>0</td>\n",
       "      <td>112080.014102</td>\n",
       "      <td>приобретение автомобиля</td>\n",
       "      <td>автомобиль</td>\n",
       "      <td>немногодетная семья</td>\n",
       "    </tr>\n",
       "    <tr>\n",
       "      <th>2</th>\n",
       "      <td>0</td>\n",
       "      <td>234</td>\n",
       "      <td>33</td>\n",
       "      <td>среднее</td>\n",
       "      <td>1</td>\n",
       "      <td>женат / замужем</td>\n",
       "      <td>0</td>\n",
       "      <td>M</td>\n",
       "      <td>сотрудник</td>\n",
       "      <td>0</td>\n",
       "      <td>145885.952297</td>\n",
       "      <td>покупка жилья</td>\n",
       "      <td>недвижимость</td>\n",
       "      <td>нет детей</td>\n",
       "    </tr>\n",
       "    <tr>\n",
       "      <th>3</th>\n",
       "      <td>3</td>\n",
       "      <td>171</td>\n",
       "      <td>32</td>\n",
       "      <td>среднее</td>\n",
       "      <td>1</td>\n",
       "      <td>женат / замужем</td>\n",
       "      <td>0</td>\n",
       "      <td>M</td>\n",
       "      <td>сотрудник</td>\n",
       "      <td>0</td>\n",
       "      <td>267628.550329</td>\n",
       "      <td>дополнительное образование</td>\n",
       "      <td>образование</td>\n",
       "      <td>многодетная семья</td>\n",
       "    </tr>\n",
       "    <tr>\n",
       "      <th>4</th>\n",
       "      <td>0</td>\n",
       "      <td>14177</td>\n",
       "      <td>53</td>\n",
       "      <td>среднее</td>\n",
       "      <td>1</td>\n",
       "      <td>гражданский брак</td>\n",
       "      <td>1</td>\n",
       "      <td>F</td>\n",
       "      <td>пенсионер</td>\n",
       "      <td>0</td>\n",
       "      <td>158616.077870</td>\n",
       "      <td>сыграть свадьбу</td>\n",
       "      <td>свадьба</td>\n",
       "      <td>нет детей</td>\n",
       "    </tr>\n",
       "    <tr>\n",
       "      <th>5</th>\n",
       "      <td>0</td>\n",
       "      <td>38</td>\n",
       "      <td>27</td>\n",
       "      <td>высшее</td>\n",
       "      <td>0</td>\n",
       "      <td>гражданский брак</td>\n",
       "      <td>1</td>\n",
       "      <td>M</td>\n",
       "      <td>компаньон</td>\n",
       "      <td>0</td>\n",
       "      <td>255763.565419</td>\n",
       "      <td>покупка жилья</td>\n",
       "      <td>недвижимость</td>\n",
       "      <td>нет детей</td>\n",
       "    </tr>\n",
       "    <tr>\n",
       "      <th>6</th>\n",
       "      <td>0</td>\n",
       "      <td>119</td>\n",
       "      <td>43</td>\n",
       "      <td>высшее</td>\n",
       "      <td>0</td>\n",
       "      <td>женат / замужем</td>\n",
       "      <td>0</td>\n",
       "      <td>F</td>\n",
       "      <td>компаньон</td>\n",
       "      <td>0</td>\n",
       "      <td>240525.971920</td>\n",
       "      <td>операции с жильем</td>\n",
       "      <td>недвижимость</td>\n",
       "      <td>нет детей</td>\n",
       "    </tr>\n",
       "    <tr>\n",
       "      <th>7</th>\n",
       "      <td>0</td>\n",
       "      <td>6</td>\n",
       "      <td>50</td>\n",
       "      <td>среднее</td>\n",
       "      <td>1</td>\n",
       "      <td>женат / замужем</td>\n",
       "      <td>0</td>\n",
       "      <td>M</td>\n",
       "      <td>сотрудник</td>\n",
       "      <td>0</td>\n",
       "      <td>135823.934197</td>\n",
       "      <td>образование</td>\n",
       "      <td>образование</td>\n",
       "      <td>нет детей</td>\n",
       "    </tr>\n",
       "    <tr>\n",
       "      <th>8</th>\n",
       "      <td>2</td>\n",
       "      <td>288</td>\n",
       "      <td>35</td>\n",
       "      <td>высшее</td>\n",
       "      <td>0</td>\n",
       "      <td>гражданский брак</td>\n",
       "      <td>1</td>\n",
       "      <td>F</td>\n",
       "      <td>сотрудник</td>\n",
       "      <td>0</td>\n",
       "      <td>95856.832424</td>\n",
       "      <td>на проведение свадьбы</td>\n",
       "      <td>свадьба</td>\n",
       "      <td>немногодетная семья</td>\n",
       "    </tr>\n",
       "    <tr>\n",
       "      <th>9</th>\n",
       "      <td>0</td>\n",
       "      <td>91</td>\n",
       "      <td>41</td>\n",
       "      <td>среднее</td>\n",
       "      <td>1</td>\n",
       "      <td>женат / замужем</td>\n",
       "      <td>0</td>\n",
       "      <td>M</td>\n",
       "      <td>сотрудник</td>\n",
       "      <td>0</td>\n",
       "      <td>144425.938277</td>\n",
       "      <td>покупка жилья для семьи</td>\n",
       "      <td>недвижимость</td>\n",
       "      <td>нет детей</td>\n",
       "    </tr>\n",
       "  </tbody>\n",
       "</table>\n",
       "</div>"
      ],
      "text/plain": [
       "   children  days_employed  dob_years education  education_id  \\\n",
       "0         1            351         42    высшее             0   \n",
       "1         1            167         36   среднее             1   \n",
       "2         0            234         33   среднее             1   \n",
       "3         3            171         32   среднее             1   \n",
       "4         0          14177         53   среднее             1   \n",
       "5         0             38         27    высшее             0   \n",
       "6         0            119         43    высшее             0   \n",
       "7         0              6         50   среднее             1   \n",
       "8         2            288         35    высшее             0   \n",
       "9         0             91         41   среднее             1   \n",
       "\n",
       "      family_status  family_status_id gender income_type  debt   total_income  \\\n",
       "0   женат / замужем                 0      F   сотрудник     0  253875.639453   \n",
       "1   женат / замужем                 0      F   сотрудник     0  112080.014102   \n",
       "2   женат / замужем                 0      M   сотрудник     0  145885.952297   \n",
       "3   женат / замужем                 0      M   сотрудник     0  267628.550329   \n",
       "4  гражданский брак                 1      F   пенсионер     0  158616.077870   \n",
       "5  гражданский брак                 1      M   компаньон     0  255763.565419   \n",
       "6   женат / замужем                 0      F   компаньон     0  240525.971920   \n",
       "7   женат / замужем                 0      M   сотрудник     0  135823.934197   \n",
       "8  гражданский брак                 1      F   сотрудник     0   95856.832424   \n",
       "9   женат / замужем                 0      M   сотрудник     0  144425.938277   \n",
       "\n",
       "                      purpose   purpose_def          child_group  \n",
       "0               покупка жилья  недвижимость  немногодетная семья  \n",
       "1     приобретение автомобиля    автомобиль  немногодетная семья  \n",
       "2               покупка жилья  недвижимость            нет детей  \n",
       "3  дополнительное образование   образование    многодетная семья  \n",
       "4             сыграть свадьбу       свадьба            нет детей  \n",
       "5               покупка жилья  недвижимость            нет детей  \n",
       "6           операции с жильем  недвижимость            нет детей  \n",
       "7                 образование   образование            нет детей  \n",
       "8       на проведение свадьбы       свадьба  немногодетная семья  \n",
       "9     покупка жилья для семьи  недвижимость            нет детей  "
      ]
     },
     "execution_count": 61,
     "metadata": {},
     "output_type": "execute_result"
    }
   ],
   "source": [
    "def child_group(children):\n",
    "    if children == 0:\n",
    "        return 'нет детей'\n",
    "    if 1 <= children <= 2:\n",
    "        return 'немногодетная семья'\n",
    "    return 'многодетная семья'\n",
    "\n",
    "data_bank['child_group'] = data_bank['children'].apply(child_group)\n",
    "data_bank.head(10)"
   ]
  },
  {
   "cell_type": "markdown",
   "metadata": {
    "id": "eeoIdmrwVO1P"
   },
   "source": [
    "Теперь сделаем сводную таблицу и посмотрим как распределятся значения по возврату кредита."
   ]
  },
  {
   "cell_type": "code",
   "execution_count": 62,
   "metadata": {
    "id": "ThsZu6lpVO1P"
   },
   "outputs": [
    {
     "data": {
      "text/html": [
       "<div>\n",
       "<style scoped>\n",
       "    .dataframe tbody tr th:only-of-type {\n",
       "        vertical-align: middle;\n",
       "    }\n",
       "\n",
       "    .dataframe tbody tr th {\n",
       "        vertical-align: top;\n",
       "    }\n",
       "\n",
       "    .dataframe thead th {\n",
       "        text-align: right;\n",
       "    }\n",
       "</style>\n",
       "<table border=\"1\" class=\"dataframe\">\n",
       "  <thead>\n",
       "    <tr style=\"text-align: right;\">\n",
       "      <th>child_group</th>\n",
       "      <th>многодетная семья</th>\n",
       "      <th>немногодетная семья</th>\n",
       "      <th>нет детей</th>\n",
       "    </tr>\n",
       "    <tr>\n",
       "      <th>debt</th>\n",
       "      <th></th>\n",
       "      <th></th>\n",
       "      <th></th>\n",
       "    </tr>\n",
       "  </thead>\n",
       "  <tbody>\n",
       "    <tr>\n",
       "      <th>0</th>\n",
       "      <td>347</td>\n",
       "      <td>6309</td>\n",
       "      <td>12963</td>\n",
       "    </tr>\n",
       "    <tr>\n",
       "      <th>1</th>\n",
       "      <td>31</td>\n",
       "      <td>644</td>\n",
       "      <td>1058</td>\n",
       "    </tr>\n",
       "  </tbody>\n",
       "</table>\n",
       "</div>"
      ],
      "text/plain": [
       "child_group  многодетная семья  немногодетная семья  нет детей\n",
       "debt                                                          \n",
       "0                          347                 6309      12963\n",
       "1                           31                  644       1058"
      ]
     },
     "metadata": {},
     "output_type": "display_data"
    }
   ],
   "source": [
    "table_nul = data_bank.pivot_table('children', index='debt', columns='child_group', aggfunc='count')\n",
    "display(table_nul)"
   ]
  },
  {
   "cell_type": "markdown",
   "metadata": {
    "id": "hXE-3-AoVO1P"
   },
   "source": [
    "Большинство должников не имеют детей, а вот многодетные семьи вообще стараются не брать кредиты. Интересно посмотреть на семейный статус, ведь наличие детей ничего не говорит о том, женат / замужем человек или, например, в разводе и тд. Сначала я хочу посмотреть каким образом распределяется количество детей между разными семейными статусами.\n"
   ]
  },
  {
   "cell_type": "code",
   "execution_count": 63,
   "metadata": {
    "id": "BLxrXibqVO1P"
   },
   "outputs": [
    {
     "data": {
      "text/html": [
       "<div>\n",
       "<style scoped>\n",
       "    .dataframe tbody tr th:only-of-type {\n",
       "        vertical-align: middle;\n",
       "    }\n",
       "\n",
       "    .dataframe tbody tr th {\n",
       "        vertical-align: top;\n",
       "    }\n",
       "\n",
       "    .dataframe thead th {\n",
       "        text-align: right;\n",
       "    }\n",
       "</style>\n",
       "<table border=\"1\" class=\"dataframe\">\n",
       "  <thead>\n",
       "    <tr style=\"text-align: right;\">\n",
       "      <th>child_group</th>\n",
       "      <th>многодетная семья</th>\n",
       "      <th>немногодетная семья</th>\n",
       "      <th>нет детей</th>\n",
       "    </tr>\n",
       "    <tr>\n",
       "      <th>family_status</th>\n",
       "      <th></th>\n",
       "      <th></th>\n",
       "      <th></th>\n",
       "    </tr>\n",
       "  </thead>\n",
       "  <tbody>\n",
       "    <tr>\n",
       "      <th>в разводе</th>\n",
       "      <td>12</td>\n",
       "      <td>396</td>\n",
       "      <td>777</td>\n",
       "    </tr>\n",
       "    <tr>\n",
       "      <th>вдовец / вдова</th>\n",
       "      <td>7</td>\n",
       "      <td>105</td>\n",
       "      <td>842</td>\n",
       "    </tr>\n",
       "    <tr>\n",
       "      <th>гражданский брак</th>\n",
       "      <td>66</td>\n",
       "      <td>1347</td>\n",
       "      <td>2716</td>\n",
       "    </tr>\n",
       "    <tr>\n",
       "      <th>женат / замужем</th>\n",
       "      <td>283</td>\n",
       "      <td>4570</td>\n",
       "      <td>7437</td>\n",
       "    </tr>\n",
       "    <tr>\n",
       "      <th>не женат / не замужем</th>\n",
       "      <td>10</td>\n",
       "      <td>535</td>\n",
       "      <td>2249</td>\n",
       "    </tr>\n",
       "  </tbody>\n",
       "</table>\n",
       "</div>"
      ],
      "text/plain": [
       "child_group            многодетная семья  немногодетная семья  нет детей\n",
       "family_status                                                           \n",
       "в разводе                             12                  396        777\n",
       "вдовец / вдова                         7                  105        842\n",
       "гражданский брак                      66                 1347       2716\n",
       "женат / замужем                      283                 4570       7437\n",
       "не женат / не замужем                 10                  535       2249"
      ]
     },
     "execution_count": 63,
     "metadata": {},
     "output_type": "execute_result"
    }
   ],
   "source": [
    "data_bank.pivot_table('debt', index='family_status', columns='child_group', aggfunc='count')"
   ]
  },
  {
   "cell_type": "markdown",
   "metadata": {
    "id": "dDxlpwO2VO1Q"
   },
   "source": [
    "Интересно, что наибольшее количество людей, которые берут кредиты, состоят в браке, но не имеют детей, а вот меньше всего берут кредиты люди, потерявшие супруга/ супругу и имеющие больше 3 детей, логично. Кажется странным показатель у людей, кто не в браке (и никогда не был), имеющих больше 3 детей - в принципе они могут быть и приемными, либо это ошибка."
   ]
  },
  {
   "cell_type": "markdown",
   "metadata": {},
   "source": [
    "Далее я хочу посмотреть распределение внутри групп по задолженностям, снова делаем сводную таблицу."
   ]
  },
  {
   "cell_type": "code",
   "execution_count": 64,
   "metadata": {},
   "outputs": [
    {
     "data": {
      "text/html": [
       "<div>\n",
       "<style scoped>\n",
       "    .dataframe tbody tr th:only-of-type {\n",
       "        vertical-align: middle;\n",
       "    }\n",
       "\n",
       "    .dataframe tbody tr th {\n",
       "        vertical-align: top;\n",
       "    }\n",
       "\n",
       "    .dataframe thead th {\n",
       "        text-align: right;\n",
       "    }\n",
       "</style>\n",
       "<table border=\"1\" class=\"dataframe\">\n",
       "  <thead>\n",
       "    <tr style=\"text-align: right;\">\n",
       "      <th></th>\n",
       "      <th>child_group</th>\n",
       "      <th>многодетная семья</th>\n",
       "      <th>немногодетная семья</th>\n",
       "      <th>нет детей</th>\n",
       "    </tr>\n",
       "    <tr>\n",
       "      <th>family_status</th>\n",
       "      <th>debt</th>\n",
       "      <th></th>\n",
       "      <th></th>\n",
       "      <th></th>\n",
       "    </tr>\n",
       "  </thead>\n",
       "  <tbody>\n",
       "    <tr>\n",
       "      <th rowspan=\"2\" valign=\"top\">в разводе</th>\n",
       "      <th>0</th>\n",
       "      <td>11.0</td>\n",
       "      <td>367.0</td>\n",
       "      <td>722.0</td>\n",
       "    </tr>\n",
       "    <tr>\n",
       "      <th>1</th>\n",
       "      <td>1.0</td>\n",
       "      <td>29.0</td>\n",
       "      <td>55.0</td>\n",
       "    </tr>\n",
       "    <tr>\n",
       "      <th rowspan=\"2\" valign=\"top\">вдовец / вдова</th>\n",
       "      <th>0</th>\n",
       "      <td>7.0</td>\n",
       "      <td>95.0</td>\n",
       "      <td>790.0</td>\n",
       "    </tr>\n",
       "    <tr>\n",
       "      <th>1</th>\n",
       "      <td>NaN</td>\n",
       "      <td>10.0</td>\n",
       "      <td>52.0</td>\n",
       "    </tr>\n",
       "    <tr>\n",
       "      <th rowspan=\"2\" valign=\"top\">гражданский брак</th>\n",
       "      <th>0</th>\n",
       "      <td>58.0</td>\n",
       "      <td>1196.0</td>\n",
       "      <td>2489.0</td>\n",
       "    </tr>\n",
       "    <tr>\n",
       "      <th>1</th>\n",
       "      <td>8.0</td>\n",
       "      <td>151.0</td>\n",
       "      <td>227.0</td>\n",
       "    </tr>\n",
       "    <tr>\n",
       "      <th rowspan=\"2\" valign=\"top\">женат / замужем</th>\n",
       "      <th>0</th>\n",
       "      <td>263.0</td>\n",
       "      <td>4177.0</td>\n",
       "      <td>6923.0</td>\n",
       "    </tr>\n",
       "    <tr>\n",
       "      <th>1</th>\n",
       "      <td>20.0</td>\n",
       "      <td>393.0</td>\n",
       "      <td>514.0</td>\n",
       "    </tr>\n",
       "    <tr>\n",
       "      <th rowspan=\"2\" valign=\"top\">не женат / не замужем</th>\n",
       "      <th>0</th>\n",
       "      <td>8.0</td>\n",
       "      <td>474.0</td>\n",
       "      <td>2039.0</td>\n",
       "    </tr>\n",
       "    <tr>\n",
       "      <th>1</th>\n",
       "      <td>2.0</td>\n",
       "      <td>61.0</td>\n",
       "      <td>210.0</td>\n",
       "    </tr>\n",
       "  </tbody>\n",
       "</table>\n",
       "</div>"
      ],
      "text/plain": [
       "child_group                 многодетная семья  немногодетная семья  нет детей\n",
       "family_status         debt                                                   \n",
       "в разводе             0                  11.0                367.0      722.0\n",
       "                      1                   1.0                 29.0       55.0\n",
       "вдовец / вдова        0                   7.0                 95.0      790.0\n",
       "                      1                   NaN                 10.0       52.0\n",
       "гражданский брак      0                  58.0               1196.0     2489.0\n",
       "                      1                   8.0                151.0      227.0\n",
       "женат / замужем       0                 263.0               4177.0     6923.0\n",
       "                      1                  20.0                393.0      514.0\n",
       "не женат / не замужем 0                   8.0                474.0     2039.0\n",
       "                      1                   2.0                 61.0      210.0"
      ]
     },
     "metadata": {},
     "output_type": "display_data"
    }
   ],
   "source": [
    "table_one = data_bank.pivot_table('family_status_id', index=['family_status', 'debt'], columns='child_group', aggfunc='count')\n",
    "display(table_one)"
   ]
  },
  {
   "cell_type": "code",
   "execution_count": 65,
   "metadata": {
    "id": "D8qacq-4VO1Q"
   },
   "outputs": [
    {
     "data": {
      "text/html": [
       "<div>\n",
       "<style scoped>\n",
       "    .dataframe tbody tr th:only-of-type {\n",
       "        vertical-align: middle;\n",
       "    }\n",
       "\n",
       "    .dataframe tbody tr th {\n",
       "        vertical-align: top;\n",
       "    }\n",
       "\n",
       "    .dataframe thead th {\n",
       "        text-align: right;\n",
       "    }\n",
       "</style>\n",
       "<table border=\"1\" class=\"dataframe\">\n",
       "  <thead>\n",
       "    <tr style=\"text-align: right;\">\n",
       "      <th></th>\n",
       "      <th>child_group</th>\n",
       "      <th>многодетная семья</th>\n",
       "      <th>немногодетная семья</th>\n",
       "      <th>нет детей</th>\n",
       "    </tr>\n",
       "    <tr>\n",
       "      <th>family_status</th>\n",
       "      <th>debt</th>\n",
       "      <th></th>\n",
       "      <th></th>\n",
       "      <th></th>\n",
       "    </tr>\n",
       "  </thead>\n",
       "  <tbody>\n",
       "    <tr>\n",
       "      <th rowspan=\"2\" valign=\"top\">в разводе</th>\n",
       "      <th>0</th>\n",
       "      <td>11.0</td>\n",
       "      <td>367.0</td>\n",
       "      <td>722.0</td>\n",
       "    </tr>\n",
       "    <tr>\n",
       "      <th>1</th>\n",
       "      <td>1.0</td>\n",
       "      <td>29.0</td>\n",
       "      <td>55.0</td>\n",
       "    </tr>\n",
       "    <tr>\n",
       "      <th rowspan=\"2\" valign=\"top\">вдовец / вдова</th>\n",
       "      <th>0</th>\n",
       "      <td>7.0</td>\n",
       "      <td>95.0</td>\n",
       "      <td>790.0</td>\n",
       "    </tr>\n",
       "    <tr>\n",
       "      <th>1</th>\n",
       "      <td>NaN</td>\n",
       "      <td>10.0</td>\n",
       "      <td>52.0</td>\n",
       "    </tr>\n",
       "    <tr>\n",
       "      <th rowspan=\"2\" valign=\"top\">гражданский брак</th>\n",
       "      <th>0</th>\n",
       "      <td>58.0</td>\n",
       "      <td>1196.0</td>\n",
       "      <td>2489.0</td>\n",
       "    </tr>\n",
       "    <tr>\n",
       "      <th>1</th>\n",
       "      <td>8.0</td>\n",
       "      <td>151.0</td>\n",
       "      <td>227.0</td>\n",
       "    </tr>\n",
       "    <tr>\n",
       "      <th rowspan=\"2\" valign=\"top\">женат / замужем</th>\n",
       "      <th>0</th>\n",
       "      <td>263.0</td>\n",
       "      <td>4177.0</td>\n",
       "      <td>6923.0</td>\n",
       "    </tr>\n",
       "    <tr>\n",
       "      <th>1</th>\n",
       "      <td>20.0</td>\n",
       "      <td>393.0</td>\n",
       "      <td>514.0</td>\n",
       "    </tr>\n",
       "    <tr>\n",
       "      <th rowspan=\"2\" valign=\"top\">не женат / не замужем</th>\n",
       "      <th>0</th>\n",
       "      <td>8.0</td>\n",
       "      <td>474.0</td>\n",
       "      <td>2039.0</td>\n",
       "    </tr>\n",
       "    <tr>\n",
       "      <th>1</th>\n",
       "      <td>2.0</td>\n",
       "      <td>61.0</td>\n",
       "      <td>210.0</td>\n",
       "    </tr>\n",
       "  </tbody>\n",
       "</table>\n",
       "</div>"
      ],
      "text/plain": [
       "child_group                 многодетная семья  немногодетная семья  нет детей\n",
       "family_status         debt                                                   \n",
       "в разводе             0                  11.0                367.0      722.0\n",
       "                      1                   1.0                 29.0       55.0\n",
       "вдовец / вдова        0                   7.0                 95.0      790.0\n",
       "                      1                   NaN                 10.0       52.0\n",
       "гражданский брак      0                  58.0               1196.0     2489.0\n",
       "                      1                   8.0                151.0      227.0\n",
       "женат / замужем       0                 263.0               4177.0     6923.0\n",
       "                      1                  20.0                393.0      514.0\n",
       "не женат / не замужем 0                   8.0                474.0     2039.0\n",
       "                      1                   2.0                 61.0      210.0"
      ]
     },
     "execution_count": 65,
     "metadata": {},
     "output_type": "execute_result"
    }
   ],
   "source": [
    "table_one.query('debt == [\"1\"]')\n",
    "table_one"
   ]
  },
  {
   "cell_type": "markdown",
   "metadata": {
    "id": "FPKZe6OtVO1R"
   },
   "source": [
    "**Вывод** основной вывод напишу в пункте ответов на вопросы, но уже сейчас можем заметить, что (при значениях 0 - не было задолженностей, 1 - были задолженности) большинство задолженников по кредитам не имеют детей, но находятся в браке, а самый низкий показатель у вдовцов - всегда возвращают кредит в срок."
   ]
  },
  {
   "cell_type": "markdown",
   "metadata": {
    "id": "tkwaIr4eVO1R"
   },
   "source": [
    "**Сделаем категоризацию №2**, связанную с уровнем дохода, типом дохода и возвратом кредита в срок. Необходимо сделать разделение по доходам, для этого напишем функцию, которая разделит доход на категории, но сначала нужно посмотреть на границы. "
   ]
  },
  {
   "cell_type": "code",
   "execution_count": 66,
   "metadata": {
    "id": "gSqehLawVO1R"
   },
   "outputs": [
    {
     "name": "stdout",
     "output_type": "stream",
     "text": [
      "Минимальный доход составляет: 0.0\n",
      "Максимальный доход составляет: 2265604.028722744\n"
     ]
    }
   ],
   "source": [
    "minimum = data_bank['total_income'].min()\n",
    "maximum = data_bank['total_income'].max()\n",
    "print('Минимальный доход составляет:', minimum)\n",
    "print('Максимальный доход составляет:', maximum)"
   ]
  },
  {
   "cell_type": "markdown",
   "metadata": {
    "id": "JWr_4kaTVO1R"
   },
   "source": [
    "Теперь для категоризации я хочу определить следующие категории: от 0 до 40 тыс - **ниже среднего**, от 40 до 100 тыс - **средний**, от 100 до 500 тыс - **выше среднего**, от 500 тыс до 1 млн - **высокий**, от 1 млн до максимума - **неприлично высокий**. Для этого сделаем функцию."
   ]
  },
  {
   "cell_type": "code",
   "execution_count": 67,
   "metadata": {
    "id": "9fvewb6WVO1R",
    "scrolled": true
   },
   "outputs": [
    {
     "data": {
      "text/html": [
       "<div>\n",
       "<style scoped>\n",
       "    .dataframe tbody tr th:only-of-type {\n",
       "        vertical-align: middle;\n",
       "    }\n",
       "\n",
       "    .dataframe tbody tr th {\n",
       "        vertical-align: top;\n",
       "    }\n",
       "\n",
       "    .dataframe thead th {\n",
       "        text-align: right;\n",
       "    }\n",
       "</style>\n",
       "<table border=\"1\" class=\"dataframe\">\n",
       "  <thead>\n",
       "    <tr style=\"text-align: right;\">\n",
       "      <th></th>\n",
       "      <th>children</th>\n",
       "      <th>days_employed</th>\n",
       "      <th>dob_years</th>\n",
       "      <th>education</th>\n",
       "      <th>education_id</th>\n",
       "      <th>family_status</th>\n",
       "      <th>family_status_id</th>\n",
       "      <th>gender</th>\n",
       "      <th>income_type</th>\n",
       "      <th>debt</th>\n",
       "      <th>total_income</th>\n",
       "      <th>purpose</th>\n",
       "      <th>purpose_def</th>\n",
       "      <th>child_group</th>\n",
       "      <th>income_group</th>\n",
       "    </tr>\n",
       "  </thead>\n",
       "  <tbody>\n",
       "    <tr>\n",
       "      <th>0</th>\n",
       "      <td>1</td>\n",
       "      <td>351</td>\n",
       "      <td>42</td>\n",
       "      <td>высшее</td>\n",
       "      <td>0</td>\n",
       "      <td>женат / замужем</td>\n",
       "      <td>0</td>\n",
       "      <td>F</td>\n",
       "      <td>сотрудник</td>\n",
       "      <td>0</td>\n",
       "      <td>253875.639453</td>\n",
       "      <td>покупка жилья</td>\n",
       "      <td>недвижимость</td>\n",
       "      <td>немногодетная семья</td>\n",
       "      <td>выше среднего</td>\n",
       "    </tr>\n",
       "    <tr>\n",
       "      <th>1</th>\n",
       "      <td>1</td>\n",
       "      <td>167</td>\n",
       "      <td>36</td>\n",
       "      <td>среднее</td>\n",
       "      <td>1</td>\n",
       "      <td>женат / замужем</td>\n",
       "      <td>0</td>\n",
       "      <td>F</td>\n",
       "      <td>сотрудник</td>\n",
       "      <td>0</td>\n",
       "      <td>112080.014102</td>\n",
       "      <td>приобретение автомобиля</td>\n",
       "      <td>автомобиль</td>\n",
       "      <td>немногодетная семья</td>\n",
       "      <td>выше среднего</td>\n",
       "    </tr>\n",
       "    <tr>\n",
       "      <th>2</th>\n",
       "      <td>0</td>\n",
       "      <td>234</td>\n",
       "      <td>33</td>\n",
       "      <td>среднее</td>\n",
       "      <td>1</td>\n",
       "      <td>женат / замужем</td>\n",
       "      <td>0</td>\n",
       "      <td>M</td>\n",
       "      <td>сотрудник</td>\n",
       "      <td>0</td>\n",
       "      <td>145885.952297</td>\n",
       "      <td>покупка жилья</td>\n",
       "      <td>недвижимость</td>\n",
       "      <td>нет детей</td>\n",
       "      <td>выше среднего</td>\n",
       "    </tr>\n",
       "    <tr>\n",
       "      <th>3</th>\n",
       "      <td>3</td>\n",
       "      <td>171</td>\n",
       "      <td>32</td>\n",
       "      <td>среднее</td>\n",
       "      <td>1</td>\n",
       "      <td>женат / замужем</td>\n",
       "      <td>0</td>\n",
       "      <td>M</td>\n",
       "      <td>сотрудник</td>\n",
       "      <td>0</td>\n",
       "      <td>267628.550329</td>\n",
       "      <td>дополнительное образование</td>\n",
       "      <td>образование</td>\n",
       "      <td>многодетная семья</td>\n",
       "      <td>выше среднего</td>\n",
       "    </tr>\n",
       "    <tr>\n",
       "      <th>4</th>\n",
       "      <td>0</td>\n",
       "      <td>14177</td>\n",
       "      <td>53</td>\n",
       "      <td>среднее</td>\n",
       "      <td>1</td>\n",
       "      <td>гражданский брак</td>\n",
       "      <td>1</td>\n",
       "      <td>F</td>\n",
       "      <td>пенсионер</td>\n",
       "      <td>0</td>\n",
       "      <td>158616.077870</td>\n",
       "      <td>сыграть свадьбу</td>\n",
       "      <td>свадьба</td>\n",
       "      <td>нет детей</td>\n",
       "      <td>выше среднего</td>\n",
       "    </tr>\n",
       "    <tr>\n",
       "      <th>5</th>\n",
       "      <td>0</td>\n",
       "      <td>38</td>\n",
       "      <td>27</td>\n",
       "      <td>высшее</td>\n",
       "      <td>0</td>\n",
       "      <td>гражданский брак</td>\n",
       "      <td>1</td>\n",
       "      <td>M</td>\n",
       "      <td>компаньон</td>\n",
       "      <td>0</td>\n",
       "      <td>255763.565419</td>\n",
       "      <td>покупка жилья</td>\n",
       "      <td>недвижимость</td>\n",
       "      <td>нет детей</td>\n",
       "      <td>выше среднего</td>\n",
       "    </tr>\n",
       "    <tr>\n",
       "      <th>6</th>\n",
       "      <td>0</td>\n",
       "      <td>119</td>\n",
       "      <td>43</td>\n",
       "      <td>высшее</td>\n",
       "      <td>0</td>\n",
       "      <td>женат / замужем</td>\n",
       "      <td>0</td>\n",
       "      <td>F</td>\n",
       "      <td>компаньон</td>\n",
       "      <td>0</td>\n",
       "      <td>240525.971920</td>\n",
       "      <td>операции с жильем</td>\n",
       "      <td>недвижимость</td>\n",
       "      <td>нет детей</td>\n",
       "      <td>выше среднего</td>\n",
       "    </tr>\n",
       "    <tr>\n",
       "      <th>7</th>\n",
       "      <td>0</td>\n",
       "      <td>6</td>\n",
       "      <td>50</td>\n",
       "      <td>среднее</td>\n",
       "      <td>1</td>\n",
       "      <td>женат / замужем</td>\n",
       "      <td>0</td>\n",
       "      <td>M</td>\n",
       "      <td>сотрудник</td>\n",
       "      <td>0</td>\n",
       "      <td>135823.934197</td>\n",
       "      <td>образование</td>\n",
       "      <td>образование</td>\n",
       "      <td>нет детей</td>\n",
       "      <td>выше среднего</td>\n",
       "    </tr>\n",
       "    <tr>\n",
       "      <th>8</th>\n",
       "      <td>2</td>\n",
       "      <td>288</td>\n",
       "      <td>35</td>\n",
       "      <td>высшее</td>\n",
       "      <td>0</td>\n",
       "      <td>гражданский брак</td>\n",
       "      <td>1</td>\n",
       "      <td>F</td>\n",
       "      <td>сотрудник</td>\n",
       "      <td>0</td>\n",
       "      <td>95856.832424</td>\n",
       "      <td>на проведение свадьбы</td>\n",
       "      <td>свадьба</td>\n",
       "      <td>немногодетная семья</td>\n",
       "      <td>средний доход</td>\n",
       "    </tr>\n",
       "    <tr>\n",
       "      <th>9</th>\n",
       "      <td>0</td>\n",
       "      <td>91</td>\n",
       "      <td>41</td>\n",
       "      <td>среднее</td>\n",
       "      <td>1</td>\n",
       "      <td>женат / замужем</td>\n",
       "      <td>0</td>\n",
       "      <td>M</td>\n",
       "      <td>сотрудник</td>\n",
       "      <td>0</td>\n",
       "      <td>144425.938277</td>\n",
       "      <td>покупка жилья для семьи</td>\n",
       "      <td>недвижимость</td>\n",
       "      <td>нет детей</td>\n",
       "      <td>выше среднего</td>\n",
       "    </tr>\n",
       "  </tbody>\n",
       "</table>\n",
       "</div>"
      ],
      "text/plain": [
       "   children  days_employed  dob_years education  education_id  \\\n",
       "0         1            351         42    высшее             0   \n",
       "1         1            167         36   среднее             1   \n",
       "2         0            234         33   среднее             1   \n",
       "3         3            171         32   среднее             1   \n",
       "4         0          14177         53   среднее             1   \n",
       "5         0             38         27    высшее             0   \n",
       "6         0            119         43    высшее             0   \n",
       "7         0              6         50   среднее             1   \n",
       "8         2            288         35    высшее             0   \n",
       "9         0             91         41   среднее             1   \n",
       "\n",
       "      family_status  family_status_id gender income_type  debt   total_income  \\\n",
       "0   женат / замужем                 0      F   сотрудник     0  253875.639453   \n",
       "1   женат / замужем                 0      F   сотрудник     0  112080.014102   \n",
       "2   женат / замужем                 0      M   сотрудник     0  145885.952297   \n",
       "3   женат / замужем                 0      M   сотрудник     0  267628.550329   \n",
       "4  гражданский брак                 1      F   пенсионер     0  158616.077870   \n",
       "5  гражданский брак                 1      M   компаньон     0  255763.565419   \n",
       "6   женат / замужем                 0      F   компаньон     0  240525.971920   \n",
       "7   женат / замужем                 0      M   сотрудник     0  135823.934197   \n",
       "8  гражданский брак                 1      F   сотрудник     0   95856.832424   \n",
       "9   женат / замужем                 0      M   сотрудник     0  144425.938277   \n",
       "\n",
       "                      purpose   purpose_def          child_group  \\\n",
       "0               покупка жилья  недвижимость  немногодетная семья   \n",
       "1     приобретение автомобиля    автомобиль  немногодетная семья   \n",
       "2               покупка жилья  недвижимость            нет детей   \n",
       "3  дополнительное образование   образование    многодетная семья   \n",
       "4             сыграть свадьбу       свадьба            нет детей   \n",
       "5               покупка жилья  недвижимость            нет детей   \n",
       "6           операции с жильем  недвижимость            нет детей   \n",
       "7                 образование   образование            нет детей   \n",
       "8       на проведение свадьбы       свадьба  немногодетная семья   \n",
       "9     покупка жилья для семьи  недвижимость            нет детей   \n",
       "\n",
       "    income_group  \n",
       "0  выше среднего  \n",
       "1  выше среднего  \n",
       "2  выше среднего  \n",
       "3  выше среднего  \n",
       "4  выше среднего  \n",
       "5  выше среднего  \n",
       "6  выше среднего  \n",
       "7  выше среднего  \n",
       "8  средний доход  \n",
       "9  выше среднего  "
      ]
     },
     "execution_count": 67,
     "metadata": {},
     "output_type": "execute_result"
    }
   ],
   "source": [
    "def income_group(total_income):\n",
    "    if 0 <= total_income <= 40000:\n",
    "        return 'ниже среднего'\n",
    "    if 41000 <= total_income <= 100000:\n",
    "        return 'средний доход'\n",
    "    if 101000 <= total_income <= 500000:\n",
    "        return 'выше среднего'\n",
    "    if 501000 <= total_income <= 1000000:\n",
    "        return 'высокий доход' \n",
    "    return 'неприлично высокий доход'\n",
    "\n",
    "data_bank['income_group'] = data_bank['total_income'].apply(income_group)\n",
    "data_bank.head(10)"
   ]
  },
  {
   "cell_type": "markdown",
   "metadata": {
    "id": "PO6ZpgrZVO1S"
   },
   "source": [
    "Теперь посмотрим как распределяются значения между уровнем дохода, типом дохода и задолженностями."
   ]
  },
  {
   "cell_type": "code",
   "execution_count": 68,
   "metadata": {
    "id": "Y4rumYKHVO1S",
    "scrolled": true
   },
   "outputs": [
    {
     "data": {
      "text/html": [
       "<div>\n",
       "<style scoped>\n",
       "    .dataframe tbody tr th:only-of-type {\n",
       "        vertical-align: middle;\n",
       "    }\n",
       "\n",
       "    .dataframe tbody tr th {\n",
       "        vertical-align: top;\n",
       "    }\n",
       "\n",
       "    .dataframe thead th {\n",
       "        text-align: right;\n",
       "    }\n",
       "</style>\n",
       "<table border=\"1\" class=\"dataframe\">\n",
       "  <thead>\n",
       "    <tr style=\"text-align: right;\">\n",
       "      <th></th>\n",
       "      <th>income_type</th>\n",
       "      <th>безработный</th>\n",
       "      <th>в декрете</th>\n",
       "      <th>госслужащий</th>\n",
       "      <th>компаньон</th>\n",
       "      <th>пенсионер</th>\n",
       "      <th>предприниматель</th>\n",
       "      <th>сотрудник</th>\n",
       "      <th>студент</th>\n",
       "    </tr>\n",
       "    <tr>\n",
       "      <th>income_group</th>\n",
       "      <th>debt</th>\n",
       "      <th></th>\n",
       "      <th></th>\n",
       "      <th></th>\n",
       "      <th></th>\n",
       "      <th></th>\n",
       "      <th></th>\n",
       "      <th></th>\n",
       "      <th></th>\n",
       "    </tr>\n",
       "  </thead>\n",
       "  <tbody>\n",
       "    <tr>\n",
       "      <th rowspan=\"2\" valign=\"top\">высокий доход</th>\n",
       "      <th>0</th>\n",
       "      <td>NaN</td>\n",
       "      <td>NaN</td>\n",
       "      <td>14.0</td>\n",
       "      <td>95.0</td>\n",
       "      <td>19.0</td>\n",
       "      <td>NaN</td>\n",
       "      <td>57.0</td>\n",
       "      <td>NaN</td>\n",
       "    </tr>\n",
       "    <tr>\n",
       "      <th>1</th>\n",
       "      <td>NaN</td>\n",
       "      <td>NaN</td>\n",
       "      <td>NaN</td>\n",
       "      <td>6.0</td>\n",
       "      <td>NaN</td>\n",
       "      <td>NaN</td>\n",
       "      <td>6.0</td>\n",
       "      <td>NaN</td>\n",
       "    </tr>\n",
       "    <tr>\n",
       "      <th rowspan=\"2\" valign=\"top\">выше среднего</th>\n",
       "      <th>0</th>\n",
       "      <td>1.0</td>\n",
       "      <td>NaN</td>\n",
       "      <td>936.0</td>\n",
       "      <td>3552.0</td>\n",
       "      <td>1983.0</td>\n",
       "      <td>1.0</td>\n",
       "      <td>6810.0</td>\n",
       "      <td>NaN</td>\n",
       "    </tr>\n",
       "    <tr>\n",
       "      <th>1</th>\n",
       "      <td>NaN</td>\n",
       "      <td>NaN</td>\n",
       "      <td>58.0</td>\n",
       "      <td>289.0</td>\n",
       "      <td>117.0</td>\n",
       "      <td>NaN</td>\n",
       "      <td>725.0</td>\n",
       "      <td>NaN</td>\n",
       "    </tr>\n",
       "    <tr>\n",
       "      <th rowspan=\"2\" valign=\"top\">неприлично высокий доход</th>\n",
       "      <th>0</th>\n",
       "      <td>NaN</td>\n",
       "      <td>NaN</td>\n",
       "      <td>11.0</td>\n",
       "      <td>36.0</td>\n",
       "      <td>35.0</td>\n",
       "      <td>NaN</td>\n",
       "      <td>72.0</td>\n",
       "      <td>NaN</td>\n",
       "    </tr>\n",
       "    <tr>\n",
       "      <th>1</th>\n",
       "      <td>NaN</td>\n",
       "      <td>NaN</td>\n",
       "      <td>NaN</td>\n",
       "      <td>3.0</td>\n",
       "      <td>2.0</td>\n",
       "      <td>NaN</td>\n",
       "      <td>4.0</td>\n",
       "      <td>NaN</td>\n",
       "    </tr>\n",
       "    <tr>\n",
       "      <th rowspan=\"2\" valign=\"top\">ниже среднего</th>\n",
       "      <th>0</th>\n",
       "      <td>NaN</td>\n",
       "      <td>NaN</td>\n",
       "      <td>142.0</td>\n",
       "      <td>475.0</td>\n",
       "      <td>413.0</td>\n",
       "      <td>1.0</td>\n",
       "      <td>1006.0</td>\n",
       "      <td>NaN</td>\n",
       "    </tr>\n",
       "    <tr>\n",
       "      <th>1</th>\n",
       "      <td>NaN</td>\n",
       "      <td>NaN</td>\n",
       "      <td>8.0</td>\n",
       "      <td>30.0</td>\n",
       "      <td>40.0</td>\n",
       "      <td>NaN</td>\n",
       "      <td>102.0</td>\n",
       "      <td>NaN</td>\n",
       "    </tr>\n",
       "    <tr>\n",
       "      <th rowspan=\"2\" valign=\"top\">средний доход</th>\n",
       "      <th>0</th>\n",
       "      <td>NaN</td>\n",
       "      <td>NaN</td>\n",
       "      <td>262.0</td>\n",
       "      <td>524.0</td>\n",
       "      <td>1144.0</td>\n",
       "      <td>NaN</td>\n",
       "      <td>2029.0</td>\n",
       "      <td>1.0</td>\n",
       "    </tr>\n",
       "    <tr>\n",
       "      <th>1</th>\n",
       "      <td>1.0</td>\n",
       "      <td>1.0</td>\n",
       "      <td>20.0</td>\n",
       "      <td>47.0</td>\n",
       "      <td>56.0</td>\n",
       "      <td>NaN</td>\n",
       "      <td>218.0</td>\n",
       "      <td>NaN</td>\n",
       "    </tr>\n",
       "  </tbody>\n",
       "</table>\n",
       "</div>"
      ],
      "text/plain": [
       "income_type                    безработный  в декрете  госслужащий  компаньон  \\\n",
       "income_group             debt                                                   \n",
       "высокий доход            0             NaN        NaN         14.0       95.0   \n",
       "                         1             NaN        NaN          NaN        6.0   \n",
       "выше среднего            0             1.0        NaN        936.0     3552.0   \n",
       "                         1             NaN        NaN         58.0      289.0   \n",
       "неприлично высокий доход 0             NaN        NaN         11.0       36.0   \n",
       "                         1             NaN        NaN          NaN        3.0   \n",
       "ниже среднего            0             NaN        NaN        142.0      475.0   \n",
       "                         1             NaN        NaN          8.0       30.0   \n",
       "средний доход            0             NaN        NaN        262.0      524.0   \n",
       "                         1             1.0        1.0         20.0       47.0   \n",
       "\n",
       "income_type                    пенсионер  предприниматель  сотрудник  студент  \n",
       "income_group             debt                                                  \n",
       "высокий доход            0          19.0              NaN       57.0      NaN  \n",
       "                         1           NaN              NaN        6.0      NaN  \n",
       "выше среднего            0        1983.0              1.0     6810.0      NaN  \n",
       "                         1         117.0              NaN      725.0      NaN  \n",
       "неприлично высокий доход 0          35.0              NaN       72.0      NaN  \n",
       "                         1           2.0              NaN        4.0      NaN  \n",
       "ниже среднего            0         413.0              1.0     1006.0      NaN  \n",
       "                         1          40.0              NaN      102.0      NaN  \n",
       "средний доход            0        1144.0              NaN     2029.0      1.0  \n",
       "                         1          56.0              NaN      218.0      NaN  "
      ]
     },
     "metadata": {},
     "output_type": "display_data"
    }
   ],
   "source": [
    "table_two = data_bank.pivot_table('gender', index=['income_group', 'debt'], columns=['income_type'], aggfunc='count')\n",
    "display(table_two)"
   ]
  },
  {
   "cell_type": "markdown",
   "metadata": {
    "id": "-aAGnYAgVO1S"
   },
   "source": [
    "Интересно, что безработный может быть с основным доходом \"выше среднего\". Оставим только задолжников."
   ]
  },
  {
   "cell_type": "code",
   "execution_count": 69,
   "metadata": {
    "id": "P9tkiQVxVO1T",
    "scrolled": true
   },
   "outputs": [
    {
     "data": {
      "text/html": [
       "<div>\n",
       "<style scoped>\n",
       "    .dataframe tbody tr th:only-of-type {\n",
       "        vertical-align: middle;\n",
       "    }\n",
       "\n",
       "    .dataframe tbody tr th {\n",
       "        vertical-align: top;\n",
       "    }\n",
       "\n",
       "    .dataframe thead th {\n",
       "        text-align: right;\n",
       "    }\n",
       "</style>\n",
       "<table border=\"1\" class=\"dataframe\">\n",
       "  <thead>\n",
       "    <tr style=\"text-align: right;\">\n",
       "      <th></th>\n",
       "      <th>income_type</th>\n",
       "      <th>безработный</th>\n",
       "      <th>в декрете</th>\n",
       "      <th>госслужащий</th>\n",
       "      <th>компаньон</th>\n",
       "      <th>пенсионер</th>\n",
       "      <th>предприниматель</th>\n",
       "      <th>сотрудник</th>\n",
       "      <th>студент</th>\n",
       "    </tr>\n",
       "    <tr>\n",
       "      <th>income_group</th>\n",
       "      <th>debt</th>\n",
       "      <th></th>\n",
       "      <th></th>\n",
       "      <th></th>\n",
       "      <th></th>\n",
       "      <th></th>\n",
       "      <th></th>\n",
       "      <th></th>\n",
       "      <th></th>\n",
       "    </tr>\n",
       "  </thead>\n",
       "  <tbody>\n",
       "  </tbody>\n",
       "</table>\n",
       "</div>"
      ],
      "text/plain": [
       "Empty DataFrame\n",
       "Columns: [безработный, в декрете, госслужащий, компаньон, пенсионер, предприниматель, сотрудник, студент]\n",
       "Index: []"
      ]
     },
     "execution_count": 69,
     "metadata": {},
     "output_type": "execute_result"
    }
   ],
   "source": [
    "table_two.query('debt == [\"1\"]')"
   ]
  },
  {
   "cell_type": "markdown",
   "metadata": {
    "id": "i1Si_2QRVO1T"
   },
   "source": [
    "**Вывод** Самыми большими должниками оказались сотрудники с заработком выше среднего, а безработные и в декрете при среднем заработке оказались с минимальными значениями, а студенты и вовсе не попали в этот список."
   ]
  },
  {
   "cell_type": "markdown",
   "metadata": {
    "id": "XvliQjoyVO1T"
   },
   "source": [
    "**Сделаем категоризацию №3**, связанную с типом цели и возвратом кредита. В этот пункт я также хочу добавить еще и образование, интересно будет сравнить эти данные. Так как цели у нас уже разбиты на категориям, то сразу перейдем к сводным таблицам."
   ]
  },
  {
   "cell_type": "code",
   "execution_count": 70,
   "metadata": {
    "id": "2-miTx8AVO1T"
   },
   "outputs": [
    {
     "data": {
      "text/html": [
       "<div>\n",
       "<style scoped>\n",
       "    .dataframe tbody tr th:only-of-type {\n",
       "        vertical-align: middle;\n",
       "    }\n",
       "\n",
       "    .dataframe tbody tr th {\n",
       "        vertical-align: top;\n",
       "    }\n",
       "\n",
       "    .dataframe thead th {\n",
       "        text-align: right;\n",
       "    }\n",
       "</style>\n",
       "<table border=\"1\" class=\"dataframe\">\n",
       "  <thead>\n",
       "    <tr style=\"text-align: right;\">\n",
       "      <th></th>\n",
       "      <th>education</th>\n",
       "      <th>высшее</th>\n",
       "      <th>начальное</th>\n",
       "      <th>неоконченное высшее</th>\n",
       "      <th>среднее</th>\n",
       "      <th>ученая степень</th>\n",
       "    </tr>\n",
       "    <tr>\n",
       "      <th>purpose_def</th>\n",
       "      <th>debt</th>\n",
       "      <th></th>\n",
       "      <th></th>\n",
       "      <th></th>\n",
       "      <th></th>\n",
       "      <th></th>\n",
       "    </tr>\n",
       "  </thead>\n",
       "  <tbody>\n",
       "    <tr>\n",
       "      <th rowspan=\"2\" valign=\"top\">автомобиль</th>\n",
       "      <th>0</th>\n",
       "      <td>963.0</td>\n",
       "      <td>49.0</td>\n",
       "      <td>137.0</td>\n",
       "      <td>2735.0</td>\n",
       "      <td>NaN</td>\n",
       "    </tr>\n",
       "    <tr>\n",
       "      <th>1</th>\n",
       "      <td>66.0</td>\n",
       "      <td>6.0</td>\n",
       "      <td>16.0</td>\n",
       "      <td>312.0</td>\n",
       "      <td>NaN</td>\n",
       "    </tr>\n",
       "    <tr>\n",
       "      <th rowspan=\"2\" valign=\"top\">недвижимость</th>\n",
       "      <th>0</th>\n",
       "      <td>2535.0</td>\n",
       "      <td>128.0</td>\n",
       "      <td>344.0</td>\n",
       "      <td>6972.0</td>\n",
       "      <td>5.0</td>\n",
       "    </tr>\n",
       "    <tr>\n",
       "      <th>1</th>\n",
       "      <td>129.0</td>\n",
       "      <td>16.0</td>\n",
       "      <td>34.0</td>\n",
       "      <td>600.0</td>\n",
       "      <td>NaN</td>\n",
       "    </tr>\n",
       "    <tr>\n",
       "      <th rowspan=\"2\" valign=\"top\">образование</th>\n",
       "      <th>0</th>\n",
       "      <td>871.0</td>\n",
       "      <td>50.0</td>\n",
       "      <td>119.0</td>\n",
       "      <td>2584.0</td>\n",
       "      <td>1.0</td>\n",
       "    </tr>\n",
       "    <tr>\n",
       "      <th>1</th>\n",
       "      <td>55.0</td>\n",
       "      <td>5.0</td>\n",
       "      <td>12.0</td>\n",
       "      <td>298.0</td>\n",
       "      <td>NaN</td>\n",
       "    </tr>\n",
       "    <tr>\n",
       "      <th rowspan=\"2\" valign=\"top\">свадьба</th>\n",
       "      <th>0</th>\n",
       "      <td>569.0</td>\n",
       "      <td>24.0</td>\n",
       "      <td>73.0</td>\n",
       "      <td>1460.0</td>\n",
       "      <td>NaN</td>\n",
       "    </tr>\n",
       "    <tr>\n",
       "      <th>1</th>\n",
       "      <td>27.0</td>\n",
       "      <td>4.0</td>\n",
       "      <td>6.0</td>\n",
       "      <td>147.0</td>\n",
       "      <td>NaN</td>\n",
       "    </tr>\n",
       "  </tbody>\n",
       "</table>\n",
       "</div>"
      ],
      "text/plain": [
       "education          высшее  начальное  неоконченное высшее  среднее  \\\n",
       "purpose_def  debt                                                    \n",
       "автомобиль   0      963.0       49.0                137.0   2735.0   \n",
       "             1       66.0        6.0                 16.0    312.0   \n",
       "недвижимость 0     2535.0      128.0                344.0   6972.0   \n",
       "             1      129.0       16.0                 34.0    600.0   \n",
       "образование  0      871.0       50.0                119.0   2584.0   \n",
       "             1       55.0        5.0                 12.0    298.0   \n",
       "свадьба      0      569.0       24.0                 73.0   1460.0   \n",
       "             1       27.0        4.0                  6.0    147.0   \n",
       "\n",
       "education          ученая степень  \n",
       "purpose_def  debt                  \n",
       "автомобиль   0                NaN  \n",
       "             1                NaN  \n",
       "недвижимость 0                5.0  \n",
       "             1                NaN  \n",
       "образование  0                1.0  \n",
       "             1                NaN  \n",
       "свадьба      0                NaN  \n",
       "             1                NaN  "
      ]
     },
     "metadata": {},
     "output_type": "display_data"
    }
   ],
   "source": [
    "table_three = data_bank.pivot_table('education_id', index=['purpose_def', 'debt'], columns='education', aggfunc='count')\n",
    "display(table_three)"
   ]
  },
  {
   "cell_type": "markdown",
   "metadata": {
    "id": "dalGB8tfVO1U"
   },
   "source": [
    "Самое большое количество кредитов на разные цели берут люди с средним образованием, а вот наименьшее количество у людей с ученой степенью. Кредиты на недвижимость - самые распространенные, а вот на свадьбу люди берут меньше всего кредитов. Оставим данные только по задолженностям."
   ]
  },
  {
   "cell_type": "code",
   "execution_count": 71,
   "metadata": {
    "id": "wCxYi2SAVO1U"
   },
   "outputs": [
    {
     "data": {
      "text/html": [
       "<div>\n",
       "<style scoped>\n",
       "    .dataframe tbody tr th:only-of-type {\n",
       "        vertical-align: middle;\n",
       "    }\n",
       "\n",
       "    .dataframe tbody tr th {\n",
       "        vertical-align: top;\n",
       "    }\n",
       "\n",
       "    .dataframe thead th {\n",
       "        text-align: right;\n",
       "    }\n",
       "</style>\n",
       "<table border=\"1\" class=\"dataframe\">\n",
       "  <thead>\n",
       "    <tr style=\"text-align: right;\">\n",
       "      <th></th>\n",
       "      <th>education</th>\n",
       "      <th>высшее</th>\n",
       "      <th>начальное</th>\n",
       "      <th>неоконченное высшее</th>\n",
       "      <th>среднее</th>\n",
       "      <th>ученая степень</th>\n",
       "    </tr>\n",
       "    <tr>\n",
       "      <th>purpose_def</th>\n",
       "      <th>debt</th>\n",
       "      <th></th>\n",
       "      <th></th>\n",
       "      <th></th>\n",
       "      <th></th>\n",
       "      <th></th>\n",
       "    </tr>\n",
       "  </thead>\n",
       "  <tbody>\n",
       "  </tbody>\n",
       "</table>\n",
       "</div>"
      ],
      "text/plain": [
       "Empty DataFrame\n",
       "Columns: [высшее, начальное, неоконченное высшее, среднее, ученая степень]\n",
       "Index: []"
      ]
     },
     "execution_count": 71,
     "metadata": {},
     "output_type": "execute_result"
    }
   ],
   "source": [
    "table_three.query('debt == [\"1\"]')"
   ]
  },
  {
   "cell_type": "markdown",
   "metadata": {
    "id": "m_pmXOftVO1U"
   },
   "source": [
    "**Вывод** наибольшее количество задолженников берут кредит на недвижимость, наименьшее количество на свадьбу."
   ]
  },
  {
   "cell_type": "markdown",
   "metadata": {
    "id": "ktf4ZtCyVO1V"
   },
   "source": [
    "## Шаг 3. Ответьте на вопросы"
   ]
  },
  {
   "cell_type": "markdown",
   "metadata": {
    "id": "3FxIlekcVO1V"
   },
   "source": [
    "**Есть ли зависимость между наличием детей и возвратом кредита в срок?**"
   ]
  },
  {
   "cell_type": "code",
   "execution_count": 72,
   "metadata": {
    "id": "FGgHXjCgVO1W"
   },
   "outputs": [
    {
     "data": {
      "text/html": [
       "<style  type=\"text/css\" >\n",
       "</style><table id=\"T_2c509_\" ><thead>    <tr>        <th class=\"blank level0\" ></th>        <th class=\"col_heading level0 col0\" >count</th>        <th class=\"col_heading level0 col1\" >mean</th>    </tr>    <tr>        <th class=\"index_name level0\" >child_group</th>        <th class=\"blank\" ></th>        <th class=\"blank\" ></th>    </tr></thead><tbody>\n",
       "                <tr>\n",
       "                        <th id=\"T_2c509_level0_row0\" class=\"row_heading level0 row0\" >многодетная семья</th>\n",
       "                        <td id=\"T_2c509_row0_col0\" class=\"data row0 col0\" >378</td>\n",
       "                        <td id=\"T_2c509_row0_col1\" class=\"data row0 col1\" >8.20%</td>\n",
       "            </tr>\n",
       "            <tr>\n",
       "                        <th id=\"T_2c509_level0_row1\" class=\"row_heading level0 row1\" >немногодетная семья</th>\n",
       "                        <td id=\"T_2c509_row1_col0\" class=\"data row1 col0\" >6953</td>\n",
       "                        <td id=\"T_2c509_row1_col1\" class=\"data row1 col1\" >9.26%</td>\n",
       "            </tr>\n",
       "            <tr>\n",
       "                        <th id=\"T_2c509_level0_row2\" class=\"row_heading level0 row2\" >нет детей</th>\n",
       "                        <td id=\"T_2c509_row2_col0\" class=\"data row2 col0\" >14021</td>\n",
       "                        <td id=\"T_2c509_row2_col1\" class=\"data row2 col1\" >7.55%</td>\n",
       "            </tr>\n",
       "    </tbody></table>"
      ],
      "text/plain": [
       "<pandas.io.formats.style.Styler at 0x7f6af248e9d0>"
      ]
     },
     "execution_count": 72,
     "metadata": {},
     "output_type": "execute_result"
    }
   ],
   "source": [
    "data_bank.groupby('child_group').debt.agg(['count','mean']).style.format({'mean':'{:.2%}'})"
   ]
  },
  {
   "cell_type": "code",
   "execution_count": 73,
   "metadata": {
    "id": "XFVsLAExVO1W"
   },
   "outputs": [
    {
     "name": "stdout",
     "output_type": "stream",
     "text": [
      "Вероятность задолженности в выборке 8.12%\n"
     ]
    },
    {
     "data": {
      "text/html": [
       "<style  type=\"text/css\" >\n",
       "</style><table id=\"T_56797_\" ><thead>    <tr>        <th class=\"blank level0\" ></th>        <th class=\"col_heading level0 col0\" >count</th>        <th class=\"col_heading level0 col1\" >mean</th>        <th class=\"col_heading level0 col2\" >deviation_all_mean</th>    </tr>    <tr>        <th class=\"index_name level0\" >child_group</th>        <th class=\"blank\" ></th>        <th class=\"blank\" ></th>        <th class=\"blank\" ></th>    </tr></thead><tbody>\n",
       "                <tr>\n",
       "                        <th id=\"T_56797_level0_row0\" class=\"row_heading level0 row0\" >многодетная семья</th>\n",
       "                        <td id=\"T_56797_row0_col0\" class=\"data row0 col0\" >378</td>\n",
       "                        <td id=\"T_56797_row0_col1\" class=\"data row0 col1\" >8.20%</td>\n",
       "                        <td id=\"T_56797_row0_col2\" class=\"data row0 col2\" >1.04%</td>\n",
       "            </tr>\n",
       "            <tr>\n",
       "                        <th id=\"T_56797_level0_row1\" class=\"row_heading level0 row1\" >немногодетная семья</th>\n",
       "                        <td id=\"T_56797_row1_col0\" class=\"data row1 col0\" >6953</td>\n",
       "                        <td id=\"T_56797_row1_col1\" class=\"data row1 col1\" >9.26%</td>\n",
       "                        <td id=\"T_56797_row1_col2\" class=\"data row1 col2\" >14.12%</td>\n",
       "            </tr>\n",
       "            <tr>\n",
       "                        <th id=\"T_56797_level0_row2\" class=\"row_heading level0 row2\" >нет детей</th>\n",
       "                        <td id=\"T_56797_row2_col0\" class=\"data row2 col0\" >14021</td>\n",
       "                        <td id=\"T_56797_row2_col1\" class=\"data row2 col1\" >7.55%</td>\n",
       "                        <td id=\"T_56797_row2_col2\" class=\"data row2 col2\" >-7.03%</td>\n",
       "            </tr>\n",
       "    </tbody></table>"
      ],
      "text/plain": [
       "<pandas.io.formats.style.Styler at 0x7f6afae58ac0>"
      ]
     },
     "execution_count": 73,
     "metadata": {},
     "output_type": "execute_result"
    }
   ],
   "source": [
    "print(f'Вероятность задолженности в выборке {data_bank.debt.mean():.2%}')\n",
    "\n",
    "t = data_bank.groupby('child_group').debt.agg(['count','mean'])\n",
    "\n",
    "t['deviation_all_mean'] = (t['mean'] - data_bank.debt.mean())/data_bank.debt.mean()\n",
    "t.style.format({'mean':'{:.2%}',\n",
    "                'deviation_all_mean':'{:.2%}'\n",
    "               })"
   ]
  },
  {
   "cell_type": "markdown",
   "metadata": {
    "id": "hDC076uKVO1X"
   },
   "source": [
    "**Комментарий**\\\n",
    " Мы видим, исходя из количества людей в группах, что люди, которые не имеют детей, самые примерные заемщики, в их случае вероятность невозврата в срок кредита - 7,5%. Гораздо более низкий показатель имеют заемщики с 1-2 детьми - 9,2%. Люди с более, чем 3 детьми немного отстают от немногодетных семей, но находятся практически на одном уровне. Средняя вероятность задолженности по всей группе составляет 8,12%, мы видим, что люди, которые имеют 1-2 детей сильно превышают этот показатель - на 14%.\\\n",
    " **Вывод**\\\n",
    "  показатель задолженности по всей группе составляет 8%, самое большое отклонение наблюдается в группе с 1-2 детьми, соответственно нужно быть внимательными к группе заемщиков, у которых немногодетные семьи."
   ]
  },
  {
   "cell_type": "markdown",
   "metadata": {
    "id": "bZvC8l6aVO1X"
   },
   "source": [
    "**Есть ли зависимость между семейным положением и возвратом кредита в срок?**"
   ]
  },
  {
   "cell_type": "code",
   "execution_count": 74,
   "metadata": {
    "id": "ZVFqu5WJVO1X"
   },
   "outputs": [
    {
     "data": {
      "text/html": [
       "<style  type=\"text/css\" >\n",
       "</style><table id=\"T_6304e_\" ><thead>    <tr>        <th class=\"blank level0\" ></th>        <th class=\"col_heading level0 col0\" >count</th>        <th class=\"col_heading level0 col1\" >mean</th>    </tr>    <tr>        <th class=\"index_name level0\" >family_status</th>        <th class=\"blank\" ></th>        <th class=\"blank\" ></th>    </tr></thead><tbody>\n",
       "                <tr>\n",
       "                        <th id=\"T_6304e_level0_row0\" class=\"row_heading level0 row0\" >в разводе</th>\n",
       "                        <td id=\"T_6304e_row0_col0\" class=\"data row0 col0\" >1185</td>\n",
       "                        <td id=\"T_6304e_row0_col1\" class=\"data row0 col1\" >7.17%</td>\n",
       "            </tr>\n",
       "            <tr>\n",
       "                        <th id=\"T_6304e_level0_row1\" class=\"row_heading level0 row1\" >вдовец / вдова</th>\n",
       "                        <td id=\"T_6304e_row1_col0\" class=\"data row1 col0\" >954</td>\n",
       "                        <td id=\"T_6304e_row1_col1\" class=\"data row1 col1\" >6.50%</td>\n",
       "            </tr>\n",
       "            <tr>\n",
       "                        <th id=\"T_6304e_level0_row2\" class=\"row_heading level0 row2\" >гражданский брак</th>\n",
       "                        <td id=\"T_6304e_row2_col0\" class=\"data row2 col0\" >4129</td>\n",
       "                        <td id=\"T_6304e_row2_col1\" class=\"data row2 col1\" >9.35%</td>\n",
       "            </tr>\n",
       "            <tr>\n",
       "                        <th id=\"T_6304e_level0_row3\" class=\"row_heading level0 row3\" >женат / замужем</th>\n",
       "                        <td id=\"T_6304e_row3_col0\" class=\"data row3 col0\" >12290</td>\n",
       "                        <td id=\"T_6304e_row3_col1\" class=\"data row3 col1\" >7.54%</td>\n",
       "            </tr>\n",
       "            <tr>\n",
       "                        <th id=\"T_6304e_level0_row4\" class=\"row_heading level0 row4\" >не женат / не замужем</th>\n",
       "                        <td id=\"T_6304e_row4_col0\" class=\"data row4 col0\" >2794</td>\n",
       "                        <td id=\"T_6304e_row4_col1\" class=\"data row4 col1\" >9.77%</td>\n",
       "            </tr>\n",
       "    </tbody></table>"
      ],
      "text/plain": [
       "<pandas.io.formats.style.Styler at 0x7f6ac2f73250>"
      ]
     },
     "execution_count": 74,
     "metadata": {},
     "output_type": "execute_result"
    }
   ],
   "source": [
    "data_bank.groupby('family_status').debt.agg(['count','mean']).style.format({'mean':'{:.2%}'})"
   ]
  },
  {
   "cell_type": "code",
   "execution_count": 75,
   "metadata": {
    "id": "y3YEaJsoVO1X"
   },
   "outputs": [
    {
     "name": "stdout",
     "output_type": "stream",
     "text": [
      "Вероятность задолженности в выборке 8.12%\n"
     ]
    },
    {
     "data": {
      "text/html": [
       "<style  type=\"text/css\" >\n",
       "</style><table id=\"T_99eae_\" ><thead>    <tr>        <th class=\"blank level0\" ></th>        <th class=\"col_heading level0 col0\" >count</th>        <th class=\"col_heading level0 col1\" >mean</th>        <th class=\"col_heading level0 col2\" >deviation_all_mean</th>    </tr>    <tr>        <th class=\"index_name level0\" >family_status</th>        <th class=\"blank\" ></th>        <th class=\"blank\" ></th>        <th class=\"blank\" ></th>    </tr></thead><tbody>\n",
       "                <tr>\n",
       "                        <th id=\"T_99eae_level0_row0\" class=\"row_heading level0 row0\" >в разводе</th>\n",
       "                        <td id=\"T_99eae_row0_col0\" class=\"data row0 col0\" >1185</td>\n",
       "                        <td id=\"T_99eae_row0_col1\" class=\"data row0 col1\" >7.17%</td>\n",
       "                        <td id=\"T_99eae_row0_col2\" class=\"data row0 col2\" >-11.62%</td>\n",
       "            </tr>\n",
       "            <tr>\n",
       "                        <th id=\"T_99eae_level0_row1\" class=\"row_heading level0 row1\" >вдовец / вдова</th>\n",
       "                        <td id=\"T_99eae_row1_col0\" class=\"data row1 col0\" >954</td>\n",
       "                        <td id=\"T_99eae_row1_col1\" class=\"data row1 col1\" >6.50%</td>\n",
       "                        <td id=\"T_99eae_row1_col2\" class=\"data row1 col2\" >-19.93%</td>\n",
       "            </tr>\n",
       "            <tr>\n",
       "                        <th id=\"T_99eae_level0_row2\" class=\"row_heading level0 row2\" >гражданский брак</th>\n",
       "                        <td id=\"T_99eae_row2_col0\" class=\"data row2 col0\" >4129</td>\n",
       "                        <td id=\"T_99eae_row2_col1\" class=\"data row2 col1\" >9.35%</td>\n",
       "                        <td id=\"T_99eae_row2_col2\" class=\"data row2 col2\" >15.18%</td>\n",
       "            </tr>\n",
       "            <tr>\n",
       "                        <th id=\"T_99eae_level0_row3\" class=\"row_heading level0 row3\" >женат / замужем</th>\n",
       "                        <td id=\"T_99eae_row3_col0\" class=\"data row3 col0\" >12290</td>\n",
       "                        <td id=\"T_99eae_row3_col1\" class=\"data row3 col1\" >7.54%</td>\n",
       "                        <td id=\"T_99eae_row3_col2\" class=\"data row3 col2\" >-7.07%</td>\n",
       "            </tr>\n",
       "            <tr>\n",
       "                        <th id=\"T_99eae_level0_row4\" class=\"row_heading level0 row4\" >не женат / не замужем</th>\n",
       "                        <td id=\"T_99eae_row4_col0\" class=\"data row4 col0\" >2794</td>\n",
       "                        <td id=\"T_99eae_row4_col1\" class=\"data row4 col1\" >9.77%</td>\n",
       "                        <td id=\"T_99eae_row4_col2\" class=\"data row4 col2\" >20.39%</td>\n",
       "            </tr>\n",
       "    </tbody></table>"
      ],
      "text/plain": [
       "<pandas.io.formats.style.Styler at 0x7f6afad77760>"
      ]
     },
     "execution_count": 75,
     "metadata": {},
     "output_type": "execute_result"
    }
   ],
   "source": [
    "print(f'Вероятность задолженности в выборке {data_bank.debt.mean():.2%}')\n",
    "\n",
    "t = data_bank.groupby('family_status').debt.agg(['count','mean'])\n",
    "\n",
    "t['deviation_all_mean'] = (t['mean'] - data_bank.debt.mean())/data_bank.debt.mean()\n",
    "t.style.format({'mean':'{:.2%}',\n",
    "                'deviation_all_mean':'{:.2%}'\n",
    "               })"
   ]
  },
  {
   "cell_type": "markdown",
   "metadata": {
    "id": "iED78HbWVO1Y"
   },
   "source": [
    "**Комментарий**\\\n",
    " Люди не состоящие в браке (и даже в официальном) имеют самую высокую вероятность невозврата кредитов - не женатые в 9,7% случаях пропускают сроки, а люди в гражданском браке в 9,3%, хотя их общее количество сильно отличается - почти на тысячу человек. Чаще всего берут кредиты люди, состоящие в браке и среди них 7,5% задолженников (кстати, очень похожий процент вероятности с группой \"нет детей\"), но выборка достаточно большая. Люди в разводе, или потерявшие супруга берут кредиты редко и процент невозврата колеблется около 7%, количество человек в группах почти одинаковое.\\\n",
    "  **Вывод**\\\n",
    "   Самые большие отклонения от средней вероятности задолженности наблюдаются в группах \"не женат\" и \"гражданский брак\", все остальные группы имеют значения меньше общей вероятности, соответственно при выдаче кредита необходимо обратить внимание на то, что человек не имеет постоянно партнера, либо живет в гражданском браке. Исключению подлежат группы разведенных и вдовцов."
   ]
  },
  {
   "cell_type": "markdown",
   "metadata": {
    "id": "PPFwshZgVO1Y"
   },
   "source": [
    "**Есть ли зависимость между уровнем дохода и возвратом кредита в срок?**"
   ]
  },
  {
   "cell_type": "code",
   "execution_count": 76,
   "metadata": {
    "id": "V6jqFXetVO1Y"
   },
   "outputs": [
    {
     "data": {
      "text/html": [
       "<style  type=\"text/css\" >\n",
       "</style><table id=\"T_fae1d_\" ><thead>    <tr>        <th class=\"blank level0\" ></th>        <th class=\"col_heading level0 col0\" >count</th>        <th class=\"col_heading level0 col1\" >mean</th>    </tr>    <tr>        <th class=\"index_name level0\" >income_group</th>        <th class=\"blank\" ></th>        <th class=\"blank\" ></th>    </tr></thead><tbody>\n",
       "                <tr>\n",
       "                        <th id=\"T_fae1d_level0_row0\" class=\"row_heading level0 row0\" >высокий доход</th>\n",
       "                        <td id=\"T_fae1d_row0_col0\" class=\"data row0 col0\" >197</td>\n",
       "                        <td id=\"T_fae1d_row0_col1\" class=\"data row0 col1\" >6.09%</td>\n",
       "            </tr>\n",
       "            <tr>\n",
       "                        <th id=\"T_fae1d_level0_row1\" class=\"row_heading level0 row1\" >выше среднего</th>\n",
       "                        <td id=\"T_fae1d_row1_col0\" class=\"data row1 col0\" >14472</td>\n",
       "                        <td id=\"T_fae1d_row1_col1\" class=\"data row1 col1\" >8.22%</td>\n",
       "            </tr>\n",
       "            <tr>\n",
       "                        <th id=\"T_fae1d_level0_row2\" class=\"row_heading level0 row2\" >неприлично высокий доход</th>\n",
       "                        <td id=\"T_fae1d_row2_col0\" class=\"data row2 col0\" >163</td>\n",
       "                        <td id=\"T_fae1d_row2_col1\" class=\"data row2 col1\" >5.52%</td>\n",
       "            </tr>\n",
       "            <tr>\n",
       "                        <th id=\"T_fae1d_level0_row3\" class=\"row_heading level0 row3\" >ниже среднего</th>\n",
       "                        <td id=\"T_fae1d_row3_col0\" class=\"data row3 col0\" >2217</td>\n",
       "                        <td id=\"T_fae1d_row3_col1\" class=\"data row3 col1\" >8.12%</td>\n",
       "            </tr>\n",
       "            <tr>\n",
       "                        <th id=\"T_fae1d_level0_row4\" class=\"row_heading level0 row4\" >средний доход</th>\n",
       "                        <td id=\"T_fae1d_row4_col0\" class=\"data row4 col0\" >4303</td>\n",
       "                        <td id=\"T_fae1d_row4_col1\" class=\"data row4 col1\" >7.97%</td>\n",
       "            </tr>\n",
       "    </tbody></table>"
      ],
      "text/plain": [
       "<pandas.io.formats.style.Styler at 0x7f6ac2f5a700>"
      ]
     },
     "execution_count": 76,
     "metadata": {},
     "output_type": "execute_result"
    }
   ],
   "source": [
    "data_bank.groupby('income_group').debt.agg(['count','mean']).style.format({'mean':'{:.2%}'})"
   ]
  },
  {
   "cell_type": "code",
   "execution_count": 77,
   "metadata": {
    "id": "NBiAWIskVO1Y"
   },
   "outputs": [
    {
     "name": "stdout",
     "output_type": "stream",
     "text": [
      "Вероятность задолженности в выборке 8.12%\n"
     ]
    },
    {
     "data": {
      "text/html": [
       "<style  type=\"text/css\" >\n",
       "</style><table id=\"T_16507_\" ><thead>    <tr>        <th class=\"blank level0\" ></th>        <th class=\"col_heading level0 col0\" >count</th>        <th class=\"col_heading level0 col1\" >mean</th>        <th class=\"col_heading level0 col2\" >deviation_all_mean</th>    </tr>    <tr>        <th class=\"index_name level0\" >income_group</th>        <th class=\"blank\" ></th>        <th class=\"blank\" ></th>        <th class=\"blank\" ></th>    </tr></thead><tbody>\n",
       "                <tr>\n",
       "                        <th id=\"T_16507_level0_row0\" class=\"row_heading level0 row0\" >высокий доход</th>\n",
       "                        <td id=\"T_16507_row0_col0\" class=\"data row0 col0\" >197</td>\n",
       "                        <td id=\"T_16507_row0_col1\" class=\"data row0 col1\" >6.09%</td>\n",
       "                        <td id=\"T_16507_row0_col2\" class=\"data row0 col2\" >-24.95%</td>\n",
       "            </tr>\n",
       "            <tr>\n",
       "                        <th id=\"T_16507_level0_row1\" class=\"row_heading level0 row1\" >выше среднего</th>\n",
       "                        <td id=\"T_16507_row1_col0\" class=\"data row1 col0\" >14472</td>\n",
       "                        <td id=\"T_16507_row1_col1\" class=\"data row1 col1\" >8.22%</td>\n",
       "                        <td id=\"T_16507_row1_col2\" class=\"data row1 col2\" >1.23%</td>\n",
       "            </tr>\n",
       "            <tr>\n",
       "                        <th id=\"T_16507_level0_row2\" class=\"row_heading level0 row2\" >неприлично высокий доход</th>\n",
       "                        <td id=\"T_16507_row2_col0\" class=\"data row2 col0\" >163</td>\n",
       "                        <td id=\"T_16507_row2_col1\" class=\"data row2 col1\" >5.52%</td>\n",
       "                        <td id=\"T_16507_row2_col2\" class=\"data row2 col2\" >-31.97%</td>\n",
       "            </tr>\n",
       "            <tr>\n",
       "                        <th id=\"T_16507_level0_row3\" class=\"row_heading level0 row3\" >ниже среднего</th>\n",
       "                        <td id=\"T_16507_row3_col0\" class=\"data row3 col0\" >2217</td>\n",
       "                        <td id=\"T_16507_row3_col1\" class=\"data row3 col1\" >8.12%</td>\n",
       "                        <td id=\"T_16507_row3_col2\" class=\"data row3 col2\" >0.03%</td>\n",
       "            </tr>\n",
       "            <tr>\n",
       "                        <th id=\"T_16507_level0_row4\" class=\"row_heading level0 row4\" >средний доход</th>\n",
       "                        <td id=\"T_16507_row4_col0\" class=\"data row4 col0\" >4303</td>\n",
       "                        <td id=\"T_16507_row4_col1\" class=\"data row4 col1\" >7.97%</td>\n",
       "                        <td id=\"T_16507_row4_col2\" class=\"data row4 col2\" >-1.79%</td>\n",
       "            </tr>\n",
       "    </tbody></table>"
      ],
      "text/plain": [
       "<pandas.io.formats.style.Styler at 0x7f6ac2fa9310>"
      ]
     },
     "execution_count": 77,
     "metadata": {},
     "output_type": "execute_result"
    }
   ],
   "source": [
    "print(f'Вероятность задолженности в выборке {data_bank.debt.mean():.2%}')\n",
    "\n",
    "t = data_bank.groupby('income_group').debt.agg(['count','mean'])\n",
    "\n",
    "t['deviation_all_mean'] = (t['mean'] - data_bank.debt.mean())/data_bank.debt.mean()\n",
    "t.style.format({'mean':'{:.2%}',\n",
    "                'deviation_all_mean':'{:.2%}'\n",
    "               })"
   ]
  },
  {
   "cell_type": "markdown",
   "metadata": {
    "id": "byOvRfBjVO1Z"
   },
   "source": [
    "**Комментарий**\\\n",
    " Примерно на одном уровне по возврату кредита находятся группы с заработком от 0 до 500 тыс.рублей (сюда входит три группы - \"ниже среднего\", \"средний\" и \"выше среднего\"). Их процент невозврата составляет примерно 8%, хотя количества в группах довольно сильно отличаются. Группа с доходом \"выше среднего\" является самой большой из всех. Люди с заработком более 500 тыс. рублей примерно одинаково часто берут кредиты, но вероятность возврата у них  отличается, но колеблетка около 6%.\\\n",
    "  **Вывод**\\\n",
    "    Mожно сделать вывод, что люди с высоким доходом и более чаще всего соблюдают сроки выплат по кредиту. Чаще всего кредиты берут люди с доходом от 101 до 500 тыс.рублей, наверное потому что они более комфортно себя чувствуют при заеме денег, хотя не смотря на это в 8% случаев они задерживают сроки. Также их выборка единственная, кто имеет отклонение от средней вероятности невозврата всех заемщиков. То есть необходимо при выдаче кредита обращать отдельное внимание на людей с заработком выше среднего. Все остальные группы имеют отрицательное отклонение от общей вероятности, хотя выборка \"ниже среднего\" находится практически на одном уровне со всеми заемщиками, поэтому я бы также обращала отдельное внимание при выдаче кредита и на людей с таким порядком зарплат."
   ]
  },
  {
   "cell_type": "markdown",
   "metadata": {
    "id": "pX7dYQ6xVO1Z"
   },
   "source": [
    "**Как разные цели кредита влияют на его возврат в срок?**"
   ]
  },
  {
   "cell_type": "code",
   "execution_count": 78,
   "metadata": {
    "id": "xzuyatU4VO1Z"
   },
   "outputs": [
    {
     "data": {
      "text/html": [
       "<style  type=\"text/css\" >\n",
       "</style><table id=\"T_45aec_\" ><thead>    <tr>        <th class=\"blank level0\" ></th>        <th class=\"col_heading level0 col0\" >count</th>        <th class=\"col_heading level0 col1\" >mean</th>    </tr>    <tr>        <th class=\"index_name level0\" >purpose_def</th>        <th class=\"blank\" ></th>        <th class=\"blank\" ></th>    </tr></thead><tbody>\n",
       "                <tr>\n",
       "                        <th id=\"T_45aec_level0_row0\" class=\"row_heading level0 row0\" >автомобиль</th>\n",
       "                        <td id=\"T_45aec_row0_col0\" class=\"data row0 col0\" >4284</td>\n",
       "                        <td id=\"T_45aec_row0_col1\" class=\"data row0 col1\" >9.34%</td>\n",
       "            </tr>\n",
       "            <tr>\n",
       "                        <th id=\"T_45aec_level0_row1\" class=\"row_heading level0 row1\" >недвижимость</th>\n",
       "                        <td id=\"T_45aec_row1_col0\" class=\"data row1 col0\" >10763</td>\n",
       "                        <td id=\"T_45aec_row1_col1\" class=\"data row1 col1\" >7.24%</td>\n",
       "            </tr>\n",
       "            <tr>\n",
       "                        <th id=\"T_45aec_level0_row2\" class=\"row_heading level0 row2\" >образование</th>\n",
       "                        <td id=\"T_45aec_row2_col0\" class=\"data row2 col0\" >3995</td>\n",
       "                        <td id=\"T_45aec_row2_col1\" class=\"data row2 col1\" >9.26%</td>\n",
       "            </tr>\n",
       "            <tr>\n",
       "                        <th id=\"T_45aec_level0_row3\" class=\"row_heading level0 row3\" >свадьба</th>\n",
       "                        <td id=\"T_45aec_row3_col0\" class=\"data row3 col0\" >2310</td>\n",
       "                        <td id=\"T_45aec_row3_col1\" class=\"data row3 col1\" >7.97%</td>\n",
       "            </tr>\n",
       "    </tbody></table>"
      ],
      "text/plain": [
       "<pandas.io.formats.style.Styler at 0x7f6ac2fa99a0>"
      ]
     },
     "execution_count": 78,
     "metadata": {},
     "output_type": "execute_result"
    }
   ],
   "source": [
    "data_bank.groupby('purpose_def').debt.agg(['count','mean']).style.format({'mean':'{:.2%}'})"
   ]
  },
  {
   "cell_type": "code",
   "execution_count": 79,
   "metadata": {
    "id": "kt87k5m7VO1Z"
   },
   "outputs": [
    {
     "name": "stdout",
     "output_type": "stream",
     "text": [
      "Вероятность задолженности в выборке 8.12%\n"
     ]
    },
    {
     "data": {
      "text/html": [
       "<style  type=\"text/css\" >\n",
       "</style><table id=\"T_2fbde_\" ><thead>    <tr>        <th class=\"blank level0\" ></th>        <th class=\"col_heading level0 col0\" >count</th>        <th class=\"col_heading level0 col1\" >mean</th>        <th class=\"col_heading level0 col2\" >deviation_all_mean</th>    </tr>    <tr>        <th class=\"index_name level0\" >purpose_def</th>        <th class=\"blank\" ></th>        <th class=\"blank\" ></th>        <th class=\"blank\" ></th>    </tr></thead><tbody>\n",
       "                <tr>\n",
       "                        <th id=\"T_2fbde_level0_row0\" class=\"row_heading level0 row0\" >автомобиль</th>\n",
       "                        <td id=\"T_2fbde_row0_col0\" class=\"data row0 col0\" >4284</td>\n",
       "                        <td id=\"T_2fbde_row0_col1\" class=\"data row0 col1\" >9.34%</td>\n",
       "                        <td id=\"T_2fbde_row0_col2\" class=\"data row0 col2\" >15.04%</td>\n",
       "            </tr>\n",
       "            <tr>\n",
       "                        <th id=\"T_2fbde_level0_row1\" class=\"row_heading level0 row1\" >недвижимость</th>\n",
       "                        <td id=\"T_2fbde_row1_col0\" class=\"data row1 col0\" >10763</td>\n",
       "                        <td id=\"T_2fbde_row1_col1\" class=\"data row1 col1\" >7.24%</td>\n",
       "                        <td id=\"T_2fbde_row1_col2\" class=\"data row1 col2\" >-10.82%</td>\n",
       "            </tr>\n",
       "            <tr>\n",
       "                        <th id=\"T_2fbde_level0_row2\" class=\"row_heading level0 row2\" >образование</th>\n",
       "                        <td id=\"T_2fbde_row2_col0\" class=\"data row2 col0\" >3995</td>\n",
       "                        <td id=\"T_2fbde_row2_col1\" class=\"data row2 col1\" >9.26%</td>\n",
       "                        <td id=\"T_2fbde_row2_col2\" class=\"data row2 col2\" >14.11%</td>\n",
       "            </tr>\n",
       "            <tr>\n",
       "                        <th id=\"T_2fbde_level0_row3\" class=\"row_heading level0 row3\" >свадьба</th>\n",
       "                        <td id=\"T_2fbde_row3_col0\" class=\"data row3 col0\" >2310</td>\n",
       "                        <td id=\"T_2fbde_row3_col1\" class=\"data row3 col1\" >7.97%</td>\n",
       "                        <td id=\"T_2fbde_row3_col2\" class=\"data row3 col2\" >-1.86%</td>\n",
       "            </tr>\n",
       "    </tbody></table>"
      ],
      "text/plain": [
       "<pandas.io.formats.style.Styler at 0x7f6af2538a30>"
      ]
     },
     "execution_count": 79,
     "metadata": {},
     "output_type": "execute_result"
    }
   ],
   "source": [
    "print(f'Вероятность задолженности в выборке {data_bank.debt.mean():.2%}')\n",
    "\n",
    "t = data_bank.groupby('purpose_def').debt.agg(['count','mean'])\n",
    "\n",
    "t['deviation_all_mean'] = (t['mean'] - data_bank.debt.mean())/data_bank.debt.mean()\n",
    "t.style.format({'mean':'{:.2%}',\n",
    "                'deviation_all_mean':'{:.2%}'\n",
    "               })"
   ]
  },
  {
   "cell_type": "markdown",
   "metadata": {
    "id": "-xknv8hIVO1a"
   },
   "source": [
    "**Комментарий**\\\n",
    " Количество кредитов на образование и автомобиль почти одинаковое, как и вероятность задолженности - 9,3%. Больше всего кредитов люди берут на недвижимость и вероятность невозврата кредита в этом случае составляет 7,2%, что для такой большой выборки довольно мало.\\\n",
    " **Вывод**\\\n",
    " Если кредит на автомобиль или на образование, то вероятность задолженности будет довольно высокой для обеих групп, на что стоит обратить внимание, также и их отклонение от вероятности задолженности всех заемщиков достаточно высокое. "
   ]
  },
  {
   "cell_type": "markdown",
   "metadata": {
    "id": "gKOAa845VO1a"
   },
   "source": [
    "## Шаг 4. Общий вывод"
   ]
  },
  {
   "cell_type": "markdown",
   "metadata": {
    "id": "OGfDTlIwVO1a"
   },
   "source": [
    "Подводя итог, можно выделить следующие выводы:\n",
    "\n",
    "- Если рассматривать зависимость между количеством детей у заемщика и вероятностью возврата кредита в срок, можно сказать то, что стоит обратить внимание на людей, которые имеют 1-2 детей, их немного (тех, кто берет кредиты), но у них очень большая вероятность невозвратов в срок относительно всех заемщиков. \n",
    "- Люди, которые ранее состояли в браке, но на момент взятия кредита не имеют постоянного партнера, либо вдовцы, - самые примерные заемщики. Их немного, но вероятность возврата кредита в их случаях составляет примерно 94%, по сравнению с остальными группами - это хороший результат. \n",
    "- Люди, которые имеют постоянного партнера, но у них нет официального брака, либо же они не состоят вообще ни в каких отношениях, берут кредиты также практически в одинаковом количестве (разница примерно в тысячу человек) и вероятность задолженности у них колеблется в районе 9,5%. \n",
    "- Другое дело - люди в браке, таких заемщиков много, но процент задолженности в их группе (по сравнению с остальными) - 7,5%, однако этот результат очень похож на результат с категорией \"нет детей\", поэтому я бы обратила особое внимание, если бы заемщик был в браке, но без детей.\n",
    "- Интересно, что у людей с доходом от 0 до 500 тыс.рублей вероятность задолженности примерно одинаковая и составляет около 8%, хотя по количеству групп они не находятся на одном уровне. \n",
    "- Люди с доходом от 501 тыс.рублей и выше примерно в одинаковом количестве берут кредиты и вероятность задолженности для них составляет примерно 6%, что по сравнению с другими группами кажется небольшим. То есть в принципе можно сделать вывод, что если к вам пришел заемщик с высоким доходом, то он вероятнее всего быстрее погасит кредит и не влезет в задолженности (хотя, на мой взгляд, это на уровне здравого смысла).\n",
    "- Самые распространенные кредиты - на недвижимость, вероятность задолженности в этой категории составляет 7,2%, что является хорошим результатом по сравнению с остальными категориями.\n",
    "- Кредиты на автомобиль и образование берут примерно в одинаковом (небольшом) количестве и возвращают их с одинаковой вероятностью - в 91% случаев кредит будет выплачен в срок."
   ]
  },
  {
   "cell_type": "markdown",
   "metadata": {
    "id": "XFZnUo3HVO1b"
   },
   "source": [
    "**Из общих наблюдений** \n",
    "- Больше всего кредитов берут женщины (более 50%). \n",
    "- Средний возраст заемщиков - 43 года. \n",
    "- Всего 2 предпринимателя, которые взяли кредит, что довольно странно, так как многие берут кредиты для старта своего бизнеса, хотя такой цели нет ни у одного из заемщиков. \n",
    "- Кредиты все-таки чаще всего возвращаются в срок - в 91% случаев. \n",
    "- Люди со средним образованием в основном являются заемщиками, люди с ученой степенью кредиты практически не берут.\n",
    "- Интересно, что много пенсионеров с уровнем дохода \"выше среднего\" берут кредиты, что вообще, конечно, довольно странно для России с порядками пенсий.\n",
    "- В каждой группе кредит на недвижимость является самым многочисленным."
   ]
  }
 ],
 "metadata": {
  "ExecuteTimeLog": [
   {
    "duration": 625,
    "start_time": "2021-10-18T15:21:40.779Z"
   },
   {
    "duration": 661,
    "start_time": "2021-10-18T17:25:15.369Z"
   },
   {
    "duration": 53,
    "start_time": "2021-10-18T17:29:56.765Z"
   },
   {
    "duration": 9,
    "start_time": "2021-10-18T17:31:38.353Z"
   },
   {
    "duration": 8,
    "start_time": "2021-10-18T17:32:02.292Z"
   },
   {
    "duration": 7,
    "start_time": "2021-10-18T17:33:19.855Z"
   },
   {
    "duration": 10,
    "start_time": "2021-10-18T17:34:06.109Z"
   },
   {
    "duration": 230,
    "start_time": "2021-10-18T17:38:24.186Z"
   },
   {
    "duration": 8,
    "start_time": "2021-10-18T17:39:08.703Z"
   },
   {
    "duration": 31,
    "start_time": "2021-10-18T17:40:05.057Z"
   },
   {
    "duration": 11,
    "start_time": "2021-10-18T17:40:18.020Z"
   },
   {
    "duration": 9,
    "start_time": "2021-10-18T17:43:56.287Z"
   },
   {
    "duration": 9,
    "start_time": "2021-10-18T17:44:45.235Z"
   },
   {
    "duration": 6,
    "start_time": "2021-10-18T17:50:26.029Z"
   },
   {
    "duration": 9,
    "start_time": "2021-10-18T17:53:53.275Z"
   },
   {
    "duration": 5,
    "start_time": "2021-10-18T17:56:18.220Z"
   },
   {
    "duration": 7,
    "start_time": "2021-10-18T17:58:11.074Z"
   },
   {
    "duration": 8,
    "start_time": "2021-10-18T18:02:17.125Z"
   },
   {
    "duration": 7,
    "start_time": "2021-10-18T18:07:04.132Z"
   },
   {
    "duration": 8,
    "start_time": "2021-10-18T18:10:17.585Z"
   },
   {
    "duration": 8,
    "start_time": "2021-10-18T18:11:55.632Z"
   },
   {
    "duration": 9,
    "start_time": "2021-10-18T18:12:56.424Z"
   },
   {
    "duration": 7,
    "start_time": "2021-10-18T18:14:11.236Z"
   },
   {
    "duration": 12,
    "start_time": "2021-10-18T18:15:06.232Z"
   },
   {
    "duration": 13,
    "start_time": "2021-10-18T18:29:32.320Z"
   },
   {
    "duration": 10,
    "start_time": "2021-10-18T18:38:10.766Z"
   },
   {
    "duration": 10,
    "start_time": "2021-10-18T18:38:15.512Z"
   },
   {
    "duration": 10,
    "start_time": "2021-10-18T18:38:26.015Z"
   },
   {
    "duration": 21,
    "start_time": "2021-10-18T18:52:45.744Z"
   },
   {
    "duration": 17,
    "start_time": "2021-10-18T19:43:01.069Z"
   },
   {
    "duration": 16,
    "start_time": "2021-10-18T19:43:17.185Z"
   },
   {
    "duration": 18,
    "start_time": "2021-10-18T19:44:25.823Z"
   },
   {
    "duration": 25,
    "start_time": "2021-10-18T20:02:28.005Z"
   },
   {
    "duration": 23,
    "start_time": "2021-10-18T20:02:32.431Z"
   },
   {
    "duration": 15,
    "start_time": "2021-10-18T20:02:46.018Z"
   },
   {
    "duration": 295,
    "start_time": "2021-10-19T08:12:14.202Z"
   },
   {
    "duration": 696,
    "start_time": "2021-10-19T08:12:24.148Z"
   },
   {
    "duration": 15,
    "start_time": "2021-10-19T08:12:24.846Z"
   },
   {
    "duration": 23,
    "start_time": "2021-10-19T08:12:24.862Z"
   },
   {
    "duration": 6,
    "start_time": "2021-10-19T08:12:24.887Z"
   },
   {
    "duration": 7,
    "start_time": "2021-10-19T08:12:24.895Z"
   },
   {
    "duration": 9,
    "start_time": "2021-10-19T08:12:24.903Z"
   },
   {
    "duration": 10,
    "start_time": "2021-10-19T08:12:24.914Z"
   },
   {
    "duration": 8,
    "start_time": "2021-10-19T08:12:24.926Z"
   },
   {
    "duration": 30,
    "start_time": "2021-10-19T08:12:24.936Z"
   },
   {
    "duration": 6,
    "start_time": "2021-10-19T08:12:24.968Z"
   },
   {
    "duration": 13,
    "start_time": "2021-10-19T08:12:24.975Z"
   },
   {
    "duration": 7,
    "start_time": "2021-10-19T08:12:24.990Z"
   },
   {
    "duration": 9,
    "start_time": "2021-10-19T08:12:24.999Z"
   },
   {
    "duration": 8,
    "start_time": "2021-10-19T08:12:25.009Z"
   },
   {
    "duration": 46,
    "start_time": "2021-10-19T08:12:25.019Z"
   },
   {
    "duration": 18,
    "start_time": "2021-10-19T08:12:25.066Z"
   },
   {
    "duration": 286,
    "start_time": "2021-10-19T08:12:25.086Z"
   },
   {
    "duration": 310,
    "start_time": "2021-10-19T08:13:43.192Z"
   },
   {
    "duration": 478,
    "start_time": "2021-10-19T08:15:39.546Z"
   },
   {
    "duration": 318,
    "start_time": "2021-10-19T08:15:50.038Z"
   },
   {
    "duration": 253,
    "start_time": "2021-10-19T08:20:08.379Z"
   },
   {
    "duration": 6,
    "start_time": "2021-10-19T08:20:57.792Z"
   },
   {
    "duration": 285,
    "start_time": "2021-10-19T08:21:24.726Z"
   },
   {
    "duration": 631,
    "start_time": "2021-10-19T08:25:08.425Z"
   },
   {
    "duration": 290,
    "start_time": "2021-10-19T08:28:55.968Z"
   },
   {
    "duration": 2792,
    "start_time": "2021-10-19T08:35:35.977Z"
   },
   {
    "duration": 5,
    "start_time": "2021-10-19T08:37:12.151Z"
   },
   {
    "duration": 273,
    "start_time": "2021-10-19T08:37:28.127Z"
   },
   {
    "duration": 240,
    "start_time": "2021-10-19T08:43:57.545Z"
   },
   {
    "duration": 357,
    "start_time": "2021-10-19T08:44:10.742Z"
   },
   {
    "duration": 288,
    "start_time": "2021-10-19T08:44:31.896Z"
   },
   {
    "duration": 17283,
    "start_time": "2021-10-19T08:45:59.423Z"
   },
   {
    "duration": 325,
    "start_time": "2021-10-19T08:48:47.313Z"
   },
   {
    "duration": 277,
    "start_time": "2021-10-19T08:49:15.992Z"
   },
   {
    "duration": 5,
    "start_time": "2021-10-19T09:10:01.052Z"
   },
   {
    "duration": 5,
    "start_time": "2021-10-19T09:10:03.687Z"
   },
   {
    "duration": 61,
    "start_time": "2021-10-19T09:10:05.528Z"
   },
   {
    "duration": 9,
    "start_time": "2021-10-19T09:10:05.591Z"
   },
   {
    "duration": 21,
    "start_time": "2021-10-19T09:10:05.602Z"
   },
   {
    "duration": 6,
    "start_time": "2021-10-19T09:10:05.625Z"
   },
   {
    "duration": 32,
    "start_time": "2021-10-19T09:10:05.632Z"
   },
   {
    "duration": 7,
    "start_time": "2021-10-19T09:10:05.667Z"
   },
   {
    "duration": 7,
    "start_time": "2021-10-19T09:10:05.676Z"
   },
   {
    "duration": 12,
    "start_time": "2021-10-19T09:10:05.685Z"
   },
   {
    "duration": 8,
    "start_time": "2021-10-19T09:10:05.698Z"
   },
   {
    "duration": 8,
    "start_time": "2021-10-19T09:10:05.707Z"
   },
   {
    "duration": 11,
    "start_time": "2021-10-19T09:10:05.717Z"
   },
   {
    "duration": 42,
    "start_time": "2021-10-19T09:10:05.729Z"
   },
   {
    "duration": 7,
    "start_time": "2021-10-19T09:10:05.773Z"
   },
   {
    "duration": 13,
    "start_time": "2021-10-19T09:10:05.781Z"
   },
   {
    "duration": 24,
    "start_time": "2021-10-19T09:10:05.796Z"
   },
   {
    "duration": 17,
    "start_time": "2021-10-19T09:10:05.822Z"
   },
   {
    "duration": 2928,
    "start_time": "2021-10-19T09:10:05.841Z"
   },
   {
    "duration": 4,
    "start_time": "2021-10-19T09:10:08.771Z"
   },
   {
    "duration": 6,
    "start_time": "2021-10-19T09:10:27.661Z"
   },
   {
    "duration": 675,
    "start_time": "2021-10-19T09:23:26.268Z"
   },
   {
    "duration": 256,
    "start_time": "2021-10-19T09:27:38.172Z"
   },
   {
    "duration": 283,
    "start_time": "2021-10-19T09:27:57.599Z"
   },
   {
    "duration": 256,
    "start_time": "2021-10-19T09:31:01.851Z"
   },
   {
    "duration": 5,
    "start_time": "2021-10-19T09:32:40.719Z"
   },
   {
    "duration": 1458,
    "start_time": "2021-10-19T09:39:39.818Z"
   },
   {
    "duration": 58,
    "start_time": "2021-10-19T09:39:41.500Z"
   },
   {
    "duration": 10,
    "start_time": "2021-10-19T09:39:41.560Z"
   },
   {
    "duration": 20,
    "start_time": "2021-10-19T09:39:41.572Z"
   },
   {
    "duration": 5,
    "start_time": "2021-10-19T09:39:41.594Z"
   },
   {
    "duration": 7,
    "start_time": "2021-10-19T09:39:41.600Z"
   },
   {
    "duration": 8,
    "start_time": "2021-10-19T09:39:41.609Z"
   },
   {
    "duration": 8,
    "start_time": "2021-10-19T09:39:41.620Z"
   },
   {
    "duration": 11,
    "start_time": "2021-10-19T09:39:41.665Z"
   },
   {
    "duration": 10,
    "start_time": "2021-10-19T09:39:41.678Z"
   },
   {
    "duration": 7,
    "start_time": "2021-10-19T09:39:41.690Z"
   },
   {
    "duration": 12,
    "start_time": "2021-10-19T09:39:41.698Z"
   },
   {
    "duration": 13,
    "start_time": "2021-10-19T09:39:41.712Z"
   },
   {
    "duration": 11,
    "start_time": "2021-10-19T09:39:41.727Z"
   },
   {
    "duration": 13,
    "start_time": "2021-10-19T09:39:41.763Z"
   },
   {
    "duration": 30,
    "start_time": "2021-10-19T09:39:41.778Z"
   },
   {
    "duration": 25,
    "start_time": "2021-10-19T09:39:41.810Z"
   },
   {
    "duration": 48,
    "start_time": "2021-10-19T09:39:41.838Z"
   },
   {
    "duration": 682,
    "start_time": "2021-10-19T09:39:41.889Z"
   },
   {
    "duration": 3227,
    "start_time": "2021-10-19T09:39:42.573Z"
   },
   {
    "duration": 1376,
    "start_time": "2021-10-19T09:40:13.718Z"
   },
   {
    "duration": 1385,
    "start_time": "2021-10-19T09:40:32.397Z"
   },
   {
    "duration": 1286,
    "start_time": "2021-10-19T09:40:46.534Z"
   },
   {
    "duration": 62,
    "start_time": "2021-10-19T09:43:33.745Z"
   },
   {
    "duration": 11,
    "start_time": "2021-10-19T09:43:33.809Z"
   },
   {
    "duration": 19,
    "start_time": "2021-10-19T09:43:33.822Z"
   },
   {
    "duration": 25,
    "start_time": "2021-10-19T09:43:33.842Z"
   },
   {
    "duration": 8,
    "start_time": "2021-10-19T09:43:33.869Z"
   },
   {
    "duration": 7,
    "start_time": "2021-10-19T09:43:33.879Z"
   },
   {
    "duration": 6,
    "start_time": "2021-10-19T09:43:33.888Z"
   },
   {
    "duration": 6,
    "start_time": "2021-10-19T09:43:33.897Z"
   },
   {
    "duration": 8,
    "start_time": "2021-10-19T09:43:33.905Z"
   },
   {
    "duration": 9,
    "start_time": "2021-10-19T09:43:33.915Z"
   },
   {
    "duration": 40,
    "start_time": "2021-10-19T09:43:33.926Z"
   },
   {
    "duration": 7,
    "start_time": "2021-10-19T09:43:33.968Z"
   },
   {
    "duration": 7,
    "start_time": "2021-10-19T09:43:33.977Z"
   },
   {
    "duration": 14,
    "start_time": "2021-10-19T09:43:33.986Z"
   },
   {
    "duration": 21,
    "start_time": "2021-10-19T09:43:34.002Z"
   },
   {
    "duration": 42,
    "start_time": "2021-10-19T09:43:34.025Z"
   },
   {
    "duration": 25,
    "start_time": "2021-10-19T09:43:34.069Z"
   },
   {
    "duration": 714,
    "start_time": "2021-10-19T09:43:34.096Z"
   },
   {
    "duration": 5,
    "start_time": "2021-10-19T09:43:34.812Z"
   },
   {
    "duration": 14,
    "start_time": "2021-10-19T09:46:23.165Z"
   },
   {
    "duration": 58,
    "start_time": "2021-10-19T09:46:27.288Z"
   },
   {
    "duration": 10,
    "start_time": "2021-10-19T09:46:27.348Z"
   },
   {
    "duration": 19,
    "start_time": "2021-10-19T09:46:27.360Z"
   },
   {
    "duration": 5,
    "start_time": "2021-10-19T09:46:27.381Z"
   },
   {
    "duration": 8,
    "start_time": "2021-10-19T09:46:27.388Z"
   },
   {
    "duration": 12,
    "start_time": "2021-10-19T09:46:27.398Z"
   },
   {
    "duration": 8,
    "start_time": "2021-10-19T09:46:27.412Z"
   },
   {
    "duration": 16,
    "start_time": "2021-10-19T09:46:27.422Z"
   },
   {
    "duration": 27,
    "start_time": "2021-10-19T09:46:27.440Z"
   },
   {
    "duration": 6,
    "start_time": "2021-10-19T09:46:27.469Z"
   },
   {
    "duration": 16,
    "start_time": "2021-10-19T09:46:27.477Z"
   },
   {
    "duration": 17,
    "start_time": "2021-10-19T09:46:27.494Z"
   },
   {
    "duration": 13,
    "start_time": "2021-10-19T09:46:27.513Z"
   },
   {
    "duration": 10,
    "start_time": "2021-10-19T09:46:27.528Z"
   },
   {
    "duration": 29,
    "start_time": "2021-10-19T09:46:27.540Z"
   },
   {
    "duration": 16,
    "start_time": "2021-10-19T09:46:27.571Z"
   },
   {
    "duration": 35,
    "start_time": "2021-10-19T09:46:27.589Z"
   },
   {
    "duration": 725,
    "start_time": "2021-10-19T09:46:27.625Z"
   },
   {
    "duration": 11,
    "start_time": "2021-10-19T09:46:28.352Z"
   },
   {
    "duration": 13,
    "start_time": "2021-10-19T09:48:13.001Z"
   },
   {
    "duration": 61,
    "start_time": "2021-10-19T09:48:52.253Z"
   },
   {
    "duration": 10,
    "start_time": "2021-10-19T09:48:52.316Z"
   },
   {
    "duration": 5,
    "start_time": "2021-10-19T09:48:52.328Z"
   },
   {
    "duration": 29,
    "start_time": "2021-10-19T09:48:52.335Z"
   },
   {
    "duration": 6,
    "start_time": "2021-10-19T09:48:52.366Z"
   },
   {
    "duration": 10,
    "start_time": "2021-10-19T09:48:52.374Z"
   },
   {
    "duration": 7,
    "start_time": "2021-10-19T09:48:52.386Z"
   },
   {
    "duration": 8,
    "start_time": "2021-10-19T09:48:52.395Z"
   },
   {
    "duration": 9,
    "start_time": "2021-10-19T09:48:52.405Z"
   },
   {
    "duration": 12,
    "start_time": "2021-10-19T09:48:52.416Z"
   },
   {
    "duration": 38,
    "start_time": "2021-10-19T09:48:52.429Z"
   },
   {
    "duration": 8,
    "start_time": "2021-10-19T09:48:52.469Z"
   },
   {
    "duration": 8,
    "start_time": "2021-10-19T09:48:52.479Z"
   },
   {
    "duration": 11,
    "start_time": "2021-10-19T09:48:52.488Z"
   },
   {
    "duration": 16,
    "start_time": "2021-10-19T09:48:52.501Z"
   },
   {
    "duration": 17,
    "start_time": "2021-10-19T09:48:52.518Z"
   },
   {
    "duration": 56,
    "start_time": "2021-10-19T09:48:52.537Z"
   },
   {
    "duration": 704,
    "start_time": "2021-10-19T09:48:52.595Z"
   },
   {
    "duration": 4,
    "start_time": "2021-10-19T09:48:53.302Z"
   },
   {
    "duration": 23,
    "start_time": "2021-10-19T09:49:08.542Z"
   },
   {
    "duration": 14,
    "start_time": "2021-10-19T09:49:25.528Z"
   },
   {
    "duration": 63,
    "start_time": "2021-10-19T09:49:42.027Z"
   },
   {
    "duration": 10,
    "start_time": "2021-10-19T09:49:42.092Z"
   },
   {
    "duration": 6,
    "start_time": "2021-10-19T09:49:42.104Z"
   },
   {
    "duration": 9,
    "start_time": "2021-10-19T09:49:42.112Z"
   },
   {
    "duration": 7,
    "start_time": "2021-10-19T09:49:42.123Z"
   },
   {
    "duration": 8,
    "start_time": "2021-10-19T09:49:42.132Z"
   },
   {
    "duration": 27,
    "start_time": "2021-10-19T09:49:42.141Z"
   },
   {
    "duration": 9,
    "start_time": "2021-10-19T09:49:42.171Z"
   },
   {
    "duration": 9,
    "start_time": "2021-10-19T09:49:42.182Z"
   },
   {
    "duration": 12,
    "start_time": "2021-10-19T09:49:42.193Z"
   },
   {
    "duration": 10,
    "start_time": "2021-10-19T09:49:42.207Z"
   },
   {
    "duration": 10,
    "start_time": "2021-10-19T09:49:42.219Z"
   },
   {
    "duration": 37,
    "start_time": "2021-10-19T09:49:42.231Z"
   },
   {
    "duration": 13,
    "start_time": "2021-10-19T09:49:42.270Z"
   },
   {
    "duration": 14,
    "start_time": "2021-10-19T09:49:42.284Z"
   },
   {
    "duration": 18,
    "start_time": "2021-10-19T09:49:42.300Z"
   },
   {
    "duration": 11,
    "start_time": "2021-10-19T09:49:42.319Z"
   },
   {
    "duration": 48,
    "start_time": "2021-10-19T09:49:42.332Z"
   },
   {
    "duration": 35,
    "start_time": "2021-10-19T09:49:42.382Z"
   },
   {
    "duration": 731,
    "start_time": "2021-10-19T09:49:42.419Z"
   },
   {
    "duration": 13,
    "start_time": "2021-10-19T09:49:43.153Z"
   },
   {
    "duration": 62,
    "start_time": "2021-10-19T09:54:17.620Z"
   },
   {
    "duration": 11,
    "start_time": "2021-10-19T09:54:17.684Z"
   },
   {
    "duration": 19,
    "start_time": "2021-10-19T09:54:17.697Z"
   },
   {
    "duration": 30,
    "start_time": "2021-10-19T09:54:17.718Z"
   },
   {
    "duration": 16,
    "start_time": "2021-10-19T09:54:17.749Z"
   },
   {
    "duration": 20,
    "start_time": "2021-10-19T09:54:17.766Z"
   },
   {
    "duration": 19,
    "start_time": "2021-10-19T09:54:17.788Z"
   },
   {
    "duration": 15,
    "start_time": "2021-10-19T09:54:17.810Z"
   },
   {
    "duration": 25,
    "start_time": "2021-10-19T09:54:17.828Z"
   },
   {
    "duration": 26,
    "start_time": "2021-10-19T09:54:17.855Z"
   },
   {
    "duration": 31,
    "start_time": "2021-10-19T09:54:17.883Z"
   },
   {
    "duration": 20,
    "start_time": "2021-10-19T09:54:17.916Z"
   },
   {
    "duration": 20,
    "start_time": "2021-10-19T09:54:17.937Z"
   },
   {
    "duration": 28,
    "start_time": "2021-10-19T09:54:17.959Z"
   },
   {
    "duration": 15,
    "start_time": "2021-10-19T09:54:17.989Z"
   },
   {
    "duration": 18,
    "start_time": "2021-10-19T09:54:18.006Z"
   },
   {
    "duration": 11,
    "start_time": "2021-10-19T09:54:18.025Z"
   },
   {
    "duration": 25,
    "start_time": "2021-10-19T09:54:18.038Z"
   },
   {
    "duration": 33,
    "start_time": "2021-10-19T09:54:18.064Z"
   },
   {
    "duration": 701,
    "start_time": "2021-10-19T09:54:18.098Z"
   },
   {
    "duration": 4,
    "start_time": "2021-10-19T09:54:18.801Z"
   },
   {
    "duration": 20,
    "start_time": "2021-10-19T10:08:36.056Z"
   },
   {
    "duration": 58,
    "start_time": "2021-10-19T12:24:53.178Z"
   },
   {
    "duration": 10,
    "start_time": "2021-10-19T12:24:53.238Z"
   },
   {
    "duration": 28,
    "start_time": "2021-10-19T12:24:53.250Z"
   },
   {
    "duration": 5,
    "start_time": "2021-10-19T12:24:53.280Z"
   },
   {
    "duration": 9,
    "start_time": "2021-10-19T12:24:53.287Z"
   },
   {
    "duration": 8,
    "start_time": "2021-10-19T12:24:53.298Z"
   },
   {
    "duration": 6,
    "start_time": "2021-10-19T12:24:53.309Z"
   },
   {
    "duration": 9,
    "start_time": "2021-10-19T12:24:53.317Z"
   },
   {
    "duration": 39,
    "start_time": "2021-10-19T12:24:53.327Z"
   },
   {
    "duration": 8,
    "start_time": "2021-10-19T12:24:53.368Z"
   },
   {
    "duration": 13,
    "start_time": "2021-10-19T12:24:53.378Z"
   },
   {
    "duration": 20,
    "start_time": "2021-10-19T12:24:53.393Z"
   },
   {
    "duration": 14,
    "start_time": "2021-10-19T12:24:53.415Z"
   },
   {
    "duration": 17,
    "start_time": "2021-10-19T12:24:53.431Z"
   },
   {
    "duration": 35,
    "start_time": "2021-10-19T12:24:53.450Z"
   },
   {
    "duration": 3,
    "start_time": "2021-10-19T12:24:53.487Z"
   },
   {
    "duration": 7,
    "start_time": "2021-10-19T12:24:53.492Z"
   },
   {
    "duration": 21,
    "start_time": "2021-10-19T12:24:53.501Z"
   },
   {
    "duration": 51,
    "start_time": "2021-10-19T12:24:53.524Z"
   },
   {
    "duration": 705,
    "start_time": "2021-10-19T12:24:53.576Z"
   },
   {
    "duration": 2782,
    "start_time": "2021-10-19T12:24:54.284Z"
   },
   {
    "duration": 4,
    "start_time": "2021-10-19T12:26:31.736Z"
   },
   {
    "duration": 63,
    "start_time": "2021-10-19T12:36:23.636Z"
   },
   {
    "duration": 12,
    "start_time": "2021-10-19T12:36:23.702Z"
   },
   {
    "duration": 51,
    "start_time": "2021-10-19T12:36:23.716Z"
   },
   {
    "duration": 7,
    "start_time": "2021-10-19T12:36:23.770Z"
   },
   {
    "duration": 8,
    "start_time": "2021-10-19T12:36:23.779Z"
   },
   {
    "duration": 12,
    "start_time": "2021-10-19T12:36:23.789Z"
   },
   {
    "duration": 8,
    "start_time": "2021-10-19T12:36:23.803Z"
   },
   {
    "duration": 8,
    "start_time": "2021-10-19T12:36:23.814Z"
   },
   {
    "duration": 43,
    "start_time": "2021-10-19T12:36:23.824Z"
   },
   {
    "duration": 8,
    "start_time": "2021-10-19T12:36:23.869Z"
   },
   {
    "duration": 9,
    "start_time": "2021-10-19T12:36:23.879Z"
   },
   {
    "duration": 8,
    "start_time": "2021-10-19T12:36:23.890Z"
   },
   {
    "duration": 9,
    "start_time": "2021-10-19T12:36:23.900Z"
   },
   {
    "duration": 12,
    "start_time": "2021-10-19T12:36:23.910Z"
   },
   {
    "duration": 60,
    "start_time": "2021-10-19T12:36:23.924Z"
   },
   {
    "duration": 2,
    "start_time": "2021-10-19T12:36:23.986Z"
   },
   {
    "duration": 6,
    "start_time": "2021-10-19T12:36:23.989Z"
   },
   {
    "duration": 22,
    "start_time": "2021-10-19T12:36:23.996Z"
   },
   {
    "duration": 47,
    "start_time": "2021-10-19T12:36:24.020Z"
   },
   {
    "duration": 708,
    "start_time": "2021-10-19T12:36:24.069Z"
   },
   {
    "duration": 5,
    "start_time": "2021-10-19T12:36:24.779Z"
   },
   {
    "duration": 63,
    "start_time": "2021-10-19T12:43:09.138Z"
   },
   {
    "duration": 10,
    "start_time": "2021-10-19T12:43:09.203Z"
   },
   {
    "duration": 19,
    "start_time": "2021-10-19T12:43:09.214Z"
   },
   {
    "duration": 32,
    "start_time": "2021-10-19T12:43:09.235Z"
   },
   {
    "duration": 7,
    "start_time": "2021-10-19T12:43:09.269Z"
   },
   {
    "duration": 10,
    "start_time": "2021-10-19T12:43:09.278Z"
   },
   {
    "duration": 7,
    "start_time": "2021-10-19T12:43:09.290Z"
   },
   {
    "duration": 7,
    "start_time": "2021-10-19T12:43:09.300Z"
   },
   {
    "duration": 8,
    "start_time": "2021-10-19T12:43:09.309Z"
   },
   {
    "duration": 8,
    "start_time": "2021-10-19T12:43:09.319Z"
   },
   {
    "duration": 40,
    "start_time": "2021-10-19T12:43:09.329Z"
   },
   {
    "duration": 12,
    "start_time": "2021-10-19T12:43:09.395Z"
   },
   {
    "duration": 10,
    "start_time": "2021-10-19T12:43:09.409Z"
   },
   {
    "duration": 19,
    "start_time": "2021-10-19T12:43:09.420Z"
   },
   {
    "duration": 35,
    "start_time": "2021-10-19T12:43:09.442Z"
   },
   {
    "duration": 17,
    "start_time": "2021-10-19T12:43:09.479Z"
   },
   {
    "duration": 40,
    "start_time": "2021-10-19T12:43:09.498Z"
   },
   {
    "duration": 735,
    "start_time": "2021-10-19T12:43:09.539Z"
   },
   {
    "duration": 4,
    "start_time": "2021-10-19T12:43:10.276Z"
   },
   {
    "duration": -13,
    "start_time": "2021-10-19T12:47:47.388Z"
   },
   {
    "duration": -18,
    "start_time": "2021-10-19T12:47:47.394Z"
   },
   {
    "duration": -20,
    "start_time": "2021-10-19T12:47:47.397Z"
   },
   {
    "duration": -24,
    "start_time": "2021-10-19T12:47:47.402Z"
   },
   {
    "duration": -26,
    "start_time": "2021-10-19T12:47:47.405Z"
   },
   {
    "duration": -29,
    "start_time": "2021-10-19T12:47:47.409Z"
   },
   {
    "duration": -30,
    "start_time": "2021-10-19T12:47:47.411Z"
   },
   {
    "duration": -34,
    "start_time": "2021-10-19T12:47:47.416Z"
   },
   {
    "duration": -36,
    "start_time": "2021-10-19T12:47:47.419Z"
   },
   {
    "duration": -38,
    "start_time": "2021-10-19T12:47:47.422Z"
   },
   {
    "duration": -40,
    "start_time": "2021-10-19T12:47:47.425Z"
   },
   {
    "duration": -46,
    "start_time": "2021-10-19T12:47:47.431Z"
   },
   {
    "duration": -51,
    "start_time": "2021-10-19T12:47:47.437Z"
   },
   {
    "duration": -60,
    "start_time": "2021-10-19T12:47:47.447Z"
   },
   {
    "duration": -65,
    "start_time": "2021-10-19T12:47:47.453Z"
   },
   {
    "duration": -67,
    "start_time": "2021-10-19T12:47:47.456Z"
   },
   {
    "duration": -69,
    "start_time": "2021-10-19T12:47:47.459Z"
   },
   {
    "duration": -71,
    "start_time": "2021-10-19T12:47:47.462Z"
   },
   {
    "duration": -77,
    "start_time": "2021-10-19T12:47:47.469Z"
   },
   {
    "duration": 1386,
    "start_time": "2021-10-19T12:48:06.122Z"
   },
   {
    "duration": 627,
    "start_time": "2021-10-19T12:48:14.102Z"
   },
   {
    "duration": 15,
    "start_time": "2021-10-19T12:48:14.731Z"
   },
   {
    "duration": 23,
    "start_time": "2021-10-19T12:48:14.748Z"
   },
   {
    "duration": 6,
    "start_time": "2021-10-19T12:48:14.772Z"
   },
   {
    "duration": 21,
    "start_time": "2021-10-19T12:48:14.779Z"
   },
   {
    "duration": 16,
    "start_time": "2021-10-19T12:48:14.801Z"
   },
   {
    "duration": 26,
    "start_time": "2021-10-19T12:48:14.818Z"
   },
   {
    "duration": 23,
    "start_time": "2021-10-19T12:48:14.846Z"
   },
   {
    "duration": 29,
    "start_time": "2021-10-19T12:48:14.871Z"
   },
   {
    "duration": 10,
    "start_time": "2021-10-19T12:48:14.902Z"
   },
   {
    "duration": 14,
    "start_time": "2021-10-19T12:48:14.913Z"
   },
   {
    "duration": 15,
    "start_time": "2021-10-19T12:48:14.929Z"
   },
   {
    "duration": 15,
    "start_time": "2021-10-19T12:48:14.945Z"
   },
   {
    "duration": 16,
    "start_time": "2021-10-19T12:48:14.961Z"
   },
   {
    "duration": 23,
    "start_time": "2021-10-19T12:48:14.979Z"
   },
   {
    "duration": 37,
    "start_time": "2021-10-19T12:48:15.004Z"
   },
   {
    "duration": 22,
    "start_time": "2021-10-19T12:48:15.043Z"
   },
   {
    "duration": 696,
    "start_time": "2021-10-19T12:48:15.067Z"
   },
   {
    "duration": 4145,
    "start_time": "2021-10-19T12:48:15.766Z"
   },
   {
    "duration": 1271,
    "start_time": "2021-10-19T12:49:11.580Z"
   },
   {
    "duration": 62,
    "start_time": "2021-10-19T12:50:41.745Z"
   },
   {
    "duration": 11,
    "start_time": "2021-10-19T12:50:41.809Z"
   },
   {
    "duration": 42,
    "start_time": "2021-10-19T12:50:41.822Z"
   },
   {
    "duration": 7,
    "start_time": "2021-10-19T12:50:41.866Z"
   },
   {
    "duration": 9,
    "start_time": "2021-10-19T12:50:41.874Z"
   },
   {
    "duration": 7,
    "start_time": "2021-10-19T12:50:41.885Z"
   },
   {
    "duration": 7,
    "start_time": "2021-10-19T12:50:41.893Z"
   },
   {
    "duration": 7,
    "start_time": "2021-10-19T12:50:41.903Z"
   },
   {
    "duration": 7,
    "start_time": "2021-10-19T12:50:41.912Z"
   },
   {
    "duration": 47,
    "start_time": "2021-10-19T12:50:41.921Z"
   },
   {
    "duration": 9,
    "start_time": "2021-10-19T12:50:41.970Z"
   },
   {
    "duration": 9,
    "start_time": "2021-10-19T12:50:41.981Z"
   },
   {
    "duration": 15,
    "start_time": "2021-10-19T12:50:41.992Z"
   },
   {
    "duration": 9,
    "start_time": "2021-10-19T12:50:42.009Z"
   },
   {
    "duration": 23,
    "start_time": "2021-10-19T12:50:42.019Z"
   },
   {
    "duration": 17,
    "start_time": "2021-10-19T12:50:42.064Z"
   },
   {
    "duration": 9,
    "start_time": "2021-10-19T12:50:42.082Z"
   },
   {
    "duration": 650,
    "start_time": "2021-10-19T12:50:42.093Z"
   },
   {
    "duration": 2923,
    "start_time": "2021-10-19T12:50:42.745Z"
   },
   {
    "duration": 1125,
    "start_time": "2021-10-19T12:50:57.531Z"
   },
   {
    "duration": 1150,
    "start_time": "2021-10-19T12:51:09.586Z"
   },
   {
    "duration": 1344,
    "start_time": "2021-10-19T12:52:46.952Z"
   },
   {
    "duration": 1198,
    "start_time": "2021-10-19T12:52:56.727Z"
   },
   {
    "duration": 69,
    "start_time": "2021-10-19T12:53:03.821Z"
   },
   {
    "duration": 12,
    "start_time": "2021-10-19T12:53:03.893Z"
   },
   {
    "duration": 29,
    "start_time": "2021-10-19T12:53:03.907Z"
   },
   {
    "duration": 6,
    "start_time": "2021-10-19T12:53:03.938Z"
   },
   {
    "duration": 25,
    "start_time": "2021-10-19T12:53:03.946Z"
   },
   {
    "duration": 14,
    "start_time": "2021-10-19T12:53:03.974Z"
   },
   {
    "duration": 13,
    "start_time": "2021-10-19T12:53:03.990Z"
   },
   {
    "duration": 16,
    "start_time": "2021-10-19T12:53:04.005Z"
   },
   {
    "duration": 15,
    "start_time": "2021-10-19T12:53:04.023Z"
   },
   {
    "duration": 26,
    "start_time": "2021-10-19T12:53:04.040Z"
   },
   {
    "duration": 18,
    "start_time": "2021-10-19T12:53:04.068Z"
   },
   {
    "duration": 9,
    "start_time": "2021-10-19T12:53:04.089Z"
   },
   {
    "duration": 8,
    "start_time": "2021-10-19T12:53:04.100Z"
   },
   {
    "duration": 10,
    "start_time": "2021-10-19T12:53:04.110Z"
   },
   {
    "duration": 64,
    "start_time": "2021-10-19T12:53:04.122Z"
   },
   {
    "duration": 19,
    "start_time": "2021-10-19T12:53:04.188Z"
   },
   {
    "duration": 7,
    "start_time": "2021-10-19T12:53:04.209Z"
   },
   {
    "duration": 751,
    "start_time": "2021-10-19T12:53:04.217Z"
   },
   {
    "duration": 4536,
    "start_time": "2021-10-19T12:53:04.971Z"
   },
   {
    "duration": 1460,
    "start_time": "2021-10-19T12:53:20.775Z"
   },
   {
    "duration": 1445,
    "start_time": "2021-10-19T12:54:00.684Z"
   },
   {
    "duration": 64,
    "start_time": "2021-10-19T12:54:07.317Z"
   },
   {
    "duration": 9,
    "start_time": "2021-10-19T12:54:07.383Z"
   },
   {
    "duration": 20,
    "start_time": "2021-10-19T12:54:07.394Z"
   },
   {
    "duration": 6,
    "start_time": "2021-10-19T12:54:07.416Z"
   },
   {
    "duration": 9,
    "start_time": "2021-10-19T12:54:07.423Z"
   },
   {
    "duration": 41,
    "start_time": "2021-10-19T12:54:07.433Z"
   },
   {
    "duration": 9,
    "start_time": "2021-10-19T12:54:07.478Z"
   },
   {
    "duration": 7,
    "start_time": "2021-10-19T12:54:07.490Z"
   },
   {
    "duration": 12,
    "start_time": "2021-10-19T12:54:07.499Z"
   },
   {
    "duration": 12,
    "start_time": "2021-10-19T12:54:07.513Z"
   },
   {
    "duration": 42,
    "start_time": "2021-10-19T12:54:07.527Z"
   },
   {
    "duration": 13,
    "start_time": "2021-10-19T12:54:07.571Z"
   },
   {
    "duration": 7,
    "start_time": "2021-10-19T12:54:07.586Z"
   },
   {
    "duration": 11,
    "start_time": "2021-10-19T12:54:07.594Z"
   },
   {
    "duration": 21,
    "start_time": "2021-10-19T12:54:07.607Z"
   },
   {
    "duration": 51,
    "start_time": "2021-10-19T12:54:07.631Z"
   },
   {
    "duration": 20,
    "start_time": "2021-10-19T12:54:07.685Z"
   },
   {
    "duration": 719,
    "start_time": "2021-10-19T12:54:07.707Z"
   },
   {
    "duration": 3214,
    "start_time": "2021-10-19T12:54:08.428Z"
   },
   {
    "duration": 3314,
    "start_time": "2021-10-19T13:07:15.688Z"
   },
   {
    "duration": 1345,
    "start_time": "2021-10-19T13:14:18.934Z"
   },
   {
    "duration": 3342,
    "start_time": "2021-10-19T13:14:37.924Z"
   },
   {
    "duration": 6,
    "start_time": "2021-10-19T13:35:37.461Z"
   },
   {
    "duration": 6,
    "start_time": "2021-10-19T13:40:12.667Z"
   },
   {
    "duration": 60,
    "start_time": "2021-10-19T13:40:16.224Z"
   },
   {
    "duration": 9,
    "start_time": "2021-10-19T13:40:16.286Z"
   },
   {
    "duration": 37,
    "start_time": "2021-10-19T13:40:16.297Z"
   },
   {
    "duration": 23,
    "start_time": "2021-10-19T13:40:16.336Z"
   },
   {
    "duration": 49,
    "start_time": "2021-10-19T13:40:16.360Z"
   },
   {
    "duration": 15,
    "start_time": "2021-10-19T13:40:16.410Z"
   },
   {
    "duration": 19,
    "start_time": "2021-10-19T13:40:16.427Z"
   },
   {
    "duration": 15,
    "start_time": "2021-10-19T13:40:16.449Z"
   },
   {
    "duration": 14,
    "start_time": "2021-10-19T13:40:16.466Z"
   },
   {
    "duration": 26,
    "start_time": "2021-10-19T13:40:16.482Z"
   },
   {
    "duration": 18,
    "start_time": "2021-10-19T13:40:16.509Z"
   },
   {
    "duration": 12,
    "start_time": "2021-10-19T13:40:16.529Z"
   },
   {
    "duration": 13,
    "start_time": "2021-10-19T13:40:16.542Z"
   },
   {
    "duration": 20,
    "start_time": "2021-10-19T13:40:16.557Z"
   },
   {
    "duration": 26,
    "start_time": "2021-10-19T13:40:16.579Z"
   },
   {
    "duration": 18,
    "start_time": "2021-10-19T13:40:16.607Z"
   },
   {
    "duration": 23,
    "start_time": "2021-10-19T13:40:16.627Z"
   },
   {
    "duration": 656,
    "start_time": "2021-10-19T13:40:16.651Z"
   },
   {
    "duration": 8,
    "start_time": "2021-10-19T13:40:17.309Z"
   },
   {
    "duration": 61,
    "start_time": "2021-10-19T14:07:13.687Z"
   },
   {
    "duration": 11,
    "start_time": "2021-10-19T14:07:13.751Z"
   },
   {
    "duration": 21,
    "start_time": "2021-10-19T14:07:13.765Z"
   },
   {
    "duration": 8,
    "start_time": "2021-10-19T14:07:13.789Z"
   },
   {
    "duration": 7,
    "start_time": "2021-10-19T14:07:13.799Z"
   },
   {
    "duration": 7,
    "start_time": "2021-10-19T14:07:13.808Z"
   },
   {
    "duration": 7,
    "start_time": "2021-10-19T14:07:13.816Z"
   },
   {
    "duration": 10,
    "start_time": "2021-10-19T14:07:13.863Z"
   },
   {
    "duration": 9,
    "start_time": "2021-10-19T14:07:13.875Z"
   },
   {
    "duration": 8,
    "start_time": "2021-10-19T14:07:13.886Z"
   },
   {
    "duration": 9,
    "start_time": "2021-10-19T14:07:13.896Z"
   },
   {
    "duration": 12,
    "start_time": "2021-10-19T14:07:13.907Z"
   },
   {
    "duration": 9,
    "start_time": "2021-10-19T14:07:13.921Z"
   },
   {
    "duration": 36,
    "start_time": "2021-10-19T14:07:13.932Z"
   },
   {
    "duration": 22,
    "start_time": "2021-10-19T14:07:13.970Z"
   },
   {
    "duration": 19,
    "start_time": "2021-10-19T14:07:13.995Z"
   },
   {
    "duration": 47,
    "start_time": "2021-10-19T14:07:14.016Z"
   },
   {
    "duration": 667,
    "start_time": "2021-10-19T14:07:14.065Z"
   },
   {
    "duration": 784,
    "start_time": "2021-10-19T14:07:14.735Z"
   },
   {
    "duration": 75,
    "start_time": "2021-10-19T14:07:37.817Z"
   },
   {
    "duration": 9,
    "start_time": "2021-10-19T14:07:37.894Z"
   },
   {
    "duration": 41,
    "start_time": "2021-10-19T14:07:37.905Z"
   },
   {
    "duration": 11,
    "start_time": "2021-10-19T14:07:37.949Z"
   },
   {
    "duration": 15,
    "start_time": "2021-10-19T14:07:37.962Z"
   },
   {
    "duration": 33,
    "start_time": "2021-10-19T14:07:37.981Z"
   },
   {
    "duration": 30,
    "start_time": "2021-10-19T14:07:38.017Z"
   },
   {
    "duration": 15,
    "start_time": "2021-10-19T14:07:38.050Z"
   },
   {
    "duration": 9,
    "start_time": "2021-10-19T14:07:38.066Z"
   },
   {
    "duration": 9,
    "start_time": "2021-10-19T14:07:38.077Z"
   },
   {
    "duration": 8,
    "start_time": "2021-10-19T14:07:38.088Z"
   },
   {
    "duration": 10,
    "start_time": "2021-10-19T14:07:38.098Z"
   },
   {
    "duration": 7,
    "start_time": "2021-10-19T14:07:38.110Z"
   },
   {
    "duration": 48,
    "start_time": "2021-10-19T14:07:38.119Z"
   },
   {
    "duration": 21,
    "start_time": "2021-10-19T14:07:38.169Z"
   },
   {
    "duration": 19,
    "start_time": "2021-10-19T14:07:38.192Z"
   },
   {
    "duration": 18,
    "start_time": "2021-10-19T14:07:38.212Z"
   },
   {
    "duration": 708,
    "start_time": "2021-10-19T14:07:38.233Z"
   },
   {
    "duration": 3031,
    "start_time": "2021-10-19T14:07:38.944Z"
   },
   {
    "duration": 667,
    "start_time": "2021-10-19T14:07:53.778Z"
   },
   {
    "duration": 16,
    "start_time": "2021-10-19T14:07:54.449Z"
   },
   {
    "duration": 20,
    "start_time": "2021-10-19T14:07:54.467Z"
   },
   {
    "duration": 6,
    "start_time": "2021-10-19T14:07:54.489Z"
   },
   {
    "duration": 9,
    "start_time": "2021-10-19T14:07:54.497Z"
   },
   {
    "duration": 9,
    "start_time": "2021-10-19T14:07:54.508Z"
   },
   {
    "duration": 7,
    "start_time": "2021-10-19T14:07:54.520Z"
   },
   {
    "duration": 38,
    "start_time": "2021-10-19T14:07:54.529Z"
   },
   {
    "duration": 11,
    "start_time": "2021-10-19T14:07:54.568Z"
   },
   {
    "duration": 8,
    "start_time": "2021-10-19T14:07:54.581Z"
   },
   {
    "duration": 8,
    "start_time": "2021-10-19T14:07:54.591Z"
   },
   {
    "duration": 10,
    "start_time": "2021-10-19T14:07:54.600Z"
   },
   {
    "duration": 8,
    "start_time": "2021-10-19T14:07:54.612Z"
   },
   {
    "duration": 10,
    "start_time": "2021-10-19T14:07:54.621Z"
   },
   {
    "duration": 49,
    "start_time": "2021-10-19T14:07:54.632Z"
   },
   {
    "duration": 16,
    "start_time": "2021-10-19T14:07:54.683Z"
   },
   {
    "duration": 9,
    "start_time": "2021-10-19T14:07:54.701Z"
   },
   {
    "duration": 723,
    "start_time": "2021-10-19T14:07:54.712Z"
   },
   {
    "duration": 2992,
    "start_time": "2021-10-19T14:07:55.438Z"
   },
   {
    "duration": 1334,
    "start_time": "2021-10-19T14:08:02.671Z"
   },
   {
    "duration": 1424,
    "start_time": "2021-10-19T14:32:14.368Z"
   },
   {
    "duration": 1445,
    "start_time": "2021-10-19T14:43:28.542Z"
   },
   {
    "duration": 1350,
    "start_time": "2021-10-19T14:44:36.260Z"
   },
   {
    "duration": 1312,
    "start_time": "2021-10-19T14:47:03.286Z"
   },
   {
    "duration": 1229,
    "start_time": "2021-10-19T14:47:07.480Z"
   },
   {
    "duration": 1248,
    "start_time": "2021-10-19T14:47:55.550Z"
   },
   {
    "duration": 1268,
    "start_time": "2021-10-19T14:49:05.088Z"
   },
   {
    "duration": 3,
    "start_time": "2021-10-19T14:49:38.039Z"
   },
   {
    "duration": 3,
    "start_time": "2021-10-19T14:49:41.619Z"
   },
   {
    "duration": 63,
    "start_time": "2021-10-19T14:49:44.856Z"
   },
   {
    "duration": 11,
    "start_time": "2021-10-19T14:49:44.921Z"
   },
   {
    "duration": 42,
    "start_time": "2021-10-19T14:49:44.934Z"
   },
   {
    "duration": 6,
    "start_time": "2021-10-19T14:49:44.978Z"
   },
   {
    "duration": 8,
    "start_time": "2021-10-19T14:49:44.985Z"
   },
   {
    "duration": 11,
    "start_time": "2021-10-19T14:49:44.995Z"
   },
   {
    "duration": 29,
    "start_time": "2021-10-19T14:49:45.009Z"
   },
   {
    "duration": 21,
    "start_time": "2021-10-19T14:49:45.041Z"
   },
   {
    "duration": 16,
    "start_time": "2021-10-19T14:49:45.064Z"
   },
   {
    "duration": 22,
    "start_time": "2021-10-19T14:49:45.082Z"
   },
   {
    "duration": 14,
    "start_time": "2021-10-19T14:49:45.106Z"
   },
   {
    "duration": 19,
    "start_time": "2021-10-19T14:49:45.121Z"
   },
   {
    "duration": 15,
    "start_time": "2021-10-19T14:49:45.142Z"
   },
   {
    "duration": 26,
    "start_time": "2021-10-19T14:49:45.159Z"
   },
   {
    "duration": 28,
    "start_time": "2021-10-19T14:49:45.187Z"
   },
   {
    "duration": 19,
    "start_time": "2021-10-19T14:49:45.217Z"
   },
   {
    "duration": 17,
    "start_time": "2021-10-19T14:49:45.238Z"
   },
   {
    "duration": 715,
    "start_time": "2021-10-19T14:49:45.257Z"
   },
   {
    "duration": 4,
    "start_time": "2021-10-19T14:49:45.974Z"
   },
   {
    "duration": 4,
    "start_time": "2021-10-19T14:52:35.830Z"
   },
   {
    "duration": 4,
    "start_time": "2021-10-19T14:53:19.359Z"
   },
   {
    "duration": 4,
    "start_time": "2021-10-19T14:54:05.887Z"
   },
   {
    "duration": 5,
    "start_time": "2021-10-19T14:54:16.373Z"
   },
   {
    "duration": 18,
    "start_time": "2021-10-19T15:02:41.691Z"
   },
   {
    "duration": 6,
    "start_time": "2021-10-19T15:03:17.151Z"
   },
   {
    "duration": 88,
    "start_time": "2021-10-19T15:06:54.045Z"
   },
   {
    "duration": 561,
    "start_time": "2021-10-19T15:07:36.019Z"
   },
   {
    "duration": 424,
    "start_time": "2021-10-19T15:08:07.716Z"
   },
   {
    "duration": 435,
    "start_time": "2021-10-19T15:08:16.992Z"
   },
   {
    "duration": 410,
    "start_time": "2021-10-19T15:08:22.461Z"
   },
   {
    "duration": 467,
    "start_time": "2021-10-19T15:08:41.165Z"
   },
   {
    "duration": 494,
    "start_time": "2021-10-19T15:09:13.294Z"
   },
   {
    "duration": 426,
    "start_time": "2021-10-19T15:09:43.449Z"
   },
   {
    "duration": 434,
    "start_time": "2021-10-19T15:09:48.082Z"
   },
   {
    "duration": 4,
    "start_time": "2021-10-19T15:12:56.321Z"
   },
   {
    "duration": 2,
    "start_time": "2021-10-19T15:27:06.196Z"
   },
   {
    "duration": 598,
    "start_time": "2021-10-19T19:05:23.932Z"
   },
   {
    "duration": 857,
    "start_time": "2021-10-19T19:05:38.136Z"
   },
   {
    "duration": 539,
    "start_time": "2021-10-19T19:05:45.636Z"
   },
   {
    "duration": 23,
    "start_time": "2021-10-19T19:05:46.178Z"
   },
   {
    "duration": 29,
    "start_time": "2021-10-19T19:05:46.203Z"
   },
   {
    "duration": 7,
    "start_time": "2021-10-19T19:05:46.235Z"
   },
   {
    "duration": 9,
    "start_time": "2021-10-19T19:05:46.264Z"
   },
   {
    "duration": 11,
    "start_time": "2021-10-19T19:05:46.275Z"
   },
   {
    "duration": 10,
    "start_time": "2021-10-19T19:05:46.288Z"
   },
   {
    "duration": 8,
    "start_time": "2021-10-19T19:05:46.301Z"
   },
   {
    "duration": 9,
    "start_time": "2021-10-19T19:05:46.310Z"
   },
   {
    "duration": 47,
    "start_time": "2021-10-19T19:05:46.320Z"
   },
   {
    "duration": 11,
    "start_time": "2021-10-19T19:05:46.369Z"
   },
   {
    "duration": 9,
    "start_time": "2021-10-19T19:05:46.381Z"
   },
   {
    "duration": 7,
    "start_time": "2021-10-19T19:05:46.391Z"
   },
   {
    "duration": 9,
    "start_time": "2021-10-19T19:05:46.400Z"
   },
   {
    "duration": 21,
    "start_time": "2021-10-19T19:05:46.411Z"
   },
   {
    "duration": 18,
    "start_time": "2021-10-19T19:05:46.463Z"
   },
   {
    "duration": 8,
    "start_time": "2021-10-19T19:05:46.483Z"
   },
   {
    "duration": 691,
    "start_time": "2021-10-19T19:05:46.493Z"
   },
   {
    "duration": 3,
    "start_time": "2021-10-19T19:05:47.186Z"
   },
   {
    "duration": 258,
    "start_time": "2021-10-19T19:05:47.191Z"
   },
   {
    "duration": -644,
    "start_time": "2021-10-19T19:05:48.095Z"
   },
   {
    "duration": 16,
    "start_time": "2021-10-19T19:05:57.817Z"
   },
   {
    "duration": 251,
    "start_time": "2021-10-19T19:07:46.220Z"
   },
   {
    "duration": 6,
    "start_time": "2021-10-19T19:16:41.295Z"
   },
   {
    "duration": 9,
    "start_time": "2021-10-19T19:17:18.238Z"
   },
   {
    "duration": 9,
    "start_time": "2021-10-19T19:18:28.586Z"
   },
   {
    "duration": 13,
    "start_time": "2021-10-19T19:21:35.945Z"
   },
   {
    "duration": 20,
    "start_time": "2021-10-19T19:24:23.340Z"
   },
   {
    "duration": 16,
    "start_time": "2021-10-19T19:24:30.933Z"
   },
   {
    "duration": 127,
    "start_time": "2021-10-19T19:26:21.319Z"
   },
   {
    "duration": 626,
    "start_time": "2021-10-19T19:26:27.137Z"
   },
   {
    "duration": 9,
    "start_time": "2021-10-19T19:26:30.265Z"
   },
   {
    "duration": 60,
    "start_time": "2021-10-19T19:26:33.973Z"
   },
   {
    "duration": 12,
    "start_time": "2021-10-19T19:26:34.035Z"
   },
   {
    "duration": 27,
    "start_time": "2021-10-19T19:26:34.049Z"
   },
   {
    "duration": 6,
    "start_time": "2021-10-19T19:26:34.077Z"
   },
   {
    "duration": 11,
    "start_time": "2021-10-19T19:26:34.085Z"
   },
   {
    "duration": 20,
    "start_time": "2021-10-19T19:26:34.098Z"
   },
   {
    "duration": 18,
    "start_time": "2021-10-19T19:26:34.120Z"
   },
   {
    "duration": 7,
    "start_time": "2021-10-19T19:26:34.141Z"
   },
   {
    "duration": 25,
    "start_time": "2021-10-19T19:26:34.150Z"
   },
   {
    "duration": 23,
    "start_time": "2021-10-19T19:26:34.177Z"
   },
   {
    "duration": 25,
    "start_time": "2021-10-19T19:26:34.202Z"
   },
   {
    "duration": 31,
    "start_time": "2021-10-19T19:26:34.229Z"
   },
   {
    "duration": 30,
    "start_time": "2021-10-19T19:26:34.262Z"
   },
   {
    "duration": 20,
    "start_time": "2021-10-19T19:26:34.293Z"
   },
   {
    "duration": 32,
    "start_time": "2021-10-19T19:26:34.315Z"
   },
   {
    "duration": 16,
    "start_time": "2021-10-19T19:26:34.348Z"
   },
   {
    "duration": 34,
    "start_time": "2021-10-19T19:26:34.365Z"
   },
   {
    "duration": 686,
    "start_time": "2021-10-19T19:26:34.400Z"
   },
   {
    "duration": 3,
    "start_time": "2021-10-19T19:26:35.088Z"
   },
   {
    "duration": 17,
    "start_time": "2021-10-19T19:26:35.093Z"
   },
   {
    "duration": 21,
    "start_time": "2021-10-19T19:26:35.112Z"
   },
   {
    "duration": 15,
    "start_time": "2021-10-19T19:26:35.135Z"
   },
   {
    "duration": 8,
    "start_time": "2021-10-19T19:26:44.751Z"
   },
   {
    "duration": 2327,
    "start_time": "2021-10-19T19:27:26.317Z"
   },
   {
    "duration": 64,
    "start_time": "2021-10-19T19:27:35.712Z"
   },
   {
    "duration": 11,
    "start_time": "2021-10-19T19:27:35.778Z"
   },
   {
    "duration": 21,
    "start_time": "2021-10-19T19:27:35.791Z"
   },
   {
    "duration": 6,
    "start_time": "2021-10-19T19:27:35.814Z"
   },
   {
    "duration": 9,
    "start_time": "2021-10-19T19:27:35.822Z"
   },
   {
    "duration": 31,
    "start_time": "2021-10-19T19:27:35.833Z"
   },
   {
    "duration": 6,
    "start_time": "2021-10-19T19:27:35.866Z"
   },
   {
    "duration": 12,
    "start_time": "2021-10-19T19:27:35.874Z"
   },
   {
    "duration": 13,
    "start_time": "2021-10-19T19:27:35.888Z"
   },
   {
    "duration": 17,
    "start_time": "2021-10-19T19:27:35.903Z"
   },
   {
    "duration": 17,
    "start_time": "2021-10-19T19:27:35.921Z"
   },
   {
    "duration": 19,
    "start_time": "2021-10-19T19:27:35.940Z"
   },
   {
    "duration": 15,
    "start_time": "2021-10-19T19:27:35.963Z"
   },
   {
    "duration": 28,
    "start_time": "2021-10-19T19:27:35.980Z"
   },
   {
    "duration": 22,
    "start_time": "2021-10-19T19:27:36.010Z"
   },
   {
    "duration": 18,
    "start_time": "2021-10-19T19:27:36.035Z"
   },
   {
    "duration": 32,
    "start_time": "2021-10-19T19:27:36.055Z"
   },
   {
    "duration": 694,
    "start_time": "2021-10-19T19:27:36.089Z"
   },
   {
    "duration": 2,
    "start_time": "2021-10-19T19:27:36.785Z"
   },
   {
    "duration": 2312,
    "start_time": "2021-10-19T19:27:36.789Z"
   },
   {
    "duration": 3,
    "start_time": "2021-10-19T19:27:39.102Z"
   },
   {
    "duration": 7,
    "start_time": "2021-10-19T19:27:39.106Z"
   },
   {
    "duration": 915,
    "start_time": "2021-10-19T19:27:49.876Z"
   },
   {
    "duration": 15,
    "start_time": "2021-10-19T19:27:50.794Z"
   },
   {
    "duration": 20,
    "start_time": "2021-10-19T19:27:50.811Z"
   },
   {
    "duration": 6,
    "start_time": "2021-10-19T19:27:50.832Z"
   },
   {
    "duration": 28,
    "start_time": "2021-10-19T19:27:50.840Z"
   },
   {
    "duration": 9,
    "start_time": "2021-10-19T19:27:50.869Z"
   },
   {
    "duration": 8,
    "start_time": "2021-10-19T19:27:50.880Z"
   },
   {
    "duration": 14,
    "start_time": "2021-10-19T19:27:50.890Z"
   },
   {
    "duration": 10,
    "start_time": "2021-10-19T19:27:50.908Z"
   },
   {
    "duration": 12,
    "start_time": "2021-10-19T19:27:50.920Z"
   },
   {
    "duration": 37,
    "start_time": "2021-10-19T19:27:50.935Z"
   },
   {
    "duration": 16,
    "start_time": "2021-10-19T19:27:50.975Z"
   },
   {
    "duration": 9,
    "start_time": "2021-10-19T19:27:50.993Z"
   },
   {
    "duration": 11,
    "start_time": "2021-10-19T19:27:51.004Z"
   },
   {
    "duration": 22,
    "start_time": "2021-10-19T19:27:51.017Z"
   },
   {
    "duration": 37,
    "start_time": "2021-10-19T19:27:51.041Z"
   },
   {
    "duration": 8,
    "start_time": "2021-10-19T19:27:51.080Z"
   },
   {
    "duration": 682,
    "start_time": "2021-10-19T19:27:51.090Z"
   },
   {
    "duration": 4,
    "start_time": "2021-10-19T19:27:51.774Z"
   },
   {
    "duration": 2973,
    "start_time": "2021-10-19T19:27:51.780Z"
   },
   {
    "duration": 2,
    "start_time": "2021-10-19T19:27:54.755Z"
   },
   {
    "duration": 8,
    "start_time": "2021-10-19T19:27:54.759Z"
   },
   {
    "duration": 1111,
    "start_time": "2021-10-19T19:29:27.704Z"
   },
   {
    "duration": 65,
    "start_time": "2021-10-19T19:29:31.257Z"
   },
   {
    "duration": 11,
    "start_time": "2021-10-19T19:29:31.324Z"
   },
   {
    "duration": 49,
    "start_time": "2021-10-19T19:29:31.337Z"
   },
   {
    "duration": 6,
    "start_time": "2021-10-19T19:29:31.388Z"
   },
   {
    "duration": 14,
    "start_time": "2021-10-19T19:29:31.396Z"
   },
   {
    "duration": 13,
    "start_time": "2021-10-19T19:29:31.412Z"
   },
   {
    "duration": 9,
    "start_time": "2021-10-19T19:29:31.427Z"
   },
   {
    "duration": 33,
    "start_time": "2021-10-19T19:29:31.439Z"
   },
   {
    "duration": 9,
    "start_time": "2021-10-19T19:29:31.476Z"
   },
   {
    "duration": 10,
    "start_time": "2021-10-19T19:29:31.487Z"
   },
   {
    "duration": 12,
    "start_time": "2021-10-19T19:29:31.499Z"
   },
   {
    "duration": 16,
    "start_time": "2021-10-19T19:29:31.513Z"
   },
   {
    "duration": 11,
    "start_time": "2021-10-19T19:29:31.530Z"
   },
   {
    "duration": 31,
    "start_time": "2021-10-19T19:29:31.543Z"
   },
   {
    "duration": 22,
    "start_time": "2021-10-19T19:29:31.576Z"
   },
   {
    "duration": 18,
    "start_time": "2021-10-19T19:29:31.600Z"
   },
   {
    "duration": 61,
    "start_time": "2021-10-19T19:29:31.620Z"
   },
   {
    "duration": 711,
    "start_time": "2021-10-19T19:29:31.683Z"
   },
   {
    "duration": 3,
    "start_time": "2021-10-19T19:29:32.396Z"
   },
   {
    "duration": 928,
    "start_time": "2021-10-19T19:29:32.401Z"
   },
   {
    "duration": 3,
    "start_time": "2021-10-19T19:29:33.331Z"
   },
   {
    "duration": 11,
    "start_time": "2021-10-19T19:29:33.336Z"
   },
   {
    "duration": 784,
    "start_time": "2021-10-19T19:29:45.885Z"
   },
   {
    "duration": 24,
    "start_time": "2021-10-19T19:29:46.676Z"
   },
   {
    "duration": 20,
    "start_time": "2021-10-19T19:29:46.702Z"
   },
   {
    "duration": 5,
    "start_time": "2021-10-19T19:29:46.724Z"
   },
   {
    "duration": 10,
    "start_time": "2021-10-19T19:29:46.731Z"
   },
   {
    "duration": 35,
    "start_time": "2021-10-19T19:29:46.743Z"
   },
   {
    "duration": 7,
    "start_time": "2021-10-19T19:29:46.781Z"
   },
   {
    "duration": 7,
    "start_time": "2021-10-19T19:29:46.791Z"
   },
   {
    "duration": 11,
    "start_time": "2021-10-19T19:29:46.800Z"
   },
   {
    "duration": 10,
    "start_time": "2021-10-19T19:29:46.812Z"
   },
   {
    "duration": 47,
    "start_time": "2021-10-19T19:29:46.824Z"
   },
   {
    "duration": 10,
    "start_time": "2021-10-19T19:29:46.874Z"
   },
   {
    "duration": 14,
    "start_time": "2021-10-19T19:29:46.885Z"
   },
   {
    "duration": 9,
    "start_time": "2021-10-19T19:29:46.901Z"
   },
   {
    "duration": 25,
    "start_time": "2021-10-19T19:29:46.912Z"
   },
   {
    "duration": 42,
    "start_time": "2021-10-19T19:29:46.939Z"
   },
   {
    "duration": 11,
    "start_time": "2021-10-19T19:29:46.983Z"
   },
   {
    "duration": 747,
    "start_time": "2021-10-19T19:29:46.996Z"
   },
   {
    "duration": 3,
    "start_time": "2021-10-19T19:29:47.746Z"
   },
   {
    "duration": 1635,
    "start_time": "2021-10-19T19:29:47.751Z"
   },
   {
    "duration": 2,
    "start_time": "2021-10-19T19:29:49.388Z"
   },
   {
    "duration": 8,
    "start_time": "2021-10-19T19:29:49.392Z"
   },
   {
    "duration": 1005,
    "start_time": "2021-10-19T19:32:25.117Z"
   },
   {
    "duration": 994,
    "start_time": "2021-10-19T19:32:54.920Z"
   },
   {
    "duration": 1048,
    "start_time": "2021-10-19T19:33:10.593Z"
   },
   {
    "duration": 1416,
    "start_time": "2021-10-19T19:45:53.269Z"
   },
   {
    "duration": 385,
    "start_time": "2021-10-20T09:11:16.473Z"
   },
   {
    "duration": 708,
    "start_time": "2021-10-20T09:11:26.674Z"
   },
   {
    "duration": 17,
    "start_time": "2021-10-20T09:11:27.384Z"
   },
   {
    "duration": 22,
    "start_time": "2021-10-20T09:11:27.403Z"
   },
   {
    "duration": 6,
    "start_time": "2021-10-20T09:11:27.428Z"
   },
   {
    "duration": 7,
    "start_time": "2021-10-20T09:11:27.436Z"
   },
   {
    "duration": 38,
    "start_time": "2021-10-20T09:11:27.445Z"
   },
   {
    "duration": 7,
    "start_time": "2021-10-20T09:11:27.486Z"
   },
   {
    "duration": 15,
    "start_time": "2021-10-20T09:11:27.496Z"
   },
   {
    "duration": 8,
    "start_time": "2021-10-20T09:11:27.514Z"
   },
   {
    "duration": 22,
    "start_time": "2021-10-20T09:11:27.523Z"
   },
   {
    "duration": 13,
    "start_time": "2021-10-20T09:11:27.547Z"
   },
   {
    "duration": 10,
    "start_time": "2021-10-20T09:11:27.562Z"
   },
   {
    "duration": 11,
    "start_time": "2021-10-20T09:11:27.573Z"
   },
   {
    "duration": 8,
    "start_time": "2021-10-20T09:11:27.586Z"
   },
   {
    "duration": 17,
    "start_time": "2021-10-20T09:11:27.596Z"
   },
   {
    "duration": 14,
    "start_time": "2021-10-20T09:11:27.615Z"
   },
   {
    "duration": 11,
    "start_time": "2021-10-20T09:11:27.631Z"
   },
   {
    "duration": 704,
    "start_time": "2021-10-20T09:11:27.643Z"
   },
   {
    "duration": 3,
    "start_time": "2021-10-20T09:11:28.349Z"
   },
   {
    "duration": 1996,
    "start_time": "2021-10-20T09:11:28.353Z"
   },
   {
    "duration": 2,
    "start_time": "2021-10-20T09:11:30.351Z"
   },
   {
    "duration": 15,
    "start_time": "2021-10-20T09:11:30.354Z"
   },
   {
    "duration": 59,
    "start_time": "2021-10-20T11:12:11.072Z"
   },
   {
    "duration": 9,
    "start_time": "2021-10-20T11:12:11.133Z"
   },
   {
    "duration": 33,
    "start_time": "2021-10-20T11:12:11.144Z"
   },
   {
    "duration": 6,
    "start_time": "2021-10-20T11:12:11.179Z"
   },
   {
    "duration": 7,
    "start_time": "2021-10-20T11:12:11.186Z"
   },
   {
    "duration": 7,
    "start_time": "2021-10-20T11:12:11.195Z"
   },
   {
    "duration": 9,
    "start_time": "2021-10-20T11:12:11.203Z"
   },
   {
    "duration": 7,
    "start_time": "2021-10-20T11:12:11.214Z"
   },
   {
    "duration": 7,
    "start_time": "2021-10-20T11:12:11.223Z"
   },
   {
    "duration": 46,
    "start_time": "2021-10-20T11:12:11.232Z"
   },
   {
    "duration": 7,
    "start_time": "2021-10-20T11:12:11.280Z"
   },
   {
    "duration": 11,
    "start_time": "2021-10-20T11:12:11.288Z"
   },
   {
    "duration": 9,
    "start_time": "2021-10-20T11:12:11.301Z"
   },
   {
    "duration": 9,
    "start_time": "2021-10-20T11:12:11.312Z"
   },
   {
    "duration": 20,
    "start_time": "2021-10-20T11:12:11.323Z"
   },
   {
    "duration": 40,
    "start_time": "2021-10-20T11:12:11.344Z"
   },
   {
    "duration": 23,
    "start_time": "2021-10-20T11:12:11.386Z"
   },
   {
    "duration": 658,
    "start_time": "2021-10-20T11:12:11.411Z"
   },
   {
    "duration": 2674,
    "start_time": "2021-10-20T11:12:12.072Z"
   },
   {
    "duration": 2,
    "start_time": "2021-10-20T11:12:14.748Z"
   },
   {
    "duration": 8,
    "start_time": "2021-10-20T11:12:14.751Z"
   },
   {
    "duration": 15,
    "start_time": "2021-10-20T11:12:14.761Z"
   },
   {
    "duration": 2,
    "start_time": "2021-10-20T11:12:14.779Z"
   },
   {
    "duration": 1124,
    "start_time": "2021-10-20T11:12:49.114Z"
   },
   {
    "duration": 1147,
    "start_time": "2021-10-20T11:20:24.054Z"
   },
   {
    "duration": 1216,
    "start_time": "2021-10-20T11:20:54.107Z"
   },
   {
    "duration": 1260,
    "start_time": "2021-10-20T11:21:06.544Z"
   },
   {
    "duration": 881,
    "start_time": "2021-10-20T18:20:45.900Z"
   },
   {
    "duration": 21,
    "start_time": "2021-10-20T18:20:46.784Z"
   },
   {
    "duration": 27,
    "start_time": "2021-10-20T18:20:46.808Z"
   },
   {
    "duration": 12,
    "start_time": "2021-10-20T18:20:46.839Z"
   },
   {
    "duration": 11,
    "start_time": "2021-10-20T18:20:46.854Z"
   },
   {
    "duration": 54,
    "start_time": "2021-10-20T18:20:46.868Z"
   },
   {
    "duration": 12,
    "start_time": "2021-10-20T18:20:46.925Z"
   },
   {
    "duration": 15,
    "start_time": "2021-10-20T18:20:46.942Z"
   },
   {
    "duration": 44,
    "start_time": "2021-10-20T18:20:46.961Z"
   },
   {
    "duration": 14,
    "start_time": "2021-10-20T18:20:47.008Z"
   },
   {
    "duration": 16,
    "start_time": "2021-10-20T18:20:47.025Z"
   },
   {
    "duration": 15,
    "start_time": "2021-10-20T18:20:47.044Z"
   },
   {
    "duration": 10,
    "start_time": "2021-10-20T18:20:47.102Z"
   },
   {
    "duration": 11,
    "start_time": "2021-10-20T18:20:47.115Z"
   },
   {
    "duration": 32,
    "start_time": "2021-10-20T18:20:47.128Z"
   },
   {
    "duration": 53,
    "start_time": "2021-10-20T18:20:47.163Z"
   },
   {
    "duration": 11,
    "start_time": "2021-10-20T18:20:47.218Z"
   },
   {
    "duration": 1015,
    "start_time": "2021-10-20T18:20:47.231Z"
   },
   {
    "duration": 3819,
    "start_time": "2021-10-20T18:20:48.249Z"
   },
   {
    "duration": 3,
    "start_time": "2021-10-20T18:20:52.070Z"
   },
   {
    "duration": 24,
    "start_time": "2021-10-20T18:20:52.076Z"
   },
   {
    "duration": 14,
    "start_time": "2021-10-20T18:20:52.103Z"
   },
   {
    "duration": 6,
    "start_time": "2021-10-20T18:20:52.122Z"
   },
   {
    "duration": 26,
    "start_time": "2021-10-20T18:21:36.696Z"
   },
   {
    "duration": 6,
    "start_time": "2021-10-20T18:24:31.251Z"
   },
   {
    "duration": 3512,
    "start_time": "2021-10-20T18:25:56.263Z"
   },
   {
    "duration": 3790,
    "start_time": "2021-10-20T18:26:12.779Z"
   },
   {
    "duration": 3505,
    "start_time": "2021-10-20T18:28:09.084Z"
   },
   {
    "duration": 171,
    "start_time": "2021-10-20T18:29:25.311Z"
   },
   {
    "duration": 3667,
    "start_time": "2021-10-20T18:59:45.009Z"
   },
   {
    "duration": 3653,
    "start_time": "2021-10-20T19:00:21.954Z"
   },
   {
    "duration": 114,
    "start_time": "2021-10-20T19:01:27.699Z"
   },
   {
    "duration": 3725,
    "start_time": "2021-10-20T19:01:40.477Z"
   },
   {
    "duration": 112,
    "start_time": "2021-10-20T19:02:08.807Z"
   },
   {
    "duration": 119,
    "start_time": "2021-10-20T19:02:19.679Z"
   },
   {
    "duration": 1637,
    "start_time": "2021-10-20T19:04:41.638Z"
   },
   {
    "duration": 4277,
    "start_time": "2021-10-20T19:06:00.338Z"
   },
   {
    "duration": 1589,
    "start_time": "2021-10-20T19:07:20.675Z"
   },
   {
    "duration": 1547,
    "start_time": "2021-10-20T19:11:37.036Z"
   },
   {
    "duration": 3759,
    "start_time": "2021-10-20T19:12:15.474Z"
   },
   {
    "duration": 3703,
    "start_time": "2021-10-20T19:15:08.061Z"
   },
   {
    "duration": 3920,
    "start_time": "2021-10-20T19:27:11.558Z"
   },
   {
    "duration": 461,
    "start_time": "2021-10-20T19:38:17.851Z"
   },
   {
    "duration": 369,
    "start_time": "2021-10-20T19:38:30.554Z"
   },
   {
    "duration": 4159,
    "start_time": "2021-10-20T19:38:38.303Z"
   },
   {
    "duration": 3685,
    "start_time": "2021-10-20T19:40:50.187Z"
   },
   {
    "duration": 3515,
    "start_time": "2021-10-20T19:41:05.334Z"
   },
   {
    "duration": 3870,
    "start_time": "2021-10-20T19:41:53.585Z"
   },
   {
    "duration": 3872,
    "start_time": "2021-10-20T19:44:19.586Z"
   },
   {
    "duration": 3943,
    "start_time": "2021-10-20T19:51:43.369Z"
   },
   {
    "duration": 3665,
    "start_time": "2021-10-20T19:52:09.205Z"
   },
   {
    "duration": 3600,
    "start_time": "2021-10-20T19:52:37.729Z"
   },
   {
    "duration": 3579,
    "start_time": "2021-10-20T19:53:30.747Z"
   },
   {
    "duration": 3543,
    "start_time": "2021-10-20T19:54:19.273Z"
   },
   {
    "duration": 3,
    "start_time": "2021-10-20T20:03:39.381Z"
   },
   {
    "duration": 1703,
    "start_time": "2021-10-20T20:23:41.619Z"
   },
   {
    "duration": 1509,
    "start_time": "2021-10-20T20:23:44.369Z"
   },
   {
    "duration": 1607,
    "start_time": "2021-10-20T20:24:57.193Z"
   },
   {
    "duration": 3523,
    "start_time": "2021-10-20T20:25:55.139Z"
   },
   {
    "duration": 846,
    "start_time": "2021-10-20T20:40:48.946Z"
   },
   {
    "duration": 23,
    "start_time": "2021-10-20T20:40:49.795Z"
   },
   {
    "duration": 27,
    "start_time": "2021-10-20T20:40:49.822Z"
   },
   {
    "duration": 8,
    "start_time": "2021-10-20T20:40:49.852Z"
   },
   {
    "duration": 45,
    "start_time": "2021-10-20T20:40:49.862Z"
   },
   {
    "duration": 10,
    "start_time": "2021-10-20T20:40:49.909Z"
   },
   {
    "duration": 9,
    "start_time": "2021-10-20T20:40:49.921Z"
   },
   {
    "duration": 9,
    "start_time": "2021-10-20T20:40:49.934Z"
   },
   {
    "duration": 10,
    "start_time": "2021-10-20T20:40:49.946Z"
   },
   {
    "duration": 10,
    "start_time": "2021-10-20T20:40:50.001Z"
   },
   {
    "duration": 14,
    "start_time": "2021-10-20T20:40:50.015Z"
   },
   {
    "duration": 11,
    "start_time": "2021-10-20T20:40:50.031Z"
   },
   {
    "duration": 12,
    "start_time": "2021-10-20T20:40:50.044Z"
   },
   {
    "duration": 48,
    "start_time": "2021-10-20T20:40:50.058Z"
   },
   {
    "duration": 35,
    "start_time": "2021-10-20T20:40:50.108Z"
   },
   {
    "duration": 22,
    "start_time": "2021-10-20T20:40:50.146Z"
   },
   {
    "duration": 36,
    "start_time": "2021-10-20T20:40:50.170Z"
   },
   {
    "duration": 1039,
    "start_time": "2021-10-20T20:40:50.208Z"
   },
   {
    "duration": 3,
    "start_time": "2021-10-20T20:40:51.250Z"
   },
   {
    "duration": 10,
    "start_time": "2021-10-20T20:40:51.256Z"
   },
   {
    "duration": 33,
    "start_time": "2021-10-20T20:40:51.269Z"
   },
   {
    "duration": 3677,
    "start_time": "2021-10-20T20:40:51.306Z"
   },
   {
    "duration": 28,
    "start_time": "2021-10-20T21:01:52.521Z"
   },
   {
    "duration": 869,
    "start_time": "2021-10-20T21:02:06.585Z"
   },
   {
    "duration": 21,
    "start_time": "2021-10-20T21:02:07.456Z"
   },
   {
    "duration": 44,
    "start_time": "2021-10-20T21:02:07.480Z"
   },
   {
    "duration": 8,
    "start_time": "2021-10-20T21:02:07.526Z"
   },
   {
    "duration": 22,
    "start_time": "2021-10-20T21:02:07.536Z"
   },
   {
    "duration": 46,
    "start_time": "2021-10-20T21:02:07.560Z"
   },
   {
    "duration": 11,
    "start_time": "2021-10-20T21:02:07.608Z"
   },
   {
    "duration": 26,
    "start_time": "2021-10-20T21:02:07.621Z"
   },
   {
    "duration": 11,
    "start_time": "2021-10-20T21:02:07.651Z"
   },
   {
    "duration": 42,
    "start_time": "2021-10-20T21:02:07.666Z"
   },
   {
    "duration": 13,
    "start_time": "2021-10-20T21:02:07.710Z"
   },
   {
    "duration": 25,
    "start_time": "2021-10-20T21:02:07.725Z"
   },
   {
    "duration": 19,
    "start_time": "2021-10-20T21:02:07.753Z"
   },
   {
    "duration": 26,
    "start_time": "2021-10-20T21:02:07.776Z"
   },
   {
    "duration": 15,
    "start_time": "2021-10-20T21:02:07.804Z"
   },
   {
    "duration": 29,
    "start_time": "2021-10-20T21:02:07.823Z"
   },
   {
    "duration": 71,
    "start_time": "2021-10-20T21:02:07.855Z"
   },
   {
    "duration": 13,
    "start_time": "2021-10-20T21:02:07.929Z"
   },
   {
    "duration": 1061,
    "start_time": "2021-10-20T21:02:07.945Z"
   },
   {
    "duration": 4,
    "start_time": "2021-10-20T21:02:09.010Z"
   },
   {
    "duration": 5,
    "start_time": "2021-10-20T21:02:09.016Z"
   },
   {
    "duration": 4,
    "start_time": "2021-10-20T21:02:09.024Z"
   },
   {
    "duration": 3787,
    "start_time": "2021-10-20T21:02:09.031Z"
   },
   {
    "duration": 84,
    "start_time": "2021-10-20T21:04:40.655Z"
   },
   {
    "duration": 15,
    "start_time": "2021-10-20T21:04:40.743Z"
   },
   {
    "duration": 66,
    "start_time": "2021-10-20T21:04:40.762Z"
   },
   {
    "duration": 11,
    "start_time": "2021-10-20T21:04:40.832Z"
   },
   {
    "duration": 60,
    "start_time": "2021-10-20T21:04:40.846Z"
   },
   {
    "duration": 15,
    "start_time": "2021-10-20T21:04:40.909Z"
   },
   {
    "duration": 11,
    "start_time": "2021-10-20T21:04:40.927Z"
   },
   {
    "duration": 8,
    "start_time": "2021-10-20T21:04:40.942Z"
   },
   {
    "duration": 54,
    "start_time": "2021-10-20T21:04:40.954Z"
   },
   {
    "duration": 10,
    "start_time": "2021-10-20T21:04:41.011Z"
   },
   {
    "duration": 10,
    "start_time": "2021-10-20T21:04:41.024Z"
   },
   {
    "duration": 13,
    "start_time": "2021-10-20T21:04:41.037Z"
   },
   {
    "duration": 59,
    "start_time": "2021-10-20T21:04:41.053Z"
   },
   {
    "duration": 12,
    "start_time": "2021-10-20T21:04:41.115Z"
   },
   {
    "duration": 16,
    "start_time": "2021-10-20T21:04:41.131Z"
   },
   {
    "duration": 84,
    "start_time": "2021-10-20T21:04:41.150Z"
   },
   {
    "duration": 39,
    "start_time": "2021-10-20T21:04:41.237Z"
   },
   {
    "duration": 66,
    "start_time": "2021-10-20T21:04:41.279Z"
   },
   {
    "duration": 1060,
    "start_time": "2021-10-20T21:04:41.348Z"
   },
   {
    "duration": 3,
    "start_time": "2021-10-20T21:04:42.411Z"
   },
   {
    "duration": 13,
    "start_time": "2021-10-20T21:04:42.416Z"
   },
   {
    "duration": 7,
    "start_time": "2021-10-20T21:04:42.431Z"
   },
   {
    "duration": 3947,
    "start_time": "2021-10-20T21:04:42.442Z"
   },
   {
    "duration": 29,
    "start_time": "2021-10-20T21:05:24.724Z"
   },
   {
    "duration": 430,
    "start_time": "2021-10-21T10:59:10.900Z"
   },
   {
    "duration": 875,
    "start_time": "2021-10-21T10:59:17.288Z"
   },
   {
    "duration": 25,
    "start_time": "2021-10-21T10:59:18.166Z"
   },
   {
    "duration": 29,
    "start_time": "2021-10-21T10:59:18.203Z"
   },
   {
    "duration": 9,
    "start_time": "2021-10-21T10:59:18.236Z"
   },
   {
    "duration": 53,
    "start_time": "2021-10-21T10:59:18.247Z"
   },
   {
    "duration": 9,
    "start_time": "2021-10-21T10:59:18.304Z"
   },
   {
    "duration": 14,
    "start_time": "2021-10-21T10:59:18.315Z"
   },
   {
    "duration": 20,
    "start_time": "2021-10-21T10:59:18.333Z"
   },
   {
    "duration": 51,
    "start_time": "2021-10-21T10:59:18.355Z"
   },
   {
    "duration": 15,
    "start_time": "2021-10-21T10:59:18.409Z"
   },
   {
    "duration": 9,
    "start_time": "2021-10-21T10:59:18.427Z"
   },
   {
    "duration": 12,
    "start_time": "2021-10-21T10:59:18.439Z"
   },
   {
    "duration": 51,
    "start_time": "2021-10-21T10:59:18.453Z"
   },
   {
    "duration": 9,
    "start_time": "2021-10-21T10:59:18.507Z"
   },
   {
    "duration": 10,
    "start_time": "2021-10-21T10:59:18.518Z"
   },
   {
    "duration": 14,
    "start_time": "2021-10-21T10:59:18.530Z"
   },
   {
    "duration": 55,
    "start_time": "2021-10-21T10:59:18.546Z"
   },
   {
    "duration": 22,
    "start_time": "2021-10-21T10:59:18.604Z"
   },
   {
    "duration": 16,
    "start_time": "2021-10-21T10:59:18.629Z"
   },
   {
    "duration": 1251,
    "start_time": "2021-10-21T10:59:18.648Z"
   },
   {
    "duration": 3922,
    "start_time": "2021-10-21T10:59:19.903Z"
   },
   {
    "duration": 26,
    "start_time": "2021-10-21T11:04:05.217Z"
   },
   {
    "duration": 2213,
    "start_time": "2021-10-21T11:22:52.616Z"
   },
   {
    "duration": 3600,
    "start_time": "2021-10-21T11:23:08.615Z"
   },
   {
    "duration": 33,
    "start_time": "2021-10-21T11:23:42.053Z"
   },
   {
    "duration": 349,
    "start_time": "2021-10-21T11:26:21.820Z"
   },
   {
    "duration": 343,
    "start_time": "2021-10-21T11:26:47.389Z"
   },
   {
    "duration": 20,
    "start_time": "2021-10-21T11:27:10.373Z"
   },
   {
    "duration": 360,
    "start_time": "2021-10-21T11:36:09.271Z"
   },
   {
    "duration": 13,
    "start_time": "2021-10-21T11:36:18.281Z"
   },
   {
    "duration": 13,
    "start_time": "2021-10-21T11:36:33.078Z"
   },
   {
    "duration": 38,
    "start_time": "2021-10-21T11:50:53.168Z"
   },
   {
    "duration": 135,
    "start_time": "2021-10-21T12:37:08.242Z"
   },
   {
    "duration": 113,
    "start_time": "2021-10-21T12:37:20.295Z"
   },
   {
    "duration": 124,
    "start_time": "2021-10-21T12:39:24.690Z"
   },
   {
    "duration": 132,
    "start_time": "2021-10-21T12:39:59.893Z"
   },
   {
    "duration": 129,
    "start_time": "2021-10-21T12:40:10.956Z"
   },
   {
    "duration": 122,
    "start_time": "2021-10-21T12:42:16.980Z"
   },
   {
    "duration": 390,
    "start_time": "2021-10-21T13:07:59.796Z"
   },
   {
    "duration": 37,
    "start_time": "2021-10-21T13:08:21.159Z"
   },
   {
    "duration": 906,
    "start_time": "2021-10-21T13:09:25.818Z"
   },
   {
    "duration": 112,
    "start_time": "2021-10-21T13:09:53.768Z"
   },
   {
    "duration": 398,
    "start_time": "2021-10-21T13:10:15.582Z"
   },
   {
    "duration": 44,
    "start_time": "2021-10-21T13:10:42.819Z"
   },
   {
    "duration": 387,
    "start_time": "2021-10-21T13:12:50.757Z"
   },
   {
    "duration": 77,
    "start_time": "2021-10-21T13:13:16.563Z"
   },
   {
    "duration": 11,
    "start_time": "2021-10-21T13:13:16.643Z"
   },
   {
    "duration": 48,
    "start_time": "2021-10-21T13:13:16.657Z"
   },
   {
    "duration": 8,
    "start_time": "2021-10-21T13:13:16.709Z"
   },
   {
    "duration": 17,
    "start_time": "2021-10-21T13:13:16.719Z"
   },
   {
    "duration": 8,
    "start_time": "2021-10-21T13:13:16.738Z"
   },
   {
    "duration": 10,
    "start_time": "2021-10-21T13:13:16.748Z"
   },
   {
    "duration": 47,
    "start_time": "2021-10-21T13:13:16.761Z"
   },
   {
    "duration": 11,
    "start_time": "2021-10-21T13:13:16.811Z"
   },
   {
    "duration": 12,
    "start_time": "2021-10-21T13:13:16.825Z"
   },
   {
    "duration": 10,
    "start_time": "2021-10-21T13:13:16.840Z"
   },
   {
    "duration": 55,
    "start_time": "2021-10-21T13:13:16.852Z"
   },
   {
    "duration": 12,
    "start_time": "2021-10-21T13:13:16.909Z"
   },
   {
    "duration": 10,
    "start_time": "2021-10-21T13:13:16.923Z"
   },
   {
    "duration": 9,
    "start_time": "2021-10-21T13:13:16.936Z"
   },
   {
    "duration": 10,
    "start_time": "2021-10-21T13:13:16.947Z"
   },
   {
    "duration": 27,
    "start_time": "2021-10-21T13:13:17.002Z"
   },
   {
    "duration": 23,
    "start_time": "2021-10-21T13:13:17.032Z"
   },
   {
    "duration": 56,
    "start_time": "2021-10-21T13:13:17.059Z"
   },
   {
    "duration": 30,
    "start_time": "2021-10-21T13:13:17.118Z"
   },
   {
    "duration": 1104,
    "start_time": "2021-10-21T13:13:17.150Z"
   },
   {
    "duration": 3576,
    "start_time": "2021-10-21T13:13:18.257Z"
   },
   {
    "duration": 32,
    "start_time": "2021-10-21T13:13:21.835Z"
   },
   {
    "duration": 46,
    "start_time": "2021-10-21T13:13:21.869Z"
   },
   {
    "duration": 340,
    "start_time": "2021-10-21T13:13:21.917Z"
   },
   {
    "duration": 14,
    "start_time": "2021-10-21T13:13:38.812Z"
   },
   {
    "duration": 10,
    "start_time": "2021-10-21T13:14:05.348Z"
   },
   {
    "duration": 344,
    "start_time": "2021-10-21T13:14:15.355Z"
   },
   {
    "duration": 16,
    "start_time": "2021-10-21T13:14:26.327Z"
   },
   {
    "duration": 13,
    "start_time": "2021-10-21T13:16:28.890Z"
   },
   {
    "duration": 380,
    "start_time": "2021-10-21T13:19:20.245Z"
   },
   {
    "duration": 13,
    "start_time": "2021-10-21T13:19:31.744Z"
   },
   {
    "duration": 344,
    "start_time": "2021-10-21T13:40:27.246Z"
   },
   {
    "duration": 57,
    "start_time": "2021-10-21T13:41:10.456Z"
   },
   {
    "duration": 534,
    "start_time": "2021-10-21T13:41:51.305Z"
   },
   {
    "duration": 56,
    "start_time": "2021-10-21T13:42:14.866Z"
   },
   {
    "duration": 360,
    "start_time": "2021-10-21T13:43:08.450Z"
   },
   {
    "duration": 31,
    "start_time": "2021-10-21T13:43:18.140Z"
   },
   {
    "duration": 885,
    "start_time": "2021-10-21T14:46:21.355Z"
   },
   {
    "duration": 20,
    "start_time": "2021-10-21T14:46:22.243Z"
   },
   {
    "duration": 56,
    "start_time": "2021-10-21T14:46:22.266Z"
   },
   {
    "duration": 8,
    "start_time": "2021-10-21T14:46:22.325Z"
   },
   {
    "duration": 25,
    "start_time": "2021-10-21T14:46:22.336Z"
   },
   {
    "duration": 10,
    "start_time": "2021-10-21T14:46:22.363Z"
   },
   {
    "duration": 41,
    "start_time": "2021-10-21T14:46:22.376Z"
   },
   {
    "duration": 20,
    "start_time": "2021-10-21T14:46:22.421Z"
   },
   {
    "duration": 22,
    "start_time": "2021-10-21T14:46:22.444Z"
   },
   {
    "duration": 20,
    "start_time": "2021-10-21T14:46:22.468Z"
   },
   {
    "duration": 21,
    "start_time": "2021-10-21T14:46:22.490Z"
   },
   {
    "duration": 28,
    "start_time": "2021-10-21T14:46:22.515Z"
   },
   {
    "duration": 17,
    "start_time": "2021-10-21T14:46:22.545Z"
   },
   {
    "duration": 22,
    "start_time": "2021-10-21T14:46:22.565Z"
   },
   {
    "duration": 24,
    "start_time": "2021-10-21T14:46:22.589Z"
   },
   {
    "duration": 22,
    "start_time": "2021-10-21T14:46:22.616Z"
   },
   {
    "duration": 38,
    "start_time": "2021-10-21T14:46:22.641Z"
   },
   {
    "duration": 31,
    "start_time": "2021-10-21T14:46:22.682Z"
   },
   {
    "duration": 29,
    "start_time": "2021-10-21T14:46:22.716Z"
   },
   {
    "duration": 20,
    "start_time": "2021-10-21T14:46:22.747Z"
   },
   {
    "duration": 1043,
    "start_time": "2021-10-21T14:46:22.770Z"
   },
   {
    "duration": 3851,
    "start_time": "2021-10-21T14:46:23.817Z"
   },
   {
    "duration": 49,
    "start_time": "2021-10-21T14:46:27.672Z"
   },
   {
    "duration": 20,
    "start_time": "2021-10-21T14:46:27.724Z"
   },
   {
    "duration": 17,
    "start_time": "2021-10-21T14:46:27.746Z"
   },
   {
    "duration": 62,
    "start_time": "2021-10-21T14:46:27.766Z"
   },
   {
    "duration": 30,
    "start_time": "2021-10-21T14:48:12.788Z"
   },
   {
    "duration": 29,
    "start_time": "2021-10-21T14:50:55.564Z"
   },
   {
    "duration": 23,
    "start_time": "2021-10-21T14:52:41.294Z"
   },
   {
    "duration": 29,
    "start_time": "2021-10-21T14:52:55.614Z"
   },
   {
    "duration": 463,
    "start_time": "2021-10-21T14:53:26.172Z"
   },
   {
    "duration": 347,
    "start_time": "2021-10-21T14:53:36.855Z"
   },
   {
    "duration": 426,
    "start_time": "2021-10-21T14:53:57.298Z"
   },
   {
    "duration": 127,
    "start_time": "2021-10-21T14:56:28.800Z"
   },
   {
    "duration": 620,
    "start_time": "2021-10-21T14:56:34.770Z"
   },
   {
    "duration": 114,
    "start_time": "2021-10-21T14:57:26.274Z"
   },
   {
    "duration": 12,
    "start_time": "2021-10-21T14:57:45.540Z"
   },
   {
    "duration": 404,
    "start_time": "2021-10-21T14:58:08.110Z"
   },
   {
    "duration": 38,
    "start_time": "2021-10-21T14:59:05.460Z"
   },
   {
    "duration": 17,
    "start_time": "2021-10-21T14:59:22.106Z"
   },
   {
    "duration": 36,
    "start_time": "2021-10-21T15:00:38.466Z"
   },
   {
    "duration": 29,
    "start_time": "2021-10-21T15:03:12.668Z"
   },
   {
    "duration": 31,
    "start_time": "2021-10-21T15:06:39.663Z"
   },
   {
    "duration": 28,
    "start_time": "2021-10-21T15:08:06.141Z"
   },
   {
    "duration": 31,
    "start_time": "2021-10-21T15:09:15.701Z"
   },
   {
    "duration": 30,
    "start_time": "2021-10-21T15:09:53.678Z"
   },
   {
    "duration": 361,
    "start_time": "2021-10-21T15:21:07.926Z"
   },
   {
    "duration": 38,
    "start_time": "2021-10-21T15:21:33.563Z"
   },
   {
    "duration": 395,
    "start_time": "2021-10-21T15:22:52.361Z"
   },
   {
    "duration": 73,
    "start_time": "2021-10-21T15:24:03.595Z"
   },
   {
    "duration": 37,
    "start_time": "2021-10-21T15:24:24.431Z"
   },
   {
    "duration": 368,
    "start_time": "2021-10-21T15:25:37.186Z"
   },
   {
    "duration": 38,
    "start_time": "2021-10-21T15:25:44.420Z"
   },
   {
    "duration": 35,
    "start_time": "2021-10-21T15:25:59.896Z"
   },
   {
    "duration": 12,
    "start_time": "2021-10-21T15:37:56.103Z"
   },
   {
    "duration": 7,
    "start_time": "2021-10-21T15:38:09.005Z"
   },
   {
    "duration": 6,
    "start_time": "2021-10-21T15:39:11.775Z"
   },
   {
    "duration": 1452,
    "start_time": "2021-10-21T15:39:45.586Z"
   },
   {
    "duration": 6,
    "start_time": "2021-10-21T15:39:53.460Z"
   },
   {
    "duration": 7,
    "start_time": "2021-10-21T15:47:55.080Z"
   },
   {
    "duration": 8,
    "start_time": "2021-10-21T16:02:21.501Z"
   },
   {
    "duration": 18,
    "start_time": "2021-10-21T16:02:34.680Z"
   },
   {
    "duration": 348,
    "start_time": "2021-10-21T16:03:03.643Z"
   },
   {
    "duration": -873,
    "start_time": "2021-10-21T16:03:24.080Z"
   },
   {
    "duration": 4651,
    "start_time": "2021-10-21T16:03:30.708Z"
   },
   {
    "duration": 4784,
    "start_time": "2021-10-21T16:03:56.791Z"
   },
   {
    "duration": 4739,
    "start_time": "2021-10-21T16:04:19.436Z"
   },
   {
    "duration": 78,
    "start_time": "2021-10-21T16:04:30.794Z"
   },
   {
    "duration": 32,
    "start_time": "2021-10-21T16:04:30.875Z"
   },
   {
    "duration": 28,
    "start_time": "2021-10-21T16:04:30.910Z"
   },
   {
    "duration": 8,
    "start_time": "2021-10-21T16:04:30.941Z"
   },
   {
    "duration": 60,
    "start_time": "2021-10-21T16:04:30.952Z"
   },
   {
    "duration": 9,
    "start_time": "2021-10-21T16:04:31.014Z"
   },
   {
    "duration": 16,
    "start_time": "2021-10-21T16:04:31.026Z"
   },
   {
    "duration": 18,
    "start_time": "2021-10-21T16:04:31.048Z"
   },
   {
    "duration": 34,
    "start_time": "2021-10-21T16:04:31.070Z"
   },
   {
    "duration": 14,
    "start_time": "2021-10-21T16:04:31.107Z"
   },
   {
    "duration": 19,
    "start_time": "2021-10-21T16:04:31.124Z"
   },
   {
    "duration": 20,
    "start_time": "2021-10-21T16:04:31.146Z"
   },
   {
    "duration": 34,
    "start_time": "2021-10-21T16:04:31.168Z"
   },
   {
    "duration": 13,
    "start_time": "2021-10-21T16:04:31.205Z"
   },
   {
    "duration": 11,
    "start_time": "2021-10-21T16:04:31.221Z"
   },
   {
    "duration": 15,
    "start_time": "2021-10-21T16:04:31.235Z"
   },
   {
    "duration": 67,
    "start_time": "2021-10-21T16:04:31.253Z"
   },
   {
    "duration": 26,
    "start_time": "2021-10-21T16:04:31.323Z"
   },
   {
    "duration": 57,
    "start_time": "2021-10-21T16:04:31.352Z"
   },
   {
    "duration": 8,
    "start_time": "2021-10-21T16:04:31.411Z"
   },
   {
    "duration": 1006,
    "start_time": "2021-10-21T16:04:31.421Z"
   },
   {
    "duration": 3574,
    "start_time": "2021-10-21T16:04:32.430Z"
   },
   {
    "duration": 30,
    "start_time": "2021-10-21T16:04:36.008Z"
   },
   {
    "duration": 34,
    "start_time": "2021-10-21T16:04:36.040Z"
   },
   {
    "duration": 32,
    "start_time": "2021-10-21T16:04:36.101Z"
   },
   {
    "duration": 35,
    "start_time": "2021-10-21T16:04:36.136Z"
   },
   {
    "duration": 42,
    "start_time": "2021-10-21T16:04:36.173Z"
   },
   {
    "duration": 24,
    "start_time": "2021-10-21T16:04:36.218Z"
   },
   {
    "duration": 358,
    "start_time": "2021-10-21T16:04:36.244Z"
   },
   {
    "duration": -432,
    "start_time": "2021-10-21T16:04:37.036Z"
   },
   {
    "duration": 21,
    "start_time": "2021-10-21T16:05:46.992Z"
   },
   {
    "duration": 37,
    "start_time": "2021-10-21T16:10:24.166Z"
   },
   {
    "duration": 344,
    "start_time": "2021-10-21T16:21:53.032Z"
   },
   {
    "duration": 54,
    "start_time": "2021-10-21T16:22:02.801Z"
   },
   {
    "duration": 38,
    "start_time": "2021-10-21T16:23:11.622Z"
   },
   {
    "duration": 42,
    "start_time": "2021-10-21T16:23:17.177Z"
   },
   {
    "duration": 32,
    "start_time": "2021-10-21T16:26:11.350Z"
   },
   {
    "duration": 43,
    "start_time": "2021-10-21T16:27:56.302Z"
   },
   {
    "duration": 42,
    "start_time": "2021-10-21T16:28:28.880Z"
   },
   {
    "duration": 36,
    "start_time": "2021-10-21T16:30:41.216Z"
   },
   {
    "duration": 44,
    "start_time": "2021-10-21T16:30:44.557Z"
   },
   {
    "duration": 74,
    "start_time": "2021-10-21T16:31:50.731Z"
   },
   {
    "duration": 43,
    "start_time": "2021-10-21T16:32:07.290Z"
   },
   {
    "duration": 25,
    "start_time": "2021-10-21T16:34:11.069Z"
   },
   {
    "duration": 61,
    "start_time": "2021-10-21T16:41:42.520Z"
   },
   {
    "duration": 855,
    "start_time": "2021-10-21T16:42:23.954Z"
   },
   {
    "duration": 22,
    "start_time": "2021-10-21T16:42:24.812Z"
   },
   {
    "duration": 27,
    "start_time": "2021-10-21T16:42:24.837Z"
   },
   {
    "duration": 36,
    "start_time": "2021-10-21T16:42:24.867Z"
   },
   {
    "duration": 16,
    "start_time": "2021-10-21T16:42:24.905Z"
   },
   {
    "duration": 8,
    "start_time": "2021-10-21T16:42:24.923Z"
   },
   {
    "duration": 10,
    "start_time": "2021-10-21T16:42:24.934Z"
   },
   {
    "duration": 8,
    "start_time": "2021-10-21T16:42:24.948Z"
   },
   {
    "duration": 19,
    "start_time": "2021-10-21T16:42:25.002Z"
   },
   {
    "duration": 16,
    "start_time": "2021-10-21T16:42:25.023Z"
   },
   {
    "duration": 9,
    "start_time": "2021-10-21T16:42:25.042Z"
   },
   {
    "duration": 10,
    "start_time": "2021-10-21T16:42:25.053Z"
   },
   {
    "duration": 38,
    "start_time": "2021-10-21T16:42:25.065Z"
   },
   {
    "duration": 13,
    "start_time": "2021-10-21T16:42:25.106Z"
   },
   {
    "duration": 9,
    "start_time": "2021-10-21T16:42:25.122Z"
   },
   {
    "duration": 9,
    "start_time": "2021-10-21T16:42:25.134Z"
   },
   {
    "duration": 64,
    "start_time": "2021-10-21T16:42:25.146Z"
   },
   {
    "duration": 23,
    "start_time": "2021-10-21T16:42:25.212Z"
   },
   {
    "duration": 42,
    "start_time": "2021-10-21T16:42:25.238Z"
   },
   {
    "duration": 22,
    "start_time": "2021-10-21T16:42:25.283Z"
   },
   {
    "duration": 995,
    "start_time": "2021-10-21T16:42:25.307Z"
   },
   {
    "duration": 3499,
    "start_time": "2021-10-21T16:42:26.305Z"
   },
   {
    "duration": 32,
    "start_time": "2021-10-21T16:42:29.809Z"
   },
   {
    "duration": 58,
    "start_time": "2021-10-21T16:42:29.844Z"
   },
   {
    "duration": 31,
    "start_time": "2021-10-21T16:42:29.904Z"
   },
   {
    "duration": 35,
    "start_time": "2021-10-21T16:42:29.937Z"
   },
   {
    "duration": 21,
    "start_time": "2021-10-21T16:42:30.000Z"
   },
   {
    "duration": 6,
    "start_time": "2021-10-21T16:42:30.024Z"
   },
   {
    "duration": 31,
    "start_time": "2021-10-21T16:42:30.032Z"
   },
   {
    "duration": 57,
    "start_time": "2021-10-21T16:42:30.065Z"
   },
   {
    "duration": 51,
    "start_time": "2021-10-21T16:42:30.124Z"
   },
   {
    "duration": 44,
    "start_time": "2021-10-21T16:42:30.177Z"
   },
   {
    "duration": 87,
    "start_time": "2021-10-21T16:42:30.223Z"
   },
   {
    "duration": 64,
    "start_time": "2021-10-21T16:43:08.182Z"
   },
   {
    "duration": 37,
    "start_time": "2021-10-21T16:43:51.882Z"
   },
   {
    "duration": 17,
    "start_time": "2021-10-21T16:49:07.946Z"
   },
   {
    "duration": 934,
    "start_time": "2021-10-21T17:27:58.201Z"
   },
   {
    "duration": 28,
    "start_time": "2021-10-21T17:31:29.949Z"
   },
   {
    "duration": 238,
    "start_time": "2021-10-21T17:31:43.203Z"
   },
   {
    "duration": 123,
    "start_time": "2021-10-21T17:35:52.389Z"
   },
   {
    "duration": 113,
    "start_time": "2021-10-21T17:36:11.258Z"
   },
   {
    "duration": 138,
    "start_time": "2021-10-21T17:36:20.886Z"
   },
   {
    "duration": 115,
    "start_time": "2021-10-21T17:36:38.941Z"
   },
   {
    "duration": 752,
    "start_time": "2021-10-21T17:36:56.438Z"
   },
   {
    "duration": 765,
    "start_time": "2021-10-21T17:37:31.729Z"
   },
   {
    "duration": 31,
    "start_time": "2021-10-21T18:43:34.318Z"
   },
   {
    "duration": 28,
    "start_time": "2021-10-21T18:44:26.535Z"
   },
   {
    "duration": 6,
    "start_time": "2021-10-21T19:14:04.151Z"
   },
   {
    "duration": 1167,
    "start_time": "2021-10-21T19:14:52.563Z"
   },
   {
    "duration": 974,
    "start_time": "2021-10-21T19:15:06.113Z"
   },
   {
    "duration": 244,
    "start_time": "2021-10-21T19:15:27.383Z"
   },
   {
    "duration": 33,
    "start_time": "2021-10-21T19:31:32.624Z"
   },
   {
    "duration": 28,
    "start_time": "2021-10-21T19:31:47.449Z"
   },
   {
    "duration": 891,
    "start_time": "2021-10-21T19:50:26.459Z"
   },
   {
    "duration": 23,
    "start_time": "2021-10-21T19:50:27.354Z"
   },
   {
    "duration": 45,
    "start_time": "2021-10-21T19:50:27.381Z"
   },
   {
    "duration": 10,
    "start_time": "2021-10-21T19:50:27.429Z"
   },
   {
    "duration": 17,
    "start_time": "2021-10-21T19:50:27.443Z"
   },
   {
    "duration": 9,
    "start_time": "2021-10-21T19:50:27.500Z"
   },
   {
    "duration": 10,
    "start_time": "2021-10-21T19:50:27.512Z"
   },
   {
    "duration": 8,
    "start_time": "2021-10-21T19:50:27.526Z"
   },
   {
    "duration": 10,
    "start_time": "2021-10-21T19:50:27.538Z"
   },
   {
    "duration": 50,
    "start_time": "2021-10-21T19:50:27.552Z"
   },
   {
    "duration": 11,
    "start_time": "2021-10-21T19:50:27.604Z"
   },
   {
    "duration": 10,
    "start_time": "2021-10-21T19:50:27.618Z"
   },
   {
    "duration": 18,
    "start_time": "2021-10-21T19:50:27.630Z"
   },
   {
    "duration": 11,
    "start_time": "2021-10-21T19:50:27.650Z"
   },
   {
    "duration": 11,
    "start_time": "2021-10-21T19:50:27.699Z"
   },
   {
    "duration": 20,
    "start_time": "2021-10-21T19:50:27.712Z"
   },
   {
    "duration": 31,
    "start_time": "2021-10-21T19:50:27.735Z"
   },
   {
    "duration": 41,
    "start_time": "2021-10-21T19:50:27.769Z"
   },
   {
    "duration": 29,
    "start_time": "2021-10-21T19:50:27.813Z"
   },
   {
    "duration": 14,
    "start_time": "2021-10-21T19:50:27.845Z"
   },
   {
    "duration": 1050,
    "start_time": "2021-10-21T19:50:27.862Z"
   },
   {
    "duration": 3599,
    "start_time": "2021-10-21T19:50:28.915Z"
   },
   {
    "duration": 34,
    "start_time": "2021-10-21T19:50:32.519Z"
   },
   {
    "duration": 60,
    "start_time": "2021-10-21T19:50:32.556Z"
   },
   {
    "duration": 33,
    "start_time": "2021-10-21T19:50:32.619Z"
   },
   {
    "duration": 55,
    "start_time": "2021-10-21T19:50:32.654Z"
   },
   {
    "duration": 20,
    "start_time": "2021-10-21T19:50:32.712Z"
   },
   {
    "duration": 6,
    "start_time": "2021-10-21T19:50:32.734Z"
   },
   {
    "duration": 21,
    "start_time": "2021-10-21T19:50:32.743Z"
   },
   {
    "duration": 68,
    "start_time": "2021-10-21T19:50:32.766Z"
   },
   {
    "duration": 74,
    "start_time": "2021-10-21T19:50:32.837Z"
   },
   {
    "duration": 20,
    "start_time": "2021-10-21T19:50:32.914Z"
   },
   {
    "duration": 67,
    "start_time": "2021-10-21T19:50:32.937Z"
   },
   {
    "duration": 18,
    "start_time": "2021-10-21T19:50:33.007Z"
   },
   {
    "duration": 36,
    "start_time": "2021-10-21T19:50:33.027Z"
   },
   {
    "duration": 52,
    "start_time": "2021-10-21T19:50:33.066Z"
   },
   {
    "duration": 26,
    "start_time": "2021-10-21T19:50:33.121Z"
   },
   {
    "duration": 6,
    "start_time": "2021-10-21T19:55:20.538Z"
   },
   {
    "duration": 870,
    "start_time": "2021-10-21T20:04:12.262Z"
   },
   {
    "duration": 21,
    "start_time": "2021-10-21T20:04:13.135Z"
   },
   {
    "duration": 43,
    "start_time": "2021-10-21T20:04:13.159Z"
   },
   {
    "duration": 8,
    "start_time": "2021-10-21T20:04:13.205Z"
   },
   {
    "duration": 16,
    "start_time": "2021-10-21T20:04:13.216Z"
   },
   {
    "duration": 9,
    "start_time": "2021-10-21T20:04:13.234Z"
   },
   {
    "duration": 10,
    "start_time": "2021-10-21T20:04:13.245Z"
   },
   {
    "duration": 49,
    "start_time": "2021-10-21T20:04:13.258Z"
   },
   {
    "duration": 22,
    "start_time": "2021-10-21T20:04:13.311Z"
   },
   {
    "duration": 29,
    "start_time": "2021-10-21T20:04:13.336Z"
   },
   {
    "duration": 26,
    "start_time": "2021-10-21T20:04:13.367Z"
   },
   {
    "duration": 19,
    "start_time": "2021-10-21T20:04:13.396Z"
   },
   {
    "duration": 38,
    "start_time": "2021-10-21T20:04:13.417Z"
   },
   {
    "duration": 21,
    "start_time": "2021-10-21T20:04:13.457Z"
   },
   {
    "duration": 29,
    "start_time": "2021-10-21T20:04:13.481Z"
   },
   {
    "duration": 14,
    "start_time": "2021-10-21T20:04:13.513Z"
   },
   {
    "duration": 32,
    "start_time": "2021-10-21T20:04:13.530Z"
   },
   {
    "duration": 37,
    "start_time": "2021-10-21T20:04:13.565Z"
   },
   {
    "duration": 34,
    "start_time": "2021-10-21T20:04:13.604Z"
   },
   {
    "duration": 11,
    "start_time": "2021-10-21T20:04:13.641Z"
   },
   {
    "duration": 1005,
    "start_time": "2021-10-21T20:04:13.655Z"
   },
   {
    "duration": 3686,
    "start_time": "2021-10-21T20:04:14.663Z"
   },
   {
    "duration": 51,
    "start_time": "2021-10-21T20:04:18.352Z"
   },
   {
    "duration": 38,
    "start_time": "2021-10-21T20:04:18.405Z"
   },
   {
    "duration": 54,
    "start_time": "2021-10-21T20:04:18.446Z"
   },
   {
    "duration": 33,
    "start_time": "2021-10-21T20:04:18.503Z"
   },
   {
    "duration": 19,
    "start_time": "2021-10-21T20:04:18.541Z"
   },
   {
    "duration": 7,
    "start_time": "2021-10-21T20:04:18.563Z"
   },
   {
    "duration": 20,
    "start_time": "2021-10-21T20:04:18.602Z"
   },
   {
    "duration": 38,
    "start_time": "2021-10-21T20:04:18.624Z"
   },
   {
    "duration": 72,
    "start_time": "2021-10-21T20:04:18.664Z"
   },
   {
    "duration": 21,
    "start_time": "2021-10-21T20:04:18.738Z"
   },
   {
    "duration": 68,
    "start_time": "2021-10-21T20:04:18.761Z"
   },
   {
    "duration": 18,
    "start_time": "2021-10-21T20:04:18.831Z"
   },
   {
    "duration": 51,
    "start_time": "2021-10-21T20:04:18.851Z"
   },
   {
    "duration": 29,
    "start_time": "2021-10-21T20:04:18.904Z"
   },
   {
    "duration": 26,
    "start_time": "2021-10-21T20:04:18.936Z"
   },
   {
    "duration": 887,
    "start_time": "2021-10-22T09:01:36.436Z"
   },
   {
    "duration": 20,
    "start_time": "2021-10-22T09:01:37.325Z"
   },
   {
    "duration": 26,
    "start_time": "2021-10-22T09:01:37.357Z"
   },
   {
    "duration": 8,
    "start_time": "2021-10-22T09:01:37.386Z"
   },
   {
    "duration": 19,
    "start_time": "2021-10-22T09:01:37.397Z"
   },
   {
    "duration": 48,
    "start_time": "2021-10-22T09:01:37.418Z"
   },
   {
    "duration": 13,
    "start_time": "2021-10-22T09:01:37.469Z"
   },
   {
    "duration": 10,
    "start_time": "2021-10-22T09:01:37.487Z"
   },
   {
    "duration": 14,
    "start_time": "2021-10-22T09:01:37.499Z"
   },
   {
    "duration": 46,
    "start_time": "2021-10-22T09:01:37.515Z"
   },
   {
    "duration": 10,
    "start_time": "2021-10-22T09:01:37.563Z"
   },
   {
    "duration": 11,
    "start_time": "2021-10-22T09:01:37.575Z"
   },
   {
    "duration": 11,
    "start_time": "2021-10-22T09:01:37.588Z"
   },
   {
    "duration": 12,
    "start_time": "2021-10-22T09:01:37.601Z"
   },
   {
    "duration": 46,
    "start_time": "2021-10-22T09:01:37.615Z"
   },
   {
    "duration": 12,
    "start_time": "2021-10-22T09:01:37.664Z"
   },
   {
    "duration": 29,
    "start_time": "2021-10-22T09:01:37.679Z"
   },
   {
    "duration": 60,
    "start_time": "2021-10-22T09:01:37.711Z"
   },
   {
    "duration": 28,
    "start_time": "2021-10-22T09:01:37.773Z"
   },
   {
    "duration": 16,
    "start_time": "2021-10-22T09:01:37.803Z"
   },
   {
    "duration": 953,
    "start_time": "2021-10-22T09:01:37.822Z"
   },
   {
    "duration": 3503,
    "start_time": "2021-10-22T09:01:38.779Z"
   },
   {
    "duration": 32,
    "start_time": "2021-10-22T09:01:42.287Z"
   },
   {
    "duration": 54,
    "start_time": "2021-10-22T09:01:42.322Z"
   },
   {
    "duration": 32,
    "start_time": "2021-10-22T09:01:42.378Z"
   },
   {
    "duration": 53,
    "start_time": "2021-10-22T09:01:42.412Z"
   },
   {
    "duration": 25,
    "start_time": "2021-10-22T09:01:42.467Z"
   },
   {
    "duration": 10,
    "start_time": "2021-10-22T09:01:42.495Z"
   },
   {
    "duration": 34,
    "start_time": "2021-10-22T09:01:42.507Z"
   },
   {
    "duration": 36,
    "start_time": "2021-10-22T09:01:42.558Z"
   },
   {
    "duration": 91,
    "start_time": "2021-10-22T09:01:42.597Z"
   },
   {
    "duration": 22,
    "start_time": "2021-10-22T09:01:42.691Z"
   },
   {
    "duration": 55,
    "start_time": "2021-10-22T09:01:42.715Z"
   },
   {
    "duration": 18,
    "start_time": "2021-10-22T09:01:42.773Z"
   },
   {
    "duration": 34,
    "start_time": "2021-10-22T09:01:42.793Z"
   },
   {
    "duration": 53,
    "start_time": "2021-10-22T09:01:42.829Z"
   },
   {
    "duration": 24,
    "start_time": "2021-10-22T09:01:42.885Z"
   },
   {
    "duration": 5,
    "start_time": "2021-10-22T09:12:16.631Z"
   },
   {
    "duration": 11744,
    "start_time": "2021-10-22T09:38:10.925Z"
   },
   {
    "duration": 17,
    "start_time": "2021-10-22T09:38:28.990Z"
   },
   {
    "duration": 34,
    "start_time": "2021-10-22T10:37:18.872Z"
   },
   {
    "duration": 30,
    "start_time": "2021-10-22T10:37:23.222Z"
   },
   {
    "duration": 387,
    "start_time": "2021-10-22T15:09:24.475Z"
   },
   {
    "duration": 1115,
    "start_time": "2021-10-22T15:09:29.851Z"
   },
   {
    "duration": 31,
    "start_time": "2021-10-22T15:09:30.968Z"
   },
   {
    "duration": 28,
    "start_time": "2021-10-22T15:09:31.003Z"
   },
   {
    "duration": 7,
    "start_time": "2021-10-22T15:09:31.034Z"
   },
   {
    "duration": 51,
    "start_time": "2021-10-22T15:09:31.044Z"
   },
   {
    "duration": 11,
    "start_time": "2021-10-22T15:09:31.097Z"
   },
   {
    "duration": 10,
    "start_time": "2021-10-22T15:09:31.111Z"
   },
   {
    "duration": 13,
    "start_time": "2021-10-22T15:09:31.125Z"
   },
   {
    "duration": 60,
    "start_time": "2021-10-22T15:09:31.142Z"
   },
   {
    "duration": 14,
    "start_time": "2021-10-22T15:09:31.205Z"
   },
   {
    "duration": 19,
    "start_time": "2021-10-22T15:09:31.222Z"
   },
   {
    "duration": 10,
    "start_time": "2021-10-22T15:09:31.244Z"
   },
   {
    "duration": 24,
    "start_time": "2021-10-22T15:09:31.283Z"
   },
   {
    "duration": 21,
    "start_time": "2021-10-22T15:09:31.310Z"
   },
   {
    "duration": 18,
    "start_time": "2021-10-22T15:09:31.333Z"
   },
   {
    "duration": 31,
    "start_time": "2021-10-22T15:09:31.353Z"
   },
   {
    "duration": 10,
    "start_time": "2021-10-22T15:09:31.386Z"
   },
   {
    "duration": 36,
    "start_time": "2021-10-22T15:09:31.398Z"
   },
   {
    "duration": 51,
    "start_time": "2021-10-22T15:09:31.436Z"
   },
   {
    "duration": 44,
    "start_time": "2021-10-22T15:09:31.489Z"
   },
   {
    "duration": 20,
    "start_time": "2021-10-22T15:09:31.536Z"
   },
   {
    "duration": 992,
    "start_time": "2021-10-22T15:09:31.558Z"
   },
   {
    "duration": 3740,
    "start_time": "2021-10-22T15:09:32.558Z"
   },
   {
    "duration": 31,
    "start_time": "2021-10-22T15:09:36.300Z"
   },
   {
    "duration": 54,
    "start_time": "2021-10-22T15:09:36.333Z"
   },
   {
    "duration": 32,
    "start_time": "2021-10-22T15:09:36.390Z"
   },
   {
    "duration": 60,
    "start_time": "2021-10-22T15:09:36.425Z"
   },
   {
    "duration": 21,
    "start_time": "2021-10-22T15:09:36.487Z"
   },
   {
    "duration": 6,
    "start_time": "2021-10-22T15:09:36.511Z"
   },
   {
    "duration": 23,
    "start_time": "2021-10-22T15:09:36.520Z"
   },
   {
    "duration": 88,
    "start_time": "2021-10-22T15:09:36.546Z"
   },
   {
    "duration": 72,
    "start_time": "2021-10-22T15:09:36.636Z"
   },
   {
    "duration": 21,
    "start_time": "2021-10-22T15:09:36.711Z"
   },
   {
    "duration": 73,
    "start_time": "2021-10-22T15:09:36.734Z"
   },
   {
    "duration": 26,
    "start_time": "2021-10-22T15:09:36.810Z"
   },
   {
    "duration": 57,
    "start_time": "2021-10-22T15:09:36.838Z"
   },
   {
    "duration": 29,
    "start_time": "2021-10-22T15:09:36.897Z"
   },
   {
    "duration": 66,
    "start_time": "2021-10-22T15:09:36.929Z"
   },
   {
    "duration": 30,
    "start_time": "2021-10-22T15:10:59.422Z"
   },
   {
    "duration": 8401,
    "start_time": "2021-10-22T15:16:24.115Z"
   },
   {
    "duration": 7,
    "start_time": "2021-10-22T15:16:41.494Z"
   },
   {
    "duration": 9,
    "start_time": "2021-10-22T15:16:49.668Z"
   },
   {
    "duration": 29,
    "start_time": "2021-10-22T15:18:20.416Z"
   },
   {
    "duration": 48,
    "start_time": "2021-10-22T15:18:32.849Z"
   },
   {
    "duration": 26,
    "start_time": "2021-10-22T15:19:03.236Z"
   },
   {
    "duration": 4034,
    "start_time": "2021-10-22T15:19:17.636Z"
   },
   {
    "duration": 24,
    "start_time": "2021-10-22T15:19:33.721Z"
   },
   {
    "duration": 32,
    "start_time": "2021-10-22T15:21:38.083Z"
   },
   {
    "duration": 32,
    "start_time": "2021-10-22T15:21:54.687Z"
   },
   {
    "duration": 30,
    "start_time": "2021-10-22T15:22:01.662Z"
   },
   {
    "duration": 23,
    "start_time": "2021-10-22T15:29:10.727Z"
   },
   {
    "duration": 3,
    "start_time": "2021-10-22T15:29:51.703Z"
   },
   {
    "duration": 10,
    "start_time": "2021-10-22T15:29:57.885Z"
   },
   {
    "duration": 829,
    "start_time": "2021-10-22T15:29:57.899Z"
   },
   {
    "duration": 21,
    "start_time": "2021-10-22T15:29:58.735Z"
   },
   {
    "duration": 42,
    "start_time": "2021-10-22T15:29:58.759Z"
   },
   {
    "duration": 8,
    "start_time": "2021-10-22T15:29:58.804Z"
   },
   {
    "duration": 15,
    "start_time": "2021-10-22T15:29:58.815Z"
   },
   {
    "duration": 50,
    "start_time": "2021-10-22T15:29:58.835Z"
   },
   {
    "duration": 11,
    "start_time": "2021-10-22T15:29:58.889Z"
   },
   {
    "duration": 11,
    "start_time": "2021-10-22T15:29:58.903Z"
   },
   {
    "duration": 10,
    "start_time": "2021-10-22T15:29:58.917Z"
   },
   {
    "duration": 53,
    "start_time": "2021-10-22T15:29:58.929Z"
   },
   {
    "duration": 11,
    "start_time": "2021-10-22T15:29:58.984Z"
   },
   {
    "duration": 9,
    "start_time": "2021-10-22T15:29:58.997Z"
   },
   {
    "duration": 11,
    "start_time": "2021-10-22T15:29:59.008Z"
   },
   {
    "duration": 10,
    "start_time": "2021-10-22T15:29:59.022Z"
   },
   {
    "duration": 49,
    "start_time": "2021-10-22T15:29:59.034Z"
   },
   {
    "duration": 10,
    "start_time": "2021-10-22T15:29:59.085Z"
   },
   {
    "duration": 28,
    "start_time": "2021-10-22T15:29:59.097Z"
   },
   {
    "duration": 15,
    "start_time": "2021-10-22T15:29:59.127Z"
   },
   {
    "duration": 54,
    "start_time": "2021-10-22T15:29:59.145Z"
   },
   {
    "duration": 26,
    "start_time": "2021-10-22T15:29:59.201Z"
   },
   {
    "duration": 61,
    "start_time": "2021-10-22T15:29:59.231Z"
   },
   {
    "duration": 7,
    "start_time": "2021-10-22T15:29:59.295Z"
   },
   {
    "duration": 1083,
    "start_time": "2021-10-22T15:29:59.306Z"
   },
   {
    "duration": 126,
    "start_time": "2021-10-23T07:42:52.732Z"
   },
   {
    "duration": 112,
    "start_time": "2021-10-23T07:43:02.462Z"
   },
   {
    "duration": 152,
    "start_time": "2021-10-23T07:43:23.119Z"
   },
   {
    "duration": 115,
    "start_time": "2021-10-23T07:43:30.962Z"
   },
   {
    "duration": 6,
    "start_time": "2021-10-23T09:32:17.420Z"
   },
   {
    "duration": 1360,
    "start_time": "2021-10-23T09:32:17.429Z"
   },
   {
    "duration": 35,
    "start_time": "2021-10-23T09:32:18.792Z"
   },
   {
    "duration": 38,
    "start_time": "2021-10-23T09:32:18.830Z"
   },
   {
    "duration": 34,
    "start_time": "2021-10-23T09:32:18.871Z"
   },
   {
    "duration": 20,
    "start_time": "2021-10-23T09:32:18.908Z"
   },
   {
    "duration": 10,
    "start_time": "2021-10-23T09:32:18.933Z"
   },
   {
    "duration": 11,
    "start_time": "2021-10-23T09:32:18.946Z"
   },
   {
    "duration": 44,
    "start_time": "2021-10-23T09:32:18.959Z"
   },
   {
    "duration": 12,
    "start_time": "2021-10-23T09:32:19.005Z"
   },
   {
    "duration": 17,
    "start_time": "2021-10-23T09:32:19.019Z"
   },
   {
    "duration": 15,
    "start_time": "2021-10-23T09:32:19.038Z"
   },
   {
    "duration": 18,
    "start_time": "2021-10-23T09:32:19.055Z"
   },
   {
    "duration": 39,
    "start_time": "2021-10-23T09:32:19.076Z"
   },
   {
    "duration": 23,
    "start_time": "2021-10-23T09:32:19.118Z"
   },
   {
    "duration": 21,
    "start_time": "2021-10-23T09:32:19.143Z"
   },
   {
    "duration": 21,
    "start_time": "2021-10-23T09:32:19.167Z"
   },
   {
    "duration": 34,
    "start_time": "2021-10-23T09:32:19.190Z"
   },
   {
    "duration": 16,
    "start_time": "2021-10-23T09:32:19.229Z"
   },
   {
    "duration": 56,
    "start_time": "2021-10-23T09:32:19.248Z"
   },
   {
    "duration": 36,
    "start_time": "2021-10-23T09:32:19.306Z"
   },
   {
    "duration": 37,
    "start_time": "2021-10-23T09:32:19.344Z"
   },
   {
    "duration": 19,
    "start_time": "2021-10-23T09:32:19.383Z"
   },
   {
    "duration": 974,
    "start_time": "2021-10-23T09:32:19.404Z"
   },
   {
    "duration": 3921,
    "start_time": "2021-10-23T09:32:20.381Z"
   },
   {
    "duration": 35,
    "start_time": "2021-10-23T09:32:24.305Z"
   },
   {
    "duration": 64,
    "start_time": "2021-10-23T09:32:24.343Z"
   },
   {
    "duration": 29,
    "start_time": "2021-10-23T09:32:24.410Z"
   },
   {
    "duration": 61,
    "start_time": "2021-10-23T09:32:24.441Z"
   },
   {
    "duration": 21,
    "start_time": "2021-10-23T09:32:24.504Z"
   },
   {
    "duration": 6,
    "start_time": "2021-10-23T09:32:24.528Z"
   },
   {
    "duration": 66,
    "start_time": "2021-10-23T09:32:24.536Z"
   },
   {
    "duration": 46,
    "start_time": "2021-10-23T09:32:24.605Z"
   },
   {
    "duration": 51,
    "start_time": "2021-10-23T09:32:24.654Z"
   },
   {
    "duration": 42,
    "start_time": "2021-10-23T09:32:24.708Z"
   },
   {
    "duration": 18,
    "start_time": "2021-10-23T09:32:24.752Z"
   },
   {
    "duration": 63,
    "start_time": "2021-10-23T09:32:24.772Z"
   },
   {
    "duration": 31,
    "start_time": "2021-10-23T09:32:24.838Z"
   },
   {
    "duration": 50,
    "start_time": "2021-10-23T09:32:24.872Z"
   },
   {
    "duration": 65,
    "start_time": "2021-10-23T09:34:55.994Z"
   },
   {
    "duration": 29,
    "start_time": "2021-10-23T09:35:28.510Z"
   },
   {
    "duration": 31,
    "start_time": "2021-10-23T09:35:32.883Z"
   },
   {
    "duration": 93,
    "start_time": "2021-10-23T09:35:32.917Z"
   },
   {
    "duration": 13,
    "start_time": "2021-10-23T09:35:33.013Z"
   },
   {
    "duration": 36,
    "start_time": "2021-10-23T09:35:33.030Z"
   },
   {
    "duration": 10,
    "start_time": "2021-10-23T09:35:33.102Z"
   },
   {
    "duration": 18,
    "start_time": "2021-10-23T09:35:33.115Z"
   },
   {
    "duration": 10,
    "start_time": "2021-10-23T09:35:33.137Z"
   },
   {
    "duration": 53,
    "start_time": "2021-10-23T09:35:33.152Z"
   },
   {
    "duration": 10,
    "start_time": "2021-10-23T09:35:33.209Z"
   },
   {
    "duration": 11,
    "start_time": "2021-10-23T09:35:33.222Z"
   },
   {
    "duration": 66,
    "start_time": "2021-10-23T09:35:33.236Z"
   },
   {
    "duration": 10,
    "start_time": "2021-10-23T09:35:33.306Z"
   },
   {
    "duration": 10,
    "start_time": "2021-10-23T09:35:33.318Z"
   },
   {
    "duration": 10,
    "start_time": "2021-10-23T09:35:33.330Z"
   },
   {
    "duration": 10,
    "start_time": "2021-10-23T09:35:33.343Z"
   },
   {
    "duration": 47,
    "start_time": "2021-10-23T09:35:33.355Z"
   },
   {
    "duration": 10,
    "start_time": "2021-10-23T09:35:33.404Z"
   },
   {
    "duration": 29,
    "start_time": "2021-10-23T09:35:33.417Z"
   },
   {
    "duration": 16,
    "start_time": "2021-10-23T09:35:33.448Z"
   },
   {
    "duration": 23,
    "start_time": "2021-10-23T09:35:33.501Z"
   },
   {
    "duration": 26,
    "start_time": "2021-10-23T09:35:33.526Z"
   },
   {
    "duration": 53,
    "start_time": "2021-10-23T09:35:33.554Z"
   },
   {
    "duration": 53,
    "start_time": "2021-10-23T09:35:33.612Z"
   },
   {
    "duration": 48,
    "start_time": "2021-10-23T09:35:33.668Z"
   },
   {
    "duration": 7,
    "start_time": "2021-10-23T09:35:33.718Z"
   },
   {
    "duration": 973,
    "start_time": "2021-10-23T09:35:33.727Z"
   },
   {
    "duration": 3747,
    "start_time": "2021-10-23T09:35:34.703Z"
   },
   {
    "duration": 31,
    "start_time": "2021-10-23T09:35:38.452Z"
   },
   {
    "duration": 34,
    "start_time": "2021-10-23T09:35:38.501Z"
   },
   {
    "duration": 28,
    "start_time": "2021-10-23T09:35:38.537Z"
   },
   {
    "duration": 64,
    "start_time": "2021-10-23T09:35:38.568Z"
   },
   {
    "duration": 17,
    "start_time": "2021-10-23T09:35:38.634Z"
   },
   {
    "duration": 48,
    "start_time": "2021-10-23T09:35:38.653Z"
   },
   {
    "duration": 38,
    "start_time": "2021-10-23T09:35:38.703Z"
   },
   {
    "duration": 66,
    "start_time": "2021-10-23T09:35:38.744Z"
   },
   {
    "duration": 21,
    "start_time": "2021-10-23T09:35:38.813Z"
   },
   {
    "duration": 39,
    "start_time": "2021-10-23T09:35:38.836Z"
   },
   {
    "duration": 38,
    "start_time": "2021-10-23T09:35:38.877Z"
   },
   {
    "duration": 32,
    "start_time": "2021-10-23T09:35:38.917Z"
   },
   {
    "duration": 62,
    "start_time": "2021-10-23T09:35:38.952Z"
   },
   {
    "duration": 30,
    "start_time": "2021-10-23T09:35:39.016Z"
   },
   {
    "duration": 49,
    "start_time": "2021-10-23T09:37:02.943Z"
   },
   {
    "duration": 61,
    "start_time": "2021-10-23T09:37:14.273Z"
   },
   {
    "duration": 30,
    "start_time": "2021-10-23T09:37:21.060Z"
   },
   {
    "duration": 28,
    "start_time": "2021-10-23T09:41:18.377Z"
   },
   {
    "duration": 94,
    "start_time": "2021-10-23T09:41:18.408Z"
   },
   {
    "duration": 18,
    "start_time": "2021-10-23T09:41:18.505Z"
   },
   {
    "duration": 36,
    "start_time": "2021-10-23T09:41:18.526Z"
   },
   {
    "duration": 10,
    "start_time": "2021-10-23T09:41:18.601Z"
   },
   {
    "duration": 16,
    "start_time": "2021-10-23T09:41:18.613Z"
   },
   {
    "duration": 7,
    "start_time": "2021-10-23T09:41:18.632Z"
   },
   {
    "duration": 10,
    "start_time": "2021-10-23T09:41:18.644Z"
   },
   {
    "duration": 51,
    "start_time": "2021-10-23T09:41:18.656Z"
   },
   {
    "duration": 10,
    "start_time": "2021-10-23T09:41:18.709Z"
   },
   {
    "duration": 9,
    "start_time": "2021-10-23T09:41:18.721Z"
   },
   {
    "duration": 9,
    "start_time": "2021-10-23T09:41:18.732Z"
   },
   {
    "duration": 13,
    "start_time": "2021-10-23T09:41:18.743Z"
   },
   {
    "duration": 10,
    "start_time": "2021-10-23T09:41:18.800Z"
   },
   {
    "duration": 15,
    "start_time": "2021-10-23T09:41:18.812Z"
   },
   {
    "duration": 16,
    "start_time": "2021-10-23T09:41:18.829Z"
   },
   {
    "duration": 11,
    "start_time": "2021-10-23T09:41:18.847Z"
   },
   {
    "duration": 76,
    "start_time": "2021-10-23T09:41:18.861Z"
   },
   {
    "duration": 23,
    "start_time": "2021-10-23T09:41:18.940Z"
   },
   {
    "duration": 64,
    "start_time": "2021-10-23T09:41:18.966Z"
   },
   {
    "duration": 41,
    "start_time": "2021-10-23T09:41:19.034Z"
   },
   {
    "duration": 42,
    "start_time": "2021-10-23T09:41:19.101Z"
   },
   {
    "duration": 73,
    "start_time": "2021-10-23T09:41:19.149Z"
   },
   {
    "duration": 79,
    "start_time": "2021-10-23T09:41:19.226Z"
   },
   {
    "duration": 9,
    "start_time": "2021-10-23T09:41:19.308Z"
   },
   {
    "duration": 984,
    "start_time": "2021-10-23T09:41:19.319Z"
   },
   {
    "duration": 3755,
    "start_time": "2021-10-23T09:41:20.305Z"
   },
   {
    "duration": 45,
    "start_time": "2021-10-23T09:41:24.063Z"
   },
   {
    "duration": 36,
    "start_time": "2021-10-23T09:41:24.111Z"
   },
   {
    "duration": 57,
    "start_time": "2021-10-23T09:41:24.150Z"
   },
   {
    "duration": 37,
    "start_time": "2021-10-23T09:41:24.209Z"
   },
   {
    "duration": 16,
    "start_time": "2021-10-23T09:41:24.249Z"
   },
   {
    "duration": 35,
    "start_time": "2021-10-23T09:41:24.268Z"
   },
   {
    "duration": 38,
    "start_time": "2021-10-23T09:41:24.306Z"
   },
   {
    "duration": 86,
    "start_time": "2021-10-23T09:41:24.348Z"
   },
   {
    "duration": 22,
    "start_time": "2021-10-23T09:41:24.438Z"
   },
   {
    "duration": 62,
    "start_time": "2021-10-23T09:41:24.463Z"
   },
   {
    "duration": 18,
    "start_time": "2021-10-23T09:41:24.527Z"
   },
   {
    "duration": 55,
    "start_time": "2021-10-23T09:41:24.547Z"
   },
   {
    "duration": 29,
    "start_time": "2021-10-23T09:41:24.604Z"
   },
   {
    "duration": 28,
    "start_time": "2021-10-23T09:41:24.635Z"
   },
   {
    "duration": 330,
    "start_time": "2021-10-25T08:15:55.437Z"
   },
   {
    "duration": 9,
    "start_time": "2021-10-25T08:16:00.620Z"
   },
   {
    "duration": 863,
    "start_time": "2021-10-25T08:16:00.638Z"
   },
   {
    "duration": 21,
    "start_time": "2021-10-25T08:16:01.504Z"
   },
   {
    "duration": 48,
    "start_time": "2021-10-25T08:16:01.529Z"
   },
   {
    "duration": 9,
    "start_time": "2021-10-25T08:16:01.580Z"
   },
   {
    "duration": 24,
    "start_time": "2021-10-25T08:16:01.591Z"
   },
   {
    "duration": 9,
    "start_time": "2021-10-25T08:16:01.617Z"
   },
   {
    "duration": 45,
    "start_time": "2021-10-25T08:16:01.628Z"
   },
   {
    "duration": 36,
    "start_time": "2021-10-25T08:16:01.675Z"
   },
   {
    "duration": 17,
    "start_time": "2021-10-25T08:16:01.715Z"
   },
   {
    "duration": 25,
    "start_time": "2021-10-25T08:16:01.735Z"
   },
   {
    "duration": 20,
    "start_time": "2021-10-25T08:16:01.763Z"
   },
   {
    "duration": 19,
    "start_time": "2021-10-25T08:16:01.785Z"
   },
   {
    "duration": 22,
    "start_time": "2021-10-25T08:16:01.806Z"
   },
   {
    "duration": 12,
    "start_time": "2021-10-25T08:16:01.831Z"
   },
   {
    "duration": 16,
    "start_time": "2021-10-25T08:16:01.846Z"
   },
   {
    "duration": 11,
    "start_time": "2021-10-25T08:16:01.864Z"
   },
   {
    "duration": 34,
    "start_time": "2021-10-25T08:16:01.878Z"
   },
   {
    "duration": 17,
    "start_time": "2021-10-25T08:16:01.914Z"
   },
   {
    "duration": 49,
    "start_time": "2021-10-25T08:16:01.933Z"
   },
   {
    "duration": 26,
    "start_time": "2021-10-25T08:16:01.985Z"
   },
   {
    "duration": 55,
    "start_time": "2021-10-25T08:16:02.013Z"
   },
   {
    "duration": 40,
    "start_time": "2021-10-25T08:16:02.071Z"
   },
   {
    "duration": 73,
    "start_time": "2021-10-25T08:16:02.114Z"
   },
   {
    "duration": 7,
    "start_time": "2021-10-25T08:16:02.189Z"
   },
   {
    "duration": 973,
    "start_time": "2021-10-25T08:16:02.198Z"
   },
   {
    "duration": 3822,
    "start_time": "2021-10-25T08:16:03.174Z"
   },
   {
    "duration": 30,
    "start_time": "2021-10-25T08:16:07.000Z"
   },
   {
    "duration": 62,
    "start_time": "2021-10-25T08:16:07.033Z"
   },
   {
    "duration": 29,
    "start_time": "2021-10-25T08:16:07.098Z"
   },
   {
    "duration": 62,
    "start_time": "2021-10-25T08:16:07.129Z"
   },
   {
    "duration": 21,
    "start_time": "2021-10-25T08:16:07.193Z"
   },
   {
    "duration": 6,
    "start_time": "2021-10-25T08:16:07.216Z"
   },
   {
    "duration": 71,
    "start_time": "2021-10-25T08:16:07.224Z"
   },
   {
    "duration": 49,
    "start_time": "2021-10-25T08:16:07.297Z"
   },
   {
    "duration": 22,
    "start_time": "2021-10-25T08:16:07.367Z"
   },
   {
    "duration": 41,
    "start_time": "2021-10-25T08:16:07.391Z"
   },
   {
    "duration": 46,
    "start_time": "2021-10-25T08:16:07.434Z"
   },
   {
    "duration": 20,
    "start_time": "2021-10-25T08:16:07.482Z"
   },
   {
    "duration": 27,
    "start_time": "2021-10-25T08:16:07.505Z"
   },
   {
    "duration": 57,
    "start_time": "2021-10-25T08:16:07.534Z"
   },
   {
    "duration": 27,
    "start_time": "2021-10-25T08:16:07.593Z"
   },
   {
    "duration": 25,
    "start_time": "2021-10-25T08:16:25.498Z"
   },
   {
    "duration": 85,
    "start_time": "2021-10-25T08:16:58.941Z"
   },
   {
    "duration": 9,
    "start_time": "2021-10-25T08:17:06.593Z"
   },
   {
    "duration": 9,
    "start_time": "2021-10-25T08:17:17.523Z"
   },
   {
    "duration": 9,
    "start_time": "2021-10-25T08:19:27.363Z"
   },
   {
    "duration": 257,
    "start_time": "2021-10-25T08:20:31.823Z"
   },
   {
    "duration": 12,
    "start_time": "2021-10-25T08:20:43.963Z"
   },
   {
    "duration": 92,
    "start_time": "2021-10-25T08:43:36.329Z"
   },
   {
    "duration": 31,
    "start_time": "2021-10-25T09:46:13.789Z"
   },
   {
    "duration": 30,
    "start_time": "2021-10-25T09:47:05.116Z"
   },
   {
    "duration": 31,
    "start_time": "2021-10-25T09:47:14.496Z"
   },
   {
    "duration": 96,
    "start_time": "2021-10-25T10:06:04.612Z"
   },
   {
    "duration": 89,
    "start_time": "2021-10-25T10:08:02.414Z"
   },
   {
    "duration": 7,
    "start_time": "2021-10-25T10:08:38.943Z"
   },
   {
    "duration": 6,
    "start_time": "2021-10-25T10:08:52.272Z"
   },
   {
    "duration": 6,
    "start_time": "2021-10-25T10:09:08.576Z"
   },
   {
    "duration": 6,
    "start_time": "2021-10-25T10:14:18.064Z"
   },
   {
    "duration": 16,
    "start_time": "2021-10-25T10:21:03.275Z"
   },
   {
    "duration": 15,
    "start_time": "2021-10-25T10:21:53.588Z"
   },
   {
    "duration": 11,
    "start_time": "2021-10-25T10:23:30.296Z"
   },
   {
    "duration": 24,
    "start_time": "2021-10-25T10:25:25.386Z"
   },
   {
    "duration": 28,
    "start_time": "2021-10-25T10:25:37.970Z"
   },
   {
    "duration": 6,
    "start_time": "2021-10-25T10:29:10.699Z"
   },
   {
    "duration": 30,
    "start_time": "2021-10-25T10:29:33.565Z"
   },
   {
    "duration": 84,
    "start_time": "2021-10-25T10:29:33.598Z"
   },
   {
    "duration": 12,
    "start_time": "2021-10-25T10:29:33.685Z"
   },
   {
    "duration": 27,
    "start_time": "2021-10-25T10:29:33.699Z"
   },
   {
    "duration": 8,
    "start_time": "2021-10-25T10:29:33.768Z"
   },
   {
    "duration": 20,
    "start_time": "2021-10-25T10:29:33.778Z"
   },
   {
    "duration": 11,
    "start_time": "2021-10-25T10:29:33.800Z"
   },
   {
    "duration": 51,
    "start_time": "2021-10-25T10:29:33.817Z"
   },
   {
    "duration": 9,
    "start_time": "2021-10-25T10:29:33.873Z"
   },
   {
    "duration": 13,
    "start_time": "2021-10-25T10:29:33.885Z"
   },
   {
    "duration": 9,
    "start_time": "2021-10-25T10:29:33.901Z"
   },
   {
    "duration": 9,
    "start_time": "2021-10-25T10:29:33.913Z"
   },
   {
    "duration": 9,
    "start_time": "2021-10-25T10:29:33.968Z"
   },
   {
    "duration": 15,
    "start_time": "2021-10-25T10:29:33.979Z"
   },
   {
    "duration": 13,
    "start_time": "2021-10-25T10:29:33.997Z"
   },
   {
    "duration": 17,
    "start_time": "2021-10-25T10:29:34.013Z"
   },
   {
    "duration": 37,
    "start_time": "2021-10-25T10:29:34.033Z"
   },
   {
    "duration": 28,
    "start_time": "2021-10-25T10:29:34.072Z"
   },
   {
    "duration": 17,
    "start_time": "2021-10-25T10:29:34.102Z"
   },
   {
    "duration": 61,
    "start_time": "2021-10-25T10:29:34.122Z"
   },
   {
    "duration": 29,
    "start_time": "2021-10-25T10:29:34.186Z"
   },
   {
    "duration": 54,
    "start_time": "2021-10-25T10:29:34.218Z"
   },
   {
    "duration": 36,
    "start_time": "2021-10-25T10:29:34.278Z"
   },
   {
    "duration": 70,
    "start_time": "2021-10-25T10:29:34.317Z"
   },
   {
    "duration": 7,
    "start_time": "2021-10-25T10:29:34.389Z"
   },
   {
    "duration": 959,
    "start_time": "2021-10-25T10:29:34.398Z"
   },
   {
    "duration": 3640,
    "start_time": "2021-10-25T10:29:35.360Z"
   },
   {
    "duration": 32,
    "start_time": "2021-10-25T10:29:39.002Z"
   },
   {
    "duration": 62,
    "start_time": "2021-10-25T10:29:39.036Z"
   },
   {
    "duration": 27,
    "start_time": "2021-10-25T10:29:39.100Z"
   },
   {
    "duration": 61,
    "start_time": "2021-10-25T10:29:39.130Z"
   },
   {
    "duration": 15,
    "start_time": "2021-10-25T10:29:39.193Z"
   },
   {
    "duration": 8,
    "start_time": "2021-10-25T10:29:39.210Z"
   },
   {
    "duration": 65,
    "start_time": "2021-10-25T10:29:39.220Z"
   },
   {
    "duration": 48,
    "start_time": "2021-10-25T10:29:39.288Z"
   },
   {
    "duration": 47,
    "start_time": "2021-10-25T10:29:39.339Z"
   },
   {
    "duration": 40,
    "start_time": "2021-10-25T10:29:39.388Z"
   },
   {
    "duration": 42,
    "start_time": "2021-10-25T10:29:39.430Z"
   },
   {
    "duration": 31,
    "start_time": "2021-10-25T10:29:39.475Z"
   },
   {
    "duration": 9,
    "start_time": "2021-10-25T10:29:39.509Z"
   },
   {
    "duration": 49,
    "start_time": "2021-10-25T10:29:39.520Z"
   },
   {
    "duration": 15,
    "start_time": "2021-10-25T10:29:39.572Z"
   },
   {
    "duration": 14,
    "start_time": "2021-10-25T10:29:39.589Z"
   },
   {
    "duration": 29,
    "start_time": "2021-10-25T10:29:39.606Z"
   },
   {
    "duration": 7,
    "start_time": "2021-10-25T10:29:39.666Z"
   },
   {
    "duration": 31,
    "start_time": "2021-10-25T10:29:39.675Z"
   },
   {
    "duration": 25,
    "start_time": "2021-10-25T10:29:39.709Z"
   },
   {
    "duration": 6,
    "start_time": "2021-10-25T10:39:14.509Z"
   },
   {
    "duration": 6,
    "start_time": "2021-10-25T10:42:25.791Z"
   },
   {
    "duration": 11,
    "start_time": "2021-10-25T10:50:17.046Z"
   },
   {
    "duration": 14,
    "start_time": "2021-10-25T10:51:57.842Z"
   },
   {
    "duration": 13,
    "start_time": "2021-10-25T10:53:26.952Z"
   },
   {
    "duration": 80,
    "start_time": "2021-10-25T10:55:53.308Z"
   },
   {
    "duration": 70,
    "start_time": "2021-10-25T10:56:04.523Z"
   },
   {
    "duration": 70,
    "start_time": "2021-10-25T10:56:14.718Z"
   },
   {
    "duration": 30,
    "start_time": "2021-10-25T10:56:20.730Z"
   },
   {
    "duration": 16,
    "start_time": "2021-10-25T10:58:33.809Z"
   },
   {
    "duration": 7,
    "start_time": "2021-10-25T11:03:31.380Z"
   },
   {
    "duration": 9,
    "start_time": "2021-10-25T11:06:25.731Z"
   },
   {
    "duration": 15,
    "start_time": "2021-10-25T11:17:50.584Z"
   },
   {
    "duration": 11,
    "start_time": "2021-10-25T11:18:07.264Z"
   },
   {
    "duration": 30,
    "start_time": "2021-10-25T11:21:21.225Z"
   },
   {
    "duration": 8,
    "start_time": "2021-10-25T11:22:37.637Z"
   },
   {
    "duration": 9,
    "start_time": "2021-10-25T11:33:33.581Z"
   },
   {
    "duration": 7,
    "start_time": "2021-10-25T11:42:00.781Z"
   },
   {
    "duration": 37,
    "start_time": "2021-10-25T12:29:43.517Z"
   },
   {
    "duration": 38,
    "start_time": "2021-10-25T12:30:13.965Z"
   },
   {
    "duration": 21,
    "start_time": "2021-10-25T12:34:54.389Z"
   },
   {
    "duration": 7,
    "start_time": "2021-10-25T12:56:19.943Z"
   },
   {
    "duration": 11,
    "start_time": "2021-10-25T13:06:35.648Z"
   },
   {
    "duration": 32,
    "start_time": "2021-10-25T13:10:18.205Z"
   },
   {
    "duration": 8,
    "start_time": "2021-10-25T13:16:44.123Z"
   },
   {
    "duration": 34,
    "start_time": "2021-10-25T13:20:11.695Z"
   },
   {
    "duration": 19,
    "start_time": "2021-10-25T13:32:40.180Z"
   },
   {
    "duration": 7,
    "start_time": "2021-10-25T13:44:45.656Z"
   },
   {
    "duration": 6,
    "start_time": "2021-10-25T13:49:31.628Z"
   },
   {
    "duration": 7,
    "start_time": "2021-10-25T13:52:12.888Z"
   },
   {
    "duration": 831,
    "start_time": "2021-10-25T13:52:12.995Z"
   },
   {
    "duration": 22,
    "start_time": "2021-10-25T13:52:13.829Z"
   },
   {
    "duration": 26,
    "start_time": "2021-10-25T13:52:13.868Z"
   },
   {
    "duration": 8,
    "start_time": "2021-10-25T13:52:13.897Z"
   },
   {
    "duration": 16,
    "start_time": "2021-10-25T13:52:13.908Z"
   },
   {
    "duration": 10,
    "start_time": "2021-10-25T13:52:13.968Z"
   },
   {
    "duration": 11,
    "start_time": "2021-10-25T13:52:13.980Z"
   },
   {
    "duration": 14,
    "start_time": "2021-10-25T13:52:13.994Z"
   },
   {
    "duration": 56,
    "start_time": "2021-10-25T13:52:14.011Z"
   },
   {
    "duration": 8,
    "start_time": "2021-10-25T13:52:14.070Z"
   },
   {
    "duration": 11,
    "start_time": "2021-10-25T13:52:14.081Z"
   },
   {
    "duration": 13,
    "start_time": "2021-10-25T13:52:14.094Z"
   },
   {
    "duration": 17,
    "start_time": "2021-10-25T13:52:14.109Z"
   },
   {
    "duration": 43,
    "start_time": "2021-10-25T13:52:14.128Z"
   },
   {
    "duration": 11,
    "start_time": "2021-10-25T13:52:14.173Z"
   },
   {
    "duration": 10,
    "start_time": "2021-10-25T13:52:14.187Z"
   },
   {
    "duration": 28,
    "start_time": "2021-10-25T13:52:14.200Z"
   },
   {
    "duration": 17,
    "start_time": "2021-10-25T13:52:14.268Z"
   },
   {
    "duration": 24,
    "start_time": "2021-10-25T13:52:14.287Z"
   },
   {
    "duration": 56,
    "start_time": "2021-10-25T13:52:14.313Z"
   },
   {
    "duration": 31,
    "start_time": "2021-10-25T13:52:14.371Z"
   },
   {
    "duration": 64,
    "start_time": "2021-10-25T13:52:14.404Z"
   },
   {
    "duration": 55,
    "start_time": "2021-10-25T13:52:14.474Z"
   },
   {
    "duration": 7,
    "start_time": "2021-10-25T13:52:14.532Z"
   },
   {
    "duration": 947,
    "start_time": "2021-10-25T13:52:14.567Z"
   },
   {
    "duration": 3735,
    "start_time": "2021-10-25T13:52:15.517Z"
   },
   {
    "duration": 40,
    "start_time": "2021-10-25T13:52:19.255Z"
   },
   {
    "duration": 34,
    "start_time": "2021-10-25T13:52:19.298Z"
   },
   {
    "duration": 59,
    "start_time": "2021-10-25T13:52:19.335Z"
   },
   {
    "duration": 34,
    "start_time": "2021-10-25T13:52:19.397Z"
   },
   {
    "duration": 45,
    "start_time": "2021-10-25T13:52:19.434Z"
   },
   {
    "duration": 7,
    "start_time": "2021-10-25T13:52:19.481Z"
   },
   {
    "duration": 36,
    "start_time": "2021-10-25T13:52:19.490Z"
   },
   {
    "duration": 75,
    "start_time": "2021-10-25T13:52:19.529Z"
   },
   {
    "duration": 21,
    "start_time": "2021-10-25T13:52:19.606Z"
   },
   {
    "duration": 60,
    "start_time": "2021-10-25T13:52:19.630Z"
   },
   {
    "duration": 18,
    "start_time": "2021-10-25T13:52:19.693Z"
   },
   {
    "duration": 62,
    "start_time": "2021-10-25T13:52:19.713Z"
   },
   {
    "duration": 9,
    "start_time": "2021-10-25T13:52:19.778Z"
   },
   {
    "duration": 13,
    "start_time": "2021-10-25T13:52:19.790Z"
   },
   {
    "duration": 15,
    "start_time": "2021-10-25T13:52:19.806Z"
   },
   {
    "duration": 48,
    "start_time": "2021-10-25T13:52:19.824Z"
   },
   {
    "duration": 31,
    "start_time": "2021-10-25T13:52:19.875Z"
   },
   {
    "duration": 8,
    "start_time": "2021-10-25T13:52:19.908Z"
   },
   {
    "duration": 64,
    "start_time": "2021-10-25T13:52:19.918Z"
   },
   {
    "duration": 15,
    "start_time": "2021-10-25T13:52:19.985Z"
   },
   {
    "duration": 11,
    "start_time": "2021-10-25T13:52:20.002Z"
   },
   {
    "duration": 19,
    "start_time": "2021-10-25T13:52:20.015Z"
   },
   {
    "duration": 56,
    "start_time": "2021-10-25T13:52:20.037Z"
   },
   {
    "duration": 8,
    "start_time": "2021-10-25T13:52:20.095Z"
   },
   {
    "duration": 70,
    "start_time": "2021-10-25T13:52:20.105Z"
   },
   {
    "duration": 22,
    "start_time": "2021-10-25T13:52:20.177Z"
   },
   {
    "duration": 9,
    "start_time": "2021-10-25T13:52:20.201Z"
   },
   {
    "duration": 26,
    "start_time": "2021-10-25T13:52:20.213Z"
   },
   {
    "duration": 51,
    "start_time": "2021-10-25T13:52:20.241Z"
   },
   {
    "duration": 6,
    "start_time": "2021-10-25T13:52:20.295Z"
   },
   {
    "duration": 63,
    "start_time": "2021-10-25T13:52:20.303Z"
   },
   {
    "duration": 18,
    "start_time": "2021-10-25T13:52:20.369Z"
   },
   {
    "duration": 9,
    "start_time": "2021-10-25T13:52:20.390Z"
   },
   {
    "duration": 9,
    "start_time": "2021-10-25T21:07:08.925Z"
   },
   {
    "duration": 852,
    "start_time": "2021-10-25T21:07:08.938Z"
   },
   {
    "duration": 36,
    "start_time": "2021-10-25T21:07:09.794Z"
   },
   {
    "duration": 39,
    "start_time": "2021-10-25T21:07:09.834Z"
   },
   {
    "duration": 11,
    "start_time": "2021-10-25T21:07:09.876Z"
   },
   {
    "duration": 48,
    "start_time": "2021-10-25T21:07:09.889Z"
   },
   {
    "duration": 10,
    "start_time": "2021-10-25T21:07:09.940Z"
   },
   {
    "duration": 10,
    "start_time": "2021-10-25T21:07:09.954Z"
   },
   {
    "duration": 8,
    "start_time": "2021-10-25T21:07:09.967Z"
   },
   {
    "duration": 10,
    "start_time": "2021-10-25T21:07:09.977Z"
   },
   {
    "duration": 10,
    "start_time": "2021-10-25T21:07:10.031Z"
   },
   {
    "duration": 15,
    "start_time": "2021-10-25T21:07:10.043Z"
   },
   {
    "duration": 11,
    "start_time": "2021-10-25T21:07:10.061Z"
   },
   {
    "duration": 18,
    "start_time": "2021-10-25T21:07:10.075Z"
   },
   {
    "duration": 36,
    "start_time": "2021-10-25T21:07:10.095Z"
   },
   {
    "duration": 10,
    "start_time": "2021-10-25T21:07:10.134Z"
   },
   {
    "duration": 14,
    "start_time": "2021-10-25T21:07:10.147Z"
   },
   {
    "duration": 28,
    "start_time": "2021-10-25T21:07:10.163Z"
   },
   {
    "duration": 17,
    "start_time": "2021-10-25T21:07:10.230Z"
   },
   {
    "duration": 24,
    "start_time": "2021-10-25T21:07:10.249Z"
   },
   {
    "duration": 60,
    "start_time": "2021-10-25T21:07:10.275Z"
   },
   {
    "duration": 29,
    "start_time": "2021-10-25T21:07:10.337Z"
   },
   {
    "duration": 64,
    "start_time": "2021-10-25T21:07:10.372Z"
   },
   {
    "duration": 53,
    "start_time": "2021-10-25T21:07:10.439Z"
   },
   {
    "duration": 35,
    "start_time": "2021-10-25T21:07:10.494Z"
   },
   {
    "duration": 1045,
    "start_time": "2021-10-25T21:07:10.531Z"
   },
   {
    "duration": 3823,
    "start_time": "2021-10-25T21:07:11.578Z"
   },
   {
    "duration": 47,
    "start_time": "2021-10-25T21:07:15.404Z"
   },
   {
    "duration": 38,
    "start_time": "2021-10-25T21:07:15.453Z"
   },
   {
    "duration": 57,
    "start_time": "2021-10-25T21:07:15.493Z"
   },
   {
    "duration": 37,
    "start_time": "2021-10-25T21:07:15.552Z"
   },
   {
    "duration": 50,
    "start_time": "2021-10-25T21:07:15.591Z"
   },
   {
    "duration": 7,
    "start_time": "2021-10-25T21:07:15.644Z"
   },
   {
    "duration": 54,
    "start_time": "2021-10-25T21:07:15.654Z"
   },
   {
    "duration": 83,
    "start_time": "2021-10-25T21:07:15.711Z"
   },
   {
    "duration": 44,
    "start_time": "2021-10-25T21:07:15.797Z"
   },
   {
    "duration": 46,
    "start_time": "2021-10-25T21:07:15.844Z"
   },
   {
    "duration": 54,
    "start_time": "2021-10-25T21:07:15.892Z"
   },
   {
    "duration": 35,
    "start_time": "2021-10-25T21:07:15.949Z"
   },
   {
    "duration": 9,
    "start_time": "2021-10-25T21:07:15.987Z"
   },
   {
    "duration": 41,
    "start_time": "2021-10-25T21:07:15.998Z"
   },
   {
    "duration": 23,
    "start_time": "2021-10-25T21:07:16.041Z"
   },
   {
    "duration": 21,
    "start_time": "2021-10-25T21:07:16.066Z"
   },
   {
    "duration": 49,
    "start_time": "2021-10-25T21:07:16.089Z"
   },
   {
    "duration": 6,
    "start_time": "2021-10-25T21:07:16.141Z"
   },
   {
    "duration": 38,
    "start_time": "2021-10-25T21:07:16.150Z"
   },
   {
    "duration": 43,
    "start_time": "2021-10-25T21:07:16.190Z"
   },
   {
    "duration": 9,
    "start_time": "2021-10-25T21:07:16.235Z"
   },
   {
    "duration": 17,
    "start_time": "2021-10-25T21:07:16.246Z"
   },
   {
    "duration": 69,
    "start_time": "2021-10-25T21:07:16.265Z"
   },
   {
    "duration": 7,
    "start_time": "2021-10-25T21:07:16.337Z"
   },
   {
    "duration": 57,
    "start_time": "2021-10-25T21:07:16.348Z"
   },
   {
    "duration": 48,
    "start_time": "2021-10-25T21:07:16.408Z"
   },
   {
    "duration": 8,
    "start_time": "2021-10-25T21:07:16.459Z"
   },
   {
    "duration": 19,
    "start_time": "2021-10-25T21:07:16.470Z"
   },
   {
    "duration": 48,
    "start_time": "2021-10-25T21:07:16.530Z"
   },
   {
    "duration": 9,
    "start_time": "2021-10-25T21:07:16.581Z"
   },
   {
    "duration": 78,
    "start_time": "2021-10-25T21:07:16.593Z"
   },
   {
    "duration": 28,
    "start_time": "2021-10-25T21:07:16.674Z"
   },
   {
    "duration": 28,
    "start_time": "2021-10-25T21:07:16.704Z"
   },
   {
    "duration": 5,
    "start_time": "2021-10-26T07:58:42.834Z"
   },
   {
    "duration": 575,
    "start_time": "2021-10-26T07:58:42.840Z"
   },
   {
    "duration": 12,
    "start_time": "2021-10-26T07:58:43.417Z"
   },
   {
    "duration": 16,
    "start_time": "2021-10-26T07:58:43.431Z"
   },
   {
    "duration": 5,
    "start_time": "2021-10-26T07:58:43.449Z"
   },
   {
    "duration": 10,
    "start_time": "2021-10-26T07:58:43.455Z"
   },
   {
    "duration": 5,
    "start_time": "2021-10-26T07:58:43.491Z"
   },
   {
    "duration": 7,
    "start_time": "2021-10-26T07:58:43.498Z"
   },
   {
    "duration": 6,
    "start_time": "2021-10-26T07:58:43.506Z"
   },
   {
    "duration": 6,
    "start_time": "2021-10-26T07:58:43.514Z"
   },
   {
    "duration": 6,
    "start_time": "2021-10-26T07:58:43.522Z"
   },
   {
    "duration": 9,
    "start_time": "2021-10-26T07:58:43.530Z"
   },
   {
    "duration": 7,
    "start_time": "2021-10-26T07:58:43.540Z"
   },
   {
    "duration": 8,
    "start_time": "2021-10-26T07:58:43.548Z"
   },
   {
    "duration": 36,
    "start_time": "2021-10-26T07:58:43.557Z"
   },
   {
    "duration": 5,
    "start_time": "2021-10-26T07:58:43.594Z"
   },
   {
    "duration": 8,
    "start_time": "2021-10-26T07:58:43.600Z"
   },
   {
    "duration": 18,
    "start_time": "2021-10-26T07:58:43.609Z"
   },
   {
    "duration": 9,
    "start_time": "2021-10-26T07:58:43.630Z"
   },
   {
    "duration": 14,
    "start_time": "2021-10-26T07:58:43.642Z"
   },
   {
    "duration": 48,
    "start_time": "2021-10-26T07:58:43.657Z"
   },
   {
    "duration": 18,
    "start_time": "2021-10-26T07:58:43.707Z"
   },
   {
    "duration": 23,
    "start_time": "2021-10-26T07:58:43.727Z"
   },
   {
    "duration": 50,
    "start_time": "2021-10-26T07:58:43.751Z"
   },
   {
    "duration": 5,
    "start_time": "2021-10-26T07:58:43.802Z"
   },
   {
    "duration": 648,
    "start_time": "2021-10-26T07:58:43.808Z"
   },
   {
    "duration": 2553,
    "start_time": "2021-10-26T07:58:44.457Z"
   },
   {
    "duration": 20,
    "start_time": "2021-10-26T07:58:47.012Z"
   },
   {
    "duration": 27,
    "start_time": "2021-10-26T07:58:47.034Z"
   },
   {
    "duration": 40,
    "start_time": "2021-10-26T07:58:47.062Z"
   },
   {
    "duration": 25,
    "start_time": "2021-10-26T07:58:47.104Z"
   },
   {
    "duration": 13,
    "start_time": "2021-10-26T07:58:47.132Z"
   },
   {
    "duration": 5,
    "start_time": "2021-10-26T07:58:47.147Z"
   },
   {
    "duration": 52,
    "start_time": "2021-10-26T07:58:47.155Z"
   },
   {
    "duration": 30,
    "start_time": "2021-10-26T07:58:47.209Z"
   },
   {
    "duration": 13,
    "start_time": "2021-10-26T07:58:47.242Z"
   },
   {
    "duration": 54,
    "start_time": "2021-10-26T07:58:47.257Z"
   },
   {
    "duration": 11,
    "start_time": "2021-10-26T07:58:47.313Z"
   },
   {
    "duration": 20,
    "start_time": "2021-10-26T07:58:47.326Z"
   },
   {
    "duration": 6,
    "start_time": "2021-10-26T07:58:47.348Z"
   },
   {
    "duration": 7,
    "start_time": "2021-10-26T07:58:47.356Z"
   },
   {
    "duration": 5,
    "start_time": "2021-10-26T07:58:47.391Z"
   },
   {
    "duration": 9,
    "start_time": "2021-10-26T07:58:47.397Z"
   },
   {
    "duration": 18,
    "start_time": "2021-10-26T07:58:47.408Z"
   },
   {
    "duration": 5,
    "start_time": "2021-10-26T07:58:47.427Z"
   },
   {
    "duration": 20,
    "start_time": "2021-10-26T07:58:47.433Z"
   },
   {
    "duration": 40,
    "start_time": "2021-10-26T07:58:47.454Z"
   },
   {
    "duration": 6,
    "start_time": "2021-10-26T07:58:47.495Z"
   },
   {
    "duration": 10,
    "start_time": "2021-10-26T07:58:47.503Z"
   },
   {
    "duration": 18,
    "start_time": "2021-10-26T07:58:47.515Z"
   },
   {
    "duration": 4,
    "start_time": "2021-10-26T07:58:47.534Z"
   },
   {
    "duration": 26,
    "start_time": "2021-10-26T07:58:47.540Z"
   },
   {
    "duration": 12,
    "start_time": "2021-10-26T07:58:47.591Z"
   },
   {
    "duration": 6,
    "start_time": "2021-10-26T07:58:47.605Z"
   },
   {
    "duration": 8,
    "start_time": "2021-10-26T07:58:47.615Z"
   },
   {
    "duration": 19,
    "start_time": "2021-10-26T07:58:47.625Z"
   },
   {
    "duration": 4,
    "start_time": "2021-10-26T07:58:47.645Z"
   },
   {
    "duration": 52,
    "start_time": "2021-10-26T07:58:47.650Z"
   },
   {
    "duration": 10,
    "start_time": "2021-10-26T07:58:47.704Z"
   },
   {
    "duration": 7,
    "start_time": "2021-10-26T07:58:47.715Z"
   },
   {
    "duration": 19,
    "start_time": "2021-10-26T08:09:49.939Z"
   },
   {
    "duration": 18,
    "start_time": "2021-10-26T08:12:09.682Z"
   },
   {
    "duration": 10,
    "start_time": "2021-10-26T10:04:26.664Z"
   },
   {
    "duration": 385,
    "start_time": "2021-10-26T13:45:16.153Z"
   },
   {
    "duration": 12,
    "start_time": "2021-10-26T13:45:22.120Z"
   },
   {
    "duration": 833,
    "start_time": "2021-10-26T13:45:22.141Z"
   },
   {
    "duration": 18,
    "start_time": "2021-10-26T13:45:22.977Z"
   },
   {
    "duration": 26,
    "start_time": "2021-10-26T13:45:22.998Z"
   },
   {
    "duration": 7,
    "start_time": "2021-10-26T13:45:23.027Z"
   },
   {
    "duration": 47,
    "start_time": "2021-10-26T13:45:23.036Z"
   },
   {
    "duration": 9,
    "start_time": "2021-10-26T13:45:23.086Z"
   },
   {
    "duration": 10,
    "start_time": "2021-10-26T13:45:23.097Z"
   },
   {
    "duration": 26,
    "start_time": "2021-10-26T13:45:23.110Z"
   },
   {
    "duration": 10,
    "start_time": "2021-10-26T13:45:23.140Z"
   },
   {
    "duration": 36,
    "start_time": "2021-10-26T13:45:23.154Z"
   },
   {
    "duration": 10,
    "start_time": "2021-10-26T13:45:23.192Z"
   },
   {
    "duration": 10,
    "start_time": "2021-10-26T13:45:23.204Z"
   },
   {
    "duration": 13,
    "start_time": "2021-10-26T13:45:23.216Z"
   },
   {
    "duration": 53,
    "start_time": "2021-10-26T13:45:23.231Z"
   },
   {
    "duration": 8,
    "start_time": "2021-10-26T13:45:23.286Z"
   },
   {
    "duration": 13,
    "start_time": "2021-10-26T13:45:23.296Z"
   },
   {
    "duration": 29,
    "start_time": "2021-10-26T13:45:23.311Z"
   },
   {
    "duration": 48,
    "start_time": "2021-10-26T13:45:23.342Z"
   },
   {
    "duration": 23,
    "start_time": "2021-10-26T13:45:23.392Z"
   },
   {
    "duration": 26,
    "start_time": "2021-10-26T13:45:23.418Z"
   },
   {
    "duration": 59,
    "start_time": "2021-10-26T13:45:23.446Z"
   },
   {
    "duration": 36,
    "start_time": "2021-10-26T13:45:23.507Z"
   },
   {
    "duration": 48,
    "start_time": "2021-10-26T13:45:23.545Z"
   },
   {
    "duration": 24,
    "start_time": "2021-10-26T13:45:23.595Z"
   },
   {
    "duration": 6,
    "start_time": "2021-10-26T13:45:23.622Z"
   },
   {
    "duration": 953,
    "start_time": "2021-10-26T13:45:23.631Z"
   },
   {
    "duration": 3562,
    "start_time": "2021-10-26T13:45:24.591Z"
   },
   {
    "duration": 45,
    "start_time": "2021-10-26T13:45:28.156Z"
   },
   {
    "duration": 32,
    "start_time": "2021-10-26T13:45:28.204Z"
   },
   {
    "duration": 55,
    "start_time": "2021-10-26T13:45:28.239Z"
   },
   {
    "duration": 34,
    "start_time": "2021-10-26T13:45:28.296Z"
   },
   {
    "duration": 39,
    "start_time": "2021-10-26T13:45:28.332Z"
   },
   {
    "duration": 8,
    "start_time": "2021-10-26T13:45:28.382Z"
   },
   {
    "duration": 37,
    "start_time": "2021-10-26T13:45:28.392Z"
   },
   {
    "duration": 76,
    "start_time": "2021-10-26T13:45:28.431Z"
   },
   {
    "duration": 20,
    "start_time": "2021-10-26T13:45:28.509Z"
   },
   {
    "duration": 59,
    "start_time": "2021-10-26T13:45:28.531Z"
   },
   {
    "duration": 19,
    "start_time": "2021-10-26T13:45:28.592Z"
   },
   {
    "duration": 34,
    "start_time": "2021-10-26T13:45:28.613Z"
   },
   {
    "duration": 37,
    "start_time": "2021-10-26T13:45:28.650Z"
   },
   {
    "duration": 12,
    "start_time": "2021-10-26T13:45:28.690Z"
   },
   {
    "duration": 17,
    "start_time": "2021-10-26T13:45:28.704Z"
   },
   {
    "duration": 20,
    "start_time": "2021-10-26T13:45:28.723Z"
   },
   {
    "duration": 48,
    "start_time": "2021-10-26T13:45:28.745Z"
   },
   {
    "duration": 7,
    "start_time": "2021-10-26T13:45:28.796Z"
   },
   {
    "duration": 37,
    "start_time": "2021-10-26T13:45:28.805Z"
   },
   {
    "duration": 38,
    "start_time": "2021-10-26T13:45:28.845Z"
   },
   {
    "duration": 9,
    "start_time": "2021-10-26T13:45:28.886Z"
   },
   {
    "duration": 11,
    "start_time": "2021-10-26T13:45:28.898Z"
   },
   {
    "duration": 28,
    "start_time": "2021-10-26T13:45:28.912Z"
   },
   {
    "duration": 43,
    "start_time": "2021-10-26T13:45:28.942Z"
   },
   {
    "duration": 40,
    "start_time": "2021-10-26T13:45:28.988Z"
   },
   {
    "duration": 23,
    "start_time": "2021-10-26T13:45:29.031Z"
   },
   {
    "duration": 7,
    "start_time": "2021-10-26T13:45:29.083Z"
   },
   {
    "duration": 12,
    "start_time": "2021-10-26T13:45:29.092Z"
   },
   {
    "duration": 31,
    "start_time": "2021-10-26T13:45:29.106Z"
   },
   {
    "duration": 44,
    "start_time": "2021-10-26T13:45:29.139Z"
   },
   {
    "duration": 35,
    "start_time": "2021-10-26T13:45:29.186Z"
   },
   {
    "duration": 18,
    "start_time": "2021-10-26T13:45:29.223Z"
   },
   {
    "duration": 41,
    "start_time": "2021-10-26T13:45:29.243Z"
   },
   {
    "duration": 36,
    "start_time": "2021-10-26T13:45:33.550Z"
   },
   {
    "duration": 455,
    "start_time": "2021-10-26T19:25:41.648Z"
   },
   {
    "duration": 9,
    "start_time": "2021-10-26T19:25:46.251Z"
   },
   {
    "duration": 888,
    "start_time": "2021-10-26T19:25:46.263Z"
   },
   {
    "duration": 20,
    "start_time": "2021-10-26T19:25:47.154Z"
   },
   {
    "duration": 46,
    "start_time": "2021-10-26T19:25:47.177Z"
   },
   {
    "duration": 11,
    "start_time": "2021-10-26T19:25:47.226Z"
   },
   {
    "duration": 15,
    "start_time": "2021-10-26T19:25:47.240Z"
   },
   {
    "duration": 57,
    "start_time": "2021-10-26T19:25:47.257Z"
   },
   {
    "duration": 13,
    "start_time": "2021-10-26T19:25:47.317Z"
   },
   {
    "duration": 8,
    "start_time": "2021-10-26T19:25:47.336Z"
   },
   {
    "duration": 19,
    "start_time": "2021-10-26T19:25:47.348Z"
   },
   {
    "duration": 34,
    "start_time": "2021-10-26T19:25:47.370Z"
   },
   {
    "duration": 12,
    "start_time": "2021-10-26T19:25:47.407Z"
   },
   {
    "duration": 13,
    "start_time": "2021-10-26T19:25:47.422Z"
   },
   {
    "duration": 12,
    "start_time": "2021-10-26T19:25:47.438Z"
   },
   {
    "duration": 10,
    "start_time": "2021-10-26T19:25:47.453Z"
   },
   {
    "duration": 10,
    "start_time": "2021-10-26T19:25:47.509Z"
   },
   {
    "duration": 14,
    "start_time": "2021-10-26T19:25:47.524Z"
   },
   {
    "duration": 30,
    "start_time": "2021-10-26T19:25:47.540Z"
   },
   {
    "duration": 49,
    "start_time": "2021-10-26T19:25:47.573Z"
   },
   {
    "duration": 25,
    "start_time": "2021-10-26T19:25:47.625Z"
   },
   {
    "duration": 25,
    "start_time": "2021-10-26T19:25:47.652Z"
   },
   {
    "duration": 58,
    "start_time": "2021-10-26T19:25:47.679Z"
   },
   {
    "duration": 65,
    "start_time": "2021-10-26T19:25:47.740Z"
   },
   {
    "duration": 36,
    "start_time": "2021-10-26T19:25:47.808Z"
   },
   {
    "duration": 29,
    "start_time": "2021-10-26T19:25:47.847Z"
   },
   {
    "duration": 14,
    "start_time": "2021-10-26T19:25:47.899Z"
   },
   {
    "duration": 1208,
    "start_time": "2021-10-26T19:25:47.921Z"
   },
   {
    "duration": 3978,
    "start_time": "2021-10-26T19:25:49.134Z"
   },
   {
    "duration": 37,
    "start_time": "2021-10-26T19:25:53.114Z"
   },
   {
    "duration": 61,
    "start_time": "2021-10-26T19:25:53.153Z"
   },
   {
    "duration": 33,
    "start_time": "2021-10-26T19:25:53.218Z"
   },
   {
    "duration": 61,
    "start_time": "2021-10-26T19:25:53.254Z"
   },
   {
    "duration": 26,
    "start_time": "2021-10-26T19:25:53.319Z"
   },
   {
    "duration": 7,
    "start_time": "2021-10-26T19:25:53.347Z"
   },
   {
    "duration": 74,
    "start_time": "2021-10-26T19:25:53.357Z"
   },
   {
    "duration": 48,
    "start_time": "2021-10-26T19:25:53.434Z"
   },
   {
    "duration": 38,
    "start_time": "2021-10-26T19:25:53.485Z"
   },
   {
    "duration": 39,
    "start_time": "2021-10-26T19:25:53.526Z"
   },
   {
    "duration": 51,
    "start_time": "2021-10-26T19:25:53.567Z"
   },
   {
    "duration": 33,
    "start_time": "2021-10-26T19:25:53.621Z"
   },
   {
    "duration": 9,
    "start_time": "2021-10-26T19:25:53.656Z"
   },
   {
    "duration": 46,
    "start_time": "2021-10-26T19:25:53.668Z"
   },
   {
    "duration": 7,
    "start_time": "2021-10-26T19:25:53.720Z"
   },
   {
    "duration": 23,
    "start_time": "2021-10-26T19:25:53.730Z"
   },
   {
    "duration": 10,
    "start_time": "2021-10-26T19:25:53.756Z"
   },
   {
    "duration": 33,
    "start_time": "2021-10-26T19:25:53.801Z"
   },
   {
    "duration": 7,
    "start_time": "2021-10-26T19:25:53.838Z"
   },
   {
    "duration": 68,
    "start_time": "2021-10-26T19:25:53.849Z"
   },
   {
    "duration": 17,
    "start_time": "2021-10-26T19:25:53.920Z"
   },
   {
    "duration": 9,
    "start_time": "2021-10-26T19:25:53.939Z"
   },
   {
    "duration": 12,
    "start_time": "2021-10-26T19:25:53.951Z"
   },
   {
    "duration": 77,
    "start_time": "2021-10-26T19:25:53.966Z"
   },
   {
    "duration": 7,
    "start_time": "2021-10-26T19:25:54.046Z"
   },
   {
    "duration": 68,
    "start_time": "2021-10-26T19:25:54.056Z"
   },
   {
    "duration": 23,
    "start_time": "2021-10-26T19:25:54.126Z"
   },
   {
    "duration": 6,
    "start_time": "2021-10-26T19:25:54.151Z"
   },
   {
    "duration": 53,
    "start_time": "2021-10-26T19:25:54.160Z"
   },
   {
    "duration": 34,
    "start_time": "2021-10-26T19:25:54.216Z"
   },
   {
    "duration": 6,
    "start_time": "2021-10-26T19:25:54.253Z"
   },
   {
    "duration": 63,
    "start_time": "2021-10-26T19:25:54.262Z"
   },
   {
    "duration": 21,
    "start_time": "2021-10-26T19:25:54.327Z"
   },
   {
    "duration": 10,
    "start_time": "2021-10-26T19:25:54.352Z"
   },
   {
    "duration": 19,
    "start_time": "2021-10-26T19:27:39.387Z"
   },
   {
    "duration": 474,
    "start_time": "2021-10-26T19:30:41.589Z"
   },
   {
    "duration": 19,
    "start_time": "2021-10-26T19:30:47.699Z"
   },
   {
    "duration": 18,
    "start_time": "2021-10-26T19:32:21.846Z"
   },
   {
    "duration": 15,
    "start_time": "2021-10-26T19:34:06.445Z"
   },
   {
    "duration": 15,
    "start_time": "2021-10-26T19:35:14.663Z"
   },
   {
    "duration": 22,
    "start_time": "2021-10-26T19:40:45.725Z"
   },
   {
    "duration": 16,
    "start_time": "2021-10-26T19:46:18.014Z"
   },
   {
    "duration": 372,
    "start_time": "2021-10-26T20:20:28.194Z"
   },
   {
    "duration": 16,
    "start_time": "2021-10-26T20:21:03.192Z"
   },
   {
    "duration": 353,
    "start_time": "2021-10-26T20:25:24.687Z"
   },
   {
    "duration": 362,
    "start_time": "2021-10-26T20:26:12.029Z"
   },
   {
    "duration": 411,
    "start_time": "2021-10-26T20:27:28.868Z"
   },
   {
    "duration": 427,
    "start_time": "2021-10-27T07:43:33.461Z"
   },
   {
    "duration": 9,
    "start_time": "2021-10-27T07:43:38.096Z"
   },
   {
    "duration": 1084,
    "start_time": "2021-10-27T07:43:38.118Z"
   },
   {
    "duration": 20,
    "start_time": "2021-10-27T07:43:39.205Z"
   },
   {
    "duration": 47,
    "start_time": "2021-10-27T07:43:39.229Z"
   },
   {
    "duration": 8,
    "start_time": "2021-10-27T07:43:39.279Z"
   },
   {
    "duration": 33,
    "start_time": "2021-10-27T07:43:39.289Z"
   },
   {
    "duration": 7,
    "start_time": "2021-10-27T07:43:39.325Z"
   },
   {
    "duration": 27,
    "start_time": "2021-10-27T07:43:39.335Z"
   },
   {
    "duration": 13,
    "start_time": "2021-10-27T07:43:39.364Z"
   },
   {
    "duration": 23,
    "start_time": "2021-10-27T07:43:39.381Z"
   },
   {
    "duration": 20,
    "start_time": "2021-10-27T07:43:39.407Z"
   },
   {
    "duration": 42,
    "start_time": "2021-10-27T07:43:39.430Z"
   },
   {
    "duration": 26,
    "start_time": "2021-10-27T07:43:39.475Z"
   },
   {
    "duration": 24,
    "start_time": "2021-10-27T07:43:39.505Z"
   },
   {
    "duration": 26,
    "start_time": "2021-10-27T07:43:39.533Z"
   },
   {
    "duration": 18,
    "start_time": "2021-10-27T07:43:39.563Z"
   },
   {
    "duration": 27,
    "start_time": "2021-10-27T07:43:39.584Z"
   },
   {
    "duration": 65,
    "start_time": "2021-10-27T07:43:39.615Z"
   },
   {
    "duration": 27,
    "start_time": "2021-10-27T07:43:39.684Z"
   },
   {
    "duration": 60,
    "start_time": "2021-10-27T07:43:39.716Z"
   },
   {
    "duration": 48,
    "start_time": "2021-10-27T07:43:39.779Z"
   },
   {
    "duration": 71,
    "start_time": "2021-10-27T07:43:39.830Z"
   },
   {
    "duration": 55,
    "start_time": "2021-10-27T07:43:39.904Z"
   },
   {
    "duration": 31,
    "start_time": "2021-10-27T07:43:39.961Z"
   },
   {
    "duration": 24,
    "start_time": "2021-10-27T07:43:39.994Z"
   },
   {
    "duration": 38,
    "start_time": "2021-10-27T07:43:40.020Z"
   },
   {
    "duration": 956,
    "start_time": "2021-10-27T07:43:40.060Z"
   },
   {
    "duration": 3658,
    "start_time": "2021-10-27T07:43:41.023Z"
   },
   {
    "duration": 29,
    "start_time": "2021-10-27T07:43:44.684Z"
   },
   {
    "duration": 55,
    "start_time": "2021-10-27T07:43:44.715Z"
   },
   {
    "duration": 29,
    "start_time": "2021-10-27T07:43:44.772Z"
   },
   {
    "duration": 57,
    "start_time": "2021-10-27T07:43:44.803Z"
   },
   {
    "duration": 21,
    "start_time": "2021-10-27T07:43:44.862Z"
   },
   {
    "duration": 6,
    "start_time": "2021-10-27T07:43:44.885Z"
   },
   {
    "duration": 35,
    "start_time": "2021-10-27T07:43:44.893Z"
   },
   {
    "duration": 46,
    "start_time": "2021-10-27T07:43:44.958Z"
   },
   {
    "duration": 21,
    "start_time": "2021-10-27T07:43:45.006Z"
   },
   {
    "duration": 36,
    "start_time": "2021-10-27T07:43:45.057Z"
   },
   {
    "duration": 18,
    "start_time": "2021-10-27T07:43:45.095Z"
   },
   {
    "duration": 58,
    "start_time": "2021-10-27T07:43:45.115Z"
   },
   {
    "duration": 10,
    "start_time": "2021-10-27T07:43:45.176Z"
   },
   {
    "duration": 12,
    "start_time": "2021-10-27T07:43:45.188Z"
   },
   {
    "duration": 9,
    "start_time": "2021-10-27T07:43:45.203Z"
   },
   {
    "duration": 53,
    "start_time": "2021-10-27T07:43:45.214Z"
   },
   {
    "duration": 11,
    "start_time": "2021-10-27T07:43:45.270Z"
   },
   {
    "duration": 28,
    "start_time": "2021-10-27T07:43:45.284Z"
   },
   {
    "duration": 7,
    "start_time": "2021-10-27T07:43:45.314Z"
   },
   {
    "duration": 17,
    "start_time": "2021-10-27T07:43:45.358Z"
   },
   {
    "duration": 29,
    "start_time": "2021-10-27T07:43:45.377Z"
   },
   {
    "duration": 48,
    "start_time": "2021-10-27T07:43:45.409Z"
   },
   {
    "duration": 9,
    "start_time": "2021-10-27T07:43:45.460Z"
   },
   {
    "duration": 23,
    "start_time": "2021-10-27T07:43:45.471Z"
   },
   {
    "duration": 30,
    "start_time": "2021-10-27T07:43:45.498Z"
   },
   {
    "duration": 31,
    "start_time": "2021-10-27T07:43:45.530Z"
   },
   {
    "duration": 20,
    "start_time": "2021-10-27T07:43:45.564Z"
   },
   {
    "duration": 36,
    "start_time": "2021-10-27T07:43:45.587Z"
   },
   {
    "duration": 48,
    "start_time": "2021-10-27T07:43:45.626Z"
   },
   {
    "duration": 9,
    "start_time": "2021-10-27T07:43:45.677Z"
   },
   {
    "duration": 14,
    "start_time": "2021-10-27T07:43:45.689Z"
   },
   {
    "duration": 74,
    "start_time": "2021-10-27T07:43:45.705Z"
   },
   {
    "duration": 7,
    "start_time": "2021-10-27T07:43:45.782Z"
   },
   {
    "duration": 24,
    "start_time": "2021-10-27T07:43:45.791Z"
   },
   {
    "duration": 55,
    "start_time": "2021-10-27T07:43:45.817Z"
   },
   {
    "duration": 15,
    "start_time": "2021-10-27T07:43:45.875Z"
   },
   {
    "duration": 22,
    "start_time": "2021-10-27T07:43:45.892Z"
   },
   {
    "duration": 7,
    "start_time": "2021-10-27T08:40:15.039Z"
   },
   {
    "duration": 892,
    "start_time": "2021-10-27T08:40:15.049Z"
   },
   {
    "duration": 19,
    "start_time": "2021-10-27T08:40:15.945Z"
   },
   {
    "duration": 26,
    "start_time": "2021-10-27T08:40:15.967Z"
   },
   {
    "duration": 7,
    "start_time": "2021-10-27T08:40:15.995Z"
   },
   {
    "duration": 17,
    "start_time": "2021-10-27T08:40:16.004Z"
   },
   {
    "duration": 39,
    "start_time": "2021-10-27T08:40:16.024Z"
   },
   {
    "duration": 14,
    "start_time": "2021-10-27T08:40:16.066Z"
   },
   {
    "duration": 19,
    "start_time": "2021-10-27T08:40:16.082Z"
   },
   {
    "duration": 9,
    "start_time": "2021-10-27T08:40:16.103Z"
   },
   {
    "duration": 9,
    "start_time": "2021-10-27T08:40:16.115Z"
   },
   {
    "duration": 35,
    "start_time": "2021-10-27T08:40:16.126Z"
   },
   {
    "duration": 10,
    "start_time": "2021-10-27T08:40:16.164Z"
   },
   {
    "duration": 15,
    "start_time": "2021-10-27T08:40:16.176Z"
   },
   {
    "duration": 21,
    "start_time": "2021-10-27T08:40:16.194Z"
   },
   {
    "duration": 16,
    "start_time": "2021-10-27T08:40:16.217Z"
   },
   {
    "duration": 29,
    "start_time": "2021-10-27T08:40:16.235Z"
   },
   {
    "duration": 42,
    "start_time": "2021-10-27T08:40:16.266Z"
   },
   {
    "duration": 15,
    "start_time": "2021-10-27T08:40:16.313Z"
   },
   {
    "duration": 40,
    "start_time": "2021-10-27T08:40:16.331Z"
   },
   {
    "duration": 41,
    "start_time": "2021-10-27T08:40:16.374Z"
   },
   {
    "duration": 33,
    "start_time": "2021-10-27T08:40:16.417Z"
   },
   {
    "duration": 43,
    "start_time": "2021-10-27T08:40:16.453Z"
   },
   {
    "duration": 29,
    "start_time": "2021-10-27T08:40:16.498Z"
   },
   {
    "duration": 44,
    "start_time": "2021-10-27T08:40:16.529Z"
   },
   {
    "duration": 6,
    "start_time": "2021-10-27T08:40:16.576Z"
   },
   {
    "duration": 924,
    "start_time": "2021-10-27T08:40:16.584Z"
   },
   {
    "duration": 3620,
    "start_time": "2021-10-27T08:40:17.510Z"
   },
   {
    "duration": 45,
    "start_time": "2021-10-27T08:40:21.133Z"
   },
   {
    "duration": 39,
    "start_time": "2021-10-27T08:40:21.180Z"
   },
   {
    "duration": 50,
    "start_time": "2021-10-27T08:40:21.221Z"
   },
   {
    "duration": 35,
    "start_time": "2021-10-27T08:40:21.274Z"
   },
   {
    "duration": 47,
    "start_time": "2021-10-27T08:40:21.312Z"
   },
   {
    "duration": 7,
    "start_time": "2021-10-27T08:40:21.361Z"
   },
   {
    "duration": 36,
    "start_time": "2021-10-27T08:40:21.371Z"
   },
   {
    "duration": 76,
    "start_time": "2021-10-27T08:40:21.409Z"
   },
   {
    "duration": 21,
    "start_time": "2021-10-27T08:40:21.487Z"
   },
   {
    "duration": 63,
    "start_time": "2021-10-27T08:40:21.510Z"
   },
   {
    "duration": 18,
    "start_time": "2021-10-27T08:40:21.575Z"
   },
   {
    "duration": 31,
    "start_time": "2021-10-27T08:40:21.595Z"
   },
   {
    "duration": 40,
    "start_time": "2021-10-27T08:40:21.629Z"
   },
   {
    "duration": 27,
    "start_time": "2021-10-27T08:40:21.672Z"
   },
   {
    "duration": 18,
    "start_time": "2021-10-27T08:40:21.701Z"
   },
   {
    "duration": 58,
    "start_time": "2021-10-27T08:40:21.721Z"
   },
   {
    "duration": 14,
    "start_time": "2021-10-27T08:40:21.782Z"
   },
   {
    "duration": 28,
    "start_time": "2021-10-27T08:40:21.799Z"
   },
   {
    "duration": 14,
    "start_time": "2021-10-27T08:40:21.858Z"
   },
   {
    "duration": 36,
    "start_time": "2021-10-27T08:40:21.875Z"
   },
   {
    "duration": 20,
    "start_time": "2021-10-27T08:40:21.913Z"
   },
   {
    "duration": 34,
    "start_time": "2021-10-27T08:40:21.958Z"
   },
   {
    "duration": 15,
    "start_time": "2021-10-27T08:40:21.994Z"
   },
   {
    "duration": 60,
    "start_time": "2021-10-27T08:40:22.011Z"
   },
   {
    "duration": 17,
    "start_time": "2021-10-27T08:40:22.073Z"
   },
   {
    "duration": 7,
    "start_time": "2021-10-27T10:49:03.895Z"
   },
   {
    "duration": 864,
    "start_time": "2021-10-27T10:49:03.904Z"
   },
   {
    "duration": 21,
    "start_time": "2021-10-27T10:49:04.771Z"
   },
   {
    "duration": 26,
    "start_time": "2021-10-27T10:49:04.795Z"
   },
   {
    "duration": 35,
    "start_time": "2021-10-27T10:49:04.824Z"
   },
   {
    "duration": 18,
    "start_time": "2021-10-27T10:49:04.862Z"
   },
   {
    "duration": 8,
    "start_time": "2021-10-27T10:49:04.883Z"
   },
   {
    "duration": 24,
    "start_time": "2021-10-27T10:49:04.894Z"
   },
   {
    "duration": 37,
    "start_time": "2021-10-27T10:49:04.921Z"
   },
   {
    "duration": 9,
    "start_time": "2021-10-27T10:49:04.960Z"
   },
   {
    "duration": 8,
    "start_time": "2021-10-27T10:49:04.971Z"
   },
   {
    "duration": 12,
    "start_time": "2021-10-27T10:49:04.982Z"
   },
   {
    "duration": 10,
    "start_time": "2021-10-27T10:49:04.996Z"
   },
   {
    "duration": 53,
    "start_time": "2021-10-27T10:49:05.008Z"
   },
   {
    "duration": 10,
    "start_time": "2021-10-27T10:49:05.064Z"
   },
   {
    "duration": 17,
    "start_time": "2021-10-27T10:49:05.077Z"
   },
   {
    "duration": 16,
    "start_time": "2021-10-27T10:49:05.096Z"
   },
   {
    "duration": 62,
    "start_time": "2021-10-27T10:49:05.114Z"
   },
   {
    "duration": 15,
    "start_time": "2021-10-27T10:49:05.182Z"
   },
   {
    "duration": 23,
    "start_time": "2021-10-27T10:49:05.200Z"
   },
   {
    "duration": 31,
    "start_time": "2021-10-27T10:49:05.257Z"
   },
   {
    "duration": 41,
    "start_time": "2021-10-27T10:49:05.291Z"
   },
   {
    "duration": 58,
    "start_time": "2021-10-27T10:49:05.335Z"
   },
   {
    "duration": 30,
    "start_time": "2021-10-27T10:49:05.395Z"
   },
   {
    "duration": 46,
    "start_time": "2021-10-27T10:49:05.428Z"
   },
   {
    "duration": 9,
    "start_time": "2021-10-27T10:49:05.477Z"
   },
   {
    "duration": 974,
    "start_time": "2021-10-27T10:49:05.490Z"
   },
   {
    "duration": 4029,
    "start_time": "2021-10-27T10:49:06.468Z"
   },
   {
    "duration": 31,
    "start_time": "2021-10-27T10:49:10.499Z"
   },
   {
    "duration": 72,
    "start_time": "2021-10-27T10:49:10.533Z"
   },
   {
    "duration": 53,
    "start_time": "2021-10-27T10:49:10.607Z"
   },
   {
    "duration": 34,
    "start_time": "2021-10-27T10:49:10.663Z"
   },
   {
    "duration": 20,
    "start_time": "2021-10-27T10:49:10.700Z"
   },
   {
    "duration": 35,
    "start_time": "2021-10-27T10:49:10.723Z"
   },
   {
    "duration": 37,
    "start_time": "2021-10-27T10:49:10.760Z"
   },
   {
    "duration": 78,
    "start_time": "2021-10-27T10:49:10.800Z"
   },
   {
    "duration": 31,
    "start_time": "2021-10-27T10:49:10.881Z"
   },
   {
    "duration": 79,
    "start_time": "2021-10-27T10:49:10.916Z"
   },
   {
    "duration": 26,
    "start_time": "2021-10-27T10:49:10.999Z"
   },
   {
    "duration": 53,
    "start_time": "2021-10-27T10:49:11.028Z"
   },
   {
    "duration": 18,
    "start_time": "2021-10-27T10:49:11.084Z"
   },
   {
    "duration": 63,
    "start_time": "2021-10-27T10:49:11.106Z"
   },
   {
    "duration": 16,
    "start_time": "2021-10-27T10:49:11.172Z"
   },
   {
    "duration": 28,
    "start_time": "2021-10-27T10:49:11.191Z"
   },
   {
    "duration": 44,
    "start_time": "2021-10-27T10:49:11.221Z"
   },
   {
    "duration": 28,
    "start_time": "2021-10-27T10:49:11.267Z"
   },
   {
    "duration": 14,
    "start_time": "2021-10-27T10:49:11.297Z"
   },
   {
    "duration": 80,
    "start_time": "2021-10-27T10:49:11.314Z"
   },
   {
    "duration": 19,
    "start_time": "2021-10-27T10:49:11.397Z"
   },
   {
    "duration": 55,
    "start_time": "2021-10-27T10:49:11.419Z"
   },
   {
    "duration": 14,
    "start_time": "2021-10-27T10:49:11.477Z"
   },
   {
    "duration": 32,
    "start_time": "2021-10-27T10:49:11.493Z"
   },
   {
    "duration": 43,
    "start_time": "2021-10-27T10:49:11.528Z"
   },
   {
    "duration": 7,
    "start_time": "2021-10-27T19:54:31.107Z"
   },
   {
    "duration": 912,
    "start_time": "2021-10-27T19:54:31.116Z"
   },
   {
    "duration": 19,
    "start_time": "2021-10-27T19:54:32.031Z"
   },
   {
    "duration": 61,
    "start_time": "2021-10-27T19:54:32.053Z"
   },
   {
    "duration": 23,
    "start_time": "2021-10-27T19:54:32.116Z"
   },
   {
    "duration": 55,
    "start_time": "2021-10-27T19:54:32.141Z"
   },
   {
    "duration": 36,
    "start_time": "2021-10-27T19:54:32.199Z"
   },
   {
    "duration": 52,
    "start_time": "2021-10-27T19:54:32.238Z"
   },
   {
    "duration": 37,
    "start_time": "2021-10-27T19:54:32.292Z"
   },
   {
    "duration": 35,
    "start_time": "2021-10-27T19:54:32.331Z"
   },
   {
    "duration": 51,
    "start_time": "2021-10-27T19:54:32.368Z"
   },
   {
    "duration": 38,
    "start_time": "2021-10-27T19:54:32.421Z"
   },
   {
    "duration": 37,
    "start_time": "2021-10-27T19:54:32.461Z"
   },
   {
    "duration": 51,
    "start_time": "2021-10-27T19:54:32.501Z"
   },
   {
    "duration": 38,
    "start_time": "2021-10-27T19:54:32.555Z"
   },
   {
    "duration": 28,
    "start_time": "2021-10-27T19:54:32.595Z"
   },
   {
    "duration": 32,
    "start_time": "2021-10-27T19:54:32.625Z"
   },
   {
    "duration": 81,
    "start_time": "2021-10-27T19:54:32.660Z"
   },
   {
    "duration": 26,
    "start_time": "2021-10-27T19:54:32.750Z"
   },
   {
    "duration": 40,
    "start_time": "2021-10-27T19:54:32.781Z"
   },
   {
    "duration": 69,
    "start_time": "2021-10-27T19:54:32.824Z"
   },
   {
    "duration": 37,
    "start_time": "2021-10-27T19:54:32.896Z"
   },
   {
    "duration": 50,
    "start_time": "2021-10-27T19:54:32.935Z"
   },
   {
    "duration": 29,
    "start_time": "2021-10-27T19:54:32.988Z"
   },
   {
    "duration": 52,
    "start_time": "2021-10-27T19:54:33.020Z"
   },
   {
    "duration": 8,
    "start_time": "2021-10-27T19:54:33.075Z"
   },
   {
    "duration": 1042,
    "start_time": "2021-10-27T19:54:33.086Z"
   },
   {
    "duration": 3663,
    "start_time": "2021-10-27T19:54:34.131Z"
   },
   {
    "duration": 30,
    "start_time": "2021-10-27T19:54:37.797Z"
   },
   {
    "duration": 53,
    "start_time": "2021-10-27T19:54:37.829Z"
   },
   {
    "duration": 28,
    "start_time": "2021-10-27T19:54:37.885Z"
   },
   {
    "duration": 58,
    "start_time": "2021-10-27T19:54:37.916Z"
   },
   {
    "duration": 22,
    "start_time": "2021-10-27T19:54:37.976Z"
   },
   {
    "duration": 6,
    "start_time": "2021-10-27T19:54:38.000Z"
   },
   {
    "duration": 59,
    "start_time": "2021-10-27T19:54:38.008Z"
   },
   {
    "duration": 51,
    "start_time": "2021-10-27T19:54:38.069Z"
   },
   {
    "duration": 38,
    "start_time": "2021-10-27T19:54:38.122Z"
   },
   {
    "duration": 47,
    "start_time": "2021-10-27T19:54:38.162Z"
   },
   {
    "duration": 17,
    "start_time": "2021-10-27T19:54:38.212Z"
   },
   {
    "duration": 50,
    "start_time": "2021-10-27T19:54:38.232Z"
   },
   {
    "duration": 15,
    "start_time": "2021-10-27T19:54:38.285Z"
   },
   {
    "duration": 28,
    "start_time": "2021-10-27T19:54:38.302Z"
   },
   {
    "duration": 36,
    "start_time": "2021-10-27T19:54:38.333Z"
   },
   {
    "duration": 38,
    "start_time": "2021-10-27T19:54:38.372Z"
   },
   {
    "duration": 15,
    "start_time": "2021-10-27T19:54:38.412Z"
   },
   {
    "duration": 29,
    "start_time": "2021-10-27T19:54:38.457Z"
   },
   {
    "duration": 14,
    "start_time": "2021-10-27T19:54:38.489Z"
   },
   {
    "duration": 59,
    "start_time": "2021-10-27T19:54:38.506Z"
   },
   {
    "duration": 21,
    "start_time": "2021-10-27T19:54:38.567Z"
   },
   {
    "duration": 43,
    "start_time": "2021-10-27T19:54:38.591Z"
   },
   {
    "duration": 33,
    "start_time": "2021-10-27T19:54:38.637Z"
   },
   {
    "duration": 35,
    "start_time": "2021-10-27T19:54:38.672Z"
   },
   {
    "duration": 17,
    "start_time": "2021-10-27T19:54:38.710Z"
   },
   {
    "duration": 5,
    "start_time": "2021-10-27T20:40:22.279Z"
   },
   {
    "duration": 5358,
    "start_time": "2021-10-27T20:40:42.201Z"
   },
   {
    "duration": 17,
    "start_time": "2021-10-27T20:40:52.950Z"
   },
   {
    "duration": 14,
    "start_time": "2021-10-27T20:41:05.973Z"
   },
   {
    "duration": 22,
    "start_time": "2021-10-27T20:51:35.510Z"
   },
   {
    "duration": 18,
    "start_time": "2021-10-27T20:52:23.741Z"
   },
   {
    "duration": 17,
    "start_time": "2021-10-27T20:53:35.044Z"
   },
   {
    "duration": 19,
    "start_time": "2021-10-27T20:58:37.509Z"
   },
   {
    "duration": 17,
    "start_time": "2021-10-27T20:58:48.274Z"
   },
   {
    "duration": 21,
    "start_time": "2021-10-27T20:59:13.325Z"
   },
   {
    "duration": 20,
    "start_time": "2021-10-28T08:49:16.563Z"
   },
   {
    "duration": 2662,
    "start_time": "2021-10-28T08:49:16.593Z"
   },
   {
    "duration": 22,
    "start_time": "2021-10-28T08:49:19.257Z"
   },
   {
    "duration": 28,
    "start_time": "2021-10-28T08:49:19.282Z"
   },
   {
    "duration": 9,
    "start_time": "2021-10-28T08:49:19.312Z"
   },
   {
    "duration": 51,
    "start_time": "2021-10-28T08:49:19.323Z"
   },
   {
    "duration": 10,
    "start_time": "2021-10-28T08:49:19.376Z"
   },
   {
    "duration": 11,
    "start_time": "2021-10-28T08:49:19.388Z"
   },
   {
    "duration": 12,
    "start_time": "2021-10-28T08:49:19.401Z"
   },
   {
    "duration": 52,
    "start_time": "2021-10-28T08:49:19.418Z"
   },
   {
    "duration": 10,
    "start_time": "2021-10-28T08:49:19.475Z"
   },
   {
    "duration": 11,
    "start_time": "2021-10-28T08:49:19.488Z"
   },
   {
    "duration": 9,
    "start_time": "2021-10-28T08:49:19.502Z"
   },
   {
    "duration": 55,
    "start_time": "2021-10-28T08:49:19.514Z"
   },
   {
    "duration": 16,
    "start_time": "2021-10-28T08:49:19.571Z"
   },
   {
    "duration": 18,
    "start_time": "2021-10-28T08:49:19.589Z"
   },
   {
    "duration": 23,
    "start_time": "2021-10-28T08:49:19.609Z"
   },
   {
    "duration": 59,
    "start_time": "2021-10-28T08:49:19.634Z"
   },
   {
    "duration": 26,
    "start_time": "2021-10-28T08:49:19.696Z"
   },
   {
    "duration": 57,
    "start_time": "2021-10-28T08:49:19.724Z"
   },
   {
    "duration": 39,
    "start_time": "2021-10-28T08:49:19.784Z"
   },
   {
    "duration": 62,
    "start_time": "2021-10-28T08:49:19.825Z"
   },
   {
    "duration": 42,
    "start_time": "2021-10-28T08:49:19.890Z"
   },
   {
    "duration": 54,
    "start_time": "2021-10-28T08:49:19.934Z"
   },
   {
    "duration": 25,
    "start_time": "2021-10-28T08:49:19.990Z"
   },
   {
    "duration": 7,
    "start_time": "2021-10-28T08:49:20.017Z"
   },
   {
    "duration": 974,
    "start_time": "2021-10-28T08:49:20.027Z"
   },
   {
    "duration": 4034,
    "start_time": "2021-10-28T08:49:21.007Z"
   },
   {
    "duration": 56,
    "start_time": "2021-10-28T08:49:25.045Z"
   },
   {
    "duration": 63,
    "start_time": "2021-10-28T08:49:25.104Z"
   },
   {
    "duration": 42,
    "start_time": "2021-10-28T08:49:25.170Z"
   },
   {
    "duration": 73,
    "start_time": "2021-10-28T08:49:25.215Z"
   },
   {
    "duration": 21,
    "start_time": "2021-10-28T08:49:25.291Z"
   },
   {
    "duration": 7,
    "start_time": "2021-10-28T08:49:25.315Z"
   },
   {
    "duration": 72,
    "start_time": "2021-10-28T08:49:25.324Z"
   },
   {
    "duration": 55,
    "start_time": "2021-10-28T08:49:25.399Z"
   },
   {
    "duration": 21,
    "start_time": "2021-10-28T08:49:25.467Z"
   },
   {
    "duration": 36,
    "start_time": "2021-10-28T08:49:25.491Z"
   },
   {
    "duration": 43,
    "start_time": "2021-10-28T08:49:25.529Z"
   },
   {
    "duration": 31,
    "start_time": "2021-10-28T08:49:25.575Z"
   },
   {
    "duration": 16,
    "start_time": "2021-10-28T08:49:25.608Z"
   },
   {
    "duration": 61,
    "start_time": "2021-10-28T08:49:25.627Z"
   },
   {
    "duration": 17,
    "start_time": "2021-10-28T08:49:25.691Z"
   },
   {
    "duration": 58,
    "start_time": "2021-10-28T08:49:25.711Z"
   },
   {
    "duration": 16,
    "start_time": "2021-10-28T08:49:25.772Z"
   },
   {
    "duration": 37,
    "start_time": "2021-10-28T08:49:25.791Z"
   },
   {
    "duration": 41,
    "start_time": "2021-10-28T08:49:25.831Z"
   },
   {
    "duration": 36,
    "start_time": "2021-10-28T08:49:25.874Z"
   },
   {
    "duration": 21,
    "start_time": "2021-10-28T08:49:25.912Z"
   },
   {
    "duration": 72,
    "start_time": "2021-10-28T08:49:25.936Z"
   },
   {
    "duration": 22,
    "start_time": "2021-10-28T08:49:26.011Z"
   },
   {
    "duration": 60,
    "start_time": "2021-10-28T08:49:26.036Z"
   },
   {
    "duration": 19,
    "start_time": "2021-10-28T08:49:26.099Z"
   },
   {
    "duration": 1464,
    "start_time": "2021-10-28T08:49:58.722Z"
   },
   {
    "duration": 23,
    "start_time": "2021-10-28T08:50:35.200Z"
   },
   {
    "duration": 7394,
    "start_time": "2021-10-28T10:49:07.699Z"
   },
   {
    "duration": 24,
    "start_time": "2021-10-28T10:49:27.280Z"
   },
   {
    "duration": 2140,
    "start_time": "2021-10-28T10:50:20.640Z"
   },
   {
    "duration": 21,
    "start_time": "2021-10-28T10:50:38.692Z"
   },
   {
    "duration": 25,
    "start_time": "2021-10-28T10:56:07.862Z"
   },
   {
    "duration": 10,
    "start_time": "2021-10-28T10:56:32.521Z"
   },
   {
    "duration": 8,
    "start_time": "2021-10-28T10:56:43.173Z"
   },
   {
    "duration": 895,
    "start_time": "2021-10-28T10:56:43.184Z"
   },
   {
    "duration": 25,
    "start_time": "2021-10-28T10:56:44.082Z"
   },
   {
    "duration": 61,
    "start_time": "2021-10-28T10:56:44.111Z"
   },
   {
    "duration": 9,
    "start_time": "2021-10-28T10:56:44.175Z"
   },
   {
    "duration": 19,
    "start_time": "2021-10-28T10:56:44.187Z"
   },
   {
    "duration": 10,
    "start_time": "2021-10-28T10:56:44.209Z"
   },
   {
    "duration": 51,
    "start_time": "2021-10-28T10:56:44.222Z"
   },
   {
    "duration": 13,
    "start_time": "2021-10-28T10:56:44.276Z"
   },
   {
    "duration": 12,
    "start_time": "2021-10-28T10:56:44.292Z"
   },
   {
    "duration": 11,
    "start_time": "2021-10-28T10:56:44.308Z"
   },
   {
    "duration": 13,
    "start_time": "2021-10-28T10:56:44.367Z"
   },
   {
    "duration": 14,
    "start_time": "2021-10-28T10:56:44.383Z"
   },
   {
    "duration": 15,
    "start_time": "2021-10-28T10:56:44.400Z"
   },
   {
    "duration": 14,
    "start_time": "2021-10-28T10:56:44.417Z"
   },
   {
    "duration": 11,
    "start_time": "2021-10-28T10:56:44.467Z"
   },
   {
    "duration": 18,
    "start_time": "2021-10-28T10:56:44.481Z"
   },
   {
    "duration": 31,
    "start_time": "2021-10-28T10:56:44.502Z"
   },
   {
    "duration": 24,
    "start_time": "2021-10-28T10:56:44.569Z"
   },
   {
    "duration": 35,
    "start_time": "2021-10-28T10:56:44.598Z"
   },
   {
    "duration": 64,
    "start_time": "2021-10-28T10:56:44.636Z"
   },
   {
    "duration": 39,
    "start_time": "2021-10-28T10:56:44.703Z"
   },
   {
    "duration": 56,
    "start_time": "2021-10-28T10:56:44.767Z"
   },
   {
    "duration": 57,
    "start_time": "2021-10-28T10:56:44.826Z"
   },
   {
    "duration": 25,
    "start_time": "2021-10-28T10:56:44.886Z"
   },
   {
    "duration": 6,
    "start_time": "2021-10-28T10:56:44.914Z"
   },
   {
    "duration": 1078,
    "start_time": "2021-10-28T10:56:44.923Z"
   },
   {
    "duration": 4052,
    "start_time": "2021-10-28T10:56:46.005Z"
   },
   {
    "duration": 34,
    "start_time": "2021-10-28T10:56:50.067Z"
   },
   {
    "duration": 36,
    "start_time": "2021-10-28T10:56:50.104Z"
   },
   {
    "duration": 35,
    "start_time": "2021-10-28T10:56:50.168Z"
   },
   {
    "duration": 69,
    "start_time": "2021-10-28T10:56:50.206Z"
   },
   {
    "duration": 24,
    "start_time": "2021-10-28T10:56:50.277Z"
   },
   {
    "duration": 8,
    "start_time": "2021-10-28T10:56:50.304Z"
   },
   {
    "duration": 77,
    "start_time": "2021-10-28T10:56:50.316Z"
   },
   {
    "duration": 75,
    "start_time": "2021-10-28T10:56:50.397Z"
   },
   {
    "duration": 27,
    "start_time": "2021-10-28T10:56:50.475Z"
   },
   {
    "duration": 67,
    "start_time": "2021-10-28T10:56:50.505Z"
   },
   {
    "duration": 20,
    "start_time": "2021-10-28T10:56:50.575Z"
   },
   {
    "duration": 32,
    "start_time": "2021-10-28T10:56:50.598Z"
   },
   {
    "duration": 46,
    "start_time": "2021-10-28T10:56:50.633Z"
   },
   {
    "duration": 804,
    "start_time": "2021-10-28T10:56:50.682Z"
   },
   {
    "duration": 15,
    "start_time": "2021-10-28T10:56:51.490Z"
   },
   {
    "duration": 21,
    "start_time": "2021-10-28T10:56:51.507Z"
   },
   {
    "duration": 73,
    "start_time": "2021-10-28T10:56:51.531Z"
   },
   {
    "duration": 17,
    "start_time": "2021-10-28T10:56:51.607Z"
   },
   {
    "duration": 69,
    "start_time": "2021-10-28T10:56:51.626Z"
   },
   {
    "duration": 18,
    "start_time": "2021-10-28T10:56:51.698Z"
   },
   {
    "duration": 73,
    "start_time": "2021-10-28T10:56:51.720Z"
   },
   {
    "duration": 17,
    "start_time": "2021-10-28T10:56:51.796Z"
   },
   {
    "duration": 121,
    "start_time": "2021-10-28T10:56:51.815Z"
   },
   {
    "duration": 40,
    "start_time": "2021-10-28T10:56:51.939Z"
   },
   {
    "duration": 41,
    "start_time": "2021-10-28T10:56:51.981Z"
   },
   {
    "duration": 16,
    "start_time": "2021-10-28T10:56:52.024Z"
   },
   {
    "duration": 36,
    "start_time": "2021-10-28T10:56:52.072Z"
   },
   {
    "duration": 19,
    "start_time": "2021-10-28T10:56:52.111Z"
   },
   {
    "duration": 397,
    "start_time": "2021-10-28T10:58:08.712Z"
   },
   {
    "duration": 16,
    "start_time": "2021-10-28T11:29:04.634Z"
   },
   {
    "duration": 20,
    "start_time": "2021-10-28T11:33:44.590Z"
   },
   {
    "duration": 30,
    "start_time": "2021-10-28T11:35:20.694Z"
   },
   {
    "duration": 99,
    "start_time": "2021-10-28T11:35:59.492Z"
   },
   {
    "duration": 27,
    "start_time": "2021-10-28T11:36:10.190Z"
   },
   {
    "duration": 405,
    "start_time": "2021-10-28T11:37:05.635Z"
   },
   {
    "duration": 281,
    "start_time": "2021-10-28T11:37:25.327Z"
   },
   {
    "duration": 20,
    "start_time": "2021-10-28T11:37:39.755Z"
   },
   {
    "duration": 283,
    "start_time": "2021-10-28T11:38:26.346Z"
   },
   {
    "duration": 15,
    "start_time": "2021-10-28T11:45:59.539Z"
   },
   {
    "duration": 8,
    "start_time": "2021-10-28T13:05:05.764Z"
   },
   {
    "duration": 963,
    "start_time": "2021-10-28T13:05:05.781Z"
   },
   {
    "duration": 39,
    "start_time": "2021-10-28T13:05:06.748Z"
   },
   {
    "duration": 38,
    "start_time": "2021-10-28T13:05:06.791Z"
   },
   {
    "duration": 39,
    "start_time": "2021-10-28T13:05:06.832Z"
   },
   {
    "duration": 21,
    "start_time": "2021-10-28T13:05:06.874Z"
   },
   {
    "duration": 11,
    "start_time": "2021-10-28T13:05:06.898Z"
   },
   {
    "duration": 56,
    "start_time": "2021-10-28T13:05:06.911Z"
   },
   {
    "duration": 10,
    "start_time": "2021-10-28T13:05:06.972Z"
   },
   {
    "duration": 13,
    "start_time": "2021-10-28T13:05:06.986Z"
   },
   {
    "duration": 10,
    "start_time": "2021-10-28T13:05:07.001Z"
   },
   {
    "duration": 54,
    "start_time": "2021-10-28T13:05:07.013Z"
   },
   {
    "duration": 10,
    "start_time": "2021-10-28T13:05:07.069Z"
   },
   {
    "duration": 15,
    "start_time": "2021-10-28T13:05:07.081Z"
   },
   {
    "duration": 22,
    "start_time": "2021-10-28T13:05:07.098Z"
   },
   {
    "duration": 45,
    "start_time": "2021-10-28T13:05:07.123Z"
   },
   {
    "duration": 11,
    "start_time": "2021-10-28T13:05:07.170Z"
   },
   {
    "duration": 32,
    "start_time": "2021-10-28T13:05:07.184Z"
   },
   {
    "duration": 50,
    "start_time": "2021-10-28T13:05:07.219Z"
   },
   {
    "duration": 36,
    "start_time": "2021-10-28T13:05:07.271Z"
   },
   {
    "duration": 60,
    "start_time": "2021-10-28T13:05:07.309Z"
   },
   {
    "duration": 31,
    "start_time": "2021-10-28T13:05:07.371Z"
   },
   {
    "duration": 64,
    "start_time": "2021-10-28T13:05:07.405Z"
   },
   {
    "duration": 29,
    "start_time": "2021-10-28T13:05:07.475Z"
   },
   {
    "duration": 25,
    "start_time": "2021-10-28T13:05:07.507Z"
   },
   {
    "duration": 35,
    "start_time": "2021-10-28T13:05:07.535Z"
   },
   {
    "duration": 978,
    "start_time": "2021-10-28T13:05:07.572Z"
   },
   {
    "duration": 3849,
    "start_time": "2021-10-28T13:05:08.553Z"
   },
   {
    "duration": 34,
    "start_time": "2021-10-28T13:05:12.405Z"
   },
   {
    "duration": 57,
    "start_time": "2021-10-28T13:05:12.442Z"
   },
   {
    "duration": 30,
    "start_time": "2021-10-28T13:05:12.502Z"
   },
   {
    "duration": 68,
    "start_time": "2021-10-28T13:05:12.534Z"
   },
   {
    "duration": 23,
    "start_time": "2021-10-28T13:05:12.605Z"
   },
   {
    "duration": 6,
    "start_time": "2021-10-28T13:05:12.631Z"
   },
   {
    "duration": 64,
    "start_time": "2021-10-28T13:05:12.639Z"
   },
   {
    "duration": 68,
    "start_time": "2021-10-28T13:05:12.705Z"
   },
   {
    "duration": 22,
    "start_time": "2021-10-28T13:05:12.775Z"
   },
   {
    "duration": 39,
    "start_time": "2021-10-28T13:05:12.800Z"
   },
   {
    "duration": 19,
    "start_time": "2021-10-28T13:05:12.866Z"
   },
   {
    "duration": 31,
    "start_time": "2021-10-28T13:05:12.888Z"
   },
   {
    "duration": 48,
    "start_time": "2021-10-28T13:05:12.921Z"
   },
   {
    "duration": 728,
    "start_time": "2021-10-28T13:05:12.972Z"
   },
   {
    "duration": 19,
    "start_time": "2021-10-28T13:05:13.703Z"
   },
   {
    "duration": 45,
    "start_time": "2021-10-28T13:05:13.725Z"
   },
   {
    "duration": 33,
    "start_time": "2021-10-28T13:05:13.772Z"
   },
   {
    "duration": 17,
    "start_time": "2021-10-28T13:05:13.808Z"
   },
   {
    "duration": 49,
    "start_time": "2021-10-28T13:05:13.827Z"
   },
   {
    "duration": 33,
    "start_time": "2021-10-28T13:05:13.878Z"
   },
   {
    "duration": 17,
    "start_time": "2021-10-28T13:05:13.914Z"
   },
   {
    "duration": 33,
    "start_time": "2021-10-28T13:05:13.968Z"
   },
   {
    "duration": 18,
    "start_time": "2021-10-28T13:05:14.004Z"
   },
   {
    "duration": 72,
    "start_time": "2021-10-28T13:05:14.025Z"
   },
   {
    "duration": 21,
    "start_time": "2021-10-28T13:05:14.099Z"
   },
   {
    "duration": 70,
    "start_time": "2021-10-28T13:05:14.123Z"
   },
   {
    "duration": 20,
    "start_time": "2021-10-28T13:05:14.196Z"
   },
   {
    "duration": 156,
    "start_time": "2021-10-28T13:05:14.218Z"
   },
   {
    "duration": 24,
    "start_time": "2021-10-28T13:05:14.377Z"
   },
   {
    "duration": 19,
    "start_time": "2021-10-28T13:24:35.867Z"
   },
   {
    "duration": 261,
    "start_time": "2021-10-28T21:45:31.870Z"
   },
   {
    "duration": 8,
    "start_time": "2021-10-28T21:45:35.885Z"
   },
   {
    "duration": 632,
    "start_time": "2021-10-28T21:45:35.895Z"
   },
   {
    "duration": 13,
    "start_time": "2021-10-28T21:45:36.530Z"
   },
   {
    "duration": 20,
    "start_time": "2021-10-28T21:45:36.544Z"
   },
   {
    "duration": 5,
    "start_time": "2021-10-28T21:45:36.565Z"
   },
   {
    "duration": 12,
    "start_time": "2021-10-28T21:45:36.572Z"
   },
   {
    "duration": 5,
    "start_time": "2021-10-28T21:45:36.586Z"
   },
   {
    "duration": 8,
    "start_time": "2021-10-28T21:45:36.593Z"
   },
   {
    "duration": 7,
    "start_time": "2021-10-28T21:45:36.603Z"
   },
   {
    "duration": 8,
    "start_time": "2021-10-28T21:45:36.611Z"
   },
   {
    "duration": 8,
    "start_time": "2021-10-28T21:45:36.620Z"
   },
   {
    "duration": 38,
    "start_time": "2021-10-28T21:45:36.629Z"
   },
   {
    "duration": 9,
    "start_time": "2021-10-28T21:45:36.669Z"
   },
   {
    "duration": 8,
    "start_time": "2021-10-28T21:45:36.680Z"
   },
   {
    "duration": 11,
    "start_time": "2021-10-28T21:45:36.689Z"
   },
   {
    "duration": 8,
    "start_time": "2021-10-28T21:45:36.701Z"
   },
   {
    "duration": 9,
    "start_time": "2021-10-28T21:45:36.710Z"
   },
   {
    "duration": 20,
    "start_time": "2021-10-28T21:45:36.720Z"
   },
   {
    "duration": 11,
    "start_time": "2021-10-28T21:45:36.766Z"
   },
   {
    "duration": 16,
    "start_time": "2021-10-28T21:45:36.780Z"
   },
   {
    "duration": 20,
    "start_time": "2021-10-28T21:45:36.798Z"
   },
   {
    "duration": 19,
    "start_time": "2021-10-28T21:45:36.819Z"
   },
   {
    "duration": 46,
    "start_time": "2021-10-28T21:45:36.840Z"
   },
   {
    "duration": 19,
    "start_time": "2021-10-28T21:45:36.888Z"
   },
   {
    "duration": 16,
    "start_time": "2021-10-28T21:45:36.909Z"
   },
   {
    "duration": 5,
    "start_time": "2021-10-28T21:45:36.926Z"
   },
   {
    "duration": 646,
    "start_time": "2021-10-28T21:45:36.963Z"
   },
   {
    "duration": 2832,
    "start_time": "2021-10-28T21:45:37.611Z"
   },
   {
    "duration": 32,
    "start_time": "2021-10-28T21:45:40.445Z"
   },
   {
    "duration": 26,
    "start_time": "2021-10-28T21:45:40.479Z"
   },
   {
    "duration": 21,
    "start_time": "2021-10-28T21:45:40.507Z"
   },
   {
    "duration": 49,
    "start_time": "2021-10-28T21:45:40.531Z"
   },
   {
    "duration": 14,
    "start_time": "2021-10-28T21:45:40.582Z"
   },
   {
    "duration": 5,
    "start_time": "2021-10-28T21:45:40.597Z"
   },
   {
    "duration": 23,
    "start_time": "2021-10-28T21:45:40.604Z"
   },
   {
    "duration": 55,
    "start_time": "2021-10-28T21:45:40.629Z"
   },
   {
    "duration": 13,
    "start_time": "2021-10-28T21:45:40.686Z"
   },
   {
    "duration": 28,
    "start_time": "2021-10-28T21:45:40.700Z"
   },
   {
    "duration": 11,
    "start_time": "2021-10-28T21:45:40.729Z"
   },
   {
    "duration": 40,
    "start_time": "2021-10-28T21:45:40.741Z"
   },
   {
    "duration": 10,
    "start_time": "2021-10-28T21:45:40.783Z"
   },
   {
    "duration": 500,
    "start_time": "2021-10-28T21:45:40.795Z"
   },
   {
    "duration": 18,
    "start_time": "2021-10-28T21:45:41.297Z"
   },
   {
    "duration": 21,
    "start_time": "2021-10-28T21:45:41.316Z"
   },
   {
    "duration": 27,
    "start_time": "2021-10-28T21:45:41.339Z"
   },
   {
    "duration": 12,
    "start_time": "2021-10-28T21:45:41.368Z"
   },
   {
    "duration": 13,
    "start_time": "2021-10-28T21:45:41.381Z"
   },
   {
    "duration": 21,
    "start_time": "2021-10-28T21:45:41.395Z"
   },
   {
    "duration": 11,
    "start_time": "2021-10-28T21:45:41.417Z"
   },
   {
    "duration": 285,
    "start_time": "2021-10-28T21:45:41.430Z"
   },
   {
    "duration": -626,
    "start_time": "2021-10-28T21:45:42.343Z"
   },
   {
    "duration": -634,
    "start_time": "2021-10-28T21:45:42.352Z"
   },
   {
    "duration": -654,
    "start_time": "2021-10-28T21:45:42.434Z"
   },
   {
    "duration": -663,
    "start_time": "2021-10-28T21:45:42.443Z"
   },
   {
    "duration": -678,
    "start_time": "2021-10-28T21:45:42.459Z"
   },
   {
    "duration": -692,
    "start_time": "2021-10-28T21:45:42.474Z"
   },
   {
    "duration": -705,
    "start_time": "2021-10-28T21:45:42.488Z"
   },
   {
    "duration": -713,
    "start_time": "2021-10-28T21:45:42.497Z"
   },
   {
    "duration": 220,
    "start_time": "2021-10-28T21:46:35.350Z"
   },
   {
    "duration": 22,
    "start_time": "2021-10-28T22:02:03.990Z"
   },
   {
    "duration": 58,
    "start_time": "2021-10-28T22:02:04.014Z"
   },
   {
    "duration": 9,
    "start_time": "2021-10-28T22:02:04.074Z"
   },
   {
    "duration": 21,
    "start_time": "2021-10-28T22:02:04.085Z"
   },
   {
    "duration": 5,
    "start_time": "2021-10-28T22:02:04.108Z"
   },
   {
    "duration": 14,
    "start_time": "2021-10-28T22:02:04.115Z"
   },
   {
    "duration": 34,
    "start_time": "2021-10-28T22:02:04.131Z"
   },
   {
    "duration": 7,
    "start_time": "2021-10-28T22:02:04.167Z"
   },
   {
    "duration": 8,
    "start_time": "2021-10-28T22:02:04.176Z"
   },
   {
    "duration": 9,
    "start_time": "2021-10-28T22:02:04.186Z"
   },
   {
    "duration": 11,
    "start_time": "2021-10-28T22:02:04.196Z"
   },
   {
    "duration": 13,
    "start_time": "2021-10-28T22:02:04.208Z"
   },
   {
    "duration": 10,
    "start_time": "2021-10-28T22:02:04.223Z"
   },
   {
    "duration": 34,
    "start_time": "2021-10-28T22:02:04.235Z"
   },
   {
    "duration": 10,
    "start_time": "2021-10-28T22:02:04.270Z"
   },
   {
    "duration": 12,
    "start_time": "2021-10-28T22:02:04.282Z"
   },
   {
    "duration": 12,
    "start_time": "2021-10-28T22:02:04.295Z"
   },
   {
    "duration": 22,
    "start_time": "2021-10-28T22:02:04.308Z"
   },
   {
    "duration": 11,
    "start_time": "2021-10-28T22:02:04.332Z"
   },
   {
    "duration": 16,
    "start_time": "2021-10-28T22:02:04.363Z"
   },
   {
    "duration": 19,
    "start_time": "2021-10-28T22:02:04.381Z"
   },
   {
    "duration": 20,
    "start_time": "2021-10-28T22:02:04.401Z"
   },
   {
    "duration": 50,
    "start_time": "2021-10-28T22:02:04.424Z"
   },
   {
    "duration": 20,
    "start_time": "2021-10-28T22:02:04.476Z"
   },
   {
    "duration": 16,
    "start_time": "2021-10-28T22:02:04.498Z"
   },
   {
    "duration": 5,
    "start_time": "2021-10-28T22:02:04.516Z"
   },
   {
    "duration": 666,
    "start_time": "2021-10-28T22:02:04.523Z"
   },
   {
    "duration": 2773,
    "start_time": "2021-10-28T22:02:05.191Z"
   },
   {
    "duration": 20,
    "start_time": "2021-10-28T22:02:07.967Z"
   },
   {
    "duration": 29,
    "start_time": "2021-10-28T22:02:07.989Z"
   },
   {
    "duration": 19,
    "start_time": "2021-10-28T22:02:08.020Z"
   },
   {
    "duration": 45,
    "start_time": "2021-10-28T22:02:08.041Z"
   },
   {
    "duration": 13,
    "start_time": "2021-10-28T22:02:08.088Z"
   },
   {
    "duration": 8,
    "start_time": "2021-10-28T22:02:08.103Z"
   },
   {
    "duration": 52,
    "start_time": "2021-10-28T22:02:08.113Z"
   },
   {
    "duration": 32,
    "start_time": "2021-10-28T22:02:08.168Z"
   },
   {
    "duration": 15,
    "start_time": "2021-10-28T22:02:08.202Z"
   },
   {
    "duration": 58,
    "start_time": "2021-10-28T22:02:08.219Z"
   },
   {
    "duration": 12,
    "start_time": "2021-10-28T22:02:08.279Z"
   },
   {
    "duration": 24,
    "start_time": "2021-10-28T22:02:08.293Z"
   },
   {
    "duration": 11,
    "start_time": "2021-10-28T22:02:08.318Z"
   },
   {
    "duration": 34,
    "start_time": "2021-10-28T22:02:08.330Z"
   },
   {
    "duration": 13,
    "start_time": "2021-10-28T22:02:08.366Z"
   },
   {
    "duration": 23,
    "start_time": "2021-10-28T22:02:08.380Z"
   },
   {
    "duration": 15,
    "start_time": "2021-10-28T22:02:08.405Z"
   },
   {
    "duration": 43,
    "start_time": "2021-10-28T22:02:08.422Z"
   },
   {
    "duration": 18,
    "start_time": "2021-10-28T22:02:08.467Z"
   },
   {
    "duration": 20,
    "start_time": "2021-10-28T22:02:08.487Z"
   },
   {
    "duration": 19,
    "start_time": "2021-10-28T22:02:08.509Z"
   },
   {
    "duration": 42,
    "start_time": "2021-10-28T22:02:08.530Z"
   },
   {
    "duration": 26,
    "start_time": "2021-10-28T22:02:08.574Z"
   },
   {
    "duration": 14,
    "start_time": "2021-10-28T22:02:08.602Z"
   },
   {
    "duration": 47,
    "start_time": "2021-10-28T22:02:08.618Z"
   },
   {
    "duration": 13,
    "start_time": "2021-10-28T22:02:08.667Z"
   },
   {
    "duration": 23,
    "start_time": "2021-10-28T22:02:08.682Z"
   },
   {
    "duration": 12,
    "start_time": "2021-10-28T22:02:08.707Z"
   },
   {
    "duration": 11,
    "start_time": "2021-10-28T22:03:59.478Z"
   },
   {
    "duration": 10,
    "start_time": "2021-10-28T22:04:27.159Z"
   },
   {
    "duration": 14,
    "start_time": "2021-10-28T22:07:06.461Z"
   },
   {
    "duration": 15,
    "start_time": "2021-10-28T22:07:20.681Z"
   },
   {
    "duration": 10,
    "start_time": "2021-10-28T22:18:46.151Z"
   },
   {
    "duration": 14,
    "start_time": "2021-10-28T22:21:33.270Z"
   },
   {
    "duration": 10,
    "start_time": "2021-10-28T22:22:30.382Z"
   },
   {
    "duration": 1383,
    "start_time": "2022-09-20T08:54:12.380Z"
   },
   {
    "duration": 6,
    "start_time": "2022-09-20T08:54:20.353Z"
   },
   {
    "duration": 314,
    "start_time": "2022-09-20T08:56:35.125Z"
   },
   {
    "duration": 73,
    "start_time": "2022-09-20T08:56:58.672Z"
   },
   {
    "duration": 2,
    "start_time": "2022-09-20T09:05:22.271Z"
   },
   {
    "duration": 9,
    "start_time": "2022-09-20T09:05:22.274Z"
   },
   {
    "duration": 6,
    "start_time": "2022-09-20T09:05:22.284Z"
   },
   {
    "duration": 71,
    "start_time": "2022-09-20T09:05:22.291Z"
   },
   {
    "duration": 71,
    "start_time": "2022-09-20T09:05:22.364Z"
   },
   {
    "duration": 11,
    "start_time": "2022-09-20T09:05:22.437Z"
   },
   {
    "duration": 35,
    "start_time": "2022-09-20T09:05:22.449Z"
   },
   {
    "duration": 29,
    "start_time": "2022-09-20T09:05:22.486Z"
   },
   {
    "duration": 20,
    "start_time": "2022-09-20T09:05:22.517Z"
   },
   {
    "duration": 241,
    "start_time": "2022-09-20T09:05:22.540Z"
   },
   {
    "duration": 5,
    "start_time": "2022-09-20T09:05:22.786Z"
   },
   {
    "duration": 20,
    "start_time": "2022-09-20T09:05:22.801Z"
   },
   {
    "duration": 10,
    "start_time": "2022-09-20T09:05:22.823Z"
   },
   {
    "duration": 27,
    "start_time": "2022-09-20T09:05:22.836Z"
   },
   {
    "duration": 7,
    "start_time": "2022-09-20T09:05:22.865Z"
   },
   {
    "duration": 25,
    "start_time": "2022-09-20T09:05:22.873Z"
   },
   {
    "duration": 15,
    "start_time": "2022-09-20T09:05:22.900Z"
   },
   {
    "duration": 26,
    "start_time": "2022-09-20T09:05:22.917Z"
   },
   {
    "duration": 32,
    "start_time": "2022-09-20T09:05:22.944Z"
   },
   {
    "duration": 43,
    "start_time": "2022-09-20T09:05:22.978Z"
   },
   {
    "duration": 35,
    "start_time": "2022-09-20T09:05:23.023Z"
   },
   {
    "duration": 5,
    "start_time": "2022-09-20T09:05:23.060Z"
   },
   {
    "duration": 717,
    "start_time": "2022-09-20T09:05:40.900Z"
   },
   {
    "duration": 20,
    "start_time": "2022-09-20T09:06:03.876Z"
   },
   {
    "duration": 2522,
    "start_time": "2022-09-20T09:06:03.898Z"
   },
   {
    "duration": 17,
    "start_time": "2022-09-20T09:06:06.422Z"
   },
   {
    "duration": 46,
    "start_time": "2022-09-20T09:06:06.442Z"
   },
   {
    "duration": 18,
    "start_time": "2022-09-20T09:06:06.490Z"
   },
   {
    "duration": 128,
    "start_time": "2022-09-20T09:06:06.510Z"
   },
   {
    "duration": 0,
    "start_time": "2022-09-20T09:06:06.640Z"
   },
   {
    "duration": 0,
    "start_time": "2022-09-20T09:06:06.641Z"
   },
   {
    "duration": 0,
    "start_time": "2022-09-20T09:06:06.642Z"
   },
   {
    "duration": 0,
    "start_time": "2022-09-20T09:06:06.643Z"
   },
   {
    "duration": 0,
    "start_time": "2022-09-20T09:06:06.644Z"
   },
   {
    "duration": 0,
    "start_time": "2022-09-20T09:06:06.645Z"
   },
   {
    "duration": 0,
    "start_time": "2022-09-20T09:06:06.645Z"
   },
   {
    "duration": 0,
    "start_time": "2022-09-20T09:06:06.646Z"
   },
   {
    "duration": 0,
    "start_time": "2022-09-20T09:06:06.647Z"
   },
   {
    "duration": 0,
    "start_time": "2022-09-20T09:06:06.648Z"
   },
   {
    "duration": 0,
    "start_time": "2022-09-20T09:06:06.649Z"
   },
   {
    "duration": 0,
    "start_time": "2022-09-20T09:06:06.650Z"
   },
   {
    "duration": 0,
    "start_time": "2022-09-20T09:06:06.651Z"
   },
   {
    "duration": 0,
    "start_time": "2022-09-20T09:06:06.652Z"
   },
   {
    "duration": 0,
    "start_time": "2022-09-20T09:06:06.653Z"
   },
   {
    "duration": 17,
    "start_time": "2022-09-20T09:11:07.314Z"
   },
   {
    "duration": 19,
    "start_time": "2022-09-20T09:11:19.346Z"
   },
   {
    "duration": 36,
    "start_time": "2022-09-20T09:11:41.141Z"
   },
   {
    "duration": 16,
    "start_time": "2022-09-20T09:20:37.324Z"
   },
   {
    "duration": 2,
    "start_time": "2022-09-20T09:24:21.420Z"
   },
   {
    "duration": 8,
    "start_time": "2022-09-20T09:24:21.424Z"
   },
   {
    "duration": 42,
    "start_time": "2022-09-20T09:24:21.434Z"
   },
   {
    "duration": 103,
    "start_time": "2022-09-20T09:24:21.477Z"
   },
   {
    "duration": 71,
    "start_time": "2022-09-20T09:24:21.582Z"
   },
   {
    "duration": 11,
    "start_time": "2022-09-20T09:24:21.654Z"
   },
   {
    "duration": 35,
    "start_time": "2022-09-20T09:24:21.666Z"
   },
   {
    "duration": 24,
    "start_time": "2022-09-20T09:24:21.702Z"
   },
   {
    "duration": 16,
    "start_time": "2022-09-20T09:24:21.728Z"
   },
   {
    "duration": 176,
    "start_time": "2022-09-20T09:24:21.746Z"
   },
   {
    "duration": 5,
    "start_time": "2022-09-20T09:24:21.924Z"
   },
   {
    "duration": 11,
    "start_time": "2022-09-20T09:24:21.930Z"
   },
   {
    "duration": 7,
    "start_time": "2022-09-20T09:24:21.942Z"
   },
   {
    "duration": 23,
    "start_time": "2022-09-20T09:24:21.951Z"
   },
   {
    "duration": 8,
    "start_time": "2022-09-20T09:24:21.975Z"
   },
   {
    "duration": 35,
    "start_time": "2022-09-20T09:24:21.984Z"
   },
   {
    "duration": 26,
    "start_time": "2022-09-20T09:24:22.021Z"
   },
   {
    "duration": 6,
    "start_time": "2022-09-20T09:24:22.049Z"
   },
   {
    "duration": 56,
    "start_time": "2022-09-20T09:24:22.057Z"
   },
   {
    "duration": 38,
    "start_time": "2022-09-20T09:24:22.115Z"
   },
   {
    "duration": 5,
    "start_time": "2022-09-20T09:24:22.155Z"
   },
   {
    "duration": 777,
    "start_time": "2022-09-20T09:24:22.161Z"
   },
   {
    "duration": 2736,
    "start_time": "2022-09-20T09:24:22.940Z"
   },
   {
    "duration": 36,
    "start_time": "2022-09-20T09:24:25.678Z"
   },
   {
    "duration": 23,
    "start_time": "2022-09-20T09:24:25.716Z"
   },
   {
    "duration": 46,
    "start_time": "2022-09-20T09:24:25.741Z"
   },
   {
    "duration": 28,
    "start_time": "2022-09-20T09:25:41.192Z"
   },
   {
    "duration": 14,
    "start_time": "2022-09-20T09:25:41.222Z"
   },
   {
    "duration": 7,
    "start_time": "2022-09-20T09:25:41.238Z"
   },
   {
    "duration": 25,
    "start_time": "2022-09-20T09:25:41.247Z"
   },
   {
    "duration": 63,
    "start_time": "2022-09-20T09:25:41.274Z"
   },
   {
    "duration": 10,
    "start_time": "2022-09-20T09:25:41.340Z"
   },
   {
    "duration": 31,
    "start_time": "2022-09-20T09:25:41.351Z"
   },
   {
    "duration": 26,
    "start_time": "2022-09-20T09:25:41.384Z"
   },
   {
    "duration": 75,
    "start_time": "2022-09-20T09:25:41.412Z"
   },
   {
    "duration": 21,
    "start_time": "2022-09-20T09:25:41.489Z"
   },
   {
    "duration": 24,
    "start_time": "2022-09-20T09:25:41.512Z"
   },
   {
    "duration": 15,
    "start_time": "2022-09-20T09:25:41.538Z"
   },
   {
    "duration": 17,
    "start_time": "2022-09-20T09:25:41.555Z"
   },
   {
    "duration": 38,
    "start_time": "2022-09-20T09:25:41.574Z"
   },
   {
    "duration": 13,
    "start_time": "2022-09-20T09:25:41.614Z"
   },
   {
    "duration": 24,
    "start_time": "2022-09-20T09:25:41.629Z"
   }
  ],
  "colab": {
   "collapsed_sections": [],
   "provenance": [],
   "toc_visible": true
  },
  "kernelspec": {
   "display_name": "Python 3 (ipykernel)",
   "language": "python",
   "name": "python3"
  },
  "language_info": {
   "codemirror_mode": {
    "name": "ipython",
    "version": 3
   },
   "file_extension": ".py",
   "mimetype": "text/x-python",
   "name": "python",
   "nbconvert_exporter": "python",
   "pygments_lexer": "ipython3",
   "version": "3.9.5"
  },
  "toc": {
   "base_numbering": 1,
   "nav_menu": {},
   "number_sections": true,
   "sideBar": true,
   "skip_h1_title": true,
   "title_cell": "Table of Contents",
   "title_sidebar": "Contents",
   "toc_cell": false,
   "toc_position": {},
   "toc_section_display": true,
   "toc_window_display": true
  }
 },
 "nbformat": 4,
 "nbformat_minor": 1
}
