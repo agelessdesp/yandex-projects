{
  "cells": [
    {
      "cell_type": "code",
      "source": [
        "from google.colab import drive\n",
        "\n",
        "drive.mount('/content/drive')"
      ],
      "metadata": {
        "colab": {
          "base_uri": "https://localhost:8080/"
        },
        "id": "Uh6u_Vi0bDbV",
        "outputId": "7e855195-971a-4dfb-bca7-bc85f729c7e5"
      },
      "execution_count": 1,
      "outputs": [
        {
          "output_type": "stream",
          "name": "stdout",
          "text": [
            "Mounted at /content/drive\n"
          ]
        }
      ]
    },
    {
      "cell_type": "code",
      "source": [
        "!pip install catboost"
      ],
      "metadata": {
        "colab": {
          "base_uri": "https://localhost:8080/"
        },
        "id": "_5JtnB2kbNwQ",
        "outputId": "5a281ba1-85fb-427a-e7d5-ea5c258a6c41"
      },
      "execution_count": 2,
      "outputs": [
        {
          "output_type": "stream",
          "name": "stdout",
          "text": [
            "Looking in indexes: https://pypi.org/simple, https://us-python.pkg.dev/colab-wheels/public/simple/\n",
            "Collecting catboost\n",
            "  Downloading catboost-1.0.6-cp37-none-manylinux1_x86_64.whl (76.6 MB)\n",
            "\u001b[K     |████████████████████████████████| 76.6 MB 1.2 MB/s \n",
            "\u001b[?25hRequirement already satisfied: graphviz in /usr/local/lib/python3.7/dist-packages (from catboost) (0.10.1)\n",
            "Requirement already satisfied: numpy>=1.16.0 in /usr/local/lib/python3.7/dist-packages (from catboost) (1.21.6)\n",
            "Requirement already satisfied: scipy in /usr/local/lib/python3.7/dist-packages (from catboost) (1.7.3)\n",
            "Requirement already satisfied: six in /usr/local/lib/python3.7/dist-packages (from catboost) (1.15.0)\n",
            "Requirement already satisfied: pandas>=0.24.0 in /usr/local/lib/python3.7/dist-packages (from catboost) (1.3.5)\n",
            "Requirement already satisfied: matplotlib in /usr/local/lib/python3.7/dist-packages (from catboost) (3.2.2)\n",
            "Requirement already satisfied: plotly in /usr/local/lib/python3.7/dist-packages (from catboost) (5.5.0)\n",
            "Requirement already satisfied: pytz>=2017.3 in /usr/local/lib/python3.7/dist-packages (from pandas>=0.24.0->catboost) (2022.2.1)\n",
            "Requirement already satisfied: python-dateutil>=2.7.3 in /usr/local/lib/python3.7/dist-packages (from pandas>=0.24.0->catboost) (2.8.2)\n",
            "Requirement already satisfied: cycler>=0.10 in /usr/local/lib/python3.7/dist-packages (from matplotlib->catboost) (0.11.0)\n",
            "Requirement already satisfied: pyparsing!=2.0.4,!=2.1.2,!=2.1.6,>=2.0.1 in /usr/local/lib/python3.7/dist-packages (from matplotlib->catboost) (3.0.9)\n",
            "Requirement already satisfied: kiwisolver>=1.0.1 in /usr/local/lib/python3.7/dist-packages (from matplotlib->catboost) (1.4.4)\n",
            "Requirement already satisfied: typing-extensions in /usr/local/lib/python3.7/dist-packages (from kiwisolver>=1.0.1->matplotlib->catboost) (4.1.1)\n",
            "Requirement already satisfied: tenacity>=6.2.0 in /usr/local/lib/python3.7/dist-packages (from plotly->catboost) (8.0.1)\n",
            "Installing collected packages: catboost\n",
            "Successfully installed catboost-1.0.6\n"
          ]
        }
      ]
    },
    {
      "cell_type": "code",
      "execution_count": 3,
      "metadata": {
        "id": "Ch-FovIua5Zu"
      },
      "outputs": [],
      "source": [
        "import pandas as pd\n",
        "import numpy as np\n",
        "from statsmodels.tsa.seasonal import seasonal_decompose\n",
        "from statsmodels.tsa.stattools import adfuller\n",
        "import matplotlib.pyplot as plt\n",
        "import seaborn as sns\n",
        "\n",
        "from sklearn.model_selection import TimeSeriesSplit,  train_test_split, RandomizedSearchCV, GridSearchCV \n",
        "from sklearn.linear_model import LinearRegression\n",
        "from sklearn.metrics import mean_squared_error\n",
        "from sklearn.dummy import DummyRegressor\n",
        "from sklearn.preprocessing import StandardScaler\n",
        "\n",
        "from catboost import CatBoostRegressor\n",
        "from lightgbm import LGBMRegressor\n",
        "\n",
        "import time\n",
        "\n",
        "import warnings\n",
        "warnings.filterwarnings('ignore')"
      ]
    },
    {
      "cell_type": "code",
      "source": [
        "# напишем общую функцию для распаковки данных\n",
        "\n",
        "def open_data(data):\n",
        "  display(data.head(5))\n",
        "  print('-------------------------------')\n",
        "  print('Общая информация')\n",
        "  data.info()\n",
        "  print('-------------------------------')\n",
        "  print('Описание данных')\n",
        "  display(data.describe())\n",
        "  print('-------------------------------')\n",
        "  print('Количество пропусков')\n",
        "  print(data.isna().sum())"
      ],
      "metadata": {
        "id": "Hr92XMFtAjTH"
      },
      "execution_count": 4,
      "outputs": []
    },
    {
      "cell_type": "markdown",
      "metadata": {
        "id": "r-OZChtra5Zv"
      },
      "source": [
        "## Подготовка"
      ]
    },
    {
      "cell_type": "code",
      "execution_count": 5,
      "metadata": {
        "scrolled": true,
        "id": "F1-zQK77a5Zw"
      },
      "outputs": [],
      "source": [
        "# выгрузим данные \n",
        "data = pd.read_csv('/content/drive/My Drive/Collab file/taxi.csv', index_col=[0], parse_dates=[0])\n",
        "data.sort_index(inplace=True)"
      ]
    },
    {
      "cell_type": "code",
      "source": [
        "open_data(data)"
      ],
      "metadata": {
        "colab": {
          "base_uri": "https://localhost:8080/",
          "height": 820
        },
        "id": "aUTg7XHnBD1I",
        "outputId": "5cec4252-21cd-4745-e9dc-86a0e7227f36"
      },
      "execution_count": 6,
      "outputs": [
        {
          "output_type": "display_data",
          "data": {
            "text/plain": [
              "                     num_orders\n",
              "datetime                       \n",
              "2018-03-01 00:00:00           9\n",
              "2018-03-01 00:10:00          14\n",
              "2018-03-01 00:20:00          28\n",
              "2018-03-01 00:30:00          20\n",
              "2018-03-01 00:40:00          32"
            ],
            "text/html": [
              "\n",
              "  <div id=\"df-51427db5-2829-486f-8984-9e226f4b64b6\">\n",
              "    <div class=\"colab-df-container\">\n",
              "      <div>\n",
              "<style scoped>\n",
              "    .dataframe tbody tr th:only-of-type {\n",
              "        vertical-align: middle;\n",
              "    }\n",
              "\n",
              "    .dataframe tbody tr th {\n",
              "        vertical-align: top;\n",
              "    }\n",
              "\n",
              "    .dataframe thead th {\n",
              "        text-align: right;\n",
              "    }\n",
              "</style>\n",
              "<table border=\"1\" class=\"dataframe\">\n",
              "  <thead>\n",
              "    <tr style=\"text-align: right;\">\n",
              "      <th></th>\n",
              "      <th>num_orders</th>\n",
              "    </tr>\n",
              "    <tr>\n",
              "      <th>datetime</th>\n",
              "      <th></th>\n",
              "    </tr>\n",
              "  </thead>\n",
              "  <tbody>\n",
              "    <tr>\n",
              "      <th>2018-03-01 00:00:00</th>\n",
              "      <td>9</td>\n",
              "    </tr>\n",
              "    <tr>\n",
              "      <th>2018-03-01 00:10:00</th>\n",
              "      <td>14</td>\n",
              "    </tr>\n",
              "    <tr>\n",
              "      <th>2018-03-01 00:20:00</th>\n",
              "      <td>28</td>\n",
              "    </tr>\n",
              "    <tr>\n",
              "      <th>2018-03-01 00:30:00</th>\n",
              "      <td>20</td>\n",
              "    </tr>\n",
              "    <tr>\n",
              "      <th>2018-03-01 00:40:00</th>\n",
              "      <td>32</td>\n",
              "    </tr>\n",
              "  </tbody>\n",
              "</table>\n",
              "</div>\n",
              "      <button class=\"colab-df-convert\" onclick=\"convertToInteractive('df-51427db5-2829-486f-8984-9e226f4b64b6')\"\n",
              "              title=\"Convert this dataframe to an interactive table.\"\n",
              "              style=\"display:none;\">\n",
              "        \n",
              "  <svg xmlns=\"http://www.w3.org/2000/svg\" height=\"24px\"viewBox=\"0 0 24 24\"\n",
              "       width=\"24px\">\n",
              "    <path d=\"M0 0h24v24H0V0z\" fill=\"none\"/>\n",
              "    <path d=\"M18.56 5.44l.94 2.06.94-2.06 2.06-.94-2.06-.94-.94-2.06-.94 2.06-2.06.94zm-11 1L8.5 8.5l.94-2.06 2.06-.94-2.06-.94L8.5 2.5l-.94 2.06-2.06.94zm10 10l.94 2.06.94-2.06 2.06-.94-2.06-.94-.94-2.06-.94 2.06-2.06.94z\"/><path d=\"M17.41 7.96l-1.37-1.37c-.4-.4-.92-.59-1.43-.59-.52 0-1.04.2-1.43.59L10.3 9.45l-7.72 7.72c-.78.78-.78 2.05 0 2.83L4 21.41c.39.39.9.59 1.41.59.51 0 1.02-.2 1.41-.59l7.78-7.78 2.81-2.81c.8-.78.8-2.07 0-2.86zM5.41 20L4 18.59l7.72-7.72 1.47 1.35L5.41 20z\"/>\n",
              "  </svg>\n",
              "      </button>\n",
              "      \n",
              "  <style>\n",
              "    .colab-df-container {\n",
              "      display:flex;\n",
              "      flex-wrap:wrap;\n",
              "      gap: 12px;\n",
              "    }\n",
              "\n",
              "    .colab-df-convert {\n",
              "      background-color: #E8F0FE;\n",
              "      border: none;\n",
              "      border-radius: 50%;\n",
              "      cursor: pointer;\n",
              "      display: none;\n",
              "      fill: #1967D2;\n",
              "      height: 32px;\n",
              "      padding: 0 0 0 0;\n",
              "      width: 32px;\n",
              "    }\n",
              "\n",
              "    .colab-df-convert:hover {\n",
              "      background-color: #E2EBFA;\n",
              "      box-shadow: 0px 1px 2px rgba(60, 64, 67, 0.3), 0px 1px 3px 1px rgba(60, 64, 67, 0.15);\n",
              "      fill: #174EA6;\n",
              "    }\n",
              "\n",
              "    [theme=dark] .colab-df-convert {\n",
              "      background-color: #3B4455;\n",
              "      fill: #D2E3FC;\n",
              "    }\n",
              "\n",
              "    [theme=dark] .colab-df-convert:hover {\n",
              "      background-color: #434B5C;\n",
              "      box-shadow: 0px 1px 3px 1px rgba(0, 0, 0, 0.15);\n",
              "      filter: drop-shadow(0px 1px 2px rgba(0, 0, 0, 0.3));\n",
              "      fill: #FFFFFF;\n",
              "    }\n",
              "  </style>\n",
              "\n",
              "      <script>\n",
              "        const buttonEl =\n",
              "          document.querySelector('#df-51427db5-2829-486f-8984-9e226f4b64b6 button.colab-df-convert');\n",
              "        buttonEl.style.display =\n",
              "          google.colab.kernel.accessAllowed ? 'block' : 'none';\n",
              "\n",
              "        async function convertToInteractive(key) {\n",
              "          const element = document.querySelector('#df-51427db5-2829-486f-8984-9e226f4b64b6');\n",
              "          const dataTable =\n",
              "            await google.colab.kernel.invokeFunction('convertToInteractive',\n",
              "                                                     [key], {});\n",
              "          if (!dataTable) return;\n",
              "\n",
              "          const docLinkHtml = 'Like what you see? Visit the ' +\n",
              "            '<a target=\"_blank\" href=https://colab.research.google.com/notebooks/data_table.ipynb>data table notebook</a>'\n",
              "            + ' to learn more about interactive tables.';\n",
              "          element.innerHTML = '';\n",
              "          dataTable['output_type'] = 'display_data';\n",
              "          await google.colab.output.renderOutput(dataTable, element);\n",
              "          const docLink = document.createElement('div');\n",
              "          docLink.innerHTML = docLinkHtml;\n",
              "          element.appendChild(docLink);\n",
              "        }\n",
              "      </script>\n",
              "    </div>\n",
              "  </div>\n",
              "  "
            ]
          },
          "metadata": {}
        },
        {
          "output_type": "stream",
          "name": "stdout",
          "text": [
            "-------------------------------\n",
            "Общая информация\n",
            "<class 'pandas.core.frame.DataFrame'>\n",
            "DatetimeIndex: 26496 entries, 2018-03-01 00:00:00 to 2018-08-31 23:50:00\n",
            "Data columns (total 1 columns):\n",
            " #   Column      Non-Null Count  Dtype\n",
            "---  ------      --------------  -----\n",
            " 0   num_orders  26496 non-null  int64\n",
            "dtypes: int64(1)\n",
            "memory usage: 414.0 KB\n",
            "-------------------------------\n",
            "Описание данных\n"
          ]
        },
        {
          "output_type": "display_data",
          "data": {
            "text/plain": [
              "         num_orders\n",
              "count  26496.000000\n",
              "mean      14.070463\n",
              "std        9.211330\n",
              "min        0.000000\n",
              "25%        8.000000\n",
              "50%       13.000000\n",
              "75%       19.000000\n",
              "max      119.000000"
            ],
            "text/html": [
              "\n",
              "  <div id=\"df-78aca4bd-7c27-45f9-a675-4bc8349c5708\">\n",
              "    <div class=\"colab-df-container\">\n",
              "      <div>\n",
              "<style scoped>\n",
              "    .dataframe tbody tr th:only-of-type {\n",
              "        vertical-align: middle;\n",
              "    }\n",
              "\n",
              "    .dataframe tbody tr th {\n",
              "        vertical-align: top;\n",
              "    }\n",
              "\n",
              "    .dataframe thead th {\n",
              "        text-align: right;\n",
              "    }\n",
              "</style>\n",
              "<table border=\"1\" class=\"dataframe\">\n",
              "  <thead>\n",
              "    <tr style=\"text-align: right;\">\n",
              "      <th></th>\n",
              "      <th>num_orders</th>\n",
              "    </tr>\n",
              "  </thead>\n",
              "  <tbody>\n",
              "    <tr>\n",
              "      <th>count</th>\n",
              "      <td>26496.000000</td>\n",
              "    </tr>\n",
              "    <tr>\n",
              "      <th>mean</th>\n",
              "      <td>14.070463</td>\n",
              "    </tr>\n",
              "    <tr>\n",
              "      <th>std</th>\n",
              "      <td>9.211330</td>\n",
              "    </tr>\n",
              "    <tr>\n",
              "      <th>min</th>\n",
              "      <td>0.000000</td>\n",
              "    </tr>\n",
              "    <tr>\n",
              "      <th>25%</th>\n",
              "      <td>8.000000</td>\n",
              "    </tr>\n",
              "    <tr>\n",
              "      <th>50%</th>\n",
              "      <td>13.000000</td>\n",
              "    </tr>\n",
              "    <tr>\n",
              "      <th>75%</th>\n",
              "      <td>19.000000</td>\n",
              "    </tr>\n",
              "    <tr>\n",
              "      <th>max</th>\n",
              "      <td>119.000000</td>\n",
              "    </tr>\n",
              "  </tbody>\n",
              "</table>\n",
              "</div>\n",
              "      <button class=\"colab-df-convert\" onclick=\"convertToInteractive('df-78aca4bd-7c27-45f9-a675-4bc8349c5708')\"\n",
              "              title=\"Convert this dataframe to an interactive table.\"\n",
              "              style=\"display:none;\">\n",
              "        \n",
              "  <svg xmlns=\"http://www.w3.org/2000/svg\" height=\"24px\"viewBox=\"0 0 24 24\"\n",
              "       width=\"24px\">\n",
              "    <path d=\"M0 0h24v24H0V0z\" fill=\"none\"/>\n",
              "    <path d=\"M18.56 5.44l.94 2.06.94-2.06 2.06-.94-2.06-.94-.94-2.06-.94 2.06-2.06.94zm-11 1L8.5 8.5l.94-2.06 2.06-.94-2.06-.94L8.5 2.5l-.94 2.06-2.06.94zm10 10l.94 2.06.94-2.06 2.06-.94-2.06-.94-.94-2.06-.94 2.06-2.06.94z\"/><path d=\"M17.41 7.96l-1.37-1.37c-.4-.4-.92-.59-1.43-.59-.52 0-1.04.2-1.43.59L10.3 9.45l-7.72 7.72c-.78.78-.78 2.05 0 2.83L4 21.41c.39.39.9.59 1.41.59.51 0 1.02-.2 1.41-.59l7.78-7.78 2.81-2.81c.8-.78.8-2.07 0-2.86zM5.41 20L4 18.59l7.72-7.72 1.47 1.35L5.41 20z\"/>\n",
              "  </svg>\n",
              "      </button>\n",
              "      \n",
              "  <style>\n",
              "    .colab-df-container {\n",
              "      display:flex;\n",
              "      flex-wrap:wrap;\n",
              "      gap: 12px;\n",
              "    }\n",
              "\n",
              "    .colab-df-convert {\n",
              "      background-color: #E8F0FE;\n",
              "      border: none;\n",
              "      border-radius: 50%;\n",
              "      cursor: pointer;\n",
              "      display: none;\n",
              "      fill: #1967D2;\n",
              "      height: 32px;\n",
              "      padding: 0 0 0 0;\n",
              "      width: 32px;\n",
              "    }\n",
              "\n",
              "    .colab-df-convert:hover {\n",
              "      background-color: #E2EBFA;\n",
              "      box-shadow: 0px 1px 2px rgba(60, 64, 67, 0.3), 0px 1px 3px 1px rgba(60, 64, 67, 0.15);\n",
              "      fill: #174EA6;\n",
              "    }\n",
              "\n",
              "    [theme=dark] .colab-df-convert {\n",
              "      background-color: #3B4455;\n",
              "      fill: #D2E3FC;\n",
              "    }\n",
              "\n",
              "    [theme=dark] .colab-df-convert:hover {\n",
              "      background-color: #434B5C;\n",
              "      box-shadow: 0px 1px 3px 1px rgba(0, 0, 0, 0.15);\n",
              "      filter: drop-shadow(0px 1px 2px rgba(0, 0, 0, 0.3));\n",
              "      fill: #FFFFFF;\n",
              "    }\n",
              "  </style>\n",
              "\n",
              "      <script>\n",
              "        const buttonEl =\n",
              "          document.querySelector('#df-78aca4bd-7c27-45f9-a675-4bc8349c5708 button.colab-df-convert');\n",
              "        buttonEl.style.display =\n",
              "          google.colab.kernel.accessAllowed ? 'block' : 'none';\n",
              "\n",
              "        async function convertToInteractive(key) {\n",
              "          const element = document.querySelector('#df-78aca4bd-7c27-45f9-a675-4bc8349c5708');\n",
              "          const dataTable =\n",
              "            await google.colab.kernel.invokeFunction('convertToInteractive',\n",
              "                                                     [key], {});\n",
              "          if (!dataTable) return;\n",
              "\n",
              "          const docLinkHtml = 'Like what you see? Visit the ' +\n",
              "            '<a target=\"_blank\" href=https://colab.research.google.com/notebooks/data_table.ipynb>data table notebook</a>'\n",
              "            + ' to learn more about interactive tables.';\n",
              "          element.innerHTML = '';\n",
              "          dataTable['output_type'] = 'display_data';\n",
              "          await google.colab.output.renderOutput(dataTable, element);\n",
              "          const docLink = document.createElement('div');\n",
              "          docLink.innerHTML = docLinkHtml;\n",
              "          element.appendChild(docLink);\n",
              "        }\n",
              "      </script>\n",
              "    </div>\n",
              "  </div>\n",
              "  "
            ]
          },
          "metadata": {}
        },
        {
          "output_type": "stream",
          "name": "stdout",
          "text": [
            "-------------------------------\n",
            "Количество пропусков\n",
            "num_orders    0\n",
            "dtype: int64\n"
          ]
        }
      ]
    },
    {
      "cell_type": "code",
      "execution_count": 7,
      "metadata": {
        "colab": {
          "base_uri": "https://localhost:8080/"
        },
        "id": "olE4_OwHa5Zx",
        "outputId": "8fb91c10-f459-45b6-8e4e-a0d996d24d05"
      },
      "outputs": [
        {
          "output_type": "stream",
          "name": "stdout",
          "text": [
            "True\n"
          ]
        }
      ],
      "source": [
        "#проверим, монотонный ли индекс\n",
        "\n",
        "print(data.index.is_monotonic)"
      ]
    },
    {
      "cell_type": "markdown",
      "metadata": {
        "id": "--kAwUBia5Zx"
      },
      "source": [
        "### Краткий итог"
      ]
    },
    {
      "cell_type": "markdown",
      "metadata": {
        "id": "QEBNHXhHa5Zy"
      },
      "source": [
        "- выгрузили данные и отсортировали индексы.\n",
        "- перед нами данные с 1 марта 2018 года по 31 августа 2018 года.\n",
        "- посмотрели на описание данных, пропусков нет.\n",
        "- проверили ряд на монотонность, порядок соблюден."
      ]
    },
    {
      "cell_type": "markdown",
      "metadata": {
        "id": "IgSzuzx-a5Zy"
      },
      "source": [
        "## Анализ"
      ]
    },
    {
      "cell_type": "code",
      "execution_count": 8,
      "metadata": {
        "id": "e_mxEyzaa5Zy"
      },
      "outputs": [],
      "source": [
        "#скопируем датафрейм для дальнейшего анализа\n",
        "\n",
        "data_copy = data.copy()"
      ]
    },
    {
      "cell_type": "code",
      "execution_count": 9,
      "metadata": {
        "id": "ml4kHhEea5Zy"
      },
      "outputs": [],
      "source": [
        "#сделаем ресемплинг по одному часу\n",
        "\n",
        "data_copy = data_copy.resample('1H').sum()"
      ]
    },
    {
      "cell_type": "code",
      "execution_count": 10,
      "metadata": {
        "id": "eWTZmzZda5Zz"
      },
      "outputs": [],
      "source": [
        "#сделаем декомпозицию\n",
        "\n",
        "decomposed = seasonal_decompose(data_copy['num_orders'])"
      ]
    },
    {
      "cell_type": "code",
      "execution_count": 11,
      "metadata": {
        "colab": {
          "base_uri": "https://localhost:8080/",
          "height": 585
        },
        "id": "jMO70zSJa5Zz",
        "outputId": "ce4db523-b542-4372-80b5-f8fa98e77d1b"
      },
      "outputs": [
        {
          "output_type": "display_data",
          "data": {
            "text/plain": [
              "<Figure size 720x576 with 3 Axes>"
            ],
            "image/png": "[encoded data removed]"
          },
          "metadata": {
            "needs_background": "light"
          }
        }
      ],
      "source": [
        "#построим графики\n",
        "\n",
        "plt.figure(figsize=(10, 8))\n",
        "plt.subplot(311)\n",
        "decomposed.trend.plot(ax=plt.gca())\n",
        "plt.title('Trend')\n",
        "plt.subplot(312)\n",
        "decomposed.seasonal.plot(ax=plt.gca()) \n",
        "plt.title('Seasonality')\n",
        "plt.subplot(313)\n",
        "decomposed.resid.plot(ax=plt.gca())\n",
        "plt.title('Residuals')\n",
        "plt.tight_layout()"
      ]
    },
    {
      "cell_type": "markdown",
      "metadata": {
        "id": "O0GtUW46a5Zz"
      },
      "source": [
        "На графиках мы наблюдаем возрастающий тренд, а также ежедневную сезонность. Посмотрим графики более усеченные, возьмем, например, за одну неделю. Интересно было бы посмотреть на последнюю неделю июля, так как в августе появился резкий скачок. А далее можно сравнить с первой неделей августа."
      ]
    },
    {
      "cell_type": "code",
      "execution_count": 12,
      "metadata": {
        "colab": {
          "base_uri": "https://localhost:8080/",
          "height": 729
        },
        "id": "ram2vYRqa5Zz",
        "outputId": "e0e59c92-8d29-4d29-aea5-333fa27341ae"
      },
      "outputs": [
        {
          "output_type": "display_data",
          "data": {
            "text/plain": [
              "<Figure size 1080x720 with 3 Axes>"
            ],
            "image/png": "[encoded data removed]"
          },
          "metadata": {
            "needs_background": "light"
          }
        }
      ],
      "source": [
        "#последняя неделя июля\n",
        "\n",
        "decomposed = seasonal_decompose(data_copy['2018-07-24':'2018-07-31'])\n",
        "\n",
        "\n",
        "plt.figure(figsize=(15, 10))\n",
        "plt.subplot(311)\n",
        "decomposed.trend.plot(ax=plt.gca())\n",
        "plt.title('Trend')\n",
        "plt.subplot(312)\n",
        "decomposed.seasonal.plot(ax=plt.gca()) \n",
        "plt.title('Seasonality')\n",
        "plt.subplot(313)\n",
        "decomposed.resid.plot(ax=plt.gca())\n",
        "plt.title('Residuals')\n",
        "plt.tight_layout()"
      ]
    },
    {
      "cell_type": "markdown",
      "metadata": {
        "id": "F51FCNbsa5Zz"
      },
      "source": [
        "Тренд в течение недели сильно меняется. 27-29 это выходные дни (вместе с пятницей).\n",
        "Сезонность цикличная."
      ]
    },
    {
      "cell_type": "code",
      "execution_count": 13,
      "metadata": {
        "colab": {
          "base_uri": "https://localhost:8080/",
          "height": 729
        },
        "id": "GTUXjDvta5Z0",
        "outputId": "e16e4cb9-a2be-4f75-8a3e-57323568ecb0"
      },
      "outputs": [
        {
          "output_type": "display_data",
          "data": {
            "text/plain": [
              "<Figure size 1080x720 with 1 Axes>"
            ],
            "image/png": "[encoded data removed]"
          },
          "metadata": {
            "needs_background": "light"
          }
        }
      ],
      "source": [
        "#посмотрим на сезонность последнего дня\n",
        "\n",
        "decomposed = seasonal_decompose(data_copy)\n",
        "\n",
        "plt.figure(figsize=(15, 10))\n",
        "decomposed.seasonal['2018-07-31 00:00:00':'2018-07-31 23:00:00'].plot(ax=plt.gca()) \n",
        "plt.title('Seasonality during the day')\n",
        "plt.tight_layout()"
      ]
    },
    {
      "cell_type": "markdown",
      "metadata": {
        "id": "8UkMEsHJa5Z0"
      },
      "source": [
        "Мы видим спад в 6 утра, так как, по всей видимости, активность большая из-за ночных рейсов. В 15:00 мы наблюдаем пик заказов, однако, он все равно меньше, чем в ночное время."
      ]
    },
    {
      "cell_type": "code",
      "execution_count": 14,
      "metadata": {
        "scrolled": false,
        "colab": {
          "base_uri": "https://localhost:8080/",
          "height": 435
        },
        "id": "C2AXljQ6a5Z0",
        "outputId": "a2c8bd0b-ec1c-40bb-c426-0c8d306761e8"
      },
      "outputs": [
        {
          "output_type": "execute_result",
          "data": {
            "text/plain": [
              "<matplotlib.axes._subplots.AxesSubplot at 0x7fb2ad140cd0>"
            ]
          },
          "metadata": {},
          "execution_count": 14
        },
        {
          "output_type": "display_data",
          "data": {
            "text/plain": [
              "<Figure size 1080x432 with 1 Axes>"
            ],
            "image/png": "[encoded data removed]"
          },
          "metadata": {
            "needs_background": "light"
          }
        }
      ],
      "source": [
        "#построим график скользящего среднего, заодно посмотрим на стандартное отклонение\n",
        "\n",
        "\n",
        "data_copy['mean'] = data_copy['num_orders'].rolling(24).mean()\n",
        "data_copy['std'] = data_copy['num_orders'].rolling(24).std()\n",
        "\n",
        "data_copy.plot(title='Скользящее среднее и стандартное отклонение', figsize=(15,6))"
      ]
    },
    {
      "cell_type": "markdown",
      "metadata": {
        "id": "GhMZAYtta5Z0"
      },
      "source": [
        "Можно наблюдать достаточное количество выбросов, хоть мы и сгладили данные, и практически все они приходятся на конец месяцов, в мае активность увеличивается в начале, предполагаю из-за праздников. В августе вообще довольно много выбросов, в августе принято ездить в отпуск (в основном). Среднее постепенно увеличивается почти на всем периоде."
      ]
    },
    {
      "cell_type": "markdown",
      "metadata": {
        "id": "oM9SSgCKa5Z0"
      },
      "source": [
        "Проведем тест Дики-Фуллера, чтобы понять стационарный перед нами ряд стационарный или нет."
      ]
    },
    {
      "cell_type": "markdown",
      "metadata": {
        "id": "csEG9YMha5Z0"
      },
      "source": [
        "- H0 - Временной ряд является нестационарным\n",
        "- H1 - Временной ряд является стационарным"
      ]
    },
    {
      "cell_type": "code",
      "execution_count": 15,
      "metadata": {
        "colab": {
          "base_uri": "https://localhost:8080/"
        },
        "id": "jkOFXak4a5Z1",
        "outputId": "4c1109b5-eb75-424e-b62b-2f1c6720bbf7"
      },
      "outputs": [
        {
          "output_type": "stream",
          "name": "stdout",
          "text": [
            "P = 2.2286378815479788e-23\n",
            "Нулевая гипотеза отвергается. Ряд стационарен по критерию Дики-Фуллера\n"
          ]
        }
      ],
      "source": [
        "p_value = adfuller(data['num_orders'])[1]\n",
        "print('P =', p_value)\n",
        "\n",
        "if p_value < 0.05:\n",
        "    print('Нулевая гипотеза отвергается. Ряд стационарен по критерию Дики-Фуллера')\n",
        "else:\n",
        "    print('Нулевая гипотеза не отвергается. Ряд нестационарен по критерию Дики-Фуллера')"
      ]
    },
    {
      "cell_type": "markdown",
      "metadata": {
        "id": "4Df4z-6ia5Z1"
      },
      "source": [
        "### Краткий итог"
      ]
    },
    {
      "cell_type": "markdown",
      "metadata": {
        "id": "0fhwvU2Za5Z1"
      },
      "source": [
        "- Для проведения анализа был скопирован датафрейм, чтобы не вносить изменения в основной.\n",
        "- Был выполнен ресемплинг по 1 часу.\n",
        "- Сделали декомпозицию и построили графики по общим данным. Наблюдался возрастающий тренд и ежедневная сезонность.\n",
        "- Были взяты более маленькие периоды для наглядности - последняя неделя июля и последний день августа. Такие промежутки были выбраны, потому что в августе наблюдался большой прирост в заказах. Было интересно посмотреть, как распределились данные перед этим взлетом.\n",
        "- Декомпозиция последней недели показала, что тренд сильно менялся в течение всей недели, наблюдаем увеличение на выходных.\n",
        "- Декомпозиция последнего дня показала, что сезонность сильно меняется в течение всего дня - увеличиние количества заказов в ночное время и обед.\n",
        "- Скользящее среднее и стандартное отклонение - много выбросов, среднее значение постепенно увеличивается к концу августа.\n",
        "- Проверили стационарность ряда, ряд стационарный, с ним можно работать."
      ]
    },
    {
      "cell_type": "markdown",
      "metadata": {
        "id": "p_ADbrAoa5Z2"
      },
      "source": [
        "## Обучение"
      ]
    },
    {
      "cell_type": "markdown",
      "metadata": {
        "id": "x1HiWG0ra5Z2"
      },
      "source": [
        "### Подготовка признаков"
      ]
    },
    {
      "cell_type": "code",
      "execution_count": 16,
      "metadata": {
        "colab": {
          "base_uri": "https://localhost:8080/"
        },
        "id": "pComQRVMa5Z2",
        "outputId": "df522230-e868-45dd-da81-99e9c93d6083"
      },
      "outputs": [
        {
          "output_type": "stream",
          "name": "stdout",
          "text": [
            "<class 'pandas.core.frame.DataFrame'>\n",
            "DatetimeIndex: 4416 entries, 2018-03-01 00:00:00 to 2018-08-31 23:00:00\n",
            "Freq: H\n",
            "Data columns (total 13 columns):\n",
            " #   Column        Non-Null Count  Dtype  \n",
            "---  ------        --------------  -----  \n",
            " 0   num_orders    4416 non-null   int64  \n",
            " 1   day_of_week   4416 non-null   int64  \n",
            " 2   hour          4416 non-null   int64  \n",
            " 3   lag_1         4415 non-null   float64\n",
            " 4   lag_2         4414 non-null   float64\n",
            " 5   lag_3         4413 non-null   float64\n",
            " 6   lag_4         4412 non-null   float64\n",
            " 7   lag_5         4411 non-null   float64\n",
            " 8   lag_6         4410 non-null   float64\n",
            " 9   lag_7         4409 non-null   float64\n",
            " 10  lag_8         4408 non-null   float64\n",
            " 11  lag_9         4407 non-null   float64\n",
            " 12  rolling_mean  4407 non-null   float64\n",
            "dtypes: float64(10), int64(3)\n",
            "memory usage: 483.0 KB\n"
          ]
        }
      ],
      "source": [
        "#разделим данные на признаки и целевой признак\n",
        "#для этого напишем функцию, чтобы прибавить к таблице доп. признаки - час и день недели\n",
        "\n",
        "data = data.resample('1H').sum()\n",
        "\n",
        "def make_features(data, max_lag, rolling_mean_size):\n",
        "    data['day_of_week'] = data.index.dayofweek\n",
        "    data['hour'] = data.index.hour\n",
        "    \n",
        "    for lag in range(1, max_lag + 1):\n",
        "        data['lag_{}'.format(lag)] = data.iloc[:,0].shift(lag)\n",
        "\n",
        "    data['rolling_mean'] = data.iloc[:,0].shift().rolling(rolling_mean_size).mean()\n",
        "\n",
        "make_features(data, 9, 9)\n",
        "\n",
        "data.info()"
      ]
    },
    {
      "cell_type": "code",
      "execution_count": 17,
      "metadata": {
        "id": "9m7ggd9ba5Z2"
      },
      "outputs": [],
      "source": [
        "#теперь переходим к признакам\n",
        "\n",
        "train, test = train_test_split(data, shuffle=False, test_size=0.1)\n",
        "train = train.dropna()"
      ]
    },
    {
      "cell_type": "code",
      "execution_count": 18,
      "metadata": {
        "colab": {
          "base_uri": "https://localhost:8080/"
        },
        "id": "0SybDDmTa5Z2",
        "outputId": "4acff65b-9973-4954-fbd6-0e4a2f006367"
      },
      "outputs": [
        {
          "output_type": "stream",
          "name": "stdout",
          "text": [
            "Обучающая выборка:  (3965, 12) (3965,)\n",
            "Тестовая выборка:  (442, 12) (442,)\n"
          ]
        }
      ],
      "source": [
        "#определим признаки и целевой признак\n",
        "\n",
        "features_train = train.drop(['num_orders'], axis=1)\n",
        "features_test = test.drop(['num_orders'], axis=1)\n",
        "\n",
        "target_train = train['num_orders']\n",
        "target_test = test['num_orders']\n",
        "\n",
        "print('Обучающая выборка: ', features_train.shape,  target_train.shape)\n",
        "print('Тестовая выборка: ', features_test.shape,  target_test.shape)"
      ]
    },
    {
      "cell_type": "markdown",
      "metadata": {
        "id": "82IjX5Bma5Z3"
      },
      "source": [
        "### Краткий итог"
      ]
    },
    {
      "cell_type": "markdown",
      "metadata": {
        "id": "CY5rysuUa5Z3"
      },
      "source": [
        "- Добавили в датафрейм календарные признаки как отдельные столбцы.\n",
        "- Вычислили отстающие значения.\n",
        "- Вычислили скользящее среднее и добавили его в датафрейм как отдельные колонки.\n",
        "- Определили целевой признак и признаки для обучающей и тестовой выборок в соотношении: 90% обучающая выборка, 10% тестовая."
      ]
    },
    {
      "cell_type": "markdown",
      "metadata": {
        "id": "DHpEs2k1a5Z3"
      },
      "source": [
        "### Обучение моделей"
      ]
    },
    {
      "cell_type": "markdown",
      "metadata": {
        "id": "kopWgo2Ya5Z3"
      },
      "source": [
        "Обучим три модели:\n",
        "\n",
        "- Линейная регрессия\n",
        "- CatBoost\n",
        "- LGBMRegressor"
      ]
    },
    {
      "cell_type": "code",
      "source": [
        "# для наглядности результатов сведем после обучения полученные метрики в таблицу\n",
        "\n",
        "def metrics(rmse, fit_time, pred_time, model, data):\n",
        "    data.loc[model, 'RMSE'] = rmse\n",
        "    data.loc[model, 'time_fit'] = fit_time\n",
        "    data.loc[model, 'time_pred'] = pred_time\n",
        "    return data"
      ],
      "metadata": {
        "id": "UJyy4XnbFnps"
      },
      "execution_count": 19,
      "outputs": []
    },
    {
      "cell_type": "code",
      "source": [
        "# таблица для сравнения результатов обучения моделей\n",
        "\n",
        "compare_models = pd.DataFrame(columns=['RMSE', 'time_fit', 'time_pred'])"
      ],
      "metadata": {
        "id": "iC6-nxEQFqFW"
      },
      "execution_count": 20,
      "outputs": []
    },
    {
      "cell_type": "code",
      "source": [
        "%%time\n",
        "\n",
        "#сделаем константную модель для сравнения с нашими моделями\n",
        "\n",
        "dummy = DummyRegressor()\n",
        "dummy_model = dummy.fit(features_train, target_train)\n",
        "\n",
        "dummy_pred_test = dummy_model.predict(features_test)\n",
        "\n",
        "rmse_dummy = mean_squared_error(target_test, dummy_pred_test)**0.5\n",
        "\n",
        "print('RMSE для константной модели на тестовой выборке: {:.2f}'.format(rmse_dummy))"
      ],
      "metadata": {
        "colab": {
          "base_uri": "https://localhost:8080/"
        },
        "id": "MFwXa9SUCFT7",
        "outputId": "7494fd8a-195b-42bf-dbf3-a4ef812bf478"
      },
      "execution_count": 21,
      "outputs": [
        {
          "output_type": "stream",
          "name": "stdout",
          "text": [
            "RMSE для константной модели на тестовой выборке: 84.70\n",
            "CPU times: user 3.02 ms, sys: 0 ns, total: 3.02 ms\n",
            "Wall time: 2.97 ms\n"
          ]
        }
      ]
    },
    {
      "cell_type": "markdown",
      "metadata": {
        "id": "NZbEuxsMa5Z3"
      },
      "source": [
        "#### Линейная регрессия"
      ]
    },
    {
      "cell_type": "code",
      "execution_count": 22,
      "metadata": {
        "colab": {
          "base_uri": "https://localhost:8080/"
        },
        "id": "RkMVBTqMa5Z3",
        "outputId": "bb966940-6a64-4e4e-e8aa-7fecb333adef"
      },
      "outputs": [
        {
          "output_type": "stream",
          "name": "stdout",
          "text": [
            "CPU times: user 9.98 ms, sys: 0 ns, total: 9.98 ms\n",
            "Wall time: 22 ms\n"
          ]
        }
      ],
      "source": [
        "%%time\n",
        "\n",
        "#обучим модель без подборки гипперпараметров \n",
        "start = time.time()\n",
        "model_lr = LinearRegression()\n",
        "model_lr.fit(features_train, target_train)\n",
        "end = time.time()\n",
        "fit_time_lr = end - start"
      ]
    },
    {
      "cell_type": "code",
      "execution_count": 23,
      "metadata": {
        "colab": {
          "base_uri": "https://localhost:8080/"
        },
        "id": "LSMPpVNQa5Z4",
        "outputId": "be97e867-6e0d-4781-bf72-a0dc962c1610"
      },
      "outputs": [
        {
          "output_type": "stream",
          "name": "stdout",
          "text": [
            "RMSE для Линейной регрессии на тестовой выборке: 54.09\n",
            "CPU times: user 5.67 ms, sys: 2.97 ms, total: 8.64 ms\n",
            "Wall time: 15.1 ms\n"
          ]
        }
      ],
      "source": [
        "%%time\n",
        "start = time.time()\n",
        "prediction = model_lr.predict(features_test)\n",
        "end = time.time()\n",
        "pred_time_lr = end - start\n",
        "rmse_lr = mean_squared_error(prediction, target_test) ** 0.5\n",
        "\n",
        "print('RMSE для Линейной регрессии на тестовой выборке: {:.2f}'.format(rmse_lr))"
      ]
    },
    {
      "cell_type": "markdown",
      "metadata": {
        "id": "nrn3Z6Ada5Z4"
      },
      "source": [
        "#### CatBoostRegressor"
      ]
    },
    {
      "cell_type": "code",
      "execution_count": 24,
      "metadata": {
        "id": "sEsE_abna5Z4"
      },
      "outputs": [],
      "source": [
        "cb_features = ['day_of_week', 'hour']"
      ]
    },
    {
      "cell_type": "code",
      "execution_count": 25,
      "metadata": {
        "colab": {
          "base_uri": "https://localhost:8080/"
        },
        "id": "Ksd1o8zia5Z4",
        "outputId": "9aee3ef6-4742-4748-ff90-235890e8f46d"
      },
      "outputs": [
        {
          "output_type": "stream",
          "name": "stdout",
          "text": [
            "RMSE модели CatBoost на обучающей выборке:28.04\n",
            "Лучшие гиперпараметры для модели:  {'learning_rate': 0.1, 'depth': 5}\n",
            "CPU times: user 6.95 s, sys: 871 ms, total: 7.82 s\n",
            "Wall time: 15min 1s\n"
          ]
        }
      ],
      "source": [
        "%%time\n",
        "\n",
        "#подберем наилучшие параметры с помощью кросс-валидации\n",
        "\n",
        "my_cv = TimeSeriesSplit(n_splits=3).split(features_train)\n",
        "\n",
        "model_cb = CatBoostRegressor(iterations=100, verbose=False, cat_features = cb_features)\n",
        "params_cb = {'learning_rate':[0.1, 0.3, 0.5], 'depth':[5,10, 15]}\n",
        "\n",
        "random_cb = RandomizedSearchCV(model_cb, params_cb, scoring='neg_mean_squared_error',  cv=my_cv, n_jobs = -1)\n",
        "random_cb.fit(features_train, target_train)\n",
        "\n",
        "rmse=(-random_cb.best_score_)**0.5\n",
        "\n",
        "print('RMSE модели CatBoost на обучающей выборке:{:.2f}'.format(rmse))\n",
        "print('Лучшие гиперпараметры для модели: ', random_cb.best_params_)"
      ]
    },
    {
      "cell_type": "code",
      "execution_count": 26,
      "metadata": {
        "colab": {
          "base_uri": "https://localhost:8080/"
        },
        "id": "y5s5lQyga5Z4",
        "outputId": "1432ab6f-1d78-41bc-e26c-8e68a3310abb"
      },
      "outputs": [
        {
          "output_type": "stream",
          "name": "stdout",
          "text": [
            "CPU times: user 489 ms, sys: 47.6 ms, total: 537 ms\n",
            "Wall time: 316 ms\n"
          ]
        }
      ],
      "source": [
        "%%time\n",
        "\n",
        "#обучим модель с подобранными параметрами\n",
        "start = time.time()\n",
        "model_cb_best = CatBoostRegressor(iterations=100, verbose=False, cat_features = cb_features, \n",
        "                        learning_rate=0.1, depth=5)\n",
        "model_cb_best.fit(features_train, target_train)\n",
        "end = time.time()\n",
        "fit_time_cb = end - start"
      ]
    },
    {
      "cell_type": "code",
      "execution_count": 27,
      "metadata": {
        "colab": {
          "base_uri": "https://localhost:8080/"
        },
        "id": "O-PiWOFwa5Z4",
        "outputId": "64c5613c-54f1-4616-f012-9824ffda41fd"
      },
      "outputs": [
        {
          "output_type": "stream",
          "name": "stdout",
          "text": [
            "RMSE для CatBoost на тестовой выборке: 43.76\n",
            "CPU times: user 3.99 ms, sys: 3.1 ms, total: 7.09 ms\n",
            "Wall time: 6.71 ms\n"
          ]
        }
      ],
      "source": [
        "%%time\n",
        "start = time.time()\n",
        "model_cb_best_pred = model_cb_best.predict(features_test)\n",
        "end = time.time()\n",
        "pred_time_cb = end - start\n",
        "rmse_cb = mean_squared_error(target_test, model_cb_best_pred)**0.5\n",
        "print('RMSE для CatBoost на тестовой выборке: {:.2f}'.format(rmse_cb))"
      ]
    },
    {
      "cell_type": "markdown",
      "metadata": {
        "id": "Om4ODXAHa5Z5"
      },
      "source": [
        "#### LGBMRegressor"
      ]
    },
    {
      "cell_type": "code",
      "execution_count": 28,
      "metadata": {
        "colab": {
          "base_uri": "https://localhost:8080/"
        },
        "id": "o18bGZyqa5Z5",
        "outputId": "a03820c4-dc38-45e2-88d4-7626e2418100"
      },
      "outputs": [
        {
          "output_type": "stream",
          "name": "stdout",
          "text": [
            "RMSE модели LightGBM на обучающей выборке:27.93\n",
            "Лучшие гиперпараметры для модели:  {'n_estimators': 500, 'max_depth': 4, 'learning_rate': 0.03}\n",
            "CPU times: user 6.71 s, sys: 199 ms, total: 6.91 s\n",
            "Wall time: 3.59 s\n"
          ]
        }
      ],
      "source": [
        "%%time\n",
        "\n",
        "#подберем наилучшие параметры с помощью кросс-валидации\n",
        "\n",
        "my_cv2 = TimeSeriesSplit(n_splits=3).split(features_train)\n",
        "\n",
        "model_lgmr = LGBMRegressor(random_state=45)\n",
        "params_lgmr = {'max_depth': [2, 4, 6], 'learning_rate': [0.03, 0.1], 'n_estimators': [50, 100, 200, 500, 1000]}\n",
        "\n",
        "random_lgmr = RandomizedSearchCV(model_lgmr, params_lgmr, scoring='neg_mean_squared_error', cv=my_cv2)\n",
        "random_lgmr.fit(features_train, target_train, verbose=True)\n",
        "\n",
        "rmse=(-random_lgmr.best_score_)**0.5\n",
        "\n",
        "print('RMSE модели LightGBM на обучающей выборке:{:.2f}'.format(rmse))\n",
        "print('Лучшие гиперпараметры для модели: ', random_lgmr.best_params_)"
      ]
    },
    {
      "cell_type": "code",
      "execution_count": 29,
      "metadata": {
        "colab": {
          "base_uri": "https://localhost:8080/"
        },
        "id": "qqEFYk5Ca5Z5",
        "outputId": "48fe268a-fd81-41f6-b0cb-c17acd4f3be1"
      },
      "outputs": [
        {
          "output_type": "stream",
          "name": "stdout",
          "text": [
            "CPU times: user 263 ms, sys: 1.82 ms, total: 265 ms\n",
            "Wall time: 141 ms\n"
          ]
        }
      ],
      "source": [
        "%%time\n",
        "\n",
        "#обучим модель с подобранными параметрами\n",
        "start = time.time()\n",
        "model_lgmr_best = LGBMRegressor(max_depth = 2, learning_rate = 0.1, n_estimators = 500)\n",
        "model_lgmr_best.fit(features_train, target_train, verbose = True)\n",
        "end = time.time()\n",
        "fit_time_lgmr = end - start"
      ]
    },
    {
      "cell_type": "code",
      "execution_count": 30,
      "metadata": {
        "colab": {
          "base_uri": "https://localhost:8080/"
        },
        "id": "QLQndjBLa5Z5",
        "outputId": "87edfea0-eeb9-4ae5-fb46-a58ab2ce3439"
      },
      "outputs": [
        {
          "output_type": "stream",
          "name": "stdout",
          "text": [
            "RMSE для LightGBM на тестовой выборке: 43.29\n",
            "CPU times: user 19 ms, sys: 1.56 ms, total: 20.6 ms\n",
            "Wall time: 15.8 ms\n"
          ]
        }
      ],
      "source": [
        "%%time\n",
        "start = time.time()\n",
        "model_lgmr_best_pred = model_lgmr_best.predict(features_test)\n",
        "end = time.time()\n",
        "pred_time_lgmr = end - start\n",
        "rmse_lgmr = mean_squared_error(target_test, model_lgmr_best_pred)**0.5\n",
        "print('RMSE для LightGBM на тестовой выборке: {:.2f}'.format(rmse_lgmr))"
      ]
    },
    {
      "cell_type": "markdown",
      "metadata": {
        "id": "IKg8Zf_fa5Z5"
      },
      "source": [
        "### Краткий итог"
      ]
    },
    {
      "cell_type": "markdown",
      "metadata": {
        "id": "YJGD7FhRa5Z5"
      },
      "source": [
        "- Была создана константная модель для проверки адекватности моделей.\n",
        "- Было проведено обучение трех моделей: Линейная регрессия, CatBoostRegressor, LGBMRegressor.\n",
        "- Была проведена кросс-валидация для CatBoostRegressor, LGBMRegressor.\n",
        "- Были выявлены метрики RMSE на тестовых выборках для всех моделях, поэтому в следующем разделе проведем сравнение метрик и выберем наилучшую модель."
      ]
    },
    {
      "cell_type": "markdown",
      "metadata": {
        "id": "CoQ-fWofa5Z5"
      },
      "source": [
        "## Тестирование"
      ]
    },
    {
      "cell_type": "code",
      "source": [
        "# сравним полученные результаты\n",
        "\n",
        "metrics('{:.2f}'.format(rmse_lr), '{:.2f}'.format(fit_time_lr), '{:.2f}'.format(pred_time_lr), 'LinearRegression', compare_models)\n",
        "metrics('{:.2f}'.format(rmse_cb), '{:.2f}'.format(fit_time_cb), '{:.2f}'.format(pred_time_cb), 'CatBoostRegressor', compare_models)\n",
        "metrics('{:.2f}'.format(rmse_lgmr), '{:.2f}'.format(fit_time_lgmr), '{:.2f}'.format(pred_time_lgmr), 'LGBMRegressor', compare_models).sort_values(by='RMSE', ascending=True)"
      ],
      "metadata": {
        "colab": {
          "base_uri": "https://localhost:8080/",
          "height": 143
        },
        "id": "AGxFjl2-PtOF",
        "outputId": "35d8efd5-3494-42d4-8388-689238a355a6"
      },
      "execution_count": 31,
      "outputs": [
        {
          "output_type": "execute_result",
          "data": {
            "text/plain": [
              "                    RMSE time_fit time_pred\n",
              "LGBMRegressor      43.29     0.14      0.01\n",
              "CatBoostRegressor  43.76     0.32      0.01\n",
              "LinearRegression   54.09     0.02      0.01"
            ],
            "text/html": [
              "\n",
              "  <div id=\"df-3a6bc8f6-14b7-4118-88cd-01e21359444a\">\n",
              "    <div class=\"colab-df-container\">\n",
              "      <div>\n",
              "<style scoped>\n",
              "    .dataframe tbody tr th:only-of-type {\n",
              "        vertical-align: middle;\n",
              "    }\n",
              "\n",
              "    .dataframe tbody tr th {\n",
              "        vertical-align: top;\n",
              "    }\n",
              "\n",
              "    .dataframe thead th {\n",
              "        text-align: right;\n",
              "    }\n",
              "</style>\n",
              "<table border=\"1\" class=\"dataframe\">\n",
              "  <thead>\n",
              "    <tr style=\"text-align: right;\">\n",
              "      <th></th>\n",
              "      <th>RMSE</th>\n",
              "      <th>time_fit</th>\n",
              "      <th>time_pred</th>\n",
              "    </tr>\n",
              "  </thead>\n",
              "  <tbody>\n",
              "    <tr>\n",
              "      <th>LGBMRegressor</th>\n",
              "      <td>43.29</td>\n",
              "      <td>0.14</td>\n",
              "      <td>0.01</td>\n",
              "    </tr>\n",
              "    <tr>\n",
              "      <th>CatBoostRegressor</th>\n",
              "      <td>43.76</td>\n",
              "      <td>0.32</td>\n",
              "      <td>0.01</td>\n",
              "    </tr>\n",
              "    <tr>\n",
              "      <th>LinearRegression</th>\n",
              "      <td>54.09</td>\n",
              "      <td>0.02</td>\n",
              "      <td>0.01</td>\n",
              "    </tr>\n",
              "  </tbody>\n",
              "</table>\n",
              "</div>\n",
              "      <button class=\"colab-df-convert\" onclick=\"convertToInteractive('df-3a6bc8f6-14b7-4118-88cd-01e21359444a')\"\n",
              "              title=\"Convert this dataframe to an interactive table.\"\n",
              "              style=\"display:none;\">\n",
              "        \n",
              "  <svg xmlns=\"http://www.w3.org/2000/svg\" height=\"24px\"viewBox=\"0 0 24 24\"\n",
              "       width=\"24px\">\n",
              "    <path d=\"M0 0h24v24H0V0z\" fill=\"none\"/>\n",
              "    <path d=\"M18.56 5.44l.94 2.06.94-2.06 2.06-.94-2.06-.94-.94-2.06-.94 2.06-2.06.94zm-11 1L8.5 8.5l.94-2.06 2.06-.94-2.06-.94L8.5 2.5l-.94 2.06-2.06.94zm10 10l.94 2.06.94-2.06 2.06-.94-2.06-.94-.94-2.06-.94 2.06-2.06.94z\"/><path d=\"M17.41 7.96l-1.37-1.37c-.4-.4-.92-.59-1.43-.59-.52 0-1.04.2-1.43.59L10.3 9.45l-7.72 7.72c-.78.78-.78 2.05 0 2.83L4 21.41c.39.39.9.59 1.41.59.51 0 1.02-.2 1.41-.59l7.78-7.78 2.81-2.81c.8-.78.8-2.07 0-2.86zM5.41 20L4 18.59l7.72-7.72 1.47 1.35L5.41 20z\"/>\n",
              "  </svg>\n",
              "      </button>\n",
              "      \n",
              "  <style>\n",
              "    .colab-df-container {\n",
              "      display:flex;\n",
              "      flex-wrap:wrap;\n",
              "      gap: 12px;\n",
              "    }\n",
              "\n",
              "    .colab-df-convert {\n",
              "      background-color: #E8F0FE;\n",
              "      border: none;\n",
              "      border-radius: 50%;\n",
              "      cursor: pointer;\n",
              "      display: none;\n",
              "      fill: #1967D2;\n",
              "      height: 32px;\n",
              "      padding: 0 0 0 0;\n",
              "      width: 32px;\n",
              "    }\n",
              "\n",
              "    .colab-df-convert:hover {\n",
              "      background-color: #E2EBFA;\n",
              "      box-shadow: 0px 1px 2px rgba(60, 64, 67, 0.3), 0px 1px 3px 1px rgba(60, 64, 67, 0.15);\n",
              "      fill: #174EA6;\n",
              "    }\n",
              "\n",
              "    [theme=dark] .colab-df-convert {\n",
              "      background-color: #3B4455;\n",
              "      fill: #D2E3FC;\n",
              "    }\n",
              "\n",
              "    [theme=dark] .colab-df-convert:hover {\n",
              "      background-color: #434B5C;\n",
              "      box-shadow: 0px 1px 3px 1px rgba(0, 0, 0, 0.15);\n",
              "      filter: drop-shadow(0px 1px 2px rgba(0, 0, 0, 0.3));\n",
              "      fill: #FFFFFF;\n",
              "    }\n",
              "  </style>\n",
              "\n",
              "      <script>\n",
              "        const buttonEl =\n",
              "          document.querySelector('#df-3a6bc8f6-14b7-4118-88cd-01e21359444a button.colab-df-convert');\n",
              "        buttonEl.style.display =\n",
              "          google.colab.kernel.accessAllowed ? 'block' : 'none';\n",
              "\n",
              "        async function convertToInteractive(key) {\n",
              "          const element = document.querySelector('#df-3a6bc8f6-14b7-4118-88cd-01e21359444a');\n",
              "          const dataTable =\n",
              "            await google.colab.kernel.invokeFunction('convertToInteractive',\n",
              "                                                     [key], {});\n",
              "          if (!dataTable) return;\n",
              "\n",
              "          const docLinkHtml = 'Like what you see? Visit the ' +\n",
              "            '<a target=\"_blank\" href=https://colab.research.google.com/notebooks/data_table.ipynb>data table notebook</a>'\n",
              "            + ' to learn more about interactive tables.';\n",
              "          element.innerHTML = '';\n",
              "          dataTable['output_type'] = 'display_data';\n",
              "          await google.colab.output.renderOutput(dataTable, element);\n",
              "          const docLink = document.createElement('div');\n",
              "          docLink.innerHTML = docLinkHtml;\n",
              "          element.appendChild(docLink);\n",
              "        }\n",
              "      </script>\n",
              "    </div>\n",
              "  </div>\n",
              "  "
            ]
          },
          "metadata": {},
          "execution_count": 31
        }
      ]
    },
    {
      "cell_type": "markdown",
      "metadata": {
        "id": "etnK_5eMa5Z6"
      },
      "source": [
        "## Итог по проекту"
      ]
    },
    {
      "cell_type": "markdown",
      "metadata": {
        "id": "9rCswKEWa5Z6"
      },
      "source": [
        "- Данные были проанализированы - проведен ресемплинг по одному часу, была сделана декомпозиция и были представлены графики с различными срезами данных. Была проверка ряда на стационарность.\n",
        "- Подготовили признаки перед обучением моделей. Выборки были поделены следующим образом: 90% - обучающая выборка, 10% - тестовая.\n",
        "- Перед обучением моделей была создана константная модель.\n",
        "- Модели, которые были обучены: Линейная регрессия, CatBoostRegressor, LGBMRegressor\n",
        "- Была сделана таблица для сравнения показателей по всем моделям.\n",
        "- Наилучший показатель RMSE представила модель LGBMRegressor, хотя ее показатель не сильно отличается от CatBoostRegressor. Наихудший показатель получился у Линейной регрессии. Все модели выдали показатель меньше, чем константная модель, что дает нам понять, что наши модели прошли проверку на адекватность.\n",
        "- Самое быстрое время обучения у Линейной регрессии, очевидно такое время ей дало отсутствие дополнительных гипперпараметров.\n",
        "- Время предсказания у всех моделей одинаковое.\n",
        "\n",
        "По итогу проекта я бы рекомендовала модель LGBMRegressor, так как:\n",
        "\n",
        "- Метрика RMSE немного больше, чем у CatBoostRegressor, но разница совсем минимальная. Результат отвечает поставленной задаче.\n",
        "- Подбор гипперпараметров у нее достаточно быстрый, если понадобиться менять параметры модели, то она справится быстрее, чем CatBoostRegressor.\n",
        "- Скорость обучения у нее также лучше.\n",
        "\n",
        "Данная модель отвечает требованиям задачи. Так как обычно важна и сама метрика, и скорость подбора параметров, и скорость обучения, то, на мой взгляд, эта модель является самой подходящей."
      ]
    }
  ],
  "metadata": {
    "ExecuteTimeLog": [
      {
        "duration": 80,
        "start_time": "2022-05-15T17:32:04.249Z"
      },
      {
        "duration": 1968,
        "start_time": "2022-05-16T08:39:03.314Z"
      },
      {
        "duration": 164,
        "start_time": "2022-05-16T08:39:14.059Z"
      },
      {
        "duration": 179,
        "start_time": "2022-05-16T08:40:16.807Z"
      },
      {
        "duration": 63,
        "start_time": "2022-05-16T08:53:51.453Z"
      },
      {
        "duration": 19,
        "start_time": "2022-05-16T08:54:22.707Z"
      },
      {
        "duration": 8,
        "start_time": "2022-05-16T08:55:04.411Z"
      },
      {
        "duration": 14,
        "start_time": "2022-05-16T08:55:23.530Z"
      },
      {
        "duration": 4,
        "start_time": "2022-05-16T09:28:31.218Z"
      },
      {
        "duration": 832,
        "start_time": "2022-05-16T09:41:32.348Z"
      },
      {
        "duration": 686,
        "start_time": "2022-05-16T10:15:12.829Z"
      },
      {
        "duration": 1647,
        "start_time": "2022-05-16T11:40:27.851Z"
      },
      {
        "duration": 40,
        "start_time": "2022-05-16T11:40:29.500Z"
      },
      {
        "duration": 11,
        "start_time": "2022-05-16T11:40:29.542Z"
      },
      {
        "duration": 13,
        "start_time": "2022-05-16T11:40:29.558Z"
      },
      {
        "duration": 10,
        "start_time": "2022-05-16T11:40:29.573Z"
      },
      {
        "duration": 806,
        "start_time": "2022-05-16T11:40:29.585Z"
      },
      {
        "duration": 15,
        "start_time": "2022-05-16T14:26:48.531Z"
      },
      {
        "duration": 133,
        "start_time": "2022-05-16T14:38:41.101Z"
      },
      {
        "duration": 700,
        "start_time": "2022-05-16T14:39:16.226Z"
      },
      {
        "duration": 732,
        "start_time": "2022-05-16T14:39:31.385Z"
      },
      {
        "duration": 631,
        "start_time": "2022-05-16T14:43:10.499Z"
      },
      {
        "duration": 628,
        "start_time": "2022-05-16T14:48:22.005Z"
      },
      {
        "duration": 616,
        "start_time": "2022-05-16T14:48:32.600Z"
      },
      {
        "duration": 714,
        "start_time": "2022-05-16T14:49:32.754Z"
      },
      {
        "duration": 18,
        "start_time": "2022-05-16T14:53:27.255Z"
      },
      {
        "duration": 708,
        "start_time": "2022-05-16T14:53:30.583Z"
      },
      {
        "duration": 389,
        "start_time": "2022-05-16T14:55:20.840Z"
      },
      {
        "duration": 14,
        "start_time": "2022-05-16T15:07:53.612Z"
      },
      {
        "duration": 4,
        "start_time": "2022-05-16T15:08:16.586Z"
      },
      {
        "duration": 49,
        "start_time": "2022-05-16T15:08:16.592Z"
      },
      {
        "duration": 8,
        "start_time": "2022-05-16T15:08:16.642Z"
      },
      {
        "duration": 17,
        "start_time": "2022-05-16T15:08:16.652Z"
      },
      {
        "duration": 3,
        "start_time": "2022-05-16T15:08:16.671Z"
      },
      {
        "duration": 889,
        "start_time": "2022-05-16T15:08:16.676Z"
      },
      {
        "duration": 13,
        "start_time": "2022-05-16T15:08:17.567Z"
      },
      {
        "duration": 604,
        "start_time": "2022-05-16T15:08:17.582Z"
      },
      {
        "duration": 327,
        "start_time": "2022-05-16T15:08:18.188Z"
      },
      {
        "duration": 14,
        "start_time": "2022-05-16T15:08:18.517Z"
      },
      {
        "duration": 16,
        "start_time": "2022-05-16T15:08:54.537Z"
      },
      {
        "duration": 312,
        "start_time": "2022-05-16T15:08:57.818Z"
      },
      {
        "duration": 14,
        "start_time": "2022-05-16T15:10:19.928Z"
      },
      {
        "duration": 17,
        "start_time": "2022-05-16T15:10:51.229Z"
      },
      {
        "duration": 387,
        "start_time": "2022-05-16T15:10:55.562Z"
      },
      {
        "duration": 6,
        "start_time": "2022-05-16T15:21:22.752Z"
      },
      {
        "duration": 285,
        "start_time": "2022-05-16T15:23:11.514Z"
      },
      {
        "duration": 3,
        "start_time": "2022-05-16T15:24:16.164Z"
      },
      {
        "duration": 300,
        "start_time": "2022-05-16T15:26:37.813Z"
      },
      {
        "duration": 2496,
        "start_time": "2022-05-17T09:46:07.702Z"
      },
      {
        "duration": 56,
        "start_time": "2022-05-17T09:46:10.201Z"
      },
      {
        "duration": 17,
        "start_time": "2022-05-17T09:46:10.259Z"
      },
      {
        "duration": 19,
        "start_time": "2022-05-17T09:46:10.280Z"
      },
      {
        "duration": 6,
        "start_time": "2022-05-17T09:46:10.301Z"
      },
      {
        "duration": 61,
        "start_time": "2022-05-17T09:46:10.309Z"
      },
      {
        "duration": 5,
        "start_time": "2022-05-17T09:46:10.373Z"
      },
      {
        "duration": 910,
        "start_time": "2022-05-17T09:46:10.381Z"
      },
      {
        "duration": 613,
        "start_time": "2022-05-17T09:46:11.293Z"
      },
      {
        "duration": 565,
        "start_time": "2022-05-17T09:46:11.910Z"
      },
      {
        "duration": 422,
        "start_time": "2022-05-17T09:46:12.477Z"
      },
      {
        "duration": 6,
        "start_time": "2022-05-17T12:52:14.384Z"
      },
      {
        "duration": 61,
        "start_time": "2022-05-17T12:52:14.394Z"
      },
      {
        "duration": 10,
        "start_time": "2022-05-17T12:52:14.458Z"
      },
      {
        "duration": 17,
        "start_time": "2022-05-17T12:52:14.473Z"
      },
      {
        "duration": 5,
        "start_time": "2022-05-17T12:52:14.492Z"
      },
      {
        "duration": 58,
        "start_time": "2022-05-17T12:52:14.500Z"
      },
      {
        "duration": 4,
        "start_time": "2022-05-17T12:52:14.560Z"
      },
      {
        "duration": 546,
        "start_time": "2022-05-17T12:52:14.567Z"
      },
      {
        "duration": 399,
        "start_time": "2022-05-17T12:52:15.116Z"
      },
      {
        "duration": 448,
        "start_time": "2022-05-17T12:52:15.518Z"
      },
      {
        "duration": 394,
        "start_time": "2022-05-17T12:52:15.968Z"
      },
      {
        "duration": 3,
        "start_time": "2022-05-17T12:52:16.364Z"
      },
      {
        "duration": 623,
        "start_time": "2022-05-17T13:00:10.163Z"
      },
      {
        "duration": 817,
        "start_time": "2022-05-17T13:01:29.277Z"
      },
      {
        "duration": 686,
        "start_time": "2022-05-17T13:01:56.588Z"
      },
      {
        "duration": 423,
        "start_time": "2022-05-17T13:02:20.546Z"
      },
      {
        "duration": 786,
        "start_time": "2022-05-17T13:02:31.744Z"
      },
      {
        "duration": 507,
        "start_time": "2022-05-17T13:02:41.748Z"
      },
      {
        "duration": 664,
        "start_time": "2022-05-17T13:04:33.926Z"
      },
      {
        "duration": 599,
        "start_time": "2022-05-17T13:04:41.302Z"
      },
      {
        "duration": 435,
        "start_time": "2022-05-17T13:07:07.173Z"
      },
      {
        "duration": 438,
        "start_time": "2022-05-17T13:10:27.376Z"
      },
      {
        "duration": 407,
        "start_time": "2022-05-17T13:11:45.897Z"
      },
      {
        "duration": 181,
        "start_time": "2022-05-17T13:49:10.999Z"
      },
      {
        "duration": 7,
        "start_time": "2022-05-17T13:49:51.081Z"
      },
      {
        "duration": 50,
        "start_time": "2022-05-17T13:49:51.092Z"
      },
      {
        "duration": 10,
        "start_time": "2022-05-17T13:49:51.144Z"
      },
      {
        "duration": 21,
        "start_time": "2022-05-17T13:49:51.158Z"
      },
      {
        "duration": 5,
        "start_time": "2022-05-17T13:49:51.182Z"
      },
      {
        "duration": 21,
        "start_time": "2022-05-17T13:49:51.189Z"
      },
      {
        "duration": 33,
        "start_time": "2022-05-17T13:49:51.213Z"
      },
      {
        "duration": 535,
        "start_time": "2022-05-17T13:49:51.249Z"
      },
      {
        "duration": 408,
        "start_time": "2022-05-17T13:49:51.787Z"
      },
      {
        "duration": 429,
        "start_time": "2022-05-17T13:49:52.199Z"
      },
      {
        "duration": 418,
        "start_time": "2022-05-17T13:49:52.630Z"
      },
      {
        "duration": 699,
        "start_time": "2022-05-17T13:49:53.050Z"
      },
      {
        "duration": 17,
        "start_time": "2022-05-17T13:49:53.751Z"
      },
      {
        "duration": 2156,
        "start_time": "2022-05-17T15:34:27.676Z"
      },
      {
        "duration": 59,
        "start_time": "2022-05-17T15:34:29.834Z"
      },
      {
        "duration": 14,
        "start_time": "2022-05-17T15:34:29.895Z"
      },
      {
        "duration": 15,
        "start_time": "2022-05-17T15:34:29.913Z"
      },
      {
        "duration": 4,
        "start_time": "2022-05-17T15:34:29.930Z"
      },
      {
        "duration": 33,
        "start_time": "2022-05-17T15:34:29.936Z"
      },
      {
        "duration": 3,
        "start_time": "2022-05-17T15:34:29.971Z"
      },
      {
        "duration": 691,
        "start_time": "2022-05-17T15:34:29.976Z"
      },
      {
        "duration": 563,
        "start_time": "2022-05-17T15:34:30.670Z"
      },
      {
        "duration": 554,
        "start_time": "2022-05-17T15:34:31.236Z"
      },
      {
        "duration": 446,
        "start_time": "2022-05-17T15:34:31.793Z"
      },
      {
        "duration": 777,
        "start_time": "2022-05-17T15:34:32.241Z"
      },
      {
        "duration": 212,
        "start_time": "2022-05-17T15:34:33.021Z"
      },
      {
        "duration": 18,
        "start_time": "2022-05-17T15:35:06.614Z"
      },
      {
        "duration": 23,
        "start_time": "2022-05-17T15:40:00.360Z"
      },
      {
        "duration": 7,
        "start_time": "2022-05-17T15:40:27.904Z"
      },
      {
        "duration": 73,
        "start_time": "2022-05-17T15:40:27.913Z"
      },
      {
        "duration": 9,
        "start_time": "2022-05-17T15:40:27.989Z"
      },
      {
        "duration": 15,
        "start_time": "2022-05-17T15:40:28.003Z"
      },
      {
        "duration": 28,
        "start_time": "2022-05-17T15:40:28.021Z"
      },
      {
        "duration": 30,
        "start_time": "2022-05-17T15:40:28.051Z"
      },
      {
        "duration": 4,
        "start_time": "2022-05-17T15:40:28.083Z"
      },
      {
        "duration": 511,
        "start_time": "2022-05-17T15:40:28.089Z"
      },
      {
        "duration": 468,
        "start_time": "2022-05-17T15:40:28.602Z"
      },
      {
        "duration": 476,
        "start_time": "2022-05-17T15:40:29.074Z"
      },
      {
        "duration": 459,
        "start_time": "2022-05-17T15:40:29.553Z"
      },
      {
        "duration": 808,
        "start_time": "2022-05-17T15:40:30.015Z"
      },
      {
        "duration": 30,
        "start_time": "2022-05-17T15:40:30.825Z"
      },
      {
        "duration": 14,
        "start_time": "2022-05-17T15:42:41.323Z"
      },
      {
        "duration": 30,
        "start_time": "2022-05-17T15:44:46.869Z"
      },
      {
        "duration": 48,
        "start_time": "2022-05-17T15:45:25.735Z"
      },
      {
        "duration": 29,
        "start_time": "2022-05-17T15:45:58.090Z"
      },
      {
        "duration": 43,
        "start_time": "2022-05-17T15:45:59.766Z"
      },
      {
        "duration": 20,
        "start_time": "2022-05-17T15:49:42.477Z"
      },
      {
        "duration": 18,
        "start_time": "2022-05-17T15:55:07.701Z"
      },
      {
        "duration": 17,
        "start_time": "2022-05-17T15:55:31.506Z"
      },
      {
        "duration": 960,
        "start_time": "2022-05-17T15:57:33.402Z"
      },
      {
        "duration": 20,
        "start_time": "2022-05-17T16:01:34.176Z"
      },
      {
        "duration": 18,
        "start_time": "2022-05-17T16:02:03.393Z"
      },
      {
        "duration": 16,
        "start_time": "2022-05-17T16:02:53.734Z"
      },
      {
        "duration": 17,
        "start_time": "2022-05-17T16:03:17.610Z"
      },
      {
        "duration": 35,
        "start_time": "2022-05-17T16:03:28.845Z"
      },
      {
        "duration": 16,
        "start_time": "2022-05-17T16:05:31.026Z"
      },
      {
        "duration": 13,
        "start_time": "2022-05-17T16:11:20.497Z"
      },
      {
        "duration": 16,
        "start_time": "2022-05-17T16:12:50.755Z"
      },
      {
        "duration": 16,
        "start_time": "2022-05-17T16:16:02.859Z"
      },
      {
        "duration": 4,
        "start_time": "2022-05-18T10:13:38.545Z"
      },
      {
        "duration": 61,
        "start_time": "2022-05-18T10:13:38.551Z"
      },
      {
        "duration": 7,
        "start_time": "2022-05-18T10:13:38.614Z"
      },
      {
        "duration": 14,
        "start_time": "2022-05-18T10:13:38.623Z"
      },
      {
        "duration": 3,
        "start_time": "2022-05-18T10:13:38.638Z"
      },
      {
        "duration": 16,
        "start_time": "2022-05-18T10:13:38.642Z"
      },
      {
        "duration": 3,
        "start_time": "2022-05-18T10:13:38.659Z"
      },
      {
        "duration": 344,
        "start_time": "2022-05-18T10:13:38.664Z"
      },
      {
        "duration": 287,
        "start_time": "2022-05-18T10:13:39.009Z"
      },
      {
        "duration": 298,
        "start_time": "2022-05-18T10:13:39.298Z"
      },
      {
        "duration": 303,
        "start_time": "2022-05-18T10:13:39.597Z"
      },
      {
        "duration": 460,
        "start_time": "2022-05-18T10:13:39.902Z"
      },
      {
        "duration": 167,
        "start_time": "2022-05-18T10:14:16.640Z"
      },
      {
        "duration": 600,
        "start_time": "2022-05-18T10:15:31.752Z"
      },
      {
        "duration": 509,
        "start_time": "2022-05-18T10:15:47.319Z"
      },
      {
        "duration": 601,
        "start_time": "2022-05-18T10:16:33.654Z"
      },
      {
        "duration": 13,
        "start_time": "2022-05-18T10:18:36.637Z"
      },
      {
        "duration": 16,
        "start_time": "2022-05-18T10:18:50.347Z"
      },
      {
        "duration": 13,
        "start_time": "2022-05-18T10:24:34.880Z"
      },
      {
        "duration": 2,
        "start_time": "2022-05-18T10:24:59.447Z"
      },
      {
        "duration": 4,
        "start_time": "2022-05-18T10:25:02.029Z"
      },
      {
        "duration": 58,
        "start_time": "2022-05-18T10:25:02.035Z"
      },
      {
        "duration": 8,
        "start_time": "2022-05-18T10:25:02.094Z"
      },
      {
        "duration": 19,
        "start_time": "2022-05-18T10:25:02.104Z"
      },
      {
        "duration": 15,
        "start_time": "2022-05-18T10:25:02.125Z"
      },
      {
        "duration": 17,
        "start_time": "2022-05-18T10:25:02.141Z"
      },
      {
        "duration": 2,
        "start_time": "2022-05-18T10:25:02.160Z"
      },
      {
        "duration": 17,
        "start_time": "2022-05-18T10:25:02.164Z"
      },
      {
        "duration": 0,
        "start_time": "2022-05-18T10:25:02.183Z"
      },
      {
        "duration": 0,
        "start_time": "2022-05-18T10:25:02.184Z"
      },
      {
        "duration": 0,
        "start_time": "2022-05-18T10:25:02.185Z"
      },
      {
        "duration": 0,
        "start_time": "2022-05-18T10:25:02.186Z"
      },
      {
        "duration": 0,
        "start_time": "2022-05-18T10:25:02.187Z"
      },
      {
        "duration": 0,
        "start_time": "2022-05-18T10:25:02.188Z"
      },
      {
        "duration": 0,
        "start_time": "2022-05-18T10:25:02.190Z"
      },
      {
        "duration": 8,
        "start_time": "2022-05-18T10:26:20.203Z"
      },
      {
        "duration": 15,
        "start_time": "2022-05-18T10:26:23.127Z"
      },
      {
        "duration": 4,
        "start_time": "2022-05-18T10:26:41.330Z"
      },
      {
        "duration": 8,
        "start_time": "2022-05-18T10:27:04.277Z"
      },
      {
        "duration": 8,
        "start_time": "2022-05-18T10:27:10.716Z"
      },
      {
        "duration": 3,
        "start_time": "2022-05-18T10:29:31.640Z"
      },
      {
        "duration": 6,
        "start_time": "2022-05-18T10:29:33.367Z"
      },
      {
        "duration": 11,
        "start_time": "2022-05-18T10:29:39.935Z"
      },
      {
        "duration": 6,
        "start_time": "2022-05-18T10:34:21.044Z"
      },
      {
        "duration": 1258,
        "start_time": "2022-05-18T10:44:47.495Z"
      },
      {
        "duration": 1219,
        "start_time": "2022-05-18T10:45:00.153Z"
      },
      {
        "duration": 670,
        "start_time": "2022-05-18T11:07:36.477Z"
      },
      {
        "duration": 671,
        "start_time": "2022-05-18T11:14:40.523Z"
      },
      {
        "duration": 469,
        "start_time": "2022-05-18T11:17:50.918Z"
      },
      {
        "duration": 776,
        "start_time": "2022-05-18T11:18:38.999Z"
      },
      {
        "duration": 733,
        "start_time": "2022-05-18T11:19:30.227Z"
      },
      {
        "duration": 741,
        "start_time": "2022-05-18T11:19:40.623Z"
      },
      {
        "duration": 778,
        "start_time": "2022-05-18T11:20:07.423Z"
      },
      {
        "duration": 751,
        "start_time": "2022-05-18T11:20:25.016Z"
      },
      {
        "duration": 767,
        "start_time": "2022-05-18T11:20:42.984Z"
      },
      {
        "duration": 760,
        "start_time": "2022-05-18T11:21:26.354Z"
      },
      {
        "duration": 437,
        "start_time": "2022-05-18T11:22:13.425Z"
      },
      {
        "duration": 450,
        "start_time": "2022-05-18T11:22:29.889Z"
      },
      {
        "duration": 589,
        "start_time": "2022-05-18T11:23:06.175Z"
      },
      {
        "duration": 835,
        "start_time": "2022-05-18T11:24:17.722Z"
      },
      {
        "duration": 415,
        "start_time": "2022-05-18T11:25:55.294Z"
      },
      {
        "duration": 464,
        "start_time": "2022-05-18T11:27:06.691Z"
      },
      {
        "duration": 15,
        "start_time": "2022-05-18T11:28:33.117Z"
      },
      {
        "duration": 16,
        "start_time": "2022-05-18T11:33:14.348Z"
      },
      {
        "duration": 462,
        "start_time": "2022-05-18T11:33:28.585Z"
      },
      {
        "duration": 284,
        "start_time": "2022-05-18T11:39:15.831Z"
      },
      {
        "duration": 282,
        "start_time": "2022-05-18T11:40:31.466Z"
      },
      {
        "duration": 254,
        "start_time": "2022-05-18T11:41:10.805Z"
      },
      {
        "duration": 277,
        "start_time": "2022-05-18T11:48:05.874Z"
      },
      {
        "duration": 429,
        "start_time": "2022-05-18T11:50:12.247Z"
      },
      {
        "duration": 5,
        "start_time": "2022-05-19T13:09:27.255Z"
      },
      {
        "duration": 60,
        "start_time": "2022-05-19T13:09:27.262Z"
      },
      {
        "duration": 8,
        "start_time": "2022-05-19T13:09:27.324Z"
      },
      {
        "duration": 17,
        "start_time": "2022-05-19T13:09:27.334Z"
      },
      {
        "duration": 6,
        "start_time": "2022-05-19T13:09:27.353Z"
      },
      {
        "duration": 21,
        "start_time": "2022-05-19T13:09:27.362Z"
      },
      {
        "duration": 13,
        "start_time": "2022-05-19T13:09:27.386Z"
      },
      {
        "duration": 6,
        "start_time": "2022-05-19T13:09:27.401Z"
      },
      {
        "duration": 734,
        "start_time": "2022-05-19T13:09:27.409Z"
      },
      {
        "duration": 606,
        "start_time": "2022-05-19T13:09:28.145Z"
      },
      {
        "duration": 357,
        "start_time": "2022-05-19T13:09:28.752Z"
      },
      {
        "duration": 422,
        "start_time": "2022-05-19T13:09:29.111Z"
      },
      {
        "duration": 19844,
        "start_time": "2022-05-19T13:50:32.758Z"
      },
      {
        "duration": 11,
        "start_time": "2022-05-20T08:39:49.236Z"
      },
      {
        "duration": 62,
        "start_time": "2022-05-20T08:39:49.254Z"
      },
      {
        "duration": 7,
        "start_time": "2022-05-20T08:39:49.317Z"
      },
      {
        "duration": 21,
        "start_time": "2022-05-20T08:39:49.326Z"
      },
      {
        "duration": 13,
        "start_time": "2022-05-20T08:39:49.348Z"
      },
      {
        "duration": 6,
        "start_time": "2022-05-20T08:39:49.363Z"
      },
      {
        "duration": 15,
        "start_time": "2022-05-20T08:39:49.371Z"
      },
      {
        "duration": 8,
        "start_time": "2022-05-20T08:39:49.388Z"
      },
      {
        "duration": 805,
        "start_time": "2022-05-20T08:39:49.398Z"
      },
      {
        "duration": 645,
        "start_time": "2022-05-20T08:39:50.206Z"
      },
      {
        "duration": 368,
        "start_time": "2022-05-20T08:39:50.857Z"
      },
      {
        "duration": 455,
        "start_time": "2022-05-20T08:39:51.227Z"
      },
      {
        "duration": 25164,
        "start_time": "2022-05-20T08:39:51.684Z"
      },
      {
        "duration": 4,
        "start_time": "2022-05-20T10:38:53.962Z"
      },
      {
        "duration": 21,
        "start_time": "2022-05-20T10:39:35.098Z"
      },
      {
        "duration": 14,
        "start_time": "2022-05-20T10:39:42.671Z"
      },
      {
        "duration": 27,
        "start_time": "2022-05-20T10:39:48.935Z"
      },
      {
        "duration": 13,
        "start_time": "2022-05-20T10:42:29.068Z"
      },
      {
        "duration": 482,
        "start_time": "2022-05-20T11:18:20.007Z"
      },
      {
        "duration": 137,
        "start_time": "2022-05-20T11:18:47.575Z"
      },
      {
        "duration": 203,
        "start_time": "2022-05-20T11:19:05.621Z"
      },
      {
        "duration": 241,
        "start_time": "2022-05-20T11:19:31.866Z"
      },
      {
        "duration": 222,
        "start_time": "2022-05-20T11:19:43.478Z"
      },
      {
        "duration": 330,
        "start_time": "2022-05-20T11:21:42.060Z"
      },
      {
        "duration": 214,
        "start_time": "2022-05-20T11:21:51.266Z"
      },
      {
        "duration": 217,
        "start_time": "2022-05-20T11:23:19.112Z"
      },
      {
        "duration": 9,
        "start_time": "2022-05-20T11:25:10.373Z"
      },
      {
        "duration": 5,
        "start_time": "2022-05-20T11:28:38.179Z"
      },
      {
        "duration": 24,
        "start_time": "2022-05-20T11:33:00.735Z"
      },
      {
        "duration": 12,
        "start_time": "2022-05-20T11:33:08.636Z"
      },
      {
        "duration": 5,
        "start_time": "2022-05-20T12:24:14.622Z"
      },
      {
        "duration": 83,
        "start_time": "2022-05-20T12:24:14.629Z"
      },
      {
        "duration": 7,
        "start_time": "2022-05-20T12:24:14.714Z"
      },
      {
        "duration": 13,
        "start_time": "2022-05-20T12:24:14.724Z"
      },
      {
        "duration": 18,
        "start_time": "2022-05-20T12:24:14.738Z"
      },
      {
        "duration": 46,
        "start_time": "2022-05-20T12:24:14.766Z"
      },
      {
        "duration": 146,
        "start_time": "2022-05-20T12:24:14.814Z"
      },
      {
        "duration": 36,
        "start_time": "2022-05-20T12:24:14.970Z"
      },
      {
        "duration": 848,
        "start_time": "2022-05-20T12:24:15.008Z"
      },
      {
        "duration": 695,
        "start_time": "2022-05-20T12:24:15.860Z"
      },
      {
        "duration": 463,
        "start_time": "2022-05-20T12:24:16.564Z"
      },
      {
        "duration": 553,
        "start_time": "2022-05-20T12:24:17.029Z"
      },
      {
        "duration": 42006,
        "start_time": "2022-05-20T12:24:17.590Z"
      },
      {
        "duration": 60,
        "start_time": "2022-05-20T12:24:59.649Z"
      },
      {
        "duration": 28,
        "start_time": "2022-05-20T12:24:59.712Z"
      },
      {
        "duration": 58,
        "start_time": "2022-05-20T12:24:59.751Z"
      },
      {
        "duration": 8,
        "start_time": "2022-05-20T12:24:59.811Z"
      },
      {
        "duration": 2027,
        "start_time": "2022-05-20T12:39:16.818Z"
      },
      {
        "duration": 25,
        "start_time": "2022-05-20T12:42:12.249Z"
      },
      {
        "duration": 98,
        "start_time": "2022-05-20T12:47:59.653Z"
      },
      {
        "duration": 14,
        "start_time": "2022-05-20T12:50:45.780Z"
      },
      {
        "duration": 193,
        "start_time": "2022-05-20T13:00:16.254Z"
      },
      {
        "duration": 16,
        "start_time": "2022-05-20T13:00:49.718Z"
      },
      {
        "duration": 4,
        "start_time": "2022-05-20T14:40:33.521Z"
      },
      {
        "duration": 3,
        "start_time": "2022-05-20T14:40:39.672Z"
      },
      {
        "duration": 3,
        "start_time": "2022-05-20T14:40:59.765Z"
      },
      {
        "duration": 2,
        "start_time": "2022-05-20T14:41:13.582Z"
      },
      {
        "duration": 5,
        "start_time": "2022-05-20T14:41:20.912Z"
      },
      {
        "duration": 180,
        "start_time": "2022-05-20T14:41:20.919Z"
      },
      {
        "duration": 9,
        "start_time": "2022-05-20T14:41:21.101Z"
      },
      {
        "duration": 20,
        "start_time": "2022-05-20T14:41:21.113Z"
      },
      {
        "duration": 3,
        "start_time": "2022-05-20T14:41:21.135Z"
      },
      {
        "duration": 41,
        "start_time": "2022-05-20T14:41:21.140Z"
      },
      {
        "duration": 10,
        "start_time": "2022-05-20T14:41:21.183Z"
      },
      {
        "duration": 9,
        "start_time": "2022-05-20T14:41:21.194Z"
      },
      {
        "duration": 1044,
        "start_time": "2022-05-20T14:41:21.205Z"
      },
      {
        "duration": 714,
        "start_time": "2022-05-20T14:41:22.258Z"
      },
      {
        "duration": 430,
        "start_time": "2022-05-20T14:41:22.974Z"
      },
      {
        "duration": 424,
        "start_time": "2022-05-20T14:41:23.406Z"
      },
      {
        "duration": 38532,
        "start_time": "2022-05-20T14:41:23.832Z"
      },
      {
        "duration": 102,
        "start_time": "2022-05-20T14:42:02.366Z"
      },
      {
        "duration": 22,
        "start_time": "2022-05-20T14:42:02.471Z"
      },
      {
        "duration": 15,
        "start_time": "2022-05-20T14:42:02.495Z"
      },
      {
        "duration": 8,
        "start_time": "2022-05-20T14:42:02.512Z"
      },
      {
        "duration": 5,
        "start_time": "2022-05-20T14:42:02.523Z"
      },
      {
        "duration": 6,
        "start_time": "2022-05-20T14:42:02.530Z"
      },
      {
        "duration": 28,
        "start_time": "2022-05-20T14:42:02.548Z"
      },
      {
        "duration": 10,
        "start_time": "2022-05-20T15:06:25.170Z"
      },
      {
        "duration": 5,
        "start_time": "2022-05-20T15:20:47.082Z"
      },
      {
        "duration": 101,
        "start_time": "2022-05-20T15:20:47.093Z"
      },
      {
        "duration": 10,
        "start_time": "2022-05-20T15:20:47.197Z"
      },
      {
        "duration": 19,
        "start_time": "2022-05-20T15:20:47.210Z"
      },
      {
        "duration": 7,
        "start_time": "2022-05-20T15:20:47.232Z"
      },
      {
        "duration": 28,
        "start_time": "2022-05-20T15:20:47.244Z"
      },
      {
        "duration": 11,
        "start_time": "2022-05-20T15:20:47.274Z"
      },
      {
        "duration": 9,
        "start_time": "2022-05-20T15:20:47.287Z"
      },
      {
        "duration": 981,
        "start_time": "2022-05-20T15:20:47.298Z"
      },
      {
        "duration": 692,
        "start_time": "2022-05-20T15:20:48.282Z"
      },
      {
        "duration": 396,
        "start_time": "2022-05-20T15:20:48.976Z"
      },
      {
        "duration": 419,
        "start_time": "2022-05-20T15:20:49.374Z"
      },
      {
        "duration": 29757,
        "start_time": "2022-05-20T15:20:49.795Z"
      },
      {
        "duration": 106,
        "start_time": "2022-05-20T15:21:19.555Z"
      },
      {
        "duration": 19,
        "start_time": "2022-05-20T15:21:19.664Z"
      },
      {
        "duration": 19,
        "start_time": "2022-05-20T15:21:19.685Z"
      },
      {
        "duration": 9,
        "start_time": "2022-05-20T15:21:19.707Z"
      },
      {
        "duration": 34,
        "start_time": "2022-05-20T15:21:19.718Z"
      },
      {
        "duration": 7,
        "start_time": "2022-05-20T15:21:19.754Z"
      },
      {
        "duration": 7,
        "start_time": "2022-05-20T15:21:19.763Z"
      },
      {
        "duration": 11,
        "start_time": "2022-05-20T15:21:19.772Z"
      },
      {
        "duration": 375,
        "start_time": "2022-05-20T15:21:19.785Z"
      },
      {
        "duration": 13,
        "start_time": "2022-05-20T15:33:56.061Z"
      },
      {
        "duration": 8,
        "start_time": "2022-05-20T15:33:57.807Z"
      },
      {
        "duration": 6,
        "start_time": "2022-05-20T15:34:05.234Z"
      },
      {
        "duration": 438,
        "start_time": "2022-05-20T15:34:08.906Z"
      },
      {
        "duration": 5,
        "start_time": "2022-05-20T15:40:35.368Z"
      },
      {
        "duration": 56,
        "start_time": "2022-05-20T15:40:35.375Z"
      },
      {
        "duration": 7,
        "start_time": "2022-05-20T15:40:35.433Z"
      },
      {
        "duration": 26,
        "start_time": "2022-05-20T15:40:35.455Z"
      },
      {
        "duration": 10,
        "start_time": "2022-05-20T15:40:35.484Z"
      },
      {
        "duration": 5,
        "start_time": "2022-05-20T15:40:35.496Z"
      },
      {
        "duration": 9,
        "start_time": "2022-05-20T15:40:35.503Z"
      },
      {
        "duration": 8,
        "start_time": "2022-05-20T15:40:35.514Z"
      },
      {
        "duration": 851,
        "start_time": "2022-05-20T15:40:35.524Z"
      },
      {
        "duration": 928,
        "start_time": "2022-05-20T15:40:36.377Z"
      },
      {
        "duration": 379,
        "start_time": "2022-05-20T15:40:37.307Z"
      },
      {
        "duration": 397,
        "start_time": "2022-05-20T15:40:37.688Z"
      },
      {
        "duration": 36359,
        "start_time": "2022-05-20T15:40:38.086Z"
      },
      {
        "duration": 15,
        "start_time": "2022-05-20T15:41:14.449Z"
      },
      {
        "duration": 14,
        "start_time": "2022-05-20T15:41:14.466Z"
      },
      {
        "duration": 8,
        "start_time": "2022-05-20T15:41:14.482Z"
      },
      {
        "duration": 6,
        "start_time": "2022-05-20T15:41:14.492Z"
      },
      {
        "duration": 6,
        "start_time": "2022-05-20T15:41:14.500Z"
      },
      {
        "duration": 5,
        "start_time": "2022-05-20T15:41:14.508Z"
      },
      {
        "duration": 4,
        "start_time": "2022-05-20T15:41:14.515Z"
      },
      {
        "duration": 25,
        "start_time": "2022-05-20T15:41:14.521Z"
      },
      {
        "duration": 70,
        "start_time": "2022-05-20T15:41:14.548Z"
      },
      {
        "duration": 72,
        "start_time": "2022-05-20T16:09:37.055Z"
      },
      {
        "duration": 61,
        "start_time": "2022-05-20T16:09:57.722Z"
      },
      {
        "duration": 5,
        "start_time": "2022-05-20T16:10:14.084Z"
      },
      {
        "duration": 5,
        "start_time": "2022-05-20T17:12:20.646Z"
      },
      {
        "duration": 66,
        "start_time": "2022-05-20T17:12:20.653Z"
      },
      {
        "duration": 7,
        "start_time": "2022-05-20T17:12:20.721Z"
      },
      {
        "duration": 17,
        "start_time": "2022-05-20T17:12:20.730Z"
      },
      {
        "duration": 4,
        "start_time": "2022-05-20T17:12:20.750Z"
      },
      {
        "duration": 5,
        "start_time": "2022-05-20T17:12:20.755Z"
      },
      {
        "duration": 18,
        "start_time": "2022-05-20T17:12:20.762Z"
      },
      {
        "duration": 6,
        "start_time": "2022-05-20T17:12:20.782Z"
      },
      {
        "duration": 817,
        "start_time": "2022-05-20T17:12:20.789Z"
      },
      {
        "duration": 622,
        "start_time": "2022-05-20T17:12:21.608Z"
      },
      {
        "duration": 338,
        "start_time": "2022-05-20T17:12:22.232Z"
      },
      {
        "duration": 331,
        "start_time": "2022-05-20T17:12:22.571Z"
      },
      {
        "duration": 20548,
        "start_time": "2022-05-20T17:12:22.905Z"
      },
      {
        "duration": 91,
        "start_time": "2022-05-20T17:12:43.454Z"
      },
      {
        "duration": 104,
        "start_time": "2022-05-20T17:12:43.547Z"
      },
      {
        "duration": 7,
        "start_time": "2022-05-20T17:12:43.653Z"
      },
      {
        "duration": 6,
        "start_time": "2022-05-20T17:12:43.662Z"
      },
      {
        "duration": 3,
        "start_time": "2022-05-20T17:12:43.670Z"
      },
      {
        "duration": 5,
        "start_time": "2022-05-20T17:12:43.675Z"
      },
      {
        "duration": 10,
        "start_time": "2022-05-20T17:12:43.682Z"
      },
      {
        "duration": 6,
        "start_time": "2022-05-20T17:12:43.694Z"
      },
      {
        "duration": 54,
        "start_time": "2022-05-20T17:12:43.702Z"
      },
      {
        "duration": 80,
        "start_time": "2022-05-20T17:14:40.437Z"
      },
      {
        "duration": 100,
        "start_time": "2022-05-20T17:16:48.688Z"
      },
      {
        "duration": 68,
        "start_time": "2022-05-20T17:38:38.002Z"
      },
      {
        "duration": 5,
        "start_time": "2022-05-20T17:38:50.234Z"
      },
      {
        "duration": 44,
        "start_time": "2022-05-20T17:38:50.253Z"
      },
      {
        "duration": 6,
        "start_time": "2022-05-20T17:38:50.299Z"
      },
      {
        "duration": 15,
        "start_time": "2022-05-20T17:38:50.307Z"
      },
      {
        "duration": 2,
        "start_time": "2022-05-20T17:38:50.324Z"
      },
      {
        "duration": 5,
        "start_time": "2022-05-20T17:38:50.328Z"
      },
      {
        "duration": 8,
        "start_time": "2022-05-20T17:38:50.335Z"
      },
      {
        "duration": 5,
        "start_time": "2022-05-20T17:38:50.345Z"
      },
      {
        "duration": 881,
        "start_time": "2022-05-20T17:38:50.352Z"
      },
      {
        "duration": 582,
        "start_time": "2022-05-20T17:38:51.234Z"
      },
      {
        "duration": 355,
        "start_time": "2022-05-20T17:38:51.817Z"
      },
      {
        "duration": 318,
        "start_time": "2022-05-20T17:38:52.174Z"
      },
      {
        "duration": 20458,
        "start_time": "2022-05-20T17:38:52.493Z"
      },
      {
        "duration": 94,
        "start_time": "2022-05-20T17:39:12.953Z"
      },
      {
        "duration": 16,
        "start_time": "2022-05-20T17:39:13.140Z"
      },
      {
        "duration": 8,
        "start_time": "2022-05-20T17:39:13.158Z"
      },
      {
        "duration": 6,
        "start_time": "2022-05-20T17:39:13.168Z"
      },
      {
        "duration": 98,
        "start_time": "2022-05-20T17:39:13.175Z"
      },
      {
        "duration": 7,
        "start_time": "2022-05-20T17:41:15.271Z"
      },
      {
        "duration": 6,
        "start_time": "2022-05-20T17:41:17.187Z"
      },
      {
        "duration": 72,
        "start_time": "2022-05-20T17:41:21.218Z"
      },
      {
        "duration": 9,
        "start_time": "2022-05-20T17:43:42.294Z"
      },
      {
        "duration": 9,
        "start_time": "2022-05-20T17:43:54.026Z"
      },
      {
        "duration": 7,
        "start_time": "2022-05-20T17:48:46.578Z"
      },
      {
        "duration": 8,
        "start_time": "2022-05-20T17:48:57.034Z"
      },
      {
        "duration": 6,
        "start_time": "2022-05-20T17:49:11.349Z"
      },
      {
        "duration": 5,
        "start_time": "2022-05-20T17:49:44.211Z"
      },
      {
        "duration": 79,
        "start_time": "2022-05-20T17:51:27.863Z"
      },
      {
        "duration": 18,
        "start_time": "2022-05-20T17:53:11.083Z"
      },
      {
        "duration": 17,
        "start_time": "2022-05-20T17:53:16.946Z"
      },
      {
        "duration": 19,
        "start_time": "2022-05-20T17:53:20.431Z"
      },
      {
        "duration": 14,
        "start_time": "2022-05-20T17:53:25.874Z"
      },
      {
        "duration": 17,
        "start_time": "2022-05-20T17:53:27.927Z"
      },
      {
        "duration": 15,
        "start_time": "2022-05-20T17:53:31.463Z"
      },
      {
        "duration": 8,
        "start_time": "2022-05-20T17:53:38.868Z"
      },
      {
        "duration": 16,
        "start_time": "2022-05-20T17:53:42.379Z"
      },
      {
        "duration": 6,
        "start_time": "2022-05-20T17:53:45.080Z"
      },
      {
        "duration": 197,
        "start_time": "2022-05-20T17:53:49.344Z"
      },
      {
        "duration": 16,
        "start_time": "2022-05-20T17:53:59.595Z"
      },
      {
        "duration": 11,
        "start_time": "2022-05-20T17:54:35.255Z"
      },
      {
        "duration": 7,
        "start_time": "2022-05-20T17:54:45.143Z"
      },
      {
        "duration": 29,
        "start_time": "2022-05-20T17:54:48.737Z"
      },
      {
        "duration": 3,
        "start_time": "2022-05-20T18:20:08.111Z"
      },
      {
        "duration": 460614,
        "start_time": "2022-05-20T18:21:46.095Z"
      },
      {
        "duration": 1150,
        "start_time": "2022-05-20T18:52:38.964Z"
      },
      {
        "duration": 3,
        "start_time": "2022-05-20T18:52:53.527Z"
      },
      {
        "duration": 8,
        "start_time": "2022-05-20T18:54:33.034Z"
      },
      {
        "duration": 5,
        "start_time": "2022-05-20T18:58:04.418Z"
      },
      {
        "duration": 464077,
        "start_time": "2022-05-20T18:58:09.450Z"
      },
      {
        "duration": 3,
        "start_time": "2022-05-20T19:15:18.367Z"
      },
      {
        "duration": 4,
        "start_time": "2022-05-20T19:15:21.186Z"
      },
      {
        "duration": 44,
        "start_time": "2022-05-20T19:25:36.495Z"
      },
      {
        "duration": 25,
        "start_time": "2022-05-20T19:25:44.988Z"
      },
      {
        "duration": 3,
        "start_time": "2022-05-20T19:27:31.044Z"
      },
      {
        "duration": 6,
        "start_time": "2022-05-20T19:27:46.927Z"
      },
      {
        "duration": 6,
        "start_time": "2022-05-20T19:28:17.878Z"
      },
      {
        "duration": 24,
        "start_time": "2022-05-20T19:28:24.757Z"
      },
      {
        "duration": 35,
        "start_time": "2022-05-20T19:29:28.027Z"
      },
      {
        "duration": 13,
        "start_time": "2022-05-20T19:29:37.679Z"
      },
      {
        "duration": 3,
        "start_time": "2022-05-20T19:29:39.399Z"
      },
      {
        "duration": 6,
        "start_time": "2022-05-20T19:29:42.163Z"
      },
      {
        "duration": 4,
        "start_time": "2022-05-20T19:29:44.555Z"
      },
      {
        "duration": 55,
        "start_time": "2022-05-20T19:29:47.687Z"
      },
      {
        "duration": 7,
        "start_time": "2022-05-20T20:40:22.481Z"
      },
      {
        "duration": 30,
        "start_time": "2022-05-20T20:43:13.809Z"
      },
      {
        "duration": 28,
        "start_time": "2022-05-20T20:43:21.299Z"
      },
      {
        "duration": 12,
        "start_time": "2022-05-20T20:43:59.958Z"
      },
      {
        "duration": 3,
        "start_time": "2022-05-20T20:44:02.048Z"
      },
      {
        "duration": 7,
        "start_time": "2022-05-20T20:44:05.854Z"
      },
      {
        "duration": 23,
        "start_time": "2022-05-20T20:44:24.978Z"
      },
      {
        "duration": 8,
        "start_time": "2022-05-20T20:44:51.004Z"
      },
      {
        "duration": 8,
        "start_time": "2022-05-20T20:49:31.906Z"
      },
      {
        "duration": 11,
        "start_time": "2022-05-20T20:49:34.557Z"
      },
      {
        "duration": 28,
        "start_time": "2022-05-20T20:50:10.153Z"
      },
      {
        "duration": 14,
        "start_time": "2022-05-20T20:50:16.831Z"
      },
      {
        "duration": 9,
        "start_time": "2022-05-20T20:50:18.355Z"
      },
      {
        "duration": 4,
        "start_time": "2022-05-20T20:50:33.977Z"
      },
      {
        "duration": 45,
        "start_time": "2022-05-20T20:50:33.983Z"
      },
      {
        "duration": 6,
        "start_time": "2022-05-20T20:50:34.030Z"
      },
      {
        "duration": 13,
        "start_time": "2022-05-20T20:50:34.038Z"
      },
      {
        "duration": 3,
        "start_time": "2022-05-20T20:50:34.053Z"
      },
      {
        "duration": 4,
        "start_time": "2022-05-20T20:50:34.057Z"
      },
      {
        "duration": 8,
        "start_time": "2022-05-20T20:50:34.062Z"
      },
      {
        "duration": 6,
        "start_time": "2022-05-20T20:50:34.072Z"
      },
      {
        "duration": 687,
        "start_time": "2022-05-20T20:50:34.079Z"
      },
      {
        "duration": 558,
        "start_time": "2022-05-20T20:50:34.768Z"
      },
      {
        "duration": 337,
        "start_time": "2022-05-20T20:50:35.328Z"
      },
      {
        "duration": 488,
        "start_time": "2022-05-20T20:50:35.667Z"
      },
      {
        "duration": 18392,
        "start_time": "2022-05-20T20:50:36.157Z"
      },
      {
        "duration": 124,
        "start_time": "2022-05-20T20:50:54.642Z"
      },
      {
        "duration": 8,
        "start_time": "2022-05-20T20:50:54.768Z"
      },
      {
        "duration": 7,
        "start_time": "2022-05-20T20:50:54.778Z"
      },
      {
        "duration": 22,
        "start_time": "2022-05-20T20:51:31.381Z"
      },
      {
        "duration": 8,
        "start_time": "2022-05-20T20:51:35.061Z"
      },
      {
        "duration": 8,
        "start_time": "2022-05-20T20:51:36.605Z"
      },
      {
        "duration": 25,
        "start_time": "2022-05-20T20:53:31.792Z"
      },
      {
        "duration": 8,
        "start_time": "2022-05-20T20:53:35.519Z"
      },
      {
        "duration": 8,
        "start_time": "2022-05-20T20:53:37.608Z"
      },
      {
        "duration": 4,
        "start_time": "2022-05-20T20:54:11.711Z"
      },
      {
        "duration": 46,
        "start_time": "2022-05-20T20:54:11.717Z"
      },
      {
        "duration": 7,
        "start_time": "2022-05-20T20:54:11.764Z"
      },
      {
        "duration": 17,
        "start_time": "2022-05-20T20:54:11.773Z"
      },
      {
        "duration": 9,
        "start_time": "2022-05-20T20:54:11.792Z"
      },
      {
        "duration": 9,
        "start_time": "2022-05-20T20:54:11.803Z"
      },
      {
        "duration": 11,
        "start_time": "2022-05-20T20:54:11.813Z"
      },
      {
        "duration": 19,
        "start_time": "2022-05-20T20:54:11.826Z"
      },
      {
        "duration": 729,
        "start_time": "2022-05-20T20:54:11.846Z"
      },
      {
        "duration": 569,
        "start_time": "2022-05-20T20:54:12.577Z"
      },
      {
        "duration": 323,
        "start_time": "2022-05-20T20:54:13.148Z"
      },
      {
        "duration": 336,
        "start_time": "2022-05-20T20:54:13.472Z"
      },
      {
        "duration": 3,
        "start_time": "2022-05-20T20:54:13.811Z"
      },
      {
        "duration": 40,
        "start_time": "2022-05-20T20:54:13.816Z"
      },
      {
        "duration": 9,
        "start_time": "2022-05-20T20:54:13.857Z"
      },
      {
        "duration": 10,
        "start_time": "2022-05-20T20:54:13.867Z"
      },
      {
        "duration": 5,
        "start_time": "2022-05-20T20:54:21.737Z"
      },
      {
        "duration": 10,
        "start_time": "2022-05-20T20:54:27.933Z"
      },
      {
        "duration": 511679,
        "start_time": "2022-05-20T20:54:33.322Z"
      },
      {
        "duration": 12658,
        "start_time": "2022-05-20T21:03:21.269Z"
      },
      {
        "duration": 4,
        "start_time": "2022-05-20T21:03:42.475Z"
      },
      {
        "duration": 50,
        "start_time": "2022-05-20T21:03:42.481Z"
      },
      {
        "duration": 7,
        "start_time": "2022-05-20T21:03:42.532Z"
      },
      {
        "duration": 15,
        "start_time": "2022-05-20T21:03:42.540Z"
      },
      {
        "duration": 3,
        "start_time": "2022-05-20T21:03:42.557Z"
      },
      {
        "duration": 4,
        "start_time": "2022-05-20T21:03:42.561Z"
      },
      {
        "duration": 7,
        "start_time": "2022-05-20T21:03:42.567Z"
      },
      {
        "duration": 6,
        "start_time": "2022-05-20T21:03:42.576Z"
      },
      {
        "duration": 722,
        "start_time": "2022-05-20T21:03:42.584Z"
      },
      {
        "duration": 620,
        "start_time": "2022-05-20T21:03:43.308Z"
      },
      {
        "duration": 327,
        "start_time": "2022-05-20T21:03:43.929Z"
      },
      {
        "duration": 486,
        "start_time": "2022-05-20T21:03:44.257Z"
      },
      {
        "duration": 3,
        "start_time": "2022-05-20T21:03:44.746Z"
      },
      {
        "duration": 29,
        "start_time": "2022-05-20T21:03:44.750Z"
      },
      {
        "duration": 7,
        "start_time": "2022-05-20T21:03:44.781Z"
      },
      {
        "duration": 9,
        "start_time": "2022-05-20T21:03:44.789Z"
      },
      {
        "duration": 7,
        "start_time": "2022-05-20T21:03:44.799Z"
      },
      {
        "duration": 39,
        "start_time": "2022-05-20T21:03:44.808Z"
      },
      {
        "duration": 3,
        "start_time": "2022-05-20T21:03:44.849Z"
      },
      {
        "duration": 1322,
        "start_time": "2022-05-20T21:04:21.090Z"
      },
      {
        "duration": 46,
        "start_time": "2022-05-20T21:04:22.414Z"
      },
      {
        "duration": 11,
        "start_time": "2022-05-20T21:04:22.462Z"
      },
      {
        "duration": 9,
        "start_time": "2022-05-20T21:04:22.474Z"
      },
      {
        "duration": 3,
        "start_time": "2022-05-20T21:04:22.485Z"
      },
      {
        "duration": 5,
        "start_time": "2022-05-20T21:04:22.489Z"
      },
      {
        "duration": 12,
        "start_time": "2022-05-20T21:04:22.496Z"
      },
      {
        "duration": 7,
        "start_time": "2022-05-20T21:04:22.509Z"
      },
      {
        "duration": 739,
        "start_time": "2022-05-20T21:04:22.517Z"
      },
      {
        "duration": 547,
        "start_time": "2022-05-20T21:04:23.258Z"
      },
      {
        "duration": 330,
        "start_time": "2022-05-20T21:04:23.806Z"
      },
      {
        "duration": 393,
        "start_time": "2022-05-20T21:04:24.142Z"
      },
      {
        "duration": 12,
        "start_time": "2022-05-20T21:04:24.537Z"
      },
      {
        "duration": 29,
        "start_time": "2022-05-20T21:04:24.550Z"
      },
      {
        "duration": 7,
        "start_time": "2022-05-20T21:04:24.580Z"
      },
      {
        "duration": 6,
        "start_time": "2022-05-20T21:04:24.589Z"
      },
      {
        "duration": 13,
        "start_time": "2022-05-20T21:04:24.597Z"
      },
      {
        "duration": 16,
        "start_time": "2022-05-20T21:04:24.611Z"
      },
      {
        "duration": 2,
        "start_time": "2022-05-20T21:04:24.642Z"
      },
      {
        "duration": 1072687,
        "start_time": "2022-05-20T21:04:24.645Z"
      },
      {
        "duration": 442,
        "start_time": "2022-05-20T21:22:17.334Z"
      },
      {
        "duration": 7,
        "start_time": "2022-05-20T21:22:17.778Z"
      },
      {
        "duration": 513,
        "start_time": "2022-05-20T21:25:45.866Z"
      },
      {
        "duration": 6,
        "start_time": "2022-05-20T21:25:49.582Z"
      },
      {
        "duration": 170,
        "start_time": "2022-05-20T21:29:15.757Z"
      },
      {
        "duration": 28901,
        "start_time": "2022-05-20T21:30:33.543Z"
      },
      {
        "duration": 1635,
        "start_time": "2022-05-20T21:31:57.116Z"
      },
      {
        "duration": 12,
        "start_time": "2022-05-20T21:32:25.211Z"
      },
      {
        "duration": 7,
        "start_time": "2022-05-20T21:43:26.882Z"
      },
      {
        "duration": 10,
        "start_time": "2022-05-20T21:45:41.029Z"
      },
      {
        "duration": 8,
        "start_time": "2022-05-20T22:10:59.862Z"
      },
      {
        "duration": 6,
        "start_time": "2022-05-20T22:11:34.244Z"
      },
      {
        "duration": 13,
        "start_time": "2022-05-20T22:13:26.531Z"
      },
      {
        "duration": 13,
        "start_time": "2022-05-20T22:37:51.122Z"
      },
      {
        "duration": 14,
        "start_time": "2022-05-20T22:44:03.321Z"
      },
      {
        "duration": 13,
        "start_time": "2022-05-20T22:44:24.891Z"
      },
      {
        "duration": 6,
        "start_time": "2022-05-20T23:02:02.102Z"
      },
      {
        "duration": 55,
        "start_time": "2022-05-20T23:02:02.110Z"
      },
      {
        "duration": 6,
        "start_time": "2022-05-20T23:02:02.167Z"
      },
      {
        "duration": 16,
        "start_time": "2022-05-20T23:02:02.175Z"
      },
      {
        "duration": 3,
        "start_time": "2022-05-20T23:02:02.193Z"
      },
      {
        "duration": 5,
        "start_time": "2022-05-20T23:02:02.198Z"
      },
      {
        "duration": 8,
        "start_time": "2022-05-20T23:02:02.204Z"
      },
      {
        "duration": 29,
        "start_time": "2022-05-20T23:02:02.214Z"
      },
      {
        "duration": 678,
        "start_time": "2022-05-20T23:02:02.244Z"
      },
      {
        "duration": 542,
        "start_time": "2022-05-20T23:02:02.923Z"
      },
      {
        "duration": 364,
        "start_time": "2022-05-20T23:02:03.466Z"
      },
      {
        "duration": 395,
        "start_time": "2022-05-20T23:02:03.832Z"
      },
      {
        "duration": 20414,
        "start_time": "2022-05-20T23:02:04.229Z"
      },
      {
        "duration": 113,
        "start_time": "2022-05-20T23:02:24.645Z"
      },
      {
        "duration": 6,
        "start_time": "2022-05-20T23:02:24.760Z"
      },
      {
        "duration": 6,
        "start_time": "2022-05-20T23:02:24.768Z"
      },
      {
        "duration": 8,
        "start_time": "2022-05-20T23:02:24.776Z"
      },
      {
        "duration": 10,
        "start_time": "2022-05-20T23:02:24.785Z"
      },
      {
        "duration": 8,
        "start_time": "2022-05-20T23:02:24.842Z"
      },
      {
        "duration": 5,
        "start_time": "2022-05-20T23:02:24.852Z"
      },
      {
        "duration": 1067638,
        "start_time": "2022-05-20T23:02:24.859Z"
      },
      {
        "duration": 842,
        "start_time": "2022-05-20T23:20:12.499Z"
      },
      {
        "duration": 8,
        "start_time": "2022-05-20T23:20:13.342Z"
      },
      {
        "duration": 39800,
        "start_time": "2022-05-20T23:20:13.352Z"
      },
      {
        "duration": 1395,
        "start_time": "2022-05-20T23:20:53.154Z"
      },
      {
        "duration": 14,
        "start_time": "2022-05-20T23:20:54.551Z"
      },
      {
        "duration": 78,
        "start_time": "2022-05-20T23:20:54.566Z"
      },
      {
        "duration": 11,
        "start_time": "2022-05-20T23:22:11.470Z"
      }
    ],
    "kernelspec": {
      "display_name": "Python 3 (ipykernel)",
      "language": "python",
      "name": "python3"
    },
    "language_info": {
      "codemirror_mode": {
        "name": "ipython",
        "version": 3
      },
      "file_extension": ".py",
      "mimetype": "text/x-python",
      "name": "python",
      "nbconvert_exporter": "python",
      "pygments_lexer": "ipython3",
      "version": "3.9.5"
    },
    "toc": {
      "base_numbering": 1,
      "nav_menu": {},
      "number_sections": true,
      "sideBar": true,
      "skip_h1_title": true,
      "title_cell": "Содержание",
      "title_sidebar": "Contents",
      "toc_cell": true,
      "toc_position": {
        "height": "calc(100% - 180px)",
        "left": "10px",
        "top": "150px",
        "width": "372.714px"
      },
      "toc_section_display": true,
      "toc_window_display": true
    },
    "colab": {
      "provenance": [],
      "collapsed_sections": [],
      "toc_visible": true
    }
  },
  "nbformat": 4,
  "nbformat_minor": 0
}